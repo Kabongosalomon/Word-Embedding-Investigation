{
  "nbformat": 4,
  "nbformat_minor": 0,
  "metadata": {
    "colab": {
      "name": "Sentiment Analysis, IMdb.ipynb",
      "version": "0.3.2",
      "provenance": [],
      "collapsed_sections": [
        "a5ndLtaz9Fgy",
        "uIaToE3_r2_f",
        "QGQ9aADFPqaz",
        "l_fjg0QZgZCa",
        "7ogYITVq35eG",
        "5LC04oP7ljyP",
        "-3lqU19BPBcx",
        "YryHaIbCPGSj",
        "_C4Trwp-sh_T",
        "YHjkJk0NX-27",
        "4KZ7_dQtoeA0",
        "OM-fJ6Jd8M9S",
        "WJtSfokdJ-7-"
      ],
      "include_colab_link": true
    },
    "kernelspec": {
      "name": "python3",
      "display_name": "Python 3"
    },
    "accelerator": "GPU"
  },
  "cells": [
    {
      "cell_type": "markdown",
      "metadata": {
        "id": "view-in-github",
        "colab_type": "text"
      },
      "source": [
        "<a href=\"https://colab.research.google.com/github/Kabongosalomon/Word-Embedding-Investigation/blob/Dev-Update/An%20empirical%20investigation%20into%20the%20properties%20of%20standard%20word%20embeddings.ipynb\" target=\"_parent\"><img src=\"https://colab.research.google.com/assets/colab-badge.svg\" alt=\"Open In Colab\"/></a>"
      ]
    },
    {
      "cell_type": "markdown",
      "metadata": {
        "colab_type": "text",
        "id": "-zPdBDab5P3I"
      },
      "source": [
        "<img src=\"https://raw.githubusercontent.com/Kabongosalomon/Data-Science-With-Jeff-Sander/master/aims-za-logo.jpg\" width=\"100\" alt=\"cognitiveclass.ai logo\" />\n",
        "\n",
        "\n",
        "\n"
      ]
    },
    {
      "cell_type": "markdown",
      "metadata": {
        "id": "v2BR2njWxZFx",
        "colab_type": "text"
      },
      "source": [
        "# IMdb Sentiment Analysis Task\n",
        "\n",
        "##Importing usefull packages "
      ]
    },
    {
      "cell_type": "code",
      "metadata": {
        "colab_type": "code",
        "id": "FGvhB20yetpY",
        "outputId": "a9a55bda-9cc0-4d95-e51d-676fdb5d231c",
        "colab": {
          "base_uri": "https://localhost:8080/",
          "height": 765
        }
      },
      "source": [
        "# Import packages\n",
        "import tensorflow as tf\n",
        "# tf.enable_eager_execution()\n",
        "\n",
        "from keras.datasets import imdb\n",
        "from keras import preprocessing\n",
        "from keras.models import Sequential\n",
        "from keras.layers import Flatten, Dense\n",
        "from keras.layers import Embedding\n",
        "from keras.preprocessing.text import Tokenizer\n",
        "from keras.preprocessing.sequence import pad_sequences\n",
        "from keras import losses\n",
        "from keras import metrics\n",
        "from keras import optimizers\n",
        "from keras.layers import Dropout\n",
        "\n",
        "import string\n",
        "from nltk.tokenize import word_tokenize\n",
        "from nltk.corpus import stopwords\n",
        "\n",
        "import nltk\n",
        "nltk.download('punkt')\n",
        "nltk.download('stopwords')\n",
        "\n",
        "# Downgrate numpy to fix a problem\n",
        "!pip install numpy==1.16.2\n",
        "import numpy as np\n",
        "print(np.__version__)\n",
        "\n",
        "import matplotlib.pyplot as plt\n",
        "\n",
        "import os\n",
        "\n",
        "import numpy as np\n",
        "\n",
        "import string\n",
        "\n",
        "!pip install ipdb\n",
        "import ipdb # deb\n",
        "\n",
        "from gensim.models.keyedvectors import KeyedVectors\n",
        "\n",
        "# Spliting data\n",
        "from sklearn.model_selection import train_test_split\n",
        "\n",
        "from sklearn import metrics # For RUC\n",
        "\n",
        "from nltk.stem import PorterStemmer\n",
        "\n",
        "import tensorflow_hub as hub\n",
        "import pandas as pd\n",
        "import re\n",
        "import seaborn as sns\n",
        "\n",
        "from google.colab import files\n",
        "\n",
        "from IPython import display\n",
        "\n",
        "import logging\n",
        "logging.getLogger('googleapiclient.discovery_cache').setLevel(logging.ERROR)"
      ],
      "execution_count": 1,
      "outputs": [
        {
          "output_type": "stream",
          "text": [
            "Using TensorFlow backend.\n"
          ],
          "name": "stderr"
        },
        {
          "output_type": "stream",
          "text": [
            "[nltk_data] Downloading package punkt to /root/nltk_data...\n",
            "[nltk_data]   Unzipping tokenizers/punkt.zip.\n",
            "[nltk_data] Downloading package stopwords to /root/nltk_data...\n",
            "[nltk_data]   Unzipping corpora/stopwords.zip.\n",
            "Collecting numpy==1.16.2\n",
            "\u001b[?25l  Downloading https://files.pythonhosted.org/packages/35/d5/4f8410ac303e690144f0a0603c4b8fd3b986feb2749c435f7cdbb288f17e/numpy-1.16.2-cp36-cp36m-manylinux1_x86_64.whl (17.3MB)\n",
            "\u001b[K     |████████████████████████████████| 17.3MB 3.5MB/s \n",
            "\u001b[31mERROR: datascience 0.10.6 has requirement folium==0.2.1, but you'll have folium 0.8.3 which is incompatible.\u001b[0m\n",
            "\u001b[31mERROR: albumentations 0.1.12 has requirement imgaug<0.2.7,>=0.2.5, but you'll have imgaug 0.2.9 which is incompatible.\u001b[0m\n",
            "\u001b[?25hInstalling collected packages: numpy\n",
            "  Found existing installation: numpy 1.16.4\n",
            "    Uninstalling numpy-1.16.4:\n",
            "      Successfully uninstalled numpy-1.16.4\n",
            "Successfully installed numpy-1.16.2\n"
          ],
          "name": "stdout"
        },
        {
          "output_type": "display_data",
          "data": {
            "application/vnd.colab-display-data+json": {
              "pip_warning": {
                "packages": [
                  "numpy"
                ]
              }
            }
          },
          "metadata": {
            "tags": []
          }
        },
        {
          "output_type": "stream",
          "text": [
            "1.16.4\n",
            "Collecting ipdb\n",
            "  Downloading https://files.pythonhosted.org/packages/6d/43/c3c2e866a8803e196d6209595020a4a6db1a3c5d07c01455669497ae23d0/ipdb-0.12.tar.gz\n",
            "Requirement already satisfied: setuptools in /usr/local/lib/python3.6/dist-packages (from ipdb) (41.0.1)\n",
            "Requirement already satisfied: ipython>=5.1.0 in /usr/local/lib/python3.6/dist-packages (from ipdb) (5.5.0)\n",
            "Requirement already satisfied: pexpect; sys_platform != \"win32\" in /usr/local/lib/python3.6/dist-packages (from ipython>=5.1.0->ipdb) (4.7.0)\n",
            "Requirement already satisfied: pickleshare in /usr/local/lib/python3.6/dist-packages (from ipython>=5.1.0->ipdb) (0.7.5)\n",
            "Requirement already satisfied: traitlets>=4.2 in /usr/local/lib/python3.6/dist-packages (from ipython>=5.1.0->ipdb) (4.3.2)\n",
            "Requirement already satisfied: simplegeneric>0.8 in /usr/local/lib/python3.6/dist-packages (from ipython>=5.1.0->ipdb) (0.8.1)\n",
            "Requirement already satisfied: decorator in /usr/local/lib/python3.6/dist-packages (from ipython>=5.1.0->ipdb) (4.4.0)\n",
            "Requirement already satisfied: pygments in /usr/local/lib/python3.6/dist-packages (from ipython>=5.1.0->ipdb) (2.1.3)\n",
            "Requirement already satisfied: prompt-toolkit<2.0.0,>=1.0.4 in /usr/local/lib/python3.6/dist-packages (from ipython>=5.1.0->ipdb) (1.0.16)\n",
            "Requirement already satisfied: ptyprocess>=0.5 in /usr/local/lib/python3.6/dist-packages (from pexpect; sys_platform != \"win32\"->ipython>=5.1.0->ipdb) (0.6.0)\n",
            "Requirement already satisfied: ipython-genutils in /usr/local/lib/python3.6/dist-packages (from traitlets>=4.2->ipython>=5.1.0->ipdb) (0.2.0)\n",
            "Requirement already satisfied: six in /usr/local/lib/python3.6/dist-packages (from traitlets>=4.2->ipython>=5.1.0->ipdb) (1.12.0)\n",
            "Requirement already satisfied: wcwidth in /usr/local/lib/python3.6/dist-packages (from prompt-toolkit<2.0.0,>=1.0.4->ipython>=5.1.0->ipdb) (0.1.7)\n",
            "Building wheels for collected packages: ipdb\n",
            "  Building wheel for ipdb (setup.py) ... \u001b[?25l\u001b[?25hdone\n",
            "  Stored in directory: /root/.cache/pip/wheels/59/24/91/695211bd228d40fb22dff0ce3f05ba41ab724ab771736233f3\n",
            "Successfully built ipdb\n",
            "Installing collected packages: ipdb\n",
            "Successfully installed ipdb-0.12\n"
          ],
          "name": "stdout"
        },
        {
          "output_type": "stream",
          "text": [
            "WARNING: Logging before flag parsing goes to stderr.\n",
            "W0603 23:20:51.447838 139723450054528 __init__.py:56] Some hub symbols are not available because TensorFlow version is less than 1.14\n"
          ],
          "name": "stderr"
        }
      ]
    },
    {
      "cell_type": "code",
      "metadata": {
        "colab_type": "code",
        "outputId": "0f3b7491-5714-435d-e3ed-fdbcfc720068",
        "id": "kkBQByui3Fkt",
        "colab": {
          "base_uri": "https://localhost:8080/"
        }
      },
      "source": [
        "link = \"https://drive.google.com/file/d/1smGRs2g2HoI6VSvonoZmWKzXOP6uPUaW/view?usp=sharing\"\n",
        "\n",
        "_, id_t = link.split('d/')\n",
        "\n",
        "id = id_t.split('/')[0]\n",
        "print (id) # Verify that you have everything after '='\n",
        "\n",
        "# Install the PyDrive wrapper & import libraries.\n",
        "# This only needs to be done once per notebook.\n",
        "!pip install -U -q PyDrive\n",
        "from pydrive.auth import GoogleAuth\n",
        "from pydrive.drive import GoogleDrive\n",
        "from google.colab import auth\n",
        "from oauth2client.client import GoogleCredentials\n",
        "\n",
        "# Authenticate and create the PyDrive client.\n",
        "# This only needs to be done once per notebook.\n",
        "auth.authenticate_user()\n",
        "gauth = GoogleAuth()\n",
        "gauth.credentials = GoogleCredentials.get_application_default()\n",
        "drive = GoogleDrive(gauth)\n",
        "\n",
        "\n",
        "file_id = id\n",
        "downloaded = drive.CreateFile({'id':file_id})\n",
        "downloaded.FetchMetadata(fetch_all=True)\n",
        "downloaded.GetContentFile(downloaded.metadata['title'])"
      ],
      "execution_count": 0,
      "outputs": [
        {
          "output_type": "stream",
          "text": [
            "1smGRs2g2HoI6VSvonoZmWKzXOP6uPUaW\n"
          ],
          "name": "stdout"
        }
      ]
    },
    {
      "cell_type": "markdown",
      "metadata": {
        "id": "JCFOnjVFx1sg",
        "colab_type": "text"
      },
      "source": [
        "## Loading data (Manual)\n",
        "\n",
        "If you want to manually load the data from a tex file "
      ]
    },
    {
      "cell_type": "code",
      "metadata": {
        "id": "Wr_XoJQgx4yM",
        "colab_type": "code",
        "colab": {}
      },
      "source": [
        "link = \"https://drive.google.com/file/d/1smGRs2g2HoI6VSvonoZmWKzXOP6uPUaW/view?usp=sharing\"\n",
        "\n",
        "_, id_t = link.split('d/')\n",
        "\n",
        "id = id_t.split('/')[0]\n",
        "print (id) # Verify that you have everything after '='\n",
        "\n",
        "# Install the PyDrive wrapper & import libraries.\n",
        "# This only needs to be done once per notebook.\n",
        "!pip install -U -q PyDrive\n",
        "from pydrive.auth import GoogleAuth\n",
        "from pydrive.drive import GoogleDrive\n",
        "from google.colab import auth\n",
        "from oauth2client.client import GoogleCredentials\n",
        "\n",
        "# Authenticate and create the PyDrive client.\n",
        "# This only needs to be done once per notebook.\n",
        "auth.authenticate_user()\n",
        "gauth = GoogleAuth()\n",
        "gauth.credentials = GoogleCredentials.get_application_default()\n",
        "drive = GoogleDrive(gauth)\n",
        "\n",
        "\n",
        "file_id = id\n",
        "downloaded = drive.CreateFile({'id':file_id})\n",
        "downloaded.FetchMetadata(fetch_all=True)\n",
        "downloaded.GetContentFile(downloaded.metadata['title'])"
      ],
      "execution_count": 0,
      "outputs": []
    },
    {
      "cell_type": "code",
      "metadata": {
        "colab_type": "code",
        "outputId": "ad3b0480-3cdc-47c0-f874-17e8613619a7",
        "id": "JPqYr6Sj3Fk1",
        "colab": {
          "base_uri": "https://localhost:8080/"
        }
      },
      "source": [
        "!ls"
      ],
      "execution_count": 0,
      "outputs": [
        {
          "output_type": "stream",
          "text": [
            "aclImdb.zip  crawl-300d-2M-subword.bin\tcrawl-300d-2M-subword.zip\n",
            "adc.json     crawl-300d-2M-subword.vec\tsample_data\n"
          ],
          "name": "stdout"
        }
      ]
    },
    {
      "cell_type": "code",
      "metadata": {
        "colab_type": "code",
        "id": "VVDNN97A3Fk5",
        "colab": {}
      },
      "source": [
        "!unzip -qq aclImdb.zip"
      ],
      "execution_count": 0,
      "outputs": []
    },
    {
      "cell_type": "code",
      "metadata": {
        "colab_type": "code",
        "id": "YI_7DRX93Fk-",
        "colab": {}
      },
      "source": [
        "!ls"
      ],
      "execution_count": 0,
      "outputs": []
    },
    {
      "cell_type": "code",
      "metadata": {
        "colab_type": "code",
        "id": "Lk-Tubsp3FlO",
        "colab": {}
      },
      "source": [
        "# imdb_dir = './data/aclImdb'\n",
        "imdb_dir = './aclImdb'\n",
        "\n",
        "# Reading in the training folder\n",
        "train_dir = os.path.join(imdb_dir, 'train')\n",
        "texts_tr_ = []\n",
        "labels_tr = []\n",
        "\n",
        "for label_type in ['neg', 'pos']:\n",
        "    dir_name = os.path.join(train_dir, label_type)\n",
        "    for fname in os.listdir(dir_name):\n",
        "        if fname[-4:] == '.txt':\n",
        "            f = open(os.path.join(dir_name, fname), encoding=\"utf8\")\n",
        "            texts_tr_.append(f.read())\n",
        "            f.close()\n",
        "            if label_type == 'neg':\n",
        "                labels_tr.append(0)\n",
        "            else:\n",
        "                labels_tr.append(1)\n",
        "\n",
        "# Reading in the testing folder\n",
        "train_dir = os.path.join(imdb_dir, 'test')\n",
        "texts_tst_ = []\n",
        "labels_tst = []\n",
        "\n",
        "for label_type in ['neg', 'pos']:\n",
        "    dir_name = os.path.join(train_dir, label_type)\n",
        "    for fname in os.listdir(dir_name):\n",
        "        if fname[-4:] == '.txt':\n",
        "            f = open(os.path.join(dir_name, fname), encoding=\"utf8\")\n",
        "            texts_tst_.append(f.read())\n",
        "            f.close()\n",
        "            if label_type == 'neg':\n",
        "                labels_tst.append(0)\n",
        "            else:\n",
        "                labels_tst.append(1)"
      ],
      "execution_count": 0,
      "outputs": []
    },
    {
      "cell_type": "code",
      "metadata": {
        "colab_type": "code",
        "id": "78MzBKaa3FlR",
        "colab": {}
      },
      "source": [
        "# Make sure that we have only 1 and 2 in the label \n",
        "(np.unique(labels_tr), np.unique(labels_tst))"
      ],
      "execution_count": 0,
      "outputs": []
    },
    {
      "cell_type": "code",
      "metadata": {
        "id": "2-IQncq-pYoD",
        "colab_type": "code",
        "colab": {}
      },
      "source": [
        "len(labels_tr)"
      ],
      "execution_count": 0,
      "outputs": []
    },
    {
      "cell_type": "code",
      "metadata": {
        "id": "lt4p5jWS2cXt",
        "colab_type": "code",
        "colab": {}
      },
      "source": [
        "# Looking at 2 examples\n",
        "print(texts_tr_[1])\n",
        "print(labels_tr[1])\n",
        "\n",
        "print(texts_tst_[-10])\n",
        "print(labels_tst[-10])"
      ],
      "execution_count": 0,
      "outputs": []
    },
    {
      "cell_type": "markdown",
      "metadata": {
        "id": "uIaToE3_r2_f",
        "colab_type": "text"
      },
      "source": [
        "## Load pre-trained  embedding"
      ]
    },
    {
      "cell_type": "code",
      "metadata": {
        "colab_type": "code",
        "outputId": "9b5df7bc-0cf6-43de-94cd-828707914a3c",
        "id": "XX00E9OCP2ie",
        "colab": {
          "base_uri": "https://localhost:8080/",
          "height": 68
        }
      },
      "source": [
        "######################################################################################################\n",
        "########################################## Fasttext###################################################\n",
        "\n",
        "# 2 million word vectors trained with subword information on Common Crawl (600B tokens).\n",
        "# link = \"https://drive.google.com/file/d/1Z_-E-gvsBP5BnJFKvX4sVnBVchdoUwsx/view?usp=sharing\"\n",
        "\n",
        "# 1 million word vectors trained with subword infomation on Wikipedia 2017, \n",
        "# UMBC webbase corpus and statmt.org news dataset (16B tokens).\n",
        "link = \"https://drive.google.com/file/d/1lZhw_9cXME_eYbl1IwrMTyTEn6ONozgI/view?usp=sharing\"\n",
        "\n",
        "# crawl-300d-2M.vec.zip: 2 million word vectors trained on Common Crawl (600B tokens).\n",
        "# link = \"https://drive.google.com/file/d/1jkJmSpRVZr_V2vGGkLmoEio6eY2Q2el-/view?usp=sharing\"\n",
        "######################################################################################################\n",
        "######################################### Word2vec ###################################################\n",
        "\n",
        "# Developed by Tomas Mikolov at Google in 2013. Word2vec (https://code.google.com/archive/p/word2vec)\n",
        "# dimensions capture specific semantic properties\n",
        "# link = \"https://drive.google.com/file/d/13NmrtF-HoGmdv_m3Ld4eGVTbIekOcNi_/view?usp=sharing\"\n",
        "######################################################################################################\n",
        "########################################## Glove #####################################################\n",
        "\n",
        "# Go to https://nlp.stanford.edu/projects/glove, and download the precomputed embeddings\n",
        "# from 2014 English Wikipedia. It’s an 822 MB zip file called glove.6B.zip, \n",
        "# containing 100-dimensional embedding vectors for 400,000 words (or nonword tokens). Unzip it.\n",
        "# link = \"https://drive.google.com/file/d/1qlkC4-gpOhJVVvja8NEnnYPJFFzUu1CW/view?usp=sharing\"\n",
        "######################################################################################################\n",
        "\n",
        "\n",
        "\n",
        "######################################################################################################\n",
        "\n",
        "_, id_t = link.split('d/')\n",
        "\n",
        "\n",
        "id = id_t.split('/')[0]\n",
        "print (id) # Verify that you have everything after '='\n",
        "\n",
        "# Install the PyDrive wrapper & import libraries.\n",
        "# This only needs to be done once per notebook.\n",
        "!pip install -U -q PyDrive\n",
        "from pydrive.auth import GoogleAuth\n",
        "from pydrive.drive import GoogleDrive\n",
        "from google.colab import auth\n",
        "from oauth2client.client import GoogleCredentials\n",
        "\n",
        "# Authenticate and create the PyDrive client.\n",
        "# This only needs to be done once per notebook.\n",
        "auth.authenticate_user()\n",
        "gauth = GoogleAuth()\n",
        "gauth.credentials = GoogleCredentials.get_application_default()\n",
        "drive = GoogleDrive(gauth)\n",
        "\n",
        "file_id = id\n",
        "downloaded = drive.CreateFile({'id':file_id})\n",
        "downloaded.FetchMetadata(fetch_all=True)\n",
        "downloaded.GetContentFile(downloaded.metadata['title'])"
      ],
      "execution_count": 3,
      "outputs": [
        {
          "output_type": "stream",
          "text": [
            "1lZhw_9cXME_eYbl1IwrMTyTEn6ONozgI\n",
            "\u001b[K     |████████████████████████████████| 993kB 3.4MB/s \n",
            "\u001b[?25h  Building wheel for PyDrive (setup.py) ... \u001b[?25l\u001b[?25hdone\n"
          ],
          "name": "stdout"
        }
      ]
    },
    {
      "cell_type": "code",
      "metadata": {
        "colab_type": "code",
        "outputId": "d27caf9f-ad5c-48e0-8bcc-6e2d2ead81de",
        "id": "9vntKi9vP2is",
        "colab": {
          "base_uri": "https://localhost:8080/",
          "height": 34
        }
      },
      "source": [
        "!ls"
      ],
      "execution_count": 4,
      "outputs": [
        {
          "output_type": "stream",
          "text": [
            "adc.json  sample_data  wiki-news-300d-1M-subword.vec.zip\n"
          ],
          "name": "stdout"
        }
      ]
    },
    {
      "cell_type": "code",
      "metadata": {
        "colab_type": "code",
        "id": "_pz5XYCwP2jn",
        "outputId": "85484b06-90aa-4fbe-a3b3-69227cc46e0b",
        "colab": {
          "base_uri": "https://localhost:8080/",
          "height": 51
        }
      },
      "source": [
        "# !unzip crawl-300d-2M.vec.zip\n",
        "# !unzip crawl-300d-2M-subword.zip\n",
        "!unzip wiki-news-300d-1M-subword.vec.zip\n",
        "# !unzip glove.840B.300d.zip"
      ],
      "execution_count": 5,
      "outputs": [
        {
          "output_type": "stream",
          "text": [
            "Archive:  wiki-news-300d-1M-subword.vec.zip\n",
            "  inflating: wiki-news-300d-1M-subword.vec  \n"
          ],
          "name": "stdout"
        }
      ]
    },
    {
      "cell_type": "code",
      "metadata": {
        "colab_type": "code",
        "id": "2ou7Zy1GP2j8",
        "colab": {}
      },
      "source": [
        "# !rm crawl-300d-2M.vec.zip"
      ],
      "execution_count": 0,
      "outputs": []
    },
    {
      "cell_type": "code",
      "metadata": {
        "colab_type": "code",
        "outputId": "b37f4236-fb9e-44c8-9ad9-f5ecb4fab077",
        "id": "mclJodafP2j_",
        "colab": {
          "base_uri": "https://localhost:8080/",
          "height": 51
        }
      },
      "source": [
        "!ls"
      ],
      "execution_count": 7,
      "outputs": [
        {
          "output_type": "stream",
          "text": [
            "adc.json     wiki-news-300d-1M-subword.vec\n",
            "sample_data  wiki-news-300d-1M-subword.vec.zip\n"
          ],
          "name": "stdout"
        }
      ]
    },
    {
      "cell_type": "code",
      "metadata": {
        "colab_type": "code",
        "id": "1GyB-qGBP2kG",
        "outputId": "5870f4ba-564f-4307-adda-8410a4975aae",
        "colab": {
          "base_uri": "https://localhost:8080/",
          "height": 34
        }
      },
      "source": [
        "# gensim_w2v = KeyedVectors.load_word2vec_format('./crawl-300d-2M.vec')\n",
        "gensim_w2v = KeyedVectors.load_word2vec_format('./wiki-news-300d-1M-subword.vec')\n",
        "# gensim_w2v = KeyedVectors.load_word2vec_format('./GoogleNews-vectors-negative300.bin', binary=True)\n",
        "# gensim_w2v = KeyedVectors.load_word2vec_format('./crawl-300d-2M-subword.bin')"
      ],
      "execution_count": 8,
      "outputs": [
        {
          "output_type": "stream",
          "text": [
            "W0603 22:36:19.038120 140598568068992 smart_open_lib.py:385] this function is deprecated, use smart_open.open instead\n"
          ],
          "name": "stderr"
        }
      ]
    },
    {
      "cell_type": "code",
      "metadata": {
        "colab_type": "code",
        "id": "V0SmOOfPP2kL",
        "outputId": "03e93a5e-c83c-4f41-b19e-b48ed6ded85a",
        "colab": {
          "base_uri": "https://localhost:8080/",
          "height": 34
        }
      },
      "source": [
        "gensim_w2v['I'].shape"
      ],
      "execution_count": 0,
      "outputs": [
        {
          "output_type": "execute_result",
          "data": {
            "text/plain": [
              "(300,)"
            ]
          },
          "metadata": {
            "tags": []
          },
          "execution_count": 8
        }
      ]
    },
    {
      "cell_type": "code",
      "metadata": {
        "id": "pQzBUiOWdqfo",
        "colab_type": "code",
        "outputId": "5bb65a70-fb27-434b-a8c3-c47754925ff6",
        "colab": {
          "base_uri": "https://localhost:8080/",
          "height": 765
        }
      },
      "source": [
        "gensim_w2v[\"Hello\"]"
      ],
      "execution_count": 0,
      "outputs": [
        {
          "output_type": "execute_result",
          "data": {
            "text/plain": [
              "array([-0.0038,  0.0601,  0.0188,  0.0288,  0.0031, -0.0114,  0.015 ,\n",
              "       -0.0148, -0.004 , -0.0307,  0.015 ,  0.0423,  0.0133,  0.0243,\n",
              "       -0.0038,  0.0272,  0.0356, -0.0024,  0.0257, -0.0343, -0.008 ,\n",
              "        0.0032,  0.0065,  0.0043,  0.0186,  0.0173,  0.0047,  0.0351,\n",
              "        0.0249, -0.0264, -0.0262,  0.0177,  0.0399,  0.0346, -0.0193,\n",
              "        0.0078,  0.0046, -0.0115,  0.0021, -0.0317, -0.0078, -0.0675,\n",
              "       -0.0009, -0.0058,  0.005 ,  0.0385,  0.0162, -0.0008, -0.0287,\n",
              "        0.0565,  0.0094, -0.0034,  0.052 , -0.0209,  0.0455,  0.0119,\n",
              "        0.008 , -0.0217, -0.0714, -0.0148,  0.0285, -0.0107, -0.0339,\n",
              "        0.001 , -0.0323,  0.0292,  0.0139,  0.0141,  0.012 ,  0.0052,\n",
              "       -0.0153,  0.0006,  0.0195, -0.0176,  0.0104, -0.017 ,  0.014 ,\n",
              "       -0.0169,  0.0068,  0.0106, -0.0219, -0.025 ,  0.029 , -0.0596,\n",
              "       -0.0245, -0.015 , -0.0285, -0.0399,  0.0048,  0.0084, -0.005 ,\n",
              "        0.0104, -0.093 , -0.0481,  0.0094,  0.0111,  0.0026,  0.0017,\n",
              "       -0.0146, -0.0191,  0.0015,  0.0279, -0.0163, -0.0197, -0.0904,\n",
              "        0.0026, -0.0014,  0.0056,  0.0164, -0.0012, -0.0234,  0.0363,\n",
              "        0.0214, -0.0242, -0.0097,  0.0062, -0.0147, -0.0073,  0.1028,\n",
              "       -0.005 ,  0.0126, -0.0043,  0.0063, -0.0156, -0.0694, -0.0018,\n",
              "        0.0622,  0.01  ,  0.0235,  0.0847, -0.028 ,  0.0356, -0.0216,\n",
              "       -0.0182,  0.0408, -0.0136,  0.0231,  0.0385,  0.0118,  0.011 ,\n",
              "       -0.0057,  0.0198, -0.0043,  0.0231,  0.025 , -0.006 ,  0.0144,\n",
              "       -0.0033,  0.033 ,  0.0041, -0.0211, -0.028 ,  0.0143,  0.0381,\n",
              "       -0.0297,  0.0048,  0.0247,  0.0127,  0.0058,  0.0233, -0.0179,\n",
              "       -0.0144, -0.0348,  0.0093, -0.0391, -0.0735, -0.0159, -0.0102,\n",
              "       -0.0056,  0.0319, -0.0032,  0.0241, -0.0269,  0.0022, -0.033 ,\n",
              "        0.0459,  0.0079,  0.0103,  0.0116,  0.0144, -0.0065,  0.0151,\n",
              "        0.0271, -0.0189, -0.0126,  0.0021, -0.0186,  0.1573,  0.0072,\n",
              "        0.0091, -0.026 ,  0.0394, -0.0221,  0.029 , -0.0062,  0.0007,\n",
              "        0.0184,  0.022 , -0.0113,  0.01  , -0.0463,  0.052 ,  0.0168,\n",
              "        0.007 , -0.0231, -0.0032, -0.0165, -0.0193,  0.0079,  0.0517,\n",
              "        0.0155,  0.0411, -0.003 , -0.0402,  0.0828, -0.0178, -0.0351,\n",
              "       -0.0345, -0.0321, -0.0345, -0.013 , -0.0081,  0.0053,  0.0666,\n",
              "        0.0305,  0.005 , -0.0311,  0.1185,  0.0576, -0.0697, -0.0086,\n",
              "        0.0626,  0.0613, -0.0016,  0.046 , -0.0047,  0.0188, -0.0064,\n",
              "       -0.0161, -0.0025, -0.0091,  0.0042,  0.0144, -0.0395,  0.0571,\n",
              "       -0.0267,  0.0008,  0.0074, -0.0021, -0.0455,  0.06  ,  0.009 ,\n",
              "        0.0112, -0.0302, -0.0185, -0.0247, -0.0137,  0.0084,  0.0029,\n",
              "       -0.0384,  0.0055,  0.0096,  0.0357, -0.0146, -0.0107, -0.0267,\n",
              "        0.0182,  0.0091,  0.0118, -0.0344,  0.0221,  0.0702,  0.0507,\n",
              "        0.0059,  0.0493,  0.0018, -0.0043, -0.0182, -0.0266,  0.0116,\n",
              "        0.0014,  0.0223,  0.0996, -0.0211, -0.0605, -0.0096,  0.0038,\n",
              "       -0.0237,  0.0339, -0.0033, -0.0044, -0.0143, -0.0192,  0.025 ,\n",
              "        0.036 ,  0.0064,  0.0324,  0.0071,  0.0049,  0.0229],\n",
              "      dtype=float32)"
            ]
          },
          "metadata": {
            "tags": []
          },
          "execution_count": 87
        }
      ]
    },
    {
      "cell_type": "code",
      "metadata": {
        "id": "Qy8Z7l-WduhC",
        "colab_type": "code",
        "outputId": "3700528c-7765-4d4f-e39c-4d83002aff01",
        "colab": {
          "base_uri": "https://localhost:8080/",
          "height": 1171
        }
      },
      "source": [
        "from sklearn.manifold import TSNE\n",
        "from matplotlib import pylab\n",
        "\n",
        "words = [word for word in gensim_w2v.index2word[100:300]]\n",
        "embeddings = [gensim_w2v[word] for word in words]\n",
        "words_embedded = TSNE(n_components=2).fit_transform(embeddings)\n",
        "\n",
        "pylab.figure(figsize=(20, 20))\n",
        "for i, label in enumerate(words):\n",
        "  x, y = words_embedded[i, :]\n",
        "  pylab.scatter(x, y)\n",
        "  pylab.annotate(label, xy=(x, y), xytext=(5, 2), textcoords='offset points',\n",
        "                 ha='right', va='bottom')\n",
        "  \n",
        "pylab.title('Fasttext Embeddings Trained with subword infomation on Wikipedia 2017')\n",
        "pylab.savefig(\"Fasttest300-dembeddings.eps\", format='eps', dpi=1200)\n",
        "# pylab.axes(False)\n",
        "pylab.show()"
      ],
      "execution_count": 0,
      "outputs": [
        {
          "output_type": "display_data",
          "data": {
            "image/png": "[encoded data removed]",
            "text/plain": [
              "<Figure size 1440x1440 with 1 Axes>"
            ]
          },
          "metadata": {
            "tags": []
          }
        }
      ]
    },
    {
      "cell_type": "code",
      "metadata": {
        "id": "Uvw829YsTqG_",
        "colab_type": "code",
        "outputId": "74201305-5aee-4e07-9284-50a464adade4",
        "colab": {
          "base_uri": "https://localhost:8080/",
          "height": 85
        }
      },
      "source": [
        "!ls"
      ],
      "execution_count": 0,
      "outputs": [
        {
          "output_type": "stream",
          "text": [
            " adc.json\t\t\t  sample_data\n",
            "'Fasttest 300-d embeddings'\t  wiki-news-300d-1M-subword.vec\n",
            "'Fasttest 300-d embeddings.eps'   wiki-news-300d-1M-subword.vec.zip\n",
            " Fasttest300-dembeddings.eps\n"
          ],
          "name": "stdout"
        }
      ]
    },
    {
      "cell_type": "code",
      "metadata": {
        "id": "CQCIiHf_T1uO",
        "colab_type": "code",
        "colab": {}
      },
      "source": [
        "files.download(\"Fasttest300-dembeddings.eps\")"
      ],
      "execution_count": 0,
      "outputs": []
    },
    {
      "cell_type": "markdown",
      "metadata": {
        "id": "5LC04oP7ljyP",
        "colab_type": "text"
      },
      "source": [
        "## Approach (TF-Hub)"
      ]
    },
    {
      "cell_type": "code",
      "metadata": {
        "cellView": "code",
        "colab_type": "code",
        "id": "_8N3Hx2dyUC-",
        "outputId": "be04be41-bf20-4133-eda5-ea05b734a526",
        "colab": {
          "base_uri": "https://localhost:8080/",
          "height": 544
        }
      },
      "source": [
        "# Install TF-Hub.\n",
        "!pip install tensorflow-hub\n",
        "!pip install seaborn\n",
        "\n",
        "# Install Ipdb\n",
        "!pip install ipdb\n",
        "\n",
        "from tensorflow.python.data import Dataset"
      ],
      "execution_count": 0,
      "outputs": [
        {
          "output_type": "stream",
          "text": [
            "Requirement already satisfied: tensorflow-hub in /usr/local/lib/python3.6/dist-packages (0.4.0)\n",
            "Requirement already satisfied: six>=1.10.0 in /usr/local/lib/python3.6/dist-packages (from tensorflow-hub) (1.12.0)\n",
            "Requirement already satisfied: protobuf>=3.4.0 in /usr/local/lib/python3.6/dist-packages (from tensorflow-hub) (3.7.1)\n",
            "Requirement already satisfied: numpy>=1.12.0 in /usr/local/lib/python3.6/dist-packages (from tensorflow-hub) (1.16.2)\n",
            "Requirement already satisfied: setuptools in /usr/local/lib/python3.6/dist-packages (from protobuf>=3.4.0->tensorflow-hub) (41.0.1)\n",
            "Requirement already satisfied: seaborn in /usr/local/lib/python3.6/dist-packages (0.9.0)\n",
            "Requirement already satisfied: matplotlib>=1.4.3 in /usr/local/lib/python3.6/dist-packages (from seaborn) (3.0.3)\n",
            "Requirement already satisfied: pandas>=0.15.2 in /usr/local/lib/python3.6/dist-packages (from seaborn) (0.24.2)\n",
            "Requirement already satisfied: numpy>=1.9.3 in /usr/local/lib/python3.6/dist-packages (from seaborn) (1.16.2)\n",
            "Requirement already satisfied: scipy>=0.14.0 in /usr/local/lib/python3.6/dist-packages (from seaborn) (1.3.0)\n",
            "Requirement already satisfied: kiwisolver>=1.0.1 in /usr/local/lib/python3.6/dist-packages (from matplotlib>=1.4.3->seaborn) (1.1.0)\n",
            "Requirement already satisfied: pyparsing!=2.0.4,!=2.1.2,!=2.1.6,>=2.0.1 in /usr/local/lib/python3.6/dist-packages (from matplotlib>=1.4.3->seaborn) (2.4.0)\n",
            "Requirement already satisfied: cycler>=0.10 in /usr/local/lib/python3.6/dist-packages (from matplotlib>=1.4.3->seaborn) (0.10.0)\n",
            "Requirement already satisfied: python-dateutil>=2.1 in /usr/local/lib/python3.6/dist-packages (from matplotlib>=1.4.3->seaborn) (2.5.3)\n",
            "Requirement already satisfied: pytz>=2011k in /usr/local/lib/python3.6/dist-packages (from pandas>=0.15.2->seaborn) (2018.9)\n",
            "Requirement already satisfied: setuptools in /usr/local/lib/python3.6/dist-packages (from kiwisolver>=1.0.1->matplotlib>=1.4.3->seaborn) (41.0.1)\n",
            "Requirement already satisfied: six in /usr/local/lib/python3.6/dist-packages (from cycler>=0.10->matplotlib>=1.4.3->seaborn) (1.12.0)\n",
            "Requirement already satisfied: ipdb in /usr/local/lib/python3.6/dist-packages (0.12)\n",
            "Requirement already satisfied: ipython>=5.1.0; python_version >= \"3.4\" in /usr/local/lib/python3.6/dist-packages (from ipdb) (5.5.0)\n",
            "Requirement already satisfied: setuptools in /usr/local/lib/python3.6/dist-packages (from ipdb) (41.0.1)\n",
            "Requirement already satisfied: simplegeneric>0.8 in /usr/local/lib/python3.6/dist-packages (from ipython>=5.1.0; python_version >= \"3.4\"->ipdb) (0.8.1)\n",
            "Requirement already satisfied: pickleshare in /usr/local/lib/python3.6/dist-packages (from ipython>=5.1.0; python_version >= \"3.4\"->ipdb) (0.7.5)\n",
            "Requirement already satisfied: decorator in /usr/local/lib/python3.6/dist-packages (from ipython>=5.1.0; python_version >= \"3.4\"->ipdb) (4.4.0)\n",
            "Requirement already satisfied: prompt-toolkit<2.0.0,>=1.0.4 in /usr/local/lib/python3.6/dist-packages (from ipython>=5.1.0; python_version >= \"3.4\"->ipdb) (1.0.16)\n",
            "Requirement already satisfied: pygments in /usr/local/lib/python3.6/dist-packages (from ipython>=5.1.0; python_version >= \"3.4\"->ipdb) (2.1.3)\n",
            "Requirement already satisfied: pexpect; sys_platform != \"win32\" in /usr/local/lib/python3.6/dist-packages (from ipython>=5.1.0; python_version >= \"3.4\"->ipdb) (4.7.0)\n",
            "Requirement already satisfied: traitlets>=4.2 in /usr/local/lib/python3.6/dist-packages (from ipython>=5.1.0; python_version >= \"3.4\"->ipdb) (4.3.2)\n",
            "Requirement already satisfied: six>=1.9.0 in /usr/local/lib/python3.6/dist-packages (from prompt-toolkit<2.0.0,>=1.0.4->ipython>=5.1.0; python_version >= \"3.4\"->ipdb) (1.12.0)\n",
            "Requirement already satisfied: wcwidth in /usr/local/lib/python3.6/dist-packages (from prompt-toolkit<2.0.0,>=1.0.4->ipython>=5.1.0; python_version >= \"3.4\"->ipdb) (0.1.7)\n",
            "Requirement already satisfied: ptyprocess>=0.5 in /usr/local/lib/python3.6/dist-packages (from pexpect; sys_platform != \"win32\"->ipython>=5.1.0; python_version >= \"3.4\"->ipdb) (0.6.0)\n",
            "Requirement already satisfied: ipython-genutils in /usr/local/lib/python3.6/dist-packages (from traitlets>=4.2->ipython>=5.1.0; python_version >= \"3.4\"->ipdb) (0.2.0)\n"
          ],
          "name": "stdout"
        }
      ]
    },
    {
      "cell_type": "markdown",
      "metadata": {
        "colab_type": "text",
        "id": "tRXN9a8Mz8e-"
      },
      "source": [
        "More detailed information about installing Tensorflow can be found at [https://www.tensorflow.org/install/](https://www.tensorflow.org/install/)."
      ]
    },
    {
      "cell_type": "markdown",
      "metadata": {
        "colab_type": "text",
        "id": "6OPyVxHuiTEE"
      },
      "source": [
        "### Getting started\n",
        "\n",
        "#### Data\n",
        "We will try to solve the [Large Movie Review Dataset v1.0](http://ai.stanford.edu/~amaas/data/sentiment/) task from Mass et al. The dataset consists of IMDB movie reviews labeled by positivity from 1 to 10. The task is to label the reviews as **negative** or **positive**."
      ]
    },
    {
      "cell_type": "code",
      "metadata": {
        "cellView": "both",
        "colab_type": "code",
        "id": "rKzc-fOGV72G",
        "outputId": "ec1df798-5b51-4f2d-95b3-bc495d692af1",
        "colab": {
          "base_uri": "https://localhost:8080/",
          "height": 51
        }
      },
      "source": [
        "# Load all files from a directory in a DataFrame.\n",
        "def load_directory_data(directory):\n",
        "  data = {}\n",
        "  data[\"sentence\"] = []\n",
        "#   data[\"sentiment\"] = []\n",
        "  for file_path in os.listdir(directory):\n",
        "    with tf.gfile.GFile(os.path.join(directory, file_path), \"r\") as f:\n",
        "      data[\"sentence\"].append(f.read())\n",
        "#       data[\"sentiment\"].append(re.match(\"\\d+_(\\d+)\\.txt\", file_path).group(1))#; ipdb.set_trace()\n",
        "  return pd.DataFrame.from_dict(data)\n",
        "\n",
        "# Merge positive and negative examples, add a polarity column and shuffle.\n",
        "def load_dataset(directory):\n",
        "  pos_df = load_directory_data(os.path.join(directory, \"pos\"))\n",
        "  neg_df = load_directory_data(os.path.join(directory, \"neg\"))\n",
        "  pos_df[\"sentiment\"] = 1\n",
        "  neg_df[\"sentiment\"] = 0\n",
        "  return pd.concat([pos_df, neg_df]).sample(frac=1).reset_index(drop=True)\n",
        "\n",
        "# Download and process the dataset files.\n",
        "def download_and_load_datasets(force_download=False):\n",
        "  dataset = tf.keras.utils.get_file(\n",
        "      fname=\"aclImdb.tar.gz\", \n",
        "      origin=\"http://ai.stanford.edu/~amaas/data/sentiment/aclImdb_v1.tar.gz\", \n",
        "      extract=True)\n",
        "  \n",
        "  train_df = load_dataset(os.path.join(os.path.dirname(dataset), \n",
        "                                       \"aclImdb\", \"train\"))\n",
        "  test_df = load_dataset(os.path.join(os.path.dirname(dataset), \n",
        "                                      \"aclImdb\", \"test\"))\n",
        "  \n",
        "  return train_df, test_df\n",
        "\n",
        "# Reduce logging output.\n",
        "tf.logging.set_verbosity(tf.logging.ERROR)\n",
        "\n",
        "train_df, test_df = download_and_load_datasets()"
      ],
      "execution_count": 0,
      "outputs": [
        {
          "output_type": "stream",
          "text": [
            "Downloading data from http://ai.stanford.edu/~amaas/data/sentiment/aclImdb_v1.tar.gz\n",
            "84131840/84125825 [==============================] - 8s 0us/step\n"
          ],
          "name": "stdout"
        }
      ]
    },
    {
      "cell_type": "code",
      "metadata": {
        "id": "MveoKxg7vC6x",
        "colab_type": "code",
        "colab": {}
      },
      "source": [
        "# pd.set_option('display.max_colwidth', 200)"
      ],
      "execution_count": 0,
      "outputs": []
    },
    {
      "cell_type": "code",
      "metadata": {
        "id": "QYB8ZbGftMcE",
        "colab_type": "code",
        "outputId": "900562bf-7ed5-4dbb-d20d-f4554a37af27",
        "colab": {
          "base_uri": "https://localhost:8080/",
          "height": 363
        }
      },
      "source": [
        "train_df.head(10)"
      ],
      "execution_count": 0,
      "outputs": [
        {
          "output_type": "execute_result",
          "data": {
            "text/html": [
              "<div>\n",
              "<style scoped>\n",
              "    .dataframe tbody tr th:only-of-type {\n",
              "        vertical-align: middle;\n",
              "    }\n",
              "\n",
              "    .dataframe tbody tr th {\n",
              "        vertical-align: top;\n",
              "    }\n",
              "\n",
              "    .dataframe thead th {\n",
              "        text-align: right;\n",
              "    }\n",
              "</style>\n",
              "<table border=\"1\" class=\"dataframe\">\n",
              "  <thead>\n",
              "    <tr style=\"text-align: right;\">\n",
              "      <th></th>\n",
              "      <th>sentence</th>\n",
              "      <th>sentiment</th>\n",
              "    </tr>\n",
              "  </thead>\n",
              "  <tbody>\n",
              "    <tr>\n",
              "      <th>0</th>\n",
              "      <td>First of all, I was expecting \"Caged Heat\" to ...</td>\n",
              "      <td>0</td>\n",
              "    </tr>\n",
              "    <tr>\n",
              "      <th>1</th>\n",
              "      <td>This was my first, and probably the last Angel...</td>\n",
              "      <td>0</td>\n",
              "    </tr>\n",
              "    <tr>\n",
              "      <th>2</th>\n",
              "      <td>This HAS to be the worst movie I've ever attem...</td>\n",
              "      <td>0</td>\n",
              "    </tr>\n",
              "    <tr>\n",
              "      <th>3</th>\n",
              "      <td>The first point that calls the attention in \"F...</td>\n",
              "      <td>0</td>\n",
              "    </tr>\n",
              "    <tr>\n",
              "      <th>4</th>\n",
              "      <td>I found this movie to be very funny, I loved h...</td>\n",
              "      <td>1</td>\n",
              "    </tr>\n",
              "    <tr>\n",
              "      <th>5</th>\n",
              "      <td>Yes it was a little low budget, but this movie...</td>\n",
              "      <td>1</td>\n",
              "    </tr>\n",
              "    <tr>\n",
              "      <th>6</th>\n",
              "      <td>This is a very enjoyable film with excellent a...</td>\n",
              "      <td>1</td>\n",
              "    </tr>\n",
              "    <tr>\n",
              "      <th>7</th>\n",
              "      <td>Holes (2003, Dir Andrew Davis) &lt;br /&gt;&lt;br /&gt;Whe...</td>\n",
              "      <td>1</td>\n",
              "    </tr>\n",
              "    <tr>\n",
              "      <th>8</th>\n",
              "      <td>A great and truly independent film that hit mo...</td>\n",
              "      <td>1</td>\n",
              "    </tr>\n",
              "    <tr>\n",
              "      <th>9</th>\n",
              "      <td>\"Happy Go Lovely\" has only two things going fo...</td>\n",
              "      <td>0</td>\n",
              "    </tr>\n",
              "  </tbody>\n",
              "</table>\n",
              "</div>"
            ],
            "text/plain": [
              "                                            sentence  sentiment\n",
              "0  First of all, I was expecting \"Caged Heat\" to ...          0\n",
              "1  This was my first, and probably the last Angel...          0\n",
              "2  This HAS to be the worst movie I've ever attem...          0\n",
              "3  The first point that calls the attention in \"F...          0\n",
              "4  I found this movie to be very funny, I loved h...          1\n",
              "5  Yes it was a little low budget, but this movie...          1\n",
              "6  This is a very enjoyable film with excellent a...          1\n",
              "7  Holes (2003, Dir Andrew Davis) <br /><br />Whe...          1\n",
              "8  A great and truly independent film that hit mo...          1\n",
              "9  \"Happy Go Lovely\" has only two things going fo...          0"
            ]
          },
          "metadata": {
            "tags": []
          },
          "execution_count": 3
        }
      ]
    },
    {
      "cell_type": "code",
      "metadata": {
        "id": "bD_67LWviEIb",
        "colab_type": "code",
        "outputId": "16c2efcd-50ab-4044-b5a8-02f1cd06ebba",
        "colab": {
          "base_uri": "https://localhost:8080/"
        }
      },
      "source": [
        "test_df.tail(10)"
      ],
      "execution_count": 0,
      "outputs": [
        {
          "output_type": "execute_result",
          "data": {
            "text/html": [
              "<div>\n",
              "<style scoped>\n",
              "    .dataframe tbody tr th:only-of-type {\n",
              "        vertical-align: middle;\n",
              "    }\n",
              "\n",
              "    .dataframe tbody tr th {\n",
              "        vertical-align: top;\n",
              "    }\n",
              "\n",
              "    .dataframe thead th {\n",
              "        text-align: right;\n",
              "    }\n",
              "</style>\n",
              "<table border=\"1\" class=\"dataframe\">\n",
              "  <thead>\n",
              "    <tr style=\"text-align: right;\">\n",
              "      <th></th>\n",
              "      <th>sentence</th>\n",
              "      <th>sentiment</th>\n",
              "    </tr>\n",
              "  </thead>\n",
              "  <tbody>\n",
              "    <tr>\n",
              "      <th>24990</th>\n",
              "      <td>The most accurate description of how Billy Cry...</td>\n",
              "      <td>0</td>\n",
              "    </tr>\n",
              "    <tr>\n",
              "      <th>24991</th>\n",
              "      <td>Now, I've seen many many B-grade films in my 1...</td>\n",
              "      <td>1</td>\n",
              "    </tr>\n",
              "    <tr>\n",
              "      <th>24992</th>\n",
              "      <td>While I hold its predecessor, \"Fast Times At R...</td>\n",
              "      <td>1</td>\n",
              "    </tr>\n",
              "    <tr>\n",
              "      <th>24993</th>\n",
              "      <td>I vaguely remember this film. I do remember it...</td>\n",
              "      <td>0</td>\n",
              "    </tr>\n",
              "    <tr>\n",
              "      <th>24994</th>\n",
              "      <td>\"Showtime\" is a funny film starring funnymen R...</td>\n",
              "      <td>1</td>\n",
              "    </tr>\n",
              "    <tr>\n",
              "      <th>24995</th>\n",
              "      <td>I found it hard to care about these characters...</td>\n",
              "      <td>0</td>\n",
              "    </tr>\n",
              "    <tr>\n",
              "      <th>24996</th>\n",
              "      <td>Viewed this GREAT Classic film of Greta Garbo ...</td>\n",
              "      <td>1</td>\n",
              "    </tr>\n",
              "    <tr>\n",
              "      <th>24997</th>\n",
              "      <td>About 5 minutes into the movie you're thrown i...</td>\n",
              "      <td>0</td>\n",
              "    </tr>\n",
              "    <tr>\n",
              "      <th>24998</th>\n",
              "      <td>I remember seeing this film in the theater in ...</td>\n",
              "      <td>1</td>\n",
              "    </tr>\n",
              "    <tr>\n",
              "      <th>24999</th>\n",
              "      <td>Okay,. so I went into this loving RuPaul. I st...</td>\n",
              "      <td>0</td>\n",
              "    </tr>\n",
              "  </tbody>\n",
              "</table>\n",
              "</div>"
            ],
            "text/plain": [
              "                                                sentence  sentiment\n",
              "24990  The most accurate description of how Billy Cry...          0\n",
              "24991  Now, I've seen many many B-grade films in my 1...          1\n",
              "24992  While I hold its predecessor, \"Fast Times At R...          1\n",
              "24993  I vaguely remember this film. I do remember it...          0\n",
              "24994  \"Showtime\" is a funny film starring funnymen R...          1\n",
              "24995  I found it hard to care about these characters...          0\n",
              "24996  Viewed this GREAT Classic film of Greta Garbo ...          1\n",
              "24997  About 5 minutes into the movie you're thrown i...          0\n",
              "24998  I remember seeing this film in the theater in ...          1\n",
              "24999  Okay,. so I went into this loving RuPaul. I st...          0"
            ]
          },
          "metadata": {
            "tags": []
          },
          "execution_count": 19
        }
      ]
    },
    {
      "cell_type": "markdown",
      "metadata": {
        "colab_type": "text",
        "id": "D9Xq4x1mU3un"
      },
      "source": [
        "### Model\n",
        "#### Input functions\n",
        "\n",
        "[Estimator framework](https://www.tensorflow.org/get_started/premade_estimators#overview_of_programming_with_estimators) provides [input functions](https://www.tensorflow.org/api_docs/python/tf/estimator/inputs/pandas_input_fn) that wrap Pandas dataframes."
      ]
    },
    {
      "cell_type": "code",
      "metadata": {
        "cellView": "both",
        "colab_type": "code",
        "id": "25rdoEHih0fm",
        "colab": {}
      },
      "source": [
        "# Training input on the whole training set with no limit on training epochs.\n",
        "train_input_fn = tf.estimator.inputs.pandas_input_fn(\n",
        "    train_df, train_df[\"sentiment\"], num_epochs=None, shuffle=True)\n",
        "# .head(10)\n",
        "# Prediction on the whole training set.\n",
        "predict_train_input_fn = tf.estimator.inputs.pandas_input_fn(\n",
        "    train_df, train_df[\"sentiment\"], shuffle=False)\n",
        "# Prediction on the test set.\n",
        "predict_test_input_fn = tf.estimator.inputs.pandas_input_fn(\n",
        "    test_df, test_df[\"sentiment\"], shuffle=False)"
      ],
      "execution_count": 0,
      "outputs": []
    },
    {
      "cell_type": "markdown",
      "metadata": {
        "colab_type": "text",
        "id": "Uyl6YGRcVAwP"
      },
      "source": [
        "### Feature columns\n",
        "\n",
        "TF-Hub provides a [feature column](https://github.com/tensorflow/hub/blob/master/docs/api_docs/python/hub/text_embedding_column.md) that applies a module on the given text feature and passes further the outputs of the module. In this tutorial we will be using the [nnlm-en-dim128 module](https://tfhub.dev/google/nnlm-en-dim128/1). For the purpose of this tutorial, the most important facts are:\n",
        "\n",
        "* The module takes **a batch of sentences in a 1-D tensor of strings** as input.\n",
        "* The module is responsible for **preprocessing of sentences** (e.g. removal of punctuation and splitting on spaces).\n",
        "* The module works with any input (e.g. **nnlm-en-dim128** hashes words not present in vocabulary into ~20.000 buckets)."
      ]
    },
    {
      "cell_type": "code",
      "metadata": {
        "id": "M27xCwn0mewe",
        "colab_type": "code",
        "colab": {}
      },
      "source": [
        "embedded_text_feature_column = hub.text_embedding_column(\n",
        "    key=\"sentence\", \n",
        "    module_spec=\"https://tfhub.dev/google/Wiki-words-250-with-normalization/1\", trainable=True) # adding trainable to (True) "
      ],
      "execution_count": 0,
      "outputs": []
    },
    {
      "cell_type": "markdown",
      "metadata": {
        "colab_type": "text",
        "id": "YPuHgx3BWBOg"
      },
      "source": [
        "### Estimator\n",
        "\n",
        "For classification we can use a [DNN Classifier](https://www.tensorflow.org/api_docs/python/tf/estimator/DNNClassifier) (note further remarks about different modelling of the label function at the end of the tutorial)."
      ]
    },
    {
      "cell_type": "code",
      "metadata": {
        "colab_type": "code",
        "id": "23U30yEkVq4w",
        "colab": {}
      },
      "source": [
        "estimator = tf.estimator.DNNClassifier(\n",
        "    hidden_units=[512, 511, 512],\n",
        "    feature_columns=[embedded_text_feature_column],\n",
        "    n_classes=2,\n",
        "    optimizer=tf.train.AdagradOptimizer(learning_rate=0.003))"
      ],
      "execution_count": 0,
      "outputs": []
    },
    {
      "cell_type": "markdown",
      "metadata": {
        "colab_type": "text",
        "id": "-O_k-8jgWPXY"
      },
      "source": [
        "### Training\n",
        "\n",
        "Train the estimator for a reasonable amount of steps."
      ]
    },
    {
      "cell_type": "code",
      "metadata": {
        "colab_type": "code",
        "id": "e5uDRv1r7Ed4",
        "colab": {}
      },
      "source": [
        "# Training for 20,000 steps means 128,000 training examples with the default\n",
        "# batch size. This is roughly equivalent to 100 epochs since the training dataset\n",
        "# contains 25,000 examples.\n",
        "estimator.train(input_fn=train_input_fn, steps=20000);"
      ],
      "execution_count": 0,
      "outputs": []
    },
    {
      "cell_type": "code",
      "metadata": {
        "id": "Y_h5m7Ggi282",
        "colab_type": "code",
        "outputId": "89391537-ab66-4703-ec53-d27e836b95e2",
        "colab": {
          "base_uri": "https://localhost:8080/",
          "height": 34
        }
      },
      "source": [
        "# 100*1000/5"
      ],
      "execution_count": 0,
      "outputs": [
        {
          "output_type": "execute_result",
          "data": {
            "text/plain": [
              "20000.0"
            ]
          },
          "metadata": {
            "tags": []
          },
          "execution_count": 7
        }
      ]
    },
    {
      "cell_type": "markdown",
      "metadata": {
        "colab_type": "text",
        "id": "s8j7YTRSe7Pj"
      },
      "source": [
        "### Prediction\n",
        "\n",
        "Run predictions for both training and test set."
      ]
    },
    {
      "cell_type": "code",
      "metadata": {
        "colab_type": "code",
        "id": "zbLg5LzGwAfC",
        "outputId": "79253a2a-8739-4d48-ce5a-21b7614eb2ff",
        "colab": {
          "base_uri": "https://localhost:8080/",
          "height": 51
        }
      },
      "source": [
        "train_eval_result = estimator.evaluate(input_fn=predict_train_input_fn)\n",
        "test_eval_result = estimator.evaluate(input_fn=predict_test_input_fn)\n",
        "\n",
        "print(f\"Training set accuracy: {train_eval_result['accuracy']*100:.1f} %\")\n",
        "print(f\"Test set accuracy: {test_eval_result['accuracy']*100:.1f} %\")"
      ],
      "execution_count": 0,
      "outputs": [
        {
          "output_type": "stream",
          "text": [
            "Training set accuracy: 100.0 %\n",
            "Test set accuracy: 86.6 %\n"
          ],
          "name": "stdout"
        }
      ]
    },
    {
      "cell_type": "code",
      "metadata": {
        "id": "HdtMgEqVLt-9",
        "colab_type": "code",
        "outputId": "9fc1b997-f1b4-4cdc-dab8-3879e742f571",
        "colab": {
          "base_uri": "https://localhost:8080/",
          "height": 476
        }
      },
      "source": [
        "print(\"Training set metrics:\")\n",
        "for m in train_eval_result:\n",
        "  print(m, train_eval_result[m])\n",
        "  \n",
        "print(\"\\n-----------------------------------\\n\")\n",
        "\n",
        "print(\"Testing set metrics:\")\n",
        "for m in test_eval_result:\n",
        "  print(m, test_eval_result[m])\n",
        "# print(\"---\")"
      ],
      "execution_count": 0,
      "outputs": [
        {
          "output_type": "stream",
          "text": [
            "Training set metrics:\n",
            "accuracy 1.0\n",
            "accuracy_baseline 0.5\n",
            "auc 1.0\n",
            "auc_precision_recall 1.0\n",
            "average_loss 4.2935313e-05\n",
            "label/mean 0.5\n",
            "loss 0.005476443\n",
            "precision 1.0\n",
            "prediction/mean 0.50000554\n",
            "recall 1.0\n",
            "global_step 20000\n",
            "\n",
            "-----------------------------------\n",
            "\n",
            "Testing set metrics:\n",
            "accuracy 0.86576\n",
            "accuracy_baseline 0.5\n",
            "auc 0.90123457\n",
            "auc_precision_recall 0.91897255\n",
            "average_loss 1.144381\n",
            "label/mean 0.5\n",
            "loss 145.96698\n",
            "precision 0.8721309\n",
            "prediction/mean 0.4916909\n",
            "recall 0.8572\n",
            "global_step 20000\n"
          ],
          "name": "stdout"
        }
      ]
    },
    {
      "cell_type": "markdown",
      "metadata": {
        "id": "4DCAk8VmVVdm",
        "colab_type": "text"
      },
      "source": [
        "### Evaluation\n"
      ]
    },
    {
      "cell_type": "code",
      "metadata": {
        "id": "TOCvE74dVXmx",
        "colab_type": "code",
        "outputId": "ca595d66-3c50-4ed5-c94f-3ed8e1d19084",
        "colab": {
          "base_uri": "https://localhost:8080/",
          "height": 298
        }
      },
      "source": [
        "from sklearn.metrics import auc\n",
        "validation_probabilities = estimator.predict(input_fn=predict_test_input_fn)\n",
        "# Get just the probabilities for the positive class.\n",
        "validation_probabilities = np.array([item['probabilities'][1] for item in validation_probabilities])\n",
        "\n",
        "false_positive_rate, true_positive_rate, thresholds = metrics.roc_curve(\n",
        "    test_df[\"sentiment\"], validation_probabilities)\n",
        "\n",
        "\n",
        "roc_auc = auc(false_positive_rate,true_positive_rate)\n",
        "plt.plot(false_positive_rate,true_positive_rate,label='area = %.2f' %roc_auc)\n",
        "plt.plot([0, 1], [0, 1], label=\"random classifier\")\n",
        "plt.title(\"ROC Curve (250-d, trainable)\")\n",
        "plt.legend(loc=0)\n",
        "plt.savefig(\"ROC curve (250).eps\", format='eps', dpi=1200)\n",
        "plt.show"
      ],
      "execution_count": 0,
      "outputs": [
        {
          "output_type": "execute_result",
          "data": {
            "text/plain": [
              "<function matplotlib.pyplot.show>"
            ]
          },
          "metadata": {
            "tags": []
          },
          "execution_count": 26
        },
        {
          "output_type": "display_data",
          "data": {
            "image/png": "[encoded data removed]",
            "text/plain": [
              "<Figure size 432x288 with 1 Axes>"
            ]
          },
          "metadata": {
            "tags": []
          }
        }
      ]
    },
    {
      "cell_type": "markdown",
      "metadata": {
        "colab_type": "text",
        "id": "DR2IsTF5vuAX"
      },
      "source": [
        "###Confusion matrix\n",
        "\n",
        "We can visually check the confusion matrix to understand the distribution of misclassifications."
      ]
    },
    {
      "cell_type": "code",
      "metadata": {
        "colab_type": "code",
        "id": "nT71CtArpsKz",
        "outputId": "af62718d-2096-4acb-dc67-2aa2c7befc33",
        "colab": {
          "base_uri": "https://localhost:8080/",
          "height": 312
        }
      },
      "source": [
        "def get_predictions(estimator, input_fn):\n",
        "  return [x[\"class_ids\"][0] for x in estimator.predict(input_fn=input_fn)]\n",
        "\n",
        "LABELS = [\n",
        "    \"negative\", \"positive\"\n",
        "]\n",
        "\n",
        "# Create a confusion matrix on training data.\n",
        "with tf.Graph().as_default():\n",
        "  cm = tf.confusion_matrix(test_df[\"sentiment\"], \n",
        "                           get_predictions(estimator, predict_test_input_fn))\n",
        "  with tf.Session() as session:\n",
        "    cm_out = session.run(cm)\n",
        "\n",
        "# Normalize the confusion matrix so that each row sums to 1.\n",
        "cm_out = cm_out.astype(float) / cm_out.sum(axis=1)[:, np.newaxis]\n",
        "\n",
        "sns.heatmap(cm_out, annot=True, xticklabels=LABELS, yticklabels=LABELS);\n",
        "plt.xlabel(\"Predicted\");\n",
        "plt.ylabel(\"True\");\n",
        "plt.title(\"Confusion Matrix 250-dj trainable\")\n",
        "plt.savefig(\"Confusion matrix (250).eps\", format='eps', dpi=1000)\n",
        "plt.plot()"
      ],
      "execution_count": 0,
      "outputs": [
        {
          "output_type": "execute_result",
          "data": {
            "text/plain": [
              "[]"
            ]
          },
          "metadata": {
            "tags": []
          },
          "execution_count": 16
        },
        {
          "output_type": "display_data",
          "data": {
            "image/png": "[encoded data removed]",
            "text/plain": [
              "<Figure size 432x288 with 2 Axes>"
            ]
          },
          "metadata": {
            "tags": []
          }
        }
      ]
    },
    {
      "cell_type": "code",
      "metadata": {
        "id": "PdMPl6NfrNOQ",
        "colab_type": "code",
        "outputId": "b7449826-928a-49f4-e879-3183b6923d96",
        "colab": {
          "base_uri": "https://localhost:8080/",
          "height": 51
        }
      },
      "source": [
        "!ls"
      ],
      "execution_count": 0,
      "outputs": [
        {
          "output_type": "stream",
          "text": [
            "'Confusion matrix (250).eps'  'ROC curve (250).png'\n",
            "'ROC curve (250).eps'\t       sample_data\n"
          ],
          "name": "stdout"
        }
      ]
    },
    {
      "cell_type": "code",
      "metadata": {
        "id": "T445odRtrO5O",
        "colab_type": "code",
        "colab": {}
      },
      "source": [
        "# files.download(\"Confusion matrix (250).eps\")\n",
        "files.download(\"ROC curve (250).eps\")\n",
        "# files.download(\"ROC curve (Bow+Fast_text).eps\")"
      ],
      "execution_count": 0,
      "outputs": []
    },
    {
      "cell_type": "code",
      "metadata": {
        "id": "ovS3VHgqDIHn",
        "colab_type": "code",
        "colab": {}
      },
      "source": [
        "def my_input_fn(features, targets, batch_size=1, shuffle=True, num_epochs=None):\n",
        "    \"\"\"Trains a linear regression model.\n",
        "  \n",
        "    Args:\n",
        "      features: pandas DataFrame of features\n",
        "      targets: pandas DataFrame of targets\n",
        "      batch_size: Size of batches to be passed to the model\n",
        "      shuffle: True or False. Whether to shuffle the data.\n",
        "      num_epochs: Number of epochs for which data should be repeated. None = repeat indefinitely\n",
        "    Returns:\n",
        "      Tuple of (features, labels) for next data batch\n",
        "    \"\"\"\n",
        "    \n",
        "    # Convert pandas data into a dict of np arrays.\n",
        "    features = {key:np.array(value) for key,value in dict(features).items()}                                            \n",
        " \n",
        "    # Construct a dataset, and configure batching/repeating.\n",
        "    ds = Dataset.from_tensor_slices((features,targets)) # warning: 2GB limit\n",
        "    ds = ds.batch(batch_size).repeat(num_epochs)\n",
        "    \n",
        "    # Shuffle the data, if specified.\n",
        "    if shuffle:\n",
        "      ds = ds.shuffle(10000)\n",
        "    \n",
        "    # Return the next batch of data.\n",
        "    features, labels = ds.make_one_shot_iterator().get_next()\n",
        "    return features, labels\n",
        "  \n",
        "def preprocess_targets(dataframe_):\n",
        "  \"\"\"Prepares target features (i.e., labels) from California housing data set.\n",
        "\n",
        "  Args:\n",
        "    california_housing_dataframe: A Pandas DataFrame expected to contain data\n",
        "      from the California housing data set.\n",
        "  Returns:\n",
        "    A DataFrame that contains the target feature.\n",
        "  \"\"\"\n",
        "  output_targets = pd.DataFrame()\n",
        "  # Create a boolean categorical feature representing whether the\n",
        "  # median_house_value is above a set threshold.\n",
        "  output_targets[\"sentiment\"] = (dataframe_[\"sentiment\"]).astype(float)\n",
        "  return output_targets"
      ],
      "execution_count": 0,
      "outputs": []
    },
    {
      "cell_type": "code",
      "metadata": {
        "id": "djVA2m3zUyhz",
        "colab_type": "code",
        "colab": {}
      },
      "source": [
        "def train_DNN_classifier_model(\n",
        "    learning_rate,\n",
        "    steps,\n",
        "    batch_size,\n",
        "    training_examples,\n",
        "    training_targets,\n",
        "    validation_examples,\n",
        "    validation_targets):\n",
        "  \"\"\"Trains a neural network classifier model.\n",
        "  \n",
        "  In addition to training, this function also prints training progress information,\n",
        "  as well as a plot of the training and validation loss over time.\n",
        "  \n",
        "  Args:\n",
        "    my_optimizer: An instance of `tf.train.Optimizer`, the optimizer to use.\n",
        "    steps: A non-zero `int`, the total number of training steps. A training step\n",
        "      consists of a forward and backward pass using a single batch.\n",
        "    batch_size: A non-zero `int`, the batch size.\n",
        "    hidden_units: A `list` of int values, specifying the number of neurons in each layer.\n",
        "    training_examples: A `DataFrame` containing one or more columns from\n",
        "      `california_housing_dataframe` to use as input features for training.\n",
        "    training_targets: A `DataFrame` containing exactly one column from\n",
        "      `california_housing_dataframe` to use as target for training.\n",
        "    validation_examples: A `DataFrame` containing one or more columns from\n",
        "      `california_housing_dataframe` to use as input features for validation.\n",
        "    validation_targets: A `DataFrame` containing exactly one column from\n",
        "      `california_housing_dataframe` to use as target for validation.\n",
        "      \n",
        "  Returns:\n",
        "    A tuple `(estimator, training_losses, validation_losses)`:\n",
        "      estimator: the trained `DNNRegressor` object.\n",
        "      training_losses: a `list` containing the training loss values taken during training.\n",
        "      validation_losses: a `list` containing the validation loss values taken during training.\n",
        "  \"\"\"\n",
        "\n",
        "  periods = 10\n",
        "  steps_per_period = steps / periods\n",
        "  \n",
        "  estimator = tf.estimator.DNNClassifier(\n",
        "    hidden_units=[512],\n",
        "    feature_columns=[embedded_text_feature_column],\n",
        "    n_classes=2,\n",
        "    optimizer=tf.train.AdagradOptimizer(learning_rate=learning_rate))\n",
        "  \n",
        "  # Create input functions.\n",
        "  training_input_fn = lambda: my_input_fn(training_examples, \n",
        "                                          training_targets[\"sentiment\"], \n",
        "                                          batch_size=batch_size)\n",
        "  predict_training_input_fn = lambda: my_input_fn(training_examples, \n",
        "                                                  training_targets[\"sentiment\"], \n",
        "                                                  num_epochs=1, \n",
        "                                                  shuffle=False)\n",
        "  predict_validation_input_fn = lambda: my_input_fn(validation_examples, \n",
        "                                                    validation_targets[\"sentiment\"], \n",
        "                                                    num_epochs=1, \n",
        "                                                    shuffle=False)\n",
        "  \n",
        "  # Train the model, but do so inside a loop so that we can periodically assess\n",
        "  # loss metrics.\n",
        "  print(\"Training model...\")\n",
        "  print(\"LogLoss (on training data):\")\n",
        "  \n",
        "  training_log_losses = []\n",
        "  validation_log_losses = []\n",
        "  \n",
        "  training_acc = []\n",
        "  validation_acc = []\n",
        "\n",
        "  for period in range (0, periods):\n",
        "    # Train the model, starting from the prior state.\n",
        "    estimator.train(\n",
        "        input_fn=training_input_fn,\n",
        "        steps=steps_per_period\n",
        "    )\n",
        "    \n",
        "    # Take a break and compute predictions.    \n",
        "    training_probabilities_acc = estimator.predict(input_fn=predict_training_input_fn)\n",
        "    training_probabilities_acc = np.array([item['probabilities'][1] for item in training_probabilities_acc])\n",
        "    \n",
        "    validation_probabilities_acc = estimator.predict(input_fn=predict_validation_input_fn)\n",
        "    validation_probabilities_acc = np.array([item['probabilities'][1] for item in validation_probabilities_acc])\n",
        "\n",
        "    \n",
        "    training_acc_ = metrics.accuracy_score(training_targets[\"sentiment\"], training_probabilities_acc.round())\n",
        "    validation_acc_ = metrics.accuracy_score(validation_targets[\"sentiment\"], validation_probabilities_acc.round())\n",
        "    \n",
        "    # Take a break and compute predictions.    \n",
        "    training_probabilities = estimator.predict(input_fn=predict_training_input_fn)\n",
        "    training_probabilities = np.array([item['probabilities'] for item in training_probabilities])\n",
        "    \n",
        "    validation_probabilities = estimator.predict(input_fn=predict_validation_input_fn)\n",
        "    validation_probabilities = np.array([item['probabilities'] for item in validation_probabilities])\n",
        "    \n",
        "    training_log_loss = metrics.log_loss(training_targets, training_probabilities)\n",
        "    validation_log_loss = metrics.log_loss(validation_targets, validation_probabilities)\n",
        "    # Occasionally print the current loss.\n",
        "    print(\"  period %02d : %0.2f\" % (period, training_log_loss))\n",
        "    # Add the loss metrics from this period to our list.\n",
        "    training_log_losses.append(training_log_loss)\n",
        "    validation_log_losses.append(validation_log_loss)\n",
        "    \n",
        "    training_acc.append(training_acc_)\n",
        "    validation_acc.append(validation_acc_)\n",
        "    \n",
        "  print(\"Model training finished.\")\n",
        "  \n",
        "  # Output a graph of loss metrics over periods.\n",
        "  plt.ylabel(\"LogLoss\")\n",
        "  plt.xlabel(\"Periods\")\n",
        "  plt.title(\"LogLoss vs. Periods (250-dimension Embeddings)\")\n",
        "  plt.tight_layout()\n",
        "  plt.plot(training_log_losses, label=\"training\")\n",
        "  plt.plot(validation_log_losses, label=\"validation\")\n",
        "  plt.legend()\n",
        "  plt.show()\n",
        "  \n",
        "  # Output a graph of loss metrics over periods.\n",
        "  plt.ylabel(\"Accuracy\")\n",
        "  plt.xlabel(\"Periods\")\n",
        "  plt.title(\"Accuracy vs. Periods (250-dimension Embeddings)\")\n",
        "  plt.tight_layout()\n",
        "  plt.plot(training_acc, label=\"training\")\n",
        "  plt.plot(validation_acc, label=\"validation\")\n",
        "  plt.legend()\n",
        "  plt.show()\n",
        "  \n",
        "  validation_probabilities_f = estimator.predict(input_fn=predict_test_input_fn)\n",
        "  # Get just the probabilities for the positive class.\n",
        "  validation_probabilities_f = np.array([item['probabilities'][1] for item in validation_probabilities_f])\n",
        "\n",
        "  false_positive_rate, true_positive_rate, thresholds = metrics.roc_curve(\n",
        "      test_df[\"sentiment\"], validation_probabilities_f)\n",
        "  plt.plot(false_positive_rate, true_positive_rate, label=\"our model\")\n",
        "  plt.plot([0, 1], [0, 1], label=\"random classifier\")\n",
        "  _ = plt.legend(loc=0)\n",
        "  plt.title(\"ROC curve (250-dimension Embeddings)\")\n",
        "  plt.show()\n",
        "  \n",
        "  train_eval_result = estimator.evaluate(input_fn=predict_train_input_fn)\n",
        "  test_eval_result = estimator.evaluate(input_fn=predict_test_input_fn)\n",
        "  \n",
        "  print(f\"Training set accuracy: {train_eval_result['accuracy']*100:.1f} %\")\n",
        "  print(f\"Test set accuracy: {test_eval_result['accuracy']*100:.1f} %\")\n",
        "\n",
        "  return estimator"
      ],
      "execution_count": 0,
      "outputs": []
    },
    {
      "cell_type": "code",
      "metadata": {
        "id": "gGAKVWovMSM2",
        "colab_type": "code",
        "colab": {}
      },
      "source": [
        "# Choose the first 12000 (out of 17000) examples for training.\n",
        "training_examples = train_df.head(20000)\n",
        "training_targets = preprocess_targets(train_df.head(20000))\n",
        "\n",
        "# Choose the last 5000 (out of 17000) examples for validation.\n",
        "validation_examples = train_df.tail(5000)\n",
        "validation_targets = preprocess_targets(train_df.tail(5000))"
      ],
      "execution_count": 0,
      "outputs": []
    },
    {
      "cell_type": "code",
      "metadata": {
        "id": "hmKXCTX1MGS0",
        "colab_type": "code",
        "outputId": "8e301366-d9f5-46f5-9967-885fdf6cbc50",
        "colab": {
          "base_uri": "https://localhost:8080/",
          "height": 1096
        }
      },
      "source": [
        "DNN_classifie = train_DNN_classifier_model(\n",
        "    learning_rate=0.003,\n",
        "    steps=1000,\n",
        "    batch_size=32,\n",
        "    training_examples=training_examples,\n",
        "    training_targets=training_targets,\n",
        "    validation_examples=validation_examples,\n",
        "    validation_targets=validation_targets)"
      ],
      "execution_count": 0,
      "outputs": [
        {
          "output_type": "stream",
          "text": [
            "Training model...\n",
            "LogLoss (on training data):\n",
            "  period 00 : 0.61\n",
            "  period 01 : 0.60\n",
            "  period 02 : 0.58\n",
            "  period 03 : 0.56\n",
            "  period 04 : 0.55\n",
            "  period 05 : 0.54\n",
            "  period 06 : 0.56\n",
            "  period 07 : 0.53\n",
            "  period 08 : 0.52\n",
            "  period 09 : 0.52\n",
            "Model training finished.\n"
          ],
          "name": "stdout"
        },
        {
          "output_type": "display_data",
          "data": {
            "image/png": "[encoded data removed]",
            "text/plain": [
              "<Figure size 432x288 with 1 Axes>"
            ]
          },
          "metadata": {
            "tags": []
          }
        },
        {
          "output_type": "display_data",
          "data": {
            "image/png": "[encoded data removed]",
            "text/plain": [
              "<Figure size 432x288 with 1 Axes>"
            ]
          },
          "metadata": {
            "tags": []
          }
        },
        {
          "output_type": "display_data",
          "data": {
            "image/png": "[encoded data removed]",
            "text/plain": [
              "<Figure size 432x288 with 1 Axes>"
            ]
          },
          "metadata": {
            "tags": []
          }
        },
        {
          "output_type": "stream",
          "text": [
            "Training set accuracy: 75.5 %\n",
            "Test set accuracy: 74.6 %\n"
          ],
          "name": "stdout"
        }
      ]
    },
    {
      "cell_type": "markdown",
      "metadata": {
        "id": "qOHGFcha95KV",
        "colab_type": "text"
      },
      "source": [
        "## My Aproach"
      ]
    },
    {
      "cell_type": "code",
      "metadata": {
        "cellView": "code",
        "colab_type": "code",
        "id": "Nn0FgGZN_t9Y",
        "outputId": "fd48c18f-e921-4ba9-cb07-3352ed7783b7",
        "colab": {
          "base_uri": "https://localhost:8080/",
          "height": 306
        }
      },
      "source": [
        "# Install TF-Hub.\n",
        "!pip install tensorflow-hub\n",
        "!pip install seaborn"
      ],
      "execution_count": 2,
      "outputs": [
        {
          "output_type": "stream",
          "text": [
            "Requirement already satisfied: tensorflow-hub in /usr/local/lib/python3.6/dist-packages (0.4.0)\n",
            "Requirement already satisfied: protobuf>=3.4.0 in /usr/local/lib/python3.6/dist-packages (from tensorflow-hub) (3.7.1)\n",
            "Requirement already satisfied: numpy>=1.12.0 in /usr/local/lib/python3.6/dist-packages (from tensorflow-hub) (1.16.2)\n",
            "Requirement already satisfied: six>=1.10.0 in /usr/local/lib/python3.6/dist-packages (from tensorflow-hub) (1.12.0)\n",
            "Requirement already satisfied: setuptools in /usr/local/lib/python3.6/dist-packages (from protobuf>=3.4.0->tensorflow-hub) (41.0.1)\n",
            "Requirement already satisfied: seaborn in /usr/local/lib/python3.6/dist-packages (0.9.0)\n",
            "Requirement already satisfied: scipy>=0.14.0 in /usr/local/lib/python3.6/dist-packages (from seaborn) (1.3.0)\n",
            "Requirement already satisfied: matplotlib>=1.4.3 in /usr/local/lib/python3.6/dist-packages (from seaborn) (3.0.3)\n",
            "Requirement already satisfied: numpy>=1.9.3 in /usr/local/lib/python3.6/dist-packages (from seaborn) (1.16.2)\n",
            "Requirement already satisfied: pandas>=0.15.2 in /usr/local/lib/python3.6/dist-packages (from seaborn) (0.24.2)\n",
            "Requirement already satisfied: kiwisolver>=1.0.1 in /usr/local/lib/python3.6/dist-packages (from matplotlib>=1.4.3->seaborn) (1.1.0)\n",
            "Requirement already satisfied: cycler>=0.10 in /usr/local/lib/python3.6/dist-packages (from matplotlib>=1.4.3->seaborn) (0.10.0)\n",
            "Requirement already satisfied: pyparsing!=2.0.4,!=2.1.2,!=2.1.6,>=2.0.1 in /usr/local/lib/python3.6/dist-packages (from matplotlib>=1.4.3->seaborn) (2.4.0)\n",
            "Requirement already satisfied: python-dateutil>=2.1 in /usr/local/lib/python3.6/dist-packages (from matplotlib>=1.4.3->seaborn) (2.5.3)\n",
            "Requirement already satisfied: pytz>=2011k in /usr/local/lib/python3.6/dist-packages (from pandas>=0.15.2->seaborn) (2018.9)\n",
            "Requirement already satisfied: setuptools in /usr/local/lib/python3.6/dist-packages (from kiwisolver>=1.0.1->matplotlib>=1.4.3->seaborn) (41.0.1)\n",
            "Requirement already satisfied: six in /usr/local/lib/python3.6/dist-packages (from cycler>=0.10->matplotlib>=1.4.3->seaborn) (1.12.0)\n"
          ],
          "name": "stdout"
        }
      ]
    },
    {
      "cell_type": "markdown",
      "metadata": {
        "colab_type": "text",
        "id": "nhrYOKaf_t9g"
      },
      "source": [
        "### Getting started\n",
        "\n",
        "#### Data\n",
        "We will try to solve the [Large Movie Review Dataset v1.0](http://ai.stanford.edu/~amaas/data/sentiment/) task from Mass et al. The dataset consists of IMDB movie reviews labeled by positivity from 1 to 10. The task is to label the reviews as **negative** or **positive**."
      ]
    },
    {
      "cell_type": "code",
      "metadata": {
        "cellView": "both",
        "colab_type": "code",
        "id": "lVnmgygj_t9i",
        "outputId": "3f597038-ff42-4204-9c99-a5a51e0cbf4b",
        "colab": {
          "base_uri": "https://localhost:8080/",
          "height": 51
        }
      },
      "source": [
        "# Load all files from a directory in a DataFrame.\n",
        "def load_directory_data(directory):\n",
        "  data = {}\n",
        "  data[\"sentence\"] = []\n",
        "#   data[\"sentiment\"] = []\n",
        "  for file_path in os.listdir(directory):\n",
        "    with tf.gfile.GFile(os.path.join(directory, file_path), \"r\") as f:\n",
        "      data[\"sentence\"].append(f.read())\n",
        "#       data[\"sentiment\"].append(re.match(\"\\d+_(\\d+)\\.txt\", file_path).group(1))#; ipdb.set_trace()\n",
        "  return pd.DataFrame.from_dict(data)\n",
        "\n",
        "# Merge positive and negative examples, add a polarity column and shuffle.\n",
        "def load_dataset(directory):\n",
        "  pos_df = load_directory_data(os.path.join(directory, \"pos\"))\n",
        "  neg_df = load_directory_data(os.path.join(directory, \"neg\"))\n",
        "  pos_df[\"sentiment\"] = 1\n",
        "  neg_df[\"sentiment\"] = 0\n",
        "  return pd.concat([pos_df, neg_df]).sample(frac=1).reset_index(drop=True)\n",
        "\n",
        "# Download and process the dataset files.\n",
        "def download_and_load_datasets(force_download=False):\n",
        "  dataset = tf.keras.utils.get_file(\n",
        "      fname=\"aclImdb.tar.gz\", \n",
        "      origin=\"http://ai.stanford.edu/~amaas/data/sentiment/aclImdb_v1.tar.gz\", \n",
        "      extract=True)\n",
        "  \n",
        "  train_df = load_dataset(os.path.join(os.path.dirname(dataset), \n",
        "                                       \"aclImdb\", \"train\"))\n",
        "  test_df = load_dataset(os.path.join(os.path.dirname(dataset), \n",
        "                                      \"aclImdb\", \"test\"))\n",
        "  \n",
        "  return train_df, test_df\n",
        "\n",
        "# Reduce logging output.\n",
        "tf.logging.set_verbosity(tf.logging.ERROR)\n",
        "\n",
        "train_df, test_df = download_and_load_datasets()"
      ],
      "execution_count": 3,
      "outputs": [
        {
          "output_type": "stream",
          "text": [
            "Downloading data from http://ai.stanford.edu/~amaas/data/sentiment/aclImdb_v1.tar.gz\n",
            "84131840/84125825 [==============================] - 2s 0us/step\n"
          ],
          "name": "stdout"
        }
      ]
    },
    {
      "cell_type": "code",
      "metadata": {
        "id": "CR4TW4SzGerx",
        "colab_type": "code",
        "outputId": "9bdaa7c3-bc26-4b80-dfbe-c466d518143d",
        "colab": {
          "base_uri": "https://localhost:8080/",
          "height": 1036
        }
      },
      "source": [
        "# Double-check that we've done the right thing.\n",
        "print(\"Training examples summary:\")\n",
        "display.display(train_df.describe())\n",
        "display.display(train_df.head())\n",
        "print(\"\\n#############################\\n\")\n",
        "print(\"Validation examples summary:\")\n",
        "display.display(test_df.describe())\n",
        "display.display(test_df.head())"
      ],
      "execution_count": 11,
      "outputs": [
        {
          "output_type": "stream",
          "text": [
            "Training examples summary:\n"
          ],
          "name": "stdout"
        },
        {
          "output_type": "display_data",
          "data": {
            "text/html": [
              "<div>\n",
              "<style scoped>\n",
              "    .dataframe tbody tr th:only-of-type {\n",
              "        vertical-align: middle;\n",
              "    }\n",
              "\n",
              "    .dataframe tbody tr th {\n",
              "        vertical-align: top;\n",
              "    }\n",
              "\n",
              "    .dataframe thead th {\n",
              "        text-align: right;\n",
              "    }\n",
              "</style>\n",
              "<table border=\"1\" class=\"dataframe\">\n",
              "  <thead>\n",
              "    <tr style=\"text-align: right;\">\n",
              "      <th></th>\n",
              "      <th>sentiment</th>\n",
              "    </tr>\n",
              "  </thead>\n",
              "  <tbody>\n",
              "    <tr>\n",
              "      <th>count</th>\n",
              "      <td>25000.00000</td>\n",
              "    </tr>\n",
              "    <tr>\n",
              "      <th>mean</th>\n",
              "      <td>0.50000</td>\n",
              "    </tr>\n",
              "    <tr>\n",
              "      <th>std</th>\n",
              "      <td>0.50001</td>\n",
              "    </tr>\n",
              "    <tr>\n",
              "      <th>min</th>\n",
              "      <td>0.00000</td>\n",
              "    </tr>\n",
              "    <tr>\n",
              "      <th>25%</th>\n",
              "      <td>0.00000</td>\n",
              "    </tr>\n",
              "    <tr>\n",
              "      <th>50%</th>\n",
              "      <td>0.50000</td>\n",
              "    </tr>\n",
              "    <tr>\n",
              "      <th>75%</th>\n",
              "      <td>1.00000</td>\n",
              "    </tr>\n",
              "    <tr>\n",
              "      <th>max</th>\n",
              "      <td>1.00000</td>\n",
              "    </tr>\n",
              "  </tbody>\n",
              "</table>\n",
              "</div>"
            ],
            "text/plain": [
              "         sentiment\n",
              "count  25000.00000\n",
              "mean       0.50000\n",
              "std        0.50001\n",
              "min        0.00000\n",
              "25%        0.00000\n",
              "50%        0.50000\n",
              "75%        1.00000\n",
              "max        1.00000"
            ]
          },
          "metadata": {
            "tags": []
          }
        },
        {
          "output_type": "display_data",
          "data": {
            "text/html": [
              "<div>\n",
              "<style scoped>\n",
              "    .dataframe tbody tr th:only-of-type {\n",
              "        vertical-align: middle;\n",
              "    }\n",
              "\n",
              "    .dataframe tbody tr th {\n",
              "        vertical-align: top;\n",
              "    }\n",
              "\n",
              "    .dataframe thead th {\n",
              "        text-align: right;\n",
              "    }\n",
              "</style>\n",
              "<table border=\"1\" class=\"dataframe\">\n",
              "  <thead>\n",
              "    <tr style=\"text-align: right;\">\n",
              "      <th></th>\n",
              "      <th>sentence</th>\n",
              "      <th>sentiment</th>\n",
              "    </tr>\n",
              "  </thead>\n",
              "  <tbody>\n",
              "    <tr>\n",
              "      <th>0</th>\n",
              "      <td>Nathan Detroit (Frank Sinatra) is the manager ...</td>\n",
              "      <td>1</td>\n",
              "    </tr>\n",
              "    <tr>\n",
              "      <th>1</th>\n",
              "      <td>This has to be creepiest, most twisted holiday...</td>\n",
              "      <td>0</td>\n",
              "    </tr>\n",
              "    <tr>\n",
              "      <th>2</th>\n",
              "      <td>How cynical are the writers, to pander so. I m...</td>\n",
              "      <td>0</td>\n",
              "    </tr>\n",
              "    <tr>\n",
              "      <th>3</th>\n",
              "      <td>I just blew four dollars renting this movie! W...</td>\n",
              "      <td>0</td>\n",
              "    </tr>\n",
              "    <tr>\n",
              "      <th>4</th>\n",
              "      <td>EDMUND LOWE (who reminds me somewhat of Warren...</td>\n",
              "      <td>1</td>\n",
              "    </tr>\n",
              "  </tbody>\n",
              "</table>\n",
              "</div>"
            ],
            "text/plain": [
              "                                            sentence  sentiment\n",
              "0  Nathan Detroit (Frank Sinatra) is the manager ...          1\n",
              "1  This has to be creepiest, most twisted holiday...          0\n",
              "2  How cynical are the writers, to pander so. I m...          0\n",
              "3  I just blew four dollars renting this movie! W...          0\n",
              "4  EDMUND LOWE (who reminds me somewhat of Warren...          1"
            ]
          },
          "metadata": {
            "tags": []
          }
        },
        {
          "output_type": "stream",
          "text": [
            "\n",
            "#############################\n",
            "\n",
            "Validation examples summary:\n"
          ],
          "name": "stdout"
        },
        {
          "output_type": "display_data",
          "data": {
            "text/html": [
              "<div>\n",
              "<style scoped>\n",
              "    .dataframe tbody tr th:only-of-type {\n",
              "        vertical-align: middle;\n",
              "    }\n",
              "\n",
              "    .dataframe tbody tr th {\n",
              "        vertical-align: top;\n",
              "    }\n",
              "\n",
              "    .dataframe thead th {\n",
              "        text-align: right;\n",
              "    }\n",
              "</style>\n",
              "<table border=\"1\" class=\"dataframe\">\n",
              "  <thead>\n",
              "    <tr style=\"text-align: right;\">\n",
              "      <th></th>\n",
              "      <th>sentiment</th>\n",
              "    </tr>\n",
              "  </thead>\n",
              "  <tbody>\n",
              "    <tr>\n",
              "      <th>count</th>\n",
              "      <td>25000.00000</td>\n",
              "    </tr>\n",
              "    <tr>\n",
              "      <th>mean</th>\n",
              "      <td>0.50000</td>\n",
              "    </tr>\n",
              "    <tr>\n",
              "      <th>std</th>\n",
              "      <td>0.50001</td>\n",
              "    </tr>\n",
              "    <tr>\n",
              "      <th>min</th>\n",
              "      <td>0.00000</td>\n",
              "    </tr>\n",
              "    <tr>\n",
              "      <th>25%</th>\n",
              "      <td>0.00000</td>\n",
              "    </tr>\n",
              "    <tr>\n",
              "      <th>50%</th>\n",
              "      <td>0.50000</td>\n",
              "    </tr>\n",
              "    <tr>\n",
              "      <th>75%</th>\n",
              "      <td>1.00000</td>\n",
              "    </tr>\n",
              "    <tr>\n",
              "      <th>max</th>\n",
              "      <td>1.00000</td>\n",
              "    </tr>\n",
              "  </tbody>\n",
              "</table>\n",
              "</div>"
            ],
            "text/plain": [
              "         sentiment\n",
              "count  25000.00000\n",
              "mean       0.50000\n",
              "std        0.50001\n",
              "min        0.00000\n",
              "25%        0.00000\n",
              "50%        0.50000\n",
              "75%        1.00000\n",
              "max        1.00000"
            ]
          },
          "metadata": {
            "tags": []
          }
        },
        {
          "output_type": "display_data",
          "data": {
            "text/html": [
              "<div>\n",
              "<style scoped>\n",
              "    .dataframe tbody tr th:only-of-type {\n",
              "        vertical-align: middle;\n",
              "    }\n",
              "\n",
              "    .dataframe tbody tr th {\n",
              "        vertical-align: top;\n",
              "    }\n",
              "\n",
              "    .dataframe thead th {\n",
              "        text-align: right;\n",
              "    }\n",
              "</style>\n",
              "<table border=\"1\" class=\"dataframe\">\n",
              "  <thead>\n",
              "    <tr style=\"text-align: right;\">\n",
              "      <th></th>\n",
              "      <th>sentence</th>\n",
              "      <th>sentiment</th>\n",
              "    </tr>\n",
              "  </thead>\n",
              "  <tbody>\n",
              "    <tr>\n",
              "      <th>0</th>\n",
              "      <td>This is a awful re-make of a very good movie c...</td>\n",
              "      <td>0</td>\n",
              "    </tr>\n",
              "    <tr>\n",
              "      <th>1</th>\n",
              "      <td>Hearkening back to those \"Good Old Days\" of 19...</td>\n",
              "      <td>1</td>\n",
              "    </tr>\n",
              "    <tr>\n",
              "      <th>2</th>\n",
              "      <td>Woody Allen (who I have to confess at the outs...</td>\n",
              "      <td>0</td>\n",
              "    </tr>\n",
              "    <tr>\n",
              "      <th>3</th>\n",
              "      <td>I normally don't like romantic films, but I lo...</td>\n",
              "      <td>1</td>\n",
              "    </tr>\n",
              "    <tr>\n",
              "      <th>4</th>\n",
              "      <td>I would label this show as horrendous if it we...</td>\n",
              "      <td>0</td>\n",
              "    </tr>\n",
              "  </tbody>\n",
              "</table>\n",
              "</div>"
            ],
            "text/plain": [
              "                                            sentence  sentiment\n",
              "0  This is a awful re-make of a very good movie c...          0\n",
              "1  Hearkening back to those \"Good Old Days\" of 19...          1\n",
              "2  Woody Allen (who I have to confess at the outs...          0\n",
              "3  I normally don't like romantic films, but I lo...          1\n",
              "4  I would label this show as horrendous if it we...          0"
            ]
          },
          "metadata": {
            "tags": []
          }
        }
      ]
    },
    {
      "cell_type": "code",
      "metadata": {
        "id": "YvF5gYUGsuuz",
        "colab_type": "code",
        "colab": {}
      },
      "source": [
        "# Not really used \n",
        "def clean_doc(text_1):\n",
        "  ps = PorterStemmer()\n",
        "  text_clean = []\n",
        "#   ipdb.set_trace()\n",
        "  for text in text_1:    \n",
        "    # split into tokens by white space\n",
        "    tokens = word_tokenize(text)\n",
        "\n",
        "    # convert to lower case\n",
        "    tokens = [w.lower() for w in tokens]\n",
        "\n",
        "    # remove punctuation from each token\n",
        "    table = str.maketrans('', '', string.punctuation)\n",
        "    stripped = [w.translate(table) for w in tokens]\n",
        "\n",
        "    # remove remaining tokens that are not alphabetic\n",
        "    tokens = [word for word in stripped if word.isalpha()]\n",
        "\n",
        "    # filter out stop words\n",
        "    stop_words = set(stopwords.words('english'))\n",
        "    tokens = [w for w in tokens if not w in stop_words]\n",
        "    \n",
        "    # filter out short tokens\n",
        "    tokens = [word for word in tokens if len(word) > 2]\n",
        "    \n",
        "    tokens = [ps.stem(w) for w in tokens]\n",
        "    \n",
        "    text_clean.append(tokens)\n",
        "    \n",
        "  return text_clean"
      ],
      "execution_count": 0,
      "outputs": []
    },
    {
      "cell_type": "code",
      "metadata": {
        "id": "75sjYAm5XY3l",
        "colab_type": "code",
        "colab": {}
      },
      "source": [
        "t=[\"him and I mamana\", \"Maman l'j#24 how are you\", \"marie\", \"python\",\"pythoner\",\"pythoning\",\"pythoned\",\"pythonly\"]"
      ],
      "execution_count": 0,
      "outputs": []
    },
    {
      "cell_type": "code",
      "metadata": {
        "id": "P2cPGr-5XliN",
        "colab_type": "code",
        "outputId": "ce6b51a0-e533-4133-b2f8-8c51f9de69d2",
        "colab": {
          "base_uri": "https://localhost:8080/",
          "height": 153
        }
      },
      "source": [
        "clean_doc(t)"
      ],
      "execution_count": 0,
      "outputs": [
        {
          "output_type": "execute_result",
          "data": {
            "text/plain": [
              "[['mamana'],\n",
              " ['maman'],\n",
              " ['mari'],\n",
              " ['python'],\n",
              " ['python'],\n",
              " ['python'],\n",
              " ['python'],\n",
              " ['pythonli']]"
            ]
          },
          "metadata": {
            "tags": []
          },
          "execution_count": 85
        }
      ]
    },
    {
      "cell_type": "code",
      "metadata": {
        "colab_type": "code",
        "id": "cNCNhp5fxqcM",
        "outputId": "d55b4d37-7e55-4dea-e691-34eb524bfed4",
        "colab": {
          "base_uri": "https://localhost:8080/",
          "height": 34
        }
      },
      "source": [
        "texts_tr = train_df.sentence\n",
        "texts_tst = test_df.sentence\n",
        "\n",
        "# texts_tr = clean_doc(train_df.sentence)\n",
        "# texts_tst = clean_doc(test_df.sentence)\n",
        "\n",
        "# Training 92916\n",
        "# Considers only the top \n",
        "# 20,000 words in the dataset\n",
        "max_words = 20000\n",
        "\n",
        "tokenizer_tr = Tokenizer(num_words=max_words)\n",
        "# tokenizer_tr = Tokenizer()\n",
        "tokenizer_tr.fit_on_texts(texts_tr)\n",
        "data_tr = tokenizer_tr.texts_to_sequences(texts_tr)\n",
        "tfidf_train = tokenizer_tr.texts_to_matrix(texts_tr, mode='tfidf')\n",
        "# bin_tr = tokenizer_tr.texts_to_matrix(texts_tr, mode='binary')\n",
        "\n",
        "\n",
        "# Testing \n",
        "tokenizer_tst = Tokenizer(num_words=max_words)\n",
        "# tokenizer_tst = Tokenizer()\n",
        "tokenizer_tst.fit_on_texts(texts_tst)\n",
        "data_tst = tokenizer_tst.texts_to_sequences(texts_tst)\n",
        "tfidf_tst = tokenizer_tr.texts_to_matrix(texts_tst, mode='tfidf')\n",
        "# bin_tst = tokenizer_tr.texts_to_matrix(texts_tst, mode='binary')\n",
        "\n",
        "\n",
        "word_index = tokenizer_tr.word_index\n",
        "print('Found %s unique tokens.' % len(set(word_index))) #88582 "
      ],
      "execution_count": 4,
      "outputs": [
        {
          "output_type": "stream",
          "text": [
            "Found 88582 unique tokens.\n"
          ],
          "name": "stdout"
        }
      ]
    },
    {
      "cell_type": "code",
      "metadata": {
        "id": "X_kolSmNNBOP",
        "colab_type": "code",
        "colab": {}
      },
      "source": [
        "%%time\n",
        "bin_tr.shape"
      ],
      "execution_count": 0,
      "outputs": []
    },
    {
      "cell_type": "code",
      "metadata": {
        "id": "zw2b76B2KIRJ",
        "colab_type": "code",
        "outputId": "5e6bffd0-df86-404e-db01-e304fdb26730",
        "colab": {
          "base_uri": "https://localhost:8080/",
          "height": 34
        }
      },
      "source": [
        "len(data_tr)"
      ],
      "execution_count": 0,
      "outputs": [
        {
          "output_type": "execute_result",
          "data": {
            "text/plain": [
              "25000"
            ]
          },
          "metadata": {
            "tags": []
          },
          "execution_count": 6
        }
      ]
    },
    {
      "cell_type": "code",
      "metadata": {
        "id": "vWuCKxo0Fj0Q",
        "colab_type": "code",
        "outputId": "b6b4b5d3-d334-4532-804b-1802e98fb9f7",
        "colab": {
          "base_uri": "https://localhost:8080/",
          "height": 34
        }
      },
      "source": [
        "tfidf_train.shape"
      ],
      "execution_count": 0,
      "outputs": [
        {
          "output_type": "execute_result",
          "data": {
            "text/plain": [
              "(25000, 20000)"
            ]
          },
          "metadata": {
            "tags": []
          },
          "execution_count": 4
        }
      ]
    },
    {
      "cell_type": "code",
      "metadata": {
        "id": "fipe45kl-BUj",
        "colab_type": "code",
        "outputId": "b9dfb8ba-af6f-4a13-de72-6344ce0a55a0",
        "colab": {
          "base_uri": "https://localhost:8080/",
          "height": 34
        }
      },
      "source": [
        "tfidf_tst.shape"
      ],
      "execution_count": 0,
      "outputs": [
        {
          "output_type": "execute_result",
          "data": {
            "text/plain": [
              "(25000, 20000)"
            ]
          },
          "metadata": {
            "tags": []
          },
          "execution_count": 5
        }
      ]
    },
    {
      "cell_type": "code",
      "metadata": {
        "id": "GoVdUPZxJ8z6",
        "colab_type": "code",
        "colab": {}
      },
      "source": [
        "# max_len = 500 # depending on the size of the testing data 2332\n",
        "\n",
        "# Cuts off reviews after 100 words\n",
        "# max_len = 1239\n",
        "max_len = 2500\n",
        "\n",
        "# Train \n",
        "x_train = pad_sequences(data_tr, maxlen = max_len)\n",
        "# x_train = pad_sequences(data_tr)\n",
        "y_train = np.asarray(train_df.sentiment)\n",
        "\n",
        "# Suffle data\n",
        "indices = np.arange(x_train.shape[0])\n",
        "np.random.shuffle(indices)\n",
        "x_train = x_train[indices]\n",
        "y_train = y_train[indices]\n",
        "\n",
        "\n",
        "# Testing \n",
        "x_test = pad_sequences(data_tst, maxlen = max_len)\n",
        "# x_test = pad_sequences(data_tst)\n",
        "\n",
        "y_test = np.asarray(test_df.sentiment)\n",
        "\n",
        "# indices = np.arange(x_test.shape[0])\n",
        "# np.random.shuffle(indices)\n",
        "# x_test = x_test[indices]\n",
        "# y_test = y_test[indices]\n",
        "\n",
        "\n",
        "# y = np.asarray(test_df.polarity)\n",
        "\n",
        "# x_test, x_val, y_test, y_val = train_test_split(X, y, test_size=0.2, random_state=42)"
      ],
      "execution_count": 0,
      "outputs": []
    },
    {
      "cell_type": "code",
      "metadata": {
        "colab_type": "code",
        "outputId": "658b58a3-942c-415c-cb67-638221acb7d2",
        "id": "M1X-p5upxqcw",
        "colab": {
          "base_uri": "https://localhost:8080/",
          "height": 34
        }
      },
      "source": [
        "x_train.shape"
      ],
      "execution_count": 0,
      "outputs": [
        {
          "output_type": "execute_result",
          "data": {
            "text/plain": [
              "(25000, 2500)"
            ]
          },
          "metadata": {
            "tags": []
          },
          "execution_count": 24
        }
      ]
    },
    {
      "cell_type": "code",
      "metadata": {
        "colab_type": "code",
        "outputId": "337e6643-6cda-437f-a7bc-4e2476068626",
        "id": "9U_7lnbkxqdH",
        "colab": {
          "base_uri": "https://localhost:8080/",
          "height": 34
        }
      },
      "source": [
        "x_test.shape"
      ],
      "execution_count": 0,
      "outputs": [
        {
          "output_type": "execute_result",
          "data": {
            "text/plain": [
              "(25000, 2500)"
            ]
          },
          "metadata": {
            "tags": []
          },
          "execution_count": 63
        }
      ]
    },
    {
      "cell_type": "code",
      "metadata": {
        "colab_type": "code",
        "id": "jJ8bDpsoxqdZ",
        "colab": {}
      },
      "source": [
        "# bin_tr.shape"
      ],
      "execution_count": 0,
      "outputs": []
    },
    {
      "cell_type": "code",
      "metadata": {
        "id": "ZRJ1pvL4RDus",
        "colab_type": "code",
        "outputId": "c602495d-ca91-456f-f08e-8a3ed0900882",
        "colab": {
          "base_uri": "https://localhost:8080/",
          "height": 34
        }
      },
      "source": [
        "bin_tst.shape"
      ],
      "execution_count": 0,
      "outputs": [
        {
          "output_type": "execute_result",
          "data": {
            "text/plain": [
              "(25000, 20000)"
            ]
          },
          "metadata": {
            "tags": []
          },
          "execution_count": 12
        }
      ]
    },
    {
      "cell_type": "code",
      "metadata": {
        "colab_type": "code",
        "outputId": "5efc0c93-7ace-4bee-ac76-4c66fba378f9",
        "id": "71Yh72rrxqdn",
        "colab": {
          "base_uri": "https://localhost:8080/",
          "height": 34
        }
      },
      "source": [
        "(np.unique(y_test[:12500]), np.unique(y_train[:12500]))"
      ],
      "execution_count": 0,
      "outputs": [
        {
          "output_type": "execute_result",
          "data": {
            "text/plain": [
              "(array([0, 1]), array([0, 1]))"
            ]
          },
          "metadata": {
            "tags": []
          },
          "execution_count": 77
        }
      ]
    },
    {
      "cell_type": "code",
      "metadata": {
        "colab_type": "code",
        "id": "1CUbo96Gxqdy",
        "outputId": "43ef9499-0689-4ff7-9541-1c8119e5e9f9",
        "colab": {
          "base_uri": "https://localhost:8080/",
          "height": 34
        }
      },
      "source": [
        "len(word_index)"
      ],
      "execution_count": 0,
      "outputs": [
        {
          "output_type": "execute_result",
          "data": {
            "text/plain": [
              "88582"
            ]
          },
          "metadata": {
            "tags": []
          },
          "execution_count": 56
        }
      ]
    },
    {
      "cell_type": "code",
      "metadata": {
        "id": "9BLh8m8suEn_",
        "colab_type": "code",
        "colab": {}
      },
      "source": [
        "word_index"
      ],
      "execution_count": 0,
      "outputs": []
    },
    {
      "cell_type": "code",
      "metadata": {
        "colab_type": "code",
        "id": "Ov_cgUdIxqd7",
        "colab": {}
      },
      "source": [
        "embedding_dim = gensim_w2v['hello'].shape[0]\n",
        "\n",
        "\n",
        "number_invoc = 0\n",
        "number_outvoc  = 0\n",
        "oov = {}\n",
        "embedding_matrix = np.zeros((max_words, embedding_dim))\n",
        "\n",
        "for word, i in word_index.items():\n",
        "    if i < max_words:\n",
        "#         ipdb.set_trace()\n",
        "        if word not in gensim_w2v.vocab:\n",
        "            number_outvoc+=1\n",
        "            oov[i]=word\n",
        "            pass;\n",
        "        else :\n",
        "            number_invoc+=1\n",
        "            embedding_vector = gensim_w2v[word]\n",
        "            embedding_matrix[i] = embedding_vector\n"
      ],
      "execution_count": 0,
      "outputs": []
    },
    {
      "cell_type": "code",
      "metadata": {
        "id": "QZah2uzcmFQw",
        "colab_type": "code",
        "outputId": "5a117a03-63af-45a6-c887-c3a78249d295",
        "colab": {
          "base_uri": "https://localhost:8080/",
          "height": 34
        }
      },
      "source": [
        "len(oov)"
      ],
      "execution_count": 15,
      "outputs": [
        {
          "output_type": "execute_result",
          "data": {
            "text/plain": [
              "1882"
            ]
          },
          "metadata": {
            "tags": []
          },
          "execution_count": 15
        }
      ]
    },
    {
      "cell_type": "code",
      "metadata": {
        "id": "-HjzcgL4OESz",
        "colab_type": "code",
        "outputId": "07ff097f-7838-4ea8-9f3b-42a2b504c55c",
        "colab": {
          "base_uri": "https://localhost:8080/",
          "height": 68
        }
      },
      "source": [
        "print(f\"Number in vocabulary : {number_invoc}\\nNumber out vocabulary : {number_outvoc}\\nSum : {number_invoc+number_outvoc}\")"
      ],
      "execution_count": 16,
      "outputs": [
        {
          "output_type": "stream",
          "text": [
            "Number in vocabulary : 18117\n",
            "Number out vocabulary : 1882\n",
            "Sum : 19999\n"
          ],
          "name": "stdout"
        }
      ]
    },
    {
      "cell_type": "markdown",
      "metadata": {
        "id": "-3lqU19BPBcx",
        "colab_type": "text"
      },
      "source": [
        "### Version 01 (word embeddings to sentence embeddings)"
      ]
    },
    {
      "cell_type": "code",
      "metadata": {
        "id": "tW3JqB0bKY7o",
        "colab_type": "code",
        "colab": {}
      },
      "source": [
        "x_train_ = np.zeros((x_train.shape[0], gensim_w2v['hello'].shape[0]))\n",
        "for i, x in enumerate(x_train[:,:]):\n",
        "#   ipdb.set_trace()\n",
        "  for x_ in x:\n",
        "    x_train_[i]+=embedding_matrix[x_]\n",
        "\n",
        "print(f\"Training processig finish\\n\")\n",
        "    \n",
        "x_test_ = np.zeros((x_test.shape[0], gensim_w2v['hello'].shape[0]))\n",
        "for i, x in enumerate(x_test[:,:]):\n",
        "  for x_ in x:\n",
        "    x_test_[i]+=embedding_matrix[x_]\n",
        "    \n",
        "print(f\"\\n##############################\\nTesting Processing Done\\n\")\n",
        "  \n",
        "  \n",
        "# x_val_ = np.zeros((x_val.shape[0], gensim_w2v['hello'].shape[0]))\n",
        "# for i, x in enumerate(x_val[:,:]):\n",
        "#   for x_ in x:\n",
        "#     x_val_[i]+=embedding_matrix[x_]"
      ],
      "execution_count": 0,
      "outputs": []
    },
    {
      "cell_type": "markdown",
      "metadata": {
        "colab_type": "text",
        "id": "YryHaIbCPGSj"
      },
      "source": [
        "### Version 02 (word embeddings to sentence embeddings)"
      ]
    },
    {
      "cell_type": "markdown",
      "metadata": {
        "id": "0SATubJiXfcz",
        "colab_type": "text"
      },
      "source": [
        "$$\n",
        "C B O W\\left(f_{1}, \\ldots, f_{k}\\right)=\\frac{1}{k} \\sum_{i=1}^{k} v\\left(f_{i}\\right)\n",
        "$$"
      ]
    },
    {
      "cell_type": "code",
      "metadata": {
        "colab_type": "code",
        "id": "pXZ-bF5rPGSl",
        "colab": {}
      },
      "source": [
        "x_train_ = np.zeros((x_train.shape[0], gensim_w2v['hello'].shape[0]))\n",
        "for i, x in enumerate(x_train[:,:]):\n",
        "#   ipdb.set_trace()\n",
        "  count_ = 0\n",
        "  for x_ in x:\n",
        "    count_+=1\n",
        "    x_train_[i]+=embedding_matrix[x_]\n",
        "  x_train_[i]/=count_\n",
        "  \n",
        "print(f\"Training processig finish\")\n",
        " \n",
        "x_test_ = np.zeros((x_test.shape[0], gensim_w2v['hello'].shape[0]))\n",
        "for i, x in enumerate(x_test[:,:]):\n",
        "  for x_ in x:\n",
        "    x_test_[i]+=embedding_matrix[x_]\n",
        "  x_test_[i]/=count_\n",
        "  \n",
        "print(f\"##############################\\nTesting Processing Done\\n\")\n",
        "  \n",
        "# x_val_ = np.zeros((x_val.shape[0], gensim_w2v['hello'].shape[0]))\n",
        "# for i, x in enumerate(x_val[:,:]):\n",
        "#   for x_ in x:\n",
        "#     x_val_[i]+=embedding_matrix[x_]\n",
        "#   x_val_[i]/=count_"
      ],
      "execution_count": 0,
      "outputs": []
    },
    {
      "cell_type": "code",
      "metadata": {
        "id": "L8D1yJphUDLy",
        "colab_type": "code",
        "colab": {}
      },
      "source": [
        "count_"
      ],
      "execution_count": 0,
      "outputs": []
    },
    {
      "cell_type": "code",
      "metadata": {
        "id": "K_QEMEeZy6YW",
        "colab_type": "code",
        "colab": {}
      },
      "source": [
        "indices = np.arange(x_train.shape[0])\n",
        "np.random.shuffle(indices)\n",
        "x_train = x_train[indices]\n",
        "y_train = y_train[indices]"
      ],
      "execution_count": 0,
      "outputs": []
    },
    {
      "cell_type": "markdown",
      "metadata": {
        "colab_type": "text",
        "id": "iUBb8LfJXD33"
      },
      "source": [
        "### Version 03 (word embeddings to sentence embeddings) the one used in the esssay"
      ]
    },
    {
      "cell_type": "markdown",
      "metadata": {
        "id": "jlBvxLJaXVO9",
        "colab_type": "text"
      },
      "source": [
        "$$W C B O W\\left(f_{1}, \\ldots, f_{k}\\right)=\\frac{1}{\\sum_{i=1}^{k} a_{i}} \\sum_{i=1}^{k} a_{i} v\\left(f_{i}\\right)$$"
      ]
    },
    {
      "cell_type": "code",
      "metadata": {
        "colab_type": "code",
        "id": "RiAJazkcXD34",
        "outputId": "27bb2825-daba-426c-bef7-c5ad8a0f15c3",
        "colab": {
          "base_uri": "https://localhost:8080/",
          "height": 136
        }
      },
      "source": [
        "x_train_ = np.zeros((x_train.shape[0], gensim_w2v['hello'].shape[0]))\n",
        "\n",
        "print(f\"Starting Training processing ...\")\n",
        "for i, x in enumerate(x_train[:,:]):\n",
        "#   ipdb.set_trace()\n",
        "  for x_ in x:\n",
        "    x_train_[i]+=(embedding_matrix[x_]*tfidf_train[i,x_])\n",
        "  x_train_[i]/=(np.sum(tfidf_train[i,:]))\n",
        "  \n",
        "print(f\"##############################\\nTraining processig finish\\n\")\n",
        "\n",
        "\n",
        "x_test_ = np.zeros((x_test.shape[0], gensim_w2v['hello'].shape[0]))\n",
        "\n",
        "print(f\"Starting Testing processing ...\")\n",
        "for i, x in enumerate(x_test[:,:]):\n",
        "  for x_ in x:\n",
        "    x_test_[i]+=(embedding_matrix[x_]*tfidf_tst[i,x_])\n",
        "  x_test_[i]/=(np.sum(tfidf_tst[i,:]))\n",
        "  \n",
        "print(f\"##############################\\nTesting Processing Done\")\n",
        "\n",
        "  \n",
        "# x_val_ = np.zeros((x_val.shape[0], gensim_w2v['hello'].shape[0]))\n",
        "# for i, x in enumerate(x_val[:,:]):\n",
        "#   for x_ in x:\n",
        "#     x_val_[i]+=(embedding_matrix[x_]*tfidf_train[i,x_])\n",
        "#   x_val_[i]/=(np.sum(tfidf_train[i,:]))"
      ],
      "execution_count": 17,
      "outputs": [
        {
          "output_type": "stream",
          "text": [
            "Starting Training processing ...\n",
            "##############################\n",
            "Training processig finish\n",
            "\n",
            "Starting Testing processing ...\n",
            "##############################\n",
            "Testing Processing Done\n"
          ],
          "name": "stdout"
        }
      ]
    },
    {
      "cell_type": "code",
      "metadata": {
        "colab_type": "code",
        "id": "ji8UrIirxg70",
        "outputId": "552329d4-3a5c-42ed-d2ee-651ea6273f4c",
        "colab": {
          "base_uri": "https://localhost:8080/",
          "height": 34
        }
      },
      "source": [
        "np.unique(y_train[:12500])"
      ],
      "execution_count": 0,
      "outputs": [
        {
          "output_type": "execute_result",
          "data": {
            "text/plain": [
              "array([0, 1])"
            ]
          },
          "metadata": {
            "tags": []
          },
          "execution_count": 20
        }
      ]
    },
    {
      "cell_type": "markdown",
      "metadata": {
        "colab_type": "text",
        "id": "_C4Trwp-sh_T"
      },
      "source": [
        "### Version 04 (word embeddings to sentence embeddings)"
      ]
    },
    {
      "cell_type": "markdown",
      "metadata": {
        "colab_type": "text",
        "id": "F4a-ALVGsh_T"
      },
      "source": [
        "$$\n",
        "W C B O W\\left(f_{1}, \\ldots, f_{k}\\right)=\\frac{1}{\\sqrt{\\sum_{i=1}^{k} a_{i}^2}} \\sum_{i=1}^{k} a_{i} v\\left(f_{i}\\right)\n",
        "$$"
      ]
    },
    {
      "cell_type": "code",
      "metadata": {
        "colab_type": "code",
        "id": "-FEbl40hsh_U",
        "outputId": "2f499c86-0df0-47c0-9e17-6e2a7dda2141",
        "colab": {
          "base_uri": "https://localhost:8080/",
          "height": 136
        }
      },
      "source": [
        "x_train_ = np.zeros((x_train.shape[0], gensim_w2v['hello'].shape[0]))\n",
        "\n",
        "print(f\"Starting Training processing ...\")\n",
        "for i, x in enumerate(x_train[:,:]):\n",
        "#   ipdb.set_trace()\n",
        "  for x_ in x:\n",
        "    x_train_[i]+=(embedding_matrix[x_]*tfidf_train[i,x_])\n",
        "  x_train_[i]/=(np.sqrt(np.sum([tfidf_train[i, j]**2 for j in range(tfidf_train.shape[1])])))\n",
        "  \n",
        "print(f\"##############################\\nTraining processig finish\\n\")\n",
        "  \n",
        "    \n",
        "x_test_ = np.zeros((x_test.shape[0], gensim_w2v['hello'].shape[0]))\n",
        "\n",
        "print(f\"Starting Testing processing ...\")\n",
        "for i, x in enumerate(x_test[:,:]):\n",
        "  for x_ in x:\n",
        "    x_test_[i]+=(embedding_matrix[x_]*tfidf_tst[i,x_])\n",
        "  x_test_[i]/=(np.sqrt(np.sum([tfidf_tst[i, j]**2 for j in range(tfidf_tst.shape[1])])))\n",
        "\n",
        "print(f\"##############################\\nTesting Processing Done\")\n",
        "\n",
        "  \n",
        "# x_val_ = np.zeros((x_val.shape[0], gensim_w2v['hello'].shape[0]))\n",
        "# for i, x in enumerate(x_val[:,:]):\n",
        "#   for x_ in x:\n",
        "#     x_val_[i]+=(embedding_matrix[x_]*tfidf_train[i,x_])\n",
        "#   x_val_[i]/=(np.sum(tfidf_train[i,:]))"
      ],
      "execution_count": 0,
      "outputs": [
        {
          "output_type": "stream",
          "text": [
            "Starting Training processing ...\n",
            "##############################\n",
            "Training processig finish\n",
            "\n",
            "Starting Testing processing ...\n",
            "##############################\n",
            "Testing Processing Done\n"
          ],
          "name": "stdout"
        }
      ]
    },
    {
      "cell_type": "markdown",
      "metadata": {
        "id": "0zEJeyB8_fEW",
        "colab_type": "text"
      },
      "source": [
        "## Model "
      ]
    },
    {
      "cell_type": "code",
      "metadata": {
        "id": "mMowoATM0cGx",
        "colab_type": "code",
        "outputId": "caab401b-48c3-49ac-fbaa-e59476bd6adf",
        "colab": {
          "base_uri": "https://localhost:8080/",
          "height": 34357
        }
      },
      "source": [
        "%%time\n",
        "\n",
        "model = tf.keras.Sequential()\n",
        "# model.add(Embedding(max_words, embedding_dim, input_length=maxlen))\n",
        "# model.add(tf.keras.layers.Embedding(max_words, \n",
        "#                                     embedding_dim, \n",
        "#                                     input_length=x_train.shape[1],\n",
        "#                                     embeddings_initializer=tf.keras.initializers.Constant(\n",
        "#                                         embedding_matrix),\n",
        "#                                     trainable = False    \n",
        "#                                    ))\n",
        "# model.add(tf.keras.layers.Flatten())\n",
        "model.add(tf.keras.layers.Dense(512, input_shape=(x_train_.shape[1], ), activation='relu'))\n",
        "model.add(tf.keras.layers.Dropout(0.5))\n",
        "model.add(tf.keras.layers.Dense(512, activation='relu'))\n",
        "model.add(tf.keras.layers.Dense(512, activation='relu'))\n",
        "model.add(tf.keras.layers.Dense(1, activation='sigmoid'))\n",
        "model.summary()\n",
        "\n",
        "class myCallback(tf.keras.callbacks.Callback):\n",
        "  def on_epoch_end(self, epoch, logs={}):\n",
        "    if(logs.get('val_acc')>0.66):\n",
        "      print(\"\\nReached 90% val_acc so cancelling training!\")\n",
        "      self.model.stop_training = True\n",
        "      \n",
        "callbacks = myCallback()\n",
        "\n",
        "monitor = tf.keras.callbacks.EarlyStopping(monitor='val_loss', min_delta=1e-3, patience=5, verbose=1, mode='auto')\n",
        "\n",
        "model.compile(loss='binary_crossentropy', optimizer=tf.keras.optimizers.Adamax(0.003), metrics=['accuracy'])\n",
        "\n",
        "# fit network\n",
        "model.fit(x_train_, y_train, epochs=1000, \n",
        "          batch_size=64, verbose=2, validation_split=0.2)#, \n",
        "#           validation_split=0.01, callbacks=[callbacks])"
      ],
      "execution_count": 18,
      "outputs": [
        {
          "output_type": "stream",
          "text": [
            "_________________________________________________________________\n",
            "Layer (type)                 Output Shape              Param #   \n",
            "=================================================================\n",
            "dense (Dense)                (None, 512)               154112    \n",
            "_________________________________________________________________\n",
            "dropout (Dropout)            (None, 512)               0         \n",
            "_________________________________________________________________\n",
            "dense_1 (Dense)              (None, 512)               262656    \n",
            "_________________________________________________________________\n",
            "dense_2 (Dense)              (None, 512)               262656    \n",
            "_________________________________________________________________\n",
            "dense_3 (Dense)              (None, 1)                 513       \n",
            "=================================================================\n",
            "Total params: 679,937\n",
            "Trainable params: 679,937\n",
            "Non-trainable params: 0\n",
            "_________________________________________________________________\n",
            "Train on 20000 samples, validate on 5000 samples\n",
            "Epoch 1/1000\n",
            " - 2s - loss: 0.6920 - acc: 0.5225 - val_loss: 0.6870 - val_acc: 0.5398\n",
            "Epoch 2/1000\n",
            " - 1s - loss: 0.6880 - acc: 0.5383 - val_loss: 0.6813 - val_acc: 0.5668\n",
            "Epoch 3/1000\n",
            " - 1s - loss: 0.6820 - acc: 0.5630 - val_loss: 0.6915 - val_acc: 0.5162\n",
            "Epoch 4/1000\n",
            " - 1s - loss: 0.6797 - acc: 0.5676 - val_loss: 0.6700 - val_acc: 0.5816\n",
            "Epoch 5/1000\n",
            " - 1s - loss: 0.6753 - acc: 0.5779 - val_loss: 0.6663 - val_acc: 0.5922\n",
            "Epoch 6/1000\n",
            " - 1s - loss: 0.6739 - acc: 0.5801 - val_loss: 0.6619 - val_acc: 0.6030\n",
            "Epoch 7/1000\n",
            " - 1s - loss: 0.6699 - acc: 0.5899 - val_loss: 0.6597 - val_acc: 0.6078\n",
            "Epoch 8/1000\n",
            " - 1s - loss: 0.6688 - acc: 0.5903 - val_loss: 0.6595 - val_acc: 0.6060\n",
            "Epoch 9/1000\n",
            " - 1s - loss: 0.6664 - acc: 0.5985 - val_loss: 0.6618 - val_acc: 0.6022\n",
            "Epoch 10/1000\n",
            " - 1s - loss: 0.6672 - acc: 0.5968 - val_loss: 0.6563 - val_acc: 0.6088\n",
            "Epoch 11/1000\n",
            " - 1s - loss: 0.6644 - acc: 0.6017 - val_loss: 0.6544 - val_acc: 0.6146\n",
            "Epoch 12/1000\n",
            " - 1s - loss: 0.6624 - acc: 0.6001 - val_loss: 0.6559 - val_acc: 0.6090\n",
            "Epoch 13/1000\n",
            " - 1s - loss: 0.6601 - acc: 0.6050 - val_loss: 0.6547 - val_acc: 0.6114\n",
            "Epoch 14/1000\n",
            " - 1s - loss: 0.6618 - acc: 0.6037 - val_loss: 0.6588 - val_acc: 0.6072\n",
            "Epoch 15/1000\n",
            " - 1s - loss: 0.6615 - acc: 0.6058 - val_loss: 0.6503 - val_acc: 0.6226\n",
            "Epoch 16/1000\n",
            " - 1s - loss: 0.6608 - acc: 0.6005 - val_loss: 0.6580 - val_acc: 0.6094\n",
            "Epoch 17/1000\n",
            " - 1s - loss: 0.6595 - acc: 0.6036 - val_loss: 0.6483 - val_acc: 0.6256\n",
            "Epoch 18/1000\n",
            " - 1s - loss: 0.6578 - acc: 0.6098 - val_loss: 0.6515 - val_acc: 0.6180\n",
            "Epoch 19/1000\n",
            " - 1s - loss: 0.6557 - acc: 0.6144 - val_loss: 0.6558 - val_acc: 0.6020\n",
            "Epoch 20/1000\n",
            " - 1s - loss: 0.6562 - acc: 0.6134 - val_loss: 0.6506 - val_acc: 0.6190\n",
            "Epoch 21/1000\n",
            " - 1s - loss: 0.6549 - acc: 0.6143 - val_loss: 0.6549 - val_acc: 0.6198\n",
            "Epoch 22/1000\n",
            " - 1s - loss: 0.6562 - acc: 0.6108 - val_loss: 0.6487 - val_acc: 0.6258\n",
            "Epoch 23/1000\n",
            " - 1s - loss: 0.6555 - acc: 0.6137 - val_loss: 0.6483 - val_acc: 0.6296\n",
            "Epoch 24/1000\n",
            " - 1s - loss: 0.6541 - acc: 0.6137 - val_loss: 0.6459 - val_acc: 0.6260\n",
            "Epoch 25/1000\n",
            " - 1s - loss: 0.6529 - acc: 0.6154 - val_loss: 0.6519 - val_acc: 0.6276\n",
            "Epoch 26/1000\n",
            " - 1s - loss: 0.6527 - acc: 0.6162 - val_loss: 0.6466 - val_acc: 0.6284\n",
            "Epoch 27/1000\n",
            " - 1s - loss: 0.6539 - acc: 0.6168 - val_loss: 0.6507 - val_acc: 0.6092\n",
            "Epoch 28/1000\n",
            " - 1s - loss: 0.6516 - acc: 0.6185 - val_loss: 0.6526 - val_acc: 0.6056\n",
            "Epoch 29/1000\n",
            " - 1s - loss: 0.6504 - acc: 0.6181 - val_loss: 0.6459 - val_acc: 0.6286\n",
            "Epoch 30/1000\n",
            " - 1s - loss: 0.6500 - acc: 0.6187 - val_loss: 0.6445 - val_acc: 0.6232\n",
            "Epoch 31/1000\n",
            " - 1s - loss: 0.6512 - acc: 0.6151 - val_loss: 0.6432 - val_acc: 0.6282\n",
            "Epoch 32/1000\n",
            " - 1s - loss: 0.6492 - acc: 0.6202 - val_loss: 0.6614 - val_acc: 0.5934\n",
            "Epoch 33/1000\n",
            " - 1s - loss: 0.6505 - acc: 0.6188 - val_loss: 0.6427 - val_acc: 0.6270\n",
            "Epoch 34/1000\n",
            " - 1s - loss: 0.6495 - acc: 0.6216 - val_loss: 0.6466 - val_acc: 0.6282\n",
            "Epoch 35/1000\n",
            " - 1s - loss: 0.6492 - acc: 0.6171 - val_loss: 0.6441 - val_acc: 0.6290\n",
            "Epoch 36/1000\n",
            " - 1s - loss: 0.6469 - acc: 0.6241 - val_loss: 0.6441 - val_acc: 0.6248\n",
            "Epoch 37/1000\n",
            " - 1s - loss: 0.6480 - acc: 0.6176 - val_loss: 0.6431 - val_acc: 0.6348\n",
            "Epoch 38/1000\n",
            " - 1s - loss: 0.6480 - acc: 0.6212 - val_loss: 0.6466 - val_acc: 0.6220\n",
            "Epoch 39/1000\n",
            " - 1s - loss: 0.6478 - acc: 0.6194 - val_loss: 0.6495 - val_acc: 0.6092\n",
            "Epoch 40/1000\n",
            " - 1s - loss: 0.6478 - acc: 0.6184 - val_loss: 0.6399 - val_acc: 0.6332\n",
            "Epoch 41/1000\n",
            " - 1s - loss: 0.6468 - acc: 0.6237 - val_loss: 0.6402 - val_acc: 0.6286\n",
            "Epoch 42/1000\n",
            " - 1s - loss: 0.6465 - acc: 0.6237 - val_loss: 0.6421 - val_acc: 0.6224\n",
            "Epoch 43/1000\n",
            " - 1s - loss: 0.6465 - acc: 0.6222 - val_loss: 0.6420 - val_acc: 0.6258\n",
            "Epoch 44/1000\n",
            " - 1s - loss: 0.6446 - acc: 0.6262 - val_loss: 0.6383 - val_acc: 0.6330\n",
            "Epoch 45/1000\n",
            " - 1s - loss: 0.6461 - acc: 0.6209 - val_loss: 0.6429 - val_acc: 0.6226\n",
            "Epoch 46/1000\n",
            " - 1s - loss: 0.6463 - acc: 0.6235 - val_loss: 0.6522 - val_acc: 0.6192\n",
            "Epoch 47/1000\n",
            " - 1s - loss: 0.6450 - acc: 0.6197 - val_loss: 0.6382 - val_acc: 0.6316\n",
            "Epoch 48/1000\n",
            " - 1s - loss: 0.6451 - acc: 0.6219 - val_loss: 0.6413 - val_acc: 0.6334\n",
            "Epoch 49/1000\n",
            " - 1s - loss: 0.6452 - acc: 0.6221 - val_loss: 0.6477 - val_acc: 0.6132\n",
            "Epoch 50/1000\n",
            " - 1s - loss: 0.6439 - acc: 0.6260 - val_loss: 0.6384 - val_acc: 0.6346\n",
            "Epoch 51/1000\n",
            " - 1s - loss: 0.6447 - acc: 0.6220 - val_loss: 0.6434 - val_acc: 0.6212\n",
            "Epoch 52/1000\n",
            " - 1s - loss: 0.6435 - acc: 0.6238 - val_loss: 0.6448 - val_acc: 0.6326\n",
            "Epoch 53/1000\n",
            " - 1s - loss: 0.6431 - acc: 0.6288 - val_loss: 0.6394 - val_acc: 0.6346\n",
            "Epoch 54/1000\n",
            " - 1s - loss: 0.6431 - acc: 0.6249 - val_loss: 0.6459 - val_acc: 0.6142\n",
            "Epoch 55/1000\n",
            " - 1s - loss: 0.6436 - acc: 0.6234 - val_loss: 0.6403 - val_acc: 0.6370\n",
            "Epoch 56/1000\n",
            " - 1s - loss: 0.6433 - acc: 0.6242 - val_loss: 0.6372 - val_acc: 0.6316\n",
            "Epoch 57/1000\n",
            " - 1s - loss: 0.6423 - acc: 0.6270 - val_loss: 0.6400 - val_acc: 0.6312\n",
            "Epoch 58/1000\n",
            " - 1s - loss: 0.6413 - acc: 0.6295 - val_loss: 0.6402 - val_acc: 0.6264\n",
            "Epoch 59/1000\n",
            " - 1s - loss: 0.6414 - acc: 0.6269 - val_loss: 0.6375 - val_acc: 0.6320\n",
            "Epoch 60/1000\n",
            " - 1s - loss: 0.6408 - acc: 0.6260 - val_loss: 0.6413 - val_acc: 0.6260\n",
            "Epoch 61/1000\n",
            " - 1s - loss: 0.6408 - acc: 0.6305 - val_loss: 0.6380 - val_acc: 0.6332\n",
            "Epoch 62/1000\n",
            " - 1s - loss: 0.6408 - acc: 0.6266 - val_loss: 0.6386 - val_acc: 0.6328\n",
            "Epoch 63/1000\n",
            " - 1s - loss: 0.6394 - acc: 0.6296 - val_loss: 0.6402 - val_acc: 0.6388\n",
            "Epoch 64/1000\n",
            " - 1s - loss: 0.6411 - acc: 0.6295 - val_loss: 0.6389 - val_acc: 0.6316\n",
            "Epoch 65/1000\n",
            " - 1s - loss: 0.6405 - acc: 0.6287 - val_loss: 0.6392 - val_acc: 0.6280\n",
            "Epoch 66/1000\n",
            " - 1s - loss: 0.6393 - acc: 0.6292 - val_loss: 0.6393 - val_acc: 0.6312\n",
            "Epoch 67/1000\n",
            " - 1s - loss: 0.6403 - acc: 0.6290 - val_loss: 0.6382 - val_acc: 0.6332\n",
            "Epoch 68/1000\n",
            " - 1s - loss: 0.6399 - acc: 0.6302 - val_loss: 0.6443 - val_acc: 0.6168\n",
            "Epoch 69/1000\n",
            " - 1s - loss: 0.6393 - acc: 0.6338 - val_loss: 0.6383 - val_acc: 0.6324\n",
            "Epoch 70/1000\n",
            " - 1s - loss: 0.6390 - acc: 0.6276 - val_loss: 0.6426 - val_acc: 0.6174\n",
            "Epoch 71/1000\n",
            " - 1s - loss: 0.6407 - acc: 0.6324 - val_loss: 0.6397 - val_acc: 0.6352\n",
            "Epoch 72/1000\n",
            " - 1s - loss: 0.6387 - acc: 0.6316 - val_loss: 0.6368 - val_acc: 0.6344\n",
            "Epoch 73/1000\n",
            " - 1s - loss: 0.6382 - acc: 0.6315 - val_loss: 0.6366 - val_acc: 0.6330\n",
            "Epoch 74/1000\n",
            " - 1s - loss: 0.6386 - acc: 0.6344 - val_loss: 0.6421 - val_acc: 0.6180\n",
            "Epoch 75/1000\n",
            " - 1s - loss: 0.6377 - acc: 0.6323 - val_loss: 0.6361 - val_acc: 0.6358\n",
            "Epoch 76/1000\n",
            " - 1s - loss: 0.6346 - acc: 0.6366 - val_loss: 0.6368 - val_acc: 0.6392\n",
            "Epoch 77/1000\n",
            " - 1s - loss: 0.6371 - acc: 0.6289 - val_loss: 0.6373 - val_acc: 0.6358\n",
            "Epoch 78/1000\n",
            " - 1s - loss: 0.6378 - acc: 0.6332 - val_loss: 0.6382 - val_acc: 0.6312\n",
            "Epoch 79/1000\n",
            " - 1s - loss: 0.6364 - acc: 0.6357 - val_loss: 0.6473 - val_acc: 0.6158\n",
            "Epoch 80/1000\n",
            " - 1s - loss: 0.6363 - acc: 0.6317 - val_loss: 0.6417 - val_acc: 0.6196\n",
            "Epoch 81/1000\n",
            " - 1s - loss: 0.6355 - acc: 0.6363 - val_loss: 0.6411 - val_acc: 0.6208\n",
            "Epoch 82/1000\n",
            " - 1s - loss: 0.6356 - acc: 0.6359 - val_loss: 0.6386 - val_acc: 0.6274\n",
            "Epoch 83/1000\n",
            " - 1s - loss: 0.6365 - acc: 0.6334 - val_loss: 0.6415 - val_acc: 0.6162\n",
            "Epoch 84/1000\n",
            " - 1s - loss: 0.6374 - acc: 0.6345 - val_loss: 0.6356 - val_acc: 0.6352\n",
            "Epoch 85/1000\n",
            " - 1s - loss: 0.6357 - acc: 0.6330 - val_loss: 0.6377 - val_acc: 0.6298\n",
            "Epoch 86/1000\n",
            " - 1s - loss: 0.6353 - acc: 0.6341 - val_loss: 0.6374 - val_acc: 0.6364\n",
            "Epoch 87/1000\n",
            " - 1s - loss: 0.6330 - acc: 0.6342 - val_loss: 0.6406 - val_acc: 0.6268\n",
            "Epoch 88/1000\n",
            " - 1s - loss: 0.6349 - acc: 0.6328 - val_loss: 0.6362 - val_acc: 0.6340\n",
            "Epoch 89/1000\n",
            " - 1s - loss: 0.6337 - acc: 0.6349 - val_loss: 0.6405 - val_acc: 0.6238\n",
            "Epoch 90/1000\n",
            " - 1s - loss: 0.6336 - acc: 0.6353 - val_loss: 0.6450 - val_acc: 0.6174\n",
            "Epoch 91/1000\n",
            " - 1s - loss: 0.6333 - acc: 0.6348 - val_loss: 0.6420 - val_acc: 0.6234\n",
            "Epoch 92/1000\n",
            " - 1s - loss: 0.6347 - acc: 0.6328 - val_loss: 0.6437 - val_acc: 0.6194\n",
            "Epoch 93/1000\n",
            " - 1s - loss: 0.6338 - acc: 0.6335 - val_loss: 0.6360 - val_acc: 0.6342\n",
            "Epoch 94/1000\n",
            " - 1s - loss: 0.6340 - acc: 0.6356 - val_loss: 0.6477 - val_acc: 0.6070\n",
            "Epoch 95/1000\n",
            " - 1s - loss: 0.6340 - acc: 0.6361 - val_loss: 0.6391 - val_acc: 0.6396\n",
            "Epoch 96/1000\n",
            " - 1s - loss: 0.6322 - acc: 0.6373 - val_loss: 0.6378 - val_acc: 0.6372\n",
            "Epoch 97/1000\n",
            " - 1s - loss: 0.6334 - acc: 0.6342 - val_loss: 0.6384 - val_acc: 0.6306\n",
            "Epoch 98/1000\n",
            " - 1s - loss: 0.6326 - acc: 0.6407 - val_loss: 0.6354 - val_acc: 0.6370\n",
            "Epoch 99/1000\n",
            " - 1s - loss: 0.6331 - acc: 0.6356 - val_loss: 0.6407 - val_acc: 0.6268\n",
            "Epoch 100/1000\n",
            " - 1s - loss: 0.6330 - acc: 0.6384 - val_loss: 0.6381 - val_acc: 0.6326\n",
            "Epoch 101/1000\n",
            " - 1s - loss: 0.6304 - acc: 0.6392 - val_loss: 0.6396 - val_acc: 0.6400\n",
            "Epoch 102/1000\n",
            " - 1s - loss: 0.6304 - acc: 0.6392 - val_loss: 0.6356 - val_acc: 0.6382\n",
            "Epoch 103/1000\n",
            " - 1s - loss: 0.6318 - acc: 0.6373 - val_loss: 0.6396 - val_acc: 0.6384\n",
            "Epoch 104/1000\n",
            " - 1s - loss: 0.6310 - acc: 0.6331 - val_loss: 0.6389 - val_acc: 0.6280\n",
            "Epoch 105/1000\n",
            " - 1s - loss: 0.6298 - acc: 0.6395 - val_loss: 0.6387 - val_acc: 0.6392\n",
            "Epoch 106/1000\n",
            " - 1s - loss: 0.6318 - acc: 0.6355 - val_loss: 0.6385 - val_acc: 0.6304\n",
            "Epoch 107/1000\n",
            " - 1s - loss: 0.6306 - acc: 0.6388 - val_loss: 0.6374 - val_acc: 0.6306\n",
            "Epoch 108/1000\n",
            " - 1s - loss: 0.6286 - acc: 0.6422 - val_loss: 0.6386 - val_acc: 0.6360\n",
            "Epoch 109/1000\n",
            " - 1s - loss: 0.6312 - acc: 0.6347 - val_loss: 0.6396 - val_acc: 0.6336\n",
            "Epoch 110/1000\n",
            " - 1s - loss: 0.6292 - acc: 0.6389 - val_loss: 0.6480 - val_acc: 0.6154\n",
            "Epoch 111/1000\n",
            " - 1s - loss: 0.6274 - acc: 0.6399 - val_loss: 0.6359 - val_acc: 0.6366\n",
            "Epoch 112/1000\n",
            " - 1s - loss: 0.6295 - acc: 0.6431 - val_loss: 0.6358 - val_acc: 0.6412\n",
            "Epoch 113/1000\n",
            " - 1s - loss: 0.6275 - acc: 0.6439 - val_loss: 0.6401 - val_acc: 0.6284\n",
            "Epoch 114/1000\n",
            " - 1s - loss: 0.6290 - acc: 0.6396 - val_loss: 0.6387 - val_acc: 0.6320\n",
            "Epoch 115/1000\n",
            " - 1s - loss: 0.6285 - acc: 0.6398 - val_loss: 0.6419 - val_acc: 0.6238\n",
            "Epoch 116/1000\n",
            " - 1s - loss: 0.6301 - acc: 0.6389 - val_loss: 0.6390 - val_acc: 0.6290\n",
            "Epoch 117/1000\n",
            " - 1s - loss: 0.6280 - acc: 0.6409 - val_loss: 0.6385 - val_acc: 0.6236\n",
            "Epoch 118/1000\n",
            " - 1s - loss: 0.6283 - acc: 0.6399 - val_loss: 0.6412 - val_acc: 0.6292\n",
            "Epoch 119/1000\n",
            " - 1s - loss: 0.6270 - acc: 0.6418 - val_loss: 0.6405 - val_acc: 0.6360\n",
            "Epoch 120/1000\n",
            " - 1s - loss: 0.6287 - acc: 0.6355 - val_loss: 0.6428 - val_acc: 0.6248\n",
            "Epoch 121/1000\n",
            " - 1s - loss: 0.6268 - acc: 0.6388 - val_loss: 0.6379 - val_acc: 0.6380\n",
            "Epoch 122/1000\n",
            " - 1s - loss: 0.6275 - acc: 0.6427 - val_loss: 0.6403 - val_acc: 0.6356\n",
            "Epoch 123/1000\n",
            " - 1s - loss: 0.6257 - acc: 0.6467 - val_loss: 0.6410 - val_acc: 0.6334\n",
            "Epoch 124/1000\n",
            " - 1s - loss: 0.6268 - acc: 0.6453 - val_loss: 0.6375 - val_acc: 0.6380\n",
            "Epoch 125/1000\n",
            " - 1s - loss: 0.6259 - acc: 0.6421 - val_loss: 0.6413 - val_acc: 0.6294\n",
            "Epoch 126/1000\n",
            " - 1s - loss: 0.6265 - acc: 0.6406 - val_loss: 0.6386 - val_acc: 0.6376\n",
            "Epoch 127/1000\n",
            " - 1s - loss: 0.6250 - acc: 0.6429 - val_loss: 0.6417 - val_acc: 0.6336\n",
            "Epoch 128/1000\n",
            " - 1s - loss: 0.6257 - acc: 0.6449 - val_loss: 0.6377 - val_acc: 0.6342\n",
            "Epoch 129/1000\n",
            " - 1s - loss: 0.6250 - acc: 0.6443 - val_loss: 0.6423 - val_acc: 0.6256\n",
            "Epoch 130/1000\n",
            " - 1s - loss: 0.6240 - acc: 0.6437 - val_loss: 0.6404 - val_acc: 0.6362\n",
            "Epoch 131/1000\n",
            " - 1s - loss: 0.6231 - acc: 0.6472 - val_loss: 0.6390 - val_acc: 0.6328\n",
            "Epoch 132/1000\n",
            " - 1s - loss: 0.6235 - acc: 0.6428 - val_loss: 0.6385 - val_acc: 0.6352\n",
            "Epoch 133/1000\n",
            " - 1s - loss: 0.6248 - acc: 0.6461 - val_loss: 0.6372 - val_acc: 0.6360\n",
            "Epoch 134/1000\n",
            " - 1s - loss: 0.6243 - acc: 0.6445 - val_loss: 0.6371 - val_acc: 0.6330\n",
            "Epoch 135/1000\n",
            " - 1s - loss: 0.6224 - acc: 0.6485 - val_loss: 0.6393 - val_acc: 0.6368\n",
            "Epoch 136/1000\n",
            " - 1s - loss: 0.6226 - acc: 0.6465 - val_loss: 0.6411 - val_acc: 0.6374\n",
            "Epoch 137/1000\n",
            " - 1s - loss: 0.6248 - acc: 0.6435 - val_loss: 0.6394 - val_acc: 0.6314\n",
            "Epoch 138/1000\n",
            " - 1s - loss: 0.6227 - acc: 0.6464 - val_loss: 0.6428 - val_acc: 0.6344\n",
            "Epoch 139/1000\n",
            " - 1s - loss: 0.6244 - acc: 0.6431 - val_loss: 0.6399 - val_acc: 0.6348\n",
            "Epoch 140/1000\n",
            " - 1s - loss: 0.6235 - acc: 0.6442 - val_loss: 0.6418 - val_acc: 0.6290\n",
            "Epoch 141/1000\n",
            " - 1s - loss: 0.6221 - acc: 0.6489 - val_loss: 0.6391 - val_acc: 0.6302\n",
            "Epoch 142/1000\n",
            " - 1s - loss: 0.6234 - acc: 0.6453 - val_loss: 0.6414 - val_acc: 0.6328\n",
            "Epoch 143/1000\n",
            " - 1s - loss: 0.6230 - acc: 0.6435 - val_loss: 0.6407 - val_acc: 0.6368\n",
            "Epoch 144/1000\n",
            " - 1s - loss: 0.6239 - acc: 0.6428 - val_loss: 0.6386 - val_acc: 0.6384\n",
            "Epoch 145/1000\n",
            " - 1s - loss: 0.6210 - acc: 0.6500 - val_loss: 0.6420 - val_acc: 0.6348\n",
            "Epoch 146/1000\n",
            " - 1s - loss: 0.6207 - acc: 0.6484 - val_loss: 0.6490 - val_acc: 0.6236\n",
            "Epoch 147/1000\n",
            " - 1s - loss: 0.6222 - acc: 0.6463 - val_loss: 0.6478 - val_acc: 0.6246\n",
            "Epoch 148/1000\n",
            " - 1s - loss: 0.6215 - acc: 0.6462 - val_loss: 0.6492 - val_acc: 0.6310\n",
            "Epoch 149/1000\n",
            " - 1s - loss: 0.6217 - acc: 0.6477 - val_loss: 0.6432 - val_acc: 0.6288\n",
            "Epoch 150/1000\n",
            " - 1s - loss: 0.6204 - acc: 0.6478 - val_loss: 0.6402 - val_acc: 0.6326\n",
            "Epoch 151/1000\n",
            " - 1s - loss: 0.6217 - acc: 0.6477 - val_loss: 0.6418 - val_acc: 0.6310\n",
            "Epoch 152/1000\n",
            " - 1s - loss: 0.6205 - acc: 0.6479 - val_loss: 0.6416 - val_acc: 0.6254\n",
            "Epoch 153/1000\n",
            " - 1s - loss: 0.6178 - acc: 0.6495 - val_loss: 0.6431 - val_acc: 0.6276\n",
            "Epoch 154/1000\n",
            " - 1s - loss: 0.6211 - acc: 0.6465 - val_loss: 0.6452 - val_acc: 0.6324\n",
            "Epoch 155/1000\n",
            " - 1s - loss: 0.6199 - acc: 0.6462 - val_loss: 0.6434 - val_acc: 0.6328\n",
            "Epoch 156/1000\n",
            " - 1s - loss: 0.6204 - acc: 0.6465 - val_loss: 0.6427 - val_acc: 0.6270\n",
            "Epoch 157/1000\n",
            " - 1s - loss: 0.6189 - acc: 0.6508 - val_loss: 0.6433 - val_acc: 0.6332\n",
            "Epoch 158/1000\n",
            " - 1s - loss: 0.6191 - acc: 0.6463 - val_loss: 0.6400 - val_acc: 0.6356\n",
            "Epoch 159/1000\n",
            " - 1s - loss: 0.6185 - acc: 0.6471 - val_loss: 0.6413 - val_acc: 0.6348\n",
            "Epoch 160/1000\n",
            " - 1s - loss: 0.6210 - acc: 0.6490 - val_loss: 0.6422 - val_acc: 0.6308\n",
            "Epoch 161/1000\n",
            " - 1s - loss: 0.6196 - acc: 0.6471 - val_loss: 0.6422 - val_acc: 0.6288\n",
            "Epoch 162/1000\n",
            " - 1s - loss: 0.6168 - acc: 0.6498 - val_loss: 0.6423 - val_acc: 0.6326\n",
            "Epoch 163/1000\n",
            " - 1s - loss: 0.6170 - acc: 0.6511 - val_loss: 0.6433 - val_acc: 0.6382\n",
            "Epoch 164/1000\n",
            " - 1s - loss: 0.6156 - acc: 0.6528 - val_loss: 0.6481 - val_acc: 0.6258\n",
            "Epoch 165/1000\n",
            " - 1s - loss: 0.6171 - acc: 0.6546 - val_loss: 0.6452 - val_acc: 0.6354\n",
            "Epoch 166/1000\n",
            " - 1s - loss: 0.6180 - acc: 0.6510 - val_loss: 0.6412 - val_acc: 0.6332\n",
            "Epoch 167/1000\n",
            " - 1s - loss: 0.6164 - acc: 0.6485 - val_loss: 0.6453 - val_acc: 0.6382\n",
            "Epoch 168/1000\n",
            " - 1s - loss: 0.6191 - acc: 0.6479 - val_loss: 0.6423 - val_acc: 0.6404\n",
            "Epoch 169/1000\n",
            " - 1s - loss: 0.6163 - acc: 0.6520 - val_loss: 0.6475 - val_acc: 0.6248\n",
            "Epoch 170/1000\n",
            " - 1s - loss: 0.6151 - acc: 0.6518 - val_loss: 0.6441 - val_acc: 0.6358\n",
            "Epoch 171/1000\n",
            " - 1s - loss: 0.6178 - acc: 0.6518 - val_loss: 0.6456 - val_acc: 0.6358\n",
            "Epoch 172/1000\n",
            " - 1s - loss: 0.6164 - acc: 0.6536 - val_loss: 0.6401 - val_acc: 0.6366\n",
            "Epoch 173/1000\n",
            " - 1s - loss: 0.6161 - acc: 0.6518 - val_loss: 0.6413 - val_acc: 0.6372\n",
            "Epoch 174/1000\n",
            " - 1s - loss: 0.6158 - acc: 0.6525 - val_loss: 0.6420 - val_acc: 0.6368\n",
            "Epoch 175/1000\n",
            " - 1s - loss: 0.6159 - acc: 0.6525 - val_loss: 0.6489 - val_acc: 0.6270\n",
            "Epoch 176/1000\n",
            " - 1s - loss: 0.6159 - acc: 0.6523 - val_loss: 0.6435 - val_acc: 0.6364\n",
            "Epoch 177/1000\n",
            " - 1s - loss: 0.6152 - acc: 0.6521 - val_loss: 0.6478 - val_acc: 0.6382\n",
            "Epoch 178/1000\n",
            " - 1s - loss: 0.6148 - acc: 0.6502 - val_loss: 0.6466 - val_acc: 0.6374\n",
            "Epoch 179/1000\n",
            " - 1s - loss: 0.6153 - acc: 0.6503 - val_loss: 0.6446 - val_acc: 0.6326\n",
            "Epoch 180/1000\n",
            " - 1s - loss: 0.6132 - acc: 0.6561 - val_loss: 0.6440 - val_acc: 0.6332\n",
            "Epoch 181/1000\n",
            " - 1s - loss: 0.6156 - acc: 0.6532 - val_loss: 0.6434 - val_acc: 0.6392\n",
            "Epoch 182/1000\n",
            " - 1s - loss: 0.6139 - acc: 0.6539 - val_loss: 0.6468 - val_acc: 0.6362\n",
            "Epoch 183/1000\n",
            " - 1s - loss: 0.6146 - acc: 0.6500 - val_loss: 0.6464 - val_acc: 0.6344\n",
            "Epoch 184/1000\n",
            " - 1s - loss: 0.6122 - acc: 0.6526 - val_loss: 0.6462 - val_acc: 0.6330\n",
            "Epoch 185/1000\n",
            " - 1s - loss: 0.6157 - acc: 0.6550 - val_loss: 0.6441 - val_acc: 0.6366\n",
            "Epoch 186/1000\n",
            " - 1s - loss: 0.6124 - acc: 0.6587 - val_loss: 0.6463 - val_acc: 0.6316\n",
            "Epoch 187/1000\n",
            " - 1s - loss: 0.6123 - acc: 0.6546 - val_loss: 0.6489 - val_acc: 0.6354\n",
            "Epoch 188/1000\n",
            " - 1s - loss: 0.6119 - acc: 0.6564 - val_loss: 0.6470 - val_acc: 0.6360\n",
            "Epoch 189/1000\n",
            " - 1s - loss: 0.6130 - acc: 0.6525 - val_loss: 0.6482 - val_acc: 0.6254\n",
            "Epoch 190/1000\n",
            " - 1s - loss: 0.6129 - acc: 0.6581 - val_loss: 0.6446 - val_acc: 0.6298\n",
            "Epoch 191/1000\n",
            " - 1s - loss: 0.6132 - acc: 0.6554 - val_loss: 0.6437 - val_acc: 0.6314\n",
            "Epoch 192/1000\n",
            " - 1s - loss: 0.6114 - acc: 0.6576 - val_loss: 0.6477 - val_acc: 0.6314\n",
            "Epoch 193/1000\n",
            " - 1s - loss: 0.6098 - acc: 0.6584 - val_loss: 0.6440 - val_acc: 0.6404\n",
            "Epoch 194/1000\n",
            " - 1s - loss: 0.6107 - acc: 0.6542 - val_loss: 0.6503 - val_acc: 0.6296\n",
            "Epoch 195/1000\n",
            " - 1s - loss: 0.6105 - acc: 0.6587 - val_loss: 0.6506 - val_acc: 0.6240\n",
            "Epoch 196/1000\n",
            " - 1s - loss: 0.6085 - acc: 0.6590 - val_loss: 0.6467 - val_acc: 0.6336\n",
            "Epoch 197/1000\n",
            " - 1s - loss: 0.6116 - acc: 0.6551 - val_loss: 0.6473 - val_acc: 0.6338\n",
            "Epoch 198/1000\n",
            " - 1s - loss: 0.6096 - acc: 0.6580 - val_loss: 0.6484 - val_acc: 0.6286\n",
            "Epoch 199/1000\n",
            " - 1s - loss: 0.6096 - acc: 0.6564 - val_loss: 0.6466 - val_acc: 0.6328\n",
            "Epoch 200/1000\n",
            " - 1s - loss: 0.6095 - acc: 0.6586 - val_loss: 0.6464 - val_acc: 0.6368\n",
            "Epoch 201/1000\n",
            " - 1s - loss: 0.6110 - acc: 0.6550 - val_loss: 0.6467 - val_acc: 0.6334\n",
            "Epoch 202/1000\n",
            " - 1s - loss: 0.6074 - acc: 0.6575 - val_loss: 0.6484 - val_acc: 0.6342\n",
            "Epoch 203/1000\n",
            " - 1s - loss: 0.6101 - acc: 0.6576 - val_loss: 0.6475 - val_acc: 0.6286\n",
            "Epoch 204/1000\n",
            " - 1s - loss: 0.6098 - acc: 0.6586 - val_loss: 0.6493 - val_acc: 0.6268\n",
            "Epoch 205/1000\n",
            " - 1s - loss: 0.6108 - acc: 0.6598 - val_loss: 0.6470 - val_acc: 0.6332\n",
            "Epoch 206/1000\n",
            " - 1s - loss: 0.6081 - acc: 0.6557 - val_loss: 0.6529 - val_acc: 0.6306\n",
            "Epoch 207/1000\n",
            " - 1s - loss: 0.6082 - acc: 0.6598 - val_loss: 0.6448 - val_acc: 0.6304\n",
            "Epoch 208/1000\n",
            " - 1s - loss: 0.6092 - acc: 0.6589 - val_loss: 0.6473 - val_acc: 0.6306\n",
            "Epoch 209/1000\n",
            " - 1s - loss: 0.6047 - acc: 0.6622 - val_loss: 0.6570 - val_acc: 0.6318\n",
            "Epoch 210/1000\n",
            " - 1s - loss: 0.6069 - acc: 0.6584 - val_loss: 0.6497 - val_acc: 0.6354\n",
            "Epoch 211/1000\n",
            " - 1s - loss: 0.6065 - acc: 0.6601 - val_loss: 0.6539 - val_acc: 0.6258\n",
            "Epoch 212/1000\n",
            " - 1s - loss: 0.6075 - acc: 0.6576 - val_loss: 0.6517 - val_acc: 0.6328\n",
            "Epoch 213/1000\n",
            " - 1s - loss: 0.6072 - acc: 0.6575 - val_loss: 0.6504 - val_acc: 0.6318\n",
            "Epoch 214/1000\n",
            " - 1s - loss: 0.6075 - acc: 0.6543 - val_loss: 0.6469 - val_acc: 0.6288\n",
            "Epoch 215/1000\n",
            " - 1s - loss: 0.6068 - acc: 0.6594 - val_loss: 0.6543 - val_acc: 0.6270\n",
            "Epoch 216/1000\n",
            " - 1s - loss: 0.6068 - acc: 0.6607 - val_loss: 0.6479 - val_acc: 0.6382\n",
            "Epoch 217/1000\n",
            " - 1s - loss: 0.6056 - acc: 0.6593 - val_loss: 0.6520 - val_acc: 0.6264\n",
            "Epoch 218/1000\n",
            " - 1s - loss: 0.6090 - acc: 0.6581 - val_loss: 0.6479 - val_acc: 0.6308\n",
            "Epoch 219/1000\n",
            " - 1s - loss: 0.6052 - acc: 0.6629 - val_loss: 0.6515 - val_acc: 0.6264\n",
            "Epoch 220/1000\n",
            " - 1s - loss: 0.6062 - acc: 0.6581 - val_loss: 0.6552 - val_acc: 0.6278\n",
            "Epoch 221/1000\n",
            " - 1s - loss: 0.6061 - acc: 0.6605 - val_loss: 0.6556 - val_acc: 0.6132\n",
            "Epoch 222/1000\n",
            " - 1s - loss: 0.6053 - acc: 0.6615 - val_loss: 0.6530 - val_acc: 0.6366\n",
            "Epoch 223/1000\n",
            " - 1s - loss: 0.6046 - acc: 0.6597 - val_loss: 0.6572 - val_acc: 0.6332\n",
            "Epoch 224/1000\n",
            " - 1s - loss: 0.6055 - acc: 0.6592 - val_loss: 0.6549 - val_acc: 0.6330\n",
            "Epoch 225/1000\n",
            " - 1s - loss: 0.6041 - acc: 0.6593 - val_loss: 0.6519 - val_acc: 0.6356\n",
            "Epoch 226/1000\n",
            " - 1s - loss: 0.6028 - acc: 0.6639 - val_loss: 0.6509 - val_acc: 0.6288\n",
            "Epoch 227/1000\n",
            " - 1s - loss: 0.6042 - acc: 0.6594 - val_loss: 0.6562 - val_acc: 0.6284\n",
            "Epoch 228/1000\n",
            " - 1s - loss: 0.6046 - acc: 0.6596 - val_loss: 0.6510 - val_acc: 0.6326\n",
            "Epoch 229/1000\n",
            " - 1s - loss: 0.6042 - acc: 0.6597 - val_loss: 0.6581 - val_acc: 0.6264\n",
            "Epoch 230/1000\n",
            " - 1s - loss: 0.6038 - acc: 0.6571 - val_loss: 0.6550 - val_acc: 0.6390\n",
            "Epoch 231/1000\n",
            " - 1s - loss: 0.6028 - acc: 0.6635 - val_loss: 0.6521 - val_acc: 0.6332\n",
            "Epoch 232/1000\n",
            " - 1s - loss: 0.6018 - acc: 0.6637 - val_loss: 0.6546 - val_acc: 0.6306\n",
            "Epoch 233/1000\n",
            " - 1s - loss: 0.6010 - acc: 0.6605 - val_loss: 0.6553 - val_acc: 0.6302\n",
            "Epoch 234/1000\n",
            " - 1s - loss: 0.6018 - acc: 0.6633 - val_loss: 0.6510 - val_acc: 0.6314\n",
            "Epoch 235/1000\n",
            " - 1s - loss: 0.6001 - acc: 0.6625 - val_loss: 0.6522 - val_acc: 0.6342\n",
            "Epoch 236/1000\n",
            " - 1s - loss: 0.6022 - acc: 0.6635 - val_loss: 0.6549 - val_acc: 0.6306\n",
            "Epoch 237/1000\n",
            " - 1s - loss: 0.6021 - acc: 0.6623 - val_loss: 0.6527 - val_acc: 0.6296\n",
            "Epoch 238/1000\n",
            " - 1s - loss: 0.6010 - acc: 0.6640 - val_loss: 0.6500 - val_acc: 0.6318\n",
            "Epoch 239/1000\n",
            " - 1s - loss: 0.6017 - acc: 0.6648 - val_loss: 0.6531 - val_acc: 0.6314\n",
            "Epoch 240/1000\n",
            " - 1s - loss: 0.6059 - acc: 0.6609 - val_loss: 0.6553 - val_acc: 0.6246\n",
            "Epoch 241/1000\n",
            " - 1s - loss: 0.6018 - acc: 0.6648 - val_loss: 0.6521 - val_acc: 0.6338\n",
            "Epoch 242/1000\n",
            " - 1s - loss: 0.6005 - acc: 0.6648 - val_loss: 0.6642 - val_acc: 0.6362\n",
            "Epoch 243/1000\n",
            " - 1s - loss: 0.6001 - acc: 0.6665 - val_loss: 0.6562 - val_acc: 0.6276\n",
            "Epoch 244/1000\n",
            " - 1s - loss: 0.5996 - acc: 0.6661 - val_loss: 0.6537 - val_acc: 0.6318\n",
            "Epoch 245/1000\n",
            " - 1s - loss: 0.5982 - acc: 0.6663 - val_loss: 0.6636 - val_acc: 0.6232\n",
            "Epoch 246/1000\n",
            " - 1s - loss: 0.5977 - acc: 0.6679 - val_loss: 0.6651 - val_acc: 0.6310\n",
            "Epoch 247/1000\n",
            " - 1s - loss: 0.6018 - acc: 0.6651 - val_loss: 0.6567 - val_acc: 0.6336\n",
            "Epoch 248/1000\n",
            " - 1s - loss: 0.6011 - acc: 0.6654 - val_loss: 0.6570 - val_acc: 0.6254\n",
            "Epoch 249/1000\n",
            " - 1s - loss: 0.5976 - acc: 0.6655 - val_loss: 0.6659 - val_acc: 0.6260\n",
            "Epoch 250/1000\n",
            " - 1s - loss: 0.6013 - acc: 0.6661 - val_loss: 0.6670 - val_acc: 0.6272\n",
            "Epoch 251/1000\n",
            " - 1s - loss: 0.5990 - acc: 0.6663 - val_loss: 0.6616 - val_acc: 0.6254\n",
            "Epoch 252/1000\n",
            " - 1s - loss: 0.5988 - acc: 0.6658 - val_loss: 0.6569 - val_acc: 0.6388\n",
            "Epoch 253/1000\n",
            " - 1s - loss: 0.5986 - acc: 0.6679 - val_loss: 0.6640 - val_acc: 0.6238\n",
            "Epoch 254/1000\n",
            " - 1s - loss: 0.5994 - acc: 0.6643 - val_loss: 0.6563 - val_acc: 0.6350\n",
            "Epoch 255/1000\n",
            " - 1s - loss: 0.5993 - acc: 0.6658 - val_loss: 0.6546 - val_acc: 0.6346\n",
            "Epoch 256/1000\n",
            " - 1s - loss: 0.5991 - acc: 0.6649 - val_loss: 0.6594 - val_acc: 0.6330\n",
            "Epoch 257/1000\n",
            " - 1s - loss: 0.5987 - acc: 0.6660 - val_loss: 0.6592 - val_acc: 0.6342\n",
            "Epoch 258/1000\n",
            " - 1s - loss: 0.5975 - acc: 0.6689 - val_loss: 0.6599 - val_acc: 0.6262\n",
            "Epoch 259/1000\n",
            " - 1s - loss: 0.5939 - acc: 0.6689 - val_loss: 0.6612 - val_acc: 0.6326\n",
            "Epoch 260/1000\n",
            " - 1s - loss: 0.5964 - acc: 0.6703 - val_loss: 0.6699 - val_acc: 0.6280\n",
            "Epoch 261/1000\n",
            " - 1s - loss: 0.5950 - acc: 0.6667 - val_loss: 0.6642 - val_acc: 0.6368\n",
            "Epoch 262/1000\n",
            " - 1s - loss: 0.5998 - acc: 0.6654 - val_loss: 0.6613 - val_acc: 0.6354\n",
            "Epoch 263/1000\n",
            " - 1s - loss: 0.5962 - acc: 0.6643 - val_loss: 0.6641 - val_acc: 0.6286\n",
            "Epoch 264/1000\n",
            " - 1s - loss: 0.5962 - acc: 0.6718 - val_loss: 0.6619 - val_acc: 0.6278\n",
            "Epoch 265/1000\n",
            " - 1s - loss: 0.5969 - acc: 0.6667 - val_loss: 0.6578 - val_acc: 0.6320\n",
            "Epoch 266/1000\n",
            " - 1s - loss: 0.5950 - acc: 0.6676 - val_loss: 0.6592 - val_acc: 0.6290\n",
            "Epoch 267/1000\n",
            " - 1s - loss: 0.5965 - acc: 0.6675 - val_loss: 0.6583 - val_acc: 0.6328\n",
            "Epoch 268/1000\n",
            " - 1s - loss: 0.5955 - acc: 0.6648 - val_loss: 0.6587 - val_acc: 0.6286\n",
            "Epoch 269/1000\n",
            " - 1s - loss: 0.5927 - acc: 0.6694 - val_loss: 0.6664 - val_acc: 0.6320\n",
            "Epoch 270/1000\n",
            " - 1s - loss: 0.5944 - acc: 0.6663 - val_loss: 0.6698 - val_acc: 0.6304\n",
            "Epoch 271/1000\n",
            " - 1s - loss: 0.5955 - acc: 0.6648 - val_loss: 0.6691 - val_acc: 0.6320\n",
            "Epoch 272/1000\n",
            " - 1s - loss: 0.5948 - acc: 0.6709 - val_loss: 0.6637 - val_acc: 0.6310\n",
            "Epoch 273/1000\n",
            " - 1s - loss: 0.5925 - acc: 0.6709 - val_loss: 0.6629 - val_acc: 0.6324\n",
            "Epoch 274/1000\n",
            " - 1s - loss: 0.5917 - acc: 0.6736 - val_loss: 0.6642 - val_acc: 0.6278\n",
            "Epoch 275/1000\n",
            " - 1s - loss: 0.5918 - acc: 0.6718 - val_loss: 0.6717 - val_acc: 0.6340\n",
            "Epoch 276/1000\n",
            " - 1s - loss: 0.5951 - acc: 0.6669 - val_loss: 0.6684 - val_acc: 0.6238\n",
            "Epoch 277/1000\n",
            " - 1s - loss: 0.5938 - acc: 0.6669 - val_loss: 0.6609 - val_acc: 0.6234\n",
            "Epoch 278/1000\n",
            " - 1s - loss: 0.5892 - acc: 0.6741 - val_loss: 0.6677 - val_acc: 0.6310\n",
            "Epoch 279/1000\n",
            " - 1s - loss: 0.5916 - acc: 0.6722 - val_loss: 0.6644 - val_acc: 0.6292\n",
            "Epoch 280/1000\n",
            " - 1s - loss: 0.5929 - acc: 0.6711 - val_loss: 0.6620 - val_acc: 0.6262\n",
            "Epoch 281/1000\n",
            " - 1s - loss: 0.5937 - acc: 0.6748 - val_loss: 0.6593 - val_acc: 0.6352\n",
            "Epoch 282/1000\n",
            " - 1s - loss: 0.5932 - acc: 0.6707 - val_loss: 0.6645 - val_acc: 0.6274\n",
            "Epoch 283/1000\n",
            " - 1s - loss: 0.5917 - acc: 0.6705 - val_loss: 0.6669 - val_acc: 0.6282\n",
            "Epoch 284/1000\n",
            " - 1s - loss: 0.5918 - acc: 0.6697 - val_loss: 0.6664 - val_acc: 0.6262\n",
            "Epoch 285/1000\n",
            " - 1s - loss: 0.5921 - acc: 0.6724 - val_loss: 0.6672 - val_acc: 0.6356\n",
            "Epoch 286/1000\n",
            " - 1s - loss: 0.5902 - acc: 0.6730 - val_loss: 0.6704 - val_acc: 0.6298\n",
            "Epoch 287/1000\n",
            " - 1s - loss: 0.5920 - acc: 0.6691 - val_loss: 0.6589 - val_acc: 0.6268\n",
            "Epoch 288/1000\n",
            " - 1s - loss: 0.5913 - acc: 0.6687 - val_loss: 0.6625 - val_acc: 0.6270\n",
            "Epoch 289/1000\n",
            " - 1s - loss: 0.5909 - acc: 0.6698 - val_loss: 0.6613 - val_acc: 0.6354\n",
            "Epoch 290/1000\n",
            " - 1s - loss: 0.5919 - acc: 0.6693 - val_loss: 0.6612 - val_acc: 0.6296\n",
            "Epoch 291/1000\n",
            " - 1s - loss: 0.5897 - acc: 0.6720 - val_loss: 0.6662 - val_acc: 0.6286\n",
            "Epoch 292/1000\n",
            " - 1s - loss: 0.5882 - acc: 0.6736 - val_loss: 0.6719 - val_acc: 0.6376\n",
            "Epoch 293/1000\n",
            " - 1s - loss: 0.5900 - acc: 0.6745 - val_loss: 0.6661 - val_acc: 0.6296\n",
            "Epoch 294/1000\n",
            " - 1s - loss: 0.5899 - acc: 0.6717 - val_loss: 0.6670 - val_acc: 0.6300\n",
            "Epoch 295/1000\n",
            " - 1s - loss: 0.5891 - acc: 0.6701 - val_loss: 0.6683 - val_acc: 0.6284\n",
            "Epoch 296/1000\n",
            " - 1s - loss: 0.5913 - acc: 0.6745 - val_loss: 0.6738 - val_acc: 0.6294\n",
            "Epoch 297/1000\n",
            " - 1s - loss: 0.5905 - acc: 0.6704 - val_loss: 0.6693 - val_acc: 0.6246\n",
            "Epoch 298/1000\n",
            " - 1s - loss: 0.5890 - acc: 0.6720 - val_loss: 0.6675 - val_acc: 0.6314\n",
            "Epoch 299/1000\n",
            " - 1s - loss: 0.5876 - acc: 0.6760 - val_loss: 0.6695 - val_acc: 0.6334\n",
            "Epoch 300/1000\n",
            " - 1s - loss: 0.5884 - acc: 0.6715 - val_loss: 0.6671 - val_acc: 0.6326\n",
            "Epoch 301/1000\n",
            " - 1s - loss: 0.5891 - acc: 0.6726 - val_loss: 0.6710 - val_acc: 0.6258\n",
            "Epoch 302/1000\n",
            " - 1s - loss: 0.5889 - acc: 0.6727 - val_loss: 0.6717 - val_acc: 0.6268\n",
            "Epoch 303/1000\n",
            " - 1s - loss: 0.5842 - acc: 0.6781 - val_loss: 0.6696 - val_acc: 0.6322\n",
            "Epoch 304/1000\n",
            " - 1s - loss: 0.5867 - acc: 0.6762 - val_loss: 0.6682 - val_acc: 0.6286\n",
            "Epoch 305/1000\n",
            " - 1s - loss: 0.5899 - acc: 0.6684 - val_loss: 0.6666 - val_acc: 0.6280\n",
            "Epoch 306/1000\n",
            " - 1s - loss: 0.5887 - acc: 0.6747 - val_loss: 0.6707 - val_acc: 0.6292\n",
            "Epoch 307/1000\n",
            " - 1s - loss: 0.5848 - acc: 0.6769 - val_loss: 0.6697 - val_acc: 0.6274\n",
            "Epoch 308/1000\n",
            " - 1s - loss: 0.5887 - acc: 0.6747 - val_loss: 0.6692 - val_acc: 0.6286\n",
            "Epoch 309/1000\n",
            " - 1s - loss: 0.5861 - acc: 0.6764 - val_loss: 0.6658 - val_acc: 0.6272\n",
            "Epoch 310/1000\n",
            " - 1s - loss: 0.5855 - acc: 0.6754 - val_loss: 0.6731 - val_acc: 0.6332\n",
            "Epoch 311/1000\n",
            " - 1s - loss: 0.5866 - acc: 0.6762 - val_loss: 0.6664 - val_acc: 0.6324\n",
            "Epoch 312/1000\n",
            " - 1s - loss: 0.5854 - acc: 0.6762 - val_loss: 0.6708 - val_acc: 0.6298\n",
            "Epoch 313/1000\n",
            " - 1s - loss: 0.5859 - acc: 0.6755 - val_loss: 0.6669 - val_acc: 0.6350\n",
            "Epoch 314/1000\n",
            " - 1s - loss: 0.5855 - acc: 0.6776 - val_loss: 0.6688 - val_acc: 0.6250\n",
            "Epoch 315/1000\n",
            " - 1s - loss: 0.5829 - acc: 0.6804 - val_loss: 0.6670 - val_acc: 0.6246\n",
            "Epoch 316/1000\n",
            " - 1s - loss: 0.5822 - acc: 0.6755 - val_loss: 0.6782 - val_acc: 0.6256\n",
            "Epoch 317/1000\n",
            " - 1s - loss: 0.5855 - acc: 0.6756 - val_loss: 0.6705 - val_acc: 0.6300\n",
            "Epoch 318/1000\n",
            " - 1s - loss: 0.5815 - acc: 0.6794 - val_loss: 0.6718 - val_acc: 0.6266\n",
            "Epoch 319/1000\n",
            " - 1s - loss: 0.5823 - acc: 0.6769 - val_loss: 0.6758 - val_acc: 0.6294\n",
            "Epoch 320/1000\n",
            " - 1s - loss: 0.5828 - acc: 0.6780 - val_loss: 0.6762 - val_acc: 0.6316\n",
            "Epoch 321/1000\n",
            " - 1s - loss: 0.5842 - acc: 0.6765 - val_loss: 0.6713 - val_acc: 0.6246\n",
            "Epoch 322/1000\n",
            " - 1s - loss: 0.5844 - acc: 0.6738 - val_loss: 0.6737 - val_acc: 0.6302\n",
            "Epoch 323/1000\n",
            " - 1s - loss: 0.5837 - acc: 0.6781 - val_loss: 0.6723 - val_acc: 0.6328\n",
            "Epoch 324/1000\n",
            " - 1s - loss: 0.5846 - acc: 0.6767 - val_loss: 0.6706 - val_acc: 0.6256\n",
            "Epoch 325/1000\n",
            " - 1s - loss: 0.5855 - acc: 0.6772 - val_loss: 0.6733 - val_acc: 0.6276\n",
            "Epoch 326/1000\n",
            " - 1s - loss: 0.5869 - acc: 0.6733 - val_loss: 0.6734 - val_acc: 0.6226\n",
            "Epoch 327/1000\n",
            " - 1s - loss: 0.5851 - acc: 0.6776 - val_loss: 0.6730 - val_acc: 0.6274\n",
            "Epoch 328/1000\n",
            " - 1s - loss: 0.5826 - acc: 0.6773 - val_loss: 0.6740 - val_acc: 0.6284\n",
            "Epoch 329/1000\n",
            " - 1s - loss: 0.5831 - acc: 0.6768 - val_loss: 0.6732 - val_acc: 0.6256\n",
            "Epoch 330/1000\n",
            " - 1s - loss: 0.5815 - acc: 0.6801 - val_loss: 0.6724 - val_acc: 0.6252\n",
            "Epoch 331/1000\n",
            " - 1s - loss: 0.5805 - acc: 0.6797 - val_loss: 0.6822 - val_acc: 0.6272\n",
            "Epoch 332/1000\n",
            " - 1s - loss: 0.5804 - acc: 0.6790 - val_loss: 0.6721 - val_acc: 0.6282\n",
            "Epoch 333/1000\n",
            " - 1s - loss: 0.5799 - acc: 0.6772 - val_loss: 0.6739 - val_acc: 0.6274\n",
            "Epoch 334/1000\n",
            " - 1s - loss: 0.5806 - acc: 0.6776 - val_loss: 0.6730 - val_acc: 0.6252\n",
            "Epoch 335/1000\n",
            " - 1s - loss: 0.5803 - acc: 0.6773 - val_loss: 0.6805 - val_acc: 0.6220\n",
            "Epoch 336/1000\n",
            " - 1s - loss: 0.5812 - acc: 0.6760 - val_loss: 0.6780 - val_acc: 0.6278\n",
            "Epoch 337/1000\n",
            " - 1s - loss: 0.5805 - acc: 0.6776 - val_loss: 0.6816 - val_acc: 0.6224\n",
            "Epoch 338/1000\n",
            " - 1s - loss: 0.5813 - acc: 0.6798 - val_loss: 0.6805 - val_acc: 0.6276\n",
            "Epoch 339/1000\n",
            " - 1s - loss: 0.5806 - acc: 0.6763 - val_loss: 0.6805 - val_acc: 0.6288\n",
            "Epoch 340/1000\n",
            " - 1s - loss: 0.5795 - acc: 0.6802 - val_loss: 0.6754 - val_acc: 0.6300\n",
            "Epoch 341/1000\n",
            " - 1s - loss: 0.5781 - acc: 0.6834 - val_loss: 0.6772 - val_acc: 0.6274\n",
            "Epoch 342/1000\n",
            " - 1s - loss: 0.5791 - acc: 0.6794 - val_loss: 0.6723 - val_acc: 0.6264\n",
            "Epoch 343/1000\n",
            " - 1s - loss: 0.5807 - acc: 0.6791 - val_loss: 0.6761 - val_acc: 0.6274\n",
            "Epoch 344/1000\n",
            " - 1s - loss: 0.5776 - acc: 0.6820 - val_loss: 0.6967 - val_acc: 0.6208\n",
            "Epoch 345/1000\n",
            " - 1s - loss: 0.5786 - acc: 0.6796 - val_loss: 0.6741 - val_acc: 0.6272\n",
            "Epoch 346/1000\n",
            " - 1s - loss: 0.5809 - acc: 0.6790 - val_loss: 0.6743 - val_acc: 0.6288\n",
            "Epoch 347/1000\n",
            " - 1s - loss: 0.5764 - acc: 0.6847 - val_loss: 0.6794 - val_acc: 0.6250\n",
            "Epoch 348/1000\n",
            " - 1s - loss: 0.5792 - acc: 0.6806 - val_loss: 0.6865 - val_acc: 0.6246\n",
            "Epoch 349/1000\n",
            " - 1s - loss: 0.5813 - acc: 0.6802 - val_loss: 0.6852 - val_acc: 0.6228\n",
            "Epoch 350/1000\n",
            " - 1s - loss: 0.5768 - acc: 0.6827 - val_loss: 0.6861 - val_acc: 0.6222\n",
            "Epoch 351/1000\n",
            " - 1s - loss: 0.5764 - acc: 0.6826 - val_loss: 0.6821 - val_acc: 0.6260\n",
            "Epoch 352/1000\n",
            " - 1s - loss: 0.5800 - acc: 0.6800 - val_loss: 0.6804 - val_acc: 0.6276\n",
            "Epoch 353/1000\n",
            " - 1s - loss: 0.5781 - acc: 0.6801 - val_loss: 0.6777 - val_acc: 0.6240\n",
            "Epoch 354/1000\n",
            " - 1s - loss: 0.5759 - acc: 0.6805 - val_loss: 0.6879 - val_acc: 0.6188\n",
            "Epoch 355/1000\n",
            " - 1s - loss: 0.5775 - acc: 0.6841 - val_loss: 0.6872 - val_acc: 0.6290\n",
            "Epoch 356/1000\n",
            " - 1s - loss: 0.5796 - acc: 0.6777 - val_loss: 0.6888 - val_acc: 0.6264\n",
            "Epoch 357/1000\n",
            " - 1s - loss: 0.5751 - acc: 0.6832 - val_loss: 0.6848 - val_acc: 0.6224\n",
            "Epoch 358/1000\n",
            " - 1s - loss: 0.5755 - acc: 0.6844 - val_loss: 0.6868 - val_acc: 0.6318\n",
            "Epoch 359/1000\n",
            " - 1s - loss: 0.5765 - acc: 0.6814 - val_loss: 0.6860 - val_acc: 0.6298\n",
            "Epoch 360/1000\n",
            " - 1s - loss: 0.5781 - acc: 0.6799 - val_loss: 0.6862 - val_acc: 0.6304\n",
            "Epoch 361/1000\n",
            " - 1s - loss: 0.5763 - acc: 0.6838 - val_loss: 0.6840 - val_acc: 0.6252\n",
            "Epoch 362/1000\n",
            " - 1s - loss: 0.5767 - acc: 0.6854 - val_loss: 0.6895 - val_acc: 0.6260\n",
            "Epoch 363/1000\n",
            " - 1s - loss: 0.5756 - acc: 0.6827 - val_loss: 0.6843 - val_acc: 0.6272\n",
            "Epoch 364/1000\n",
            " - 1s - loss: 0.5765 - acc: 0.6813 - val_loss: 0.6856 - val_acc: 0.6338\n",
            "Epoch 365/1000\n",
            " - 1s - loss: 0.5776 - acc: 0.6820 - val_loss: 0.6873 - val_acc: 0.6262\n",
            "Epoch 366/1000\n",
            " - 1s - loss: 0.5751 - acc: 0.6834 - val_loss: 0.6816 - val_acc: 0.6192\n",
            "Epoch 367/1000\n",
            " - 1s - loss: 0.5753 - acc: 0.6813 - val_loss: 0.6840 - val_acc: 0.6198\n",
            "Epoch 368/1000\n",
            " - 1s - loss: 0.5711 - acc: 0.6864 - val_loss: 0.6855 - val_acc: 0.6244\n",
            "Epoch 369/1000\n",
            " - 1s - loss: 0.5749 - acc: 0.6848 - val_loss: 0.7062 - val_acc: 0.6184\n",
            "Epoch 370/1000\n",
            " - 1s - loss: 0.5749 - acc: 0.6834 - val_loss: 0.6890 - val_acc: 0.6198\n",
            "Epoch 371/1000\n",
            " - 1s - loss: 0.5735 - acc: 0.6832 - val_loss: 0.6926 - val_acc: 0.6212\n",
            "Epoch 372/1000\n",
            " - 1s - loss: 0.5735 - acc: 0.6847 - val_loss: 0.6880 - val_acc: 0.6336\n",
            "Epoch 373/1000\n",
            " - 1s - loss: 0.5723 - acc: 0.6861 - val_loss: 0.6912 - val_acc: 0.6314\n",
            "Epoch 374/1000\n",
            " - 1s - loss: 0.5723 - acc: 0.6844 - val_loss: 0.6880 - val_acc: 0.6220\n",
            "Epoch 375/1000\n",
            " - 1s - loss: 0.5702 - acc: 0.6860 - val_loss: 0.6922 - val_acc: 0.6296\n",
            "Epoch 376/1000\n",
            " - 1s - loss: 0.5757 - acc: 0.6849 - val_loss: 0.6893 - val_acc: 0.6226\n",
            "Epoch 377/1000\n",
            " - 1s - loss: 0.5728 - acc: 0.6820 - val_loss: 0.6859 - val_acc: 0.6266\n",
            "Epoch 378/1000\n",
            " - 1s - loss: 0.5714 - acc: 0.6865 - val_loss: 0.6802 - val_acc: 0.6244\n",
            "Epoch 379/1000\n",
            " - 1s - loss: 0.5725 - acc: 0.6855 - val_loss: 0.6880 - val_acc: 0.6324\n",
            "Epoch 380/1000\n",
            " - 1s - loss: 0.5728 - acc: 0.6837 - val_loss: 0.6944 - val_acc: 0.6282\n",
            "Epoch 381/1000\n",
            " - 1s - loss: 0.5713 - acc: 0.6865 - val_loss: 0.6894 - val_acc: 0.6212\n",
            "Epoch 382/1000\n",
            " - 1s - loss: 0.5714 - acc: 0.6852 - val_loss: 0.6957 - val_acc: 0.6234\n",
            "Epoch 383/1000\n",
            " - 1s - loss: 0.5716 - acc: 0.6853 - val_loss: 0.6921 - val_acc: 0.6216\n",
            "Epoch 384/1000\n",
            " - 1s - loss: 0.5728 - acc: 0.6864 - val_loss: 0.6928 - val_acc: 0.6288\n",
            "Epoch 385/1000\n",
            " - 1s - loss: 0.5703 - acc: 0.6896 - val_loss: 0.6957 - val_acc: 0.6182\n",
            "Epoch 386/1000\n",
            " - 1s - loss: 0.5715 - acc: 0.6844 - val_loss: 0.6810 - val_acc: 0.6232\n",
            "Epoch 387/1000\n",
            " - 1s - loss: 0.5684 - acc: 0.6870 - val_loss: 0.7083 - val_acc: 0.6224\n",
            "Epoch 388/1000\n",
            " - 1s - loss: 0.5723 - acc: 0.6821 - val_loss: 0.6990 - val_acc: 0.6270\n",
            "Epoch 389/1000\n",
            " - 1s - loss: 0.5693 - acc: 0.6909 - val_loss: 0.7027 - val_acc: 0.6214\n",
            "Epoch 390/1000\n",
            " - 1s - loss: 0.5677 - acc: 0.6866 - val_loss: 0.6915 - val_acc: 0.6186\n",
            "Epoch 391/1000\n",
            " - 1s - loss: 0.5700 - acc: 0.6877 - val_loss: 0.6907 - val_acc: 0.6322\n",
            "Epoch 392/1000\n",
            " - 1s - loss: 0.5699 - acc: 0.6874 - val_loss: 0.6990 - val_acc: 0.6252\n",
            "Epoch 393/1000\n",
            " - 1s - loss: 0.5688 - acc: 0.6855 - val_loss: 0.6857 - val_acc: 0.6304\n",
            "Epoch 394/1000\n",
            " - 1s - loss: 0.5731 - acc: 0.6898 - val_loss: 0.6912 - val_acc: 0.6260\n",
            "Epoch 395/1000\n",
            " - 1s - loss: 0.5667 - acc: 0.6894 - val_loss: 0.6988 - val_acc: 0.6236\n",
            "Epoch 396/1000\n",
            " - 1s - loss: 0.5720 - acc: 0.6872 - val_loss: 0.7004 - val_acc: 0.6224\n",
            "Epoch 397/1000\n",
            " - 1s - loss: 0.5696 - acc: 0.6890 - val_loss: 0.6989 - val_acc: 0.6192\n",
            "Epoch 398/1000\n",
            " - 1s - loss: 0.5703 - acc: 0.6884 - val_loss: 0.6904 - val_acc: 0.6234\n",
            "Epoch 399/1000\n",
            " - 1s - loss: 0.5681 - acc: 0.6901 - val_loss: 0.7005 - val_acc: 0.6268\n",
            "Epoch 400/1000\n",
            " - 1s - loss: 0.5684 - acc: 0.6881 - val_loss: 0.7037 - val_acc: 0.6214\n",
            "Epoch 401/1000\n",
            " - 1s - loss: 0.5704 - acc: 0.6852 - val_loss: 0.6945 - val_acc: 0.6258\n",
            "Epoch 402/1000\n",
            " - 1s - loss: 0.5661 - acc: 0.6918 - val_loss: 0.6971 - val_acc: 0.6160\n",
            "Epoch 403/1000\n",
            " - 1s - loss: 0.5664 - acc: 0.6882 - val_loss: 0.6897 - val_acc: 0.6226\n",
            "Epoch 404/1000\n",
            " - 1s - loss: 0.5684 - acc: 0.6889 - val_loss: 0.6960 - val_acc: 0.6212\n",
            "Epoch 405/1000\n",
            " - 1s - loss: 0.5666 - acc: 0.6879 - val_loss: 0.6930 - val_acc: 0.6246\n",
            "Epoch 406/1000\n",
            " - 1s - loss: 0.5644 - acc: 0.6928 - val_loss: 0.6946 - val_acc: 0.6222\n",
            "Epoch 407/1000\n",
            " - 1s - loss: 0.5686 - acc: 0.6888 - val_loss: 0.7099 - val_acc: 0.6236\n",
            "Epoch 408/1000\n",
            " - 1s - loss: 0.5667 - acc: 0.6896 - val_loss: 0.6992 - val_acc: 0.6202\n",
            "Epoch 409/1000\n",
            " - 1s - loss: 0.5673 - acc: 0.6878 - val_loss: 0.6974 - val_acc: 0.6234\n",
            "Epoch 410/1000\n",
            " - 1s - loss: 0.5610 - acc: 0.6946 - val_loss: 0.7034 - val_acc: 0.6230\n",
            "Epoch 411/1000\n",
            " - 1s - loss: 0.5636 - acc: 0.6899 - val_loss: 0.6931 - val_acc: 0.6214\n",
            "Epoch 412/1000\n",
            " - 1s - loss: 0.5671 - acc: 0.6906 - val_loss: 0.6937 - val_acc: 0.6234\n",
            "Epoch 413/1000\n",
            " - 1s - loss: 0.5653 - acc: 0.6912 - val_loss: 0.7072 - val_acc: 0.6248\n",
            "Epoch 414/1000\n",
            " - 1s - loss: 0.5675 - acc: 0.6881 - val_loss: 0.7051 - val_acc: 0.6200\n",
            "Epoch 415/1000\n",
            " - 1s - loss: 0.5660 - acc: 0.6892 - val_loss: 0.7003 - val_acc: 0.6262\n",
            "Epoch 416/1000\n",
            " - 1s - loss: 0.5665 - acc: 0.6874 - val_loss: 0.7059 - val_acc: 0.6198\n",
            "Epoch 417/1000\n",
            " - 1s - loss: 0.5641 - acc: 0.6916 - val_loss: 0.7064 - val_acc: 0.6238\n",
            "Epoch 418/1000\n",
            " - 1s - loss: 0.5667 - acc: 0.6901 - val_loss: 0.6968 - val_acc: 0.6158\n",
            "Epoch 419/1000\n",
            " - 1s - loss: 0.5691 - acc: 0.6855 - val_loss: 0.6958 - val_acc: 0.6262\n",
            "Epoch 420/1000\n",
            " - 1s - loss: 0.5654 - acc: 0.6917 - val_loss: 0.7001 - val_acc: 0.6286\n",
            "Epoch 421/1000\n",
            " - 1s - loss: 0.5652 - acc: 0.6905 - val_loss: 0.7010 - val_acc: 0.6268\n",
            "Epoch 422/1000\n",
            " - 1s - loss: 0.5611 - acc: 0.6930 - val_loss: 0.6957 - val_acc: 0.6250\n",
            "Epoch 423/1000\n",
            " - 1s - loss: 0.5659 - acc: 0.6908 - val_loss: 0.6962 - val_acc: 0.6290\n",
            "Epoch 424/1000\n",
            " - 1s - loss: 0.5636 - acc: 0.6937 - val_loss: 0.6929 - val_acc: 0.6234\n",
            "Epoch 425/1000\n",
            " - 1s - loss: 0.5630 - acc: 0.6938 - val_loss: 0.7004 - val_acc: 0.6222\n",
            "Epoch 426/1000\n",
            " - 1s - loss: 0.5643 - acc: 0.6906 - val_loss: 0.7018 - val_acc: 0.6270\n",
            "Epoch 427/1000\n",
            " - 1s - loss: 0.5621 - acc: 0.6929 - val_loss: 0.6978 - val_acc: 0.6272\n",
            "Epoch 428/1000\n",
            " - 1s - loss: 0.5618 - acc: 0.6941 - val_loss: 0.7047 - val_acc: 0.6306\n",
            "Epoch 429/1000\n",
            " - 1s - loss: 0.5604 - acc: 0.6920 - val_loss: 0.7058 - val_acc: 0.6276\n",
            "Epoch 430/1000\n",
            " - 1s - loss: 0.5581 - acc: 0.6959 - val_loss: 0.7068 - val_acc: 0.6286\n",
            "Epoch 431/1000\n",
            " - 1s - loss: 0.5632 - acc: 0.6929 - val_loss: 0.7065 - val_acc: 0.6266\n",
            "Epoch 432/1000\n",
            " - 1s - loss: 0.5630 - acc: 0.6920 - val_loss: 0.7121 - val_acc: 0.6252\n",
            "Epoch 433/1000\n",
            " - 1s - loss: 0.5640 - acc: 0.6896 - val_loss: 0.6960 - val_acc: 0.6206\n",
            "Epoch 434/1000\n",
            " - 1s - loss: 0.5589 - acc: 0.6955 - val_loss: 0.7049 - val_acc: 0.6166\n",
            "Epoch 435/1000\n",
            " - 1s - loss: 0.5630 - acc: 0.6899 - val_loss: 0.7005 - val_acc: 0.6190\n",
            "Epoch 436/1000\n",
            " - 1s - loss: 0.5628 - acc: 0.6926 - val_loss: 0.7079 - val_acc: 0.6256\n",
            "Epoch 437/1000\n",
            " - 1s - loss: 0.5603 - acc: 0.6930 - val_loss: 0.7077 - val_acc: 0.6166\n",
            "Epoch 438/1000\n",
            " - 1s - loss: 0.5598 - acc: 0.6956 - val_loss: 0.7030 - val_acc: 0.6210\n",
            "Epoch 439/1000\n",
            " - 1s - loss: 0.5616 - acc: 0.6941 - val_loss: 0.7174 - val_acc: 0.6168\n",
            "Epoch 440/1000\n",
            " - 1s - loss: 0.5595 - acc: 0.6964 - val_loss: 0.7022 - val_acc: 0.6264\n",
            "Epoch 441/1000\n",
            " - 1s - loss: 0.5604 - acc: 0.6981 - val_loss: 0.7061 - val_acc: 0.6166\n",
            "Epoch 442/1000\n",
            " - 1s - loss: 0.5609 - acc: 0.6901 - val_loss: 0.7032 - val_acc: 0.6270\n",
            "Epoch 443/1000\n",
            " - 1s - loss: 0.5630 - acc: 0.6923 - val_loss: 0.7022 - val_acc: 0.6170\n",
            "Epoch 444/1000\n",
            " - 1s - loss: 0.5580 - acc: 0.6941 - val_loss: 0.7045 - val_acc: 0.6260\n",
            "Epoch 445/1000\n",
            " - 1s - loss: 0.5571 - acc: 0.6978 - val_loss: 0.7151 - val_acc: 0.6268\n",
            "Epoch 446/1000\n",
            " - 1s - loss: 0.5625 - acc: 0.6930 - val_loss: 0.7102 - val_acc: 0.6114\n",
            "Epoch 447/1000\n",
            " - 1s - loss: 0.5563 - acc: 0.6956 - val_loss: 0.7122 - val_acc: 0.6100\n",
            "Epoch 448/1000\n",
            " - 1s - loss: 0.5614 - acc: 0.6942 - val_loss: 0.7000 - val_acc: 0.6240\n",
            "Epoch 449/1000\n",
            " - 1s - loss: 0.5575 - acc: 0.6979 - val_loss: 0.7233 - val_acc: 0.6136\n",
            "Epoch 450/1000\n",
            " - 1s - loss: 0.5586 - acc: 0.6960 - val_loss: 0.7116 - val_acc: 0.6184\n",
            "Epoch 451/1000\n",
            " - 1s - loss: 0.5609 - acc: 0.6941 - val_loss: 0.7141 - val_acc: 0.6208\n",
            "Epoch 452/1000\n",
            " - 1s - loss: 0.5586 - acc: 0.6956 - val_loss: 0.7089 - val_acc: 0.6186\n",
            "Epoch 453/1000\n",
            " - 1s - loss: 0.5566 - acc: 0.6967 - val_loss: 0.7151 - val_acc: 0.6140\n",
            "Epoch 454/1000\n",
            " - 1s - loss: 0.5599 - acc: 0.6945 - val_loss: 0.7185 - val_acc: 0.6152\n",
            "Epoch 455/1000\n",
            " - 1s - loss: 0.5566 - acc: 0.6956 - val_loss: 0.7194 - val_acc: 0.6186\n",
            "Epoch 456/1000\n",
            " - 1s - loss: 0.5583 - acc: 0.6956 - val_loss: 0.7196 - val_acc: 0.6252\n",
            "Epoch 457/1000\n",
            " - 1s - loss: 0.5571 - acc: 0.6942 - val_loss: 0.7073 - val_acc: 0.6192\n",
            "Epoch 458/1000\n",
            " - 1s - loss: 0.5594 - acc: 0.6917 - val_loss: 0.7059 - val_acc: 0.6248\n",
            "Epoch 459/1000\n",
            " - 1s - loss: 0.5591 - acc: 0.6957 - val_loss: 0.7187 - val_acc: 0.6248\n",
            "Epoch 460/1000\n",
            " - 1s - loss: 0.5578 - acc: 0.6952 - val_loss: 0.7101 - val_acc: 0.6234\n",
            "Epoch 461/1000\n",
            " - 1s - loss: 0.5572 - acc: 0.6964 - val_loss: 0.7147 - val_acc: 0.6306\n",
            "Epoch 462/1000\n",
            " - 1s - loss: 0.5567 - acc: 0.6966 - val_loss: 0.7089 - val_acc: 0.6154\n",
            "Epoch 463/1000\n",
            " - 1s - loss: 0.5578 - acc: 0.6978 - val_loss: 0.7269 - val_acc: 0.6190\n",
            "Epoch 464/1000\n",
            " - 1s - loss: 0.5583 - acc: 0.6955 - val_loss: 0.7178 - val_acc: 0.6170\n",
            "Epoch 465/1000\n",
            " - 1s - loss: 0.5550 - acc: 0.6973 - val_loss: 0.7076 - val_acc: 0.6234\n",
            "Epoch 466/1000\n",
            " - 1s - loss: 0.5549 - acc: 0.7012 - val_loss: 0.7136 - val_acc: 0.6154\n",
            "Epoch 467/1000\n",
            " - 1s - loss: 0.5564 - acc: 0.6971 - val_loss: 0.7138 - val_acc: 0.6036\n",
            "Epoch 468/1000\n",
            " - 1s - loss: 0.5568 - acc: 0.6985 - val_loss: 0.7088 - val_acc: 0.6196\n",
            "Epoch 469/1000\n",
            " - 1s - loss: 0.5558 - acc: 0.6959 - val_loss: 0.7063 - val_acc: 0.6218\n",
            "Epoch 470/1000\n",
            " - 1s - loss: 0.5543 - acc: 0.6990 - val_loss: 0.7174 - val_acc: 0.6240\n",
            "Epoch 471/1000\n",
            " - 1s - loss: 0.5532 - acc: 0.6988 - val_loss: 0.7115 - val_acc: 0.6288\n",
            "Epoch 472/1000\n",
            " - 1s - loss: 0.5509 - acc: 0.7028 - val_loss: 0.7208 - val_acc: 0.6258\n",
            "Epoch 473/1000\n",
            " - 1s - loss: 0.5519 - acc: 0.7010 - val_loss: 0.7160 - val_acc: 0.6246\n",
            "Epoch 474/1000\n",
            " - 1s - loss: 0.5544 - acc: 0.7021 - val_loss: 0.7010 - val_acc: 0.6212\n",
            "Epoch 475/1000\n",
            " - 1s - loss: 0.5542 - acc: 0.6984 - val_loss: 0.7156 - val_acc: 0.6214\n",
            "Epoch 476/1000\n",
            " - 1s - loss: 0.5569 - acc: 0.6962 - val_loss: 0.7221 - val_acc: 0.6178\n",
            "Epoch 477/1000\n",
            " - 1s - loss: 0.5561 - acc: 0.6957 - val_loss: 0.7207 - val_acc: 0.6102\n",
            "Epoch 478/1000\n",
            " - 1s - loss: 0.5524 - acc: 0.6993 - val_loss: 0.7197 - val_acc: 0.6092\n",
            "Epoch 479/1000\n",
            " - 1s - loss: 0.5545 - acc: 0.6999 - val_loss: 0.7151 - val_acc: 0.6186\n",
            "Epoch 480/1000\n",
            " - 1s - loss: 0.5555 - acc: 0.6987 - val_loss: 0.7080 - val_acc: 0.6138\n",
            "Epoch 481/1000\n",
            " - 1s - loss: 0.5542 - acc: 0.6968 - val_loss: 0.7205 - val_acc: 0.6222\n",
            "Epoch 482/1000\n",
            " - 1s - loss: 0.5534 - acc: 0.6991 - val_loss: 0.7175 - val_acc: 0.6058\n",
            "Epoch 483/1000\n",
            " - 1s - loss: 0.5528 - acc: 0.6993 - val_loss: 0.7217 - val_acc: 0.6244\n",
            "Epoch 484/1000\n",
            " - 1s - loss: 0.5573 - acc: 0.6993 - val_loss: 0.7232 - val_acc: 0.6106\n",
            "Epoch 485/1000\n",
            " - 1s - loss: 0.5538 - acc: 0.6999 - val_loss: 0.7170 - val_acc: 0.6140\n",
            "Epoch 486/1000\n",
            " - 1s - loss: 0.5528 - acc: 0.6969 - val_loss: 0.7196 - val_acc: 0.6244\n",
            "Epoch 487/1000\n",
            " - 1s - loss: 0.5549 - acc: 0.6981 - val_loss: 0.7112 - val_acc: 0.6194\n",
            "Epoch 488/1000\n",
            " - 1s - loss: 0.5512 - acc: 0.7003 - val_loss: 0.7154 - val_acc: 0.6224\n",
            "Epoch 489/1000\n",
            " - 1s - loss: 0.5518 - acc: 0.7036 - val_loss: 0.7195 - val_acc: 0.6162\n",
            "Epoch 490/1000\n",
            " - 1s - loss: 0.5496 - acc: 0.7039 - val_loss: 0.7169 - val_acc: 0.6184\n",
            "Epoch 491/1000\n",
            " - 1s - loss: 0.5519 - acc: 0.6988 - val_loss: 0.7247 - val_acc: 0.6142\n",
            "Epoch 492/1000\n",
            " - 1s - loss: 0.5527 - acc: 0.6970 - val_loss: 0.7246 - val_acc: 0.6152\n",
            "Epoch 493/1000\n",
            " - 1s - loss: 0.5531 - acc: 0.7002 - val_loss: 0.7132 - val_acc: 0.6210\n",
            "Epoch 494/1000\n",
            " - 1s - loss: 0.5475 - acc: 0.7025 - val_loss: 0.7247 - val_acc: 0.6246\n",
            "Epoch 495/1000\n",
            " - 1s - loss: 0.5504 - acc: 0.7012 - val_loss: 0.7298 - val_acc: 0.6188\n",
            "Epoch 496/1000\n",
            " - 1s - loss: 0.5492 - acc: 0.7024 - val_loss: 0.7246 - val_acc: 0.6174\n",
            "Epoch 497/1000\n",
            " - 1s - loss: 0.5498 - acc: 0.7017 - val_loss: 0.7206 - val_acc: 0.6198\n",
            "Epoch 498/1000\n",
            " - 1s - loss: 0.5504 - acc: 0.7023 - val_loss: 0.7211 - val_acc: 0.6136\n",
            "Epoch 499/1000\n",
            " - 1s - loss: 0.5538 - acc: 0.7006 - val_loss: 0.7291 - val_acc: 0.6134\n",
            "Epoch 500/1000\n",
            " - 1s - loss: 0.5480 - acc: 0.7042 - val_loss: 0.7202 - val_acc: 0.6230\n",
            "Epoch 501/1000\n",
            " - 1s - loss: 0.5505 - acc: 0.7057 - val_loss: 0.7247 - val_acc: 0.6172\n",
            "Epoch 502/1000\n",
            " - 1s - loss: 0.5497 - acc: 0.7030 - val_loss: 0.7235 - val_acc: 0.6260\n",
            "Epoch 503/1000\n",
            " - 1s - loss: 0.5487 - acc: 0.7027 - val_loss: 0.7401 - val_acc: 0.6220\n",
            "Epoch 504/1000\n",
            " - 1s - loss: 0.5466 - acc: 0.7055 - val_loss: 0.7170 - val_acc: 0.6172\n",
            "Epoch 505/1000\n",
            " - 1s - loss: 0.5505 - acc: 0.7006 - val_loss: 0.7184 - val_acc: 0.6170\n",
            "Epoch 506/1000\n",
            " - 1s - loss: 0.5505 - acc: 0.6999 - val_loss: 0.7295 - val_acc: 0.6176\n",
            "Epoch 507/1000\n",
            " - 1s - loss: 0.5484 - acc: 0.7010 - val_loss: 0.7308 - val_acc: 0.6128\n",
            "Epoch 508/1000\n",
            " - 1s - loss: 0.5496 - acc: 0.7017 - val_loss: 0.7206 - val_acc: 0.6180\n",
            "Epoch 509/1000\n",
            " - 1s - loss: 0.5507 - acc: 0.7034 - val_loss: 0.7290 - val_acc: 0.6136\n",
            "Epoch 510/1000\n",
            " - 1s - loss: 0.5480 - acc: 0.7021 - val_loss: 0.7259 - val_acc: 0.6210\n",
            "Epoch 511/1000\n",
            " - 1s - loss: 0.5489 - acc: 0.7035 - val_loss: 0.7276 - val_acc: 0.6252\n",
            "Epoch 512/1000\n",
            " - 1s - loss: 0.5460 - acc: 0.7034 - val_loss: 0.7269 - val_acc: 0.6210\n",
            "Epoch 513/1000\n",
            " - 1s - loss: 0.5462 - acc: 0.7043 - val_loss: 0.7191 - val_acc: 0.6280\n",
            "Epoch 514/1000\n",
            " - 1s - loss: 0.5462 - acc: 0.7048 - val_loss: 0.7264 - val_acc: 0.6186\n",
            "Epoch 515/1000\n",
            " - 1s - loss: 0.5504 - acc: 0.7012 - val_loss: 0.7226 - val_acc: 0.6244\n",
            "Epoch 516/1000\n",
            " - 1s - loss: 0.5463 - acc: 0.7041 - val_loss: 0.7254 - val_acc: 0.6138\n",
            "Epoch 517/1000\n",
            " - 1s - loss: 0.5451 - acc: 0.7072 - val_loss: 0.7260 - val_acc: 0.6096\n",
            "Epoch 518/1000\n",
            " - 1s - loss: 0.5446 - acc: 0.7075 - val_loss: 0.7237 - val_acc: 0.6188\n",
            "Epoch 519/1000\n",
            " - 1s - loss: 0.5455 - acc: 0.7055 - val_loss: 0.7288 - val_acc: 0.6188\n",
            "Epoch 520/1000\n",
            " - 1s - loss: 0.5465 - acc: 0.7012 - val_loss: 0.7268 - val_acc: 0.6092\n",
            "Epoch 521/1000\n",
            " - 1s - loss: 0.5498 - acc: 0.7036 - val_loss: 0.7257 - val_acc: 0.6182\n",
            "Epoch 522/1000\n",
            " - 1s - loss: 0.5492 - acc: 0.7038 - val_loss: 0.7255 - val_acc: 0.6194\n",
            "Epoch 523/1000\n",
            " - 1s - loss: 0.5463 - acc: 0.7053 - val_loss: 0.7305 - val_acc: 0.6244\n",
            "Epoch 524/1000\n",
            " - 1s - loss: 0.5493 - acc: 0.7031 - val_loss: 0.7241 - val_acc: 0.6130\n",
            "Epoch 525/1000\n",
            " - 1s - loss: 0.5476 - acc: 0.6995 - val_loss: 0.7231 - val_acc: 0.6218\n",
            "Epoch 526/1000\n",
            " - 1s - loss: 0.5470 - acc: 0.7070 - val_loss: 0.7264 - val_acc: 0.6202\n",
            "Epoch 527/1000\n",
            " - 1s - loss: 0.5492 - acc: 0.7050 - val_loss: 0.7386 - val_acc: 0.6188\n",
            "Epoch 528/1000\n",
            " - 1s - loss: 0.5429 - acc: 0.7053 - val_loss: 0.7246 - val_acc: 0.6234\n",
            "Epoch 529/1000\n",
            " - 1s - loss: 0.5436 - acc: 0.7051 - val_loss: 0.7338 - val_acc: 0.6172\n",
            "Epoch 530/1000\n",
            " - 1s - loss: 0.5445 - acc: 0.7056 - val_loss: 0.7317 - val_acc: 0.6168\n",
            "Epoch 531/1000\n",
            " - 1s - loss: 0.5446 - acc: 0.7060 - val_loss: 0.7314 - val_acc: 0.6178\n",
            "Epoch 532/1000\n",
            " - 1s - loss: 0.5415 - acc: 0.7081 - val_loss: 0.7298 - val_acc: 0.6210\n",
            "Epoch 533/1000\n",
            " - 1s - loss: 0.5412 - acc: 0.7082 - val_loss: 0.7322 - val_acc: 0.6152\n",
            "Epoch 534/1000\n",
            " - 1s - loss: 0.5431 - acc: 0.7071 - val_loss: 0.7319 - val_acc: 0.6134\n",
            "Epoch 535/1000\n",
            " - 1s - loss: 0.5412 - acc: 0.7088 - val_loss: 0.7338 - val_acc: 0.6070\n",
            "Epoch 536/1000\n",
            " - 1s - loss: 0.5408 - acc: 0.7059 - val_loss: 0.7422 - val_acc: 0.6104\n",
            "Epoch 537/1000\n",
            " - 1s - loss: 0.5427 - acc: 0.7054 - val_loss: 0.7388 - val_acc: 0.6150\n",
            "Epoch 538/1000\n",
            " - 1s - loss: 0.5419 - acc: 0.7095 - val_loss: 0.7305 - val_acc: 0.6166\n",
            "Epoch 539/1000\n",
            " - 1s - loss: 0.5442 - acc: 0.7075 - val_loss: 0.7273 - val_acc: 0.6222\n",
            "Epoch 540/1000\n",
            " - 1s - loss: 0.5424 - acc: 0.7082 - val_loss: 0.7457 - val_acc: 0.6150\n",
            "Epoch 541/1000\n",
            " - 1s - loss: 0.5439 - acc: 0.7071 - val_loss: 0.7427 - val_acc: 0.6234\n",
            "Epoch 542/1000\n",
            " - 1s - loss: 0.5446 - acc: 0.7035 - val_loss: 0.7410 - val_acc: 0.6172\n",
            "Epoch 543/1000\n",
            " - 1s - loss: 0.5437 - acc: 0.7063 - val_loss: 0.7245 - val_acc: 0.6174\n",
            "Epoch 544/1000\n",
            " - 1s - loss: 0.5389 - acc: 0.7103 - val_loss: 0.7399 - val_acc: 0.6128\n",
            "Epoch 545/1000\n",
            " - 1s - loss: 0.5430 - acc: 0.7098 - val_loss: 0.7300 - val_acc: 0.6104\n",
            "Epoch 546/1000\n",
            " - 1s - loss: 0.5424 - acc: 0.7068 - val_loss: 0.7385 - val_acc: 0.6190\n",
            "Epoch 547/1000\n",
            " - 1s - loss: 0.5415 - acc: 0.7095 - val_loss: 0.7292 - val_acc: 0.6214\n",
            "Epoch 548/1000\n",
            " - 1s - loss: 0.5407 - acc: 0.7082 - val_loss: 0.7428 - val_acc: 0.6204\n",
            "Epoch 549/1000\n",
            " - 1s - loss: 0.5434 - acc: 0.7052 - val_loss: 0.7267 - val_acc: 0.6236\n",
            "Epoch 550/1000\n",
            " - 1s - loss: 0.5413 - acc: 0.7063 - val_loss: 0.7480 - val_acc: 0.6204\n",
            "Epoch 551/1000\n",
            " - 1s - loss: 0.5423 - acc: 0.7084 - val_loss: 0.7312 - val_acc: 0.6164\n",
            "Epoch 552/1000\n",
            " - 1s - loss: 0.5423 - acc: 0.7057 - val_loss: 0.7372 - val_acc: 0.6174\n",
            "Epoch 553/1000\n",
            " - 1s - loss: 0.5408 - acc: 0.7099 - val_loss: 0.7275 - val_acc: 0.6166\n",
            "Epoch 554/1000\n",
            " - 1s - loss: 0.5393 - acc: 0.7042 - val_loss: 0.7364 - val_acc: 0.6110\n",
            "Epoch 555/1000\n",
            " - 1s - loss: 0.5407 - acc: 0.7092 - val_loss: 0.7481 - val_acc: 0.6242\n",
            "Epoch 556/1000\n",
            " - 1s - loss: 0.5395 - acc: 0.7090 - val_loss: 0.7419 - val_acc: 0.6172\n",
            "Epoch 557/1000\n",
            " - 1s - loss: 0.5372 - acc: 0.7119 - val_loss: 0.7394 - val_acc: 0.6146\n",
            "Epoch 558/1000\n",
            " - 1s - loss: 0.5404 - acc: 0.7103 - val_loss: 0.7376 - val_acc: 0.6172\n",
            "Epoch 559/1000\n",
            " - 1s - loss: 0.5396 - acc: 0.7102 - val_loss: 0.7390 - val_acc: 0.6174\n",
            "Epoch 560/1000\n",
            " - 1s - loss: 0.5415 - acc: 0.7093 - val_loss: 0.7374 - val_acc: 0.6126\n",
            "Epoch 561/1000\n",
            " - 1s - loss: 0.5373 - acc: 0.7099 - val_loss: 0.7522 - val_acc: 0.6164\n",
            "Epoch 562/1000\n",
            " - 1s - loss: 0.5418 - acc: 0.7078 - val_loss: 0.7399 - val_acc: 0.6126\n",
            "Epoch 563/1000\n",
            " - 1s - loss: 0.5377 - acc: 0.7105 - val_loss: 0.7436 - val_acc: 0.6102\n",
            "Epoch 564/1000\n",
            " - 1s - loss: 0.5410 - acc: 0.7086 - val_loss: 0.7488 - val_acc: 0.6136\n",
            "Epoch 565/1000\n",
            " - 1s - loss: 0.5376 - acc: 0.7074 - val_loss: 0.7462 - val_acc: 0.6150\n",
            "Epoch 566/1000\n",
            " - 1s - loss: 0.5406 - acc: 0.7112 - val_loss: 0.7368 - val_acc: 0.6112\n",
            "Epoch 567/1000\n",
            " - 1s - loss: 0.5409 - acc: 0.7091 - val_loss: 0.7466 - val_acc: 0.6180\n",
            "Epoch 568/1000\n",
            " - 1s - loss: 0.5376 - acc: 0.7115 - val_loss: 0.7407 - val_acc: 0.6120\n",
            "Epoch 569/1000\n",
            " - 1s - loss: 0.5415 - acc: 0.7063 - val_loss: 0.7451 - val_acc: 0.6196\n",
            "Epoch 570/1000\n",
            " - 1s - loss: 0.5392 - acc: 0.7081 - val_loss: 0.7398 - val_acc: 0.6204\n",
            "Epoch 571/1000\n",
            " - 1s - loss: 0.5373 - acc: 0.7095 - val_loss: 0.7571 - val_acc: 0.6186\n",
            "Epoch 572/1000\n",
            " - 1s - loss: 0.5366 - acc: 0.7122 - val_loss: 0.7574 - val_acc: 0.6172\n",
            "Epoch 573/1000\n",
            " - 1s - loss: 0.5399 - acc: 0.7120 - val_loss: 0.7562 - val_acc: 0.6198\n",
            "Epoch 574/1000\n",
            " - 1s - loss: 0.5400 - acc: 0.7075 - val_loss: 0.7448 - val_acc: 0.6226\n",
            "Epoch 575/1000\n",
            " - 1s - loss: 0.5339 - acc: 0.7140 - val_loss: 0.7422 - val_acc: 0.6148\n",
            "Epoch 576/1000\n",
            " - 1s - loss: 0.5350 - acc: 0.7122 - val_loss: 0.7491 - val_acc: 0.6144\n",
            "Epoch 577/1000\n",
            " - 1s - loss: 0.5372 - acc: 0.7091 - val_loss: 0.7441 - val_acc: 0.6194\n",
            "Epoch 578/1000\n",
            " - 1s - loss: 0.5377 - acc: 0.7092 - val_loss: 0.7450 - val_acc: 0.6188\n",
            "Epoch 579/1000\n",
            " - 1s - loss: 0.5356 - acc: 0.7168 - val_loss: 0.7547 - val_acc: 0.6180\n",
            "Epoch 580/1000\n",
            " - 1s - loss: 0.5351 - acc: 0.7150 - val_loss: 0.7524 - val_acc: 0.6100\n",
            "Epoch 581/1000\n",
            " - 1s - loss: 0.5355 - acc: 0.7143 - val_loss: 0.7541 - val_acc: 0.6172\n",
            "Epoch 582/1000\n",
            " - 1s - loss: 0.5348 - acc: 0.7146 - val_loss: 0.7445 - val_acc: 0.6094\n",
            "Epoch 583/1000\n",
            " - 1s - loss: 0.5351 - acc: 0.7145 - val_loss: 0.7422 - val_acc: 0.6212\n",
            "Epoch 584/1000\n",
            " - 1s - loss: 0.5312 - acc: 0.7143 - val_loss: 0.7542 - val_acc: 0.6208\n",
            "Epoch 585/1000\n",
            " - 1s - loss: 0.5355 - acc: 0.7107 - val_loss: 0.7561 - val_acc: 0.6080\n",
            "Epoch 586/1000\n",
            " - 1s - loss: 0.5357 - acc: 0.7118 - val_loss: 0.7406 - val_acc: 0.6134\n",
            "Epoch 587/1000\n",
            " - 1s - loss: 0.5325 - acc: 0.7140 - val_loss: 0.7491 - val_acc: 0.6158\n",
            "Epoch 588/1000\n",
            " - 1s - loss: 0.5323 - acc: 0.7161 - val_loss: 0.7539 - val_acc: 0.6132\n",
            "Epoch 589/1000\n",
            " - 1s - loss: 0.5378 - acc: 0.7090 - val_loss: 0.7315 - val_acc: 0.6174\n",
            "Epoch 590/1000\n",
            " - 1s - loss: 0.5369 - acc: 0.7096 - val_loss: 0.7502 - val_acc: 0.6098\n",
            "Epoch 591/1000\n",
            " - 1s - loss: 0.5347 - acc: 0.7142 - val_loss: 0.7422 - val_acc: 0.6082\n",
            "Epoch 592/1000\n",
            " - 1s - loss: 0.5358 - acc: 0.7128 - val_loss: 0.7508 - val_acc: 0.6044\n",
            "Epoch 593/1000\n",
            " - 1s - loss: 0.5364 - acc: 0.7116 - val_loss: 0.7474 - val_acc: 0.6206\n",
            "Epoch 594/1000\n",
            " - 1s - loss: 0.5360 - acc: 0.7106 - val_loss: 0.7563 - val_acc: 0.6160\n",
            "Epoch 595/1000\n",
            " - 1s - loss: 0.5297 - acc: 0.7172 - val_loss: 0.7565 - val_acc: 0.6216\n",
            "Epoch 596/1000\n",
            " - 1s - loss: 0.5356 - acc: 0.7102 - val_loss: 0.7622 - val_acc: 0.6122\n",
            "Epoch 597/1000\n",
            " - 1s - loss: 0.5335 - acc: 0.7115 - val_loss: 0.7544 - val_acc: 0.6096\n",
            "Epoch 598/1000\n",
            " - 1s - loss: 0.5329 - acc: 0.7147 - val_loss: 0.7568 - val_acc: 0.6166\n",
            "Epoch 599/1000\n",
            " - 1s - loss: 0.5333 - acc: 0.7145 - val_loss: 0.7467 - val_acc: 0.6182\n",
            "Epoch 600/1000\n",
            " - 1s - loss: 0.5345 - acc: 0.7143 - val_loss: 0.7505 - val_acc: 0.6150\n",
            "Epoch 601/1000\n",
            " - 1s - loss: 0.5353 - acc: 0.7107 - val_loss: 0.7454 - val_acc: 0.6154\n",
            "Epoch 602/1000\n",
            " - 1s - loss: 0.5343 - acc: 0.7156 - val_loss: 0.7425 - val_acc: 0.6214\n",
            "Epoch 603/1000\n",
            " - 1s - loss: 0.5300 - acc: 0.7186 - val_loss: 0.7608 - val_acc: 0.6146\n",
            "Epoch 604/1000\n",
            " - 1s - loss: 0.5346 - acc: 0.7118 - val_loss: 0.7544 - val_acc: 0.6274\n",
            "Epoch 605/1000\n",
            " - 1s - loss: 0.5320 - acc: 0.7164 - val_loss: 0.7551 - val_acc: 0.6104\n",
            "Epoch 606/1000\n",
            " - 1s - loss: 0.5353 - acc: 0.7167 - val_loss: 0.7420 - val_acc: 0.6062\n",
            "Epoch 607/1000\n",
            " - 1s - loss: 0.5311 - acc: 0.7150 - val_loss: 0.7505 - val_acc: 0.6166\n",
            "Epoch 608/1000\n",
            " - 1s - loss: 0.5389 - acc: 0.7089 - val_loss: 0.7403 - val_acc: 0.6274\n",
            "Epoch 609/1000\n",
            " - 1s - loss: 0.5320 - acc: 0.7125 - val_loss: 0.7499 - val_acc: 0.6162\n",
            "Epoch 610/1000\n",
            " - 1s - loss: 0.5311 - acc: 0.7171 - val_loss: 0.7696 - val_acc: 0.6212\n",
            "Epoch 611/1000\n",
            " - 1s - loss: 0.5369 - acc: 0.7131 - val_loss: 0.7495 - val_acc: 0.6144\n",
            "Epoch 612/1000\n",
            " - 1s - loss: 0.5307 - acc: 0.7186 - val_loss: 0.7652 - val_acc: 0.6198\n",
            "Epoch 613/1000\n",
            " - 1s - loss: 0.5281 - acc: 0.7159 - val_loss: 0.7565 - val_acc: 0.6184\n",
            "Epoch 614/1000\n",
            " - 1s - loss: 0.5355 - acc: 0.7102 - val_loss: 0.7474 - val_acc: 0.6210\n",
            "Epoch 615/1000\n",
            " - 1s - loss: 0.5338 - acc: 0.7089 - val_loss: 0.7389 - val_acc: 0.6110\n",
            "Epoch 616/1000\n",
            " - 1s - loss: 0.5297 - acc: 0.7189 - val_loss: 0.7605 - val_acc: 0.6102\n",
            "Epoch 617/1000\n",
            " - 1s - loss: 0.5283 - acc: 0.7165 - val_loss: 0.7544 - val_acc: 0.6156\n",
            "Epoch 618/1000\n",
            " - 1s - loss: 0.5246 - acc: 0.7204 - val_loss: 0.7654 - val_acc: 0.6132\n",
            "Epoch 619/1000\n",
            " - 1s - loss: 0.5286 - acc: 0.7140 - val_loss: 0.7607 - val_acc: 0.6136\n",
            "Epoch 620/1000\n",
            " - 1s - loss: 0.5324 - acc: 0.7128 - val_loss: 0.7489 - val_acc: 0.6254\n",
            "Epoch 621/1000\n",
            " - 1s - loss: 0.5299 - acc: 0.7178 - val_loss: 0.7587 - val_acc: 0.6096\n",
            "Epoch 622/1000\n",
            " - 1s - loss: 0.5315 - acc: 0.7128 - val_loss: 0.7700 - val_acc: 0.6204\n",
            "Epoch 623/1000\n",
            " - 1s - loss: 0.5300 - acc: 0.7121 - val_loss: 0.7563 - val_acc: 0.6182\n",
            "Epoch 624/1000\n",
            " - 1s - loss: 0.5266 - acc: 0.7183 - val_loss: 0.7669 - val_acc: 0.6150\n",
            "Epoch 625/1000\n",
            " - 1s - loss: 0.5297 - acc: 0.7153 - val_loss: 0.7497 - val_acc: 0.6190\n",
            "Epoch 626/1000\n",
            " - 1s - loss: 0.5250 - acc: 0.7189 - val_loss: 0.7648 - val_acc: 0.6174\n",
            "Epoch 627/1000\n",
            " - 1s - loss: 0.5297 - acc: 0.7138 - val_loss: 0.7761 - val_acc: 0.6098\n",
            "Epoch 628/1000\n",
            " - 1s - loss: 0.5259 - acc: 0.7192 - val_loss: 0.7535 - val_acc: 0.6148\n",
            "Epoch 629/1000\n",
            " - 1s - loss: 0.5293 - acc: 0.7168 - val_loss: 0.7534 - val_acc: 0.6068\n",
            "Epoch 630/1000\n",
            " - 1s - loss: 0.5255 - acc: 0.7182 - val_loss: 0.7645 - val_acc: 0.6164\n",
            "Epoch 631/1000\n",
            " - 1s - loss: 0.5293 - acc: 0.7154 - val_loss: 0.7562 - val_acc: 0.6192\n",
            "Epoch 632/1000\n",
            " - 1s - loss: 0.5293 - acc: 0.7140 - val_loss: 0.7739 - val_acc: 0.6142\n",
            "Epoch 633/1000\n",
            " - 1s - loss: 0.5318 - acc: 0.7157 - val_loss: 0.7554 - val_acc: 0.6136\n",
            "Epoch 634/1000\n",
            " - 1s - loss: 0.5316 - acc: 0.7132 - val_loss: 0.7512 - val_acc: 0.6140\n",
            "Epoch 635/1000\n",
            " - 1s - loss: 0.5270 - acc: 0.7196 - val_loss: 0.7719 - val_acc: 0.6070\n",
            "Epoch 636/1000\n",
            " - 1s - loss: 0.5281 - acc: 0.7171 - val_loss: 0.7557 - val_acc: 0.6088\n",
            "Epoch 637/1000\n",
            " - 1s - loss: 0.5252 - acc: 0.7204 - val_loss: 0.7574 - val_acc: 0.6142\n",
            "Epoch 638/1000\n",
            " - 1s - loss: 0.5283 - acc: 0.7191 - val_loss: 0.7630 - val_acc: 0.6062\n",
            "Epoch 639/1000\n",
            " - 1s - loss: 0.5299 - acc: 0.7147 - val_loss: 0.7547 - val_acc: 0.6180\n",
            "Epoch 640/1000\n",
            " - 1s - loss: 0.5273 - acc: 0.7190 - val_loss: 0.7627 - val_acc: 0.6134\n",
            "Epoch 641/1000\n",
            " - 1s - loss: 0.5299 - acc: 0.7160 - val_loss: 0.7532 - val_acc: 0.6100\n",
            "Epoch 642/1000\n",
            " - 1s - loss: 0.5253 - acc: 0.7211 - val_loss: 0.7683 - val_acc: 0.6170\n",
            "Epoch 643/1000\n",
            " - 1s - loss: 0.5304 - acc: 0.7152 - val_loss: 0.7708 - val_acc: 0.6204\n",
            "Epoch 644/1000\n",
            " - 1s - loss: 0.5255 - acc: 0.7200 - val_loss: 0.7505 - val_acc: 0.6200\n",
            "Epoch 645/1000\n",
            " - 1s - loss: 0.5293 - acc: 0.7146 - val_loss: 0.7578 - val_acc: 0.6002\n",
            "Epoch 646/1000\n",
            " - 1s - loss: 0.5290 - acc: 0.7151 - val_loss: 0.7619 - val_acc: 0.6128\n",
            "Epoch 647/1000\n",
            " - 1s - loss: 0.5234 - acc: 0.7194 - val_loss: 0.7687 - val_acc: 0.6160\n",
            "Epoch 648/1000\n",
            " - 1s - loss: 0.5238 - acc: 0.7215 - val_loss: 0.7609 - val_acc: 0.6144\n",
            "Epoch 649/1000\n",
            " - 1s - loss: 0.5270 - acc: 0.7183 - val_loss: 0.7543 - val_acc: 0.6072\n",
            "Epoch 650/1000\n",
            " - 1s - loss: 0.5270 - acc: 0.7146 - val_loss: 0.7489 - val_acc: 0.6172\n",
            "Epoch 651/1000\n",
            " - 1s - loss: 0.5233 - acc: 0.7164 - val_loss: 0.7748 - val_acc: 0.6174\n",
            "Epoch 652/1000\n",
            " - 1s - loss: 0.5308 - acc: 0.7143 - val_loss: 0.7571 - val_acc: 0.6072\n",
            "Epoch 653/1000\n",
            " - 1s - loss: 0.5250 - acc: 0.7190 - val_loss: 0.7688 - val_acc: 0.6198\n",
            "Epoch 654/1000\n",
            " - 1s - loss: 0.5289 - acc: 0.7179 - val_loss: 0.7474 - val_acc: 0.6162\n",
            "Epoch 655/1000\n",
            " - 1s - loss: 0.5229 - acc: 0.7221 - val_loss: 0.7671 - val_acc: 0.6152\n",
            "Epoch 656/1000\n",
            " - 1s - loss: 0.5241 - acc: 0.7232 - val_loss: 0.7594 - val_acc: 0.6126\n",
            "Epoch 657/1000\n",
            " - 1s - loss: 0.5269 - acc: 0.7174 - val_loss: 0.7556 - val_acc: 0.6154\n",
            "Epoch 658/1000\n",
            " - 1s - loss: 0.5268 - acc: 0.7179 - val_loss: 0.7564 - val_acc: 0.6156\n",
            "Epoch 659/1000\n",
            " - 1s - loss: 0.5277 - acc: 0.7212 - val_loss: 0.7585 - val_acc: 0.6180\n",
            "Epoch 660/1000\n",
            " - 1s - loss: 0.5240 - acc: 0.7191 - val_loss: 0.7592 - val_acc: 0.6100\n",
            "Epoch 661/1000\n",
            " - 1s - loss: 0.5202 - acc: 0.7243 - val_loss: 0.7570 - val_acc: 0.6162\n",
            "Epoch 662/1000\n",
            " - 1s - loss: 0.5251 - acc: 0.7187 - val_loss: 0.7669 - val_acc: 0.6222\n",
            "Epoch 663/1000\n",
            " - 1s - loss: 0.5240 - acc: 0.7208 - val_loss: 0.7629 - val_acc: 0.6176\n",
            "Epoch 664/1000\n",
            " - 1s - loss: 0.5250 - acc: 0.7197 - val_loss: 0.7776 - val_acc: 0.6168\n",
            "Epoch 665/1000\n",
            " - 1s - loss: 0.5269 - acc: 0.7230 - val_loss: 0.7558 - val_acc: 0.6144\n",
            "Epoch 666/1000\n",
            " - 1s - loss: 0.5264 - acc: 0.7153 - val_loss: 0.7536 - val_acc: 0.6108\n",
            "Epoch 667/1000\n",
            " - 1s - loss: 0.5258 - acc: 0.7197 - val_loss: 0.7612 - val_acc: 0.6212\n",
            "Epoch 668/1000\n",
            " - 1s - loss: 0.5221 - acc: 0.7189 - val_loss: 0.7663 - val_acc: 0.6098\n",
            "Epoch 669/1000\n",
            " - 1s - loss: 0.5259 - acc: 0.7173 - val_loss: 0.7709 - val_acc: 0.6126\n",
            "Epoch 670/1000\n",
            " - 1s - loss: 0.5191 - acc: 0.7217 - val_loss: 0.7723 - val_acc: 0.6050\n",
            "Epoch 671/1000\n",
            " - 1s - loss: 0.5252 - acc: 0.7175 - val_loss: 0.7591 - val_acc: 0.6138\n",
            "Epoch 672/1000\n",
            " - 1s - loss: 0.5230 - acc: 0.7192 - val_loss: 0.7716 - val_acc: 0.6174\n",
            "Epoch 673/1000\n",
            " - 1s - loss: 0.5179 - acc: 0.7255 - val_loss: 0.7630 - val_acc: 0.6110\n",
            "Epoch 674/1000\n",
            " - 1s - loss: 0.5215 - acc: 0.7236 - val_loss: 0.7793 - val_acc: 0.6112\n",
            "Epoch 675/1000\n",
            " - 1s - loss: 0.5206 - acc: 0.7225 - val_loss: 0.7738 - val_acc: 0.6104\n",
            "Epoch 676/1000\n",
            " - 1s - loss: 0.5206 - acc: 0.7240 - val_loss: 0.7755 - val_acc: 0.6148\n",
            "Epoch 677/1000\n",
            " - 1s - loss: 0.5250 - acc: 0.7180 - val_loss: 0.7749 - val_acc: 0.6152\n",
            "Epoch 678/1000\n",
            " - 1s - loss: 0.5250 - acc: 0.7185 - val_loss: 0.7666 - val_acc: 0.6176\n",
            "Epoch 679/1000\n",
            " - 1s - loss: 0.5219 - acc: 0.7243 - val_loss: 0.7828 - val_acc: 0.6054\n",
            "Epoch 680/1000\n",
            " - 1s - loss: 0.5207 - acc: 0.7219 - val_loss: 0.7718 - val_acc: 0.6064\n",
            "Epoch 681/1000\n",
            " - 1s - loss: 0.5225 - acc: 0.7221 - val_loss: 0.7682 - val_acc: 0.6102\n",
            "Epoch 682/1000\n",
            " - 1s - loss: 0.5197 - acc: 0.7245 - val_loss: 0.7670 - val_acc: 0.6070\n",
            "Epoch 683/1000\n",
            " - 1s - loss: 0.5209 - acc: 0.7217 - val_loss: 0.7522 - val_acc: 0.6160\n",
            "Epoch 684/1000\n",
            " - 1s - loss: 0.5227 - acc: 0.7262 - val_loss: 0.7567 - val_acc: 0.6040\n",
            "Epoch 685/1000\n",
            " - 1s - loss: 0.5214 - acc: 0.7232 - val_loss: 0.7651 - val_acc: 0.6108\n",
            "Epoch 686/1000\n",
            " - 1s - loss: 0.5159 - acc: 0.7264 - val_loss: 0.7913 - val_acc: 0.6132\n",
            "Epoch 687/1000\n",
            " - 1s - loss: 0.5171 - acc: 0.7276 - val_loss: 0.7616 - val_acc: 0.6102\n",
            "Epoch 688/1000\n",
            " - 1s - loss: 0.5164 - acc: 0.7261 - val_loss: 0.7733 - val_acc: 0.6160\n",
            "Epoch 689/1000\n",
            " - 1s - loss: 0.5187 - acc: 0.7232 - val_loss: 0.7651 - val_acc: 0.6070\n",
            "Epoch 690/1000\n",
            " - 1s - loss: 0.5209 - acc: 0.7201 - val_loss: 0.7609 - val_acc: 0.6122\n",
            "Epoch 691/1000\n",
            " - 1s - loss: 0.5224 - acc: 0.7219 - val_loss: 0.7663 - val_acc: 0.6158\n",
            "Epoch 692/1000\n",
            " - 1s - loss: 0.5206 - acc: 0.7221 - val_loss: 0.7785 - val_acc: 0.6124\n",
            "Epoch 693/1000\n",
            " - 1s - loss: 0.5211 - acc: 0.7258 - val_loss: 0.7611 - val_acc: 0.6134\n",
            "Epoch 694/1000\n",
            " - 1s - loss: 0.5195 - acc: 0.7240 - val_loss: 0.7594 - val_acc: 0.6046\n",
            "Epoch 695/1000\n",
            " - 1s - loss: 0.5229 - acc: 0.7244 - val_loss: 0.7730 - val_acc: 0.6084\n",
            "Epoch 696/1000\n",
            " - 1s - loss: 0.5195 - acc: 0.7237 - val_loss: 0.7621 - val_acc: 0.6082\n",
            "Epoch 697/1000\n",
            " - 1s - loss: 0.5159 - acc: 0.7247 - val_loss: 0.7685 - val_acc: 0.6030\n",
            "Epoch 698/1000\n",
            " - 1s - loss: 0.5152 - acc: 0.7258 - val_loss: 0.7710 - val_acc: 0.6082\n",
            "Epoch 699/1000\n",
            " - 1s - loss: 0.5214 - acc: 0.7226 - val_loss: 0.7785 - val_acc: 0.6102\n",
            "Epoch 700/1000\n",
            " - 1s - loss: 0.5181 - acc: 0.7254 - val_loss: 0.7757 - val_acc: 0.6156\n",
            "Epoch 701/1000\n",
            " - 1s - loss: 0.5185 - acc: 0.7221 - val_loss: 0.7806 - val_acc: 0.6098\n",
            "Epoch 702/1000\n",
            " - 1s - loss: 0.5203 - acc: 0.7228 - val_loss: 0.7655 - val_acc: 0.6146\n",
            "Epoch 703/1000\n",
            " - 1s - loss: 0.5186 - acc: 0.7255 - val_loss: 0.7594 - val_acc: 0.6158\n",
            "Epoch 704/1000\n",
            " - 1s - loss: 0.5193 - acc: 0.7271 - val_loss: 0.7643 - val_acc: 0.6130\n",
            "Epoch 705/1000\n",
            " - 1s - loss: 0.5174 - acc: 0.7239 - val_loss: 0.7746 - val_acc: 0.5946\n",
            "Epoch 706/1000\n",
            " - 1s - loss: 0.5182 - acc: 0.7263 - val_loss: 0.7742 - val_acc: 0.6098\n",
            "Epoch 707/1000\n",
            " - 1s - loss: 0.5183 - acc: 0.7242 - val_loss: 0.7686 - val_acc: 0.6158\n",
            "Epoch 708/1000\n",
            " - 1s - loss: 0.5194 - acc: 0.7244 - val_loss: 0.7674 - val_acc: 0.6058\n",
            "Epoch 709/1000\n",
            " - 1s - loss: 0.5194 - acc: 0.7197 - val_loss: 0.7699 - val_acc: 0.6140\n",
            "Epoch 710/1000\n",
            " - 1s - loss: 0.5113 - acc: 0.7297 - val_loss: 0.7743 - val_acc: 0.6146\n",
            "Epoch 711/1000\n",
            " - 1s - loss: 0.5184 - acc: 0.7232 - val_loss: 0.7760 - val_acc: 0.6032\n",
            "Epoch 712/1000\n",
            " - 1s - loss: 0.5146 - acc: 0.7259 - val_loss: 0.7850 - val_acc: 0.6056\n",
            "Epoch 713/1000\n",
            " - 1s - loss: 0.5182 - acc: 0.7215 - val_loss: 0.7954 - val_acc: 0.6058\n",
            "Epoch 714/1000\n",
            " - 1s - loss: 0.5191 - acc: 0.7266 - val_loss: 0.7724 - val_acc: 0.6134\n",
            "Epoch 715/1000\n",
            " - 1s - loss: 0.5193 - acc: 0.7251 - val_loss: 0.7772 - val_acc: 0.6086\n",
            "Epoch 716/1000\n",
            " - 1s - loss: 0.5142 - acc: 0.7263 - val_loss: 0.7816 - val_acc: 0.6098\n",
            "Epoch 717/1000\n",
            " - 1s - loss: 0.5161 - acc: 0.7252 - val_loss: 0.7805 - val_acc: 0.6090\n",
            "Epoch 718/1000\n",
            " - 1s - loss: 0.5192 - acc: 0.7214 - val_loss: 0.7682 - val_acc: 0.6166\n",
            "Epoch 719/1000\n",
            " - 1s - loss: 0.5147 - acc: 0.7250 - val_loss: 0.7788 - val_acc: 0.6026\n",
            "Epoch 720/1000\n",
            " - 1s - loss: 0.5186 - acc: 0.7222 - val_loss: 0.7862 - val_acc: 0.6016\n",
            "Epoch 721/1000\n",
            " - 1s - loss: 0.5184 - acc: 0.7244 - val_loss: 0.7758 - val_acc: 0.6092\n",
            "Epoch 722/1000\n",
            " - 1s - loss: 0.5137 - acc: 0.7290 - val_loss: 0.7817 - val_acc: 0.6070\n",
            "Epoch 723/1000\n",
            " - 1s - loss: 0.5164 - acc: 0.7235 - val_loss: 0.7886 - val_acc: 0.6112\n",
            "Epoch 724/1000\n",
            " - 1s - loss: 0.5157 - acc: 0.7265 - val_loss: 0.7815 - val_acc: 0.6126\n",
            "Epoch 725/1000\n",
            " - 1s - loss: 0.5175 - acc: 0.7298 - val_loss: 0.7894 - val_acc: 0.6034\n",
            "Epoch 726/1000\n",
            " - 1s - loss: 0.5140 - acc: 0.7264 - val_loss: 0.7879 - val_acc: 0.5958\n",
            "Epoch 727/1000\n",
            " - 1s - loss: 0.5137 - acc: 0.7285 - val_loss: 0.7841 - val_acc: 0.6140\n",
            "Epoch 728/1000\n",
            " - 1s - loss: 0.5148 - acc: 0.7293 - val_loss: 0.7678 - val_acc: 0.6138\n",
            "Epoch 729/1000\n",
            " - 1s - loss: 0.5114 - acc: 0.7255 - val_loss: 0.8110 - val_acc: 0.6150\n",
            "Epoch 730/1000\n",
            " - 1s - loss: 0.5147 - acc: 0.7283 - val_loss: 0.7726 - val_acc: 0.6034\n",
            "Epoch 731/1000\n",
            " - 1s - loss: 0.5152 - acc: 0.7265 - val_loss: 0.7740 - val_acc: 0.6116\n",
            "Epoch 732/1000\n",
            " - 1s - loss: 0.5157 - acc: 0.7276 - val_loss: 0.7648 - val_acc: 0.6140\n",
            "Epoch 733/1000\n",
            " - 1s - loss: 0.5143 - acc: 0.7286 - val_loss: 0.7816 - val_acc: 0.6154\n",
            "Epoch 734/1000\n",
            " - 1s - loss: 0.5182 - acc: 0.7283 - val_loss: 0.7685 - val_acc: 0.6136\n",
            "Epoch 735/1000\n",
            " - 1s - loss: 0.5178 - acc: 0.7242 - val_loss: 0.7877 - val_acc: 0.6052\n",
            "Epoch 736/1000\n",
            " - 1s - loss: 0.5154 - acc: 0.7240 - val_loss: 0.7652 - val_acc: 0.6076\n",
            "Epoch 737/1000\n",
            " - 1s - loss: 0.5146 - acc: 0.7302 - val_loss: 0.7762 - val_acc: 0.6058\n",
            "Epoch 738/1000\n",
            " - 1s - loss: 0.5126 - acc: 0.7292 - val_loss: 0.7842 - val_acc: 0.6090\n",
            "Epoch 739/1000\n",
            " - 1s - loss: 0.5124 - acc: 0.7265 - val_loss: 0.7954 - val_acc: 0.6180\n",
            "Epoch 740/1000\n",
            " - 1s - loss: 0.5082 - acc: 0.7327 - val_loss: 0.7903 - val_acc: 0.6106\n",
            "Epoch 741/1000\n",
            " - 1s - loss: 0.5126 - acc: 0.7305 - val_loss: 0.7864 - val_acc: 0.6120\n",
            "Epoch 742/1000\n",
            " - 1s - loss: 0.5167 - acc: 0.7313 - val_loss: 0.7709 - val_acc: 0.6118\n",
            "Epoch 743/1000\n",
            " - 1s - loss: 0.5127 - acc: 0.7244 - val_loss: 0.7815 - val_acc: 0.6144\n",
            "Epoch 744/1000\n",
            " - 1s - loss: 0.5161 - acc: 0.7251 - val_loss: 0.7875 - val_acc: 0.6072\n",
            "Epoch 745/1000\n",
            " - 1s - loss: 0.5138 - acc: 0.7272 - val_loss: 0.7831 - val_acc: 0.6086\n",
            "Epoch 746/1000\n",
            " - 1s - loss: 0.5130 - acc: 0.7280 - val_loss: 0.7791 - val_acc: 0.6134\n",
            "Epoch 747/1000\n",
            " - 1s - loss: 0.5100 - acc: 0.7301 - val_loss: 0.7718 - val_acc: 0.6110\n",
            "Epoch 748/1000\n",
            " - 1s - loss: 0.5112 - acc: 0.7308 - val_loss: 0.7764 - val_acc: 0.6126\n",
            "Epoch 749/1000\n",
            " - 1s - loss: 0.5136 - acc: 0.7290 - val_loss: 0.7839 - val_acc: 0.6128\n",
            "Epoch 750/1000\n",
            " - 1s - loss: 0.5085 - acc: 0.7284 - val_loss: 0.7876 - val_acc: 0.6192\n",
            "Epoch 751/1000\n",
            " - 1s - loss: 0.5116 - acc: 0.7289 - val_loss: 0.7950 - val_acc: 0.6074\n",
            "Epoch 752/1000\n",
            " - 1s - loss: 0.5142 - acc: 0.7263 - val_loss: 0.7857 - val_acc: 0.6100\n",
            "Epoch 753/1000\n",
            " - 1s - loss: 0.5143 - acc: 0.7271 - val_loss: 0.7907 - val_acc: 0.6040\n",
            "Epoch 754/1000\n",
            " - 1s - loss: 0.5097 - acc: 0.7311 - val_loss: 0.7829 - val_acc: 0.6042\n",
            "Epoch 755/1000\n",
            " - 1s - loss: 0.5102 - acc: 0.7309 - val_loss: 0.7709 - val_acc: 0.6134\n",
            "Epoch 756/1000\n",
            " - 1s - loss: 0.5106 - acc: 0.7305 - val_loss: 0.7871 - val_acc: 0.6064\n",
            "Epoch 757/1000\n",
            " - 1s - loss: 0.5128 - acc: 0.7268 - val_loss: 0.7807 - val_acc: 0.6116\n",
            "Epoch 758/1000\n",
            " - 1s - loss: 0.5109 - acc: 0.7277 - val_loss: 0.7801 - val_acc: 0.6094\n",
            "Epoch 759/1000\n",
            " - 1s - loss: 0.5138 - acc: 0.7269 - val_loss: 0.7844 - val_acc: 0.6108\n",
            "Epoch 760/1000\n",
            " - 1s - loss: 0.5095 - acc: 0.7303 - val_loss: 0.7862 - val_acc: 0.6070\n",
            "Epoch 761/1000\n",
            " - 1s - loss: 0.5118 - acc: 0.7306 - val_loss: 0.7842 - val_acc: 0.6108\n",
            "Epoch 762/1000\n",
            " - 1s - loss: 0.5119 - acc: 0.7269 - val_loss: 0.7792 - val_acc: 0.6100\n",
            "Epoch 763/1000\n",
            " - 1s - loss: 0.5099 - acc: 0.7305 - val_loss: 0.7771 - val_acc: 0.6220\n",
            "Epoch 764/1000\n",
            " - 1s - loss: 0.5116 - acc: 0.7282 - val_loss: 0.7864 - val_acc: 0.6024\n",
            "Epoch 765/1000\n",
            " - 1s - loss: 0.5149 - acc: 0.7279 - val_loss: 0.7763 - val_acc: 0.6082\n",
            "Epoch 766/1000\n",
            " - 1s - loss: 0.5091 - acc: 0.7301 - val_loss: 0.7818 - val_acc: 0.6150\n",
            "Epoch 767/1000\n",
            " - 1s - loss: 0.5095 - acc: 0.7299 - val_loss: 0.7749 - val_acc: 0.6060\n",
            "Epoch 768/1000\n",
            " - 1s - loss: 0.5095 - acc: 0.7294 - val_loss: 0.7878 - val_acc: 0.6142\n",
            "Epoch 769/1000\n",
            " - 1s - loss: 0.5130 - acc: 0.7291 - val_loss: 0.7873 - val_acc: 0.6026\n",
            "Epoch 770/1000\n",
            " - 1s - loss: 0.5122 - acc: 0.7289 - val_loss: 0.7677 - val_acc: 0.6180\n",
            "Epoch 771/1000\n",
            " - 1s - loss: 0.5100 - acc: 0.7298 - val_loss: 0.7940 - val_acc: 0.6090\n",
            "Epoch 772/1000\n",
            " - 1s - loss: 0.5070 - acc: 0.7287 - val_loss: 0.7814 - val_acc: 0.6088\n",
            "Epoch 773/1000\n",
            " - 1s - loss: 0.5125 - acc: 0.7315 - val_loss: 0.7824 - val_acc: 0.6006\n",
            "Epoch 774/1000\n",
            " - 1s - loss: 0.5108 - acc: 0.7286 - val_loss: 0.7951 - val_acc: 0.6048\n",
            "Epoch 775/1000\n",
            " - 1s - loss: 0.5093 - acc: 0.7321 - val_loss: 0.7929 - val_acc: 0.6074\n",
            "Epoch 776/1000\n",
            " - 1s - loss: 0.5091 - acc: 0.7318 - val_loss: 0.7954 - val_acc: 0.6130\n",
            "Epoch 777/1000\n",
            " - 1s - loss: 0.5139 - acc: 0.7250 - val_loss: 0.7795 - val_acc: 0.6130\n",
            "Epoch 778/1000\n",
            " - 1s - loss: 0.5064 - acc: 0.7346 - val_loss: 0.7913 - val_acc: 0.6168\n",
            "Epoch 779/1000\n",
            " - 1s - loss: 0.5104 - acc: 0.7293 - val_loss: 0.7874 - val_acc: 0.6158\n",
            "Epoch 780/1000\n",
            " - 1s - loss: 0.5072 - acc: 0.7318 - val_loss: 0.7902 - val_acc: 0.6126\n",
            "Epoch 781/1000\n",
            " - 1s - loss: 0.5067 - acc: 0.7307 - val_loss: 0.8059 - val_acc: 0.6066\n",
            "Epoch 782/1000\n",
            " - 1s - loss: 0.5070 - acc: 0.7333 - val_loss: 0.7921 - val_acc: 0.6064\n",
            "Epoch 783/1000\n",
            " - 1s - loss: 0.5069 - acc: 0.7344 - val_loss: 0.7912 - val_acc: 0.6120\n",
            "Epoch 784/1000\n",
            " - 1s - loss: 0.5045 - acc: 0.7338 - val_loss: 0.8012 - val_acc: 0.6068\n",
            "Epoch 785/1000\n",
            " - 1s - loss: 0.5079 - acc: 0.7315 - val_loss: 0.7936 - val_acc: 0.6092\n",
            "Epoch 786/1000\n",
            " - 1s - loss: 0.5072 - acc: 0.7297 - val_loss: 0.7997 - val_acc: 0.6100\n",
            "Epoch 787/1000\n",
            " - 1s - loss: 0.5080 - acc: 0.7312 - val_loss: 0.7968 - val_acc: 0.6050\n",
            "Epoch 788/1000\n",
            " - 1s - loss: 0.5056 - acc: 0.7325 - val_loss: 0.7978 - val_acc: 0.6132\n",
            "Epoch 789/1000\n",
            " - 1s - loss: 0.5059 - acc: 0.7322 - val_loss: 0.7995 - val_acc: 0.6060\n",
            "Epoch 790/1000\n",
            " - 1s - loss: 0.5085 - acc: 0.7334 - val_loss: 0.8077 - val_acc: 0.6082\n",
            "Epoch 791/1000\n",
            " - 1s - loss: 0.5062 - acc: 0.7311 - val_loss: 0.7986 - val_acc: 0.6076\n",
            "Epoch 792/1000\n",
            " - 1s - loss: 0.5072 - acc: 0.7337 - val_loss: 0.7874 - val_acc: 0.6160\n",
            "Epoch 793/1000\n",
            " - 1s - loss: 0.5086 - acc: 0.7293 - val_loss: 0.7944 - val_acc: 0.6076\n",
            "Epoch 794/1000\n",
            " - 1s - loss: 0.5073 - acc: 0.7330 - val_loss: 0.7939 - val_acc: 0.6080\n",
            "Epoch 795/1000\n",
            " - 1s - loss: 0.5074 - acc: 0.7340 - val_loss: 0.7914 - val_acc: 0.6036\n",
            "Epoch 796/1000\n",
            " - 1s - loss: 0.5073 - acc: 0.7369 - val_loss: 0.7958 - val_acc: 0.5978\n",
            "Epoch 797/1000\n",
            " - 1s - loss: 0.5072 - acc: 0.7345 - val_loss: 0.7958 - val_acc: 0.6034\n",
            "Epoch 798/1000\n",
            " - 1s - loss: 0.5064 - acc: 0.7330 - val_loss: 0.7934 - val_acc: 0.6038\n",
            "Epoch 799/1000\n",
            " - 1s - loss: 0.5043 - acc: 0.7336 - val_loss: 0.7756 - val_acc: 0.6096\n",
            "Epoch 800/1000\n",
            " - 1s - loss: 0.5072 - acc: 0.7319 - val_loss: 0.7915 - val_acc: 0.6110\n",
            "Epoch 801/1000\n",
            " - 1s - loss: 0.5045 - acc: 0.7306 - val_loss: 0.8002 - val_acc: 0.6066\n",
            "Epoch 802/1000\n",
            " - 1s - loss: 0.5013 - acc: 0.7333 - val_loss: 0.8095 - val_acc: 0.6170\n",
            "Epoch 803/1000\n",
            " - 1s - loss: 0.5103 - acc: 0.7291 - val_loss: 0.7913 - val_acc: 0.6038\n",
            "Epoch 804/1000\n",
            " - 1s - loss: 0.5072 - acc: 0.7337 - val_loss: 0.8018 - val_acc: 0.6066\n",
            "Epoch 805/1000\n",
            " - 1s - loss: 0.5045 - acc: 0.7318 - val_loss: 0.7903 - val_acc: 0.6118\n",
            "Epoch 806/1000\n",
            " - 1s - loss: 0.5006 - acc: 0.7347 - val_loss: 0.7971 - val_acc: 0.6144\n",
            "Epoch 807/1000\n",
            " - 1s - loss: 0.5025 - acc: 0.7318 - val_loss: 0.7999 - val_acc: 0.6104\n",
            "Epoch 808/1000\n",
            " - 1s - loss: 0.5050 - acc: 0.7331 - val_loss: 0.8093 - val_acc: 0.6000\n",
            "Epoch 809/1000\n",
            " - 1s - loss: 0.5037 - acc: 0.7319 - val_loss: 0.8006 - val_acc: 0.6162\n",
            "Epoch 810/1000\n",
            " - 1s - loss: 0.5023 - acc: 0.7355 - val_loss: 0.8022 - val_acc: 0.6036\n",
            "Epoch 811/1000\n",
            " - 1s - loss: 0.5051 - acc: 0.7345 - val_loss: 0.7878 - val_acc: 0.6048\n",
            "Epoch 812/1000\n",
            " - 1s - loss: 0.5042 - acc: 0.7336 - val_loss: 0.7883 - val_acc: 0.6044\n",
            "Epoch 813/1000\n",
            " - 1s - loss: 0.5018 - acc: 0.7327 - val_loss: 0.8067 - val_acc: 0.6020\n",
            "Epoch 814/1000\n",
            " - 1s - loss: 0.5062 - acc: 0.7304 - val_loss: 0.7970 - val_acc: 0.6124\n",
            "Epoch 815/1000\n",
            " - 1s - loss: 0.5000 - acc: 0.7351 - val_loss: 0.7865 - val_acc: 0.6110\n",
            "Epoch 816/1000\n",
            " - 1s - loss: 0.5076 - acc: 0.7299 - val_loss: 0.7871 - val_acc: 0.6148\n",
            "Epoch 817/1000\n",
            " - 1s - loss: 0.5057 - acc: 0.7335 - val_loss: 0.8205 - val_acc: 0.6102\n",
            "Epoch 818/1000\n",
            " - 1s - loss: 0.4982 - acc: 0.7409 - val_loss: 0.8009 - val_acc: 0.6134\n",
            "Epoch 819/1000\n",
            " - 1s - loss: 0.5054 - acc: 0.7351 - val_loss: 0.8137 - val_acc: 0.5998\n",
            "Epoch 820/1000\n",
            " - 1s - loss: 0.5020 - acc: 0.7334 - val_loss: 0.7983 - val_acc: 0.6120\n",
            "Epoch 821/1000\n",
            " - 1s - loss: 0.5030 - acc: 0.7369 - val_loss: 0.7997 - val_acc: 0.6106\n",
            "Epoch 822/1000\n",
            " - 1s - loss: 0.5059 - acc: 0.7305 - val_loss: 0.7983 - val_acc: 0.6086\n",
            "Epoch 823/1000\n",
            " - 1s - loss: 0.5023 - acc: 0.7352 - val_loss: 0.8001 - val_acc: 0.6020\n",
            "Epoch 824/1000\n",
            " - 1s - loss: 0.5029 - acc: 0.7358 - val_loss: 0.8045 - val_acc: 0.6068\n",
            "Epoch 825/1000\n",
            " - 1s - loss: 0.5026 - acc: 0.7319 - val_loss: 0.8102 - val_acc: 0.6072\n",
            "Epoch 826/1000\n",
            " - 1s - loss: 0.4980 - acc: 0.7381 - val_loss: 0.8013 - val_acc: 0.6052\n",
            "Epoch 827/1000\n",
            " - 1s - loss: 0.4997 - acc: 0.7380 - val_loss: 0.8138 - val_acc: 0.6108\n",
            "Epoch 828/1000\n",
            " - 1s - loss: 0.4986 - acc: 0.7411 - val_loss: 0.8019 - val_acc: 0.6074\n",
            "Epoch 829/1000\n",
            " - 1s - loss: 0.5027 - acc: 0.7365 - val_loss: 0.8202 - val_acc: 0.6034\n",
            "Epoch 830/1000\n",
            " - 1s - loss: 0.5044 - acc: 0.7326 - val_loss: 0.7957 - val_acc: 0.6048\n",
            "Epoch 831/1000\n",
            " - 1s - loss: 0.5071 - acc: 0.7309 - val_loss: 0.7989 - val_acc: 0.6024\n",
            "Epoch 832/1000\n",
            " - 1s - loss: 0.5007 - acc: 0.7355 - val_loss: 0.8137 - val_acc: 0.6038\n",
            "Epoch 833/1000\n",
            " - 1s - loss: 0.5031 - acc: 0.7348 - val_loss: 0.8091 - val_acc: 0.6080\n",
            "Epoch 834/1000\n",
            " - 1s - loss: 0.5047 - acc: 0.7362 - val_loss: 0.8047 - val_acc: 0.6126\n",
            "Epoch 835/1000\n",
            " - 1s - loss: 0.4982 - acc: 0.7319 - val_loss: 0.8083 - val_acc: 0.6108\n",
            "Epoch 836/1000\n",
            " - 1s - loss: 0.4990 - acc: 0.7384 - val_loss: 0.7971 - val_acc: 0.6106\n",
            "Epoch 837/1000\n",
            " - 1s - loss: 0.5014 - acc: 0.7318 - val_loss: 0.8011 - val_acc: 0.6136\n",
            "Epoch 838/1000\n",
            " - 1s - loss: 0.5000 - acc: 0.7380 - val_loss: 0.7933 - val_acc: 0.6118\n",
            "Epoch 839/1000\n",
            " - 1s - loss: 0.5018 - acc: 0.7346 - val_loss: 0.8115 - val_acc: 0.6108\n",
            "Epoch 840/1000\n",
            " - 1s - loss: 0.4984 - acc: 0.7383 - val_loss: 0.8047 - val_acc: 0.6094\n",
            "Epoch 841/1000\n",
            " - 1s - loss: 0.5006 - acc: 0.7392 - val_loss: 0.7909 - val_acc: 0.6014\n",
            "Epoch 842/1000\n",
            " - 1s - loss: 0.4997 - acc: 0.7406 - val_loss: 0.8035 - val_acc: 0.6098\n",
            "Epoch 843/1000\n",
            " - 1s - loss: 0.4992 - acc: 0.7369 - val_loss: 0.8121 - val_acc: 0.5946\n",
            "Epoch 844/1000\n",
            " - 1s - loss: 0.5035 - acc: 0.7341 - val_loss: 0.7997 - val_acc: 0.6108\n",
            "Epoch 845/1000\n",
            " - 1s - loss: 0.5023 - acc: 0.7341 - val_loss: 0.8225 - val_acc: 0.6102\n",
            "Epoch 846/1000\n",
            " - 1s - loss: 0.4996 - acc: 0.7350 - val_loss: 0.8153 - val_acc: 0.5970\n",
            "Epoch 847/1000\n",
            " - 1s - loss: 0.4961 - acc: 0.7402 - val_loss: 0.7975 - val_acc: 0.6126\n",
            "Epoch 848/1000\n",
            " - 1s - loss: 0.5014 - acc: 0.7336 - val_loss: 0.8001 - val_acc: 0.6088\n",
            "Epoch 849/1000\n",
            " - 1s - loss: 0.5003 - acc: 0.7406 - val_loss: 0.8106 - val_acc: 0.5988\n",
            "Epoch 850/1000\n",
            " - 1s - loss: 0.5012 - acc: 0.7375 - val_loss: 0.7915 - val_acc: 0.6124\n",
            "Epoch 851/1000\n",
            " - 1s - loss: 0.4965 - acc: 0.7387 - val_loss: 0.8255 - val_acc: 0.6096\n",
            "Epoch 852/1000\n",
            " - 1s - loss: 0.5001 - acc: 0.7347 - val_loss: 0.8231 - val_acc: 0.6084\n",
            "Epoch 853/1000\n",
            " - 1s - loss: 0.4987 - acc: 0.7390 - val_loss: 0.8102 - val_acc: 0.6110\n",
            "Epoch 854/1000\n",
            " - 1s - loss: 0.5013 - acc: 0.7337 - val_loss: 0.7998 - val_acc: 0.6110\n",
            "Epoch 855/1000\n",
            " - 1s - loss: 0.5031 - acc: 0.7350 - val_loss: 0.8037 - val_acc: 0.6112\n",
            "Epoch 856/1000\n",
            " - 1s - loss: 0.4957 - acc: 0.7390 - val_loss: 0.8039 - val_acc: 0.6196\n",
            "Epoch 857/1000\n",
            " - 1s - loss: 0.5058 - acc: 0.7343 - val_loss: 0.7941 - val_acc: 0.6088\n",
            "Epoch 858/1000\n",
            " - 1s - loss: 0.4972 - acc: 0.7411 - val_loss: 0.8200 - val_acc: 0.6098\n",
            "Epoch 859/1000\n",
            " - 1s - loss: 0.4980 - acc: 0.7418 - val_loss: 0.8241 - val_acc: 0.6102\n",
            "Epoch 860/1000\n",
            " - 1s - loss: 0.4964 - acc: 0.7391 - val_loss: 0.8131 - val_acc: 0.6054\n",
            "Epoch 861/1000\n",
            " - 1s - loss: 0.4961 - acc: 0.7375 - val_loss: 0.8159 - val_acc: 0.6102\n",
            "Epoch 862/1000\n",
            " - 1s - loss: 0.5036 - acc: 0.7340 - val_loss: 0.8058 - val_acc: 0.6116\n",
            "Epoch 863/1000\n",
            " - 1s - loss: 0.4970 - acc: 0.7388 - val_loss: 0.8136 - val_acc: 0.6088\n",
            "Epoch 864/1000\n",
            " - 1s - loss: 0.5010 - acc: 0.7335 - val_loss: 0.8141 - val_acc: 0.6100\n",
            "Epoch 865/1000\n",
            " - 1s - loss: 0.4997 - acc: 0.7355 - val_loss: 0.8058 - val_acc: 0.6036\n",
            "Epoch 866/1000\n",
            " - 1s - loss: 0.4970 - acc: 0.7376 - val_loss: 0.8200 - val_acc: 0.6038\n",
            "Epoch 867/1000\n",
            " - 1s - loss: 0.4972 - acc: 0.7384 - val_loss: 0.8215 - val_acc: 0.6018\n",
            "Epoch 868/1000\n",
            " - 1s - loss: 0.4978 - acc: 0.7402 - val_loss: 0.8162 - val_acc: 0.6110\n",
            "Epoch 869/1000\n",
            " - 1s - loss: 0.4998 - acc: 0.7355 - val_loss: 0.8215 - val_acc: 0.6002\n",
            "Epoch 870/1000\n",
            " - 1s - loss: 0.4961 - acc: 0.7396 - val_loss: 0.8266 - val_acc: 0.6178\n",
            "Epoch 871/1000\n",
            " - 1s - loss: 0.4986 - acc: 0.7394 - val_loss: 0.8193 - val_acc: 0.6104\n",
            "Epoch 872/1000\n",
            " - 1s - loss: 0.4947 - acc: 0.7401 - val_loss: 0.8030 - val_acc: 0.5968\n",
            "Epoch 873/1000\n",
            " - 1s - loss: 0.4962 - acc: 0.7418 - val_loss: 0.8103 - val_acc: 0.5968\n",
            "Epoch 874/1000\n",
            " - 1s - loss: 0.4947 - acc: 0.7417 - val_loss: 0.8270 - val_acc: 0.6068\n",
            "Epoch 875/1000\n",
            " - 1s - loss: 0.4973 - acc: 0.7413 - val_loss: 0.8206 - val_acc: 0.6126\n",
            "Epoch 876/1000\n",
            " - 1s - loss: 0.4982 - acc: 0.7385 - val_loss: 0.8223 - val_acc: 0.6004\n",
            "Epoch 877/1000\n",
            " - 1s - loss: 0.4941 - acc: 0.7416 - val_loss: 0.8113 - val_acc: 0.6002\n",
            "Epoch 878/1000\n",
            " - 1s - loss: 0.4956 - acc: 0.7392 - val_loss: 0.8141 - val_acc: 0.6072\n",
            "Epoch 879/1000\n",
            " - 1s - loss: 0.4951 - acc: 0.7369 - val_loss: 0.8131 - val_acc: 0.6010\n",
            "Epoch 880/1000\n",
            " - 1s - loss: 0.4953 - acc: 0.7416 - val_loss: 0.8212 - val_acc: 0.6180\n",
            "Epoch 881/1000\n",
            " - 1s - loss: 0.4988 - acc: 0.7409 - val_loss: 0.8230 - val_acc: 0.6102\n",
            "Epoch 882/1000\n",
            " - 1s - loss: 0.4969 - acc: 0.7387 - val_loss: 0.8161 - val_acc: 0.6122\n",
            "Epoch 883/1000\n",
            " - 1s - loss: 0.4961 - acc: 0.7383 - val_loss: 0.8047 - val_acc: 0.6118\n",
            "Epoch 884/1000\n",
            " - 1s - loss: 0.4953 - acc: 0.7372 - val_loss: 0.8177 - val_acc: 0.6000\n",
            "Epoch 885/1000\n",
            " - 1s - loss: 0.4947 - acc: 0.7415 - val_loss: 0.8220 - val_acc: 0.6054\n",
            "Epoch 886/1000\n",
            " - 1s - loss: 0.4954 - acc: 0.7386 - val_loss: 0.8190 - val_acc: 0.6086\n",
            "Epoch 887/1000\n",
            " - 1s - loss: 0.4926 - acc: 0.7447 - val_loss: 0.8308 - val_acc: 0.5982\n",
            "Epoch 888/1000\n",
            " - 1s - loss: 0.4950 - acc: 0.7396 - val_loss: 0.8243 - val_acc: 0.5996\n",
            "Epoch 889/1000\n",
            " - 1s - loss: 0.5000 - acc: 0.7366 - val_loss: 0.8135 - val_acc: 0.6042\n",
            "Epoch 890/1000\n",
            " - 1s - loss: 0.4919 - acc: 0.7434 - val_loss: 0.8133 - val_acc: 0.6128\n",
            "Epoch 891/1000\n",
            " - 1s - loss: 0.4940 - acc: 0.7405 - val_loss: 0.8243 - val_acc: 0.6144\n",
            "Epoch 892/1000\n",
            " - 1s - loss: 0.4963 - acc: 0.7390 - val_loss: 0.8312 - val_acc: 0.5996\n",
            "Epoch 893/1000\n",
            " - 1s - loss: 0.4953 - acc: 0.7407 - val_loss: 0.8081 - val_acc: 0.6040\n",
            "Epoch 894/1000\n",
            " - 1s - loss: 0.4906 - acc: 0.7453 - val_loss: 0.8223 - val_acc: 0.6016\n",
            "Epoch 895/1000\n",
            " - 1s - loss: 0.4953 - acc: 0.7423 - val_loss: 0.8166 - val_acc: 0.6076\n",
            "Epoch 896/1000\n",
            " - 1s - loss: 0.4915 - acc: 0.7418 - val_loss: 0.8376 - val_acc: 0.6072\n",
            "Epoch 897/1000\n",
            " - 1s - loss: 0.4896 - acc: 0.7408 - val_loss: 0.8101 - val_acc: 0.6090\n",
            "Epoch 898/1000\n",
            " - 1s - loss: 0.4952 - acc: 0.7405 - val_loss: 0.8181 - val_acc: 0.6016\n",
            "Epoch 899/1000\n",
            " - 1s - loss: 0.4922 - acc: 0.7431 - val_loss: 0.8380 - val_acc: 0.6018\n",
            "Epoch 900/1000\n",
            " - 1s - loss: 0.4913 - acc: 0.7408 - val_loss: 0.8369 - val_acc: 0.6032\n",
            "Epoch 901/1000\n",
            " - 1s - loss: 0.4958 - acc: 0.7388 - val_loss: 0.8207 - val_acc: 0.6004\n",
            "Epoch 902/1000\n",
            " - 1s - loss: 0.4956 - acc: 0.7377 - val_loss: 0.8277 - val_acc: 0.5976\n",
            "Epoch 903/1000\n",
            " - 1s - loss: 0.4944 - acc: 0.7398 - val_loss: 0.8273 - val_acc: 0.6096\n",
            "Epoch 904/1000\n",
            " - 1s - loss: 0.4938 - acc: 0.7429 - val_loss: 0.8248 - val_acc: 0.6050\n",
            "Epoch 905/1000\n",
            " - 1s - loss: 0.4908 - acc: 0.7445 - val_loss: 0.8168 - val_acc: 0.6042\n",
            "Epoch 906/1000\n",
            " - 1s - loss: 0.4948 - acc: 0.7394 - val_loss: 0.8367 - val_acc: 0.6036\n",
            "Epoch 907/1000\n",
            " - 1s - loss: 0.4916 - acc: 0.7411 - val_loss: 0.8256 - val_acc: 0.6128\n",
            "Epoch 908/1000\n",
            " - 1s - loss: 0.4935 - acc: 0.7434 - val_loss: 0.8283 - val_acc: 0.6082\n",
            "Epoch 909/1000\n",
            " - 1s - loss: 0.4954 - acc: 0.7423 - val_loss: 0.8309 - val_acc: 0.6150\n",
            "Epoch 910/1000\n",
            " - 1s - loss: 0.4931 - acc: 0.7437 - val_loss: 0.8081 - val_acc: 0.6092\n",
            "Epoch 911/1000\n",
            " - 1s - loss: 0.4876 - acc: 0.7488 - val_loss: 0.8271 - val_acc: 0.6078\n",
            "Epoch 912/1000\n",
            " - 1s - loss: 0.4872 - acc: 0.7473 - val_loss: 0.8145 - val_acc: 0.6068\n",
            "Epoch 913/1000\n",
            " - 1s - loss: 0.4961 - acc: 0.7405 - val_loss: 0.8104 - val_acc: 0.6138\n",
            "Epoch 914/1000\n",
            " - 1s - loss: 0.4944 - acc: 0.7398 - val_loss: 0.8237 - val_acc: 0.6106\n",
            "Epoch 915/1000\n",
            " - 1s - loss: 0.4949 - acc: 0.7366 - val_loss: 0.8060 - val_acc: 0.6096\n",
            "Epoch 916/1000\n",
            " - 1s - loss: 0.4897 - acc: 0.7447 - val_loss: 0.8193 - val_acc: 0.6056\n",
            "Epoch 917/1000\n",
            " - 1s - loss: 0.4906 - acc: 0.7451 - val_loss: 0.8213 - val_acc: 0.6102\n",
            "Epoch 918/1000\n",
            " - 1s - loss: 0.4919 - acc: 0.7398 - val_loss: 0.8246 - val_acc: 0.6062\n",
            "Epoch 919/1000\n",
            " - 1s - loss: 0.4893 - acc: 0.7432 - val_loss: 0.8135 - val_acc: 0.6108\n",
            "Epoch 920/1000\n",
            " - 1s - loss: 0.4929 - acc: 0.7426 - val_loss: 0.8093 - val_acc: 0.6002\n",
            "Epoch 921/1000\n",
            " - 1s - loss: 0.4906 - acc: 0.7455 - val_loss: 0.8244 - val_acc: 0.6036\n",
            "Epoch 922/1000\n",
            " - 1s - loss: 0.4889 - acc: 0.7445 - val_loss: 0.8275 - val_acc: 0.6100\n",
            "Epoch 923/1000\n",
            " - 1s - loss: 0.4908 - acc: 0.7416 - val_loss: 0.8367 - val_acc: 0.5980\n",
            "Epoch 924/1000\n",
            " - 1s - loss: 0.4872 - acc: 0.7454 - val_loss: 0.8306 - val_acc: 0.6026\n",
            "Epoch 925/1000\n",
            " - 1s - loss: 0.4874 - acc: 0.7459 - val_loss: 0.8322 - val_acc: 0.6124\n",
            "Epoch 926/1000\n",
            " - 1s - loss: 0.4927 - acc: 0.7434 - val_loss: 0.8302 - val_acc: 0.6000\n",
            "Epoch 927/1000\n",
            " - 1s - loss: 0.4904 - acc: 0.7459 - val_loss: 0.8194 - val_acc: 0.5974\n",
            "Epoch 928/1000\n",
            " - 1s - loss: 0.4942 - acc: 0.7410 - val_loss: 0.8274 - val_acc: 0.6044\n",
            "Epoch 929/1000\n",
            " - 1s - loss: 0.4907 - acc: 0.7428 - val_loss: 0.8373 - val_acc: 0.6038\n",
            "Epoch 930/1000\n",
            " - 1s - loss: 0.4862 - acc: 0.7456 - val_loss: 0.8340 - val_acc: 0.5966\n",
            "Epoch 931/1000\n",
            " - 1s - loss: 0.4860 - acc: 0.7479 - val_loss: 0.8312 - val_acc: 0.6124\n",
            "Epoch 932/1000\n",
            " - 1s - loss: 0.4897 - acc: 0.7438 - val_loss: 0.8218 - val_acc: 0.6110\n",
            "Epoch 933/1000\n",
            " - 1s - loss: 0.4923 - acc: 0.7411 - val_loss: 0.8088 - val_acc: 0.6062\n",
            "Epoch 934/1000\n",
            " - 1s - loss: 0.4877 - acc: 0.7438 - val_loss: 0.8253 - val_acc: 0.6112\n",
            "Epoch 935/1000\n",
            " - 1s - loss: 0.4871 - acc: 0.7422 - val_loss: 0.8340 - val_acc: 0.6006\n",
            "Epoch 936/1000\n",
            " - 1s - loss: 0.4874 - acc: 0.7479 - val_loss: 0.8159 - val_acc: 0.6090\n",
            "Epoch 937/1000\n",
            " - 1s - loss: 0.4921 - acc: 0.7429 - val_loss: 0.8220 - val_acc: 0.6068\n",
            "Epoch 938/1000\n",
            " - 1s - loss: 0.4890 - acc: 0.7442 - val_loss: 0.8220 - val_acc: 0.6136\n",
            "Epoch 939/1000\n",
            " - 1s - loss: 0.4840 - acc: 0.7466 - val_loss: 0.8312 - val_acc: 0.6038\n",
            "Epoch 940/1000\n",
            " - 1s - loss: 0.4883 - acc: 0.7463 - val_loss: 0.8288 - val_acc: 0.6052\n",
            "Epoch 941/1000\n",
            " - 1s - loss: 0.4877 - acc: 0.7455 - val_loss: 0.8388 - val_acc: 0.5980\n",
            "Epoch 942/1000\n",
            " - 1s - loss: 0.4930 - acc: 0.7420 - val_loss: 0.8173 - val_acc: 0.6134\n",
            "Epoch 943/1000\n",
            " - 1s - loss: 0.4925 - acc: 0.7434 - val_loss: 0.8188 - val_acc: 0.6054\n",
            "Epoch 944/1000\n",
            " - 1s - loss: 0.4883 - acc: 0.7455 - val_loss: 0.8354 - val_acc: 0.6042\n",
            "Epoch 945/1000\n",
            " - 1s - loss: 0.4867 - acc: 0.7477 - val_loss: 0.8156 - val_acc: 0.6120\n",
            "Epoch 946/1000\n",
            " - 1s - loss: 0.4874 - acc: 0.7470 - val_loss: 0.8277 - val_acc: 0.6088\n",
            "Epoch 947/1000\n",
            " - 1s - loss: 0.4863 - acc: 0.7464 - val_loss: 0.8334 - val_acc: 0.6082\n",
            "Epoch 948/1000\n",
            " - 1s - loss: 0.4859 - acc: 0.7478 - val_loss: 0.8263 - val_acc: 0.6084\n",
            "Epoch 949/1000\n",
            " - 1s - loss: 0.4903 - acc: 0.7454 - val_loss: 0.8304 - val_acc: 0.6002\n",
            "Epoch 950/1000\n",
            " - 1s - loss: 0.4870 - acc: 0.7468 - val_loss: 0.8220 - val_acc: 0.6052\n",
            "Epoch 951/1000\n",
            " - 1s - loss: 0.4861 - acc: 0.7457 - val_loss: 0.8405 - val_acc: 0.5962\n",
            "Epoch 952/1000\n",
            " - 1s - loss: 0.4898 - acc: 0.7443 - val_loss: 0.8128 - val_acc: 0.6010\n",
            "Epoch 953/1000\n",
            " - 1s - loss: 0.4837 - acc: 0.7476 - val_loss: 0.8310 - val_acc: 0.5998\n",
            "Epoch 954/1000\n",
            " - 1s - loss: 0.4856 - acc: 0.7491 - val_loss: 0.8363 - val_acc: 0.6038\n",
            "Epoch 955/1000\n",
            " - 1s - loss: 0.4877 - acc: 0.7468 - val_loss: 0.8219 - val_acc: 0.6026\n",
            "Epoch 956/1000\n",
            " - 1s - loss: 0.4882 - acc: 0.7448 - val_loss: 0.8552 - val_acc: 0.6060\n",
            "Epoch 957/1000\n",
            " - 1s - loss: 0.4832 - acc: 0.7473 - val_loss: 0.8419 - val_acc: 0.6146\n",
            "Epoch 958/1000\n",
            " - 1s - loss: 0.4905 - acc: 0.7459 - val_loss: 0.8403 - val_acc: 0.6030\n",
            "Epoch 959/1000\n",
            " - 1s - loss: 0.4822 - acc: 0.7462 - val_loss: 0.8386 - val_acc: 0.6028\n",
            "Epoch 960/1000\n",
            " - 1s - loss: 0.4821 - acc: 0.7490 - val_loss: 0.8365 - val_acc: 0.6130\n",
            "Epoch 961/1000\n",
            " - 1s - loss: 0.4828 - acc: 0.7492 - val_loss: 0.8370 - val_acc: 0.5998\n",
            "Epoch 962/1000\n",
            " - 1s - loss: 0.4886 - acc: 0.7440 - val_loss: 0.8355 - val_acc: 0.5974\n",
            "Epoch 963/1000\n",
            " - 1s - loss: 0.4861 - acc: 0.7473 - val_loss: 0.8358 - val_acc: 0.6058\n",
            "Epoch 964/1000\n",
            " - 1s - loss: 0.4873 - acc: 0.7448 - val_loss: 0.8419 - val_acc: 0.5954\n",
            "Epoch 965/1000\n",
            " - 1s - loss: 0.4888 - acc: 0.7444 - val_loss: 0.8359 - val_acc: 0.6060\n",
            "Epoch 966/1000\n",
            " - 1s - loss: 0.4910 - acc: 0.7421 - val_loss: 0.8319 - val_acc: 0.6038\n",
            "Epoch 967/1000\n",
            " - 1s - loss: 0.4841 - acc: 0.7503 - val_loss: 0.8464 - val_acc: 0.6038\n",
            "Epoch 968/1000\n",
            " - 1s - loss: 0.4822 - acc: 0.7480 - val_loss: 0.8455 - val_acc: 0.6074\n",
            "Epoch 969/1000\n",
            " - 1s - loss: 0.4861 - acc: 0.7472 - val_loss: 0.8188 - val_acc: 0.6036\n",
            "Epoch 970/1000\n",
            " - 1s - loss: 0.4877 - acc: 0.7420 - val_loss: 0.8276 - val_acc: 0.6054\n",
            "Epoch 971/1000\n",
            " - 1s - loss: 0.4802 - acc: 0.7498 - val_loss: 0.8444 - val_acc: 0.6134\n",
            "Epoch 972/1000\n",
            " - 1s - loss: 0.4820 - acc: 0.7487 - val_loss: 0.8520 - val_acc: 0.5978\n",
            "Epoch 973/1000\n",
            " - 1s - loss: 0.4832 - acc: 0.7488 - val_loss: 0.8493 - val_acc: 0.6040\n",
            "Epoch 974/1000\n",
            " - 1s - loss: 0.4874 - acc: 0.7458 - val_loss: 0.8476 - val_acc: 0.6098\n",
            "Epoch 975/1000\n",
            " - 1s - loss: 0.4798 - acc: 0.7469 - val_loss: 0.8507 - val_acc: 0.6052\n",
            "Epoch 976/1000\n",
            " - 1s - loss: 0.4857 - acc: 0.7462 - val_loss: 0.8447 - val_acc: 0.6022\n",
            "Epoch 977/1000\n",
            " - 1s - loss: 0.4857 - acc: 0.7476 - val_loss: 0.8229 - val_acc: 0.6088\n",
            "Epoch 978/1000\n",
            " - 1s - loss: 0.4875 - acc: 0.7433 - val_loss: 0.8383 - val_acc: 0.6126\n",
            "Epoch 979/1000\n",
            " - 1s - loss: 0.4860 - acc: 0.7431 - val_loss: 0.8247 - val_acc: 0.6074\n",
            "Epoch 980/1000\n",
            " - 1s - loss: 0.4880 - acc: 0.7465 - val_loss: 0.8345 - val_acc: 0.5970\n",
            "Epoch 981/1000\n",
            " - 1s - loss: 0.4844 - acc: 0.7488 - val_loss: 0.8564 - val_acc: 0.6042\n",
            "Epoch 982/1000\n",
            " - 1s - loss: 0.4850 - acc: 0.7454 - val_loss: 0.8390 - val_acc: 0.6092\n",
            "Epoch 983/1000\n",
            " - 1s - loss: 0.4829 - acc: 0.7462 - val_loss: 0.8295 - val_acc: 0.6066\n",
            "Epoch 984/1000\n",
            " - 1s - loss: 0.4851 - acc: 0.7463 - val_loss: 0.8398 - val_acc: 0.6116\n",
            "Epoch 985/1000\n",
            " - 1s - loss: 0.4870 - acc: 0.7472 - val_loss: 0.8347 - val_acc: 0.6102\n",
            "Epoch 986/1000\n",
            " - 1s - loss: 0.4867 - acc: 0.7465 - val_loss: 0.8276 - val_acc: 0.6040\n",
            "Epoch 987/1000\n",
            " - 1s - loss: 0.4857 - acc: 0.7474 - val_loss: 0.8120 - val_acc: 0.6138\n",
            "Epoch 988/1000\n",
            " - 1s - loss: 0.4829 - acc: 0.7484 - val_loss: 0.8215 - val_acc: 0.6130\n",
            "Epoch 989/1000\n",
            " - 1s - loss: 0.4864 - acc: 0.7491 - val_loss: 0.8279 - val_acc: 0.6062\n",
            "Epoch 990/1000\n",
            " - 1s - loss: 0.4805 - acc: 0.7483 - val_loss: 0.8371 - val_acc: 0.6040\n",
            "Epoch 991/1000\n",
            " - 1s - loss: 0.4844 - acc: 0.7459 - val_loss: 0.8375 - val_acc: 0.6072\n",
            "Epoch 992/1000\n",
            " - 1s - loss: 0.4771 - acc: 0.7521 - val_loss: 0.8476 - val_acc: 0.6116\n",
            "Epoch 993/1000\n",
            " - 1s - loss: 0.4809 - acc: 0.7494 - val_loss: 0.8473 - val_acc: 0.5886\n",
            "Epoch 994/1000\n",
            " - 1s - loss: 0.4820 - acc: 0.7506 - val_loss: 0.8426 - val_acc: 0.6124\n",
            "Epoch 995/1000\n",
            " - 1s - loss: 0.4890 - acc: 0.7442 - val_loss: 0.8309 - val_acc: 0.6000\n",
            "Epoch 996/1000\n",
            " - 1s - loss: 0.4824 - acc: 0.7520 - val_loss: 0.8485 - val_acc: 0.6084\n",
            "Epoch 997/1000\n",
            " - 1s - loss: 0.4900 - acc: 0.7442 - val_loss: 0.8288 - val_acc: 0.6130\n",
            "Epoch 998/1000\n",
            " - 1s - loss: 0.4807 - acc: 0.7506 - val_loss: 0.8367 - val_acc: 0.6098\n",
            "Epoch 999/1000\n",
            " - 1s - loss: 0.4843 - acc: 0.7475 - val_loss: 0.8346 - val_acc: 0.6108\n",
            "Epoch 1000/1000\n",
            " - 1s - loss: 0.4854 - acc: 0.7488 - val_loss: 0.8372 - val_acc: 0.6040\n",
            "CPU times: user 25min 55s, sys: 2min 9s, total: 28min 5s\n",
            "Wall time: 19min 49s\n"
          ],
          "name": "stdout"
        }
      ]
    },
    {
      "cell_type": "code",
      "metadata": {
        "id": "cRUqa5FHHlRS",
        "colab_type": "code",
        "outputId": "c669bdcb-9d78-4469-fde0-f56155a40caf",
        "colab": {
          "base_uri": "https://localhost:8080/",
          "height": 34
        }
      },
      "source": [
        "loss, acc = model.evaluate(x_test_, y_test, verbose=0)\n",
        "print('Test Accuracy: %f' % (acc*100))"
      ],
      "execution_count": 19,
      "outputs": [
        {
          "output_type": "stream",
          "text": [
            "Test Accuracy: 60.372001\n"
          ],
          "name": "stdout"
        }
      ]
    },
    {
      "cell_type": "code",
      "metadata": {
        "id": "Zdd0qaHwWlN4",
        "colab_type": "code",
        "outputId": "c6aae66b-7389-4338-e44c-1caa4d51cb8c",
        "colab": {
          "base_uri": "https://localhost:8080/",
          "height": 34
        }
      },
      "source": [
        "loss, acc = model.evaluate(x_train_, y_train, verbose=0)\n",
        "print('Test Accuracy: %f' % (acc*100))"
      ],
      "execution_count": 0,
      "outputs": [
        {
          "output_type": "stream",
          "text": [
            "Test Accuracy: 65.008003\n"
          ],
          "name": "stdout"
        }
      ]
    },
    {
      "cell_type": "markdown",
      "metadata": {
        "colab_type": "text",
        "id": "RrmQMKyBX-2X"
      },
      "source": [
        "### Plots"
      ]
    },
    {
      "cell_type": "code",
      "metadata": {
        "colab_type": "code",
        "id": "yM-GhH3sX-2a",
        "outputId": "db68ca67-8826-40df-9aab-ee1570716497",
        "colab": {
          "base_uri": "https://localhost:8080/",
          "height": 559
        }
      },
      "source": [
        "acc = model.history.history['acc']\n",
        "val_acc = model.history.history['val_acc']\n",
        "loss = model.history.history['loss']\n",
        "val_loss = model.history.history['val_loss']\n",
        "\n",
        "epochs = range(1, len(acc) + 1)\n",
        "\n",
        "plt.figure()\n",
        "plt.plot(epochs, loss, label='Training loss')\n",
        "plt.plot(epochs, val_loss, 'r--', label='Validation loss', linewidth=3)\n",
        "plt.title('loss (Bow+Fast_text)')\n",
        "plt.legend()\n",
        "plt.savefig(\"Training and Validation loss (Bow+Fast_text).eps\", format='eps', dpi=1200)\n",
        "\n",
        "plt.show()\n",
        "\n",
        "plt.figure()\n",
        "plt.plot(epochs, acc, label='Training acc')\n",
        "plt.plot(epochs, val_acc,'r--', label='Validation acc', linewidth=3)\n",
        "plt.title('accuracy (Bow+Fast_text)')\n",
        "plt.legend()\n",
        "plt.xlabel(\"epochs\")\n",
        "plt.ylabel(\"accuracy\")\n",
        "plt.savefig(\"Training and validation accuracy (Bow+Fast_text).eps\", format='eps', dpi=1200)\n",
        "plt.show()"
      ],
      "execution_count": 20,
      "outputs": [
        {
          "output_type": "display_data",
          "data": {
            "image/png": "[encoded data removed]",
            "text/plain": [
              "<Figure size 432x288 with 1 Axes>"
            ]
          },
          "metadata": {
            "tags": []
          }
        },
        {
          "output_type": "display_data",
          "data": {
            "image/png": "[encoded data removed]",
            "text/plain": [
              "<Figure size 432x288 with 1 Axes>"
            ]
          },
          "metadata": {
            "tags": []
          }
        }
      ]
    },
    {
      "cell_type": "code",
      "metadata": {
        "id": "Os3mNH3tiTur",
        "colab_type": "code",
        "outputId": "d609758e-c1fe-48ef-db39-bc39c2a32f16",
        "colab": {
          "base_uri": "https://localhost:8080/",
          "height": 281
        }
      },
      "source": [
        "#Create ROC curve\n",
        "from sklearn.metrics import roc_curve, auc\n",
        "import matplotlib.pyplot as plt\n",
        "pred_probas = model.predict_proba(x_test_)[:,0]\n",
        "fpr,tpr,_ = roc_curve(y_test, pred_probas)\n",
        "roc_auc = auc(fpr,tpr)\n",
        "plt.plot(fpr,tpr,label='area = %.2f' %roc_auc)\n",
        "plt.plot([0, 1], [0, 1], label=\"random classifier\")\n",
        "plt.xlim([0.0, 1.0])\n",
        "plt.ylim([0.0, 1.05])\n",
        "plt.legend(loc='lower right')\n",
        "plt.title(\"ROC curve\")\n",
        "plt.savefig(\"ROC curve (Bow+Fast_text).eps\", format='eps', dpi=1200)\n",
        "plt.show()"
      ],
      "execution_count": 0,
      "outputs": [
        {
          "output_type": "display_data",
          "data": {
            "image/png": "[encoded data removed]",
            "text/plain": [
              "<Figure size 432x288 with 1 Axes>"
            ]
          },
          "metadata": {
            "tags": []
          }
        }
      ]
    },
    {
      "cell_type": "code",
      "metadata": {
        "id": "PU8n4sJZjxfr",
        "colab_type": "code",
        "outputId": "014f728f-d2d1-4bac-e9d7-2ceac5b78aa3",
        "colab": {
          "base_uri": "https://localhost:8080/",
          "height": 255
        }
      },
      "source": [
        "!ls"
      ],
      "execution_count": 0,
      "outputs": [
        {
          "output_type": "stream",
          "text": [
            " adc.json\n",
            "'Confusion Matrix (tf_idf).eps'\n",
            " model_fasttext.h5\n",
            " model_tf-idf.h5\n",
            "'ROC curve (Bow+Fast_text).eps'\n",
            "'ROC curve.eps'\n",
            "'ROC curve (tf_idf).eps'\n",
            " sample_data\n",
            "'Training and validation accuracy (Bow+Fast_text).eps'\n",
            "'Training and validation accuracy (tf-df).eps'\n",
            "'Training and Validation loss (Bow+Fast_text).eps'\n",
            "'Training and Validation loss (tf-df).eps'\n",
            " wiki-news-300d-1M-subword.vec\n",
            " wiki-news-300d-1M-subword.vec.zip\n"
          ],
          "name": "stdout"
        }
      ]
    },
    {
      "cell_type": "code",
      "metadata": {
        "id": "IeRFzJLqQLlC",
        "colab_type": "code",
        "colab": {}
      },
      "source": [
        "files.download(\"Training and validation accuracy (Bow+Fast_text).eps\")\n",
        "files.download(\"Training and Validation loss (Bow+Fast_text).eps\")\n",
        "files.download(\"ROC curve (Bow+Fast_text).eps\")"
      ],
      "execution_count": 0,
      "outputs": []
    },
    {
      "cell_type": "code",
      "metadata": {
        "id": "yHv6M2Bhj3y8",
        "colab_type": "code",
        "colab": {}
      },
      "source": [
        ""
      ],
      "execution_count": 0,
      "outputs": []
    },
    {
      "cell_type": "markdown",
      "metadata": {
        "colab_type": "text",
        "id": "6vtMSUu3X-2g"
      },
      "source": [
        "###Confusion matrix\n",
        "\n",
        "We can visually check the confusion matrix to understand the distribution of misclassifications."
      ]
    },
    {
      "cell_type": "code",
      "metadata": {
        "id": "8LnTtpWxeYNV",
        "colab_type": "code",
        "colab": {}
      },
      "source": [
        "res=model.predict(x_test_)\n",
        "res=res.reshape(1, -1)[0]\n",
        "res_ = [int(np.round(x)) for x in res]"
      ],
      "execution_count": 0,
      "outputs": []
    },
    {
      "cell_type": "code",
      "metadata": {
        "id": "iDyhMSovhBO7",
        "colab_type": "code",
        "colab": {}
      },
      "source": [
        "counter = np.count_nonzero(y_pred==y_test)\n",
        "counter/len(y_test)"
      ],
      "execution_count": 0,
      "outputs": []
    },
    {
      "cell_type": "code",
      "metadata": {
        "colab_type": "code",
        "id": "y-KgjJ0WX-2i",
        "outputId": "a5896384-9459-48f0-8587-7fe274b7ce28",
        "colab": {
          "base_uri": "https://localhost:8080/",
          "height": 312
        }
      },
      "source": [
        "y_pred = np.round(model.predict(x_test_)); y_pred\n",
        "\n",
        "LABELS = [\n",
        "    \"negative\", \"positive\"\n",
        "]\n",
        "\n",
        "# Create a confusion matrix on training data.\n",
        "with tf.Graph().as_default():\n",
        "  cm = tf.confusion_matrix(y_test, y_pred)\n",
        "  with tf.Session() as session:\n",
        "    cm_out = session.run(cm)\n",
        "\n",
        "# Normalize the confusion matrix so that each row sums to 1.\n",
        "cm_out = cm_out.astype(float) / cm_out.sum(axis=1)[:, np.newaxis]\n",
        "\n",
        "sns.heatmap(cm_out, annot=True, xticklabels=LABELS, yticklabels=LABELS);\n",
        "plt.xlabel(\"Predicted\");\n",
        "plt.ylabel(\"True\")\n",
        "plt.title(\"Confusion Matrix (Bow+Fast_text)\")\n",
        "plt.savefig(\"Confusion Matrix (Bow+Fast_text).eps\", format='eps', dpi=1200)\n",
        "plt.plot()"
      ],
      "execution_count": 0,
      "outputs": [
        {
          "output_type": "execute_result",
          "data": {
            "text/plain": [
              "[]"
            ]
          },
          "metadata": {
            "tags": []
          },
          "execution_count": 30
        },
        {
          "output_type": "display_data",
          "data": {
            "image/png": "[encoded data removed]",
            "text/plain": [
              "<Figure size 432x288 with 2 Axes>"
            ]
          },
          "metadata": {
            "tags": []
          }
        }
      ]
    },
    {
      "cell_type": "code",
      "metadata": {
        "id": "ZutaaRlwyo6t",
        "colab_type": "code",
        "colab": {}
      },
      "source": [
        "files.download(\"Confusion Matrix (Bow+Fast_text).eps\")"
      ],
      "execution_count": 0,
      "outputs": []
    },
    {
      "cell_type": "markdown",
      "metadata": {
        "colab_type": "text",
        "id": "8FTSrL-0X-2p"
      },
      "source": [
        "### Saving the entire model and save in the drive"
      ]
    },
    {
      "cell_type": "code",
      "metadata": {
        "colab_type": "code",
        "id": "5WrikO6YX-2q",
        "colab": {}
      },
      "source": [
        "# Save entire model to a HDF5 file\n",
        "model.save('model_fasttext.h5')"
      ],
      "execution_count": 0,
      "outputs": []
    },
    {
      "cell_type": "code",
      "metadata": {
        "colab_type": "code",
        "outputId": "215cbe17-c5ff-4c12-96e6-eaafc0778f9e",
        "id": "guoDg9NDX-2t",
        "colab": {
          "base_uri": "https://localhost:8080/",
          "height": 85
        }
      },
      "source": [
        "!ls"
      ],
      "execution_count": 0,
      "outputs": [
        {
          "output_type": "stream",
          "text": [
            "'Confusion Matrix (tf_idf).eps'   sample_data\n",
            " model_tf-idf.h5\t\t 'Training and validation accuracy (tf-df).eps'\n",
            "'ROC curve.eps'\t\t\t 'Training and Validation loss (tf-df).eps'\n",
            "'ROC curve (tf_idf).eps'\n"
          ],
          "name": "stdout"
        }
      ]
    },
    {
      "cell_type": "code",
      "metadata": {
        "colab_type": "code",
        "id": "HtZRPJUEX-20",
        "colab": {}
      },
      "source": [
        "files.download( \"model_fasttext.h5\" )"
      ],
      "execution_count": 0,
      "outputs": []
    },
    {
      "cell_type": "code",
      "metadata": {
        "colab_type": "code",
        "outputId": "b7e4152b-b00b-42d2-9b69-86c125619122",
        "id": "ldJ1Onp0X-23",
        "colab": {
          "base_uri": "https://localhost:8080/",
          "height": 51
        }
      },
      "source": [
        "!ls"
      ],
      "execution_count": 0,
      "outputs": [
        {
          "output_type": "stream",
          "text": [
            "adc.json  sample_data\t\t\t wiki-news-300d-1M-subword.vec.zip\n",
            "gdrive\t  wiki-news-300d-1M-subword.vec\n"
          ],
          "name": "stdout"
        }
      ]
    },
    {
      "cell_type": "markdown",
      "metadata": {
        "id": "WqH3kqPJH8bP",
        "colab_type": "text"
      },
      "source": [
        "## TF_IDF "
      ]
    },
    {
      "cell_type": "code",
      "metadata": {
        "id": "qIYHWuvQHNnN",
        "colab_type": "code",
        "outputId": "39f8081f-a648-4c45-e527-b7b845996c62",
        "colab": {
          "base_uri": "https://localhost:8080/",
          "height": 34374
        }
      },
      "source": [
        "%%time\n",
        "\n",
        "model = tf.keras.Sequential()\n",
        "model.add(tf.keras.layers.Dense(512, input_shape=(tfidf_train.shape[1], ), activation='relu'))\n",
        "model.add(tf.keras.layers.Dropout(0.5))\n",
        "model.add(tf.keras.layers.Dense(512, activation='relu'))\n",
        "model.add(tf.keras.layers.Dense(512, activation='relu'))\n",
        "model.add(tf.keras.layers.Dense(1, activation='sigmoid'))\n",
        "\n",
        "model.summary()\n",
        "\n",
        "class myCallback(tf.keras.callbacks.Callback):\n",
        "  def on_epoch_end(self, epoch, logs={}):\n",
        "    if(logs.get('val_acc')>0.66):\n",
        "      print(\"\\nReached 90% val_acc so cancelling training!\")\n",
        "      self.model.stop_training = True\n",
        "      \n",
        "callbacks = myCallback()\n",
        "\n",
        "monitor = tf.keras.callbacks.EarlyStopping(monitor='val_loss', min_delta=1e-3, patience=5, verbose=1, mode='auto')\n",
        "\n",
        "model.compile(loss='binary_crossentropy', optimizer=tf.keras.optimizers.Adamax(0.003), metrics=['accuracy'])\n",
        "\n",
        "# fit network\n",
        "model.fit(tfidf_train, train_df.sentiment, \n",
        "          epochs=1000, \n",
        "          batch_size=64, verbose=2, \n",
        "          validation_split=0.2)#, callbacks=[monitor])\n",
        "\n",
        "\n",
        "          \n",
        "#           epochs=2000, \n",
        "#           batch_size=32, verbose=2, \n",
        "#           validation_split=0.2, callbacks=[monitor])\n",
        "\n",
        "loss, acc = model.evaluate(tfidf_tst, test_df.sentiment, verbose=0)\n",
        "print('Test Accuracy: %f' % (acc*100))"
      ],
      "execution_count": 5,
      "outputs": [
        {
          "output_type": "stream",
          "text": [
            "_________________________________________________________________\n",
            "Layer (type)                 Output Shape              Param #   \n",
            "=================================================================\n",
            "dense (Dense)                (None, 512)               10240512  \n",
            "_________________________________________________________________\n",
            "dropout (Dropout)            (None, 512)               0         \n",
            "_________________________________________________________________\n",
            "dense_1 (Dense)              (None, 512)               262656    \n",
            "_________________________________________________________________\n",
            "dense_2 (Dense)              (None, 512)               262656    \n",
            "_________________________________________________________________\n",
            "dense_3 (Dense)              (None, 1)                 513       \n",
            "=================================================================\n",
            "Total params: 10,766,337\n",
            "Trainable params: 10,766,337\n",
            "Non-trainable params: 0\n",
            "_________________________________________________________________\n",
            "Train on 20000 samples, validate on 5000 samples\n",
            "Epoch 1/1000\n",
            " - 5s - loss: 0.3399 - acc: 0.8587 - val_loss: 0.2661 - val_acc: 0.9008\n",
            "Epoch 2/1000\n",
            " - 4s - loss: 0.1145 - acc: 0.9599 - val_loss: 0.3335 - val_acc: 0.8986\n",
            "Epoch 3/1000\n",
            " - 4s - loss: 0.0365 - acc: 0.9882 - val_loss: 0.5067 - val_acc: 0.8960\n",
            "Epoch 4/1000\n",
            " - 4s - loss: 0.0107 - acc: 0.9966 - val_loss: 0.6292 - val_acc: 0.8964\n",
            "Epoch 5/1000\n",
            " - 4s - loss: 0.0053 - acc: 0.9986 - val_loss: 0.6817 - val_acc: 0.8958\n",
            "Epoch 6/1000\n",
            " - 4s - loss: 0.0023 - acc: 0.9993 - val_loss: 0.7456 - val_acc: 0.8940\n",
            "Epoch 7/1000\n",
            " - 4s - loss: 0.0033 - acc: 0.9992 - val_loss: 0.8036 - val_acc: 0.8934\n",
            "Epoch 8/1000\n",
            " - 4s - loss: 0.0022 - acc: 0.9996 - val_loss: 0.9132 - val_acc: 0.8862\n",
            "Epoch 9/1000\n",
            " - 4s - loss: 0.0021 - acc: 0.9996 - val_loss: 0.8388 - val_acc: 0.8928\n",
            "Epoch 10/1000\n",
            " - 4s - loss: 0.0015 - acc: 0.9995 - val_loss: 0.8546 - val_acc: 0.8950\n",
            "Epoch 11/1000\n",
            " - 4s - loss: 0.0013 - acc: 0.9997 - val_loss: 0.8876 - val_acc: 0.8966\n",
            "Epoch 12/1000\n",
            " - 4s - loss: 0.0018 - acc: 0.9996 - val_loss: 0.8330 - val_acc: 0.8964\n",
            "Epoch 13/1000\n",
            " - 4s - loss: 0.0014 - acc: 0.9997 - val_loss: 0.8279 - val_acc: 0.8928\n",
            "Epoch 14/1000\n",
            " - 4s - loss: 0.0020 - acc: 0.9995 - val_loss: 0.8358 - val_acc: 0.8948\n",
            "Epoch 15/1000\n",
            " - 4s - loss: 2.0686e-04 - acc: 0.9999 - val_loss: 0.8585 - val_acc: 0.8958\n",
            "Epoch 16/1000\n",
            " - 4s - loss: 6.9145e-04 - acc: 0.9998 - val_loss: 0.8668 - val_acc: 0.8952\n",
            "Epoch 17/1000\n",
            " - 4s - loss: 0.0028 - acc: 0.9996 - val_loss: 0.9196 - val_acc: 0.8938\n",
            "Epoch 18/1000\n",
            " - 4s - loss: 0.0038 - acc: 0.9993 - val_loss: 0.9647 - val_acc: 0.8926\n",
            "Epoch 19/1000\n",
            " - 4s - loss: 4.6569e-04 - acc: 0.9998 - val_loss: 1.0216 - val_acc: 0.8910\n",
            "Epoch 20/1000\n",
            " - 4s - loss: 0.0011 - acc: 0.9997 - val_loss: 0.9860 - val_acc: 0.8926\n",
            "Epoch 21/1000\n",
            " - 4s - loss: 8.8766e-04 - acc: 0.9998 - val_loss: 0.9851 - val_acc: 0.8930\n",
            "Epoch 22/1000\n",
            " - 4s - loss: 6.8806e-04 - acc: 0.9998 - val_loss: 0.9928 - val_acc: 0.8912\n",
            "Epoch 23/1000\n",
            " - 4s - loss: 6.2959e-04 - acc: 0.9998 - val_loss: 1.0043 - val_acc: 0.8928\n",
            "Epoch 24/1000\n",
            " - 4s - loss: 9.0353e-04 - acc: 0.9998 - val_loss: 0.9779 - val_acc: 0.8928\n",
            "Epoch 25/1000\n",
            " - 4s - loss: 2.5231e-04 - acc: 0.9999 - val_loss: 1.0416 - val_acc: 0.8916\n",
            "Epoch 26/1000\n",
            " - 4s - loss: 6.0206e-05 - acc: 0.9999 - val_loss: 1.0678 - val_acc: 0.8934\n",
            "Epoch 27/1000\n",
            " - 4s - loss: 9.6839e-04 - acc: 0.9998 - val_loss: 1.1182 - val_acc: 0.8924\n",
            "Epoch 28/1000\n",
            " - 4s - loss: 8.4747e-04 - acc: 0.9999 - val_loss: 1.1282 - val_acc: 0.8926\n",
            "Epoch 29/1000\n",
            " - 4s - loss: 0.0020 - acc: 0.9997 - val_loss: 1.0685 - val_acc: 0.8936\n",
            "Epoch 30/1000\n",
            " - 4s - loss: 0.0015 - acc: 0.9996 - val_loss: 1.0536 - val_acc: 0.8898\n",
            "Epoch 31/1000\n",
            " - 4s - loss: 0.0011 - acc: 0.9998 - val_loss: 1.0609 - val_acc: 0.8918\n",
            "Epoch 32/1000\n",
            " - 4s - loss: 8.4856e-04 - acc: 0.9997 - val_loss: 1.1058 - val_acc: 0.8862\n",
            "Epoch 33/1000\n",
            " - 4s - loss: 0.0030 - acc: 0.9997 - val_loss: 1.1107 - val_acc: 0.8836\n",
            "Epoch 34/1000\n",
            " - 4s - loss: 0.0059 - acc: 0.9990 - val_loss: 1.0115 - val_acc: 0.8786\n",
            "Epoch 35/1000\n",
            " - 4s - loss: 0.0073 - acc: 0.9985 - val_loss: 1.0132 - val_acc: 0.8738\n",
            "Epoch 36/1000\n",
            " - 4s - loss: 0.0089 - acc: 0.9983 - val_loss: 0.9406 - val_acc: 0.8806\n",
            "Epoch 37/1000\n",
            " - 4s - loss: 0.0033 - acc: 0.9994 - val_loss: 0.9802 - val_acc: 0.8776\n",
            "Epoch 38/1000\n",
            " - 4s - loss: 0.0016 - acc: 0.9995 - val_loss: 0.9981 - val_acc: 0.8782\n",
            "Epoch 39/1000\n",
            " - 4s - loss: 0.0022 - acc: 0.9997 - val_loss: 1.1067 - val_acc: 0.8764\n",
            "Epoch 40/1000\n",
            " - 4s - loss: 3.5639e-04 - acc: 0.9999 - val_loss: 1.1146 - val_acc: 0.8776\n",
            "Epoch 41/1000\n",
            " - 4s - loss: 8.8080e-04 - acc: 0.9999 - val_loss: 1.1530 - val_acc: 0.8770\n",
            "Epoch 42/1000\n",
            " - 4s - loss: 7.4814e-04 - acc: 0.9998 - val_loss: 1.1953 - val_acc: 0.8694\n",
            "Epoch 43/1000\n",
            " - 4s - loss: 0.0018 - acc: 0.9998 - val_loss: 1.1513 - val_acc: 0.8786\n",
            "Epoch 44/1000\n",
            " - 4s - loss: 3.1339e-05 - acc: 1.0000 - val_loss: 1.2031 - val_acc: 0.8806\n",
            "Epoch 45/1000\n",
            " - 4s - loss: 2.9022e-04 - acc: 0.9998 - val_loss: 1.2159 - val_acc: 0.8730\n",
            "Epoch 46/1000\n",
            " - 4s - loss: 3.3051e-05 - acc: 1.0000 - val_loss: 1.2696 - val_acc: 0.8788\n",
            "Epoch 47/1000\n",
            " - 4s - loss: 1.1124e-04 - acc: 0.9999 - val_loss: 1.3109 - val_acc: 0.8652\n",
            "Epoch 48/1000\n",
            " - 4s - loss: 2.2199e-04 - acc: 0.9999 - val_loss: 1.2793 - val_acc: 0.8734\n",
            "Epoch 49/1000\n",
            " - 4s - loss: 0.0014 - acc: 0.9998 - val_loss: 1.3520 - val_acc: 0.8734\n",
            "Epoch 50/1000\n",
            " - 4s - loss: 6.1082e-06 - acc: 1.0000 - val_loss: 1.3611 - val_acc: 0.8736\n",
            "Epoch 51/1000\n",
            " - 4s - loss: 1.8912e-04 - acc: 0.9999 - val_loss: 1.3453 - val_acc: 0.8702\n",
            "Epoch 52/1000\n",
            " - 4s - loss: 9.2818e-06 - acc: 1.0000 - val_loss: 1.3524 - val_acc: 0.8736\n",
            "Epoch 53/1000\n",
            " - 4s - loss: 8.9782e-06 - acc: 1.0000 - val_loss: 1.3771 - val_acc: 0.8698\n",
            "Epoch 54/1000\n",
            " - 4s - loss: 2.8512e-04 - acc: 0.9999 - val_loss: 1.3879 - val_acc: 0.8714\n",
            "Epoch 55/1000\n",
            " - 4s - loss: 5.3548e-06 - acc: 1.0000 - val_loss: 1.4136 - val_acc: 0.8728\n",
            "Epoch 56/1000\n",
            " - 4s - loss: 8.0546e-04 - acc: 0.9998 - val_loss: 1.4255 - val_acc: 0.8714\n",
            "Epoch 57/1000\n",
            " - 4s - loss: 0.0024 - acc: 0.9997 - val_loss: 1.3958 - val_acc: 0.8672\n",
            "Epoch 58/1000\n",
            " - 4s - loss: 0.0039 - acc: 0.9995 - val_loss: 1.3554 - val_acc: 0.8598\n",
            "Epoch 59/1000\n",
            " - 4s - loss: 0.0064 - acc: 0.9986 - val_loss: 1.2973 - val_acc: 0.8562\n",
            "Epoch 60/1000\n",
            " - 4s - loss: 0.0030 - acc: 0.9993 - val_loss: 1.3506 - val_acc: 0.8606\n",
            "Epoch 61/1000\n",
            " - 4s - loss: 0.0026 - acc: 0.9995 - val_loss: 1.3321 - val_acc: 0.8570\n",
            "Epoch 62/1000\n",
            " - 4s - loss: 0.0030 - acc: 0.9991 - val_loss: 1.2280 - val_acc: 0.8612\n",
            "Epoch 63/1000\n",
            " - 4s - loss: 0.0013 - acc: 0.9997 - val_loss: 1.2685 - val_acc: 0.8562\n",
            "Epoch 64/1000\n",
            " - 4s - loss: 0.0021 - acc: 0.9995 - val_loss: 1.3192 - val_acc: 0.8588\n",
            "Epoch 65/1000\n",
            " - 4s - loss: 0.0020 - acc: 0.9996 - val_loss: 1.3506 - val_acc: 0.8618\n",
            "Epoch 66/1000\n",
            " - 4s - loss: 9.4449e-04 - acc: 0.9999 - val_loss: 1.3615 - val_acc: 0.8614\n",
            "Epoch 67/1000\n",
            " - 4s - loss: 2.9852e-04 - acc: 0.9999 - val_loss: 1.3715 - val_acc: 0.8542\n",
            "Epoch 68/1000\n",
            " - 4s - loss: 6.0320e-04 - acc: 0.9998 - val_loss: 1.4697 - val_acc: 0.8526\n",
            "Epoch 69/1000\n",
            " - 4s - loss: 8.1850e-04 - acc: 0.9999 - val_loss: 1.4826 - val_acc: 0.8516\n",
            "Epoch 70/1000\n",
            " - 4s - loss: 0.0012 - acc: 0.9998 - val_loss: 1.5212 - val_acc: 0.8536\n",
            "Epoch 71/1000\n",
            " - 4s - loss: 0.0042 - acc: 0.9995 - val_loss: 1.5222 - val_acc: 0.8456\n",
            "Epoch 72/1000\n",
            " - 4s - loss: 3.9365e-04 - acc: 0.9998 - val_loss: 1.5485 - val_acc: 0.8376\n",
            "Epoch 73/1000\n",
            " - 4s - loss: 0.0019 - acc: 0.9995 - val_loss: 1.5214 - val_acc: 0.8450\n",
            "Epoch 74/1000\n",
            " - 4s - loss: 2.7969e-04 - acc: 0.9999 - val_loss: 1.5065 - val_acc: 0.8458\n",
            "Epoch 75/1000\n",
            " - 4s - loss: 0.0012 - acc: 0.9998 - val_loss: 1.7414 - val_acc: 0.8358\n",
            "Epoch 76/1000\n",
            " - 4s - loss: 0.0015 - acc: 0.9997 - val_loss: 1.7401 - val_acc: 0.8368\n",
            "Epoch 77/1000\n",
            " - 4s - loss: 9.3571e-04 - acc: 0.9998 - val_loss: 1.6542 - val_acc: 0.8420\n",
            "Epoch 78/1000\n",
            " - 4s - loss: 3.7639e-05 - acc: 1.0000 - val_loss: 1.7073 - val_acc: 0.8410\n",
            "Epoch 79/1000\n",
            " - 4s - loss: 4.3581e-05 - acc: 1.0000 - val_loss: 1.7217 - val_acc: 0.8394\n",
            "Epoch 80/1000\n",
            " - 4s - loss: 5.9161e-04 - acc: 0.9998 - val_loss: 1.8002 - val_acc: 0.8334\n",
            "Epoch 81/1000\n",
            " - 4s - loss: 7.7419e-04 - acc: 0.9998 - val_loss: 1.9319 - val_acc: 0.8256\n",
            "Epoch 82/1000\n",
            " - 4s - loss: 7.0355e-04 - acc: 0.9997 - val_loss: 1.8520 - val_acc: 0.8408\n",
            "Epoch 83/1000\n",
            " - 4s - loss: 0.0019 - acc: 0.9998 - val_loss: 1.9559 - val_acc: 0.8236\n",
            "Epoch 84/1000\n",
            " - 4s - loss: 0.0014 - acc: 0.9997 - val_loss: 1.8791 - val_acc: 0.8334\n",
            "Epoch 85/1000\n",
            " - 4s - loss: 8.0709e-04 - acc: 0.9998 - val_loss: 1.9430 - val_acc: 0.8320\n",
            "Epoch 86/1000\n",
            " - 4s - loss: 0.0024 - acc: 0.9998 - val_loss: 1.8531 - val_acc: 0.8382\n",
            "Epoch 87/1000\n",
            " - 4s - loss: 0.0036 - acc: 0.9995 - val_loss: 1.8953 - val_acc: 0.8404\n",
            "Epoch 88/1000\n",
            " - 4s - loss: 0.0012 - acc: 0.9998 - val_loss: 1.8490 - val_acc: 0.8292\n",
            "Epoch 89/1000\n",
            " - 4s - loss: 0.0023 - acc: 0.9998 - val_loss: 1.9033 - val_acc: 0.8274\n",
            "Epoch 90/1000\n",
            " - 4s - loss: 5.3518e-04 - acc: 0.9999 - val_loss: 1.8540 - val_acc: 0.8298\n",
            "Epoch 91/1000\n",
            " - 4s - loss: 0.0011 - acc: 0.9998 - val_loss: 1.9524 - val_acc: 0.8312\n",
            "Epoch 92/1000\n",
            " - 4s - loss: 0.0030 - acc: 0.9997 - val_loss: 2.0266 - val_acc: 0.8208\n",
            "Epoch 93/1000\n",
            " - 4s - loss: 0.0040 - acc: 0.9995 - val_loss: 2.0589 - val_acc: 0.8190\n",
            "Epoch 94/1000\n",
            " - 4s - loss: 0.0020 - acc: 0.9998 - val_loss: 1.9274 - val_acc: 0.8274\n",
            "Epoch 95/1000\n",
            " - 4s - loss: 1.4868e-04 - acc: 0.9999 - val_loss: 1.9561 - val_acc: 0.8188\n",
            "Epoch 96/1000\n",
            " - 4s - loss: 0.0013 - acc: 0.9998 - val_loss: 1.9711 - val_acc: 0.8270\n",
            "Epoch 97/1000\n",
            " - 4s - loss: 0.0044 - acc: 0.9996 - val_loss: 2.0123 - val_acc: 0.8236\n",
            "Epoch 98/1000\n",
            " - 4s - loss: 0.0012 - acc: 0.9997 - val_loss: 2.0737 - val_acc: 0.8206\n",
            "Epoch 99/1000\n",
            " - 4s - loss: 0.0043 - acc: 0.9995 - val_loss: 2.0514 - val_acc: 0.8182\n",
            "Epoch 100/1000\n",
            " - 4s - loss: 0.0015 - acc: 0.9999 - val_loss: 1.9975 - val_acc: 0.8226\n",
            "Epoch 101/1000\n",
            " - 4s - loss: 3.5641e-04 - acc: 0.9999 - val_loss: 2.0399 - val_acc: 0.8188\n",
            "Epoch 102/1000\n",
            " - 4s - loss: 0.0018 - acc: 0.9997 - val_loss: 2.1769 - val_acc: 0.8228\n",
            "Epoch 103/1000\n",
            " - 4s - loss: 0.0019 - acc: 0.9996 - val_loss: 2.2117 - val_acc: 0.8090\n",
            "Epoch 104/1000\n",
            " - 4s - loss: 2.0718e-04 - acc: 0.9999 - val_loss: 2.1848 - val_acc: 0.8168\n",
            "Epoch 105/1000\n",
            " - 4s - loss: 0.0024 - acc: 0.9998 - val_loss: 2.2369 - val_acc: 0.8152\n",
            "Epoch 106/1000\n",
            " - 4s - loss: 0.0025 - acc: 0.9996 - val_loss: 2.2198 - val_acc: 0.8146\n",
            "Epoch 107/1000\n",
            " - 4s - loss: 0.0026 - acc: 0.9997 - val_loss: 2.2427 - val_acc: 0.8150\n",
            "Epoch 108/1000\n",
            " - 4s - loss: 5.0482e-05 - acc: 0.9999 - val_loss: 2.2132 - val_acc: 0.8166\n",
            "Epoch 109/1000\n",
            " - 4s - loss: 4.0857e-05 - acc: 1.0000 - val_loss: 2.2362 - val_acc: 0.8192\n",
            "Epoch 110/1000\n",
            " - 4s - loss: 0.0016 - acc: 0.9998 - val_loss: 2.3410 - val_acc: 0.8118\n",
            "Epoch 111/1000\n",
            " - 4s - loss: 5.8514e-04 - acc: 0.9998 - val_loss: 2.2964 - val_acc: 0.8128\n",
            "Epoch 112/1000\n",
            " - 4s - loss: 0.0026 - acc: 0.9996 - val_loss: 2.2814 - val_acc: 0.8066\n",
            "Epoch 113/1000\n",
            " - 4s - loss: 4.9942e-05 - acc: 1.0000 - val_loss: 2.2571 - val_acc: 0.8156\n",
            "Epoch 114/1000\n",
            " - 4s - loss: 0.0035 - acc: 0.9995 - val_loss: 2.2757 - val_acc: 0.8150\n",
            "Epoch 115/1000\n",
            " - 4s - loss: 0.0014 - acc: 0.9998 - val_loss: 2.3488 - val_acc: 0.8130\n",
            "Epoch 116/1000\n",
            " - 4s - loss: 0.0054 - acc: 0.9993 - val_loss: 2.3154 - val_acc: 0.8134\n",
            "Epoch 117/1000\n",
            " - 4s - loss: 0.0013 - acc: 0.9998 - val_loss: 2.3128 - val_acc: 0.8146\n",
            "Epoch 118/1000\n",
            " - 4s - loss: 0.0026 - acc: 0.9997 - val_loss: 2.3945 - val_acc: 0.8052\n",
            "Epoch 119/1000\n",
            " - 4s - loss: 0.0030 - acc: 0.9996 - val_loss: 2.3990 - val_acc: 0.8108\n",
            "Epoch 120/1000\n",
            " - 4s - loss: 6.3536e-04 - acc: 0.9998 - val_loss: 2.3026 - val_acc: 0.8066\n",
            "Epoch 121/1000\n",
            " - 4s - loss: 5.8870e-05 - acc: 1.0000 - val_loss: 2.3279 - val_acc: 0.8078\n",
            "Epoch 122/1000\n",
            " - 4s - loss: 0.0010 - acc: 0.9998 - val_loss: 2.3387 - val_acc: 0.8130\n",
            "Epoch 123/1000\n",
            " - 4s - loss: 0.0012 - acc: 0.9998 - val_loss: 2.2852 - val_acc: 0.8060\n",
            "Epoch 124/1000\n",
            " - 4s - loss: 0.0013 - acc: 0.9998 - val_loss: 2.3633 - val_acc: 0.8096\n",
            "Epoch 125/1000\n",
            " - 4s - loss: 4.4697e-05 - acc: 1.0000 - val_loss: 2.3891 - val_acc: 0.8108\n",
            "Epoch 126/1000\n",
            " - 4s - loss: 7.3686e-04 - acc: 0.9997 - val_loss: 2.4696 - val_acc: 0.8008\n",
            "Epoch 127/1000\n",
            " - 4s - loss: 0.0023 - acc: 0.9997 - val_loss: 2.5652 - val_acc: 0.7986\n",
            "Epoch 128/1000\n",
            " - 4s - loss: 1.1346e-04 - acc: 1.0000 - val_loss: 2.4489 - val_acc: 0.8076\n",
            "Epoch 129/1000\n",
            " - 4s - loss: 8.3586e-04 - acc: 0.9999 - val_loss: 2.4656 - val_acc: 0.8040\n",
            "Epoch 130/1000\n",
            " - 4s - loss: 0.0015 - acc: 0.9999 - val_loss: 2.5171 - val_acc: 0.8042\n",
            "Epoch 131/1000\n",
            " - 4s - loss: 0.0020 - acc: 0.9997 - val_loss: 2.5013 - val_acc: 0.8058\n",
            "Epoch 132/1000\n",
            " - 4s - loss: 0.0027 - acc: 0.9996 - val_loss: 2.4730 - val_acc: 0.8012\n",
            "Epoch 133/1000\n",
            " - 4s - loss: 0.0019 - acc: 0.9998 - val_loss: 2.5008 - val_acc: 0.8100\n",
            "Epoch 134/1000\n",
            " - 4s - loss: 0.0022 - acc: 0.9997 - val_loss: 2.5117 - val_acc: 0.8098\n",
            "Epoch 135/1000\n",
            " - 4s - loss: 0.0034 - acc: 0.9994 - val_loss: 2.4404 - val_acc: 0.8046\n",
            "Epoch 136/1000\n",
            " - 4s - loss: 0.0020 - acc: 0.9997 - val_loss: 2.4601 - val_acc: 0.8028\n",
            "Epoch 137/1000\n",
            " - 4s - loss: 0.0039 - acc: 0.9995 - val_loss: 2.4714 - val_acc: 0.8006\n",
            "Epoch 138/1000\n",
            " - 4s - loss: 0.0014 - acc: 0.9998 - val_loss: 2.4751 - val_acc: 0.8028\n",
            "Epoch 139/1000\n",
            " - 4s - loss: 0.0024 - acc: 0.9996 - val_loss: 2.4744 - val_acc: 0.8008\n",
            "Epoch 140/1000\n",
            " - 4s - loss: 0.0040 - acc: 0.9992 - val_loss: 2.5575 - val_acc: 0.8010\n",
            "Epoch 141/1000\n",
            " - 4s - loss: 5.2753e-04 - acc: 0.9999 - val_loss: 2.5307 - val_acc: 0.8016\n",
            "Epoch 142/1000\n",
            " - 4s - loss: 8.8977e-04 - acc: 0.9999 - val_loss: 2.5148 - val_acc: 0.7978\n",
            "Epoch 143/1000\n",
            " - 4s - loss: 0.0023 - acc: 0.9996 - val_loss: 2.6224 - val_acc: 0.7974\n",
            "Epoch 144/1000\n",
            " - 4s - loss: 8.2890e-04 - acc: 0.9999 - val_loss: 2.6177 - val_acc: 0.7968\n",
            "Epoch 145/1000\n",
            " - 4s - loss: 8.8080e-04 - acc: 0.9998 - val_loss: 2.5440 - val_acc: 0.7980\n",
            "Epoch 146/1000\n",
            " - 4s - loss: 2.0430e-04 - acc: 0.9999 - val_loss: 2.5655 - val_acc: 0.7936\n",
            "Epoch 147/1000\n",
            " - 4s - loss: 0.0025 - acc: 0.9997 - val_loss: 2.5995 - val_acc: 0.7922\n",
            "Epoch 148/1000\n",
            " - 4s - loss: 5.4297e-04 - acc: 0.9999 - val_loss: 2.6144 - val_acc: 0.7946\n",
            "Epoch 149/1000\n",
            " - 4s - loss: 0.0013 - acc: 0.9998 - val_loss: 2.5937 - val_acc: 0.7978\n",
            "Epoch 150/1000\n",
            " - 4s - loss: 0.0023 - acc: 0.9997 - val_loss: 2.6007 - val_acc: 0.7970\n",
            "Epoch 151/1000\n",
            " - 4s - loss: 0.0011 - acc: 0.9998 - val_loss: 2.6158 - val_acc: 0.7920\n",
            "Epoch 152/1000\n",
            " - 4s - loss: 6.2910e-04 - acc: 0.9998 - val_loss: 2.6184 - val_acc: 0.7936\n",
            "Epoch 153/1000\n",
            " - 4s - loss: 0.0021 - acc: 0.9997 - val_loss: 2.6697 - val_acc: 0.7922\n",
            "Epoch 154/1000\n",
            " - 4s - loss: 0.0026 - acc: 0.9997 - val_loss: 2.6602 - val_acc: 0.7930\n",
            "Epoch 155/1000\n",
            " - 4s - loss: 1.3314e-04 - acc: 0.9999 - val_loss: 2.7334 - val_acc: 0.7920\n",
            "Epoch 156/1000\n",
            " - 4s - loss: 0.0016 - acc: 0.9999 - val_loss: 2.7456 - val_acc: 0.7942\n",
            "Epoch 157/1000\n",
            " - 4s - loss: 7.9628e-04 - acc: 0.9998 - val_loss: 2.7184 - val_acc: 0.7918\n",
            "Epoch 158/1000\n",
            " - 4s - loss: 0.0034 - acc: 0.9995 - val_loss: 2.7325 - val_acc: 0.7920\n",
            "Epoch 159/1000\n",
            " - 4s - loss: 7.6523e-04 - acc: 0.9998 - val_loss: 2.6816 - val_acc: 0.7908\n",
            "Epoch 160/1000\n",
            " - 4s - loss: 5.1469e-05 - acc: 1.0000 - val_loss: 2.6556 - val_acc: 0.7906\n",
            "Epoch 161/1000\n",
            " - 4s - loss: 2.3179e-05 - acc: 1.0000 - val_loss: 2.6941 - val_acc: 0.7916\n",
            "Epoch 162/1000\n",
            " - 4s - loss: 0.0026 - acc: 0.9997 - val_loss: 2.7701 - val_acc: 0.7902\n",
            "Epoch 163/1000\n",
            " - 4s - loss: 0.0052 - acc: 0.9992 - val_loss: 2.7431 - val_acc: 0.7906\n",
            "Epoch 164/1000\n",
            " - 4s - loss: 6.1312e-04 - acc: 0.9998 - val_loss: 2.7312 - val_acc: 0.7896\n",
            "Epoch 165/1000\n",
            " - 4s - loss: 9.7308e-04 - acc: 0.9998 - val_loss: 2.7243 - val_acc: 0.7900\n",
            "Epoch 166/1000\n",
            " - 4s - loss: 1.6714e-04 - acc: 0.9999 - val_loss: 2.7176 - val_acc: 0.7890\n",
            "Epoch 167/1000\n",
            " - 4s - loss: 7.3670e-04 - acc: 0.9999 - val_loss: 2.7324 - val_acc: 0.7876\n",
            "Epoch 168/1000\n",
            " - 4s - loss: 0.0040 - acc: 0.9995 - val_loss: 2.7711 - val_acc: 0.7864\n",
            "Epoch 169/1000\n",
            " - 4s - loss: 0.0018 - acc: 0.9998 - val_loss: 2.7986 - val_acc: 0.7864\n",
            "Epoch 170/1000\n",
            " - 4s - loss: 0.0022 - acc: 0.9998 - val_loss: 2.7743 - val_acc: 0.7842\n",
            "Epoch 171/1000\n",
            " - 4s - loss: 0.0018 - acc: 0.9997 - val_loss: 2.7493 - val_acc: 0.7838\n",
            "Epoch 172/1000\n",
            " - 4s - loss: 0.0020 - acc: 0.9997 - val_loss: 2.7736 - val_acc: 0.7846\n",
            "Epoch 173/1000\n",
            " - 4s - loss: 6.0936e-04 - acc: 0.9998 - val_loss: 2.7870 - val_acc: 0.7876\n",
            "Epoch 174/1000\n",
            " - 4s - loss: 0.0017 - acc: 0.9998 - val_loss: 2.7469 - val_acc: 0.7868\n",
            "Epoch 175/1000\n",
            " - 4s - loss: 0.0022 - acc: 0.9997 - val_loss: 2.8083 - val_acc: 0.7826\n",
            "Epoch 176/1000\n",
            " - 4s - loss: 9.5887e-04 - acc: 0.9998 - val_loss: 2.7434 - val_acc: 0.7856\n",
            "Epoch 177/1000\n",
            " - 4s - loss: 0.0018 - acc: 0.9998 - val_loss: 2.8148 - val_acc: 0.7834\n",
            "Epoch 178/1000\n",
            " - 4s - loss: 0.0013 - acc: 0.9998 - val_loss: 2.7980 - val_acc: 0.7854\n",
            "Epoch 179/1000\n",
            " - 4s - loss: 1.5753e-05 - acc: 1.0000 - val_loss: 2.8075 - val_acc: 0.7848\n",
            "Epoch 180/1000\n",
            " - 4s - loss: 0.0036 - acc: 0.9995 - val_loss: 2.8379 - val_acc: 0.7794\n",
            "Epoch 181/1000\n",
            " - 4s - loss: 0.0052 - acc: 0.9992 - val_loss: 2.7842 - val_acc: 0.7834\n",
            "Epoch 182/1000\n",
            " - 4s - loss: 0.0017 - acc: 0.9998 - val_loss: 2.7666 - val_acc: 0.7828\n",
            "Epoch 183/1000\n",
            " - 4s - loss: 0.0026 - acc: 0.9997 - val_loss: 2.8314 - val_acc: 0.7826\n",
            "Epoch 184/1000\n",
            " - 4s - loss: 0.0042 - acc: 0.9994 - val_loss: 2.8165 - val_acc: 0.7814\n",
            "Epoch 185/1000\n",
            " - 4s - loss: 0.0026 - acc: 0.9997 - val_loss: 2.7981 - val_acc: 0.7842\n",
            "Epoch 186/1000\n",
            " - 4s - loss: 0.0019 - acc: 0.9998 - val_loss: 2.8479 - val_acc: 0.7830\n",
            "Epoch 187/1000\n",
            " - 4s - loss: 0.0014 - acc: 0.9998 - val_loss: 2.7731 - val_acc: 0.7826\n",
            "Epoch 188/1000\n",
            " - 4s - loss: 0.0020 - acc: 0.9998 - val_loss: 2.8140 - val_acc: 0.7844\n",
            "Epoch 189/1000\n",
            " - 4s - loss: 9.5155e-04 - acc: 0.9997 - val_loss: 2.8599 - val_acc: 0.7784\n",
            "Epoch 190/1000\n",
            " - 4s - loss: 0.0012 - acc: 0.9997 - val_loss: 2.8436 - val_acc: 0.7828\n",
            "Epoch 191/1000\n",
            " - 4s - loss: 0.0019 - acc: 0.9998 - val_loss: 2.8829 - val_acc: 0.7798\n",
            "Epoch 192/1000\n",
            " - 4s - loss: 8.7942e-04 - acc: 0.9999 - val_loss: 2.8317 - val_acc: 0.7832\n",
            "Epoch 193/1000\n",
            " - 4s - loss: 8.2969e-04 - acc: 0.9999 - val_loss: 2.8830 - val_acc: 0.7814\n",
            "Epoch 194/1000\n",
            " - 4s - loss: 0.0026 - acc: 0.9995 - val_loss: 2.9052 - val_acc: 0.7808\n",
            "Epoch 195/1000\n",
            " - 4s - loss: 8.7394e-04 - acc: 0.9999 - val_loss: 2.8676 - val_acc: 0.7816\n",
            "Epoch 196/1000\n",
            " - 4s - loss: 4.4028e-04 - acc: 0.9999 - val_loss: 2.8726 - val_acc: 0.7808\n",
            "Epoch 197/1000\n",
            " - 4s - loss: 0.0026 - acc: 0.9997 - val_loss: 2.9228 - val_acc: 0.7786\n",
            "Epoch 198/1000\n",
            " - 4s - loss: 8.3945e-04 - acc: 0.9999 - val_loss: 2.9476 - val_acc: 0.7800\n",
            "Epoch 199/1000\n",
            " - 4s - loss: 4.0827e-04 - acc: 0.9999 - val_loss: 2.9014 - val_acc: 0.7794\n",
            "Epoch 200/1000\n",
            " - 4s - loss: 0.0020 - acc: 0.9998 - val_loss: 2.8080 - val_acc: 0.7796\n",
            "Epoch 201/1000\n",
            " - 4s - loss: 9.5626e-04 - acc: 0.9999 - val_loss: 2.9632 - val_acc: 0.7778\n",
            "Epoch 202/1000\n",
            " - 4s - loss: 0.0034 - acc: 0.9995 - val_loss: 3.0191 - val_acc: 0.7784\n",
            "Epoch 203/1000\n",
            " - 4s - loss: 0.0017 - acc: 0.9998 - val_loss: 2.9643 - val_acc: 0.7756\n",
            "Epoch 204/1000\n",
            " - 4s - loss: 0.0022 - acc: 0.9997 - val_loss: 2.9599 - val_acc: 0.7768\n",
            "Epoch 205/1000\n",
            " - 4s - loss: 0.0031 - acc: 0.9998 - val_loss: 2.9334 - val_acc: 0.7774\n",
            "Epoch 206/1000\n",
            " - 4s - loss: 9.7790e-04 - acc: 0.9998 - val_loss: 2.8379 - val_acc: 0.7784\n",
            "Epoch 207/1000\n",
            " - 4s - loss: 0.0021 - acc: 0.9997 - val_loss: 2.9415 - val_acc: 0.7764\n",
            "Epoch 208/1000\n",
            " - 4s - loss: 8.3666e-04 - acc: 0.9999 - val_loss: 2.9272 - val_acc: 0.7788\n",
            "Epoch 209/1000\n",
            " - 4s - loss: 0.0010 - acc: 0.9999 - val_loss: 2.9480 - val_acc: 0.7778\n",
            "Epoch 210/1000\n",
            " - 4s - loss: 9.2709e-05 - acc: 0.9999 - val_loss: 2.9662 - val_acc: 0.7766\n",
            "Epoch 211/1000\n",
            " - 4s - loss: 0.0015 - acc: 0.9998 - val_loss: 2.9008 - val_acc: 0.7776\n",
            "Epoch 212/1000\n",
            " - 4s - loss: 0.0014 - acc: 0.9998 - val_loss: 2.9319 - val_acc: 0.7788\n",
            "Epoch 213/1000\n",
            " - 4s - loss: 0.0034 - acc: 0.9995 - val_loss: 2.9470 - val_acc: 0.7792\n",
            "Epoch 214/1000\n",
            " - 4s - loss: 0.0011 - acc: 0.9998 - val_loss: 2.8765 - val_acc: 0.7816\n",
            "Epoch 215/1000\n",
            " - 4s - loss: 0.0017 - acc: 0.9998 - val_loss: 2.9065 - val_acc: 0.7810\n",
            "Epoch 216/1000\n",
            " - 4s - loss: 0.0019 - acc: 0.9997 - val_loss: 2.9080 - val_acc: 0.7806\n",
            "Epoch 217/1000\n",
            " - 4s - loss: 5.2055e-04 - acc: 0.9999 - val_loss: 2.9038 - val_acc: 0.7804\n",
            "Epoch 218/1000\n",
            " - 4s - loss: 2.7796e-04 - acc: 0.9999 - val_loss: 2.9317 - val_acc: 0.7806\n",
            "Epoch 219/1000\n",
            " - 4s - loss: 6.3113e-04 - acc: 0.9998 - val_loss: 3.0358 - val_acc: 0.7766\n",
            "Epoch 220/1000\n",
            " - 4s - loss: 0.0039 - acc: 0.9996 - val_loss: 2.9455 - val_acc: 0.7772\n",
            "Epoch 221/1000\n",
            " - 4s - loss: 0.0017 - acc: 0.9998 - val_loss: 2.9410 - val_acc: 0.7778\n",
            "Epoch 222/1000\n",
            " - 4s - loss: 0.0054 - acc: 0.9995 - val_loss: 2.9364 - val_acc: 0.7808\n",
            "Epoch 223/1000\n",
            " - 4s - loss: 9.4255e-05 - acc: 1.0000 - val_loss: 2.9935 - val_acc: 0.7792\n",
            "Epoch 224/1000\n",
            " - 4s - loss: 0.0030 - acc: 0.9996 - val_loss: 2.9959 - val_acc: 0.7766\n",
            "Epoch 225/1000\n",
            " - 4s - loss: 0.0020 - acc: 0.9998 - val_loss: 2.9282 - val_acc: 0.7762\n",
            "Epoch 226/1000\n",
            " - 4s - loss: 0.0011 - acc: 0.9998 - val_loss: 2.9310 - val_acc: 0.7764\n",
            "Epoch 227/1000\n",
            " - 4s - loss: 0.0019 - acc: 0.9997 - val_loss: 3.0160 - val_acc: 0.7748\n",
            "Epoch 228/1000\n",
            " - 4s - loss: 0.0015 - acc: 0.9998 - val_loss: 2.9992 - val_acc: 0.7760\n",
            "Epoch 229/1000\n",
            " - 4s - loss: 0.0031 - acc: 0.9997 - val_loss: 2.9713 - val_acc: 0.7760\n",
            "Epoch 230/1000\n",
            " - 4s - loss: 0.0043 - acc: 0.9995 - val_loss: 2.9893 - val_acc: 0.7744\n",
            "Epoch 231/1000\n",
            " - 4s - loss: 0.0054 - acc: 0.9995 - val_loss: 2.8614 - val_acc: 0.7726\n",
            "Epoch 232/1000\n",
            " - 4s - loss: 0.0017 - acc: 0.9998 - val_loss: 3.0026 - val_acc: 0.7748\n",
            "Epoch 233/1000\n",
            " - 4s - loss: 0.0034 - acc: 0.9997 - val_loss: 3.0268 - val_acc: 0.7734\n",
            "Epoch 234/1000\n",
            " - 4s - loss: 0.0021 - acc: 0.9998 - val_loss: 3.0272 - val_acc: 0.7746\n",
            "Epoch 235/1000\n",
            " - 4s - loss: 0.0037 - acc: 0.9994 - val_loss: 3.1217 - val_acc: 0.7752\n",
            "Epoch 236/1000\n",
            " - 4s - loss: 0.0053 - acc: 0.9993 - val_loss: 3.0340 - val_acc: 0.7754\n",
            "Epoch 237/1000\n",
            " - 4s - loss: 0.0017 - acc: 0.9999 - val_loss: 3.0595 - val_acc: 0.7746\n",
            "Epoch 238/1000\n",
            " - 4s - loss: 0.0038 - acc: 0.9997 - val_loss: 3.0748 - val_acc: 0.7720\n",
            "Epoch 239/1000\n",
            " - 4s - loss: 0.0034 - acc: 0.9998 - val_loss: 3.1198 - val_acc: 0.7726\n",
            "Epoch 240/1000\n",
            " - 4s - loss: 0.0030 - acc: 0.9997 - val_loss: 3.0448 - val_acc: 0.7754\n",
            "Epoch 241/1000\n",
            " - 4s - loss: 1.5541e-04 - acc: 0.9999 - val_loss: 3.0261 - val_acc: 0.7770\n",
            "Epoch 242/1000\n",
            " - 4s - loss: 9.4853e-04 - acc: 0.9999 - val_loss: 3.0798 - val_acc: 0.7750\n",
            "Epoch 243/1000\n",
            " - 4s - loss: 8.0974e-04 - acc: 0.9999 - val_loss: 3.0718 - val_acc: 0.7744\n",
            "Epoch 244/1000\n",
            " - 4s - loss: 0.0016 - acc: 0.9999 - val_loss: 3.0732 - val_acc: 0.7748\n",
            "Epoch 245/1000\n",
            " - 4s - loss: 0.0010 - acc: 0.9998 - val_loss: 3.0568 - val_acc: 0.7732\n",
            "Epoch 246/1000\n",
            " - 4s - loss: 0.0035 - acc: 0.9998 - val_loss: 3.1350 - val_acc: 0.7710\n",
            "Epoch 247/1000\n",
            " - 4s - loss: 8.2743e-04 - acc: 0.9999 - val_loss: 3.1158 - val_acc: 0.7692\n",
            "Epoch 248/1000\n",
            " - 4s - loss: 0.0016 - acc: 0.9999 - val_loss: 3.1106 - val_acc: 0.7700\n",
            "Epoch 249/1000\n",
            " - 4s - loss: 1.0828e-04 - acc: 0.9999 - val_loss: 3.0801 - val_acc: 0.7684\n",
            "Epoch 250/1000\n",
            " - 4s - loss: 0.0024 - acc: 0.9996 - val_loss: 3.1223 - val_acc: 0.7660\n",
            "Epoch 251/1000\n",
            " - 4s - loss: 0.0016 - acc: 0.9999 - val_loss: 3.1354 - val_acc: 0.7674\n",
            "Epoch 252/1000\n",
            " - 4s - loss: 0.0022 - acc: 0.9997 - val_loss: 3.1234 - val_acc: 0.7710\n",
            "Epoch 253/1000\n",
            " - 4s - loss: 0.0017 - acc: 0.9998 - val_loss: 3.1712 - val_acc: 0.7718\n",
            "Epoch 254/1000\n",
            " - 4s - loss: 0.0010 - acc: 0.9998 - val_loss: 3.1044 - val_acc: 0.7694\n",
            "Epoch 255/1000\n",
            " - 4s - loss: 0.0018 - acc: 0.9998 - val_loss: 3.1464 - val_acc: 0.7650\n",
            "Epoch 256/1000\n",
            " - 4s - loss: 0.0011 - acc: 0.9998 - val_loss: 3.1306 - val_acc: 0.7672\n",
            "Epoch 257/1000\n",
            " - 4s - loss: 0.0044 - acc: 0.9995 - val_loss: 3.1301 - val_acc: 0.7656\n",
            "Epoch 258/1000\n",
            " - 4s - loss: 6.0563e-05 - acc: 1.0000 - val_loss: 3.1491 - val_acc: 0.7658\n",
            "Epoch 259/1000\n",
            " - 4s - loss: 0.0013 - acc: 0.9998 - val_loss: 3.1653 - val_acc: 0.7652\n",
            "Epoch 260/1000\n",
            " - 4s - loss: 8.8094e-04 - acc: 0.9999 - val_loss: 3.1371 - val_acc: 0.7670\n",
            "Epoch 261/1000\n",
            " - 4s - loss: 0.0041 - acc: 0.9996 - val_loss: 3.1612 - val_acc: 0.7672\n",
            "Epoch 262/1000\n",
            " - 4s - loss: 0.0015 - acc: 0.9998 - val_loss: 3.1148 - val_acc: 0.7666\n",
            "Epoch 263/1000\n",
            " - 4s - loss: 0.0053 - acc: 0.9994 - val_loss: 3.1639 - val_acc: 0.7664\n",
            "Epoch 264/1000\n",
            " - 4s - loss: 0.0011 - acc: 0.9999 - val_loss: 3.2179 - val_acc: 0.7640\n",
            "Epoch 265/1000\n",
            " - 4s - loss: 0.0015 - acc: 0.9998 - val_loss: 3.1925 - val_acc: 0.7646\n",
            "Epoch 266/1000\n",
            " - 4s - loss: 0.0021 - acc: 0.9998 - val_loss: 3.2311 - val_acc: 0.7644\n",
            "Epoch 267/1000\n",
            " - 4s - loss: 0.0012 - acc: 0.9998 - val_loss: 3.1550 - val_acc: 0.7656\n",
            "Epoch 268/1000\n",
            " - 4s - loss: 0.0019 - acc: 0.9998 - val_loss: 3.1739 - val_acc: 0.7682\n",
            "Epoch 269/1000\n",
            " - 4s - loss: 0.0026 - acc: 0.9996 - val_loss: 3.1754 - val_acc: 0.7686\n",
            "Epoch 270/1000\n",
            " - 4s - loss: 0.0022 - acc: 0.9998 - val_loss: 3.1888 - val_acc: 0.7680\n",
            "Epoch 271/1000\n",
            " - 4s - loss: 0.0019 - acc: 0.9997 - val_loss: 3.2618 - val_acc: 0.7662\n",
            "Epoch 272/1000\n",
            " - 4s - loss: 0.0049 - acc: 0.9995 - val_loss: 3.1923 - val_acc: 0.7696\n",
            "Epoch 273/1000\n",
            " - 4s - loss: 0.0019 - acc: 0.9998 - val_loss: 3.1353 - val_acc: 0.7684\n",
            "Epoch 274/1000\n",
            " - 4s - loss: 0.0025 - acc: 0.9998 - val_loss: 3.1929 - val_acc: 0.7686\n",
            "Epoch 275/1000\n",
            " - 4s - loss: 0.0015 - acc: 0.9998 - val_loss: 3.1741 - val_acc: 0.7704\n",
            "Epoch 276/1000\n",
            " - 4s - loss: 8.2758e-04 - acc: 0.9999 - val_loss: 3.1918 - val_acc: 0.7694\n",
            "Epoch 277/1000\n",
            " - 4s - loss: 0.0013 - acc: 0.9998 - val_loss: 3.1955 - val_acc: 0.7662\n",
            "Epoch 278/1000\n",
            " - 4s - loss: 0.0021 - acc: 0.9998 - val_loss: 3.1623 - val_acc: 0.7624\n",
            "Epoch 279/1000\n",
            " - 4s - loss: 0.0055 - acc: 0.9995 - val_loss: 3.2221 - val_acc: 0.7652\n",
            "Epoch 280/1000\n",
            " - 4s - loss: 0.0021 - acc: 0.9997 - val_loss: 3.2142 - val_acc: 0.7638\n",
            "Epoch 281/1000\n",
            " - 4s - loss: 0.0020 - acc: 0.9998 - val_loss: 3.2008 - val_acc: 0.7658\n",
            "Epoch 282/1000\n",
            " - 4s - loss: 0.0024 - acc: 0.9998 - val_loss: 3.2187 - val_acc: 0.7654\n",
            "Epoch 283/1000\n",
            " - 4s - loss: 0.0018 - acc: 0.9998 - val_loss: 3.2025 - val_acc: 0.7664\n",
            "Epoch 284/1000\n",
            " - 4s - loss: 6.7166e-04 - acc: 0.9999 - val_loss: 3.1654 - val_acc: 0.7636\n",
            "Epoch 285/1000\n",
            " - 4s - loss: 0.0019 - acc: 0.9997 - val_loss: 3.2402 - val_acc: 0.7668\n",
            "Epoch 286/1000\n",
            " - 4s - loss: 1.6218e-05 - acc: 1.0000 - val_loss: 3.2184 - val_acc: 0.7674\n",
            "Epoch 287/1000\n",
            " - 4s - loss: 0.0019 - acc: 0.9998 - val_loss: 3.2276 - val_acc: 0.7666\n",
            "Epoch 288/1000\n",
            " - 4s - loss: 0.0033 - acc: 0.9997 - val_loss: 3.2749 - val_acc: 0.7654\n",
            "Epoch 289/1000\n",
            " - 4s - loss: 0.0077 - acc: 0.9991 - val_loss: 3.2101 - val_acc: 0.7670\n",
            "Epoch 290/1000\n",
            " - 4s - loss: 0.0018 - acc: 0.9998 - val_loss: 3.2093 - val_acc: 0.7664\n",
            "Epoch 291/1000\n",
            " - 4s - loss: 6.3646e-04 - acc: 0.9998 - val_loss: 3.2119 - val_acc: 0.7680\n",
            "Epoch 292/1000\n",
            " - 4s - loss: 0.0012 - acc: 0.9998 - val_loss: 3.1727 - val_acc: 0.7662\n",
            "Epoch 293/1000\n",
            " - 4s - loss: 0.0026 - acc: 0.9998 - val_loss: 3.1069 - val_acc: 0.7644\n",
            "Epoch 294/1000\n",
            " - 4s - loss: 0.0053 - acc: 0.9994 - val_loss: 3.2009 - val_acc: 0.7670\n",
            "Epoch 295/1000\n",
            " - 4s - loss: 0.0021 - acc: 0.9997 - val_loss: 3.1450 - val_acc: 0.7648\n",
            "Epoch 296/1000\n",
            " - 4s - loss: 0.0050 - acc: 0.9994 - val_loss: 3.1257 - val_acc: 0.7682\n",
            "Epoch 297/1000\n",
            " - 4s - loss: 1.9546e-04 - acc: 0.9999 - val_loss: 3.1281 - val_acc: 0.7664\n",
            "Epoch 298/1000\n",
            " - 4s - loss: 0.0011 - acc: 0.9999 - val_loss: 3.1507 - val_acc: 0.7668\n",
            "Epoch 299/1000\n",
            " - 4s - loss: 0.0017 - acc: 0.9998 - val_loss: 3.1938 - val_acc: 0.7684\n",
            "Epoch 300/1000\n",
            " - 4s - loss: 1.4762e-05 - acc: 1.0000 - val_loss: 3.1864 - val_acc: 0.7696\n",
            "Epoch 301/1000\n",
            " - 4s - loss: 0.0034 - acc: 0.9995 - val_loss: 3.0745 - val_acc: 0.7700\n",
            "Epoch 302/1000\n",
            " - 4s - loss: 0.0029 - acc: 0.9998 - val_loss: 3.2107 - val_acc: 0.7664\n",
            "Epoch 303/1000\n",
            " - 4s - loss: 8.0284e-04 - acc: 0.9999 - val_loss: 3.2094 - val_acc: 0.7666\n",
            "Epoch 304/1000\n",
            " - 4s - loss: 0.0015 - acc: 0.9998 - val_loss: 3.2326 - val_acc: 0.7640\n",
            "Epoch 305/1000\n",
            " - 4s - loss: 0.0026 - acc: 0.9996 - val_loss: 3.2247 - val_acc: 0.7666\n",
            "Epoch 306/1000\n",
            " - 4s - loss: 0.0020 - acc: 0.9998 - val_loss: 3.1975 - val_acc: 0.7660\n",
            "Epoch 307/1000\n",
            " - 4s - loss: 0.0017 - acc: 0.9998 - val_loss: 3.1498 - val_acc: 0.7646\n",
            "Epoch 308/1000\n",
            " - 4s - loss: 8.2634e-04 - acc: 0.9999 - val_loss: 3.1990 - val_acc: 0.7676\n",
            "Epoch 309/1000\n",
            " - 4s - loss: 0.0025 - acc: 0.9996 - val_loss: 3.2441 - val_acc: 0.7670\n",
            "Epoch 310/1000\n",
            " - 4s - loss: 6.1823e-04 - acc: 0.9999 - val_loss: 3.1857 - val_acc: 0.7640\n",
            "Epoch 311/1000\n",
            " - 4s - loss: 0.0029 - acc: 0.9997 - val_loss: 3.1931 - val_acc: 0.7636\n",
            "Epoch 312/1000\n",
            " - 4s - loss: 0.0021 - acc: 0.9998 - val_loss: 3.1563 - val_acc: 0.7632\n",
            "Epoch 313/1000\n",
            " - 4s - loss: 0.0058 - acc: 0.9993 - val_loss: 3.2011 - val_acc: 0.7636\n",
            "Epoch 314/1000\n",
            " - 4s - loss: 0.0041 - acc: 0.9994 - val_loss: 3.1803 - val_acc: 0.7652\n",
            "Epoch 315/1000\n",
            " - 4s - loss: 3.3412e-04 - acc: 0.9999 - val_loss: 3.1867 - val_acc: 0.7658\n",
            "Epoch 316/1000\n",
            " - 4s - loss: 3.9804e-04 - acc: 0.9998 - val_loss: 3.2166 - val_acc: 0.7644\n",
            "Epoch 317/1000\n",
            " - 4s - loss: 0.0013 - acc: 0.9998 - val_loss: 3.2162 - val_acc: 0.7626\n",
            "Epoch 318/1000\n",
            " - 4s - loss: 4.6141e-05 - acc: 1.0000 - val_loss: 3.2300 - val_acc: 0.7622\n",
            "Epoch 319/1000\n",
            " - 4s - loss: 0.0021 - acc: 0.9998 - val_loss: 3.1903 - val_acc: 0.7604\n",
            "Epoch 320/1000\n",
            " - 4s - loss: 0.0029 - acc: 0.9998 - val_loss: 3.2723 - val_acc: 0.7602\n",
            "Epoch 321/1000\n",
            " - 4s - loss: 0.0035 - acc: 0.9997 - val_loss: 3.1950 - val_acc: 0.7556\n",
            "Epoch 322/1000\n",
            " - 4s - loss: 0.0017 - acc: 0.9998 - val_loss: 3.2638 - val_acc: 0.7578\n",
            "Epoch 323/1000\n",
            " - 4s - loss: 0.0012 - acc: 0.9999 - val_loss: 3.2655 - val_acc: 0.7586\n",
            "Epoch 324/1000\n",
            " - 4s - loss: 0.0020 - acc: 0.9998 - val_loss: 3.2863 - val_acc: 0.7596\n",
            "Epoch 325/1000\n",
            " - 4s - loss: 0.0010 - acc: 0.9999 - val_loss: 3.2648 - val_acc: 0.7568\n",
            "Epoch 326/1000\n",
            " - 4s - loss: 0.0040 - acc: 0.9995 - val_loss: 3.2964 - val_acc: 0.7574\n",
            "Epoch 327/1000\n",
            " - 4s - loss: 0.0049 - acc: 0.9995 - val_loss: 3.2610 - val_acc: 0.7544\n",
            "Epoch 328/1000\n",
            " - 4s - loss: 0.0044 - acc: 0.9996 - val_loss: 3.2731 - val_acc: 0.7558\n",
            "Epoch 329/1000\n",
            " - 4s - loss: 8.1099e-04 - acc: 0.9999 - val_loss: 3.2855 - val_acc: 0.7576\n",
            "Epoch 330/1000\n",
            " - 4s - loss: 0.0021 - acc: 0.9998 - val_loss: 3.3135 - val_acc: 0.7578\n",
            "Epoch 331/1000\n",
            " - 4s - loss: 2.2303e-05 - acc: 1.0000 - val_loss: 3.3004 - val_acc: 0.7576\n",
            "Epoch 332/1000\n",
            " - 4s - loss: 3.1397e-06 - acc: 1.0000 - val_loss: 3.3155 - val_acc: 0.7584\n",
            "Epoch 333/1000\n",
            " - 4s - loss: 0.0038 - acc: 0.9995 - val_loss: 3.3731 - val_acc: 0.7600\n",
            "Epoch 334/1000\n",
            " - 4s - loss: 0.0011 - acc: 0.9999 - val_loss: 3.3362 - val_acc: 0.7572\n",
            "Epoch 335/1000\n",
            " - 4s - loss: 1.5735e-04 - acc: 0.9999 - val_loss: 3.3340 - val_acc: 0.7580\n",
            "Epoch 336/1000\n",
            " - 4s - loss: 7.6152e-05 - acc: 0.9999 - val_loss: 3.3027 - val_acc: 0.7584\n",
            "Epoch 337/1000\n",
            " - 4s - loss: 2.4556e-04 - acc: 0.9999 - val_loss: 3.3591 - val_acc: 0.7568\n",
            "Epoch 338/1000\n",
            " - 4s - loss: 0.0026 - acc: 0.9998 - val_loss: 3.3459 - val_acc: 0.7568\n",
            "Epoch 339/1000\n",
            " - 4s - loss: 0.0022 - acc: 0.9998 - val_loss: 3.3946 - val_acc: 0.7568\n",
            "Epoch 340/1000\n",
            " - 4s - loss: 0.0026 - acc: 0.9998 - val_loss: 3.3609 - val_acc: 0.7562\n",
            "Epoch 341/1000\n",
            " - 4s - loss: 0.0018 - acc: 0.9998 - val_loss: 3.3295 - val_acc: 0.7554\n",
            "Epoch 342/1000\n",
            " - 4s - loss: 0.0020 - acc: 0.9997 - val_loss: 3.3160 - val_acc: 0.7594\n",
            "Epoch 343/1000\n",
            " - 4s - loss: 0.0039 - acc: 0.9995 - val_loss: 3.3465 - val_acc: 0.7572\n",
            "Epoch 344/1000\n",
            " - 4s - loss: 3.8225e-05 - acc: 1.0000 - val_loss: 3.3682 - val_acc: 0.7556\n",
            "Epoch 345/1000\n",
            " - 4s - loss: 0.0080 - acc: 0.9992 - val_loss: 3.3796 - val_acc: 0.7552\n",
            "Epoch 346/1000\n",
            " - 4s - loss: 0.0034 - acc: 0.9998 - val_loss: 3.3434 - val_acc: 0.7574\n",
            "Epoch 347/1000\n",
            " - 4s - loss: 0.0027 - acc: 0.9997 - val_loss: 3.3351 - val_acc: 0.7594\n",
            "Epoch 348/1000\n",
            " - 4s - loss: 0.0016 - acc: 0.9997 - val_loss: 3.3102 - val_acc: 0.7576\n",
            "Epoch 349/1000\n",
            " - 4s - loss: 0.0018 - acc: 0.9998 - val_loss: 3.3490 - val_acc: 0.7612\n",
            "Epoch 350/1000\n",
            " - 4s - loss: 3.5524e-04 - acc: 0.9998 - val_loss: 3.2914 - val_acc: 0.7600\n",
            "Epoch 351/1000\n",
            " - 4s - loss: 0.0011 - acc: 0.9999 - val_loss: 3.2937 - val_acc: 0.7606\n",
            "Epoch 352/1000\n",
            " - 4s - loss: 2.5486e-04 - acc: 0.9999 - val_loss: 3.3016 - val_acc: 0.7582\n",
            "Epoch 353/1000\n",
            " - 4s - loss: 0.0040 - acc: 0.9995 - val_loss: 3.2961 - val_acc: 0.7598\n",
            "Epoch 354/1000\n",
            " - 4s - loss: 0.0014 - acc: 0.9999 - val_loss: 3.2834 - val_acc: 0.7572\n",
            "Epoch 355/1000\n",
            " - 4s - loss: 5.6309e-04 - acc: 0.9999 - val_loss: 3.3208 - val_acc: 0.7540\n",
            "Epoch 356/1000\n",
            " - 4s - loss: 2.6724e-05 - acc: 1.0000 - val_loss: 3.3327 - val_acc: 0.7576\n",
            "Epoch 357/1000\n",
            " - 4s - loss: 4.0244e-05 - acc: 1.0000 - val_loss: 3.3409 - val_acc: 0.7576\n",
            "Epoch 358/1000\n",
            " - 4s - loss: 0.0012 - acc: 0.9998 - val_loss: 3.3895 - val_acc: 0.7552\n",
            "Epoch 359/1000\n",
            " - 4s - loss: 0.0022 - acc: 0.9998 - val_loss: 3.3367 - val_acc: 0.7536\n",
            "Epoch 360/1000\n",
            " - 4s - loss: 0.0019 - acc: 0.9998 - val_loss: 3.3706 - val_acc: 0.7564\n",
            "Epoch 361/1000\n",
            " - 4s - loss: 5.3488e-04 - acc: 0.9999 - val_loss: 3.3362 - val_acc: 0.7562\n",
            "Epoch 362/1000\n",
            " - 4s - loss: 5.8124e-05 - acc: 1.0000 - val_loss: 3.3605 - val_acc: 0.7576\n",
            "Epoch 363/1000\n",
            " - 4s - loss: 1.0165e-04 - acc: 0.9999 - val_loss: 3.3468 - val_acc: 0.7564\n",
            "Epoch 364/1000\n",
            " - 4s - loss: 3.9205e-04 - acc: 0.9999 - val_loss: 3.3653 - val_acc: 0.7558\n",
            "Epoch 365/1000\n",
            " - 4s - loss: 1.7939e-05 - acc: 1.0000 - val_loss: 3.3783 - val_acc: 0.7570\n",
            "Epoch 366/1000\n",
            " - 4s - loss: 1.2316e-04 - acc: 0.9999 - val_loss: 3.4077 - val_acc: 0.7548\n",
            "Epoch 367/1000\n",
            " - 4s - loss: 0.0028 - acc: 0.9998 - val_loss: 3.4110 - val_acc: 0.7574\n",
            "Epoch 368/1000\n",
            " - 4s - loss: 0.0027 - acc: 0.9996 - val_loss: 3.3676 - val_acc: 0.7532\n",
            "Epoch 369/1000\n",
            " - 4s - loss: 0.0027 - acc: 0.9998 - val_loss: 3.4110 - val_acc: 0.7554\n",
            "Epoch 370/1000\n",
            " - 4s - loss: 0.0024 - acc: 0.9998 - val_loss: 3.3686 - val_acc: 0.7540\n",
            "Epoch 371/1000\n",
            " - 4s - loss: 9.9732e-04 - acc: 0.9998 - val_loss: 3.3649 - val_acc: 0.7558\n",
            "Epoch 372/1000\n",
            " - 4s - loss: 0.0018 - acc: 0.9998 - val_loss: 3.3868 - val_acc: 0.7526\n",
            "Epoch 373/1000\n",
            " - 4s - loss: 0.0012 - acc: 0.9999 - val_loss: 3.4048 - val_acc: 0.7530\n",
            "Epoch 374/1000\n",
            " - 4s - loss: 0.0014 - acc: 0.9998 - val_loss: 3.4448 - val_acc: 0.7550\n",
            "Epoch 375/1000\n",
            " - 4s - loss: 3.1400e-04 - acc: 0.9999 - val_loss: 3.4260 - val_acc: 0.7530\n",
            "Epoch 376/1000\n",
            " - 4s - loss: 0.0026 - acc: 0.9996 - val_loss: 3.4139 - val_acc: 0.7516\n",
            "Epoch 377/1000\n",
            " - 4s - loss: 8.2726e-04 - acc: 0.9999 - val_loss: 3.4146 - val_acc: 0.7530\n",
            "Epoch 378/1000\n",
            " - 4s - loss: 1.9299e-05 - acc: 1.0000 - val_loss: 3.4286 - val_acc: 0.7538\n",
            "Epoch 379/1000\n",
            " - 4s - loss: 3.5647e-04 - acc: 0.9999 - val_loss: 3.4814 - val_acc: 0.7524\n",
            "Epoch 380/1000\n",
            " - 4s - loss: 7.1298e-04 - acc: 0.9998 - val_loss: 3.4605 - val_acc: 0.7522\n",
            "Epoch 381/1000\n",
            " - 4s - loss: 5.8144e-05 - acc: 0.9999 - val_loss: 3.4605 - val_acc: 0.7522\n",
            "Epoch 382/1000\n",
            " - 4s - loss: 0.0041 - acc: 0.9997 - val_loss: 3.4931 - val_acc: 0.7518\n",
            "Epoch 383/1000\n",
            " - 4s - loss: 0.0011 - acc: 0.9998 - val_loss: 3.5187 - val_acc: 0.7508\n",
            "Epoch 384/1000\n",
            " - 4s - loss: 0.0018 - acc: 0.9998 - val_loss: 3.4863 - val_acc: 0.7518\n",
            "Epoch 385/1000\n",
            " - 4s - loss: 1.0303e-04 - acc: 0.9999 - val_loss: 3.4891 - val_acc: 0.7520\n",
            "Epoch 386/1000\n",
            " - 4s - loss: 0.0011 - acc: 0.9998 - val_loss: 3.5131 - val_acc: 0.7500\n",
            "Epoch 387/1000\n",
            " - 4s - loss: 0.0059 - acc: 0.9991 - val_loss: 3.4661 - val_acc: 0.7492\n",
            "Epoch 388/1000\n",
            " - 4s - loss: 0.0034 - acc: 0.9996 - val_loss: 3.4965 - val_acc: 0.7478\n",
            "Epoch 389/1000\n",
            " - 4s - loss: 0.0020 - acc: 0.9998 - val_loss: 3.4816 - val_acc: 0.7486\n",
            "Epoch 390/1000\n",
            " - 4s - loss: 0.0048 - acc: 0.9997 - val_loss: 3.4997 - val_acc: 0.7504\n",
            "Epoch 391/1000\n",
            " - 4s - loss: 0.0012 - acc: 0.9999 - val_loss: 3.4872 - val_acc: 0.7474\n",
            "Epoch 392/1000\n",
            " - 4s - loss: 1.9050e-05 - acc: 1.0000 - val_loss: 3.5144 - val_acc: 0.7490\n",
            "Epoch 393/1000\n",
            " - 4s - loss: 0.0037 - acc: 0.9996 - val_loss: 3.4638 - val_acc: 0.7502\n",
            "Epoch 394/1000\n",
            " - 4s - loss: 0.0017 - acc: 0.9998 - val_loss: 3.4498 - val_acc: 0.7496\n",
            "Epoch 395/1000\n",
            " - 4s - loss: 2.2566e-04 - acc: 0.9999 - val_loss: 3.4405 - val_acc: 0.7504\n",
            "Epoch 396/1000\n",
            " - 4s - loss: 0.0013 - acc: 0.9998 - val_loss: 3.4654 - val_acc: 0.7514\n",
            "Epoch 397/1000\n",
            " - 4s - loss: 0.0029 - acc: 0.9997 - val_loss: 3.4548 - val_acc: 0.7536\n",
            "Epoch 398/1000\n",
            " - 4s - loss: 0.0026 - acc: 0.9997 - val_loss: 3.4357 - val_acc: 0.7500\n",
            "Epoch 399/1000\n",
            " - 4s - loss: 0.0023 - acc: 0.9998 - val_loss: 3.4353 - val_acc: 0.7506\n",
            "Epoch 400/1000\n",
            " - 4s - loss: 0.0011 - acc: 0.9998 - val_loss: 3.4390 - val_acc: 0.7512\n",
            "Epoch 401/1000\n",
            " - 4s - loss: 0.0026 - acc: 0.9998 - val_loss: 3.4340 - val_acc: 0.7460\n",
            "Epoch 402/1000\n",
            " - 4s - loss: 0.0021 - acc: 0.9998 - val_loss: 3.4111 - val_acc: 0.7462\n",
            "Epoch 403/1000\n",
            " - 4s - loss: 0.0011 - acc: 0.9998 - val_loss: 3.4172 - val_acc: 0.7516\n",
            "Epoch 404/1000\n",
            " - 4s - loss: 4.9913e-04 - acc: 0.9999 - val_loss: 3.4252 - val_acc: 0.7516\n",
            "Epoch 405/1000\n",
            " - 4s - loss: 0.0016 - acc: 0.9997 - val_loss: 3.4961 - val_acc: 0.7436\n",
            "Epoch 406/1000\n",
            " - 4s - loss: 0.0014 - acc: 0.9998 - val_loss: 3.5090 - val_acc: 0.7460\n",
            "Epoch 407/1000\n",
            " - 4s - loss: 0.0016 - acc: 0.9998 - val_loss: 3.4951 - val_acc: 0.7460\n",
            "Epoch 408/1000\n",
            " - 4s - loss: 3.2163e-05 - acc: 1.0000 - val_loss: 3.4931 - val_acc: 0.7470\n",
            "Epoch 409/1000\n",
            " - 4s - loss: 7.1213e-04 - acc: 0.9998 - val_loss: 3.5017 - val_acc: 0.7490\n",
            "Epoch 410/1000\n",
            " - 4s - loss: 3.1541e-04 - acc: 0.9999 - val_loss: 3.5264 - val_acc: 0.7468\n",
            "Epoch 411/1000\n",
            " - 4s - loss: 0.0011 - acc: 0.9997 - val_loss: 3.4807 - val_acc: 0.7466\n",
            "Epoch 412/1000\n",
            " - 4s - loss: 2.3703e-05 - acc: 1.0000 - val_loss: 3.4894 - val_acc: 0.7492\n",
            "Epoch 413/1000\n",
            " - 4s - loss: 7.7326e-04 - acc: 0.9998 - val_loss: 3.5065 - val_acc: 0.7474\n",
            "Epoch 414/1000\n",
            " - 4s - loss: 0.0014 - acc: 0.9998 - val_loss: 3.4810 - val_acc: 0.7470\n",
            "Epoch 415/1000\n",
            " - 4s - loss: 2.5330e-05 - acc: 1.0000 - val_loss: 3.5117 - val_acc: 0.7498\n",
            "Epoch 416/1000\n",
            " - 4s - loss: 0.0031 - acc: 0.9998 - val_loss: 3.5255 - val_acc: 0.7484\n",
            "Epoch 417/1000\n",
            " - 4s - loss: 0.0017 - acc: 0.9998 - val_loss: 3.5170 - val_acc: 0.7462\n",
            "Epoch 418/1000\n",
            " - 4s - loss: 5.3398e-04 - acc: 0.9998 - val_loss: 3.5274 - val_acc: 0.7432\n",
            "Epoch 419/1000\n",
            " - 4s - loss: 6.4065e-05 - acc: 1.0000 - val_loss: 3.5342 - val_acc: 0.7468\n",
            "Epoch 420/1000\n",
            " - 4s - loss: 0.0020 - acc: 0.9997 - val_loss: 3.5647 - val_acc: 0.7454\n",
            "Epoch 421/1000\n",
            " - 4s - loss: 8.3401e-04 - acc: 0.9998 - val_loss: 3.5637 - val_acc: 0.7442\n",
            "Epoch 422/1000\n",
            " - 4s - loss: 8.0732e-04 - acc: 0.9999 - val_loss: 3.5727 - val_acc: 0.7452\n",
            "Epoch 423/1000\n",
            " - 4s - loss: 1.9067e-05 - acc: 1.0000 - val_loss: 3.6092 - val_acc: 0.7434\n",
            "Epoch 424/1000\n",
            " - 4s - loss: 0.0054 - acc: 0.9995 - val_loss: 3.6185 - val_acc: 0.7400\n",
            "Epoch 425/1000\n",
            " - 4s - loss: 0.0012 - acc: 0.9999 - val_loss: 3.6202 - val_acc: 0.7430\n",
            "Epoch 426/1000\n",
            " - 4s - loss: 0.0013 - acc: 0.9999 - val_loss: 3.6055 - val_acc: 0.7404\n",
            "Epoch 427/1000\n",
            " - 4s - loss: 0.0011 - acc: 0.9998 - val_loss: 3.6328 - val_acc: 0.7436\n",
            "Epoch 428/1000\n",
            " - 4s - loss: 8.0270e-04 - acc: 0.9999 - val_loss: 3.6172 - val_acc: 0.7444\n",
            "Epoch 429/1000\n",
            " - 4s - loss: 5.1178e-06 - acc: 1.0000 - val_loss: 3.6263 - val_acc: 0.7434\n",
            "Epoch 430/1000\n",
            " - 4s - loss: 0.0022 - acc: 0.9998 - val_loss: 3.6339 - val_acc: 0.7436\n",
            "Epoch 431/1000\n",
            " - 4s - loss: 0.0024 - acc: 0.9997 - val_loss: 3.6016 - val_acc: 0.7444\n",
            "Epoch 432/1000\n",
            " - 4s - loss: 0.0030 - acc: 0.9998 - val_loss: 3.5982 - val_acc: 0.7448\n",
            "Epoch 433/1000\n",
            " - 4s - loss: 3.1721e-06 - acc: 1.0000 - val_loss: 3.5926 - val_acc: 0.7458\n",
            "Epoch 434/1000\n",
            " - 4s - loss: 8.5764e-04 - acc: 0.9999 - val_loss: 3.5971 - val_acc: 0.7446\n",
            "Epoch 435/1000\n",
            " - 4s - loss: 0.0016 - acc: 0.9997 - val_loss: 3.6109 - val_acc: 0.7444\n",
            "Epoch 436/1000\n",
            " - 4s - loss: 0.0023 - acc: 0.9998 - val_loss: 3.5846 - val_acc: 0.7414\n",
            "Epoch 437/1000\n",
            " - 4s - loss: 0.0051 - acc: 0.9996 - val_loss: 3.5770 - val_acc: 0.7462\n",
            "Epoch 438/1000\n",
            " - 4s - loss: 0.0041 - acc: 0.9995 - val_loss: 3.5204 - val_acc: 0.7472\n",
            "Epoch 439/1000\n",
            " - 4s - loss: 0.0040 - acc: 0.9995 - val_loss: 3.5008 - val_acc: 0.7478\n",
            "Epoch 440/1000\n",
            " - 4s - loss: 0.0011 - acc: 0.9998 - val_loss: 3.4931 - val_acc: 0.7468\n",
            "Epoch 441/1000\n",
            " - 4s - loss: 7.8555e-04 - acc: 0.9999 - val_loss: 3.5179 - val_acc: 0.7428\n",
            "Epoch 442/1000\n",
            " - 4s - loss: 7.3137e-04 - acc: 0.9998 - val_loss: 3.5413 - val_acc: 0.7434\n",
            "Epoch 443/1000\n",
            " - 4s - loss: 2.6280e-04 - acc: 0.9999 - val_loss: 3.5409 - val_acc: 0.7462\n",
            "Epoch 444/1000\n",
            " - 4s - loss: 3.6005e-06 - acc: 1.0000 - val_loss: 3.5488 - val_acc: 0.7484\n",
            "Epoch 445/1000\n",
            " - 4s - loss: 0.0051 - acc: 0.9995 - val_loss: 3.5766 - val_acc: 0.7484\n",
            "Epoch 446/1000\n",
            " - 4s - loss: 0.0019 - acc: 0.9998 - val_loss: 3.5878 - val_acc: 0.7440\n",
            "Epoch 447/1000\n",
            " - 4s - loss: 0.0013 - acc: 0.9998 - val_loss: 3.5771 - val_acc: 0.7454\n",
            "Epoch 448/1000\n",
            " - 4s - loss: 1.4025e-04 - acc: 0.9999 - val_loss: 3.5869 - val_acc: 0.7448\n",
            "Epoch 449/1000\n",
            " - 4s - loss: 4.9658e-04 - acc: 0.9998 - val_loss: 3.5826 - val_acc: 0.7436\n",
            "Epoch 450/1000\n",
            " - 4s - loss: 1.3315e-04 - acc: 0.9999 - val_loss: 3.5762 - val_acc: 0.7438\n",
            "Epoch 451/1000\n",
            " - 4s - loss: 1.5978e-05 - acc: 1.0000 - val_loss: 3.5988 - val_acc: 0.7438\n",
            "Epoch 452/1000\n",
            " - 4s - loss: 0.0029 - acc: 0.9997 - val_loss: 3.6340 - val_acc: 0.7470\n",
            "Epoch 453/1000\n",
            " - 4s - loss: 0.0018 - acc: 0.9998 - val_loss: 3.5938 - val_acc: 0.7436\n",
            "Epoch 454/1000\n",
            " - 4s - loss: 0.0059 - acc: 0.9995 - val_loss: 3.6512 - val_acc: 0.7460\n",
            "Epoch 455/1000\n",
            " - 4s - loss: 0.0015 - acc: 0.9998 - val_loss: 3.6342 - val_acc: 0.7450\n",
            "Epoch 456/1000\n",
            " - 4s - loss: 0.0022 - acc: 0.9997 - val_loss: 3.6221 - val_acc: 0.7414\n",
            "Epoch 457/1000\n",
            " - 4s - loss: 0.0024 - acc: 0.9997 - val_loss: 3.6190 - val_acc: 0.7466\n",
            "Epoch 458/1000\n",
            " - 4s - loss: 0.0010 - acc: 0.9998 - val_loss: 3.6016 - val_acc: 0.7450\n",
            "Epoch 459/1000\n",
            " - 4s - loss: 8.6033e-04 - acc: 0.9999 - val_loss: 3.6100 - val_acc: 0.7424\n",
            "Epoch 460/1000\n",
            " - 4s - loss: 0.0016 - acc: 0.9998 - val_loss: 3.6310 - val_acc: 0.7406\n",
            "Epoch 461/1000\n",
            " - 4s - loss: 3.8860e-04 - acc: 0.9999 - val_loss: 3.6278 - val_acc: 0.7480\n",
            "Epoch 462/1000\n",
            " - 4s - loss: 0.0038 - acc: 0.9997 - val_loss: 3.6059 - val_acc: 0.7414\n",
            "Epoch 463/1000\n",
            " - 4s - loss: 0.0076 - acc: 0.9995 - val_loss: 3.5906 - val_acc: 0.7502\n",
            "Epoch 464/1000\n",
            " - 4s - loss: 0.0060 - acc: 0.9994 - val_loss: 3.5820 - val_acc: 0.7478\n",
            "Epoch 465/1000\n",
            " - 4s - loss: 6.2290e-05 - acc: 0.9999 - val_loss: 3.5763 - val_acc: 0.7470\n",
            "Epoch 466/1000\n",
            " - 4s - loss: 2.4776e-05 - acc: 1.0000 - val_loss: 3.5832 - val_acc: 0.7484\n",
            "Epoch 467/1000\n",
            " - 4s - loss: 0.0011 - acc: 0.9999 - val_loss: 3.5954 - val_acc: 0.7452\n",
            "Epoch 468/1000\n",
            " - 4s - loss: 0.0011 - acc: 0.9998 - val_loss: 3.6147 - val_acc: 0.7450\n",
            "Epoch 469/1000\n",
            " - 4s - loss: 0.0023 - acc: 0.9998 - val_loss: 3.6285 - val_acc: 0.7434\n",
            "Epoch 470/1000\n",
            " - 4s - loss: 0.0067 - acc: 0.9994 - val_loss: 3.6118 - val_acc: 0.7422\n",
            "Epoch 471/1000\n",
            " - 4s - loss: 0.0012 - acc: 0.9999 - val_loss: 3.6290 - val_acc: 0.7408\n",
            "Epoch 472/1000\n",
            " - 4s - loss: 6.4233e-04 - acc: 0.9999 - val_loss: 3.6361 - val_acc: 0.7430\n",
            "Epoch 473/1000\n",
            " - 4s - loss: 0.0012 - acc: 0.9998 - val_loss: 3.6231 - val_acc: 0.7428\n",
            "Epoch 474/1000\n",
            " - 4s - loss: 0.0016 - acc: 0.9999 - val_loss: 3.6176 - val_acc: 0.7404\n",
            "Epoch 475/1000\n",
            " - 4s - loss: 1.1382e-04 - acc: 0.9999 - val_loss: 3.6320 - val_acc: 0.7414\n",
            "Epoch 476/1000\n",
            " - 4s - loss: 0.0021 - acc: 0.9998 - val_loss: 3.6481 - val_acc: 0.7428\n",
            "Epoch 477/1000\n",
            " - 4s - loss: 0.0013 - acc: 0.9998 - val_loss: 3.6767 - val_acc: 0.7368\n",
            "Epoch 478/1000\n",
            " - 4s - loss: 8.3712e-04 - acc: 0.9999 - val_loss: 3.6876 - val_acc: 0.7422\n",
            "Epoch 479/1000\n",
            " - 4s - loss: 0.0018 - acc: 0.9998 - val_loss: 3.7008 - val_acc: 0.7408\n",
            "Epoch 480/1000\n",
            " - 4s - loss: 0.0020 - acc: 0.9998 - val_loss: 3.6796 - val_acc: 0.7412\n",
            "Epoch 481/1000\n",
            " - 4s - loss: 6.1586e-04 - acc: 0.9999 - val_loss: 3.6967 - val_acc: 0.7442\n",
            "Epoch 482/1000\n",
            " - 4s - loss: 0.0023 - acc: 0.9997 - val_loss: 3.6956 - val_acc: 0.7376\n",
            "Epoch 483/1000\n",
            " - 4s - loss: 7.3326e-04 - acc: 0.9999 - val_loss: 3.6815 - val_acc: 0.7390\n",
            "Epoch 484/1000\n",
            " - 4s - loss: 6.5711e-06 - acc: 1.0000 - val_loss: 3.6733 - val_acc: 0.7398\n",
            "Epoch 485/1000\n",
            " - 4s - loss: 0.0032 - acc: 0.9997 - val_loss: 3.7068 - val_acc: 0.7396\n",
            "Epoch 486/1000\n",
            " - 4s - loss: 0.0013 - acc: 0.9998 - val_loss: 3.6910 - val_acc: 0.7366\n",
            "Epoch 487/1000\n",
            " - 4s - loss: 1.5745e-05 - acc: 1.0000 - val_loss: 3.6974 - val_acc: 0.7400\n",
            "Epoch 488/1000\n",
            " - 4s - loss: 0.0016 - acc: 0.9998 - val_loss: 3.6815 - val_acc: 0.7378\n",
            "Epoch 489/1000\n",
            " - 4s - loss: 0.0059 - acc: 0.9994 - val_loss: 3.7233 - val_acc: 0.7352\n",
            "Epoch 490/1000\n",
            " - 4s - loss: 0.0037 - acc: 0.9997 - val_loss: 3.7340 - val_acc: 0.7390\n",
            "Epoch 491/1000\n",
            " - 4s - loss: 0.0022 - acc: 0.9998 - val_loss: 3.7318 - val_acc: 0.7376\n",
            "Epoch 492/1000\n",
            " - 4s - loss: 0.0027 - acc: 0.9998 - val_loss: 3.7279 - val_acc: 0.7364\n",
            "Epoch 493/1000\n",
            " - 4s - loss: 0.0020 - acc: 0.9997 - val_loss: 3.6795 - val_acc: 0.7400\n",
            "Epoch 494/1000\n",
            " - 4s - loss: 0.0011 - acc: 0.9999 - val_loss: 3.6650 - val_acc: 0.7426\n",
            "Epoch 495/1000\n",
            " - 4s - loss: 0.0013 - acc: 0.9998 - val_loss: 3.6591 - val_acc: 0.7382\n",
            "Epoch 496/1000\n",
            " - 4s - loss: 0.0028 - acc: 0.9997 - val_loss: 3.6854 - val_acc: 0.7390\n",
            "Epoch 497/1000\n",
            " - 4s - loss: 9.2688e-04 - acc: 0.9999 - val_loss: 3.6758 - val_acc: 0.7374\n",
            "Epoch 498/1000\n",
            " - 4s - loss: 8.1549e-04 - acc: 0.9999 - val_loss: 3.6766 - val_acc: 0.7440\n",
            "Epoch 499/1000\n",
            " - 4s - loss: 0.0013 - acc: 0.9999 - val_loss: 3.6733 - val_acc: 0.7418\n",
            "Epoch 500/1000\n",
            " - 4s - loss: 0.0013 - acc: 0.9998 - val_loss: 3.6806 - val_acc: 0.7334\n",
            "Epoch 501/1000\n",
            " - 4s - loss: 8.3907e-04 - acc: 0.9999 - val_loss: 3.6951 - val_acc: 0.7386\n",
            "Epoch 502/1000\n",
            " - 4s - loss: 4.1769e-04 - acc: 0.9999 - val_loss: 3.7016 - val_acc: 0.7384\n",
            "Epoch 503/1000\n",
            " - 4s - loss: 0.0019 - acc: 0.9998 - val_loss: 3.6446 - val_acc: 0.7394\n",
            "Epoch 504/1000\n",
            " - 4s - loss: 0.0016 - acc: 0.9997 - val_loss: 3.6926 - val_acc: 0.7394\n",
            "Epoch 505/1000\n",
            " - 4s - loss: 8.2141e-04 - acc: 0.9999 - val_loss: 3.6839 - val_acc: 0.7388\n",
            "Epoch 506/1000\n",
            " - 4s - loss: 2.9177e-06 - acc: 1.0000 - val_loss: 3.6906 - val_acc: 0.7404\n",
            "Epoch 507/1000\n",
            " - 4s - loss: 0.0021 - acc: 0.9998 - val_loss: 3.6628 - val_acc: 0.7404\n",
            "Epoch 508/1000\n",
            " - 4s - loss: 1.1818e-06 - acc: 1.0000 - val_loss: 3.6647 - val_acc: 0.7430\n",
            "Epoch 509/1000\n",
            " - 4s - loss: 0.0012 - acc: 0.9999 - val_loss: 3.6915 - val_acc: 0.7400\n",
            "Epoch 510/1000\n",
            " - 4s - loss: 7.9771e-04 - acc: 0.9999 - val_loss: 3.6896 - val_acc: 0.7406\n",
            "Epoch 511/1000\n",
            " - 4s - loss: 8.4309e-04 - acc: 0.9999 - val_loss: 3.7369 - val_acc: 0.7372\n",
            "Epoch 512/1000\n",
            " - 4s - loss: 0.0011 - acc: 0.9998 - val_loss: 3.7824 - val_acc: 0.7328\n",
            "Epoch 513/1000\n",
            " - 4s - loss: 0.0051 - acc: 0.9997 - val_loss: 3.7649 - val_acc: 0.7376\n",
            "Epoch 514/1000\n",
            " - 4s - loss: 4.9213e-04 - acc: 0.9999 - val_loss: 3.7737 - val_acc: 0.7384\n",
            "Epoch 515/1000\n",
            " - 4s - loss: 8.3845e-04 - acc: 0.9998 - val_loss: 3.7745 - val_acc: 0.7388\n",
            "Epoch 516/1000\n",
            " - 4s - loss: 3.4131e-04 - acc: 0.9999 - val_loss: 3.7762 - val_acc: 0.7378\n",
            "Epoch 517/1000\n",
            " - 4s - loss: 8.4999e-04 - acc: 0.9999 - val_loss: 3.7772 - val_acc: 0.7380\n",
            "Epoch 518/1000\n",
            " - 4s - loss: 0.0019 - acc: 0.9998 - val_loss: 3.7398 - val_acc: 0.7376\n",
            "Epoch 519/1000\n",
            " - 4s - loss: 8.3204e-04 - acc: 0.9999 - val_loss: 3.7237 - val_acc: 0.7386\n",
            "Epoch 520/1000\n",
            " - 4s - loss: 0.0013 - acc: 0.9998 - val_loss: 3.7547 - val_acc: 0.7358\n",
            "Epoch 521/1000\n",
            " - 4s - loss: 0.0022 - acc: 0.9997 - val_loss: 3.7426 - val_acc: 0.7372\n",
            "Epoch 522/1000\n",
            " - 4s - loss: 0.0027 - acc: 0.9996 - val_loss: 3.7574 - val_acc: 0.7336\n",
            "Epoch 523/1000\n",
            " - 4s - loss: 0.0014 - acc: 0.9999 - val_loss: 3.7356 - val_acc: 0.7388\n",
            "Epoch 524/1000\n",
            " - 4s - loss: 3.7856e-05 - acc: 1.0000 - val_loss: 3.7321 - val_acc: 0.7384\n",
            "Epoch 525/1000\n",
            " - 4s - loss: 0.0015 - acc: 0.9998 - val_loss: 3.7083 - val_acc: 0.7402\n",
            "Epoch 526/1000\n",
            " - 4s - loss: 4.9577e-04 - acc: 0.9999 - val_loss: 3.6866 - val_acc: 0.7420\n",
            "Epoch 527/1000\n",
            " - 4s - loss: 0.0029 - acc: 0.9997 - val_loss: 3.6749 - val_acc: 0.7410\n",
            "Epoch 528/1000\n",
            " - 4s - loss: 5.2168e-04 - acc: 0.9999 - val_loss: 3.6786 - val_acc: 0.7398\n",
            "Epoch 529/1000\n",
            " - 4s - loss: 0.0042 - acc: 0.9995 - val_loss: 3.6702 - val_acc: 0.7422\n",
            "Epoch 530/1000\n",
            " - 4s - loss: 0.0011 - acc: 0.9999 - val_loss: 3.6714 - val_acc: 0.7412\n",
            "Epoch 531/1000\n",
            " - 4s - loss: 5.3140e-05 - acc: 1.0000 - val_loss: 3.6677 - val_acc: 0.7420\n",
            "Epoch 532/1000\n",
            " - 4s - loss: 0.0028 - acc: 0.9998 - val_loss: 3.6686 - val_acc: 0.7400\n",
            "Epoch 533/1000\n",
            " - 4s - loss: 0.0040 - acc: 0.9995 - val_loss: 3.6896 - val_acc: 0.7432\n",
            "Epoch 534/1000\n",
            " - 4s - loss: 0.0054 - acc: 0.9995 - val_loss: 3.6984 - val_acc: 0.7408\n",
            "Epoch 535/1000\n",
            " - 4s - loss: 0.0011 - acc: 0.9997 - val_loss: 3.6995 - val_acc: 0.7434\n",
            "Epoch 536/1000\n",
            " - 4s - loss: 0.0034 - acc: 0.9997 - val_loss: 3.6998 - val_acc: 0.7388\n",
            "Epoch 537/1000\n",
            " - 4s - loss: 7.0976e-04 - acc: 0.9998 - val_loss: 3.6706 - val_acc: 0.7434\n",
            "Epoch 538/1000\n",
            " - 4s - loss: 0.0024 - acc: 0.9998 - val_loss: 3.6760 - val_acc: 0.7424\n",
            "Epoch 539/1000\n",
            " - 4s - loss: 0.0024 - acc: 0.9997 - val_loss: 3.6645 - val_acc: 0.7318\n",
            "Epoch 540/1000\n",
            " - 4s - loss: 0.0011 - acc: 0.9999 - val_loss: 3.7118 - val_acc: 0.7376\n",
            "Epoch 541/1000\n",
            " - 4s - loss: 0.0032 - acc: 0.9997 - val_loss: 3.6847 - val_acc: 0.7388\n",
            "Epoch 542/1000\n",
            " - 4s - loss: 0.0014 - acc: 0.9998 - val_loss: 3.6861 - val_acc: 0.7390\n",
            "Epoch 543/1000\n",
            " - 4s - loss: 8.1565e-04 - acc: 0.9999 - val_loss: 3.6851 - val_acc: 0.7406\n",
            "Epoch 544/1000\n",
            " - 4s - loss: 0.0020 - acc: 0.9998 - val_loss: 3.7194 - val_acc: 0.7388\n",
            "Epoch 545/1000\n",
            " - 4s - loss: 0.0021 - acc: 0.9998 - val_loss: 3.7542 - val_acc: 0.7334\n",
            "Epoch 546/1000\n",
            " - 4s - loss: 0.0010 - acc: 0.9998 - val_loss: 3.7562 - val_acc: 0.7378\n",
            "Epoch 547/1000\n",
            " - 4s - loss: 0.0019 - acc: 0.9998 - val_loss: 3.7778 - val_acc: 0.7312\n",
            "Epoch 548/1000\n",
            " - 4s - loss: 4.3406e-04 - acc: 0.9999 - val_loss: 3.7903 - val_acc: 0.7332\n",
            "Epoch 549/1000\n",
            " - 4s - loss: 8.7546e-04 - acc: 0.9998 - val_loss: 3.7691 - val_acc: 0.7308\n",
            "Epoch 550/1000\n",
            " - 4s - loss: 0.0020 - acc: 0.9998 - val_loss: 3.7701 - val_acc: 0.7332\n",
            "Epoch 551/1000\n",
            " - 4s - loss: 8.0973e-04 - acc: 0.9999 - val_loss: 3.7645 - val_acc: 0.7364\n",
            "Epoch 552/1000\n",
            " - 4s - loss: 8.2528e-04 - acc: 0.9998 - val_loss: 3.7829 - val_acc: 0.7302\n",
            "Epoch 553/1000\n",
            " - 4s - loss: 0.0024 - acc: 0.9998 - val_loss: 3.7704 - val_acc: 0.7360\n",
            "Epoch 554/1000\n",
            " - 4s - loss: 5.9771e-04 - acc: 0.9999 - val_loss: 3.7700 - val_acc: 0.7388\n",
            "Epoch 555/1000\n",
            " - 4s - loss: 0.0017 - acc: 0.9998 - val_loss: 3.7948 - val_acc: 0.7352\n",
            "Epoch 556/1000\n",
            " - 4s - loss: 0.0016 - acc: 0.9999 - val_loss: 3.7882 - val_acc: 0.7362\n",
            "Epoch 557/1000\n",
            " - 4s - loss: 0.0019 - acc: 0.9998 - val_loss: 3.7931 - val_acc: 0.7344\n",
            "Epoch 558/1000\n",
            " - 4s - loss: 5.3421e-04 - acc: 0.9999 - val_loss: 3.7775 - val_acc: 0.7328\n",
            "Epoch 559/1000\n",
            " - 4s - loss: 2.5833e-05 - acc: 1.0000 - val_loss: 3.7870 - val_acc: 0.7328\n",
            "Epoch 560/1000\n",
            " - 4s - loss: 9.1622e-06 - acc: 1.0000 - val_loss: 3.7747 - val_acc: 0.7380\n",
            "Epoch 561/1000\n",
            " - 4s - loss: 8.0051e-04 - acc: 0.9999 - val_loss: 3.7757 - val_acc: 0.7312\n",
            "Epoch 562/1000\n",
            " - 4s - loss: 7.7243e-04 - acc: 0.9998 - val_loss: 3.7908 - val_acc: 0.7370\n",
            "Epoch 563/1000\n",
            " - 4s - loss: 7.9913e-04 - acc: 0.9999 - val_loss: 3.7903 - val_acc: 0.7376\n",
            "Epoch 564/1000\n",
            " - 4s - loss: 2.7043e-04 - acc: 0.9999 - val_loss: 3.7736 - val_acc: 0.7310\n",
            "Epoch 565/1000\n",
            " - 4s - loss: 2.2541e-04 - acc: 0.9999 - val_loss: 3.7948 - val_acc: 0.7346\n",
            "Epoch 566/1000\n",
            " - 4s - loss: 9.0379e-04 - acc: 0.9999 - val_loss: 3.7615 - val_acc: 0.7358\n",
            "Epoch 567/1000\n",
            " - 4s - loss: 0.0010 - acc: 0.9999 - val_loss: 3.7713 - val_acc: 0.7346\n",
            "Epoch 568/1000\n",
            " - 4s - loss: 5.5023e-06 - acc: 1.0000 - val_loss: 3.7738 - val_acc: 0.7362\n",
            "Epoch 569/1000\n",
            " - 4s - loss: 0.0020 - acc: 0.9998 - val_loss: 3.7441 - val_acc: 0.7380\n",
            "Epoch 570/1000\n",
            " - 4s - loss: 0.0017 - acc: 0.9998 - val_loss: 3.7690 - val_acc: 0.7342\n",
            "Epoch 571/1000\n",
            " - 4s - loss: 0.0016 - acc: 0.9999 - val_loss: 3.7514 - val_acc: 0.7372\n",
            "Epoch 572/1000\n",
            " - 4s - loss: 3.3145e-04 - acc: 0.9999 - val_loss: 3.7860 - val_acc: 0.7328\n",
            "Epoch 573/1000\n",
            " - 4s - loss: 0.0042 - acc: 0.9995 - val_loss: 3.7557 - val_acc: 0.7384\n",
            "Epoch 574/1000\n",
            " - 4s - loss: 0.0020 - acc: 0.9997 - val_loss: 3.7948 - val_acc: 0.7316\n",
            "Epoch 575/1000\n",
            " - 4s - loss: 2.9049e-05 - acc: 1.0000 - val_loss: 3.7827 - val_acc: 0.7352\n",
            "Epoch 576/1000\n",
            " - 4s - loss: 0.0030 - acc: 0.9997 - val_loss: 3.7758 - val_acc: 0.7330\n",
            "Epoch 577/1000\n",
            " - 4s - loss: 0.0013 - acc: 0.9998 - val_loss: 3.7714 - val_acc: 0.7366\n",
            "Epoch 578/1000\n",
            " - 4s - loss: 0.0048 - acc: 0.9995 - val_loss: 3.7275 - val_acc: 0.7434\n",
            "Epoch 579/1000\n",
            " - 4s - loss: 0.0028 - acc: 0.9998 - val_loss: 3.7516 - val_acc: 0.7354\n",
            "Epoch 580/1000\n",
            " - 4s - loss: 7.7527e-04 - acc: 0.9998 - val_loss: 3.7499 - val_acc: 0.7354\n",
            "Epoch 581/1000\n",
            " - 4s - loss: 3.0689e-04 - acc: 0.9999 - val_loss: 3.7622 - val_acc: 0.7342\n",
            "Epoch 582/1000\n",
            " - 4s - loss: 8.2548e-04 - acc: 0.9999 - val_loss: 3.7735 - val_acc: 0.7348\n",
            "Epoch 583/1000\n",
            " - 4s - loss: 1.5711e-05 - acc: 1.0000 - val_loss: 3.7748 - val_acc: 0.7344\n",
            "Epoch 584/1000\n",
            " - 4s - loss: 2.2431e-06 - acc: 1.0000 - val_loss: 3.7653 - val_acc: 0.7378\n",
            "Epoch 585/1000\n",
            " - 4s - loss: 0.0012 - acc: 0.9998 - val_loss: 3.7874 - val_acc: 0.7354\n",
            "Epoch 586/1000\n",
            " - 4s - loss: 0.0020 - acc: 0.9998 - val_loss: 3.8061 - val_acc: 0.7366\n",
            "Epoch 587/1000\n",
            " - 4s - loss: 5.6870e-06 - acc: 1.0000 - val_loss: 3.8271 - val_acc: 0.7346\n",
            "Epoch 588/1000\n",
            " - 4s - loss: 0.0030 - acc: 0.9998 - val_loss: 3.8534 - val_acc: 0.7318\n",
            "Epoch 589/1000\n",
            " - 4s - loss: 9.0924e-06 - acc: 1.0000 - val_loss: 3.8277 - val_acc: 0.7342\n",
            "Epoch 590/1000\n",
            " - 4s - loss: 0.0023 - acc: 0.9998 - val_loss: 3.8245 - val_acc: 0.7330\n",
            "Epoch 591/1000\n",
            " - 4s - loss: 8.0400e-04 - acc: 0.9999 - val_loss: 3.8123 - val_acc: 0.7328\n",
            "Epoch 592/1000\n",
            " - 4s - loss: 0.0020 - acc: 0.9998 - val_loss: 3.8201 - val_acc: 0.7314\n",
            "Epoch 593/1000\n",
            " - 4s - loss: 0.0020 - acc: 0.9998 - val_loss: 3.8297 - val_acc: 0.7296\n",
            "Epoch 594/1000\n",
            " - 4s - loss: 1.4342e-05 - acc: 1.0000 - val_loss: 3.8219 - val_acc: 0.7310\n",
            "Epoch 595/1000\n",
            " - 4s - loss: 8.1311e-06 - acc: 1.0000 - val_loss: 3.8100 - val_acc: 0.7346\n",
            "Epoch 596/1000\n",
            " - 4s - loss: 0.0010 - acc: 0.9999 - val_loss: 3.8151 - val_acc: 0.7312\n",
            "Epoch 597/1000\n",
            " - 4s - loss: 1.8811e-05 - acc: 1.0000 - val_loss: 3.7982 - val_acc: 0.7360\n",
            "Epoch 598/1000\n",
            " - 4s - loss: 0.0019 - acc: 0.9998 - val_loss: 3.7406 - val_acc: 0.7414\n",
            "Epoch 599/1000\n",
            " - 4s - loss: 0.0026 - acc: 0.9998 - val_loss: 3.7814 - val_acc: 0.7370\n",
            "Epoch 600/1000\n",
            " - 4s - loss: 8.2124e-04 - acc: 0.9999 - val_loss: 3.7866 - val_acc: 0.7364\n",
            "Epoch 601/1000\n",
            " - 4s - loss: 1.5773e-04 - acc: 0.9999 - val_loss: 3.8242 - val_acc: 0.7326\n",
            "Epoch 602/1000\n",
            " - 4s - loss: 0.0026 - acc: 0.9997 - val_loss: 3.8243 - val_acc: 0.7362\n",
            "Epoch 603/1000\n",
            " - 4s - loss: 0.0044 - acc: 0.9996 - val_loss: 3.8316 - val_acc: 0.7276\n",
            "Epoch 604/1000\n",
            " - 4s - loss: 9.0879e-04 - acc: 0.9999 - val_loss: 3.8077 - val_acc: 0.7386\n",
            "Epoch 605/1000\n",
            " - 4s - loss: 7.9960e-04 - acc: 0.9999 - val_loss: 3.8008 - val_acc: 0.7380\n",
            "Epoch 606/1000\n",
            " - 4s - loss: 7.1233e-04 - acc: 0.9999 - val_loss: 3.7885 - val_acc: 0.7368\n",
            "Epoch 607/1000\n",
            " - 4s - loss: 0.0019 - acc: 0.9998 - val_loss: 3.7913 - val_acc: 0.7366\n",
            "Epoch 608/1000\n",
            " - 4s - loss: 0.0018 - acc: 0.9998 - val_loss: 3.8020 - val_acc: 0.7338\n",
            "Epoch 609/1000\n",
            " - 4s - loss: 0.0010 - acc: 0.9999 - val_loss: 3.7930 - val_acc: 0.7334\n",
            "Epoch 610/1000\n",
            " - 4s - loss: 0.0015 - acc: 0.9998 - val_loss: 3.7947 - val_acc: 0.7348\n",
            "Epoch 611/1000\n",
            " - 4s - loss: 0.0015 - acc: 0.9998 - val_loss: 3.8210 - val_acc: 0.7336\n",
            "Epoch 612/1000\n",
            " - 4s - loss: 9.9925e-04 - acc: 0.9999 - val_loss: 3.8174 - val_acc: 0.7332\n",
            "Epoch 613/1000\n",
            " - 4s - loss: 8.2927e-04 - acc: 0.9999 - val_loss: 3.7980 - val_acc: 0.7380\n",
            "Epoch 614/1000\n",
            " - 4s - loss: 1.9887e-06 - acc: 1.0000 - val_loss: 3.7932 - val_acc: 0.7378\n",
            "Epoch 615/1000\n",
            " - 4s - loss: 7.4655e-04 - acc: 0.9998 - val_loss: 3.7670 - val_acc: 0.7364\n",
            "Epoch 616/1000\n",
            " - 4s - loss: 4.2349e-06 - acc: 1.0000 - val_loss: 3.7672 - val_acc: 0.7358\n",
            "Epoch 617/1000\n",
            " - 4s - loss: 0.0021 - acc: 0.9998 - val_loss: 3.8098 - val_acc: 0.7358\n",
            "Epoch 618/1000\n",
            " - 4s - loss: 8.4375e-04 - acc: 0.9999 - val_loss: 3.8262 - val_acc: 0.7352\n",
            "Epoch 619/1000\n",
            " - 4s - loss: 2.3776e-05 - acc: 1.0000 - val_loss: 3.8211 - val_acc: 0.7332\n",
            "Epoch 620/1000\n",
            " - 4s - loss: 1.6994e-05 - acc: 1.0000 - val_loss: 3.8159 - val_acc: 0.7350\n",
            "Epoch 621/1000\n",
            " - 4s - loss: 7.9894e-04 - acc: 0.9999 - val_loss: 3.8018 - val_acc: 0.7360\n",
            "Epoch 622/1000\n",
            " - 4s - loss: 0.0033 - acc: 0.9996 - val_loss: 3.8186 - val_acc: 0.7378\n",
            "Epoch 623/1000\n",
            " - 4s - loss: 0.0020 - acc: 0.9998 - val_loss: 3.8311 - val_acc: 0.7350\n",
            "Epoch 624/1000\n",
            " - 4s - loss: 0.0021 - acc: 0.9998 - val_loss: 3.8187 - val_acc: 0.7328\n",
            "Epoch 625/1000\n",
            " - 4s - loss: 0.0019 - acc: 0.9998 - val_loss: 3.7858 - val_acc: 0.7368\n",
            "Epoch 626/1000\n",
            " - 4s - loss: 0.0010 - acc: 0.9999 - val_loss: 3.8074 - val_acc: 0.7320\n",
            "Epoch 627/1000\n",
            " - 4s - loss: 0.0012 - acc: 0.9999 - val_loss: 3.7846 - val_acc: 0.7328\n",
            "Epoch 628/1000\n",
            " - 4s - loss: 0.0011 - acc: 0.9999 - val_loss: 3.7917 - val_acc: 0.7318\n",
            "Epoch 629/1000\n",
            " - 4s - loss: 0.0016 - acc: 0.9998 - val_loss: 3.8262 - val_acc: 0.7318\n",
            "Epoch 630/1000\n",
            " - 4s - loss: 3.6408e-04 - acc: 0.9999 - val_loss: 3.8109 - val_acc: 0.7330\n",
            "Epoch 631/1000\n",
            " - 4s - loss: 7.4618e-04 - acc: 0.9999 - val_loss: 3.7804 - val_acc: 0.7390\n",
            "Epoch 632/1000\n",
            " - 4s - loss: 0.0022 - acc: 0.9998 - val_loss: 3.8072 - val_acc: 0.7332\n",
            "Epoch 633/1000\n",
            " - 4s - loss: 0.0011 - acc: 0.9998 - val_loss: 3.8266 - val_acc: 0.7300\n",
            "Epoch 634/1000\n",
            " - 4s - loss: 8.5477e-04 - acc: 0.9999 - val_loss: 3.8244 - val_acc: 0.7288\n",
            "Epoch 635/1000\n",
            " - 4s - loss: 8.0592e-04 - acc: 0.9999 - val_loss: 3.8067 - val_acc: 0.7312\n",
            "Epoch 636/1000\n",
            " - 4s - loss: 0.0013 - acc: 0.9998 - val_loss: 3.7788 - val_acc: 0.7374\n",
            "Epoch 637/1000\n",
            " - 4s - loss: 6.0547e-04 - acc: 0.9999 - val_loss: 3.7966 - val_acc: 0.7348\n",
            "Epoch 638/1000\n",
            " - 4s - loss: 0.0016 - acc: 0.9998 - val_loss: 3.8002 - val_acc: 0.7342\n",
            "Epoch 639/1000\n",
            " - 4s - loss: 5.8424e-04 - acc: 0.9998 - val_loss: 3.8096 - val_acc: 0.7336\n",
            "Epoch 640/1000\n",
            " - 4s - loss: 0.0013 - acc: 0.9999 - val_loss: 3.8159 - val_acc: 0.7328\n",
            "Epoch 641/1000\n",
            " - 4s - loss: 0.0024 - acc: 0.9998 - val_loss: 3.8147 - val_acc: 0.7342\n",
            "Epoch 642/1000\n",
            " - 4s - loss: 0.0029 - acc: 0.9998 - val_loss: 3.8538 - val_acc: 0.7240\n",
            "Epoch 643/1000\n",
            " - 4s - loss: 3.6219e-04 - acc: 0.9999 - val_loss: 3.8318 - val_acc: 0.7328\n",
            "Epoch 644/1000\n",
            " - 4s - loss: 0.0019 - acc: 0.9998 - val_loss: 3.8306 - val_acc: 0.7356\n",
            "Epoch 645/1000\n",
            " - 4s - loss: 1.6826e-05 - acc: 1.0000 - val_loss: 3.8509 - val_acc: 0.7336\n",
            "Epoch 646/1000\n",
            " - 4s - loss: 0.0027 - acc: 0.9998 - val_loss: 3.8316 - val_acc: 0.7328\n",
            "Epoch 647/1000\n",
            " - 4s - loss: 8.0903e-04 - acc: 0.9999 - val_loss: 3.8360 - val_acc: 0.7350\n",
            "Epoch 648/1000\n",
            " - 4s - loss: 0.0016 - acc: 0.9999 - val_loss: 3.8357 - val_acc: 0.7360\n",
            "Epoch 649/1000\n",
            " - 4s - loss: 0.0014 - acc: 0.9998 - val_loss: 3.7946 - val_acc: 0.7392\n",
            "Epoch 650/1000\n",
            " - 4s - loss: 0.0061 - acc: 0.9996 - val_loss: 3.7899 - val_acc: 0.7336\n",
            "Epoch 651/1000\n",
            " - 4s - loss: 1.0028e-04 - acc: 0.9999 - val_loss: 3.8100 - val_acc: 0.7364\n",
            "Epoch 652/1000\n",
            " - 4s - loss: 8.3841e-04 - acc: 0.9999 - val_loss: 3.8070 - val_acc: 0.7344\n",
            "Epoch 653/1000\n",
            " - 4s - loss: 0.0022 - acc: 0.9997 - val_loss: 3.8211 - val_acc: 0.7382\n",
            "Epoch 654/1000\n",
            " - 4s - loss: 8.9740e-04 - acc: 0.9999 - val_loss: 3.8461 - val_acc: 0.7324\n",
            "Epoch 655/1000\n",
            " - 4s - loss: 0.0040 - acc: 0.9998 - val_loss: 3.8261 - val_acc: 0.7342\n",
            "Epoch 656/1000\n",
            " - 4s - loss: 0.0018 - acc: 0.9998 - val_loss: 3.8429 - val_acc: 0.7330\n",
            "Epoch 657/1000\n",
            " - 4s - loss: 0.0014 - acc: 0.9999 - val_loss: 3.8553 - val_acc: 0.7304\n",
            "Epoch 658/1000\n",
            " - 4s - loss: 2.3944e-05 - acc: 1.0000 - val_loss: 3.8541 - val_acc: 0.7298\n",
            "Epoch 659/1000\n",
            " - 4s - loss: 0.0025 - acc: 0.9998 - val_loss: 3.8386 - val_acc: 0.7342\n",
            "Epoch 660/1000\n",
            " - 4s - loss: 0.0012 - acc: 0.9998 - val_loss: 3.9237 - val_acc: 0.7208\n",
            "Epoch 661/1000\n",
            " - 4s - loss: 0.0053 - acc: 0.9995 - val_loss: 3.8423 - val_acc: 0.7344\n",
            "Epoch 662/1000\n",
            " - 4s - loss: 0.0026 - acc: 0.9998 - val_loss: 3.8567 - val_acc: 0.7302\n",
            "Epoch 663/1000\n",
            " - 4s - loss: 2.2394e-04 - acc: 0.9999 - val_loss: 3.8457 - val_acc: 0.7306\n",
            "Epoch 664/1000\n",
            " - 4s - loss: 8.0026e-04 - acc: 0.9999 - val_loss: 3.8394 - val_acc: 0.7328\n",
            "Epoch 665/1000\n",
            " - 4s - loss: 0.0017 - acc: 0.9998 - val_loss: 3.8574 - val_acc: 0.7306\n",
            "Epoch 666/1000\n",
            " - 4s - loss: 0.0034 - acc: 0.9997 - val_loss: 3.8328 - val_acc: 0.7340\n",
            "Epoch 667/1000\n",
            " - 4s - loss: 0.0032 - acc: 0.9997 - val_loss: 3.8958 - val_acc: 0.7274\n",
            "Epoch 668/1000\n",
            " - 4s - loss: 9.6868e-04 - acc: 0.9999 - val_loss: 3.8765 - val_acc: 0.7286\n",
            "Epoch 669/1000\n",
            " - 4s - loss: 0.0017 - acc: 0.9998 - val_loss: 3.8411 - val_acc: 0.7294\n",
            "Epoch 670/1000\n",
            " - 4s - loss: 8.5039e-04 - acc: 0.9999 - val_loss: 3.8059 - val_acc: 0.7342\n",
            "Epoch 671/1000\n",
            " - 4s - loss: 5.9254e-04 - acc: 0.9999 - val_loss: 3.7962 - val_acc: 0.7362\n",
            "Epoch 672/1000\n",
            " - 4s - loss: 0.0021 - acc: 0.9998 - val_loss: 3.8291 - val_acc: 0.7344\n",
            "Epoch 673/1000\n",
            " - 4s - loss: 1.1046e-06 - acc: 1.0000 - val_loss: 3.8219 - val_acc: 0.7336\n",
            "Epoch 674/1000\n",
            " - 4s - loss: 0.0016 - acc: 0.9999 - val_loss: 3.8246 - val_acc: 0.7354\n",
            "Epoch 675/1000\n",
            " - 4s - loss: 0.0016 - acc: 0.9999 - val_loss: 3.8255 - val_acc: 0.7350\n",
            "Epoch 676/1000\n",
            " - 4s - loss: 0.0039 - acc: 0.9998 - val_loss: 3.8423 - val_acc: 0.7320\n",
            "Epoch 677/1000\n",
            " - 4s - loss: 8.4725e-04 - acc: 0.9999 - val_loss: 3.8527 - val_acc: 0.7302\n",
            "Epoch 678/1000\n",
            " - 4s - loss: 2.2984e-04 - acc: 0.9999 - val_loss: 3.8404 - val_acc: 0.7296\n",
            "Epoch 679/1000\n",
            " - 4s - loss: 6.1292e-04 - acc: 0.9999 - val_loss: 3.8562 - val_acc: 0.7316\n",
            "Epoch 680/1000\n",
            " - 4s - loss: 7.9838e-04 - acc: 0.9999 - val_loss: 3.8592 - val_acc: 0.7326\n",
            "Epoch 681/1000\n",
            " - 4s - loss: 8.5159e-07 - acc: 1.0000 - val_loss: 3.8544 - val_acc: 0.7334\n",
            "Epoch 682/1000\n",
            " - 4s - loss: 0.0012 - acc: 0.9998 - val_loss: 3.8675 - val_acc: 0.7294\n",
            "Epoch 683/1000\n",
            " - 4s - loss: 3.3927e-04 - acc: 0.9999 - val_loss: 3.8510 - val_acc: 0.7282\n",
            "Epoch 684/1000\n",
            " - 4s - loss: 8.6887e-04 - acc: 0.9999 - val_loss: 3.8781 - val_acc: 0.7284\n",
            "Epoch 685/1000\n",
            " - 4s - loss: 0.0037 - acc: 0.9997 - val_loss: 3.8279 - val_acc: 0.7326\n",
            "Epoch 686/1000\n",
            " - 4s - loss: 0.0016 - acc: 0.9998 - val_loss: 3.8189 - val_acc: 0.7328\n",
            "Epoch 687/1000\n",
            " - 4s - loss: 3.3264e-05 - acc: 1.0000 - val_loss: 3.8256 - val_acc: 0.7308\n",
            "Epoch 688/1000\n",
            " - 4s - loss: 0.0030 - acc: 0.9997 - val_loss: 3.8311 - val_acc: 0.7288\n",
            "Epoch 689/1000\n",
            " - 4s - loss: 5.0210e-05 - acc: 1.0000 - val_loss: 3.8696 - val_acc: 0.7280\n",
            "Epoch 690/1000\n",
            " - 4s - loss: 0.0051 - acc: 0.9996 - val_loss: 3.9075 - val_acc: 0.7282\n",
            "Epoch 691/1000\n",
            " - 4s - loss: 0.0048 - acc: 0.9996 - val_loss: 3.9034 - val_acc: 0.7308\n",
            "Epoch 692/1000\n",
            " - 4s - loss: 0.0048 - acc: 0.9996 - val_loss: 3.9055 - val_acc: 0.7276\n",
            "Epoch 693/1000\n",
            " - 4s - loss: 8.0536e-04 - acc: 0.9999 - val_loss: 3.8881 - val_acc: 0.7298\n",
            "Epoch 694/1000\n",
            " - 4s - loss: 0.0011 - acc: 0.9998 - val_loss: 3.9230 - val_acc: 0.7268\n",
            "Epoch 695/1000\n",
            " - 4s - loss: 3.5711e-04 - acc: 0.9999 - val_loss: 3.9045 - val_acc: 0.7278\n",
            "Epoch 696/1000\n",
            " - 4s - loss: 2.4678e-05 - acc: 1.0000 - val_loss: 3.8681 - val_acc: 0.7306\n",
            "Epoch 697/1000\n",
            " - 4s - loss: 0.0043 - acc: 0.9997 - val_loss: 3.8418 - val_acc: 0.7328\n",
            "Epoch 698/1000\n",
            " - 4s - loss: 0.0021 - acc: 0.9998 - val_loss: 3.8491 - val_acc: 0.7312\n",
            "Epoch 699/1000\n",
            " - 4s - loss: 8.6048e-04 - acc: 0.9999 - val_loss: 3.8612 - val_acc: 0.7290\n",
            "Epoch 700/1000\n",
            " - 4s - loss: 0.0013 - acc: 0.9999 - val_loss: 3.8257 - val_acc: 0.7388\n",
            "Epoch 701/1000\n",
            " - 4s - loss: 0.0032 - acc: 0.9998 - val_loss: 3.8460 - val_acc: 0.7356\n",
            "Epoch 702/1000\n",
            " - 4s - loss: 8.2677e-04 - acc: 0.9999 - val_loss: 3.8665 - val_acc: 0.7302\n",
            "Epoch 703/1000\n",
            " - 4s - loss: 0.0023 - acc: 0.9998 - val_loss: 3.8323 - val_acc: 0.7326\n",
            "Epoch 704/1000\n",
            " - 4s - loss: 8.2289e-04 - acc: 0.9999 - val_loss: 3.8526 - val_acc: 0.7314\n",
            "Epoch 705/1000\n",
            " - 4s - loss: 7.1153e-05 - acc: 0.9999 - val_loss: 3.8552 - val_acc: 0.7336\n",
            "Epoch 706/1000\n",
            " - 4s - loss: 5.6412e-04 - acc: 0.9999 - val_loss: 3.8589 - val_acc: 0.7322\n",
            "Epoch 707/1000\n",
            " - 4s - loss: 5.5706e-06 - acc: 1.0000 - val_loss: 3.8502 - val_acc: 0.7318\n",
            "Epoch 708/1000\n",
            " - 4s - loss: 0.0011 - acc: 0.9998 - val_loss: 3.8197 - val_acc: 0.7350\n",
            "Epoch 709/1000\n",
            " - 4s - loss: 0.0019 - acc: 0.9998 - val_loss: 3.8316 - val_acc: 0.7298\n",
            "Epoch 710/1000\n",
            " - 4s - loss: 7.6996e-04 - acc: 0.9999 - val_loss: 3.8301 - val_acc: 0.7314\n",
            "Epoch 711/1000\n",
            " - 4s - loss: 0.0011 - acc: 0.9998 - val_loss: 3.8254 - val_acc: 0.7310\n",
            "Epoch 712/1000\n",
            " - 4s - loss: 1.2366e-05 - acc: 1.0000 - val_loss: 3.8331 - val_acc: 0.7326\n",
            "Epoch 713/1000\n",
            " - 4s - loss: 0.0017 - acc: 0.9998 - val_loss: 3.8395 - val_acc: 0.7318\n",
            "Epoch 714/1000\n",
            " - 4s - loss: 3.9999e-04 - acc: 0.9998 - val_loss: 3.8714 - val_acc: 0.7286\n",
            "Epoch 715/1000\n",
            " - 4s - loss: 0.0020 - acc: 0.9998 - val_loss: 3.8223 - val_acc: 0.7342\n",
            "Epoch 716/1000\n",
            " - 4s - loss: 0.0024 - acc: 0.9998 - val_loss: 3.8216 - val_acc: 0.7340\n",
            "Epoch 717/1000\n",
            " - 4s - loss: 0.0032 - acc: 0.9998 - val_loss: 3.8169 - val_acc: 0.7338\n",
            "Epoch 718/1000\n",
            " - 4s - loss: 0.0018 - acc: 0.9998 - val_loss: 3.7986 - val_acc: 0.7356\n",
            "Epoch 719/1000\n",
            " - 4s - loss: 0.0020 - acc: 0.9998 - val_loss: 3.8031 - val_acc: 0.7318\n",
            "Epoch 720/1000\n",
            " - 4s - loss: 2.5826e-05 - acc: 1.0000 - val_loss: 3.8027 - val_acc: 0.7338\n",
            "Epoch 721/1000\n",
            " - 4s - loss: 0.0022 - acc: 0.9998 - val_loss: 3.8213 - val_acc: 0.7332\n",
            "Epoch 722/1000\n",
            " - 4s - loss: 0.0032 - acc: 0.9997 - val_loss: 3.8349 - val_acc: 0.7304\n",
            "Epoch 723/1000\n",
            " - 4s - loss: 0.0022 - acc: 0.9998 - val_loss: 3.8310 - val_acc: 0.7290\n",
            "Epoch 724/1000\n",
            " - 4s - loss: 6.5865e-05 - acc: 1.0000 - val_loss: 3.8025 - val_acc: 0.7344\n",
            "Epoch 725/1000\n",
            " - 4s - loss: 0.0026 - acc: 0.9998 - val_loss: 3.8304 - val_acc: 0.7308\n",
            "Epoch 726/1000\n",
            " - 4s - loss: 0.0029 - acc: 0.9998 - val_loss: 3.8199 - val_acc: 0.7352\n",
            "Epoch 727/1000\n",
            " - 4s - loss: 0.0058 - acc: 0.9996 - val_loss: 3.8369 - val_acc: 0.7334\n",
            "Epoch 728/1000\n",
            " - 4s - loss: 0.0051 - acc: 0.9997 - val_loss: 3.8564 - val_acc: 0.7270\n",
            "Epoch 729/1000\n",
            " - 4s - loss: 9.0418e-04 - acc: 0.9999 - val_loss: 3.8196 - val_acc: 0.7338\n",
            "Epoch 730/1000\n",
            " - 4s - loss: 0.0017 - acc: 0.9998 - val_loss: 3.7721 - val_acc: 0.7342\n",
            "Epoch 731/1000\n",
            " - 4s - loss: 0.0012 - acc: 0.9998 - val_loss: 3.7773 - val_acc: 0.7360\n",
            "Epoch 732/1000\n",
            " - 4s - loss: 0.0023 - acc: 0.9997 - val_loss: 3.8036 - val_acc: 0.7366\n",
            "Epoch 733/1000\n",
            " - 4s - loss: 0.0015 - acc: 0.9998 - val_loss: 3.8008 - val_acc: 0.7374\n",
            "Epoch 734/1000\n",
            " - 4s - loss: 0.0033 - acc: 0.9997 - val_loss: 3.8290 - val_acc: 0.7320\n",
            "Epoch 735/1000\n",
            " - 4s - loss: 5.3160e-04 - acc: 0.9998 - val_loss: 3.8076 - val_acc: 0.7358\n",
            "Epoch 736/1000\n",
            " - 4s - loss: 8.6984e-06 - acc: 1.0000 - val_loss: 3.7983 - val_acc: 0.7352\n",
            "Epoch 737/1000\n",
            " - 4s - loss: 0.0024 - acc: 0.9998 - val_loss: 3.7886 - val_acc: 0.7366\n",
            "Epoch 738/1000\n",
            " - 4s - loss: 0.0016 - acc: 0.9999 - val_loss: 3.8026 - val_acc: 0.7342\n",
            "Epoch 739/1000\n",
            " - 4s - loss: 6.1329e-06 - acc: 1.0000 - val_loss: 3.8001 - val_acc: 0.7366\n",
            "Epoch 740/1000\n",
            " - 4s - loss: 0.0012 - acc: 0.9997 - val_loss: 3.8040 - val_acc: 0.7366\n",
            "Epoch 741/1000\n",
            " - 4s - loss: 0.0024 - acc: 0.9998 - val_loss: 3.7927 - val_acc: 0.7380\n",
            "Epoch 742/1000\n",
            " - 4s - loss: 0.0049 - acc: 0.9995 - val_loss: 3.7799 - val_acc: 0.7396\n",
            "Epoch 743/1000\n",
            " - 4s - loss: 0.0032 - acc: 0.9998 - val_loss: 3.7797 - val_acc: 0.7396\n",
            "Epoch 744/1000\n",
            " - 4s - loss: 0.0016 - acc: 0.9998 - val_loss: 3.7813 - val_acc: 0.7396\n",
            "Epoch 745/1000\n",
            " - 4s - loss: 8.2027e-04 - acc: 0.9999 - val_loss: 3.7744 - val_acc: 0.7436\n",
            "Epoch 746/1000\n",
            " - 4s - loss: 0.0016 - acc: 0.9999 - val_loss: 3.7884 - val_acc: 0.7384\n",
            "Epoch 747/1000\n",
            " - 4s - loss: 7.3018e-04 - acc: 0.9999 - val_loss: 3.8061 - val_acc: 0.7364\n",
            "Epoch 748/1000\n",
            " - 4s - loss: 0.0028 - acc: 0.9997 - val_loss: 3.7969 - val_acc: 0.7354\n",
            "Epoch 749/1000\n",
            " - 4s - loss: 9.9384e-04 - acc: 0.9999 - val_loss: 3.8287 - val_acc: 0.7302\n",
            "Epoch 750/1000\n",
            " - 4s - loss: 1.4680e-05 - acc: 1.0000 - val_loss: 3.8183 - val_acc: 0.7328\n",
            "Epoch 751/1000\n",
            " - 4s - loss: 8.0461e-04 - acc: 0.9999 - val_loss: 3.8297 - val_acc: 0.7306\n",
            "Epoch 752/1000\n",
            " - 4s - loss: 0.0022 - acc: 0.9998 - val_loss: 3.8234 - val_acc: 0.7326\n",
            "Epoch 753/1000\n",
            " - 4s - loss: 0.0015 - acc: 0.9998 - val_loss: 3.8070 - val_acc: 0.7392\n",
            "Epoch 754/1000\n",
            " - 4s - loss: 0.0021 - acc: 0.9998 - val_loss: 3.8304 - val_acc: 0.7342\n",
            "Epoch 755/1000\n",
            " - 4s - loss: 0.0020 - acc: 0.9998 - val_loss: 3.8270 - val_acc: 0.7370\n",
            "Epoch 756/1000\n",
            " - 4s - loss: 0.0016 - acc: 0.9999 - val_loss: 3.8237 - val_acc: 0.7368\n",
            "Epoch 757/1000\n",
            " - 4s - loss: 0.0041 - acc: 0.9994 - val_loss: 3.8694 - val_acc: 0.7274\n",
            "Epoch 758/1000\n",
            " - 4s - loss: 0.0012 - acc: 0.9999 - val_loss: 3.8391 - val_acc: 0.7342\n",
            "Epoch 759/1000\n",
            " - 4s - loss: 3.5910e-06 - acc: 1.0000 - val_loss: 3.8329 - val_acc: 0.7354\n",
            "Epoch 760/1000\n",
            " - 4s - loss: 3.1360e-06 - acc: 1.0000 - val_loss: 3.8282 - val_acc: 0.7348\n",
            "Epoch 761/1000\n",
            " - 4s - loss: 2.5631e-06 - acc: 1.0000 - val_loss: 3.8248 - val_acc: 0.7348\n",
            "Epoch 762/1000\n",
            " - 4s - loss: 7.9919e-04 - acc: 0.9999 - val_loss: 3.8243 - val_acc: 0.7342\n",
            "Epoch 763/1000\n",
            " - 4s - loss: 6.9097e-04 - acc: 0.9998 - val_loss: 3.8528 - val_acc: 0.7302\n",
            "Epoch 764/1000\n",
            " - 4s - loss: 8.2945e-04 - acc: 0.9999 - val_loss: 3.8379 - val_acc: 0.7316\n",
            "Epoch 765/1000\n",
            " - 4s - loss: 1.5533e-05 - acc: 1.0000 - val_loss: 3.8198 - val_acc: 0.7338\n",
            "Epoch 766/1000\n",
            " - 4s - loss: 0.0028 - acc: 0.9998 - val_loss: 3.8552 - val_acc: 0.7322\n",
            "Epoch 767/1000\n",
            " - 4s - loss: 9.2975e-04 - acc: 0.9998 - val_loss: 3.8523 - val_acc: 0.7310\n",
            "Epoch 768/1000\n",
            " - 4s - loss: 7.5670e-04 - acc: 0.9998 - val_loss: 3.8736 - val_acc: 0.7246\n",
            "Epoch 769/1000\n",
            " - 4s - loss: 8.6353e-04 - acc: 0.9999 - val_loss: 3.8548 - val_acc: 0.7320\n",
            "Epoch 770/1000\n",
            " - 4s - loss: 0.0027 - acc: 0.9998 - val_loss: 3.8670 - val_acc: 0.7310\n",
            "Epoch 771/1000\n",
            " - 4s - loss: 8.0416e-04 - acc: 0.9999 - val_loss: 3.8616 - val_acc: 0.7320\n",
            "Epoch 772/1000\n",
            " - 4s - loss: 4.8610e-04 - acc: 0.9999 - val_loss: 3.8335 - val_acc: 0.7294\n",
            "Epoch 773/1000\n",
            " - 4s - loss: 0.0019 - acc: 0.9998 - val_loss: 3.8515 - val_acc: 0.7322\n",
            "Epoch 774/1000\n",
            " - 4s - loss: 3.3004e-04 - acc: 0.9998 - val_loss: 3.8333 - val_acc: 0.7318\n",
            "Epoch 775/1000\n",
            " - 4s - loss: 0.0027 - acc: 0.9997 - val_loss: 3.8192 - val_acc: 0.7280\n",
            "Epoch 776/1000\n",
            " - 4s - loss: 0.0018 - acc: 0.9998 - val_loss: 3.7866 - val_acc: 0.7352\n",
            "Epoch 777/1000\n",
            " - 4s - loss: 4.5446e-04 - acc: 0.9998 - val_loss: 3.7799 - val_acc: 0.7332\n",
            "Epoch 778/1000\n",
            " - 4s - loss: 0.0022 - acc: 0.9998 - val_loss: 3.7808 - val_acc: 0.7332\n",
            "Epoch 779/1000\n",
            " - 4s - loss: 0.0025 - acc: 0.9998 - val_loss: 3.7638 - val_acc: 0.7360\n",
            "Epoch 780/1000\n",
            " - 4s - loss: 0.0014 - acc: 0.9998 - val_loss: 3.7843 - val_acc: 0.7350\n",
            "Epoch 781/1000\n",
            " - 4s - loss: 8.1309e-04 - acc: 0.9999 - val_loss: 3.7517 - val_acc: 0.7378\n",
            "Epoch 782/1000\n",
            " - 4s - loss: 0.0014 - acc: 0.9998 - val_loss: 3.7696 - val_acc: 0.7346\n",
            "Epoch 783/1000\n",
            " - 4s - loss: 0.0010 - acc: 0.9998 - val_loss: 3.8017 - val_acc: 0.7402\n",
            "Epoch 784/1000\n",
            " - 4s - loss: 0.0012 - acc: 0.9999 - val_loss: 3.8073 - val_acc: 0.7376\n",
            "Epoch 785/1000\n",
            " - 4s - loss: 0.0017 - acc: 0.9998 - val_loss: 3.8032 - val_acc: 0.7364\n",
            "Epoch 786/1000\n",
            " - 4s - loss: 0.0040 - acc: 0.9996 - val_loss: 3.7881 - val_acc: 0.7374\n",
            "Epoch 787/1000\n",
            " - 4s - loss: 0.0013 - acc: 0.9999 - val_loss: 3.7904 - val_acc: 0.7356\n",
            "Epoch 788/1000\n",
            " - 4s - loss: 8.0221e-04 - acc: 0.9999 - val_loss: 3.7824 - val_acc: 0.7364\n",
            "Epoch 789/1000\n",
            " - 4s - loss: 0.0021 - acc: 0.9998 - val_loss: 3.7940 - val_acc: 0.7358\n",
            "Epoch 790/1000\n",
            " - 4s - loss: 0.0023 - acc: 0.9998 - val_loss: 3.8087 - val_acc: 0.7322\n",
            "Epoch 791/1000\n",
            " - 4s - loss: 0.0013 - acc: 0.9998 - val_loss: 3.7929 - val_acc: 0.7334\n",
            "Epoch 792/1000\n",
            " - 4s - loss: 4.9163e-04 - acc: 0.9999 - val_loss: 3.8082 - val_acc: 0.7334\n",
            "Epoch 793/1000\n",
            " - 4s - loss: 8.3009e-04 - acc: 0.9999 - val_loss: 3.8148 - val_acc: 0.7318\n",
            "Epoch 794/1000\n",
            " - 4s - loss: 0.0016 - acc: 0.9999 - val_loss: 3.8018 - val_acc: 0.7346\n",
            "Epoch 795/1000\n",
            " - 4s - loss: 1.7810e-06 - acc: 1.0000 - val_loss: 3.7904 - val_acc: 0.7384\n",
            "Epoch 796/1000\n",
            " - 4s - loss: 7.9865e-04 - acc: 0.9999 - val_loss: 3.7885 - val_acc: 0.7384\n",
            "Epoch 797/1000\n",
            " - 4s - loss: 0.0043 - acc: 0.9997 - val_loss: 3.8182 - val_acc: 0.7374\n",
            "Epoch 798/1000\n",
            " - 4s - loss: 0.0024 - acc: 0.9998 - val_loss: 3.8171 - val_acc: 0.7374\n",
            "Epoch 799/1000\n",
            " - 4s - loss: 0.0013 - acc: 0.9999 - val_loss: 3.8414 - val_acc: 0.7318\n",
            "Epoch 800/1000\n",
            " - 4s - loss: 7.6217e-06 - acc: 1.0000 - val_loss: 3.8397 - val_acc: 0.7334\n",
            "Epoch 801/1000\n",
            " - 4s - loss: 0.0016 - acc: 0.9999 - val_loss: 3.8495 - val_acc: 0.7322\n",
            "Epoch 802/1000\n",
            " - 4s - loss: 1.4266e-04 - acc: 0.9999 - val_loss: 3.8974 - val_acc: 0.7284\n",
            "Epoch 803/1000\n",
            " - 4s - loss: 0.0013 - acc: 0.9998 - val_loss: 3.8890 - val_acc: 0.7300\n",
            "Epoch 804/1000\n",
            " - 4s - loss: 0.0014 - acc: 0.9998 - val_loss: 3.8828 - val_acc: 0.7314\n",
            "Epoch 805/1000\n",
            " - 4s - loss: 5.3152e-06 - acc: 1.0000 - val_loss: 3.8756 - val_acc: 0.7300\n",
            "Epoch 806/1000\n",
            " - 4s - loss: 0.0032 - acc: 0.9998 - val_loss: 3.8766 - val_acc: 0.7304\n",
            "Epoch 807/1000\n",
            " - 4s - loss: 0.0031 - acc: 0.9997 - val_loss: 3.9042 - val_acc: 0.7288\n",
            "Epoch 808/1000\n",
            " - 4s - loss: 8.0356e-04 - acc: 0.9999 - val_loss: 3.8853 - val_acc: 0.7294\n",
            "Epoch 809/1000\n",
            " - 4s - loss: 0.0014 - acc: 0.9999 - val_loss: 3.8706 - val_acc: 0.7320\n",
            "Epoch 810/1000\n",
            " - 4s - loss: 2.6552e-06 - acc: 1.0000 - val_loss: 3.8558 - val_acc: 0.7330\n",
            "Epoch 811/1000\n",
            " - 4s - loss: 0.0021 - acc: 0.9998 - val_loss: 3.8710 - val_acc: 0.7298\n",
            "Epoch 812/1000\n",
            " - 4s - loss: 0.0056 - acc: 0.9996 - val_loss: 3.8500 - val_acc: 0.7362\n",
            "Epoch 813/1000\n",
            " - 4s - loss: 0.0031 - acc: 0.9997 - val_loss: 3.8434 - val_acc: 0.7312\n",
            "Epoch 814/1000\n",
            " - 4s - loss: 0.0010 - acc: 0.9998 - val_loss: 3.8345 - val_acc: 0.7310\n",
            "Epoch 815/1000\n",
            " - 4s - loss: 0.0014 - acc: 0.9998 - val_loss: 3.8342 - val_acc: 0.7324\n",
            "Epoch 816/1000\n",
            " - 4s - loss: 0.0017 - acc: 0.9998 - val_loss: 3.8475 - val_acc: 0.7310\n",
            "Epoch 817/1000\n",
            " - 4s - loss: 0.0024 - acc: 0.9997 - val_loss: 3.8226 - val_acc: 0.7348\n",
            "Epoch 818/1000\n",
            " - 4s - loss: 0.0018 - acc: 0.9998 - val_loss: 3.8263 - val_acc: 0.7298\n",
            "Epoch 819/1000\n",
            " - 4s - loss: 0.0016 - acc: 0.9999 - val_loss: 3.8165 - val_acc: 0.7336\n",
            "Epoch 820/1000\n",
            " - 4s - loss: 0.0021 - acc: 0.9998 - val_loss: 3.7932 - val_acc: 0.7322\n",
            "Epoch 821/1000\n",
            " - 4s - loss: 0.0022 - acc: 0.9998 - val_loss: 3.8361 - val_acc: 0.7300\n",
            "Epoch 822/1000\n",
            " - 4s - loss: 0.0013 - acc: 0.9998 - val_loss: 3.8327 - val_acc: 0.7300\n",
            "Epoch 823/1000\n",
            " - 4s - loss: 0.0024 - acc: 0.9998 - val_loss: 3.8201 - val_acc: 0.7380\n",
            "Epoch 824/1000\n",
            " - 4s - loss: 0.0025 - acc: 0.9997 - val_loss: 3.8351 - val_acc: 0.7336\n",
            "Epoch 825/1000\n",
            " - 4s - loss: 0.0012 - acc: 0.9999 - val_loss: 3.8443 - val_acc: 0.7302\n",
            "Epoch 826/1000\n",
            " - 4s - loss: 5.3187e-05 - acc: 1.0000 - val_loss: 3.8601 - val_acc: 0.7290\n",
            "Epoch 827/1000\n",
            " - 4s - loss: 0.0015 - acc: 0.9998 - val_loss: 3.8744 - val_acc: 0.7314\n",
            "Epoch 828/1000\n",
            " - 4s - loss: 0.0036 - acc: 0.9997 - val_loss: 3.9004 - val_acc: 0.7254\n",
            "Epoch 829/1000\n",
            " - 4s - loss: 2.9223e-05 - acc: 1.0000 - val_loss: 3.8753 - val_acc: 0.7298\n",
            "Epoch 830/1000\n",
            " - 4s - loss: 0.0015 - acc: 0.9998 - val_loss: 3.8676 - val_acc: 0.7282\n",
            "Epoch 831/1000\n",
            " - 4s - loss: 6.6090e-04 - acc: 0.9998 - val_loss: 3.8108 - val_acc: 0.7348\n",
            "Epoch 832/1000\n",
            " - 4s - loss: 3.5817e-06 - acc: 1.0000 - val_loss: 3.8094 - val_acc: 0.7366\n",
            "Epoch 833/1000\n",
            " - 4s - loss: 0.0019 - acc: 0.9998 - val_loss: 3.8244 - val_acc: 0.7370\n",
            "Epoch 834/1000\n",
            " - 4s - loss: 0.0014 - acc: 0.9999 - val_loss: 3.8656 - val_acc: 0.7322\n",
            "Epoch 835/1000\n",
            " - 4s - loss: 8.1257e-04 - acc: 0.9999 - val_loss: 3.8530 - val_acc: 0.7330\n",
            "Epoch 836/1000\n",
            " - 4s - loss: 0.0010 - acc: 0.9998 - val_loss: 3.8610 - val_acc: 0.7350\n",
            "Epoch 837/1000\n",
            " - 4s - loss: 0.0016 - acc: 0.9999 - val_loss: 3.8568 - val_acc: 0.7350\n",
            "Epoch 838/1000\n",
            " - 4s - loss: 0.0010 - acc: 0.9999 - val_loss: 3.8415 - val_acc: 0.7364\n",
            "Epoch 839/1000\n",
            " - 4s - loss: 8.0374e-07 - acc: 1.0000 - val_loss: 3.8438 - val_acc: 0.7362\n",
            "Epoch 840/1000\n",
            " - 4s - loss: 4.5864e-04 - acc: 0.9999 - val_loss: 3.9226 - val_acc: 0.7252\n",
            "Epoch 841/1000\n",
            " - 4s - loss: 2.0323e-05 - acc: 1.0000 - val_loss: 3.8999 - val_acc: 0.7322\n",
            "Epoch 842/1000\n",
            " - 4s - loss: 0.0021 - acc: 0.9998 - val_loss: 3.9104 - val_acc: 0.7298\n",
            "Epoch 843/1000\n",
            " - 4s - loss: 0.0017 - acc: 0.9998 - val_loss: 3.9090 - val_acc: 0.7314\n",
            "Epoch 844/1000\n",
            " - 4s - loss: 0.0013 - acc: 0.9998 - val_loss: 3.9074 - val_acc: 0.7304\n",
            "Epoch 845/1000\n",
            " - 4s - loss: 0.0032 - acc: 0.9998 - val_loss: 3.9095 - val_acc: 0.7282\n",
            "Epoch 846/1000\n",
            " - 4s - loss: 0.0047 - acc: 0.9995 - val_loss: 3.9021 - val_acc: 0.7336\n",
            "Epoch 847/1000\n",
            " - 4s - loss: 0.0031 - acc: 0.9997 - val_loss: 3.8726 - val_acc: 0.7310\n",
            "Epoch 848/1000\n",
            " - 4s - loss: 0.0030 - acc: 0.9998 - val_loss: 3.8730 - val_acc: 0.7358\n",
            "Epoch 849/1000\n",
            " - 4s - loss: 0.0030 - acc: 0.9997 - val_loss: 3.8903 - val_acc: 0.7330\n",
            "Epoch 850/1000\n",
            " - 4s - loss: 0.0026 - acc: 0.9998 - val_loss: 3.9206 - val_acc: 0.7306\n",
            "Epoch 851/1000\n",
            " - 4s - loss: 8.0997e-04 - acc: 0.9999 - val_loss: 3.9032 - val_acc: 0.7326\n",
            "Epoch 852/1000\n",
            " - 4s - loss: 0.0012 - acc: 0.9999 - val_loss: 3.9125 - val_acc: 0.7304\n",
            "Epoch 853/1000\n",
            " - 4s - loss: 8.5456e-04 - acc: 0.9999 - val_loss: 3.9133 - val_acc: 0.7328\n",
            "Epoch 854/1000\n",
            " - 4s - loss: 0.0049 - acc: 0.9996 - val_loss: 3.8918 - val_acc: 0.7348\n",
            "Epoch 855/1000\n",
            " - 4s - loss: 0.0022 - acc: 0.9998 - val_loss: 3.8848 - val_acc: 0.7340\n",
            "Epoch 856/1000\n",
            " - 4s - loss: 0.0026 - acc: 0.9998 - val_loss: 3.8814 - val_acc: 0.7350\n",
            "Epoch 857/1000\n",
            " - 4s - loss: 4.7463e-05 - acc: 0.9999 - val_loss: 3.9006 - val_acc: 0.7332\n",
            "Epoch 858/1000\n",
            " - 4s - loss: 0.0028 - acc: 0.9998 - val_loss: 3.9162 - val_acc: 0.7310\n",
            "Epoch 859/1000\n",
            " - 4s - loss: 0.0023 - acc: 0.9998 - val_loss: 3.8667 - val_acc: 0.7340\n",
            "Epoch 860/1000\n",
            " - 4s - loss: 0.0059 - acc: 0.9996 - val_loss: 3.8569 - val_acc: 0.7332\n",
            "Epoch 861/1000\n",
            " - 4s - loss: 0.0028 - acc: 0.9995 - val_loss: 3.8315 - val_acc: 0.7374\n",
            "Epoch 862/1000\n",
            " - 4s - loss: 8.1751e-04 - acc: 0.9999 - val_loss: 3.8219 - val_acc: 0.7384\n",
            "Epoch 863/1000\n",
            " - 4s - loss: 0.0024 - acc: 0.9998 - val_loss: 3.8386 - val_acc: 0.7360\n",
            "Epoch 864/1000\n",
            " - 4s - loss: 0.0020 - acc: 0.9998 - val_loss: 3.8523 - val_acc: 0.7346\n",
            "Epoch 865/1000\n",
            " - 4s - loss: 0.0029 - acc: 0.9998 - val_loss: 3.8415 - val_acc: 0.7362\n",
            "Epoch 866/1000\n",
            " - 4s - loss: 0.0024 - acc: 0.9998 - val_loss: 3.8563 - val_acc: 0.7358\n",
            "Epoch 867/1000\n",
            " - 4s - loss: 0.0044 - acc: 0.9997 - val_loss: 3.8636 - val_acc: 0.7344\n",
            "Epoch 868/1000\n",
            " - 4s - loss: 0.0024 - acc: 0.9996 - val_loss: 3.8457 - val_acc: 0.7348\n",
            "Epoch 869/1000\n",
            " - 4s - loss: 0.0015 - acc: 0.9998 - val_loss: 3.8420 - val_acc: 0.7346\n",
            "Epoch 870/1000\n",
            " - 4s - loss: 0.0024 - acc: 0.9998 - val_loss: 3.8632 - val_acc: 0.7314\n",
            "Epoch 871/1000\n",
            " - 4s - loss: 8.5756e-04 - acc: 0.9999 - val_loss: 3.8451 - val_acc: 0.7366\n",
            "Epoch 872/1000\n",
            " - 4s - loss: 8.2132e-04 - acc: 0.9999 - val_loss: 3.8480 - val_acc: 0.7340\n",
            "Epoch 873/1000\n",
            " - 4s - loss: 0.0011 - acc: 0.9998 - val_loss: 3.8482 - val_acc: 0.7326\n",
            "Epoch 874/1000\n",
            " - 4s - loss: 6.3369e-04 - acc: 0.9998 - val_loss: 3.8182 - val_acc: 0.7324\n",
            "Epoch 875/1000\n",
            " - 4s - loss: 0.0023 - acc: 0.9998 - val_loss: 3.8533 - val_acc: 0.7314\n",
            "Epoch 876/1000\n",
            " - 4s - loss: 7.0938e-04 - acc: 0.9999 - val_loss: 3.8468 - val_acc: 0.7314\n",
            "Epoch 877/1000\n",
            " - 4s - loss: 9.6129e-04 - acc: 0.9999 - val_loss: 3.8213 - val_acc: 0.7334\n",
            "Epoch 878/1000\n",
            " - 4s - loss: 7.0870e-04 - acc: 0.9999 - val_loss: 3.8103 - val_acc: 0.7328\n",
            "Epoch 879/1000\n",
            " - 4s - loss: 0.0017 - acc: 0.9998 - val_loss: 3.8141 - val_acc: 0.7364\n",
            "Epoch 880/1000\n",
            " - 4s - loss: 4.0387e-06 - acc: 1.0000 - val_loss: 3.8052 - val_acc: 0.7366\n",
            "Epoch 881/1000\n",
            " - 4s - loss: 2.0880e-06 - acc: 1.0000 - val_loss: 3.8086 - val_acc: 0.7388\n",
            "Epoch 882/1000\n",
            " - 4s - loss: 0.0029 - acc: 0.9998 - val_loss: 3.8204 - val_acc: 0.7352\n",
            "Epoch 883/1000\n",
            " - 4s - loss: 0.0024 - acc: 0.9998 - val_loss: 3.8371 - val_acc: 0.7352\n",
            "Epoch 884/1000\n",
            " - 4s - loss: 0.0033 - acc: 0.9998 - val_loss: 3.8236 - val_acc: 0.7328\n",
            "Epoch 885/1000\n",
            " - 4s - loss: 0.0019 - acc: 0.9998 - val_loss: 3.8297 - val_acc: 0.7312\n",
            "Epoch 886/1000\n",
            " - 4s - loss: 8.3204e-04 - acc: 0.9999 - val_loss: 3.8200 - val_acc: 0.7354\n",
            "Epoch 887/1000\n",
            " - 4s - loss: 4.7449e-06 - acc: 1.0000 - val_loss: 3.8142 - val_acc: 0.7360\n",
            "Epoch 888/1000\n",
            " - 4s - loss: 0.0024 - acc: 0.9998 - val_loss: 3.8222 - val_acc: 0.7356\n",
            "Epoch 889/1000\n",
            " - 4s - loss: 0.0022 - acc: 0.9998 - val_loss: 3.8278 - val_acc: 0.7366\n",
            "Epoch 890/1000\n",
            " - 4s - loss: 0.0035 - acc: 0.9997 - val_loss: 3.8822 - val_acc: 0.7330\n",
            "Epoch 891/1000\n",
            " - 4s - loss: 0.0020 - acc: 0.9998 - val_loss: 3.8180 - val_acc: 0.7364\n",
            "Epoch 892/1000\n",
            " - 4s - loss: 5.4642e-04 - acc: 0.9998 - val_loss: 3.8452 - val_acc: 0.7314\n",
            "Epoch 893/1000\n",
            " - 4s - loss: 0.0023 - acc: 0.9998 - val_loss: 3.8608 - val_acc: 0.7270\n",
            "Epoch 894/1000\n",
            " - 4s - loss: 0.0036 - acc: 0.9997 - val_loss: 3.8512 - val_acc: 0.7346\n",
            "Epoch 895/1000\n",
            " - 4s - loss: 1.6641e-05 - acc: 1.0000 - val_loss: 3.8504 - val_acc: 0.7352\n",
            "Epoch 896/1000\n",
            " - 4s - loss: 0.0016 - acc: 0.9999 - val_loss: 3.8466 - val_acc: 0.7358\n",
            "Epoch 897/1000\n",
            " - 4s - loss: 0.0024 - acc: 0.9998 - val_loss: 3.8377 - val_acc: 0.7360\n",
            "Epoch 898/1000\n",
            " - 4s - loss: 0.0024 - acc: 0.9998 - val_loss: 3.8371 - val_acc: 0.7362\n",
            "Epoch 899/1000\n",
            " - 4s - loss: 4.2787e-06 - acc: 1.0000 - val_loss: 3.8324 - val_acc: 0.7372\n",
            "Epoch 900/1000\n",
            " - 4s - loss: 0.0016 - acc: 0.9999 - val_loss: 3.8175 - val_acc: 0.7390\n",
            "Epoch 901/1000\n",
            " - 4s - loss: 0.0055 - acc: 0.9997 - val_loss: 3.8141 - val_acc: 0.7334\n",
            "Epoch 902/1000\n",
            " - 4s - loss: 0.0021 - acc: 0.9997 - val_loss: 3.8972 - val_acc: 0.7346\n",
            "Epoch 903/1000\n",
            " - 4s - loss: 0.0016 - acc: 0.9999 - val_loss: 3.9073 - val_acc: 0.7350\n",
            "Epoch 904/1000\n",
            " - 4s - loss: 0.0013 - acc: 0.9999 - val_loss: 3.9282 - val_acc: 0.7320\n",
            "Epoch 905/1000\n",
            " - 4s - loss: 0.0012 - acc: 0.9999 - val_loss: 3.9356 - val_acc: 0.7226\n",
            "Epoch 906/1000\n",
            " - 4s - loss: 0.0026 - acc: 0.9998 - val_loss: 3.8688 - val_acc: 0.7372\n",
            "Epoch 907/1000\n",
            " - 4s - loss: 0.0016 - acc: 0.9999 - val_loss: 3.8644 - val_acc: 0.7380\n",
            "Epoch 908/1000\n",
            " - 4s - loss: 6.4107e-05 - acc: 0.9999 - val_loss: 3.8315 - val_acc: 0.7388\n",
            "Epoch 909/1000\n",
            " - 4s - loss: 0.0024 - acc: 0.9998 - val_loss: 3.8552 - val_acc: 0.7312\n",
            "Epoch 910/1000\n",
            " - 4s - loss: 0.0041 - acc: 0.9996 - val_loss: 3.8372 - val_acc: 0.7376\n",
            "Epoch 911/1000\n",
            " - 4s - loss: 0.0060 - acc: 0.9995 - val_loss: 3.8512 - val_acc: 0.7276\n",
            "Epoch 912/1000\n",
            " - 4s - loss: 0.0048 - acc: 0.9995 - val_loss: 3.8672 - val_acc: 0.7344\n",
            "Epoch 913/1000\n",
            " - 4s - loss: 0.0028 - acc: 0.9998 - val_loss: 3.8801 - val_acc: 0.7306\n",
            "Epoch 914/1000\n",
            " - 4s - loss: 2.3061e-05 - acc: 1.0000 - val_loss: 3.8665 - val_acc: 0.7336\n",
            "Epoch 915/1000\n",
            " - 4s - loss: 0.0016 - acc: 0.9999 - val_loss: 3.8576 - val_acc: 0.7378\n",
            "Epoch 916/1000\n",
            " - 4s - loss: 0.0020 - acc: 0.9998 - val_loss: 3.8730 - val_acc: 0.7356\n",
            "Epoch 917/1000\n",
            " - 4s - loss: 0.0011 - acc: 0.9998 - val_loss: 3.8851 - val_acc: 0.7358\n",
            "Epoch 918/1000\n",
            " - 4s - loss: 0.0046 - acc: 0.9996 - val_loss: 3.9246 - val_acc: 0.7294\n",
            "Epoch 919/1000\n",
            " - 4s - loss: 0.0095 - acc: 0.9992 - val_loss: 3.9081 - val_acc: 0.7322\n",
            "Epoch 920/1000\n",
            " - 4s - loss: 0.0017 - acc: 0.9998 - val_loss: 3.8839 - val_acc: 0.7388\n",
            "Epoch 921/1000\n",
            " - 4s - loss: 0.0050 - acc: 0.9995 - val_loss: 3.9059 - val_acc: 0.7356\n",
            "Epoch 922/1000\n",
            " - 4s - loss: 0.0109 - acc: 0.9992 - val_loss: 3.9124 - val_acc: 0.7368\n",
            "Epoch 923/1000\n",
            " - 4s - loss: 0.0062 - acc: 0.9995 - val_loss: 3.9473 - val_acc: 0.7290\n",
            "Epoch 924/1000\n",
            " - 4s - loss: 7.6156e-04 - acc: 0.9999 - val_loss: 3.9378 - val_acc: 0.7292\n",
            "Epoch 925/1000\n",
            " - 4s - loss: 1.5576e-04 - acc: 0.9999 - val_loss: 3.9213 - val_acc: 0.7334\n",
            "Epoch 926/1000\n",
            " - 4s - loss: 0.0028 - acc: 0.9996 - val_loss: 3.9032 - val_acc: 0.7324\n",
            "Epoch 927/1000\n",
            " - 4s - loss: 0.0019 - acc: 0.9998 - val_loss: 3.8526 - val_acc: 0.7370\n",
            "Epoch 928/1000\n",
            " - 4s - loss: 0.0020 - acc: 0.9998 - val_loss: 3.8027 - val_acc: 0.7390\n",
            "Epoch 929/1000\n",
            " - 4s - loss: 0.0024 - acc: 0.9998 - val_loss: 3.7975 - val_acc: 0.7394\n",
            "Epoch 930/1000\n",
            " - 4s - loss: 0.0034 - acc: 0.9998 - val_loss: 3.8186 - val_acc: 0.7426\n",
            "Epoch 931/1000\n",
            " - 4s - loss: 0.0025 - acc: 0.9998 - val_loss: 3.8040 - val_acc: 0.7396\n",
            "Epoch 932/1000\n",
            " - 4s - loss: 0.0021 - acc: 0.9997 - val_loss: 3.8610 - val_acc: 0.7324\n",
            "Epoch 933/1000\n",
            " - 4s - loss: 0.0023 - acc: 0.9997 - val_loss: 3.8269 - val_acc: 0.7340\n",
            "Epoch 934/1000\n",
            " - 4s - loss: 0.0015 - acc: 0.9998 - val_loss: 3.7936 - val_acc: 0.7332\n",
            "Epoch 935/1000\n",
            " - 4s - loss: 9.2280e-04 - acc: 0.9998 - val_loss: 3.8281 - val_acc: 0.7310\n",
            "Epoch 936/1000\n",
            " - 4s - loss: 0.0025 - acc: 0.9998 - val_loss: 3.8282 - val_acc: 0.7304\n",
            "Epoch 937/1000\n",
            " - 4s - loss: 0.0033 - acc: 0.9997 - val_loss: 3.8368 - val_acc: 0.7338\n",
            "Epoch 938/1000\n",
            " - 4s - loss: 7.8157e-04 - acc: 0.9999 - val_loss: 3.8020 - val_acc: 0.7356\n",
            "Epoch 939/1000\n",
            " - 4s - loss: 4.7447e-04 - acc: 0.9999 - val_loss: 3.7789 - val_acc: 0.7376\n",
            "Epoch 940/1000\n",
            " - 4s - loss: 0.0038 - acc: 0.9997 - val_loss: 3.7930 - val_acc: 0.7366\n",
            "Epoch 941/1000\n",
            " - 4s - loss: 7.5127e-06 - acc: 1.0000 - val_loss: 3.7813 - val_acc: 0.7374\n",
            "Epoch 942/1000\n",
            " - 4s - loss: 4.5998e-06 - acc: 1.0000 - val_loss: 3.7813 - val_acc: 0.7368\n",
            "Epoch 943/1000\n",
            " - 4s - loss: 1.2818e-04 - acc: 0.9999 - val_loss: 3.7991 - val_acc: 0.7360\n",
            "Epoch 944/1000\n",
            " - 4s - loss: 0.0075 - acc: 0.9994 - val_loss: 3.8356 - val_acc: 0.7372\n",
            "Epoch 945/1000\n",
            " - 4s - loss: 0.0040 - acc: 0.9998 - val_loss: 3.8425 - val_acc: 0.7382\n",
            "Epoch 946/1000\n",
            " - 4s - loss: 0.0024 - acc: 0.9998 - val_loss: 3.8545 - val_acc: 0.7358\n",
            "Epoch 947/1000\n",
            " - 4s - loss: 7.3838e-04 - acc: 0.9999 - val_loss: 3.8284 - val_acc: 0.7328\n",
            "Epoch 948/1000\n",
            " - 4s - loss: 7.9551e-04 - acc: 0.9999 - val_loss: 3.8260 - val_acc: 0.7324\n",
            "Epoch 949/1000\n",
            " - 4s - loss: 0.0012 - acc: 0.9998 - val_loss: 3.8169 - val_acc: 0.7336\n",
            "Epoch 950/1000\n",
            " - 4s - loss: 8.0995e-04 - acc: 0.9999 - val_loss: 3.8113 - val_acc: 0.7352\n",
            "Epoch 951/1000\n",
            " - 4s - loss: 5.6513e-06 - acc: 1.0000 - val_loss: 3.8257 - val_acc: 0.7346\n",
            "Epoch 952/1000\n",
            " - 4s - loss: 0.0016 - acc: 0.9999 - val_loss: 3.8587 - val_acc: 0.7368\n",
            "Epoch 953/1000\n",
            " - 4s - loss: 0.0024 - acc: 0.9998 - val_loss: 3.8745 - val_acc: 0.7378\n",
            "Epoch 954/1000\n",
            " - 4s - loss: 0.0013 - acc: 0.9999 - val_loss: 3.8775 - val_acc: 0.7330\n",
            "Epoch 955/1000\n",
            " - 4s - loss: 0.0024 - acc: 0.9998 - val_loss: 3.8768 - val_acc: 0.7350\n",
            "Epoch 956/1000\n",
            " - 4s - loss: 8.9723e-04 - acc: 0.9999 - val_loss: 3.8605 - val_acc: 0.7336\n",
            "Epoch 957/1000\n",
            " - 4s - loss: 3.5214e-04 - acc: 0.9998 - val_loss: 3.8813 - val_acc: 0.7362\n",
            "Epoch 958/1000\n",
            " - 4s - loss: 0.0013 - acc: 0.9999 - val_loss: 3.8832 - val_acc: 0.7330\n",
            "Epoch 959/1000\n",
            " - 4s - loss: 0.0015 - acc: 0.9998 - val_loss: 3.8852 - val_acc: 0.7366\n",
            "Epoch 960/1000\n",
            " - 4s - loss: 0.0019 - acc: 0.9998 - val_loss: 3.8741 - val_acc: 0.7360\n",
            "Epoch 961/1000\n",
            " - 4s - loss: 0.0051 - acc: 0.9997 - val_loss: 3.8839 - val_acc: 0.7362\n",
            "Epoch 962/1000\n",
            " - 4s - loss: 0.0031 - acc: 0.9997 - val_loss: 3.8799 - val_acc: 0.7352\n",
            "Epoch 963/1000\n",
            " - 4s - loss: 0.0028 - acc: 0.9997 - val_loss: 3.8438 - val_acc: 0.7382\n",
            "Epoch 964/1000\n",
            " - 4s - loss: 1.8110e-06 - acc: 1.0000 - val_loss: 3.8381 - val_acc: 0.7382\n",
            "Epoch 965/1000\n",
            " - 4s - loss: 1.9287e-06 - acc: 1.0000 - val_loss: 3.8368 - val_acc: 0.7390\n",
            "Epoch 966/1000\n",
            " - 4s - loss: 2.7394e-05 - acc: 1.0000 - val_loss: 3.8366 - val_acc: 0.7402\n",
            "Epoch 967/1000\n",
            " - 4s - loss: 0.0017 - acc: 0.9998 - val_loss: 3.8382 - val_acc: 0.7364\n",
            "Epoch 968/1000\n",
            " - 4s - loss: 4.2737e-06 - acc: 1.0000 - val_loss: 3.8385 - val_acc: 0.7374\n",
            "Epoch 969/1000\n",
            " - 4s - loss: 8.0103e-04 - acc: 0.9999 - val_loss: 3.8385 - val_acc: 0.7382\n",
            "Epoch 970/1000\n",
            " - 4s - loss: 9.5678e-04 - acc: 0.9999 - val_loss: 3.8489 - val_acc: 0.7346\n",
            "Epoch 971/1000\n",
            " - 4s - loss: 6.5520e-04 - acc: 0.9999 - val_loss: 3.8535 - val_acc: 0.7346\n",
            "Epoch 972/1000\n",
            " - 4s - loss: 2.0157e-04 - acc: 0.9999 - val_loss: 3.8470 - val_acc: 0.7294\n",
            "Epoch 973/1000\n",
            " - 4s - loss: 0.0018 - acc: 0.9998 - val_loss: 3.8649 - val_acc: 0.7356\n",
            "Epoch 974/1000\n",
            " - 4s - loss: 0.0028 - acc: 0.9997 - val_loss: 3.8469 - val_acc: 0.7370\n",
            "Epoch 975/1000\n",
            " - 4s - loss: 0.0030 - acc: 0.9998 - val_loss: 3.8407 - val_acc: 0.7338\n",
            "Epoch 976/1000\n",
            " - 4s - loss: 1.8383e-04 - acc: 0.9999 - val_loss: 3.8471 - val_acc: 0.7386\n",
            "Epoch 977/1000\n",
            " - 4s - loss: 0.0016 - acc: 0.9999 - val_loss: 3.8540 - val_acc: 0.7382\n",
            "Epoch 978/1000\n",
            " - 4s - loss: 0.0020 - acc: 0.9998 - val_loss: 3.8506 - val_acc: 0.7374\n",
            "Epoch 979/1000\n",
            " - 4s - loss: 0.0040 - acc: 0.9998 - val_loss: 3.8464 - val_acc: 0.7372\n",
            "Epoch 980/1000\n",
            " - 4s - loss: 0.0027 - acc: 0.9998 - val_loss: 3.8578 - val_acc: 0.7370\n",
            "Epoch 981/1000\n",
            " - 4s - loss: 0.0028 - acc: 0.9996 - val_loss: 3.8321 - val_acc: 0.7324\n",
            "Epoch 982/1000\n",
            " - 4s - loss: 0.0029 - acc: 0.9998 - val_loss: 3.8423 - val_acc: 0.7374\n",
            "Epoch 983/1000\n",
            " - 4s - loss: 0.0064 - acc: 0.9996 - val_loss: 3.8472 - val_acc: 0.7390\n",
            "Epoch 984/1000\n",
            " - 4s - loss: 4.2948e-04 - acc: 0.9999 - val_loss: 3.8634 - val_acc: 0.7332\n",
            "Epoch 985/1000\n",
            " - 4s - loss: 7.4459e-06 - acc: 1.0000 - val_loss: 3.8573 - val_acc: 0.7344\n",
            "Epoch 986/1000\n",
            " - 4s - loss: 3.2677e-05 - acc: 1.0000 - val_loss: 3.8410 - val_acc: 0.7376\n",
            "Epoch 987/1000\n",
            " - 4s - loss: 1.6561e-06 - acc: 1.0000 - val_loss: 3.8449 - val_acc: 0.7366\n",
            "Epoch 988/1000\n",
            " - 4s - loss: 0.0040 - acc: 0.9998 - val_loss: 3.8426 - val_acc: 0.7426\n",
            "Epoch 989/1000\n",
            " - 4s - loss: 0.0016 - acc: 0.9999 - val_loss: 3.8512 - val_acc: 0.7396\n",
            "Epoch 990/1000\n",
            " - 4s - loss: 0.0024 - acc: 0.9998 - val_loss: 3.8454 - val_acc: 0.7396\n",
            "Epoch 991/1000\n",
            " - 4s - loss: 0.0024 - acc: 0.9998 - val_loss: 3.8549 - val_acc: 0.7364\n",
            "Epoch 992/1000\n",
            " - 4s - loss: 7.9824e-04 - acc: 0.9999 - val_loss: 3.8359 - val_acc: 0.7378\n",
            "Epoch 993/1000\n",
            " - 4s - loss: 0.0016 - acc: 0.9999 - val_loss: 3.8337 - val_acc: 0.7388\n",
            "Epoch 994/1000\n",
            " - 4s - loss: 0.0016 - acc: 0.9999 - val_loss: 3.8336 - val_acc: 0.7386\n",
            "Epoch 995/1000\n",
            " - 4s - loss: 0.0013 - acc: 0.9999 - val_loss: 3.8435 - val_acc: 0.7362\n",
            "Epoch 996/1000\n",
            " - 4s - loss: 0.0011 - acc: 0.9999 - val_loss: 3.8516 - val_acc: 0.7306\n",
            "Epoch 997/1000\n",
            " - 4s - loss: 0.0032 - acc: 0.9998 - val_loss: 3.8275 - val_acc: 0.7350\n",
            "Epoch 998/1000\n",
            " - 4s - loss: 0.0023 - acc: 0.9998 - val_loss: 3.8489 - val_acc: 0.7330\n",
            "Epoch 999/1000\n",
            " - 4s - loss: 8.0767e-04 - acc: 0.9999 - val_loss: 3.8517 - val_acc: 0.7342\n",
            "Epoch 1000/1000\n",
            " - 4s - loss: 8.0260e-04 - acc: 0.9999 - val_loss: 3.8374 - val_acc: 0.7358\n",
            "Test Accuracy: 70.172000\n",
            "CPU times: user 1h 4min 54s, sys: 12min 36s, total: 1h 17min 31s\n",
            "Wall time: 1h 8min 42s\n"
          ],
          "name": "stdout"
        }
      ]
    },
    {
      "cell_type": "markdown",
      "metadata": {
        "id": "mXp7NE3lld0W",
        "colab_type": "text"
      },
      "source": [
        "### Plots"
      ]
    },
    {
      "cell_type": "code",
      "metadata": {
        "id": "kodhf0CMrnoc",
        "colab_type": "code",
        "outputId": "33e2868c-1c41-4d05-d56a-c8e3d5457234",
        "colab": {
          "base_uri": "https://localhost:8080/",
          "height": 559
        }
      },
      "source": [
        "acc = model.history.history['acc']\n",
        "val_acc = model.history.history['val_acc']\n",
        "loss = model.history.history['loss']\n",
        "val_loss = model.history.history['val_loss']\n",
        "\n",
        "epochs = range(1, len(acc) + 1)\n",
        "\n",
        "plt.figure()\n",
        "plt.plot(epochs, loss, label='Training loss')\n",
        "plt.plot(epochs, val_loss, 'r--',label='Validation loss',  linewidth=3)\n",
        "plt.title('loss (tf-df)')\n",
        "plt.legend()\n",
        "plt.savefig(\"Training and Validation loss (tf-df).eps\", format='eps', dpi=1200)\n",
        "plt.show()\n",
        "\n",
        "plt.figure()\n",
        "plt.plot(epochs, acc, label='Training acc')\n",
        "plt.plot(epochs, val_acc,'r--', label='Validation acc', linewidth=3)\n",
        "plt.title('accuracy (tf-df)')\n",
        "plt.legend()\n",
        "plt.xlabel(\"epochs\")\n",
        "plt.ylabel(\"accuracy\")\n",
        "plt.savefig(\"Training and validation accuracy (tf-df).eps\", format='eps', dpi=1200)\n",
        "plt.show()"
      ],
      "execution_count": 6,
      "outputs": [
        {
          "output_type": "display_data",
          "data": {
            "image/png": "[encoded data removed]",
            "text/plain": [
              "<Figure size 432x288 with 1 Axes>"
            ]
          },
          "metadata": {
            "tags": []
          }
        },
        {
          "output_type": "display_data",
          "data": {
            "image/png": "[encoded data removed]",
            "text/plain": [
              "<Figure size 432x288 with 1 Axes>"
            ]
          },
          "metadata": {
            "tags": []
          }
        }
      ]
    },
    {
      "cell_type": "code",
      "metadata": {
        "colab_type": "code",
        "outputId": "270ca34c-c1b8-4475-f7ea-71c20338370a",
        "id": "k6i_3KP4cpg7",
        "colab": {
          "base_uri": "https://localhost:8080/",
          "height": 281
        }
      },
      "source": [
        "#Create ROC curve\n",
        "from sklearn.metrics import roc_curve, auc\n",
        "import matplotlib.pyplot as plt\n",
        "pred_probas = model.predict_proba(tfidf_tst)[:,0]\n",
        "fpr,tpr,_ = roc_curve(test_df.sentiment, pred_probas)\n",
        "roc_auc = auc(fpr,tpr)\n",
        "plt.plot(fpr,tpr,label='area = %.2f' %roc_auc)\n",
        "plt.plot([0, 1], [0, 1], label=\"random classifier\")\n",
        "plt.xlim([0.0, 1.0])\n",
        "plt.ylim([0.0, 1.05])\n",
        "plt.legend(loc='lower right')\n",
        "plt.title(\"ROC curve (tf_idf)\")\n",
        "plt.savefig(\"ROC curve (tf_idf).eps\", format='eps', dpi=1200)\n",
        "plt.show()"
      ],
      "execution_count": 0,
      "outputs": [
        {
          "output_type": "display_data",
          "data": {
            "image/png": "[encoded data removed]",
            "text/plain": [
              "<Figure size 432x288 with 1 Axes>"
            ]
          },
          "metadata": {
            "tags": []
          }
        }
      ]
    },
    {
      "cell_type": "code",
      "metadata": {
        "colab_type": "code",
        "outputId": "9b4cbf4c-1281-48b4-9b48-aaa5866dbb16",
        "id": "UNEIbn8FcphI",
        "colab": {
          "base_uri": "https://localhost:8080/",
          "height": 136
        }
      },
      "source": [
        "model.predict(tfidf_tst[:,:])"
      ],
      "execution_count": 0,
      "outputs": [
        {
          "output_type": "execute_result",
          "data": {
            "text/plain": [
              "array([[9.9999994e-01],\n",
              "       [2.9802322e-08],\n",
              "       [0.0000000e+00],\n",
              "       ...,\n",
              "       [0.0000000e+00],\n",
              "       [3.5142303e-03],\n",
              "       [0.0000000e+00]], dtype=float32)"
            ]
          },
          "metadata": {
            "tags": []
          },
          "execution_count": 10
        }
      ]
    },
    {
      "cell_type": "code",
      "metadata": {
        "colab_type": "code",
        "id": "L3v4FyWCcphN",
        "outputId": "b2b4ffb1-3fe5-4cd5-efaa-318b734f6086",
        "colab": {
          "base_uri": "https://localhost:8080/",
          "height": 295
        }
      },
      "source": [
        "y_pred = np.round(model.predict(tfidf_tst))\n",
        "\n",
        "LABELS = [\n",
        "    \"negative\", \"positive\"\n",
        "]\n",
        "\n",
        "# Create a confusion matrix on training data.\n",
        "with tf.Graph().as_default():\n",
        "  cm = tf.confusion_matrix(test_df.sentiment,\n",
        "                           y_pred)\n",
        "  with tf.Session() as session:\n",
        "    cm_out = session.run(cm)\n",
        "\n",
        "# Normalize the confusion matrix so that each row sums to 1.\n",
        "cm_out = cm_out.astype(float) / cm_out.sum(axis=1)[:, np.newaxis]\n",
        "\n",
        "sns.heatmap(cm_out, annot=True, xticklabels=LABELS, yticklabels=LABELS);\n",
        "plt.title(\"Confusion Matrix (tf_idf)\")\n",
        "plt.xlabel(\"Predicted\");\n",
        "plt.ylabel(\"True\");\n",
        "plt.savefig(\"Confusion Matrix (tf_idf).eps\", format='eps', dpi=1200)\n",
        "plt.show()"
      ],
      "execution_count": 7,
      "outputs": [
        {
          "output_type": "display_data",
          "data": {
            "image/png": "[encoded data removed]",
            "text/plain": [
              "<Figure size 432x288 with 2 Axes>"
            ]
          },
          "metadata": {
            "tags": []
          }
        }
      ]
    },
    {
      "cell_type": "code",
      "metadata": {
        "id": "maUxqUchioBe",
        "colab_type": "code",
        "colab": {}
      },
      "source": [
        "from sklearn.metrics import recall_score\n",
        "from sklearn.metrics import precision_score"
      ],
      "execution_count": 0,
      "outputs": []
    },
    {
      "cell_type": "code",
      "metadata": {
        "id": "Y4E4GOExEJoe",
        "colab_type": "code",
        "outputId": "e62c92b4-a13c-46d7-9665-ff2501ffbfe3",
        "colab": {
          "base_uri": "https://localhost:8080/",
          "height": 34
        }
      },
      "source": [
        "(0.95+0.28)/(0.95+0.28+0.049+0.72)"
      ],
      "execution_count": 0,
      "outputs": [
        {
          "output_type": "execute_result",
          "data": {
            "text/plain": [
              "0.6153076538269134"
            ]
          },
          "metadata": {
            "tags": []
          },
          "execution_count": 37
        }
      ]
    },
    {
      "cell_type": "code",
      "metadata": {
        "id": "X0k8JvC_in7K",
        "colab_type": "code",
        "colab": {}
      },
      "source": [
        "# accuracy = accuracy_score(tfidf_tst, test_df.sentiment)\n",
        "# print('Accuracy: %f' % accuracy)\n",
        "# precision tp / (tp + fp)\n",
        "# precision = precision_score(tfidf_tst, test_df.sentiment)\n",
        "# print('Precision: %f' % precision)\n",
        "\n",
        "# recall: tp / (tp + fn)\n",
        "recall = recall_score(tfidf_tst, test_df.sentiment)\n",
        "print('Recall: %f' % recall)"
      ],
      "execution_count": 0,
      "outputs": []
    },
    {
      "cell_type": "code",
      "metadata": {
        "id": "Hw1xUNSbgqCO",
        "colab_type": "code",
        "outputId": "49c68657-2fe3-4471-9b75-8a8ea4f26d3c",
        "colab": {
          "base_uri": "https://localhost:8080/",
          "height": 85
        }
      },
      "source": [
        "!ls"
      ],
      "execution_count": 0,
      "outputs": [
        {
          "output_type": "stream",
          "text": [
            "'Confusion Matrix (tf_idf).eps'   sample_data\n",
            " model_tf-idf.h5\t\t 'Training and validation accuracy (tf-df).eps'\n",
            "'ROC curve.eps'\t\t\t 'Training and Validation loss (tf-df).eps'\n",
            "'ROC curve (tf_idf).eps'\n"
          ],
          "name": "stdout"
        }
      ]
    },
    {
      "cell_type": "code",
      "metadata": {
        "colab_type": "code",
        "id": "NIXVTijecphQ",
        "colab": {}
      },
      "source": [
        "# files.download('Training and validation accuracy (tf-df).eps')\n",
        "# files.download(\"Training and Validation loss (tf-df).eps\")\n",
        "# files.download(\"ROC curve (tf_idf).eps\")\n",
        "files.download(\"Confusion Matrix (tf_idf).eps\")\n",
        "\n",
        "# files.download('model_tf-idf.h5')"
      ],
      "execution_count": 0,
      "outputs": []
    },
    {
      "cell_type": "markdown",
      "metadata": {
        "id": "OM-fJ6Jd8M9S",
        "colab_type": "text"
      },
      "source": [
        "# Small Example \n",
        "\n",
        "A small example for understanding of how Tokenize work"
      ]
    },
    {
      "cell_type": "markdown",
      "metadata": {
        "id": "qX7tVGgzTVTc",
        "colab_type": "text"
      },
      "source": [
        "### Word level"
      ]
    },
    {
      "cell_type": "code",
      "metadata": {
        "id": "YtsXtMpsTVTc",
        "colab_type": "code",
        "outputId": "b4a2ff6c-a65e-49dc-a439-43e592d1f5c4",
        "colab": {
          "base_uri": "https://localhost:8080/",
          "height": 34
        }
      },
      "source": [
        "samples = ['The cat sat on the mat.', 'The dog ate my homework.']\n",
        "samples_essay= ['Salomon likes to learn new things. Djeff likes that too', \n",
        "            'Salomon also likes to learn Karateka']\n",
        "sample_wiki = [\"John likes to watch movies. Mary likes movies too.\", \n",
        "               \"John also likes to watch football games.\"]\n",
        "\n",
        "sample_presentation =[\"That which we call a rose by any other name would smell as sweet.\",\n",
        "                     \"Good night sweet prince.\",\n",
        "                     \"Parting is such sweet sorrow.\"] \n",
        "\n",
        "\n",
        "tokenizer = Tokenizer()\n",
        "tokenizer.fit_on_texts(samples_essay)\n",
        "sequences = tokenizer.texts_to_sequences(samples_essay)\n",
        "\n",
        "tf_results = tokenizer.texts_to_matrix(samples_essay, mode='freq')\n",
        "tf_idf_results = tokenizer.texts_to_matrix(samples_essay, mode='tfidf')\n",
        "\n",
        "word_index = tokenizer.word_index\n",
        "print('Found %s unique tokens.' % len(word_index))"
      ],
      "execution_count": 0,
      "outputs": [
        {
          "output_type": "stream",
          "text": [
            "Found 11 unique tokens.\n"
          ],
          "name": "stdout"
        }
      ]
    },
    {
      "cell_type": "code",
      "metadata": {
        "id": "iZo8KQmgTVTi",
        "colab_type": "code",
        "outputId": "00af3ec0-b7ee-4323-d7d8-a49c538c4a6a",
        "colab": {
          "base_uri": "https://localhost:8080/",
          "height": 34
        }
      },
      "source": [
        "sequences"
      ],
      "execution_count": 0,
      "outputs": [
        {
          "output_type": "execute_result",
          "data": {
            "text/plain": [
              "[[2, 1, 3, 4, 5, 6, 7, 1, 8, 9], [2, 10, 1, 3, 4, 11]]"
            ]
          },
          "metadata": {
            "tags": []
          },
          "execution_count": 52
        }
      ]
    },
    {
      "cell_type": "code",
      "metadata": {
        "id": "ihAKgohkAB_O",
        "colab_type": "code",
        "outputId": "4aeb8cec-8a9b-483c-ad10-d74afe2943ca",
        "colab": {
          "base_uri": "https://localhost:8080/",
          "height": 34
        }
      },
      "source": [
        "tf=1/6;tf"
      ],
      "execution_count": 0,
      "outputs": [
        {
          "output_type": "execute_result",
          "data": {
            "text/plain": [
              "0.16666666666666666"
            ]
          },
          "metadata": {
            "tags": []
          },
          "execution_count": 53
        }
      ]
    },
    {
      "cell_type": "code",
      "metadata": {
        "id": "kqBGzXha_Woa",
        "colab_type": "code",
        "outputId": "c926ad42-5fc9-4788-a26a-16278f178afe",
        "colab": {
          "base_uri": "https://localhost:8080/",
          "height": 34
        }
      },
      "source": [
        "(tf)*np.log10(2/1)"
      ],
      "execution_count": 0,
      "outputs": [
        {
          "output_type": "execute_result",
          "data": {
            "text/plain": [
              "0.050171665943996864"
            ]
          },
          "metadata": {
            "tags": []
          },
          "execution_count": 49
        }
      ]
    },
    {
      "cell_type": "code",
      "metadata": {
        "id": "WvOnTPHAhc_Z",
        "colab_type": "code",
        "outputId": "95ac7fa9-bfea-4532-a30a-19a3474a4a0c",
        "colab": {
          "base_uri": "https://localhost:8080/",
          "height": 34
        }
      },
      "source": [
        "(1+np.log(1))*np.log(1+(2/(1+1)))"
      ],
      "execution_count": 0,
      "outputs": [
        {
          "output_type": "execute_result",
          "data": {
            "text/plain": [
              "0.6931471805599453"
            ]
          },
          "metadata": {
            "tags": []
          },
          "execution_count": 38
        }
      ]
    },
    {
      "cell_type": "code",
      "metadata": {
        "id": "ql5utR_DTVTs",
        "colab_type": "code",
        "outputId": "9d10d612-ad56-4880-96c9-dac472b4999c",
        "colab": {
          "base_uri": "https://localhost:8080/",
          "height": 272
        }
      },
      "source": [
        "tf_results"
      ],
      "execution_count": 0,
      "outputs": [
        {
          "output_type": "execute_result",
          "data": {
            "text/plain": [
              "array([[0.        , 0.07142857, 0.07142857, 0.07142857, 0.07142857,\n",
              "        0.07142857, 0.07142857, 0.07142857, 0.07142857, 0.07142857,\n",
              "        0.07142857, 0.07142857, 0.07142857, 0.07142857, 0.07142857,\n",
              "        0.        , 0.        , 0.        , 0.        , 0.        ,\n",
              "        0.        , 0.        ],\n",
              "       [0.        , 0.25      , 0.        , 0.        , 0.        ,\n",
              "        0.        , 0.        , 0.        , 0.        , 0.        ,\n",
              "        0.        , 0.        , 0.        , 0.        , 0.        ,\n",
              "        0.25      , 0.25      , 0.25      , 0.        , 0.        ,\n",
              "        0.        , 0.        ],\n",
              "       [0.        , 0.2       , 0.        , 0.        , 0.        ,\n",
              "        0.        , 0.        , 0.        , 0.        , 0.        ,\n",
              "        0.        , 0.        , 0.        , 0.        , 0.        ,\n",
              "        0.        , 0.        , 0.        , 0.2       , 0.2       ,\n",
              "        0.2       , 0.2       ]])"
            ]
          },
          "metadata": {
            "tags": []
          },
          "execution_count": 50
        }
      ]
    },
    {
      "cell_type": "code",
      "metadata": {
        "id": "9mtoGO6SExa9",
        "colab_type": "code",
        "outputId": "a02f89fb-8d99-4d13-92a9-76981fe64b01",
        "colab": {
          "base_uri": "https://localhost:8080/",
          "height": 34
        }
      },
      "source": [
        "sequences\n",
        "np.where()"
      ],
      "execution_count": 0,
      "outputs": [
        {
          "output_type": "execute_result",
          "data": {
            "text/plain": [
              "[[2, 1, 3, 4, 5, 6, 7, 1, 8, 9], [2, 10, 1, 3, 4, 11]]"
            ]
          },
          "metadata": {
            "tags": []
          },
          "execution_count": 66
        }
      ]
    },
    {
      "cell_type": "code",
      "metadata": {
        "id": "aaLyyqR7GIzO",
        "colab_type": "code",
        "outputId": "70f25fbc-6633-4518-d508-96140e00f361",
        "colab": {
          "base_uri": "https://localhost:8080/",
          "height": 34
        }
      },
      "source": [
        "k = sequences[0][0]\n",
        "k in sequences[1]"
      ],
      "execution_count": 0,
      "outputs": [
        {
          "output_type": "execute_result",
          "data": {
            "text/plain": [
              "True"
            ]
          },
          "metadata": {
            "tags": []
          },
          "execution_count": 68
        }
      ]
    },
    {
      "cell_type": "code",
      "metadata": {
        "id": "7MSFo2JYG8Db",
        "colab_type": "code",
        "colab": {}
      },
      "source": [
        "def idf(sequences, tf_results):\n",
        "  tf_idf = np.zeros((len(sequences), tf_results.shape[1]))\n",
        "  for j in range(tf_idf[0]):\n",
        "    for i in range(1, tf_idf[1]):\n",
        "      t\n",
        "  return tf_idf"
      ],
      "execution_count": 0,
      "outputs": []
    },
    {
      "cell_type": "code",
      "metadata": {
        "id": "HxlQaMrOC6Zx",
        "colab_type": "code",
        "outputId": "47bd0443-579f-449d-b321-77cf5f6cc32b",
        "colab": {
          "base_uri": "https://localhost:8080/",
          "height": 51
        }
      },
      "source": [
        "def tf_idf(sequences, tf_results):\n",
        "  tf_idf = np.zeros((len(sequences), tf_results.shape[1]))\n",
        "  for j in range(tf_idf[0]):\n",
        "    for i in range(1, tf_idf[1]):\n",
        "      t\n",
        "  return tf_idf\n",
        "\n",
        "tf_idf(sequences, tf_results)"
      ],
      "execution_count": 0,
      "outputs": [
        {
          "output_type": "execute_result",
          "data": {
            "text/plain": [
              "array([[0., 0., 0., 0., 0., 0., 0., 0., 0., 0., 0., 0.],\n",
              "       [0., 0., 0., 0., 0., 0., 0., 0., 0., 0., 0., 0.]])"
            ]
          },
          "metadata": {
            "tags": []
          },
          "execution_count": 57
        }
      ]
    },
    {
      "cell_type": "code",
      "metadata": {
        "id": "goxDZCpLaDOS",
        "colab_type": "code",
        "outputId": "553c5d76-c342-4ddb-ff7d-5db7a0807d4a",
        "colab": {
          "base_uri": "https://localhost:8080/",
          "height": 34
        }
      },
      "source": [
        "np.log10(3/1)"
      ],
      "execution_count": 0,
      "outputs": [
        {
          "output_type": "execute_result",
          "data": {
            "text/plain": [
              "0.47712125471966244"
            ]
          },
          "metadata": {
            "tags": []
          },
          "execution_count": 16
        }
      ]
    },
    {
      "cell_type": "code",
      "metadata": {
        "id": "ksap1NdG6YtI",
        "colab_type": "code",
        "outputId": "583b45ae-b7a5-4c9a-e6d4-4b38703a8541",
        "colab": {
          "base_uri": "https://localhost:8080/",
          "height": 272
        }
      },
      "source": [
        "tf_idf_results"
      ],
      "execution_count": 0,
      "outputs": [
        {
          "output_type": "execute_result",
          "data": {
            "text/plain": [
              "array([[0.        , 0.55961579, 0.91629073, 0.91629073, 0.91629073,\n",
              "        0.91629073, 0.91629073, 0.91629073, 0.91629073, 0.91629073,\n",
              "        0.91629073, 0.91629073, 0.91629073, 0.91629073, 0.91629073,\n",
              "        0.        , 0.        , 0.        , 0.        , 0.        ,\n",
              "        0.        , 0.        ],\n",
              "       [0.        , 0.55961579, 0.        , 0.        , 0.        ,\n",
              "        0.        , 0.        , 0.        , 0.        , 0.        ,\n",
              "        0.        , 0.        , 0.        , 0.        , 0.        ,\n",
              "        0.91629073, 0.91629073, 0.91629073, 0.        , 0.        ,\n",
              "        0.        , 0.        ],\n",
              "       [0.        , 0.55961579, 0.        , 0.        , 0.        ,\n",
              "        0.        , 0.        , 0.        , 0.        , 0.        ,\n",
              "        0.        , 0.        , 0.        , 0.        , 0.        ,\n",
              "        0.        , 0.        , 0.        , 0.91629073, 0.91629073,\n",
              "        0.91629073, 0.91629073]])"
            ]
          },
          "metadata": {
            "tags": []
          },
          "execution_count": 12
        }
      ]
    },
    {
      "cell_type": "code",
      "metadata": {
        "id": "CQAArTtwTVTw",
        "colab_type": "code",
        "outputId": "f49c7fed-b680-47f0-9551-a803f419557d",
        "colab": {
          "base_uri": "https://localhost:8080/",
          "height": 34
        }
      },
      "source": [
        "len(word_index)"
      ],
      "execution_count": 0,
      "outputs": [
        {
          "output_type": "execute_result",
          "data": {
            "text/plain": [
              "21"
            ]
          },
          "metadata": {
            "tags": []
          },
          "execution_count": 18
        }
      ]
    },
    {
      "cell_type": "code",
      "metadata": {
        "id": "nVnGG5V-ZFjd",
        "colab_type": "code",
        "outputId": "d4270d81-8d65-4ce1-c3e7-e0d2cc147a2f",
        "colab": {
          "base_uri": "https://localhost:8080/",
          "height": 374
        }
      },
      "source": [
        "word_index"
      ],
      "execution_count": 0,
      "outputs": [
        {
          "output_type": "execute_result",
          "data": {
            "text/plain": [
              "{'a': 6,\n",
              " 'any': 9,\n",
              " 'as': 14,\n",
              " 'by': 8,\n",
              " 'call': 5,\n",
              " 'good': 15,\n",
              " 'is': 19,\n",
              " 'name': 11,\n",
              " 'night': 16,\n",
              " 'other': 10,\n",
              " 'parting': 18,\n",
              " 'prince': 17,\n",
              " 'rose': 7,\n",
              " 'smell': 13,\n",
              " 'sorrow': 21,\n",
              " 'such': 20,\n",
              " 'sweet': 1,\n",
              " 'that': 2,\n",
              " 'we': 4,\n",
              " 'which': 3,\n",
              " 'would': 12}"
            ]
          },
          "metadata": {
            "tags": []
          },
          "execution_count": 14
        }
      ]
    },
    {
      "cell_type": "code",
      "metadata": {
        "id": "B7yxjO3BmvJu",
        "colab_type": "code",
        "outputId": "c8f21b75-d6ca-4f45-aad6-a74b2eb9b342",
        "colab": {
          "base_uri": "https://localhost:8080/",
          "height": 34
        }
      },
      "source": [
        "bag_of_word_results.shape"
      ],
      "execution_count": 0,
      "outputs": [
        {
          "output_type": "execute_result",
          "data": {
            "text/plain": [
              "(2, 12)"
            ]
          },
          "metadata": {
            "tags": []
          },
          "execution_count": 36
        }
      ]
    },
    {
      "cell_type": "code",
      "metadata": {
        "id": "zBg9HucJTVT5",
        "colab_type": "code",
        "colab": {}
      },
      "source": [
        "from __future__ import absolute_import\n",
        "from __future__ import division\n",
        "from __future__ import print_function\n",
        "\n",
        "import string\n",
        "import sys\n",
        "import warnings\n",
        "from collections import OrderedDict\n",
        "from collections import defaultdict\n",
        "from hashlib import md5\n",
        "import json\n",
        "\n",
        "import numpy as np\n",
        "from six.moves import range\n",
        "from six.moves import zip"
      ],
      "execution_count": 0,
      "outputs": []
    },
    {
      "cell_type": "code",
      "metadata": {
        "id": "Jos-AcqTiCBA",
        "colab_type": "code",
        "outputId": "e8584321-200c-4081-8060-dc5a14b0f4d1",
        "colab": {
          "base_uri": "https://localhost:8080/",
          "height": 272
        }
      },
      "source": [
        "num_words = len(word_index) + 1\n",
        "x = np.zeros((len(sequences), num_words))\n",
        "for i, seq in enumerate(sequences):\n",
        "  if not seq:\n",
        "    continue\n",
        "  counts = defaultdict(int)\n",
        "  for j in seq:\n",
        "    if j >= num_words:\n",
        "      continue\n",
        "    counts[j] += 1\n",
        "  for j, c in list(counts.items()):\n",
        "#     x[i][j] = c / len(seq) # For term frequency\n",
        "    tf = 1 + np.log(c)\n",
        "#     idf = np.log(1 + self.document_count /\n",
        "#                  (1 + self.index_docs.get(j, 0)))\n",
        "    idf = np.log(1 + 3 /\n",
        "                 (1 + 3))\n",
        "    x[i][j] = tf * idf\n",
        "    \n",
        "x"
      ],
      "execution_count": 0,
      "outputs": [
        {
          "output_type": "execute_result",
          "data": {
            "text/plain": [
              "array([[0.        , 0.55961579, 0.55961579, 0.55961579, 0.55961579,\n",
              "        0.55961579, 0.55961579, 0.55961579, 0.55961579, 0.55961579,\n",
              "        0.55961579, 0.55961579, 0.55961579, 0.55961579, 0.55961579,\n",
              "        0.        , 0.        , 0.        , 0.        , 0.        ,\n",
              "        0.        , 0.        ],\n",
              "       [0.        , 0.55961579, 0.        , 0.        , 0.        ,\n",
              "        0.        , 0.        , 0.        , 0.        , 0.        ,\n",
              "        0.        , 0.        , 0.        , 0.        , 0.        ,\n",
              "        0.55961579, 0.55961579, 0.55961579, 0.        , 0.        ,\n",
              "        0.        , 0.        ],\n",
              "       [0.        , 0.55961579, 0.        , 0.        , 0.        ,\n",
              "        0.        , 0.        , 0.        , 0.        , 0.        ,\n",
              "        0.        , 0.        , 0.        , 0.        , 0.        ,\n",
              "        0.        , 0.        , 0.        , 0.55961579, 0.55961579,\n",
              "        0.55961579, 0.55961579]])"
            ]
          },
          "metadata": {
            "tags": []
          },
          "execution_count": 33
        }
      ]
    },
    {
      "cell_type": "code",
      "metadata": {
        "id": "K4llNFfhib1L",
        "colab_type": "code",
        "outputId": "e19c5326-223c-4106-dd08-63c5f2e2334b",
        "colab": {
          "base_uri": "https://localhost:8080/",
          "height": 34
        }
      },
      "source": [
        "counts = defaultdict(int)\n",
        "counts[12] += 1\n",
        "counts"
      ],
      "execution_count": 0,
      "outputs": [
        {
          "output_type": "execute_result",
          "data": {
            "text/plain": [
              "defaultdict(int, {12: 1})"
            ]
          },
          "metadata": {
            "tags": []
          },
          "execution_count": 27
        }
      ]
    },
    {
      "cell_type": "code",
      "metadata": {
        "id": "IEdjlGyxh_je",
        "colab_type": "code",
        "colab": {}
      },
      "source": [
        "        for i, seq in enumerate(sequences):\n",
        "            if not seq:\n",
        "                continue\n",
        "            counts = defaultdict(int)\n",
        "            for j in seq:\n",
        "                if j >= num_words:\n",
        "                    continue\n",
        "                counts[j] += 1\n",
        "            for j, c in list(counts.items()):\n",
        "                if mode == 'count':\n",
        "                    x[i][j] = c\n",
        "                elif mode == 'freq':\n",
        "                    x[i][j] = c / len(seq)\n",
        "                elif mode == 'binary':\n",
        "                    x[i][j] = 1\n",
        "                elif mode == 'tfidf':\n",
        "                    # Use weighting scheme 2 in\n",
        "                    # https://en.wikipedia.org/wiki/Tf%E2%80%93idf\n",
        "                    tf = 1 + np.log(c)\n",
        "                    idf = np.log(1 + self.document_count /\n",
        "                                 (1 + self.index_docs.get(j, 0)))\n",
        "                    x[i][j] = tf * idf\n",
        "                else:\n",
        "                    raise ValueError('Unknown vectorization mode:', mode)\n",
        "        return x"
      ],
      "execution_count": 0,
      "outputs": []
    },
    {
      "cell_type": "markdown",
      "metadata": {
        "id": "TDMlZgF6TVUC",
        "colab_type": "text"
      },
      "source": [
        "### Caracter level"
      ]
    },
    {
      "cell_type": "code",
      "metadata": {
        "id": "TRkeYOnQTVUC",
        "colab_type": "code",
        "outputId": "14cfbcae-163f-4ff8-96ca-7a40dcf2cae9",
        "colab": {}
      },
      "source": [
        "samples = ['The cat sat on the mat.', 'The dog ate my homework.']\n",
        "\n",
        "tokenizer = Tokenizer(char_level=True)\n",
        "tokenizer.fit_on_texts(samples)\n",
        "sequences = tokenizer.texts_to_sequences(samples)\n",
        "one_hot_results = tokenizer.texts_to_matrix(samples, mode='binary')\n",
        "word_index = tokenizer.word_index\n",
        "print('Found %s unique tokens.' % len(word_index))"
      ],
      "execution_count": 0,
      "outputs": [
        {
          "output_type": "stream",
          "text": [
            "Found 17 unique tokens.\n"
          ],
          "name": "stdout"
        }
      ]
    },
    {
      "cell_type": "code",
      "metadata": {
        "id": "4ueFpMk-TVUJ",
        "colab_type": "code",
        "outputId": "30971c86-5a57-43a0-ae2a-21148cd6ebf0",
        "colab": {}
      },
      "source": [
        "sequences"
      ],
      "execution_count": 0,
      "outputs": [
        {
          "output_type": "execute_result",
          "data": {
            "text/plain": [
              "[[2, 4, 3, 1, 9, 5, 2, 1, 10, 5, 2, 1, 6, 11, 1, 2, 4, 3, 1, 7, 5, 2, 8],\n",
              " [2,\n",
              "  4,\n",
              "  3,\n",
              "  1,\n",
              "  12,\n",
              "  6,\n",
              "  13,\n",
              "  1,\n",
              "  5,\n",
              "  2,\n",
              "  3,\n",
              "  1,\n",
              "  7,\n",
              "  14,\n",
              "  1,\n",
              "  4,\n",
              "  6,\n",
              "  7,\n",
              "  3,\n",
              "  15,\n",
              "  6,\n",
              "  16,\n",
              "  17,\n",
              "  8]]"
            ]
          },
          "metadata": {
            "tags": []
          },
          "execution_count": 64
        }
      ]
    },
    {
      "cell_type": "code",
      "metadata": {
        "id": "4ZD-661eTVUP",
        "colab_type": "code",
        "outputId": "d4b02f32-c012-4186-ef48-e4ae27a282a7",
        "colab": {}
      },
      "source": [
        "one_hot_results"
      ],
      "execution_count": 0,
      "outputs": [
        {
          "output_type": "execute_result",
          "data": {
            "text/plain": [
              "array([[0., 1., 1., 1., 1., 1., 1., 1., 1., 1., 1., 1., 0., 0., 0., 0.,\n",
              "        0., 0.],\n",
              "       [0., 1., 1., 1., 1., 1., 1., 1., 1., 0., 0., 0., 1., 1., 1., 1.,\n",
              "        1., 1.]])"
            ]
          },
          "metadata": {
            "tags": []
          },
          "execution_count": 65
        }
      ]
    },
    {
      "cell_type": "code",
      "metadata": {
        "id": "TcZJ3rvkTVUU",
        "colab_type": "code",
        "outputId": "0df8cb2d-ebe2-4603-880a-f7d4d2438653",
        "colab": {}
      },
      "source": [
        "word_index"
      ],
      "execution_count": 0,
      "outputs": [
        {
          "output_type": "execute_result",
          "data": {
            "text/plain": [
              "{' ': 1,\n",
              " 't': 2,\n",
              " 'e': 3,\n",
              " 'h': 4,\n",
              " 'a': 5,\n",
              " 'o': 6,\n",
              " 'm': 7,\n",
              " '.': 8,\n",
              " 'c': 9,\n",
              " 's': 10,\n",
              " 'n': 11,\n",
              " 'd': 12,\n",
              " 'g': 13,\n",
              " 'y': 14,\n",
              " 'w': 15,\n",
              " 'r': 16,\n",
              " 'k': 17}"
            ]
          },
          "metadata": {
            "tags": []
          },
          "execution_count": 66
        }
      ]
    },
    {
      "cell_type": "markdown",
      "metadata": {
        "id": "B5TYHJG7TVUX",
        "colab_type": "text"
      },
      "source": [
        "##  hashing trick"
      ]
    },
    {
      "cell_type": "code",
      "metadata": {
        "id": "x1R0Uvd2TVUY",
        "colab_type": "code",
        "colab": {}
      },
      "source": [
        "samples = ['The cat sat on the mat.', 'The dog ate my homework.']\n",
        "\n",
        "dimensionality = 1000\n",
        "max_length = 10\n",
        "\n",
        "results = np.zeros((len(samples), max_length, dimensionality))\n",
        "for i, sample in enumerate(samples):\n",
        "    for j, word in list(enumerate(sample.split()))[:max_length]:\n",
        "#         Hashes the word into a \n",
        "#         random integer index \n",
        "#         between 0 and 1,000\n",
        "        index = abs(hash(word)) % dimensionality\n",
        "        results[i, j, index] = 1."
      ],
      "execution_count": 0,
      "outputs": []
    },
    {
      "cell_type": "markdown",
      "metadata": {
        "id": "nY-nPjpa4wDr",
        "colab_type": "text"
      },
      "source": [
        "\n",
        "# <h2>About the Authors:</h2> \n",
        "\n",
        "<a href=\"https://salomonkabongo.wixsite.com/datascientist\">Salomon Kabongo KABENAMUALU</a>, Master degree student at <a href=\"https://aims.ac.za/\">the African Institute for mathematical SCiences (AIMS South Africa)</a> his research focused on the use machine learning technique in the field of Natural Language Processing."
      ]
    },
    {
      "cell_type": "markdown",
      "metadata": {
        "id": "xDX0h3pa4wDt",
        "colab_type": "text"
      },
      "source": [
        "References : <a href=\"https://machinelearningmastery.com/deep-learning-bag-of-words-model-sentiment-analysis/\"> How to Develop a Deep Learning Bag-of-Words Model for Predicting Movie Review Sentiment</a>"
      ]
    },
    {
      "cell_type": "markdown",
      "metadata": {
        "id": "RdkZJcdh4wDu",
        "colab_type": "text"
      },
      "source": [
        "Copyright &copy; 2019. This notebook and its source code are released under the terms of the <a href=\"https://www.apache.org/licenses/LICENSE-2.0\">Apache License 2.0</a>."
      ]
    }
  ]
}