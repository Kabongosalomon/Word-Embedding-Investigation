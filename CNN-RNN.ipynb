{
 "cells": [
  {
   "cell_type": "markdown",
   "metadata": {},
   "source": [
    "# Convolution Neural Network (CNN)"
   ]
  },
  {
   "cell_type": "markdown",
   "metadata": {},
   "source": [
    "We will use the MNIST \n",
    "data (i.e., a collection of images with handwritten digits). The objective \n",
    "would be to classify the image as one of the digits from [0,1,2,3,4,5,6,7,8,9]. "
   ]
  },
  {
   "cell_type": "code",
   "execution_count": 1,
   "metadata": {},
   "outputs": [
    {
     "name": "stderr",
     "output_type": "stream",
     "text": [
      "Using TensorFlow backend.\n"
     ]
    }
   ],
   "source": [
    "#Importing the necessary packages\n",
    "import numpy as np\n",
    "import matplotlib.pyplot as plt\n",
    "from keras.datasets import mnist\n",
    "from keras.models import Sequential\n",
    "from keras.layers import Dense, Dropout, Flatten\n",
    "\n",
    "#Importing the CNN related layers as described in Chapter 2\n",
    "from keras.layers.convolutional import Conv2D, MaxPooling2D\n",
    "from keras.utils import np_utils"
   ]
  },
  {
   "cell_type": "code",
   "execution_count": 2,
   "metadata": {},
   "outputs": [
    {
     "name": "stdout",
     "output_type": "stream",
     "text": [
      "Downloading data from https://s3.amazonaws.com/img-datasets/mnist.npz\n",
      "11493376/11490434 [==============================] - 76s 7us/step\n",
      "Training Samples: 60000\n",
      "Testing Samples: 10000\n",
      "Height: 28 x Width:28\n"
     ]
    }
   ],
   "source": [
    "#Loading data from Keras datasets\n",
    "(x_train, y_train), (x_test, y_test) = mnist.load_data()\n",
    "#Defining the height and weight and number of samples\n",
    "#Each Image is a 28 x 28 with 1 channel matrix\n",
    "training_samples, height, width = x_train.shape\n",
    "testing_samples,_,_ = x_test.shape\n",
    "print(\"Training Samples:\",training_samples)\n",
    "print(\"Testing Samples:\",testing_samples)\n",
    "print(\"Height: \"+str(height)+\" x Width:\"+ str(width))"
   ]
  },
  {
   "cell_type": "code",
   "execution_count": 5,
   "metadata": {},
   "outputs": [
    {
     "data": {
      "text/plain": [
       "<matplotlib.image.AxesImage at 0x1b0b08e75f8>"
      ]
     },
     "execution_count": 5,
     "metadata": {},
     "output_type": "execute_result"
    },
    {
     "data": {
      "image/png": "[encoded data removed]",
      "text/plain": [
       "<Figure size 432x288 with 1 Axes>"
      ]
     },
     "metadata": {
      "needs_background": "light"
     },
     "output_type": "display_data"
    }
   ],
   "source": [
    "#Lets have a look at a sample image in the training data\n",
    "plt.imshow(x_train[0],cmap='gray', interpolation='none')"
   ]
  },
  {
   "cell_type": "code",
   "execution_count": 8,
   "metadata": {},
   "outputs": [],
   "source": [
    "# We now have to engineer the image data into the right form\n",
    "# For CNN, we would need the data in Height x Width X Channels \n",
    "# form Since the image is in grayscale, we will use channel = 1\n",
    "channel =1\n",
    "x_train = x_train.reshape(training_samples, \n",
    "                          height,width,channel).astype('float32')\n",
    "x_test = x_test.reshape(testing_samples, \n",
    "                        height, width,channel).astype('float32')"
   ]
  },
  {
   "cell_type": "code",
   "execution_count": 10,
   "metadata": {},
   "outputs": [],
   "source": [
    "# To improve the training process, we would need to standardize \n",
    "# or normalize the values We can achieve this using a simple\n",
    "# divide by 256 for all values\n",
    "\n",
    "x_train = x_train/255\n",
    "x_test =x_test/255\n",
    "\n",
    "#Total number of digits  =10\n",
    "target_classes = 10\n",
    "# numbers 0-9, so ten classes\n",
    "n_classes = 10\n",
    "# convert integer labels into one-hot vectors\n",
    "y_train = np_utils.to_categorical(y_train, n_classes)\n",
    "y_test = np_utils.to_categorical(y_test, n_classes)"
   ]
  },
  {
   "cell_type": "code",
   "execution_count": 11,
   "metadata": {},
   "outputs": [
    {
     "name": "stdout",
     "output_type": "stream",
     "text": [
      "WARNING:tensorflow:From C:\\Users\\kabon\\AppData\\Local\\conda\\conda\\envs\\aims\\lib\\site-packages\\tensorflow\\python\\framework\\op_def_library.py:263: colocate_with (from tensorflow.python.framework.ops) is deprecated and will be removed in a future version.\n",
      "Instructions for updating:\n",
      "Colocations handled automatically by placer.\n",
      "WARNING:tensorflow:From C:\\Users\\kabon\\AppData\\Local\\conda\\conda\\envs\\aims\\lib\\site-packages\\keras\\backend\\tensorflow_backend.py:3445: calling dropout (from tensorflow.python.ops.nn_ops) with keep_prob is deprecated and will be removed in a future version.\n",
      "Instructions for updating:\n",
      "Please use `rate` instead of `keep_prob`. Rate should be set to `rate = 1 - keep_prob`.\n"
     ]
    }
   ],
   "source": [
    "#Designing the CNN Model\n",
    "model = Sequential()\n",
    "model.add(Conv2D(64, (5, 5), input_shape=(height,width ,1), \n",
    "activation='relu'))\n",
    "model.add(MaxPooling2D(pool_size=(2, 2)))\n",
    "model.add(Conv2D(64, (3, 3), activation='relu'))\n",
    "model.add(MaxPooling2D(pool_size=(2, 2)))\n",
    "model.add(Dropout(0.25))\n",
    "model.add(Flatten())\n",
    "model.add(Dense(128, activation='relu'))\n",
    "model.add(Dense(n_classes, activation='softmax'))"
   ]
  },
  {
   "cell_type": "code",
   "execution_count": 12,
   "metadata": {},
   "outputs": [
    {
     "name": "stdout",
     "output_type": "stream",
     "text": [
      "WARNING:tensorflow:From C:\\Users\\kabon\\AppData\\Local\\conda\\conda\\envs\\aims\\lib\\site-packages\\tensorflow\\python\\ops\\math_ops.py:3066: to_int32 (from tensorflow.python.ops.math_ops) is deprecated and will be removed in a future version.\n",
      "Instructions for updating:\n",
      "Use tf.cast instead.\n",
      "Train on 60000 samples, validate on 10000 samples\n",
      "Epoch 1/10\n",
      "60000/60000 [==============================] - 114s 2ms/step - loss: 1.1085 - acc: 0.6369 - val_loss: 0.4134 - val_acc: 0.8731\n",
      "Epoch 2/10\n",
      "60000/60000 [==============================] - 109s 2ms/step - loss: 0.4071 - acc: 0.8739 - val_loss: 0.2797 - val_acc: 0.9178\n",
      "Epoch 3/10\n",
      "60000/60000 [==============================] - 27542s 459ms/step - loss: 0.2972 - acc: 0.9086 - val_loss: 0.2042 - val_acc: 0.9398\n",
      "Epoch 4/10\n",
      "60000/60000 [==============================] - 108s 2ms/step - loss: 0.2303 - acc: 0.9293 - val_loss: 0.1604 - val_acc: 0.9532\n",
      "Epoch 5/10\n",
      "60000/60000 [==============================] - 167s 3ms/step - loss: 0.1875 - acc: 0.9424 - val_loss: 0.1380 - val_acc: 0.9592\n",
      "Epoch 6/10\n",
      "60000/60000 [==============================] - 175s 3ms/step - loss: 0.1577 - acc: 0.9522 - val_loss: 0.1078 - val_acc: 0.9670\n",
      "Epoch 7/10\n",
      "60000/60000 [==============================] - 130s 2ms/step - loss: 0.1353 - acc: 0.9584 - val_loss: 0.0953 - val_acc: 0.9692\n",
      "Epoch 8/10\n",
      "60000/60000 [==============================] - 124s 2ms/step - loss: 0.1179 - acc: 0.9638 - val_loss: 0.0856 - val_acc: 0.9717\n",
      "Epoch 9/10\n",
      "60000/60000 [==============================] - 125s 2ms/step - loss: 0.1076 - acc: 0.9671 - val_loss: 0.0733 - val_acc: 0.9765\n",
      "Epoch 10/10\n",
      "60000/60000 [==============================] - 124s 2ms/step - loss: 0.0965 - acc: 0.9694 - val_loss: 0.0638 - val_acc: 0.9792\n"
     ]
    },
    {
     "data": {
      "text/plain": [
       "<keras.callbacks.History at 0x1b0ab3507f0>"
      ]
     },
     "execution_count": 12,
     "metadata": {},
     "output_type": "execute_result"
    }
   ],
   "source": [
    "# Compile model\n",
    "model.compile(loss='categorical_crossentropy', \n",
    "optimizer='adam', metrics=['accuracy'])\n",
    "# Fit the model\n",
    "model.fit(x_train, y_train, validation_data=(x_test, y_test), \n",
    "epochs=10, batch_size=200)"
   ]
  },
  {
   "cell_type": "code",
   "execution_count": 13,
   "metadata": {},
   "outputs": [
    {
     "name": "stdout",
     "output_type": "stream",
     "text": [
      "loss = 0.06376617557471619\n",
      "acc = 0.9792\n"
     ]
    }
   ],
   "source": [
    "metrics = model.evaluate(x_test, y_test, verbose=0)\n",
    "for i in range(0,len(model.metrics_names)):\n",
    "    print(str(model.metrics_names[i])+\" = \"+str(metrics[i]))"
   ]
  },
  {
   "cell_type": "markdown",
   "metadata": {},
   "source": [
    "# RNN"
   ]
  },
  {
   "cell_type": "markdown",
   "metadata": {},
   "source": [
    "popularly known as “sequence models.” This name became popular \n",
    "because RNN makes use of sequential information. So far, all the DNNs \n",
    "that we have explored process training data with the assumption that \n",
    "there is no relationship between any two training samples. However, this \n",
    "is an issue for many problems that we can solve using data. Consider \n",
    "the predictive text feature in your iOS or Android phone; the prediction \n",
    "of the next word is highly dependent on the last few words you already \n",
    "typed. That’s where the sequential model comes into the picture. RNNs \n",
    "can also be understood as neural networks with memory. It connects \n",
    "a layer to itself and thereby gets simultaneous access to two or more \n",
    "consecutive input samples to process the end output. This property is \n",
    "unique to RNN, and with its rise in research, it delivered amazing success \n",
    "in the field of natural language understanding. All the legacy natural \n",
    "language processing techniques could now be significantly improved \n",
    "with RNNs. The rise of chatbots, improved autocorrect in text messaging, \n",
    "suggested reply in e-mail clients and other apps, and machine translation \n",
    "(i.e., translating text from a source language to a target language, Google \n",
    "Translate being the classic example) have all been propelled with the adoption of RNN. There are again different types of LSTM (long short-term \n",
    "memory) networks that overcome the limitations within the existing RNN \n",
    "architecture and take performance for natural language processing–related \n",
    "tasks a notch higher. The most popular versions of RNN are LSTM and \n",
    "GRU (gated recurrent unit) networks."
   ]
  },
  {
   "cell_type": "markdown",
   "metadata": {},
   "source": [
    "we will have a look at a simple (hello \n",
    "world equivalent) sample implementation for RNN/LSTM networks. \n",
    "The following code snippet performs a binary classification on the IMDB \n",
    "reviews dataset within Keras. It is a use case where we are provided with \n",
    "user reviews (text date) and an associated outcome as Positive or Negative."
   ]
  },
  {
   "cell_type": "code",
   "execution_count": 1,
   "metadata": {},
   "outputs": [
    {
     "name": "stderr",
     "output_type": "stream",
     "text": [
      "Using TensorFlow backend.\n"
     ]
    }
   ],
   "source": [
    "#Import the necessary packages\n",
    "from keras.datasets import imdb\n",
    "from keras.models import Sequential\n",
    "from keras.layers import Dense, LSTM\n",
    "from keras.layers.embeddings import Embedding\n",
    "from keras.preprocessing import sequence"
   ]
  },
  {
   "cell_type": "code",
   "execution_count": 2,
   "metadata": {},
   "outputs": [],
   "source": [
    "#Setting a max cap for the number of distinct words\n",
    "top_words = 5000\n",
    "#Loading the training and test data from keras datasets\n",
    "(x_train, y_train), (x_test, y_test) = imdb.load_data(num_words = top_words)\n",
    "\n",
    "#Since the length of each text will be varying\n",
    "#We will pad the sequences (i.e. text) to get a uniform length \n",
    "# throughout\n",
    "max_text_length = 500\n",
    "\n",
    "x_train = sequence.pad_sequences(x_train, maxlen=max_text_length)\n",
    "x_test = sequence.pad_sequences(x_test, maxlen=max_text_length)"
   ]
  },
  {
   "cell_type": "code",
   "execution_count": 4,
   "metadata": {},
   "outputs": [
    {
     "name": "stdout",
     "output_type": "stream",
     "text": [
      "WARNING:tensorflow:From C:\\Users\\kabon\\AppData\\Local\\conda\\conda\\envs\\aims\\lib\\site-packages\\tensorflow\\python\\framework\\op_def_library.py:263: colocate_with (from tensorflow.python.framework.ops) is deprecated and will be removed in a future version.\n",
      "Instructions for updating:\n",
      "Colocations handled automatically by placer.\n"
     ]
    }
   ],
   "source": [
    "#Design the network\n",
    "embedding_length = 32\n",
    "\n",
    "model = Sequential()\n",
    "\n",
    "model.add(Embedding(top_words, \n",
    "                    embedding_length, \n",
    "                    input_length=max_text_length))\n",
    "model.add(LSTM(100))\n",
    "model.add(Dense(1, activation='sigmoid'))"
   ]
  },
  {
   "cell_type": "code",
   "execution_count": 5,
   "metadata": {},
   "outputs": [
    {
     "name": "stdout",
     "output_type": "stream",
     "text": [
      "WARNING:tensorflow:From C:\\Users\\kabon\\AppData\\Local\\conda\\conda\\envs\\aims\\lib\\site-packages\\tensorflow\\python\\ops\\math_ops.py:3066: to_int32 (from tensorflow.python.ops.math_ops) is deprecated and will be removed in a future version.\n",
      "Instructions for updating:\n",
      "Use tf.cast instead.\n",
      "Train on 25000 samples, validate on 25000 samples\n",
      "Epoch 1/3\n",
      "25000/25000 [==============================] - 376s 15ms/step - loss: 0.5083 - acc: 0.7461 - val_loss: 0.5600 - val_acc: 0.7079\n",
      "Epoch 2/3\n",
      "25000/25000 [==============================] - 406s 16ms/step - loss: 0.4421 - acc: 0.7877 - val_loss: 0.4030 - val_acc: 0.8184\n",
      "Epoch 3/3\n",
      "25000/25000 [==============================] - 384s 15ms/step - loss: 0.2885 - acc: 0.8829 - val_loss: 0.3247 - val_acc: 0.8652\n"
     ]
    },
    {
     "data": {
      "text/plain": [
       "<keras.callbacks.History at 0x2885b0eb208>"
      ]
     },
     "execution_count": 5,
     "metadata": {},
     "output_type": "execute_result"
    }
   ],
   "source": [
    "#Compile the  model\n",
    "model.compile(loss='binary_crossentropy', \n",
    "              optimizer='adam', \n",
    "              metrics=['accuracy'])\n",
    "\n",
    "#Fit the model\n",
    "model.fit(x_train, y_train, \n",
    "          validation_data=(x_test, y_test),\n",
    "          epochs=3, batch_size=64)"
   ]
  },
  {
   "cell_type": "code",
   "execution_count": 6,
   "metadata": {},
   "outputs": [
    {
     "name": "stdout",
     "output_type": "stream",
     "text": [
      "Accuracy: 0.86524\n"
     ]
    }
   ],
   "source": [
    "scores = model.evaluate(x_test, y_test, verbose=0)\n",
    "print(\"Accuracy:\",scores[1])"
   ]
  },
  {
   "cell_type": "code",
   "execution_count": null,
   "metadata": {},
   "outputs": [],
   "source": []
  }
 ],
 "metadata": {
  "kernelspec": {
   "display_name": "Python 3.6 (AIMS SA)",
   "language": "python",
   "name": "aims"
  },
  "language_info": {
   "codemirror_mode": {
    "name": "ipython",
    "version": 3
   },
   "file_extension": ".py",
   "mimetype": "text/x-python",
   "name": "python",
   "nbconvert_exporter": "python",
   "pygments_lexer": "ipython3",
   "version": "3.6.7"
  }
 },
 "nbformat": 4,
 "nbformat_minor": 2
}
