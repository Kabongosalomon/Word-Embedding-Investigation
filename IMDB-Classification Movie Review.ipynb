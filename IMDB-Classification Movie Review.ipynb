{
 "cells": [
  {
   "cell_type": "markdown",
   "metadata": {},
   "source": [
    "# The IMDB dataset"
   ]
  },
  {
   "cell_type": "markdown",
   "metadata": {},
   "source": [
    "Two-class classification, or binary classification, may be the most widely applied kind of\n",
    "machine-learning  problem.  In  this  example,  you’ll  learn  to  classify  movie  reviews  as\n",
    "positive or negative, based on the text content of the reviews."
   ]
  },
  {
   "cell_type": "markdown",
   "metadata": {},
   "source": [
    "The IMDB dataset: a set of 50,000 highly polarized reviews from the\n",
    "Internet  Movie  Database.  They’re  split  into  25,000  reviews  for  training  and  25,000\n",
    "reviews for testing, each set consisting of 50% negative and 50% positive reviews."
   ]
  },
  {
   "cell_type": "code",
   "execution_count": 1,
   "metadata": {},
   "outputs": [
    {
     "name": "stderr",
     "output_type": "stream",
     "text": [
      "Using TensorFlow backend.\n"
     ]
    }
   ],
   "source": [
    "from keras.datasets import imdb\n",
    "#Import required packages\n",
    "from keras.models import Sequential\n",
    "from keras.layers import Dense\n",
    "import numpy as np\n",
    "import ipdb # deb"
   ]
  },
  {
   "cell_type": "code",
   "execution_count": 20,
   "metadata": {},
   "outputs": [],
   "source": [
    "(train_data, train_labels), (test_data, test_labels) = imdb.load_data(\n",
    "    path=\"imdb.npz\", num_words=10000, skip_top=0,\n",
    "    maxlen=None, seed=113, start_char=1, oov_char=2,index_from=3)"
   ]
  },
  {
   "cell_type": "code",
   "execution_count": 22,
   "metadata": {},
   "outputs": [
    {
     "data": {
      "text/plain": [
       "[1, 14, 22, 16, 43, 530, 973, 1622, 1385, 65]"
      ]
     },
     "execution_count": 22,
     "metadata": {},
     "output_type": "execute_result"
    }
   ],
   "source": [
    "train_data[0][:10]"
   ]
  },
  {
   "cell_type": "code",
   "execution_count": 24,
   "metadata": {},
   "outputs": [
    {
     "data": {
      "text/plain": [
       "list"
      ]
     },
     "execution_count": 24,
     "metadata": {},
     "output_type": "execute_result"
    }
   ],
   "source": [
    "type(train_data[0])"
   ]
  },
  {
   "cell_type": "markdown",
   "metadata": {},
   "source": [
    "The argument $num\\_words=1000$ means  you’ll  only  keep  the  top  $10,000$  most frequently  occurring  words  in  the  training  data.  Rare  words  will  be  discarded.  This allows you to work with vector data of manageable size."
   ]
  },
  {
   "cell_type": "code",
   "execution_count": 25,
   "metadata": {},
   "outputs": [
    {
     "name": "stdout",
     "output_type": "stream",
     "text": [
      "Type of the Dataset: <class 'numpy.ndarray'>\n",
      "Shape of training data : (25000,)\n",
      "Shape of training labels : (25000,)\n",
      "Shape of testing data : <class 'numpy.ndarray'>\n",
      "Shape of testing labels : (25000,)\n"
     ]
    }
   ],
   "source": [
    "#Explore the data structure using basic python commands\n",
    "print(\"Type of the Dataset:\",type(train_data))\n",
    "print(\"Shape of training data :\",train_data.shape)\n",
    "print(\"Shape of training labels :\",train_labels.shape)\n",
    "print(\"Shape of testing data :\",test_data)\n",
    "print(\"Shape of testing labels :\",test_labels.shape)"
   ]
  },
  {
   "cell_type": "code",
   "execution_count": 26,
   "metadata": {},
   "outputs": [
    {
     "name": "stdout",
     "output_type": "stream",
     "text": [
      "Number of unique value in the training label :  [0 1]\n",
      "Number of unique value in the testing label :  [0 1]\n"
     ]
    }
   ],
   "source": [
    "print(\"Number of unique value in the training label : \", np.unique(train_labels))\n",
    "print(\"Number of unique value in the testing label : \", np.unique(test_labels))"
   ]
  },
  {
   "cell_type": "markdown",
   "metadata": {},
   "source": [
    "Train_labels and Test_labels are arrays of $0s$ and $1s$, where $0$ stands for **negative** and $1$ stands for **positive**."
   ]
  },
  {
   "cell_type": "markdown",
   "metadata": {},
   "source": [
    "Because we restricted ourself to the top $10,000$ most frequent words, no word\n",
    "index will exceed 10,000:"
   ]
  },
  {
   "cell_type": "code",
   "execution_count": 27,
   "metadata": {},
   "outputs": [
    {
     "data": {
      "text/plain": [
       "9999"
      ]
     },
     "execution_count": 27,
     "metadata": {},
     "output_type": "execute_result"
    }
   ],
   "source": [
    "max([max(sequence) for sequence in train_data])"
   ]
  },
  {
   "cell_type": "markdown",
   "metadata": {},
   "source": [
    "Just like the MNIST dataset, the IMDB dataset comes packaged with Keras. It has\n",
    "already been preprocessed: the reviews (sequences of words) have been turned into\n",
    "sequences of integers, where each integer stands for a specific word in a dictionary.\n",
    "\n",
    "How we can quickly decode one of these reviews back to English words:"
   ]
  },
  {
   "cell_type": "code",
   "execution_count": 28,
   "metadata": {},
   "outputs": [],
   "source": [
    "word_index = imdb.get_word_index()\n",
    "reverse_word_index = dict([(value, key) for (key, value) in word_index.items()])\n",
    "\n",
    "# Decodes the review. Note that the indices are offset by 3 because 0, 1, and 2 are\n",
    "# reserved indices for \"padding\", \"start of sequence\", and \"unknown\".\n",
    "decoded_review = ' '.join([reverse_word_index.get(i - 3, '?') for i in train_data[0]])"
   ]
  },
  {
   "cell_type": "code",
   "execution_count": 29,
   "metadata": {},
   "outputs": [
    {
     "data": {
      "text/plain": [
       "\"? this film was just brilliant casting location scenery story direction everyone's really suited the part they played and you could just imagine being there robert ? is an amazing actor and now the same being director ? father came from the same scottish island as myself so i loved the fact there was a real connection with this film the witty remarks throughout the film were great it was just brilliant so much that i bought the film as soon as it was released for ? and would recommend it to everyone to watch and the fly fishing was amazing really cried at the end it was so sad and you know what they say if you cry at a film it must have been good and this definitely was also ? to the two little boy's that played the ? of norman and paul they were just brilliant children are often left out of the ? list i think because the stars that play them all grown up are such a big profile for the whole film but these children are amazing and should be praised for what they have done don't you think the whole story was so lovely because it was true and was someone's life after all that was shared with us all\""
      ]
     },
     "execution_count": 29,
     "metadata": {},
     "output_type": "execute_result"
    }
   ],
   "source": [
    "decoded_review"
   ]
  },
  {
   "cell_type": "code",
   "execution_count": 30,
   "metadata": {},
   "outputs": [
    {
     "data": {
      "text/plain": [
       "\"? big hair big boobs bad music and a giant safety pin these are the words to best describe this terrible movie i love cheesy horror movies and i've seen hundreds but this had got to be on of the worst ever made the plot is paper thin and ridiculous the acting is an abomination the script is completely laughable the best is the end showdown with the cop and how he worked out who the killer is it's just so damn terribly written the clothes are sickening and funny in equal ? the hair is big lots of boobs ? men wear those cut ? shirts that show off their ? sickening that men actually wore them and the music is just ? trash that plays over and over again in almost every scene there is trashy music boobs and ? taking away bodies and the gym still doesn't close for ? all joking aside this is a truly bad film whose only charm is to look back on the disaster that was the 80's and have a good old laugh at how bad everything was back then\""
      ]
     },
     "execution_count": 30,
     "metadata": {},
     "output_type": "execute_result"
    }
   ],
   "source": [
    "# Decodes the review. Note that the indices are offset by 3 because 0, 1, and 2 are\n",
    "# reserved indices for \"padding\", \"start of sequence\", and \"unknown\".\n",
    "decoded_review = ' '.join([reverse_word_index.get(i - 3, '?') for i in train_data[1]])\n",
    "decoded_review"
   ]
  },
  {
   "cell_type": "markdown",
   "metadata": {},
   "source": [
    "We can’t feed lists of integers into a neural network. We have to turn our lists into tensors. There are two ways to do this :\n",
    "\n",
    "1. Pad the lists so that they all have the same length, turn them into an integer tensor of shape (samples, word_indices), and then use as the first layer in your network a layer capable of handling such integer tensors (the Embedding layer).\n",
    "2. One-hot encode your lists to turn them into vectors of 0s and 1s. This would mean, for instance, turning the sequence [3, 5] into a 10,000-dimensional vector that would be all 0s except for indices 3 and 5, which would be 1s. Then you could use as the first layer in your network a Dense layer, capable of handling floating-point vector data.\n",
    "\n",
    "Let’s go with the latter solution to vectorize the data, which you’ll do manually for maximum clarity."
   ]
  },
  {
   "cell_type": "code",
   "execution_count": 31,
   "metadata": {},
   "outputs": [
    {
     "data": {
      "text/plain": [
       "list"
      ]
     },
     "execution_count": 31,
     "metadata": {},
     "output_type": "execute_result"
    }
   ],
   "source": [
    "type(train_data[0])"
   ]
  },
  {
   "cell_type": "code",
   "execution_count": 46,
   "metadata": {},
   "outputs": [],
   "source": [
    "import numpy as np\n",
    "\n",
    "def vectorize_sequences(sequences, dimension=10000):\n",
    "    results = np.zeros((len(sequences), dimension))  #; ipdb.set_trace()\n",
    "    for i, sequence in enumerate(sequences):\n",
    "        results[i, sequence] = 1.\n",
    "    return results\n",
    "\n",
    "x_train = vectorize_sequences(train_data)\n",
    "x_test  = vectorize_sequences(test_data)"
   ]
  },
  {
   "cell_type": "code",
   "execution_count": 33,
   "metadata": {},
   "outputs": [
    {
     "data": {
      "text/plain": [
       "array([0., 1., 1., ..., 0., 0., 0.])"
      ]
     },
     "execution_count": 33,
     "metadata": {},
     "output_type": "execute_result"
    }
   ],
   "source": [
    "x_train[10000]"
   ]
  },
  {
   "cell_type": "code",
   "execution_count": 44,
   "metadata": {},
   "outputs": [
    {
     "data": {
      "text/plain": [
       "[1, 261, 13, 69, 110, 2, 11, 6, 750, 96]"
      ]
     },
     "execution_count": 44,
     "metadata": {},
     "output_type": "execute_result"
    }
   ],
   "source": [
    "train_data[1000][:10]"
   ]
  },
  {
   "cell_type": "markdown",
   "metadata": {},
   "source": [
    "Let vectorize the label as well (changing it from int to float)"
   ]
  },
  {
   "cell_type": "code",
   "execution_count": 54,
   "metadata": {},
   "outputs": [],
   "source": [
    "y_train = np.asarray(train_labels).astype('float32')\n",
    "y_test = np.asarray(test_labels).astype('float32')"
   ]
  },
  {
   "cell_type": "code",
   "execution_count": 52,
   "metadata": {},
   "outputs": [
    {
     "data": {
      "text/plain": [
       "array([1, 0, 0, 1, 0, 0, 1, 0, 1, 0], dtype=int64)"
      ]
     },
     "execution_count": 52,
     "metadata": {},
     "output_type": "execute_result"
    }
   ],
   "source": [
    "train_labels[:10]"
   ]
  },
  {
   "cell_type": "code",
   "execution_count": 53,
   "metadata": {},
   "outputs": [
    {
     "data": {
      "text/plain": [
       "array([1., 0., 0., 1., 0., 0., 1., 0., 1., 0.], dtype=float32)"
      ]
     },
     "execution_count": 53,
     "metadata": {},
     "output_type": "execute_result"
    }
   ],
   "source": [
    "y_train_[:10]"
   ]
  },
  {
   "cell_type": "markdown",
   "metadata": {},
   "source": [
    "### Building our model"
   ]
  },
  {
   "cell_type": "code",
   "execution_count": 117,
   "metadata": {},
   "outputs": [],
   "source": [
    "from keras import models\n",
    "from keras import layers\n",
    "\n",
    "model = models.Sequential()\n",
    "model.add(layers.Dense(16, activation='relu', input_shape=(10000,)))\n",
    "model.add(layers.Dense(16, activation='relu'))\n",
    "model.add(layers.Dense(1, activation='sigmoid'))"
   ]
  },
  {
   "cell_type": "code",
   "execution_count": 118,
   "metadata": {},
   "outputs": [],
   "source": [
    "from keras import losses\n",
    "from keras import metrics\n",
    "from keras import optimizers\n",
    "\n",
    "# model.compile(optimizer=optimizers.RMSprop(lr=0.001),\n",
    "#               loss=losses.binary_crossentropy,\n",
    "#               metrics=[metrics.binary_accuracy])"
   ]
  },
  {
   "cell_type": "markdown",
   "metadata": {},
   "source": [
    "Let create a falidation set, just to see how our model perform after each epoch "
   ]
  },
  {
   "cell_type": "code",
   "execution_count": 119,
   "metadata": {},
   "outputs": [],
   "source": [
    "x_val = x_train[:10000]\n",
    "partial_x_train = x_train[10000:]\n",
    "\n",
    "y_val = y_train[:10000]\n",
    "partial_y_train = y_train[10000:]"
   ]
  },
  {
   "cell_type": "code",
   "execution_count": 123,
   "metadata": {},
   "outputs": [
    {
     "data": {
      "text/plain": [
       "(15000, 10000)"
      ]
     },
     "execution_count": 123,
     "metadata": {},
     "output_type": "execute_result"
    }
   ],
   "source": [
    "partial_x_train.shape"
   ]
  },
  {
   "cell_type": "code",
   "execution_count": null,
   "metadata": {},
   "outputs": [],
   "source": []
  },
  {
   "cell_type": "code",
   "execution_count": 135,
   "metadata": {},
   "outputs": [
    {
     "name": "stdout",
     "output_type": "stream",
     "text": [
      "Train on 15000 samples, validate on 10000 samples\n",
      "Epoch 1/20\n",
      "15000/15000 [==============================] - 4s 247us/step - loss: 1.4057 - acc: 0.7852 - val_loss: 0.4537 - val_acc: 0.8569\n",
      "Epoch 2/20\n",
      "15000/15000 [==============================] - 3s 208us/step - loss: 0.2133 - acc: 0.9185 - val_loss: 0.3230 - val_acc: 0.8731\n",
      "Epoch 3/20\n",
      "15000/15000 [==============================] - 3s 210us/step - loss: 0.1146 - acc: 0.9571 - val_loss: 0.4652 - val_acc: 0.8688\n",
      "Epoch 4/20\n",
      "15000/15000 [==============================] - 3s 209us/step - loss: 0.0777 - acc: 0.9691 - val_loss: 0.5959 - val_acc: 0.8645\n",
      "Epoch 5/20\n",
      "15000/15000 [==============================] - 3s 213us/step - loss: 0.0567 - acc: 0.9764 - val_loss: 0.7963 - val_acc: 0.8660\n",
      "Epoch 6/20\n",
      "15000/15000 [==============================] - 3s 204us/step - loss: 0.0616 - acc: 0.9757 - val_loss: 0.6804 - val_acc: 0.8621\n",
      "Epoch 7/20\n",
      "15000/15000 [==============================] - 3s 211us/step - loss: 0.0600 - acc: 0.9755 - val_loss: 0.6618 - val_acc: 0.8556\n",
      "Epoch 8/20\n",
      "15000/15000 [==============================] - 3s 219us/step - loss: 0.0589 - acc: 0.9770 - val_loss: 0.7789 - val_acc: 0.8574\n",
      "Epoch 9/20\n",
      "15000/15000 [==============================] - 4s 233us/step - loss: 0.0511 - acc: 0.9789 - val_loss: 0.9181 - val_acc: 0.8607\n",
      "Epoch 10/20\n",
      "15000/15000 [==============================] - 4s 236us/step - loss: 0.0527 - acc: 0.9789 - val_loss: 0.7918 - val_acc: 0.8584\n",
      "Epoch 11/20\n",
      "15000/15000 [==============================] - 4s 235us/step - loss: 0.0528 - acc: 0.9789 - val_loss: 0.8140 - val_acc: 0.8569\n",
      "Epoch 12/20\n",
      "15000/15000 [==============================] - 3s 227us/step - loss: 0.0416 - acc: 0.9834 - val_loss: 0.8955 - val_acc: 0.8553\n",
      "Epoch 13/20\n",
      "15000/15000 [==============================] - 4s 261us/step - loss: 0.0366 - acc: 0.9850 - val_loss: 1.0611 - val_acc: 0.8534\n",
      "Epoch 14/20\n",
      "15000/15000 [==============================] - 4s 237us/step - loss: 0.0442 - acc: 0.9825 - val_loss: 0.8935 - val_acc: 0.8524\n",
      "Epoch 15/20\n",
      "15000/15000 [==============================] - 4s 248us/step - loss: 0.0523 - acc: 0.9795 - val_loss: 0.8193 - val_acc: 0.8531\n",
      "Epoch 16/20\n",
      "15000/15000 [==============================] - 4s 238us/step - loss: 0.0462 - acc: 0.9815 - val_loss: 0.8483 - val_acc: 0.8503\n",
      "Epoch 17/20\n",
      "15000/15000 [==============================] - 3s 231us/step - loss: 0.0487 - acc: 0.9803 - val_loss: 0.7509 - val_acc: 0.8545\n",
      "Epoch 18/20\n",
      "15000/15000 [==============================] - 3s 233us/step - loss: 0.0367 - acc: 0.9851 - val_loss: 0.9817 - val_acc: 0.8552\n",
      "Epoch 19/20\n",
      "15000/15000 [==============================] - 4s 233us/step - loss: 0.0304 - acc: 0.9873 - val_loss: 1.2715 - val_acc: 0.8558\n",
      "Epoch 20/20\n",
      "15000/15000 [==============================] - 3s 231us/step - loss: 0.0319 - acc: 0.9871 - val_loss: 1.2519 - val_acc: 0.8540\n"
     ]
    }
   ],
   "source": [
    "model.compile(optimizer=optimizers.Adam(lr=0.1),\n",
    "              loss='binary_crossentropy',\n",
    "              metrics=['acc'])\n",
    "\n",
    "history = model.fit(partial_x_train,\n",
    "                    partial_y_train,\n",
    "                    epochs=20,\n",
    "                    batch_size=512,\n",
    "                    validation_data=(x_val, y_val))"
   ]
  },
  {
   "cell_type": "markdown",
   "metadata": {},
   "source": [
    " Note that the call to model.fit() returns a History object. This object has a mem-\n",
    "ber history, which is a dictionary containing data about everything that happened\n",
    "during training."
   ]
  },
  {
   "cell_type": "code",
   "execution_count": 136,
   "metadata": {},
   "outputs": [
    {
     "data": {
      "text/plain": [
       "dict_keys(['val_loss', 'val_acc', 'loss', 'acc'])"
      ]
     },
     "execution_count": 136,
     "metadata": {},
     "output_type": "execute_result"
    }
   ],
   "source": [
    "history_dict = model.history.history\n",
    "history_dict.keys()"
   ]
  },
  {
   "cell_type": "code",
   "execution_count": 137,
   "metadata": {},
   "outputs": [
    {
     "data": {
      "text/plain": [
       "[0.7852000001907349,\n",
       " 0.9185333332061768,\n",
       " 0.9570666666348775,\n",
       " 0.9690666668256124,\n",
       " 0.9764000001589457,\n",
       " 0.9757333334922791,\n",
       " 0.9754666665395101,\n",
       " 0.9770000000635782,\n",
       " 0.9789333330472311,\n",
       " 0.9789333331425984,\n",
       " 0.9788666664759318,\n",
       " 0.9834000002543132,\n",
       " 0.9849999998092651,\n",
       " 0.9825333331425985,\n",
       " 0.9795333335876465,\n",
       " 0.9815333331425985,\n",
       " 0.9803333335876465,\n",
       " 0.985133333492279,\n",
       " 0.9872666666666666,\n",
       " 0.9870666665712993]"
      ]
     },
     "execution_count": 137,
     "metadata": {},
     "output_type": "execute_result"
    }
   ],
   "source": [
    "history_dict['acc']"
   ]
  },
  {
   "cell_type": "code",
   "execution_count": 139,
   "metadata": {},
   "outputs": [
    {
     "data": {
      "image/png": "[encoded data removed]",
      "text/plain": [
       "<Figure size 432x288 with 1 Axes>"
      ]
     },
     "metadata": {
      "needs_background": "light"
     },
     "output_type": "display_data"
    }
   ],
   "source": [
    "history_dict = history.history\n",
    "loss_values = history_dict['loss']\n",
    "val_loss_values = history_dict['val_loss']\n",
    "\n",
    "# acc =10\n",
    "epochs = range(1, len(history_dict['acc']) + 1)\n",
    "plt.plot(epochs, loss_values, 'bo', label='Training loss')\n",
    "plt.plot(epochs, val_loss_values, 'b', label='Validation loss')\n",
    "plt.title('Training and validation loss (Overfitting)')\n",
    "plt.xlabel('Epochs')\n",
    "plt.ylabel('Loss')\n",
    "plt.legend()\n",
    "plt.show()"
   ]
  },
  {
   "cell_type": "code",
   "execution_count": null,
   "metadata": {},
   "outputs": [],
   "source": []
  },
  {
   "cell_type": "code",
   "execution_count": 140,
   "metadata": {},
   "outputs": [
    {
     "data": {
      "image/png": "[encoded data removed]",
      "text/plain": [
       "<Figure size 432x288 with 1 Axes>"
      ]
     },
     "metadata": {
      "needs_background": "light"
     },
     "output_type": "display_data"
    }
   ],
   "source": [
    "plt.clf()\n",
    "acc_values = history_dict['acc']\n",
    "val_acc_values = history_dict['val_acc']\n",
    "plt.plot(epochs, acc_values, 'bo', label='Training acc')\n",
    "plt.plot(epochs, val_acc_values, 'b', label='Validation acc')\n",
    "plt.title('Training and validation accuracy')\n",
    "plt.xlabel('Epochs')\n",
    "plt.ylabel('Loss')\n",
    "plt.legend()\n",
    "plt.show()"
   ]
  },
  {
   "cell_type": "code",
   "execution_count": 129,
   "metadata": {},
   "outputs": [
    {
     "data": {
      "image/png": "[encoded data removed]",
      "text/plain": [
       "<Figure size 432x288 with 1 Axes>"
      ]
     },
     "metadata": {
      "needs_background": "light"
     },
     "output_type": "display_data"
    }
   ],
   "source": [
    "import matplotlib.pyplot as plt\n",
    "%matplotlib inline\n",
    "plt.plot(model.history.history['loss'])\n",
    "plt.plot(model.history.history['val_loss'])\n",
    "plt.title(\"Model's Training & Validation loss across epochs\")\n",
    "plt.ylabel('Loss')\n",
    "plt.xlabel('Epochs')\n",
    "plt.legend(['Train', 'Validation'], loc='upper right')\n",
    "plt.show()"
   ]
  },
  {
   "cell_type": "code",
   "execution_count": 141,
   "metadata": {},
   "outputs": [
    {
     "name": "stdout",
     "output_type": "stream",
     "text": [
      "25000/25000 [==============================] - 32s 1ms/step\n"
     ]
    }
   ],
   "source": [
    "results = model.evaluate(x_test, y_test)"
   ]
  },
  {
   "cell_type": "code",
   "execution_count": 147,
   "metadata": {},
   "outputs": [
    {
     "name": "stdout",
     "output_type": "stream",
     "text": [
      "Metric loss : 138.0 %\n",
      "Metric acc : 84.0 %\n"
     ]
    }
   ],
   "source": [
    "for i in range(len(model.metrics_names)):\n",
    "     print(\"Metric\",model.metrics_names[i],\":\", str(round(results[i],2)*100),\"%\")"
   ]
  },
  {
   "cell_type": "markdown",
   "metadata": {},
   "source": [
    "### Using our trained network\n",
    "\n",
    "After having trained a network, you’ll want to use it in a practical setting. You can generate the likelihood of reviews being positive or not"
   ]
  },
  {
   "cell_type": "code",
   "execution_count": 148,
   "metadata": {},
   "outputs": [
    {
     "data": {
      "text/plain": [
       "array([[4.2825937e-05],\n",
       "       [1.0000000e+00],\n",
       "       [1.0000000e+00],\n",
       "       ...,\n",
       "       [8.9406967e-08],\n",
       "       [2.0861626e-07],\n",
       "       [9.9997413e-01]], dtype=float32)"
      ]
     },
     "execution_count": 148,
     "metadata": {},
     "output_type": "execute_result"
    }
   ],
   "source": [
    "model.predict(x_test)"
   ]
  },
  {
   "cell_type": "code",
   "execution_count": null,
   "metadata": {},
   "outputs": [],
   "source": []
  }
 ],
 "metadata": {
  "kernelspec": {
   "display_name": "Python 3.6 (AIMS SA)",
   "language": "python",
   "name": "aims"
  },
  "language_info": {
   "codemirror_mode": {
    "name": "ipython",
    "version": 3
   },
   "file_extension": ".py",
   "mimetype": "text/x-python",
   "name": "python",
   "nbconvert_exporter": "python",
   "pygments_lexer": "ipython3",
   "version": "3.6.7"
  }
 },
 "nbformat": 4,
 "nbformat_minor": 2
}
