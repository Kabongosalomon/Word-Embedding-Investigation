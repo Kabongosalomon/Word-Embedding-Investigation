{
 "cells": [
  {
   "cell_type": "code",
   "execution_count": 1,
   "metadata": {},
   "outputs": [
    {
     "name": "stderr",
     "output_type": "stream",
     "text": [
      "Using TensorFlow backend.\n"
     ]
    }
   ],
   "source": [
    "#Import required packages\n",
    "from keras.models import Sequential\n",
    "from keras.layers import Dense\n",
    "import numpy as np\n",
    "import ipdb # deb"
   ]
  },
  {
   "cell_type": "code",
   "execution_count": null,
   "metadata": {},
   "outputs": [],
   "source": [
    "# Getting the data ready\n",
    "# Generate train dummy data for 1000 Students and dummy test \n",
    "# for 500\n",
    "#Columns :Age, Hours of Study &Avg Previous test scores\n",
    "np.random.seed(2018) #Setting seed for reproducibility\n",
    "train_data, test_data = np.random.random((1000, 3)), np.random.random((500, 3))\n",
    "#Generate dummy results for 1000 students : Whether Passed (1) \n",
    "# or Failed (0)\n",
    "labels = np.random.randint(2, size=(1000, 2))"
   ]
  },
  {
   "cell_type": "code",
   "execution_count": null,
   "metadata": {},
   "outputs": [],
   "source": [
    "#Defining the model structure with the required layers, \n",
    "# of neurons, activation function and optimizers\n",
    "\n",
    "model = Sequential()\n",
    "model.add(Dense(5, input_dim=3, activation='relu'))\n",
    "model.add(Dense(4, activation='relu'))\n",
    "model.add(Dense(2, activation='sigmoid'))\n",
    "model.compile(loss='binary_crossentropy', optimizer='adam', metrics=['accuracy'])"
   ]
  },
  {
   "cell_type": "code",
   "execution_count": null,
   "metadata": {},
   "outputs": [],
   "source": [
    "#Train the model and make predictions\n",
    "model.fit(train_data, labels, epochs=10, batch_size=32)"
   ]
  },
  {
   "cell_type": "code",
   "execution_count": null,
   "metadata": {},
   "outputs": [],
   "source": [
    "#Make predictions from the trained model\n",
    "predictions = model.predict(test_data)\n",
    "predictions[:10]"
   ]
  },
  {
   "cell_type": "markdown",
   "metadata": {},
   "source": [
    "## Train, Test and validation"
   ]
  },
  {
   "cell_type": "code",
   "execution_count": null,
   "metadata": {},
   "outputs": [],
   "source": [
    "import numpy as np\n",
    "from keras.models import Sequential\n",
    "from keras.layers import Dense, Activation"
   ]
  },
  {
   "cell_type": "code",
   "execution_count": null,
   "metadata": {},
   "outputs": [],
   "source": [
    "# Generate dummy training dataset\n",
    "np.random.seed(2019)\n",
    "x_train = np.random.random((6000,10))\n",
    "y_train = np.random.randint(2, size=(6000, 1))\n",
    "# Generate dummy validation dataset\n",
    "x_val = np.random.random((2000,10))\n",
    "y_val = np.random.randint(2, size=(2000, 1))\n",
    "# Generate dummy test dataset\n",
    "x_test = np.random.random((2000,10))\n",
    "y_test = np.random.randint(2, size=(2000, 1))"
   ]
  },
  {
   "cell_type": "code",
   "execution_count": null,
   "metadata": {},
   "outputs": [],
   "source": [
    "#Define the model architecture\n",
    "model = Sequential()\n",
    "model.add(Dense(64, input_dim=10,activation = \"relu\")) #Layer 1\n",
    "model.add(Dense(32,activation = \"relu\"))               #Layer 2\n",
    "model.add(Dense(16,activation = \"relu\"))               #Layer 3\n",
    "model.add(Dense(8,activation = \"relu\"))                #Layer 4\n",
    "model.add(Dense(4,activation = \"relu\"))                #Layer 5\n",
    "model.add(Dense(1,activation = \"sigmoid\"))             #Output Layer"
   ]
  },
  {
   "cell_type": "code",
   "execution_count": null,
   "metadata": {},
   "outputs": [],
   "source": [
    "#Configure the model\n",
    "model.compile(optimizer='Adam',loss='binary_crossentropy',\n",
    "              metrics=['accuracy'])"
   ]
  },
  {
   "cell_type": "code",
   "execution_count": null,
   "metadata": {},
   "outputs": [],
   "source": [
    "#Train the model\n",
    "model.fit(x_train, y_train, batch_size=64, epochs=3, \n",
    "validation_data=(x_val,y_val))"
   ]
  },
  {
   "cell_type": "code",
   "execution_count": null,
   "metadata": {},
   "outputs": [],
   "source": [
    "print(model.metrics_names)"
   ]
  },
  {
   "cell_type": "code",
   "execution_count": null,
   "metadata": {},
   "outputs": [],
   "source": [
    "print(model.evaluate(x_test,y_test))"
   ]
  },
  {
   "cell_type": "code",
   "execution_count": null,
   "metadata": {},
   "outputs": [],
   "source": [
    "#Make predictions on the test dataset and print the first 10 \n",
    "predictions\n",
    "pred = model.predict(x_test)\n",
    "pred[:10]"
   ]
  },
  {
   "cell_type": "markdown",
   "metadata": {},
   "source": [
    "# Boston House Prices dataset"
   ]
  },
  {
   "cell_type": "code",
   "execution_count": null,
   "metadata": {},
   "outputs": [],
   "source": [
    "from keras.datasets import boston_housing\n",
    "import numpy as np\n",
    "from keras.models import Sequential\n",
    "from keras.layers import Dense, Activation\n",
    "\n",
    "(x_train, y_train), (x_test, y_test) = boston_housing.load_data()"
   ]
  },
  {
   "cell_type": "code",
   "execution_count": null,
   "metadata": {},
   "outputs": [],
   "source": [
    "#Explore the data structure using basic python commands\n",
    "print(\"Type of the Dataset:\",type(y_train))\n",
    "print(\"Shape of training data :\",x_train.shape)\n",
    "print(\"Shape of training labels :\",y_train.shape)\n",
    "print(\"Shape of testing data :\",type(x_test))\n",
    "print(\"Shape of testing labels :\",y_test.shape)"
   ]
  },
  {
   "cell_type": "markdown",
   "metadata": {},
   "source": [
    "Column Name Description :\n",
    "- **CriM** per capita crime rate by town\n",
    "- **Zn** proportion of residential land zoned for lots over 25,000 sq. ft.\n",
    "- **inDUs** proportion of nonretail business acres per town\n",
    "- **Chas** Charles river dummy variable (= 1 if tract bounds river; 0 otherwise)\n",
    "- **noX** nitric oxide concentration (parts per 10 million)\n",
    "- **rM** average number of rooms per dwelling\n",
    "- **aGe** proportion of owner-occupied units built prior to 1940\n",
    "- **Dis** weighted distances to five Boston employment centers\n",
    "- **raD** index of accessibility to radial highways\n",
    "- **taX** full-value property tax rate per $\\$10,000$\n",
    "- **ptratio** pupil-teacher ratio by town\n",
    "- **B** $1000(Bk – 0.63)^2$, where Bk is the proportion of blacks by town\n",
    "- **Lstat** \\% lower status of the population\n",
    "- **MeDV** median value of owner-occupied homes in $\\$1000's$"
   ]
  },
  {
   "cell_type": "code",
   "execution_count": null,
   "metadata": {},
   "outputs": [],
   "source": [
    "x_train[:5,:]"
   ]
  },
  {
   "cell_type": "markdown",
   "metadata": {},
   "source": [
    "It a good idea, to split the training data in training set and validation set."
   ]
  },
  {
   "cell_type": "code",
   "execution_count": null,
   "metadata": {},
   "outputs": [],
   "source": [
    "# Extract the last 100 rows from the training \n",
    "# data to create the validation datasets.\n",
    "\n",
    "x_val = x_train[300:,]\n",
    "y_val = y_train[300:,]"
   ]
  },
  {
   "cell_type": "code",
   "execution_count": null,
   "metadata": {},
   "outputs": [],
   "source": [
    "#Define the model architecture\n",
    "model = Sequential()\n",
    "model.add(Dense(13, input_dim=13, kernel_initializer='normal', \n",
    "                activation='relu'))\n",
    "model.add(Dense(6, kernel_initializer='normal', \n",
    "                activation='relu'))\n",
    "model.add(Dense(1, kernel_initializer='normal'))"
   ]
  },
  {
   "cell_type": "code",
   "execution_count": null,
   "metadata": {},
   "outputs": [],
   "source": [
    "# Compile model\n",
    "model.compile(loss='mean_squared_error', optimizer='adam', \n",
    "              metrics=['mean_absolute_percentage_error'])"
   ]
  },
  {
   "cell_type": "code",
   "execution_count": null,
   "metadata": {},
   "outputs": [],
   "source": [
    "#Train the model\n",
    "model.fit(x_train, y_train, batch_size=32, epochs=3, \n",
    "          validation_data=(x_val,y_val))"
   ]
  },
  {
   "cell_type": "markdown",
   "metadata": {},
   "source": [
    "We have created a simple two-hidden-layer model for the regression use case. We have chosen _MAPE_ as the metric. Generally, this is not the best metric to choose for studying model performance, but its advantage is simplicity in terms of comprehending the results. It gives a simple percentage value for the error, say $10\\%$ error. So, if you know the average range of your prediction, you can easily estimate what the predictions are going to look like"
   ]
  },
  {
   "cell_type": "code",
   "execution_count": null,
   "metadata": {},
   "outputs": [],
   "source": [
    "results = model.evaluate(x_test, y_test)"
   ]
  },
  {
   "cell_type": "code",
   "execution_count": null,
   "metadata": {},
   "outputs": [],
   "source": [
    "for i in range(len(model.metrics_names)):\n",
    "    print(model.metrics_names[i],\" : \", results[i])"
   ]
  },
  {
   "cell_type": "markdown",
   "metadata": {},
   "source": [
    "We can see that __MAPE__ is around $96\\%$, which is actually not a great number to have for model performance. This would translate into our model predictions at around $96\\%$ error. So, in general, if a house was priced at $10K$, our model would have predicted $\\approx20K$."
   ]
  },
  {
   "cell_type": "code",
   "execution_count": null,
   "metadata": {},
   "outputs": [],
   "source": [
    "#Train the model\n",
    "model.fit(x_train, y_train, batch_size=32, epochs=30, \n",
    "          validation_data=(x_val,y_val))"
   ]
  },
  {
   "cell_type": "markdown",
   "metadata": {},
   "source": [
    "# Regression"
   ]
  },
  {
   "cell_type": "markdown",
   "metadata": {},
   "source": [
    "## Rossmann Store sales dataset"
   ]
  },
  {
   "cell_type": "markdown",
   "metadata": {},
   "source": [
    "Rossmann is one of the largest drugstore chains in Germany, with \n",
    "operations across Europe. As of 2018, they have well over 3,900 stores in \n",
    "Europe with an annual turnover of 9 billion euros. Our task is to predict the \n",
    "sales for a few identified stores on a given day."
   ]
  },
  {
   "cell_type": "markdown",
   "metadata": {},
   "source": [
    "### Data fields\n",
    "\n",
    "Most of the fields are self-explanatory. The following are descriptions for those that aren't.\n",
    "\n",
    "- **Id** - an Id that represents a (Store, Date) duple within the test set\n",
    "- **Store** - a unique Id for each store\n",
    "- **Sales** - the turnover for any given day (this is what you are predicting)\n",
    "- **Customers** - the number of customers on a given day\n",
    "- **Open** - an indicator for whether the store was open: 0 = closed, 1 = open\n",
    "- **StateHoliday** - indicates a state holiday. Normally all stores, with few exceptions, are closed on state holidays. Note that all schools are closed on public holidays and weekends. a = public holiday, b = Easter holiday, c = Christmas, 0 = None\n",
    "- **SchoolHoliday** - indicates if the (Store, Date) was affected by the closure of public schools\n",
    "- **StoreType** - differentiates between 4 different store models: a, b, c, d\n",
    "- **Assortment** - describes an assortment level: a = basic, b = extra, c = extended\n",
    "- **CompetitionDistance** - distance in meters to the nearest competitor store\n",
    "- **CompetitionOpenSince[Month/Year]** - gives the approximate year and month of the time the nearest competitor was opened\n",
    "- **Promo** - indicates whether a store is running a promo on that day\n",
    "- **Promo2** - Promo2 is a continuing and consecutive promotion for some stores: 0 = store is not participating, 1 = store is participating\n",
    "- **Promo2Since[Year/Week]** - describes the year and calendar week when the store started participating in Promo2\n",
    "- **PromoInterval** - describes the consecutive intervals Promo2 is started, naming the months the promotion is started anew. E.g. \"Feb,May,Aug,Nov\" means each round starts in February, May, August, November of any given year for that store"
   ]
  },
  {
   "cell_type": "code",
   "execution_count": 2,
   "metadata": {},
   "outputs": [],
   "source": [
    "import pandas as pd\n",
    "import numpy as np"
   ]
  },
  {
   "cell_type": "code",
   "execution_count": 3,
   "metadata": {},
   "outputs": [
    {
     "name": "stderr",
     "output_type": "stream",
     "text": [
      "C:\\Users\\kabon\\AppData\\Local\\conda\\conda\\envs\\aims\\lib\\site-packages\\IPython\\core\\interactiveshell.py:3044: DtypeWarning: Columns (7) have mixed types. Specify dtype option on import or set low_memory=False.\n",
      "  interactivity=interactivity, compiler=compiler, result=result)\n"
     ]
    }
   ],
   "source": [
    "df = pd.read_csv(\"./data/Rossmann Store Sales/train.csv\")"
   ]
  },
  {
   "cell_type": "code",
   "execution_count": 4,
   "metadata": {},
   "outputs": [
    {
     "name": "stdout",
     "output_type": "stream",
     "text": [
      "Shape of the Dataset: (1017209, 9)\n"
     ]
    },
    {
     "data": {
      "text/html": [
       "<div>\n",
       "<style scoped>\n",
       "    .dataframe tbody tr th:only-of-type {\n",
       "        vertical-align: middle;\n",
       "    }\n",
       "\n",
       "    .dataframe tbody tr th {\n",
       "        vertical-align: top;\n",
       "    }\n",
       "\n",
       "    .dataframe thead th {\n",
       "        text-align: right;\n",
       "    }\n",
       "</style>\n",
       "<table border=\"1\" class=\"dataframe\">\n",
       "  <thead>\n",
       "    <tr style=\"text-align: right;\">\n",
       "      <th></th>\n",
       "      <th>Store</th>\n",
       "      <th>DayOfWeek</th>\n",
       "      <th>Date</th>\n",
       "      <th>Sales</th>\n",
       "      <th>Customers</th>\n",
       "      <th>Open</th>\n",
       "      <th>Promo</th>\n",
       "      <th>StateHoliday</th>\n",
       "      <th>SchoolHoliday</th>\n",
       "    </tr>\n",
       "  </thead>\n",
       "  <tbody>\n",
       "    <tr>\n",
       "      <th>0</th>\n",
       "      <td>1</td>\n",
       "      <td>5</td>\n",
       "      <td>2015-07-31</td>\n",
       "      <td>5263</td>\n",
       "      <td>555</td>\n",
       "      <td>1</td>\n",
       "      <td>1</td>\n",
       "      <td>0</td>\n",
       "      <td>1</td>\n",
       "    </tr>\n",
       "    <tr>\n",
       "      <th>1</th>\n",
       "      <td>2</td>\n",
       "      <td>5</td>\n",
       "      <td>2015-07-31</td>\n",
       "      <td>6064</td>\n",
       "      <td>625</td>\n",
       "      <td>1</td>\n",
       "      <td>1</td>\n",
       "      <td>0</td>\n",
       "      <td>1</td>\n",
       "    </tr>\n",
       "    <tr>\n",
       "      <th>2</th>\n",
       "      <td>3</td>\n",
       "      <td>5</td>\n",
       "      <td>2015-07-31</td>\n",
       "      <td>8314</td>\n",
       "      <td>821</td>\n",
       "      <td>1</td>\n",
       "      <td>1</td>\n",
       "      <td>0</td>\n",
       "      <td>1</td>\n",
       "    </tr>\n",
       "    <tr>\n",
       "      <th>3</th>\n",
       "      <td>4</td>\n",
       "      <td>5</td>\n",
       "      <td>2015-07-31</td>\n",
       "      <td>13995</td>\n",
       "      <td>1498</td>\n",
       "      <td>1</td>\n",
       "      <td>1</td>\n",
       "      <td>0</td>\n",
       "      <td>1</td>\n",
       "    </tr>\n",
       "    <tr>\n",
       "      <th>4</th>\n",
       "      <td>5</td>\n",
       "      <td>5</td>\n",
       "      <td>2015-07-31</td>\n",
       "      <td>4822</td>\n",
       "      <td>559</td>\n",
       "      <td>1</td>\n",
       "      <td>1</td>\n",
       "      <td>0</td>\n",
       "      <td>1</td>\n",
       "    </tr>\n",
       "  </tbody>\n",
       "</table>\n",
       "</div>"
      ],
      "text/plain": [
       "   Store  DayOfWeek        Date  Sales  Customers  Open  Promo StateHoliday  \\\n",
       "0      1          5  2015-07-31   5263        555     1      1            0   \n",
       "1      2          5  2015-07-31   6064        625     1      1            0   \n",
       "2      3          5  2015-07-31   8314        821     1      1            0   \n",
       "3      4          5  2015-07-31  13995       1498     1      1            0   \n",
       "4      5          5  2015-07-31   4822        559     1      1            0   \n",
       "\n",
       "   SchoolHoliday  \n",
       "0              1  \n",
       "1              1  \n",
       "2              1  \n",
       "3              1  \n",
       "4              1  "
      ]
     },
     "execution_count": 4,
     "metadata": {},
     "output_type": "execute_result"
    }
   ],
   "source": [
    "print(\"Shape of the Dataset:\",df.shape)\n",
    "#the head method displays the first 5 rows of the data\n",
    "df.head(5)"
   ]
  },
  {
   "cell_type": "code",
   "execution_count": 5,
   "metadata": {},
   "outputs": [
    {
     "name": "stdout",
     "output_type": "stream",
     "text": [
      "Shape of the Dataset: (1115, 10)\n"
     ]
    },
    {
     "data": {
      "text/html": [
       "<div>\n",
       "<style scoped>\n",
       "    .dataframe tbody tr th:only-of-type {\n",
       "        vertical-align: middle;\n",
       "    }\n",
       "\n",
       "    .dataframe tbody tr th {\n",
       "        vertical-align: top;\n",
       "    }\n",
       "\n",
       "    .dataframe thead th {\n",
       "        text-align: right;\n",
       "    }\n",
       "</style>\n",
       "<table border=\"1\" class=\"dataframe\">\n",
       "  <thead>\n",
       "    <tr style=\"text-align: right;\">\n",
       "      <th></th>\n",
       "      <th>Store</th>\n",
       "      <th>StoreType</th>\n",
       "      <th>Assortment</th>\n",
       "      <th>CompetitionDistance</th>\n",
       "      <th>CompetitionOpenSinceMonth</th>\n",
       "      <th>CompetitionOpenSinceYear</th>\n",
       "      <th>Promo2</th>\n",
       "      <th>Promo2SinceWeek</th>\n",
       "      <th>Promo2SinceYear</th>\n",
       "      <th>PromoInterval</th>\n",
       "    </tr>\n",
       "  </thead>\n",
       "  <tbody>\n",
       "    <tr>\n",
       "      <th>0</th>\n",
       "      <td>1</td>\n",
       "      <td>c</td>\n",
       "      <td>a</td>\n",
       "      <td>1270.0</td>\n",
       "      <td>9.0</td>\n",
       "      <td>2008.0</td>\n",
       "      <td>0</td>\n",
       "      <td>NaN</td>\n",
       "      <td>NaN</td>\n",
       "      <td>NaN</td>\n",
       "    </tr>\n",
       "    <tr>\n",
       "      <th>1</th>\n",
       "      <td>2</td>\n",
       "      <td>a</td>\n",
       "      <td>a</td>\n",
       "      <td>570.0</td>\n",
       "      <td>11.0</td>\n",
       "      <td>2007.0</td>\n",
       "      <td>1</td>\n",
       "      <td>13.0</td>\n",
       "      <td>2010.0</td>\n",
       "      <td>Jan,Apr,Jul,Oct</td>\n",
       "    </tr>\n",
       "    <tr>\n",
       "      <th>2</th>\n",
       "      <td>3</td>\n",
       "      <td>a</td>\n",
       "      <td>a</td>\n",
       "      <td>14130.0</td>\n",
       "      <td>12.0</td>\n",
       "      <td>2006.0</td>\n",
       "      <td>1</td>\n",
       "      <td>14.0</td>\n",
       "      <td>2011.0</td>\n",
       "      <td>Jan,Apr,Jul,Oct</td>\n",
       "    </tr>\n",
       "    <tr>\n",
       "      <th>3</th>\n",
       "      <td>4</td>\n",
       "      <td>c</td>\n",
       "      <td>c</td>\n",
       "      <td>620.0</td>\n",
       "      <td>9.0</td>\n",
       "      <td>2009.0</td>\n",
       "      <td>0</td>\n",
       "      <td>NaN</td>\n",
       "      <td>NaN</td>\n",
       "      <td>NaN</td>\n",
       "    </tr>\n",
       "    <tr>\n",
       "      <th>4</th>\n",
       "      <td>5</td>\n",
       "      <td>a</td>\n",
       "      <td>a</td>\n",
       "      <td>29910.0</td>\n",
       "      <td>4.0</td>\n",
       "      <td>2015.0</td>\n",
       "      <td>0</td>\n",
       "      <td>NaN</td>\n",
       "      <td>NaN</td>\n",
       "      <td>NaN</td>\n",
       "    </tr>\n",
       "  </tbody>\n",
       "</table>\n",
       "</div>"
      ],
      "text/plain": [
       "   Store StoreType Assortment  CompetitionDistance  CompetitionOpenSinceMonth  \\\n",
       "0      1         c          a               1270.0                        9.0   \n",
       "1      2         a          a                570.0                       11.0   \n",
       "2      3         a          a              14130.0                       12.0   \n",
       "3      4         c          c                620.0                        9.0   \n",
       "4      5         a          a              29910.0                        4.0   \n",
       "\n",
       "   CompetitionOpenSinceYear  Promo2  Promo2SinceWeek  Promo2SinceYear  \\\n",
       "0                    2008.0       0              NaN              NaN   \n",
       "1                    2007.0       1             13.0           2010.0   \n",
       "2                    2006.0       1             14.0           2011.0   \n",
       "3                    2009.0       0              NaN              NaN   \n",
       "4                    2015.0       0              NaN              NaN   \n",
       "\n",
       "     PromoInterval  \n",
       "0              NaN  \n",
       "1  Jan,Apr,Jul,Oct  \n",
       "2  Jan,Apr,Jul,Oct  \n",
       "3              NaN  \n",
       "4              NaN  "
      ]
     },
     "execution_count": 5,
     "metadata": {},
     "output_type": "execute_result"
    }
   ],
   "source": [
    "store = pd.read_csv(\"./data/Rossmann Store Sales/store.csv\")\n",
    "print(\"Shape of the Dataset:\",store.shape)\n",
    "#Display the first 5 rows of data using the head method of pandas dataframe\n",
    "store.head(5)"
   ]
  },
  {
   "cell_type": "markdown",
   "metadata": {},
   "source": [
    "To have all the data points together, we need to create one single \n",
    "dataframe with the store and promotion features. We can achieve this by \n",
    "joining the two dataframes on the ‘store’ column, which represents the \n",
    "store ID. Pandas provides a ‘merge’ function that is analogous to the join \n",
    "statement in SQL. We can perform left, right, inner, and full outer joins on \n",
    "one or more dataframes using one or more columns as the joining key."
   ]
  },
  {
   "cell_type": "code",
   "execution_count": 6,
   "metadata": {},
   "outputs": [
    {
     "name": "stdout",
     "output_type": "stream",
     "text": [
      "(1017209, 18)\n"
     ]
    }
   ],
   "source": [
    "df_new = df.merge(store,on=[\"Store\"], how=\"inner\")\n",
    "print(df_new.shape)"
   ]
  },
  {
   "cell_type": "code",
   "execution_count": 7,
   "metadata": {},
   "outputs": [
    {
     "data": {
      "text/html": [
       "<div>\n",
       "<style scoped>\n",
       "    .dataframe tbody tr th:only-of-type {\n",
       "        vertical-align: middle;\n",
       "    }\n",
       "\n",
       "    .dataframe tbody tr th {\n",
       "        vertical-align: top;\n",
       "    }\n",
       "\n",
       "    .dataframe thead th {\n",
       "        text-align: right;\n",
       "    }\n",
       "</style>\n",
       "<table border=\"1\" class=\"dataframe\">\n",
       "  <thead>\n",
       "    <tr style=\"text-align: right;\">\n",
       "      <th></th>\n",
       "      <th>Store</th>\n",
       "      <th>DayOfWeek</th>\n",
       "      <th>Date</th>\n",
       "      <th>Sales</th>\n",
       "      <th>Customers</th>\n",
       "      <th>Open</th>\n",
       "      <th>Promo</th>\n",
       "      <th>StateHoliday</th>\n",
       "      <th>SchoolHoliday</th>\n",
       "      <th>StoreType</th>\n",
       "      <th>Assortment</th>\n",
       "      <th>CompetitionDistance</th>\n",
       "      <th>CompetitionOpenSinceMonth</th>\n",
       "      <th>CompetitionOpenSinceYear</th>\n",
       "      <th>Promo2</th>\n",
       "      <th>Promo2SinceWeek</th>\n",
       "      <th>Promo2SinceYear</th>\n",
       "      <th>PromoInterval</th>\n",
       "    </tr>\n",
       "  </thead>\n",
       "  <tbody>\n",
       "    <tr>\n",
       "      <th>1017204</th>\n",
       "      <td>1115</td>\n",
       "      <td>6</td>\n",
       "      <td>2013-01-05</td>\n",
       "      <td>4771</td>\n",
       "      <td>339</td>\n",
       "      <td>1</td>\n",
       "      <td>0</td>\n",
       "      <td>0</td>\n",
       "      <td>1</td>\n",
       "      <td>d</td>\n",
       "      <td>c</td>\n",
       "      <td>5350.0</td>\n",
       "      <td>NaN</td>\n",
       "      <td>NaN</td>\n",
       "      <td>1</td>\n",
       "      <td>22.0</td>\n",
       "      <td>2012.0</td>\n",
       "      <td>Mar,Jun,Sept,Dec</td>\n",
       "    </tr>\n",
       "    <tr>\n",
       "      <th>1017205</th>\n",
       "      <td>1115</td>\n",
       "      <td>5</td>\n",
       "      <td>2013-01-04</td>\n",
       "      <td>4540</td>\n",
       "      <td>326</td>\n",
       "      <td>1</td>\n",
       "      <td>0</td>\n",
       "      <td>0</td>\n",
       "      <td>1</td>\n",
       "      <td>d</td>\n",
       "      <td>c</td>\n",
       "      <td>5350.0</td>\n",
       "      <td>NaN</td>\n",
       "      <td>NaN</td>\n",
       "      <td>1</td>\n",
       "      <td>22.0</td>\n",
       "      <td>2012.0</td>\n",
       "      <td>Mar,Jun,Sept,Dec</td>\n",
       "    </tr>\n",
       "    <tr>\n",
       "      <th>1017206</th>\n",
       "      <td>1115</td>\n",
       "      <td>4</td>\n",
       "      <td>2013-01-03</td>\n",
       "      <td>4297</td>\n",
       "      <td>300</td>\n",
       "      <td>1</td>\n",
       "      <td>0</td>\n",
       "      <td>0</td>\n",
       "      <td>1</td>\n",
       "      <td>d</td>\n",
       "      <td>c</td>\n",
       "      <td>5350.0</td>\n",
       "      <td>NaN</td>\n",
       "      <td>NaN</td>\n",
       "      <td>1</td>\n",
       "      <td>22.0</td>\n",
       "      <td>2012.0</td>\n",
       "      <td>Mar,Jun,Sept,Dec</td>\n",
       "    </tr>\n",
       "    <tr>\n",
       "      <th>1017207</th>\n",
       "      <td>1115</td>\n",
       "      <td>3</td>\n",
       "      <td>2013-01-02</td>\n",
       "      <td>3697</td>\n",
       "      <td>305</td>\n",
       "      <td>1</td>\n",
       "      <td>0</td>\n",
       "      <td>0</td>\n",
       "      <td>1</td>\n",
       "      <td>d</td>\n",
       "      <td>c</td>\n",
       "      <td>5350.0</td>\n",
       "      <td>NaN</td>\n",
       "      <td>NaN</td>\n",
       "      <td>1</td>\n",
       "      <td>22.0</td>\n",
       "      <td>2012.0</td>\n",
       "      <td>Mar,Jun,Sept,Dec</td>\n",
       "    </tr>\n",
       "    <tr>\n",
       "      <th>1017208</th>\n",
       "      <td>1115</td>\n",
       "      <td>2</td>\n",
       "      <td>2013-01-01</td>\n",
       "      <td>0</td>\n",
       "      <td>0</td>\n",
       "      <td>0</td>\n",
       "      <td>0</td>\n",
       "      <td>a</td>\n",
       "      <td>1</td>\n",
       "      <td>d</td>\n",
       "      <td>c</td>\n",
       "      <td>5350.0</td>\n",
       "      <td>NaN</td>\n",
       "      <td>NaN</td>\n",
       "      <td>1</td>\n",
       "      <td>22.0</td>\n",
       "      <td>2012.0</td>\n",
       "      <td>Mar,Jun,Sept,Dec</td>\n",
       "    </tr>\n",
       "  </tbody>\n",
       "</table>\n",
       "</div>"
      ],
      "text/plain": [
       "         Store  DayOfWeek        Date  Sales  Customers  Open  Promo  \\\n",
       "1017204   1115          6  2013-01-05   4771        339     1      0   \n",
       "1017205   1115          5  2013-01-04   4540        326     1      0   \n",
       "1017206   1115          4  2013-01-03   4297        300     1      0   \n",
       "1017207   1115          3  2013-01-02   3697        305     1      0   \n",
       "1017208   1115          2  2013-01-01      0          0     0      0   \n",
       "\n",
       "        StateHoliday  SchoolHoliday StoreType Assortment  CompetitionDistance  \\\n",
       "1017204            0              1         d          c               5350.0   \n",
       "1017205            0              1         d          c               5350.0   \n",
       "1017206            0              1         d          c               5350.0   \n",
       "1017207            0              1         d          c               5350.0   \n",
       "1017208            a              1         d          c               5350.0   \n",
       "\n",
       "         CompetitionOpenSinceMonth  CompetitionOpenSinceYear  Promo2  \\\n",
       "1017204                        NaN                       NaN       1   \n",
       "1017205                        NaN                       NaN       1   \n",
       "1017206                        NaN                       NaN       1   \n",
       "1017207                        NaN                       NaN       1   \n",
       "1017208                        NaN                       NaN       1   \n",
       "\n",
       "         Promo2SinceWeek  Promo2SinceYear     PromoInterval  \n",
       "1017204             22.0           2012.0  Mar,Jun,Sept,Dec  \n",
       "1017205             22.0           2012.0  Mar,Jun,Sept,Dec  \n",
       "1017206             22.0           2012.0  Mar,Jun,Sept,Dec  \n",
       "1017207             22.0           2012.0  Mar,Jun,Sept,Dec  \n",
       "1017208             22.0           2012.0  Mar,Jun,Sept,Dec  "
      ]
     },
     "execution_count": 7,
     "metadata": {},
     "output_type": "execute_result"
    }
   ],
   "source": [
    "df_new.tail()"
   ]
  },
  {
   "cell_type": "code",
   "execution_count": 8,
   "metadata": {},
   "outputs": [
    {
     "name": "stdout",
     "output_type": "stream",
     "text": [
      "Distinct number of Stores : 1115\n",
      "Distinct number of Days : 942\n",
      "Average daily sales of all stores :  5773.82\n"
     ]
    }
   ],
   "source": [
    "print(\"Distinct number of Stores :\", len(df_new[\"Store\"].unique()))\n",
    "print(\"Distinct number of Days :\", len(df_new[\"Date\"].unique()))\n",
    "print(\"Average daily sales of all stores : \",round(df_new[\"Sales\"].mean(),2))"
   ]
  },
  {
   "cell_type": "code",
   "execution_count": 9,
   "metadata": {},
   "outputs": [
    {
     "data": {
      "text/plain": [
       "Store                          int64\n",
       "DayOfWeek                      int64\n",
       "Date                          object\n",
       "Sales                          int64\n",
       "Customers                      int64\n",
       "Open                           int64\n",
       "Promo                          int64\n",
       "StateHoliday                  object\n",
       "SchoolHoliday                  int64\n",
       "StoreType                     object\n",
       "Assortment                    object\n",
       "CompetitionDistance          float64\n",
       "CompetitionOpenSinceMonth    float64\n",
       "CompetitionOpenSinceYear     float64\n",
       "Promo2                         int64\n",
       "Promo2SinceWeek              float64\n",
       "Promo2SinceYear              float64\n",
       "PromoInterval                 object\n",
       "dtype: object"
      ]
     },
     "execution_count": 9,
     "metadata": {},
     "output_type": "execute_result"
    }
   ],
   "source": [
    "df_new.dtypes"
   ]
  },
  {
   "cell_type": "code",
   "execution_count": 10,
   "metadata": {},
   "outputs": [
    {
     "data": {
      "text/plain": [
       "5    145845\n",
       "4    145845\n",
       "3    145665\n",
       "2    145664\n",
       "7    144730\n",
       "6    144730\n",
       "1    144730\n",
       "Name: DayOfWeek, dtype: int64"
      ]
     },
     "execution_count": 10,
     "metadata": {},
     "output_type": "execute_result"
    }
   ],
   "source": [
    "df_new[\"DayOfWeek\"].value_counts()"
   ]
  },
  {
   "cell_type": "markdown",
   "metadata": {},
   "source": [
    "Let’s create additional features that will help our model learn patterns \n",
    "better. We will create the week number, month, day, quarter, and year as \n",
    "features from the date variable. Similarly, since we are already creating \n",
    "time-related features, we can add a new feature based on climate and \n",
    "seasons. Considering that the stores are in Europe, we can refer to the \n",
    "standard season cycles and create a new season feature with values of \n",
    "Spring, Summer, Fall, and Winter. Pandas provides easy-to-use functions \n",
    "to extract date-related features; the season-related feature can be created \n",
    "with a simple ‘if else’ equivalent convention."
   ]
  },
  {
   "cell_type": "code",
   "execution_count": 11,
   "metadata": {},
   "outputs": [],
   "source": [
    "#We can extract all date properties from a datetime datatype\n",
    "df_new['Date'] = pd.to_datetime(df_new['Date'], infer_datetime_format=True)\n",
    "df_new[\"Month\"] = df_new[\"Date\"].dt.month\n",
    "df_new[\"Quarter\"] = df_new[\"Date\"].dt.quarter\n",
    "df_new[\"Year\"] = df_new[\"Date\"].dt.year\n",
    "df_new[\"Day\"] = df_new[\"Date\"].dt.day\n",
    "df_new[\"Week\"] = df_new[\"Date\"].dt.week\n",
    "df_new[\"Season\"] = np.where(df_new[\"Month\"].isin([3,4,5]),\"Spring\",\n",
    "                            np.where(df_new[\"Month\"].isin([6,7,8]),\"Summer\",\n",
    "                                     np.where(df_new[\"Month\"].isin([9,10,11]),\"Fall\",\n",
    "                                              np.where(df_new[\"Month\"].isin([12,1,2]),\"Winter\",\"None\"))))"
   ]
  },
  {
   "cell_type": "code",
   "execution_count": 12,
   "metadata": {},
   "outputs": [
    {
     "data": {
      "text/html": [
       "<div>\n",
       "<style scoped>\n",
       "    .dataframe tbody tr th:only-of-type {\n",
       "        vertical-align: middle;\n",
       "    }\n",
       "\n",
       "    .dataframe tbody tr th {\n",
       "        vertical-align: top;\n",
       "    }\n",
       "\n",
       "    .dataframe thead th {\n",
       "        text-align: right;\n",
       "    }\n",
       "</style>\n",
       "<table border=\"1\" class=\"dataframe\">\n",
       "  <thead>\n",
       "    <tr style=\"text-align: right;\">\n",
       "      <th></th>\n",
       "      <th>Date</th>\n",
       "      <th>Year</th>\n",
       "      <th>Month</th>\n",
       "      <th>Day</th>\n",
       "      <th>Week</th>\n",
       "      <th>Quarter</th>\n",
       "      <th>Season</th>\n",
       "    </tr>\n",
       "  </thead>\n",
       "  <tbody>\n",
       "    <tr>\n",
       "      <th>0</th>\n",
       "      <td>2015-07-31</td>\n",
       "      <td>2015</td>\n",
       "      <td>7</td>\n",
       "      <td>31</td>\n",
       "      <td>31</td>\n",
       "      <td>3</td>\n",
       "      <td>Summer</td>\n",
       "    </tr>\n",
       "    <tr>\n",
       "      <th>1</th>\n",
       "      <td>2015-07-30</td>\n",
       "      <td>2015</td>\n",
       "      <td>7</td>\n",
       "      <td>30</td>\n",
       "      <td>31</td>\n",
       "      <td>3</td>\n",
       "      <td>Summer</td>\n",
       "    </tr>\n",
       "    <tr>\n",
       "      <th>2</th>\n",
       "      <td>2015-07-29</td>\n",
       "      <td>2015</td>\n",
       "      <td>7</td>\n",
       "      <td>29</td>\n",
       "      <td>31</td>\n",
       "      <td>3</td>\n",
       "      <td>Summer</td>\n",
       "    </tr>\n",
       "    <tr>\n",
       "      <th>3</th>\n",
       "      <td>2015-07-28</td>\n",
       "      <td>2015</td>\n",
       "      <td>7</td>\n",
       "      <td>28</td>\n",
       "      <td>31</td>\n",
       "      <td>3</td>\n",
       "      <td>Summer</td>\n",
       "    </tr>\n",
       "    <tr>\n",
       "      <th>4</th>\n",
       "      <td>2015-07-27</td>\n",
       "      <td>2015</td>\n",
       "      <td>7</td>\n",
       "      <td>27</td>\n",
       "      <td>31</td>\n",
       "      <td>3</td>\n",
       "      <td>Summer</td>\n",
       "    </tr>\n",
       "  </tbody>\n",
       "</table>\n",
       "</div>"
      ],
      "text/plain": [
       "        Date  Year  Month  Day  Week  Quarter  Season\n",
       "0 2015-07-31  2015      7   31    31        3  Summer\n",
       "1 2015-07-30  2015      7   30    31        3  Summer\n",
       "2 2015-07-29  2015      7   29    31        3  Summer\n",
       "3 2015-07-28  2015      7   28    31        3  Summer\n",
       "4 2015-07-27  2015      7   27    31        3  Summer"
      ]
     },
     "execution_count": 12,
     "metadata": {},
     "output_type": "execute_result"
    }
   ],
   "source": [
    "df_new[[\"Date\",\"Year\",\"Month\",\"Day\",\"Week\",\"Quarter\",\"Season\"]].head()"
   ]
  },
  {
   "cell_type": "code",
   "execution_count": 13,
   "metadata": {},
   "outputs": [
    {
     "data": {
      "image/png": "[encoded data removed]",
      "text/plain": [
       "<Figure size 1080x576 with 1 Axes>"
      ]
     },
     "metadata": {
      "needs_background": "light"
     },
     "output_type": "display_data"
    }
   ],
   "source": [
    "#Import matplotlib, python most popular data visualizing library\n",
    "import matplotlib.pyplot as plt\n",
    "%matplotlib inline\n",
    "#Create a histogram to study the Daily Sales for the stores\n",
    "plt.figure(figsize=(15,8))\n",
    "plt.hist(df_new[\"Sales\"])\n",
    "plt.title(\"Histogram for Store Sales\")\n",
    "plt.xlabel(\"bins\")\n",
    "plt.xlabel(\"Frequency\")\n",
    "plt.show()"
   ]
  },
  {
   "cell_type": "markdown",
   "metadata": {},
   "source": [
    "The histogram helps us understand the distribution of the data at a \n",
    "high level. From the preceding plot, we can see that the data range is from \n",
    "0 to 40,000, but there is barely any data after 20,000. This indicates that \n",
    "most of the stores have sales in the range 0–20,000, and just a few stores \n",
    "have sales greater than 20,000. It might be worthwhile to remove these \n",
    "outliers, as it helps the model learn better."
   ]
  },
  {
   "cell_type": "code",
   "execution_count": 14,
   "metadata": {},
   "outputs": [
    {
     "data": {
      "text/plain": [
       "array([[<matplotlib.axes._subplots.AxesSubplot object at 0x0000017B6489B518>,\n",
       "        <matplotlib.axes._subplots.AxesSubplot object at 0x0000017B03E01080>,\n",
       "        <matplotlib.axes._subplots.AxesSubplot object at 0x0000017B03E27550>,\n",
       "        <matplotlib.axes._subplots.AxesSubplot object at 0x0000017B03E50AC8>],\n",
       "       [<matplotlib.axes._subplots.AxesSubplot object at 0x0000017B03E84048>,\n",
       "        <matplotlib.axes._subplots.AxesSubplot object at 0x0000017B03EAA5C0>,\n",
       "        <matplotlib.axes._subplots.AxesSubplot object at 0x0000017B03ED2B38>,\n",
       "        <matplotlib.axes._subplots.AxesSubplot object at 0x0000017B03F03128>],\n",
       "       [<matplotlib.axes._subplots.AxesSubplot object at 0x0000017B03F03160>,\n",
       "        <matplotlib.axes._subplots.AxesSubplot object at 0x0000017B03F53BE0>,\n",
       "        <matplotlib.axes._subplots.AxesSubplot object at 0x0000017B03F83198>,\n",
       "        <matplotlib.axes._subplots.AxesSubplot object at 0x0000017B03FA9710>],\n",
       "       [<matplotlib.axes._subplots.AxesSubplot object at 0x0000017B03FD5C88>,\n",
       "        <matplotlib.axes._subplots.AxesSubplot object at 0x0000017B04004240>,\n",
       "        <matplotlib.axes._subplots.AxesSubplot object at 0x0000017B0402D7B8>,\n",
       "        <matplotlib.axes._subplots.AxesSubplot object at 0x0000017B04285D30>],\n",
       "       [<matplotlib.axes._subplots.AxesSubplot object at 0x0000017B042B52E8>,\n",
       "        <matplotlib.axes._subplots.AxesSubplot object at 0x0000017B042DC860>,\n",
       "        <matplotlib.axes._subplots.AxesSubplot object at 0x0000017B04306DD8>,\n",
       "        <matplotlib.axes._subplots.AxesSubplot object at 0x0000017B04337390>]],\n",
       "      dtype=object)"
      ]
     },
     "execution_count": 14,
     "metadata": {},
     "output_type": "execute_result"
    },
    {
     "data": {
      "image/png": "[encoded data removed]",
      "text/plain": [
       "<Figure size 1440x1080 with 20 Axes>"
      ]
     },
     "metadata": {
      "needs_background": "light"
     },
     "output_type": "display_data"
    }
   ],
   "source": [
    "#Use the  histogram function provided by the Pandas object\n",
    "#The function returns a cross-tab histogram plot for all numeric columns in the data\n",
    "df_new.hist(figsize=(20,15))"
   ]
  },
  {
   "cell_type": "markdown",
   "metadata": {},
   "source": [
    "Let’s have a look at the number of missing data points in each column \n",
    "(if any) in its associated percentage form."
   ]
  },
  {
   "cell_type": "code",
   "execution_count": 15,
   "metadata": {},
   "outputs": [
    {
     "data": {
      "text/plain": [
       "Store                         0.000000\n",
       "DayOfWeek                     0.000000\n",
       "Date                          0.000000\n",
       "Sales                         0.000000\n",
       "Customers                     0.000000\n",
       "Open                          0.000000\n",
       "Promo                         0.000000\n",
       "StateHoliday                  0.000000\n",
       "SchoolHoliday                 0.000000\n",
       "StoreType                     0.000000\n",
       "Assortment                    0.000000\n",
       "CompetitionDistance           0.259730\n",
       "CompetitionOpenSinceMonth    31.787764\n",
       "CompetitionOpenSinceYear     31.787764\n",
       "Promo2                        0.000000\n",
       "Promo2SinceWeek              49.943620\n",
       "Promo2SinceYear              49.943620\n",
       "PromoInterval                49.943620\n",
       "Month                         0.000000\n",
       "Quarter                       0.000000\n",
       "Year                          0.000000\n",
       "Day                           0.000000\n",
       "Week                          0.000000\n",
       "Season                        0.000000\n",
       "dtype: float64"
      ]
     },
     "execution_count": 15,
     "metadata": {},
     "output_type": "execute_result"
    }
   ],
   "source": [
    "df_new.isnull().sum()/df_new.shape[0] * 100"
   ]
  },
  {
   "cell_type": "markdown",
   "metadata": {},
   "source": [
    "We can see that Promo2SinceWeek, \n",
    "Promo2SinceYear, PromoInterval, CompetitionOpenSinceMonth, and \n",
    "CompetitionOpenSinceYear have over 30% null values. This is a big \n",
    "loss and there is nothing much we can do to fix this. As a rule of thumb, \n",
    "if there is a loss of anything between 0% and 10%, we can make a few \n",
    "attempts to fill the missing points and use the feature. But, 30% technically \n",
    "becomes beyond the usable range. On the other hand, we can see \n",
    "CompetitionDistance has around 0.25% missing values. This would much easier to handle and fix."
   ]
  },
  {
   "cell_type": "code",
   "execution_count": 16,
   "metadata": {},
   "outputs": [
    {
     "data": {
      "text/plain": [
       "0.0"
      ]
     },
     "execution_count": 16,
     "metadata": {},
     "output_type": "execute_result"
    }
   ],
   "source": [
    "#Replace nulls with the mode\n",
    "df_new[\"CompetitionDistance\"]=df_new[\"CompetitionDistance\"].fillna(df_new[\"CompetitionDistance\"].mode()[0])\n",
    "#Double check if we still see nulls for the column\n",
    "df_new[\"CompetitionDistance\"].isnull().sum()/df_new.shape[0] * 100"
   ]
  },
  {
   "cell_type": "markdown",
   "metadata": {},
   "source": [
    "The best way to study a categorical \n",
    "variable is to study the impact on the target variable from its individual \n",
    "classes. We can do this by plotting the mean sales across different values of \n",
    "the classes in the feature. To accomplish this, we can leverage “seaborn,” \n",
    "another powerful and easy-to-use Python visualization library, similar to \n",
    "matplotlib but providing much more beautiful visuals."
   ]
  },
  {
   "cell_type": "code",
   "execution_count": 17,
   "metadata": {},
   "outputs": [
    {
     "name": "stderr",
     "output_type": "stream",
     "text": [
      "C:\\Users\\kabon\\AppData\\Local\\conda\\conda\\envs\\aims\\lib\\site-packages\\scipy\\stats\\stats.py:1713: FutureWarning: Using a non-tuple sequence for multidimensional indexing is deprecated; use `arr[tuple(seq)]` instead of `arr[seq]`. In the future this will be interpreted as an array index, `arr[np.array(seq)]`, which will result either in an error or a different result.\n",
      "  return np.add.reduce(sorted[indexer] * weights, axis=axis) / sumval\n"
     ]
    },
    {
     "data": {
      "image/png": "[encoded data removed]",
      "text/plain": [
       "<Figure size 432x288 with 1 Axes>"
      ]
     },
     "metadata": {},
     "output_type": "display_data"
    }
   ],
   "source": [
    "import seaborn as sns  #Seaborn is another powerful visualization library for Python\n",
    "sns.set(style=\"whitegrid\")\n",
    "#Create the bar plot for Average Sales across different Seasons\n",
    "ax = sns.barplot(x=\"Season\", y=\"Sales\", data=df_new)"
   ]
  },
  {
   "cell_type": "code",
   "execution_count": 18,
   "metadata": {},
   "outputs": [
    {
     "data": {
      "image/png": "[encoded data removed]",
      "text/plain": [
       "<Figure size 432x288 with 1 Axes>"
      ]
     },
     "metadata": {},
     "output_type": "display_data"
    }
   ],
   "source": [
    "#Create the bar plot for Average Sales across different Assortments\n",
    "ax = sns.barplot(x=\"Assortment\", y=\"Sales\", data=df_new)"
   ]
  },
  {
   "cell_type": "code",
   "execution_count": 19,
   "metadata": {},
   "outputs": [
    {
     "data": {
      "image/png": "[encoded data removed]",
      "text/plain": [
       "<Figure size 432x288 with 1 Axes>"
      ]
     },
     "metadata": {},
     "output_type": "display_data"
    }
   ],
   "source": [
    "#Create the bar plot for Average Sales across different Store Types\n",
    "ax = sns.barplot(x=\"StoreType\", y=\"Sales\", data=df_new)"
   ]
  },
  {
   "cell_type": "markdown",
   "metadata": {},
   "source": [
    "As you can see, the seaborn package has internally calculated the \n",
    "average sales across its classes for the provided categorical column and \n",
    "displayed a beautiful bar plot showcasing the relationship with our \n",
    "target variable. We can change the aggregation function to a different \n",
    "one if required; this can be changed by using the ‘estimator’ parameter \n",
    "within the barplot function. Sales across seasons barely seem to \n",
    "differ; however, there seems to be an increasing trend for sales across \n",
    "assortments. Stores with assortment “b” generally have the highest sales. \n",
    "Store type also shows a unique relationship with sales across store types. \n",
    "We can see fairly higher sales for “b” store types also. However, before we \n",
    "conclude our observations, there is one more sanity check required to \n",
    "validate these hypotheses. What if the number of stores in the different \n",
    "types mentioned in the preceding is disproportionate or skewed? \n",
    "In such a scenario, our observation might be flawed. To cement our \n",
    "understanding about the observation, we can simply check the number \n",
    "of data points across each category using the same barplot function with \n",
    "one additional parameter setting. We will use a new aggregation function \n",
    "to showcase the counts as the metric for bar charts. The following code \n",
    "snippet visualizes the bar plots for the same set of categorical variables \n",
    "we studied earlier, albeit for counts."
   ]
  },
  {
   "cell_type": "code",
   "execution_count": 20,
   "metadata": {},
   "outputs": [
    {
     "data": {
      "image/png": "[encoded data removed]",
      "text/plain": [
       "<Figure size 432x288 with 1 Axes>"
      ]
     },
     "metadata": {},
     "output_type": "display_data"
    }
   ],
   "source": [
    "ax = sns.barplot(x=\"Season\", y=\"Sales\", data=df_new, estimator=np.size)"
   ]
  },
  {
   "cell_type": "code",
   "execution_count": 21,
   "metadata": {},
   "outputs": [
    {
     "data": {
      "image/png": "[encoded data removed]",
      "text/plain": [
       "<Figure size 432x288 with 1 Axes>"
      ]
     },
     "metadata": {},
     "output_type": "display_data"
    }
   ],
   "source": [
    "ax = sns.barplot(x=\"Assortment\", y=\"Sales\", data=df_new, estimator=np.size)"
   ]
  },
  {
   "cell_type": "code",
   "execution_count": 22,
   "metadata": {},
   "outputs": [
    {
     "data": {
      "image/png": "[encoded data removed]",
      "text/plain": [
       "<Figure size 432x288 with 1 Axes>"
      ]
     },
     "metadata": {},
     "output_type": "display_data"
    }
   ],
   "source": [
    "ax = sns.barplot(x=\"StoreType\", y=\"Sales\", data=df_new, estimator=np.size)"
   ]
  },
  {
   "cell_type": "markdown",
   "metadata": {},
   "source": [
    "we will start with treating Season, Assortment, Month, \n",
    "Year, Quarter, DayOfWeek, and StoreType in one-hot encoded form and \n",
    "keep aside Day, Week, and Store as continuous for the time being. We will \n",
    "revisit this after we build a few models and study their performance.\n",
    "\n",
    "To transform a categorical column into a one-hot encoded version, \n",
    "Python provides the preprocessing module in the sklearn package with \n",
    "rich and easy-to-use functions. The following code snippet engineers the \n",
    "training dataframe into the final required form for model development."
   ]
  },
  {
   "cell_type": "code",
   "execution_count": 23,
   "metadata": {},
   "outputs": [],
   "source": [
    "# Define a variable for each type of feature\n",
    "from sklearn.preprocessing import LabelEncoder\n",
    "from sklearn.preprocessing import OneHotEncoder\n",
    "\n",
    "\n",
    "target = [\"Sales\"]\n",
    "numeric_columns = [\"Customers\",\"Open\",\"Promo\",\"Promo2\", \n",
    "                   \"StateHoliday\",\"SchoolHoliday\",\"CompetitionDistance\"]\n",
    "categorical_columns = [\"DayOfWeek\",\"Quarter\",\"Month\",\"Year\", \n",
    "                       \"StoreType\",\"Assortment\",\"Season\"] # note that we left aside (Day, Week, and Store)\n",
    "\n",
    "# Define a function that will intake the raw dataframe and the \n",
    "# column name and return a one hot encoded DF\n",
    "def create_ohe(df, col):\n",
    "    le = LabelEncoder()\n",
    "    a = le.fit_transform(df_new[col]).reshape(-1,1) #; ipdb.set_trace()\n",
    "    ohe = OneHotEncoder(sparse=False)\n",
    "    column_names = [col+ \"_\"+ str(i) for i in le.classes_]\n",
    "    \n",
    "    return(pd.DataFrame(ohe.fit_transform(a),columns =column_names))"
   ]
  },
  {
   "cell_type": "code",
   "execution_count": 24,
   "metadata": {},
   "outputs": [
    {
     "name": "stderr",
     "output_type": "stream",
     "text": [
      "C:\\Users\\kabon\\AppData\\Local\\conda\\conda\\envs\\aims\\lib\\site-packages\\sklearn\\preprocessing\\_encoders.py:368: FutureWarning: The handling of integer data will change in version 0.22. Currently, the categories are determined based on the range [0, max(values)], while in the future they will be determined based on the unique values.\n",
      "If you want the future behaviour and silence this warning, you can specify \"categories='auto'\".\n",
      "In case you used a LabelEncoder before this OneHotEncoder to convert the categories to integers, then you can now use the OneHotEncoder directly.\n",
      "  warnings.warn(msg, FutureWarning)\n",
      "C:\\Users\\kabon\\AppData\\Local\\conda\\conda\\envs\\aims\\lib\\site-packages\\sklearn\\preprocessing\\_encoders.py:368: FutureWarning: The handling of integer data will change in version 0.22. Currently, the categories are determined based on the range [0, max(values)], while in the future they will be determined based on the unique values.\n",
      "If you want the future behaviour and silence this warning, you can specify \"categories='auto'\".\n",
      "In case you used a LabelEncoder before this OneHotEncoder to convert the categories to integers, then you can now use the OneHotEncoder directly.\n",
      "  warnings.warn(msg, FutureWarning)\n",
      "C:\\Users\\kabon\\AppData\\Local\\conda\\conda\\envs\\aims\\lib\\site-packages\\sklearn\\preprocessing\\_encoders.py:368: FutureWarning: The handling of integer data will change in version 0.22. Currently, the categories are determined based on the range [0, max(values)], while in the future they will be determined based on the unique values.\n",
      "If you want the future behaviour and silence this warning, you can specify \"categories='auto'\".\n",
      "In case you used a LabelEncoder before this OneHotEncoder to convert the categories to integers, then you can now use the OneHotEncoder directly.\n",
      "  warnings.warn(msg, FutureWarning)\n",
      "C:\\Users\\kabon\\AppData\\Local\\conda\\conda\\envs\\aims\\lib\\site-packages\\sklearn\\preprocessing\\_encoders.py:368: FutureWarning: The handling of integer data will change in version 0.22. Currently, the categories are determined based on the range [0, max(values)], while in the future they will be determined based on the unique values.\n",
      "If you want the future behaviour and silence this warning, you can specify \"categories='auto'\".\n",
      "In case you used a LabelEncoder before this OneHotEncoder to convert the categories to integers, then you can now use the OneHotEncoder directly.\n",
      "  warnings.warn(msg, FutureWarning)\n",
      "C:\\Users\\kabon\\AppData\\Local\\conda\\conda\\envs\\aims\\lib\\site-packages\\sklearn\\preprocessing\\_encoders.py:368: FutureWarning: The handling of integer data will change in version 0.22. Currently, the categories are determined based on the range [0, max(values)], while in the future they will be determined based on the unique values.\n",
      "If you want the future behaviour and silence this warning, you can specify \"categories='auto'\".\n",
      "In case you used a LabelEncoder before this OneHotEncoder to convert the categories to integers, then you can now use the OneHotEncoder directly.\n",
      "  warnings.warn(msg, FutureWarning)\n",
      "C:\\Users\\kabon\\AppData\\Local\\conda\\conda\\envs\\aims\\lib\\site-packages\\sklearn\\preprocessing\\_encoders.py:368: FutureWarning: The handling of integer data will change in version 0.22. Currently, the categories are determined based on the range [0, max(values)], while in the future they will be determined based on the unique values.\n",
      "If you want the future behaviour and silence this warning, you can specify \"categories='auto'\".\n",
      "In case you used a LabelEncoder before this OneHotEncoder to convert the categories to integers, then you can now use the OneHotEncoder directly.\n",
      "  warnings.warn(msg, FutureWarning)\n",
      "C:\\Users\\kabon\\AppData\\Local\\conda\\conda\\envs\\aims\\lib\\site-packages\\sklearn\\preprocessing\\_encoders.py:368: FutureWarning: The handling of integer data will change in version 0.22. Currently, the categories are determined based on the range [0, max(values)], while in the future they will be determined based on the unique values.\n",
      "If you want the future behaviour and silence this warning, you can specify \"categories='auto'\".\n",
      "In case you used a LabelEncoder before this OneHotEncoder to convert the categories to integers, then you can now use the OneHotEncoder directly.\n",
      "  warnings.warn(msg, FutureWarning)\n"
     ]
    }
   ],
   "source": [
    "# Since the above function converts the column, one at a time\n",
    "# We create a loop to create the final dataset with all features\n",
    "temp = df_new[numeric_columns]\n",
    "for column in categorical_columns:\n",
    "    temp_df = create_ohe(df_new, column)\n",
    "    temp = pd.concat([temp,temp_df], axis=1)"
   ]
  },
  {
   "cell_type": "code",
   "execution_count": 25,
   "metadata": {},
   "outputs": [
    {
     "name": "stdout",
     "output_type": "stream",
     "text": [
      "Shape of Data: (1017209, 44)\n",
      "Distinct Datatypes: [dtype('int64') dtype('O') dtype('float64')]\n"
     ]
    }
   ],
   "source": [
    "print(\"Shape of Data:\",temp.shape)\n",
    "print(\"Distinct Datatypes:\",temp.dtypes.unique())"
   ]
  },
  {
   "cell_type": "code",
   "execution_count": 26,
   "metadata": {},
   "outputs": [
    {
     "name": "stdout",
     "output_type": "stream",
     "text": [
      "Index(['StateHoliday'], dtype='object')\n"
     ]
    }
   ],
   "source": [
    "print(temp.columns[temp.dtypes==\"object\"])"
   ]
  },
  {
   "cell_type": "code",
   "execution_count": 27,
   "metadata": {},
   "outputs": [
    {
     "data": {
      "text/plain": [
       "array(['0', 'a', 'b', 'c', 0], dtype=object)"
      ]
     },
     "execution_count": 27,
     "metadata": {},
     "output_type": "execute_result"
    }
   ],
   "source": [
    "temp[\"StateHoliday\"].unique()"
   ]
  },
  {
   "cell_type": "markdown",
   "metadata": {},
   "source": [
    "The feature seems to have incorrect values. Ideally, StateHoliday \n",
    "should have either a 0 or 1 as the possible values to indicate whether it is a \n",
    "holiday or not. Let’s repair the feature by replacing all values of “a,” “b,” and \n",
    "“c” with 1 and the rest with 0, therefore converting the variable as numeric."
   ]
  },
  {
   "cell_type": "code",
   "execution_count": 28,
   "metadata": {},
   "outputs": [
    {
     "data": {
      "text/plain": [
       "array([dtype('int64'), dtype('int32'), dtype('float64')], dtype=object)"
      ]
     },
     "execution_count": 28,
     "metadata": {},
     "output_type": "execute_result"
    }
   ],
   "source": [
    "temp[\"StateHoliday\"]= np.where(temp[\"StateHoliday\"]== '0',0,1)\n",
    "# One last check of the data type\n",
    "temp.dtypes.unique()"
   ]
  },
  {
   "cell_type": "markdown",
   "metadata": {},
   "source": [
    "Spliting data"
   ]
  },
  {
   "cell_type": "code",
   "execution_count": 29,
   "metadata": {},
   "outputs": [],
   "source": [
    "from sklearn.model_selection import train_test_split\n",
    "\n",
    "#Create train and test dataset with an 80:20 split\n",
    "x_train, x_test, y_train, y_test = train_test_split(\n",
    "    temp, df_new[target],test_size=0.2,random_state=2018)\n",
    "\n",
    "#Further divide training dataset into train and validation \n",
    "# dataset with an 90:10 split\n",
    "x_train, x_val, y_train, y_val = train_test_split(\n",
    "    x_train, y_train,test_size=0.1,random_state=2018)"
   ]
  },
  {
   "cell_type": "code",
   "execution_count": 30,
   "metadata": {},
   "outputs": [
    {
     "name": "stdout",
     "output_type": "stream",
     "text": [
      "Shape of x_train: (732390, 44)\n",
      "Shape of x_val: (81377, 44)\n",
      "Shape of x_test: (203442, 44)\n",
      "Shape of y_train: (732390, 1)\n",
      "Shape of y_val: (81377, 1)\n",
      "Shape of y_test: (203442, 1)\n"
     ]
    }
   ],
   "source": [
    "#Check the sizes of all newly created datasets\n",
    "print(\"Shape of x_train:\",x_train.shape)\n",
    "print(\"Shape of x_val:\",x_val.shape)\n",
    "print(\"Shape of x_test:\",x_test.shape)\n",
    "print(\"Shape of y_train:\",y_train.shape)\n",
    "print(\"Shape of y_val:\",y_val.shape)\n",
    "print(\"Shape of y_test:\",y_test.shape)"
   ]
  },
  {
   "cell_type": "markdown",
   "metadata": {},
   "source": [
    "### Defining Model"
   ]
  },
  {
   "cell_type": "markdown",
   "metadata": {},
   "source": [
    "For a regression model, if we assume the mean value of sales in the \n",
    "training dataset to be the prediction for all samples in the test dataset, we \n",
    "would have a basic benchmark score. The DL model should at least score \n",
    "better than this score to be considered as useful."
   ]
  },
  {
   "cell_type": "code",
   "execution_count": 31,
   "metadata": {},
   "outputs": [
    {
     "name": "stdout",
     "output_type": "stream",
     "text": [
      "Average Sales : Sales    5773.099997\n",
      "dtype: float64\n"
     ]
    }
   ],
   "source": [
    "#calculate the average score of the train dataset\n",
    "mean_sales = y_train.mean()\n",
    "print(\"Average Sales :\",mean_sales)"
   ]
  },
  {
   "cell_type": "markdown",
   "metadata": {},
   "source": [
    "Now, if we assume the average sales as the prediction for all samples in \n",
    "the test dataset, what does the MAE metric look like?"
   ]
  },
  {
   "cell_type": "code",
   "execution_count": 32,
   "metadata": {},
   "outputs": [
    {
     "name": "stdout",
     "output_type": "stream",
     "text": [
      "MAE for Test Data :  2883.587604303127\n"
     ]
    }
   ],
   "source": [
    "#Calculate the Mean Absolute Error on the test dataset\n",
    "print(\"MAE for Test Data : \",abs(y_test - mean_sales).mean()[0])"
   ]
  },
  {
   "cell_type": "markdown",
   "metadata": {},
   "source": [
    "So, our baseline performance is 2,883.58.\n",
    "\n",
    "If our DL model doesn’t deliver results better (i.e., lower) than the \n",
    "baseline score, then it would barely add any value."
   ]
  },
  {
   "cell_type": "markdown",
   "metadata": {},
   "source": [
    "##  Designing the DNN\n",
    "\n",
    "Here are a few guidelines.\n",
    "\n",
    "- **Rule 1: Start with small architectures.** \n",
    "\n",
    "In the case of DNNs, it is always advised to  start with a single-layer network with around \n",
    "100–300 neurons. Train the network and measure \n",
    "performance using the defined metrics (while \n",
    "defining the baseline score). If the results are not \n",
    "encouraging, try adding one more layer with the \n",
    "same number of neurons and repeating the process.\n",
    "\n",
    "- __Rule 2: When small architectures (with two layers)__\n",
    "\n",
    "fail, increase the size.\n",
    "When the results from small networks are not \n",
    "great, you need to increase the number of neurons \n",
    "in layers by three to five times (i.e., around 1,000 \n",
    "neurons in each layer). Also, increase regularization \n",
    "(to be covered in depth in Chapter 5) to 0.3, 0.4, \n",
    "or 0.5 for both layers and repeat the process for \n",
    "training and performance measurement.\n",
    "\n",
    "- **Rule 3: When larger networks with two layers fail, go deeper.**\n",
    "\n",
    "Try increasing the depth of the network with more \n",
    "and more layers while maintaining regularization with \n",
    "dropout layers (if required) after each dense (or your \n",
    "selected layer) with a dropout rate between 0.2 and 0.5.\n",
    "\n",
    "- **Rule 4: When larger and deeper networks also fail, go even larger and even deeper.**\n",
    "\n",
    "In case large networks with ~1000 neurons and five \n",
    "or six layers also don’t give the desired performance, \n",
    "try increasing the width and depth of the network. \n",
    "Try adding layers with 8,000–10,000 neurons per \n",
    "layer and a dropout of 0.6 to 0.8.\n",
    "\n",
    "- **Rule 5: When everything fails, revisit the data.**\n",
    "\n",
    "If all the aforementioned rules fail, revisit the \n",
    "data for improved feature engineering and \n",
    "normalization, and then you will need to try other \n",
    "ML alternatives."
   ]
  },
  {
   "cell_type": "code",
   "execution_count": 33,
   "metadata": {},
   "outputs": [
    {
     "name": "stdout",
     "output_type": "stream",
     "text": [
      "WARNING:tensorflow:From C:\\Users\\kabon\\AppData\\Local\\conda\\conda\\envs\\aims\\lib\\site-packages\\tensorflow\\python\\framework\\op_def_library.py:263: colocate_with (from tensorflow.python.framework.ops) is deprecated and will be removed in a future version.\n",
      "Instructions for updating:\n",
      "Colocations handled automatically by placer.\n"
     ]
    }
   ],
   "source": [
    "#Create Deep Neural Network Architecture\n",
    "from keras.models import Sequential\n",
    "from keras.layers import Dense, Dropout\n",
    "\n",
    "model = Sequential()\n",
    "model.add(Dense(150,input_dim = 44,activation=\"relu\"))\n",
    "#The input_dim =44, since the width of the training data=44 (refer data engg section)\n",
    "model.add(Dense(1,activation = \"linear\"))\n",
    "\n",
    "#Configure the model\n",
    "model.compile(optimizer='adam',loss=\"mean_absolute_error\",\n",
    "metrics=[\"mean_absolute_error\"])"
   ]
  },
  {
   "cell_type": "code",
   "execution_count": 53,
   "metadata": {},
   "outputs": [
    {
     "name": "stdout",
     "output_type": "stream",
     "text": [
      "WARNING:tensorflow:From C:\\Users\\kabon\\AppData\\Local\\conda\\conda\\envs\\aims\\lib\\site-packages\\tensorflow\\python\\ops\\math_ops.py:3066: to_int32 (from tensorflow.python.ops.math_ops) is deprecated and will be removed in a future version.\n",
      "Instructions for updating:\n",
      "Use tf.cast instead.\n",
      "Train on 732390 samples, validate on 81377 samples\n",
      "Epoch 1/10\n",
      "732390/732390 [==============================] - 20s 27us/step - loss: 944.1957 - mean_absolute_error: 944.1957 - val_loss: 813.4872 - val_mean_absolute_error: 813.4872\n",
      "Epoch 2/10\n",
      "732390/732390 [==============================] - 19s 26us/step - loss: 775.6383 - mean_absolute_error: 775.6383 - val_loss: 742.3698 - val_mean_absolute_error: 742.3698\n",
      "Epoch 3/10\n",
      "732390/732390 [==============================] - 19s 26us/step - loss: 736.9702 - mean_absolute_error: 736.9702 - val_loss: 799.5314 - val_mean_absolute_error: 799.5314\n",
      "Epoch 4/10\n",
      "732390/732390 [==============================] - 20s 27us/step - loss: 721.3819 - mean_absolute_error: 721.3819 - val_loss: 719.9784 - val_mean_absolute_error: 719.9784\n",
      "Epoch 5/10\n",
      "732390/732390 [==============================] - 20s 28us/step - loss: 710.0932 - mean_absolute_error: 710.0932 - val_loss: 701.6288 - val_mean_absolute_error: 701.6288\n",
      "Epoch 6/10\n",
      "732390/732390 [==============================] - 21s 29us/step - loss: 702.5851 - mean_absolute_error: 702.5851 - val_loss: 694.5126 - val_mean_absolute_error: 694.5126\n",
      "Epoch 7/10\n",
      "732390/732390 [==============================] - 21s 29us/step - loss: 696.8184 - mean_absolute_error: 696.8184 - val_loss: 690.1943 - val_mean_absolute_error: 690.1943\n",
      "Epoch 8/10\n",
      "732390/732390 [==============================] - 21s 28us/step - loss: 691.5243 - mean_absolute_error: 691.5243 - val_loss: 684.2759 - val_mean_absolute_error: 684.2759\n",
      "Epoch 9/10\n",
      "732390/732390 [==============================] - 20s 28us/step - loss: 686.5893 - mean_absolute_error: 686.5893 - val_loss: 679.6376 - val_mean_absolute_error: 679.6376\n",
      "Epoch 10/10\n",
      "732390/732390 [==============================] - 20s 27us/step - loss: 682.4212 - mean_absolute_error: 682.4212 - val_loss: 689.4835 - val_mean_absolute_error: 689.4835\n"
     ]
    },
    {
     "data": {
      "text/plain": [
       "<keras.callbacks.History at 0x18920bf1978>"
      ]
     },
     "execution_count": 53,
     "metadata": {},
     "output_type": "execute_result"
    }
   ],
   "source": [
    "#Train the model\n",
    "model.fit(x_train.values,y_train.values, validation_data= \n",
    "(x_val,y_val),epochs=10,batch_size=64)"
   ]
  },
  {
   "cell_type": "code",
   "execution_count": 56,
   "metadata": {},
   "outputs": [
    {
     "name": "stdout",
     "output_type": "stream",
     "text": [
      "203442/203442 [==============================] - 4s 19us/step\n",
      "Metric  loss : 685.43\n",
      "Metric  mean_absolute_error : 685.43\n"
     ]
    }
   ],
   "source": [
    "#Use the model's evaluate method to predict and evaluate the test datasets\n",
    "result = model.evaluate(x_test.values,y_test.values) # ,value to moove from data set to array\n",
    "\n",
    "#Print the results\n",
    "for i in range(len(model.metrics_names)):\n",
    "     print(\"Metric \",model.metrics_names[i],\":\",str(round(result[i],2)))"
   ]
  },
  {
   "cell_type": "markdown",
   "metadata": {},
   "source": [
    "(Mean) 2883.587604303127 vs 685.43 (DNN)"
   ]
  },
  {
   "cell_type": "markdown",
   "metadata": {},
   "source": [
    "### Improoving model"
   ]
  },
  {
   "cell_type": "markdown",
   "metadata": {},
   "source": [
    "In the following network, we have added two more layers with similar \n",
    "numbers of neurons. We will update our loss function to mean squared \n",
    "error instead of MAE. Let’s train the network and have a look at the \n",
    "performance on the test dataset."
   ]
  },
  {
   "cell_type": "code",
   "execution_count": 57,
   "metadata": {},
   "outputs": [
    {
     "name": "stdout",
     "output_type": "stream",
     "text": [
      "Train on 732390 samples, validate on 81377 samples\n",
      "Epoch 1/10\n",
      "732390/732390 [==============================] - 43s 58us/step - loss: 1691443.3842 - mean_absolute_error: 847.3790 - val_loss: 1087885.7231 - val_mean_absolute_error: 710.3793\n",
      "Epoch 2/10\n",
      "732390/732390 [==============================] - 49s 67us/step - loss: 1151747.6039 - mean_absolute_error: 719.0575 - val_loss: 1119718.4192 - val_mean_absolute_error: 710.5457\n",
      "Epoch 3/10\n",
      "732390/732390 [==============================] - 47s 64us/step - loss: 1082322.8907 - mean_absolute_error: 697.6016 - val_loss: 1117289.8744 - val_mean_absolute_error: 703.3232\n",
      "Epoch 4/10\n",
      "732390/732390 [==============================] - 42s 57us/step - loss: 1052601.6808 - mean_absolute_error: 687.6659 - val_loss: 1081153.4025 - val_mean_absolute_error: 710.8458\n",
      "Epoch 5/10\n",
      "732390/732390 [==============================] - 41s 56us/step - loss: 1030185.1860 - mean_absolute_error: 680.8107 - val_loss: 968891.5280 - val_mean_absolute_error: 663.5924\n",
      "Epoch 6/10\n",
      "732390/732390 [==============================] - 42s 58us/step - loss: 1008346.4929 - mean_absolute_error: 674.1283 - val_loss: 1149332.2279 - val_mean_absolute_error: 725.5575\n",
      "Epoch 7/10\n",
      "732390/732390 [==============================] - 43s 59us/step - loss: 992065.3527 - mean_absolute_error: 669.6599 - val_loss: 935401.8721 - val_mean_absolute_error: 663.1735\n",
      "Epoch 8/10\n",
      "732390/732390 [==============================] - 44s 60us/step - loss: 974268.7699 - mean_absolute_error: 664.9563 - val_loss: 997252.1345 - val_mean_absolute_error: 673.9437\n",
      "Epoch 9/10\n",
      "732390/732390 [==============================] - 39s 53us/step - loss: 950999.8140 - mean_absolute_error: 658.0949 - val_loss: 939760.8538 - val_mean_absolute_error: 660.8537\n",
      "Epoch 10/10\n",
      "732390/732390 [==============================] - 43s 59us/step - loss: 929129.0896 - mean_absolute_error: 651.0481 - val_loss: 870345.0177 - val_mean_absolute_error: 637.8249\n"
     ]
    }
   ],
   "source": [
    "model = Sequential()\n",
    "model.add(Dense(150,input_dim = 44,activation=\"relu\"))\n",
    "model.add(Dense(150,activation=\"relu\"))\n",
    "model.add(Dense(150,activation=\"relu\"))\n",
    "model.add(Dense(1,activation = \"linear\"))\n",
    "\n",
    "model.compile(optimizer='adam', \n",
    "              loss=\"mean_squared_error\", \n",
    "              metrics=[\"mean_absolute_error\"])\n",
    "\n",
    "history = model.fit(x_train,y_train, validation_data=(x_val, y_val),\n",
    "                    epochs=10, batch_size=64)"
   ]
  },
  {
   "cell_type": "code",
   "execution_count": 58,
   "metadata": {},
   "outputs": [
    {
     "name": "stdout",
     "output_type": "stream",
     "text": [
      "203442/203442 [==============================] - 7s 33us/step\n",
      "Metric  loss : 866659.72\n",
      "Metric  mean_absolute_error : 633.87\n"
     ]
    }
   ],
   "source": [
    "result = model.evaluate(x_test,y_test)\n",
    "for i in range(len(model.metrics_names)):\n",
    "     print(\"Metric \",model.metrics_names[i],\":\",str(round(result[i],2)))"
   ]
  },
  {
   "cell_type": "markdown",
   "metadata": {},
   "source": [
    "Let’s try a couple of more experiments to see if we can expect further \n",
    "improved performance. We can develop another deeper model with five \n",
    "hidden layers having 150 neurons each. In this case, we have increased the \n",
    "number of epochs from 10 to 15. This would therefore increase computation."
   ]
  },
  {
   "cell_type": "code",
   "execution_count": 62,
   "metadata": {},
   "outputs": [],
   "source": [
    "model = Sequential()\n",
    "\n",
    "model.add(Dense(150,input_dim = 44,activation=\"relu\"))\n",
    "model.add(Dense(150,activation=\"relu\"))\n",
    "model.add(Dense(150,activation=\"relu\"))\n",
    "model.add(Dense(150,activation=\"relu\"))\n",
    "model.add(Dense(150,activation=\"relu\"))\n",
    "model.add(Dense(1,activation = \"linear\"))\n",
    "\n",
    "model.compile(optimizer='adam',\n",
    "              loss=\"mean_squared_error\",\n",
    "              metrics=[\"mean_absolute_error\"])"
   ]
  },
  {
   "cell_type": "code",
   "execution_count": null,
   "metadata": {},
   "outputs": [
    {
     "name": "stdout",
     "output_type": "stream",
     "text": [
      "Train on 732390 samples, validate on 81377 samples\n",
      "Epoch 1/15\n",
      "732390/732390 [==============================] - 64s 87us/step - loss: 1716957.9798 - mean_absolute_error: 853.8289 - val_loss: 1196167.5887 - val_mean_absolute_error: 732.6655\n",
      "Epoch 2/15\n",
      "732390/732390 [==============================] - 53s 73us/step - loss: 1175442.5758 - mean_absolute_error: 727.0923 - val_loss: 1099237.9834 - val_mean_absolute_error: 712.7677\n",
      "Epoch 3/15\n",
      "732390/732390 [==============================] - 51s 70us/step - loss: 1106732.0154 - mean_absolute_error: 704.2600 - val_loss: 1083439.6732 - val_mean_absolute_error: 707.8036\n",
      "Epoch 4/15\n",
      "732390/732390 [==============================] - 49s 67us/step - loss: 1066826.3348 - mean_absolute_error: 691.6451 - val_loss: 1023087.4982 - val_mean_absolute_error: 685.9948\n",
      "Epoch 5/15\n",
      "732390/732390 [==============================] - 49s 67us/step - loss: 1039569.2811 - mean_absolute_error: 683.8736 - val_loss: 972839.4858 - val_mean_absolute_error: 669.9178\n",
      "Epoch 6/15\n",
      "732390/732390 [==============================] - 48s 65us/step - loss: 1014927.4550 - mean_absolute_error: 676.4318 - val_loss: 946195.4961 - val_mean_absolute_error: 666.1509\n",
      "Epoch 7/15\n",
      "732390/732390 [==============================] - 50s 68us/step - loss: 990849.6428 - mean_absolute_error: 668.8651 - val_loss: 988962.7098 - val_mean_absolute_error: 664.2088\n",
      "Epoch 8/15\n",
      "732390/732390 [==============================] - 67s 91us/step - loss: 912271.1974 - mean_absolute_error: 642.6669 - val_loss: 911141.7981 - val_mean_absolute_error: 655.9747\n",
      "Epoch 12/15\n",
      "622400/732390 [========================>.....] - ETA: 10s - loss: 903281.4182 - mean_absolute_error: 639.2598"
     ]
    }
   ],
   "source": [
    "model.fit(x_train, y_train, validation_data=(x_val,y_val), \n",
    "          epochs=15, batch_size=64)"
   ]
  },
  {
   "cell_type": "code",
   "execution_count": 64,
   "metadata": {},
   "outputs": [
    {
     "name": "stdout",
     "output_type": "stream",
     "text": [
      "203442/203442 [==============================] - 8s 40us/step\n",
      "Metric  loss : 853185.95\n",
      "Metric  mean_absolute_error : 623.45\n"
     ]
    }
   ],
   "source": [
    "result = model.evaluate(x_test,y_test)\n",
    "\n",
    "for i in range(len(model.metrics_names)):\n",
    "     print(\"Metric \",model.metrics_names[i],\":\",str(round(result[i],2)))"
   ]
  },
  {
   "cell_type": "markdown",
   "metadata": {},
   "source": [
    "## Increasing the Number of Neurons"
   ]
  },
  {
   "cell_type": "code",
   "execution_count": null,
   "metadata": {},
   "outputs": [
    {
     "name": "stdout",
     "output_type": "stream",
     "text": [
      "Train on 732390 samples, validate on 81377 samples\n",
      "Epoch 1/15\n",
      "732390/732390 [==============================] - 75s 103us/step - loss: 1681049.2638 - mean_absolute_error: 845.0163 - val_loss: 1095784.5159 - val_mean_absolute_error: 702.9435\n",
      "Epoch 2/15\n",
      "732390/732390 [==============================] - 63s 85us/step - loss: 1134787.7877 - mean_absolute_error: 718.8289 - val_loss: 1066428.4619 - val_mean_absolute_error: 690.9370\n",
      "Epoch 3/15\n",
      "732390/732390 [==============================] - 61s 84us/step - loss: 1077134.2575 - mean_absolute_error: 698.7673 - val_loss: 1008960.6082 - val_mean_absolute_error: 677.7883\n",
      "Epoch 4/15\n",
      "732390/732390 [==============================] - 58s 79us/step - loss: 1049427.7120 - mean_absolute_error: 687.8471 - val_loss: 1021140.9707 - val_mean_absolute_error: 690.0111\n",
      "Epoch 5/15\n",
      "732390/732390 [==============================] - 61s 83us/step - loss: 1034104.1897 - mean_absolute_error: 682.9730 - val_loss: 1006016.0412 - val_mean_absolute_error: 680.5373\n",
      "Epoch 6/15\n",
      "732390/732390 [==============================] - 62s 85us/step - loss: 1013138.4157 - mean_absolute_error: 675.6700 - val_loss: 938299.1547 - val_mean_absolute_error: 656.3682\n",
      "Epoch 7/15\n",
      "732390/732390 [==============================] - 61s 83us/step - loss: 998499.4451 - mean_absolute_error: 670.8282 - val_loss: 1164328.7244 - val_mean_absolute_error: 724.4186\n",
      "Epoch 8/15\n",
      "732390/732390 [==============================] - 58s 79us/step - loss: 980075.6491 - mean_absolute_error: 664.5524 - val_loss: 963393.4122 - val_mean_absolute_error: 667.3351\n",
      "Epoch 9/15\n",
      "732390/732390 [==============================] - 94s 128us/step - loss: 913913.2349 - mean_absolute_error: 644.3814 - val_loss: 883436.7200 - val_mean_absolute_error: 645.6390\n",
      "Epoch 14/15\n",
      "609216/732390 [=======================>......] - ETA: 13s - loss: 899012.8044 - mean_absolute_error: 640.6634"
     ]
    }
   ],
   "source": [
    "model = Sequential()\n",
    "\n",
    "model.add(Dense(350,input_dim = 44,activation=\"relu\"))\n",
    "model.add(Dense(350,activation=\"relu\"))\n",
    "model.add(Dense(1,activation = \"linear\"))\n",
    "\n",
    "model.compile(optimizer='adam',\n",
    "              loss=\"mean_squared_error\",\n",
    "              metrics=[\"mean_absolute_error\"])\n",
    "\n",
    "model.fit(x_train,y_train, \n",
    "          validation_data=(x_val,y_val), \n",
    "          epochs=15,batch_size=64)"
   ]
  },
  {
   "cell_type": "code",
   "execution_count": 61,
   "metadata": {},
   "outputs": [
    {
     "name": "stdout",
     "output_type": "stream",
     "text": [
      "203442/203442 [==============================] - 12s 57us/step\n",
      "Metric  loss : 869558.97\n",
      "Metric  mean_absolute_error : 631.66\n"
     ]
    }
   ],
   "source": [
    "result = model.evaluate(x_test,y_test)\n",
    "\n",
    "for i in range(len(model.metrics_names)):\n",
    "     print(\"Metric \",model.metrics_names[i],\":\", str(round(result[i],2)))"
   ]
  },
  {
   "cell_type": "markdown",
   "metadata": {},
   "source": [
    "We can see quite a bit of improvement when we use an architecture \n",
    "that was built with a higher number of neurons. This was a considerable \n",
    "improvement for the model. Let us now try deeper models for the same \n",
    "architecture. Additionally, we add a new [optional] configuration to the \n",
    "model to record the history of various metrics during the training process. \n",
    "This can be done by adding the callbacks parameter, as shown in the \n",
    "following example. We can use the history, post training, to visualize and \n",
    "understand the model’s learning curve."
   ]
  },
  {
   "cell_type": "code",
   "execution_count": null,
   "metadata": {},
   "outputs": [
    {
     "name": "stdout",
     "output_type": "stream",
     "text": [
      "WARNING:tensorflow:From C:\\Users\\kabon\\AppData\\Local\\conda\\conda\\envs\\aims\\lib\\site-packages\\tensorflow\\python\\ops\\math_ops.py:3066: to_int32 (from tensorflow.python.ops.math_ops) is deprecated and will be removed in a future version.\n",
      "Instructions for updating:\n",
      "Use tf.cast instead.\n",
      "Train on 732390 samples, validate on 81377 samples\n",
      "Epoch 1/15\n",
      "732390/732390 [==============================] - 233s 318us/step - loss: 1658517.4647 - mean_absolute_error: 840.1185 - val_loss: 1112159.5537 - val_mean_absolute_error: 717.4959\n",
      "Epoch 2/15\n",
      "732390/732390 [==============================] - 209s 285us/step - loss: 1103200.4848 - mean_absolute_error: 701.6468 - val_loss: 1002709.7077 - val_mean_absolute_error: 676.5568\n",
      "Epoch 4/15\n",
      "732390/732390 [==============================] - 202s 276us/step - loss: 998065.4381 - mean_absolute_error: 669.5933 - val_loss: 970425.7231 - val_mean_absolute_error: 677.0410\n",
      "Epoch 8/15\n",
      "436800/732390 [================>.............] - ETA: 1:26 - loss: 971550.6934 - mean_absolute_error: 660.6717Epoch 10/15\n",
      "732390/732390 [==============================] - 201s 275us/step - loss: 935239.5956 - mean_absolute_error: 650.1757 - val_loss: 1019935.9629 - val_mean_absolute_error: 670.9327\n",
      "Epoch 12/15\n",
      " 47232/732390 [>.............................] - ETA: 3:03 - loss: 925285.4220 - mean_absolute_error: 648.2250"
     ]
    }
   ],
   "source": [
    "from keras.callbacks import History\n",
    "\n",
    "history = History()\n",
    "model = Sequential()\n",
    "\n",
    "model.add(Dense(350,input_dim = 44,activation=\"relu\"))\n",
    "model.add(Dense(350,activation=\"relu\"))\n",
    "model.add(Dense(350,activation=\"relu\"))\n",
    "model.add(Dense(350,activation=\"relu\"))\n",
    "model.add(Dense(350,activation=\"relu\"))\n",
    "model.add(Dense(1,activation = \"linear\"))\n",
    "\n",
    "model.compile(optimizer='adam',\n",
    "              loss=\"mean_squared_error\",\n",
    "              metrics=[\"mean_absolute_error\"])\n",
    "\n",
    "model.fit(x_train,y_train, validation_data=(x_val,y_val),\n",
    "          epochs=15, batch_size=64, callbacks=[history])"
   ]
  },
  {
   "cell_type": "code",
   "execution_count": 35,
   "metadata": {},
   "outputs": [
    {
     "name": "stdout",
     "output_type": "stream",
     "text": [
      "203442/203442 [==============================] - 25s 122us/step\n",
      "Metric  loss : 902861.65\n",
      "Metric  mean_absolute_error : 632.76\n"
     ]
    }
   ],
   "source": [
    "result = model.evaluate(x_test,y_test)\n",
    "for i in range(len(model.metrics_names)):\n",
    "    print(\"Metric \",model.metrics_names[i],\":\",str(round(result[i],2)))"
   ]
  },
  {
   "cell_type": "code",
   "execution_count": null,
   "metadata": {},
   "outputs": [],
   "source": []
  },
  {
   "cell_type": "markdown",
   "metadata": {},
   "source": [
    "## Plotting the Loss Metric Across Epochs"
   ]
  },
  {
   "cell_type": "code",
   "execution_count": 36,
   "metadata": {},
   "outputs": [
    {
     "data": {
      "image/png": "[encoded data removed]",
      "text/plain": [
       "<Figure size 432x288 with 1 Axes>"
      ]
     },
     "metadata": {},
     "output_type": "display_data"
    }
   ],
   "source": [
    "plt.plot(history.history['loss'])\n",
    "plt.plot(history.history['val_loss'])\n",
    "plt.title(\"Model's Training & Validation loss across epochs\")\n",
    "plt.ylabel('Loss')\n",
    "plt.xlabel('Epochs')\n",
    "plt.legend(['Train', 'Validation'], loc='upper right')\n",
    "plt.show()"
   ]
  },
  {
   "cell_type": "markdown",
   "metadata": {},
   "source": [
    "### Testing the Model Manually"
   ]
  },
  {
   "cell_type": "code",
   "execution_count": 38,
   "metadata": {},
   "outputs": [
    {
     "name": "stdout",
     "output_type": "stream",
     "text": [
      "        Actual Sales  Predicted Sales\n",
      "115563             0         0.582598\n",
      "832654             0         0.582598\n",
      "769112          2933      3279.186035\n",
      "350588          8602      7237.194336\n",
      "141556          6975      6670.568359\n",
      "84435           9239      8569.637695\n",
      "53018              0         0.582598\n",
      "262419             0         0.582598\n",
      "702267          5885      5648.060547\n",
      "981431             0         0.582598\n"
     ]
    }
   ],
   "source": [
    "#Manually predicting from the model, instead of using model's \n",
    "# evaluate function\n",
    "y_test[\"Prediction\"] = model.predict(x_test)\n",
    "y_test.columns = [\"Actual Sales\",\"Predicted Sales\"]\n",
    "print(y_test.head(10))"
   ]
  },
  {
   "cell_type": "code",
   "execution_count": 39,
   "metadata": {},
   "outputs": [
    {
     "name": "stdout",
     "output_type": "stream",
     "text": [
      "MSE : 902861.6502037379\n",
      "MAE : 632.7620767973223\n"
     ]
    }
   ],
   "source": [
    "from sklearn.metrics import mean_squared_error, mean_absolute_error\n",
    "\n",
    "print(\"MSE :\",mean_squared_error(y_test[\"Actual Sales\"].values,y_test[\"Predicted Sales\"].values))\n",
    "print(\"MAE :\",mean_absolute_error(y_test[\"Actual Sales\"].values,y_test[\"Predicted Sales\"].values))"
   ]
  },
  {
   "cell_type": "markdown",
   "metadata": {},
   "source": [
    "# Hyperparameters in DL\n",
    "\n",
    "We will then look \n",
    "at various approaches for selecting the right set of hyperparameters for a \n",
    "\n",
    "## Number of Neurons in a Layer"
   ]
  },
  {
   "cell_type": "markdown",
   "metadata": {},
   "source": [
    " Generally, \n",
    "a simple rule of thumb for selecting the number of neurons in the first \n",
    "layer is to refer to the number of input dimensions. If the final number of \n",
    "input dimensions in a given training dataset (this includes the one-hot encoded features also) is x, we should use at least the closest number to 2x \n",
    "in the power of 2. Let’s say you have 100 input dimensions in your training \n",
    "dataset: preferably start with 2 × 100 = 200, and take the closest power of 2,  \n",
    "so 256. It is good to have the number of neurons in the power of 2, as it \n",
    "helps the computation of the network to be faster. Also, good choices for \n",
    "the number of neurons would be 8, 16, 32, 64, 128, 256, 512, 1024, and so \n",
    "on. Based on the number of input dimensions, take the number closest to \n",
    "2 times the size. So, when you have 300 input dimensions, try using 512 \n",
    "neurons."
   ]
  },
  {
   "cell_type": "markdown",
   "metadata": {},
   "source": [
    "## Number of Layers\n",
    "\n",
    "It is true that just adding a few more layers will generally increase the \n",
    "performance, at least marginally. But the problem is that with an increased \n",
    "number of layers, the training time and computation increase significantly. \n",
    "Moreover, you would need a higher number of epochs to see promising \n",
    "results. Not using deeper networks is not an always an option; in cases \n",
    "when you have to, try using a few best practices.\n",
    "In case you are using a very large network, say more than 20 layers, \n",
    "try using a tapering size architecture (i.e., gradually reduce the number \n",
    "of neurons in each layer as the depth increases). So, if you are using an \n",
    "architecture of 30 layers with 512 neurons in each layer, try reducing the \n",
    "number of neurons in the layers slowly. An improved architecture would \n",
    "be with the first 8 layers having 512 neurons, the next 8 with 256, the next \n",
    "8 with 128, and so on. For the last hidden layer (not the output layer), try \n",
    "keeping the number of neurons to at least around 30–40% of the input size.\n",
    "Alternatively, if you are using wider networks (i.e., not reducing the \n",
    "number of neurons in the lower layers), always use L2 regularization or \n",
    "dropout layers with a drop rate of around 30%. The chances of overfitting \n",
    "are highly reduced.\n",
    "\n",
    "##  Weight Initialization\n",
    "\n",
    "Initializing the weights for your network also has a tremendous impact \n",
    "on the overall performance. A good weight initialization technique not \n",
    "only speeds up the training process but also circumvents deadlocks in \n",
    "the model training process. By default, the Keras framework uses glorot \n",
    "uniform initialization, also called Xavier uniform initialization, but this can be changed as per your needs. We can initialize the weights for a layer \n",
    "using the kernel initializer parameter as well as bias using a bias initializer.\n",
    "Other popular options to select are ‘He Normal’ and ‘He Uniform’ \n",
    "initialization and ‘lecun normal’ and ‘lecun uniform’ initialization. \n",
    "There are quite a few other options available in Keras too, but the \n",
    "aforementioned choices are the most popular."
   ]
  },
  {
   "cell_type": "code",
   "execution_count": null,
   "metadata": {},
   "outputs": [],
   "source": [
    "from keras import Sequential\n",
    "from keras.layers import Dense\n",
    "model = Sequential()\n",
    "model.add(Dense(64,activation=\"relu\", input_dim = 32, kernel_\n",
    "initializer = \"random_uniform\",bias_initializer = \"zeros\"))\n",
    "model.add(Dense(1,activation=\"sigmoid\"))"
   ]
  },
  {
   "cell_type": "markdown",
   "metadata": {},
   "source": [
    "## Batch Size\n",
    "\n",
    "Using a moderate batch size always helps achieve a smoother learning \n",
    "process for the model. A batch size of 32 or 64, irrespective of the dataset \n",
    "size and the number of samples, will deliver a smooth learning curve in \n",
    "most cases. Even in scenarios where your hardware environment has \n",
    "large RAM memory to accommodate a bigger batch size, I would still \n",
    "recommend staying with a batch size of 32 or 64."
   ]
  },
  {
   "cell_type": "markdown",
   "metadata": {},
   "source": [
    "## Dropout\n",
    "\n",
    "In addition to L1 and L2 regularization, there is another popular technique \n",
    "in DL to reduce overfitting. This technique is to use a dropout mechanism. \n",
    "In this method, the model arbitrarily drops or deactivates a few neurons \n",
    "for a layer during each iteration\n",
    "\n",
    "The following code snippet showcases dropout added to the dense \n",
    "hidden layer. The parameter value of 0.25 indicates the dropout rate  \n",
    "(i.e., the percentage of the neurons to be dropped)."
   ]
  },
  {
   "cell_type": "code",
   "execution_count": null,
   "metadata": {},
   "outputs": [],
   "source": [
    "from keras import Sequential\n",
    "from keras.layers.core import Dropout, Dense\n",
    "model = Sequential()\n",
    "model.add(Dense(100, input_dim= 50, activation='relu'))\n",
    "model.add(Dropout(0.25))\n",
    "model.add(Dense(1,activation=\"linear\"))"
   ]
  }
 ],
 "metadata": {
  "kernelspec": {
   "display_name": "Python 3.6 (AIMS SA)",
   "language": "python",
   "name": "aims"
  },
  "language_info": {
   "codemirror_mode": {
    "name": "ipython",
    "version": 3
   },
   "file_extension": ".py",
   "mimetype": "text/x-python",
   "name": "python",
   "nbconvert_exporter": "python",
   "pygments_lexer": "ipython3",
   "version": "3.6.7"
  }
 },
 "nbformat": 4,
 "nbformat_minor": 2
}
