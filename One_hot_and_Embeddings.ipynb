{
  "nbformat": 4,
  "nbformat_minor": 0,
  "metadata": {
    "colab": {
      "name": "One_hot_and_Embeddings.ipynb",
      "version": "0.3.2",
      "provenance": []
    },
    "kernelspec": {
      "name": "python3",
      "display_name": "Python 3"
    },
    "accelerator": "GPU"
  },
  "cells": [
    {
      "metadata": {
        "id": "FGvhB20yetpY",
        "colab_type": "code",
        "colab": {
          "base_uri": "https://localhost:8080/",
          "height": 321
        },
        "outputId": "cccb1067-bcd5-4f7e-cfb7-1caa813406bf"
      },
      "cell_type": "code",
      "source": [
        "# Import all package\n",
        "from keras.datasets import imdb\n",
        "from keras import preprocessing\n",
        "from keras.models import Sequential\n",
        "from keras.layers import Flatten, Dense\n",
        "from keras.layers import Embedding\n",
        "from keras.preprocessing.text import Tokenizer\n",
        "from keras.preprocessing.sequence import pad_sequences\n",
        "from keras import losses\n",
        "from keras import metrics\n",
        "from keras import optimizers\n",
        "\n",
        "import numpy as np\n",
        "import matplotlib.pyplot as plt\n",
        "\n",
        "import os\n",
        "\n",
        "import numpy as np\n",
        "\n",
        "import string\n",
        "\n",
        "!pip install ipdb\n",
        "import ipdb # deb\n",
        "\n",
        "from keras.preprocessing.text import Tokenizer\n",
        "\n",
        "from gensim.models.keyedvectors import KeyedVectors"
      ],
      "execution_count": 2,
      "outputs": [
        {
          "output_type": "stream",
          "text": [
            "Using TensorFlow backend.\n"
          ],
          "name": "stderr"
        },
        {
          "output_type": "stream",
          "text": [
            "Requirement already satisfied: ipdb in /usr/local/lib/python3.6/dist-packages (0.12)\n",
            "Requirement already satisfied: ipython>=5.1.0; python_version >= \"3.4\" in /usr/local/lib/python3.6/dist-packages (from ipdb) (5.5.0)\n",
            "Requirement already satisfied: setuptools in /usr/local/lib/python3.6/dist-packages (from ipdb) (40.9.0)\n",
            "Requirement already satisfied: simplegeneric>0.8 in /usr/local/lib/python3.6/dist-packages (from ipython>=5.1.0; python_version >= \"3.4\"->ipdb) (0.8.1)\n",
            "Requirement already satisfied: traitlets>=4.2 in /usr/local/lib/python3.6/dist-packages (from ipython>=5.1.0; python_version >= \"3.4\"->ipdb) (4.3.2)\n",
            "Requirement already satisfied: prompt-toolkit<2.0.0,>=1.0.4 in /usr/local/lib/python3.6/dist-packages (from ipython>=5.1.0; python_version >= \"3.4\"->ipdb) (1.0.16)\n",
            "Requirement already satisfied: decorator in /usr/local/lib/python3.6/dist-packages (from ipython>=5.1.0; python_version >= \"3.4\"->ipdb) (4.4.0)\n",
            "Requirement already satisfied: pygments in /usr/local/lib/python3.6/dist-packages (from ipython>=5.1.0; python_version >= \"3.4\"->ipdb) (2.1.3)\n",
            "Requirement already satisfied: pickleshare in /usr/local/lib/python3.6/dist-packages (from ipython>=5.1.0; python_version >= \"3.4\"->ipdb) (0.7.5)\n",
            "Requirement already satisfied: pexpect; sys_platform != \"win32\" in /usr/local/lib/python3.6/dist-packages (from ipython>=5.1.0; python_version >= \"3.4\"->ipdb) (4.7.0)\n",
            "Requirement already satisfied: six in /usr/local/lib/python3.6/dist-packages (from traitlets>=4.2->ipython>=5.1.0; python_version >= \"3.4\"->ipdb) (1.11.0)\n",
            "Requirement already satisfied: ipython-genutils in /usr/local/lib/python3.6/dist-packages (from traitlets>=4.2->ipython>=5.1.0; python_version >= \"3.4\"->ipdb) (0.2.0)\n",
            "Requirement already satisfied: wcwidth in /usr/local/lib/python3.6/dist-packages (from prompt-toolkit<2.0.0,>=1.0.4->ipython>=5.1.0; python_version >= \"3.4\"->ipdb) (0.1.7)\n",
            "Requirement already satisfied: ptyprocess>=0.5 in /usr/local/lib/python3.6/dist-packages (from pexpect; sys_platform != \"win32\"->ipython>=5.1.0; python_version >= \"3.4\"->ipdb) (0.6.0)\n"
          ],
          "name": "stdout"
        },
        {
          "output_type": "stream",
          "text": [
            "paramiko missing, opening SSH/SCP/SFTP paths will be disabled.  `pip install paramiko` to suppress\n"
          ],
          "name": "stderr"
        }
      ]
    },
    {
      "metadata": {
        "id": "2rxm3VASTVS9",
        "colab_type": "text"
      },
      "cell_type": "markdown",
      "source": [
        "# One-hot encoding of words and characters"
      ]
    },
    {
      "metadata": {
        "id": "c5SX7nQ7TVTB",
        "colab_type": "text"
      },
      "cell_type": "markdown",
      "source": [
        "One-hot encoding is the most common, most basic way to turn a token into a vector.\n",
        "\n",
        "It consists of associating a unique integer index with every word\n",
        "and then turning this integer index i into a binary vector of size N (the size of the\n",
        "vocabulary); the vector is all zeros except for the i th entry, which is 1."
      ]
    },
    {
      "metadata": {
        "id": "-viI3xznTVTC",
        "colab_type": "text"
      },
      "cell_type": "markdown",
      "source": [
        "## One-hot Word-level"
      ]
    },
    {
      "metadata": {
        "id": "gDblQMfUTVTI",
        "colab_type": "code",
        "colab": {}
      },
      "cell_type": "code",
      "source": [
        "# Initial data: one entry per sample (in \n",
        "# this example, a sample is a sentence, \n",
        "# but it could be an entire document)\n",
        "samples = ['The cat sat on the mat.', 'The dog ate my homework.']\n",
        "\n",
        "# Builds an index of all tokens in the data\n",
        "token_index = {}\n",
        "\n",
        "for sample in samples:\n",
        "    for word in sample.split(): # Tokenizes the samples via the split\n",
        "        if word not in token_index:\n",
        "            token_index[word] = len(token_index) + 1 # Assigns a unique index to each unique word\n",
        "\n",
        "# Vectorizes the samples. You’ll only\n",
        "# consider the first max_length\n",
        "# words in each sample.            \n",
        "max_length = 10  # window\n",
        "\n",
        "results = np.zeros(shape=(len(samples),\n",
        "                          max_length,\n",
        "                          max(token_index.values()) + 1))\n",
        "\n",
        "for i, sample in enumerate(samples):\n",
        "    for j, word in list(enumerate(sample.split()))[:max_length]:\n",
        "        index = token_index.get(word) #; ipdb.set_trace()\n",
        "        results[i, j, index] = 1."
      ],
      "execution_count": 0,
      "outputs": []
    },
    {
      "metadata": {
        "id": "vR3Qlt2LTVTL",
        "colab_type": "code",
        "outputId": "319eb836-ee0c-4642-c146-54099de5c4bf",
        "colab": {}
      },
      "cell_type": "code",
      "source": [
        "token_index"
      ],
      "execution_count": 0,
      "outputs": [
        {
          "output_type": "execute_result",
          "data": {
            "text/plain": [
              "{'The': 1,\n",
              " 'cat': 2,\n",
              " 'sat': 3,\n",
              " 'on': 4,\n",
              " 'the': 5,\n",
              " 'mat.': 6,\n",
              " 'dog': 7,\n",
              " 'ate': 8,\n",
              " 'my': 9,\n",
              " 'homework.': 10}"
            ]
          },
          "metadata": {
            "tags": []
          },
          "execution_count": 3
        }
      ]
    },
    {
      "metadata": {
        "id": "gQij0TrlTVTP",
        "colab_type": "code",
        "outputId": "f82061ce-7751-4b73-e5af-a62ed19b2976",
        "colab": {}
      },
      "cell_type": "code",
      "source": [
        "results"
      ],
      "execution_count": 0,
      "outputs": [
        {
          "output_type": "execute_result",
          "data": {
            "text/plain": [
              "array([[[0., 1., 0., 0., 0., 0., 0., 0., 0., 0., 0.],\n",
              "        [0., 0., 1., 0., 0., 0., 0., 0., 0., 0., 0.],\n",
              "        [0., 0., 0., 1., 0., 0., 0., 0., 0., 0., 0.],\n",
              "        [0., 0., 0., 0., 1., 0., 0., 0., 0., 0., 0.],\n",
              "        [0., 0., 0., 0., 0., 1., 0., 0., 0., 0., 0.],\n",
              "        [0., 0., 0., 0., 0., 0., 1., 0., 0., 0., 0.],\n",
              "        [0., 0., 0., 0., 0., 0., 0., 0., 0., 0., 0.],\n",
              "        [0., 0., 0., 0., 0., 0., 0., 0., 0., 0., 0.],\n",
              "        [0., 0., 0., 0., 0., 0., 0., 0., 0., 0., 0.],\n",
              "        [0., 0., 0., 0., 0., 0., 0., 0., 0., 0., 0.]],\n",
              "\n",
              "       [[0., 1., 0., 0., 0., 0., 0., 0., 0., 0., 0.],\n",
              "        [0., 0., 0., 0., 0., 0., 0., 1., 0., 0., 0.],\n",
              "        [0., 0., 0., 0., 0., 0., 0., 0., 1., 0., 0.],\n",
              "        [0., 0., 0., 0., 0., 0., 0., 0., 0., 1., 0.],\n",
              "        [0., 0., 0., 0., 0., 0., 0., 0., 0., 0., 1.],\n",
              "        [0., 0., 0., 0., 0., 0., 0., 0., 0., 0., 0.],\n",
              "        [0., 0., 0., 0., 0., 0., 0., 0., 0., 0., 0.],\n",
              "        [0., 0., 0., 0., 0., 0., 0., 0., 0., 0., 0.],\n",
              "        [0., 0., 0., 0., 0., 0., 0., 0., 0., 0., 0.],\n",
              "        [0., 0., 0., 0., 0., 0., 0., 0., 0., 0., 0.]]])"
            ]
          },
          "metadata": {
            "tags": []
          },
          "execution_count": 4
        }
      ]
    },
    {
      "metadata": {
        "id": "hfvL7CRQTVTV",
        "colab_type": "text"
      },
      "cell_type": "markdown",
      "source": [
        "## Character-level"
      ]
    },
    {
      "metadata": {
        "id": "X3XD9M2ATVTW",
        "colab_type": "code",
        "colab": {}
      },
      "cell_type": "code",
      "source": [
        "samples = ['The cat sat on the mat.', 'The dog ate my homework.']\n",
        "\n",
        "characters = string.printable\n",
        "\n",
        "token_index = dict(zip(range(1, len(characters) + 1), characters))\n",
        "\n",
        "max_length = 50\n",
        "\n",
        "results = np.zeros((len(samples), \n",
        "                    max_length, \n",
        "                    max(token_index.keys()) + 1))\n",
        "\n",
        "for i, sample in enumerate(samples):\n",
        "    for j, character in enumerate(sample):\n",
        "        index = token_index.get(character)  #; ipdb.set_trace()\n",
        "        results[i, j, index] = 1."
      ],
      "execution_count": 0,
      "outputs": []
    },
    {
      "metadata": {
        "id": "fnl0Qm5NTVTY",
        "colab_type": "code",
        "outputId": "727378bf-c3d6-442d-af0b-f7885462dfc5",
        "colab": {}
      },
      "cell_type": "code",
      "source": [
        "results"
      ],
      "execution_count": 0,
      "outputs": [
        {
          "output_type": "execute_result",
          "data": {
            "text/plain": [
              "array([[[1., 1., 1., ..., 1., 1., 1.],\n",
              "        [1., 1., 1., ..., 1., 1., 1.],\n",
              "        [1., 1., 1., ..., 1., 1., 1.],\n",
              "        ...,\n",
              "        [0., 0., 0., ..., 0., 0., 0.],\n",
              "        [0., 0., 0., ..., 0., 0., 0.],\n",
              "        [0., 0., 0., ..., 0., 0., 0.]],\n",
              "\n",
              "       [[1., 1., 1., ..., 1., 1., 1.],\n",
              "        [1., 1., 1., ..., 1., 1., 1.],\n",
              "        [1., 1., 1., ..., 1., 1., 1.],\n",
              "        ...,\n",
              "        [0., 0., 0., ..., 0., 0., 0.],\n",
              "        [0., 0., 0., ..., 0., 0., 0.],\n",
              "        [0., 0., 0., ..., 0., 0., 0.]]])"
            ]
          },
          "metadata": {
            "tags": []
          },
          "execution_count": 6
        }
      ]
    },
    {
      "metadata": {
        "id": "7wV1xfebTVTa",
        "colab_type": "text"
      },
      "cell_type": "markdown",
      "source": [
        "**Keras has built-in utilities for doing one-hot encoding of text at the word level\n",
        "or character level**, starting from raw text data. \n",
        "\n",
        "We should use these utilities, because they take care of a number of important features such as stripping special characters from strings and only taking into account the N most common words in your dataset (a common restriction, to avoid dealing with very large input vector spaces)."
      ]
    },
    {
      "metadata": {
        "id": "ZkO8ynHgTVTb",
        "colab_type": "text"
      },
      "cell_type": "markdown",
      "source": [
        "## Use Keras build in function"
      ]
    },
    {
      "metadata": {
        "id": "qX7tVGgzTVTc",
        "colab_type": "text"
      },
      "cell_type": "markdown",
      "source": [
        "### Word level"
      ]
    },
    {
      "metadata": {
        "id": "YtsXtMpsTVTc",
        "colab_type": "code",
        "outputId": "811a0f34-946b-4123-a3ca-6384f705f8fd",
        "colab": {}
      },
      "cell_type": "code",
      "source": [
        "samples = ['The cat sat on the mat.', 'The dog ate my homework.']\n",
        "\n",
        "tokenizer = Tokenizer(num_words=10)\n",
        "tokenizer.fit_on_texts(samples)\n",
        "sequences = tokenizer.texts_to_sequences(samples)\n",
        "one_hot_results = tokenizer.texts_to_matrix(samples, mode='binary')\n",
        "word_index = tokenizer.word_index\n",
        "print('Found %s unique tokens.' % len(word_index))"
      ],
      "execution_count": 0,
      "outputs": [
        {
          "output_type": "stream",
          "text": [
            "Found 9 unique tokens.\n"
          ],
          "name": "stdout"
        }
      ]
    },
    {
      "metadata": {
        "id": "iZo8KQmgTVTi",
        "colab_type": "code",
        "outputId": "f14351b0-03ed-43b6-8ba5-42259c8548a5",
        "colab": {}
      },
      "cell_type": "code",
      "source": [
        "sequences"
      ],
      "execution_count": 0,
      "outputs": [
        {
          "output_type": "execute_result",
          "data": {
            "text/plain": [
              "[[1, 2, 3, 4, 1, 5], [1, 6, 7, 8, 9]]"
            ]
          },
          "metadata": {
            "tags": []
          },
          "execution_count": 73
        }
      ]
    },
    {
      "metadata": {
        "id": "ql5utR_DTVTs",
        "colab_type": "code",
        "outputId": "75289015-2280-4dc2-d0de-3d46a17a9951",
        "colab": {}
      },
      "cell_type": "code",
      "source": [
        "one_hot_results"
      ],
      "execution_count": 0,
      "outputs": [
        {
          "output_type": "execute_result",
          "data": {
            "text/plain": [
              "array([[0., 1., 1., 1., 1., 1., 0., 0., 0., 0.],\n",
              "       [0., 1., 0., 0., 0., 0., 1., 1., 1., 1.]])"
            ]
          },
          "metadata": {
            "tags": []
          },
          "execution_count": 74
        }
      ]
    },
    {
      "metadata": {
        "id": "CQAArTtwTVTw",
        "colab_type": "code",
        "outputId": "63f7188b-d159-4f1e-f47b-ba7e087de939",
        "colab": {}
      },
      "cell_type": "code",
      "source": [
        "word_index"
      ],
      "execution_count": 0,
      "outputs": [
        {
          "output_type": "execute_result",
          "data": {
            "text/plain": [
              "{'the': 1,\n",
              " 'cat': 2,\n",
              " 'sat': 3,\n",
              " 'on': 4,\n",
              " 'mat': 5,\n",
              " 'dog': 6,\n",
              " 'ate': 7,\n",
              " 'my': 8,\n",
              " 'homework': 9}"
            ]
          },
          "metadata": {
            "tags": []
          },
          "execution_count": 75
        }
      ]
    },
    {
      "metadata": {
        "id": "8klBReLzTVT1",
        "colab_type": "code",
        "colab": {}
      },
      "cell_type": "code",
      "source": [
        "# # Vectorizes the samples. You’ll only\n",
        "# # consider the first max_length\n",
        "# # words in each sample.            \n",
        "# max_length = 10  # window\n",
        "\n",
        "# results = np.zeros(shape=(len(samples),\n",
        "#                           max_length,\n",
        "#                           len(word_index) + 1))\n",
        "\n",
        "# for i, sample in enumerate(samples):\n",
        "#     for j, word in list(enumerate(sample.split()))[:max_length]:\n",
        "#         index = word_index.get(word) #; ipdb.set_trace()\n",
        "#         results[i, j, index] = 1."
      ],
      "execution_count": 0,
      "outputs": []
    },
    {
      "metadata": {
        "id": "zBg9HucJTVT5",
        "colab_type": "code",
        "colab": {}
      },
      "cell_type": "code",
      "source": [
        "# results"
      ],
      "execution_count": 0,
      "outputs": []
    },
    {
      "metadata": {
        "id": "TDMlZgF6TVUC",
        "colab_type": "text"
      },
      "cell_type": "markdown",
      "source": [
        "### Caracter level"
      ]
    },
    {
      "metadata": {
        "id": "TRkeYOnQTVUC",
        "colab_type": "code",
        "outputId": "14cfbcae-163f-4ff8-96ca-7a40dcf2cae9",
        "colab": {}
      },
      "cell_type": "code",
      "source": [
        "samples = ['The cat sat on the mat.', 'The dog ate my homework.']\n",
        "\n",
        "tokenizer = Tokenizer(char_level=True)\n",
        "tokenizer.fit_on_texts(samples)\n",
        "sequences = tokenizer.texts_to_sequences(samples)\n",
        "one_hot_results = tokenizer.texts_to_matrix(samples, mode='binary')\n",
        "word_index = tokenizer.word_index\n",
        "print('Found %s unique tokens.' % len(word_index))"
      ],
      "execution_count": 0,
      "outputs": [
        {
          "output_type": "stream",
          "text": [
            "Found 17 unique tokens.\n"
          ],
          "name": "stdout"
        }
      ]
    },
    {
      "metadata": {
        "id": "4ueFpMk-TVUJ",
        "colab_type": "code",
        "outputId": "30971c86-5a57-43a0-ae2a-21148cd6ebf0",
        "colab": {}
      },
      "cell_type": "code",
      "source": [
        "sequences"
      ],
      "execution_count": 0,
      "outputs": [
        {
          "output_type": "execute_result",
          "data": {
            "text/plain": [
              "[[2, 4, 3, 1, 9, 5, 2, 1, 10, 5, 2, 1, 6, 11, 1, 2, 4, 3, 1, 7, 5, 2, 8],\n",
              " [2,\n",
              "  4,\n",
              "  3,\n",
              "  1,\n",
              "  12,\n",
              "  6,\n",
              "  13,\n",
              "  1,\n",
              "  5,\n",
              "  2,\n",
              "  3,\n",
              "  1,\n",
              "  7,\n",
              "  14,\n",
              "  1,\n",
              "  4,\n",
              "  6,\n",
              "  7,\n",
              "  3,\n",
              "  15,\n",
              "  6,\n",
              "  16,\n",
              "  17,\n",
              "  8]]"
            ]
          },
          "metadata": {
            "tags": []
          },
          "execution_count": 64
        }
      ]
    },
    {
      "metadata": {
        "id": "4ZD-661eTVUP",
        "colab_type": "code",
        "outputId": "d4b02f32-c012-4186-ef48-e4ae27a282a7",
        "colab": {}
      },
      "cell_type": "code",
      "source": [
        "one_hot_results"
      ],
      "execution_count": 0,
      "outputs": [
        {
          "output_type": "execute_result",
          "data": {
            "text/plain": [
              "array([[0., 1., 1., 1., 1., 1., 1., 1., 1., 1., 1., 1., 0., 0., 0., 0.,\n",
              "        0., 0.],\n",
              "       [0., 1., 1., 1., 1., 1., 1., 1., 1., 0., 0., 0., 1., 1., 1., 1.,\n",
              "        1., 1.]])"
            ]
          },
          "metadata": {
            "tags": []
          },
          "execution_count": 65
        }
      ]
    },
    {
      "metadata": {
        "id": "TcZJ3rvkTVUU",
        "colab_type": "code",
        "outputId": "0df8cb2d-ebe2-4603-880a-f7d4d2438653",
        "colab": {}
      },
      "cell_type": "code",
      "source": [
        "word_index"
      ],
      "execution_count": 0,
      "outputs": [
        {
          "output_type": "execute_result",
          "data": {
            "text/plain": [
              "{' ': 1,\n",
              " 't': 2,\n",
              " 'e': 3,\n",
              " 'h': 4,\n",
              " 'a': 5,\n",
              " 'o': 6,\n",
              " 'm': 7,\n",
              " '.': 8,\n",
              " 'c': 9,\n",
              " 's': 10,\n",
              " 'n': 11,\n",
              " 'd': 12,\n",
              " 'g': 13,\n",
              " 'y': 14,\n",
              " 'w': 15,\n",
              " 'r': 16,\n",
              " 'k': 17}"
            ]
          },
          "metadata": {
            "tags": []
          },
          "execution_count": 66
        }
      ]
    },
    {
      "metadata": {
        "id": "B5TYHJG7TVUX",
        "colab_type": "text"
      },
      "cell_type": "markdown",
      "source": [
        "##  hashing trick"
      ]
    },
    {
      "metadata": {
        "id": "x1R0Uvd2TVUY",
        "colab_type": "code",
        "colab": {}
      },
      "cell_type": "code",
      "source": [
        "samples = ['The cat sat on the mat.', 'The dog ate my homework.']\n",
        "\n",
        "dimensionality = 1000\n",
        "max_length = 10\n",
        "\n",
        "results = np.zeros((len(samples), max_length, dimensionality))\n",
        "for i, sample in enumerate(samples):\n",
        "    for j, word in list(enumerate(sample.split()))[:max_length]:\n",
        "#         Hashes the word into a \n",
        "#         random integer index \n",
        "#         between 0 and 1,000\n",
        "        index = abs(hash(word)) % dimensionality\n",
        "        results[i, j, index] = 1."
      ],
      "execution_count": 0,
      "outputs": []
    },
    {
      "metadata": {
        "id": "Dkw1E9WMTVUa",
        "colab_type": "text"
      },
      "cell_type": "markdown",
      "source": [
        "# Using word embeddings"
      ]
    },
    {
      "metadata": {
        "id": "nLREqOusTVUb",
        "colab_type": "text"
      },
      "cell_type": "markdown",
      "source": [
        "Another popular and powerful way to associate a vector with a word is the use of dense\n",
        "word vectors, also called word embeddings. Whereas the vectors obtained through one-hot\n",
        "encoding are binary, sparse (mostly made of zeros), and very high-dimensional (same\n",
        "dimensionality as the number of words in the vocabulary), word embeddings are low-\n",
        "dimensional floating-point vectors (that is, dense vectors, as opposed to sparse vec-\n",
        "tors);"
      ]
    },
    {
      "metadata": {
        "id": "ua33iYs7TVUb",
        "colab_type": "text"
      },
      "cell_type": "markdown",
      "source": [
        "Unlike the  word vectors  obtained  via one-hot  encoding,  **word embeddings  are  learned  from  data**. It’s common  to  see  word  embeddings  that are\n",
        "256-dimensional, 512-dimensional, or 1,024-dimensional when dealing with very large\n",
        "vocabularies. \n",
        "\n",
        "On the other hand, one-hot encoding words generally leads to vectors\n",
        "that are 20,000-dimensional or greater (capturing a vocabulary of 20,000 tokens, in\n",
        "this case). \n",
        "\n",
        "So, word embeddings *pack more information into far fewer dimensions*.\n",
        "\n",
        "There are two ways to obtain word embeddings:\n",
        "- Learn word embeddings jointly with the main task you care about (such as document classification or sentiment prediction). In this setup, you start with random word vectors and then learn word vectors in the same way you learn the weights of a neural network.\n",
        "-  Load into your model word embeddings that were pretrained using a different machinelearning task than the one you’re trying to solve."
      ]
    },
    {
      "metadata": {
        "id": "9jN_4YfDTVUc",
        "colab_type": "text"
      },
      "cell_type": "markdown",
      "source": [
        "Word embeddings are meant to *map human language into a geometric space*. For instance, in a reasonable embedding space, you would expect synonyms to be embedded into similar word vectors; and in general, you would expect the geometric distance (such as L2 distance) between any two word vectors to relate to the semantic distance between the associated words (words meaning different things are embedded at points far away from\n",
        "each other, whereas related words are closer). \n",
        "\n",
        "In addition to distance, you may want\n",
        "specific directions in the embedding space to be meaningful."
      ]
    },
    {
      "metadata": {
        "id": "zFTDklvDTVUd",
        "colab_type": "text"
      },
      "cell_type": "markdown",
      "source": [
        "### DataSet IMDB"
      ]
    },
    {
      "metadata": {
        "id": "w2YstPpRTVUm",
        "colab_type": "code",
        "outputId": "ca318a0f-5d6f-4a46-ef32-b46fa7412dd4",
        "colab": {
          "base_uri": "https://localhost:8080/",
          "height": 52
        }
      },
      "cell_type": "code",
      "source": [
        "max_features = 10000\n",
        "# maxlen = 20\n",
        "\n",
        "maxlen = 500\n",
        "\n",
        "# (x_train, y_train), (x_test, y_test) = imdb.load_data(num_words=max_features)\n",
        "(x_train, y_train), (x_test, y_test) = imdb.load_data()"
      ],
      "execution_count": 0,
      "outputs": [
        {
          "output_type": "stream",
          "text": [
            "Downloading data from https://s3.amazonaws.com/text-datasets/imdb.npz\n",
            "17465344/17464789 [==============================] - 0s 0us/step\n"
          ],
          "name": "stdout"
        }
      ]
    },
    {
      "metadata": {
        "id": "nve8Gn4yTVUo",
        "colab_type": "code",
        "colab": {}
      },
      "cell_type": "code",
      "source": [
        "x_train = preprocessing.sequence.pad_sequences(x_train, maxlen=maxlen)\n",
        "x_test = preprocessing.sequence.pad_sequences(x_test, maxlen=maxlen)"
      ],
      "execution_count": 0,
      "outputs": []
    },
    {
      "metadata": {
        "id": "nS6ccMkbTVUq",
        "colab_type": "code",
        "outputId": "859a9d3a-d808-497b-8d39-ec52edd34d88",
        "colab": {
          "base_uri": "https://localhost:8080/",
          "height": 34
        }
      },
      "cell_type": "code",
      "source": [
        "x_train.shape"
      ],
      "execution_count": 0,
      "outputs": [
        {
          "output_type": "execute_result",
          "data": {
            "text/plain": [
              "(25000, 500)"
            ]
          },
          "metadata": {
            "tags": []
          },
          "execution_count": 36
        }
      ]
    },
    {
      "metadata": {
        "id": "_g5uqy8nTVUu",
        "colab_type": "code",
        "outputId": "aef14d20-fbe5-4c3f-9ba6-9c36bcb1d6c2",
        "colab": {
          "base_uri": "https://localhost:8080/",
          "height": 34
        }
      },
      "cell_type": "code",
      "source": [
        "x_test.shape"
      ],
      "execution_count": 0,
      "outputs": [
        {
          "output_type": "execute_result",
          "data": {
            "text/plain": [
              "(25000, 500)"
            ]
          },
          "metadata": {
            "tags": []
          },
          "execution_count": 37
        }
      ]
    },
    {
      "metadata": {
        "id": "sts49pGpTVUx",
        "colab_type": "code",
        "outputId": "d47623b0-148c-4161-b25c-8b992a153bac",
        "colab": {
          "base_uri": "https://localhost:8080/",
          "height": 321
        }
      },
      "cell_type": "code",
      "source": [
        "model = Sequential()\n",
        "# Specifies the maximum input length to the \n",
        "# Embedding layer so you can later flatten the \n",
        "# embedded inputs. After the Embedding layer, \n",
        "# the activations have shape (samples, maxlen, 8).\n",
        "model.add(Embedding(10000, 8, input_length=x_train.shape[1]))\n",
        "# Flattens the 3D tensor of \n",
        "# embeddings into a 2D \n",
        "# tensor of shape (samples, maxlen * 8)\n",
        "model.add(Flatten())\n",
        "model.add(Dense(1, activation='sigmoid'))\n",
        "model.compile(optimizer='rmsprop', loss='binary_crossentropy', metrics=['acc'])\n",
        "model.summary()"
      ],
      "execution_count": 0,
      "outputs": [
        {
          "output_type": "stream",
          "text": [
            "WARNING:tensorflow:From /usr/local/lib/python3.6/dist-packages/tensorflow/python/framework/op_def_library.py:263: colocate_with (from tensorflow.python.framework.ops) is deprecated and will be removed in a future version.\n",
            "Instructions for updating:\n",
            "Colocations handled automatically by placer.\n",
            "_________________________________________________________________\n",
            "Layer (type)                 Output Shape              Param #   \n",
            "=================================================================\n",
            "embedding_1 (Embedding)      (None, 500, 8)            80000     \n",
            "_________________________________________________________________\n",
            "flatten_1 (Flatten)          (None, 4000)              0         \n",
            "_________________________________________________________________\n",
            "dense_1 (Dense)              (None, 1)                 4001      \n",
            "=================================================================\n",
            "Total params: 84,001\n",
            "Trainable params: 84,001\n",
            "Non-trainable params: 0\n",
            "_________________________________________________________________\n"
          ],
          "name": "stdout"
        }
      ]
    },
    {
      "metadata": {
        "id": "OvMC3_rxTVU5",
        "colab_type": "code",
        "outputId": "e746c134-3dd9-4511-fb16-10d57279f11c",
        "colab": {
          "base_uri": "https://localhost:8080/",
          "height": 481
        }
      },
      "cell_type": "code",
      "source": [
        "model.fit(x_train, y_train,\n",
        "          epochs=10, batch_size=32,\n",
        "          validation_split=0.2) # Split validation of 20% automatically)"
      ],
      "execution_count": 0,
      "outputs": [
        {
          "output_type": "stream",
          "text": [
            "WARNING:tensorflow:From /usr/local/lib/python3.6/dist-packages/tensorflow/python/ops/math_ops.py:3066: to_int32 (from tensorflow.python.ops.math_ops) is deprecated and will be removed in a future version.\n",
            "Instructions for updating:\n",
            "Use tf.cast instead.\n",
            "Train on 20000 samples, validate on 5000 samples\n",
            "Epoch 1/10\n",
            "20000/20000 [==============================] - 5s 227us/step - loss: 0.5851 - acc: 0.7096 - val_loss: 0.3946 - val_acc: 0.8434\n",
            "Epoch 2/10\n",
            "20000/20000 [==============================] - 2s 89us/step - loss: 0.2997 - acc: 0.8853 - val_loss: 0.2872 - val_acc: 0.8828\n",
            "Epoch 3/10\n",
            "20000/20000 [==============================] - 2s 86us/step - loss: 0.2219 - acc: 0.9140 - val_loss: 0.2784 - val_acc: 0.8866\n",
            "Epoch 4/10\n",
            "20000/20000 [==============================] - 2s 87us/step - loss: 0.1852 - acc: 0.9295 - val_loss: 0.2687 - val_acc: 0.8926\n",
            "Epoch 5/10\n",
            "20000/20000 [==============================] - 2s 85us/step - loss: 0.1598 - acc: 0.9406 - val_loss: 0.2724 - val_acc: 0.8912\n",
            "Epoch 6/10\n",
            "20000/20000 [==============================] - 2s 86us/step - loss: 0.1402 - acc: 0.9485 - val_loss: 0.2788 - val_acc: 0.8912\n",
            "Epoch 7/10\n",
            "20000/20000 [==============================] - 2s 87us/step - loss: 0.1213 - acc: 0.9571 - val_loss: 0.2865 - val_acc: 0.8926\n",
            "Epoch 8/10\n",
            "20000/20000 [==============================] - 2s 86us/step - loss: 0.1061 - acc: 0.9636 - val_loss: 0.3014 - val_acc: 0.8896\n",
            "Epoch 9/10\n",
            "20000/20000 [==============================] - 2s 86us/step - loss: 0.0924 - acc: 0.9684 - val_loss: 0.3131 - val_acc: 0.8876\n",
            "Epoch 10/10\n",
            "20000/20000 [==============================] - 2s 85us/step - loss: 0.0795 - acc: 0.9740 - val_loss: 0.3258 - val_acc: 0.8868\n"
          ],
          "name": "stdout"
        },
        {
          "output_type": "execute_result",
          "data": {
            "text/plain": [
              "<keras.callbacks.History at 0x7f1a0433e390>"
            ]
          },
          "metadata": {
            "tags": []
          },
          "execution_count": 39
        }
      ]
    },
    {
      "metadata": {
        "id": "mm8kdSD7TVU_",
        "colab_type": "code",
        "outputId": "46b83278-840c-47ab-c000-3c1eb5693b2d",
        "colab": {
          "base_uri": "https://localhost:8080/",
          "height": 70
        }
      },
      "cell_type": "code",
      "source": [
        "result = model.evaluate(x_test, y_test)\n",
        "for i in range(len(model.metrics_names)):\n",
        "     print(\"Metric \",model.metrics_names[i],\":\", str(round(result[i],2)))"
      ],
      "execution_count": 0,
      "outputs": [
        {
          "output_type": "stream",
          "text": [
            "25000/25000 [==============================] - 1s 35us/step\n",
            "Metric  loss : 0.34\n",
            "Metric  acc : 0.88\n"
          ],
          "name": "stdout"
        }
      ]
    },
    {
      "metadata": {
        "id": "rt13afzgTVVD",
        "colab_type": "code",
        "outputId": "3f15bc29-b80a-4c33-c27a-d1881b33ace8",
        "colab": {
          "base_uri": "https://localhost:8080/",
          "height": 563
        }
      },
      "cell_type": "code",
      "source": [
        "acc = model.history.history['acc']\n",
        "val_acc = model.history.history['val_acc']\n",
        "loss = model.history.history['loss']\n",
        "val_loss = model.history.history['val_loss']\n",
        "\n",
        "epochs = range(1, len(acc) + 1)\n",
        "\n",
        "plt.figure()\n",
        "plt.plot(epochs, loss, label='Training loss')\n",
        "plt.plot(epochs, val_loss, label='Validation loss')\n",
        "plt.title('Training and validation loss')\n",
        "plt.legend()\n",
        "plt.show()\n",
        "\n",
        "plt.figure()\n",
        "plt.plot(epochs, acc, label='Training acc')\n",
        "plt.plot(epochs, val_acc, label='Validation acc')\n",
        "plt.title('Training and validation accuracy')\n",
        "plt.legend()"
      ],
      "execution_count": 0,
      "outputs": [
        {
          "output_type": "display_data",
          "data": {
            "image/png": "[encoded data removed]",
            "text/plain": [
              "<Figure size 432x288 with 1 Axes>"
            ]
          },
          "metadata": {
            "tags": []
          }
        },
        {
          "output_type": "execute_result",
          "data": {
            "text/plain": [
              "<matplotlib.legend.Legend at 0x7f1a002bd9b0>"
            ]
          },
          "metadata": {
            "tags": []
          },
          "execution_count": 41
        },
        {
          "output_type": "display_data",
          "data": {
            "image/png": "[encoded data removed]",
            "text/plain": [
              "<Figure size 432x288 with 1 Axes>"
            ]
          },
          "metadata": {
            "tags": []
          }
        }
      ]
    },
    {
      "metadata": {
        "id": "-GulO4j7TVVG",
        "colab_type": "text"
      },
      "cell_type": "markdown",
      "source": [
        "We can see that our model start well but quickly overfit."
      ]
    },
    {
      "metadata": {
        "id": "kWHrazH5TVVH",
        "colab_type": "text"
      },
      "cell_type": "markdown",
      "source": [
        "We get to a validation accuracy of ~76%, on enseen example, which is pretty good considering that we’re only looking at the first 20 words in every review. But note that merely flattening the embedded sequences and training a single Dense layer on top leads to a model that **treats  each  word  in  the  input  sequence  separately,  without  considering  inter-word relationships and sentence structure** (for example, this model would likely treat both “this movie is a bomb” and “this movie is the bomb” as being negative reviews). \n",
        "\n",
        "Let look at how to capture those *inter-word relationships* \n",
        "\n",
        "There exist 2 main approach :\n",
        "\n",
        "1. adding a recurrent layers or\n",
        "2. adding a 1D convolutional layers on top of the embedded  sequences  to  learn  features  that  take  into  account  each  sequence  as  a  whole."
      ]
    },
    {
      "metadata": {
        "id": "2SbNcAaZTVVN",
        "colab_type": "text"
      },
      "cell_type": "markdown",
      "source": [
        "### USING PRETRAINED WORD EMBEDDINGS"
      ]
    },
    {
      "metadata": {
        "id": "l1cw9tYHTVVR",
        "colab_type": "text"
      },
      "cell_type": "markdown",
      "source": [
        "First, head to http://mng.bz/0tIo and download the raw IMDB dataset. Uncompress it.\n",
        "\n",
        "Now, let’s collect the individual training reviews into a list of strings, one string per review. We’ll also collect the review labels (positive/negative) into a labels list."
      ]
    },
    {
      "metadata": {
        "id": "XFxIlNYdwKeL",
        "colab_type": "code",
        "colab": {
          "base_uri": "https://localhost:8080/",
          "height": 34
        },
        "outputId": "d43311d2-3dd8-4c89-b9ba-1fe58b836690"
      },
      "cell_type": "code",
      "source": [
        "link = \"https://drive.google.com/file/d/1smGRs2g2HoI6VSvonoZmWKzXOP6uPUaW/view?usp=sharing\"\n",
        "\n",
        "_, id_t = link.split('d/')\n",
        "\n",
        "id = id_t.split('/')[0]\n",
        "print (id) # Verify that you have everything after '='\n",
        "\n",
        "# Install the PyDrive wrapper & import libraries.\n",
        "# This only needs to be done once per notebook.\n",
        "!pip install -U -q PyDrive\n",
        "from pydrive.auth import GoogleAuth\n",
        "from pydrive.drive import GoogleDrive\n",
        "from google.colab import auth\n",
        "from oauth2client.client import GoogleCredentials\n",
        "\n",
        "# Authenticate and create the PyDrive client.\n",
        "# This only needs to be done once per notebook.\n",
        "auth.authenticate_user()\n",
        "gauth = GoogleAuth()\n",
        "gauth.credentials = GoogleCredentials.get_application_default()\n",
        "drive = GoogleDrive(gauth)\n",
        "\n",
        "\n",
        "file_id = id\n",
        "downloaded = drive.CreateFile({'id':file_id})\n",
        "downloaded.FetchMetadata(fetch_all=True)\n",
        "downloaded.GetContentFile(downloaded.metadata['title'])"
      ],
      "execution_count": 12,
      "outputs": [
        {
          "output_type": "stream",
          "text": [
            "1smGRs2g2HoI6VSvonoZmWKzXOP6uPUaW\n"
          ],
          "name": "stdout"
        }
      ]
    },
    {
      "metadata": {
        "id": "-ULfj6D_ziiW",
        "colab_type": "code",
        "outputId": "beeb9e8a-e786-4401-d037-e23d7383ca3a",
        "colab": {
          "base_uri": "https://localhost:8080/",
          "height": 34
        }
      },
      "cell_type": "code",
      "source": [
        "!ls"
      ],
      "execution_count": 13,
      "outputs": [
        {
          "output_type": "stream",
          "text": [
            "aclImdb.zip  adc.json  crawl-300d-2M.vec  sample_data\n"
          ],
          "name": "stdout"
        }
      ]
    },
    {
      "metadata": {
        "id": "vhwLb-sRVo6R",
        "colab_type": "code",
        "colab": {}
      },
      "cell_type": "code",
      "source": [
        "!unzip aclImdb.zip"
      ],
      "execution_count": 0,
      "outputs": []
    },
    {
      "metadata": {
        "id": "Ygt0MYNKVuZw",
        "colab_type": "code",
        "outputId": "c9358656-18db-4838-80ef-c19a90fa936e",
        "colab": {
          "base_uri": "https://localhost:8080/",
          "height": 34
        }
      },
      "cell_type": "code",
      "source": [
        "!ls\n"
      ],
      "execution_count": 16,
      "outputs": [
        {
          "output_type": "stream",
          "text": [
            "aclImdb  aclImdb.zip  adc.json\tcrawl-300d-2M.vec  __MACOSX  sample_data\n"
          ],
          "name": "stdout"
        }
      ]
    },
    {
      "metadata": {
        "id": "bmBdoFWmTVVS",
        "colab_type": "code",
        "colab": {}
      },
      "cell_type": "code",
      "source": [
        "# imdb_dir = './data/aclImdb'\n",
        "imdb_dir = './aclImdb'\n",
        "\n",
        "train_dir = os.path.join(imdb_dir, 'train')\n",
        "labels = []\n",
        "texts = []\n",
        "\n",
        "for label_type in ['neg', 'pos']:\n",
        "    dir_name = os.path.join(train_dir, label_type)\n",
        "    for fname in os.listdir(dir_name):\n",
        "        if fname[-4:] == '.txt':\n",
        "            f = open(os.path.join(dir_name, fname), encoding=\"utf8\")\n",
        "            texts.append(f.read())\n",
        "            f.close()\n",
        "            if label_type == 'neg':\n",
        "                labels.append(0)\n",
        "            else:\n",
        "                labels.append(1)"
      ],
      "execution_count": 0,
      "outputs": []
    },
    {
      "metadata": {
        "id": "QvWXhJR4TVVW",
        "colab_type": "code",
        "outputId": "c2ed48bf-fbf3-4d5a-f1f1-b2353ff733ad",
        "colab": {
          "base_uri": "https://localhost:8080/",
          "height": 34
        }
      },
      "cell_type": "code",
      "source": [
        "np.unique(labels)"
      ],
      "execution_count": 4,
      "outputs": [
        {
          "output_type": "execute_result",
          "data": {
            "text/plain": [
              "array([0, 1])"
            ]
          },
          "metadata": {
            "tags": []
          },
          "execution_count": 4
        }
      ]
    },
    {
      "metadata": {
        "id": "ABobFPr5TVVa",
        "colab_type": "code",
        "outputId": "4c48b666-58e8-4578-cd6a-6ba35a0aa55b",
        "colab": {
          "base_uri": "https://localhost:8080/",
          "height": 34
        }
      },
      "cell_type": "code",
      "source": [
        "type(labels)"
      ],
      "execution_count": 5,
      "outputs": [
        {
          "output_type": "execute_result",
          "data": {
            "text/plain": [
              "list"
            ]
          },
          "metadata": {
            "tags": []
          },
          "execution_count": 5
        }
      ]
    },
    {
      "metadata": {
        "id": "cpbZB-WgTVVi",
        "colab_type": "code",
        "outputId": "697b4b8a-0349-40e6-ea39-8476b89873ae",
        "colab": {
          "base_uri": "https://localhost:8080/",
          "height": 34
        }
      },
      "cell_type": "code",
      "source": [
        "type(texts)"
      ],
      "execution_count": 6,
      "outputs": [
        {
          "output_type": "execute_result",
          "data": {
            "text/plain": [
              "list"
            ]
          },
          "metadata": {
            "tags": []
          },
          "execution_count": 6
        }
      ]
    },
    {
      "metadata": {
        "id": "Ggl3E39RTVVl",
        "colab_type": "text"
      },
      "cell_type": "markdown",
      "source": [
        "### TOKENIZING THE DATA\n",
        "\n",
        "Let’s vectorize the text and prepare a training and validation split. Pretrained word embeddings are meant to be particularly useful on problems where little training data is available (otherwise,\n",
        "task-specific embeddings are likely to outperform them), we’ll add the following twist: restricting the training data to the first $200 samples$. So you’ll learn to classify movie reviews after looking at just 200 examples."
      ]
    },
    {
      "metadata": {
        "id": "tuLFG5mGTVVl",
        "colab_type": "code",
        "colab": {}
      },
      "cell_type": "code",
      "source": [
        "# Cuts off reviews after 100 words\n",
        "# maxlen = 100\n",
        "maxlen = 100\n",
        "\n",
        "# Trains on 200 samples\n",
        "training_samples = 200\n",
        "# training_samples = 15000\n",
        "\n",
        "# Validates on 10,000 samples\n",
        "validation_samples = 10000\n",
        "\n",
        "# Considers only the top \n",
        "# 10,000 words in the dataset\n",
        "max_words = 10000\n",
        "\n",
        "tokenizer = Tokenizer(num_words=max_words)\n",
        "# tokenizer = Tokenizer()\n",
        "\n",
        "tokenizer.fit_on_texts(texts)\n",
        "sequences = tokenizer.texts_to_sequences(texts)"
      ],
      "execution_count": 0,
      "outputs": []
    },
    {
      "metadata": {
        "id": "w8P7lETVTVVo",
        "colab_type": "code",
        "outputId": "e2d25a4f-d57c-46bc-92a9-835b2c83dd79",
        "colab": {
          "base_uri": "https://localhost:8080/",
          "height": 70
        }
      },
      "cell_type": "code",
      "source": [
        "word_index = tokenizer.word_index\n",
        "print('Found %s unique tokens.' % len(word_index))\n",
        "\n",
        "data = pad_sequences(sequences, maxlen=maxlen)\n",
        "labels = np.asarray(labels)\n",
        "print('Shape of data tensor:', data.shape)\n",
        "print('Shape of label tensor:', labels.shape)\n",
        "\n",
        "# Splits the data into a training set and a \n",
        "# validation set, but first shuffles the data, \n",
        "# because you’re starting with data in which \n",
        "# samples are ordered (all negative first, then \n",
        "# all positive) \n",
        "indices = np.arange(data.shape[0])\n",
        "np.random.shuffle(indices)\n",
        "data = data[indices]\n",
        "labels = labels[indices]\n",
        "\n",
        "x_train = data[:training_samples]\n",
        "y_train = labels[:training_samples]\n",
        "x_val = data[training_samples: training_samples + validation_samples]\n",
        "y_val = labels[training_samples: training_samples + validation_samples]"
      ],
      "execution_count": 8,
      "outputs": [
        {
          "output_type": "stream",
          "text": [
            "Found 88582 unique tokens.\n",
            "Shape of data tensor: (25000, 100)\n",
            "Shape of label tensor: (25000,)\n"
          ],
          "name": "stdout"
        }
      ]
    },
    {
      "metadata": {
        "id": "lvxtx8_LTVVu",
        "colab_type": "code",
        "outputId": "3674da86-5e67-4069-f646-2a2e2f267f7d",
        "colab": {
          "base_uri": "https://localhost:8080/",
          "height": 105
        }
      },
      "cell_type": "code",
      "source": [
        "#Explore the data structure using basic python commands\n",
        "print(\"Type of the Dataset:\",type(x_train))\n",
        "print(\"Shape of training data :\",x_train.shape)\n",
        "print(\"Shape of training labels :\",y_train.shape)\n",
        "print(\"Shape of testing data :\",x_val.shape)\n",
        "print(\"Shape of testing labels :\",y_val.shape)"
      ],
      "execution_count": 9,
      "outputs": [
        {
          "output_type": "stream",
          "text": [
            "Type of the Dataset: <class 'numpy.ndarray'>\n",
            "Shape of training data : (200, 100)\n",
            "Shape of training labels : (200,)\n",
            "Shape of testing data : (10000, 100)\n",
            "Shape of testing labels : (10000,)\n"
          ],
          "name": "stdout"
        }
      ]
    },
    {
      "metadata": {
        "id": "t3D6riq5TVV4",
        "colab_type": "code",
        "outputId": "b8f9ea3e-81e5-48df-aa99-07c6608293b8",
        "colab": {
          "base_uri": "https://localhost:8080/",
          "height": 105
        }
      },
      "cell_type": "code",
      "source": [
        "x_train[:5]"
      ],
      "execution_count": 0,
      "outputs": [
        {
          "output_type": "execute_result",
          "data": {
            "text/plain": [
              "array([[    0,     0,     0, ...,   287,     3, 22583],\n",
              "       [    0,     0,     0, ...,    36,     1,  3474],\n",
              "       [    0,     0,     0, ...,    52,    52,    73],\n",
              "       [    0,     0,     0, ...,  1121,    17,   123],\n",
              "       [    0,     0,     0, ...,    11,   183,  2385]], dtype=int32)"
            ]
          },
          "metadata": {
            "tags": []
          },
          "execution_count": 45
        }
      ]
    },
    {
      "metadata": {
        "id": "hz8B0qC0TVWB",
        "colab_type": "text"
      },
      "cell_type": "markdown",
      "source": [
        "###  GLOVE WORD EMBEDDINGS"
      ]
    },
    {
      "metadata": {
        "id": "NUtSjGG5TVWD",
        "colab_type": "text"
      },
      "cell_type": "markdown",
      "source": [
        "Go  to  https://nlp.stanford.edu/projects/glove,  and  download  the  precomputed\n",
        "embeddings from 2014 English Wikipedia.  It’s an 822 MB zip file called glove.6B.zip,\n",
        "containing  100-dimensional  embedding  vectors  for  400,000  words  (or  nonword\n",
        "tokens). Unzip it. "
      ]
    },
    {
      "metadata": {
        "id": "wS--GtlvrIu0",
        "colab_type": "code",
        "colab": {
          "base_uri": "https://localhost:8080/",
          "height": 34
        },
        "outputId": "c8e3d666-2891-48fe-b38f-584328468672"
      },
      "cell_type": "code",
      "source": [
        "link = \"https://drive.google.com/file/d/1qlkC4-gpOhJVVvja8NEnnYPJFFzUu1CW/view?usp=sharing\"\n",
        "\n",
        "_, id_t = link.split('d/')\n",
        "\n",
        "id = id_t.split('/')[0]\n",
        "print (id) # Verify that you have everything after '='\n",
        "\n",
        "# Install the PyDrive wrapper & import libraries.\n",
        "# This only needs to be done once per notebook.\n",
        "!pip install -U -q PyDrive\n",
        "from pydrive.auth import GoogleAuth\n",
        "from pydrive.drive import GoogleDrive\n",
        "from google.colab import auth\n",
        "from oauth2client.client import GoogleCredentials\n",
        "\n",
        "# Authenticate and create the PyDrive client.\n",
        "# This only needs to be done once per notebook.\n",
        "auth.authenticate_user()\n",
        "gauth = GoogleAuth()\n",
        "gauth.credentials = GoogleCredentials.get_application_default()\n",
        "drive = GoogleDrive(gauth)\n",
        "\n",
        "\n",
        "file_id = id\n",
        "downloaded = drive.CreateFile({'id':file_id})\n",
        "downloaded.FetchMetadata(fetch_all=True)\n",
        "downloaded.GetContentFile(downloaded.metadata['title'])"
      ],
      "execution_count": 58,
      "outputs": [
        {
          "output_type": "stream",
          "text": [
            "1qlkC4-gpOhJVVvja8NEnnYPJFFzUu1CW\n"
          ],
          "name": "stdout"
        }
      ]
    },
    {
      "metadata": {
        "id": "lR2rRMzvrLI9",
        "colab_type": "code",
        "colab": {
          "base_uri": "https://localhost:8080/",
          "height": 52
        },
        "outputId": "03edafd4-7cef-4142-f127-af7ab8459eb2"
      },
      "cell_type": "code",
      "source": [
        "!ls"
      ],
      "execution_count": 1,
      "outputs": [
        {
          "output_type": "stream",
          "text": [
            "aclImdb      adc.json\t\tglove.840B.300d.txt  __MACOSX\n",
            "aclImdb.zip  crawl-300d-2M.vec\tglove.840B.300d.zip  sample_data\n"
          ],
          "name": "stdout"
        }
      ]
    },
    {
      "metadata": {
        "id": "oNqcYYiMrvs4",
        "colab_type": "code",
        "colab": {
          "base_uri": "https://localhost:8080/",
          "height": 52
        },
        "outputId": "7d1b20b8-a03e-4598-d581-6e744a62f2d0"
      },
      "cell_type": "code",
      "source": [
        "!unzip glove.840B.300d.zip"
      ],
      "execution_count": 60,
      "outputs": [
        {
          "output_type": "stream",
          "text": [
            "Archive:  glove.840B.300d.zip\n",
            "  inflating: glove.840B.300d.txt     \n"
          ],
          "name": "stdout"
        }
      ]
    },
    {
      "metadata": {
        "id": "XMsM1M_FTVWE",
        "colab_type": "code",
        "outputId": "ccab764d-6e75-4977-e2d8-1f97035df595",
        "colab": {
          "base_uri": "https://localhost:8080/",
          "height": 34
        }
      },
      "cell_type": "code",
      "source": [
        "# PREPROCESSING THE EMBEDDINGS\n",
        "# glove_dir = './data/glove.6B'\n",
        "glove_dir = './'\n",
        "embeddings_index = {}\n",
        "\n",
        "f = open(os.path.join(glove_dir, 'glove.840B.300d.txt'), encoding=\"utf8\")\n",
        "\n",
        "for line in f:\n",
        "    values = line.split()\n",
        "    word = ''.join(values[:-300])\n",
        "    coefs = np.asarray(values[-300:], dtype='float32') #; ipdb.set_trace()\n",
        "    embeddings_index[word] = coefs\n",
        "f.close()\n",
        "\n",
        "# for line in f:\n",
        "#     values = line.split()\n",
        "#     word = values[0]\n",
        "#     coefs = np.asarray(values[1:], dtype='float32')\n",
        "#     embeddings_index[word] = coefs\n",
        "# f.close()\n",
        "print('Found %s word vectors.' % len(embeddings_index))"
      ],
      "execution_count": 14,
      "outputs": [
        {
          "output_type": "stream",
          "text": [
            "Found 2195892 word vectors.\n"
          ],
          "name": "stdout"
        }
      ]
    },
    {
      "metadata": {
        "id": "jzXqg484yOtw",
        "colab_type": "text"
      },
      "cell_type": "markdown",
      "source": [
        "Well, we have axactly $2,195,89$ words as expected, of dimension $100$"
      ]
    },
    {
      "metadata": {
        "id": "MauHqsRITVWM",
        "colab_type": "text"
      },
      "cell_type": "markdown",
      "source": [
        "Well, we have axactly $400.000$ words as expected, of dimension $100$"
      ]
    },
    {
      "metadata": {
        "id": "wgNRmRe7TVWO",
        "colab_type": "code",
        "outputId": "ce71bb50-9cd1-4766-98b1-961c13461d11",
        "colab": {
          "base_uri": "https://localhost:8080/",
          "height": 34
        }
      },
      "cell_type": "code",
      "source": [
        "embeddings_index['hello'].shape"
      ],
      "execution_count": 17,
      "outputs": [
        {
          "output_type": "execute_result",
          "data": {
            "text/plain": [
              "(300,)"
            ]
          },
          "metadata": {
            "tags": []
          },
          "execution_count": 17
        }
      ]
    },
    {
      "metadata": {
        "id": "f7ZwfN-3TVWT",
        "colab_type": "text"
      },
      "cell_type": "markdown",
      "source": [
        "Next, you’ll build an embedding matrix that you can load into an Embedding layer. It\n",
        "must be a matrix of shape $(max\\_words, embedding_dim=1000)$, where each entry i contains\n",
        "the embedding_dim-dimensional vector for the word of index i in the reference word\n",
        "index (built during tokenization). Note that index 0 isn’t supposed to stand for any\n",
        "word or token—it’s a placeholder"
      ]
    },
    {
      "metadata": {
        "id": "CzFZy_caTVWW",
        "colab_type": "code",
        "colab": {}
      },
      "cell_type": "code",
      "source": [
        "embedding_dim = embeddings_index['hello'].shape[0]\n",
        "# Cuts off reviews after 100 words\n",
        "maxlen = 100\n",
        "\n",
        "# Considers only the top \n",
        "# 10,000 words in the dataset\n",
        "max_words = 10000\n",
        "\n",
        "embedding_matrix = np.zeros((max_words, embedding_dim))\n",
        "\n",
        "for word, i in word_index.items():\n",
        "    if i < max_words:\n",
        "#         ipdb.set_trace()\n",
        "        embedding_vector = embeddings_index.get(word)\n",
        "        # cheking that th eword exist in the embedding dictionary\n",
        "        if embedding_vector is not None: \n",
        "            embedding_matrix[i] = embedding_vector"
      ],
      "execution_count": 0,
      "outputs": []
    },
    {
      "metadata": {
        "id": "vRfYQ8rsTVWY",
        "colab_type": "code",
        "outputId": "11c90541-e5d2-483f-fc7a-309aea2b6a97",
        "colab": {
          "base_uri": "https://localhost:8080/",
          "height": 1083
        }
      },
      "cell_type": "code",
      "source": [
        "embedding_matrix[-1] # looking at the last element"
      ],
      "execution_count": 19,
      "outputs": [
        {
          "output_type": "execute_result",
          "data": {
            "text/plain": [
              "array([-0.068528  ,  0.45958999,  0.018539  , -0.53644001,  0.35394001,\n",
              "       -0.35152   ,  0.078778  ,  0.12740999,  0.52928001,  0.62096   ,\n",
              "       -0.75994003, -0.31343001,  0.13381   , -0.03789   , -0.40671   ,\n",
              "       -0.098737  ,  0.13415   ,  0.90764999,  0.34279999, -0.52192003,\n",
              "       -0.23233999, -0.29030001,  0.37049001, -0.56544   , -0.0023271 ,\n",
              "        0.13129   , -0.49311   ,  0.16054   ,  0.099735  , -0.13713001,\n",
              "        0.32255   , -0.25729999,  0.11523   ,  0.099993  ,  0.078515  ,\n",
              "        0.31130001, -0.21955   ,  0.15638   ,  0.27340001,  0.22973999,\n",
              "       -0.1997    , -0.025547  , -0.26411   , -0.099569  , -0.34459999,\n",
              "       -0.20026   ,  0.17815   ,  0.1339    ,  0.24776   ,  0.028355  ,\n",
              "       -0.36414   , -0.13376001,  0.098335  , -0.86383998,  0.082803  ,\n",
              "        0.25937   , -0.0073275 ,  0.36594   , -0.014414  , -0.18960001,\n",
              "       -0.84470999, -0.14161   , -0.030128  , -0.27522999,  0.16633999,\n",
              "        0.18104   , -0.41111001,  0.15974   , -0.24508999, -0.20941   ,\n",
              "       -0.22263999, -0.05554   , -0.33133   , -0.34858   ,  0.30063999,\n",
              "        0.58574998, -0.31786001,  0.12341   ,  0.27463999,  0.41167   ,\n",
              "       -0.080331  ,  0.53081   , -0.20781   , -0.49768999, -0.53154999,\n",
              "        0.36351001,  1.24249995,  0.35264999, -0.35639   , -0.57020998,\n",
              "        0.022342  , -0.33028999,  0.17343999, -0.92998999,  0.47981   ,\n",
              "        0.0024387 ,  0.30761001, -0.060123  ,  0.23736   , -0.10665   ,\n",
              "       -0.40672001, -0.51138002,  0.14061999,  0.77859002, -0.066568  ,\n",
              "       -1.13569999,  0.20832001,  0.034592  , -0.23594999, -0.4382    ,\n",
              "        0.40507001,  0.44848001,  0.17891   , -0.26558   , -0.42829999,\n",
              "        0.23849   ,  0.75209999, -0.30037001,  0.075963  ,  0.16906001,\n",
              "        0.45300001,  0.67650002,  0.18094   ,  0.014279  , -0.0098222 ,\n",
              "       -0.13849001,  0.14899001,  0.34731999, -0.38545001,  0.18907   ,\n",
              "        0.056587  , -0.63312   , -0.13204999, -0.62900001,  0.22758   ,\n",
              "       -0.19815999, -0.33805999, -0.27643999,  0.27024001, -0.56533998,\n",
              "       -1.24329996,  0.069682  ,  0.59495002, -0.22347   ,  0.22860999,\n",
              "        0.068897  ,  0.18565001,  0.23375   , -0.30915001, -0.52652001,\n",
              "       -0.062782  , -0.60241002, -0.50800002, -0.35576001,  0.14643   ,\n",
              "       -0.17397   , -0.23789001,  0.038562  , -0.43511   ,  0.47042999,\n",
              "        0.50362003,  0.18817   , -0.23853999, -0.26517001,  0.20734   ,\n",
              "        0.097861  ,  0.23355   ,  0.25391999,  0.21741   ,  0.25780001,\n",
              "       -0.53012002,  0.56607997, -0.14915   , -0.23135   , -0.059422  ,\n",
              "       -0.33184001, -0.19385   ,  0.74247998,  0.068607  , -0.12955   ,\n",
              "       -0.35005   ,  0.15211999, -0.2043    , -0.061594  ,  0.11642   ,\n",
              "        0.61396003, -0.16099   , -0.48356   , -0.084071  ,  0.33421999,\n",
              "       -0.019773  ,  0.040742  , -0.053901  , -0.035275  , -0.31349999,\n",
              "        0.58721   , -0.16496   ,  0.10731   ,  0.13979   ,  0.042947  ,\n",
              "        0.37213001, -0.86799997,  0.21901999, -0.16269   , -0.67637998,\n",
              "       -0.10349   ,  0.095689  ,  0.33963001,  0.43687001, -0.21252   ,\n",
              "       -0.047153  ,  0.50064999,  0.022196  ,  0.84540999, -0.73514003,\n",
              "        0.22973999,  0.1099    ,  0.034693  ,  0.3048    , -0.16727   ,\n",
              "        0.18282001,  0.30030999, -0.47479999, -0.15932   , -0.022228  ,\n",
              "        0.0051185 , -0.63716   ,  0.22735   ,  0.38146001, -0.19269   ,\n",
              "        0.39388999,  0.44148001,  0.33432999, -0.045143  , -0.53863001,\n",
              "       -0.21334   , -0.083726  , -0.65490001,  0.038475  ,  0.40825   ,\n",
              "        0.14277001, -0.06945   ,  0.31116   , -0.48758999, -0.23444   ,\n",
              "        0.31814   ,  0.29786   ,  0.1673    , -0.39109001, -0.60829997,\n",
              "        0.49313   , -0.039667  ,  0.28995001, -0.41779   ,  0.39465001,\n",
              "       -0.52982998,  0.15109   , -0.037451  ,  0.22249   ,  0.022924  ,\n",
              "        0.15011001, -0.53663999,  0.086832  ,  0.32337001, -0.28977001,\n",
              "       -0.35635999, -0.36568999,  0.28167   , -1.18130004,  0.79602998,\n",
              "       -0.78574997,  0.34048   ,  0.24304   ,  0.4109    ,  0.025391  ,\n",
              "       -0.25297999,  0.30166   , -0.67377001, -0.51582998, -0.67388999,\n",
              "       -0.0054575 , -0.32212001, -0.41582999,  0.34334999, -0.0040147 ,\n",
              "        0.39675   ,  0.032879  ,  0.23630001, -0.033035  , -0.01576   ,\n",
              "        0.36945999, -0.16269   ,  0.03695   ,  0.10878   , -0.018512  ,\n",
              "       -0.57380998,  0.040806  , -0.043542  , -0.70174003,  0.088809  ])"
            ]
          },
          "metadata": {
            "tags": []
          },
          "execution_count": 19
        }
      ]
    },
    {
      "metadata": {
        "id": "_-nBo7vzTVWf",
        "colab_type": "code",
        "outputId": "dc5c93d8-5521-42c0-f5e9-92e396acedeb",
        "colab": {
          "base_uri": "https://localhost:8080/",
          "height": 34
        }
      },
      "cell_type": "code",
      "source": [
        "embedding_matrix.shape"
      ],
      "execution_count": 20,
      "outputs": [
        {
          "output_type": "execute_result",
          "data": {
            "text/plain": [
              "(10000, 300)"
            ]
          },
          "metadata": {
            "tags": []
          },
          "execution_count": 20
        }
      ]
    },
    {
      "metadata": {
        "id": "FCaF_ZbrTVWj",
        "colab_type": "code",
        "outputId": "0f0e005d-bdac-4cf8-8223-db2699c4ee62",
        "colab": {
          "base_uri": "https://localhost:8080/",
          "height": 70
        }
      },
      "cell_type": "code",
      "source": [
        "print(f\"Max_words = {max_words}, \\nEmbedding_dim = {embedding_dim} and \\nInput_length = {maxlen}\")"
      ],
      "execution_count": 21,
      "outputs": [
        {
          "output_type": "stream",
          "text": [
            "Max_words = 10000, \n",
            "Embedding_dim = 300 and \n",
            "Input_length = 100\n"
          ],
          "name": "stdout"
        }
      ]
    },
    {
      "metadata": {
        "id": "J0zttiOCTVWm",
        "colab_type": "code",
        "outputId": "10c1d0a9-0c66-457a-fe2b-b055b3410fe3",
        "colab": {
          "base_uri": "https://localhost:8080/",
          "height": 356
        }
      },
      "cell_type": "code",
      "source": [
        "from keras.models import Sequential\n",
        "from keras.layers import Embedding, Flatten, Dense\n",
        "\n",
        "model = Sequential()\n",
        "model.add(Embedding(max_words, embedding_dim, input_length=maxlen))\n",
        "model.add(Flatten())\n",
        "model.add(Dense(32, activation='relu'))\n",
        "model.add(Dense(1, activation='sigmoid'))\n",
        "model.summary()"
      ],
      "execution_count": 22,
      "outputs": [
        {
          "output_type": "stream",
          "text": [
            "WARNING:tensorflow:From /usr/local/lib/python3.6/dist-packages/tensorflow/python/framework/op_def_library.py:263: colocate_with (from tensorflow.python.framework.ops) is deprecated and will be removed in a future version.\n",
            "Instructions for updating:\n",
            "Colocations handled automatically by placer.\n",
            "_________________________________________________________________\n",
            "Layer (type)                 Output Shape              Param #   \n",
            "=================================================================\n",
            "embedding_1 (Embedding)      (None, 100, 300)          3000000   \n",
            "_________________________________________________________________\n",
            "flatten_1 (Flatten)          (None, 30000)             0         \n",
            "_________________________________________________________________\n",
            "dense_1 (Dense)              (None, 32)                960032    \n",
            "_________________________________________________________________\n",
            "dense_2 (Dense)              (None, 1)                 33        \n",
            "=================================================================\n",
            "Total params: 3,960,065\n",
            "Trainable params: 3,960,065\n",
            "Non-trainable params: 0\n",
            "_________________________________________________________________\n"
          ],
          "name": "stdout"
        }
      ]
    },
    {
      "metadata": {
        "id": "sRnmKoiNTVWq",
        "colab_type": "text"
      },
      "cell_type": "markdown",
      "source": [
        "The Embedding layer has a single weight matrix: a 2D float matrix where each entry i is\n",
        "the word vector meant to be associated with index i. Simple enough. Load the GloVe\n",
        "matrix you prepared into the Embedding layer, the first layer in the model."
      ]
    },
    {
      "metadata": {
        "id": "yr4JjEm6TVWq",
        "colab_type": "code",
        "colab": {}
      },
      "cell_type": "code",
      "source": [
        "model.layers[0].set_weights([embedding_matrix])\n",
        "#  freeze the Embedding layer\n",
        "# the pretrained parts shouldn’t\n",
        "# be updated during training, to avoid forgetting what they already know\n",
        "model.layers[0].trainable = False"
      ],
      "execution_count": 0,
      "outputs": []
    },
    {
      "metadata": {
        "id": "if07nKLNTVWv",
        "colab_type": "code",
        "outputId": "d52ed0f1-e93c-4065-fa7f-9b9e2bd5d6d5",
        "colab": {
          "base_uri": "https://localhost:8080/",
          "height": 481
        }
      },
      "cell_type": "code",
      "source": [
        "model.compile(optimizer='rmsprop',\n",
        "              loss='binary_crossentropy',\n",
        "              metrics=['acc'])\n",
        "\n",
        "model.fit(x_train, y_train,\n",
        "          epochs=10, batch_size=32,\n",
        "          validation_data=(x_val, y_val))\n",
        "\n",
        "# model.save_weights('pre_trained_glove_model.h5')"
      ],
      "execution_count": 24,
      "outputs": [
        {
          "output_type": "stream",
          "text": [
            "WARNING:tensorflow:From /usr/local/lib/python3.6/dist-packages/tensorflow/python/ops/math_ops.py:3066: to_int32 (from tensorflow.python.ops.math_ops) is deprecated and will be removed in a future version.\n",
            "Instructions for updating:\n",
            "Use tf.cast instead.\n",
            "Train on 200 samples, validate on 10000 samples\n",
            "Epoch 1/10\n",
            "200/200 [==============================] - 2s 8ms/step - loss: 1.6567 - acc: 0.5200 - val_loss: 0.7668 - val_acc: 0.5115\n",
            "Epoch 2/10\n",
            "200/200 [==============================] - 0s 2ms/step - loss: 0.2618 - acc: 0.9200 - val_loss: 0.9950 - val_acc: 0.5060\n",
            "Epoch 3/10\n",
            "200/200 [==============================] - 0s 2ms/step - loss: 0.0999 - acc: 0.9700 - val_loss: 0.9133 - val_acc: 0.5310\n",
            "Epoch 4/10\n",
            "200/200 [==============================] - 0s 2ms/step - loss: 0.0311 - acc: 0.9950 - val_loss: 0.7245 - val_acc: 0.5896\n",
            "Epoch 5/10\n",
            "200/200 [==============================] - 0s 2ms/step - loss: 0.0112 - acc: 1.0000 - val_loss: 0.7238 - val_acc: 0.5979\n",
            "Epoch 6/10\n",
            "200/200 [==============================] - 0s 2ms/step - loss: 0.0055 - acc: 1.0000 - val_loss: 0.7296 - val_acc: 0.6076\n",
            "Epoch 7/10\n",
            "200/200 [==============================] - 0s 2ms/step - loss: 0.0028 - acc: 1.0000 - val_loss: 0.7585 - val_acc: 0.6004\n",
            "Epoch 8/10\n",
            "200/200 [==============================] - 0s 2ms/step - loss: 0.0016 - acc: 1.0000 - val_loss: 0.8016 - val_acc: 0.5940\n",
            "Epoch 9/10\n",
            "200/200 [==============================] - 0s 2ms/step - loss: 9.2530e-04 - acc: 1.0000 - val_loss: 0.7817 - val_acc: 0.6068\n",
            "Epoch 10/10\n",
            "200/200 [==============================] - 0s 2ms/step - loss: 5.5687e-04 - acc: 1.0000 - val_loss: 0.7886 - val_acc: 0.6096\n"
          ],
          "name": "stdout"
        },
        {
          "output_type": "execute_result",
          "data": {
            "text/plain": [
              "<keras.callbacks.History at 0x7f7d40e36208>"
            ]
          },
          "metadata": {
            "tags": []
          },
          "execution_count": 24
        }
      ]
    },
    {
      "metadata": {
        "id": "mbxwIvrdTVWz",
        "colab_type": "code",
        "outputId": "e1326b98-3c5d-4752-dd8f-8ddd5d6e5d7e",
        "colab": {
          "base_uri": "https://localhost:8080/",
          "height": 563
        }
      },
      "cell_type": "code",
      "source": [
        "acc = model.history.history['acc']\n",
        "val_acc = model.history.history['val_acc']\n",
        "loss = model.history.history['loss']\n",
        "val_loss = model.history.history['val_loss']\n",
        "\n",
        "epochs = range(1, len(acc) + 1)\n",
        "\n",
        "plt.figure()\n",
        "# plt.figure(figsize=(9,8))\n",
        "plt.plot(epochs, loss, label='Training loss')\n",
        "plt.plot(epochs, val_loss, label='Validation loss')\n",
        "plt.title('Training and validation loss')\n",
        "plt.legend()\n",
        "plt.show()\n",
        "\n",
        "\n",
        "plt.figure()\n",
        "plt.plot(epochs, acc, label='Training acc')\n",
        "plt.plot(epochs, val_acc, label='Validation acc')\n",
        "plt.title('Training and validation accuracy')\n",
        "plt.legend()"
      ],
      "execution_count": 26,
      "outputs": [
        {
          "output_type": "display_data",
          "data": {
            "image/png": "[encoded data removed]",
            "text/plain": [
              "<Figure size 432x288 with 1 Axes>"
            ]
          },
          "metadata": {
            "tags": []
          }
        },
        {
          "output_type": "execute_result",
          "data": {
            "text/plain": [
              "<matplotlib.legend.Legend at 0x7f7d340e2f60>"
            ]
          },
          "metadata": {
            "tags": []
          },
          "execution_count": 26
        },
        {
          "output_type": "display_data",
          "data": {
            "image/png": "[encoded data removed]",
            "text/plain": [
              "<Figure size 432x288 with 1 Axes>"
            ]
          },
          "metadata": {
            "tags": []
          }
        }
      ]
    },
    {
      "metadata": {
        "id": "iuAQRntwTVW3",
        "colab_type": "code",
        "colab": {}
      },
      "cell_type": "code",
      "source": [
        ""
      ],
      "execution_count": 0,
      "outputs": []
    },
    {
      "metadata": {
        "id": "mnynvT83TVW5",
        "colab_type": "text"
      },
      "cell_type": "markdown",
      "source": [
        "### WORD2VEC EMBEDDINGS\n",
        "\n",
        "Developed  by  Tomas  Mikolov  at  Google  in  2013.  Word2vec (https://code.google.com/archive/p/word2vec)\n",
        "dimensions capture specific semantic properties"
      ]
    },
    {
      "metadata": {
        "colab_type": "code",
        "id": "xL2qCwi2JKYF",
        "colab": {
          "base_uri": "https://localhost:8080/",
          "height": 34
        },
        "outputId": "abf93801-1432-422d-a062-2667134f8e2b"
      },
      "cell_type": "code",
      "source": [
        "link = \"https://drive.google.com/file/d/13NmrtF-HoGmdv_m3Ld4eGVTbIekOcNi_/view?usp=sharing\"\n",
        "\n",
        "_, id_t = link.split('d/')\n",
        "\n",
        "id = id_t.split('/')[0]\n",
        "print (id) # Verify that you have everything after '='\n",
        "\n",
        "# Install the PyDrive wrapper & import libraries.\n",
        "# This only needs to be done once per notebook.\n",
        "!pip install -U -q PyDrive\n",
        "from pydrive.auth import GoogleAuth\n",
        "from pydrive.drive import GoogleDrive\n",
        "from google.colab import auth\n",
        "from oauth2client.client import GoogleCredentials\n",
        "\n",
        "# Authenticate and create the PyDrive client.\n",
        "# This only needs to be done once per notebook.\n",
        "auth.authenticate_user()\n",
        "gauth = GoogleAuth()\n",
        "gauth.credentials = GoogleCredentials.get_application_default()\n",
        "drive = GoogleDrive(gauth)\n",
        "\n",
        "file_id = id\n",
        "downloaded = drive.CreateFile({'id':file_id})\n",
        "downloaded.FetchMetadata(fetch_all=True)\n",
        "downloaded.GetContentFile(downloaded.metadata['title'])"
      ],
      "execution_count": 28,
      "outputs": [
        {
          "output_type": "stream",
          "text": [
            "13NmrtF-HoGmdv_m3Ld4eGVTbIekOcNi_\n"
          ],
          "name": "stdout"
        }
      ]
    },
    {
      "metadata": {
        "colab_type": "code",
        "outputId": "4bb2935c-67ae-4408-c697-7814b0a42320",
        "id": "gsgPh-3_JKYN",
        "colab": {
          "base_uri": "https://localhost:8080/",
          "height": 70
        }
      },
      "cell_type": "code",
      "source": [
        "!ls"
      ],
      "execution_count": 1,
      "outputs": [
        {
          "output_type": "stream",
          "text": [
            "aclImdb      crawl-300d-2M.vec\t  GoogleNews-vectors-negative300.bin\n",
            "aclImdb.zip  glove.840B.300d.txt  __MACOSX\n",
            "adc.json     glove.840B.300d.zip  sample_data\n"
          ],
          "name": "stdout"
        }
      ]
    },
    {
      "metadata": {
        "colab_type": "code",
        "id": "_6b2ikq7JKYf",
        "colab": {}
      },
      "cell_type": "code",
      "source": [
        "gensim_w2v = KeyedVectors.load_word2vec_format('./GoogleNews-vectors-negative300.bin', binary=True)"
      ],
      "execution_count": 0,
      "outputs": []
    },
    {
      "metadata": {
        "id": "dQWpcI7STVW7",
        "colab_type": "code",
        "outputId": "ed4dc107-10dd-46b4-b1a0-1c6367e2836a",
        "colab": {
          "base_uri": "https://localhost:8080/",
          "height": 905
        }
      },
      "cell_type": "code",
      "source": [
        "print('hello =', gensim_w2v['hello'])"
      ],
      "execution_count": 13,
      "outputs": [
        {
          "output_type": "stream",
          "text": [
            "hello = [-0.05419922  0.01708984 -0.00527954  0.33203125 -0.25       -0.01397705\n",
            " -0.15039062 -0.265625    0.01647949  0.3828125  -0.03295898 -0.09716797\n",
            " -0.16308594 -0.04443359  0.00946045  0.18457031  0.03637695  0.16601562\n",
            "  0.36328125 -0.25585938  0.375       0.171875    0.21386719 -0.19921875\n",
            "  0.13085938 -0.07275391 -0.02819824  0.11621094  0.15332031  0.09082031\n",
            "  0.06787109 -0.0300293  -0.16894531 -0.20800781 -0.03710938 -0.22753906\n",
            "  0.26367188  0.012146    0.18359375  0.31054688 -0.10791016 -0.19140625\n",
            "  0.21582031  0.13183594 -0.03515625  0.18554688 -0.30859375  0.04785156\n",
            " -0.10986328  0.14355469 -0.43554688 -0.0378418   0.10839844  0.140625\n",
            " -0.10595703  0.26171875 -0.17089844  0.39453125  0.12597656 -0.27734375\n",
            " -0.28125     0.14746094 -0.20996094  0.02355957  0.18457031  0.00445557\n",
            " -0.27929688 -0.03637695 -0.29296875  0.19628906  0.20703125  0.2890625\n",
            " -0.20507812  0.06787109 -0.43164062 -0.10986328 -0.2578125  -0.02331543\n",
            "  0.11328125  0.23144531 -0.04418945  0.10839844 -0.2890625  -0.09521484\n",
            " -0.10351562 -0.0324707   0.07763672 -0.13378906  0.22949219  0.06298828\n",
            "  0.08349609  0.02929688 -0.11474609  0.00534058 -0.12988281  0.02514648\n",
            "  0.08789062  0.24511719 -0.11474609 -0.296875   -0.59375    -0.29492188\n",
            " -0.13378906  0.27734375 -0.04174805  0.11621094  0.28320312  0.00241089\n",
            "  0.13867188 -0.00683594 -0.30078125  0.16210938  0.01171875 -0.13867188\n",
            "  0.48828125  0.02880859  0.02416992  0.04736328  0.05859375 -0.23828125\n",
            "  0.02758789  0.05981445 -0.03857422  0.06933594  0.14941406 -0.10888672\n",
            " -0.07324219  0.08789062  0.27148438  0.06591797 -0.37890625 -0.26171875\n",
            " -0.13183594  0.09570312 -0.3125      0.10205078  0.03063965  0.23632812\n",
            "  0.00582886  0.27734375  0.20507812 -0.17871094 -0.31445312 -0.01586914\n",
            "  0.13964844  0.13574219  0.0390625  -0.29296875  0.234375   -0.33984375\n",
            " -0.11816406  0.10644531 -0.18457031 -0.02099609  0.02563477  0.25390625\n",
            "  0.07275391  0.13574219 -0.00138092 -0.2578125  -0.2890625   0.10107422\n",
            "  0.19238281 -0.04882812  0.27929688 -0.3359375  -0.07373047  0.01879883\n",
            " -0.10986328 -0.04614258  0.15722656  0.06689453 -0.03417969  0.16308594\n",
            "  0.08642578  0.44726562  0.02026367 -0.01977539  0.07958984  0.17773438\n",
            " -0.04370117 -0.00952148  0.16503906  0.17285156  0.23144531 -0.04272461\n",
            "  0.02355957  0.18359375 -0.41601562 -0.01745605  0.16796875  0.04736328\n",
            "  0.14257812  0.08496094  0.33984375  0.1484375  -0.34375    -0.14160156\n",
            " -0.06835938 -0.14648438 -0.02844238  0.07421875 -0.07666016  0.12695312\n",
            "  0.05859375 -0.07568359 -0.03344727  0.23632812 -0.16308594  0.16503906\n",
            "  0.1484375  -0.2421875  -0.3515625  -0.30664062  0.00491333  0.17675781\n",
            "  0.46289062  0.14257812 -0.25       -0.25976562  0.04370117  0.34960938\n",
            "  0.05957031  0.07617188 -0.02868652 -0.09667969 -0.01281738  0.05859375\n",
            " -0.22949219 -0.1953125  -0.12207031  0.20117188 -0.42382812  0.06005859\n",
            "  0.50390625  0.20898438  0.11230469 -0.06054688  0.33203125  0.07421875\n",
            " -0.05786133  0.11083984 -0.06494141  0.05639648  0.01757812  0.08398438\n",
            "  0.13769531  0.2578125   0.16796875 -0.16894531  0.01794434  0.16015625\n",
            "  0.26171875  0.31640625 -0.24804688  0.05371094 -0.0859375   0.17089844\n",
            " -0.39453125 -0.00156403 -0.07324219 -0.04614258 -0.16210938 -0.15722656\n",
            "  0.21289062 -0.15820312  0.04394531  0.28515625  0.01196289 -0.26953125\n",
            " -0.04370117  0.37109375  0.04663086 -0.19726562  0.3046875  -0.36523438\n",
            " -0.23632812  0.08056641 -0.04248047 -0.14648438 -0.06225586 -0.0534668\n",
            " -0.05664062  0.18945312  0.37109375 -0.22070312  0.04638672  0.02612305\n",
            " -0.11474609  0.265625   -0.02453613  0.11083984 -0.02514648 -0.12060547\n",
            "  0.05297852  0.07128906  0.00063705 -0.36523438 -0.13769531 -0.12890625]\n"
          ],
          "name": "stdout"
        }
      ]
    },
    {
      "metadata": {
        "id": "DYQeYUZrTVW-",
        "colab_type": "code",
        "colab": {}
      },
      "cell_type": "code",
      "source": [
        "# gensim_model.save_word2vec_format('./data/GoogleNews-vectors-negative300.txt', binary=False)"
      ],
      "execution_count": 0,
      "outputs": []
    },
    {
      "metadata": {
        "id": "JwGyn88oTVXG",
        "colab_type": "code",
        "outputId": "653cc43c-9c46-4dd2-d3b6-d296936f7b91",
        "colab": {
          "base_uri": "https://localhost:8080/",
          "height": 34
        }
      },
      "cell_type": "code",
      "source": [
        "type(gensim_w2v['hello'])"
      ],
      "execution_count": 14,
      "outputs": [
        {
          "output_type": "execute_result",
          "data": {
            "text/plain": [
              "numpy.ndarray"
            ]
          },
          "metadata": {
            "tags": []
          },
          "execution_count": 14
        }
      ]
    },
    {
      "metadata": {
        "id": "w9i5csAfTVXL",
        "colab_type": "code",
        "outputId": "5e3a15ea-d5ae-427e-bd4e-b7755832f84c",
        "colab": {
          "base_uri": "https://localhost:8080/",
          "height": 34
        }
      },
      "cell_type": "code",
      "source": [
        "gensim_w2v['hello'].shape"
      ],
      "execution_count": 15,
      "outputs": [
        {
          "output_type": "execute_result",
          "data": {
            "text/plain": [
              "(300,)"
            ]
          },
          "metadata": {
            "tags": []
          },
          "execution_count": 15
        }
      ]
    },
    {
      "metadata": {
        "id": "qvtawqoeTVXR",
        "colab_type": "code",
        "outputId": "b7725ed8-9322-470a-f090-6855c0832178",
        "colab": {
          "base_uri": "https://localhost:8080/",
          "height": 34
        }
      },
      "cell_type": "code",
      "source": [
        "gensim_w2v[\"0\"].shape"
      ],
      "execution_count": 16,
      "outputs": [
        {
          "output_type": "execute_result",
          "data": {
            "text/plain": [
              "(300,)"
            ]
          },
          "metadata": {
            "tags": []
          },
          "execution_count": 16
        }
      ]
    },
    {
      "metadata": {
        "id": "Psoy24aiTVXd",
        "colab_type": "code",
        "outputId": "0517c3dc-f137-4e72-bbda-1c347da3437a",
        "colab": {
          "base_uri": "https://localhost:8080/",
          "height": 34
        }
      },
      "cell_type": "code",
      "source": [
        "type(gensim_w2v['0'])"
      ],
      "execution_count": 17,
      "outputs": [
        {
          "output_type": "execute_result",
          "data": {
            "text/plain": [
              "numpy.ndarray"
            ]
          },
          "metadata": {
            "tags": []
          },
          "execution_count": 17
        }
      ]
    },
    {
      "metadata": {
        "id": "uF-Wsk15TVXj",
        "colab_type": "code",
        "outputId": "15649be6-294f-47ca-86e9-0b73cbd12e7a",
        "colab": {
          "base_uri": "https://localhost:8080/",
          "height": 34
        }
      },
      "cell_type": "code",
      "source": [
        "# 3000000 words\n",
        "len(gensim_w2v.vocab)"
      ],
      "execution_count": 18,
      "outputs": [
        {
          "output_type": "execute_result",
          "data": {
            "text/plain": [
              "3000000"
            ]
          },
          "metadata": {
            "tags": []
          },
          "execution_count": 18
        }
      ]
    },
    {
      "metadata": {
        "id": "jwM3gaGRTVXl",
        "colab_type": "code",
        "colab": {}
      },
      "cell_type": "code",
      "source": [
        "embedding_dim = gensim_w2v[\"0\"].shape[0]\n",
        "\n",
        "# Cuts off reviews after 100 words\n",
        "maxlen = 100\n",
        "\n",
        "# Considers only the top \n",
        "# 10,000 words in the dataset\n",
        "max_words = 10000\n",
        "\n",
        "embedding_matrix = np.zeros((max_words, embedding_dim))\n",
        "\n",
        "for word, i in word_index.items():\n",
        "    if i < max_words:\n",
        "#         ipdb.set_trace()\n",
        "        if word not in gensim_w2v.vocab:\n",
        "            pass;\n",
        "        else :\n",
        "            embedding_vector = gensim_w2v[word]\n",
        "        # cheking that th eword exist in the embedding dictionary\n",
        "        if embedding_vector is not None: \n",
        "            embedding_matrix[i] = embedding_vector"
      ],
      "execution_count": 0,
      "outputs": []
    },
    {
      "metadata": {
        "id": "9jnU0aCSTVXo",
        "colab_type": "code",
        "outputId": "44502770-f9ca-4709-e530-c5ada886f730",
        "colab": {
          "base_uri": "https://localhost:8080/",
          "height": 1083
        }
      },
      "cell_type": "code",
      "source": [
        "embedding_matrix[-1]"
      ],
      "execution_count": 20,
      "outputs": [
        {
          "output_type": "execute_result",
          "data": {
            "text/plain": [
              "array([-0.05053711,  0.22070312,  0.09814453,  0.3125    ,  0.08496094,\n",
              "        0.07177734, -0.1953125 , -0.17871094,  0.00775146,  0.08984375,\n",
              "       -0.37695312, -0.28710938, -0.23925781, -0.03930664,  0.06835938,\n",
              "        0.20898438, -0.23242188,  0.13183594,  0.18457031, -0.0201416 ,\n",
              "       -0.07080078, -0.34960938,  0.38085938, -0.05615234, -0.46875   ,\n",
              "        0.21777344, -0.25585938,  0.34375   , -0.01123047, -0.01153564,\n",
              "        0.14746094,  0.15625   , -0.05859375, -0.27148438, -0.21875   ,\n",
              "        0.23535156,  0.046875  ,  0.10302734,  0.28515625,  0.20703125,\n",
              "       -0.02392578, -0.2578125 ,  0.18652344,  0.1484375 ,  0.09472656,\n",
              "        0.10009766,  0.28515625, -0.34179688, -0.09130859,  0.31054688,\n",
              "        0.20800781,  0.16015625,  0.11132812,  0.328125  , -0.01904297,\n",
              "       -0.02722168,  0.02319336, -0.02294922,  0.08642578, -0.07666016,\n",
              "       -0.09521484, -0.06738281, -0.06152344,  0.08154297, -0.04760742,\n",
              "       -0.140625  ,  0.01263428, -0.10302734,  0.10400391,  0.078125  ,\n",
              "        0.31445312,  0.32617188, -0.11230469, -0.09423828, -0.26171875,\n",
              "        0.05053711, -0.1171875 , -0.23632812,  0.06152344, -0.15429688,\n",
              "       -0.11328125,  0.26171875, -0.04711914, -0.31054688,  0.38671875,\n",
              "        0.13476562,  0.17578125,  0.08496094,  0.0612793 , -0.06738281,\n",
              "       -0.19140625,  0.22363281, -0.34765625, -0.00439453, -0.17089844,\n",
              "        0.25195312, -0.04418945, -0.03588867,  0.24414062,  0.02441406,\n",
              "        0.02233887, -0.06835938,  0.14257812,  0.07714844, -0.06396484,\n",
              "        0.29882812, -0.15039062, -0.00753784,  0.07128906, -0.00610352,\n",
              "       -0.21777344, -0.203125  , -0.12304688, -0.28320312,  0.22363281,\n",
              "       -0.0378418 , -0.03173828, -0.18066406,  0.0859375 ,  0.09960938,\n",
              "       -0.21582031, -0.04760742, -0.15917969, -0.2265625 ,  0.33398438,\n",
              "       -0.01153564,  0.11865234,  0.08740234,  0.00372314, -0.27539062,\n",
              "       -0.11669922,  0.00891113,  0.03320312,  0.16796875,  0.01171875,\n",
              "        0.00334167, -0.2265625 , -0.1640625 ,  0.14550781, -0.08398438,\n",
              "        0.21875   , -0.18457031,  0.17675781, -0.05737305, -0.11035156,\n",
              "        0.02429199,  0.01782227, -0.00634766, -0.01519775, -0.20117188,\n",
              "        0.21484375, -0.18554688, -0.29492188, -0.09326172, -0.30273438,\n",
              "       -0.19042969,  0.12792969,  0.18945312, -0.32617188,  0.23339844,\n",
              "       -0.11230469,  0.15429688, -0.14941406,  0.04760742,  0.296875  ,\n",
              "       -0.44140625,  0.18261719, -0.15527344, -0.19238281,  0.16113281,\n",
              "       -0.4921875 , -0.18554688,  0.25      ,  0.15625   , -0.0703125 ,\n",
              "        0.14257812,  0.16894531, -0.15625   , -0.01245117, -0.3125    ,\n",
              "       -0.04956055, -0.02368164, -0.00830078, -0.05786133, -0.12011719,\n",
              "       -0.02685547, -0.11132812, -0.0625    ,  0.2421875 , -0.16015625,\n",
              "        0.30273438,  0.22558594, -0.08984375,  0.01745605,  0.23632812,\n",
              "        0.11083984, -0.21679688, -0.04418945, -0.06982422, -0.0246582 ,\n",
              "       -0.26367188, -0.09619141, -0.07519531, -0.17578125, -0.07666016,\n",
              "       -0.05493164,  0.15234375, -0.3203125 ,  0.11279297,  0.41796875,\n",
              "       -0.06030273,  0.08886719, -0.27929688, -0.27929688, -0.1328125 ,\n",
              "        0.30859375,  0.23925781, -0.03112793,  0.05004883, -0.15332031,\n",
              "       -0.08837891, -0.03466797,  0.11865234,  0.05371094,  0.05664062,\n",
              "       -0.15625   ,  0.06054688,  0.20703125, -0.22558594,  0.00164795,\n",
              "        0.00138855, -0.20019531,  0.14746094, -0.01818848, -0.1484375 ,\n",
              "        0.01916504,  0.38867188,  0.02539062,  0.20800781,  0.09375   ,\n",
              "        0.22753906,  0.08642578,  0.06298828, -0.10253906, -0.35351562,\n",
              "        0.24609375,  0.1015625 ,  0.30078125, -0.18457031, -0.17773438,\n",
              "        0.234375  ,  0.22949219, -0.03222656,  0.10253906,  0.15820312,\n",
              "       -0.18457031,  0.11181641, -0.00363159,  0.10400391,  0.1171875 ,\n",
              "        0.23144531,  0.1875    ,  0.31640625, -0.03955078,  0.19140625,\n",
              "        0.29101562,  0.04003906, -0.02770996,  0.26367188, -0.21484375,\n",
              "       -0.21191406, -0.04858398, -0.14941406,  0.05541992,  0.06835938,\n",
              "       -0.31054688, -0.04418945, -0.0189209 ,  0.03173828,  0.22949219,\n",
              "        0.03393555,  0.20507812,  0.13085938, -0.00346375, -0.15625   ,\n",
              "       -0.06176758, -0.12792969, -0.03857422,  0.078125  , -0.36328125,\n",
              "        0.26953125,  0.25195312, -0.08691406, -0.03588867,  0.02453613,\n",
              "       -0.08105469, -0.26171875, -0.05493164, -0.03515625,  0.04833984])"
            ]
          },
          "metadata": {
            "tags": []
          },
          "execution_count": 20
        }
      ]
    },
    {
      "metadata": {
        "id": "rV45MCkPTVXx",
        "colab_type": "code",
        "outputId": "5746ec59-fd73-4bee-a32d-34ae7bf33de3",
        "colab": {
          "base_uri": "https://localhost:8080/",
          "height": 70
        }
      },
      "cell_type": "code",
      "source": [
        "print(f\"Max_words = {max_words}, \\nEmbedding_dim = {embedding_dim} and \\nInput_length = {maxlen}\")"
      ],
      "execution_count": 21,
      "outputs": [
        {
          "output_type": "stream",
          "text": [
            "Max_words = 10000, \n",
            "Embedding_dim = 300 and \n",
            "Input_length = 100\n"
          ],
          "name": "stdout"
        }
      ]
    },
    {
      "metadata": {
        "id": "7ezZLz2jTVXz",
        "colab_type": "code",
        "outputId": "72c0efe0-9cab-46d5-9da9-d2c065bf2336",
        "colab": {
          "base_uri": "https://localhost:8080/",
          "height": 283
        }
      },
      "cell_type": "code",
      "source": [
        "from keras.models import Sequential\n",
        "from keras.layers import Embedding, Flatten, Dense\n",
        "\n",
        "model = Sequential()\n",
        "model.add(Embedding(max_words, embedding_dim, input_length=maxlen))\n",
        "model.add(Flatten())\n",
        "model.add(Dense(32, activation='relu'))\n",
        "model.add(Dense(1, activation='sigmoid'))\n",
        "model.summary()"
      ],
      "execution_count": 27,
      "outputs": [
        {
          "output_type": "stream",
          "text": [
            "_________________________________________________________________\n",
            "Layer (type)                 Output Shape              Param #   \n",
            "=================================================================\n",
            "embedding_3 (Embedding)      (None, 100, 300)          3000000   \n",
            "_________________________________________________________________\n",
            "flatten_3 (Flatten)          (None, 30000)             0         \n",
            "_________________________________________________________________\n",
            "dense_5 (Dense)              (None, 32)                960032    \n",
            "_________________________________________________________________\n",
            "dense_6 (Dense)              (None, 1)                 33        \n",
            "=================================================================\n",
            "Total params: 3,960,065\n",
            "Trainable params: 3,960,065\n",
            "Non-trainable params: 0\n",
            "_________________________________________________________________\n"
          ],
          "name": "stdout"
        }
      ]
    },
    {
      "metadata": {
        "id": "fvFB_3PgTVX1",
        "colab_type": "code",
        "colab": {}
      },
      "cell_type": "code",
      "source": [
        "model.layers[0].set_weights([embedding_matrix])\n",
        "#  freeze the Embedding layer\n",
        "# the pretrained parts shouldn’t\n",
        "# be updated during training, to avoid forgetting what they already know\n",
        "model.layers[0].trainable = False"
      ],
      "execution_count": 0,
      "outputs": []
    },
    {
      "metadata": {
        "id": "Vb75SA8rTVX4",
        "colab_type": "code",
        "outputId": "e1460d63-c303-4ad2-b377-dfc7fe291017",
        "colab": {
          "base_uri": "https://localhost:8080/",
          "height": 463
        }
      },
      "cell_type": "code",
      "source": [
        "model.compile(optimizer='rmsprop',\n",
        "              loss='binary_crossentropy',\n",
        "              metrics=['acc'])\n",
        "model.fit(x_train, y_train,\n",
        "                    epochs=10,\n",
        "                    batch_size=32,\n",
        "                    validation_data=(x_val, y_val))\n",
        "\n",
        "# model.save_weights('pre_trained_word2vec_model.h5')"
      ],
      "execution_count": 29,
      "outputs": [
        {
          "output_type": "stream",
          "text": [
            "WARNING:tensorflow:From /usr/local/lib/python3.6/dist-packages/tensorflow/python/ops/math_ops.py:3066: to_int32 (from tensorflow.python.ops.math_ops) is deprecated and will be removed in a future version.\n",
            "Instructions for updating:\n",
            "Use tf.cast instead.\n",
            "Train on 200 samples, validate on 10000 samples\n",
            "Epoch 1/10\n",
            "200/200 [==============================] - 2s 10ms/step - loss: 0.9566 - acc: 0.4700 - val_loss: 0.6910 - val_acc: 0.5359\n",
            "Epoch 2/10\n",
            "200/200 [==============================] - 1s 3ms/step - loss: 0.5013 - acc: 0.7750 - val_loss: 0.9213 - val_acc: 0.5027\n",
            "Epoch 3/10\n",
            "200/200 [==============================] - 0s 2ms/step - loss: 0.3472 - acc: 0.8600 - val_loss: 0.7619 - val_acc: 0.5086\n",
            "Epoch 4/10\n",
            "200/200 [==============================] - 0s 2ms/step - loss: 0.1425 - acc: 1.0000 - val_loss: 1.1860 - val_acc: 0.5027\n",
            "Epoch 5/10\n",
            "200/200 [==============================] - 1s 3ms/step - loss: 0.0725 - acc: 0.9850 - val_loss: 0.6976 - val_acc: 0.5708\n",
            "Epoch 6/10\n",
            "200/200 [==============================] - 1s 3ms/step - loss: 0.0241 - acc: 1.0000 - val_loss: 0.7326 - val_acc: 0.5648\n",
            "Epoch 7/10\n",
            "200/200 [==============================] - 0s 2ms/step - loss: 0.0140 - acc: 1.0000 - val_loss: 0.7545 - val_acc: 0.5636\n",
            "Epoch 8/10\n",
            "200/200 [==============================] - 0s 2ms/step - loss: 0.0078 - acc: 1.0000 - val_loss: 0.7329 - val_acc: 0.5745\n",
            "Epoch 9/10\n",
            "200/200 [==============================] - 0s 2ms/step - loss: 0.0040 - acc: 1.0000 - val_loss: 0.7486 - val_acc: 0.5776\n",
            "Epoch 10/10\n",
            "200/200 [==============================] - 0s 2ms/step - loss: 0.0025 - acc: 1.0000 - val_loss: 0.7934 - val_acc: 0.5636\n"
          ],
          "name": "stdout"
        }
      ]
    },
    {
      "metadata": {
        "id": "i4jyDmT9TVX6",
        "colab_type": "code",
        "outputId": "1bae2c99-5220-4a7e-e5cd-2b06203a85f2",
        "colab": {
          "base_uri": "https://localhost:8080/",
          "height": 563
        }
      },
      "cell_type": "code",
      "source": [
        "acc = model.history.history['acc']\n",
        "val_acc = model.history.history['val_acc']\n",
        "loss = model.history.history['loss']\n",
        "val_loss = model.history.history['val_loss']\n",
        "\n",
        "epochs = range(1, len(acc) + 1)\n",
        "\n",
        "plt.figure()\n",
        "# plt.figure(figsize=(9,8))\n",
        "plt.plot(epochs, loss, 'bo', label='Training loss')\n",
        "plt.plot(epochs, val_loss, 'b', label='Validation loss')\n",
        "plt.title('Training and validation loss')\n",
        "plt.legend()\n",
        "plt.show()\n",
        "\n",
        "\n",
        "plt.figure()\n",
        "plt.plot(epochs, acc, 'bo', label='Training acc')\n",
        "plt.plot(epochs, val_acc, 'b', label='Validation acc')\n",
        "plt.title('Training and validation accuracy')\n",
        "plt.legend()"
      ],
      "execution_count": 30,
      "outputs": [
        {
          "output_type": "display_data",
          "data": {
            "image/png": "[encoded data removed]",
            "text/plain": [
              "<Figure size 432x288 with 1 Axes>"
            ]
          },
          "metadata": {
            "tags": []
          }
        },
        {
          "output_type": "execute_result",
          "data": {
            "text/plain": [
              "<matplotlib.legend.Legend at 0x7ff00c8589b0>"
            ]
          },
          "metadata": {
            "tags": []
          },
          "execution_count": 30
        },
        {
          "output_type": "display_data",
          "data": {
            "image/png": "[encoded data removed]",
            "text/plain": [
              "<Figure size 432x288 with 1 Axes>"
            ]
          },
          "metadata": {
            "tags": []
          }
        }
      ]
    },
    {
      "metadata": {
        "id": "QwOnzL6ZXL21",
        "colab_type": "text"
      },
      "cell_type": "markdown",
      "source": [
        "### Fasttext"
      ]
    },
    {
      "metadata": {
        "id": "3h1eC7Fcebra",
        "colab_type": "text"
      },
      "cell_type": "markdown",
      "source": [
        "https://fasttext.cc/docs/en/english-vectors.html"
      ]
    },
    {
      "metadata": {
        "colab_type": "code",
        "outputId": "6202061b-a5f3-4370-eeb1-bd8e50aeda81",
        "id": "bvBjoJOBXjBH",
        "colab": {
          "base_uri": "https://localhost:8080/",
          "height": 70
        }
      },
      "cell_type": "code",
      "source": [
        "# crawl-300d-2M.vec.zip: 2 million word vectors trained on Common Crawl (600B tokens).\n",
        "\n",
        "link = \"https://drive.google.com/file/d/1jkJmSpRVZr_V2vGGkLmoEio6eY2Q2el-/view?usp=sharing\"\n",
        "\n",
        "_, id_t = link.split('d/')\n",
        "\n",
        "\n",
        "id = id_t.split('/')[0]\n",
        "print (id) # Verify that you have everything after '='\n",
        "\n",
        "# Install the PyDrive wrapper & import libraries.\n",
        "# This only needs to be done once per notebook.\n",
        "!pip install -U -q PyDrive\n",
        "from pydrive.auth import GoogleAuth\n",
        "from pydrive.drive import GoogleDrive\n",
        "from google.colab import auth\n",
        "from oauth2client.client import GoogleCredentials\n",
        "\n",
        "# Authenticate and create the PyDrive client.\n",
        "# This only needs to be done once per notebook.\n",
        "auth.authenticate_user()\n",
        "gauth = GoogleAuth()\n",
        "gauth.credentials = GoogleCredentials.get_application_default()\n",
        "drive = GoogleDrive(gauth)\n",
        "\n",
        "file_id = id\n",
        "downloaded = drive.CreateFile({'id':file_id})\n",
        "downloaded.FetchMetadata(fetch_all=True)\n",
        "downloaded.GetContentFile(downloaded.metadata['title'])"
      ],
      "execution_count": 4,
      "outputs": [
        {
          "output_type": "stream",
          "text": [
            "1jkJmSpRVZr_V2vGGkLmoEio6eY2Q2el-\n",
            "\u001b[K    100% |████████████████████████████████| 993kB 22.9MB/s \n",
            "\u001b[?25h  Building wheel for PyDrive (setup.py) ... \u001b[?25ldone\n",
            "\u001b[?25h"
          ],
          "name": "stdout"
        }
      ]
    },
    {
      "metadata": {
        "colab_type": "code",
        "outputId": "e487ccf6-8b26-4df5-bb4a-8b6e23795369",
        "id": "UhPZ44lRXjBS",
        "colab": {
          "base_uri": "https://localhost:8080/",
          "height": 34
        }
      },
      "cell_type": "code",
      "source": [
        "!ls"
      ],
      "execution_count": 24,
      "outputs": [
        {
          "output_type": "stream",
          "text": [
            "aclImdb  aclImdb.zip  adc.json\tcrawl-300d-2M.vec  __MACOSX  sample_data\n"
          ],
          "name": "stdout"
        }
      ]
    },
    {
      "metadata": {
        "colab_type": "code",
        "id": "yAITkNKuXjBW",
        "outputId": "38e1f80a-581d-4cb0-ec01-21636d0b3633",
        "colab": {
          "base_uri": "https://localhost:8080/",
          "height": 52
        }
      },
      "cell_type": "code",
      "source": [
        "!unzip crawl-300d-2M.vec.zip"
      ],
      "execution_count": 6,
      "outputs": [
        {
          "output_type": "stream",
          "text": [
            "Archive:  crawl-300d-2M.vec.zip\n",
            "  inflating: crawl-300d-2M.vec       \n"
          ],
          "name": "stdout"
        }
      ]
    },
    {
      "metadata": {
        "id": "wHJea3zDeEjd",
        "colab_type": "code",
        "colab": {}
      },
      "cell_type": "code",
      "source": [
        "!rm crawl-300d-2M.vec.zip"
      ],
      "execution_count": 0,
      "outputs": []
    },
    {
      "metadata": {
        "colab_type": "code",
        "outputId": "8c1fe970-91bd-440f-bb3c-b2020428f2d4",
        "id": "PvH2HgQ9XjBX",
        "colab": {
          "base_uri": "https://localhost:8080/",
          "height": 34
        }
      },
      "cell_type": "code",
      "source": [
        "!ls"
      ],
      "execution_count": 15,
      "outputs": [
        {
          "output_type": "stream",
          "text": [
            "aclImdb  aclImdb.zip  adc.json\tcrawl-300d-2M.vec  __MACOSX  sample_data\n"
          ],
          "name": "stdout"
        }
      ]
    },
    {
      "metadata": {
        "id": "ZACSz5CyXWEL",
        "colab_type": "code",
        "colab": {}
      },
      "cell_type": "code",
      "source": [
        "gensim_fasttext = KeyedVectors.load_word2vec_format('./crawl-300d-2M.vec')\n"
      ],
      "execution_count": 0,
      "outputs": []
    },
    {
      "metadata": {
        "id": "Vf__oF4xgxd3",
        "colab_type": "code",
        "colab": {
          "base_uri": "https://localhost:8080/",
          "height": 1101
        },
        "outputId": "cae7ba0e-7d65-4c18-b361-75417d8e0c70"
      },
      "cell_type": "code",
      "source": [
        "gensim_fasttext['and']"
      ],
      "execution_count": 28,
      "outputs": [
        {
          "output_type": "execute_result",
          "data": {
            "text/plain": [
              "array([-1.081e-01,  1.910e-02,  3.540e-02,  1.270e-02,  6.640e-02,\n",
              "       -1.260e-02, -1.882e-01,  6.310e-02, -2.306e-01,  9.500e-03,\n",
              "        9.170e-02,  1.513e-01,  5.580e-02, -6.430e-02, -2.880e-02,\n",
              "       -4.470e-02,  1.603e-01,  6.130e-02,  3.490e-02, -5.780e-02,\n",
              "        3.000e-04, -1.399e-01,  1.630e-02, -4.190e-02, -4.870e-02,\n",
              "        5.700e-03,  1.700e-03, -2.680e-02, -1.700e-02,  1.045e-01,\n",
              "        8.150e-02, -6.000e-03,  6.350e-02, -1.710e-01,  2.760e-02,\n",
              "       -2.300e-02,  8.240e-02,  3.040e-02, -1.595e-01,  8.510e-02,\n",
              "       -5.560e-02,  3.290e-02, -9.210e-02,  1.960e-02, -4.040e-02,\n",
              "        3.610e-02, -8.430e-02,  1.014e-01, -3.930e-02, -1.805e-01,\n",
              "       -7.300e-03,  2.247e-01, -6.210e-02, -5.750e-02, -3.160e-02,\n",
              "        1.980e-02,  6.020e-02,  1.312e-01, -1.278e-01,  1.770e-02,\n",
              "       -6.000e-02, -2.904e-01, -4.650e-02, -1.078e-01, -7.010e-02,\n",
              "       -4.970e-02, -1.102e-01,  1.560e-02, -5.950e-02,  7.620e-02,\n",
              "        2.638e-01,  3.530e-02,  7.450e-02,  3.610e-02, -5.610e-02,\n",
              "       -1.179e-01, -4.751e-01,  4.580e-02, -6.720e-02, -2.200e-03,\n",
              "        9.264e-01,  1.010e-02, -1.085e-01,  6.690e-02, -4.170e-02,\n",
              "       -4.280e-02,  3.910e-02, -5.810e-02,  1.070e-02, -8.730e-02,\n",
              "       -1.600e-03,  5.711e-01,  3.450e-02,  9.300e-02, -6.470e-02,\n",
              "       -8.200e-02,  5.870e-02, -1.307e-01,  4.800e-02,  2.260e-02,\n",
              "        1.150e-02,  2.960e-02, -1.675e-01,  3.990e-02,  2.511e-01,\n",
              "        4.230e-02,  1.299e-01, -3.360e-02, -9.770e-02,  1.460e-02,\n",
              "        3.527e-01,  1.220e-02,  1.031e-01, -6.570e-02, -3.704e-01,\n",
              "        4.450e-02,  1.242e-01, -3.100e-03,  2.550e-02, -1.090e-02,\n",
              "        1.575e-01,  2.880e-02,  2.549e-01, -2.800e-02,  4.620e-02,\n",
              "       -2.820e-02, -1.540e-02,  4.050e-02,  3.191e-01,  1.130e-02,\n",
              "       -1.360e-02,  1.820e-02, -3.850e-02, -4.990e-02, -8.100e-02,\n",
              "       -1.340e-02, -1.413e-01,  5.660e-02, -4.230e-02, -6.090e-02,\n",
              "        1.063e-01,  3.860e-02, -3.750e-02,  2.714e-01, -6.650e-02,\n",
              "       -2.190e-02,  5.790e-02,  5.500e-02,  7.720e-02,  2.024e-01,\n",
              "       -3.650e-02, -7.640e-02,  3.180e-02,  4.000e-04, -4.240e-02,\n",
              "       -5.790e-02,  4.280e-02,  2.110e-02, -6.100e-03,  2.430e-02,\n",
              "        5.702e-01,  7.980e-02, -5.020e-02, -1.950e-02,  2.420e-02,\n",
              "       -3.390e-02, -4.410e-02, -1.095e-01,  4.260e-02, -2.340e-02,\n",
              "       -5.700e-03, -2.090e-02, -9.030e-02, -6.540e-02,  1.559e-01,\n",
              "        5.100e-03,  3.700e-03, -8.000e-04, -5.000e-03,  5.080e-02,\n",
              "        1.050e-02,  2.510e-02,  2.700e-02,  3.900e-03,  6.210e-02,\n",
              "        5.190e-02, -1.560e-02, -1.285e-01, -5.640e-02, -2.630e-02,\n",
              "        4.010e-02,  3.720e-02, -1.040e-01, -6.740e-02,  8.660e-02,\n",
              "       -3.300e-03, -7.600e-03,  6.400e-03, -1.140e-02, -2.390e-02,\n",
              "        1.350e-02,  8.010e-02,  1.710e-02,  4.250e-02, -4.990e-02,\n",
              "        6.150e-02,  3.550e-02, -8.330e-02,  3.780e-02,  2.880e-02,\n",
              "       -3.920e-02,  5.679e-01, -1.200e-02,  6.990e-02, -8.930e-02,\n",
              "       -1.050e-02,  2.190e-02, -1.360e-02,  1.063e-01, -1.400e-03,\n",
              "       -6.200e-03, -6.170e-02,  3.570e-02,  3.000e-03, -4.140e-02,\n",
              "       -6.340e-02,  7.010e-02,  5.010e-02,  2.410e-02,  3.790e-02,\n",
              "       -2.340e-02, -1.160e-02,  3.910e-02, -1.690e-02, -1.900e-03,\n",
              "        7.310e-02,  5.970e-02,  1.910e-02, -2.620e-02, -2.560e-02,\n",
              "        6.310e-02, -2.610e-02,  1.850e-02,  1.000e-02,  1.126e-01,\n",
              "       -4.870e-02,  1.545e-01,  4.380e-02,  1.470e-02, -2.780e-02,\n",
              "       -4.930e-02, -8.660e-02, -2.810e-02, -9.550e-02,  8.790e-02,\n",
              "        1.940e-02, -3.230e-02, -1.260e-02, -8.100e-02,  8.800e-03,\n",
              "        2.000e-04,  5.900e-03,  8.580e-02,  2.400e-03,  4.010e-02,\n",
              "       -2.050e-02,  3.040e-02,  6.780e-02,  5.660e-02,  9.700e-03,\n",
              "        3.900e-03, -9.680e-02,  7.900e-03, -3.838e-01, -6.420e-02,\n",
              "       -4.170e-02, -6.660e-02,  3.370e-02,  5.300e-03, -2.630e-02,\n",
              "       -3.100e-02,  2.002e-01, -9.600e-03,  7.960e-02,  7.430e-02,\n",
              "        7.090e-02, -7.700e-03, -1.690e-02, -8.300e-03, -3.220e-02,\n",
              "        6.080e-02,  2.270e-02, -3.060e-02,  3.945e-01,  2.000e-02,\n",
              "       -6.130e-02, -6.110e-02,  1.104e-01,  4.750e-02, -5.990e-02],\n",
              "      dtype=float32)"
            ]
          },
          "metadata": {
            "tags": []
          },
          "execution_count": 28
        }
      ]
    },
    {
      "metadata": {
        "id": "pe5LkYQYXVwz",
        "colab_type": "code",
        "outputId": "6c66389f-6853-444f-fb9e-3480564bf5ef",
        "colab": {
          "base_uri": "https://localhost:8080/",
          "height": 541
        }
      },
      "cell_type": "code",
      "source": [
        "gensim_fasttext['hsyo']"
      ],
      "execution_count": 29,
      "outputs": [
        {
          "output_type": "error",
          "ename": "KeyError",
          "evalue": "ignored",
          "traceback": [
            "\u001b[0;31m---------------------------------------------------------------------------\u001b[0m",
            "\u001b[0;31mKeyError\u001b[0m                                  Traceback (most recent call last)",
            "\u001b[0;32m<ipython-input-29-972abf9324d3>\u001b[0m in \u001b[0;36m<module>\u001b[0;34m()\u001b[0m\n\u001b[0;32m----> 1\u001b[0;31m \u001b[0mgensim_fasttext\u001b[0m\u001b[0;34m[\u001b[0m\u001b[0;34m'hsyo'\u001b[0m\u001b[0;34m]\u001b[0m\u001b[0;34m\u001b[0m\u001b[0;34m\u001b[0m\u001b[0m\n\u001b[0m",
            "\u001b[0;32m/usr/local/lib/python3.6/dist-packages/gensim/models/keyedvectors.py\u001b[0m in \u001b[0;36m__getitem__\u001b[0;34m(self, entities)\u001b[0m\n\u001b[1;32m    335\u001b[0m         \u001b[0;32mif\u001b[0m \u001b[0misinstance\u001b[0m\u001b[0;34m(\u001b[0m\u001b[0mentities\u001b[0m\u001b[0;34m,\u001b[0m \u001b[0mstring_types\u001b[0m\u001b[0;34m)\u001b[0m\u001b[0;34m:\u001b[0m\u001b[0;34m\u001b[0m\u001b[0;34m\u001b[0m\u001b[0m\n\u001b[1;32m    336\u001b[0m             \u001b[0;31m# allow calls like trained_model['office'], as a shorthand for trained_model[['office']]\u001b[0m\u001b[0;34m\u001b[0m\u001b[0;34m\u001b[0m\u001b[0;34m\u001b[0m\u001b[0m\n\u001b[0;32m--> 337\u001b[0;31m             \u001b[0;32mreturn\u001b[0m \u001b[0mself\u001b[0m\u001b[0;34m.\u001b[0m\u001b[0mget_vector\u001b[0m\u001b[0;34m(\u001b[0m\u001b[0mentities\u001b[0m\u001b[0;34m)\u001b[0m\u001b[0;34m\u001b[0m\u001b[0;34m\u001b[0m\u001b[0m\n\u001b[0m\u001b[1;32m    338\u001b[0m \u001b[0;34m\u001b[0m\u001b[0m\n\u001b[1;32m    339\u001b[0m         \u001b[0;32mreturn\u001b[0m \u001b[0mvstack\u001b[0m\u001b[0;34m(\u001b[0m\u001b[0;34m[\u001b[0m\u001b[0mself\u001b[0m\u001b[0;34m.\u001b[0m\u001b[0mget_vector\u001b[0m\u001b[0;34m(\u001b[0m\u001b[0mentity\u001b[0m\u001b[0;34m)\u001b[0m \u001b[0;32mfor\u001b[0m \u001b[0mentity\u001b[0m \u001b[0;32min\u001b[0m \u001b[0mentities\u001b[0m\u001b[0;34m]\u001b[0m\u001b[0;34m)\u001b[0m\u001b[0;34m\u001b[0m\u001b[0;34m\u001b[0m\u001b[0m\n",
            "\u001b[0;32m/usr/local/lib/python3.6/dist-packages/gensim/models/keyedvectors.py\u001b[0m in \u001b[0;36mget_vector\u001b[0;34m(self, word)\u001b[0m\n\u001b[1;32m    453\u001b[0m \u001b[0;34m\u001b[0m\u001b[0m\n\u001b[1;32m    454\u001b[0m     \u001b[0;32mdef\u001b[0m \u001b[0mget_vector\u001b[0m\u001b[0;34m(\u001b[0m\u001b[0mself\u001b[0m\u001b[0;34m,\u001b[0m \u001b[0mword\u001b[0m\u001b[0;34m)\u001b[0m\u001b[0;34m:\u001b[0m\u001b[0;34m\u001b[0m\u001b[0;34m\u001b[0m\u001b[0m\n\u001b[0;32m--> 455\u001b[0;31m         \u001b[0;32mreturn\u001b[0m \u001b[0mself\u001b[0m\u001b[0;34m.\u001b[0m\u001b[0mword_vec\u001b[0m\u001b[0;34m(\u001b[0m\u001b[0mword\u001b[0m\u001b[0;34m)\u001b[0m\u001b[0;34m\u001b[0m\u001b[0;34m\u001b[0m\u001b[0m\n\u001b[0m\u001b[1;32m    456\u001b[0m \u001b[0;34m\u001b[0m\u001b[0m\n\u001b[1;32m    457\u001b[0m     \u001b[0;32mdef\u001b[0m \u001b[0mwords_closer_than\u001b[0m\u001b[0;34m(\u001b[0m\u001b[0mself\u001b[0m\u001b[0;34m,\u001b[0m \u001b[0mw1\u001b[0m\u001b[0;34m,\u001b[0m \u001b[0mw2\u001b[0m\u001b[0;34m)\u001b[0m\u001b[0;34m:\u001b[0m\u001b[0;34m\u001b[0m\u001b[0;34m\u001b[0m\u001b[0m\n",
            "\u001b[0;32m/usr/local/lib/python3.6/dist-packages/gensim/models/keyedvectors.py\u001b[0m in \u001b[0;36mword_vec\u001b[0;34m(self, word, use_norm)\u001b[0m\n\u001b[1;32m    450\u001b[0m             \u001b[0;32mreturn\u001b[0m \u001b[0mresult\u001b[0m\u001b[0;34m\u001b[0m\u001b[0;34m\u001b[0m\u001b[0m\n\u001b[1;32m    451\u001b[0m         \u001b[0;32melse\u001b[0m\u001b[0;34m:\u001b[0m\u001b[0;34m\u001b[0m\u001b[0;34m\u001b[0m\u001b[0m\n\u001b[0;32m--> 452\u001b[0;31m             \u001b[0;32mraise\u001b[0m \u001b[0mKeyError\u001b[0m\u001b[0;34m(\u001b[0m\u001b[0;34m\"word '%s' not in vocabulary\"\u001b[0m \u001b[0;34m%\u001b[0m \u001b[0mword\u001b[0m\u001b[0;34m)\u001b[0m\u001b[0;34m\u001b[0m\u001b[0;34m\u001b[0m\u001b[0m\n\u001b[0m\u001b[1;32m    453\u001b[0m \u001b[0;34m\u001b[0m\u001b[0m\n\u001b[1;32m    454\u001b[0m     \u001b[0;32mdef\u001b[0m \u001b[0mget_vector\u001b[0m\u001b[0;34m(\u001b[0m\u001b[0mself\u001b[0m\u001b[0;34m,\u001b[0m \u001b[0mword\u001b[0m\u001b[0;34m)\u001b[0m\u001b[0;34m:\u001b[0m\u001b[0;34m\u001b[0m\u001b[0;34m\u001b[0m\u001b[0m\n",
            "\u001b[0;31mKeyError\u001b[0m: \"word 'hsyo' not in vocabulary\""
          ]
        }
      ]
    },
    {
      "metadata": {
        "id": "FFNt5lcafJtN",
        "colab_type": "code",
        "colab": {}
      },
      "cell_type": "code",
      "source": [
        ""
      ],
      "execution_count": 0,
      "outputs": []
    },
    {
      "metadata": {
        "colab_type": "code",
        "outputId": "24709c8a-4afd-489a-f705-7dc7c031143d",
        "id": "e6mctibSfKXX",
        "colab": {
          "base_uri": "https://localhost:8080/",
          "height": 34
        }
      },
      "cell_type": "code",
      "source": [
        "gensim_fasttext['hello'].shape"
      ],
      "execution_count": 30,
      "outputs": [
        {
          "output_type": "execute_result",
          "data": {
            "text/plain": [
              "(300,)"
            ]
          },
          "metadata": {
            "tags": []
          },
          "execution_count": 30
        }
      ]
    },
    {
      "metadata": {
        "colab_type": "code",
        "outputId": "c2219ea7-2dc2-4c19-d351-e6534909040f",
        "id": "cddsZcYCfKXj",
        "colab": {
          "base_uri": "https://localhost:8080/",
          "height": 34
        }
      },
      "cell_type": "code",
      "source": [
        "type(gensim_fasttext['0'])"
      ],
      "execution_count": 32,
      "outputs": [
        {
          "output_type": "execute_result",
          "data": {
            "text/plain": [
              "numpy.ndarray"
            ]
          },
          "metadata": {
            "tags": []
          },
          "execution_count": 32
        }
      ]
    },
    {
      "metadata": {
        "colab_type": "code",
        "outputId": "a96312a7-0782-4e1f-e0db-24abc21fda9b",
        "id": "tq2b8EvwfKXp",
        "colab": {
          "base_uri": "https://localhost:8080/",
          "height": 34
        }
      },
      "cell_type": "code",
      "source": [
        "# 2000000 words\n",
        "len(gensim_fasttext.vocab)"
      ],
      "execution_count": 33,
      "outputs": [
        {
          "output_type": "execute_result",
          "data": {
            "text/plain": [
              "1999995"
            ]
          },
          "metadata": {
            "tags": []
          },
          "execution_count": 33
        }
      ]
    },
    {
      "metadata": {
        "colab_type": "code",
        "id": "RV9-4hajfKX0",
        "colab": {}
      },
      "cell_type": "code",
      "source": [
        "embedding_dim = gensim_fasttext['hello'].shape[0]\n",
        "\n",
        "# Cuts off reviews after 100 words\n",
        "maxlen = 100\n",
        "\n",
        "# Considers only the top \n",
        "# 10,000 words in the dataset\n",
        "max_words = 10000\n",
        "\n",
        "embedding_matrix = np.zeros((max_words, embedding_dim))\n",
        "\n",
        "for word, i in word_index.items():\n",
        "    if i < max_words:\n",
        "#         ipdb.set_trace()\n",
        "        if word not in gensim_fasttext.vocab:\n",
        "            pass;\n",
        "        else :\n",
        "            embedding_vector = gensim_fasttext[word]\n",
        "        # cheking that th eword exist in the embedding dictionary\n",
        "        if embedding_vector is not None: \n",
        "            embedding_matrix[i] = embedding_vector"
      ],
      "execution_count": 0,
      "outputs": []
    },
    {
      "metadata": {
        "colab_type": "code",
        "outputId": "63fa26c9-3f40-4d52-b1ce-b628ec2cae62",
        "id": "AhH-WHvtfKX3",
        "colab": {
          "base_uri": "https://localhost:8080/",
          "height": 1083
        }
      },
      "cell_type": "code",
      "source": [
        "embedding_matrix[-1]"
      ],
      "execution_count": 50,
      "outputs": [
        {
          "output_type": "execute_result",
          "data": {
            "text/plain": [
              "array([ 0.145     , -0.38229999,  0.22849999, -0.43020001,  0.002     ,\n",
              "       -0.1035    ,  0.0786    , -0.0783    ,  0.25830001, -0.1183    ,\n",
              "       -0.0126    ,  0.57870001, -0.0334    ,  0.1903    , -0.0063    ,\n",
              "        0.21160001,  0.0955    , -0.58200002,  0.1857    , -0.56379998,\n",
              "       -0.1648    , -0.24869999,  0.2045    , -0.2617    , -0.90850002,\n",
              "       -0.50419998,  0.2016    , -0.1       , -0.13150001, -0.2221    ,\n",
              "       -0.0561    ,  0.0122    , -0.122     ,  0.0241    ,  0.039     ,\n",
              "        0.0712    ,  0.0503    , -0.1353    ,  0.59960002,  0.072     ,\n",
              "       -0.35260001, -0.0226    , -0.3143    , -0.0589    , -0.0439    ,\n",
              "       -0.3872    ,  0.3457    , -0.39219999,  0.3204    ,  0.0828    ,\n",
              "       -0.26679999,  0.1955    ,  0.87970001,  0.4411    ,  0.3364    ,\n",
              "       -0.0469    ,  0.21780001, -0.13689999, -0.0319    ,  0.1604    ,\n",
              "       -0.064     , -0.0272    , -0.0692    ,  0.2339    , -0.3716    ,\n",
              "        0.0802    ,  0.0832    ,  0.0105    ,  0.0396    , -0.51109999,\n",
              "       -0.19580001,  0.14129999,  0.0502    , -0.4684    , -0.0418    ,\n",
              "       -0.0568    , -0.44600001, -0.23019999, -0.3466    , -0.1008    ,\n",
              "        0.6904    , -0.0741    , -0.33660001, -0.21349999,  0.0233    ,\n",
              "       -0.0913    , -0.0237    ,  0.30320001,  0.244     ,  0.117     ,\n",
              "       -0.006     ,  0.1178    ,  0.56400001, -0.055     ,  0.088     ,\n",
              "       -0.13869999, -0.0713    , -0.3493    , -0.4043    ,  0.0147    ,\n",
              "        0.39230001, -0.0309    , -0.25580001, -0.45359999, -0.0711    ,\n",
              "        0.2439    , -0.14049999,  0.44440001,  0.0466    , -0.47440001,\n",
              "       -0.28549999, -0.56529999,  0.2102    , -0.0946    , -0.93379998,\n",
              "        0.0749    ,  0.48339999, -0.1459    , -0.33320001,  0.1928    ,\n",
              "        0.3461    , -0.0137    ,  0.1754    , -0.0177    , -0.1371    ,\n",
              "       -0.40549999, -0.28600001, -0.1587    ,  0.1443    , -0.36700001,\n",
              "        0.0038    ,  0.215     ,  0.0645    ,  0.0547    ,  0.1022    ,\n",
              "        0.1406    ,  0.1094    ,  0.40830001,  0.8653    , -0.64789999,\n",
              "       -0.25639999,  0.0576    ,  0.1016    , -0.31479999, -0.1564    ,\n",
              "        0.27379999, -0.35170001, -0.3854    , -0.1057    , -0.1945    ,\n",
              "        0.126     , -0.69730002,  0.33669999, -0.1683    ,  0.33759999,\n",
              "        0.55489999,  0.25240001, -0.4522    ,  0.81720001,  0.3802    ,\n",
              "        0.1798    , -0.54579997,  0.1259    , -0.23999999, -0.1035    ,\n",
              "       -0.1829    ,  0.171     ,  0.29100001, -0.4587    , -0.0245    ,\n",
              "        0.0228    , -0.3707    ,  0.054     ,  0.56559998, -0.2418    ,\n",
              "       -0.0507    ,  0.15180001,  0.52859998, -0.27469999, -0.0722    ,\n",
              "        0.1257    ,  0.1988    , -0.2494    ,  0.51160002,  0.0492    ,\n",
              "        0.037     , -0.0594    ,  0.6498    , -0.1497    ,  0.34540001,\n",
              "       -0.19949999,  0.0228    , -0.1463    ,  0.3299    ,  0.0823    ,\n",
              "       -0.0851    ,  0.25650001,  0.1051    ,  0.1296    ,  0.15099999,\n",
              "       -0.30000001, -0.0955    ,  0.1356    ,  0.0042    , -0.3872    ,\n",
              "        0.20990001,  0.4152    ,  0.75520003, -0.1418    ,  0.0893    ,\n",
              "        0.1135    ,  0.25330001,  0.336     , -0.3818    , -0.72610003,\n",
              "        0.0284    , -0.25369999,  0.71539998,  0.43990001, -0.17209999,\n",
              "        0.2031    ,  0.1106    , -0.0624    ,  0.13869999,  0.29789999,\n",
              "        0.5474    ,  0.28799999,  0.1478    , -0.41389999, -0.0549    ,\n",
              "       -0.1328    ,  0.1584    ,  0.1159    , -0.31549999, -0.25040001,\n",
              "       -0.3256    ,  0.1478    , -0.1345    , -0.28240001,  0.27520001,\n",
              "       -0.0176    ,  0.57090002,  0.0156    ,  0.033     ,  0.0977    ,\n",
              "       -0.0685    ,  0.0096    ,  0.0187    ,  0.0342    ,  0.62589997,\n",
              "        0.1604    ,  0.21699999, -0.0604    ,  0.24150001,  0.59810001,\n",
              "       -0.1058    ,  0.0661    , -0.1051    ,  0.35179999, -0.3976    ,\n",
              "        0.0917    ,  0.1945    ,  0.1069    , -0.35319999,  0.1041    ,\n",
              "        0.4409    ,  0.2543    , -0.32659999, -0.37940001,  0.1194    ,\n",
              "        0.0781    ,  0.2703    , -0.1964    ,  0.2728    , -0.0757    ,\n",
              "       -0.0341    ,  0.0785    , -0.006     , -0.31200001,  0.28439999,\n",
              "        0.38679999,  0.0984    , -0.1952    ,  0.4215    , -0.27169999,\n",
              "        0.0474    , -0.1794    ,  0.72570002,  0.1279    ,  0.479     ,\n",
              "        0.0771    ,  0.0094    , -0.40380001,  0.40619999,  0.37709999,\n",
              "        0.34240001, -0.1339    , -0.0998    , -0.40869999, -0.0197    ])"
            ]
          },
          "metadata": {
            "tags": []
          },
          "execution_count": 50
        }
      ]
    },
    {
      "metadata": {
        "colab_type": "code",
        "outputId": "139b0739-ccfc-4596-b9ab-38e129aee7f7",
        "id": "6JGvo8t6fKX_",
        "colab": {
          "base_uri": "https://localhost:8080/",
          "height": 70
        }
      },
      "cell_type": "code",
      "source": [
        "print(f\"Max_words = {max_words}, \\nEmbedding_dim = {embedding_dim} and \\nInput_length = {maxlen}\")"
      ],
      "execution_count": 51,
      "outputs": [
        {
          "output_type": "stream",
          "text": [
            "Max_words = 10000, \n",
            "Embedding_dim = 300 and \n",
            "Input_length = 100\n"
          ],
          "name": "stdout"
        }
      ]
    },
    {
      "metadata": {
        "colab_type": "code",
        "outputId": "f785b266-df47-4b6f-e743-2e391a26dc93",
        "id": "KIwIH55_fKYH",
        "colab": {
          "base_uri": "https://localhost:8080/",
          "height": 283
        }
      },
      "cell_type": "code",
      "source": [
        "from keras.models import Sequential\n",
        "from keras.layers import Embedding, Flatten, Dense\n",
        "\n",
        "model = Sequential()\n",
        "# model.add(Embedding(max_words, embedding_dim, input_length=maxlen))\n",
        "model.add(Embedding(max_words, embedding_dim, input_length=x_train.shape[1]))\n",
        "model.add(Flatten())\n",
        "model.add(Dense(32, activation='relu'))\n",
        "model.add(Dense(1, activation='sigmoid'))\n",
        "model.summary()"
      ],
      "execution_count": 52,
      "outputs": [
        {
          "output_type": "stream",
          "text": [
            "_________________________________________________________________\n",
            "Layer (type)                 Output Shape              Param #   \n",
            "=================================================================\n",
            "embedding_3 (Embedding)      (None, 500, 300)          3000000   \n",
            "_________________________________________________________________\n",
            "flatten_3 (Flatten)          (None, 150000)            0         \n",
            "_________________________________________________________________\n",
            "dense_5 (Dense)              (None, 32)                4800032   \n",
            "_________________________________________________________________\n",
            "dense_6 (Dense)              (None, 1)                 33        \n",
            "=================================================================\n",
            "Total params: 7,800,065\n",
            "Trainable params: 7,800,065\n",
            "Non-trainable params: 0\n",
            "_________________________________________________________________\n"
          ],
          "name": "stdout"
        }
      ]
    },
    {
      "metadata": {
        "colab_type": "code",
        "id": "_AmjA_2RfKYK",
        "colab": {}
      },
      "cell_type": "code",
      "source": [
        "model.layers[0].set_weights([embedding_matrix])\n",
        "#  freeze the Embedding layer\n",
        "# the pretrained parts shouldn’t\n",
        "# be updated during training, to avoid forgetting what they already know\n",
        "model.layers[0].trainable = False"
      ],
      "execution_count": 0,
      "outputs": []
    },
    {
      "metadata": {
        "colab_type": "code",
        "outputId": "3b5f2d3b-2e01-4efe-d9fd-63e2fd866874",
        "id": "jLHe4zg0fKYL",
        "colab": {
          "base_uri": "https://localhost:8080/",
          "height": 407
        }
      },
      "cell_type": "code",
      "source": [
        "model.compile(optimizer='rmsprop',\n",
        "              loss='binary_crossentropy',\n",
        "              metrics=['acc'])\n",
        "\n",
        "model.fit(x_train, y_train,\n",
        "                    epochs=10,\n",
        "                    batch_size=32,\n",
        "                    validation_split=0.2)\n",
        "#                     validation_data=(x_val, y_val))\n",
        "\n",
        "# model.save_weights('pre_trained_word2vec_model.h5')"
      ],
      "execution_count": 54,
      "outputs": [
        {
          "output_type": "stream",
          "text": [
            "Train on 12000 samples, validate on 3000 samples\n",
            "Epoch 1/10\n",
            "12000/12000 [==============================] - 2s 199us/step - loss: 0.7030 - acc: 0.5020 - val_loss: 0.6931 - val_acc: 0.5167\n",
            "Epoch 2/10\n",
            "12000/12000 [==============================] - 2s 173us/step - loss: 0.6936 - acc: 0.5195 - val_loss: 0.6947 - val_acc: 0.5120\n",
            "Epoch 3/10\n",
            "12000/12000 [==============================] - 2s 173us/step - loss: 0.6178 - acc: 0.6456 - val_loss: 0.7710 - val_acc: 0.4943\n",
            "Epoch 4/10\n",
            "12000/12000 [==============================] - 2s 173us/step - loss: 0.2642 - acc: 0.8991 - val_loss: 1.0931 - val_acc: 0.4933\n",
            "Epoch 5/10\n",
            "12000/12000 [==============================] - 2s 172us/step - loss: 0.0548 - acc: 0.9886 - val_loss: 1.3634 - val_acc: 0.5103\n",
            "Epoch 6/10\n",
            "12000/12000 [==============================] - 2s 172us/step - loss: 0.0163 - acc: 0.9983 - val_loss: 1.7903 - val_acc: 0.5117\n",
            "Epoch 7/10\n",
            "12000/12000 [==============================] - 2s 173us/step - loss: 0.0115 - acc: 0.9986 - val_loss: 2.1423 - val_acc: 0.5123\n",
            "Epoch 8/10\n",
            "12000/12000 [==============================] - 2s 172us/step - loss: 0.0093 - acc: 0.9992 - val_loss: 2.4574 - val_acc: 0.5183\n",
            "Epoch 9/10\n",
            "12000/12000 [==============================] - 2s 173us/step - loss: 0.0101 - acc: 0.9987 - val_loss: 2.8937 - val_acc: 0.4977\n",
            "Epoch 10/10\n",
            "12000/12000 [==============================] - 2s 172us/step - loss: 0.0109 - acc: 0.9988 - val_loss: 3.1625 - val_acc: 0.5110\n"
          ],
          "name": "stdout"
        },
        {
          "output_type": "execute_result",
          "data": {
            "text/plain": [
              "<keras.callbacks.History at 0x7f47c34bf940>"
            ]
          },
          "metadata": {
            "tags": []
          },
          "execution_count": 54
        }
      ]
    },
    {
      "metadata": {
        "colab_type": "code",
        "outputId": "e5a9f0a2-5e75-4fa2-83fc-4c24ffd3a31c",
        "id": "1jdvocovfKYN",
        "colab": {
          "base_uri": "https://localhost:8080/",
          "height": 563
        }
      },
      "cell_type": "code",
      "source": [
        "acc = model.history.history['acc']\n",
        "val_acc = model.history.history['val_acc']\n",
        "loss = model.history.history['loss']\n",
        "val_loss = model.history.history['val_loss']\n",
        "\n",
        "epochs = range(1, len(acc) + 1)\n",
        "\n",
        "plt.figure()\n",
        "# plt.figure(figsize=(9,8))\n",
        "plt.plot(epochs, loss, 'bo', label='Training loss')\n",
        "plt.plot(epochs, val_loss, 'b', label='Validation loss')\n",
        "plt.title('Training and validation loss')\n",
        "plt.legend()\n",
        "plt.show()\n",
        "\n",
        "\n",
        "plt.figure()\n",
        "plt.plot(epochs, acc, 'bo', label='Training acc')\n",
        "plt.plot(epochs, val_acc, 'b', label='Validation acc')\n",
        "plt.title('Training and validation accuracy')\n",
        "plt.legend()"
      ],
      "execution_count": 55,
      "outputs": [
        {
          "output_type": "display_data",
          "data": {
            "image/png": "[encoded data removed]",
            "text/plain": [
              "<Figure size 432x288 with 1 Axes>"
            ]
          },
          "metadata": {
            "tags": []
          }
        },
        {
          "output_type": "execute_result",
          "data": {
            "text/plain": [
              "<matplotlib.legend.Legend at 0x7f47c298dcf8>"
            ]
          },
          "metadata": {
            "tags": []
          },
          "execution_count": 55
        },
        {
          "output_type": "display_data",
          "data": {
            "image/png": "[encoded data removed]",
            "text/plain": [
              "<Figure size 432x288 with 1 Axes>"
            ]
          },
          "metadata": {
            "tags": []
          }
        }
      ]
    },
    {
      "metadata": {
        "id": "rLocAr-gmoDE",
        "colab_type": "code",
        "colab": {
          "base_uri": "https://localhost:8080/",
          "height": 70
        },
        "outputId": "672330d5-bf6f-4fe1-b1fd-7f2a173b3deb"
      },
      "cell_type": "code",
      "source": [
        "result = model.evaluate(x_val, y_val)\n",
        "for i in range(len(model.metrics_names)):\n",
        "     print(\"Metric \",model.metrics_names[i],\":\", str(round(result[i],2)))"
      ],
      "execution_count": 56,
      "outputs": [
        {
          "output_type": "stream",
          "text": [
            "10000/10000 [==============================] - 1s 54us/step\n",
            "Metric  loss : 3.22\n",
            "Metric  acc : 0.5\n"
          ],
          "name": "stdout"
        }
      ]
    },
    {
      "metadata": {
        "id": "c9jdpMicmnpx",
        "colab_type": "code",
        "colab": {}
      },
      "cell_type": "code",
      "source": [
        ""
      ],
      "execution_count": 0,
      "outputs": []
    },
    {
      "metadata": {
        "id": "fEdzSUm1TVYA",
        "colab_type": "text"
      },
      "cell_type": "markdown",
      "source": [
        "### without pretrained word embeddings"
      ]
    },
    {
      "metadata": {
        "id": "ttRxfF-mTVYB",
        "colab_type": "code",
        "outputId": "1b6e58f6-25cd-451c-8972-075e9b87b8fa",
        "colab": {}
      },
      "cell_type": "code",
      "source": [
        "from keras.models import Sequential\n",
        "from keras.layers import Embedding, Flatten, Dense\n",
        "\n",
        "model = Sequential()\n",
        "model.add(Embedding(max_words, embedding_dim, input_length=maxlen))\n",
        "model.add(Flatten())\n",
        "model.add(Dense(32, activation='relu'))\n",
        "model.add(Dense(1, activation='sigmoid'))\n",
        "model.summary()\n",
        "\n",
        "model.compile(optimizer='rmsprop',\n",
        "              loss='binary_crossentropy',\n",
        "              metrics=['acc'])\n",
        "\n",
        "history = model.fit(x_train, y_train,\n",
        "                    epochs=10,\n",
        "                    batch_size=32,\n",
        "                    validation_data=(x_val, y_val))"
      ],
      "execution_count": 0,
      "outputs": [
        {
          "output_type": "stream",
          "text": [
            "_________________________________________________________________\n",
            "Layer (type)                 Output Shape              Param #   \n",
            "=================================================================\n",
            "embedding_7 (Embedding)      (None, 100, 300)          3000000   \n",
            "_________________________________________________________________\n",
            "flatten_7 (Flatten)          (None, 30000)             0         \n",
            "_________________________________________________________________\n",
            "dense_12 (Dense)             (None, 32)                960032    \n",
            "_________________________________________________________________\n",
            "dense_13 (Dense)             (None, 1)                 33        \n",
            "=================================================================\n",
            "Total params: 3,960,065\n",
            "Trainable params: 3,960,065\n",
            "Non-trainable params: 0\n",
            "_________________________________________________________________\n",
            "Train on 200 samples, validate on 10000 samples\n",
            "Epoch 1/10\n",
            "200/200 [==============================] - 5s 24ms/step - loss: 0.7007 - acc: 0.5050 - val_loss: 0.6969 - val_acc: 0.4998\n",
            "Epoch 2/10\n",
            "200/200 [==============================] - 3s 14ms/step - loss: 0.3045 - acc: 0.9950 - val_loss: 0.7266 - val_acc: 0.5009\n",
            "Epoch 3/10\n",
            "200/200 [==============================] - 3s 14ms/step - loss: 0.0828 - acc: 1.0000 - val_loss: 0.7343 - val_acc: 0.4962\n",
            "Epoch 4/10\n",
            "200/200 [==============================] - 3s 13ms/step - loss: 0.0271 - acc: 1.0000 - val_loss: 0.7400 - val_acc: 0.4939\n",
            "Epoch 5/10\n",
            "200/200 [==============================] - 3s 13ms/step - loss: 0.0128 - acc: 1.0000 - val_loss: 0.7516 - val_acc: 0.4968\n",
            "Epoch 6/10\n",
            "200/200 [==============================] - 3s 14ms/step - loss: 0.0070 - acc: 1.0000 - val_loss: 0.7649 - val_acc: 0.4990\n",
            "Epoch 7/10\n",
            "200/200 [==============================] - 3s 13ms/step - loss: 0.0040 - acc: 1.0000 - val_loss: 0.7683 - val_acc: 0.4966\n",
            "Epoch 8/10\n",
            "200/200 [==============================] - 3s 13ms/step - loss: 0.0024 - acc: 1.0000 - val_loss: 0.7827 - val_acc: 0.4973\n",
            "Epoch 9/10\n",
            "200/200 [==============================] - 3s 15ms/step - loss: 0.0015 - acc: 1.0000 - val_loss: 0.7917 - val_acc: 0.4977\n",
            "Epoch 10/10\n",
            "200/200 [==============================] - 3s 13ms/step - loss: 9.0661e-04 - acc: 1.0000 - val_loss: 0.7915 - val_acc: 0.4973\n"
          ],
          "name": "stdout"
        }
      ]
    },
    {
      "metadata": {
        "id": "aqX4Z9c7TVYE",
        "colab_type": "code",
        "outputId": "fc582375-c8d6-47c5-b084-8b68dc898fe7",
        "colab": {}
      },
      "cell_type": "code",
      "source": [
        "acc = history.history['acc']\n",
        "val_acc = history.history['val_acc']\n",
        "loss = history.history['loss']\n",
        "val_loss = history.history['val_loss']\n",
        "\n",
        "epochs = range(1, len(acc) + 1)\n",
        "\n",
        "plt.figure()\n",
        "# plt.figure(figsize=(9,8))\n",
        "plt.plot(epochs, loss, 'bo', label='Training loss')\n",
        "plt.plot(epochs, val_loss, 'b', label='Validation loss')\n",
        "plt.title('Training and validation loss')\n",
        "plt.legend()\n",
        "plt.show()\n",
        "\n",
        "\n",
        "plt.figure()\n",
        "plt.plot(epochs, acc, 'bo', label='Training acc')\n",
        "plt.plot(epochs, val_acc, 'b', label='Validation acc')\n",
        "plt.title('Training and validation accuracy')\n",
        "plt.legend()"
      ],
      "execution_count": 0,
      "outputs": [
        {
          "output_type": "display_data",
          "data": {
            "image/png": "[encoded data removed]",
            "text/plain": [
              "<Figure size 432x288 with 1 Axes>"
            ]
          },
          "metadata": {
            "tags": [],
            "needs_background": "light"
          }
        },
        {
          "output_type": "execute_result",
          "data": {
            "text/plain": [
              "<matplotlib.legend.Legend at 0x28d84881cf8>"
            ]
          },
          "metadata": {
            "tags": []
          },
          "execution_count": 152
        },
        {
          "output_type": "display_data",
          "data": {
            "image/png": "[encoded data removed]",
            "text/plain": [
              "<Figure size 432x288 with 1 Axes>"
            ]
          },
          "metadata": {
            "tags": [],
            "needs_background": "light"
          }
        }
      ]
    },
    {
      "metadata": {
        "id": "slyqKJ0sTVYH",
        "colab_type": "text"
      },
      "cell_type": "markdown",
      "source": [
        "So far Word2Vec look to be better than others for few training example, but I'm planning to continue studying as I increase the training sample size and will try also the 1D conv layer as well as recurent network"
      ]
    },
    {
      "metadata": {
        "id": "JVtHYdSoTVYH",
        "colab_type": "text"
      },
      "cell_type": "markdown",
      "source": [
        " So in this case, pretrained word embeddings\n",
        "outperform jointly learned embeddings."
      ]
    },
    {
      "metadata": {
        "id": "ggZA9YOUTVYK",
        "colab_type": "code",
        "colab": {}
      },
      "cell_type": "code",
      "source": [
        "imdb_dir = './data/aclImdb'\n",
        "\n",
        "train_dir = os.path.join(imdb_dir, 'test')\n",
        "labels = []\n",
        "texts = []\n",
        "\n",
        "for label_type in ['neg', 'pos']:\n",
        "    dir_name = os.path.join(train_dir, label_type)\n",
        "    for fname in os.listdir(dir_name):\n",
        "        if fname[-4:] == '.txt':\n",
        "            f = open(os.path.join(dir_name, fname), encoding=\"utf8\")\n",
        "            texts.append(f.read())\n",
        "            f.close()\n",
        "            if label_type == 'neg':\n",
        "                labels.append(0)\n",
        "            else:\n",
        "                labels.append(1)\n",
        "                \n",
        "sequences = tokenizer.texts_to_sequences(texts)\n",
        "\n",
        "x_test = pad_sequences(sequences, maxlen=maxlen)\n",
        "y_test = np.asarray(labels)"
      ],
      "execution_count": 0,
      "outputs": []
    },
    {
      "metadata": {
        "id": "4WCAQ0TuTVYL",
        "colab_type": "code",
        "outputId": "0f214d69-54d2-49d8-f318-688a0c923f42",
        "colab": {}
      },
      "cell_type": "code",
      "source": [
        "model.load_weights('pre_trained_glove_model.h5')\n",
        "result = model.evaluate(x_test, y_test)\n",
        "for i in range(len(model.metrics_names)):\n",
        "     print(\"Metric \",model.metrics_names[i],\":\", str(round(result[i],2)))"
      ],
      "execution_count": 0,
      "outputs": [
        {
          "output_type": "stream",
          "text": [
            "25000/25000 [==============================] - 4s 159us/step\n",
            "Metric  loss : 0.7\n",
            "Metric  acc : 0.51\n"
          ],
          "name": "stdout"
        }
      ]
    },
    {
      "metadata": {
        "id": "l_J2Eil3TVYO",
        "colab_type": "code",
        "colab": {}
      },
      "cell_type": "code",
      "source": [
        ""
      ],
      "execution_count": 0,
      "outputs": []
    }
  ]
}