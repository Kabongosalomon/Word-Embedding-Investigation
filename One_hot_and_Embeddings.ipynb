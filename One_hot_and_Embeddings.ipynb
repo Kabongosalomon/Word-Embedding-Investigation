{
  "nbformat": 4,
  "nbformat_minor": 0,
  "metadata": {
    "colab": {
      "name": "One_hot_and_Embeddings.ipynb",
      "version": "0.3.2",
      "provenance": [],
      "include_colab_link": true
    },
    "kernelspec": {
      "name": "python3",
      "display_name": "Python 3"
    },
    "accelerator": "GPU"
  },
  "cells": [
    {
      "cell_type": "markdown",
      "metadata": {
        "id": "view-in-github",
        "colab_type": "text"
      },
      "source": [
        "<a href=\"https://colab.research.google.com/github/Kabongosalomon/Word-Embedding-Investigation/blob/master/One_hot_and_Embeddings.ipynb\" target=\"_parent\"><img src=\"https://colab.research.google.com/assets/colab-badge.svg\" alt=\"Open In Colab\"/></a>"
      ]
    },
    {
      "metadata": {
        "id": "2rxm3VASTVS9",
        "colab_type": "text"
      },
      "cell_type": "markdown",
      "source": [
        "# One-hot encoding of words and characters"
      ]
    },
    {
      "metadata": {
        "id": "c5SX7nQ7TVTB",
        "colab_type": "text"
      },
      "cell_type": "markdown",
      "source": [
        "One-hot encoding is the most common, most basic way to turn a token into a vector.\n",
        "\n",
        "It consists of associating a unique integer index with every word\n",
        "and then turning this integer index i into a binary vector of size N (the size of the\n",
        "vocabulary); the vector is all zeros except for the i th entry, which is 1."
      ]
    },
    {
      "metadata": {
        "id": "-viI3xznTVTC",
        "colab_type": "text"
      },
      "cell_type": "markdown",
      "source": [
        "## One-hot Word-level"
      ]
    },
    {
      "metadata": {
        "id": "Dw5T7XxRTVTD",
        "colab_type": "code",
        "colab": {
          "base_uri": "https://localhost:8080/",
          "height": 381
        },
        "outputId": "52daef74-632d-48b5-d33a-6da2aac8c5ea"
      },
      "cell_type": "code",
      "source": [
        "import numpy as np\n",
        "\n",
        "import string\n",
        "\n",
        "import ipdb # deb\n",
        "\n",
        "from keras.preprocessing.text import Tokenizer"
      ],
      "execution_count": 1,
      "outputs": [
        {
          "output_type": "error",
          "ename": "ModuleNotFoundError",
          "evalue": "ignored",
          "traceback": [
            "\u001b[0;31m---------------------------------------------------------------------------\u001b[0m",
            "\u001b[0;31mModuleNotFoundError\u001b[0m                       Traceback (most recent call last)",
            "\u001b[0;32m<ipython-input-1-0be9dbdb17b9>\u001b[0m in \u001b[0;36m<module>\u001b[0;34m()\u001b[0m\n\u001b[1;32m      3\u001b[0m \u001b[0;32mimport\u001b[0m \u001b[0mstring\u001b[0m\u001b[0;34m\u001b[0m\u001b[0;34m\u001b[0m\u001b[0m\n\u001b[1;32m      4\u001b[0m \u001b[0;34m\u001b[0m\u001b[0m\n\u001b[0;32m----> 5\u001b[0;31m \u001b[0;32mimport\u001b[0m \u001b[0mipdb\u001b[0m \u001b[0;31m# deb\u001b[0m\u001b[0;34m\u001b[0m\u001b[0;34m\u001b[0m\u001b[0m\n\u001b[0m\u001b[1;32m      6\u001b[0m \u001b[0;34m\u001b[0m\u001b[0m\n\u001b[1;32m      7\u001b[0m \u001b[0;32mfrom\u001b[0m \u001b[0mkeras\u001b[0m\u001b[0;34m.\u001b[0m\u001b[0mpreprocessing\u001b[0m\u001b[0;34m.\u001b[0m\u001b[0mtext\u001b[0m \u001b[0;32mimport\u001b[0m \u001b[0mTokenizer\u001b[0m\u001b[0;34m\u001b[0m\u001b[0;34m\u001b[0m\u001b[0m\n",
            "\u001b[0;31mModuleNotFoundError\u001b[0m: No module named 'ipdb'",
            "",
            "\u001b[0;31m---------------------------------------------------------------------------\u001b[0;32m\nNOTE: If your import is failing due to a missing package, you can\nmanually install dependencies using either !pip or !apt.\n\nTo view examples of installing some common dependencies, click the\n\"Open Examples\" button below.\n\u001b[0;31m---------------------------------------------------------------------------\u001b[0m\n"
          ]
        }
      ]
    },
    {
      "metadata": {
        "id": "gDblQMfUTVTI",
        "colab_type": "code",
        "colab": {}
      },
      "cell_type": "code",
      "source": [
        "# Initial data: one entry per sample (in \n",
        "# this example, a sample is a sentence, \n",
        "# but it could be an entire document)\n",
        "samples = ['The cat sat on the mat.', 'The dog ate my homework.']\n",
        "\n",
        "# Builds an index of all tokens in the data\n",
        "token_index = {}\n",
        "\n",
        "for sample in samples:\n",
        "    for word in sample.split(): # Tokenizes the samples via the split\n",
        "        if word not in token_index:\n",
        "            token_index[word] = len(token_index) + 1 # Assigns a unique index to each unique word\n",
        "\n",
        "# Vectorizes the samples. You’ll only\n",
        "# consider the first max_length\n",
        "# words in each sample.            \n",
        "max_length = 10  # window\n",
        "\n",
        "results = np.zeros(shape=(len(samples),\n",
        "                          max_length,\n",
        "                          max(token_index.values()) + 1))\n",
        "\n",
        "for i, sample in enumerate(samples):\n",
        "    for j, word in list(enumerate(sample.split()))[:max_length]:\n",
        "        index = token_index.get(word) #; ipdb.set_trace()\n",
        "        results[i, j, index] = 1."
      ],
      "execution_count": 0,
      "outputs": []
    },
    {
      "metadata": {
        "id": "vR3Qlt2LTVTL",
        "colab_type": "code",
        "colab": {},
        "outputId": "319eb836-ee0c-4642-c146-54099de5c4bf"
      },
      "cell_type": "code",
      "source": [
        "token_index"
      ],
      "execution_count": 0,
      "outputs": [
        {
          "output_type": "execute_result",
          "data": {
            "text/plain": [
              "{'The': 1,\n",
              " 'cat': 2,\n",
              " 'sat': 3,\n",
              " 'on': 4,\n",
              " 'the': 5,\n",
              " 'mat.': 6,\n",
              " 'dog': 7,\n",
              " 'ate': 8,\n",
              " 'my': 9,\n",
              " 'homework.': 10}"
            ]
          },
          "metadata": {
            "tags": []
          },
          "execution_count": 3
        }
      ]
    },
    {
      "metadata": {
        "id": "gQij0TrlTVTP",
        "colab_type": "code",
        "colab": {},
        "outputId": "f82061ce-7751-4b73-e5af-a62ed19b2976"
      },
      "cell_type": "code",
      "source": [
        "results"
      ],
      "execution_count": 0,
      "outputs": [
        {
          "output_type": "execute_result",
          "data": {
            "text/plain": [
              "array([[[0., 1., 0., 0., 0., 0., 0., 0., 0., 0., 0.],\n",
              "        [0., 0., 1., 0., 0., 0., 0., 0., 0., 0., 0.],\n",
              "        [0., 0., 0., 1., 0., 0., 0., 0., 0., 0., 0.],\n",
              "        [0., 0., 0., 0., 1., 0., 0., 0., 0., 0., 0.],\n",
              "        [0., 0., 0., 0., 0., 1., 0., 0., 0., 0., 0.],\n",
              "        [0., 0., 0., 0., 0., 0., 1., 0., 0., 0., 0.],\n",
              "        [0., 0., 0., 0., 0., 0., 0., 0., 0., 0., 0.],\n",
              "        [0., 0., 0., 0., 0., 0., 0., 0., 0., 0., 0.],\n",
              "        [0., 0., 0., 0., 0., 0., 0., 0., 0., 0., 0.],\n",
              "        [0., 0., 0., 0., 0., 0., 0., 0., 0., 0., 0.]],\n",
              "\n",
              "       [[0., 1., 0., 0., 0., 0., 0., 0., 0., 0., 0.],\n",
              "        [0., 0., 0., 0., 0., 0., 0., 1., 0., 0., 0.],\n",
              "        [0., 0., 0., 0., 0., 0., 0., 0., 1., 0., 0.],\n",
              "        [0., 0., 0., 0., 0., 0., 0., 0., 0., 1., 0.],\n",
              "        [0., 0., 0., 0., 0., 0., 0., 0., 0., 0., 1.],\n",
              "        [0., 0., 0., 0., 0., 0., 0., 0., 0., 0., 0.],\n",
              "        [0., 0., 0., 0., 0., 0., 0., 0., 0., 0., 0.],\n",
              "        [0., 0., 0., 0., 0., 0., 0., 0., 0., 0., 0.],\n",
              "        [0., 0., 0., 0., 0., 0., 0., 0., 0., 0., 0.],\n",
              "        [0., 0., 0., 0., 0., 0., 0., 0., 0., 0., 0.]]])"
            ]
          },
          "metadata": {
            "tags": []
          },
          "execution_count": 4
        }
      ]
    },
    {
      "metadata": {
        "id": "hfvL7CRQTVTV",
        "colab_type": "text"
      },
      "cell_type": "markdown",
      "source": [
        "## Character-level"
      ]
    },
    {
      "metadata": {
        "id": "X3XD9M2ATVTW",
        "colab_type": "code",
        "colab": {}
      },
      "cell_type": "code",
      "source": [
        "samples = ['The cat sat on the mat.', 'The dog ate my homework.']\n",
        "\n",
        "characters = string.printable\n",
        "\n",
        "token_index = dict(zip(range(1, len(characters) + 1), characters))\n",
        "\n",
        "max_length = 50\n",
        "\n",
        "results = np.zeros((len(samples), \n",
        "                    max_length, \n",
        "                    max(token_index.keys()) + 1))\n",
        "\n",
        "for i, sample in enumerate(samples):\n",
        "    for j, character in enumerate(sample):\n",
        "        index = token_index.get(character)  #; ipdb.set_trace()\n",
        "        results[i, j, index] = 1."
      ],
      "execution_count": 0,
      "outputs": []
    },
    {
      "metadata": {
        "id": "fnl0Qm5NTVTY",
        "colab_type": "code",
        "colab": {},
        "outputId": "727378bf-c3d6-442d-af0b-f7885462dfc5"
      },
      "cell_type": "code",
      "source": [
        "results"
      ],
      "execution_count": 0,
      "outputs": [
        {
          "output_type": "execute_result",
          "data": {
            "text/plain": [
              "array([[[1., 1., 1., ..., 1., 1., 1.],\n",
              "        [1., 1., 1., ..., 1., 1., 1.],\n",
              "        [1., 1., 1., ..., 1., 1., 1.],\n",
              "        ...,\n",
              "        [0., 0., 0., ..., 0., 0., 0.],\n",
              "        [0., 0., 0., ..., 0., 0., 0.],\n",
              "        [0., 0., 0., ..., 0., 0., 0.]],\n",
              "\n",
              "       [[1., 1., 1., ..., 1., 1., 1.],\n",
              "        [1., 1., 1., ..., 1., 1., 1.],\n",
              "        [1., 1., 1., ..., 1., 1., 1.],\n",
              "        ...,\n",
              "        [0., 0., 0., ..., 0., 0., 0.],\n",
              "        [0., 0., 0., ..., 0., 0., 0.],\n",
              "        [0., 0., 0., ..., 0., 0., 0.]]])"
            ]
          },
          "metadata": {
            "tags": []
          },
          "execution_count": 6
        }
      ]
    },
    {
      "metadata": {
        "id": "7wV1xfebTVTa",
        "colab_type": "text"
      },
      "cell_type": "markdown",
      "source": [
        "**Keras has built-in utilities for doing one-hot encoding of text at the word level\n",
        "or character level**, starting from raw text data. \n",
        "\n",
        "We should use these utilities, because they take care of a number of important features such as stripping special characters from strings and only taking into account the N most common words in your dataset (a common restriction, to avoid dealing with very large input vector spaces)."
      ]
    },
    {
      "metadata": {
        "id": "ZkO8ynHgTVTb",
        "colab_type": "text"
      },
      "cell_type": "markdown",
      "source": [
        "## Use Keras build in function"
      ]
    },
    {
      "metadata": {
        "id": "qX7tVGgzTVTc",
        "colab_type": "text"
      },
      "cell_type": "markdown",
      "source": [
        "### Word level"
      ]
    },
    {
      "metadata": {
        "id": "YtsXtMpsTVTc",
        "colab_type": "code",
        "colab": {},
        "outputId": "811a0f34-946b-4123-a3ca-6384f705f8fd"
      },
      "cell_type": "code",
      "source": [
        "samples = ['The cat sat on the mat.', 'The dog ate my homework.']\n",
        "\n",
        "tokenizer = Tokenizer(num_words=10)\n",
        "tokenizer.fit_on_texts(samples)\n",
        "sequences = tokenizer.texts_to_sequences(samples)\n",
        "one_hot_results = tokenizer.texts_to_matrix(samples, mode='binary')\n",
        "word_index = tokenizer.word_index\n",
        "print('Found %s unique tokens.' % len(word_index))"
      ],
      "execution_count": 0,
      "outputs": [
        {
          "output_type": "stream",
          "text": [
            "Found 9 unique tokens.\n"
          ],
          "name": "stdout"
        }
      ]
    },
    {
      "metadata": {
        "id": "iZo8KQmgTVTi",
        "colab_type": "code",
        "colab": {},
        "outputId": "f14351b0-03ed-43b6-8ba5-42259c8548a5"
      },
      "cell_type": "code",
      "source": [
        "sequences"
      ],
      "execution_count": 0,
      "outputs": [
        {
          "output_type": "execute_result",
          "data": {
            "text/plain": [
              "[[1, 2, 3, 4, 1, 5], [1, 6, 7, 8, 9]]"
            ]
          },
          "metadata": {
            "tags": []
          },
          "execution_count": 73
        }
      ]
    },
    {
      "metadata": {
        "id": "ql5utR_DTVTs",
        "colab_type": "code",
        "colab": {},
        "outputId": "75289015-2280-4dc2-d0de-3d46a17a9951"
      },
      "cell_type": "code",
      "source": [
        "one_hot_results"
      ],
      "execution_count": 0,
      "outputs": [
        {
          "output_type": "execute_result",
          "data": {
            "text/plain": [
              "array([[0., 1., 1., 1., 1., 1., 0., 0., 0., 0.],\n",
              "       [0., 1., 0., 0., 0., 0., 1., 1., 1., 1.]])"
            ]
          },
          "metadata": {
            "tags": []
          },
          "execution_count": 74
        }
      ]
    },
    {
      "metadata": {
        "id": "CQAArTtwTVTw",
        "colab_type": "code",
        "colab": {},
        "outputId": "63f7188b-d159-4f1e-f47b-ba7e087de939"
      },
      "cell_type": "code",
      "source": [
        "word_index"
      ],
      "execution_count": 0,
      "outputs": [
        {
          "output_type": "execute_result",
          "data": {
            "text/plain": [
              "{'the': 1,\n",
              " 'cat': 2,\n",
              " 'sat': 3,\n",
              " 'on': 4,\n",
              " 'mat': 5,\n",
              " 'dog': 6,\n",
              " 'ate': 7,\n",
              " 'my': 8,\n",
              " 'homework': 9}"
            ]
          },
          "metadata": {
            "tags": []
          },
          "execution_count": 75
        }
      ]
    },
    {
      "metadata": {
        "id": "8klBReLzTVT1",
        "colab_type": "code",
        "colab": {}
      },
      "cell_type": "code",
      "source": [
        "# # Vectorizes the samples. You’ll only\n",
        "# # consider the first max_length\n",
        "# # words in each sample.            \n",
        "# max_length = 10  # window\n",
        "\n",
        "# results = np.zeros(shape=(len(samples),\n",
        "#                           max_length,\n",
        "#                           len(word_index) + 1))\n",
        "\n",
        "# for i, sample in enumerate(samples):\n",
        "#     for j, word in list(enumerate(sample.split()))[:max_length]:\n",
        "#         index = word_index.get(word) #; ipdb.set_trace()\n",
        "#         results[i, j, index] = 1."
      ],
      "execution_count": 0,
      "outputs": []
    },
    {
      "metadata": {
        "id": "zBg9HucJTVT5",
        "colab_type": "code",
        "colab": {}
      },
      "cell_type": "code",
      "source": [
        "# results"
      ],
      "execution_count": 0,
      "outputs": []
    },
    {
      "metadata": {
        "id": "TDMlZgF6TVUC",
        "colab_type": "text"
      },
      "cell_type": "markdown",
      "source": [
        "### Caracter level"
      ]
    },
    {
      "metadata": {
        "id": "TRkeYOnQTVUC",
        "colab_type": "code",
        "colab": {},
        "outputId": "14cfbcae-163f-4ff8-96ca-7a40dcf2cae9"
      },
      "cell_type": "code",
      "source": [
        "samples = ['The cat sat on the mat.', 'The dog ate my homework.']\n",
        "\n",
        "tokenizer = Tokenizer(char_level=True)\n",
        "tokenizer.fit_on_texts(samples)\n",
        "sequences = tokenizer.texts_to_sequences(samples)\n",
        "one_hot_results = tokenizer.texts_to_matrix(samples, mode='binary')\n",
        "word_index = tokenizer.word_index\n",
        "print('Found %s unique tokens.' % len(word_index))"
      ],
      "execution_count": 0,
      "outputs": [
        {
          "output_type": "stream",
          "text": [
            "Found 17 unique tokens.\n"
          ],
          "name": "stdout"
        }
      ]
    },
    {
      "metadata": {
        "id": "4ueFpMk-TVUJ",
        "colab_type": "code",
        "colab": {},
        "outputId": "30971c86-5a57-43a0-ae2a-21148cd6ebf0"
      },
      "cell_type": "code",
      "source": [
        "sequences"
      ],
      "execution_count": 0,
      "outputs": [
        {
          "output_type": "execute_result",
          "data": {
            "text/plain": [
              "[[2, 4, 3, 1, 9, 5, 2, 1, 10, 5, 2, 1, 6, 11, 1, 2, 4, 3, 1, 7, 5, 2, 8],\n",
              " [2,\n",
              "  4,\n",
              "  3,\n",
              "  1,\n",
              "  12,\n",
              "  6,\n",
              "  13,\n",
              "  1,\n",
              "  5,\n",
              "  2,\n",
              "  3,\n",
              "  1,\n",
              "  7,\n",
              "  14,\n",
              "  1,\n",
              "  4,\n",
              "  6,\n",
              "  7,\n",
              "  3,\n",
              "  15,\n",
              "  6,\n",
              "  16,\n",
              "  17,\n",
              "  8]]"
            ]
          },
          "metadata": {
            "tags": []
          },
          "execution_count": 64
        }
      ]
    },
    {
      "metadata": {
        "id": "4ZD-661eTVUP",
        "colab_type": "code",
        "colab": {},
        "outputId": "d4b02f32-c012-4186-ef48-e4ae27a282a7"
      },
      "cell_type": "code",
      "source": [
        "one_hot_results"
      ],
      "execution_count": 0,
      "outputs": [
        {
          "output_type": "execute_result",
          "data": {
            "text/plain": [
              "array([[0., 1., 1., 1., 1., 1., 1., 1., 1., 1., 1., 1., 0., 0., 0., 0.,\n",
              "        0., 0.],\n",
              "       [0., 1., 1., 1., 1., 1., 1., 1., 1., 0., 0., 0., 1., 1., 1., 1.,\n",
              "        1., 1.]])"
            ]
          },
          "metadata": {
            "tags": []
          },
          "execution_count": 65
        }
      ]
    },
    {
      "metadata": {
        "id": "TcZJ3rvkTVUU",
        "colab_type": "code",
        "colab": {},
        "outputId": "0df8cb2d-ebe2-4603-880a-f7d4d2438653"
      },
      "cell_type": "code",
      "source": [
        "word_index"
      ],
      "execution_count": 0,
      "outputs": [
        {
          "output_type": "execute_result",
          "data": {
            "text/plain": [
              "{' ': 1,\n",
              " 't': 2,\n",
              " 'e': 3,\n",
              " 'h': 4,\n",
              " 'a': 5,\n",
              " 'o': 6,\n",
              " 'm': 7,\n",
              " '.': 8,\n",
              " 'c': 9,\n",
              " 's': 10,\n",
              " 'n': 11,\n",
              " 'd': 12,\n",
              " 'g': 13,\n",
              " 'y': 14,\n",
              " 'w': 15,\n",
              " 'r': 16,\n",
              " 'k': 17}"
            ]
          },
          "metadata": {
            "tags": []
          },
          "execution_count": 66
        }
      ]
    },
    {
      "metadata": {
        "id": "B5TYHJG7TVUX",
        "colab_type": "text"
      },
      "cell_type": "markdown",
      "source": [
        "##  hashing trick"
      ]
    },
    {
      "metadata": {
        "id": "x1R0Uvd2TVUY",
        "colab_type": "code",
        "colab": {}
      },
      "cell_type": "code",
      "source": [
        "samples = ['The cat sat on the mat.', 'The dog ate my homework.']\n",
        "\n",
        "dimensionality = 1000\n",
        "max_length = 10\n",
        "\n",
        "results = np.zeros((len(samples), max_length, dimensionality))\n",
        "for i, sample in enumerate(samples):\n",
        "    for j, word in list(enumerate(sample.split()))[:max_length]:\n",
        "#         Hashes the word into a \n",
        "#         random integer index \n",
        "#         between 0 and 1,000\n",
        "        index = abs(hash(word)) % dimensionality\n",
        "        results[i, j, index] = 1."
      ],
      "execution_count": 0,
      "outputs": []
    },
    {
      "metadata": {
        "id": "Dkw1E9WMTVUa",
        "colab_type": "text"
      },
      "cell_type": "markdown",
      "source": [
        "# Using word embeddings"
      ]
    },
    {
      "metadata": {
        "id": "nLREqOusTVUb",
        "colab_type": "text"
      },
      "cell_type": "markdown",
      "source": [
        "Another popular and powerful way to associate a vector with a word is the use of dense\n",
        "word vectors, also called word embeddings. Whereas the vectors obtained through one-hot\n",
        "encoding are binary, sparse (mostly made of zeros), and very high-dimensional (same\n",
        "dimensionality as the number of words in the vocabulary), word embeddings are low-\n",
        "dimensional floating-point vectors (that is, dense vectors, as opposed to sparse vec-\n",
        "tors);"
      ]
    },
    {
      "metadata": {
        "id": "ua33iYs7TVUb",
        "colab_type": "text"
      },
      "cell_type": "markdown",
      "source": [
        "Unlike the  word vectors  obtained  via one-hot  encoding,  **word embeddings  are  learned  from  data**. It’s common  to  see  word  embeddings  that are\n",
        "256-dimensional, 512-dimensional, or 1,024-dimensional when dealing with very large\n",
        "vocabularies. \n",
        "\n",
        "On the other hand, one-hot encoding words generally leads to vectors\n",
        "that are 20,000-dimensional or greater (capturing a vocabulary of 20,000 tokens, in\n",
        "this case). \n",
        "\n",
        "So, word embeddings *pack more information into far fewer dimensions*.\n",
        "\n",
        "There are two ways to obtain word embeddings:\n",
        "- Learn word embeddings jointly with the main task you care about (such as document classification or sentiment prediction). In this setup, you start with random word vectors and then learn word vectors in the same way you learn the weights of a neural network.\n",
        "-  Load into your model word embeddings that were pretrained using a different machinelearning task than the one you’re trying to solve."
      ]
    },
    {
      "metadata": {
        "id": "9jN_4YfDTVUc",
        "colab_type": "text"
      },
      "cell_type": "markdown",
      "source": [
        "Word embeddings are meant to *map human language into a geometric space*. For instance, in a reasonable embedding space, you would expect synonyms to be embedded into similar word vectors; and in general, you would expect the geometric distance (such as L2 distance) between any two word vectors to relate to the semantic distance between the associated words (words meaning different things are embedded at points far away from\n",
        "each other, whereas related words are closer). \n",
        "\n",
        "In addition to distance, you may want\n",
        "specific directions in the embedding space to be meaningful."
      ]
    },
    {
      "metadata": {
        "id": "zFTDklvDTVUd",
        "colab_type": "text"
      },
      "cell_type": "markdown",
      "source": [
        "## DataSet IMDB"
      ]
    },
    {
      "metadata": {
        "id": "OUnDqHrITVUe",
        "colab_type": "code",
        "colab": {
          "base_uri": "https://localhost:8080/",
          "height": 51
        },
        "outputId": "77723ca0-afba-4c81-a84a-2985cb5c4ae2"
      },
      "cell_type": "code",
      "source": [
        "# Import all package\n",
        "from keras.datasets import imdb\n",
        "from keras import preprocessing\n",
        "from keras.models import Sequential\n",
        "from keras.layers import Flatten, Dense\n",
        "from keras.layers import Embedding\n",
        "from keras.preprocessing.text import Tokenizer\n",
        "from keras.preprocessing.sequence import pad_sequences\n",
        "from keras import losses\n",
        "from keras import metrics\n",
        "from keras import optimizers\n",
        "\n",
        "import numpy as np\n",
        "import matplotlib.pyplot as plt\n",
        "\n",
        "import os\n",
        "\n",
        "from gensim.models.keyedvectors import KeyedVectors"
      ],
      "execution_count": 13,
      "outputs": [
        {
          "output_type": "stream",
          "text": [
            "Using TensorFlow backend.\n",
            "paramiko missing, opening SSH/SCP/SFTP paths will be disabled.  `pip install paramiko` to suppress\n"
          ],
          "name": "stderr"
        }
      ]
    },
    {
      "metadata": {
        "id": "hzanGrmkTogp",
        "colab_type": "code",
        "colab": {}
      },
      "cell_type": "code",
      "source": [
        ""
      ],
      "execution_count": 0,
      "outputs": []
    },
    {
      "metadata": {
        "id": "Sz0Hezf2Tn2F",
        "colab_type": "code",
        "colab": {}
      },
      "cell_type": "code",
      "source": [
        ""
      ],
      "execution_count": 0,
      "outputs": []
    },
    {
      "metadata": {
        "id": "w2YstPpRTVUm",
        "colab_type": "code",
        "colab": {}
      },
      "cell_type": "code",
      "source": [
        "max_features = 10000\n",
        "maxlen = 20\n",
        "\n",
        "(x_train, y_train), (x_test, y_test) = imdb.load_data(num_words=max_features)"
      ],
      "execution_count": 0,
      "outputs": []
    },
    {
      "metadata": {
        "id": "nve8Gn4yTVUo",
        "colab_type": "code",
        "colab": {}
      },
      "cell_type": "code",
      "source": [
        "x_train = preprocessing.sequence.pad_sequences(x_train, maxlen=maxlen)\n",
        "x_test = preprocessing.sequence.pad_sequences(x_test, maxlen=maxlen)"
      ],
      "execution_count": 0,
      "outputs": []
    },
    {
      "metadata": {
        "id": "nS6ccMkbTVUq",
        "colab_type": "code",
        "colab": {},
        "outputId": "879f1e2c-cafe-4c5e-ee3b-0441153b8b83"
      },
      "cell_type": "code",
      "source": [
        "x_train.shape"
      ],
      "execution_count": 0,
      "outputs": [
        {
          "output_type": "execute_result",
          "data": {
            "text/plain": [
              "(25000, 20)"
            ]
          },
          "metadata": {
            "tags": []
          },
          "execution_count": 89
        }
      ]
    },
    {
      "metadata": {
        "id": "_g5uqy8nTVUu",
        "colab_type": "code",
        "colab": {},
        "outputId": "cf92f01c-b861-489c-a512-1bac26d05bdc"
      },
      "cell_type": "code",
      "source": [
        "x_test.shape"
      ],
      "execution_count": 0,
      "outputs": [
        {
          "output_type": "execute_result",
          "data": {
            "text/plain": [
              "(25000, 20)"
            ]
          },
          "metadata": {
            "tags": []
          },
          "execution_count": 90
        }
      ]
    },
    {
      "metadata": {
        "id": "sts49pGpTVUx",
        "colab_type": "code",
        "colab": {},
        "outputId": "3ebaac56-34f4-4f17-8862-c2fbb3235498"
      },
      "cell_type": "code",
      "source": [
        "model = Sequential()\n",
        "# Specifies the maximum input length to the \n",
        "# Embedding layer so you can later flatten the \n",
        "# embedded inputs. After the Embedding layer, \n",
        "# the activations have shape (samples, maxlen, 8).\n",
        "model.add(Embedding(10000, 8, input_length=maxlen))\n",
        "# Flattens the 3D tensor of \n",
        "# embeddings into a 2D \n",
        "# tensor of shape (samples, maxlen * 8)\n",
        "model.add(Flatten())\n",
        "model.add(Dense(1, activation='sigmoid'))\n",
        "model.compile(optimizer='rmsprop', loss='binary_crossentropy', metrics=['acc'])\n",
        "model.summary()"
      ],
      "execution_count": 0,
      "outputs": [
        {
          "output_type": "stream",
          "text": [
            "WARNING:tensorflow:From C:\\Users\\kabon\\AppData\\Local\\conda\\conda\\envs\\aims\\lib\\site-packages\\tensorflow\\python\\framework\\op_def_library.py:263: colocate_with (from tensorflow.python.framework.ops) is deprecated and will be removed in a future version.\n",
            "Instructions for updating:\n",
            "Colocations handled automatically by placer.\n",
            "_________________________________________________________________\n",
            "Layer (type)                 Output Shape              Param #   \n",
            "=================================================================\n",
            "embedding_1 (Embedding)      (None, 20, 8)             80000     \n",
            "_________________________________________________________________\n",
            "flatten_1 (Flatten)          (None, 160)               0         \n",
            "_________________________________________________________________\n",
            "dense_1 (Dense)              (None, 1)                 161       \n",
            "=================================================================\n",
            "Total params: 80,161\n",
            "Trainable params: 80,161\n",
            "Non-trainable params: 0\n",
            "_________________________________________________________________\n"
          ],
          "name": "stdout"
        }
      ]
    },
    {
      "metadata": {
        "id": "OvMC3_rxTVU5",
        "colab_type": "code",
        "colab": {},
        "outputId": "c7b91c4c-9307-42a5-cd43-4ce0d8359533"
      },
      "cell_type": "code",
      "source": [
        "history = model.fit(x_train, y_train,\n",
        "                    epochs=10, batch_size=32,\n",
        "                    validation_split=0.2) # Split validation of 20% automatically)"
      ],
      "execution_count": 0,
      "outputs": [
        {
          "output_type": "stream",
          "text": [
            "WARNING:tensorflow:From C:\\Users\\kabon\\AppData\\Local\\conda\\conda\\envs\\aims\\lib\\site-packages\\tensorflow\\python\\ops\\math_ops.py:3066: to_int32 (from tensorflow.python.ops.math_ops) is deprecated and will be removed in a future version.\n",
            "Instructions for updating:\n",
            "Use tf.cast instead.\n",
            "Train on 20000 samples, validate on 5000 samples\n",
            "Epoch 1/10\n",
            "20000/20000 [==============================] - 2s 113us/step - loss: 0.6759 - acc: 0.6049 - val_loss: 0.6398 - val_acc: 0.6810\n",
            "Epoch 2/10\n",
            "20000/20000 [==============================] - 2s 83us/step - loss: 0.5658 - acc: 0.7426 - val_loss: 0.5467 - val_acc: 0.7204\n",
            "Epoch 3/10\n",
            "20000/20000 [==============================] - 1s 73us/step - loss: 0.4752 - acc: 0.7808 - val_loss: 0.5113 - val_acc: 0.7384\n",
            "Epoch 4/10\n",
            "20000/20000 [==============================] - 2s 75us/step - loss: 0.4263 - acc: 0.8077 - val_loss: 0.5008 - val_acc: 0.7452\n",
            "Epoch 5/10\n",
            "20000/20000 [==============================] - 2s 79us/step - loss: 0.3930 - acc: 0.8257 - val_loss: 0.4981 - val_acc: 0.7536\n",
            "Epoch 6/10\n",
            "20000/20000 [==============================] - 2s 78us/step - loss: 0.3668 - acc: 0.8396 - val_loss: 0.5014 - val_acc: 0.7530\n",
            "Epoch 7/10\n",
            "20000/20000 [==============================] - 2s 79us/step - loss: 0.3435 - acc: 0.8533 - val_loss: 0.5052 - val_acc: 0.7520\n",
            "Epoch 8/10\n",
            "20000/20000 [==============================] - 2s 81us/step - loss: 0.3223 - acc: 0.8657 - val_loss: 0.5132 - val_acc: 0.7486\n",
            "Epoch 9/10\n",
            "20000/20000 [==============================] - 2s 92us/step - loss: 0.3023 - acc: 0.8766 - val_loss: 0.5213 - val_acc: 0.7490\n",
            "Epoch 10/10\n",
            "20000/20000 [==============================] - 2s 78us/step - loss: 0.2839 - acc: 0.8860 - val_loss: 0.5302 - val_acc: 0.7466\n"
          ],
          "name": "stdout"
        }
      ]
    },
    {
      "metadata": {
        "id": "mm8kdSD7TVU_",
        "colab_type": "code",
        "colab": {},
        "outputId": "92a0f845-75f7-4a75-e0a2-16cde173dddf"
      },
      "cell_type": "code",
      "source": [
        "result = model.evaluate(x_test, y_test)\n",
        "for i in range(len(model.metrics_names)):\n",
        "     print(\"Metric \",model.metrics_names[i],\":\", str(round(result[i],2)))"
      ],
      "execution_count": 0,
      "outputs": [
        {
          "output_type": "stream",
          "text": [
            "25000/25000 [==============================] - 1s 34us/step\n",
            "Metric  loss : 0.52\n",
            "Metric  acc : 0.76\n"
          ],
          "name": "stdout"
        }
      ]
    },
    {
      "metadata": {
        "id": "rt13afzgTVVD",
        "colab_type": "code",
        "colab": {},
        "outputId": "8a64d53c-1819-437b-df74-8e8d51c18292"
      },
      "cell_type": "code",
      "source": [
        "acc = history.history['acc']\n",
        "val_acc = history.history['val_acc']\n",
        "loss = history.history['loss']\n",
        "val_loss = history.history['val_loss']\n",
        "\n",
        "epochs = range(1, len(acc) + 1)\n",
        "\n",
        "plt.figure()\n",
        "plt.plot(epochs, loss, 'bo', label='Training loss')\n",
        "plt.plot(epochs, val_loss, 'b', label='Validation loss')\n",
        "plt.title('Training and validation loss')\n",
        "plt.legend()\n",
        "plt.show()\n",
        "\n",
        "plt.figure()\n",
        "plt.plot(epochs, acc, 'bo', label='Training acc')\n",
        "plt.plot(epochs, val_acc, 'b', label='Validation acc')\n",
        "plt.title('Training and validation accuracy')\n",
        "plt.legend()"
      ],
      "execution_count": 0,
      "outputs": [
        {
          "output_type": "display_data",
          "data": {
            "image/png": "[encoded data removed]",
            "text/plain": [
              "<Figure size 432x288 with 1 Axes>"
            ]
          },
          "metadata": {
            "tags": [],
            "needs_background": "light"
          }
        },
        {
          "output_type": "execute_result",
          "data": {
            "text/plain": [
              "<matplotlib.legend.Legend at 0x28d80581f60>"
            ]
          },
          "metadata": {
            "tags": []
          },
          "execution_count": 94
        },
        {
          "output_type": "display_data",
          "data": {
            "image/png": "[encoded data removed]",
            "text/plain": [
              "<Figure size 432x288 with 1 Axes>"
            ]
          },
          "metadata": {
            "tags": [],
            "needs_background": "light"
          }
        }
      ]
    },
    {
      "metadata": {
        "id": "-GulO4j7TVVG",
        "colab_type": "text"
      },
      "cell_type": "markdown",
      "source": [
        "We can see that our model start well but quickly overfit."
      ]
    },
    {
      "metadata": {
        "id": "kWHrazH5TVVH",
        "colab_type": "text"
      },
      "cell_type": "markdown",
      "source": [
        "We get to a validation accuracy of ~76%, on enseen example, which is pretty good considering that we’re only looking at the first 20 words in every review. But note that merely flattening the embedded sequences and training a single Dense layer on top leads to a model that **treats  each  word  in  the  input  sequence  separately,  without  considering  inter-word relationships and sentence structure** (for example, this model would likely treat both “this movie is a bomb” and “this movie is the bomb” as being negative reviews). \n",
        "\n",
        "Let look at how to capture those *inter-word relationships* \n",
        "\n",
        "There exist 2 main approach :\n",
        "\n",
        "1. adding a recurrent layers or\n",
        "2. adding a 1D convolutional layers on top of the embedded  sequences  to  learn  features  that  take  into  account  each  sequence  as  a  whole."
      ]
    },
    {
      "metadata": {
        "id": "2SbNcAaZTVVN",
        "colab_type": "text"
      },
      "cell_type": "markdown",
      "source": [
        "## USING PRETRAINED WORD EMBEDDINGS"
      ]
    },
    {
      "metadata": {
        "id": "l1cw9tYHTVVR",
        "colab_type": "text"
      },
      "cell_type": "markdown",
      "source": [
        "First, head to http://mng.bz/0tIo and download the raw IMDB dataset. Uncompress it.\n",
        "\n",
        "Now, let’s collect the individual training reviews into a list of strings, one string per review. We’ll also collect the review labels (positive/negative) into a labels list."
      ]
    },
    {
      "metadata": {
        "id": "XFxIlNYdwKeL",
        "colab_type": "code",
        "colab": {}
      },
      "cell_type": "code",
      "source": [
        "link = \"https://drive.google.com/file/d/1smGRs2g2HoI6VSvonoZmWKzXOP6uPUaW/view?usp=sharing\""
      ],
      "execution_count": 0,
      "outputs": []
    },
    {
      "metadata": {
        "id": "l23eCWxcwjKQ",
        "colab_type": "code",
        "outputId": "2ee33f0e-28c5-4800-801c-18849806cecb",
        "colab": {
          "base_uri": "https://localhost:8080/",
          "height": 34
        }
      },
      "cell_type": "code",
      "source": [
        "_, id_t = link.split('d/')\n",
        "\n",
        "id = id_t.split('/')[0]\n",
        "print (id) # Verify that you have everything after '='"
      ],
      "execution_count": 6,
      "outputs": [
        {
          "output_type": "stream",
          "text": [
            "1smGRs2g2HoI6VSvonoZmWKzXOP6uPUaW\n"
          ],
          "name": "stdout"
        }
      ]
    },
    {
      "metadata": {
        "id": "qnVyKDhbwjUU",
        "colab_type": "code",
        "outputId": "4959d8ff-b043-48ef-f060-73ddaf9e1fef",
        "colab": {
          "base_uri": "https://localhost:8080/",
          "height": 52
        }
      },
      "cell_type": "code",
      "source": [
        "# Install the PyDrive wrapper & import libraries.\n",
        "# This only needs to be done once per notebook.\n",
        "!pip install -U -q PyDrive\n",
        "from pydrive.auth import GoogleAuth\n",
        "from pydrive.drive import GoogleDrive\n",
        "from google.colab import auth\n",
        "from oauth2client.client import GoogleCredentials\n",
        "\n",
        "# Authenticate and create the PyDrive client.\n",
        "# This only needs to be done once per notebook.\n",
        "auth.authenticate_user()\n",
        "gauth = GoogleAuth()\n",
        "gauth.credentials = GoogleCredentials.get_application_default()\n",
        "drive = GoogleDrive(gauth)"
      ],
      "execution_count": 7,
      "outputs": [
        {
          "output_type": "stream",
          "text": [
            "\u001b[?25l\r\u001b[K    1% |▎                               | 10kB 26.9MB/s eta 0:00:01\r\u001b[K    2% |▋                               | 20kB 1.8MB/s eta 0:00:01\r\u001b[K    3% |█                               | 30kB 2.7MB/s eta 0:00:01\r\u001b[K    4% |█▎                              | 40kB 1.8MB/s eta 0:00:01\r\u001b[K    5% |█▋                              | 51kB 2.2MB/s eta 0:00:01\r\u001b[K    6% |██                              | 61kB 2.6MB/s eta 0:00:01\r\u001b[K    7% |██▎                             | 71kB 3.0MB/s eta 0:00:01\r\u001b[K    8% |██▋                             | 81kB 3.4MB/s eta 0:00:01\r\u001b[K    9% |███                             | 92kB 3.8MB/s eta 0:00:01\r\u001b[K    10% |███▎                            | 102kB 2.9MB/s eta 0:00:01\r\u001b[K    11% |███▋                            | 112kB 2.9MB/s eta 0:00:01\r\u001b[K    12% |████                            | 122kB 4.2MB/s eta 0:00:01\r\u001b[K    13% |████▎                           | 133kB 4.2MB/s eta 0:00:01\r\u001b[K    14% |████▋                           | 143kB 7.9MB/s eta 0:00:01\r\u001b[K    15% |█████                           | 153kB 7.9MB/s eta 0:00:01\r\u001b[K    16% |█████▎                          | 163kB 7.9MB/s eta 0:00:01\r\u001b[K    17% |█████▋                          | 174kB 8.0MB/s eta 0:00:01\r\u001b[K    18% |██████                          | 184kB 8.0MB/s eta 0:00:01\r\u001b[K    19% |██████▎                         | 194kB 8.0MB/s eta 0:00:01\r\u001b[K    20% |██████▋                         | 204kB 51.1MB/s eta 0:00:01\r\u001b[K    21% |███████                         | 215kB 8.6MB/s eta 0:00:01\r\u001b[K    22% |███████▎                        | 225kB 8.6MB/s eta 0:00:01\r\u001b[K    23% |███████▋                        | 235kB 8.6MB/s eta 0:00:01\r\u001b[K    24% |████████                        | 245kB 8.6MB/s eta 0:00:01\r\u001b[K    25% |████████▎                       | 256kB 8.6MB/s eta 0:00:01\r\u001b[K    26% |████████▋                       | 266kB 8.4MB/s eta 0:00:01\r\u001b[K    27% |█████████                       | 276kB 8.5MB/s eta 0:00:01\r\u001b[K    29% |█████████▎                      | 286kB 8.5MB/s eta 0:00:01\r\u001b[K    30% |█████████▋                      | 296kB 8.5MB/s eta 0:00:01\r\u001b[K    31% |██████████                      | 307kB 8.7MB/s eta 0:00:01\r\u001b[K    32% |██████████▎                     | 317kB 54.2MB/s eta 0:00:01\r\u001b[K    33% |██████████▋                     | 327kB 55.9MB/s eta 0:00:01\r\u001b[K    34% |███████████                     | 337kB 59.3MB/s eta 0:00:01\r\u001b[K    35% |███████████▎                    | 348kB 54.3MB/s eta 0:00:01\r\u001b[K    36% |███████████▋                    | 358kB 54.4MB/s eta 0:00:01\r\u001b[K    37% |████████████                    | 368kB 62.7MB/s eta 0:00:01\r\u001b[K    38% |████████████▎                   | 378kB 62.9MB/s eta 0:00:01\r\u001b[K    39% |████████████▋                   | 389kB 63.8MB/s eta 0:00:01\r\u001b[K    40% |█████████████                   | 399kB 9.7MB/s eta 0:00:01\r\u001b[K    41% |█████████████▎                  | 409kB 9.5MB/s eta 0:00:01\r\u001b[K    42% |█████████████▋                  | 419kB 9.5MB/s eta 0:00:01\r\u001b[K    43% |██████████████                  | 430kB 9.4MB/s eta 0:00:01\r\u001b[K    44% |██████████████▎                 | 440kB 9.4MB/s eta 0:00:01\r\u001b[K    45% |██████████████▋                 | 450kB 9.5MB/s eta 0:00:01\r\u001b[K    46% |███████████████                 | 460kB 9.4MB/s eta 0:00:01\r\u001b[K    47% |███████████████▎                | 471kB 9.4MB/s eta 0:00:01\r\u001b[K    48% |███████████████▋                | 481kB 9.4MB/s eta 0:00:01\r\u001b[K    49% |████████████████                | 491kB 9.4MB/s eta 0:00:01\r\u001b[K    50% |████████████████▎               | 501kB 52.7MB/s eta 0:00:01\r\u001b[K    51% |████████████████▋               | 512kB 56.5MB/s eta 0:00:01\r\u001b[K    52% |█████████████████               | 522kB 57.6MB/s eta 0:00:01\r\u001b[K    53% |█████████████████▎              | 532kB 59.7MB/s eta 0:00:01\r\u001b[K    54% |█████████████████▋              | 542kB 62.1MB/s eta 0:00:01\r\u001b[K    55% |██████████████████              | 552kB 68.8MB/s eta 0:00:01\r\u001b[K    57% |██████████████████▎             | 563kB 70.6MB/s eta 0:00:01\r\u001b[K    58% |██████████████████▋             | 573kB 69.3MB/s eta 0:00:01\r\u001b[K    59% |███████████████████             | 583kB 69.9MB/s eta 0:00:01\r\u001b[K    60% |███████████████████▎            | 593kB 68.6MB/s eta 0:00:01\r\u001b[K    61% |███████████████████▋            | 604kB 68.8MB/s eta 0:00:01\r\u001b[K    62% |████████████████████            | 614kB 73.9MB/s eta 0:00:01\r\u001b[K    63% |████████████████████▎           | 624kB 73.5MB/s eta 0:00:01\r\u001b[K    64% |████████████████████▋           | 634kB 73.1MB/s eta 0:00:01\r\u001b[K    65% |█████████████████████           | 645kB 72.6MB/s eta 0:00:01\r\u001b[K    66% |█████████████████████▎          | 655kB 71.2MB/s eta 0:00:01\r\u001b[K    67% |█████████████████████▋          | 665kB 54.6MB/s eta 0:00:01\r\u001b[K    68% |██████████████████████          | 675kB 54.5MB/s eta 0:00:01\r\u001b[K    69% |██████████████████████▎         | 686kB 55.0MB/s eta 0:00:01\r\u001b[K    70% |██████████████████████▋         | 696kB 56.1MB/s eta 0:00:01\r\u001b[K    71% |███████████████████████         | 706kB 56.1MB/s eta 0:00:01\r\u001b[K    72% |███████████████████████▎        | 716kB 56.4MB/s eta 0:00:01\r\u001b[K    73% |███████████████████████▋        | 727kB 56.3MB/s eta 0:00:01\r\u001b[K    74% |████████████████████████        | 737kB 55.6MB/s eta 0:00:01\r\u001b[K    75% |████████████████████████▎       | 747kB 55.8MB/s eta 0:00:01\r\u001b[K    76% |████████████████████████▋       | 757kB 55.6MB/s eta 0:00:01\r\u001b[K    77% |████████████████████████▉       | 768kB 73.4MB/s eta 0:00:01\r\u001b[K    78% |█████████████████████████▏      | 778kB 74.2MB/s eta 0:00:01\r\u001b[K    79% |█████████████████████████▌      | 788kB 71.6MB/s eta 0:00:01\r\u001b[K    80% |█████████████████████████▉      | 798kB 70.8MB/s eta 0:00:01\r\u001b[K    81% |██████████████████████████▏     | 808kB 70.2MB/s eta 0:00:01\r\u001b[K    82% |██████████████████████████▌     | 819kB 15.5MB/s eta 0:00:01\r\u001b[K    83% |██████████████████████████▉     | 829kB 15.5MB/s eta 0:00:01\r\u001b[K    85% |███████████████████████████▏    | 839kB 15.4MB/s eta 0:00:01\r\u001b[K    86% |███████████████████████████▌    | 849kB 15.4MB/s eta 0:00:01\r\u001b[K    87% |███████████████████████████▉    | 860kB 15.0MB/s eta 0:00:01\r\u001b[K    88% |████████████████████████████▏   | 870kB 15.0MB/s eta 0:00:01\r\u001b[K    89% |████████████████████████████▌   | 880kB 15.0MB/s eta 0:00:01\r\u001b[K    90% |████████████████████████████▉   | 890kB 15.1MB/s eta 0:00:01\r\u001b[K    91% |█████████████████████████████▏  | 901kB 15.1MB/s eta 0:00:01\r\u001b[K    92% |█████████████████████████████▌  | 911kB 15.1MB/s eta 0:00:01\r\u001b[K    93% |█████████████████████████████▉  | 921kB 62.9MB/s eta 0:00:01\r\u001b[K    94% |██████████████████████████████▏ | 931kB 64.3MB/s eta 0:00:01\r\u001b[K    95% |██████████████████████████████▌ | 942kB 65.9MB/s eta 0:00:01\r\u001b[K    96% |██████████████████████████████▉ | 952kB 65.6MB/s eta 0:00:01\r\u001b[K    97% |███████████████████████████████▏| 962kB 75.5MB/s eta 0:00:01\r\u001b[K    98% |███████████████████████████████▌| 972kB 75.8MB/s eta 0:00:01\r\u001b[K    99% |███████████████████████████████▉| 983kB 73.7MB/s eta 0:00:01\r\u001b[K    100% |████████████████████████████████| 993kB 25.5MB/s \n",
            "\u001b[?25h  Building wheel for PyDrive (setup.py) ... \u001b[?25ldone\n",
            "\u001b[?25h"
          ],
          "name": "stdout"
        }
      ]
    },
    {
      "metadata": {
        "id": "1hjpfwQuwvb9",
        "colab_type": "code",
        "colab": {}
      },
      "cell_type": "code",
      "source": [
        "file_id = id\n",
        "downloaded = drive.CreateFile({'id':file_id})\n",
        "downloaded.FetchMetadata(fetch_all=True)\n",
        "downloaded.GetContentFile(downloaded.metadata['title'])"
      ],
      "execution_count": 0,
      "outputs": []
    },
    {
      "metadata": {
        "id": "-ULfj6D_ziiW",
        "colab_type": "code",
        "outputId": "d1775336-0a9c-4ac4-8256-98586a5bb522",
        "colab": {
          "base_uri": "https://localhost:8080/",
          "height": 34
        }
      },
      "cell_type": "code",
      "source": [
        "!ls"
      ],
      "execution_count": 9,
      "outputs": [
        {
          "output_type": "stream",
          "text": [
            "aclImdb.zip  adc.json  sample_data\n"
          ],
          "name": "stdout"
        }
      ]
    },
    {
      "metadata": {
        "id": "vhwLb-sRVo6R",
        "colab_type": "code",
        "colab": {}
      },
      "cell_type": "code",
      "source": [
        "!unzip aclImdb.zip"
      ],
      "execution_count": 0,
      "outputs": []
    },
    {
      "metadata": {
        "id": "Ygt0MYNKVuZw",
        "colab_type": "code",
        "colab": {
          "base_uri": "https://localhost:8080/",
          "height": 34
        },
        "outputId": "4433b628-ab08-4b2e-ea21-9a358129969a"
      },
      "cell_type": "code",
      "source": [
        "!ls\n"
      ],
      "execution_count": 11,
      "outputs": [
        {
          "output_type": "stream",
          "text": [
            "aclImdb  aclImdb.zip  adc.json\t__MACOSX  sample_data\n"
          ],
          "name": "stdout"
        }
      ]
    },
    {
      "metadata": {
        "id": "bmBdoFWmTVVS",
        "colab_type": "code",
        "colab": {}
      },
      "cell_type": "code",
      "source": [
        "# imdb_dir = './data/aclImdb'\n",
        "imdb_dir = './aclImdb'\n",
        "\n",
        "train_dir = os.path.join(imdb_dir, 'train')\n",
        "labels = []\n",
        "texts = []\n",
        "\n",
        "for label_type in ['neg', 'pos']:\n",
        "    dir_name = os.path.join(train_dir, label_type)\n",
        "    for fname in os.listdir(dir_name):\n",
        "        if fname[-4:] == '.txt':\n",
        "            f = open(os.path.join(dir_name, fname), encoding=\"utf8\")\n",
        "            texts.append(f.read())\n",
        "            f.close()\n",
        "            if label_type == 'neg':\n",
        "                labels.append(0)\n",
        "            else:\n",
        "                labels.append(1)"
      ],
      "execution_count": 0,
      "outputs": []
    },
    {
      "metadata": {
        "id": "QvWXhJR4TVVW",
        "colab_type": "code",
        "colab": {
          "base_uri": "https://localhost:8080/",
          "height": 34
        },
        "outputId": "d2a96df5-bb1c-49a3-d5f9-3ac023d15e56"
      },
      "cell_type": "code",
      "source": [
        "np.unique(labels)"
      ],
      "execution_count": 15,
      "outputs": [
        {
          "output_type": "execute_result",
          "data": {
            "text/plain": [
              "array([0, 1])"
            ]
          },
          "metadata": {
            "tags": []
          },
          "execution_count": 15
        }
      ]
    },
    {
      "metadata": {
        "id": "ABobFPr5TVVa",
        "colab_type": "code",
        "colab": {
          "base_uri": "https://localhost:8080/",
          "height": 34
        },
        "outputId": "3bc63b21-019a-4f33-f35f-97f0824b759b"
      },
      "cell_type": "code",
      "source": [
        "type(labels)"
      ],
      "execution_count": 16,
      "outputs": [
        {
          "output_type": "execute_result",
          "data": {
            "text/plain": [
              "list"
            ]
          },
          "metadata": {
            "tags": []
          },
          "execution_count": 16
        }
      ]
    },
    {
      "metadata": {
        "id": "cpbZB-WgTVVi",
        "colab_type": "code",
        "colab": {
          "base_uri": "https://localhost:8080/",
          "height": 34
        },
        "outputId": "b221d781-2949-4686-eb9e-c24f547f1fe5"
      },
      "cell_type": "code",
      "source": [
        "type(texts)"
      ],
      "execution_count": 17,
      "outputs": [
        {
          "output_type": "execute_result",
          "data": {
            "text/plain": [
              "list"
            ]
          },
          "metadata": {
            "tags": []
          },
          "execution_count": 17
        }
      ]
    },
    {
      "metadata": {
        "id": "Ggl3E39RTVVl",
        "colab_type": "text"
      },
      "cell_type": "markdown",
      "source": [
        "### TOKENIZING THE DATA\n",
        "\n",
        "Let’s vectorize the text and prepare a training and validation split. Pretrained word embeddings are meant to be particularly useful on problems where little training data is available (otherwise,\n",
        "task-specific embeddings are likely to outperform them), we’ll add the following twist: restricting the training data to the first $200 samples$. So you’ll learn to classify movie reviews after looking at just 200 examples."
      ]
    },
    {
      "metadata": {
        "id": "tuLFG5mGTVVl",
        "colab_type": "code",
        "colab": {}
      },
      "cell_type": "code",
      "source": [
        "# Cuts off reviews after 100 words\n",
        "maxlen = 100\n",
        "# Trains on 200 samples\n",
        "training_samples = 200\n",
        "# Validates on 10,000 samples\n",
        "validation_samples = 10000\n",
        "# Considers only the top \n",
        "# 10,000 words in the dataset\n",
        "max_words = 10000\n",
        "\n",
        "tokenizer = Tokenizer(num_words=max_words)\n",
        "tokenizer.fit_on_texts(texts)\n",
        "sequences = tokenizer.texts_to_sequences(texts)"
      ],
      "execution_count": 0,
      "outputs": []
    },
    {
      "metadata": {
        "id": "w8P7lETVTVVo",
        "colab_type": "code",
        "colab": {},
        "outputId": "6b14cf39-d446-47b3-c07a-496e347d0d6c"
      },
      "cell_type": "code",
      "source": [
        "word_index = tokenizer.word_index\n",
        "print('Found %s unique tokens.' % len(word_index))\n",
        "\n",
        "data = pad_sequences(sequences, maxlen=maxlen)\n",
        "labels = np.asarray(labels)\n",
        "print('Shape of data tensor:', data.shape)\n",
        "print('Shape of label tensor:', labels.shape)\n",
        "\n",
        "# Splits the data into a training set and a \n",
        "# validation set, but first shuffles the data, \n",
        "# because you’re starting with data in which \n",
        "# samples are ordered (all negative first, then \n",
        "# all positive) \n",
        "indices = np.arange(data.shape[0])\n",
        "np.random.shuffle(indices)\n",
        "data = data[indices]\n",
        "labels = labels[indices]\n",
        "\n",
        "x_train = data[:training_samples]\n",
        "y_train = labels[:training_samples]\n",
        "x_val = data[training_samples: training_samples + validation_samples]\n",
        "y_val = labels[training_samples: training_samples + validation_samples]"
      ],
      "execution_count": 0,
      "outputs": [
        {
          "output_type": "stream",
          "text": [
            "Found 88582 unique tokens.\n",
            "Shape of data tensor: (25000, 100)\n",
            "Shape of label tensor: (25000,)\n"
          ],
          "name": "stdout"
        }
      ]
    },
    {
      "metadata": {
        "id": "lvxtx8_LTVVu",
        "colab_type": "code",
        "colab": {},
        "outputId": "42e271d3-8108-4dee-bcd8-ba60c7c001b9"
      },
      "cell_type": "code",
      "source": [
        "#Explore the data structure using basic python commands\n",
        "print(\"Type of the Dataset:\",type(x_train))\n",
        "print(\"Shape of training data :\",x_train.shape)\n",
        "print(\"Shape of training labels :\",y_train.shape)\n",
        "print(\"Shape of testing data :\",x_val.shape)\n",
        "print(\"Shape of testing labels :\",y_val.shape)"
      ],
      "execution_count": 0,
      "outputs": [
        {
          "output_type": "stream",
          "text": [
            "Type of the Dataset: <class 'numpy.ndarray'>\n",
            "Shape of training data : (200, 100)\n",
            "Shape of training labels : (200,)\n",
            "Shape of testing data : (10000, 100)\n",
            "Shape of testing labels : (10000,)\n"
          ],
          "name": "stdout"
        }
      ]
    },
    {
      "metadata": {
        "id": "t3D6riq5TVV4",
        "colab_type": "code",
        "colab": {},
        "outputId": "2d068652-d72b-4b00-c385-2a95ef625385"
      },
      "cell_type": "code",
      "source": [
        "x_train[:5]"
      ],
      "execution_count": 0,
      "outputs": [
        {
          "output_type": "execute_result",
          "data": {
            "text/plain": [
              "array([[  17,  228, 1951,  258,   31,  227,    1,  115,  170,    4,    1,\n",
              "         285,   13,    1, 1468,   15,   24, 3786,    1, 1468,  582,   13,\n",
              "         125,   71,   11,  433,  434,    4,   55,    7,    7,   10,  241,\n",
              "         803,   10,   25,    5,   27,   35, 2485,  471,   37,    5,  101,\n",
              "          12,   11,   17,   13,    3, 2181,    4,   48,   67,   27,  221,\n",
              "           8, 3322,  631,   39,  276,   40,   32, 2837,   15,  250,    2,\n",
              "           1,  323,   13,  112,    5,   94,    3,  486,   19,   18,   45,\n",
              "        3786,    6,   98, 5516, 8656,   67,   94,  486,   35,  135,  119,\n",
              "          26, 2261,    5,  795,   12,  130,  379,    1,  179,   77,  112,\n",
              "         121],\n",
              "       [  15,  109,  947, 2208,  100,   28,  387,   61,    1, 1137, 7499,\n",
              "         197,  289,    2,  220, 8632,   18,    1, 1565, 9295,    2,   16,\n",
              "          84, 5050,    3,  375,    4,  693,  528, 3620,   20, 4365, 6203,\n",
              "           2, 1223,  259,   18,  104, 6217, 3884,    5,   27,  621,   80,\n",
              "        2649,    3,   11,    6,    1,   83,  387,  500,  222,   35,   73,\n",
              "         167,   20,   88,  794,  525,   57, 3816,   41,    3, 3273,   39,\n",
              "         104,  100,   29,   86,  108, 2622, 5914, 1919,    5,  892,   16,\n",
              "           3, 3580,    3, 1009, 2340,    2,    3,  663, 3939,    2,  128,\n",
              "          25, 1303, 2350,  815,   15,    1,  357,    4,    1,  809,    7,\n",
              "           7],\n",
              "       [ 294,   16,    1,    4,  113,  131,   81,  273, 2586,    7,    7,\n",
              "         118,   78,   33,   76,   46,    4,  131,   81,   13,   11,   65,\n",
              "          83,   17,    9,  249,  465,   37,    9,    7,    7,   11,   17,\n",
              "          79, 6673,    1,  201,    8,    3,  168,  408,    4, 2489,   10,\n",
              "          66,   40,  185,  221,  146,    1,   83,   28,    2, 7384,  238,\n",
              "           8,   10,   13,   29, 2228,    5,   76,    5,  103,    1,  330,\n",
              "          28,    2,    9, 1051,   53,  109,    1,  246,  120,  204,  107,\n",
              "           8,    3,  134,   10,   89,  979,  123,  123,  468,  122,    3,\n",
              "          17,   18,   11,   28,  404,  432,  122,  100,   41, 1085, 1670,\n",
              "        5646],\n",
              "       [   0,    0,    0,    0,    0,    0,    0,    0,    0,    0,    0,\n",
              "           0,    0,    0,    0,    0,    0,    0,    0,    0,    0,    0,\n",
              "           0,    0,    0,    0,    0,    0,    0,    0,   88,  359,   99,\n",
              "        1848,    5, 1835,    1,  365, 2199,    4,  581,    4, 2370,   11,\n",
              "          19, 5630,  614,   86,    5,   78,    9,  205,    9, 6587,  788,\n",
              "           4, 1283, 2074, 8047,  521,    8,    3,   93,   12,    6, 2256,\n",
              "           1,  274,   97,   27,    3,  224,   18,    1,  189,   12,    1,\n",
              "         164,  149, 3338,  282,   43,   15,   22,    8, 4261,  156,  579,\n",
              "           5,    1, 1172,  814,   12,   11,   19, 7989,    3,   50, 1087,\n",
              "         527],\n",
              "       [ 669,    2,   10,  241,  682,   12,   10,  158,  987,  689,    5,\n",
              "          11,  639,  198,  156,   33,   68, 6769,    1,   62,  344,    6,\n",
              "          52,  160,    1,  102,   63,   25,   84, 3047,   39,   21,   35,\n",
              "          84,   18,  504,  128,  160,   10,  172,  387,    4,   48,   10,\n",
              "          37,   41,   22, 4443,    2,   14,   70,   14,   29,    4,    1,\n",
              "         174,  112,  560,   69, 1095,  134,  146,   47,    6,   46, 1098,\n",
              "          15,  473,    2,   46,  859, 1496,   18,   16,    3, 3617,  747,\n",
              "          22, 1609,   25,   96,   73,  709,   47,    6,   46,  429,    4,\n",
              "         549,    4,  648,   12,   69,    5,   11,  120,   10,   63,  355,\n",
              "           9]])"
            ]
          },
          "metadata": {
            "tags": []
          },
          "execution_count": 142
        }
      ]
    },
    {
      "metadata": {
        "id": "hz8B0qC0TVWB",
        "colab_type": "text"
      },
      "cell_type": "markdown",
      "source": [
        "##  GLOVE WORD EMBEDDINGS"
      ]
    },
    {
      "metadata": {
        "id": "NUtSjGG5TVWD",
        "colab_type": "text"
      },
      "cell_type": "markdown",
      "source": [
        "Go  to  https://nlp.stanford.edu/projects/glove,  and  download  the  precomputed\n",
        "embeddings from 2014 English Wikipedia.  It’s an 822 MB zip file called glove.6B.zip,\n",
        "containing  100-dimensional  embedding  vectors  for  400,000  words  (or  nonword\n",
        "tokens). Unzip it. "
      ]
    },
    {
      "metadata": {
        "id": "XMsM1M_FTVWE",
        "colab_type": "code",
        "colab": {},
        "outputId": "2a3c6fca-5785-4928-91cb-e48500428f1a"
      },
      "cell_type": "code",
      "source": [
        "# PREPROCESSING THE EMBEDDINGS\n",
        "glove_dir = './data/glove.6B'\n",
        "embeddings_index = {}\n",
        "\n",
        "f = open(os.path.join(glove_dir, 'glove.6B.100d.txt'), encoding=\"utf8\")\n",
        "\n",
        "for line in f:\n",
        "    values = line.split()\n",
        "    word = values[0]\n",
        "    coefs = np.asarray(values[1:], dtype='float32')\n",
        "    embeddings_index[word] = coefs\n",
        "f.close()\n",
        "print('Found %s word vectors.' % len(embeddings_index))"
      ],
      "execution_count": 0,
      "outputs": [
        {
          "output_type": "stream",
          "text": [
            "Found 400000 word vectors.\n"
          ],
          "name": "stdout"
        }
      ]
    },
    {
      "metadata": {
        "id": "MauHqsRITVWM",
        "colab_type": "text"
      },
      "cell_type": "markdown",
      "source": [
        "Well, we have axactly $400.000$ words as expected, of dimension $100$"
      ]
    },
    {
      "metadata": {
        "id": "wgNRmRe7TVWO",
        "colab_type": "code",
        "colab": {},
        "outputId": "a77268b0-098b-48c0-bba7-3f12358a9f30"
      },
      "cell_type": "code",
      "source": [
        "embeddings_index['hello']"
      ],
      "execution_count": 0,
      "outputs": [
        {
          "output_type": "execute_result",
          "data": {
            "text/plain": [
              "array([ 0.26688  ,  0.39632  ,  0.6169   , -0.77451  , -0.1039   ,\n",
              "        0.26697  ,  0.2788   ,  0.30992  ,  0.0054685, -0.085256 ,\n",
              "        0.73602  , -0.098432 ,  0.5479   , -0.030305 ,  0.33479  ,\n",
              "        0.14094  , -0.0070003,  0.32569  ,  0.22902  ,  0.46557  ,\n",
              "       -0.19531  ,  0.37491  , -0.7139   , -0.51775  ,  0.77039  ,\n",
              "        1.0881   , -0.66011  , -0.16234  ,  0.9119   ,  0.21046  ,\n",
              "        0.047494 ,  1.0019   ,  1.1133   ,  0.70094  , -0.08696  ,\n",
              "        0.47571  ,  0.1636   , -0.44469  ,  0.4469   , -0.93817  ,\n",
              "        0.013101 ,  0.085964 , -0.67456  ,  0.49662  , -0.037827 ,\n",
              "       -0.11038  , -0.28612  ,  0.074606 , -0.31527  , -0.093774 ,\n",
              "       -0.57069  ,  0.66865  ,  0.45307  , -0.34154  , -0.7166   ,\n",
              "       -0.75273  ,  0.075212 ,  0.57903  , -0.1191   , -0.11379  ,\n",
              "       -0.10026  ,  0.71341  , -1.1574   , -0.74026  ,  0.40452  ,\n",
              "        0.18023  ,  0.21449  ,  0.37638  ,  0.11239  , -0.53639  ,\n",
              "       -0.025092 ,  0.31886  , -0.25013  , -0.63283  , -0.011843 ,\n",
              "        1.377    ,  0.86013  ,  0.20476  , -0.36815  , -0.68874  ,\n",
              "        0.53512  , -0.46556  ,  0.27389  ,  0.4118   , -0.854    ,\n",
              "       -0.046288 ,  0.11304  , -0.27326  ,  0.15636  , -0.20334  ,\n",
              "        0.53586  ,  0.59784  ,  0.60469  ,  0.13735  ,  0.42232  ,\n",
              "       -0.61279  , -0.38486  ,  0.35842  , -0.48464  ,  0.30728  ],\n",
              "      dtype=float32)"
            ]
          },
          "metadata": {
            "tags": []
          },
          "execution_count": 104
        }
      ]
    },
    {
      "metadata": {
        "id": "f7ZwfN-3TVWT",
        "colab_type": "text"
      },
      "cell_type": "markdown",
      "source": [
        "Next, you’ll build an embedding matrix that you can load into an Embedding layer. It\n",
        "must be a matrix of shape $(max\\_words, embedding_dim=1000)$, where each entry i contains\n",
        "the embedding_dim-dimensional vector for the word of index i in the reference word\n",
        "index (built during tokenization). Note that index 0 isn’t supposed to stand for any\n",
        "word or token—it’s a placeholder"
      ]
    },
    {
      "metadata": {
        "id": "CzFZy_caTVWW",
        "colab_type": "code",
        "colab": {}
      },
      "cell_type": "code",
      "source": [
        "embedding_dim = 100\n",
        "# Cuts off reviews after 100 words\n",
        "maxlen = 100\n",
        "\n",
        "# Considers only the top \n",
        "# 10,000 words in the dataset\n",
        "max_words = 10000\n",
        "\n",
        "embedding_matrix = np.zeros((max_words, embedding_dim))\n",
        "\n",
        "for word, i in word_index.items():\n",
        "    if i < max_words:\n",
        "#         ipdb.set_trace()\n",
        "        embedding_vector = embeddings_index.get(word)\n",
        "        # cheking that th eword exist in the embedding dictionary\n",
        "        if embedding_vector is not None: \n",
        "            embedding_matrix[i] = embedding_vector"
      ],
      "execution_count": 0,
      "outputs": []
    },
    {
      "metadata": {
        "id": "vRfYQ8rsTVWY",
        "colab_type": "code",
        "colab": {},
        "outputId": "28663758-08cb-4a8d-e89b-7fca78482718"
      },
      "cell_type": "code",
      "source": [
        "embedding_matrix[-1] # looking at the last element"
      ],
      "execution_count": 0,
      "outputs": [
        {
          "output_type": "execute_result",
          "data": {
            "text/plain": [
              "array([-0.17381001, -0.037609  ,  0.068837  , -1.04799998,  0.81278002,\n",
              "        0.26355001,  0.41485   ,  0.018956  , -0.40834999,  0.31979999,\n",
              "       -0.07748   , -0.27023   ,  1.21099997, -0.101     ,  0.16656999,\n",
              "        0.56098998,  1.14040005,  0.25082999,  0.36381999, -0.70122999,\n",
              "       -0.97337002, -0.2264    , -0.30101001,  0.43255001,  0.43430999,\n",
              "        0.38058999,  0.062135  ,  0.17827   , -0.36430001, -0.78675002,\n",
              "        0.84675002,  1.12370002, -0.37193999,  0.36816999,  0.057344  ,\n",
              "       -0.013778  , -0.34051999, -0.50598001, -0.31538001, -0.18312   ,\n",
              "        1.01400006, -0.42223001,  0.10368   ,  0.25560001, -0.25810999,\n",
              "        0.29519001, -0.29216999,  0.43917999, -0.36399999, -0.74561   ,\n",
              "       -0.094103  ,  0.50668001, -0.047155  ,  1.07140005, -0.28018999,\n",
              "       -1.69490004, -0.38648999,  0.32921001,  0.76716   , -0.30908   ,\n",
              "       -0.12284   ,  0.82014   ,  0.043673  ,  0.26510999,  0.60667002,\n",
              "       -0.27529001, -0.61680001,  0.062825  ,  0.013927  ,  0.041713  ,\n",
              "        0.098055  , -0.13466001, -0.51471001, -0.08967   ,  0.33123001,\n",
              "       -0.0871    ,  0.65623999,  0.59035999, -0.51743001, -0.23444   ,\n",
              "       -0.79856998, -1.69620001,  0.20280001, -0.28871   , -0.17363   ,\n",
              "       -0.44182   , -0.51165003, -0.76165998,  0.45447001,  1.09119999,\n",
              "        0.15458   ,  0.55511999,  0.4305    , -0.26515999,  0.18797   ,\n",
              "       -0.72838002, -1.01010001, -0.097167  ,  1.08840001,  0.22676   ])"
            ]
          },
          "metadata": {
            "tags": []
          },
          "execution_count": 106
        }
      ]
    },
    {
      "metadata": {
        "id": "_-nBo7vzTVWf",
        "colab_type": "code",
        "colab": {},
        "outputId": "4eb39b97-3752-4c36-d39b-fb50c370f0d4"
      },
      "cell_type": "code",
      "source": [
        "embedding_matrix.shape"
      ],
      "execution_count": 0,
      "outputs": [
        {
          "output_type": "execute_result",
          "data": {
            "text/plain": [
              "(10000, 100)"
            ]
          },
          "metadata": {
            "tags": []
          },
          "execution_count": 107
        }
      ]
    },
    {
      "metadata": {
        "id": "FCaF_ZbrTVWj",
        "colab_type": "code",
        "colab": {},
        "outputId": "cc2d3336-fcf2-4a58-acec-f9085dcc9bc4"
      },
      "cell_type": "code",
      "source": [
        "print(f\"Max_words = {max_words}, \\nEmbedding_dim = {embedding_dim} and \\nInput_length = {maxlen}\")"
      ],
      "execution_count": 0,
      "outputs": [
        {
          "output_type": "stream",
          "text": [
            "Max_words = 10000, \n",
            "Embedding_dim = 100 and \n",
            "Input_length = 100\n"
          ],
          "name": "stdout"
        }
      ]
    },
    {
      "metadata": {
        "id": "J0zttiOCTVWm",
        "colab_type": "code",
        "colab": {},
        "outputId": "5ea3c287-dda7-4bfa-ebd7-f629a256b4b4"
      },
      "cell_type": "code",
      "source": [
        "from keras.models import Sequential\n",
        "from keras.layers import Embedding, Flatten, Dense\n",
        "\n",
        "model = Sequential()\n",
        "model.add(Embedding(max_words, embedding_dim, input_length=maxlen))\n",
        "model.add(Flatten())\n",
        "model.add(Dense(32, activation='relu'))\n",
        "model.add(Dense(1, activation='sigmoid'))\n",
        "model.summary()"
      ],
      "execution_count": 0,
      "outputs": [
        {
          "output_type": "stream",
          "text": [
            "_________________________________________________________________\n",
            "Layer (type)                 Output Shape              Param #   \n",
            "=================================================================\n",
            "embedding_5 (Embedding)      (None, 100, 300)          3000000   \n",
            "_________________________________________________________________\n",
            "flatten_5 (Flatten)          (None, 30000)             0         \n",
            "_________________________________________________________________\n",
            "dense_8 (Dense)              (None, 32)                960032    \n",
            "_________________________________________________________________\n",
            "dense_9 (Dense)              (None, 1)                 33        \n",
            "=================================================================\n",
            "Total params: 3,960,065\n",
            "Trainable params: 3,960,065\n",
            "Non-trainable params: 0\n",
            "_________________________________________________________________\n"
          ],
          "name": "stdout"
        }
      ]
    },
    {
      "metadata": {
        "id": "sRnmKoiNTVWq",
        "colab_type": "text"
      },
      "cell_type": "markdown",
      "source": [
        "The Embedding layer has a single weight matrix: a 2D float matrix where each entry i is\n",
        "the word vector meant to be associated with index i. Simple enough. Load the GloVe\n",
        "matrix you prepared into the Embedding layer, the first layer in the model."
      ]
    },
    {
      "metadata": {
        "id": "yr4JjEm6TVWq",
        "colab_type": "code",
        "colab": {}
      },
      "cell_type": "code",
      "source": [
        "model.layers[0].set_weights([embedding_matrix])\n",
        "#  freeze the Embedding layer\n",
        "# the pretrained parts shouldn’t\n",
        "# be updated during training, to avoid forgetting what they already know\n",
        "model.layers[0].trainable = False"
      ],
      "execution_count": 0,
      "outputs": []
    },
    {
      "metadata": {
        "id": "if07nKLNTVWv",
        "colab_type": "code",
        "colab": {},
        "outputId": "da90b428-8611-4e0e-9dde-c1d98fb48b8b"
      },
      "cell_type": "code",
      "source": [
        "model.compile(optimizer='rmsprop',\n",
        "              loss='binary_crossentropy',\n",
        "              metrics=['acc'])\n",
        "\n",
        "history = model.fit(x_train, y_train,\n",
        "                    epochs=10,\n",
        "                    batch_size=32,\n",
        "                    validation_data=(x_val, y_val))\n",
        "\n",
        "model.save_weights('pre_trained_glove_model.h5')"
      ],
      "execution_count": 0,
      "outputs": [
        {
          "output_type": "stream",
          "text": [
            "Train on 200 samples, validate on 10000 samples\n",
            "Epoch 1/10\n",
            "200/200 [==============================] - 2s 12ms/step - loss: 0.7725 - acc: 0.4550 - val_loss: 0.7044 - val_acc: 0.4977\n",
            "Epoch 2/10\n",
            "200/200 [==============================] - 2s 9ms/step - loss: 0.4366 - acc: 0.8500 - val_loss: 0.8776 - val_acc: 0.5018\n",
            "Epoch 3/10\n",
            "200/200 [==============================] - 2s 8ms/step - loss: 0.3288 - acc: 0.8450 - val_loss: 0.7767 - val_acc: 0.4967\n",
            "Epoch 4/10\n",
            "200/200 [==============================] - 2s 8ms/step - loss: 0.1073 - acc: 1.0000 - val_loss: 0.7687 - val_acc: 0.5038\n",
            "Epoch 5/10\n",
            "200/200 [==============================] - 2s 9ms/step - loss: 0.0450 - acc: 1.0000 - val_loss: 1.0700 - val_acc: 0.5008\n",
            "Epoch 6/10\n",
            "200/200 [==============================] - 2s 8ms/step - loss: 0.0295 - acc: 1.0000 - val_loss: 0.7990 - val_acc: 0.5011\n",
            "Epoch 7/10\n",
            "200/200 [==============================] - 2s 8ms/step - loss: 0.0120 - acc: 1.0000 - val_loss: 0.8184 - val_acc: 0.5004\n",
            "Epoch 8/10\n",
            "200/200 [==============================] - 2s 8ms/step - loss: 0.0072 - acc: 1.0000 - val_loss: 0.8828 - val_acc: 0.5047\n",
            "Epoch 9/10\n",
            "200/200 [==============================] - 2s 11ms/step - loss: 0.0043 - acc: 1.0000 - val_loss: 0.8861 - val_acc: 0.5063\n",
            "Epoch 10/10\n",
            "200/200 [==============================] - 2s 12ms/step - loss: 0.0027 - acc: 1.0000 - val_loss: 0.8702 - val_acc: 0.5028\n"
          ],
          "name": "stdout"
        }
      ]
    },
    {
      "metadata": {
        "id": "mbxwIvrdTVWz",
        "colab_type": "code",
        "colab": {},
        "outputId": "b750aeed-2067-4bee-a677-30c1993b128c"
      },
      "cell_type": "code",
      "source": [
        "acc = history.history['acc']\n",
        "val_acc = history.history['val_acc']\n",
        "loss = history.history['loss']\n",
        "val_loss = history.history['val_loss']\n",
        "\n",
        "epochs = range(1, len(acc) + 1)\n",
        "\n",
        "plt.figure()\n",
        "# plt.figure(figsize=(9,8))\n",
        "plt.plot(epochs, loss, 'bo', label='Training loss')\n",
        "plt.plot(epochs, val_loss, 'b', label='Validation loss')\n",
        "plt.title('Training and validation loss')\n",
        "plt.legend()\n",
        "plt.show()\n",
        "\n",
        "\n",
        "plt.figure()\n",
        "plt.plot(epochs, acc, 'bo', label='Training acc')\n",
        "plt.plot(epochs, val_acc, 'b', label='Validation acc')\n",
        "plt.title('Training and validation accuracy')\n",
        "plt.legend()"
      ],
      "execution_count": 0,
      "outputs": [
        {
          "output_type": "display_data",
          "data": {
            "image/png": "[encoded data removed]",
            "text/plain": [
              "<Figure size 432x288 with 1 Axes>"
            ]
          },
          "metadata": {
            "tags": [],
            "needs_background": "light"
          }
        },
        {
          "output_type": "execute_result",
          "data": {
            "text/plain": [
              "<matplotlib.legend.Legend at 0x28d807fb780>"
            ]
          },
          "metadata": {
            "tags": []
          },
          "execution_count": 146
        },
        {
          "output_type": "display_data",
          "data": {
            "image/png": "[encoded data removed]",
            "text/plain": [
              "<Figure size 432x288 with 1 Axes>"
            ]
          },
          "metadata": {
            "tags": [],
            "needs_background": "light"
          }
        }
      ]
    },
    {
      "metadata": {
        "id": "iuAQRntwTVW3",
        "colab_type": "code",
        "colab": {}
      },
      "cell_type": "code",
      "source": [
        ""
      ],
      "execution_count": 0,
      "outputs": []
    },
    {
      "metadata": {
        "id": "mnynvT83TVW5",
        "colab_type": "text"
      },
      "cell_type": "markdown",
      "source": [
        "## WORD2VEC EMBEDDINGS\n",
        "\n",
        "Developed  by  Tomas  Mikolov  at  Google  in  2013.  Word2vec (https://code.google.com/archive/p/word2vec)\n",
        "dimensions capture specific semantic properties"
      ]
    },
    {
      "metadata": {
        "id": "GFLE0r9VTVW5",
        "colab_type": "code",
        "colab": {}
      },
      "cell_type": "code",
      "source": [
        "gensim_model = KeyedVectors.load_word2vec_format('./../GoogleNews-vectors-negative300.bin', binary=True)"
      ],
      "execution_count": 0,
      "outputs": []
    },
    {
      "metadata": {
        "id": "dQWpcI7STVW7",
        "colab_type": "code",
        "colab": {},
        "outputId": "a136f351-152f-4f89-cd63-8006052692d5"
      },
      "cell_type": "code",
      "source": [
        "print('hello =', gensim_model['hello'])"
      ],
      "execution_count": 0,
      "outputs": [
        {
          "output_type": "stream",
          "text": [
            "hello = [-0.05419922  0.01708984 -0.00527954  0.33203125 -0.25       -0.01397705\n",
            " -0.15039062 -0.265625    0.01647949  0.3828125  -0.03295898 -0.09716797\n",
            " -0.16308594 -0.04443359  0.00946045  0.18457031  0.03637695  0.16601562\n",
            "  0.36328125 -0.25585938  0.375       0.171875    0.21386719 -0.19921875\n",
            "  0.13085938 -0.07275391 -0.02819824  0.11621094  0.15332031  0.09082031\n",
            "  0.06787109 -0.0300293  -0.16894531 -0.20800781 -0.03710938 -0.22753906\n",
            "  0.26367188  0.012146    0.18359375  0.31054688 -0.10791016 -0.19140625\n",
            "  0.21582031  0.13183594 -0.03515625  0.18554688 -0.30859375  0.04785156\n",
            " -0.10986328  0.14355469 -0.43554688 -0.0378418   0.10839844  0.140625\n",
            " -0.10595703  0.26171875 -0.17089844  0.39453125  0.12597656 -0.27734375\n",
            " -0.28125     0.14746094 -0.20996094  0.02355957  0.18457031  0.00445557\n",
            " -0.27929688 -0.03637695 -0.29296875  0.19628906  0.20703125  0.2890625\n",
            " -0.20507812  0.06787109 -0.43164062 -0.10986328 -0.2578125  -0.02331543\n",
            "  0.11328125  0.23144531 -0.04418945  0.10839844 -0.2890625  -0.09521484\n",
            " -0.10351562 -0.0324707   0.07763672 -0.13378906  0.22949219  0.06298828\n",
            "  0.08349609  0.02929688 -0.11474609  0.00534058 -0.12988281  0.02514648\n",
            "  0.08789062  0.24511719 -0.11474609 -0.296875   -0.59375    -0.29492188\n",
            " -0.13378906  0.27734375 -0.04174805  0.11621094  0.28320312  0.00241089\n",
            "  0.13867188 -0.00683594 -0.30078125  0.16210938  0.01171875 -0.13867188\n",
            "  0.48828125  0.02880859  0.02416992  0.04736328  0.05859375 -0.23828125\n",
            "  0.02758789  0.05981445 -0.03857422  0.06933594  0.14941406 -0.10888672\n",
            " -0.07324219  0.08789062  0.27148438  0.06591797 -0.37890625 -0.26171875\n",
            " -0.13183594  0.09570312 -0.3125      0.10205078  0.03063965  0.23632812\n",
            "  0.00582886  0.27734375  0.20507812 -0.17871094 -0.31445312 -0.01586914\n",
            "  0.13964844  0.13574219  0.0390625  -0.29296875  0.234375   -0.33984375\n",
            " -0.11816406  0.10644531 -0.18457031 -0.02099609  0.02563477  0.25390625\n",
            "  0.07275391  0.13574219 -0.00138092 -0.2578125  -0.2890625   0.10107422\n",
            "  0.19238281 -0.04882812  0.27929688 -0.3359375  -0.07373047  0.01879883\n",
            " -0.10986328 -0.04614258  0.15722656  0.06689453 -0.03417969  0.16308594\n",
            "  0.08642578  0.44726562  0.02026367 -0.01977539  0.07958984  0.17773438\n",
            " -0.04370117 -0.00952148  0.16503906  0.17285156  0.23144531 -0.04272461\n",
            "  0.02355957  0.18359375 -0.41601562 -0.01745605  0.16796875  0.04736328\n",
            "  0.14257812  0.08496094  0.33984375  0.1484375  -0.34375    -0.14160156\n",
            " -0.06835938 -0.14648438 -0.02844238  0.07421875 -0.07666016  0.12695312\n",
            "  0.05859375 -0.07568359 -0.03344727  0.23632812 -0.16308594  0.16503906\n",
            "  0.1484375  -0.2421875  -0.3515625  -0.30664062  0.00491333  0.17675781\n",
            "  0.46289062  0.14257812 -0.25       -0.25976562  0.04370117  0.34960938\n",
            "  0.05957031  0.07617188 -0.02868652 -0.09667969 -0.01281738  0.05859375\n",
            " -0.22949219 -0.1953125  -0.12207031  0.20117188 -0.42382812  0.06005859\n",
            "  0.50390625  0.20898438  0.11230469 -0.06054688  0.33203125  0.07421875\n",
            " -0.05786133  0.11083984 -0.06494141  0.05639648  0.01757812  0.08398438\n",
            "  0.13769531  0.2578125   0.16796875 -0.16894531  0.01794434  0.16015625\n",
            "  0.26171875  0.31640625 -0.24804688  0.05371094 -0.0859375   0.17089844\n",
            " -0.39453125 -0.00156403 -0.07324219 -0.04614258 -0.16210938 -0.15722656\n",
            "  0.21289062 -0.15820312  0.04394531  0.28515625  0.01196289 -0.26953125\n",
            " -0.04370117  0.37109375  0.04663086 -0.19726562  0.3046875  -0.36523438\n",
            " -0.23632812  0.08056641 -0.04248047 -0.14648438 -0.06225586 -0.0534668\n",
            " -0.05664062  0.18945312  0.37109375 -0.22070312  0.04638672  0.02612305\n",
            " -0.11474609  0.265625   -0.02453613  0.11083984 -0.02514648 -0.12060547\n",
            "  0.05297852  0.07128906  0.00063705 -0.36523438 -0.13769531 -0.12890625]\n"
          ],
          "name": "stdout"
        }
      ]
    },
    {
      "metadata": {
        "id": "DYQeYUZrTVW-",
        "colab_type": "code",
        "colab": {}
      },
      "cell_type": "code",
      "source": [
        "# gensim_model.save_word2vec_format('./data/GoogleNews-vectors-negative300.txt', binary=False)"
      ],
      "execution_count": 0,
      "outputs": []
    },
    {
      "metadata": {
        "id": "JwGyn88oTVXG",
        "colab_type": "code",
        "colab": {},
        "outputId": "4b6c2391-01b2-41f9-85b0-710ea20f7d39"
      },
      "cell_type": "code",
      "source": [
        "type(gensim_model['hello'])"
      ],
      "execution_count": 0,
      "outputs": [
        {
          "output_type": "execute_result",
          "data": {
            "text/plain": [
              "numpy.ndarray"
            ]
          },
          "metadata": {
            "tags": []
          },
          "execution_count": 125
        }
      ]
    },
    {
      "metadata": {
        "id": "w9i5csAfTVXL",
        "colab_type": "code",
        "colab": {},
        "outputId": "ce9e766b-7773-46ff-cdbd-60a3f5d4c263"
      },
      "cell_type": "code",
      "source": [
        "gensim_model['hello'].shape"
      ],
      "execution_count": 0,
      "outputs": [
        {
          "output_type": "execute_result",
          "data": {
            "text/plain": [
              "(300,)"
            ]
          },
          "metadata": {
            "tags": []
          },
          "execution_count": 126
        }
      ]
    },
    {
      "metadata": {
        "id": "qvtawqoeTVXR",
        "colab_type": "code",
        "colab": {},
        "outputId": "d2d68b08-70f7-47b2-919a-02be77d2538a"
      },
      "cell_type": "code",
      "source": [
        "gensim_model[\"0\"].shape"
      ],
      "execution_count": 0,
      "outputs": [
        {
          "output_type": "execute_result",
          "data": {
            "text/plain": [
              "(300,)"
            ]
          },
          "metadata": {
            "tags": []
          },
          "execution_count": 127
        }
      ]
    },
    {
      "metadata": {
        "id": "Psoy24aiTVXd",
        "colab_type": "code",
        "colab": {},
        "outputId": "a8ecd8a7-8df4-4c73-efa5-f944780a3d8a"
      },
      "cell_type": "code",
      "source": [
        "type(gensim_model['0'])"
      ],
      "execution_count": 0,
      "outputs": [
        {
          "output_type": "execute_result",
          "data": {
            "text/plain": [
              "numpy.ndarray"
            ]
          },
          "metadata": {
            "tags": []
          },
          "execution_count": 128
        }
      ]
    },
    {
      "metadata": {
        "id": "uF-Wsk15TVXj",
        "colab_type": "code",
        "colab": {},
        "outputId": "5e25c43b-a97a-4b00-9433-6357e101b4b2"
      },
      "cell_type": "code",
      "source": [
        "# 3000000 words\n",
        "len(gensim_model.vocab)"
      ],
      "execution_count": 0,
      "outputs": [
        {
          "output_type": "execute_result",
          "data": {
            "text/plain": [
              "3000000"
            ]
          },
          "metadata": {
            "tags": []
          },
          "execution_count": 129
        }
      ]
    },
    {
      "metadata": {
        "id": "jwM3gaGRTVXl",
        "colab_type": "code",
        "colab": {}
      },
      "cell_type": "code",
      "source": [
        "embedding_dim = 300\n",
        "\n",
        "# Cuts off reviews after 100 words\n",
        "maxlen = 100\n",
        "\n",
        "# Considers only the top \n",
        "# 10,000 words in the dataset\n",
        "max_words = 10000\n",
        "\n",
        "embedding_matrix = np.zeros((max_words, embedding_dim))\n",
        "\n",
        "for word, i in word_index.items():\n",
        "    if i < max_words:\n",
        "#         ipdb.set_trace()\n",
        "        if word not in gensim_model.vocab:\n",
        "            pass;\n",
        "        else :\n",
        "            embedding_vector = gensim_model[word]\n",
        "        # cheking that th eword exist in the embedding dictionary\n",
        "        if embedding_vector is not None: \n",
        "            embedding_matrix[i] = embedding_vector"
      ],
      "execution_count": 0,
      "outputs": []
    },
    {
      "metadata": {
        "id": "9jnU0aCSTVXo",
        "colab_type": "code",
        "colab": {},
        "outputId": "512dcbbf-1baa-4bdc-d642-d2f223979800"
      },
      "cell_type": "code",
      "source": [
        "embedding_matrix[-1]"
      ],
      "execution_count": 0,
      "outputs": [
        {
          "output_type": "execute_result",
          "data": {
            "text/plain": [
              "array([ 0.08642578,  0.14746094,  0.01452637,  0.3046875 , -0.12597656,\n",
              "       -0.10058594,  0.03491211, -0.31054688,  0.28515625, -0.08496094,\n",
              "       -0.04711914, -0.07617188, -0.22265625, -0.00549316, -0.38476562,\n",
              "       -0.04394531, -0.31640625, -0.00579834, -0.00379944, -0.20019531,\n",
              "       -0.05981445,  0.58203125,  0.15429688, -0.08447266, -0.17285156,\n",
              "       -0.01757812, -0.11425781,  0.11962891,  0.24023438, -0.1953125 ,\n",
              "        0.06494141,  0.14355469, -0.10986328,  0.04248047,  0.48046875,\n",
              "        0.09179688,  0.3046875 ,  0.29296875,  0.20507812, -0.26367188,\n",
              "       -0.23730469,  0.02746582, -0.3515625 , -0.00424194,  0.31054688,\n",
              "       -0.23144531,  0.00309753, -0.01672363,  0.3203125 ,  0.33984375,\n",
              "       -0.25390625, -0.03491211,  0.30273438, -0.30664062,  0.16601562,\n",
              "       -0.0559082 ,  0.11181641, -0.19921875,  0.16503906, -0.15039062,\n",
              "       -0.02893066,  0.0324707 , -0.3125    , -0.00276184, -0.15917969,\n",
              "       -0.06933594, -0.04956055,  0.23339844,  0.03613281,  0.38867188,\n",
              "       -0.03369141, -0.00543213, -0.10058594, -0.58984375, -0.06884766,\n",
              "        0.01782227,  0.54296875,  0.15429688,  0.23046875,  0.09179688,\n",
              "        0.43945312, -0.48632812, -0.35351562, -0.10205078, -0.08984375,\n",
              "       -0.04882812,  0.08886719, -0.20996094,  0.19921875,  0.15136719,\n",
              "       -0.1171875 , -0.18652344, -0.19433594, -0.08251953,  0.20117188,\n",
              "        0.24902344, -0.06445312,  0.1171875 ,  0.31835938,  0.25390625,\n",
              "       -0.10742188,  0.07324219,  0.21386719,  0.15234375,  0.08935547,\n",
              "       -0.13867188,  0.30273438,  0.00540161, -0.15527344, -0.02270508,\n",
              "       -0.37695312, -0.11767578,  0.00085831,  0.00195312,  0.12011719,\n",
              "        0.16699219, -0.00982666,  0.12304688, -0.01452637, -0.22070312,\n",
              "        0.11132812, -0.390625  , -0.24023438,  0.24609375,  0.11865234,\n",
              "        0.203125  , -0.16601562, -0.0072937 ,  0.31640625,  0.0246582 ,\n",
              "       -0.06738281,  0.04052734, -0.17382812,  0.03320312, -0.05102539,\n",
              "        0.27148438, -0.15332031, -0.03515625, -0.15039062, -0.15722656,\n",
              "       -0.16113281,  0.16894531,  0.11621094, -0.46875   ,  0.18847656,\n",
              "       -0.04882812,  0.18847656, -0.00567627, -0.19824219, -0.18457031,\n",
              "       -0.25390625,  0.34375   ,  0.01574707, -0.17578125,  0.05712891,\n",
              "       -0.05639648, -0.2578125 ,  0.09375   ,  0.1015625 ,  0.19628906,\n",
              "       -0.17480469,  0.07128906,  0.296875  , -0.0456543 ,  0.18261719,\n",
              "       -0.05957031,  0.13183594, -0.06152344, -0.30078125,  0.03540039,\n",
              "        0.03100586, -0.04052734,  0.00726318,  0.16796875, -0.16113281,\n",
              "        0.09716797,  0.37304688, -0.01013184,  0.22070312, -0.5       ,\n",
              "       -0.3125    , -0.16601562, -0.09326172, -0.03881836, -0.21386719,\n",
              "       -0.15039062, -0.08349609,  0.27734375,  0.07519531,  0.03393555,\n",
              "        0.03735352,  0.11132812, -0.43945312,  0.03564453, -0.06445312,\n",
              "       -0.02648926, -0.12255859,  0.10498047, -0.14746094, -0.12695312,\n",
              "        0.15234375, -0.078125  , -0.09863281,  0.01037598,  0.18652344,\n",
              "        0.09960938,  0.03759766, -0.20507812,  0.06347656,  0.0100708 ,\n",
              "       -0.30664062, -0.11474609, -0.22558594,  0.10986328,  0.359375  ,\n",
              "        0.33789062,  0.02832031, -0.01220703, -0.25      , -0.06396484,\n",
              "       -0.09863281, -0.20996094,  0.09082031,  0.41210938, -0.05371094,\n",
              "        0.00811768, -0.33789062,  0.04370117, -0.10888672, -0.07324219,\n",
              "       -0.20507812,  0.03125   ,  0.19628906,  0.328125  , -0.16113281,\n",
              "       -0.10058594,  0.1953125 , -0.01660156,  0.58984375, -0.16601562,\n",
              "       -0.10058594, -0.29101562,  0.06347656, -0.359375  ,  0.30859375,\n",
              "        0.00279236,  0.04321289,  0.13769531,  0.05908203, -0.00897217,\n",
              "       -0.09814453,  0.28710938, -0.06884766, -0.26171875,  0.04492188,\n",
              "       -0.09179688, -0.21386719,  0.38085938, -0.0703125 , -0.08935547,\n",
              "        0.21484375,  0.17382812,  0.11865234, -0.18554688,  0.16796875,\n",
              "       -0.0378418 , -0.02990723,  0.10449219,  0.07226562,  0.05151367,\n",
              "       -0.06738281,  0.25390625,  0.10986328,  0.03149414, -0.05493164,\n",
              "       -0.41601562, -0.36328125, -0.06640625, -0.11816406,  0.18164062,\n",
              "       -0.36132812,  0.23535156,  0.11035156,  0.3046875 , -0.06054688,\n",
              "        0.11865234, -0.08447266,  0.03173828, -0.09716797, -0.53125   ,\n",
              "       -0.08544922, -0.06445312,  0.00921631, -0.140625  ,  0.25585938,\n",
              "       -0.05053711,  0.46289062, -0.2578125 , -0.265625  , -0.25      ])"
            ]
          },
          "metadata": {
            "tags": []
          },
          "execution_count": 131
        }
      ]
    },
    {
      "metadata": {
        "id": "rV45MCkPTVXx",
        "colab_type": "code",
        "colab": {},
        "outputId": "dbd1166d-82c2-4281-815c-3cb86c9fd892"
      },
      "cell_type": "code",
      "source": [
        "print(f\"Max_words = {max_words}, \\nEmbedding_dim = {embedding_dim} and \\nInput_length = {maxlen}\")"
      ],
      "execution_count": 0,
      "outputs": [
        {
          "output_type": "stream",
          "text": [
            "Max_words = 10000, \n",
            "Embedding_dim = 300 and \n",
            "Input_length = 100\n"
          ],
          "name": "stdout"
        }
      ]
    },
    {
      "metadata": {
        "id": "7ezZLz2jTVXz",
        "colab_type": "code",
        "colab": {},
        "outputId": "8fcfee1f-b048-4d3b-f1df-3b0b49481b5f"
      },
      "cell_type": "code",
      "source": [
        "from keras.models import Sequential\n",
        "from keras.layers import Embedding, Flatten, Dense\n",
        "\n",
        "model = Sequential()\n",
        "model.add(Embedding(max_words, embedding_dim, input_length=maxlen))\n",
        "model.add(Flatten())\n",
        "model.add(Dense(32, activation='relu'))\n",
        "model.add(Dense(1, activation='sigmoid'))\n",
        "model.summary()"
      ],
      "execution_count": 0,
      "outputs": [
        {
          "output_type": "stream",
          "text": [
            "_________________________________________________________________\n",
            "Layer (type)                 Output Shape              Param #   \n",
            "=================================================================\n",
            "embedding_6 (Embedding)      (None, 100, 300)          3000000   \n",
            "_________________________________________________________________\n",
            "flatten_6 (Flatten)          (None, 30000)             0         \n",
            "_________________________________________________________________\n",
            "dense_10 (Dense)             (None, 32)                960032    \n",
            "_________________________________________________________________\n",
            "dense_11 (Dense)             (None, 1)                 33        \n",
            "=================================================================\n",
            "Total params: 3,960,065\n",
            "Trainable params: 3,960,065\n",
            "Non-trainable params: 0\n",
            "_________________________________________________________________\n"
          ],
          "name": "stdout"
        }
      ]
    },
    {
      "metadata": {
        "id": "fvFB_3PgTVX1",
        "colab_type": "code",
        "colab": {}
      },
      "cell_type": "code",
      "source": [
        "model.layers[0].set_weights([embedding_matrix])\n",
        "#  freeze the Embedding layer\n",
        "# the pretrained parts shouldn’t\n",
        "# be updated during training, to avoid forgetting what they already know\n",
        "model.layers[0].trainable = False"
      ],
      "execution_count": 0,
      "outputs": []
    },
    {
      "metadata": {
        "id": "Vb75SA8rTVX4",
        "colab_type": "code",
        "colab": {},
        "outputId": "0b132a9b-0e53-41cf-badd-29d70b6a0aaa"
      },
      "cell_type": "code",
      "source": [
        "model.compile(optimizer='rmsprop',\n",
        "              loss='binary_crossentropy',\n",
        "              metrics=['acc'])\n",
        "history = model.fit(x_train, y_train,\n",
        "                    epochs=10,\n",
        "                    batch_size=32,\n",
        "                    validation_data=(x_val, y_val))\n",
        "\n",
        "model.save_weights('pre_trained_word2vec_model.h5')"
      ],
      "execution_count": 0,
      "outputs": [
        {
          "output_type": "stream",
          "text": [
            "Train on 200 samples, validate on 10000 samples\n",
            "Epoch 1/10\n",
            "200/200 [==============================] - 3s 14ms/step - loss: 1.1617 - acc: 0.4800 - val_loss: 0.6939 - val_acc: 0.5022\n",
            "Epoch 2/10\n",
            "200/200 [==============================] - 2s 11ms/step - loss: 0.5824 - acc: 0.6500 - val_loss: 1.0086 - val_acc: 0.5022\n",
            "Epoch 3/10\n",
            "200/200 [==============================] - 2s 11ms/step - loss: 0.4327 - acc: 0.8500 - val_loss: 0.8622 - val_acc: 0.5022\n",
            "Epoch 4/10\n",
            "200/200 [==============================] - 2s 11ms/step - loss: 0.2525 - acc: 0.9750 - val_loss: 0.7836 - val_acc: 0.4971\n",
            "Epoch 5/10\n",
            "200/200 [==============================] - 2s 11ms/step - loss: 0.1372 - acc: 1.0000 - val_loss: 1.0069 - val_acc: 0.5007\n",
            "Epoch 6/10\n",
            "200/200 [==============================] - 2s 12ms/step - loss: 0.0788 - acc: 1.0000 - val_loss: 0.7669 - val_acc: 0.4963\n",
            "Epoch 7/10\n",
            "200/200 [==============================] - 2s 11ms/step - loss: 0.0417 - acc: 1.0000 - val_loss: 0.7719 - val_acc: 0.5045\n",
            "Epoch 8/10\n",
            "200/200 [==============================] - 2s 11ms/step - loss: 0.0235 - acc: 1.0000 - val_loss: 0.7932 - val_acc: 0.4998\n",
            "Epoch 9/10\n",
            "200/200 [==============================] - 2s 10ms/step - loss: 0.0142 - acc: 1.0000 - val_loss: 0.7969 - val_acc: 0.5001\n",
            "Epoch 10/10\n",
            "200/200 [==============================] - 2s 11ms/step - loss: 0.0091 - acc: 1.0000 - val_loss: 0.8254 - val_acc: 0.5036\n"
          ],
          "name": "stdout"
        }
      ]
    },
    {
      "metadata": {
        "id": "i4jyDmT9TVX6",
        "colab_type": "code",
        "colab": {},
        "outputId": "ade97e2a-a966-4457-c3d9-ec2f5e868b1c"
      },
      "cell_type": "code",
      "source": [
        "acc = history.history['acc']\n",
        "val_acc = history.history['val_acc']\n",
        "loss = history.history['loss']\n",
        "val_loss = history.history['val_loss']\n",
        "\n",
        "epochs = range(1, len(acc) + 1)\n",
        "\n",
        "plt.figure()\n",
        "# plt.figure(figsize=(9,8))\n",
        "plt.plot(epochs, loss, 'bo', label='Training loss')\n",
        "plt.plot(epochs, val_loss, 'b', label='Validation loss')\n",
        "plt.title('Training and validation loss')\n",
        "plt.legend()\n",
        "plt.show()\n",
        "\n",
        "\n",
        "plt.figure()\n",
        "plt.plot(epochs, acc, 'bo', label='Training acc')\n",
        "plt.plot(epochs, val_acc, 'b', label='Validation acc')\n",
        "plt.title('Training and validation accuracy')\n",
        "plt.legend()"
      ],
      "execution_count": 0,
      "outputs": [
        {
          "output_type": "display_data",
          "data": {
            "image/png": "[encoded data removed]",
            "text/plain": [
              "<Figure size 432x288 with 1 Axes>"
            ]
          },
          "metadata": {
            "tags": [],
            "needs_background": "light"
          }
        },
        {
          "output_type": "execute_result",
          "data": {
            "text/plain": [
              "<matplotlib.legend.Legend at 0x28d82a9aeb8>"
            ]
          },
          "metadata": {
            "tags": []
          },
          "execution_count": 150
        },
        {
          "output_type": "display_data",
          "data": {
            "image/png": "[encoded data removed]",
            "text/plain": [
              "<Figure size 432x288 with 1 Axes>"
            ]
          },
          "metadata": {
            "tags": [],
            "needs_background": "light"
          }
        }
      ]
    },
    {
      "metadata": {
        "id": "uEtFyiftTVX9",
        "colab_type": "code",
        "colab": {}
      },
      "cell_type": "code",
      "source": [
        ""
      ],
      "execution_count": 0,
      "outputs": []
    },
    {
      "metadata": {
        "id": "eBXhON2-XGeR",
        "colab_type": "code",
        "colab": {}
      },
      "cell_type": "code",
      "source": [
        ""
      ],
      "execution_count": 0,
      "outputs": []
    },
    {
      "metadata": {
        "id": "TvGHEaV9XFcm",
        "colab_type": "code",
        "colab": {}
      },
      "cell_type": "code",
      "source": [
        ""
      ],
      "execution_count": 0,
      "outputs": []
    },
    {
      "metadata": {
        "id": "FOe2q0mfXKBV",
        "colab_type": "code",
        "colab": {}
      },
      "cell_type": "code",
      "source": [
        ""
      ],
      "execution_count": 0,
      "outputs": []
    },
    {
      "metadata": {
        "id": "QwOnzL6ZXL21",
        "colab_type": "text"
      },
      "cell_type": "markdown",
      "source": [
        "# Fasttext"
      ]
    },
    {
      "metadata": {
        "id": "fpeVR5ZKXTES",
        "colab_type": "code",
        "colab": {}
      },
      "cell_type": "code",
      "source": [
        ""
      ],
      "execution_count": 0,
      "outputs": []
    },
    {
      "metadata": {
        "colab_type": "code",
        "id": "mvlZufWDXjBD",
        "colab": {}
      },
      "cell_type": "code",
      "source": [
        "link = \"https://drive.google.com/file/d/1Fjf840qZXMWTLIlCwGZP4WyxF4TjhGIo/view?usp=sharing\""
      ],
      "execution_count": 0,
      "outputs": []
    },
    {
      "metadata": {
        "colab_type": "code",
        "outputId": "34c7e255-d3b3-4764-b5b2-0318acf0b9d4",
        "id": "bvBjoJOBXjBH",
        "colab": {
          "base_uri": "https://localhost:8080/",
          "height": 34
        }
      },
      "cell_type": "code",
      "source": [
        "_, id_t = link.split('d/')\n",
        "\n",
        "id = id_t.split('/')[0]\n",
        "print (id) # Verify that you have everything after '='"
      ],
      "execution_count": 19,
      "outputs": [
        {
          "output_type": "stream",
          "text": [
            "1Fjf840qZXMWTLIlCwGZP4WyxF4TjhGIo\n"
          ],
          "name": "stdout"
        }
      ]
    },
    {
      "metadata": {
        "colab_type": "code",
        "id": "dSRhdL03XjBK",
        "colab": {}
      },
      "cell_type": "code",
      "source": [
        "# Install the PyDrive wrapper & import libraries.\n",
        "# This only needs to be done once per notebook.\n",
        "!pip install -U -q PyDrive\n",
        "from pydrive.auth import GoogleAuth\n",
        "from pydrive.drive import GoogleDrive\n",
        "from google.colab import auth\n",
        "from oauth2client.client import GoogleCredentials\n",
        "\n",
        "# Authenticate and create the PyDrive client.\n",
        "# This only needs to be done once per notebook.\n",
        "auth.authenticate_user()\n",
        "gauth = GoogleAuth()\n",
        "gauth.credentials = GoogleCredentials.get_application_default()\n",
        "drive = GoogleDrive(gauth)"
      ],
      "execution_count": 0,
      "outputs": []
    },
    {
      "metadata": {
        "colab_type": "code",
        "id": "RG_LF1x3XjBN",
        "colab": {}
      },
      "cell_type": "code",
      "source": [
        "file_id = id\n",
        "downloaded = drive.CreateFile({'id':file_id})\n",
        "downloaded.FetchMetadata(fetch_all=True)\n",
        "downloaded.GetContentFile(downloaded.metadata['title'])"
      ],
      "execution_count": 0,
      "outputs": []
    },
    {
      "metadata": {
        "colab_type": "code",
        "outputId": "a9aea1cc-f04f-4c7f-a779-fd5012f4ca86",
        "id": "UhPZ44lRXjBS",
        "colab": {
          "base_uri": "https://localhost:8080/",
          "height": 52
        }
      },
      "cell_type": "code",
      "source": [
        "!ls"
      ],
      "execution_count": 22,
      "outputs": [
        {
          "output_type": "stream",
          "text": [
            "aclImdb      adc.json  sample_data\n",
            "aclImdb.zip  __MACOSX  wiki-news-300d-1M.vec.zip\n"
          ],
          "name": "stdout"
        }
      ]
    },
    {
      "metadata": {
        "colab_type": "code",
        "id": "yAITkNKuXjBW",
        "colab": {
          "base_uri": "https://localhost:8080/",
          "height": 52
        },
        "outputId": "8d99049f-61dc-4657-f720-9a1519b5aeda"
      },
      "cell_type": "code",
      "source": [
        "!unzip wiki-news-300d-1M.vec.zip"
      ],
      "execution_count": 23,
      "outputs": [
        {
          "output_type": "stream",
          "text": [
            "Archive:  wiki-news-300d-1M.vec.zip\n",
            "  inflating: wiki-news-300d-1M.vec   \n"
          ],
          "name": "stdout"
        }
      ]
    },
    {
      "metadata": {
        "colab_type": "code",
        "outputId": "30e0390e-1683-42e2-9f0b-8cdb8c5eec1f",
        "id": "PvH2HgQ9XjBX",
        "colab": {
          "base_uri": "https://localhost:8080/",
          "height": 52
        }
      },
      "cell_type": "code",
      "source": [
        "!ls"
      ],
      "execution_count": 24,
      "outputs": [
        {
          "output_type": "stream",
          "text": [
            "aclImdb      adc.json  sample_data\t      wiki-news-300d-1M.vec.zip\n",
            "aclImdb.zip  __MACOSX  wiki-news-300d-1M.vec\n"
          ],
          "name": "stdout"
        }
      ]
    },
    {
      "metadata": {
        "id": "ZACSz5CyXWEL",
        "colab_type": "code",
        "colab": {}
      },
      "cell_type": "code",
      "source": [
        "gensim_model = KeyedVectors.load_word2vec_format('./wiki-news-300d-1M.vec')\n"
      ],
      "execution_count": 0,
      "outputs": []
    },
    {
      "metadata": {
        "id": "pe5LkYQYXVwz",
        "colab_type": "code",
        "colab": {
          "base_uri": "https://localhost:8080/",
          "height": 34
        },
        "outputId": "4896e188-8057-44c3-f3b8-546ec9be3c73"
      },
      "cell_type": "code",
      "source": [
        "gensim_model['hello'].shape"
      ],
      "execution_count": 30,
      "outputs": [
        {
          "output_type": "execute_result",
          "data": {
            "text/plain": [
              "(300,)"
            ]
          },
          "metadata": {
            "tags": []
          },
          "execution_count": 30
        }
      ]
    },
    {
      "metadata": {
        "id": "fEdzSUm1TVYA",
        "colab_type": "text"
      },
      "cell_type": "markdown",
      "source": [
        "## without pretrained word embeddings"
      ]
    },
    {
      "metadata": {
        "id": "ttRxfF-mTVYB",
        "colab_type": "code",
        "colab": {},
        "outputId": "1b6e58f6-25cd-451c-8972-075e9b87b8fa"
      },
      "cell_type": "code",
      "source": [
        "from keras.models import Sequential\n",
        "from keras.layers import Embedding, Flatten, Dense\n",
        "\n",
        "model = Sequential()\n",
        "model.add(Embedding(max_words, embedding_dim, input_length=maxlen))\n",
        "model.add(Flatten())\n",
        "model.add(Dense(32, activation='relu'))\n",
        "model.add(Dense(1, activation='sigmoid'))\n",
        "model.summary()\n",
        "\n",
        "model.compile(optimizer='rmsprop',\n",
        "              loss='binary_crossentropy',\n",
        "              metrics=['acc'])\n",
        "\n",
        "history = model.fit(x_train, y_train,\n",
        "                    epochs=10,\n",
        "                    batch_size=32,\n",
        "                    validation_data=(x_val, y_val))"
      ],
      "execution_count": 0,
      "outputs": [
        {
          "output_type": "stream",
          "text": [
            "_________________________________________________________________\n",
            "Layer (type)                 Output Shape              Param #   \n",
            "=================================================================\n",
            "embedding_7 (Embedding)      (None, 100, 300)          3000000   \n",
            "_________________________________________________________________\n",
            "flatten_7 (Flatten)          (None, 30000)             0         \n",
            "_________________________________________________________________\n",
            "dense_12 (Dense)             (None, 32)                960032    \n",
            "_________________________________________________________________\n",
            "dense_13 (Dense)             (None, 1)                 33        \n",
            "=================================================================\n",
            "Total params: 3,960,065\n",
            "Trainable params: 3,960,065\n",
            "Non-trainable params: 0\n",
            "_________________________________________________________________\n",
            "Train on 200 samples, validate on 10000 samples\n",
            "Epoch 1/10\n",
            "200/200 [==============================] - 5s 24ms/step - loss: 0.7007 - acc: 0.5050 - val_loss: 0.6969 - val_acc: 0.4998\n",
            "Epoch 2/10\n",
            "200/200 [==============================] - 3s 14ms/step - loss: 0.3045 - acc: 0.9950 - val_loss: 0.7266 - val_acc: 0.5009\n",
            "Epoch 3/10\n",
            "200/200 [==============================] - 3s 14ms/step - loss: 0.0828 - acc: 1.0000 - val_loss: 0.7343 - val_acc: 0.4962\n",
            "Epoch 4/10\n",
            "200/200 [==============================] - 3s 13ms/step - loss: 0.0271 - acc: 1.0000 - val_loss: 0.7400 - val_acc: 0.4939\n",
            "Epoch 5/10\n",
            "200/200 [==============================] - 3s 13ms/step - loss: 0.0128 - acc: 1.0000 - val_loss: 0.7516 - val_acc: 0.4968\n",
            "Epoch 6/10\n",
            "200/200 [==============================] - 3s 14ms/step - loss: 0.0070 - acc: 1.0000 - val_loss: 0.7649 - val_acc: 0.4990\n",
            "Epoch 7/10\n",
            "200/200 [==============================] - 3s 13ms/step - loss: 0.0040 - acc: 1.0000 - val_loss: 0.7683 - val_acc: 0.4966\n",
            "Epoch 8/10\n",
            "200/200 [==============================] - 3s 13ms/step - loss: 0.0024 - acc: 1.0000 - val_loss: 0.7827 - val_acc: 0.4973\n",
            "Epoch 9/10\n",
            "200/200 [==============================] - 3s 15ms/step - loss: 0.0015 - acc: 1.0000 - val_loss: 0.7917 - val_acc: 0.4977\n",
            "Epoch 10/10\n",
            "200/200 [==============================] - 3s 13ms/step - loss: 9.0661e-04 - acc: 1.0000 - val_loss: 0.7915 - val_acc: 0.4973\n"
          ],
          "name": "stdout"
        }
      ]
    },
    {
      "metadata": {
        "id": "aqX4Z9c7TVYE",
        "colab_type": "code",
        "colab": {},
        "outputId": "fc582375-c8d6-47c5-b084-8b68dc898fe7"
      },
      "cell_type": "code",
      "source": [
        "acc = history.history['acc']\n",
        "val_acc = history.history['val_acc']\n",
        "loss = history.history['loss']\n",
        "val_loss = history.history['val_loss']\n",
        "\n",
        "epochs = range(1, len(acc) + 1)\n",
        "\n",
        "plt.figure()\n",
        "# plt.figure(figsize=(9,8))\n",
        "plt.plot(epochs, loss, 'bo', label='Training loss')\n",
        "plt.plot(epochs, val_loss, 'b', label='Validation loss')\n",
        "plt.title('Training and validation loss')\n",
        "plt.legend()\n",
        "plt.show()\n",
        "\n",
        "\n",
        "plt.figure()\n",
        "plt.plot(epochs, acc, 'bo', label='Training acc')\n",
        "plt.plot(epochs, val_acc, 'b', label='Validation acc')\n",
        "plt.title('Training and validation accuracy')\n",
        "plt.legend()"
      ],
      "execution_count": 0,
      "outputs": [
        {
          "output_type": "display_data",
          "data": {
            "image/png": "[encoded data removed]",
            "text/plain": [
              "<Figure size 432x288 with 1 Axes>"
            ]
          },
          "metadata": {
            "tags": [],
            "needs_background": "light"
          }
        },
        {
          "output_type": "execute_result",
          "data": {
            "text/plain": [
              "<matplotlib.legend.Legend at 0x28d84881cf8>"
            ]
          },
          "metadata": {
            "tags": []
          },
          "execution_count": 152
        },
        {
          "output_type": "display_data",
          "data": {
            "image/png": "[encoded data removed]",
            "text/plain": [
              "<Figure size 432x288 with 1 Axes>"
            ]
          },
          "metadata": {
            "tags": [],
            "needs_background": "light"
          }
        }
      ]
    },
    {
      "metadata": {
        "id": "slyqKJ0sTVYH",
        "colab_type": "text"
      },
      "cell_type": "markdown",
      "source": [
        "So far Word2Vec look to be better than others for few training example, but I'm planning to continue studying as I increase the training sample size and will try also the 1D conv layer as well as recurent network"
      ]
    },
    {
      "metadata": {
        "id": "JVtHYdSoTVYH",
        "colab_type": "text"
      },
      "cell_type": "markdown",
      "source": [
        " So in this case, pretrained word embeddings\n",
        "outperform jointly learned embeddings."
      ]
    },
    {
      "metadata": {
        "id": "ggZA9YOUTVYK",
        "colab_type": "code",
        "colab": {}
      },
      "cell_type": "code",
      "source": [
        "imdb_dir = './data/aclImdb'\n",
        "\n",
        "train_dir = os.path.join(imdb_dir, 'test')\n",
        "labels = []\n",
        "texts = []\n",
        "\n",
        "for label_type in ['neg', 'pos']:\n",
        "    dir_name = os.path.join(train_dir, label_type)\n",
        "    for fname in os.listdir(dir_name):\n",
        "        if fname[-4:] == '.txt':\n",
        "            f = open(os.path.join(dir_name, fname), encoding=\"utf8\")\n",
        "            texts.append(f.read())\n",
        "            f.close()\n",
        "            if label_type == 'neg':\n",
        "                labels.append(0)\n",
        "            else:\n",
        "                labels.append(1)\n",
        "                \n",
        "sequences = tokenizer.texts_to_sequences(texts)\n",
        "\n",
        "x_test = pad_sequences(sequences, maxlen=maxlen)\n",
        "y_test = np.asarray(labels)"
      ],
      "execution_count": 0,
      "outputs": []
    },
    {
      "metadata": {
        "id": "4WCAQ0TuTVYL",
        "colab_type": "code",
        "colab": {},
        "outputId": "0f214d69-54d2-49d8-f318-688a0c923f42"
      },
      "cell_type": "code",
      "source": [
        "model.load_weights('pre_trained_glove_model.h5')\n",
        "result = model.evaluate(x_test, y_test)\n",
        "for i in range(len(model.metrics_names)):\n",
        "     print(\"Metric \",model.metrics_names[i],\":\", str(round(result[i],2)))"
      ],
      "execution_count": 0,
      "outputs": [
        {
          "output_type": "stream",
          "text": [
            "25000/25000 [==============================] - 4s 159us/step\n",
            "Metric  loss : 0.7\n",
            "Metric  acc : 0.51\n"
          ],
          "name": "stdout"
        }
      ]
    },
    {
      "metadata": {
        "id": "l_J2Eil3TVYO",
        "colab_type": "code",
        "colab": {}
      },
      "cell_type": "code",
      "source": [
        ""
      ],
      "execution_count": 0,
      "outputs": []
    }
  ]
}