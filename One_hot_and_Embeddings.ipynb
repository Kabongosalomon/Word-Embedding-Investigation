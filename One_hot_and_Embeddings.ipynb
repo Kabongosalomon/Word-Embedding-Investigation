{
  "nbformat": 4,
  "nbformat_minor": 0,
  "metadata": {
    "colab": {
      "name": "One_hot_and_Embeddings.ipynb",
      "version": "0.3.2",
      "provenance": [],
      "include_colab_link": true
    },
    "kernelspec": {
      "name": "python3",
      "display_name": "Python 3"
    },
    "accelerator": "GPU"
  },
  "cells": [
    {
      "cell_type": "markdown",
      "metadata": {
        "id": "view-in-github",
        "colab_type": "text"
      },
      "source": [
        "<a href=\"https://colab.research.google.com/github/Kabongosalomon/Word-Embedding-Investigation/blob/Dev-Update/One_hot_and_Embeddings.ipynb\" target=\"_parent\"><img src=\"https://colab.research.google.com/assets/colab-badge.svg\" alt=\"Open In Colab\"/></a>"
      ]
    },
    {
      "metadata": {
        "id": "-zPdBDab5P3I",
        "colab_type": "text"
      },
      "cell_type": "markdown",
      "source": [
        "<img src=\"https://raw.githubusercontent.com/Kabongosalomon/Data-Science-With-Jeff-Sander/master/aims-za-logo.jpg\" width=\"100\" alt=\"cognitiveclass.ai logo\" />\n",
        "\n",
        "\n",
        "\n"
      ]
    },
    {
      "metadata": {
        "id": "FGvhB20yetpY",
        "colab_type": "code",
        "outputId": "c57e19ea-4f70-42ee-c6c8-9191a1a5c662",
        "colab": {
          "base_uri": "https://localhost:8080/",
          "height": 52
        }
      },
      "cell_type": "code",
      "source": [
        "# Import packages\n",
        "import tensorflow as tf\n",
        "\n",
        "\n",
        "from keras.datasets import imdb\n",
        "from keras import preprocessing\n",
        "from keras.models import Sequential\n",
        "from keras.layers import Flatten, Dense\n",
        "from keras.layers import Embedding\n",
        "from keras.preprocessing.text import Tokenizer\n",
        "from keras.preprocessing.sequence import pad_sequences\n",
        "from keras import losses\n",
        "from keras import metrics\n",
        "from keras import optimizers\n",
        "\n",
        "import numpy as np\n",
        "import matplotlib.pyplot as plt\n",
        "\n",
        "import os\n",
        "\n",
        "import numpy as np\n",
        "\n",
        "import string\n",
        "\n",
        "!pip install ipdb -q\n",
        "import ipdb # deb\n",
        "\n",
        "\n",
        "from gensim.models.keyedvectors import KeyedVectors"
      ],
      "execution_count": 1,
      "outputs": [
        {
          "output_type": "stream",
          "text": [
            "Using TensorFlow backend.\n",
            "paramiko missing, opening SSH/SCP/SFTP paths will be disabled.  `pip install paramiko` to suppress\n"
          ],
          "name": "stderr"
        }
      ]
    },
    {
      "metadata": {
        "id": "2rxm3VASTVS9",
        "colab_type": "text"
      },
      "cell_type": "markdown",
      "source": [
        "# One-hot encoding of words and characters"
      ]
    },
    {
      "metadata": {
        "id": "c5SX7nQ7TVTB",
        "colab_type": "text"
      },
      "cell_type": "markdown",
      "source": [
        "One-hot encoding is the most common, most basic way to turn a token into a vector.\n",
        "\n",
        "It consists of associating a unique integer index with every word\n",
        "and then turning this integer index i into a binary vector of size N (the size of the\n",
        "vocabulary); the vector is all zeros except for the i th entry, which is 1."
      ]
    },
    {
      "metadata": {
        "id": "DmJXh1ETWQhW",
        "colab_type": "text"
      },
      "cell_type": "markdown",
      "source": [
        "## Manually"
      ]
    },
    {
      "metadata": {
        "id": "-viI3xznTVTC",
        "colab_type": "text"
      },
      "cell_type": "markdown",
      "source": [
        "### One-hot Word-level"
      ]
    },
    {
      "metadata": {
        "id": "gDblQMfUTVTI",
        "colab_type": "code",
        "colab": {}
      },
      "cell_type": "code",
      "source": [
        "# Initial data: one entry per sample (in \n",
        "# this example, a sample is a sentence, \n",
        "# but it could be an entire document)\n",
        "samples = ['The cat sat on the mat.', 'The dog ate my homework.']\n",
        "\n",
        "# Builds an index of all tokens in the data\n",
        "token_index = {}\n",
        "\n",
        "for sample in samples:\n",
        "    for word in sample.split(): # Tokenizes the samples via the split\n",
        "        if word not in token_index:\n",
        "            token_index[word] = len(token_index) + 1 # Assigns a unique index to each unique word\n",
        "\n",
        "# Vectorizes the samples. You’ll only\n",
        "# consider the first max_length\n",
        "# words in each sample.            \n",
        "max_length = 10  # window\n",
        "\n",
        "results = np.zeros(shape=(len(samples),\n",
        "                          max_length,\n",
        "                          max(token_index.values()) + 1))\n",
        "\n",
        "for i, sample in enumerate(samples):\n",
        "    for j, word in list(enumerate(sample.split()))[:max_length]:\n",
        "        index = token_index.get(word) #; ipdb.set_trace()\n",
        "        results[i, j, index] = 1."
      ],
      "execution_count": 0,
      "outputs": []
    },
    {
      "metadata": {
        "id": "vR3Qlt2LTVTL",
        "colab_type": "code",
        "outputId": "319eb836-ee0c-4642-c146-54099de5c4bf",
        "colab": {}
      },
      "cell_type": "code",
      "source": [
        "token_index"
      ],
      "execution_count": 0,
      "outputs": [
        {
          "output_type": "execute_result",
          "data": {
            "text/plain": [
              "{'The': 1,\n",
              " 'cat': 2,\n",
              " 'sat': 3,\n",
              " 'on': 4,\n",
              " 'the': 5,\n",
              " 'mat.': 6,\n",
              " 'dog': 7,\n",
              " 'ate': 8,\n",
              " 'my': 9,\n",
              " 'homework.': 10}"
            ]
          },
          "metadata": {
            "tags": []
          },
          "execution_count": 3
        }
      ]
    },
    {
      "metadata": {
        "id": "gQij0TrlTVTP",
        "colab_type": "code",
        "outputId": "f82061ce-7751-4b73-e5af-a62ed19b2976",
        "colab": {}
      },
      "cell_type": "code",
      "source": [
        "results"
      ],
      "execution_count": 0,
      "outputs": [
        {
          "output_type": "execute_result",
          "data": {
            "text/plain": [
              "array([[[0., 1., 0., 0., 0., 0., 0., 0., 0., 0., 0.],\n",
              "        [0., 0., 1., 0., 0., 0., 0., 0., 0., 0., 0.],\n",
              "        [0., 0., 0., 1., 0., 0., 0., 0., 0., 0., 0.],\n",
              "        [0., 0., 0., 0., 1., 0., 0., 0., 0., 0., 0.],\n",
              "        [0., 0., 0., 0., 0., 1., 0., 0., 0., 0., 0.],\n",
              "        [0., 0., 0., 0., 0., 0., 1., 0., 0., 0., 0.],\n",
              "        [0., 0., 0., 0., 0., 0., 0., 0., 0., 0., 0.],\n",
              "        [0., 0., 0., 0., 0., 0., 0., 0., 0., 0., 0.],\n",
              "        [0., 0., 0., 0., 0., 0., 0., 0., 0., 0., 0.],\n",
              "        [0., 0., 0., 0., 0., 0., 0., 0., 0., 0., 0.]],\n",
              "\n",
              "       [[0., 1., 0., 0., 0., 0., 0., 0., 0., 0., 0.],\n",
              "        [0., 0., 0., 0., 0., 0., 0., 1., 0., 0., 0.],\n",
              "        [0., 0., 0., 0., 0., 0., 0., 0., 1., 0., 0.],\n",
              "        [0., 0., 0., 0., 0., 0., 0., 0., 0., 1., 0.],\n",
              "        [0., 0., 0., 0., 0., 0., 0., 0., 0., 0., 1.],\n",
              "        [0., 0., 0., 0., 0., 0., 0., 0., 0., 0., 0.],\n",
              "        [0., 0., 0., 0., 0., 0., 0., 0., 0., 0., 0.],\n",
              "        [0., 0., 0., 0., 0., 0., 0., 0., 0., 0., 0.],\n",
              "        [0., 0., 0., 0., 0., 0., 0., 0., 0., 0., 0.],\n",
              "        [0., 0., 0., 0., 0., 0., 0., 0., 0., 0., 0.]]])"
            ]
          },
          "metadata": {
            "tags": []
          },
          "execution_count": 4
        }
      ]
    },
    {
      "metadata": {
        "id": "hfvL7CRQTVTV",
        "colab_type": "text"
      },
      "cell_type": "markdown",
      "source": [
        "### Character-level"
      ]
    },
    {
      "metadata": {
        "id": "X3XD9M2ATVTW",
        "colab_type": "code",
        "colab": {}
      },
      "cell_type": "code",
      "source": [
        "samples = ['The cat sat on the mat.', 'The dog ate my homework.']\n",
        "\n",
        "characters = string.printable\n",
        "\n",
        "token_index = dict(zip(range(1, len(characters) + 1), characters))\n",
        "\n",
        "max_length = 50\n",
        "\n",
        "results = np.zeros((len(samples), \n",
        "                    max_length, \n",
        "                    max(token_index.keys()) + 1))\n",
        "\n",
        "for i, sample in enumerate(samples):\n",
        "    for j, character in enumerate(sample):\n",
        "        index = token_index.get(character)  #; ipdb.set_trace()\n",
        "        results[i, j, index] = 1."
      ],
      "execution_count": 0,
      "outputs": []
    },
    {
      "metadata": {
        "id": "fnl0Qm5NTVTY",
        "colab_type": "code",
        "outputId": "727378bf-c3d6-442d-af0b-f7885462dfc5",
        "colab": {}
      },
      "cell_type": "code",
      "source": [
        "results"
      ],
      "execution_count": 0,
      "outputs": [
        {
          "output_type": "execute_result",
          "data": {
            "text/plain": [
              "array([[[1., 1., 1., ..., 1., 1., 1.],\n",
              "        [1., 1., 1., ..., 1., 1., 1.],\n",
              "        [1., 1., 1., ..., 1., 1., 1.],\n",
              "        ...,\n",
              "        [0., 0., 0., ..., 0., 0., 0.],\n",
              "        [0., 0., 0., ..., 0., 0., 0.],\n",
              "        [0., 0., 0., ..., 0., 0., 0.]],\n",
              "\n",
              "       [[1., 1., 1., ..., 1., 1., 1.],\n",
              "        [1., 1., 1., ..., 1., 1., 1.],\n",
              "        [1., 1., 1., ..., 1., 1., 1.],\n",
              "        ...,\n",
              "        [0., 0., 0., ..., 0., 0., 0.],\n",
              "        [0., 0., 0., ..., 0., 0., 0.],\n",
              "        [0., 0., 0., ..., 0., 0., 0.]]])"
            ]
          },
          "metadata": {
            "tags": []
          },
          "execution_count": 6
        }
      ]
    },
    {
      "metadata": {
        "id": "7wV1xfebTVTa",
        "colab_type": "text"
      },
      "cell_type": "markdown",
      "source": [
        "**Keras has built-in utilities for doing one-hot encoding of text at the word level\n",
        "or character level**, starting from raw text data. \n",
        "\n",
        "We should use these utilities, because they take care of a number of important features such as stripping special characters from strings and only taking into account the N most common words in your dataset (a common restriction, to avoid dealing with very large input vector spaces)."
      ]
    },
    {
      "metadata": {
        "id": "ZkO8ynHgTVTb",
        "colab_type": "text"
      },
      "cell_type": "markdown",
      "source": [
        "## Using Keras build in function"
      ]
    },
    {
      "metadata": {
        "id": "qX7tVGgzTVTc",
        "colab_type": "text"
      },
      "cell_type": "markdown",
      "source": [
        "### Word level"
      ]
    },
    {
      "metadata": {
        "id": "YtsXtMpsTVTc",
        "colab_type": "code",
        "outputId": "811a0f34-946b-4123-a3ca-6384f705f8fd",
        "colab": {}
      },
      "cell_type": "code",
      "source": [
        "samples = ['The cat sat on the mat.', 'The dog ate my homework.']\n",
        "\n",
        "tokenizer = Tokenizer(num_words=10)\n",
        "tokenizer.fit_on_texts(samples)\n",
        "sequences = tokenizer.texts_to_sequences(samples)\n",
        "one_hot_results = tokenizer.texts_to_matrix(samples, mode='binary')\n",
        "word_index = tokenizer.word_index\n",
        "print('Found %s unique tokens.' % len(word_index))"
      ],
      "execution_count": 0,
      "outputs": [
        {
          "output_type": "stream",
          "text": [
            "Found 9 unique tokens.\n"
          ],
          "name": "stdout"
        }
      ]
    },
    {
      "metadata": {
        "id": "iZo8KQmgTVTi",
        "colab_type": "code",
        "outputId": "f14351b0-03ed-43b6-8ba5-42259c8548a5",
        "colab": {}
      },
      "cell_type": "code",
      "source": [
        "sequences"
      ],
      "execution_count": 0,
      "outputs": [
        {
          "output_type": "execute_result",
          "data": {
            "text/plain": [
              "[[1, 2, 3, 4, 1, 5], [1, 6, 7, 8, 9]]"
            ]
          },
          "metadata": {
            "tags": []
          },
          "execution_count": 73
        }
      ]
    },
    {
      "metadata": {
        "id": "ql5utR_DTVTs",
        "colab_type": "code",
        "outputId": "75289015-2280-4dc2-d0de-3d46a17a9951",
        "colab": {}
      },
      "cell_type": "code",
      "source": [
        "one_hot_results"
      ],
      "execution_count": 0,
      "outputs": [
        {
          "output_type": "execute_result",
          "data": {
            "text/plain": [
              "array([[0., 1., 1., 1., 1., 1., 0., 0., 0., 0.],\n",
              "       [0., 1., 0., 0., 0., 0., 1., 1., 1., 1.]])"
            ]
          },
          "metadata": {
            "tags": []
          },
          "execution_count": 74
        }
      ]
    },
    {
      "metadata": {
        "id": "CQAArTtwTVTw",
        "colab_type": "code",
        "outputId": "63f7188b-d159-4f1e-f47b-ba7e087de939",
        "colab": {}
      },
      "cell_type": "code",
      "source": [
        "word_index"
      ],
      "execution_count": 0,
      "outputs": [
        {
          "output_type": "execute_result",
          "data": {
            "text/plain": [
              "{'the': 1,\n",
              " 'cat': 2,\n",
              " 'sat': 3,\n",
              " 'on': 4,\n",
              " 'mat': 5,\n",
              " 'dog': 6,\n",
              " 'ate': 7,\n",
              " 'my': 8,\n",
              " 'homework': 9}"
            ]
          },
          "metadata": {
            "tags": []
          },
          "execution_count": 75
        }
      ]
    },
    {
      "metadata": {
        "id": "8klBReLzTVT1",
        "colab_type": "code",
        "colab": {}
      },
      "cell_type": "code",
      "source": [
        "# # Vectorizes the samples. You’ll only\n",
        "# # consider the first max_length\n",
        "# # words in each sample.            \n",
        "# max_length = 10  # window\n",
        "\n",
        "# results = np.zeros(shape=(len(samples),\n",
        "#                           max_length,\n",
        "#                           len(word_index) + 1))\n",
        "\n",
        "# for i, sample in enumerate(samples):\n",
        "#     for j, word in list(enumerate(sample.split()))[:max_length]:\n",
        "#         index = word_index.get(word) #; ipdb.set_trace()\n",
        "#         results[i, j, index] = 1."
      ],
      "execution_count": 0,
      "outputs": []
    },
    {
      "metadata": {
        "id": "zBg9HucJTVT5",
        "colab_type": "code",
        "colab": {}
      },
      "cell_type": "code",
      "source": [
        "# results"
      ],
      "execution_count": 0,
      "outputs": []
    },
    {
      "metadata": {
        "id": "TDMlZgF6TVUC",
        "colab_type": "text"
      },
      "cell_type": "markdown",
      "source": [
        "### Caracter level"
      ]
    },
    {
      "metadata": {
        "id": "TRkeYOnQTVUC",
        "colab_type": "code",
        "outputId": "14cfbcae-163f-4ff8-96ca-7a40dcf2cae9",
        "colab": {}
      },
      "cell_type": "code",
      "source": [
        "samples = ['The cat sat on the mat.', 'The dog ate my homework.']\n",
        "\n",
        "tokenizer = Tokenizer(char_level=True)\n",
        "tokenizer.fit_on_texts(samples)\n",
        "sequences = tokenizer.texts_to_sequences(samples)\n",
        "one_hot_results = tokenizer.texts_to_matrix(samples, mode='binary')\n",
        "word_index = tokenizer.word_index\n",
        "print('Found %s unique tokens.' % len(word_index))"
      ],
      "execution_count": 0,
      "outputs": [
        {
          "output_type": "stream",
          "text": [
            "Found 17 unique tokens.\n"
          ],
          "name": "stdout"
        }
      ]
    },
    {
      "metadata": {
        "id": "4ueFpMk-TVUJ",
        "colab_type": "code",
        "outputId": "30971c86-5a57-43a0-ae2a-21148cd6ebf0",
        "colab": {}
      },
      "cell_type": "code",
      "source": [
        "sequences"
      ],
      "execution_count": 0,
      "outputs": [
        {
          "output_type": "execute_result",
          "data": {
            "text/plain": [
              "[[2, 4, 3, 1, 9, 5, 2, 1, 10, 5, 2, 1, 6, 11, 1, 2, 4, 3, 1, 7, 5, 2, 8],\n",
              " [2,\n",
              "  4,\n",
              "  3,\n",
              "  1,\n",
              "  12,\n",
              "  6,\n",
              "  13,\n",
              "  1,\n",
              "  5,\n",
              "  2,\n",
              "  3,\n",
              "  1,\n",
              "  7,\n",
              "  14,\n",
              "  1,\n",
              "  4,\n",
              "  6,\n",
              "  7,\n",
              "  3,\n",
              "  15,\n",
              "  6,\n",
              "  16,\n",
              "  17,\n",
              "  8]]"
            ]
          },
          "metadata": {
            "tags": []
          },
          "execution_count": 64
        }
      ]
    },
    {
      "metadata": {
        "id": "4ZD-661eTVUP",
        "colab_type": "code",
        "outputId": "d4b02f32-c012-4186-ef48-e4ae27a282a7",
        "colab": {}
      },
      "cell_type": "code",
      "source": [
        "one_hot_results"
      ],
      "execution_count": 0,
      "outputs": [
        {
          "output_type": "execute_result",
          "data": {
            "text/plain": [
              "array([[0., 1., 1., 1., 1., 1., 1., 1., 1., 1., 1., 1., 0., 0., 0., 0.,\n",
              "        0., 0.],\n",
              "       [0., 1., 1., 1., 1., 1., 1., 1., 1., 0., 0., 0., 1., 1., 1., 1.,\n",
              "        1., 1.]])"
            ]
          },
          "metadata": {
            "tags": []
          },
          "execution_count": 65
        }
      ]
    },
    {
      "metadata": {
        "id": "TcZJ3rvkTVUU",
        "colab_type": "code",
        "outputId": "0df8cb2d-ebe2-4603-880a-f7d4d2438653",
        "colab": {}
      },
      "cell_type": "code",
      "source": [
        "word_index"
      ],
      "execution_count": 0,
      "outputs": [
        {
          "output_type": "execute_result",
          "data": {
            "text/plain": [
              "{' ': 1,\n",
              " 't': 2,\n",
              " 'e': 3,\n",
              " 'h': 4,\n",
              " 'a': 5,\n",
              " 'o': 6,\n",
              " 'm': 7,\n",
              " '.': 8,\n",
              " 'c': 9,\n",
              " 's': 10,\n",
              " 'n': 11,\n",
              " 'd': 12,\n",
              " 'g': 13,\n",
              " 'y': 14,\n",
              " 'w': 15,\n",
              " 'r': 16,\n",
              " 'k': 17}"
            ]
          },
          "metadata": {
            "tags": []
          },
          "execution_count": 66
        }
      ]
    },
    {
      "metadata": {
        "id": "B5TYHJG7TVUX",
        "colab_type": "text"
      },
      "cell_type": "markdown",
      "source": [
        "##  hashing trick"
      ]
    },
    {
      "metadata": {
        "id": "x1R0Uvd2TVUY",
        "colab_type": "code",
        "colab": {}
      },
      "cell_type": "code",
      "source": [
        "samples = ['The cat sat on the mat.', 'The dog ate my homework.']\n",
        "\n",
        "dimensionality = 1000\n",
        "max_length = 10\n",
        "\n",
        "results = np.zeros((len(samples), max_length, dimensionality))\n",
        "for i, sample in enumerate(samples):\n",
        "    for j, word in list(enumerate(sample.split()))[:max_length]:\n",
        "#         Hashes the word into a \n",
        "#         random integer index \n",
        "#         between 0 and 1,000\n",
        "        index = abs(hash(word)) % dimensionality\n",
        "        results[i, j, index] = 1."
      ],
      "execution_count": 0,
      "outputs": []
    },
    {
      "metadata": {
        "id": "Dkw1E9WMTVUa",
        "colab_type": "text"
      },
      "cell_type": "markdown",
      "source": [
        "# Using word embeddings"
      ]
    },
    {
      "metadata": {
        "id": "nLREqOusTVUb",
        "colab_type": "text"
      },
      "cell_type": "markdown",
      "source": [
        "Another popular and powerful way to associate a vector with a word is the use of dense\n",
        "word vectors, also called word embeddings. Whereas the vectors obtained through one-hot\n",
        "encoding are binary, sparse (mostly made of zeros), and very high-dimensional (same\n",
        "dimensionality as the number of words in the vocabulary), word embeddings are low-\n",
        "dimensional floating-point vectors (that is, dense vectors, as opposed to sparse vec-\n",
        "tors);"
      ]
    },
    {
      "metadata": {
        "id": "ua33iYs7TVUb",
        "colab_type": "text"
      },
      "cell_type": "markdown",
      "source": [
        "Unlike the  word vectors  obtained  via one-hot  encoding,  **word embeddings  are  learned  from  data**. It’s common  to  see  word  embeddings  that are\n",
        "256-dimensional, 512-dimensional, or 1,024-dimensional when dealing with very large\n",
        "vocabularies. \n",
        "\n",
        "On the other hand, one-hot encoding words generally leads to vectors\n",
        "that are 20,000-dimensional or greater (capturing a vocabulary of 20,000 tokens, in\n",
        "this case). \n",
        "\n",
        "So, word embeddings *pack more information into far fewer dimensions*.\n",
        "\n",
        "There are two ways to obtain word embeddings:\n",
        "- Learn word embeddings jointly with the main task you care about (such as document classification or sentiment prediction). In this setup, you start with random word vectors and then learn word vectors in the same way you learn the weights of a neural network.\n",
        "-  Load into your model word embeddings that were pretrained using a different machinelearning task than the one you’re trying to solve."
      ]
    },
    {
      "metadata": {
        "id": "9jN_4YfDTVUc",
        "colab_type": "text"
      },
      "cell_type": "markdown",
      "source": [
        "Word embeddings are meant to *map human language into a geometric space*. For instance, in a reasonable embedding space, you would expect synonyms to be embedded into similar word vectors; and in general, you would expect the geometric distance (such as L2 distance) between any two word vectors to relate to the semantic distance between the associated words (words meaning different things are embedded at points far away from\n",
        "each other, whereas related words are closer). \n",
        "\n",
        "In addition to distance, you may want\n",
        "specific directions in the embedding space to be meaningful."
      ]
    },
    {
      "metadata": {
        "id": "zFTDklvDTVUd",
        "colab_type": "text"
      },
      "cell_type": "markdown",
      "source": [
        "## Task specific Embedding for DataSet IMDB (keras.datasets)"
      ]
    },
    {
      "metadata": {
        "id": "w2YstPpRTVUm",
        "colab_type": "code",
        "colab": {}
      },
      "cell_type": "code",
      "source": [
        "# Number of words to \n",
        "# consider as features\n",
        "max_features = 10000\n",
        "\n",
        "# Cuts off the text after this \n",
        "# number of words (among \n",
        "# the max_features most \n",
        "# common words)\n",
        "# maxlen = 20\n",
        "maxlen = 500\n",
        "\n",
        "# Loads the data as lists of integers\n",
        "(x_train, y_train), (x_test, y_test) = imdb.load_data(num_words=max_features)\n",
        "# (x_train, y_train), (x_test, y_test) = imdb.load_data()"
      ],
      "execution_count": 0,
      "outputs": []
    },
    {
      "metadata": {
        "id": "nve8Gn4yTVUo",
        "colab_type": "code",
        "colab": {}
      },
      "cell_type": "code",
      "source": [
        "# Turns the lists of integers into\n",
        "# a 2D integer tensor of shape\n",
        "# (samples, maxlen)\n",
        "x_train = preprocessing.sequence.pad_sequences(x_train, maxlen=maxlen)\n",
        "x_test = preprocessing.sequence.pad_sequences(x_test, maxlen=maxlen)"
      ],
      "execution_count": 0,
      "outputs": []
    },
    {
      "metadata": {
        "id": "nS6ccMkbTVUq",
        "colab_type": "code",
        "outputId": "b3e3fde5-378e-4e00-c095-1e779bdef1c2",
        "colab": {
          "base_uri": "https://localhost:8080/",
          "height": 34
        }
      },
      "cell_type": "code",
      "source": [
        "x_train.shape"
      ],
      "execution_count": 4,
      "outputs": [
        {
          "output_type": "execute_result",
          "data": {
            "text/plain": [
              "(25000, 500)"
            ]
          },
          "metadata": {
            "tags": []
          },
          "execution_count": 4
        }
      ]
    },
    {
      "metadata": {
        "id": "_g5uqy8nTVUu",
        "colab_type": "code",
        "outputId": "d7dcbe66-fe64-4c07-a2e2-cbf2b2a6a2e7",
        "colab": {
          "base_uri": "https://localhost:8080/",
          "height": 34
        }
      },
      "cell_type": "code",
      "source": [
        "x_test.shape"
      ],
      "execution_count": 5,
      "outputs": [
        {
          "output_type": "execute_result",
          "data": {
            "text/plain": [
              "(25000, 500)"
            ]
          },
          "metadata": {
            "tags": []
          },
          "execution_count": 5
        }
      ]
    },
    {
      "metadata": {
        "id": "sts49pGpTVUx",
        "colab_type": "code",
        "outputId": "ffce6d1f-f058-40ff-ed41-ef65f8a0f8a3",
        "colab": {
          "base_uri": "https://localhost:8080/",
          "height": 321
        }
      },
      "cell_type": "code",
      "source": [
        "model = Sequential()\n",
        "# Specifies the maximum input length to the \n",
        "# Embedding layer so you can later flatten the \n",
        "# embedded inputs. After the Embedding layer, \n",
        "# the activations have shape (samples, maxlen, 8).\n",
        "model.add(Embedding(10000, 8, input_length=x_train.shape[1]))\n",
        "# Flattens the 3D tensor of \n",
        "# embeddings into a 2D \n",
        "# tensor of shape (samples, maxlen * 8)\n",
        "model.add(Flatten())\n",
        "model.add(Dense(1, activation='sigmoid'))\n",
        "model.compile(optimizer='rmsprop', loss='binary_crossentropy', metrics=['acc'])\n",
        "model.summary()"
      ],
      "execution_count": 4,
      "outputs": [
        {
          "output_type": "stream",
          "text": [
            "WARNING:tensorflow:From /usr/local/lib/python3.6/dist-packages/tensorflow/python/framework/op_def_library.py:263: colocate_with (from tensorflow.python.framework.ops) is deprecated and will be removed in a future version.\n",
            "Instructions for updating:\n",
            "Colocations handled automatically by placer.\n",
            "_________________________________________________________________\n",
            "Layer (type)                 Output Shape              Param #   \n",
            "=================================================================\n",
            "embedding_1 (Embedding)      (None, 500, 8)            80000     \n",
            "_________________________________________________________________\n",
            "flatten_1 (Flatten)          (None, 4000)              0         \n",
            "_________________________________________________________________\n",
            "dense_1 (Dense)              (None, 1)                 4001      \n",
            "=================================================================\n",
            "Total params: 84,001\n",
            "Trainable params: 84,001\n",
            "Non-trainable params: 0\n",
            "_________________________________________________________________\n"
          ],
          "name": "stdout"
        }
      ]
    },
    {
      "metadata": {
        "id": "OvMC3_rxTVU5",
        "colab_type": "code",
        "outputId": "faecd7a8-1072-435a-f740-bd1dea3ee172",
        "colab": {
          "base_uri": "https://localhost:8080/",
          "height": 481
        }
      },
      "cell_type": "code",
      "source": [
        "model.fit(x_train, y_train,\n",
        "          epochs=10, batch_size=32,\n",
        "          validation_split=0.2) # Split validation of 20% automatically)"
      ],
      "execution_count": 7,
      "outputs": [
        {
          "output_type": "stream",
          "text": [
            "WARNING:tensorflow:From /usr/local/lib/python3.6/dist-packages/tensorflow/python/ops/math_ops.py:3066: to_int32 (from tensorflow.python.ops.math_ops) is deprecated and will be removed in a future version.\n",
            "Instructions for updating:\n",
            "Use tf.cast instead.\n",
            "Train on 20000 samples, validate on 5000 samples\n",
            "Epoch 1/10\n",
            "20000/20000 [==============================] - 4s 218us/step - loss: 0.5857 - acc: 0.7083 - val_loss: 0.3974 - val_acc: 0.8430\n",
            "Epoch 2/10\n",
            "20000/20000 [==============================] - 2s 97us/step - loss: 0.3015 - acc: 0.8848 - val_loss: 0.2895 - val_acc: 0.8824\n",
            "Epoch 3/10\n",
            "20000/20000 [==============================] - 2s 97us/step - loss: 0.2219 - acc: 0.9148 - val_loss: 0.2768 - val_acc: 0.8876\n",
            "Epoch 4/10\n",
            "20000/20000 [==============================] - 2s 97us/step - loss: 0.1826 - acc: 0.9311 - val_loss: 0.2684 - val_acc: 0.8934\n",
            "Epoch 5/10\n",
            "20000/20000 [==============================] - 2s 85us/step - loss: 0.1554 - acc: 0.9431 - val_loss: 0.2723 - val_acc: 0.8912\n",
            "Epoch 6/10\n",
            "20000/20000 [==============================] - 2s 85us/step - loss: 0.1344 - acc: 0.9503 - val_loss: 0.2801 - val_acc: 0.8904\n",
            "Epoch 7/10\n",
            "20000/20000 [==============================] - 2s 85us/step - loss: 0.1148 - acc: 0.9602 - val_loss: 0.2881 - val_acc: 0.8910\n",
            "Epoch 8/10\n",
            "20000/20000 [==============================] - 2s 85us/step - loss: 0.0995 - acc: 0.9666 - val_loss: 0.3054 - val_acc: 0.8906\n",
            "Epoch 9/10\n",
            "20000/20000 [==============================] - 2s 84us/step - loss: 0.0859 - acc: 0.9710 - val_loss: 0.3180 - val_acc: 0.8882\n",
            "Epoch 10/10\n",
            "20000/20000 [==============================] - 2s 88us/step - loss: 0.0735 - acc: 0.9761 - val_loss: 0.3330 - val_acc: 0.8876\n"
          ],
          "name": "stdout"
        },
        {
          "output_type": "execute_result",
          "data": {
            "text/plain": [
              "<keras.callbacks.History at 0x7fe6d613ba58>"
            ]
          },
          "metadata": {
            "tags": []
          },
          "execution_count": 7
        }
      ]
    },
    {
      "metadata": {
        "id": "mm8kdSD7TVU_",
        "colab_type": "code",
        "outputId": "31248dbd-a41c-4b10-9086-b6e679ee2f1c",
        "colab": {
          "base_uri": "https://localhost:8080/",
          "height": 70
        }
      },
      "cell_type": "code",
      "source": [
        "result = model.evaluate(x_test, y_test)\n",
        "for i in range(len(model.metrics_names)):\n",
        "     print(\"Metric \",model.metrics_names[i],\":\", str(round(result[i],5)))"
      ],
      "execution_count": 8,
      "outputs": [
        {
          "output_type": "stream",
          "text": [
            "25000/25000 [==============================] - 1s 36us/step\n",
            "Metric  loss : 0.34958\n",
            "Metric  acc : 0.873\n"
          ],
          "name": "stdout"
        }
      ]
    },
    {
      "metadata": {
        "id": "rt13afzgTVVD",
        "colab_type": "code",
        "outputId": "d8e45452-3044-4fd3-fdaf-5b46269d2290",
        "colab": {
          "base_uri": "https://localhost:8080/",
          "height": 563
        }
      },
      "cell_type": "code",
      "source": [
        "acc = model.history.history['acc']\n",
        "val_acc = model.history.history['val_acc']\n",
        "loss = model.history.history['loss']\n",
        "val_loss = model.history.history['val_loss']\n",
        "\n",
        "epochs = range(1, len(acc) + 1)\n",
        "\n",
        "plt.figure()\n",
        "plt.plot(epochs, loss, label='Training loss')\n",
        "plt.plot(epochs, val_loss, label='Validation loss')\n",
        "plt.title('Training and validation loss')\n",
        "plt.legend()\n",
        "plt.show()\n",
        "\n",
        "plt.figure()\n",
        "plt.plot(epochs, acc, label='Training acc')\n",
        "plt.plot(epochs, val_acc, label='Validation acc')\n",
        "plt.title('Training and validation accuracy')\n",
        "plt.legend()"
      ],
      "execution_count": 9,
      "outputs": [
        {
          "output_type": "display_data",
          "data": {
            "image/png": "[encoded data removed]",
            "text/plain": [
              "<Figure size 432x288 with 1 Axes>"
            ]
          },
          "metadata": {
            "tags": []
          }
        },
        {
          "output_type": "execute_result",
          "data": {
            "text/plain": [
              "<matplotlib.legend.Legend at 0x7fe6d547bfd0>"
            ]
          },
          "metadata": {
            "tags": []
          },
          "execution_count": 9
        },
        {
          "output_type": "display_data",
          "data": {
            "image/png": "[encoded data removed]",
            "text/plain": [
              "<Figure size 432x288 with 1 Axes>"
            ]
          },
          "metadata": {
            "tags": []
          }
        }
      ]
    },
    {
      "metadata": {
        "id": "-GulO4j7TVVG",
        "colab_type": "text"
      },
      "cell_type": "markdown",
      "source": [
        "We can see that our model start well but quickly overfit."
      ]
    },
    {
      "metadata": {
        "id": "kWHrazH5TVVH",
        "colab_type": "text"
      },
      "cell_type": "markdown",
      "source": [
        "We get to a validation accuracy of ~87%, on enseen example, which is pretty good considering that we’re only looking at the first 500 words in every review. But note that merely flattening the embedded sequences and training a single Dense layer on top leads to a model that **treats  each  word  in  the  input  sequence  separately,  without  considering  inter-word relationships and sentence structure** (for example, this model would likely treat both “this movie is a bomb” and “this movie is the bomb” as being negative reviews). \n",
        "\n",
        "Let look at how to capture those **inter-word relationships* *\n",
        "\n",
        "There exist 2 main approach :\n",
        "\n",
        "1. *adding a recurrent layers or*\n",
        "2. *adding a 1D convolutional layers on top of the embedded  sequences  to  learn  features  that  take  into  account  each  sequence  as  a  whole*.\n",
        "\n",
        "**We will look at it at the end of this notebook. **"
      ]
    },
    {
      "metadata": {
        "id": "2SbNcAaZTVVN",
        "colab_type": "text"
      },
      "cell_type": "markdown",
      "source": [
        "## USING PRETRAINED WORD EMBEDDINGS"
      ]
    },
    {
      "metadata": {
        "id": "ZSzKVoK-azjR",
        "colab_type": "text"
      },
      "cell_type": "markdown",
      "source": [
        "### Load the Internet Movie Database (IMdb) from downloaded file"
      ]
    },
    {
      "metadata": {
        "id": "l1cw9tYHTVVR",
        "colab_type": "text"
      },
      "cell_type": "markdown",
      "source": [
        "First, head to http://mng.bz/0tIo and download the raw IMDB dataset. Uncompress it.\n",
        "\n",
        "Now, let’s collect the individual training reviews into a list of strings, one string per review. We’ll also collect the review labels (positive/negative) into a labels list."
      ]
    },
    {
      "metadata": {
        "colab_type": "text",
        "id": "AUJ7jH_yzQqO"
      },
      "cell_type": "markdown",
      "source": [
        "#### Preprocess"
      ]
    },
    {
      "metadata": {
        "colab_type": "code",
        "outputId": "54fb5328-4a2f-4a87-99da-9a5928eb295a",
        "id": "Sw2Z0W06zQqQ",
        "colab": {
          "base_uri": "https://localhost:8080/",
          "height": 123
        }
      },
      "cell_type": "code",
      "source": [
        "# Number of words to \n",
        "# consider as features\n",
        "max_features = 10000      # Words are ranked\n",
        "\n",
        "# Cuts off texts after this many words (among \n",
        "# the max_features most common words)\n",
        "max_len = 500\n",
        "\n",
        "print('Loading data...')\n",
        "(x_train_, y_train_), (x_test_, y_test_) = tf.keras.datasets.imdb.load_data(\n",
        "    num_words=max_features)\n",
        "\n",
        "print(len(x_train_), 'train sequences')\n",
        "print(len(x_test_), 'test sequences')\n",
        "\n",
        "print('Pad sequences (samples x time)')\n",
        "x_train_ = tf.keras.preprocessing.sequence.pad_sequences(\n",
        "    x_train_, maxlen=max_len)\n",
        "x_test_ = tf.keras.preprocessing.sequence.pad_sequences(\n",
        "    x_test_, maxlen=max_len)\n",
        "print('x_train shape:', x_train_.shape)\n",
        "print('x_test shape:', x_test_.shape)"
      ],
      "execution_count": 5,
      "outputs": [
        {
          "output_type": "stream",
          "text": [
            "Loading data...\n",
            "25000 train sequences\n",
            "25000 test sequences\n",
            "Pad sequences (samples x time)\n",
            "x_train shape: (25000, 500)\n",
            "x_test shape: (25000, 500)\n"
          ],
          "name": "stdout"
        }
      ]
    },
    {
      "metadata": {
        "id": "XFxIlNYdwKeL",
        "colab_type": "code",
        "outputId": "792c84b4-8d2d-43be-b705-3fc52c8f35be",
        "colab": {
          "base_uri": "https://localhost:8080/",
          "height": 70
        }
      },
      "cell_type": "code",
      "source": [
        "link = \"https://drive.google.com/file/d/1smGRs2g2HoI6VSvonoZmWKzXOP6uPUaW/view?usp=sharing\"\n",
        "\n",
        "_, id_t = link.split('d/')\n",
        "\n",
        "id = id_t.split('/')[0]\n",
        "print (id) # Verify that you have everything after '='\n",
        "\n",
        "# Install the PyDrive wrapper & import libraries.\n",
        "# This only needs to be done once per notebook.\n",
        "!pip install -U -q PyDrive\n",
        "from pydrive.auth import GoogleAuth\n",
        "from pydrive.drive import GoogleDrive\n",
        "from google.colab import auth\n",
        "from oauth2client.client import GoogleCredentials\n",
        "\n",
        "# Authenticate and create the PyDrive client.\n",
        "# This only needs to be done once per notebook.\n",
        "auth.authenticate_user()\n",
        "gauth = GoogleAuth()\n",
        "gauth.credentials = GoogleCredentials.get_application_default()\n",
        "drive = GoogleDrive(gauth)\n",
        "\n",
        "\n",
        "file_id = id\n",
        "downloaded = drive.CreateFile({'id':file_id})\n",
        "downloaded.FetchMetadata(fetch_all=True)\n",
        "downloaded.GetContentFile(downloaded.metadata['title'])"
      ],
      "execution_count": 12,
      "outputs": [
        {
          "output_type": "stream",
          "text": [
            "1smGRs2g2HoI6VSvonoZmWKzXOP6uPUaW\n",
            "\u001b[K    100% |████████████████████████████████| 993kB 27.1MB/s \n",
            "\u001b[?25h  Building wheel for PyDrive (setup.py) ... \u001b[?25ldone\n",
            "\u001b[?25h"
          ],
          "name": "stdout"
        }
      ]
    },
    {
      "metadata": {
        "id": "-ULfj6D_ziiW",
        "colab_type": "code",
        "outputId": "0752b200-be28-4cc7-ae34-27c926f34321",
        "colab": {
          "base_uri": "https://localhost:8080/",
          "height": 34
        }
      },
      "cell_type": "code",
      "source": [
        "!ls"
      ],
      "execution_count": 13,
      "outputs": [
        {
          "output_type": "stream",
          "text": [
            "aclImdb.zip  adc.json  sample_data\n"
          ],
          "name": "stdout"
        }
      ]
    },
    {
      "metadata": {
        "id": "vhwLb-sRVo6R",
        "colab_type": "code",
        "colab": {}
      },
      "cell_type": "code",
      "source": [
        "!unzip -qq aclImdb.zip"
      ],
      "execution_count": 0,
      "outputs": []
    },
    {
      "metadata": {
        "id": "Ygt0MYNKVuZw",
        "colab_type": "code",
        "outputId": "8ff6d8dc-b519-4714-ec77-7b44ffa06800",
        "colab": {
          "base_uri": "https://localhost:8080/",
          "height": 34
        }
      },
      "cell_type": "code",
      "source": [
        "!ls"
      ],
      "execution_count": 15,
      "outputs": [
        {
          "output_type": "stream",
          "text": [
            "aclImdb  aclImdb.zip  adc.json\t__MACOSX  sample_data\n"
          ],
          "name": "stdout"
        }
      ]
    },
    {
      "metadata": {
        "id": "bmBdoFWmTVVS",
        "colab_type": "code",
        "colab": {}
      },
      "cell_type": "code",
      "source": [
        "# imdb_dir = './data/aclImdb'\n",
        "imdb_dir = './aclImdb'\n",
        "\n",
        "# Reading in the training folder\n",
        "train_dir = os.path.join(imdb_dir, 'train')\n",
        "labels_tr = []\n",
        "texts_tr = []\n",
        "\n",
        "for label_type in ['neg', 'pos']:\n",
        "    dir_name = os.path.join(train_dir, label_type)\n",
        "    for fname in os.listdir(dir_name):\n",
        "        if fname[-4:] == '.txt':\n",
        "            f = open(os.path.join(dir_name, fname), encoding=\"utf8\")\n",
        "            texts_tr.append(f.read())\n",
        "            f.close()\n",
        "            if label_type == 'neg':\n",
        "                labels_tr.append(0)\n",
        "            else:\n",
        "                labels_tr.append(1)\n",
        "\n",
        "# Reading in the testing folder\n",
        "train_dir = os.path.join(imdb_dir, 'test')\n",
        "labels_tst = []\n",
        "texts_tst = []\n",
        "\n",
        "for label_type in ['neg', 'pos']:\n",
        "    dir_name = os.path.join(train_dir, label_type)\n",
        "    for fname in os.listdir(dir_name):\n",
        "        if fname[-4:] == '.txt':\n",
        "            f = open(os.path.join(dir_name, fname), encoding=\"utf8\")\n",
        "            texts_tst.append(f.read())\n",
        "            f.close()\n",
        "            if label_type == 'neg':\n",
        "                labels_tst.append(0)\n",
        "            else:\n",
        "                labels_tst.append(1)"
      ],
      "execution_count": 0,
      "outputs": []
    },
    {
      "metadata": {
        "id": "OAw0zY4mVWib",
        "colab_type": "text"
      },
      "cell_type": "markdown",
      "source": [
        " let's also verify the number of samples that are present in each class."
      ]
    },
    {
      "metadata": {
        "id": "t3D6riq5TVV4",
        "colab_type": "code",
        "outputId": "13dea4d5-dd93-43b8-eddb-c3628c68495a",
        "colab": {
          "base_uri": "https://localhost:8080/",
          "height": 87
        }
      },
      "cell_type": "code",
      "source": [
        "uniq_class_arr, counts = np.unique(labels_tr, return_counts=True)\n",
        "\n",
        "print ('Unique classes :', uniq_class_arr)\n",
        "print ('Number of unique classes : ', len(uniq_class_arr))\n",
        "\n",
        "for _class in uniq_class_arr:\n",
        "    print ('Counts for class ', uniq_class_arr[_class], ' : ', counts[_class])"
      ],
      "execution_count": 7,
      "outputs": [
        {
          "output_type": "stream",
          "text": [
            "Unique classes : [0 1]\n",
            "Number of unique classes :  2\n",
            "Counts for class  0  :  12500\n",
            "Counts for class  1  :  12500\n"
          ],
          "name": "stdout"
        }
      ]
    },
    {
      "metadata": {
        "id": "xxixmIXPUh5L",
        "colab_type": "text"
      },
      "cell_type": "markdown",
      "source": [
        "Now, let;s take a few random samples and check if the labels are expected!"
      ]
    },
    {
      "metadata": {
        "id": "rGrai0aqS98R",
        "colab_type": "code",
        "colab": {
          "base_uri": "https://localhost:8080/",
          "height": 570
        },
        "outputId": "a4690d8e-4818-4a50-bbb4-afcb28a0cdce"
      },
      "cell_type": "code",
      "source": [
        "size_of_samp = 10\n",
        "rand_samples_to_check = np.random.randint(len(texts_tr), size=size_of_samp)\n",
        "\n",
        "for samp_num in rand_samples_to_check:\n",
        "    print ('============================================================')\n",
        "    print (texts_tr[samp_num], '||', labels_tr[samp_num])\n",
        "    print ('============================================================')"
      ],
      "execution_count": 6,
      "outputs": [
        {
          "output_type": "stream",
          "text": [
            "============================================================\n",
            "Unless somebody enlightens me, I really have no idea what this movie is about. It looks like a picture with a message but it´s far from it. This movie tells pointless story of a New York press agent and about his problems. And, that´s basically all. When that agent is played by Pacino, one must think that it must be something important. But it takes no hard thinking to figure out how meaningless and dull this movie is. To one of the best actors in the world, Al Pacino, this is the second movie of the year (the other is \"Simone\") that deserves the title \"the most boring and the most pointless motion picture of the year\". So, what´s going on, Al? || 0\n",
            "============================================================\n",
            "============================================================\n",
            "After reading the previous comments, I'm just glad that I wasn't the only person left confused, especially by the last 20 minutes. John Carradine is shown twice walking down into a grave and pulling the lid shut after him. I anxiously awaited some kind of explanation for this odd behavior...naturally I assumed he had something to do with the evil goings-on at the house, but since he got killed off by the first rising corpse (hereafter referred to as Zombie #1), these scenes made absolutely no sense. Please, if someone out there knows why Carradine kept climbing down into graves -- let the rest of us in on it!! <br /><br />All the action is confined to the last 20 minutes so I'll attempt a synopsis. John Carradine comes out to the cemetery to investigate, and is throttled by Zombie #1. So far, so good. But then we get the confusing scene where John Ireland and Jerry Strickler, out for a little moonlight filming in the graveyard, discover Carradine's dead body. Strickler repeatedly tries to push Ireland into the open grave from whence Zombie #1 had emerged, but Ireland succeeds in flipping him into the open grave instead, and PRESTO! Strickler comes out as Zombie #2! Yeah, I guess we can infer that Strickler was dead all-along (a witch?), but why he changed from normal appearance into rotting-flesh version by flying into Zombie #1's grave is never explained. (Considering how excruciatingly slow-moving these zombies are, I'd of thought he would have preferred to stay in his \"normal\" form until his business was concluded). This scene also brings a question to mind -- just who the heck IS Zombie #1 ??? We can only assume Zombie #1 is one of the original murder victims shown during the movie's opening credits, but who knows which one, nor why he has a particular grudge against the film crew.<br /><br />Anyway, after Ireland sees this transformation and runs away, we see the EXACT SAME SHOT of Zombie #2 shambling through the trees as we saw for Zombie #1. (This leads to momentary confusion over just how MANY zombies there really are). Then in best 1950's horror-movie fashion Ireland manages to trip while fleeing. He conveniently knocks his head on the small headstone of Faith Domergue's dead cat (wasn't that nice of John Carradine to chisel a tombstone for a cat that he barely knew?)<br /><br />Meanwhile, Zombie #1 has been wrecking havoc up at the house. He easily dispatches three film-crew members, then starts up the stairs. Faith Domergue hears him, and thinking it's lover John Ireland back from his night-shoot, goes out. Upon seeing it's only Zombie #1, she lets out a scream and retreats into a bedroom where she retrieves Ireland's revolver. While starlet Carole Wells is showering at this point and can't hear the scream, her co-star Charles Macauley (who's boozing and hamming it up at a mirror in his bedroom) does. Taking his sweet time (and only after some more swigs from his hip-flask) he finally decides to investigate. (One thing that strikes the viewer during the last quarter of this movie is how SLOW TO REACT the stars are to screams and gunshots). Domergue comes back out into the hallway armed and ready, but mistakes Macauley for Zombie #1 and shoots him six times! He does a nice acrobatic flip over the railing, then a horrified Domergue backs up, right into the waiting arms of Zombie #1.<br /><br />Carole Wells is by now out of her shower and drying off when she hears gunshots and Domergue's screams; she too feels no great urgency in running out to investigate. So during this time Zombie #1 has time to string Domergue up from the neck with a rope. Wells sees Domergue's hanging corpse and faints dead-away. The next time we see her is in a stream outside the house (???) -- but more on that later. Meantime, Ireland has recovered his senses and stumbles into the house where he discovers Zombie #1's bloody carnage. Though Ireland has just stumbled upon 3 murdered people he's more concerned that his film has been exposed and ruined! Mercifully for him (and the audience), Zombie #1 throws some movie equipment down on his head from the 2nd floor. That's the last we see of Zombie #1. At this point the audience is treated to a montage of all the deaths, showing that the new ones \"mirror\" the old ones. How profound.<br /><br />Zombie #2, meanwhile, has gotten near the house (remember, these zombies move as slow as molasses in January) where he happens to see Carole Wells floating by in a stream, and fishes her out. How did she get there? Did Zombie #1 carry her down, throw her in, then zoom back upstairs just in time to crush John Ireland? Apparently one of the original victims was drowned in the tub, so Wells has to drown too (but why outside in a stream, instead of in the tub, is never explained). Zombie #2 never makes it into the house himself (everyone's dead by now, anyways, thanks to Zombie #1) but instead he carries Carol Wells back to the graveyard. As the end credits flash on screen, we see Zombie #2 with his dead love still in his arms, descending into the open grave.<br /><br />The viewer is left wondering: Yes, but wasn't this Zombie #1's grave? Why is Zombie #2 taking up residence? And what if Zombie #1 comes along and wants to climb back in -- is Zombie #2 gonna let him, or will there be a zombie fight? Will the zombies share both the grave and the newly deceased Carole Wells? And what about now-dead John Carradine -- where's he gonna stay? After all, from the earlier scenes we know he's clearly at home in the grave... If this plot synopsis of the finale has left you confused, don't worry cause you're not alone. || 0\n",
            "============================================================\n",
            "============================================================\n",
            "An axellent second installment that manages to be just as good as the first. <br /><br />Once again, the casting is just wonderful. I like how the first and second episode have nothing in common except for the wit and cleverness.<br /><br />The second episode is just very funny, very silly and very enjoyable. It is the very first Christmas episode, about a woman who is tormented by a serial killer dressed as Santa after having killed her own husband. Just like the first episode; karma.<br /><br />The most humorous scene is a tie between the murder of her husband and her phone call, first faking her fear until it becomes real. || 1\n",
            "============================================================\n",
            "============================================================\n",
            "A common plotline in films consists of the main characters leaving the hustle and bustle of the city behind, and finding themselves in the tranquility of nature. In Power of Kangwon Province, we are shown two stories of individuals doing just that, trying to find themselves through a trip to the popular Korean parks in the mountains of Kangwon Province. However, rather than epiphanal moments, we have two characters whose trip into nature was just another form of escape.<br /><br />The pace of this movie is slow, contemplative. We learn in the end what really brought each to Kangwon Province and we learn how they're connected. For those who want Hollywood glam and for a movie to give them a definitive answer, this movie will not satisfy. But for those who want a movie that leaves them thinking, wondering, affecting them years after, this movie will more than satiate that longing. || 1\n",
            "============================================================\n",
            "============================================================\n",
            "I recently found a copy for $5 at a video store, and snapped it up eagerly. While the music and (obviously) graphics aren't up to the standards of my favorite of the series, Beyond the Mind's Eye, I am still entranced by one segment:<br /><br />Stanley and Stella in \"Breaking the Ice\". The music is brilliant, and the emotions feel real. The clip on Odyssey's website doesn't have the story nor the music, unfortunately. || 1\n",
            "============================================================\n",
            "============================================================\n",
            "This movie is great fun to watch if you love films of the organized crime variety. Those looking for a crime film starring a charismatic lead with dreams of taking over in a bad way may be slightly disappointed with the way this film strides.<br /><br />It is a fun romp through a criminal underworld however and if you aren't familiar with Hong Kong films, then you may be pleasantly surprised by this one. I was somewhat disappointed by some of the choices made story-wise but overall a good crime film. Some things did not make sense but that seems to be the norm with films of the East. <br /><br />People just randomly do things regardless of how their personalities were set up prior. It's a slightly annoying pattern that permeates even in this film. || 1\n",
            "============================================================\n",
            "============================================================\n",
            "A have a female friend who is currently being drawn into a relationship with an SOB who has a long term girlfriend. Of course the SOB is very good-looking, charming, etc and my friend is a very intelligent woman. Watching Jean Pierre Leaud's character at work is exactly like watching what goes on in real life when guys like that destroy the lives of our female friends. It's tragic, and you know she's going to end up very hurt, but there's nothing you can do. Leaud is brilliant. Totally empty. A blank throughout, he pulls the faces and tells the stories he thinks will get the reaction he wants.<br /><br />The scene two hours in when Leaud and Lebrun have made love, and the next morning he puts on a record and, very sweetly and charmingly, sings along to amuse her is brilliant. The \"What the hell am I doing here with this idiot\" expression that flickers back and forth across her face will be in my memory for a long time to come.<br /><br />It's a long film, but see it in one go, preferably in a cinema. Takes a while to get into, but then the time just disappears. || 1\n",
            "============================================================\n",
            "============================================================\n",
            "It'd be easy to call Guys and Dolls great. It's got Frank Sinatra and Marlon Brando (and, contrary to Sinatra's original wishes, the casting works), it's got a really cool 1950s feel, even if it is basically transposed from stage to screen with only a little interruption. And most of the songs are often a lot of fun, and catchy, and performed with that wink and nod to the wonderful escapism inherent in the form itself. If it's not entirely as great as some others of its ilk, it shouldn't be any fault of the filmmaker Joseph L. Mankiewicz. Not all the songs entirely click, and a little of the dialog feels like it's being performed for the stage as opposed to film (it's hard to tell at times- Brando and Sinatra straddle the line so often that one has to watch carefully to tell when one plays for the camera or for the \"stage\", while the actress playing Adele is better for stage than screen).<br /><br />The plot is one of those winners that works well for its period, even if one wonders if its influence has stretched to the likes of 1999's She's All That (well, not quite, but close). A gambler (and 14-year betrothed), played by Sinatra, wants to host a big-time game, but is told that the \"heat is on\", meaning the cops are on watch. So, he has only one choice to host the game, with a thousand dollar tab. The only way he can get it is through a big-time bet with fellow gambler Brando, who's put on to make a wild wooing job of a mission worker. It allows for the predictable twists in the story, in the sudden turn-on-turn-off of the charms of the character, of the idiosyncrasies of people from the streets (gangsters and dancers and the \"saitn\" played by Jean Simmons who falls for Brando). It is, in its basic concept, about this whole world of guys and dolls, and how to balance one or the other- obviously without getting married or too compromised.<br /><br />Mankiewicz brings a lot of energy to the piece, even when keeping still with the camera on the subject, and his stars are properly reeled in. Hell, even Brando works excellently for a musical as he goes beyond being simply THE method actor and shows his chops for singing and big-star quality. The story and characters eventually wind down to what you'd hope will happen, and that's fine. All we ask for- and what we get- is entertainment in good spurts of witty, involving dialog, and a few songs and dances that bring the house down (my favorites were the number with the lady-cats at the club, Luck be a Lady, and the two numbers down in Havana, Cuba). A- || 1\n",
            "============================================================\n",
            "============================================================\n",
            "For fans of Troma or the Cyberpunk genre mixed with a little blood shed then this film for you! There is a good amount of blood shed within the confines of this film, also the effects can be impressionable and awesome. The plot is ridiculous and refreshing, not being chained down to what we as audiences are expectant of from films these days.<br /><br />Also notable are the little aliens, who I found cute. All in all, it's a good film for fans of the genre. Also recommended are films such as Tetsuo:The Iron Man and Versus for that weird Japanese film approach, filled with wonderful obscurity and bloodshed. Of course, seeing this film you should already have knowledge of the two. || 1\n",
            "============================================================\n",
            "============================================================\n",
            "Fifteen years later and Paris Is Burning is still aflame. This is a classic in black gay films, right up there with the other honorary black gay films, The Color Purple and Mahoganoy. This seminal work captures underground and underclass (i.e.\"underserved) black and Latin gay culture and community like no other work before or since, including all the sentimental Harlem Rennaissance gay retrospectives and renderings. They're good, but this is the best (dare I say the only \"real\") film you'll find on the subject. It's Relentlessy Cunty (the classic house music invention)comes to Hollywood, non-stop, hilarious camp (like only we do it) and dead-on social critique. All this by a white female director (who obviously must have been a Sister Gurl or Mizz Thing in a former life.) I could go on, but I think you get the point by now: I love this movie! || 1\n",
            "============================================================\n"
          ],
          "name": "stdout"
        }
      ]
    },
    {
      "metadata": {
        "id": "Ggl3E39RTVVl",
        "colab_type": "text"
      },
      "cell_type": "markdown",
      "source": [
        "### TOKENIZING THE DATA\n",
        "\n",
        "Let’s vectorize the text and prepare a training and validation split. Pretrained word embeddings are meant to be particularly useful on problems where little training data is available (otherwise, task-specific embeddings are likely to outperform them), we’ll add the following twist: restricting the training data to the first $200 samples$. So you’ll learn to classify movie reviews after looking at just 200 examples."
      ]
    },
    {
      "metadata": {
        "id": "tuLFG5mGTVVl",
        "colab_type": "code",
        "colab": {}
      },
      "cell_type": "code",
      "source": [
        "# Cuts off reviews after 100 words\n",
        "# maxlen = 100\n",
        "maxlen = 500\n",
        "\n",
        "# # Trains on 200 samples\n",
        "training_samples = 200\n",
        "# # training_samples = 15000\n",
        "\n",
        "# # Validates on 10,000 samples\n",
        "# validation_samples = 10000\n",
        "\n",
        "# Considers only the top \n",
        "# 10,000 words in the dataset\n",
        "max_words = 10000\n",
        "\n",
        "# Training\n",
        "tokenizer_tr = Tokenizer(num_words=max_words)\n",
        "# tokenizer = Tokenizer()\n",
        "tokenizer_tr.fit_on_texts(texts_tr)\n",
        "sequences_tr = tokenizer_tr.texts_to_sequences(texts_tr)\n",
        "\n",
        "# Testing \n",
        "tokenizer_tst = Tokenizer(num_words=max_words)\n",
        "tokenizer_tst.fit_on_texts(texts_tst)\n",
        "sequences_tst = tokenizer_tst.texts_to_sequences(texts_tst)"
      ],
      "execution_count": 0,
      "outputs": []
    },
    {
      "metadata": {
        "id": "w8P7lETVTVVo",
        "colab_type": "code",
        "colab": {}
      },
      "cell_type": "code",
      "source": [
        "# word_index = tokenizer.word_index\n",
        "# print('Found %s unique tokens.' % len(word_index))\n",
        "\n",
        "# data = pad_sequences(sequences, maxlen=maxlen)\n",
        "# labels = np.asarray(labels)\n",
        "# print('Shape of data tensor:', data.shape)\n",
        "# print('Shape of label tensor:', labels.shape)\n",
        "\n",
        "# # Splits the data into a training set and a \n",
        "# # validation set, but first shuffles the data, \n",
        "# # because you’re starting with data in which \n",
        "# # samples are ordered (all negative first, then \n",
        "# # all positive) \n",
        "# indices = np.arange(data.shape[0])\n",
        "# np.random.shuffle(indices)\n",
        "# data = data[indices]\n",
        "# labels = labels[indices]\n",
        "\n",
        "# x_train = data[:training_samples]\n",
        "# y_train = labels[:training_samples]\n",
        "# x_val = data[training_samples: training_samples + validation_samples]\n",
        "# y_val = labels[training_samples: training_samples + validation_samples]"
      ],
      "execution_count": 0,
      "outputs": []
    },
    {
      "metadata": {
        "id": "gGtmIYSw2xPt",
        "colab_type": "code",
        "colab": {
          "base_uri": "https://localhost:8080/",
          "height": 212
        },
        "outputId": "8c2f15b7-5430-4185-ea0d-94dc04b0b2ed"
      },
      "cell_type": "code",
      "source": [
        "word_index = tokenizer_tr.word_index # only based on the training \n",
        "print('Found %s unique tokens.' % len(word_index))\n",
        "\n",
        "# Train \n",
        "data_tr = pad_sequences(sequences_tr, maxlen=maxlen)\n",
        "labels_tr = np.asarray(labels_tr)\n",
        "print('\\nTraining Part\\n ##############')\n",
        "print('Shape of data tensor:', data_tr.shape)\n",
        "print('Shape of label tensor:', labels_tr.shape)\n",
        "\n",
        "\n",
        "\n",
        "# Testing \n",
        "data_tst = pad_sequences(sequences_tst, maxlen=maxlen)\n",
        "labels_tst = np.asarray(labels_tst)\n",
        "print('\\nTesting Part\\n ##############')\n",
        "print('Shape of data tensor:', data_tst.shape)\n",
        "print('Shape of label tensor:', labels_tst.shape)"
      ],
      "execution_count": 9,
      "outputs": [
        {
          "output_type": "stream",
          "text": [
            "Found 88582 unique tokens.\n",
            "\n",
            "Training Part\n",
            " ##############\n",
            "Shape of data tensor: (25000, 500)\n",
            "Shape of label tensor: (25000,)\n",
            "\n",
            "Testing Part\n",
            " ##############\n",
            "Shape of data tensor: (25000, 500)\n",
            "Shape of label tensor: (25000,)\n"
          ],
          "name": "stdout"
        }
      ]
    },
    {
      "metadata": {
        "id": "sDh5uBHOfDSu",
        "colab_type": "text"
      },
      "cell_type": "markdown",
      "source": [
        "One May run this cell several time to check how the accuracy is affected as we suffle the data"
      ]
    },
    {
      "metadata": {
        "id": "cIl9lWXSe61b",
        "colab_type": "code",
        "colab": {
          "base_uri": "https://localhost:8080/",
          "height": 105
        },
        "outputId": "64203bbe-4298-48b1-f970-2f200a0fad62"
      },
      "cell_type": "code",
      "source": [
        "# Splits the data into a training set and a \n",
        "# validation set, but first shuffles the data, \n",
        "# because you’re starting with data in which \n",
        "# samples are ordered (all negative first, then \n",
        "# all positive) \n",
        "indices = np.arange(data_tr.shape[0])\n",
        "np.random.shuffle(indices)\n",
        "x_train = data_tr[indices]\n",
        "x_train = x_train[:training_samples]\n",
        "\n",
        "y_train = labels_tr[indices]\n",
        "y_train = y_train[:training_samples]\n",
        "\n",
        "\n",
        "# Splits the data into a training set and a \n",
        "# validation set, but first shuffles the data, \n",
        "# because you’re starting with data in which \n",
        "# samples are ordered (all negative first, then \n",
        "# all positive) \n",
        "indices = np.arange(data_tst.shape[0])\n",
        "np.random.shuffle(indices)\n",
        "x_test = data_tst[indices]\n",
        "y_test = labels_tst[indices]\n",
        "\n",
        "#Explore the data structure using basic python commands\n",
        "print(\"Type of the Dataset:\",type(x_train))\n",
        "print(\"Shape of training data :\",x_train.shape)\n",
        "print(\"Shape of training labels :\",y_train.shape)\n",
        "print(\"Shape of testing data :\",x_test.shape)\n",
        "print(\"Shape of testing labels :\",y_test.shape)"
      ],
      "execution_count": 10,
      "outputs": [
        {
          "output_type": "stream",
          "text": [
            "Type of the Dataset: <class 'numpy.ndarray'>\n",
            "Shape of training data : (200, 500)\n",
            "Shape of training labels : (200,)\n",
            "Shape of testing data : (25000, 500)\n",
            "Shape of testing labels : (25000,)\n"
          ],
          "name": "stdout"
        }
      ]
    },
    {
      "metadata": {
        "id": "9wpVm2xDUT1r",
        "colab_type": "text"
      },
      "cell_type": "markdown",
      "source": [
        "Now, let;s take a few random samples and check if the labels are expected!"
      ]
    },
    {
      "metadata": {
        "id": "hz8B0qC0TVWB",
        "colab_type": "text"
      },
      "cell_type": "markdown",
      "source": [
        "###  GLOVE WORD EMBEDDINGS"
      ]
    },
    {
      "metadata": {
        "id": "NUtSjGG5TVWD",
        "colab_type": "text"
      },
      "cell_type": "markdown",
      "source": [
        "Go  to  https://nlp.stanford.edu/projects/glove,  and  download  the  precomputed\n",
        "embeddings from 2014 English Wikipedia.  It’s an 822 MB zip file called glove.6B.zip,\n",
        "containing  300-dimensional  embedding  vectors  for  400,000  words  (or  nonword\n",
        "tokens). Unzip it. "
      ]
    },
    {
      "metadata": {
        "id": "wS--GtlvrIu0",
        "colab_type": "code",
        "outputId": "1f338e6b-2298-4307-edac-f6c4ee49b1be",
        "colab": {
          "base_uri": "https://localhost:8080/",
          "height": 34
        }
      },
      "cell_type": "code",
      "source": [
        "link = \"https://drive.google.com/file/d/1qlkC4-gpOhJVVvja8NEnnYPJFFzUu1CW/view?usp=sharing\"\n",
        "\n",
        "_, id_t = link.split('d/')\n",
        "\n",
        "id = id_t.split('/')[0]\n",
        "print (id) # Verify that you have everything after '='\n",
        "\n",
        "# Install the PyDrive wrapper & import libraries.\n",
        "# This only needs to be done once per notebook.\n",
        "!pip install -U -q PyDrive\n",
        "from pydrive.auth import GoogleAuth\n",
        "from pydrive.drive import GoogleDrive\n",
        "from google.colab import auth\n",
        "from oauth2client.client import GoogleCredentials\n",
        "\n",
        "# Authenticate and create the PyDrive client.\n",
        "# This only needs to be done once per notebook.\n",
        "auth.authenticate_user()\n",
        "gauth = GoogleAuth()\n",
        "gauth.credentials = GoogleCredentials.get_application_default()\n",
        "drive = GoogleDrive(gauth)\n",
        "\n",
        "\n",
        "file_id = id\n",
        "downloaded = drive.CreateFile({'id':file_id})\n",
        "downloaded.FetchMetadata(fetch_all=True)\n",
        "downloaded.GetContentFile(downloaded.metadata['title'])"
      ],
      "execution_count": 43,
      "outputs": [
        {
          "output_type": "stream",
          "text": [
            "1qlkC4-gpOhJVVvja8NEnnYPJFFzUu1CW\n"
          ],
          "name": "stdout"
        }
      ]
    },
    {
      "metadata": {
        "id": "lR2rRMzvrLI9",
        "colab_type": "code",
        "outputId": "091db5f5-77b9-4359-d3f4-9b562f4f5ff9",
        "colab": {
          "base_uri": "https://localhost:8080/",
          "height": 34
        }
      },
      "cell_type": "code",
      "source": [
        "!ls"
      ],
      "execution_count": 44,
      "outputs": [
        {
          "output_type": "stream",
          "text": [
            "aclImdb  aclImdb.zip  adc.json\tglove.840B.300d.zip  __MACOSX  sample_data\n"
          ],
          "name": "stdout"
        }
      ]
    },
    {
      "metadata": {
        "id": "oNqcYYiMrvs4",
        "colab_type": "code",
        "outputId": "cdec25ad-cfbd-4a26-bf12-2cc060afc18b",
        "colab": {
          "base_uri": "https://localhost:8080/",
          "height": 52
        }
      },
      "cell_type": "code",
      "source": [
        "!unzip glove.840B.300d.zip"
      ],
      "execution_count": 46,
      "outputs": [
        {
          "output_type": "stream",
          "text": [
            "Archive:  glove.840B.300d.zip\n",
            "  inflating: glove.840B.300d.txt     \n"
          ],
          "name": "stdout"
        }
      ]
    },
    {
      "metadata": {
        "id": "XMsM1M_FTVWE",
        "colab_type": "code",
        "outputId": "d7f5df5d-fe29-4707-b0c3-053561e99c82",
        "colab": {
          "base_uri": "https://localhost:8080/",
          "height": 34
        }
      },
      "cell_type": "code",
      "source": [
        "# PREPROCESSING THE EMBEDDINGS\n",
        "# glove_dir = './data/glove.6B'\n",
        "glove_dir = './'\n",
        "embeddings_index = {}\n",
        "\n",
        "f = open(os.path.join(glove_dir, 'glove.840B.300d.txt'), encoding=\"utf8\")\n",
        "\n",
        "for line in f:\n",
        "    values = line.split()\n",
        "    word = ''.join(values[:-300]) # 300 as our file has 300d\n",
        "    coefs = np.asarray(values[-300:], dtype='float32') #; ipdb.set_trace()\n",
        "    embeddings_index[word] = coefs\n",
        "f.close()\n",
        "\n",
        "# for line in f:\n",
        "#     values = line.split()\n",
        "#     word = values[0]\n",
        "#     coefs = np.asarray(values[1:], dtype='float32')\n",
        "#     embeddings_index[word] = coefs\n",
        "# f.close()\n",
        "print('Found %s word vectors.' % len(embeddings_index))"
      ],
      "execution_count": 47,
      "outputs": [
        {
          "output_type": "stream",
          "text": [
            "Found 2195892 word vectors.\n"
          ],
          "name": "stdout"
        }
      ]
    },
    {
      "metadata": {
        "id": "jzXqg484yOtw",
        "colab_type": "text"
      },
      "cell_type": "markdown",
      "source": [
        "Well, we have axactly $2,195,89$ words as expected, of dimension $100$"
      ]
    },
    {
      "metadata": {
        "id": "wgNRmRe7TVWO",
        "colab_type": "code",
        "outputId": "7941c1fc-fe8d-4c62-d516-93e2029e9aa6",
        "colab": {
          "base_uri": "https://localhost:8080/",
          "height": 34
        }
      },
      "cell_type": "code",
      "source": [
        "embeddings_index['hello'].shape"
      ],
      "execution_count": 79,
      "outputs": [
        {
          "output_type": "execute_result",
          "data": {
            "text/plain": [
              "(300,)"
            ]
          },
          "metadata": {
            "tags": []
          },
          "execution_count": 79
        }
      ]
    },
    {
      "metadata": {
        "id": "f7ZwfN-3TVWT",
        "colab_type": "text"
      },
      "cell_type": "markdown",
      "source": [
        "Next, you’ll build an embedding matrix that you can load into an Embedding layer. It\n",
        "must be a matrix of shape $(max\\_words, embedding_dim=1000)$, where each entry i contains\n",
        "the embedding_dim-dimensional vector for the word of index i in the reference word\n",
        "index (built during tokenization). Note that index 0 isn’t supposed to stand for any\n",
        "word or token—it’s a placeholder"
      ]
    },
    {
      "metadata": {
        "id": "CzFZy_caTVWW",
        "colab_type": "code",
        "colab": {}
      },
      "cell_type": "code",
      "source": [
        "embedding_dim = embeddings_index['hello'].shape[0]\n",
        "# Cuts off reviews after 100 words\n",
        "maxlen = 500\n",
        "\n",
        "# Considers only the top \n",
        "# 10,000 words in the dataset\n",
        "max_words = 10000\n",
        "\n",
        "embedding_matrix = np.zeros((max_words, embedding_dim))\n",
        "\n",
        "for word, i in word_index.items():\n",
        "    if i < max_words:\n",
        "#         ipdb.set_trace()\n",
        "        embedding_vector = embeddings_index.get(word)\n",
        "        # cheking that th eword exist in the embedding dictionary\n",
        "        if embedding_vector is not None: \n",
        "            embedding_matrix[i] = embedding_vector"
      ],
      "execution_count": 0,
      "outputs": []
    },
    {
      "metadata": {
        "id": "vRfYQ8rsTVWY",
        "colab_type": "code",
        "outputId": "58702681-c81e-4bf9-be07-bcd73f8473d2",
        "colab": {
          "base_uri": "https://localhost:8080/",
          "height": 1083
        }
      },
      "cell_type": "code",
      "source": [
        "embedding_matrix[-1] # looking at the last element"
      ],
      "execution_count": 81,
      "outputs": [
        {
          "output_type": "execute_result",
          "data": {
            "text/plain": [
              "array([-0.068528  ,  0.45958999,  0.018539  , -0.53644001,  0.35394001,\n",
              "       -0.35152   ,  0.078778  ,  0.12740999,  0.52928001,  0.62096   ,\n",
              "       -0.75994003, -0.31343001,  0.13381   , -0.03789   , -0.40671   ,\n",
              "       -0.098737  ,  0.13415   ,  0.90764999,  0.34279999, -0.52192003,\n",
              "       -0.23233999, -0.29030001,  0.37049001, -0.56544   , -0.0023271 ,\n",
              "        0.13129   , -0.49311   ,  0.16054   ,  0.099735  , -0.13713001,\n",
              "        0.32255   , -0.25729999,  0.11523   ,  0.099993  ,  0.078515  ,\n",
              "        0.31130001, -0.21955   ,  0.15638   ,  0.27340001,  0.22973999,\n",
              "       -0.1997    , -0.025547  , -0.26411   , -0.099569  , -0.34459999,\n",
              "       -0.20026   ,  0.17815   ,  0.1339    ,  0.24776   ,  0.028355  ,\n",
              "       -0.36414   , -0.13376001,  0.098335  , -0.86383998,  0.082803  ,\n",
              "        0.25937   , -0.0073275 ,  0.36594   , -0.014414  , -0.18960001,\n",
              "       -0.84470999, -0.14161   , -0.030128  , -0.27522999,  0.16633999,\n",
              "        0.18104   , -0.41111001,  0.15974   , -0.24508999, -0.20941   ,\n",
              "       -0.22263999, -0.05554   , -0.33133   , -0.34858   ,  0.30063999,\n",
              "        0.58574998, -0.31786001,  0.12341   ,  0.27463999,  0.41167   ,\n",
              "       -0.080331  ,  0.53081   , -0.20781   , -0.49768999, -0.53154999,\n",
              "        0.36351001,  1.24249995,  0.35264999, -0.35639   , -0.57020998,\n",
              "        0.022342  , -0.33028999,  0.17343999, -0.92998999,  0.47981   ,\n",
              "        0.0024387 ,  0.30761001, -0.060123  ,  0.23736   , -0.10665   ,\n",
              "       -0.40672001, -0.51138002,  0.14061999,  0.77859002, -0.066568  ,\n",
              "       -1.13569999,  0.20832001,  0.034592  , -0.23594999, -0.4382    ,\n",
              "        0.40507001,  0.44848001,  0.17891   , -0.26558   , -0.42829999,\n",
              "        0.23849   ,  0.75209999, -0.30037001,  0.075963  ,  0.16906001,\n",
              "        0.45300001,  0.67650002,  0.18094   ,  0.014279  , -0.0098222 ,\n",
              "       -0.13849001,  0.14899001,  0.34731999, -0.38545001,  0.18907   ,\n",
              "        0.056587  , -0.63312   , -0.13204999, -0.62900001,  0.22758   ,\n",
              "       -0.19815999, -0.33805999, -0.27643999,  0.27024001, -0.56533998,\n",
              "       -1.24329996,  0.069682  ,  0.59495002, -0.22347   ,  0.22860999,\n",
              "        0.068897  ,  0.18565001,  0.23375   , -0.30915001, -0.52652001,\n",
              "       -0.062782  , -0.60241002, -0.50800002, -0.35576001,  0.14643   ,\n",
              "       -0.17397   , -0.23789001,  0.038562  , -0.43511   ,  0.47042999,\n",
              "        0.50362003,  0.18817   , -0.23853999, -0.26517001,  0.20734   ,\n",
              "        0.097861  ,  0.23355   ,  0.25391999,  0.21741   ,  0.25780001,\n",
              "       -0.53012002,  0.56607997, -0.14915   , -0.23135   , -0.059422  ,\n",
              "       -0.33184001, -0.19385   ,  0.74247998,  0.068607  , -0.12955   ,\n",
              "       -0.35005   ,  0.15211999, -0.2043    , -0.061594  ,  0.11642   ,\n",
              "        0.61396003, -0.16099   , -0.48356   , -0.084071  ,  0.33421999,\n",
              "       -0.019773  ,  0.040742  , -0.053901  , -0.035275  , -0.31349999,\n",
              "        0.58721   , -0.16496   ,  0.10731   ,  0.13979   ,  0.042947  ,\n",
              "        0.37213001, -0.86799997,  0.21901999, -0.16269   , -0.67637998,\n",
              "       -0.10349   ,  0.095689  ,  0.33963001,  0.43687001, -0.21252   ,\n",
              "       -0.047153  ,  0.50064999,  0.022196  ,  0.84540999, -0.73514003,\n",
              "        0.22973999,  0.1099    ,  0.034693  ,  0.3048    , -0.16727   ,\n",
              "        0.18282001,  0.30030999, -0.47479999, -0.15932   , -0.022228  ,\n",
              "        0.0051185 , -0.63716   ,  0.22735   ,  0.38146001, -0.19269   ,\n",
              "        0.39388999,  0.44148001,  0.33432999, -0.045143  , -0.53863001,\n",
              "       -0.21334   , -0.083726  , -0.65490001,  0.038475  ,  0.40825   ,\n",
              "        0.14277001, -0.06945   ,  0.31116   , -0.48758999, -0.23444   ,\n",
              "        0.31814   ,  0.29786   ,  0.1673    , -0.39109001, -0.60829997,\n",
              "        0.49313   , -0.039667  ,  0.28995001, -0.41779   ,  0.39465001,\n",
              "       -0.52982998,  0.15109   , -0.037451  ,  0.22249   ,  0.022924  ,\n",
              "        0.15011001, -0.53663999,  0.086832  ,  0.32337001, -0.28977001,\n",
              "       -0.35635999, -0.36568999,  0.28167   , -1.18130004,  0.79602998,\n",
              "       -0.78574997,  0.34048   ,  0.24304   ,  0.4109    ,  0.025391  ,\n",
              "       -0.25297999,  0.30166   , -0.67377001, -0.51582998, -0.67388999,\n",
              "       -0.0054575 , -0.32212001, -0.41582999,  0.34334999, -0.0040147 ,\n",
              "        0.39675   ,  0.032879  ,  0.23630001, -0.033035  , -0.01576   ,\n",
              "        0.36945999, -0.16269   ,  0.03695   ,  0.10878   , -0.018512  ,\n",
              "       -0.57380998,  0.040806  , -0.043542  , -0.70174003,  0.088809  ])"
            ]
          },
          "metadata": {
            "tags": []
          },
          "execution_count": 81
        }
      ]
    },
    {
      "metadata": {
        "id": "_-nBo7vzTVWf",
        "colab_type": "code",
        "outputId": "e81863e1-cf9c-4882-b57e-63643aa7da28",
        "colab": {
          "base_uri": "https://localhost:8080/",
          "height": 34
        }
      },
      "cell_type": "code",
      "source": [
        "embedding_matrix.shape"
      ],
      "execution_count": 83,
      "outputs": [
        {
          "output_type": "execute_result",
          "data": {
            "text/plain": [
              "(10000, 300)"
            ]
          },
          "metadata": {
            "tags": []
          },
          "execution_count": 83
        }
      ]
    },
    {
      "metadata": {
        "id": "FCaF_ZbrTVWj",
        "colab_type": "code",
        "outputId": "7806b178-0fc9-4c82-ebb2-0b9fe0808fa7",
        "colab": {
          "base_uri": "https://localhost:8080/",
          "height": 70
        }
      },
      "cell_type": "code",
      "source": [
        "print(f\"Max_words = {max_words}, \\nEmbedding_dim = {embedding_dim} and \\nInput_length = {maxlen}\")"
      ],
      "execution_count": 49,
      "outputs": [
        {
          "output_type": "stream",
          "text": [
            "Max_words = 10000, \n",
            "Embedding_dim = 300 and \n",
            "Input_length = 500\n"
          ],
          "name": "stdout"
        }
      ]
    },
    {
      "metadata": {
        "colab_type": "code",
        "outputId": "1a59f95c-0952-4bf0-b945-9f8389106b14",
        "id": "fi8hJYi514hA",
        "colab": {
          "base_uri": "https://localhost:8080/",
          "height": 283
        }
      },
      "cell_type": "code",
      "source": [
        "model = tf.keras.Sequential()\n",
        "# model.add(Embedding(max_words, embedding_dim, input_length=maxlen))\n",
        "model.add(tf.keras.layers.Embedding(max_words, embedding_dim, input_length=x_train.shape[1]))\n",
        "model.add(tf.keras.layers.Flatten())\n",
        "model.add(tf.keras.layers.Dense(32, activation='relu'))\n",
        "model.add(tf.keras.layers.Dense(1, activation='sigmoid'))\n",
        "\n",
        "model.layers[0].set_weights([embedding_matrix])\n",
        "#  freeze the Embedding layer\n",
        "# the pretrained parts shouldn’t\n",
        "# be updated during training, to avoid forgetting what they already know\n",
        "model.layers[0].trainable = False\n",
        "\n",
        "model.summary()"
      ],
      "execution_count": 50,
      "outputs": [
        {
          "output_type": "stream",
          "text": [
            "_________________________________________________________________\n",
            "Layer (type)                 Output Shape              Param #   \n",
            "=================================================================\n",
            "embedding (Embedding)        (None, 500, 300)          3000000   \n",
            "_________________________________________________________________\n",
            "flatten (Flatten)            (None, 150000)            0         \n",
            "_________________________________________________________________\n",
            "dense (Dense)                (None, 32)                4800032   \n",
            "_________________________________________________________________\n",
            "dense_1 (Dense)              (None, 1)                 33        \n",
            "=================================================================\n",
            "Total params: 7,800,065\n",
            "Trainable params: 4,800,065\n",
            "Non-trainable params: 3,000,000\n",
            "_________________________________________________________________\n"
          ],
          "name": "stdout"
        }
      ]
    },
    {
      "metadata": {
        "colab_type": "code",
        "outputId": "5228a972-375d-4f04-98b9-83882f83c6fb",
        "id": "kBH1MQ6m14hH",
        "colab": {
          "base_uri": "https://localhost:8080/",
          "height": 407
        }
      },
      "cell_type": "code",
      "source": [
        "model.compile(optimizer=tf.keras.optimizers.RMSprop(lr=1e-4),\n",
        "              loss='binary_crossentropy',\n",
        "              metrics=['acc'])\n",
        "\n",
        "model.fit(x_train, y_train,\n",
        "          epochs=10, batch_size=32,\n",
        "          validation_split=0.2)\n",
        "\n",
        "# model.save_weights('pre_trained_word2vec_model.h5')"
      ],
      "execution_count": 53,
      "outputs": [
        {
          "output_type": "stream",
          "text": [
            "Train on 160 samples, validate on 40 samples\n",
            "Epoch 1/10\n",
            "160/160 [==============================] - 0s 1ms/sample - loss: 2.5403 - acc: 0.4313 - val_loss: 0.8823 - val_acc: 0.6750\n",
            "Epoch 2/10\n",
            "160/160 [==============================] - 0s 211us/sample - loss: 0.5078 - acc: 0.8000 - val_loss: 0.7979 - val_acc: 0.6750\n",
            "Epoch 3/10\n",
            "160/160 [==============================] - 0s 209us/sample - loss: 0.1575 - acc: 0.9438 - val_loss: 0.7950 - val_acc: 0.6750\n",
            "Epoch 4/10\n",
            "160/160 [==============================] - 0s 219us/sample - loss: 0.0662 - acc: 1.0000 - val_loss: 0.7961 - val_acc: 0.6500\n",
            "Epoch 5/10\n",
            "160/160 [==============================] - 0s 218us/sample - loss: 0.0389 - acc: 1.0000 - val_loss: 0.8022 - val_acc: 0.6500\n",
            "Epoch 6/10\n",
            "160/160 [==============================] - 0s 259us/sample - loss: 0.0268 - acc: 1.0000 - val_loss: 0.8057 - val_acc: 0.6500\n",
            "Epoch 7/10\n",
            "160/160 [==============================] - 0s 216us/sample - loss: 0.0189 - acc: 1.0000 - val_loss: 0.8120 - val_acc: 0.6500\n",
            "Epoch 8/10\n",
            "160/160 [==============================] - 0s 206us/sample - loss: 0.0141 - acc: 1.0000 - val_loss: 0.8160 - val_acc: 0.6500\n",
            "Epoch 9/10\n",
            "160/160 [==============================] - 0s 209us/sample - loss: 0.0106 - acc: 1.0000 - val_loss: 0.8225 - val_acc: 0.6750\n",
            "Epoch 10/10\n",
            "160/160 [==============================] - 0s 202us/sample - loss: 0.0079 - acc: 1.0000 - val_loss: 0.8246 - val_acc: 0.6500\n"
          ],
          "name": "stdout"
        },
        {
          "output_type": "execute_result",
          "data": {
            "text/plain": [
              "<tensorflow.python.keras.callbacks.History at 0x7fe688121b38>"
            ]
          },
          "metadata": {
            "tags": []
          },
          "execution_count": 53
        }
      ]
    },
    {
      "metadata": {
        "id": "sRnmKoiNTVWq",
        "colab_type": "text"
      },
      "cell_type": "markdown",
      "source": [
        "The Embedding layer has a single weight matrix: a 2D float matrix where each entry i is\n",
        "the word vector meant to be associated with index i. Simple enough. Load the GloVe\n",
        "matrix you prepared into the Embedding layer, the first layer in the model."
      ]
    },
    {
      "metadata": {
        "id": "HMeziITC6cgl",
        "colab_type": "code",
        "colab": {
          "base_uri": "https://localhost:8080/",
          "height": 70
        },
        "outputId": "03302af9-fa94-4f47-d0f7-2d6088f5b139"
      },
      "cell_type": "code",
      "source": [
        "result = model.evaluate(x_test, y_test)\n",
        "for i in range(len(model.metrics_names)):\n",
        "     print(\"Metric \",model.metrics_names[i],\":\", str(round(result[i],5)))"
      ],
      "execution_count": 55,
      "outputs": [
        {
          "output_type": "stream",
          "text": [
            "25000/25000 [==============================] - 1s 59us/sample - loss: 2.0270 - acc: 0.4964\n",
            "Metric  loss : 2.02696\n",
            "Metric  acc : 0.4964\n"
          ],
          "name": "stdout"
        }
      ]
    },
    {
      "metadata": {
        "id": "mbxwIvrdTVWz",
        "colab_type": "code",
        "outputId": "df12699a-d33d-41eb-d392-1f5f9f7c2a2c",
        "colab": {
          "base_uri": "https://localhost:8080/",
          "height": 563
        }
      },
      "cell_type": "code",
      "source": [
        "acc = model.history.history['acc']\n",
        "val_acc = model.history.history['val_acc']\n",
        "loss = model.history.history['loss']\n",
        "val_loss = model.history.history['val_loss']\n",
        "\n",
        "epochs = range(1, len(acc) + 1)\n",
        "\n",
        "plt.figure()\n",
        "# plt.figure(figsize=(9,8))\n",
        "plt.plot(epochs, loss, label='Training loss')\n",
        "plt.plot(epochs, val_loss, label='Validation loss')\n",
        "plt.title('Training and validation loss')\n",
        "plt.legend()\n",
        "plt.show()\n",
        "\n",
        "\n",
        "plt.figure()\n",
        "plt.plot(epochs, acc, label='Training acc')\n",
        "plt.plot(epochs, val_acc, label='Validation acc')\n",
        "plt.title('Training and validation accuracy')\n",
        "plt.legend()"
      ],
      "execution_count": 56,
      "outputs": [
        {
          "output_type": "display_data",
          "data": {
            "image/png": "[encoded data removed]",
            "text/plain": [
              "<Figure size 432x288 with 1 Axes>"
            ]
          },
          "metadata": {
            "tags": []
          }
        },
        {
          "output_type": "execute_result",
          "data": {
            "text/plain": [
              "<matplotlib.legend.Legend at 0x7fe671f25048>"
            ]
          },
          "metadata": {
            "tags": []
          },
          "execution_count": 56
        },
        {
          "output_type": "display_data",
          "data": {
            "image/png": "[encoded data removed]",
            "text/plain": [
              "<Figure size 432x288 with 1 Axes>"
            ]
          },
          "metadata": {
            "tags": []
          }
        }
      ]
    },
    {
      "metadata": {
        "colab_type": "text",
        "id": "b9cBEI3z0FYX"
      },
      "cell_type": "markdown",
      "source": [
        "#### 1D convnt"
      ]
    },
    {
      "metadata": {
        "colab_type": "code",
        "outputId": "ae6fd7ee-9f48-4bd7-db1f-6c44ad6157ea",
        "id": "nL1RqOkG0FYZ",
        "colab": {
          "base_uri": "https://localhost:8080/",
          "height": 354
        }
      },
      "cell_type": "code",
      "source": [
        "model = tf.keras.Sequential()\n",
        "model.add(tf.keras.layers.Embedding(max_words, embedding_dim, input_length=x_train.shape[1]))\n",
        "model.add(tf.keras.layers.Conv1D(32, 7, \n",
        "                                 activation='relu'))\n",
        "model.add(tf.keras.layers.MaxPooling1D(5))\n",
        "model.add(tf.keras.layers.Conv1D(32, 7, \n",
        "                                 activation='relu'))\n",
        "model.add(tf.keras.layers.GlobalMaxPooling1D())\n",
        "model.add(tf.keras.layers.Dense(1))\n",
        "\n",
        "model.layers[0].set_weights([embedding_matrix])\n",
        "#  freeze the Embedding layer\n",
        "# the pretrained parts shouldn’t\n",
        "# be updated during training, to avoid forgetting what they already know\n",
        "model.layers[0].trainable = False\n",
        "\n",
        "model.summary()"
      ],
      "execution_count": 57,
      "outputs": [
        {
          "output_type": "stream",
          "text": [
            "_________________________________________________________________\n",
            "Layer (type)                 Output Shape              Param #   \n",
            "=================================================================\n",
            "embedding_1 (Embedding)      (None, 500, 300)          3000000   \n",
            "_________________________________________________________________\n",
            "conv1d (Conv1D)              (None, 494, 32)           67232     \n",
            "_________________________________________________________________\n",
            "max_pooling1d (MaxPooling1D) (None, 98, 32)            0         \n",
            "_________________________________________________________________\n",
            "conv1d_1 (Conv1D)            (None, 92, 32)            7200      \n",
            "_________________________________________________________________\n",
            "global_max_pooling1d (Global (None, 32)                0         \n",
            "_________________________________________________________________\n",
            "dense_2 (Dense)              (None, 1)                 33        \n",
            "=================================================================\n",
            "Total params: 3,074,465\n",
            "Trainable params: 74,465\n",
            "Non-trainable params: 3,000,000\n",
            "_________________________________________________________________\n"
          ],
          "name": "stdout"
        }
      ]
    },
    {
      "metadata": {
        "colab_type": "code",
        "outputId": "d77fc867-cd7b-4785-a6d7-6a730e69b85b",
        "id": "HefMNwP00FYr",
        "colab": {
          "base_uri": "https://localhost:8080/",
          "height": 481
        }
      },
      "cell_type": "code",
      "source": [
        "model.compile(optimizer=tf.keras.optimizers.RMSprop(lr=1e-4),\n",
        "              loss='binary_crossentropy',\n",
        "              metrics=['acc'])\n",
        "\n",
        "model.fit(x_train, y_train,\n",
        "          epochs=10, batch_size=32,\n",
        "          validation_split=0.2)\n",
        "#                     validation_data=(x_val, y_val))\n",
        "\n",
        "# model.save_weights('pre_trained_word2vec_model.h5')"
      ],
      "execution_count": 58,
      "outputs": [
        {
          "output_type": "stream",
          "text": [
            "Train on 160 samples, validate on 40 samples\n",
            "WARNING:tensorflow:From /usr/local/lib/python3.6/dist-packages/tensorflow/python/ops/math_grad.py:102: div (from tensorflow.python.ops.math_ops) is deprecated and will be removed in a future version.\n",
            "Instructions for updating:\n",
            "Deprecated in favor of operator or tf.math.divide.\n",
            "Epoch 1/10\n",
            "160/160 [==============================] - 3s 21ms/sample - loss: 7.4730 - acc: 0.5312 - val_loss: 8.7683 - val_acc: 0.4500\n",
            "Epoch 2/10\n",
            "160/160 [==============================] - 0s 216us/sample - loss: 7.4730 - acc: 0.5312 - val_loss: 8.7683 - val_acc: 0.4500\n",
            "Epoch 3/10\n",
            "160/160 [==============================] - 0s 217us/sample - loss: 7.4730 - acc: 0.5312 - val_loss: 8.7683 - val_acc: 0.4500\n",
            "Epoch 4/10\n",
            "160/160 [==============================] - 0s 212us/sample - loss: 7.4730 - acc: 0.5312 - val_loss: 8.7683 - val_acc: 0.4500\n",
            "Epoch 5/10\n",
            "160/160 [==============================] - 0s 207us/sample - loss: 7.4730 - acc: 0.5312 - val_loss: 8.7683 - val_acc: 0.4500\n",
            "Epoch 6/10\n",
            "160/160 [==============================] - 0s 206us/sample - loss: 7.4730 - acc: 0.5312 - val_loss: 8.7683 - val_acc: 0.4500\n",
            "Epoch 7/10\n",
            "160/160 [==============================] - 0s 199us/sample - loss: 7.4730 - acc: 0.5312 - val_loss: 8.7683 - val_acc: 0.4500\n",
            "Epoch 8/10\n",
            "160/160 [==============================] - 0s 194us/sample - loss: 7.4730 - acc: 0.5312 - val_loss: 8.7683 - val_acc: 0.4500\n",
            "Epoch 9/10\n",
            "160/160 [==============================] - 0s 187us/sample - loss: 7.4730 - acc: 0.5312 - val_loss: 8.7683 - val_acc: 0.4500\n",
            "Epoch 10/10\n",
            "160/160 [==============================] - 0s 193us/sample - loss: 7.4730 - acc: 0.5312 - val_loss: 8.7683 - val_acc: 0.4500\n"
          ],
          "name": "stdout"
        },
        {
          "output_type": "execute_result",
          "data": {
            "text/plain": [
              "<tensorflow.python.keras.callbacks.History at 0x7fe6715078d0>"
            ]
          },
          "metadata": {
            "tags": []
          },
          "execution_count": 58
        }
      ]
    },
    {
      "metadata": {
        "colab_type": "code",
        "outputId": "9e7c5d8c-96b7-4d59-f0a9-d9115828e792",
        "id": "72pviZKy0FY6",
        "colab": {
          "base_uri": "https://localhost:8080/",
          "height": 70
        }
      },
      "cell_type": "code",
      "source": [
        "result = model.evaluate(x_test, y_test)\n",
        "for i in range(len(model.metrics_names)):\n",
        "     print(\"Metric \",model.metrics_names[i],\":\", str(round(result[i],5)))"
      ],
      "execution_count": 59,
      "outputs": [
        {
          "output_type": "stream",
          "text": [
            "25000/25000 [==============================] - 2s 71us/sample - loss: 7.9263 - acc: 0.5000\n",
            "Metric  loss : 7.92631\n",
            "Metric  acc : 0.49996\n"
          ],
          "name": "stdout"
        }
      ]
    },
    {
      "metadata": {
        "colab_type": "code",
        "outputId": "2f11dc5b-8c31-4c6a-d600-ad1dbb45ab0e",
        "id": "yYP-zCOE0FZA",
        "colab": {
          "base_uri": "https://localhost:8080/",
          "height": 563
        }
      },
      "cell_type": "code",
      "source": [
        "acc = model.history.history['acc']\n",
        "val_acc = model.history.history['val_acc']\n",
        "loss = model.history.history['loss']\n",
        "val_loss = model.history.history['val_loss']\n",
        "\n",
        "epochs = range(1, len(acc) + 1)\n",
        "\n",
        "plt.figure()\n",
        "# plt.figure(figsize=(9,8))\n",
        "plt.plot(epochs, loss, 'bo', label='Training loss')\n",
        "plt.plot(epochs, val_loss, 'b', label='Validation loss')\n",
        "plt.title('Training and validation loss')\n",
        "plt.legend()\n",
        "plt.show()\n",
        "\n",
        "\n",
        "plt.figure()\n",
        "plt.plot(epochs, acc, 'bo', label='Training acc')\n",
        "plt.plot(epochs, val_acc, 'b', label='Validation acc')\n",
        "plt.title('Training and validation accuracy')\n",
        "plt.legend()"
      ],
      "execution_count": 60,
      "outputs": [
        {
          "output_type": "display_data",
          "data": {
            "image/png": "[encoded data removed]",
            "text/plain": [
              "<Figure size 432x288 with 1 Axes>"
            ]
          },
          "metadata": {
            "tags": []
          }
        },
        {
          "output_type": "execute_result",
          "data": {
            "text/plain": [
              "<matplotlib.legend.Legend at 0x7fe671212eb8>"
            ]
          },
          "metadata": {
            "tags": []
          },
          "execution_count": 60
        },
        {
          "output_type": "display_data",
          "data": {
            "image/png": "[encoded data removed]",
            "text/plain": [
              "<Figure size 432x288 with 1 Axes>"
            ]
          },
          "metadata": {
            "tags": []
          }
        }
      ]
    },
    {
      "metadata": {
        "id": "mnynvT83TVW5",
        "colab_type": "text"
      },
      "cell_type": "markdown",
      "source": [
        "### WORD2VEC EMBEDDINGS\n",
        "\n",
        "Developed  by  Tomas  Mikolov  at  Google  in  2013.  Word2vec (https://code.google.com/archive/p/word2vec)\n",
        "dimensions capture specific semantic properties"
      ]
    },
    {
      "metadata": {
        "colab_type": "code",
        "id": "xL2qCwi2JKYF",
        "outputId": "b7ea07e2-9266-4feb-f18f-2f58544542b8",
        "colab": {
          "base_uri": "https://localhost:8080/",
          "height": 34
        }
      },
      "cell_type": "code",
      "source": [
        "link = \"https://drive.google.com/file/d/13NmrtF-HoGmdv_m3Ld4eGVTbIekOcNi_/view?usp=sharing\"\n",
        "\n",
        "_, id_t = link.split('d/')\n",
        "\n",
        "id = id_t.split('/')[0]\n",
        "print (id) # Verify that you have everything after '='\n",
        "\n",
        "# Install the PyDrive wrapper & import libraries.\n",
        "# This only needs to be done once per notebook.\n",
        "!pip install -U -q PyDrive\n",
        "from pydrive.auth import GoogleAuth\n",
        "from pydrive.drive import GoogleDrive\n",
        "from google.colab import auth\n",
        "from oauth2client.client import GoogleCredentials\n",
        "\n",
        "# Authenticate and create the PyDrive client.\n",
        "# This only needs to be done once per notebook.\n",
        "auth.authenticate_user()\n",
        "gauth = GoogleAuth()\n",
        "gauth.credentials = GoogleCredentials.get_application_default()\n",
        "drive = GoogleDrive(gauth)\n",
        "\n",
        "file_id = id\n",
        "downloaded = drive.CreateFile({'id':file_id})\n",
        "downloaded.FetchMetadata(fetch_all=True)\n",
        "downloaded.GetContentFile(downloaded.metadata['title'])"
      ],
      "execution_count": 11,
      "outputs": [
        {
          "output_type": "stream",
          "text": [
            "13NmrtF-HoGmdv_m3Ld4eGVTbIekOcNi_\n"
          ],
          "name": "stdout"
        }
      ]
    },
    {
      "metadata": {
        "colab_type": "code",
        "outputId": "00ccc30f-85b1-4e02-a886-1e77c8bae0cf",
        "id": "gsgPh-3_JKYN",
        "colab": {
          "base_uri": "https://localhost:8080/",
          "height": 70
        }
      },
      "cell_type": "code",
      "source": [
        "!ls"
      ],
      "execution_count": 12,
      "outputs": [
        {
          "output_type": "stream",
          "text": [
            "aclImdb      glove.840B.300d.txt\t\t __MACOSX\n",
            "aclImdb.zip  glove.840B.300d.zip\t\t sample_data\n",
            "adc.json     GoogleNews-vectors-negative300.bin\n"
          ],
          "name": "stdout"
        }
      ]
    },
    {
      "metadata": {
        "colab_type": "code",
        "id": "_6b2ikq7JKYf",
        "colab": {}
      },
      "cell_type": "code",
      "source": [
        "gensim_w2v = KeyedVectors.load_word2vec_format('./GoogleNews-vectors-negative300.bin', binary=True)"
      ],
      "execution_count": 0,
      "outputs": []
    },
    {
      "metadata": {
        "id": "dQWpcI7STVW7",
        "colab_type": "code",
        "outputId": "40c4bc8e-c430-4fdf-8e68-85a41f9e0614",
        "colab": {
          "base_uri": "https://localhost:8080/",
          "height": 905
        }
      },
      "cell_type": "code",
      "source": [
        "print('hello =', gensim_w2v['hello'])"
      ],
      "execution_count": 27,
      "outputs": [
        {
          "output_type": "stream",
          "text": [
            "hello = [-0.05419922  0.01708984 -0.00527954  0.33203125 -0.25       -0.01397705\n",
            " -0.15039062 -0.265625    0.01647949  0.3828125  -0.03295898 -0.09716797\n",
            " -0.16308594 -0.04443359  0.00946045  0.18457031  0.03637695  0.16601562\n",
            "  0.36328125 -0.25585938  0.375       0.171875    0.21386719 -0.19921875\n",
            "  0.13085938 -0.07275391 -0.02819824  0.11621094  0.15332031  0.09082031\n",
            "  0.06787109 -0.0300293  -0.16894531 -0.20800781 -0.03710938 -0.22753906\n",
            "  0.26367188  0.012146    0.18359375  0.31054688 -0.10791016 -0.19140625\n",
            "  0.21582031  0.13183594 -0.03515625  0.18554688 -0.30859375  0.04785156\n",
            " -0.10986328  0.14355469 -0.43554688 -0.0378418   0.10839844  0.140625\n",
            " -0.10595703  0.26171875 -0.17089844  0.39453125  0.12597656 -0.27734375\n",
            " -0.28125     0.14746094 -0.20996094  0.02355957  0.18457031  0.00445557\n",
            " -0.27929688 -0.03637695 -0.29296875  0.19628906  0.20703125  0.2890625\n",
            " -0.20507812  0.06787109 -0.43164062 -0.10986328 -0.2578125  -0.02331543\n",
            "  0.11328125  0.23144531 -0.04418945  0.10839844 -0.2890625  -0.09521484\n",
            " -0.10351562 -0.0324707   0.07763672 -0.13378906  0.22949219  0.06298828\n",
            "  0.08349609  0.02929688 -0.11474609  0.00534058 -0.12988281  0.02514648\n",
            "  0.08789062  0.24511719 -0.11474609 -0.296875   -0.59375    -0.29492188\n",
            " -0.13378906  0.27734375 -0.04174805  0.11621094  0.28320312  0.00241089\n",
            "  0.13867188 -0.00683594 -0.30078125  0.16210938  0.01171875 -0.13867188\n",
            "  0.48828125  0.02880859  0.02416992  0.04736328  0.05859375 -0.23828125\n",
            "  0.02758789  0.05981445 -0.03857422  0.06933594  0.14941406 -0.10888672\n",
            " -0.07324219  0.08789062  0.27148438  0.06591797 -0.37890625 -0.26171875\n",
            " -0.13183594  0.09570312 -0.3125      0.10205078  0.03063965  0.23632812\n",
            "  0.00582886  0.27734375  0.20507812 -0.17871094 -0.31445312 -0.01586914\n",
            "  0.13964844  0.13574219  0.0390625  -0.29296875  0.234375   -0.33984375\n",
            " -0.11816406  0.10644531 -0.18457031 -0.02099609  0.02563477  0.25390625\n",
            "  0.07275391  0.13574219 -0.00138092 -0.2578125  -0.2890625   0.10107422\n",
            "  0.19238281 -0.04882812  0.27929688 -0.3359375  -0.07373047  0.01879883\n",
            " -0.10986328 -0.04614258  0.15722656  0.06689453 -0.03417969  0.16308594\n",
            "  0.08642578  0.44726562  0.02026367 -0.01977539  0.07958984  0.17773438\n",
            " -0.04370117 -0.00952148  0.16503906  0.17285156  0.23144531 -0.04272461\n",
            "  0.02355957  0.18359375 -0.41601562 -0.01745605  0.16796875  0.04736328\n",
            "  0.14257812  0.08496094  0.33984375  0.1484375  -0.34375    -0.14160156\n",
            " -0.06835938 -0.14648438 -0.02844238  0.07421875 -0.07666016  0.12695312\n",
            "  0.05859375 -0.07568359 -0.03344727  0.23632812 -0.16308594  0.16503906\n",
            "  0.1484375  -0.2421875  -0.3515625  -0.30664062  0.00491333  0.17675781\n",
            "  0.46289062  0.14257812 -0.25       -0.25976562  0.04370117  0.34960938\n",
            "  0.05957031  0.07617188 -0.02868652 -0.09667969 -0.01281738  0.05859375\n",
            " -0.22949219 -0.1953125  -0.12207031  0.20117188 -0.42382812  0.06005859\n",
            "  0.50390625  0.20898438  0.11230469 -0.06054688  0.33203125  0.07421875\n",
            " -0.05786133  0.11083984 -0.06494141  0.05639648  0.01757812  0.08398438\n",
            "  0.13769531  0.2578125   0.16796875 -0.16894531  0.01794434  0.16015625\n",
            "  0.26171875  0.31640625 -0.24804688  0.05371094 -0.0859375   0.17089844\n",
            " -0.39453125 -0.00156403 -0.07324219 -0.04614258 -0.16210938 -0.15722656\n",
            "  0.21289062 -0.15820312  0.04394531  0.28515625  0.01196289 -0.26953125\n",
            " -0.04370117  0.37109375  0.04663086 -0.19726562  0.3046875  -0.36523438\n",
            " -0.23632812  0.08056641 -0.04248047 -0.14648438 -0.06225586 -0.0534668\n",
            " -0.05664062  0.18945312  0.37109375 -0.22070312  0.04638672  0.02612305\n",
            " -0.11474609  0.265625   -0.02453613  0.11083984 -0.02514648 -0.12060547\n",
            "  0.05297852  0.07128906  0.00063705 -0.36523438 -0.13769531 -0.12890625]\n"
          ],
          "name": "stdout"
        }
      ]
    },
    {
      "metadata": {
        "id": "DYQeYUZrTVW-",
        "colab_type": "code",
        "colab": {}
      },
      "cell_type": "code",
      "source": [
        "# gensim_model.save_word2vec_format('./data/GoogleNews-vectors-negative300.txt', binary=False)"
      ],
      "execution_count": 0,
      "outputs": []
    },
    {
      "metadata": {
        "id": "JwGyn88oTVXG",
        "colab_type": "code",
        "outputId": "a4dd05be-7c5c-4b8d-e4ae-6efcf3250edb",
        "colab": {
          "base_uri": "https://localhost:8080/",
          "height": 34
        }
      },
      "cell_type": "code",
      "source": [
        "type(gensim_w2v['hello'])"
      ],
      "execution_count": 14,
      "outputs": [
        {
          "output_type": "execute_result",
          "data": {
            "text/plain": [
              "numpy.ndarray"
            ]
          },
          "metadata": {
            "tags": []
          },
          "execution_count": 14
        }
      ]
    },
    {
      "metadata": {
        "id": "w9i5csAfTVXL",
        "colab_type": "code",
        "outputId": "5e3a15ea-d5ae-427e-bd4e-b7755832f84c",
        "colab": {
          "base_uri": "https://localhost:8080/",
          "height": 34
        }
      },
      "cell_type": "code",
      "source": [
        "gensim_w2v['hello'].shape"
      ],
      "execution_count": 0,
      "outputs": [
        {
          "output_type": "execute_result",
          "data": {
            "text/plain": [
              "(300,)"
            ]
          },
          "metadata": {
            "tags": []
          },
          "execution_count": 15
        }
      ]
    },
    {
      "metadata": {
        "id": "qvtawqoeTVXR",
        "colab_type": "code",
        "outputId": "b7725ed8-9322-470a-f090-6855c0832178",
        "colab": {
          "base_uri": "https://localhost:8080/",
          "height": 34
        }
      },
      "cell_type": "code",
      "source": [
        "gensim_w2v[\"0\"].shape"
      ],
      "execution_count": 0,
      "outputs": [
        {
          "output_type": "execute_result",
          "data": {
            "text/plain": [
              "(300,)"
            ]
          },
          "metadata": {
            "tags": []
          },
          "execution_count": 16
        }
      ]
    },
    {
      "metadata": {
        "id": "Psoy24aiTVXd",
        "colab_type": "code",
        "outputId": "0517c3dc-f137-4e72-bbda-1c347da3437a",
        "colab": {
          "base_uri": "https://localhost:8080/",
          "height": 34
        }
      },
      "cell_type": "code",
      "source": [
        "type(gensim_w2v['0'])"
      ],
      "execution_count": 0,
      "outputs": [
        {
          "output_type": "execute_result",
          "data": {
            "text/plain": [
              "numpy.ndarray"
            ]
          },
          "metadata": {
            "tags": []
          },
          "execution_count": 17
        }
      ]
    },
    {
      "metadata": {
        "id": "uF-Wsk15TVXj",
        "colab_type": "code",
        "outputId": "9575650d-f194-4af1-d7c6-eddc27189b07",
        "colab": {
          "base_uri": "https://localhost:8080/",
          "height": 34
        }
      },
      "cell_type": "code",
      "source": [
        "# 3000000 words\n",
        "len(gensim_w2v.vocab)"
      ],
      "execution_count": 46,
      "outputs": [
        {
          "output_type": "execute_result",
          "data": {
            "text/plain": [
              "3000000"
            ]
          },
          "metadata": {
            "tags": []
          },
          "execution_count": 46
        }
      ]
    },
    {
      "metadata": {
        "id": "jwM3gaGRTVXl",
        "colab_type": "code",
        "colab": {}
      },
      "cell_type": "code",
      "source": [
        "embedding_dim = gensim_w2v[\"0\"].shape[0]\n",
        "\n",
        "# Cuts off reviews after 500 words\n",
        "maxlen = 500\n",
        "\n",
        "# Considers only the top \n",
        "# 10,000 words in the dataset\n",
        "max_words = 10000\n",
        "\n",
        "embedding_matrix = np.zeros((max_words, embedding_dim))\n",
        "\n",
        "for word, i in word_index.items():\n",
        "    if i < max_words:\n",
        "#         ipdb.set_trace()\n",
        "        if word not in gensim_w2v.vocab:\n",
        "            pass; # we need to find a clever way to handle this case\n",
        "        else :\n",
        "            embedding_vector = gensim_w2v[word]\n",
        "        # cheking that th eword exist in the embedding dictionary\n",
        "        if embedding_vector is not None: \n",
        "            embedding_matrix[i] = embedding_vector"
      ],
      "execution_count": 0,
      "outputs": []
    },
    {
      "metadata": {
        "id": "9jnU0aCSTVXo",
        "colab_type": "code",
        "outputId": "da1bb707-6b2d-46b3-d53e-dd4b44a85681",
        "colab": {
          "base_uri": "https://localhost:8080/",
          "height": 1350
        }
      },
      "cell_type": "code",
      "source": [
        "embedding_matrix[-1]"
      ],
      "execution_count": 16,
      "outputs": [
        {
          "output_type": "execute_result",
          "data": {
            "text/plain": [
              "array([-8.54492188e-02,  4.71191406e-02, -6.93359375e-02,  3.02734375e-01,\n",
              "       -1.87500000e-01, -3.19824219e-02,  2.95410156e-02, -2.05078125e-01,\n",
              "       -9.03320312e-02,  2.98828125e-01,  2.10937500e-01, -6.88476562e-02,\n",
              "        4.76074219e-02,  5.83496094e-02, -2.75390625e-01,  2.42187500e-01,\n",
              "       -3.22265625e-01,  4.73632812e-02, -1.44531250e-01,  9.37500000e-02,\n",
              "        6.74438477e-03,  2.17773438e-01,  2.31445312e-01,  1.87500000e-01,\n",
              "        8.49609375e-02, -5.39550781e-02, -2.65625000e-01,  2.23388672e-02,\n",
              "        2.24609375e-01,  4.12109375e-01, -2.30712891e-02, -1.67968750e-01,\n",
              "        1.01928711e-02,  2.10937500e-01,  1.14135742e-02,  2.50000000e-01,\n",
              "        8.64257812e-02, -2.16796875e-01,  8.93554688e-02,  1.50390625e-01,\n",
              "       -2.03125000e-01, -2.30468750e-01,  1.42578125e-01,  1.34765625e-01,\n",
              "       -1.13769531e-01, -1.80664062e-01,  3.58886719e-02, -1.69921875e-01,\n",
              "        1.55273438e-01,  2.39257812e-01, -2.30468750e-01, -9.96093750e-02,\n",
              "        1.82617188e-01, -1.81640625e-01, -1.46484375e-01, -7.03125000e-02,\n",
              "        9.37500000e-02, -2.67578125e-01,  2.17285156e-02, -1.45507812e-01,\n",
              "       -2.38037109e-02,  1.53320312e-01, -9.81445312e-02, -1.69677734e-02,\n",
              "        5.00488281e-02, -3.08593750e-01, -3.00781250e-01, -3.20312500e-01,\n",
              "        1.18652344e-01, -1.28906250e-01,  1.79687500e-01,  8.74023438e-02,\n",
              "       -1.48925781e-02, -9.71679688e-02, -5.62500000e-01,  2.50244141e-02,\n",
              "       -2.08984375e-01, -2.33398438e-01, -9.86328125e-02, -2.22167969e-02,\n",
              "       -1.13281250e-01,  1.17675781e-01, -1.56250000e-01, -1.03515625e-01,\n",
              "        6.22558594e-02, -2.04101562e-01,  2.75878906e-02,  2.57812500e-01,\n",
              "       -1.89453125e-01, -6.29882812e-02, -2.94921875e-01,  1.64062500e-01,\n",
              "        2.21252441e-04, -1.40625000e-01, -2.45361328e-02, -6.73828125e-02,\n",
              "       -4.76074219e-02,  2.57568359e-02,  2.92968750e-01, -4.41894531e-02,\n",
              "       -2.26562500e-01, -3.07617188e-02,  3.66210938e-02,  1.00585938e-01,\n",
              "       -8.10546875e-02,  7.76367188e-02,  1.94335938e-01, -1.09863281e-01,\n",
              "       -2.59765625e-01, -1.41601562e-01, -2.67578125e-01, -2.39257812e-01,\n",
              "       -2.34375000e-01,  6.59179688e-02, -2.96875000e-01, -1.22680664e-02,\n",
              "        1.44531250e-01, -2.38281250e-01,  2.38037109e-02,  2.81982422e-02,\n",
              "       -5.12695312e-02, -1.06445312e-01, -1.22070312e-01, -2.33398438e-01,\n",
              "       -1.75781250e-01,  1.24023438e-01,  1.94091797e-02, -1.08886719e-01,\n",
              "        1.19628906e-01,  3.73046875e-01, -2.48046875e-01, -1.38671875e-01,\n",
              "       -1.33789062e-01, -2.65625000e-01, -2.71484375e-01,  2.67578125e-01,\n",
              "       -5.22460938e-02,  4.68750000e-02,  1.42578125e-01, -2.57812500e-01,\n",
              "       -1.46484375e-01, -4.02343750e-01, -7.95898438e-02,  3.39355469e-02,\n",
              "        1.06445312e-01,  8.64257812e-02,  1.00585938e-01,  6.39648438e-02,\n",
              "       -1.69921875e-01,  2.67578125e-01,  4.85839844e-02, -1.90429688e-01,\n",
              "       -3.22265625e-01,  1.03027344e-01,  4.19921875e-02, -6.37817383e-03,\n",
              "       -1.96289062e-01, -1.04003906e-01,  1.04492188e-01, -1.68945312e-01,\n",
              "       -3.14453125e-01,  2.16674805e-03,  1.27929688e-01,  9.17968750e-02,\n",
              "       -1.25976562e-01, -2.12097168e-03,  1.94335938e-01, -1.42578125e-01,\n",
              "       -1.56250000e-01, -5.44433594e-02, -9.13085938e-02,  1.52343750e-01,\n",
              "       -2.55126953e-02, -2.38281250e-01, -4.14062500e-01, -1.99218750e-01,\n",
              "        1.73828125e-01, -8.25195312e-02,  6.88476562e-02,  2.69531250e-01,\n",
              "       -9.17968750e-02, -8.10546875e-02, -2.45117188e-01,  2.53906250e-01,\n",
              "       -1.96838379e-03,  5.05371094e-02,  4.66308594e-02,  2.63671875e-02,\n",
              "        2.23632812e-01, -1.89453125e-01,  1.04003906e-01, -2.80761719e-02,\n",
              "        4.00390625e-02, -2.07031250e-01,  4.06250000e-01,  4.49218750e-01,\n",
              "       -3.32031250e-02, -2.24609375e-01, -1.28906250e-01, -2.86865234e-02,\n",
              "        2.08984375e-01, -2.18750000e-01,  6.07910156e-02,  1.25000000e-01,\n",
              "        4.37011719e-02,  7.17773438e-02,  3.14941406e-02,  1.23535156e-01,\n",
              "       -8.23974609e-03, -4.32128906e-02, -2.31445312e-01,  7.37304688e-02,\n",
              "       -1.51367188e-01,  1.52343750e-01,  2.08007812e-01, -1.63085938e-01,\n",
              "       -2.20703125e-01, -2.96875000e-01,  1.46484375e-01,  3.16406250e-01,\n",
              "        9.47265625e-02, -7.03125000e-02, -2.06054688e-01, -3.06396484e-02,\n",
              "       -1.22070312e-01, -2.47070312e-01,  9.13085938e-02,  1.22558594e-01,\n",
              "        4.10156250e-01,  1.22558594e-01,  3.80859375e-02, -8.64257812e-02,\n",
              "       -4.27246094e-02,  4.12597656e-02, -1.30859375e-01, -1.11328125e-01,\n",
              "       -1.15966797e-02, -1.60156250e-01,  2.63671875e-01,  5.37109375e-02,\n",
              "        3.11279297e-02, -2.53906250e-01,  6.12792969e-02,  5.02929688e-02,\n",
              "        3.68652344e-02, -2.83203125e-01, -3.63281250e-01,  2.78320312e-02,\n",
              "        1.28906250e-01, -1.85546875e-01, -1.03515625e-01, -1.29882812e-01,\n",
              "        3.69140625e-01, -1.31835938e-01, -4.22363281e-02, -3.98437500e-01,\n",
              "        1.08642578e-02, -1.95312500e-01, -1.49414062e-01, -4.95605469e-02,\n",
              "       -7.91015625e-02,  2.50000000e-01, -2.05078125e-01,  2.65625000e-01,\n",
              "       -1.19628906e-02, -1.37695312e-01, -1.73828125e-01,  3.35937500e-01,\n",
              "       -1.28906250e-01, -2.55859375e-01, -1.89453125e-01,  1.61132812e-01,\n",
              "        2.23632812e-01, -1.08886719e-01, -8.05664062e-03,  1.82617188e-01,\n",
              "       -1.90429688e-01, -1.69677734e-02, -6.83593750e-02,  3.04687500e-01,\n",
              "        1.79687500e-01,  1.65039062e-01,  5.85937500e-02, -1.02050781e-01,\n",
              "        6.68945312e-02, -7.61718750e-02, -3.33984375e-01,  6.34765625e-02,\n",
              "       -9.76562500e-02,  1.71875000e-01, -1.77734375e-01, -8.25195312e-02,\n",
              "        3.85742188e-02, -2.94921875e-01,  5.52368164e-03,  5.44433594e-02,\n",
              "       -9.47265625e-02,  1.26953125e-01,  1.17187500e-01,  1.77734375e-01])"
            ]
          },
          "metadata": {
            "tags": []
          },
          "execution_count": 16
        }
      ]
    },
    {
      "metadata": {
        "id": "rV45MCkPTVXx",
        "colab_type": "code",
        "outputId": "231db1d7-e917-4aec-d8b6-2a8d25c87353",
        "colab": {
          "base_uri": "https://localhost:8080/",
          "height": 70
        }
      },
      "cell_type": "code",
      "source": [
        "print(f\"Max_words = {max_words}, \\nEmbedding_dim = {embedding_dim} and \\nInput_length = {maxlen}\")"
      ],
      "execution_count": 17,
      "outputs": [
        {
          "output_type": "stream",
          "text": [
            "Max_words = 10000, \n",
            "Embedding_dim = 300 and \n",
            "Input_length = 500\n"
          ],
          "name": "stdout"
        }
      ]
    },
    {
      "metadata": {
        "id": "7ezZLz2jTVXz",
        "colab_type": "code",
        "outputId": "45ddb077-f6ef-414b-fba2-6a2e3f1982d7",
        "colab": {
          "base_uri": "https://localhost:8080/",
          "height": 356
        }
      },
      "cell_type": "code",
      "source": [
        "model = tf.keras.Sequential()\n",
        "model.add(tf.keras.layers.Embedding(max_words, embedding_dim, input_length=x_train.shape[1]))\n",
        "model.add(tf.keras.layers.Flatten())\n",
        "model.add(tf.keras.layers.Dense(32, activation='relu'))\n",
        "model.add(tf.keras.layers.Dense(1, activation='sigmoid'))\n",
        "\n",
        "model.layers[0].set_weights([embedding_matrix])\n",
        "#  freeze the Embedding layer\n",
        "# the pretrained parts shouldn’t\n",
        "# be updated during training, to avoid forgetting what they already know\n",
        "model.layers[0].trainable = False\n",
        "\n",
        "model.summary()"
      ],
      "execution_count": 18,
      "outputs": [
        {
          "output_type": "stream",
          "text": [
            "WARNING:tensorflow:From /usr/local/lib/python3.6/dist-packages/tensorflow/python/ops/resource_variable_ops.py:435: colocate_with (from tensorflow.python.framework.ops) is deprecated and will be removed in a future version.\n",
            "Instructions for updating:\n",
            "Colocations handled automatically by placer.\n",
            "_________________________________________________________________\n",
            "Layer (type)                 Output Shape              Param #   \n",
            "=================================================================\n",
            "embedding (Embedding)        (None, 500, 300)          3000000   \n",
            "_________________________________________________________________\n",
            "flatten (Flatten)            (None, 150000)            0         \n",
            "_________________________________________________________________\n",
            "dense (Dense)                (None, 32)                4800032   \n",
            "_________________________________________________________________\n",
            "dense_1 (Dense)              (None, 1)                 33        \n",
            "=================================================================\n",
            "Total params: 7,800,065\n",
            "Trainable params: 4,800,065\n",
            "Non-trainable params: 3,000,000\n",
            "_________________________________________________________________\n"
          ],
          "name": "stdout"
        }
      ]
    },
    {
      "metadata": {
        "id": "Vb75SA8rTVX4",
        "colab_type": "code",
        "outputId": "71e2dc50-3d38-4632-bdc1-ceb9dae7c595",
        "colab": {
          "base_uri": "https://localhost:8080/",
          "height": 407
        }
      },
      "cell_type": "code",
      "source": [
        "model.compile(optimizer=tf.keras.optimizers.RMSprop(lr=1e-4),\n",
        "              loss='binary_crossentropy',\n",
        "              metrics=['acc'])\n",
        "\n",
        "model.fit(x_train, y_train,\n",
        "          epochs=10, batch_size=32,\n",
        "          validation_split=0.2)\n",
        "\n",
        "# model.save_weights('pre_trained_word2vec_model.h5')"
      ],
      "execution_count": 21,
      "outputs": [
        {
          "output_type": "stream",
          "text": [
            "Train on 160 samples, validate on 40 samples\n",
            "Epoch 1/10\n",
            "160/160 [==============================] - 0s 1ms/sample - loss: 1.9197 - acc: 0.5063 - val_loss: 0.9270 - val_acc: 0.7250\n",
            "Epoch 2/10\n",
            "160/160 [==============================] - 0s 209us/sample - loss: 0.5315 - acc: 0.8125 - val_loss: 0.7796 - val_acc: 0.6750\n",
            "Epoch 3/10\n",
            "160/160 [==============================] - 0s 214us/sample - loss: 0.2722 - acc: 0.8938 - val_loss: 0.7793 - val_acc: 0.7000\n",
            "Epoch 4/10\n",
            "160/160 [==============================] - 0s 209us/sample - loss: 0.1408 - acc: 0.9500 - val_loss: 0.7775 - val_acc: 0.7000\n",
            "Epoch 5/10\n",
            "160/160 [==============================] - 0s 211us/sample - loss: 0.0743 - acc: 1.0000 - val_loss: 0.7712 - val_acc: 0.6750\n",
            "Epoch 6/10\n",
            "160/160 [==============================] - 0s 214us/sample - loss: 0.0483 - acc: 1.0000 - val_loss: 0.7878 - val_acc: 0.6750\n",
            "Epoch 7/10\n",
            "160/160 [==============================] - 0s 223us/sample - loss: 0.0343 - acc: 1.0000 - val_loss: 0.7926 - val_acc: 0.6750\n",
            "Epoch 8/10\n",
            "160/160 [==============================] - 0s 217us/sample - loss: 0.0251 - acc: 1.0000 - val_loss: 0.8123 - val_acc: 0.7000\n",
            "Epoch 9/10\n",
            "160/160 [==============================] - 0s 209us/sample - loss: 0.0190 - acc: 1.0000 - val_loss: 0.8148 - val_acc: 0.6750\n",
            "Epoch 10/10\n",
            "160/160 [==============================] - 0s 228us/sample - loss: 0.0139 - acc: 1.0000 - val_loss: 0.8248 - val_acc: 0.6750\n"
          ],
          "name": "stdout"
        },
        {
          "output_type": "execute_result",
          "data": {
            "text/plain": [
              "<tensorflow.python.keras.callbacks.History at 0x7fbc2df41c88>"
            ]
          },
          "metadata": {
            "tags": []
          },
          "execution_count": 21
        }
      ]
    },
    {
      "metadata": {
        "id": "zt5uYEsD432y",
        "colab_type": "code",
        "colab": {
          "base_uri": "https://localhost:8080/",
          "height": 70
        },
        "outputId": "efeeaafa-83bd-43ec-a088-2e269ea74901"
      },
      "cell_type": "code",
      "source": [
        "result = model.evaluate(x_test, y_test)\n",
        "for i in range(len(model.metrics_names)):\n",
        "     print(\"Metric \",model.metrics_names[i],\":\", str(round(result[i],5)))"
      ],
      "execution_count": 23,
      "outputs": [
        {
          "output_type": "stream",
          "text": [
            "25000/25000 [==============================] - 1s 59us/sample - loss: 1.7800 - acc: 0.5117\n",
            "Metric  loss : 1.78004\n",
            "Metric  acc : 0.51168\n"
          ],
          "name": "stdout"
        }
      ]
    },
    {
      "metadata": {
        "id": "i4jyDmT9TVX6",
        "colab_type": "code",
        "outputId": "a9bf127f-6ec7-4987-e441-bde3ff473266",
        "colab": {
          "base_uri": "https://localhost:8080/",
          "height": 563
        }
      },
      "cell_type": "code",
      "source": [
        "acc = model.history.history['acc']\n",
        "val_acc = model.history.history['val_acc']\n",
        "loss = model.history.history['loss']\n",
        "val_loss = model.history.history['val_loss']\n",
        "\n",
        "epochs = range(1, len(acc) + 1)\n",
        "\n",
        "plt.figure()\n",
        "# plt.figure(figsize=(9,8))\n",
        "plt.plot(epochs, loss, label='Training loss')\n",
        "plt.plot(epochs, val_loss, label='Validation loss')\n",
        "plt.title('Training and validation loss')\n",
        "plt.legend()\n",
        "plt.show()\n",
        "\n",
        "\n",
        "plt.figure()\n",
        "plt.plot(epochs, acc, label='Training acc')\n",
        "plt.plot(epochs, val_acc, label='Validation acc')\n",
        "plt.title('Training and validation accuracy')\n",
        "plt.legend()"
      ],
      "execution_count": 24,
      "outputs": [
        {
          "output_type": "display_data",
          "data": {
            "image/png": "[encoded data removed]",
            "text/plain": [
              "<Figure size 432x288 with 1 Axes>"
            ]
          },
          "metadata": {
            "tags": []
          }
        },
        {
          "output_type": "execute_result",
          "data": {
            "text/plain": [
              "<matplotlib.legend.Legend at 0x7fbc28648b70>"
            ]
          },
          "metadata": {
            "tags": []
          },
          "execution_count": 24
        },
        {
          "output_type": "display_data",
          "data": {
            "image/png": "[encoded data removed]",
            "text/plain": [
              "<Figure size 432x288 with 1 Axes>"
            ]
          },
          "metadata": {
            "tags": []
          }
        }
      ]
    },
    {
      "metadata": {
        "colab_type": "text",
        "id": "gEJQnaHFxXrm"
      },
      "cell_type": "markdown",
      "source": [
        "#### 1D convnt"
      ]
    },
    {
      "metadata": {
        "colab_type": "code",
        "outputId": "fc22dbdc-03a1-44d6-abdb-d6d143825fe2",
        "id": "ofrpxtHGxXrp",
        "colab": {
          "base_uri": "https://localhost:8080/",
          "height": 354
        }
      },
      "cell_type": "code",
      "source": [
        "model = tf.keras.Sequential()\n",
        "model.add(tf.keras.layers.Embedding(max_words, embedding_dim, input_length=x_train.shape[1]))\n",
        "model.add(tf.keras.layers.Conv1D(32, 7, \n",
        "                                 activation='relu'))\n",
        "model.add(tf.keras.layers.MaxPooling1D(5))\n",
        "model.add(tf.keras.layers.Conv1D(32, 7, \n",
        "                                 activation='relu'))\n",
        "model.add(tf.keras.layers.GlobalMaxPooling1D())\n",
        "model.add(tf.keras.layers.Dense(1))\n",
        "\n",
        "model.layers[0].set_weights([embedding_matrix])\n",
        "#  freeze the Embedding layer\n",
        "# the pretrained parts shouldn’t\n",
        "# be updated during training, to avoid forgetting what they already know\n",
        "model.layers[0].trainable = False\n",
        "\n",
        "model.summary()"
      ],
      "execution_count": 25,
      "outputs": [
        {
          "output_type": "stream",
          "text": [
            "_________________________________________________________________\n",
            "Layer (type)                 Output Shape              Param #   \n",
            "=================================================================\n",
            "embedding_1 (Embedding)      (None, 500, 300)          3000000   \n",
            "_________________________________________________________________\n",
            "conv1d (Conv1D)              (None, 494, 32)           67232     \n",
            "_________________________________________________________________\n",
            "max_pooling1d (MaxPooling1D) (None, 98, 32)            0         \n",
            "_________________________________________________________________\n",
            "conv1d_1 (Conv1D)            (None, 92, 32)            7200      \n",
            "_________________________________________________________________\n",
            "global_max_pooling1d (Global (None, 32)                0         \n",
            "_________________________________________________________________\n",
            "dense_2 (Dense)              (None, 1)                 33        \n",
            "=================================================================\n",
            "Total params: 3,074,465\n",
            "Trainable params: 74,465\n",
            "Non-trainable params: 3,000,000\n",
            "_________________________________________________________________\n"
          ],
          "name": "stdout"
        }
      ]
    },
    {
      "metadata": {
        "colab_type": "code",
        "outputId": "cf468638-d482-446a-a186-3eec43da5d32",
        "id": "ON_fHIcBxXrz",
        "colab": {
          "base_uri": "https://localhost:8080/",
          "height": 481
        }
      },
      "cell_type": "code",
      "source": [
        "model.compile(optimizer=tf.keras.optimizers.RMSprop(lr=1e-4),\n",
        "              loss='binary_crossentropy',\n",
        "              metrics=['acc'])\n",
        "\n",
        "model.fit(x_train, y_train,\n",
        "          epochs=10, batch_size=32,\n",
        "          validation_split=0.2)\n",
        "#                     validation_data=(x_val, y_val))\n",
        "\n",
        "# model.save_weights('pre_trained_word2vec_model.h5')"
      ],
      "execution_count": 26,
      "outputs": [
        {
          "output_type": "stream",
          "text": [
            "Train on 160 samples, validate on 40 samples\n",
            "WARNING:tensorflow:From /usr/local/lib/python3.6/dist-packages/tensorflow/python/ops/math_grad.py:102: div (from tensorflow.python.ops.math_ops) is deprecated and will be removed in a future version.\n",
            "Instructions for updating:\n",
            "Deprecated in favor of operator or tf.math.divide.\n",
            "Epoch 1/10\n",
            "160/160 [==============================] - 3s 21ms/sample - loss: 0.7269 - acc: 0.4750 - val_loss: 0.7197 - val_acc: 0.4500\n",
            "Epoch 2/10\n",
            "160/160 [==============================] - 0s 247us/sample - loss: 0.6197 - acc: 0.7000 - val_loss: 0.7166 - val_acc: 0.4500\n",
            "Epoch 3/10\n",
            "160/160 [==============================] - 0s 229us/sample - loss: 0.5622 - acc: 0.8375 - val_loss: 0.7157 - val_acc: 0.4750\n",
            "Epoch 4/10\n",
            "160/160 [==============================] - 0s 235us/sample - loss: 0.5142 - acc: 0.8875 - val_loss: 0.7130 - val_acc: 0.4750\n",
            "Epoch 5/10\n",
            "160/160 [==============================] - 0s 229us/sample - loss: 0.4787 - acc: 0.9312 - val_loss: 0.7129 - val_acc: 0.4750\n",
            "Epoch 6/10\n",
            "160/160 [==============================] - 0s 227us/sample - loss: 0.4465 - acc: 0.9625 - val_loss: 0.7067 - val_acc: 0.5000\n",
            "Epoch 7/10\n",
            "160/160 [==============================] - 0s 213us/sample - loss: 0.4134 - acc: 0.9875 - val_loss: 0.7089 - val_acc: 0.4750\n",
            "Epoch 8/10\n",
            "160/160 [==============================] - 0s 217us/sample - loss: 0.3810 - acc: 0.9937 - val_loss: 0.7172 - val_acc: 0.5000\n",
            "Epoch 9/10\n",
            "160/160 [==============================] - 0s 214us/sample - loss: 0.3531 - acc: 0.9875 - val_loss: 0.7114 - val_acc: 0.5000\n",
            "Epoch 10/10\n",
            "160/160 [==============================] - 0s 278us/sample - loss: 0.3279 - acc: 0.9875 - val_loss: 0.7064 - val_acc: 0.5250\n"
          ],
          "name": "stdout"
        },
        {
          "output_type": "execute_result",
          "data": {
            "text/plain": [
              "<tensorflow.python.keras.callbacks.History at 0x7fbc27a08f98>"
            ]
          },
          "metadata": {
            "tags": []
          },
          "execution_count": 26
        }
      ]
    },
    {
      "metadata": {
        "colab_type": "code",
        "outputId": "4f78f3ec-8738-4ad5-f714-e65f76aafc41",
        "id": "Q-0GpovLxXr5",
        "colab": {
          "base_uri": "https://localhost:8080/",
          "height": 70
        }
      },
      "cell_type": "code",
      "source": [
        "result = model.evaluate(x_test, y_test)\n",
        "for i in range(len(model.metrics_names)):\n",
        "     print(\"Metric \",model.metrics_names[i],\":\", str(round(result[i],5)))"
      ],
      "execution_count": 27,
      "outputs": [
        {
          "output_type": "stream",
          "text": [
            "25000/25000 [==============================] - 2s 70us/sample - loss: 0.7254 - acc: 0.5050\n",
            "Metric  loss : 0.72535\n",
            "Metric  acc : 0.50504\n"
          ],
          "name": "stdout"
        }
      ]
    },
    {
      "metadata": {
        "colab_type": "code",
        "outputId": "2b70fa1f-f4bc-408b-8397-22296190267d",
        "id": "D5K8EDPkxXr9",
        "colab": {
          "base_uri": "https://localhost:8080/",
          "height": 563
        }
      },
      "cell_type": "code",
      "source": [
        "acc = model.history.history['acc']\n",
        "val_acc = model.history.history['val_acc']\n",
        "loss = model.history.history['loss']\n",
        "val_loss = model.history.history['val_loss']\n",
        "\n",
        "epochs = range(1, len(acc) + 1)\n",
        "\n",
        "plt.figure()\n",
        "# plt.figure(figsize=(9,8))\n",
        "plt.plot(epochs, loss, 'bo', label='Training loss')\n",
        "plt.plot(epochs, val_loss, 'b', label='Validation loss')\n",
        "plt.title('Training and validation loss')\n",
        "plt.legend()\n",
        "plt.show()\n",
        "\n",
        "\n",
        "plt.figure()\n",
        "plt.plot(epochs, acc, 'bo', label='Training acc')\n",
        "plt.plot(epochs, val_acc, 'b', label='Validation acc')\n",
        "plt.title('Training and validation accuracy')\n",
        "plt.legend()"
      ],
      "execution_count": 28,
      "outputs": [
        {
          "output_type": "display_data",
          "data": {
            "image/png": "[encoded data removed]",
            "text/plain": [
              "<Figure size 432x288 with 1 Axes>"
            ]
          },
          "metadata": {
            "tags": []
          }
        },
        {
          "output_type": "execute_result",
          "data": {
            "text/plain": [
              "<matplotlib.legend.Legend at 0x7fbc2607e2b0>"
            ]
          },
          "metadata": {
            "tags": []
          },
          "execution_count": 28
        },
        {
          "output_type": "display_data",
          "data": {
            "image/png": "[encoded data removed]",
            "text/plain": [
              "<Figure size 432x288 with 1 Axes>"
            ]
          },
          "metadata": {
            "tags": []
          }
        }
      ]
    },
    {
      "metadata": {
        "id": "QwOnzL6ZXL21",
        "colab_type": "text"
      },
      "cell_type": "markdown",
      "source": [
        "### FASTTEXT"
      ]
    },
    {
      "metadata": {
        "id": "3h1eC7Fcebra",
        "colab_type": "text"
      },
      "cell_type": "markdown",
      "source": [
        "https://fasttext.cc/docs/en/english-vectors.html"
      ]
    },
    {
      "metadata": {
        "colab_type": "code",
        "outputId": "3dd369b2-caa4-42d7-94d6-0b49dadb9c2e",
        "id": "bvBjoJOBXjBH",
        "colab": {
          "base_uri": "https://localhost:8080/",
          "height": 34
        }
      },
      "cell_type": "code",
      "source": [
        "# crawl-300d-2M.vec.zip: 2 million word vectors trained on Common Crawl (600B tokens).\n",
        "\n",
        "link = \"https://drive.google.com/file/d/1jkJmSpRVZr_V2vGGkLmoEio6eY2Q2el-/view?usp=sharing\"\n",
        "\n",
        "_, id_t = link.split('d/')\n",
        "\n",
        "\n",
        "id = id_t.split('/')[0]\n",
        "print (id) # Verify that you have everything after '='\n",
        "\n",
        "# Install the PyDrive wrapper & import libraries.\n",
        "# This only needs to be done once per notebook.\n",
        "!pip install -U -q PyDrive\n",
        "from pydrive.auth import GoogleAuth\n",
        "from pydrive.drive import GoogleDrive\n",
        "from google.colab import auth\n",
        "from oauth2client.client import GoogleCredentials\n",
        "\n",
        "# Authenticate and create the PyDrive client.\n",
        "# This only needs to be done once per notebook.\n",
        "auth.authenticate_user()\n",
        "gauth = GoogleAuth()\n",
        "gauth.credentials = GoogleCredentials.get_application_default()\n",
        "drive = GoogleDrive(gauth)\n",
        "\n",
        "file_id = id\n",
        "downloaded = drive.CreateFile({'id':file_id})\n",
        "downloaded.FetchMetadata(fetch_all=True)\n",
        "downloaded.GetContentFile(downloaded.metadata['title'])"
      ],
      "execution_count": 11,
      "outputs": [
        {
          "output_type": "stream",
          "text": [
            "1jkJmSpRVZr_V2vGGkLmoEio6eY2Q2el-\n"
          ],
          "name": "stdout"
        }
      ]
    },
    {
      "metadata": {
        "colab_type": "code",
        "outputId": "e1be2ade-8d1e-45e4-a95e-7faef0899efd",
        "id": "UhPZ44lRXjBS",
        "colab": {
          "base_uri": "https://localhost:8080/",
          "height": 70
        }
      },
      "cell_type": "code",
      "source": [
        "!ls"
      ],
      "execution_count": 12,
      "outputs": [
        {
          "output_type": "stream",
          "text": [
            "aclImdb      crawl-300d-2M.vec.zip  GoogleNews-vectors-negative300.bin\n",
            "aclImdb.zip  glove.840B.300d.txt    __MACOSX\n",
            "adc.json     glove.840B.300d.zip    sample_data\n"
          ],
          "name": "stdout"
        }
      ]
    },
    {
      "metadata": {
        "colab_type": "code",
        "id": "yAITkNKuXjBW",
        "outputId": "80095175-ca51-41b8-f930-68f5f6714c36",
        "colab": {
          "base_uri": "https://localhost:8080/",
          "height": 52
        }
      },
      "cell_type": "code",
      "source": [
        "!unzip crawl-300d-2M.vec.zip"
      ],
      "execution_count": 13,
      "outputs": [
        {
          "output_type": "stream",
          "text": [
            "Archive:  crawl-300d-2M.vec.zip\n",
            "  inflating: crawl-300d-2M.vec       \n"
          ],
          "name": "stdout"
        }
      ]
    },
    {
      "metadata": {
        "id": "wHJea3zDeEjd",
        "colab_type": "code",
        "colab": {}
      },
      "cell_type": "code",
      "source": [
        "!rm crawl-300d-2M.vec.zip"
      ],
      "execution_count": 0,
      "outputs": []
    },
    {
      "metadata": {
        "colab_type": "code",
        "outputId": "b08c6b20-92f1-4191-dc62-6cfaebe5fd6b",
        "id": "PvH2HgQ9XjBX",
        "colab": {
          "base_uri": "https://localhost:8080/",
          "height": 87
        }
      },
      "cell_type": "code",
      "source": [
        "!ls"
      ],
      "execution_count": 14,
      "outputs": [
        {
          "output_type": "stream",
          "text": [
            "aclImdb\t\t   crawl-300d-2M.vec.zip\t       __MACOSX\n",
            "aclImdb.zip\t   glove.840B.300d.txt\t\t       sample_data\n",
            "adc.json\t   glove.840B.300d.zip\n",
            "crawl-300d-2M.vec  GoogleNews-vectors-negative300.bin\n"
          ],
          "name": "stdout"
        }
      ]
    },
    {
      "metadata": {
        "id": "ZACSz5CyXWEL",
        "colab_type": "code",
        "colab": {}
      },
      "cell_type": "code",
      "source": [
        "gensim_fasttext = KeyedVectors.load_word2vec_format('./crawl-300d-2M.vec')"
      ],
      "execution_count": 0,
      "outputs": []
    },
    {
      "metadata": {
        "id": "Vf__oF4xgxd3",
        "colab_type": "code",
        "outputId": "3327b2ab-fa41-41b8-a393-51f0565605f0",
        "colab": {
          "base_uri": "https://localhost:8080/",
          "height": 1101
        }
      },
      "cell_type": "code",
      "source": [
        "gensim_fasttext['and']"
      ],
      "execution_count": 16,
      "outputs": [
        {
          "output_type": "execute_result",
          "data": {
            "text/plain": [
              "array([-1.081e-01,  1.910e-02,  3.540e-02,  1.270e-02,  6.640e-02,\n",
              "       -1.260e-02, -1.882e-01,  6.310e-02, -2.306e-01,  9.500e-03,\n",
              "        9.170e-02,  1.513e-01,  5.580e-02, -6.430e-02, -2.880e-02,\n",
              "       -4.470e-02,  1.603e-01,  6.130e-02,  3.490e-02, -5.780e-02,\n",
              "        3.000e-04, -1.399e-01,  1.630e-02, -4.190e-02, -4.870e-02,\n",
              "        5.700e-03,  1.700e-03, -2.680e-02, -1.700e-02,  1.045e-01,\n",
              "        8.150e-02, -6.000e-03,  6.350e-02, -1.710e-01,  2.760e-02,\n",
              "       -2.300e-02,  8.240e-02,  3.040e-02, -1.595e-01,  8.510e-02,\n",
              "       -5.560e-02,  3.290e-02, -9.210e-02,  1.960e-02, -4.040e-02,\n",
              "        3.610e-02, -8.430e-02,  1.014e-01, -3.930e-02, -1.805e-01,\n",
              "       -7.300e-03,  2.247e-01, -6.210e-02, -5.750e-02, -3.160e-02,\n",
              "        1.980e-02,  6.020e-02,  1.312e-01, -1.278e-01,  1.770e-02,\n",
              "       -6.000e-02, -2.904e-01, -4.650e-02, -1.078e-01, -7.010e-02,\n",
              "       -4.970e-02, -1.102e-01,  1.560e-02, -5.950e-02,  7.620e-02,\n",
              "        2.638e-01,  3.530e-02,  7.450e-02,  3.610e-02, -5.610e-02,\n",
              "       -1.179e-01, -4.751e-01,  4.580e-02, -6.720e-02, -2.200e-03,\n",
              "        9.264e-01,  1.010e-02, -1.085e-01,  6.690e-02, -4.170e-02,\n",
              "       -4.280e-02,  3.910e-02, -5.810e-02,  1.070e-02, -8.730e-02,\n",
              "       -1.600e-03,  5.711e-01,  3.450e-02,  9.300e-02, -6.470e-02,\n",
              "       -8.200e-02,  5.870e-02, -1.307e-01,  4.800e-02,  2.260e-02,\n",
              "        1.150e-02,  2.960e-02, -1.675e-01,  3.990e-02,  2.511e-01,\n",
              "        4.230e-02,  1.299e-01, -3.360e-02, -9.770e-02,  1.460e-02,\n",
              "        3.527e-01,  1.220e-02,  1.031e-01, -6.570e-02, -3.704e-01,\n",
              "        4.450e-02,  1.242e-01, -3.100e-03,  2.550e-02, -1.090e-02,\n",
              "        1.575e-01,  2.880e-02,  2.549e-01, -2.800e-02,  4.620e-02,\n",
              "       -2.820e-02, -1.540e-02,  4.050e-02,  3.191e-01,  1.130e-02,\n",
              "       -1.360e-02,  1.820e-02, -3.850e-02, -4.990e-02, -8.100e-02,\n",
              "       -1.340e-02, -1.413e-01,  5.660e-02, -4.230e-02, -6.090e-02,\n",
              "        1.063e-01,  3.860e-02, -3.750e-02,  2.714e-01, -6.650e-02,\n",
              "       -2.190e-02,  5.790e-02,  5.500e-02,  7.720e-02,  2.024e-01,\n",
              "       -3.650e-02, -7.640e-02,  3.180e-02,  4.000e-04, -4.240e-02,\n",
              "       -5.790e-02,  4.280e-02,  2.110e-02, -6.100e-03,  2.430e-02,\n",
              "        5.702e-01,  7.980e-02, -5.020e-02, -1.950e-02,  2.420e-02,\n",
              "       -3.390e-02, -4.410e-02, -1.095e-01,  4.260e-02, -2.340e-02,\n",
              "       -5.700e-03, -2.090e-02, -9.030e-02, -6.540e-02,  1.559e-01,\n",
              "        5.100e-03,  3.700e-03, -8.000e-04, -5.000e-03,  5.080e-02,\n",
              "        1.050e-02,  2.510e-02,  2.700e-02,  3.900e-03,  6.210e-02,\n",
              "        5.190e-02, -1.560e-02, -1.285e-01, -5.640e-02, -2.630e-02,\n",
              "        4.010e-02,  3.720e-02, -1.040e-01, -6.740e-02,  8.660e-02,\n",
              "       -3.300e-03, -7.600e-03,  6.400e-03, -1.140e-02, -2.390e-02,\n",
              "        1.350e-02,  8.010e-02,  1.710e-02,  4.250e-02, -4.990e-02,\n",
              "        6.150e-02,  3.550e-02, -8.330e-02,  3.780e-02,  2.880e-02,\n",
              "       -3.920e-02,  5.679e-01, -1.200e-02,  6.990e-02, -8.930e-02,\n",
              "       -1.050e-02,  2.190e-02, -1.360e-02,  1.063e-01, -1.400e-03,\n",
              "       -6.200e-03, -6.170e-02,  3.570e-02,  3.000e-03, -4.140e-02,\n",
              "       -6.340e-02,  7.010e-02,  5.010e-02,  2.410e-02,  3.790e-02,\n",
              "       -2.340e-02, -1.160e-02,  3.910e-02, -1.690e-02, -1.900e-03,\n",
              "        7.310e-02,  5.970e-02,  1.910e-02, -2.620e-02, -2.560e-02,\n",
              "        6.310e-02, -2.610e-02,  1.850e-02,  1.000e-02,  1.126e-01,\n",
              "       -4.870e-02,  1.545e-01,  4.380e-02,  1.470e-02, -2.780e-02,\n",
              "       -4.930e-02, -8.660e-02, -2.810e-02, -9.550e-02,  8.790e-02,\n",
              "        1.940e-02, -3.230e-02, -1.260e-02, -8.100e-02,  8.800e-03,\n",
              "        2.000e-04,  5.900e-03,  8.580e-02,  2.400e-03,  4.010e-02,\n",
              "       -2.050e-02,  3.040e-02,  6.780e-02,  5.660e-02,  9.700e-03,\n",
              "        3.900e-03, -9.680e-02,  7.900e-03, -3.838e-01, -6.420e-02,\n",
              "       -4.170e-02, -6.660e-02,  3.370e-02,  5.300e-03, -2.630e-02,\n",
              "       -3.100e-02,  2.002e-01, -9.600e-03,  7.960e-02,  7.430e-02,\n",
              "        7.090e-02, -7.700e-03, -1.690e-02, -8.300e-03, -3.220e-02,\n",
              "        6.080e-02,  2.270e-02, -3.060e-02,  3.945e-01,  2.000e-02,\n",
              "       -6.130e-02, -6.110e-02,  1.104e-01,  4.750e-02, -5.990e-02],\n",
              "      dtype=float32)"
            ]
          },
          "metadata": {
            "tags": []
          },
          "execution_count": 16
        }
      ]
    },
    {
      "metadata": {
        "id": "pe5LkYQYXVwz",
        "colab_type": "code",
        "outputId": "9b70b1d2-c6b2-49d2-e31a-137ff21e276f",
        "colab": {
          "base_uri": "https://localhost:8080/",
          "height": 541
        }
      },
      "cell_type": "code",
      "source": [
        "gensim_fasttext['hsyo']"
      ],
      "execution_count": 19,
      "outputs": [
        {
          "output_type": "error",
          "ename": "KeyError",
          "evalue": "ignored",
          "traceback": [
            "\u001b[0;31m---------------------------------------------------------------------------\u001b[0m",
            "\u001b[0;31mKeyError\u001b[0m                                  Traceback (most recent call last)",
            "\u001b[0;32m<ipython-input-19-972abf9324d3>\u001b[0m in \u001b[0;36m<module>\u001b[0;34m()\u001b[0m\n\u001b[0;32m----> 1\u001b[0;31m \u001b[0mgensim_fasttext\u001b[0m\u001b[0;34m[\u001b[0m\u001b[0;34m'hsyo'\u001b[0m\u001b[0;34m]\u001b[0m\u001b[0;34m\u001b[0m\u001b[0;34m\u001b[0m\u001b[0m\n\u001b[0m",
            "\u001b[0;32m/usr/local/lib/python3.6/dist-packages/gensim/models/keyedvectors.py\u001b[0m in \u001b[0;36m__getitem__\u001b[0;34m(self, entities)\u001b[0m\n\u001b[1;32m    335\u001b[0m         \u001b[0;32mif\u001b[0m \u001b[0misinstance\u001b[0m\u001b[0;34m(\u001b[0m\u001b[0mentities\u001b[0m\u001b[0;34m,\u001b[0m \u001b[0mstring_types\u001b[0m\u001b[0;34m)\u001b[0m\u001b[0;34m:\u001b[0m\u001b[0;34m\u001b[0m\u001b[0;34m\u001b[0m\u001b[0m\n\u001b[1;32m    336\u001b[0m             \u001b[0;31m# allow calls like trained_model['office'], as a shorthand for trained_model[['office']]\u001b[0m\u001b[0;34m\u001b[0m\u001b[0;34m\u001b[0m\u001b[0;34m\u001b[0m\u001b[0m\n\u001b[0;32m--> 337\u001b[0;31m             \u001b[0;32mreturn\u001b[0m \u001b[0mself\u001b[0m\u001b[0;34m.\u001b[0m\u001b[0mget_vector\u001b[0m\u001b[0;34m(\u001b[0m\u001b[0mentities\u001b[0m\u001b[0;34m)\u001b[0m\u001b[0;34m\u001b[0m\u001b[0;34m\u001b[0m\u001b[0m\n\u001b[0m\u001b[1;32m    338\u001b[0m \u001b[0;34m\u001b[0m\u001b[0m\n\u001b[1;32m    339\u001b[0m         \u001b[0;32mreturn\u001b[0m \u001b[0mvstack\u001b[0m\u001b[0;34m(\u001b[0m\u001b[0;34m[\u001b[0m\u001b[0mself\u001b[0m\u001b[0;34m.\u001b[0m\u001b[0mget_vector\u001b[0m\u001b[0;34m(\u001b[0m\u001b[0mentity\u001b[0m\u001b[0;34m)\u001b[0m \u001b[0;32mfor\u001b[0m \u001b[0mentity\u001b[0m \u001b[0;32min\u001b[0m \u001b[0mentities\u001b[0m\u001b[0;34m]\u001b[0m\u001b[0;34m)\u001b[0m\u001b[0;34m\u001b[0m\u001b[0;34m\u001b[0m\u001b[0m\n",
            "\u001b[0;32m/usr/local/lib/python3.6/dist-packages/gensim/models/keyedvectors.py\u001b[0m in \u001b[0;36mget_vector\u001b[0;34m(self, word)\u001b[0m\n\u001b[1;32m    453\u001b[0m \u001b[0;34m\u001b[0m\u001b[0m\n\u001b[1;32m    454\u001b[0m     \u001b[0;32mdef\u001b[0m \u001b[0mget_vector\u001b[0m\u001b[0;34m(\u001b[0m\u001b[0mself\u001b[0m\u001b[0;34m,\u001b[0m \u001b[0mword\u001b[0m\u001b[0;34m)\u001b[0m\u001b[0;34m:\u001b[0m\u001b[0;34m\u001b[0m\u001b[0;34m\u001b[0m\u001b[0m\n\u001b[0;32m--> 455\u001b[0;31m         \u001b[0;32mreturn\u001b[0m \u001b[0mself\u001b[0m\u001b[0;34m.\u001b[0m\u001b[0mword_vec\u001b[0m\u001b[0;34m(\u001b[0m\u001b[0mword\u001b[0m\u001b[0;34m)\u001b[0m\u001b[0;34m\u001b[0m\u001b[0;34m\u001b[0m\u001b[0m\n\u001b[0m\u001b[1;32m    456\u001b[0m \u001b[0;34m\u001b[0m\u001b[0m\n\u001b[1;32m    457\u001b[0m     \u001b[0;32mdef\u001b[0m \u001b[0mwords_closer_than\u001b[0m\u001b[0;34m(\u001b[0m\u001b[0mself\u001b[0m\u001b[0;34m,\u001b[0m \u001b[0mw1\u001b[0m\u001b[0;34m,\u001b[0m \u001b[0mw2\u001b[0m\u001b[0;34m)\u001b[0m\u001b[0;34m:\u001b[0m\u001b[0;34m\u001b[0m\u001b[0;34m\u001b[0m\u001b[0m\n",
            "\u001b[0;32m/usr/local/lib/python3.6/dist-packages/gensim/models/keyedvectors.py\u001b[0m in \u001b[0;36mword_vec\u001b[0;34m(self, word, use_norm)\u001b[0m\n\u001b[1;32m    450\u001b[0m             \u001b[0;32mreturn\u001b[0m \u001b[0mresult\u001b[0m\u001b[0;34m\u001b[0m\u001b[0;34m\u001b[0m\u001b[0m\n\u001b[1;32m    451\u001b[0m         \u001b[0;32melse\u001b[0m\u001b[0;34m:\u001b[0m\u001b[0;34m\u001b[0m\u001b[0;34m\u001b[0m\u001b[0m\n\u001b[0;32m--> 452\u001b[0;31m             \u001b[0;32mraise\u001b[0m \u001b[0mKeyError\u001b[0m\u001b[0;34m(\u001b[0m\u001b[0;34m\"word '%s' not in vocabulary\"\u001b[0m \u001b[0;34m%\u001b[0m \u001b[0mword\u001b[0m\u001b[0;34m)\u001b[0m\u001b[0;34m\u001b[0m\u001b[0;34m\u001b[0m\u001b[0m\n\u001b[0m\u001b[1;32m    453\u001b[0m \u001b[0;34m\u001b[0m\u001b[0m\n\u001b[1;32m    454\u001b[0m     \u001b[0;32mdef\u001b[0m \u001b[0mget_vector\u001b[0m\u001b[0;34m(\u001b[0m\u001b[0mself\u001b[0m\u001b[0;34m,\u001b[0m \u001b[0mword\u001b[0m\u001b[0;34m)\u001b[0m\u001b[0;34m:\u001b[0m\u001b[0;34m\u001b[0m\u001b[0;34m\u001b[0m\u001b[0m\n",
            "\u001b[0;31mKeyError\u001b[0m: \"word 'hsyo' not in vocabulary\""
          ]
        }
      ]
    },
    {
      "metadata": {
        "id": "2vBOSxbb7xGS",
        "colab_type": "text"
      },
      "cell_type": "markdown",
      "source": [
        "This kind of error occuer when we try to get a word that is not in the disctionarry "
      ]
    },
    {
      "metadata": {
        "colab_type": "code",
        "outputId": "24709c8a-4afd-489a-f705-7dc7c031143d",
        "id": "e6mctibSfKXX",
        "colab": {
          "base_uri": "https://localhost:8080/",
          "height": 34
        }
      },
      "cell_type": "code",
      "source": [
        "gensim_fasttext['hello'].shape"
      ],
      "execution_count": 0,
      "outputs": [
        {
          "output_type": "execute_result",
          "data": {
            "text/plain": [
              "(300,)"
            ]
          },
          "metadata": {
            "tags": []
          },
          "execution_count": 30
        }
      ]
    },
    {
      "metadata": {
        "colab_type": "code",
        "outputId": "c2219ea7-2dc2-4c19-d351-e6534909040f",
        "id": "cddsZcYCfKXj",
        "colab": {
          "base_uri": "https://localhost:8080/",
          "height": 34
        }
      },
      "cell_type": "code",
      "source": [
        "type(gensim_fasttext['0'])"
      ],
      "execution_count": 0,
      "outputs": [
        {
          "output_type": "execute_result",
          "data": {
            "text/plain": [
              "numpy.ndarray"
            ]
          },
          "metadata": {
            "tags": []
          },
          "execution_count": 32
        }
      ]
    },
    {
      "metadata": {
        "colab_type": "code",
        "outputId": "03e9810f-fc00-4770-f9ce-48563112641c",
        "id": "tq2b8EvwfKXp",
        "colab": {
          "base_uri": "https://localhost:8080/",
          "height": 34
        }
      },
      "cell_type": "code",
      "source": [
        "# 2000000 words\n",
        "len(gensim_fasttext.vocab)"
      ],
      "execution_count": 17,
      "outputs": [
        {
          "output_type": "execute_result",
          "data": {
            "text/plain": [
              "1999995"
            ]
          },
          "metadata": {
            "tags": []
          },
          "execution_count": 17
        }
      ]
    },
    {
      "metadata": {
        "colab_type": "code",
        "id": "RV9-4hajfKX0",
        "colab": {}
      },
      "cell_type": "code",
      "source": [
        "embedding_dim = gensim_fasttext['hello'].shape[0]\n",
        "\n",
        "# Cuts off reviews after 100 words\n",
        "maxlen = 500\n",
        "\n",
        "# Considers only the top \n",
        "# 10,000 words in the dataset\n",
        "max_words = 10000\n",
        "\n",
        "embedding_matrix = np.zeros((max_words, embedding_dim))\n",
        "\n",
        "for word, i in word_index.items():\n",
        "    if i < max_words:\n",
        "#         ipdb.set_trace()\n",
        "        if word not in gensim_fasttext.vocab:\n",
        "            pass;\n",
        "        else :\n",
        "            embedding_vector = gensim_fasttext[word]\n",
        "        # cheking that th eword exist in the embedding dictionary\n",
        "        if embedding_vector is not None: \n",
        "            embedding_matrix[i] = embedding_vector"
      ],
      "execution_count": 0,
      "outputs": []
    },
    {
      "metadata": {
        "colab_type": "code",
        "outputId": "5d88a0aa-8e29-4f97-867a-4b97544d1f6b",
        "id": "AhH-WHvtfKX3",
        "colab": {
          "base_uri": "https://localhost:8080/",
          "height": 1083
        }
      },
      "cell_type": "code",
      "source": [
        "embedding_matrix[-1]"
      ],
      "execution_count": 25,
      "outputs": [
        {
          "output_type": "execute_result",
          "data": {
            "text/plain": [
              "array([ 0.145     , -0.38229999,  0.22849999, -0.43020001,  0.002     ,\n",
              "       -0.1035    ,  0.0786    , -0.0783    ,  0.25830001, -0.1183    ,\n",
              "       -0.0126    ,  0.57870001, -0.0334    ,  0.1903    , -0.0063    ,\n",
              "        0.21160001,  0.0955    , -0.58200002,  0.1857    , -0.56379998,\n",
              "       -0.1648    , -0.24869999,  0.2045    , -0.2617    , -0.90850002,\n",
              "       -0.50419998,  0.2016    , -0.1       , -0.13150001, -0.2221    ,\n",
              "       -0.0561    ,  0.0122    , -0.122     ,  0.0241    ,  0.039     ,\n",
              "        0.0712    ,  0.0503    , -0.1353    ,  0.59960002,  0.072     ,\n",
              "       -0.35260001, -0.0226    , -0.3143    , -0.0589    , -0.0439    ,\n",
              "       -0.3872    ,  0.3457    , -0.39219999,  0.3204    ,  0.0828    ,\n",
              "       -0.26679999,  0.1955    ,  0.87970001,  0.4411    ,  0.3364    ,\n",
              "       -0.0469    ,  0.21780001, -0.13689999, -0.0319    ,  0.1604    ,\n",
              "       -0.064     , -0.0272    , -0.0692    ,  0.2339    , -0.3716    ,\n",
              "        0.0802    ,  0.0832    ,  0.0105    ,  0.0396    , -0.51109999,\n",
              "       -0.19580001,  0.14129999,  0.0502    , -0.4684    , -0.0418    ,\n",
              "       -0.0568    , -0.44600001, -0.23019999, -0.3466    , -0.1008    ,\n",
              "        0.6904    , -0.0741    , -0.33660001, -0.21349999,  0.0233    ,\n",
              "       -0.0913    , -0.0237    ,  0.30320001,  0.244     ,  0.117     ,\n",
              "       -0.006     ,  0.1178    ,  0.56400001, -0.055     ,  0.088     ,\n",
              "       -0.13869999, -0.0713    , -0.3493    , -0.4043    ,  0.0147    ,\n",
              "        0.39230001, -0.0309    , -0.25580001, -0.45359999, -0.0711    ,\n",
              "        0.2439    , -0.14049999,  0.44440001,  0.0466    , -0.47440001,\n",
              "       -0.28549999, -0.56529999,  0.2102    , -0.0946    , -0.93379998,\n",
              "        0.0749    ,  0.48339999, -0.1459    , -0.33320001,  0.1928    ,\n",
              "        0.3461    , -0.0137    ,  0.1754    , -0.0177    , -0.1371    ,\n",
              "       -0.40549999, -0.28600001, -0.1587    ,  0.1443    , -0.36700001,\n",
              "        0.0038    ,  0.215     ,  0.0645    ,  0.0547    ,  0.1022    ,\n",
              "        0.1406    ,  0.1094    ,  0.40830001,  0.8653    , -0.64789999,\n",
              "       -0.25639999,  0.0576    ,  0.1016    , -0.31479999, -0.1564    ,\n",
              "        0.27379999, -0.35170001, -0.3854    , -0.1057    , -0.1945    ,\n",
              "        0.126     , -0.69730002,  0.33669999, -0.1683    ,  0.33759999,\n",
              "        0.55489999,  0.25240001, -0.4522    ,  0.81720001,  0.3802    ,\n",
              "        0.1798    , -0.54579997,  0.1259    , -0.23999999, -0.1035    ,\n",
              "       -0.1829    ,  0.171     ,  0.29100001, -0.4587    , -0.0245    ,\n",
              "        0.0228    , -0.3707    ,  0.054     ,  0.56559998, -0.2418    ,\n",
              "       -0.0507    ,  0.15180001,  0.52859998, -0.27469999, -0.0722    ,\n",
              "        0.1257    ,  0.1988    , -0.2494    ,  0.51160002,  0.0492    ,\n",
              "        0.037     , -0.0594    ,  0.6498    , -0.1497    ,  0.34540001,\n",
              "       -0.19949999,  0.0228    , -0.1463    ,  0.3299    ,  0.0823    ,\n",
              "       -0.0851    ,  0.25650001,  0.1051    ,  0.1296    ,  0.15099999,\n",
              "       -0.30000001, -0.0955    ,  0.1356    ,  0.0042    , -0.3872    ,\n",
              "        0.20990001,  0.4152    ,  0.75520003, -0.1418    ,  0.0893    ,\n",
              "        0.1135    ,  0.25330001,  0.336     , -0.3818    , -0.72610003,\n",
              "        0.0284    , -0.25369999,  0.71539998,  0.43990001, -0.17209999,\n",
              "        0.2031    ,  0.1106    , -0.0624    ,  0.13869999,  0.29789999,\n",
              "        0.5474    ,  0.28799999,  0.1478    , -0.41389999, -0.0549    ,\n",
              "       -0.1328    ,  0.1584    ,  0.1159    , -0.31549999, -0.25040001,\n",
              "       -0.3256    ,  0.1478    , -0.1345    , -0.28240001,  0.27520001,\n",
              "       -0.0176    ,  0.57090002,  0.0156    ,  0.033     ,  0.0977    ,\n",
              "       -0.0685    ,  0.0096    ,  0.0187    ,  0.0342    ,  0.62589997,\n",
              "        0.1604    ,  0.21699999, -0.0604    ,  0.24150001,  0.59810001,\n",
              "       -0.1058    ,  0.0661    , -0.1051    ,  0.35179999, -0.3976    ,\n",
              "        0.0917    ,  0.1945    ,  0.1069    , -0.35319999,  0.1041    ,\n",
              "        0.4409    ,  0.2543    , -0.32659999, -0.37940001,  0.1194    ,\n",
              "        0.0781    ,  0.2703    , -0.1964    ,  0.2728    , -0.0757    ,\n",
              "       -0.0341    ,  0.0785    , -0.006     , -0.31200001,  0.28439999,\n",
              "        0.38679999,  0.0984    , -0.1952    ,  0.4215    , -0.27169999,\n",
              "        0.0474    , -0.1794    ,  0.72570002,  0.1279    ,  0.479     ,\n",
              "        0.0771    ,  0.0094    , -0.40380001,  0.40619999,  0.37709999,\n",
              "        0.34240001, -0.1339    , -0.0998    , -0.40869999, -0.0197    ])"
            ]
          },
          "metadata": {
            "tags": []
          },
          "execution_count": 25
        }
      ]
    },
    {
      "metadata": {
        "colab_type": "code",
        "outputId": "c1698835-d58a-4fef-d28f-3ee5ca6f4c19",
        "id": "6JGvo8t6fKX_",
        "colab": {
          "base_uri": "https://localhost:8080/",
          "height": 70
        }
      },
      "cell_type": "code",
      "source": [
        "print(f\"Max_words = {max_words}, \\nEmbedding_dim = {embedding_dim} and \\nInput_length = {maxlen}\")"
      ],
      "execution_count": 19,
      "outputs": [
        {
          "output_type": "stream",
          "text": [
            "Max_words = 10000, \n",
            "Embedding_dim = 300 and \n",
            "Input_length = 500\n"
          ],
          "name": "stdout"
        }
      ]
    },
    {
      "metadata": {
        "colab_type": "code",
        "outputId": "116615ac-688e-45e8-fc0b-55bcd4ef1a4b",
        "id": "KIwIH55_fKYH",
        "colab": {
          "base_uri": "https://localhost:8080/",
          "height": 283
        }
      },
      "cell_type": "code",
      "source": [
        "model = tf.keras.Sequential()\n",
        "# model.add(Embedding(max_words, embedding_dim, input_length=maxlen))\n",
        "model.add(tf.keras.layers.Embedding(max_words, embedding_dim, input_length=x_train.shape[1]))\n",
        "model.add(tf.keras.layers.Flatten())\n",
        "model.add(tf.keras.layers.Dense(32, activation='relu'))\n",
        "model.add(tf.keras.layers.Dense(1, activation='sigmoid'))\n",
        "\n",
        "model.layers[0].set_weights([embedding_matrix])\n",
        "#  freeze the Embedding layer\n",
        "# the pretrained parts shouldn’t\n",
        "# be updated during training, to avoid forgetting what they already know\n",
        "model.layers[0].trainable = False\n",
        "\n",
        "model.summary()"
      ],
      "execution_count": 20,
      "outputs": [
        {
          "output_type": "stream",
          "text": [
            "_________________________________________________________________\n",
            "Layer (type)                 Output Shape              Param #   \n",
            "=================================================================\n",
            "embedding (Embedding)        (None, 500, 300)          3000000   \n",
            "_________________________________________________________________\n",
            "flatten (Flatten)            (None, 150000)            0         \n",
            "_________________________________________________________________\n",
            "dense (Dense)                (None, 32)                4800032   \n",
            "_________________________________________________________________\n",
            "dense_1 (Dense)              (None, 1)                 33        \n",
            "=================================================================\n",
            "Total params: 7,800,065\n",
            "Trainable params: 4,800,065\n",
            "Non-trainable params: 3,000,000\n",
            "_________________________________________________________________\n"
          ],
          "name": "stdout"
        }
      ]
    },
    {
      "metadata": {
        "colab_type": "code",
        "outputId": "7f2b316e-8d3d-421a-eb36-33b8627f5455",
        "id": "jLHe4zg0fKYL",
        "colab": {
          "base_uri": "https://localhost:8080/",
          "height": 481
        }
      },
      "cell_type": "code",
      "source": [
        "model.compile(optimizer=tf.keras.optimizers.RMSprop(lr=1e-4),\n",
        "              loss='binary_crossentropy',\n",
        "              metrics=['acc'])\n",
        "\n",
        "model.fit(x_train, y_train,\n",
        "          epochs=10, batch_size=32,\n",
        "          validation_split=0.2)\n",
        "#                     validation_data=(x_val, y_val))\n",
        "\n",
        "# model.save_weights('pre_trained_word2vec_model.h5')"
      ],
      "execution_count": 21,
      "outputs": [
        {
          "output_type": "stream",
          "text": [
            "Train on 160 samples, validate on 40 samples\n",
            "WARNING:tensorflow:From /usr/local/lib/python3.6/dist-packages/tensorflow/python/ops/math_ops.py:3066: to_int32 (from tensorflow.python.ops.math_ops) is deprecated and will be removed in a future version.\n",
            "Instructions for updating:\n",
            "Use tf.cast instead.\n",
            "Epoch 1/10\n",
            "160/160 [==============================] - 1s 7ms/sample - loss: 0.7099 - acc: 0.5188 - val_loss: 0.6951 - val_acc: 0.5250\n",
            "Epoch 2/10\n",
            "160/160 [==============================] - 0s 232us/sample - loss: 0.3298 - acc: 0.9875 - val_loss: 0.6964 - val_acc: 0.5250\n",
            "Epoch 3/10\n",
            "160/160 [==============================] - 0s 220us/sample - loss: 0.1778 - acc: 1.0000 - val_loss: 0.6830 - val_acc: 0.5250\n",
            "Epoch 4/10\n",
            "160/160 [==============================] - 0s 219us/sample - loss: 0.1025 - acc: 1.0000 - val_loss: 0.6726 - val_acc: 0.5000\n",
            "Epoch 5/10\n",
            "160/160 [==============================] - 0s 227us/sample - loss: 0.0654 - acc: 1.0000 - val_loss: 0.6910 - val_acc: 0.5000\n",
            "Epoch 6/10\n",
            "160/160 [==============================] - 0s 219us/sample - loss: 0.0450 - acc: 1.0000 - val_loss: 0.6700 - val_acc: 0.5000\n",
            "Epoch 7/10\n",
            "160/160 [==============================] - 0s 221us/sample - loss: 0.0325 - acc: 1.0000 - val_loss: 0.7156 - val_acc: 0.5250\n",
            "Epoch 8/10\n",
            "160/160 [==============================] - 0s 220us/sample - loss: 0.0237 - acc: 1.0000 - val_loss: 0.6804 - val_acc: 0.5500\n",
            "Epoch 9/10\n",
            "160/160 [==============================] - 0s 229us/sample - loss: 0.0177 - acc: 1.0000 - val_loss: 0.7008 - val_acc: 0.5750\n",
            "Epoch 10/10\n",
            "160/160 [==============================] - 0s 207us/sample - loss: 0.0134 - acc: 1.0000 - val_loss: 0.6574 - val_acc: 0.5500\n"
          ],
          "name": "stdout"
        },
        {
          "output_type": "execute_result",
          "data": {
            "text/plain": [
              "<tensorflow.python.keras.callbacks.History at 0x7f5bc63edcc0>"
            ]
          },
          "metadata": {
            "tags": []
          },
          "execution_count": 21
        }
      ]
    },
    {
      "metadata": {
        "id": "RrUlXNi4BzVY",
        "colab_type": "code",
        "colab": {
          "base_uri": "https://localhost:8080/",
          "height": 70
        },
        "outputId": "698878bf-1f89-4c68-9235-6fbe516c33fb"
      },
      "cell_type": "code",
      "source": [
        "result = model.evaluate(x_test, y_test)\n",
        "for i in range(len(model.metrics_names)):\n",
        "     print(\"Metric \",model.metrics_names[i],\":\", str(round(result[i],5)))"
      ],
      "execution_count": 22,
      "outputs": [
        {
          "output_type": "stream",
          "text": [
            "25000/25000 [==============================] - 1s 57us/sample - loss: 0.7300 - acc: 0.5169\n",
            "Metric  loss : 0.72998\n",
            "Metric  acc : 0.51688\n"
          ],
          "name": "stdout"
        }
      ]
    },
    {
      "metadata": {
        "colab_type": "code",
        "outputId": "379a98c2-17a7-4280-8f74-e8fbf410bc52",
        "id": "1jdvocovfKYN",
        "colab": {
          "base_uri": "https://localhost:8080/",
          "height": 563
        }
      },
      "cell_type": "code",
      "source": [
        "acc = model.history.history['acc']\n",
        "val_acc = model.history.history['val_acc']\n",
        "loss = model.history.history['loss']\n",
        "val_loss = model.history.history['val_loss']\n",
        "\n",
        "epochs = range(1, len(acc) + 1)\n",
        "\n",
        "plt.figure()\n",
        "# plt.figure(figsize=(9,8))\n",
        "plt.plot(epochs, loss, 'bo', label='Training loss')\n",
        "plt.plot(epochs, val_loss, 'b', label='Validation loss')\n",
        "plt.title('Training and validation loss')\n",
        "plt.legend()\n",
        "plt.show()\n",
        "\n",
        "\n",
        "plt.figure()\n",
        "plt.plot(epochs, acc, 'bo', label='Training acc')\n",
        "plt.plot(epochs, val_acc, 'b', label='Validation acc')\n",
        "plt.title('Training and validation accuracy')\n",
        "plt.legend()"
      ],
      "execution_count": 23,
      "outputs": [
        {
          "output_type": "display_data",
          "data": {
            "image/png": "[encoded data removed]",
            "text/plain": [
              "<Figure size 432x288 with 1 Axes>"
            ]
          },
          "metadata": {
            "tags": []
          }
        },
        {
          "output_type": "execute_result",
          "data": {
            "text/plain": [
              "<matplotlib.legend.Legend at 0x7f5bc60e7748>"
            ]
          },
          "metadata": {
            "tags": []
          },
          "execution_count": 23
        },
        {
          "output_type": "display_data",
          "data": {
            "image/png": "[encoded data removed]",
            "text/plain": [
              "<Figure size 432x288 with 1 Axes>"
            ]
          },
          "metadata": {
            "tags": []
          }
        }
      ]
    },
    {
      "metadata": {
        "id": "8RTG6CVrwEFA",
        "colab_type": "text"
      },
      "cell_type": "markdown",
      "source": [
        "#### 1D convnt"
      ]
    },
    {
      "metadata": {
        "id": "uVTjX-7puyHZ",
        "colab_type": "code",
        "colab": {
          "base_uri": "https://localhost:8080/",
          "height": 354
        },
        "outputId": "dd5a7cb9-3bdd-46da-9391-8ac224701ef5"
      },
      "cell_type": "code",
      "source": [
        "model = tf.keras.Sequential()\n",
        "model.add(tf.keras.layers.Embedding(max_words, embedding_dim, input_length=x_train.shape[1]))\n",
        "model.add(tf.keras.layers.Conv1D(32, 7, \n",
        "                                 activation='relu'))\n",
        "model.add(tf.keras.layers.MaxPooling1D(5))\n",
        "model.add(tf.keras.layers.Conv1D(32, 7, \n",
        "                                 activation='relu'))\n",
        "model.add(tf.keras.layers.GlobalMaxPooling1D())\n",
        "model.add(tf.keras.layers.Dense(1))\n",
        "\n",
        "model.layers[0].set_weights([embedding_matrix])\n",
        "#  freeze the Embedding layer\n",
        "# the pretrained parts shouldn’t\n",
        "# be updated during training, to avoid forgetting what they already know\n",
        "model.layers[0].trainable = False\n",
        "\n",
        "model.summary()"
      ],
      "execution_count": 24,
      "outputs": [
        {
          "output_type": "stream",
          "text": [
            "_________________________________________________________________\n",
            "Layer (type)                 Output Shape              Param #   \n",
            "=================================================================\n",
            "embedding_1 (Embedding)      (None, 500, 300)          3000000   \n",
            "_________________________________________________________________\n",
            "conv1d (Conv1D)              (None, 494, 32)           67232     \n",
            "_________________________________________________________________\n",
            "max_pooling1d (MaxPooling1D) (None, 98, 32)            0         \n",
            "_________________________________________________________________\n",
            "conv1d_1 (Conv1D)            (None, 92, 32)            7200      \n",
            "_________________________________________________________________\n",
            "global_max_pooling1d (Global (None, 32)                0         \n",
            "_________________________________________________________________\n",
            "dense_2 (Dense)              (None, 1)                 33        \n",
            "=================================================================\n",
            "Total params: 3,074,465\n",
            "Trainable params: 74,465\n",
            "Non-trainable params: 3,000,000\n",
            "_________________________________________________________________\n"
          ],
          "name": "stdout"
        }
      ]
    },
    {
      "metadata": {
        "id": "8hF9cmIfvXrG",
        "colab_type": "code",
        "colab": {
          "base_uri": "https://localhost:8080/",
          "height": 481
        },
        "outputId": "55dc774c-7cd4-414b-d46d-faaf03f0d20b"
      },
      "cell_type": "code",
      "source": [
        "model.compile(optimizer=tf.keras.optimizers.RMSprop(lr=1e-4),\n",
        "              loss='binary_crossentropy',\n",
        "              metrics=['acc'])\n",
        "\n",
        "model.fit(x_train, y_train,\n",
        "          epochs=10, batch_size=32,\n",
        "          validation_split=0.2)\n",
        "#                     validation_data=(x_val, y_val))\n",
        "\n",
        "# model.save_weights('pre_trained_word2vec_model.h5')"
      ],
      "execution_count": 25,
      "outputs": [
        {
          "output_type": "stream",
          "text": [
            "Train on 160 samples, validate on 40 samples\n",
            "WARNING:tensorflow:From /usr/local/lib/python3.6/dist-packages/tensorflow/python/ops/math_grad.py:102: div (from tensorflow.python.ops.math_ops) is deprecated and will be removed in a future version.\n",
            "Instructions for updating:\n",
            "Deprecated in favor of operator or tf.math.divide.\n",
            "Epoch 1/10\n",
            "160/160 [==============================] - 3s 19ms/sample - loss: 0.7494 - acc: 0.5875 - val_loss: 0.8298 - val_acc: 0.5000\n",
            "Epoch 2/10\n",
            "160/160 [==============================] - 0s 242us/sample - loss: 0.6307 - acc: 0.6875 - val_loss: 0.8051 - val_acc: 0.4500\n",
            "Epoch 3/10\n",
            "160/160 [==============================] - 0s 217us/sample - loss: 0.5840 - acc: 0.7188 - val_loss: 0.8371 - val_acc: 0.5000\n",
            "Epoch 4/10\n",
            "160/160 [==============================] - 0s 205us/sample - loss: 0.5464 - acc: 0.8062 - val_loss: 0.8307 - val_acc: 0.5000\n",
            "Epoch 5/10\n",
            "160/160 [==============================] - 0s 212us/sample - loss: 0.5133 - acc: 0.8438 - val_loss: 0.8199 - val_acc: 0.5250\n",
            "Epoch 6/10\n",
            "160/160 [==============================] - 0s 217us/sample - loss: 0.4761 - acc: 0.8687 - val_loss: 0.8411 - val_acc: 0.4750\n",
            "Epoch 7/10\n",
            "160/160 [==============================] - 0s 273us/sample - loss: 0.4360 - acc: 0.9187 - val_loss: 0.8445 - val_acc: 0.4750\n",
            "Epoch 8/10\n",
            "160/160 [==============================] - 0s 216us/sample - loss: 0.4020 - acc: 0.9563 - val_loss: 0.8432 - val_acc: 0.5000\n",
            "Epoch 9/10\n",
            "160/160 [==============================] - 0s 206us/sample - loss: 0.3736 - acc: 0.9625 - val_loss: 0.8647 - val_acc: 0.4500\n",
            "Epoch 10/10\n",
            "160/160 [==============================] - 0s 197us/sample - loss: 0.3301 - acc: 0.9875 - val_loss: 0.8671 - val_acc: 0.4500\n"
          ],
          "name": "stdout"
        },
        {
          "output_type": "execute_result",
          "data": {
            "text/plain": [
              "<tensorflow.python.keras.callbacks.History at 0x7f5bc0540ac8>"
            ]
          },
          "metadata": {
            "tags": []
          },
          "execution_count": 25
        }
      ]
    },
    {
      "metadata": {
        "id": "r2kBGjtTvXlT",
        "colab_type": "code",
        "colab": {
          "base_uri": "https://localhost:8080/",
          "height": 70
        },
        "outputId": "e9aea9c7-500f-42d8-857e-a3042cdc3330"
      },
      "cell_type": "code",
      "source": [
        "result = model.evaluate(x_test, y_test)\n",
        "for i in range(len(model.metrics_names)):\n",
        "     print(\"Metric \",model.metrics_names[i],\":\", str(round(result[i],5)))"
      ],
      "execution_count": 26,
      "outputs": [
        {
          "output_type": "stream",
          "text": [
            "25000/25000 [==============================] - 2s 70us/sample - loss: 0.8033 - acc: 0.4990\n",
            "Metric  loss : 0.80333\n",
            "Metric  acc : 0.49904\n"
          ],
          "name": "stdout"
        }
      ]
    },
    {
      "metadata": {
        "id": "neKRLHBKvXdk",
        "colab_type": "code",
        "colab": {
          "base_uri": "https://localhost:8080/",
          "height": 563
        },
        "outputId": "12807db2-799e-4aca-b5e7-2d0a4afd2a19"
      },
      "cell_type": "code",
      "source": [
        "acc = model.history.history['acc']\n",
        "val_acc = model.history.history['val_acc']\n",
        "loss = model.history.history['loss']\n",
        "val_loss = model.history.history['val_loss']\n",
        "\n",
        "epochs = range(1, len(acc) + 1)\n",
        "\n",
        "plt.figure()\n",
        "# plt.figure(figsize=(9,8))\n",
        "plt.plot(epochs, loss, 'bo', label='Training loss')\n",
        "plt.plot(epochs, val_loss, 'b', label='Validation loss')\n",
        "plt.title('Training and validation loss')\n",
        "plt.legend()\n",
        "plt.show()\n",
        "\n",
        "\n",
        "plt.figure()\n",
        "plt.plot(epochs, acc, 'bo', label='Training acc')\n",
        "plt.plot(epochs, val_acc, 'b', label='Validation acc')\n",
        "plt.title('Training and validation accuracy')\n",
        "plt.legend()"
      ],
      "execution_count": 27,
      "outputs": [
        {
          "output_type": "display_data",
          "data": {
            "image/png": "[encoded data removed]",
            "text/plain": [
              "<Figure size 432x288 with 1 Axes>"
            ]
          },
          "metadata": {
            "tags": []
          }
        },
        {
          "output_type": "execute_result",
          "data": {
            "text/plain": [
              "<matplotlib.legend.Legend at 0x7f5bc0295dd8>"
            ]
          },
          "metadata": {
            "tags": []
          },
          "execution_count": 27
        },
        {
          "output_type": "display_data",
          "data": {
            "image/png": "[encoded data removed]",
            "text/plain": [
              "<Figure size 432x288 with 1 Axes>"
            ]
          },
          "metadata": {
            "tags": []
          }
        }
      ]
    },
    {
      "metadata": {
        "id": "jSG7TmMlEOTl",
        "colab_type": "text"
      },
      "cell_type": "markdown",
      "source": [
        "### Inter-word relationships and sentence structure (Embedding Learned from tak)\n",
        "\n",
        "#### 1D convolutional layers\n",
        "\n",
        "We will now add, 1D convolutional layers on top of the embedded sequences to learn features that take into account each sequence as a whole"
      ]
    },
    {
      "metadata": {
        "id": "HZOf81ic2FLa",
        "colab_type": "text"
      },
      "cell_type": "markdown",
      "source": [
        "#### Preprocess"
      ]
    },
    {
      "metadata": {
        "id": "b3fvdlISEypY",
        "colab_type": "code",
        "colab": {
          "base_uri": "https://localhost:8080/",
          "height": 123
        },
        "outputId": "ef6ba968-83a0-4df4-9b8a-57eece99224c"
      },
      "cell_type": "code",
      "source": [
        "# Number of words to \n",
        "# consider as features\n",
        "max_features = 10000      # Words are ranked\n",
        "\n",
        "# Cuts off texts after this many words (among \n",
        "# the max_features most common words)\n",
        "max_len = 500\n",
        "\n",
        "print('Loading data...')\n",
        "(x_train_, y_train_), (x_test_, y_test_) = tf.keras.datasets.imdb.load_data(\n",
        "    num_words=max_features)\n",
        "\n",
        "print(len(x_train_), 'train sequences')\n",
        "print(len(x_test_), 'test sequences')\n",
        "\n",
        "print('Pad sequences (samples x time)')\n",
        "x_train_ = tf.keras.preprocessing.sequence.pad_sequences(\n",
        "    x_train_, maxlen=max_len)\n",
        "x_test_ = tf.keras.preprocessing.sequence.pad_sequences(\n",
        "    x_test_, maxlen=max_len)\n",
        "print('x_train shape:', x_train_.shape)\n",
        "print('x_test shape:', x_test_.shape)"
      ],
      "execution_count": 32,
      "outputs": [
        {
          "output_type": "stream",
          "text": [
            "Loading data...\n",
            "25000 train sequences\n",
            "25000 test sequences\n",
            "Pad sequences (samples x time)\n",
            "x_train shape: (25000, 500)\n",
            "x_test shape: (25000, 500)\n"
          ],
          "name": "stdout"
        }
      ]
    },
    {
      "metadata": {
        "id": "NSfshEgoEygH",
        "colab_type": "code",
        "colab": {
          "base_uri": "https://localhost:8080/",
          "height": 354
        },
        "outputId": "ef38e5fd-2684-4a99-df18-a847cc3c7ce0"
      },
      "cell_type": "code",
      "source": [
        "model = tf.keras.Sequential()\n",
        "model.add(tf.keras.layers.Embedding(max_words, embedding_dim, input_length=x_train.shape[1]))\n",
        "model.add(tf.keras.layers.Conv1D(32, 7, \n",
        "                                 activation='relu'))\n",
        "model.add(tf.keras.layers.MaxPooling1D(5))\n",
        "model.add(tf.keras.layers.Conv1D(32, 7, \n",
        "                                 activation='relu'))\n",
        "model.add(tf.keras.layers.GlobalMaxPooling1D())\n",
        "model.add(tf.keras.layers.Dense(1))\n",
        "\n",
        "model.summary()"
      ],
      "execution_count": 33,
      "outputs": [
        {
          "output_type": "stream",
          "text": [
            "_________________________________________________________________\n",
            "Layer (type)                 Output Shape              Param #   \n",
            "=================================================================\n",
            "embedding_3 (Embedding)      (None, 500, 300)          3000000   \n",
            "_________________________________________________________________\n",
            "conv1d_4 (Conv1D)            (None, 494, 32)           67232     \n",
            "_________________________________________________________________\n",
            "max_pooling1d_2 (MaxPooling1 (None, 98, 32)            0         \n",
            "_________________________________________________________________\n",
            "conv1d_5 (Conv1D)            (None, 92, 32)            7200      \n",
            "_________________________________________________________________\n",
            "global_max_pooling1d_2 (Glob (None, 32)                0         \n",
            "_________________________________________________________________\n",
            "dense_4 (Dense)              (None, 1)                 33        \n",
            "=================================================================\n",
            "Total params: 3,074,465\n",
            "Trainable params: 3,074,465\n",
            "Non-trainable params: 0\n",
            "_________________________________________________________________\n"
          ],
          "name": "stdout"
        }
      ]
    },
    {
      "metadata": {
        "id": "bk0PtfALEyVh",
        "colab_type": "code",
        "colab": {
          "base_uri": "https://localhost:8080/",
          "height": 407
        },
        "outputId": "02785d63-cf38-4d7d-c387-97130ce86eb8"
      },
      "cell_type": "code",
      "source": [
        "model.compile(optimizer=tf.keras.optimizers.RMSprop(lr=1e-4), # lr=1e-4\n",
        "              loss=tf.keras.losses.binary_crossentropy,\n",
        "             metrics=['acc'])\n",
        "\n",
        "model.fit(x_train_, y_train_,\n",
        "          epochs=10, batch_size=128,\n",
        "          validation_split=0.2)"
      ],
      "execution_count": 34,
      "outputs": [
        {
          "output_type": "stream",
          "text": [
            "Train on 20000 samples, validate on 5000 samples\n",
            "Epoch 1/10\n",
            "20000/20000 [==============================] - 3s 147us/sample - loss: 1.2342 - acc: 0.5059 - val_loss: 0.6898 - val_acc: 0.5548\n",
            "Epoch 2/10\n",
            "20000/20000 [==============================] - 3s 129us/sample - loss: 0.6720 - acc: 0.6323 - val_loss: 0.6604 - val_acc: 0.6816\n",
            "Epoch 3/10\n",
            "20000/20000 [==============================] - 3s 127us/sample - loss: 0.6083 - acc: 0.7843 - val_loss: 0.5779 - val_acc: 0.7664\n",
            "Epoch 4/10\n",
            "20000/20000 [==============================] - 3s 128us/sample - loss: 0.4746 - acc: 0.8332 - val_loss: 0.4356 - val_acc: 0.8350\n",
            "Epoch 5/10\n",
            "20000/20000 [==============================] - 3s 127us/sample - loss: 0.3574 - acc: 0.8722 - val_loss: 0.3804 - val_acc: 0.8546\n",
            "Epoch 6/10\n",
            "20000/20000 [==============================] - 3s 127us/sample - loss: 0.2992 - acc: 0.8943 - val_loss: 0.3690 - val_acc: 0.8636\n",
            "Epoch 7/10\n",
            "20000/20000 [==============================] - 3s 128us/sample - loss: 0.2586 - acc: 0.9119 - val_loss: 0.4078 - val_acc: 0.8690\n",
            "Epoch 8/10\n",
            "20000/20000 [==============================] - 3s 126us/sample - loss: 0.2275 - acc: 0.9237 - val_loss: 0.4315 - val_acc: 0.8732\n",
            "Epoch 9/10\n",
            "20000/20000 [==============================] - 3s 126us/sample - loss: 0.2002 - acc: 0.9355 - val_loss: 0.4430 - val_acc: 0.8750\n",
            "Epoch 10/10\n",
            "20000/20000 [==============================] - 3s 127us/sample - loss: 0.1765 - acc: 0.9471 - val_loss: 0.5115 - val_acc: 0.8756\n"
          ],
          "name": "stdout"
        },
        {
          "output_type": "execute_result",
          "data": {
            "text/plain": [
              "<tensorflow.python.keras.callbacks.History at 0x7f5ba47dcb38>"
            ]
          },
          "metadata": {
            "tags": []
          },
          "execution_count": 34
        }
      ]
    },
    {
      "metadata": {
        "id": "9L5dsC3gZo8D",
        "colab_type": "code",
        "colab": {
          "base_uri": "https://localhost:8080/",
          "height": 70
        },
        "outputId": "df574cb2-e892-406f-ca6e-757b32cbb24d"
      },
      "cell_type": "code",
      "source": [
        "result = model.evaluate(x_test_, y_test_)\n",
        "for i in range(len(model.metrics_names)):\n",
        "     print(\"Metric \",model.metrics_names[i],\":\", str(round(result[i],5)))"
      ],
      "execution_count": 35,
      "outputs": [
        {
          "output_type": "stream",
          "text": [
            "25000/25000 [==============================] - 2s 66us/sample - loss: 0.5277 - acc: 0.8643\n",
            "Metric  loss : 0.52774\n",
            "Metric  acc : 0.86432\n"
          ],
          "name": "stdout"
        }
      ]
    },
    {
      "metadata": {
        "id": "aSnkT8OfEyLF",
        "colab_type": "code",
        "colab": {
          "base_uri": "https://localhost:8080/",
          "height": 545
        },
        "outputId": "d4e90a4a-9e50-4379-c9c0-6928e3d12c73"
      },
      "cell_type": "code",
      "source": [
        "acc = model.history.history['acc']\n",
        "val_acc = model.history.history['val_acc']\n",
        "loss = model.history.history['loss']\n",
        "val_loss = model.history.history['val_loss']\n",
        "\n",
        "epochs = range(1, len(acc) + 1)\n",
        "\n",
        "plt.figure()\n",
        "plt.plot(epochs, loss, 'bo', label='Training loss')\n",
        "plt.plot(epochs, val_loss, 'b', label='Validation loss')\n",
        "plt.title('Training and validation loss')\n",
        "plt.legend()\n",
        "plt.show()\n",
        "\n",
        "plt.figure()\n",
        "plt.plot(epochs, acc, 'bo', label='Training acc')\n",
        "plt.plot(epochs, val_acc, 'b', label='Validation acc')\n",
        "plt.title('Training and validation accuracy')\n",
        "plt.legend()\n",
        "plt.show()"
      ],
      "execution_count": 36,
      "outputs": [
        {
          "output_type": "display_data",
          "data": {
            "image/png": "[encoded data removed]",
            "text/plain": [
              "<Figure size 432x288 with 1 Axes>"
            ]
          },
          "metadata": {
            "tags": []
          }
        },
        {
          "output_type": "display_data",
          "data": {
            "image/png": "[encoded data removed]",
            "text/plain": [
              "<Figure size 432x288 with 1 Axes>"
            ]
          },
          "metadata": {
            "tags": []
          }
        }
      ]
    },
    {
      "metadata": {
        "id": "4WCAQ0TuTVYL",
        "colab_type": "code",
        "colab": {}
      },
      "cell_type": "code",
      "source": [
        "# model.load_weights('pre_trained_glove_model.h5')\n",
        "# result = model.evaluate(x_test, y_test)\n",
        "# for i in range(len(model.metrics_names)):\n",
        "#      print(\"Metric \",model.metrics_names[i],\":\", str(round(result[i],2)))"
      ],
      "execution_count": 0,
      "outputs": []
    },
    {
      "metadata": {
        "id": "qCF6Z23K9Aat",
        "colab_type": "text"
      },
      "cell_type": "markdown",
      "source": [
        "**We can see that learned task embedding give better result than using pre-trained word embedding.**\n",
        "\n",
        "**Regarding the 1D convnet, we noticed that using it together with pre-trained word embedding improove our accuracy.**"
      ]
    },
    {
      "metadata": {
        "id": "nY-nPjpa4wDr",
        "colab_type": "text"
      },
      "cell_type": "markdown",
      "source": [
        "<h2>About the Authors:</h2> \n",
        "\n",
        "<a href=\"https://salomonkabongo.wixsite.com/datascientist\">Salomon Kabongo KABENAMUALU</a>, Master degree student at <a href=\"https://aims.ac.za/\">the African Institute for mathematical SCiences (AIMS South Africa)</a> his research focused on the use machine learning technique in the field of Natural Language Processing."
      ]
    },
    {
      "metadata": {
        "id": "xDX0h3pa4wDt",
        "colab_type": "text"
      },
      "cell_type": "markdown",
      "source": [
        "References : <a href=\"https://www.manning.com/books/deep-learning-with-python\"> Francois Chollet - Deep Learning with Python-Manning Publications (*Book*) </a>"
      ]
    },
    {
      "metadata": {
        "id": "RdkZJcdh4wDu",
        "colab_type": "text"
      },
      "cell_type": "markdown",
      "source": [
        "Copyright &copy; 2019. This notebook and its source code are released under the terms of the <a href=\"https://www.apache.org/licenses/LICENSE-2.0\">Apache License 2.0</a>."
      ]
    }
  ]
}