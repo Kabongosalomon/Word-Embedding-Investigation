{
 "cells": [
  {
   "cell_type": "markdown",
   "metadata": {
    "colab_type": "text",
    "id": "view-in-github"
   },
   "source": [
    "<a href=\"https://colab.research.google.com/github/Kabongosalomon/Word-Embedding-Investigation/blob/master/One_hot_and_Embeddings.ipynb\" target=\"_parent\"><img src=\"https://colab.research.google.com/assets/colab-badge.svg\" alt=\"Open In Colab\"/></a>"
   ]
  },
  {
   "cell_type": "markdown",
   "metadata": {
    "colab_type": "text",
    "id": "-zPdBDab5P3I"
   },
   "source": [
    "<img src=\"https://raw.githubusercontent.com/Kabongosalomon/Data-Science-With-Jeff-Sander/master/aims-za-logo.jpg\" width=\"100\" alt=\"cognitiveclass.ai logo\" />\n",
    "\n",
    "\n",
    "\n"
   ]
  },
  {
   "cell_type": "code",
   "execution_count": 1,
   "metadata": {
    "colab": {
     "base_uri": "https://localhost:8080/",
     "height": 391
    },
    "colab_type": "code",
    "id": "FGvhB20yetpY",
    "outputId": "bcfa0a2e-6501-46f2-d5cc-de93a956333c"
   },
   "outputs": [
    {
     "name": "stderr",
     "output_type": "stream",
     "text": [
      "Using TensorFlow backend.\n"
     ]
    },
    {
     "name": "stdout",
     "output_type": "stream",
     "text": [
      "Collecting ipdb\n",
      "  Downloading https://files.pythonhosted.org/packages/6d/43/c3c2e866a8803e196d6209595020a4a6db1a3c5d07c01455669497ae23d0/ipdb-0.12.tar.gz\n",
      "Requirement already satisfied: setuptools in /usr/local/lib/python3.6/dist-packages (from ipdb) (41.0.1)\n",
      "Requirement already satisfied: ipython>=5.1.0 in /usr/local/lib/python3.6/dist-packages (from ipdb) (5.5.0)\n",
      "Requirement already satisfied: pexpect; sys_platform != \"win32\" in /usr/local/lib/python3.6/dist-packages (from ipython>=5.1.0->ipdb) (4.7.0)\n",
      "Requirement already satisfied: pygments in /usr/local/lib/python3.6/dist-packages (from ipython>=5.1.0->ipdb) (2.1.3)\n",
      "Requirement already satisfied: prompt-toolkit<2.0.0,>=1.0.4 in /usr/local/lib/python3.6/dist-packages (from ipython>=5.1.0->ipdb) (1.0.16)\n",
      "Requirement already satisfied: simplegeneric>0.8 in /usr/local/lib/python3.6/dist-packages (from ipython>=5.1.0->ipdb) (0.8.1)\n",
      "Requirement already satisfied: decorator in /usr/local/lib/python3.6/dist-packages (from ipython>=5.1.0->ipdb) (4.4.0)\n",
      "Requirement already satisfied: traitlets>=4.2 in /usr/local/lib/python3.6/dist-packages (from ipython>=5.1.0->ipdb) (4.3.2)\n",
      "Requirement already satisfied: pickleshare in /usr/local/lib/python3.6/dist-packages (from ipython>=5.1.0->ipdb) (0.7.5)\n",
      "Requirement already satisfied: ptyprocess>=0.5 in /usr/local/lib/python3.6/dist-packages (from pexpect; sys_platform != \"win32\"->ipython>=5.1.0->ipdb) (0.6.0)\n",
      "Requirement already satisfied: six>=1.9.0 in /usr/local/lib/python3.6/dist-packages (from prompt-toolkit<2.0.0,>=1.0.4->ipython>=5.1.0->ipdb) (1.12.0)\n",
      "Requirement already satisfied: wcwidth in /usr/local/lib/python3.6/dist-packages (from prompt-toolkit<2.0.0,>=1.0.4->ipython>=5.1.0->ipdb) (0.1.7)\n",
      "Requirement already satisfied: ipython-genutils in /usr/local/lib/python3.6/dist-packages (from traitlets>=4.2->ipython>=5.1.0->ipdb) (0.2.0)\n",
      "Building wheels for collected packages: ipdb\n",
      "  Building wheel for ipdb (setup.py) ... \u001b[?25l\u001b[?25hdone\n",
      "  Stored in directory: /root/.cache/pip/wheels/59/24/91/695211bd228d40fb22dff0ce3f05ba41ab724ab771736233f3\n",
      "Successfully built ipdb\n",
      "Installing collected packages: ipdb\n",
      "Successfully installed ipdb-0.12\n"
     ]
    }
   ],
   "source": [
    "# Import packages\n",
    "import tensorflow as tf\n",
    "\n",
    "\n",
    "from keras.datasets import imdb\n",
    "from keras import preprocessing\n",
    "from keras.models import Sequential\n",
    "from keras.layers import Flatten, Dense\n",
    "from keras.layers import Embedding\n",
    "from keras.preprocessing.text import Tokenizer\n",
    "from keras.preprocessing.sequence import pad_sequences\n",
    "from keras import losses\n",
    "from keras import metrics\n",
    "from keras import optimizers\n",
    "\n",
    "import numpy as np\n",
    "import matplotlib.pyplot as plt\n",
    "\n",
    "import os\n",
    "\n",
    "import numpy as np\n",
    "\n",
    "import string\n",
    "\n",
    "!pip install ipdb\n",
    "import ipdb # deb\n",
    "\n",
    "\n",
    "from gensim.models.keyedvectors import KeyedVectors"
   ]
  },
  {
   "cell_type": "markdown",
   "metadata": {
    "colab_type": "text",
    "id": "2rxm3VASTVS9"
   },
   "source": [
    "# One-hot encoding of words and characters"
   ]
  },
  {
   "cell_type": "markdown",
   "metadata": {
    "colab_type": "text",
    "id": "c5SX7nQ7TVTB"
   },
   "source": [
    "One-hot encoding is the most common, most basic way to turn a token into a vector.\n",
    "\n",
    "It consists of associating a unique integer index with every word\n",
    "and then turning this integer index i into a binary vector of size N (the size of the\n",
    "vocabulary); the vector is all zeros except for the i th entry, which is 1."
   ]
  },
  {
   "cell_type": "markdown",
   "metadata": {
    "colab_type": "text",
    "id": "DmJXh1ETWQhW"
   },
   "source": [
    "## Manually"
   ]
  },
  {
   "cell_type": "markdown",
   "metadata": {
    "colab_type": "text",
    "id": "-viI3xznTVTC"
   },
   "source": [
    "### One-hot Word-level"
   ]
  },
  {
   "cell_type": "code",
   "execution_count": null,
   "metadata": {
    "colab": {},
    "colab_type": "code",
    "id": "gDblQMfUTVTI"
   },
   "outputs": [],
   "source": [
    "# Initial data: one entry per sample (in \n",
    "# this example, a sample is a sentence, \n",
    "# but it could be an entire document)\n",
    "samples = ['The cat sat on the mat.', 'The dog ate my homework.']\n",
    "\n",
    "# Builds an index of all tokens in the data\n",
    "token_index = {}\n",
    "\n",
    "for sample in samples:\n",
    "    for word in sample.split(): # Tokenizes the samples via the split\n",
    "        if word not in token_index:\n",
    "            token_index[word] = len(token_index) + 1 # Assigns a unique index to each unique word\n",
    "\n",
    "# Vectorizes the samples. You’ll only\n",
    "# consider the first max_length\n",
    "# words in each sample.            \n",
    "max_length = 10  # window\n",
    "\n",
    "results = np.zeros(shape=(len(samples),\n",
    "                          max_length,\n",
    "                          max(token_index.values()) + 1))\n",
    "\n",
    "for i, sample in enumerate(samples):\n",
    "    for j, word in list(enumerate(sample.split()))[:max_length]:\n",
    "        index = token_index.get(word) #; ipdb.set_trace()\n",
    "        results[i, j, index] = 1."
   ]
  },
  {
   "cell_type": "code",
   "execution_count": null,
   "metadata": {
    "colab": {},
    "colab_type": "code",
    "id": "vR3Qlt2LTVTL",
    "outputId": "319eb836-ee0c-4642-c146-54099de5c4bf"
   },
   "outputs": [
    {
     "data": {
      "text/plain": [
       "{'The': 1,\n",
       " 'cat': 2,\n",
       " 'sat': 3,\n",
       " 'on': 4,\n",
       " 'the': 5,\n",
       " 'mat.': 6,\n",
       " 'dog': 7,\n",
       " 'ate': 8,\n",
       " 'my': 9,\n",
       " 'homework.': 10}"
      ]
     },
     "execution_count": 3,
     "metadata": {
      "tags": []
     },
     "output_type": "execute_result"
    }
   ],
   "source": [
    "token_index"
   ]
  },
  {
   "cell_type": "code",
   "execution_count": null,
   "metadata": {
    "colab": {},
    "colab_type": "code",
    "id": "gQij0TrlTVTP",
    "outputId": "f82061ce-7751-4b73-e5af-a62ed19b2976"
   },
   "outputs": [
    {
     "data": {
      "text/plain": [
       "array([[[0., 1., 0., 0., 0., 0., 0., 0., 0., 0., 0.],\n",
       "        [0., 0., 1., 0., 0., 0., 0., 0., 0., 0., 0.],\n",
       "        [0., 0., 0., 1., 0., 0., 0., 0., 0., 0., 0.],\n",
       "        [0., 0., 0., 0., 1., 0., 0., 0., 0., 0., 0.],\n",
       "        [0., 0., 0., 0., 0., 1., 0., 0., 0., 0., 0.],\n",
       "        [0., 0., 0., 0., 0., 0., 1., 0., 0., 0., 0.],\n",
       "        [0., 0., 0., 0., 0., 0., 0., 0., 0., 0., 0.],\n",
       "        [0., 0., 0., 0., 0., 0., 0., 0., 0., 0., 0.],\n",
       "        [0., 0., 0., 0., 0., 0., 0., 0., 0., 0., 0.],\n",
       "        [0., 0., 0., 0., 0., 0., 0., 0., 0., 0., 0.]],\n",
       "\n",
       "       [[0., 1., 0., 0., 0., 0., 0., 0., 0., 0., 0.],\n",
       "        [0., 0., 0., 0., 0., 0., 0., 1., 0., 0., 0.],\n",
       "        [0., 0., 0., 0., 0., 0., 0., 0., 1., 0., 0.],\n",
       "        [0., 0., 0., 0., 0., 0., 0., 0., 0., 1., 0.],\n",
       "        [0., 0., 0., 0., 0., 0., 0., 0., 0., 0., 1.],\n",
       "        [0., 0., 0., 0., 0., 0., 0., 0., 0., 0., 0.],\n",
       "        [0., 0., 0., 0., 0., 0., 0., 0., 0., 0., 0.],\n",
       "        [0., 0., 0., 0., 0., 0., 0., 0., 0., 0., 0.],\n",
       "        [0., 0., 0., 0., 0., 0., 0., 0., 0., 0., 0.],\n",
       "        [0., 0., 0., 0., 0., 0., 0., 0., 0., 0., 0.]]])"
      ]
     },
     "execution_count": 4,
     "metadata": {
      "tags": []
     },
     "output_type": "execute_result"
    }
   ],
   "source": [
    "results"
   ]
  },
  {
   "cell_type": "markdown",
   "metadata": {
    "colab_type": "text",
    "id": "hfvL7CRQTVTV"
   },
   "source": [
    "### Character-level"
   ]
  },
  {
   "cell_type": "code",
   "execution_count": null,
   "metadata": {
    "colab": {},
    "colab_type": "code",
    "id": "X3XD9M2ATVTW"
   },
   "outputs": [],
   "source": [
    "samples = ['The cat sat on the mat.', 'The dog ate my homework.']\n",
    "\n",
    "characters = string.printable\n",
    "\n",
    "token_index = dict(zip(range(1, len(characters) + 1), characters))\n",
    "\n",
    "max_length = 50\n",
    "\n",
    "results = np.zeros((len(samples), \n",
    "                    max_length, \n",
    "                    max(token_index.keys()) + 1))\n",
    "\n",
    "for i, sample in enumerate(samples):\n",
    "    for j, character in enumerate(sample):\n",
    "        index = token_index.get(character)  #; ipdb.set_trace()\n",
    "        results[i, j, index] = 1."
   ]
  },
  {
   "cell_type": "code",
   "execution_count": null,
   "metadata": {
    "colab": {},
    "colab_type": "code",
    "id": "fnl0Qm5NTVTY",
    "outputId": "727378bf-c3d6-442d-af0b-f7885462dfc5"
   },
   "outputs": [
    {
     "data": {
      "text/plain": [
       "array([[[1., 1., 1., ..., 1., 1., 1.],\n",
       "        [1., 1., 1., ..., 1., 1., 1.],\n",
       "        [1., 1., 1., ..., 1., 1., 1.],\n",
       "        ...,\n",
       "        [0., 0., 0., ..., 0., 0., 0.],\n",
       "        [0., 0., 0., ..., 0., 0., 0.],\n",
       "        [0., 0., 0., ..., 0., 0., 0.]],\n",
       "\n",
       "       [[1., 1., 1., ..., 1., 1., 1.],\n",
       "        [1., 1., 1., ..., 1., 1., 1.],\n",
       "        [1., 1., 1., ..., 1., 1., 1.],\n",
       "        ...,\n",
       "        [0., 0., 0., ..., 0., 0., 0.],\n",
       "        [0., 0., 0., ..., 0., 0., 0.],\n",
       "        [0., 0., 0., ..., 0., 0., 0.]]])"
      ]
     },
     "execution_count": 6,
     "metadata": {
      "tags": []
     },
     "output_type": "execute_result"
    }
   ],
   "source": [
    "results"
   ]
  },
  {
   "cell_type": "markdown",
   "metadata": {
    "colab_type": "text",
    "id": "7wV1xfebTVTa"
   },
   "source": [
    "**Keras has built-in utilities for doing one-hot encoding of text at the word level\n",
    "or character level**, starting from raw text data. \n",
    "\n",
    "We should use these utilities, because they take care of a number of important features such as stripping special characters from strings and only taking into account the N most common words in your dataset (a common restriction, to avoid dealing with very large input vector spaces)."
   ]
  },
  {
   "cell_type": "markdown",
   "metadata": {
    "colab_type": "text",
    "id": "ZkO8ynHgTVTb"
   },
   "source": [
    "## Using Keras build in function"
   ]
  },
  {
   "cell_type": "markdown",
   "metadata": {
    "colab_type": "text",
    "id": "qX7tVGgzTVTc"
   },
   "source": [
    "### Word level"
   ]
  },
  {
   "cell_type": "code",
   "execution_count": 72,
   "metadata": {
    "colab": {
     "base_uri": "https://localhost:8080/",
     "height": 34
    },
    "colab_type": "code",
    "id": "YtsXtMpsTVTc",
    "outputId": "2191caad-804f-4082-eae6-bae42dd83923"
   },
   "outputs": [
    {
     "name": "stdout",
     "output_type": "stream",
     "text": [
      "Found 22 unique tokens.\n"
     ]
    }
   ],
   "source": [
    "samples = ['The cat sat on the mat.', 'The dog ate my homework.']\n",
    "samples_essay= ['Salomon likes to learn new things. Djeff likes that too', \n",
    "            'Salomon also likes to learn Karateka']\n",
    "sample_wiki = [\"John likes to watch movies. Mary likes movies too.\", \n",
    "               \"John also likes to watch football games.\"]\n",
    "\n",
    "sample_presentation =[\"That which we call a rose by any other name would smell as weet.\",\n",
    "                     \"Good night sweet prince.\",\n",
    "                     \"Parting is such sweet sorrow.\"] \n",
    "\n",
    "\n",
    "tokenizer = Tokenizer()\n",
    "tokenizer.fit_on_texts(sample_presentation)\n",
    "sequences = tokenizer.texts_to_sequences(sample_presentation)\n",
    "bag_of_word_results = tokenizer.texts_to_matrix(sample_presentation, mode='freq')\n",
    "tf_idf_results = tokenizer.texts_to_matrix(sample_presentation, mode='tfidf')\n",
    "\n",
    "word_index = tokenizer.word_index\n",
    "print('Found %s unique tokens.' % len(word_index))"
   ]
  },
  {
   "cell_type": "code",
   "execution_count": 73,
   "metadata": {
    "colab": {
     "base_uri": "https://localhost:8080/",
     "height": 68
    },
    "colab_type": "code",
    "id": "iZo8KQmgTVTi",
    "outputId": "b7b0ac46-128a-4d15-cc90-ec5ff59c2627"
   },
   "outputs": [
    {
     "data": {
      "text/plain": [
       "[[2, 3, 4, 5, 6, 7, 8, 9, 10, 11, 12, 13, 14, 15],\n",
       " [16, 17, 1, 18],\n",
       " [19, 20, 21, 1, 22]]"
      ]
     },
     "execution_count": 73,
     "metadata": {
      "tags": []
     },
     "output_type": "execute_result"
    }
   ],
   "source": [
    "sequences"
   ]
  },
  {
   "cell_type": "code",
   "execution_count": 76,
   "metadata": {
    "colab": {
     "base_uri": "https://localhost:8080/",
     "height": 272
    },
    "colab_type": "code",
    "id": "ql5utR_DTVTs",
    "outputId": "96e0948a-29f4-4676-8e14-08eb2b6eac20"
   },
   "outputs": [
    {
     "data": {
      "text/plain": [
       "array([[0.        , 0.        , 0.07142857, 0.07142857, 0.07142857,\n",
       "        0.07142857, 0.07142857, 0.07142857, 0.07142857, 0.07142857,\n",
       "        0.07142857, 0.07142857, 0.07142857, 0.07142857, 0.07142857,\n",
       "        0.07142857, 0.        , 0.        , 0.        , 0.        ,\n",
       "        0.        , 0.        , 0.        ],\n",
       "       [0.        , 0.25      , 0.        , 0.        , 0.        ,\n",
       "        0.        , 0.        , 0.        , 0.        , 0.        ,\n",
       "        0.        , 0.        , 0.        , 0.        , 0.        ,\n",
       "        0.        , 0.25      , 0.25      , 0.25      , 0.        ,\n",
       "        0.        , 0.        , 0.        ],\n",
       "       [0.        , 0.2       , 0.        , 0.        , 0.        ,\n",
       "        0.        , 0.        , 0.        , 0.        , 0.        ,\n",
       "        0.        , 0.        , 0.        , 0.        , 0.        ,\n",
       "        0.        , 0.        , 0.        , 0.        , 0.2       ,\n",
       "        0.2       , 0.2       , 0.2       ]])"
      ]
     },
     "execution_count": 76,
     "metadata": {
      "tags": []
     },
     "output_type": "execute_result"
    }
   ],
   "source": [
    "bag_of_word_results"
   ]
  },
  {
   "cell_type": "code",
   "execution_count": 77,
   "metadata": {
    "colab": {
     "base_uri": "https://localhost:8080/",
     "height": 272
    },
    "colab_type": "code",
    "id": "ksap1NdG6YtI",
    "outputId": "42730a70-1ea7-4ed8-e72c-416d77a089d1"
   },
   "outputs": [
    {
     "data": {
      "text/plain": [
       "array([[0.        , 0.        , 0.91629073, 0.91629073, 0.91629073,\n",
       "        0.91629073, 0.91629073, 0.91629073, 0.91629073, 0.91629073,\n",
       "        0.91629073, 0.91629073, 0.91629073, 0.91629073, 0.91629073,\n",
       "        0.91629073, 0.        , 0.        , 0.        , 0.        ,\n",
       "        0.        , 0.        , 0.        ],\n",
       "       [0.        , 0.69314718, 0.        , 0.        , 0.        ,\n",
       "        0.        , 0.        , 0.        , 0.        , 0.        ,\n",
       "        0.        , 0.        , 0.        , 0.        , 0.        ,\n",
       "        0.        , 0.91629073, 0.91629073, 0.91629073, 0.        ,\n",
       "        0.        , 0.        , 0.        ],\n",
       "       [0.        , 0.69314718, 0.        , 0.        , 0.        ,\n",
       "        0.        , 0.        , 0.        , 0.        , 0.        ,\n",
       "        0.        , 0.        , 0.        , 0.        , 0.        ,\n",
       "        0.        , 0.        , 0.        , 0.        , 0.91629073,\n",
       "        0.91629073, 0.91629073, 0.91629073]])"
      ]
     },
     "execution_count": 77,
     "metadata": {
      "tags": []
     },
     "output_type": "execute_result"
    }
   ],
   "source": [
    "tf_idf_results"
   ]
  },
  {
   "cell_type": "code",
   "execution_count": 78,
   "metadata": {
    "colab": {
     "base_uri": "https://localhost:8080/",
     "height": 34
    },
    "colab_type": "code",
    "id": "CQAArTtwTVTw",
    "outputId": "9e4860be-3588-471c-eb29-3258a42660ae"
   },
   "outputs": [
    {
     "data": {
      "text/plain": [
       "22"
      ]
     },
     "execution_count": 78,
     "metadata": {
      "tags": []
     },
     "output_type": "execute_result"
    }
   ],
   "source": [
    "len(word_index)"
   ]
  },
  {
   "cell_type": "code",
   "execution_count": 36,
   "metadata": {
    "colab": {
     "base_uri": "https://localhost:8080/",
     "height": 34
    },
    "colab_type": "code",
    "id": "B7yxjO3BmvJu",
    "outputId": "c8f21b75-d6ca-4f45-aad6-a74b2eb9b342"
   },
   "outputs": [
    {
     "data": {
      "text/plain": [
       "(2, 12)"
      ]
     },
     "execution_count": 36,
     "metadata": {
      "tags": []
     },
     "output_type": "execute_result"
    }
   ],
   "source": [
    "bag_of_word_results.shape"
   ]
  },
  {
   "cell_type": "code",
   "execution_count": 80,
   "metadata": {
    "colab": {
     "base_uri": "https://localhost:8080/",
     "height": 34
    },
    "colab_type": "code",
    "id": "jqllUPNC7By1",
    "outputId": "560b408f-6bc1-4646-faf4-a8bbd3b63a62"
   },
   "outputs": [
    {
     "data": {
      "text/plain": [
       "0.047765751681222164"
      ]
     },
     "execution_count": 80,
     "metadata": {
      "tags": []
     },
     "output_type": "execute_result"
    }
   ],
   "source": [
    "(1/23)*np.log(3/1)"
   ]
  },
  {
   "cell_type": "code",
   "execution_count": null,
   "metadata": {
    "colab": {},
    "colab_type": "code",
    "id": "8klBReLzTVT1"
   },
   "outputs": [],
   "source": [
    "# # Vectorizes the samples. You’ll only\n",
    "# # consider the first max_length\n",
    "# # words in each sample.            \n",
    "# max_length = 10  # window\n",
    "\n",
    "# results = np.zeros(shape=(len(samples),\n",
    "#                           max_length,\n",
    "#                           len(word_index) + 1))\n",
    "\n",
    "# for i, sample in enumerate(samples):\n",
    "#     for j, word in list(enumerate(sample.split()))[:max_length]:\n",
    "#         index = word_index.get(word) #; ipdb.set_trace()\n",
    "#         results[i, j, index] = 1."
   ]
  },
  {
   "cell_type": "code",
   "execution_count": null,
   "metadata": {
    "colab": {},
    "colab_type": "code",
    "id": "zBg9HucJTVT5"
   },
   "outputs": [],
   "source": [
    "# results"
   ]
  },
  {
   "cell_type": "markdown",
   "metadata": {
    "colab_type": "text",
    "id": "TDMlZgF6TVUC"
   },
   "source": [
    "### Caracter level"
   ]
  },
  {
   "cell_type": "code",
   "execution_count": null,
   "metadata": {
    "colab": {},
    "colab_type": "code",
    "id": "TRkeYOnQTVUC",
    "outputId": "14cfbcae-163f-4ff8-96ca-7a40dcf2cae9"
   },
   "outputs": [
    {
     "name": "stdout",
     "output_type": "stream",
     "text": [
      "Found 17 unique tokens.\n"
     ]
    }
   ],
   "source": [
    "samples = ['The cat sat on the mat.', 'The dog ate my homework.']\n",
    "\n",
    "tokenizer = Tokenizer(char_level=True)\n",
    "tokenizer.fit_on_texts(samples)\n",
    "sequences = tokenizer.texts_to_sequences(samples)\n",
    "one_hot_results = tokenizer.texts_to_matrix(samples, mode='binary')\n",
    "word_index = tokenizer.word_index\n",
    "print('Found %s unique tokens.' % len(word_index))"
   ]
  },
  {
   "cell_type": "code",
   "execution_count": null,
   "metadata": {
    "colab": {},
    "colab_type": "code",
    "id": "4ueFpMk-TVUJ",
    "outputId": "30971c86-5a57-43a0-ae2a-21148cd6ebf0"
   },
   "outputs": [
    {
     "data": {
      "text/plain": [
       "[[2, 4, 3, 1, 9, 5, 2, 1, 10, 5, 2, 1, 6, 11, 1, 2, 4, 3, 1, 7, 5, 2, 8],\n",
       " [2,\n",
       "  4,\n",
       "  3,\n",
       "  1,\n",
       "  12,\n",
       "  6,\n",
       "  13,\n",
       "  1,\n",
       "  5,\n",
       "  2,\n",
       "  3,\n",
       "  1,\n",
       "  7,\n",
       "  14,\n",
       "  1,\n",
       "  4,\n",
       "  6,\n",
       "  7,\n",
       "  3,\n",
       "  15,\n",
       "  6,\n",
       "  16,\n",
       "  17,\n",
       "  8]]"
      ]
     },
     "execution_count": 64,
     "metadata": {
      "tags": []
     },
     "output_type": "execute_result"
    }
   ],
   "source": [
    "sequences"
   ]
  },
  {
   "cell_type": "code",
   "execution_count": null,
   "metadata": {
    "colab": {},
    "colab_type": "code",
    "id": "4ZD-661eTVUP",
    "outputId": "d4b02f32-c012-4186-ef48-e4ae27a282a7"
   },
   "outputs": [
    {
     "data": {
      "text/plain": [
       "array([[0., 1., 1., 1., 1., 1., 1., 1., 1., 1., 1., 1., 0., 0., 0., 0.,\n",
       "        0., 0.],\n",
       "       [0., 1., 1., 1., 1., 1., 1., 1., 1., 0., 0., 0., 1., 1., 1., 1.,\n",
       "        1., 1.]])"
      ]
     },
     "execution_count": 65,
     "metadata": {
      "tags": []
     },
     "output_type": "execute_result"
    }
   ],
   "source": [
    "one_hot_results"
   ]
  },
  {
   "cell_type": "code",
   "execution_count": null,
   "metadata": {
    "colab": {},
    "colab_type": "code",
    "id": "TcZJ3rvkTVUU",
    "outputId": "0df8cb2d-ebe2-4603-880a-f7d4d2438653"
   },
   "outputs": [
    {
     "data": {
      "text/plain": [
       "{' ': 1,\n",
       " 't': 2,\n",
       " 'e': 3,\n",
       " 'h': 4,\n",
       " 'a': 5,\n",
       " 'o': 6,\n",
       " 'm': 7,\n",
       " '.': 8,\n",
       " 'c': 9,\n",
       " 's': 10,\n",
       " 'n': 11,\n",
       " 'd': 12,\n",
       " 'g': 13,\n",
       " 'y': 14,\n",
       " 'w': 15,\n",
       " 'r': 16,\n",
       " 'k': 17}"
      ]
     },
     "execution_count": 66,
     "metadata": {
      "tags": []
     },
     "output_type": "execute_result"
    }
   ],
   "source": [
    "word_index"
   ]
  },
  {
   "cell_type": "markdown",
   "metadata": {
    "colab_type": "text",
    "id": "B5TYHJG7TVUX"
   },
   "source": [
    "##  hashing trick"
   ]
  },
  {
   "cell_type": "code",
   "execution_count": null,
   "metadata": {
    "colab": {},
    "colab_type": "code",
    "id": "x1R0Uvd2TVUY"
   },
   "outputs": [],
   "source": [
    "samples = ['The cat sat on the mat.', 'The dog ate my homework.']\n",
    "\n",
    "dimensionality = 1000\n",
    "max_length = 10\n",
    "\n",
    "results = np.zeros((len(samples), max_length, dimensionality))\n",
    "for i, sample in enumerate(samples):\n",
    "    for j, word in list(enumerate(sample.split()))[:max_length]:\n",
    "#         Hashes the word into a \n",
    "#         random integer index \n",
    "#         between 0 and 1,000\n",
    "        index = abs(hash(word)) % dimensionality\n",
    "        results[i, j, index] = 1."
   ]
  },
  {
   "cell_type": "markdown",
   "metadata": {
    "colab_type": "text",
    "id": "Dkw1E9WMTVUa"
   },
   "source": [
    "# Using word embeddings"
   ]
  },
  {
   "cell_type": "markdown",
   "metadata": {
    "colab_type": "text",
    "id": "nLREqOusTVUb"
   },
   "source": [
    "Another popular and powerful way to associate a vector with a word is the use of dense\n",
    "word vectors, also called word embeddings. Whereas the vectors obtained through one-hot\n",
    "encoding are binary, sparse (mostly made of zeros), and very high-dimensional (same\n",
    "dimensionality as the number of words in the vocabulary), word embeddings are low-\n",
    "dimensional floating-point vectors (that is, dense vectors, as opposed to sparse vec-\n",
    "tors);"
   ]
  },
  {
   "cell_type": "markdown",
   "metadata": {
    "colab_type": "text",
    "id": "ua33iYs7TVUb"
   },
   "source": [
    "Unlike the  word vectors  obtained  via one-hot  encoding,  **word embeddings  are  learned  from  data**. It’s common  to  see  word  embeddings  that are\n",
    "256-dimensional, 512-dimensional, or 1,024-dimensional when dealing with very large\n",
    "vocabularies. \n",
    "\n",
    "On the other hand, one-hot encoding words generally leads to vectors\n",
    "that are 20,000-dimensional or greater (capturing a vocabulary of 20,000 tokens, in\n",
    "this case). \n",
    "\n",
    "So, word embeddings *pack more information into far fewer dimensions*.\n",
    "\n",
    "There are two ways to obtain word embeddings:\n",
    "- Learn word embeddings jointly with the main task you care about (such as document classification or sentiment prediction). In this setup, you start with random word vectors and then learn word vectors in the same way you learn the weights of a neural network.\n",
    "-  Load into your model word embeddings that were pretrained using a different machinelearning task than the one you’re trying to solve."
   ]
  },
  {
   "cell_type": "markdown",
   "metadata": {
    "colab_type": "text",
    "id": "9jN_4YfDTVUc"
   },
   "source": [
    "Word embeddings are meant to *map human language into a geometric space*. For instance, in a reasonable embedding space, you would expect synonyms to be embedded into similar word vectors; and in general, you would expect the geometric distance (such as L2 distance) between any two word vectors to relate to the semantic distance between the associated words (words meaning different things are embedded at points far away from\n",
    "each other, whereas related words are closer). \n",
    "\n",
    "In addition to distance, you may want\n",
    "specific directions in the embedding space to be meaningful."
   ]
  },
  {
   "cell_type": "markdown",
   "metadata": {
    "colab_type": "text",
    "id": "zFTDklvDTVUd"
   },
   "source": [
    "## Task specific Embedding for DataSet IMDB (keras.datasets)"
   ]
  },
  {
   "cell_type": "code",
   "execution_count": null,
   "metadata": {
    "colab": {},
    "colab_type": "code",
    "id": "w2YstPpRTVUm"
   },
   "outputs": [],
   "source": [
    "# Number of words to \n",
    "# consider as features\n",
    "max_features = 10000\n",
    "\n",
    "# Cuts off the text after this \n",
    "# number of words (among \n",
    "# the max_features most \n",
    "# common words)\n",
    "# maxlen = 20\n",
    "maxlen = 500\n",
    "\n",
    "# Loads the data as lists of integers\n",
    "(x_train, y_train), (x_test, y_test) = imdb.load_data(num_words=max_features)\n",
    "# (x_train, y_train), (x_test, y_test) = imdb.load_data()"
   ]
  },
  {
   "cell_type": "code",
   "execution_count": null,
   "metadata": {
    "colab": {},
    "colab_type": "code",
    "id": "nve8Gn4yTVUo"
   },
   "outputs": [],
   "source": [
    "# Turns the lists of integers into\n",
    "# a 2D integer tensor of shape\n",
    "# (samples, maxlen)\n",
    "x_train = preprocessing.sequence.pad_sequences(x_train, maxlen=maxlen)\n",
    "x_test = preprocessing.sequence.pad_sequences(x_test, maxlen=maxlen)"
   ]
  },
  {
   "cell_type": "code",
   "execution_count": null,
   "metadata": {
    "colab": {
     "base_uri": "https://localhost:8080/",
     "height": 34
    },
    "colab_type": "code",
    "id": "nS6ccMkbTVUq",
    "outputId": "dbfa04a1-c7c2-42ce-8588-6755c71e5bc8"
   },
   "outputs": [
    {
     "data": {
      "text/plain": [
       "(25000, 500)"
      ]
     },
     "execution_count": 24,
     "metadata": {
      "tags": []
     },
     "output_type": "execute_result"
    }
   ],
   "source": [
    "x_train.shape"
   ]
  },
  {
   "cell_type": "code",
   "execution_count": null,
   "metadata": {
    "colab": {
     "base_uri": "https://localhost:8080/",
     "height": 34
    },
    "colab_type": "code",
    "id": "_g5uqy8nTVUu",
    "outputId": "6afb0884-d8ef-4d25-b173-3dc5cd0d2a8c"
   },
   "outputs": [
    {
     "data": {
      "text/plain": [
       "(25000, 500)"
      ]
     },
     "execution_count": 25,
     "metadata": {
      "tags": []
     },
     "output_type": "execute_result"
    }
   ],
   "source": [
    "x_test.shape"
   ]
  },
  {
   "cell_type": "code",
   "execution_count": null,
   "metadata": {
    "colab": {
     "base_uri": "https://localhost:8080/",
     "height": 247
    },
    "colab_type": "code",
    "id": "sts49pGpTVUx",
    "outputId": "df6ef107-1bd2-4ad7-a450-c4a68f55e00e"
   },
   "outputs": [
    {
     "name": "stdout",
     "output_type": "stream",
     "text": [
      "_________________________________________________________________\n",
      "Layer (type)                 Output Shape              Param #   \n",
      "=================================================================\n",
      "embedding_1 (Embedding)      (None, 500, 8)            80000     \n",
      "_________________________________________________________________\n",
      "flatten_1 (Flatten)          (None, 4000)              0         \n",
      "_________________________________________________________________\n",
      "dense_1 (Dense)              (None, 1)                 4001      \n",
      "=================================================================\n",
      "Total params: 84,001\n",
      "Trainable params: 84,001\n",
      "Non-trainable params: 0\n",
      "_________________________________________________________________\n"
     ]
    }
   ],
   "source": [
    "model = Sequential()\n",
    "# Specifies the maximum input length to the \n",
    "# Embedding layer so you can later flatten the \n",
    "# embedded inputs. After the Embedding layer, \n",
    "# the activations have shape (samples, maxlen, 8).\n",
    "model.add(Embedding(10000, 8, input_length=x_train.shape[1]))\n",
    "# Flattens the 3D tensor of \n",
    "# embeddings into a 2D \n",
    "# tensor of shape (samples, maxlen * 8)\n",
    "model.add(Flatten())\n",
    "model.add(Dense(1, activation='sigmoid'))\n",
    "model.compile(optimizer='rmsprop', loss='binary_crossentropy', metrics=['acc'])\n",
    "model.summary()"
   ]
  },
  {
   "cell_type": "code",
   "execution_count": null,
   "metadata": {
    "colab": {
     "base_uri": "https://localhost:8080/",
     "height": 407
    },
    "colab_type": "code",
    "id": "OvMC3_rxTVU5",
    "outputId": "333e7d0c-5ccf-4feb-ca8d-359db463f7b9"
   },
   "outputs": [
    {
     "name": "stdout",
     "output_type": "stream",
     "text": [
      "Train on 20000 samples, validate on 5000 samples\n",
      "Epoch 1/10\n",
      "20000/20000 [==============================] - 2s 108us/step - loss: 0.5857 - acc: 0.7083 - val_loss: 0.3974 - val_acc: 0.8430\n",
      "Epoch 2/10\n",
      "20000/20000 [==============================] - 2s 92us/step - loss: 0.3015 - acc: 0.8848 - val_loss: 0.2895 - val_acc: 0.8824\n",
      "Epoch 3/10\n",
      "20000/20000 [==============================] - 2s 90us/step - loss: 0.2219 - acc: 0.9148 - val_loss: 0.2768 - val_acc: 0.8876\n",
      "Epoch 4/10\n",
      "20000/20000 [==============================] - 2s 92us/step - loss: 0.1826 - acc: 0.9311 - val_loss: 0.2684 - val_acc: 0.8934\n",
      "Epoch 5/10\n",
      "20000/20000 [==============================] - 2s 93us/step - loss: 0.1554 - acc: 0.9431 - val_loss: 0.2723 - val_acc: 0.8912\n",
      "Epoch 6/10\n",
      "20000/20000 [==============================] - 2s 91us/step - loss: 0.1344 - acc: 0.9503 - val_loss: 0.2801 - val_acc: 0.8904\n",
      "Epoch 7/10\n",
      "20000/20000 [==============================] - 2s 90us/step - loss: 0.1148 - acc: 0.9602 - val_loss: 0.2881 - val_acc: 0.8910\n",
      "Epoch 8/10\n",
      "20000/20000 [==============================] - 2s 92us/step - loss: 0.0995 - acc: 0.9666 - val_loss: 0.3054 - val_acc: 0.8906\n",
      "Epoch 9/10\n",
      "20000/20000 [==============================] - 2s 91us/step - loss: 0.0859 - acc: 0.9710 - val_loss: 0.3180 - val_acc: 0.8882\n",
      "Epoch 10/10\n",
      "20000/20000 [==============================] - 2s 90us/step - loss: 0.0735 - acc: 0.9761 - val_loss: 0.3330 - val_acc: 0.8876\n"
     ]
    },
    {
     "data": {
      "text/plain": [
       "<keras.callbacks.History at 0x7fbbd8d5e320>"
      ]
     },
     "execution_count": 27,
     "metadata": {
      "tags": []
     },
     "output_type": "execute_result"
    }
   ],
   "source": [
    "model.fit(x_train, y_train,\n",
    "          epochs=10, batch_size=32,\n",
    "          validation_split=0.2) # Split validation of 20% automatically)"
   ]
  },
  {
   "cell_type": "code",
   "execution_count": null,
   "metadata": {
    "colab": {
     "base_uri": "https://localhost:8080/",
     "height": 70
    },
    "colab_type": "code",
    "id": "mm8kdSD7TVU_",
    "outputId": "aaa4d297-825a-43d4-bffc-4a377dc6b309"
   },
   "outputs": [
    {
     "name": "stdout",
     "output_type": "stream",
     "text": [
      "25000/25000 [==============================] - 1s 40us/step\n",
      "Metric  loss : 0.34958\n",
      "Metric  acc : 0.873\n"
     ]
    }
   ],
   "source": [
    "result = model.evaluate(x_test, y_test)\n",
    "for i in range(len(model.metrics_names)):\n",
    "     print(\"Metric \",model.metrics_names[i],\":\", str(round(result[i],5)))"
   ]
  },
  {
   "cell_type": "code",
   "execution_count": null,
   "metadata": {
    "colab": {
     "base_uri": "https://localhost:8080/",
     "height": 563
    },
    "colab_type": "code",
    "id": "rt13afzgTVVD",
    "outputId": "f512cd03-f460-47e9-c69b-7f4ad5ef108a"
   },
   "outputs": [
    {
     "data": {
      "image/png": "[encoded data removed]",
      "text/plain": [
       "<Figure size 432x288 with 1 Axes>"
      ]
     },
     "metadata": {
      "tags": []
     },
     "output_type": "display_data"
    },
    {
     "data": {
      "text/plain": [
       "<matplotlib.legend.Legend at 0x7fbbd8454668>"
      ]
     },
     "execution_count": 29,
     "metadata": {
      "tags": []
     },
     "output_type": "execute_result"
    },
    {
     "data": {
      "image/png": "[encoded data removed]",
      "text/plain": [
       "<Figure size 432x288 with 1 Axes>"
      ]
     },
     "metadata": {
      "tags": []
     },
     "output_type": "display_data"
    }
   ],
   "source": [
    "acc = model.history.history['acc']\n",
    "val_acc = model.history.history['val_acc']\n",
    "loss = model.history.history['loss']\n",
    "val_loss = model.history.history['val_loss']\n",
    "\n",
    "epochs = range(1, len(acc) + 1)\n",
    "\n",
    "plt.figure()\n",
    "plt.plot(epochs, loss, label='Training loss')\n",
    "plt.plot(epochs, val_loss, label='Validation loss')\n",
    "plt.title('Training and validation loss')\n",
    "plt.legend()\n",
    "plt.show()\n",
    "\n",
    "plt.figure()\n",
    "plt.plot(epochs, acc, label='Training acc')\n",
    "plt.plot(epochs, val_acc, label='Validation acc')\n",
    "plt.title('Training and validation accuracy')\n",
    "plt.legend()"
   ]
  },
  {
   "cell_type": "markdown",
   "metadata": {
    "colab_type": "text",
    "id": "-GulO4j7TVVG"
   },
   "source": [
    "We can see that our model start well but quickly overfit."
   ]
  },
  {
   "cell_type": "markdown",
   "metadata": {
    "colab_type": "text",
    "id": "kWHrazH5TVVH"
   },
   "source": [
    "We get to a validation accuracy of ~87%, on enseen example, which is pretty good considering that we’re only looking at the first 500 words in every review. But note that merely flattening the embedded sequences and training a single Dense layer on top leads to a model that **treats  each  word  in  the  input  sequence  separately,  without  considering  inter-word relationships and sentence structure** (for example, this model would likely treat both “this movie is a bomb” and “this movie is the bomb” as being negative reviews). \n",
    "\n",
    "Let look at how to capture those **inter-word relationships* *\n",
    "\n",
    "There exist 2 main approach :\n",
    "\n",
    "1. *adding a recurrent layers or*\n",
    "2. *adding a 1D convolutional layers on top of the embedded  sequences  to  learn  features  that  take  into  account  each  sequence  as  a  whole*.\n",
    "\n",
    "**We will look at it at the end of this notebook. **"
   ]
  },
  {
   "cell_type": "markdown",
   "metadata": {
    "colab_type": "text",
    "id": "2SbNcAaZTVVN"
   },
   "source": [
    "## USING PRETRAINED WORD EMBEDDINGS"
   ]
  },
  {
   "cell_type": "markdown",
   "metadata": {
    "colab_type": "text",
    "id": "ZSzKVoK-azjR"
   },
   "source": [
    "### Load the Internet Movie Database (IMdb) from downloaded file\n",
    "\n",
    "*   List item\n",
    "*   List item\n",
    "\n"
   ]
  },
  {
   "cell_type": "markdown",
   "metadata": {
    "colab_type": "text",
    "id": "l1cw9tYHTVVR"
   },
   "source": [
    "First, head to http://mng.bz/0tIo and download the raw IMDB dataset. Uncompress it.\n",
    "\n",
    "Now, let’s collect the individual training reviews into a list of strings, one string per review. We’ll also collect the review labels (positive/negative) into a labels list."
   ]
  },
  {
   "cell_type": "markdown",
   "metadata": {
    "colab_type": "text",
    "id": "AUJ7jH_yzQqO"
   },
   "source": [
    "#### Preprocess"
   ]
  },
  {
   "cell_type": "code",
   "execution_count": null,
   "metadata": {
    "colab": {
     "base_uri": "https://localhost:8080/",
     "height": 123
    },
    "colab_type": "code",
    "id": "Sw2Z0W06zQqQ",
    "outputId": "3869b7ec-5351-4d9b-c955-7dc8b4b5be6f"
   },
   "outputs": [
    {
     "name": "stdout",
     "output_type": "stream",
     "text": [
      "Loading data...\n",
      "25000 train sequences\n",
      "25000 test sequences\n",
      "Pad sequences (samples x time)\n",
      "x_train shape: (25000, 500)\n",
      "x_test shape: (25000, 500)\n"
     ]
    }
   ],
   "source": [
    "# Number of words to \n",
    "# consider as features\n",
    "max_features = 10000      # Words are ranked\n",
    "\n",
    "# Cuts off texts after this many words (among \n",
    "# the max_features most common words)\n",
    "max_len = 500\n",
    "\n",
    "print('Loading data...')\n",
    "(x_train_, y_train_), (x_test_, y_test_) = tf.keras.datasets.imdb.load_data(\n",
    "    num_words=max_features)\n",
    "\n",
    "print(len(x_train_), 'train sequences')\n",
    "print(len(x_test_), 'test sequences')\n",
    "\n",
    "print('Pad sequences (samples x time)')\n",
    "x_train_ = tf.keras.preprocessing.sequence.pad_sequences(\n",
    "    x_train_, maxlen=max_len)\n",
    "x_test_ = tf.keras.preprocessing.sequence.pad_sequences(\n",
    "    x_test_, maxlen=max_len)\n",
    "print('x_train shape:', x_train_.shape)\n",
    "print('x_test shape:', x_test_.shape)"
   ]
  },
  {
   "cell_type": "code",
   "execution_count": null,
   "metadata": {
    "colab": {
     "base_uri": "https://localhost:8080/",
     "height": 70
    },
    "colab_type": "code",
    "id": "XFxIlNYdwKeL",
    "outputId": "56c83630-088d-4ec2-d67c-fa21010331d9"
   },
   "outputs": [
    {
     "name": "stdout",
     "output_type": "stream",
     "text": [
      "1smGRs2g2HoI6VSvonoZmWKzXOP6uPUaW\n",
      "\u001b[K    100% |████████████████████████████████| 993kB 25.8MB/s \n",
      "\u001b[?25h  Building wheel for PyDrive (setup.py) ... \u001b[?25ldone\n",
      "\u001b[?25h"
     ]
    }
   ],
   "source": [
    "link = \"https://drive.google.com/file/d/1smGRs2g2HoI6VSvonoZmWKzXOP6uPUaW/view?usp=sharing\"\n",
    "\n",
    "_, id_t = link.split('d/')\n",
    "\n",
    "id = id_t.split('/')[0]\n",
    "print (id) # Verify that you have everything after '='\n",
    "\n",
    "# Install the PyDrive wrapper & import libraries.\n",
    "# This only needs to be done once per notebook.\n",
    "!pip install -U -q PyDrive\n",
    "from pydrive.auth import GoogleAuth\n",
    "from pydrive.drive import GoogleDrive\n",
    "from google.colab import auth\n",
    "from oauth2client.client import GoogleCredentials\n",
    "\n",
    "# Authenticate and create the PyDrive client.\n",
    "# This only needs to be done once per notebook.\n",
    "auth.authenticate_user()\n",
    "gauth = GoogleAuth()\n",
    "gauth.credentials = GoogleCredentials.get_application_default()\n",
    "drive = GoogleDrive(gauth)\n",
    "\n",
    "\n",
    "file_id = id\n",
    "downloaded = drive.CreateFile({'id':file_id})\n",
    "downloaded.FetchMetadata(fetch_all=True)\n",
    "downloaded.GetContentFile(downloaded.metadata['title'])"
   ]
  },
  {
   "cell_type": "code",
   "execution_count": null,
   "metadata": {
    "colab": {
     "base_uri": "https://localhost:8080/",
     "height": 70
    },
    "colab_type": "code",
    "id": "-ULfj6D_ziiW",
    "outputId": "36e75208-31ed-4ffb-f8e7-18d8e7cd220b"
   },
   "outputs": [
    {
     "name": "stdout",
     "output_type": "stream",
     "text": [
      "aclImdb      glove.840B.300d.txt\t\t __MACOSX\n",
      "aclImdb.zip  glove.840B.300d.zip\t\t sample_data\n",
      "adc.json     GoogleNews-vectors-negative300.bin\n"
     ]
    }
   ],
   "source": [
    "!ls"
   ]
  },
  {
   "cell_type": "code",
   "execution_count": null,
   "metadata": {
    "colab": {
     "base_uri": "https://localhost:8080/",
     "height": 34
    },
    "colab_type": "code",
    "id": "vhwLb-sRVo6R",
    "outputId": "4a6fac8b-e7c9-4ab5-9c63-484d7f1b1398"
   },
   "outputs": [
    {
     "name": "stdout",
     "output_type": "stream",
     "text": [
      "replace aclImdb/.DS_Store? [y]es, [n]o, [A]ll, [N]one, [r]ename: A\n"
     ]
    }
   ],
   "source": [
    "!unzip -qq aclImdb.zip"
   ]
  },
  {
   "cell_type": "code",
   "execution_count": null,
   "metadata": {
    "colab": {
     "base_uri": "https://localhost:8080/",
     "height": 34
    },
    "colab_type": "code",
    "id": "Ygt0MYNKVuZw",
    "outputId": "492da69a-cc8b-403a-eee8-44f17becc5e7"
   },
   "outputs": [
    {
     "name": "stdout",
     "output_type": "stream",
     "text": [
      "aclImdb  aclImdb.zip  adc.json\t__MACOSX  sample_data\n"
     ]
    }
   ],
   "source": [
    "!ls\n"
   ]
  },
  {
   "cell_type": "code",
   "execution_count": null,
   "metadata": {
    "colab": {},
    "colab_type": "code",
    "id": "bmBdoFWmTVVS"
   },
   "outputs": [],
   "source": [
    "# imdb_dir = './data/aclImdb'\n",
    "imdb_dir = './aclImdb'\n",
    "\n",
    "# Reading in the training folder\n",
    "train_dir = os.path.join(imdb_dir, 'train')\n",
    "labels_tr = []\n",
    "texts_tr = []\n",
    "\n",
    "for label_type in ['neg', 'pos']:\n",
    "    dir_name = os.path.join(train_dir, label_type)\n",
    "    for fname in os.listdir(dir_name):\n",
    "        if fname[-4:] == '.txt':\n",
    "            f = open(os.path.join(dir_name, fname), encoding=\"utf8\")\n",
    "            texts_tr.append(f.read())\n",
    "            f.close()\n",
    "            if label_type == 'neg':\n",
    "                labels_tr.append(0)\n",
    "            else:\n",
    "                labels_tr.append(1)\n",
    "\n",
    "# Reading in the testing folder\n",
    "train_dir = os.path.join(imdb_dir, 'test')\n",
    "labels_tst = []\n",
    "texts_tst = []\n",
    "\n",
    "for label_type in ['neg', 'pos']:\n",
    "    dir_name = os.path.join(train_dir, label_type)\n",
    "    for fname in os.listdir(dir_name):\n",
    "        if fname[-4:] == '.txt':\n",
    "            f = open(os.path.join(dir_name, fname), encoding=\"utf8\")\n",
    "            texts_tst.append(f.read())\n",
    "            f.close()\n",
    "            if label_type == 'neg':\n",
    "                labels_tst.append(0)\n",
    "            else:\n",
    "                labels_tst.append(1)"
   ]
  },
  {
   "cell_type": "code",
   "execution_count": null,
   "metadata": {
    "colab": {
     "base_uri": "https://localhost:8080/",
     "height": 34
    },
    "colab_type": "code",
    "id": "QvWXhJR4TVVW",
    "outputId": "284f795c-b622-44d4-9eab-915e02d5b130"
   },
   "outputs": [
    {
     "data": {
      "text/plain": [
       "(array([0, 1]), array([0, 1]))"
      ]
     },
     "execution_count": 7,
     "metadata": {
      "tags": []
     },
     "output_type": "execute_result"
    }
   ],
   "source": [
    "# Make sure that we have only 1 and 2 in the label \n",
    "(np.unique(labels_tr), np.unique(labels_tst))"
   ]
  },
  {
   "cell_type": "code",
   "execution_count": null,
   "metadata": {
    "colab": {
     "base_uri": "https://localhost:8080/",
     "height": 34
    },
    "colab_type": "code",
    "id": "ABobFPr5TVVa",
    "outputId": "690b8069-724b-49f8-f743-130c03dcee98"
   },
   "outputs": [
    {
     "data": {
      "text/plain": [
       "list"
      ]
     },
     "execution_count": 82,
     "metadata": {
      "tags": []
     },
     "output_type": "execute_result"
    }
   ],
   "source": [
    "type(labels_tst)"
   ]
  },
  {
   "cell_type": "code",
   "execution_count": null,
   "metadata": {
    "colab": {
     "base_uri": "https://localhost:8080/",
     "height": 34
    },
    "colab_type": "code",
    "id": "cpbZB-WgTVVi",
    "outputId": "697b4b8a-0349-40e6-ea39-8476b89873ae"
   },
   "outputs": [
    {
     "data": {
      "text/plain": [
       "list"
      ]
     },
     "execution_count": 6,
     "metadata": {
      "tags": []
     },
     "output_type": "execute_result"
    }
   ],
   "source": [
    "type(texts)"
   ]
  },
  {
   "cell_type": "markdown",
   "metadata": {
    "colab_type": "text",
    "id": "Ggl3E39RTVVl"
   },
   "source": [
    "### TOKENIZING THE DATA\n",
    "\n",
    "Let’s vectorize the text and prepare a training and validation split. Pretrained word embeddings are meant to be particularly useful on problems where little training data is available (otherwise, task-specific embeddings are likely to outperform them), we’ll add the following twist: restricting the training data to the first $200 samples$. So you’ll learn to classify movie reviews after looking at just 200 examples."
   ]
  },
  {
   "cell_type": "code",
   "execution_count": null,
   "metadata": {
    "colab": {},
    "colab_type": "code",
    "id": "tuLFG5mGTVVl"
   },
   "outputs": [],
   "source": [
    "# Cuts off reviews after 100 words\n",
    "# maxlen = 100\n",
    "maxlen = 500\n",
    "\n",
    "# # Trains on 200 samples\n",
    "# training_samples = 200\n",
    "# # training_samples = 15000\n",
    "\n",
    "# # Validates on 10,000 samples\n",
    "# validation_samples = 10000\n",
    "\n",
    "# Considers only the top \n",
    "# 10,000 words in the dataset\n",
    "max_words = 10000\n",
    "\n",
    "# Training\n",
    "tokenizer_tr = Tokenizer(num_words=max_words)\n",
    "# tokenizer = Tokenizer()\n",
    "tokenizer_tr.fit_on_texts(texts_tr)\n",
    "sequences_tr = tokenizer_tr.texts_to_sequences(texts_tr)\n",
    "\n",
    "# Testing \n",
    "tokenizer_tst = Tokenizer(num_words=max_words)\n",
    "tokenizer_tst.fit_on_texts(texts_tst)\n",
    "sequences_tst = tokenizer_tst.texts_to_sequences(texts_tst)"
   ]
  },
  {
   "cell_type": "code",
   "execution_count": null,
   "metadata": {
    "colab": {},
    "colab_type": "code",
    "id": "w8P7lETVTVVo"
   },
   "outputs": [],
   "source": [
    "# word_index = tokenizer.word_index\n",
    "# print('Found %s unique tokens.' % len(word_index))\n",
    "\n",
    "# data = pad_sequences(sequences, maxlen=maxlen)\n",
    "# labels = np.asarray(labels)\n",
    "# print('Shape of data tensor:', data.shape)\n",
    "# print('Shape of label tensor:', labels.shape)\n",
    "\n",
    "# # Splits the data into a training set and a \n",
    "# # validation set, but first shuffles the data, \n",
    "# # because you’re starting with data in which \n",
    "# # samples are ordered (all negative first, then \n",
    "# # all positive) \n",
    "# indices = np.arange(data.shape[0])\n",
    "# np.random.shuffle(indices)\n",
    "# data = data[indices]\n",
    "# labels = labels[indices]\n",
    "\n",
    "# x_train = data[:training_samples]\n",
    "# y_train = labels[:training_samples]\n",
    "# x_val = data[training_samples: training_samples + validation_samples]\n",
    "# y_val = labels[training_samples: training_samples + validation_samples]"
   ]
  },
  {
   "cell_type": "code",
   "execution_count": null,
   "metadata": {
    "colab": {
     "base_uri": "https://localhost:8080/",
     "height": 212
    },
    "colab_type": "code",
    "id": "gGtmIYSw2xPt",
    "outputId": "218283db-0d06-4dd3-88b7-9872c8f1f8bd"
   },
   "outputs": [
    {
     "name": "stdout",
     "output_type": "stream",
     "text": [
      "Found 88582 unique tokens.\n",
      "\n",
      "Training Part\n",
      " ##############\n",
      "Shape of data tensor: (25000, 500)\n",
      "Shape of label tensor: (25000,)\n",
      "\n",
      "Testing Part\n",
      " ##############\n",
      "Shape of data tensor: (25000, 500)\n",
      "Shape of label tensor: (25000,)\n"
     ]
    }
   ],
   "source": [
    "word_index = tokenizer_tr.word_index # only based on the training \n",
    "print('Found %s unique tokens.' % len(word_index))\n",
    "\n",
    "# Train \n",
    "data_tr = pad_sequences(sequences_tr, maxlen=maxlen)\n",
    "labels_tr = np.asarray(labels_tr)\n",
    "print('\\nTraining Part\\n ##############')\n",
    "print('Shape of data tensor:', data_tr.shape)\n",
    "print('Shape of label tensor:', labels_tr.shape)\n",
    "\n",
    "\n",
    "\n",
    "# Testing \n",
    "# Train \n",
    "data_tst = pad_sequences(sequences_tst, maxlen=maxlen)\n",
    "labels_tst = np.asarray(labels_tst)\n",
    "print('\\nTesting Part\\n ##############')\n",
    "print('Shape of data tensor:', data_tst.shape)\n",
    "print('Shape of label tensor:', labels_tst.shape)"
   ]
  },
  {
   "cell_type": "markdown",
   "metadata": {
    "colab_type": "text",
    "id": "sDh5uBHOfDSu"
   },
   "source": [
    "One May run this cell several time to check how the accuracy is affected as we suffle the data"
   ]
  },
  {
   "cell_type": "code",
   "execution_count": null,
   "metadata": {
    "colab": {
     "base_uri": "https://localhost:8080/",
     "height": 105
    },
    "colab_type": "code",
    "id": "cIl9lWXSe61b",
    "outputId": "8a240888-a122-4dbc-f5fd-7a9ce27242f4"
   },
   "outputs": [
    {
     "name": "stdout",
     "output_type": "stream",
     "text": [
      "Type of the Dataset: <class 'numpy.ndarray'>\n",
      "Shape of training data : (25000, 500)\n",
      "Shape of training labels : (25000,)\n",
      "Shape of testing data : (25000, 500)\n",
      "Shape of testing labels : (25000,)\n"
     ]
    }
   ],
   "source": [
    "# Splits the data into a training set and a \n",
    "# validation set, but first shuffles the data, \n",
    "# because you’re starting with data in which \n",
    "# samples are ordered (all negative first, then \n",
    "# all positive) \n",
    "indices = np.arange(data_tr.shape[0])\n",
    "np.random.shuffle(indices)\n",
    "x_train = data_tr[indices]\n",
    "y_train = labels_tr[indices]\n",
    "\n",
    "# Splits the data into a training set and a \n",
    "# validation set, but first shuffles the data, \n",
    "# because you’re starting with data in which \n",
    "# samples are ordered (all negative first, then \n",
    "# all positive) \n",
    "indices = np.arange(data_tst.shape[0])\n",
    "np.random.shuffle(indices)\n",
    "x_test = data_tst[indices]\n",
    "y_test = labels_tst[indices]\n",
    "\n",
    "#Explore the data structure using basic python commands\n",
    "print(\"Type of the Dataset:\",type(x_train))\n",
    "print(\"Shape of training data :\",x_train.shape)\n",
    "print(\"Shape of training labels :\",y_train.shape)\n",
    "print(\"Shape of testing data :\",x_test.shape)\n",
    "print(\"Shape of testing labels :\",y_test.shape)"
   ]
  },
  {
   "cell_type": "code",
   "execution_count": null,
   "metadata": {
    "colab": {
     "base_uri": "https://localhost:8080/",
     "height": 105
    },
    "colab_type": "code",
    "id": "t3D6riq5TVV4",
    "outputId": "e885f147-e8bd-4f3a-bf07-d6d8e7401eac"
   },
   "outputs": [
    {
     "data": {
      "text/plain": [
       "array([[   0,    0,    0, ..., 1658,   12, 1658],\n",
       "       [   0,    0,    0, ...,  878,    4,    1],\n",
       "       [   0,    0,    0, ...,    4,    1,  201],\n",
       "       [   0,    0,    0, ...,  130,    1, 1026],\n",
       "       [   0,    0,    0, ...,  467,  159, 5216]], dtype=int32)"
      ]
     },
     "execution_count": 11,
     "metadata": {
      "tags": []
     },
     "output_type": "execute_result"
    }
   ],
   "source": [
    "x_train[:5]"
   ]
  },
  {
   "cell_type": "markdown",
   "metadata": {
    "colab_type": "text",
    "id": "hz8B0qC0TVWB"
   },
   "source": [
    "###  GLOVE WORD EMBEDDINGS"
   ]
  },
  {
   "cell_type": "markdown",
   "metadata": {
    "colab_type": "text",
    "id": "NUtSjGG5TVWD"
   },
   "source": [
    "Go  to  https://nlp.stanford.edu/projects/glove,  and  download  the  precomputed\n",
    "embeddings from 2014 English Wikipedia.  It’s an 822 MB zip file called glove.6B.zip,\n",
    "containing  100-dimensional  embedding  vectors  for  400,000  words  (or  nonword\n",
    "tokens). Unzip it. "
   ]
  },
  {
   "cell_type": "code",
   "execution_count": null,
   "metadata": {
    "colab": {
     "base_uri": "https://localhost:8080/",
     "height": 34
    },
    "colab_type": "code",
    "id": "wS--GtlvrIu0",
    "outputId": "8a2fbb13-ddff-4a6e-dc22-2a4e15b662ce"
   },
   "outputs": [
    {
     "name": "stdout",
     "output_type": "stream",
     "text": [
      "1qlkC4-gpOhJVVvja8NEnnYPJFFzUu1CW\n"
     ]
    }
   ],
   "source": [
    "link = \"https://drive.google.com/file/d/1qlkC4-gpOhJVVvja8NEnnYPJFFzUu1CW/view?usp=sharing\"\n",
    "\n",
    "_, id_t = link.split('d/')\n",
    "\n",
    "id = id_t.split('/')[0]\n",
    "print (id) # Verify that you have everything after '='\n",
    "\n",
    "# Install the PyDrive wrapper & import libraries.\n",
    "# This only needs to be done once per notebook.\n",
    "!pip install -U -q PyDrive\n",
    "from pydrive.auth import GoogleAuth\n",
    "from pydrive.drive import GoogleDrive\n",
    "from google.colab import auth\n",
    "from oauth2client.client import GoogleCredentials\n",
    "\n",
    "# Authenticate and create the PyDrive client.\n",
    "# This only needs to be done once per notebook.\n",
    "auth.authenticate_user()\n",
    "gauth = GoogleAuth()\n",
    "gauth.credentials = GoogleCredentials.get_application_default()\n",
    "drive = GoogleDrive(gauth)\n",
    "\n",
    "\n",
    "file_id = id\n",
    "downloaded = drive.CreateFile({'id':file_id})\n",
    "downloaded.FetchMetadata(fetch_all=True)\n",
    "downloaded.GetContentFile(downloaded.metadata['title'])"
   ]
  },
  {
   "cell_type": "code",
   "execution_count": null,
   "metadata": {
    "colab": {
     "base_uri": "https://localhost:8080/",
     "height": 70
    },
    "colab_type": "code",
    "id": "lR2rRMzvrLI9",
    "outputId": "937d833c-5e88-45f6-8f8f-5b1b83bce04b"
   },
   "outputs": [
    {
     "name": "stdout",
     "output_type": "stream",
     "text": [
      "aclImdb      glove.840B.300d.txt\t\t __MACOSX\n",
      "aclImdb.zip  glove.840B.300d.zip\t\t sample_data\n",
      "adc.json     GoogleNews-vectors-negative300.bin\n"
     ]
    }
   ],
   "source": [
    "!ls"
   ]
  },
  {
   "cell_type": "code",
   "execution_count": null,
   "metadata": {
    "colab": {
     "base_uri": "https://localhost:8080/",
     "height": 52
    },
    "colab_type": "code",
    "id": "oNqcYYiMrvs4",
    "outputId": "f82893f7-deae-4774-bdd9-ca407c9741c2"
   },
   "outputs": [
    {
     "name": "stdout",
     "output_type": "stream",
     "text": [
      "Archive:  glove.840B.300d.zip\n",
      "  inflating: glove.840B.300d.txt     \n"
     ]
    }
   ],
   "source": [
    "!unzip glove.840B.300d.zip"
   ]
  },
  {
   "cell_type": "code",
   "execution_count": null,
   "metadata": {
    "colab": {
     "base_uri": "https://localhost:8080/",
     "height": 34
    },
    "colab_type": "code",
    "id": "XMsM1M_FTVWE",
    "outputId": "10a2c0f6-bb9c-4bf9-d7e9-b5d953ecdf84"
   },
   "outputs": [
    {
     "name": "stdout",
     "output_type": "stream",
     "text": [
      "Found 2195892 word vectors.\n"
     ]
    }
   ],
   "source": [
    "# PREPROCESSING THE EMBEDDINGS\n",
    "# glove_dir = './data/glove.6B'\n",
    "glove_dir = './'\n",
    "embeddings_index = {}\n",
    "\n",
    "f = open(os.path.join(glove_dir, 'glove.840B.300d.txt'), encoding=\"utf8\")\n",
    "\n",
    "for line in f:\n",
    "    values = line.split()\n",
    "    word = ''.join(values[:-300]) # 300 as our file has 300d\n",
    "    coefs = np.asarray(values[-300:], dtype='float32') #; ipdb.set_trace()\n",
    "    embeddings_index[word] = coefs\n",
    "f.close()\n",
    "\n",
    "# for line in f:\n",
    "#     values = line.split()\n",
    "#     word = values[0]\n",
    "#     coefs = np.asarray(values[1:], dtype='float32')\n",
    "#     embeddings_index[word] = coefs\n",
    "# f.close()\n",
    "print('Found %s word vectors.' % len(embeddings_index))"
   ]
  },
  {
   "cell_type": "markdown",
   "metadata": {
    "colab_type": "text",
    "id": "jzXqg484yOtw"
   },
   "source": [
    "Well, we have axactly $2,195,89$ words as expected, of dimension $100$"
   ]
  },
  {
   "cell_type": "code",
   "execution_count": null,
   "metadata": {
    "colab": {
     "base_uri": "https://localhost:8080/",
     "height": 34
    },
    "colab_type": "code",
    "id": "wgNRmRe7TVWO",
    "outputId": "7941c1fc-fe8d-4c62-d516-93e2029e9aa6"
   },
   "outputs": [
    {
     "data": {
      "text/plain": [
       "(300,)"
      ]
     },
     "execution_count": 79,
     "metadata": {
      "tags": []
     },
     "output_type": "execute_result"
    }
   ],
   "source": [
    "embeddings_index['hello'].shape"
   ]
  },
  {
   "cell_type": "markdown",
   "metadata": {
    "colab_type": "text",
    "id": "f7ZwfN-3TVWT"
   },
   "source": [
    "Next, you’ll build an embedding matrix that you can load into an Embedding layer. It\n",
    "must be a matrix of shape $(max\\_words, embedding_dim=1000)$, where each entry i contains\n",
    "the embedding_dim-dimensional vector for the word of index i in the reference word\n",
    "index (built during tokenization). Note that index 0 isn’t supposed to stand for any\n",
    "word or token—it’s a placeholder"
   ]
  },
  {
   "cell_type": "code",
   "execution_count": null,
   "metadata": {
    "colab": {},
    "colab_type": "code",
    "id": "CzFZy_caTVWW"
   },
   "outputs": [],
   "source": [
    "embedding_dim = embeddings_index['hello'].shape[0]\n",
    "# Cuts off reviews after 100 words\n",
    "maxlen = 500\n",
    "\n",
    "# Considers only the top \n",
    "# 10,000 words in the dataset\n",
    "max_words = 10000\n",
    "\n",
    "embedding_matrix = np.zeros((max_words, embedding_dim))\n",
    "\n",
    "for word, i in word_index.items():\n",
    "    if i < max_words:\n",
    "#         ipdb.set_trace()\n",
    "        embedding_vector = embeddings_index.get(word)\n",
    "        # cheking that th eword exist in the embedding dictionary\n",
    "        if embedding_vector is not None: \n",
    "            embedding_matrix[i] = embedding_vector"
   ]
  },
  {
   "cell_type": "code",
   "execution_count": null,
   "metadata": {
    "colab": {
     "base_uri": "https://localhost:8080/",
     "height": 1083
    },
    "colab_type": "code",
    "id": "vRfYQ8rsTVWY",
    "outputId": "58702681-c81e-4bf9-be07-bcd73f8473d2"
   },
   "outputs": [
    {
     "data": {
      "text/plain": [
       "array([-0.068528  ,  0.45958999,  0.018539  , -0.53644001,  0.35394001,\n",
       "       -0.35152   ,  0.078778  ,  0.12740999,  0.52928001,  0.62096   ,\n",
       "       -0.75994003, -0.31343001,  0.13381   , -0.03789   , -0.40671   ,\n",
       "       -0.098737  ,  0.13415   ,  0.90764999,  0.34279999, -0.52192003,\n",
       "       -0.23233999, -0.29030001,  0.37049001, -0.56544   , -0.0023271 ,\n",
       "        0.13129   , -0.49311   ,  0.16054   ,  0.099735  , -0.13713001,\n",
       "        0.32255   , -0.25729999,  0.11523   ,  0.099993  ,  0.078515  ,\n",
       "        0.31130001, -0.21955   ,  0.15638   ,  0.27340001,  0.22973999,\n",
       "       -0.1997    , -0.025547  , -0.26411   , -0.099569  , -0.34459999,\n",
       "       -0.20026   ,  0.17815   ,  0.1339    ,  0.24776   ,  0.028355  ,\n",
       "       -0.36414   , -0.13376001,  0.098335  , -0.86383998,  0.082803  ,\n",
       "        0.25937   , -0.0073275 ,  0.36594   , -0.014414  , -0.18960001,\n",
       "       -0.84470999, -0.14161   , -0.030128  , -0.27522999,  0.16633999,\n",
       "        0.18104   , -0.41111001,  0.15974   , -0.24508999, -0.20941   ,\n",
       "       -0.22263999, -0.05554   , -0.33133   , -0.34858   ,  0.30063999,\n",
       "        0.58574998, -0.31786001,  0.12341   ,  0.27463999,  0.41167   ,\n",
       "       -0.080331  ,  0.53081   , -0.20781   , -0.49768999, -0.53154999,\n",
       "        0.36351001,  1.24249995,  0.35264999, -0.35639   , -0.57020998,\n",
       "        0.022342  , -0.33028999,  0.17343999, -0.92998999,  0.47981   ,\n",
       "        0.0024387 ,  0.30761001, -0.060123  ,  0.23736   , -0.10665   ,\n",
       "       -0.40672001, -0.51138002,  0.14061999,  0.77859002, -0.066568  ,\n",
       "       -1.13569999,  0.20832001,  0.034592  , -0.23594999, -0.4382    ,\n",
       "        0.40507001,  0.44848001,  0.17891   , -0.26558   , -0.42829999,\n",
       "        0.23849   ,  0.75209999, -0.30037001,  0.075963  ,  0.16906001,\n",
       "        0.45300001,  0.67650002,  0.18094   ,  0.014279  , -0.0098222 ,\n",
       "       -0.13849001,  0.14899001,  0.34731999, -0.38545001,  0.18907   ,\n",
       "        0.056587  , -0.63312   , -0.13204999, -0.62900001,  0.22758   ,\n",
       "       -0.19815999, -0.33805999, -0.27643999,  0.27024001, -0.56533998,\n",
       "       -1.24329996,  0.069682  ,  0.59495002, -0.22347   ,  0.22860999,\n",
       "        0.068897  ,  0.18565001,  0.23375   , -0.30915001, -0.52652001,\n",
       "       -0.062782  , -0.60241002, -0.50800002, -0.35576001,  0.14643   ,\n",
       "       -0.17397   , -0.23789001,  0.038562  , -0.43511   ,  0.47042999,\n",
       "        0.50362003,  0.18817   , -0.23853999, -0.26517001,  0.20734   ,\n",
       "        0.097861  ,  0.23355   ,  0.25391999,  0.21741   ,  0.25780001,\n",
       "       -0.53012002,  0.56607997, -0.14915   , -0.23135   , -0.059422  ,\n",
       "       -0.33184001, -0.19385   ,  0.74247998,  0.068607  , -0.12955   ,\n",
       "       -0.35005   ,  0.15211999, -0.2043    , -0.061594  ,  0.11642   ,\n",
       "        0.61396003, -0.16099   , -0.48356   , -0.084071  ,  0.33421999,\n",
       "       -0.019773  ,  0.040742  , -0.053901  , -0.035275  , -0.31349999,\n",
       "        0.58721   , -0.16496   ,  0.10731   ,  0.13979   ,  0.042947  ,\n",
       "        0.37213001, -0.86799997,  0.21901999, -0.16269   , -0.67637998,\n",
       "       -0.10349   ,  0.095689  ,  0.33963001,  0.43687001, -0.21252   ,\n",
       "       -0.047153  ,  0.50064999,  0.022196  ,  0.84540999, -0.73514003,\n",
       "        0.22973999,  0.1099    ,  0.034693  ,  0.3048    , -0.16727   ,\n",
       "        0.18282001,  0.30030999, -0.47479999, -0.15932   , -0.022228  ,\n",
       "        0.0051185 , -0.63716   ,  0.22735   ,  0.38146001, -0.19269   ,\n",
       "        0.39388999,  0.44148001,  0.33432999, -0.045143  , -0.53863001,\n",
       "       -0.21334   , -0.083726  , -0.65490001,  0.038475  ,  0.40825   ,\n",
       "        0.14277001, -0.06945   ,  0.31116   , -0.48758999, -0.23444   ,\n",
       "        0.31814   ,  0.29786   ,  0.1673    , -0.39109001, -0.60829997,\n",
       "        0.49313   , -0.039667  ,  0.28995001, -0.41779   ,  0.39465001,\n",
       "       -0.52982998,  0.15109   , -0.037451  ,  0.22249   ,  0.022924  ,\n",
       "        0.15011001, -0.53663999,  0.086832  ,  0.32337001, -0.28977001,\n",
       "       -0.35635999, -0.36568999,  0.28167   , -1.18130004,  0.79602998,\n",
       "       -0.78574997,  0.34048   ,  0.24304   ,  0.4109    ,  0.025391  ,\n",
       "       -0.25297999,  0.30166   , -0.67377001, -0.51582998, -0.67388999,\n",
       "       -0.0054575 , -0.32212001, -0.41582999,  0.34334999, -0.0040147 ,\n",
       "        0.39675   ,  0.032879  ,  0.23630001, -0.033035  , -0.01576   ,\n",
       "        0.36945999, -0.16269   ,  0.03695   ,  0.10878   , -0.018512  ,\n",
       "       -0.57380998,  0.040806  , -0.043542  , -0.70174003,  0.088809  ])"
      ]
     },
     "execution_count": 81,
     "metadata": {
      "tags": []
     },
     "output_type": "execute_result"
    }
   ],
   "source": [
    "embedding_matrix[-1] # looking at the last element"
   ]
  },
  {
   "cell_type": "code",
   "execution_count": null,
   "metadata": {
    "colab": {
     "base_uri": "https://localhost:8080/",
     "height": 34
    },
    "colab_type": "code",
    "id": "_-nBo7vzTVWf",
    "outputId": "e81863e1-cf9c-4882-b57e-63643aa7da28"
   },
   "outputs": [
    {
     "data": {
      "text/plain": [
       "(10000, 300)"
      ]
     },
     "execution_count": 83,
     "metadata": {
      "tags": []
     },
     "output_type": "execute_result"
    }
   ],
   "source": [
    "embedding_matrix.shape"
   ]
  },
  {
   "cell_type": "code",
   "execution_count": null,
   "metadata": {
    "colab": {
     "base_uri": "https://localhost:8080/",
     "height": 70
    },
    "colab_type": "code",
    "id": "FCaF_ZbrTVWj",
    "outputId": "97886836-ee3a-43f3-d572-98dc3a1d173c"
   },
   "outputs": [
    {
     "name": "stdout",
     "output_type": "stream",
     "text": [
      "Max_words = 10000, \n",
      "Embedding_dim = 300 and \n",
      "Input_length = 500\n"
     ]
    }
   ],
   "source": [
    "print(f\"Max_words = {max_words}, \\nEmbedding_dim = {embedding_dim} and \\nInput_length = {maxlen}\")"
   ]
  },
  {
   "cell_type": "code",
   "execution_count": null,
   "metadata": {
    "colab": {
     "base_uri": "https://localhost:8080/",
     "height": 356
    },
    "colab_type": "code",
    "id": "fi8hJYi514hA",
    "outputId": "78b7103e-d5d1-472f-d59e-b921c794b898"
   },
   "outputs": [
    {
     "name": "stdout",
     "output_type": "stream",
     "text": [
      "WARNING:tensorflow:From /usr/local/lib/python3.6/dist-packages/tensorflow/python/ops/resource_variable_ops.py:435: colocate_with (from tensorflow.python.framework.ops) is deprecated and will be removed in a future version.\n",
      "Instructions for updating:\n",
      "Colocations handled automatically by placer.\n",
      "_________________________________________________________________\n",
      "Layer (type)                 Output Shape              Param #   \n",
      "=================================================================\n",
      "embedding (Embedding)        (None, 500, 300)          3000000   \n",
      "_________________________________________________________________\n",
      "flatten (Flatten)            (None, 150000)            0         \n",
      "_________________________________________________________________\n",
      "dense (Dense)                (None, 32)                4800032   \n",
      "_________________________________________________________________\n",
      "dense_1 (Dense)              (None, 1)                 33        \n",
      "=================================================================\n",
      "Total params: 7,800,065\n",
      "Trainable params: 4,800,065\n",
      "Non-trainable params: 3,000,000\n",
      "_________________________________________________________________\n"
     ]
    }
   ],
   "source": [
    "model = tf.keras.Sequential()\n",
    "# model.add(Embedding(max_words, embedding_dim, input_length=maxlen))\n",
    "model.add(tf.keras.layers.Embedding(max_words, embedding_dim, input_length=x_train.shape[1]))\n",
    "model.add(tf.keras.layers.Flatten())\n",
    "model.add(tf.keras.layers.Dense(32, activation='relu'))\n",
    "model.add(tf.keras.layers.Dense(1, activation='sigmoid'))\n",
    "\n",
    "model.layers[0].set_weights([embedding_matrix])\n",
    "#  freeze the Embedding layer\n",
    "# the pretrained parts shouldn’t\n",
    "# be updated during training, to avoid forgetting what they already know\n",
    "model.layers[0].trainable = False\n",
    "\n",
    "model.summary()"
   ]
  },
  {
   "cell_type": "code",
   "execution_count": null,
   "metadata": {
    "colab": {
     "base_uri": "https://localhost:8080/",
     "height": 481
    },
    "colab_type": "code",
    "id": "kBH1MQ6m14hH",
    "outputId": "4b4dcac8-6162-48dc-adcd-5cd80e02f2bc"
   },
   "outputs": [
    {
     "name": "stdout",
     "output_type": "stream",
     "text": [
      "Train on 20000 samples, validate on 5000 samples\n",
      "WARNING:tensorflow:From /usr/local/lib/python3.6/dist-packages/tensorflow/python/ops/math_ops.py:3066: to_int32 (from tensorflow.python.ops.math_ops) is deprecated and will be removed in a future version.\n",
      "Instructions for updating:\n",
      "Use tf.cast instead.\n",
      "Epoch 1/10\n",
      "20000/20000 [==============================] - 4s 187us/sample - loss: 0.6900 - acc: 0.5323 - val_loss: 0.6769 - val_acc: 0.5600\n",
      "Epoch 2/10\n",
      "20000/20000 [==============================] - 3s 165us/sample - loss: 0.5996 - acc: 0.6868 - val_loss: 0.6984 - val_acc: 0.5812\n",
      "Epoch 3/10\n",
      "20000/20000 [==============================] - 3s 164us/sample - loss: 0.4207 - acc: 0.8266 - val_loss: 0.6991 - val_acc: 0.6096\n",
      "Epoch 4/10\n",
      "20000/20000 [==============================] - 3s 165us/sample - loss: 0.2639 - acc: 0.9176 - val_loss: 0.7656 - val_acc: 0.6134\n",
      "Epoch 5/10\n",
      "20000/20000 [==============================] - 3s 165us/sample - loss: 0.1486 - acc: 0.9689 - val_loss: 0.8640 - val_acc: 0.6094\n",
      "Epoch 6/10\n",
      "20000/20000 [==============================] - 3s 165us/sample - loss: 0.0773 - acc: 0.9917 - val_loss: 1.0235 - val_acc: 0.6036\n",
      "Epoch 7/10\n",
      "20000/20000 [==============================] - 3s 165us/sample - loss: 0.0378 - acc: 0.9983 - val_loss: 1.1638 - val_acc: 0.6076\n",
      "Epoch 8/10\n",
      "20000/20000 [==============================] - 3s 165us/sample - loss: 0.0174 - acc: 0.9998 - val_loss: 1.2990 - val_acc: 0.6050\n",
      "Epoch 9/10\n",
      "20000/20000 [==============================] - 3s 165us/sample - loss: 0.0076 - acc: 1.0000 - val_loss: 1.5007 - val_acc: 0.6054\n",
      "Epoch 10/10\n",
      "20000/20000 [==============================] - 3s 166us/sample - loss: 0.0033 - acc: 1.0000 - val_loss: 1.6948 - val_acc: 0.6038\n"
     ]
    },
    {
     "data": {
      "text/plain": [
       "<tensorflow.python.keras.callbacks.History at 0x7f75f2cdc358>"
      ]
     },
     "execution_count": 17,
     "metadata": {
      "tags": []
     },
     "output_type": "execute_result"
    }
   ],
   "source": [
    "model.compile(optimizer=tf.keras.optimizers.RMSprop(lr=1e-4),\n",
    "              loss='binary_crossentropy',\n",
    "              metrics=['acc'])\n",
    "\n",
    "model.fit(x_train_, y_train_,\n",
    "          epochs=10, batch_size=32,\n",
    "          validation_split=0.2)\n",
    "\n",
    "# model.save_weights('pre_trained_word2vec_model.h5')"
   ]
  },
  {
   "cell_type": "markdown",
   "metadata": {
    "colab_type": "text",
    "id": "sRnmKoiNTVWq"
   },
   "source": [
    "The Embedding layer has a single weight matrix: a 2D float matrix where each entry i is\n",
    "the word vector meant to be associated with index i. Simple enough. Load the GloVe\n",
    "matrix you prepared into the Embedding layer, the first layer in the model."
   ]
  },
  {
   "cell_type": "code",
   "execution_count": null,
   "metadata": {
    "colab": {
     "base_uri": "https://localhost:8080/",
     "height": 70
    },
    "colab_type": "code",
    "id": "HMeziITC6cgl",
    "outputId": "7ef11921-1e77-4468-cc4a-42e0e1003308"
   },
   "outputs": [
    {
     "name": "stdout",
     "output_type": "stream",
     "text": [
      "25000/25000 [==============================] - 1s 58us/sample - loss: 1.6812 - acc: 0.5974\n",
      "Metric  loss : 1.6812\n",
      "Metric  acc : 0.5974\n"
     ]
    }
   ],
   "source": [
    "result = model.evaluate(x_test_, y_test_)\n",
    "for i in range(len(model.metrics_names)):\n",
    "     print(\"Metric \",model.metrics_names[i],\":\", str(round(result[i],5)))"
   ]
  },
  {
   "cell_type": "code",
   "execution_count": null,
   "metadata": {
    "colab": {
     "base_uri": "https://localhost:8080/",
     "height": 563
    },
    "colab_type": "code",
    "id": "mbxwIvrdTVWz",
    "outputId": "56daab32-3b68-463f-b02a-bf4f35916803"
   },
   "outputs": [
    {
     "data": {
      "image/png": "[encoded data removed]",
      "text/plain": [
       "<Figure size 432x288 with 1 Axes>"
      ]
     },
     "metadata": {
      "tags": []
     },
     "output_type": "display_data"
    },
    {
     "data": {
      "text/plain": [
       "<matplotlib.legend.Legend at 0x7f75f4973f98>"
      ]
     },
     "execution_count": 20,
     "metadata": {
      "tags": []
     },
     "output_type": "execute_result"
    },
    {
     "data": {
      "image/png": "[encoded data removed]",
      "text/plain": [
       "<Figure size 432x288 with 1 Axes>"
      ]
     },
     "metadata": {
      "tags": []
     },
     "output_type": "display_data"
    }
   ],
   "source": [
    "acc = model.history.history['acc']\n",
    "val_acc = model.history.history['val_acc']\n",
    "loss = model.history.history['loss']\n",
    "val_loss = model.history.history['val_loss']\n",
    "\n",
    "epochs = range(1, len(acc) + 1)\n",
    "\n",
    "plt.figure()\n",
    "# plt.figure(figsize=(9,8))\n",
    "plt.plot(epochs, loss, label='Training loss')\n",
    "plt.plot(epochs, val_loss, label='Validation loss')\n",
    "plt.title('Training and validation loss')\n",
    "plt.legend()\n",
    "plt.show()\n",
    "\n",
    "\n",
    "plt.figure()\n",
    "plt.plot(epochs, acc, label='Training acc')\n",
    "plt.plot(epochs, val_acc, label='Validation acc')\n",
    "plt.title('Training and validation accuracy')\n",
    "plt.legend()"
   ]
  },
  {
   "cell_type": "markdown",
   "metadata": {
    "colab_type": "text",
    "id": "b9cBEI3z0FYX"
   },
   "source": [
    "#### 1D convnt"
   ]
  },
  {
   "cell_type": "code",
   "execution_count": null,
   "metadata": {
    "colab": {
     "base_uri": "https://localhost:8080/",
     "height": 354
    },
    "colab_type": "code",
    "id": "nL1RqOkG0FYZ",
    "outputId": "ab367521-c4af-4b42-af90-98b6a367330e"
   },
   "outputs": [
    {
     "name": "stdout",
     "output_type": "stream",
     "text": [
      "_________________________________________________________________\n",
      "Layer (type)                 Output Shape              Param #   \n",
      "=================================================================\n",
      "embedding_1 (Embedding)      (None, 500, 300)          3000000   \n",
      "_________________________________________________________________\n",
      "conv1d (Conv1D)              (None, 494, 32)           67232     \n",
      "_________________________________________________________________\n",
      "max_pooling1d (MaxPooling1D) (None, 98, 32)            0         \n",
      "_________________________________________________________________\n",
      "conv1d_1 (Conv1D)            (None, 92, 32)            7200      \n",
      "_________________________________________________________________\n",
      "global_max_pooling1d (Global (None, 32)                0         \n",
      "_________________________________________________________________\n",
      "dense_2 (Dense)              (None, 1)                 33        \n",
      "=================================================================\n",
      "Total params: 3,074,465\n",
      "Trainable params: 74,465\n",
      "Non-trainable params: 3,000,000\n",
      "_________________________________________________________________\n"
     ]
    }
   ],
   "source": [
    "model = tf.keras.Sequential()\n",
    "model.add(tf.keras.layers.Embedding(max_words, embedding_dim, input_length=x_train.shape[1]))\n",
    "model.add(tf.keras.layers.Conv1D(32, 7, \n",
    "                                 activation='relu'))\n",
    "model.add(tf.keras.layers.MaxPooling1D(5))\n",
    "model.add(tf.keras.layers.Conv1D(32, 7, \n",
    "                                 activation='relu'))\n",
    "model.add(tf.keras.layers.GlobalMaxPooling1D())\n",
    "model.add(tf.keras.layers.Dense(1))\n",
    "\n",
    "model.layers[0].set_weights([embedding_matrix])\n",
    "#  freeze the Embedding layer\n",
    "# the pretrained parts shouldn’t\n",
    "# be updated during training, to avoid forgetting what they already know\n",
    "model.layers[0].trainable = False\n",
    "\n",
    "model.summary()"
   ]
  },
  {
   "cell_type": "code",
   "execution_count": null,
   "metadata": {
    "colab": {
     "base_uri": "https://localhost:8080/",
     "height": 481
    },
    "colab_type": "code",
    "id": "HefMNwP00FYr",
    "outputId": "f0ea0ba7-3cc5-4176-b33d-a8306b1c5c8b"
   },
   "outputs": [
    {
     "name": "stdout",
     "output_type": "stream",
     "text": [
      "Train on 20000 samples, validate on 5000 samples\n",
      "WARNING:tensorflow:From /usr/local/lib/python3.6/dist-packages/tensorflow/python/ops/math_grad.py:102: div (from tensorflow.python.ops.math_ops) is deprecated and will be removed in a future version.\n",
      "Instructions for updating:\n",
      "Deprecated in favor of operator or tf.math.divide.\n",
      "Epoch 1/10\n",
      "20000/20000 [==============================] - 5s 245us/sample - loss: 0.7408 - acc: 0.5222 - val_loss: 0.6889 - val_acc: 0.5532\n",
      "Epoch 2/10\n",
      "20000/20000 [==============================] - 3s 153us/sample - loss: 0.6450 - acc: 0.6270 - val_loss: 0.6758 - val_acc: 0.5874\n",
      "Epoch 3/10\n",
      "20000/20000 [==============================] - 3s 154us/sample - loss: 0.5905 - acc: 0.6928 - val_loss: 0.7543 - val_acc: 0.5650\n",
      "Epoch 4/10\n",
      "20000/20000 [==============================] - 3s 154us/sample - loss: 0.5406 - acc: 0.7432 - val_loss: 0.6527 - val_acc: 0.6394\n",
      "Epoch 5/10\n",
      "20000/20000 [==============================] - 3s 156us/sample - loss: 0.5025 - acc: 0.7716 - val_loss: 0.6541 - val_acc: 0.6508\n",
      "Epoch 6/10\n",
      "20000/20000 [==============================] - 3s 155us/sample - loss: 0.4576 - acc: 0.8002 - val_loss: 0.6687 - val_acc: 0.6574\n",
      "Epoch 7/10\n",
      "20000/20000 [==============================] - 3s 153us/sample - loss: 0.4199 - acc: 0.8214 - val_loss: 0.6910 - val_acc: 0.6690\n",
      "Epoch 8/10\n",
      "20000/20000 [==============================] - 3s 154us/sample - loss: 0.3828 - acc: 0.8430 - val_loss: 0.7058 - val_acc: 0.6764\n",
      "Epoch 9/10\n",
      "20000/20000 [==============================] - 3s 153us/sample - loss: 0.3523 - acc: 0.8591 - val_loss: 0.7812 - val_acc: 0.6866\n",
      "Epoch 10/10\n",
      "20000/20000 [==============================] - 3s 154us/sample - loss: 0.3196 - acc: 0.8784 - val_loss: 0.8248 - val_acc: 0.6836\n"
     ]
    },
    {
     "data": {
      "text/plain": [
       "<tensorflow.python.keras.callbacks.History at 0x7f75da64d1d0>"
      ]
     },
     "execution_count": 22,
     "metadata": {
      "tags": []
     },
     "output_type": "execute_result"
    }
   ],
   "source": [
    "model.compile(optimizer=tf.keras.optimizers.RMSprop(lr=1e-4),\n",
    "              loss='binary_crossentropy',\n",
    "              metrics=['acc'])\n",
    "\n",
    "model.fit(x_train_, y_train_,\n",
    "          epochs=10, batch_size=32,\n",
    "          validation_split=0.2)\n",
    "#                     validation_data=(x_val, y_val))\n",
    "\n",
    "# model.save_weights('pre_trained_word2vec_model.h5')"
   ]
  },
  {
   "cell_type": "code",
   "execution_count": null,
   "metadata": {
    "colab": {
     "base_uri": "https://localhost:8080/",
     "height": 70
    },
    "colab_type": "code",
    "id": "72pviZKy0FY6",
    "outputId": "ce6f1136-515a-445d-fdc7-66e254d8fd93"
   },
   "outputs": [
    {
     "name": "stdout",
     "output_type": "stream",
     "text": [
      "25000/25000 [==============================] - 2s 69us/sample - loss: 0.8170 - acc: 0.6794\n",
      "Metric  loss : 0.81695\n",
      "Metric  acc : 0.67944\n"
     ]
    }
   ],
   "source": [
    "result = model.evaluate(x_test_, y_test_)\n",
    "for i in range(len(model.metrics_names)):\n",
    "     print(\"Metric \",model.metrics_names[i],\":\", str(round(result[i],5)))"
   ]
  },
  {
   "cell_type": "code",
   "execution_count": null,
   "metadata": {
    "colab": {
     "base_uri": "https://localhost:8080/",
     "height": 563
    },
    "colab_type": "code",
    "id": "yYP-zCOE0FZA",
    "outputId": "0a530fa9-7058-4160-e8bc-0c891534242b"
   },
   "outputs": [
    {
     "data": {
      "image/png": "[encoded data removed]",
      "text/plain": [
       "<Figure size 432x288 with 1 Axes>"
      ]
     },
     "metadata": {
      "tags": []
     },
     "output_type": "display_data"
    },
    {
     "data": {
      "text/plain": [
       "<matplotlib.legend.Legend at 0x7f75f314eef0>"
      ]
     },
     "execution_count": 24,
     "metadata": {
      "tags": []
     },
     "output_type": "execute_result"
    },
    {
     "data": {
      "image/png": "[encoded data removed]",
      "text/plain": [
       "<Figure size 432x288 with 1 Axes>"
      ]
     },
     "metadata": {
      "tags": []
     },
     "output_type": "display_data"
    }
   ],
   "source": [
    "acc = model.history.history['acc']\n",
    "val_acc = model.history.history['val_acc']\n",
    "loss = model.history.history['loss']\n",
    "val_loss = model.history.history['val_loss']\n",
    "\n",
    "epochs = range(1, len(acc) + 1)\n",
    "\n",
    "plt.figure()\n",
    "# plt.figure(figsize=(9,8))\n",
    "plt.plot(epochs, loss, 'bo', label='Training loss')\n",
    "plt.plot(epochs, val_loss, 'b', label='Validation loss')\n",
    "plt.title('Training and validation loss')\n",
    "plt.legend()\n",
    "plt.show()\n",
    "\n",
    "\n",
    "plt.figure()\n",
    "plt.plot(epochs, acc, 'bo', label='Training acc')\n",
    "plt.plot(epochs, val_acc, 'b', label='Validation acc')\n",
    "plt.title('Training and validation accuracy')\n",
    "plt.legend()"
   ]
  },
  {
   "cell_type": "markdown",
   "metadata": {
    "colab_type": "text",
    "id": "mnynvT83TVW5"
   },
   "source": [
    "### WORD2VEC EMBEDDINGS\n",
    "\n",
    "Developed  by  Tomas  Mikolov  at  Google  in  2013.  Word2vec (https://code.google.com/archive/p/word2vec)\n",
    "dimensions capture specific semantic properties"
   ]
  },
  {
   "cell_type": "code",
   "execution_count": null,
   "metadata": {
    "colab": {
     "base_uri": "https://localhost:8080/",
     "height": 34
    },
    "colab_type": "code",
    "id": "xL2qCwi2JKYF",
    "outputId": "7eea6e7b-7c07-4578-fcb4-c06b04940642"
   },
   "outputs": [
    {
     "name": "stdout",
     "output_type": "stream",
     "text": [
      "13NmrtF-HoGmdv_m3Ld4eGVTbIekOcNi_\n"
     ]
    }
   ],
   "source": [
    "link = \"https://drive.google.com/file/d/13NmrtF-HoGmdv_m3Ld4eGVTbIekOcNi_/view?usp=sharing\"\n",
    "\n",
    "_, id_t = link.split('d/')\n",
    "\n",
    "id = id_t.split('/')[0]\n",
    "print (id) # Verify that you have everything after '='\n",
    "\n",
    "# Install the PyDrive wrapper & import libraries.\n",
    "# This only needs to be done once per notebook.\n",
    "!pip install -U -q PyDrive\n",
    "from pydrive.auth import GoogleAuth\n",
    "from pydrive.drive import GoogleDrive\n",
    "from google.colab import auth\n",
    "from oauth2client.client import GoogleCredentials\n",
    "\n",
    "# Authenticate and create the PyDrive client.\n",
    "# This only needs to be done once per notebook.\n",
    "auth.authenticate_user()\n",
    "gauth = GoogleAuth()\n",
    "gauth.credentials = GoogleCredentials.get_application_default()\n",
    "drive = GoogleDrive(gauth)\n",
    "\n",
    "file_id = id\n",
    "downloaded = drive.CreateFile({'id':file_id})\n",
    "downloaded.FetchMetadata(fetch_all=True)\n",
    "downloaded.GetContentFile(downloaded.metadata['title'])"
   ]
  },
  {
   "cell_type": "code",
   "execution_count": null,
   "metadata": {
    "colab": {
     "base_uri": "https://localhost:8080/",
     "height": 70
    },
    "colab_type": "code",
    "id": "gsgPh-3_JKYN",
    "outputId": "d65855b3-ca00-4b70-e159-3caf834100a6"
   },
   "outputs": [
    {
     "name": "stdout",
     "output_type": "stream",
     "text": [
      "aclImdb      glove.840B.300d.txt\t\t __MACOSX\n",
      "aclImdb.zip  glove.840B.300d.zip\t\t sample_data\n",
      "adc.json     GoogleNews-vectors-negative300.bin\n"
     ]
    }
   ],
   "source": [
    "!ls"
   ]
  },
  {
   "cell_type": "code",
   "execution_count": null,
   "metadata": {
    "colab": {},
    "colab_type": "code",
    "id": "_6b2ikq7JKYf"
   },
   "outputs": [],
   "source": [
    "gensim_w2v = KeyedVectors.load_word2vec_format('./GoogleNews-vectors-negative300.bin', binary=True)"
   ]
  },
  {
   "cell_type": "code",
   "execution_count": null,
   "metadata": {
    "colab": {
     "base_uri": "https://localhost:8080/",
     "height": 905
    },
    "colab_type": "code",
    "id": "dQWpcI7STVW7",
    "outputId": "40c4bc8e-c430-4fdf-8e68-85a41f9e0614"
   },
   "outputs": [
    {
     "name": "stdout",
     "output_type": "stream",
     "text": [
      "hello = [-0.05419922  0.01708984 -0.00527954  0.33203125 -0.25       -0.01397705\n",
      " -0.15039062 -0.265625    0.01647949  0.3828125  -0.03295898 -0.09716797\n",
      " -0.16308594 -0.04443359  0.00946045  0.18457031  0.03637695  0.16601562\n",
      "  0.36328125 -0.25585938  0.375       0.171875    0.21386719 -0.19921875\n",
      "  0.13085938 -0.07275391 -0.02819824  0.11621094  0.15332031  0.09082031\n",
      "  0.06787109 -0.0300293  -0.16894531 -0.20800781 -0.03710938 -0.22753906\n",
      "  0.26367188  0.012146    0.18359375  0.31054688 -0.10791016 -0.19140625\n",
      "  0.21582031  0.13183594 -0.03515625  0.18554688 -0.30859375  0.04785156\n",
      " -0.10986328  0.14355469 -0.43554688 -0.0378418   0.10839844  0.140625\n",
      " -0.10595703  0.26171875 -0.17089844  0.39453125  0.12597656 -0.27734375\n",
      " -0.28125     0.14746094 -0.20996094  0.02355957  0.18457031  0.00445557\n",
      " -0.27929688 -0.03637695 -0.29296875  0.19628906  0.20703125  0.2890625\n",
      " -0.20507812  0.06787109 -0.43164062 -0.10986328 -0.2578125  -0.02331543\n",
      "  0.11328125  0.23144531 -0.04418945  0.10839844 -0.2890625  -0.09521484\n",
      " -0.10351562 -0.0324707   0.07763672 -0.13378906  0.22949219  0.06298828\n",
      "  0.08349609  0.02929688 -0.11474609  0.00534058 -0.12988281  0.02514648\n",
      "  0.08789062  0.24511719 -0.11474609 -0.296875   -0.59375    -0.29492188\n",
      " -0.13378906  0.27734375 -0.04174805  0.11621094  0.28320312  0.00241089\n",
      "  0.13867188 -0.00683594 -0.30078125  0.16210938  0.01171875 -0.13867188\n",
      "  0.48828125  0.02880859  0.02416992  0.04736328  0.05859375 -0.23828125\n",
      "  0.02758789  0.05981445 -0.03857422  0.06933594  0.14941406 -0.10888672\n",
      " -0.07324219  0.08789062  0.27148438  0.06591797 -0.37890625 -0.26171875\n",
      " -0.13183594  0.09570312 -0.3125      0.10205078  0.03063965  0.23632812\n",
      "  0.00582886  0.27734375  0.20507812 -0.17871094 -0.31445312 -0.01586914\n",
      "  0.13964844  0.13574219  0.0390625  -0.29296875  0.234375   -0.33984375\n",
      " -0.11816406  0.10644531 -0.18457031 -0.02099609  0.02563477  0.25390625\n",
      "  0.07275391  0.13574219 -0.00138092 -0.2578125  -0.2890625   0.10107422\n",
      "  0.19238281 -0.04882812  0.27929688 -0.3359375  -0.07373047  0.01879883\n",
      " -0.10986328 -0.04614258  0.15722656  0.06689453 -0.03417969  0.16308594\n",
      "  0.08642578  0.44726562  0.02026367 -0.01977539  0.07958984  0.17773438\n",
      " -0.04370117 -0.00952148  0.16503906  0.17285156  0.23144531 -0.04272461\n",
      "  0.02355957  0.18359375 -0.41601562 -0.01745605  0.16796875  0.04736328\n",
      "  0.14257812  0.08496094  0.33984375  0.1484375  -0.34375    -0.14160156\n",
      " -0.06835938 -0.14648438 -0.02844238  0.07421875 -0.07666016  0.12695312\n",
      "  0.05859375 -0.07568359 -0.03344727  0.23632812 -0.16308594  0.16503906\n",
      "  0.1484375  -0.2421875  -0.3515625  -0.30664062  0.00491333  0.17675781\n",
      "  0.46289062  0.14257812 -0.25       -0.25976562  0.04370117  0.34960938\n",
      "  0.05957031  0.07617188 -0.02868652 -0.09667969 -0.01281738  0.05859375\n",
      " -0.22949219 -0.1953125  -0.12207031  0.20117188 -0.42382812  0.06005859\n",
      "  0.50390625  0.20898438  0.11230469 -0.06054688  0.33203125  0.07421875\n",
      " -0.05786133  0.11083984 -0.06494141  0.05639648  0.01757812  0.08398438\n",
      "  0.13769531  0.2578125   0.16796875 -0.16894531  0.01794434  0.16015625\n",
      "  0.26171875  0.31640625 -0.24804688  0.05371094 -0.0859375   0.17089844\n",
      " -0.39453125 -0.00156403 -0.07324219 -0.04614258 -0.16210938 -0.15722656\n",
      "  0.21289062 -0.15820312  0.04394531  0.28515625  0.01196289 -0.26953125\n",
      " -0.04370117  0.37109375  0.04663086 -0.19726562  0.3046875  -0.36523438\n",
      " -0.23632812  0.08056641 -0.04248047 -0.14648438 -0.06225586 -0.0534668\n",
      " -0.05664062  0.18945312  0.37109375 -0.22070312  0.04638672  0.02612305\n",
      " -0.11474609  0.265625   -0.02453613  0.11083984 -0.02514648 -0.12060547\n",
      "  0.05297852  0.07128906  0.00063705 -0.36523438 -0.13769531 -0.12890625]\n"
     ]
    }
   ],
   "source": [
    "print('hello =', gensim_w2v['hello'])"
   ]
  },
  {
   "cell_type": "code",
   "execution_count": null,
   "metadata": {
    "colab": {},
    "colab_type": "code",
    "id": "DYQeYUZrTVW-"
   },
   "outputs": [],
   "source": [
    "# gensim_model.save_word2vec_format('./data/GoogleNews-vectors-negative300.txt', binary=False)"
   ]
  },
  {
   "cell_type": "code",
   "execution_count": null,
   "metadata": {
    "colab": {
     "base_uri": "https://localhost:8080/",
     "height": 34
    },
    "colab_type": "code",
    "id": "JwGyn88oTVXG",
    "outputId": "653cc43c-9c46-4dd2-d3b6-d296936f7b91"
   },
   "outputs": [
    {
     "data": {
      "text/plain": [
       "numpy.ndarray"
      ]
     },
     "execution_count": 14,
     "metadata": {
      "tags": []
     },
     "output_type": "execute_result"
    }
   ],
   "source": [
    "type(gensim_w2v['hello'])"
   ]
  },
  {
   "cell_type": "code",
   "execution_count": null,
   "metadata": {
    "colab": {
     "base_uri": "https://localhost:8080/",
     "height": 34
    },
    "colab_type": "code",
    "id": "w9i5csAfTVXL",
    "outputId": "5e3a15ea-d5ae-427e-bd4e-b7755832f84c"
   },
   "outputs": [
    {
     "data": {
      "text/plain": [
       "(300,)"
      ]
     },
     "execution_count": 15,
     "metadata": {
      "tags": []
     },
     "output_type": "execute_result"
    }
   ],
   "source": [
    "gensim_w2v['hello'].shape"
   ]
  },
  {
   "cell_type": "code",
   "execution_count": null,
   "metadata": {
    "colab": {
     "base_uri": "https://localhost:8080/",
     "height": 34
    },
    "colab_type": "code",
    "id": "qvtawqoeTVXR",
    "outputId": "b7725ed8-9322-470a-f090-6855c0832178"
   },
   "outputs": [
    {
     "data": {
      "text/plain": [
       "(300,)"
      ]
     },
     "execution_count": 16,
     "metadata": {
      "tags": []
     },
     "output_type": "execute_result"
    }
   ],
   "source": [
    "gensim_w2v[\"0\"].shape"
   ]
  },
  {
   "cell_type": "code",
   "execution_count": null,
   "metadata": {
    "colab": {
     "base_uri": "https://localhost:8080/",
     "height": 34
    },
    "colab_type": "code",
    "id": "Psoy24aiTVXd",
    "outputId": "0517c3dc-f137-4e72-bbda-1c347da3437a"
   },
   "outputs": [
    {
     "data": {
      "text/plain": [
       "numpy.ndarray"
      ]
     },
     "execution_count": 17,
     "metadata": {
      "tags": []
     },
     "output_type": "execute_result"
    }
   ],
   "source": [
    "type(gensim_w2v['0'])"
   ]
  },
  {
   "cell_type": "code",
   "execution_count": null,
   "metadata": {
    "colab": {
     "base_uri": "https://localhost:8080/",
     "height": 34
    },
    "colab_type": "code",
    "id": "uF-Wsk15TVXj",
    "outputId": "9575650d-f194-4af1-d7c6-eddc27189b07"
   },
   "outputs": [
    {
     "data": {
      "text/plain": [
       "3000000"
      ]
     },
     "execution_count": 46,
     "metadata": {
      "tags": []
     },
     "output_type": "execute_result"
    }
   ],
   "source": [
    "# 3000000 words\n",
    "len(gensim_w2v.vocab)"
   ]
  },
  {
   "cell_type": "code",
   "execution_count": null,
   "metadata": {
    "colab": {},
    "colab_type": "code",
    "id": "jwM3gaGRTVXl"
   },
   "outputs": [],
   "source": [
    "embedding_dim = gensim_w2v[\"0\"].shape[0]\n",
    "\n",
    "# Cuts off reviews after 500 words\n",
    "maxlen = 500\n",
    "\n",
    "# Considers only the top \n",
    "# 10,000 words in the dataset\n",
    "max_words = 10000\n",
    "\n",
    "embedding_matrix = np.zeros((max_words, embedding_dim))\n",
    "\n",
    "for word, i in word_index.items():\n",
    "    if i < max_words:\n",
    "#         ipdb.set_trace()\n",
    "        if word not in gensim_w2v.vocab:\n",
    "            pass;\n",
    "        else :\n",
    "            embedding_vector = gensim_w2v[word]\n",
    "        # cheking that th eword exist in the embedding dictionary\n",
    "        if embedding_vector is not None: \n",
    "            embedding_matrix[i] = embedding_vector"
   ]
  },
  {
   "cell_type": "code",
   "execution_count": null,
   "metadata": {
    "colab": {
     "base_uri": "https://localhost:8080/",
     "height": 1083
    },
    "colab_type": "code",
    "id": "9jnU0aCSTVXo",
    "outputId": "33a4f54c-95e6-4945-f9ff-fcd26106f10e"
   },
   "outputs": [
    {
     "data": {
      "text/plain": [
       "array([-0.05053711,  0.22070312,  0.09814453,  0.3125    ,  0.08496094,\n",
       "        0.07177734, -0.1953125 , -0.17871094,  0.00775146,  0.08984375,\n",
       "       -0.37695312, -0.28710938, -0.23925781, -0.03930664,  0.06835938,\n",
       "        0.20898438, -0.23242188,  0.13183594,  0.18457031, -0.0201416 ,\n",
       "       -0.07080078, -0.34960938,  0.38085938, -0.05615234, -0.46875   ,\n",
       "        0.21777344, -0.25585938,  0.34375   , -0.01123047, -0.01153564,\n",
       "        0.14746094,  0.15625   , -0.05859375, -0.27148438, -0.21875   ,\n",
       "        0.23535156,  0.046875  ,  0.10302734,  0.28515625,  0.20703125,\n",
       "       -0.02392578, -0.2578125 ,  0.18652344,  0.1484375 ,  0.09472656,\n",
       "        0.10009766,  0.28515625, -0.34179688, -0.09130859,  0.31054688,\n",
       "        0.20800781,  0.16015625,  0.11132812,  0.328125  , -0.01904297,\n",
       "       -0.02722168,  0.02319336, -0.02294922,  0.08642578, -0.07666016,\n",
       "       -0.09521484, -0.06738281, -0.06152344,  0.08154297, -0.04760742,\n",
       "       -0.140625  ,  0.01263428, -0.10302734,  0.10400391,  0.078125  ,\n",
       "        0.31445312,  0.32617188, -0.11230469, -0.09423828, -0.26171875,\n",
       "        0.05053711, -0.1171875 , -0.23632812,  0.06152344, -0.15429688,\n",
       "       -0.11328125,  0.26171875, -0.04711914, -0.31054688,  0.38671875,\n",
       "        0.13476562,  0.17578125,  0.08496094,  0.0612793 , -0.06738281,\n",
       "       -0.19140625,  0.22363281, -0.34765625, -0.00439453, -0.17089844,\n",
       "        0.25195312, -0.04418945, -0.03588867,  0.24414062,  0.02441406,\n",
       "        0.02233887, -0.06835938,  0.14257812,  0.07714844, -0.06396484,\n",
       "        0.29882812, -0.15039062, -0.00753784,  0.07128906, -0.00610352,\n",
       "       -0.21777344, -0.203125  , -0.12304688, -0.28320312,  0.22363281,\n",
       "       -0.0378418 , -0.03173828, -0.18066406,  0.0859375 ,  0.09960938,\n",
       "       -0.21582031, -0.04760742, -0.15917969, -0.2265625 ,  0.33398438,\n",
       "       -0.01153564,  0.11865234,  0.08740234,  0.00372314, -0.27539062,\n",
       "       -0.11669922,  0.00891113,  0.03320312,  0.16796875,  0.01171875,\n",
       "        0.00334167, -0.2265625 , -0.1640625 ,  0.14550781, -0.08398438,\n",
       "        0.21875   , -0.18457031,  0.17675781, -0.05737305, -0.11035156,\n",
       "        0.02429199,  0.01782227, -0.00634766, -0.01519775, -0.20117188,\n",
       "        0.21484375, -0.18554688, -0.29492188, -0.09326172, -0.30273438,\n",
       "       -0.19042969,  0.12792969,  0.18945312, -0.32617188,  0.23339844,\n",
       "       -0.11230469,  0.15429688, -0.14941406,  0.04760742,  0.296875  ,\n",
       "       -0.44140625,  0.18261719, -0.15527344, -0.19238281,  0.16113281,\n",
       "       -0.4921875 , -0.18554688,  0.25      ,  0.15625   , -0.0703125 ,\n",
       "        0.14257812,  0.16894531, -0.15625   , -0.01245117, -0.3125    ,\n",
       "       -0.04956055, -0.02368164, -0.00830078, -0.05786133, -0.12011719,\n",
       "       -0.02685547, -0.11132812, -0.0625    ,  0.2421875 , -0.16015625,\n",
       "        0.30273438,  0.22558594, -0.08984375,  0.01745605,  0.23632812,\n",
       "        0.11083984, -0.21679688, -0.04418945, -0.06982422, -0.0246582 ,\n",
       "       -0.26367188, -0.09619141, -0.07519531, -0.17578125, -0.07666016,\n",
       "       -0.05493164,  0.15234375, -0.3203125 ,  0.11279297,  0.41796875,\n",
       "       -0.06030273,  0.08886719, -0.27929688, -0.27929688, -0.1328125 ,\n",
       "        0.30859375,  0.23925781, -0.03112793,  0.05004883, -0.15332031,\n",
       "       -0.08837891, -0.03466797,  0.11865234,  0.05371094,  0.05664062,\n",
       "       -0.15625   ,  0.06054688,  0.20703125, -0.22558594,  0.00164795,\n",
       "        0.00138855, -0.20019531,  0.14746094, -0.01818848, -0.1484375 ,\n",
       "        0.01916504,  0.38867188,  0.02539062,  0.20800781,  0.09375   ,\n",
       "        0.22753906,  0.08642578,  0.06298828, -0.10253906, -0.35351562,\n",
       "        0.24609375,  0.1015625 ,  0.30078125, -0.18457031, -0.17773438,\n",
       "        0.234375  ,  0.22949219, -0.03222656,  0.10253906,  0.15820312,\n",
       "       -0.18457031,  0.11181641, -0.00363159,  0.10400391,  0.1171875 ,\n",
       "        0.23144531,  0.1875    ,  0.31640625, -0.03955078,  0.19140625,\n",
       "        0.29101562,  0.04003906, -0.02770996,  0.26367188, -0.21484375,\n",
       "       -0.21191406, -0.04858398, -0.14941406,  0.05541992,  0.06835938,\n",
       "       -0.31054688, -0.04418945, -0.0189209 ,  0.03173828,  0.22949219,\n",
       "        0.03393555,  0.20507812,  0.13085938, -0.00346375, -0.15625   ,\n",
       "       -0.06176758, -0.12792969, -0.03857422,  0.078125  , -0.36328125,\n",
       "        0.26953125,  0.25195312, -0.08691406, -0.03588867,  0.02453613,\n",
       "       -0.08105469, -0.26171875, -0.05493164, -0.03515625,  0.04833984])"
      ]
     },
     "execution_count": 29,
     "metadata": {
      "tags": []
     },
     "output_type": "execute_result"
    }
   ],
   "source": [
    "embedding_matrix[-1]"
   ]
  },
  {
   "cell_type": "code",
   "execution_count": null,
   "metadata": {
    "colab": {
     "base_uri": "https://localhost:8080/",
     "height": 70
    },
    "colab_type": "code",
    "id": "rV45MCkPTVXx",
    "outputId": "689aa133-7263-4785-f72e-16253167d466"
   },
   "outputs": [
    {
     "name": "stdout",
     "output_type": "stream",
     "text": [
      "Max_words = 10000, \n",
      "Embedding_dim = 300 and \n",
      "Input_length = 500\n"
     ]
    }
   ],
   "source": [
    "print(f\"Max_words = {max_words}, \\nEmbedding_dim = {embedding_dim} and \\nInput_length = {maxlen}\")"
   ]
  },
  {
   "cell_type": "code",
   "execution_count": null,
   "metadata": {
    "colab": {
     "base_uri": "https://localhost:8080/",
     "height": 283
    },
    "colab_type": "code",
    "id": "7ezZLz2jTVXz",
    "outputId": "830df89d-3839-4db2-a2f3-6b2e0fd96e3f"
   },
   "outputs": [
    {
     "name": "stdout",
     "output_type": "stream",
     "text": [
      "_________________________________________________________________\n",
      "Layer (type)                 Output Shape              Param #   \n",
      "=================================================================\n",
      "embedding_2 (Embedding)      (None, 500, 300)          3000000   \n",
      "_________________________________________________________________\n",
      "flatten_1 (Flatten)          (None, 150000)            0         \n",
      "_________________________________________________________________\n",
      "dense_3 (Dense)              (None, 32)                4800032   \n",
      "_________________________________________________________________\n",
      "dense_4 (Dense)              (None, 1)                 33        \n",
      "=================================================================\n",
      "Total params: 7,800,065\n",
      "Trainable params: 4,800,065\n",
      "Non-trainable params: 3,000,000\n",
      "_________________________________________________________________\n"
     ]
    }
   ],
   "source": [
    "model = tf.keras.Sequential()\n",
    "model.add(tf.keras.layers.Embedding(max_words, embedding_dim, input_length=x_train.shape[1]))\n",
    "model.add(tf.keras.layers.Flatten())\n",
    "model.add(tf.keras.layers.Dense(32, activation='relu'))\n",
    "model.add(tf.keras.layers.Dense(1, activation='sigmoid'))\n",
    "\n",
    "model.layers[0].set_weights([embedding_matrix])\n",
    "#  freeze the Embedding layer\n",
    "# the pretrained parts shouldn’t\n",
    "# be updated during training, to avoid forgetting what they already know\n",
    "model.layers[0].trainable = False\n",
    "\n",
    "model.summary()"
   ]
  },
  {
   "cell_type": "code",
   "execution_count": null,
   "metadata": {
    "colab": {
     "base_uri": "https://localhost:8080/",
     "height": 427
    },
    "colab_type": "code",
    "id": "Vb75SA8rTVX4",
    "outputId": "77a27566-98fc-40e6-bf1d-7b0eab8ebd0d"
   },
   "outputs": [
    {
     "name": "stdout",
     "output_type": "stream",
     "text": [
      "Train on 20000 samples, validate on 5000 samples\n",
      "Epoch 1/10\n",
      "20000/20000 [==============================] - 4s 180us/sample - loss: 0.6863 - acc: 0.5440 - val_loss: 0.6784 - val_acc: 0.5732\n",
      "Epoch 2/10\n",
      "20000/20000 [==============================] - 3s 169us/sample - loss: 0.5831 - acc: 0.7141 - val_loss: 0.6615 - val_acc: 0.6112\n",
      "Epoch 3/10\n",
      "20000/20000 [==============================] - 3s 167us/sample - loss: 0.4269 - acc: 0.8393 - val_loss: 0.6932 - val_acc: 0.5948\n",
      "Epoch 4/10\n",
      "20000/20000 [==============================] - 3s 169us/sample - loss: 0.2907 - acc: 0.9136 - val_loss: 0.7246 - val_acc: 0.6112\n",
      "Epoch 5/10\n",
      "20000/20000 [==============================] - 3s 168us/sample - loss: 0.1903 - acc: 0.9569 - val_loss: 0.8111 - val_acc: 0.6058\n",
      "Epoch 6/10\n",
      "20000/20000 [==============================] - 3s 169us/sample - loss: 0.1198 - acc: 0.9808 - val_loss: 0.9110 - val_acc: 0.6060\n",
      "Epoch 7/10\n",
      "20000/20000 [==============================] - 3s 169us/sample - loss: 0.0724 - acc: 0.9937 - val_loss: 1.0009 - val_acc: 0.6098\n",
      "Epoch 8/10\n",
      "20000/20000 [==============================] - 3s 170us/sample - loss: 0.0420 - acc: 0.9977 - val_loss: 1.1490 - val_acc: 0.6052\n",
      "Epoch 9/10\n",
      "20000/20000 [==============================] - 3s 168us/sample - loss: 0.0228 - acc: 0.9996 - val_loss: 1.3365 - val_acc: 0.6050\n",
      "Epoch 10/10\n",
      "20000/20000 [==============================] - 3s 167us/sample - loss: 0.0118 - acc: 1.0000 - val_loss: 1.4827 - val_acc: 0.5998\n"
     ]
    },
    {
     "data": {
      "text/plain": [
       "<tensorflow.python.keras.callbacks.History at 0x7f75f2e7c128>"
      ]
     },
     "execution_count": 32,
     "metadata": {
      "tags": []
     },
     "output_type": "execute_result"
    }
   ],
   "source": [
    "model.compile(optimizer=tf.keras.optimizers.RMSprop(lr=1e-4),\n",
    "              loss='binary_crossentropy',\n",
    "              metrics=['acc'])\n",
    "\n",
    "model.fit(x_train_, y_train_,\n",
    "          epochs=10, batch_size=32,\n",
    "          validation_split=0.2)\n",
    "\n",
    "# model.save_weights('pre_trained_word2vec_model.h5')"
   ]
  },
  {
   "cell_type": "code",
   "execution_count": null,
   "metadata": {
    "colab": {
     "base_uri": "https://localhost:8080/",
     "height": 70
    },
    "colab_type": "code",
    "id": "zt5uYEsD432y",
    "outputId": "92ba174b-4cc2-4171-cad5-d69c5aa363ef"
   },
   "outputs": [
    {
     "name": "stdout",
     "output_type": "stream",
     "text": [
      "25000/25000 [==============================] - 1s 49us/sample - loss: 1.4474 - acc: 0.6026\n",
      "Metric  loss : 1.44742\n",
      "Metric  acc : 0.6026\n"
     ]
    }
   ],
   "source": [
    "result = model.evaluate(x_test_, y_test_)\n",
    "for i in range(len(model.metrics_names)):\n",
    "     print(\"Metric \",model.metrics_names[i],\":\", str(round(result[i],5)))"
   ]
  },
  {
   "cell_type": "code",
   "execution_count": null,
   "metadata": {
    "colab": {
     "base_uri": "https://localhost:8080/",
     "height": 563
    },
    "colab_type": "code",
    "id": "i4jyDmT9TVX6",
    "outputId": "c656ce75-ac02-4be5-af6d-14d98b099330"
   },
   "outputs": [
    {
     "data": {
      "image/png": "[encoded data removed]",
      "text/plain": [
       "<Figure size 432x288 with 1 Axes>"
      ]
     },
     "metadata": {
      "tags": []
     },
     "output_type": "display_data"
    },
    {
     "data": {
      "text/plain": [
       "<matplotlib.legend.Legend at 0x7f743d6dccc0>"
      ]
     },
     "execution_count": 34,
     "metadata": {
      "tags": []
     },
     "output_type": "execute_result"
    },
    {
     "data": {
      "image/png": "[encoded data removed]",
      "text/plain": [
       "<Figure size 432x288 with 1 Axes>"
      ]
     },
     "metadata": {
      "tags": []
     },
     "output_type": "display_data"
    }
   ],
   "source": [
    "acc = model.history.history['acc']\n",
    "val_acc = model.history.history['val_acc']\n",
    "loss = model.history.history['loss']\n",
    "val_loss = model.history.history['val_loss']\n",
    "\n",
    "epochs = range(1, len(acc) + 1)\n",
    "\n",
    "plt.figure()\n",
    "# plt.figure(figsize=(9,8))\n",
    "plt.plot(epochs, loss, label='Training loss')\n",
    "plt.plot(epochs, val_loss, label='Validation loss')\n",
    "plt.title('Training and validation loss')\n",
    "plt.legend()\n",
    "plt.show()\n",
    "\n",
    "\n",
    "plt.figure()\n",
    "plt.plot(epochs, acc, label='Training acc')\n",
    "plt.plot(epochs, val_acc, label='Validation acc')\n",
    "plt.title('Training and validation accuracy')\n",
    "plt.legend()"
   ]
  },
  {
   "cell_type": "markdown",
   "metadata": {
    "colab_type": "text",
    "id": "gEJQnaHFxXrm"
   },
   "source": [
    "#### 1D convnt"
   ]
  },
  {
   "cell_type": "code",
   "execution_count": null,
   "metadata": {
    "colab": {
     "base_uri": "https://localhost:8080/",
     "height": 354
    },
    "colab_type": "code",
    "id": "ofrpxtHGxXrp",
    "outputId": "71e38a8b-fdde-4aba-d6f1-1f7f58e9b5f6"
   },
   "outputs": [
    {
     "name": "stdout",
     "output_type": "stream",
     "text": [
      "_________________________________________________________________\n",
      "Layer (type)                 Output Shape              Param #   \n",
      "=================================================================\n",
      "embedding_3 (Embedding)      (None, 500, 300)          3000000   \n",
      "_________________________________________________________________\n",
      "conv1d_2 (Conv1D)            (None, 494, 32)           67232     \n",
      "_________________________________________________________________\n",
      "max_pooling1d_1 (MaxPooling1 (None, 98, 32)            0         \n",
      "_________________________________________________________________\n",
      "conv1d_3 (Conv1D)            (None, 92, 32)            7200      \n",
      "_________________________________________________________________\n",
      "global_max_pooling1d_1 (Glob (None, 32)                0         \n",
      "_________________________________________________________________\n",
      "dense_5 (Dense)              (None, 1)                 33        \n",
      "=================================================================\n",
      "Total params: 3,074,465\n",
      "Trainable params: 74,465\n",
      "Non-trainable params: 3,000,000\n",
      "_________________________________________________________________\n"
     ]
    }
   ],
   "source": [
    "model = tf.keras.Sequential()\n",
    "model.add(tf.keras.layers.Embedding(max_words, embedding_dim, input_length=x_train.shape[1]))\n",
    "model.add(tf.keras.layers.Conv1D(32, 7, \n",
    "                                 activation='relu'))\n",
    "model.add(tf.keras.layers.MaxPooling1D(5))\n",
    "model.add(tf.keras.layers.Conv1D(32, 7, \n",
    "                                 activation='relu'))\n",
    "model.add(tf.keras.layers.GlobalMaxPooling1D())\n",
    "model.add(tf.keras.layers.Dense(1))\n",
    "\n",
    "model.layers[0].set_weights([embedding_matrix])\n",
    "#  freeze the Embedding layer\n",
    "# the pretrained parts shouldn’t\n",
    "# be updated during training, to avoid forgetting what they already know\n",
    "model.layers[0].trainable = False\n",
    "\n",
    "model.summary()"
   ]
  },
  {
   "cell_type": "code",
   "execution_count": null,
   "metadata": {
    "colab": {
     "base_uri": "https://localhost:8080/",
     "height": 427
    },
    "colab_type": "code",
    "id": "ON_fHIcBxXrz",
    "outputId": "1414f2bc-19c9-49cd-b58c-88f492b5589e"
   },
   "outputs": [
    {
     "name": "stdout",
     "output_type": "stream",
     "text": [
      "Train on 20000 samples, validate on 5000 samples\n",
      "Epoch 1/10\n",
      "20000/20000 [==============================] - 3s 172us/sample - loss: 0.6964 - acc: 0.5336 - val_loss: 0.6790 - val_acc: 0.5654\n",
      "Epoch 2/10\n",
      "20000/20000 [==============================] - 3s 153us/sample - loss: 0.6371 - acc: 0.6429 - val_loss: 0.6665 - val_acc: 0.5854\n",
      "Epoch 3/10\n",
      "20000/20000 [==============================] - 3s 152us/sample - loss: 0.5895 - acc: 0.7046 - val_loss: 0.6472 - val_acc: 0.6268\n",
      "Epoch 4/10\n",
      "20000/20000 [==============================] - 3s 153us/sample - loss: 0.5455 - acc: 0.7461 - val_loss: 0.6346 - val_acc: 0.6496\n",
      "Epoch 5/10\n",
      "20000/20000 [==============================] - 3s 154us/sample - loss: 0.5040 - acc: 0.7774 - val_loss: 0.6394 - val_acc: 0.6646\n",
      "Epoch 6/10\n",
      "20000/20000 [==============================] - 3s 153us/sample - loss: 0.4654 - acc: 0.8026 - val_loss: 0.6340 - val_acc: 0.6784\n",
      "Epoch 7/10\n",
      "20000/20000 [==============================] - 3s 153us/sample - loss: 0.4327 - acc: 0.8179 - val_loss: 0.6689 - val_acc: 0.6746\n",
      "Epoch 8/10\n",
      "20000/20000 [==============================] - 3s 154us/sample - loss: 0.3983 - acc: 0.8381 - val_loss: 0.6542 - val_acc: 0.6946\n",
      "Epoch 9/10\n",
      "20000/20000 [==============================] - 3s 153us/sample - loss: 0.3700 - acc: 0.8528 - val_loss: 0.9891 - val_acc: 0.6446\n",
      "Epoch 10/10\n",
      "20000/20000 [==============================] - 3s 154us/sample - loss: 0.3470 - acc: 0.8661 - val_loss: 0.7421 - val_acc: 0.6942\n"
     ]
    },
    {
     "data": {
      "text/plain": [
       "<tensorflow.python.keras.callbacks.History at 0x7f743d4acdd8>"
      ]
     },
     "execution_count": 36,
     "metadata": {
      "tags": []
     },
     "output_type": "execute_result"
    }
   ],
   "source": [
    "model.compile(optimizer=tf.keras.optimizers.RMSprop(lr=1e-4),\n",
    "              loss='binary_crossentropy',\n",
    "              metrics=['acc'])\n",
    "\n",
    "model.fit(x_train_, y_train_,\n",
    "          epochs=10, batch_size=32,\n",
    "          validation_split=0.2)\n",
    "#                     validation_data=(x_val, y_val))\n",
    "\n",
    "# model.save_weights('pre_trained_word2vec_model.h5')"
   ]
  },
  {
   "cell_type": "code",
   "execution_count": null,
   "metadata": {
    "colab": {
     "base_uri": "https://localhost:8080/",
     "height": 70
    },
    "colab_type": "code",
    "id": "Q-0GpovLxXr5",
    "outputId": "6d83d2cb-625d-4f6c-f027-b11a5b3f6fd8"
   },
   "outputs": [
    {
     "name": "stdout",
     "output_type": "stream",
     "text": [
      "25000/25000 [==============================] - 2s 71us/sample - loss: 0.7260 - acc: 0.6935\n",
      "Metric  loss : 0.72603\n",
      "Metric  acc : 0.69348\n"
     ]
    }
   ],
   "source": [
    "result = model.evaluate(x_test_, y_test_)\n",
    "for i in range(len(model.metrics_names)):\n",
    "     print(\"Metric \",model.metrics_names[i],\":\", str(round(result[i],5)))"
   ]
  },
  {
   "cell_type": "code",
   "execution_count": null,
   "metadata": {
    "colab": {
     "base_uri": "https://localhost:8080/",
     "height": 563
    },
    "colab_type": "code",
    "id": "D5K8EDPkxXr9",
    "outputId": "9159e559-4a61-48f4-e983-22cfeaa9779c"
   },
   "outputs": [
    {
     "data": {
      "image/png": "[encoded data removed]",
      "text/plain": [
       "<Figure size 432x288 with 1 Axes>"
      ]
     },
     "metadata": {
      "tags": []
     },
     "output_type": "display_data"
    },
    {
     "data": {
      "text/plain": [
       "<matplotlib.legend.Legend at 0x7f743d09a128>"
      ]
     },
     "execution_count": 38,
     "metadata": {
      "tags": []
     },
     "output_type": "execute_result"
    },
    {
     "data": {
      "image/png": "[encoded data removed]",
      "text/plain": [
       "<Figure size 432x288 with 1 Axes>"
      ]
     },
     "metadata": {
      "tags": []
     },
     "output_type": "display_data"
    }
   ],
   "source": [
    "acc = model.history.history['acc']\n",
    "val_acc = model.history.history['val_acc']\n",
    "loss = model.history.history['loss']\n",
    "val_loss = model.history.history['val_loss']\n",
    "\n",
    "epochs = range(1, len(acc) + 1)\n",
    "\n",
    "plt.figure()\n",
    "# plt.figure(figsize=(9,8))\n",
    "plt.plot(epochs, loss, 'bo', label='Training loss')\n",
    "plt.plot(epochs, val_loss, 'b', label='Validation loss')\n",
    "plt.title('Training and validation loss')\n",
    "plt.legend()\n",
    "plt.show()\n",
    "\n",
    "\n",
    "plt.figure()\n",
    "plt.plot(epochs, acc, 'bo', label='Training acc')\n",
    "plt.plot(epochs, val_acc, 'b', label='Validation acc')\n",
    "plt.title('Training and validation accuracy')\n",
    "plt.legend()"
   ]
  },
  {
   "cell_type": "markdown",
   "metadata": {
    "colab_type": "text",
    "id": "QwOnzL6ZXL21"
   },
   "source": [
    "### FASTTEXT"
   ]
  },
  {
   "cell_type": "markdown",
   "metadata": {
    "colab_type": "text",
    "id": "3h1eC7Fcebra"
   },
   "source": [
    "https://fasttext.cc/docs/en/english-vectors.html"
   ]
  },
  {
   "cell_type": "code",
   "execution_count": null,
   "metadata": {
    "colab": {
     "base_uri": "https://localhost:8080/",
     "height": 34
    },
    "colab_type": "code",
    "id": "bvBjoJOBXjBH",
    "outputId": "7132fe5f-457c-4281-d64b-8683cee55925"
   },
   "outputs": [
    {
     "name": "stdout",
     "output_type": "stream",
     "text": [
      "1jkJmSpRVZr_V2vGGkLmoEio6eY2Q2el-\n"
     ]
    }
   ],
   "source": [
    "# crawl-300d-2M.vec.zip: 2 million word vectors trained on Common Crawl (600B tokens).\n",
    "\n",
    "link = \"https://drive.google.com/file/d/1jkJmSpRVZr_V2vGGkLmoEio6eY2Q2el-/view?usp=sharing\"\n",
    "\n",
    "_, id_t = link.split('d/')\n",
    "\n",
    "\n",
    "id = id_t.split('/')[0]\n",
    "print (id) # Verify that you have everything after '='\n",
    "\n",
    "# Install the PyDrive wrapper & import libraries.\n",
    "# This only needs to be done once per notebook.\n",
    "!pip install -U -q PyDrive\n",
    "from pydrive.auth import GoogleAuth\n",
    "from pydrive.drive import GoogleDrive\n",
    "from google.colab import auth\n",
    "from oauth2client.client import GoogleCredentials\n",
    "\n",
    "# Authenticate and create the PyDrive client.\n",
    "# This only needs to be done once per notebook.\n",
    "auth.authenticate_user()\n",
    "gauth = GoogleAuth()\n",
    "gauth.credentials = GoogleCredentials.get_application_default()\n",
    "drive = GoogleDrive(gauth)\n",
    "\n",
    "file_id = id\n",
    "downloaded = drive.CreateFile({'id':file_id})\n",
    "downloaded.FetchMetadata(fetch_all=True)\n",
    "downloaded.GetContentFile(downloaded.metadata['title'])"
   ]
  },
  {
   "cell_type": "code",
   "execution_count": null,
   "metadata": {
    "colab": {
     "base_uri": "https://localhost:8080/",
     "height": 70
    },
    "colab_type": "code",
    "id": "UhPZ44lRXjBS",
    "outputId": "8cb5ee4c-c534-4b72-f7f8-532557a056cd"
   },
   "outputs": [
    {
     "name": "stdout",
     "output_type": "stream",
     "text": [
      "aclImdb      crawl-300d-2M.vec.zip  GoogleNews-vectors-negative300.bin\n",
      "aclImdb.zip  glove.840B.300d.txt    __MACOSX\n",
      "adc.json     glove.840B.300d.zip    sample_data\n"
     ]
    }
   ],
   "source": [
    "!ls"
   ]
  },
  {
   "cell_type": "code",
   "execution_count": null,
   "metadata": {
    "colab": {
     "base_uri": "https://localhost:8080/",
     "height": 52
    },
    "colab_type": "code",
    "id": "yAITkNKuXjBW",
    "outputId": "b276f1f8-27f2-47e7-dc07-dda2574f5cc2"
   },
   "outputs": [
    {
     "name": "stdout",
     "output_type": "stream",
     "text": [
      "Archive:  crawl-300d-2M.vec.zip\n",
      "  inflating: crawl-300d-2M.vec       \n"
     ]
    }
   ],
   "source": [
    "!unzip crawl-300d-2M.vec.zip"
   ]
  },
  {
   "cell_type": "code",
   "execution_count": null,
   "metadata": {
    "colab": {},
    "colab_type": "code",
    "id": "wHJea3zDeEjd"
   },
   "outputs": [],
   "source": [
    "!rm crawl-300d-2M.vec.zip"
   ]
  },
  {
   "cell_type": "code",
   "execution_count": null,
   "metadata": {
    "colab": {
     "base_uri": "https://localhost:8080/",
     "height": 87
    },
    "colab_type": "code",
    "id": "PvH2HgQ9XjBX",
    "outputId": "67e95343-70d9-44df-fc8b-a80a24fdafde"
   },
   "outputs": [
    {
     "name": "stdout",
     "output_type": "stream",
     "text": [
      "aclImdb\t\t   crawl-300d-2M.vec.zip\t       __MACOSX\n",
      "aclImdb.zip\t   glove.840B.300d.txt\t\t       sample_data\n",
      "adc.json\t   glove.840B.300d.zip\n",
      "crawl-300d-2M.vec  GoogleNews-vectors-negative300.bin\n"
     ]
    }
   ],
   "source": [
    "!ls"
   ]
  },
  {
   "cell_type": "code",
   "execution_count": null,
   "metadata": {
    "colab": {},
    "colab_type": "code",
    "id": "ZACSz5CyXWEL"
   },
   "outputs": [],
   "source": [
    "gensim_fasttext = KeyedVectors.load_word2vec_format('./crawl-300d-2M.vec')"
   ]
  },
  {
   "cell_type": "code",
   "execution_count": null,
   "metadata": {
    "colab": {
     "base_uri": "https://localhost:8080/",
     "height": 1101
    },
    "colab_type": "code",
    "id": "Vf__oF4xgxd3",
    "outputId": "c4980cd0-3244-48e1-c95e-19ae0d3760d8"
   },
   "outputs": [
    {
     "data": {
      "text/plain": [
       "array([-1.081e-01,  1.910e-02,  3.540e-02,  1.270e-02,  6.640e-02,\n",
       "       -1.260e-02, -1.882e-01,  6.310e-02, -2.306e-01,  9.500e-03,\n",
       "        9.170e-02,  1.513e-01,  5.580e-02, -6.430e-02, -2.880e-02,\n",
       "       -4.470e-02,  1.603e-01,  6.130e-02,  3.490e-02, -5.780e-02,\n",
       "        3.000e-04, -1.399e-01,  1.630e-02, -4.190e-02, -4.870e-02,\n",
       "        5.700e-03,  1.700e-03, -2.680e-02, -1.700e-02,  1.045e-01,\n",
       "        8.150e-02, -6.000e-03,  6.350e-02, -1.710e-01,  2.760e-02,\n",
       "       -2.300e-02,  8.240e-02,  3.040e-02, -1.595e-01,  8.510e-02,\n",
       "       -5.560e-02,  3.290e-02, -9.210e-02,  1.960e-02, -4.040e-02,\n",
       "        3.610e-02, -8.430e-02,  1.014e-01, -3.930e-02, -1.805e-01,\n",
       "       -7.300e-03,  2.247e-01, -6.210e-02, -5.750e-02, -3.160e-02,\n",
       "        1.980e-02,  6.020e-02,  1.312e-01, -1.278e-01,  1.770e-02,\n",
       "       -6.000e-02, -2.904e-01, -4.650e-02, -1.078e-01, -7.010e-02,\n",
       "       -4.970e-02, -1.102e-01,  1.560e-02, -5.950e-02,  7.620e-02,\n",
       "        2.638e-01,  3.530e-02,  7.450e-02,  3.610e-02, -5.610e-02,\n",
       "       -1.179e-01, -4.751e-01,  4.580e-02, -6.720e-02, -2.200e-03,\n",
       "        9.264e-01,  1.010e-02, -1.085e-01,  6.690e-02, -4.170e-02,\n",
       "       -4.280e-02,  3.910e-02, -5.810e-02,  1.070e-02, -8.730e-02,\n",
       "       -1.600e-03,  5.711e-01,  3.450e-02,  9.300e-02, -6.470e-02,\n",
       "       -8.200e-02,  5.870e-02, -1.307e-01,  4.800e-02,  2.260e-02,\n",
       "        1.150e-02,  2.960e-02, -1.675e-01,  3.990e-02,  2.511e-01,\n",
       "        4.230e-02,  1.299e-01, -3.360e-02, -9.770e-02,  1.460e-02,\n",
       "        3.527e-01,  1.220e-02,  1.031e-01, -6.570e-02, -3.704e-01,\n",
       "        4.450e-02,  1.242e-01, -3.100e-03,  2.550e-02, -1.090e-02,\n",
       "        1.575e-01,  2.880e-02,  2.549e-01, -2.800e-02,  4.620e-02,\n",
       "       -2.820e-02, -1.540e-02,  4.050e-02,  3.191e-01,  1.130e-02,\n",
       "       -1.360e-02,  1.820e-02, -3.850e-02, -4.990e-02, -8.100e-02,\n",
       "       -1.340e-02, -1.413e-01,  5.660e-02, -4.230e-02, -6.090e-02,\n",
       "        1.063e-01,  3.860e-02, -3.750e-02,  2.714e-01, -6.650e-02,\n",
       "       -2.190e-02,  5.790e-02,  5.500e-02,  7.720e-02,  2.024e-01,\n",
       "       -3.650e-02, -7.640e-02,  3.180e-02,  4.000e-04, -4.240e-02,\n",
       "       -5.790e-02,  4.280e-02,  2.110e-02, -6.100e-03,  2.430e-02,\n",
       "        5.702e-01,  7.980e-02, -5.020e-02, -1.950e-02,  2.420e-02,\n",
       "       -3.390e-02, -4.410e-02, -1.095e-01,  4.260e-02, -2.340e-02,\n",
       "       -5.700e-03, -2.090e-02, -9.030e-02, -6.540e-02,  1.559e-01,\n",
       "        5.100e-03,  3.700e-03, -8.000e-04, -5.000e-03,  5.080e-02,\n",
       "        1.050e-02,  2.510e-02,  2.700e-02,  3.900e-03,  6.210e-02,\n",
       "        5.190e-02, -1.560e-02, -1.285e-01, -5.640e-02, -2.630e-02,\n",
       "        4.010e-02,  3.720e-02, -1.040e-01, -6.740e-02,  8.660e-02,\n",
       "       -3.300e-03, -7.600e-03,  6.400e-03, -1.140e-02, -2.390e-02,\n",
       "        1.350e-02,  8.010e-02,  1.710e-02,  4.250e-02, -4.990e-02,\n",
       "        6.150e-02,  3.550e-02, -8.330e-02,  3.780e-02,  2.880e-02,\n",
       "       -3.920e-02,  5.679e-01, -1.200e-02,  6.990e-02, -8.930e-02,\n",
       "       -1.050e-02,  2.190e-02, -1.360e-02,  1.063e-01, -1.400e-03,\n",
       "       -6.200e-03, -6.170e-02,  3.570e-02,  3.000e-03, -4.140e-02,\n",
       "       -6.340e-02,  7.010e-02,  5.010e-02,  2.410e-02,  3.790e-02,\n",
       "       -2.340e-02, -1.160e-02,  3.910e-02, -1.690e-02, -1.900e-03,\n",
       "        7.310e-02,  5.970e-02,  1.910e-02, -2.620e-02, -2.560e-02,\n",
       "        6.310e-02, -2.610e-02,  1.850e-02,  1.000e-02,  1.126e-01,\n",
       "       -4.870e-02,  1.545e-01,  4.380e-02,  1.470e-02, -2.780e-02,\n",
       "       -4.930e-02, -8.660e-02, -2.810e-02, -9.550e-02,  8.790e-02,\n",
       "        1.940e-02, -3.230e-02, -1.260e-02, -8.100e-02,  8.800e-03,\n",
       "        2.000e-04,  5.900e-03,  8.580e-02,  2.400e-03,  4.010e-02,\n",
       "       -2.050e-02,  3.040e-02,  6.780e-02,  5.660e-02,  9.700e-03,\n",
       "        3.900e-03, -9.680e-02,  7.900e-03, -3.838e-01, -6.420e-02,\n",
       "       -4.170e-02, -6.660e-02,  3.370e-02,  5.300e-03, -2.630e-02,\n",
       "       -3.100e-02,  2.002e-01, -9.600e-03,  7.960e-02,  7.430e-02,\n",
       "        7.090e-02, -7.700e-03, -1.690e-02, -8.300e-03, -3.220e-02,\n",
       "        6.080e-02,  2.270e-02, -3.060e-02,  3.945e-01,  2.000e-02,\n",
       "       -6.130e-02, -6.110e-02,  1.104e-01,  4.750e-02, -5.990e-02],\n",
       "      dtype=float32)"
      ]
     },
     "execution_count": 18,
     "metadata": {
      "tags": []
     },
     "output_type": "execute_result"
    }
   ],
   "source": [
    "gensim_fasttext['and']"
   ]
  },
  {
   "cell_type": "code",
   "execution_count": null,
   "metadata": {
    "colab": {
     "base_uri": "https://localhost:8080/",
     "height": 541
    },
    "colab_type": "code",
    "id": "pe5LkYQYXVwz",
    "outputId": "9b70b1d2-c6b2-49d2-e31a-137ff21e276f"
   },
   "outputs": [
    {
     "ename": "KeyError",
     "evalue": "ignored",
     "output_type": "error",
     "traceback": [
      "\u001b[0;31m---------------------------------------------------------------------------\u001b[0m",
      "\u001b[0;31mKeyError\u001b[0m                                  Traceback (most recent call last)",
      "\u001b[0;32m<ipython-input-19-972abf9324d3>\u001b[0m in \u001b[0;36m<module>\u001b[0;34m()\u001b[0m\n\u001b[0;32m----> 1\u001b[0;31m \u001b[0mgensim_fasttext\u001b[0m\u001b[0;34m[\u001b[0m\u001b[0;34m'hsyo'\u001b[0m\u001b[0;34m]\u001b[0m\u001b[0;34m\u001b[0m\u001b[0;34m\u001b[0m\u001b[0m\n\u001b[0m",
      "\u001b[0;32m/usr/local/lib/python3.6/dist-packages/gensim/models/keyedvectors.py\u001b[0m in \u001b[0;36m__getitem__\u001b[0;34m(self, entities)\u001b[0m\n\u001b[1;32m    335\u001b[0m         \u001b[0;32mif\u001b[0m \u001b[0misinstance\u001b[0m\u001b[0;34m(\u001b[0m\u001b[0mentities\u001b[0m\u001b[0;34m,\u001b[0m \u001b[0mstring_types\u001b[0m\u001b[0;34m)\u001b[0m\u001b[0;34m:\u001b[0m\u001b[0;34m\u001b[0m\u001b[0;34m\u001b[0m\u001b[0m\n\u001b[1;32m    336\u001b[0m             \u001b[0;31m# allow calls like trained_model['office'], as a shorthand for trained_model[['office']]\u001b[0m\u001b[0;34m\u001b[0m\u001b[0;34m\u001b[0m\u001b[0;34m\u001b[0m\u001b[0m\n\u001b[0;32m--> 337\u001b[0;31m             \u001b[0;32mreturn\u001b[0m \u001b[0mself\u001b[0m\u001b[0;34m.\u001b[0m\u001b[0mget_vector\u001b[0m\u001b[0;34m(\u001b[0m\u001b[0mentities\u001b[0m\u001b[0;34m)\u001b[0m\u001b[0;34m\u001b[0m\u001b[0;34m\u001b[0m\u001b[0m\n\u001b[0m\u001b[1;32m    338\u001b[0m \u001b[0;34m\u001b[0m\u001b[0m\n\u001b[1;32m    339\u001b[0m         \u001b[0;32mreturn\u001b[0m \u001b[0mvstack\u001b[0m\u001b[0;34m(\u001b[0m\u001b[0;34m[\u001b[0m\u001b[0mself\u001b[0m\u001b[0;34m.\u001b[0m\u001b[0mget_vector\u001b[0m\u001b[0;34m(\u001b[0m\u001b[0mentity\u001b[0m\u001b[0;34m)\u001b[0m \u001b[0;32mfor\u001b[0m \u001b[0mentity\u001b[0m \u001b[0;32min\u001b[0m \u001b[0mentities\u001b[0m\u001b[0;34m]\u001b[0m\u001b[0;34m)\u001b[0m\u001b[0;34m\u001b[0m\u001b[0;34m\u001b[0m\u001b[0m\n",
      "\u001b[0;32m/usr/local/lib/python3.6/dist-packages/gensim/models/keyedvectors.py\u001b[0m in \u001b[0;36mget_vector\u001b[0;34m(self, word)\u001b[0m\n\u001b[1;32m    453\u001b[0m \u001b[0;34m\u001b[0m\u001b[0m\n\u001b[1;32m    454\u001b[0m     \u001b[0;32mdef\u001b[0m \u001b[0mget_vector\u001b[0m\u001b[0;34m(\u001b[0m\u001b[0mself\u001b[0m\u001b[0;34m,\u001b[0m \u001b[0mword\u001b[0m\u001b[0;34m)\u001b[0m\u001b[0;34m:\u001b[0m\u001b[0;34m\u001b[0m\u001b[0;34m\u001b[0m\u001b[0m\n\u001b[0;32m--> 455\u001b[0;31m         \u001b[0;32mreturn\u001b[0m \u001b[0mself\u001b[0m\u001b[0;34m.\u001b[0m\u001b[0mword_vec\u001b[0m\u001b[0;34m(\u001b[0m\u001b[0mword\u001b[0m\u001b[0;34m)\u001b[0m\u001b[0;34m\u001b[0m\u001b[0;34m\u001b[0m\u001b[0m\n\u001b[0m\u001b[1;32m    456\u001b[0m \u001b[0;34m\u001b[0m\u001b[0m\n\u001b[1;32m    457\u001b[0m     \u001b[0;32mdef\u001b[0m \u001b[0mwords_closer_than\u001b[0m\u001b[0;34m(\u001b[0m\u001b[0mself\u001b[0m\u001b[0;34m,\u001b[0m \u001b[0mw1\u001b[0m\u001b[0;34m,\u001b[0m \u001b[0mw2\u001b[0m\u001b[0;34m)\u001b[0m\u001b[0;34m:\u001b[0m\u001b[0;34m\u001b[0m\u001b[0;34m\u001b[0m\u001b[0m\n",
      "\u001b[0;32m/usr/local/lib/python3.6/dist-packages/gensim/models/keyedvectors.py\u001b[0m in \u001b[0;36mword_vec\u001b[0;34m(self, word, use_norm)\u001b[0m\n\u001b[1;32m    450\u001b[0m             \u001b[0;32mreturn\u001b[0m \u001b[0mresult\u001b[0m\u001b[0;34m\u001b[0m\u001b[0;34m\u001b[0m\u001b[0m\n\u001b[1;32m    451\u001b[0m         \u001b[0;32melse\u001b[0m\u001b[0;34m:\u001b[0m\u001b[0;34m\u001b[0m\u001b[0;34m\u001b[0m\u001b[0m\n\u001b[0;32m--> 452\u001b[0;31m             \u001b[0;32mraise\u001b[0m \u001b[0mKeyError\u001b[0m\u001b[0;34m(\u001b[0m\u001b[0;34m\"word '%s' not in vocabulary\"\u001b[0m \u001b[0;34m%\u001b[0m \u001b[0mword\u001b[0m\u001b[0;34m)\u001b[0m\u001b[0;34m\u001b[0m\u001b[0;34m\u001b[0m\u001b[0m\n\u001b[0m\u001b[1;32m    453\u001b[0m \u001b[0;34m\u001b[0m\u001b[0m\n\u001b[1;32m    454\u001b[0m     \u001b[0;32mdef\u001b[0m \u001b[0mget_vector\u001b[0m\u001b[0;34m(\u001b[0m\u001b[0mself\u001b[0m\u001b[0;34m,\u001b[0m \u001b[0mword\u001b[0m\u001b[0;34m)\u001b[0m\u001b[0;34m:\u001b[0m\u001b[0;34m\u001b[0m\u001b[0;34m\u001b[0m\u001b[0m\n",
      "\u001b[0;31mKeyError\u001b[0m: \"word 'hsyo' not in vocabulary\""
     ]
    }
   ],
   "source": [
    "gensim_fasttext['hsyo']"
   ]
  },
  {
   "cell_type": "markdown",
   "metadata": {
    "colab_type": "text",
    "id": "2vBOSxbb7xGS"
   },
   "source": [
    "This king of error occuer when we try to get a word that is not in the disctionarry "
   ]
  },
  {
   "cell_type": "code",
   "execution_count": null,
   "metadata": {
    "colab": {
     "base_uri": "https://localhost:8080/",
     "height": 34
    },
    "colab_type": "code",
    "id": "e6mctibSfKXX",
    "outputId": "24709c8a-4afd-489a-f705-7dc7c031143d"
   },
   "outputs": [
    {
     "data": {
      "text/plain": [
       "(300,)"
      ]
     },
     "execution_count": 30,
     "metadata": {
      "tags": []
     },
     "output_type": "execute_result"
    }
   ],
   "source": [
    "gensim_fasttext['hello'].shape"
   ]
  },
  {
   "cell_type": "code",
   "execution_count": null,
   "metadata": {
    "colab": {
     "base_uri": "https://localhost:8080/",
     "height": 34
    },
    "colab_type": "code",
    "id": "cddsZcYCfKXj",
    "outputId": "c2219ea7-2dc2-4c19-d351-e6534909040f"
   },
   "outputs": [
    {
     "data": {
      "text/plain": [
       "numpy.ndarray"
      ]
     },
     "execution_count": 32,
     "metadata": {
      "tags": []
     },
     "output_type": "execute_result"
    }
   ],
   "source": [
    "type(gensim_fasttext['0'])"
   ]
  },
  {
   "cell_type": "code",
   "execution_count": null,
   "metadata": {
    "colab": {
     "base_uri": "https://localhost:8080/",
     "height": 34
    },
    "colab_type": "code",
    "id": "tq2b8EvwfKXp",
    "outputId": "a96312a7-0782-4e1f-e0db-24abc21fda9b"
   },
   "outputs": [
    {
     "data": {
      "text/plain": [
       "1999995"
      ]
     },
     "execution_count": 33,
     "metadata": {
      "tags": []
     },
     "output_type": "execute_result"
    }
   ],
   "source": [
    "# 2000000 words\n",
    "len(gensim_fasttext.vocab)"
   ]
  },
  {
   "cell_type": "code",
   "execution_count": null,
   "metadata": {
    "colab": {},
    "colab_type": "code",
    "id": "RV9-4hajfKX0"
   },
   "outputs": [],
   "source": [
    "embedding_dim = gensim_fasttext['hello'].shape[0]\n",
    "\n",
    "# Cuts off reviews after 100 words\n",
    "maxlen = 500\n",
    "\n",
    "# Considers only the top \n",
    "# 10,000 words in the dataset\n",
    "max_words = 10000\n",
    "\n",
    "embedding_matrix = np.zeros((max_words, embedding_dim))\n",
    "\n",
    "for word, i in word_index.items():\n",
    "    if i < max_words:\n",
    "#         ipdb.set_trace()\n",
    "        if word not in gensim_fasttext.vocab:\n",
    "            pass;\n",
    "        else :\n",
    "            embedding_vector = gensim_fasttext[word]\n",
    "        # cheking that th eword exist in the embedding dictionary\n",
    "        if embedding_vector is not None: \n",
    "            embedding_matrix[i] = embedding_vector"
   ]
  },
  {
   "cell_type": "code",
   "execution_count": null,
   "metadata": {
    "colab": {
     "base_uri": "https://localhost:8080/",
     "height": 1083
    },
    "colab_type": "code",
    "id": "AhH-WHvtfKX3",
    "outputId": "5d88a0aa-8e29-4f97-867a-4b97544d1f6b"
   },
   "outputs": [
    {
     "data": {
      "text/plain": [
       "array([ 0.145     , -0.38229999,  0.22849999, -0.43020001,  0.002     ,\n",
       "       -0.1035    ,  0.0786    , -0.0783    ,  0.25830001, -0.1183    ,\n",
       "       -0.0126    ,  0.57870001, -0.0334    ,  0.1903    , -0.0063    ,\n",
       "        0.21160001,  0.0955    , -0.58200002,  0.1857    , -0.56379998,\n",
       "       -0.1648    , -0.24869999,  0.2045    , -0.2617    , -0.90850002,\n",
       "       -0.50419998,  0.2016    , -0.1       , -0.13150001, -0.2221    ,\n",
       "       -0.0561    ,  0.0122    , -0.122     ,  0.0241    ,  0.039     ,\n",
       "        0.0712    ,  0.0503    , -0.1353    ,  0.59960002,  0.072     ,\n",
       "       -0.35260001, -0.0226    , -0.3143    , -0.0589    , -0.0439    ,\n",
       "       -0.3872    ,  0.3457    , -0.39219999,  0.3204    ,  0.0828    ,\n",
       "       -0.26679999,  0.1955    ,  0.87970001,  0.4411    ,  0.3364    ,\n",
       "       -0.0469    ,  0.21780001, -0.13689999, -0.0319    ,  0.1604    ,\n",
       "       -0.064     , -0.0272    , -0.0692    ,  0.2339    , -0.3716    ,\n",
       "        0.0802    ,  0.0832    ,  0.0105    ,  0.0396    , -0.51109999,\n",
       "       -0.19580001,  0.14129999,  0.0502    , -0.4684    , -0.0418    ,\n",
       "       -0.0568    , -0.44600001, -0.23019999, -0.3466    , -0.1008    ,\n",
       "        0.6904    , -0.0741    , -0.33660001, -0.21349999,  0.0233    ,\n",
       "       -0.0913    , -0.0237    ,  0.30320001,  0.244     ,  0.117     ,\n",
       "       -0.006     ,  0.1178    ,  0.56400001, -0.055     ,  0.088     ,\n",
       "       -0.13869999, -0.0713    , -0.3493    , -0.4043    ,  0.0147    ,\n",
       "        0.39230001, -0.0309    , -0.25580001, -0.45359999, -0.0711    ,\n",
       "        0.2439    , -0.14049999,  0.44440001,  0.0466    , -0.47440001,\n",
       "       -0.28549999, -0.56529999,  0.2102    , -0.0946    , -0.93379998,\n",
       "        0.0749    ,  0.48339999, -0.1459    , -0.33320001,  0.1928    ,\n",
       "        0.3461    , -0.0137    ,  0.1754    , -0.0177    , -0.1371    ,\n",
       "       -0.40549999, -0.28600001, -0.1587    ,  0.1443    , -0.36700001,\n",
       "        0.0038    ,  0.215     ,  0.0645    ,  0.0547    ,  0.1022    ,\n",
       "        0.1406    ,  0.1094    ,  0.40830001,  0.8653    , -0.64789999,\n",
       "       -0.25639999,  0.0576    ,  0.1016    , -0.31479999, -0.1564    ,\n",
       "        0.27379999, -0.35170001, -0.3854    , -0.1057    , -0.1945    ,\n",
       "        0.126     , -0.69730002,  0.33669999, -0.1683    ,  0.33759999,\n",
       "        0.55489999,  0.25240001, -0.4522    ,  0.81720001,  0.3802    ,\n",
       "        0.1798    , -0.54579997,  0.1259    , -0.23999999, -0.1035    ,\n",
       "       -0.1829    ,  0.171     ,  0.29100001, -0.4587    , -0.0245    ,\n",
       "        0.0228    , -0.3707    ,  0.054     ,  0.56559998, -0.2418    ,\n",
       "       -0.0507    ,  0.15180001,  0.52859998, -0.27469999, -0.0722    ,\n",
       "        0.1257    ,  0.1988    , -0.2494    ,  0.51160002,  0.0492    ,\n",
       "        0.037     , -0.0594    ,  0.6498    , -0.1497    ,  0.34540001,\n",
       "       -0.19949999,  0.0228    , -0.1463    ,  0.3299    ,  0.0823    ,\n",
       "       -0.0851    ,  0.25650001,  0.1051    ,  0.1296    ,  0.15099999,\n",
       "       -0.30000001, -0.0955    ,  0.1356    ,  0.0042    , -0.3872    ,\n",
       "        0.20990001,  0.4152    ,  0.75520003, -0.1418    ,  0.0893    ,\n",
       "        0.1135    ,  0.25330001,  0.336     , -0.3818    , -0.72610003,\n",
       "        0.0284    , -0.25369999,  0.71539998,  0.43990001, -0.17209999,\n",
       "        0.2031    ,  0.1106    , -0.0624    ,  0.13869999,  0.29789999,\n",
       "        0.5474    ,  0.28799999,  0.1478    , -0.41389999, -0.0549    ,\n",
       "       -0.1328    ,  0.1584    ,  0.1159    , -0.31549999, -0.25040001,\n",
       "       -0.3256    ,  0.1478    , -0.1345    , -0.28240001,  0.27520001,\n",
       "       -0.0176    ,  0.57090002,  0.0156    ,  0.033     ,  0.0977    ,\n",
       "       -0.0685    ,  0.0096    ,  0.0187    ,  0.0342    ,  0.62589997,\n",
       "        0.1604    ,  0.21699999, -0.0604    ,  0.24150001,  0.59810001,\n",
       "       -0.1058    ,  0.0661    , -0.1051    ,  0.35179999, -0.3976    ,\n",
       "        0.0917    ,  0.1945    ,  0.1069    , -0.35319999,  0.1041    ,\n",
       "        0.4409    ,  0.2543    , -0.32659999, -0.37940001,  0.1194    ,\n",
       "        0.0781    ,  0.2703    , -0.1964    ,  0.2728    , -0.0757    ,\n",
       "       -0.0341    ,  0.0785    , -0.006     , -0.31200001,  0.28439999,\n",
       "        0.38679999,  0.0984    , -0.1952    ,  0.4215    , -0.27169999,\n",
       "        0.0474    , -0.1794    ,  0.72570002,  0.1279    ,  0.479     ,\n",
       "        0.0771    ,  0.0094    , -0.40380001,  0.40619999,  0.37709999,\n",
       "        0.34240001, -0.1339    , -0.0998    , -0.40869999, -0.0197    ])"
      ]
     },
     "execution_count": 25,
     "metadata": {
      "tags": []
     },
     "output_type": "execute_result"
    }
   ],
   "source": [
    "embedding_matrix[-1]"
   ]
  },
  {
   "cell_type": "code",
   "execution_count": null,
   "metadata": {
    "colab": {
     "base_uri": "https://localhost:8080/",
     "height": 70
    },
    "colab_type": "code",
    "id": "6JGvo8t6fKX_",
    "outputId": "e7c593ac-bccc-443d-efe5-cb09000d3614"
   },
   "outputs": [
    {
     "name": "stdout",
     "output_type": "stream",
     "text": [
      "Max_words = 10000, \n",
      "Embedding_dim = 300 and \n",
      "Input_length = 500\n"
     ]
    }
   ],
   "source": [
    "print(f\"Max_words = {max_words}, \\nEmbedding_dim = {embedding_dim} and \\nInput_length = {maxlen}\")"
   ]
  },
  {
   "cell_type": "code",
   "execution_count": null,
   "metadata": {
    "colab": {
     "base_uri": "https://localhost:8080/",
     "height": 283
    },
    "colab_type": "code",
    "id": "KIwIH55_fKYH",
    "outputId": "d8690ca9-a8e9-42fe-e7bc-dcb41dcafe6d"
   },
   "outputs": [
    {
     "name": "stdout",
     "output_type": "stream",
     "text": [
      "_________________________________________________________________\n",
      "Layer (type)                 Output Shape              Param #   \n",
      "=================================================================\n",
      "embedding_1 (Embedding)      (None, 500, 300)          3000000   \n",
      "_________________________________________________________________\n",
      "flatten_1 (Flatten)          (None, 150000)            0         \n",
      "_________________________________________________________________\n",
      "dense_2 (Dense)              (None, 32)                4800032   \n",
      "_________________________________________________________________\n",
      "dense_3 (Dense)              (None, 1)                 33        \n",
      "=================================================================\n",
      "Total params: 7,800,065\n",
      "Trainable params: 4,800,065\n",
      "Non-trainable params: 3,000,000\n",
      "_________________________________________________________________\n"
     ]
    }
   ],
   "source": [
    "model = tf.keras.Sequential()\n",
    "# model.add(Embedding(max_words, embedding_dim, input_length=maxlen))\n",
    "model.add(tf.keras.layers.Embedding(max_words, embedding_dim, input_length=x_train.shape[1]))\n",
    "model.add(tf.keras.layers.Flatten())\n",
    "model.add(tf.keras.layers.Dense(32, activation='relu'))\n",
    "model.add(tf.keras.layers.Dense(1, activation='sigmoid'))\n",
    "\n",
    "model.layers[0].set_weights([embedding_matrix])\n",
    "#  freeze the Embedding layer\n",
    "# the pretrained parts shouldn’t\n",
    "# be updated during training, to avoid forgetting what they already know\n",
    "model.layers[0].trainable = False\n",
    "\n",
    "model.summary()"
   ]
  },
  {
   "cell_type": "code",
   "execution_count": null,
   "metadata": {
    "colab": {
     "base_uri": "https://localhost:8080/",
     "height": 481
    },
    "colab_type": "code",
    "id": "jLHe4zg0fKYL",
    "outputId": "63d0bfd8-58d1-4937-c5ef-d9de881efffb"
   },
   "outputs": [
    {
     "name": "stdout",
     "output_type": "stream",
     "text": [
      "Train on 20000 samples, validate on 5000 samples\n",
      "WARNING:tensorflow:From /usr/local/lib/python3.6/dist-packages/tensorflow/python/ops/math_ops.py:3066: to_int32 (from tensorflow.python.ops.math_ops) is deprecated and will be removed in a future version.\n",
      "Instructions for updating:\n",
      "Use tf.cast instead.\n",
      "Epoch 1/10\n",
      "20000/20000 [==============================] - 4s 203us/sample - loss: 0.6835 - acc: 0.5590 - val_loss: 0.6616 - val_acc: 0.6038\n",
      "Epoch 2/10\n",
      "20000/20000 [==============================] - 4s 176us/sample - loss: 0.4778 - acc: 0.7900 - val_loss: 0.6768 - val_acc: 0.6034\n",
      "Epoch 3/10\n",
      "20000/20000 [==============================] - 3s 171us/sample - loss: 0.2840 - acc: 0.9119 - val_loss: 0.7242 - val_acc: 0.6122\n",
      "Epoch 4/10\n",
      "20000/20000 [==============================] - 3s 165us/sample - loss: 0.1542 - acc: 0.9708 - val_loss: 0.8436 - val_acc: 0.6020\n",
      "Epoch 5/10\n",
      "20000/20000 [==============================] - 3s 164us/sample - loss: 0.0767 - acc: 0.9921 - val_loss: 0.9824 - val_acc: 0.6054\n",
      "Epoch 6/10\n",
      "20000/20000 [==============================] - 3s 163us/sample - loss: 0.0355 - acc: 0.9981 - val_loss: 1.1844 - val_acc: 0.6098\n",
      "Epoch 7/10\n",
      "20000/20000 [==============================] - 3s 164us/sample - loss: 0.0153 - acc: 0.9997 - val_loss: 1.3608 - val_acc: 0.6084\n",
      "Epoch 8/10\n",
      "20000/20000 [==============================] - 3s 165us/sample - loss: 0.0064 - acc: 0.9999 - val_loss: 1.5468 - val_acc: 0.6058\n",
      "Epoch 9/10\n",
      "20000/20000 [==============================] - 3s 165us/sample - loss: 0.0025 - acc: 1.0000 - val_loss: 1.7595 - val_acc: 0.6068\n",
      "Epoch 10/10\n",
      "20000/20000 [==============================] - 3s 164us/sample - loss: 9.2682e-04 - acc: 1.0000 - val_loss: 2.0058 - val_acc: 0.6058\n"
     ]
    },
    {
     "data": {
      "text/plain": [
       "<tensorflow.python.keras.callbacks.History at 0x7f982445dbe0>"
      ]
     },
     "execution_count": 28,
     "metadata": {
      "tags": []
     },
     "output_type": "execute_result"
    }
   ],
   "source": [
    "model.compile(optimizer=tf.keras.optimizers.RMSprop(lr=1e-4),\n",
    "              loss='binary_crossentropy',\n",
    "              metrics=['acc'])\n",
    "\n",
    "model.fit(x_train_, y_train_,\n",
    "          epochs=10, batch_size=32,\n",
    "          validation_split=0.2)\n",
    "#                     validation_data=(x_val, y_val))\n",
    "\n",
    "# model.save_weights('pre_trained_word2vec_model.h5')"
   ]
  },
  {
   "cell_type": "code",
   "execution_count": null,
   "metadata": {
    "colab": {
     "base_uri": "https://localhost:8080/",
     "height": 70
    },
    "colab_type": "code",
    "id": "RrUlXNi4BzVY",
    "outputId": "f19b1fae-7a5c-4be0-a746-6e5129464ad8"
   },
   "outputs": [
    {
     "name": "stdout",
     "output_type": "stream",
     "text": [
      "25000/25000 [==============================] - 1s 59us/sample - loss: 1.9601 - acc: 0.6008\n",
      "Metric  loss : 1.96014\n",
      "Metric  acc : 0.6008\n"
     ]
    }
   ],
   "source": [
    "result = model.evaluate(x_test_, y_test_)\n",
    "for i in range(len(model.metrics_names)):\n",
    "     print(\"Metric \",model.metrics_names[i],\":\", str(round(result[i],5)))"
   ]
  },
  {
   "cell_type": "code",
   "execution_count": null,
   "metadata": {
    "colab": {
     "base_uri": "https://localhost:8080/",
     "height": 563
    },
    "colab_type": "code",
    "id": "1jdvocovfKYN",
    "outputId": "ea7e3e2a-404c-41db-dda2-4169eed9637d"
   },
   "outputs": [
    {
     "data": {
      "image/png": "[encoded data removed]",
      "text/plain": [
       "<Figure size 432x288 with 1 Axes>"
      ]
     },
     "metadata": {
      "tags": []
     },
     "output_type": "display_data"
    },
    {
     "data": {
      "text/plain": [
       "<matplotlib.legend.Legend at 0x7f9824141cc0>"
      ]
     },
     "execution_count": 30,
     "metadata": {
      "tags": []
     },
     "output_type": "execute_result"
    },
    {
     "data": {
      "image/png": "[encoded data removed]",
      "text/plain": [
       "<Figure size 432x288 with 1 Axes>"
      ]
     },
     "metadata": {
      "tags": []
     },
     "output_type": "display_data"
    }
   ],
   "source": [
    "acc = model.history.history['acc']\n",
    "val_acc = model.history.history['val_acc']\n",
    "loss = model.history.history['loss']\n",
    "val_loss = model.history.history['val_loss']\n",
    "\n",
    "epochs = range(1, len(acc) + 1)\n",
    "\n",
    "plt.figure()\n",
    "# plt.figure(figsize=(9,8))\n",
    "plt.plot(epochs, loss, 'bo', label='Training loss')\n",
    "plt.plot(epochs, val_loss, 'b', label='Validation loss')\n",
    "plt.title('Training and validation loss')\n",
    "plt.legend()\n",
    "plt.show()\n",
    "\n",
    "\n",
    "plt.figure()\n",
    "plt.plot(epochs, acc, 'bo', label='Training acc')\n",
    "plt.plot(epochs, val_acc, 'b', label='Validation acc')\n",
    "plt.title('Training and validation accuracy')\n",
    "plt.legend()"
   ]
  },
  {
   "cell_type": "markdown",
   "metadata": {
    "colab_type": "text",
    "id": "8RTG6CVrwEFA"
   },
   "source": [
    "#### 1D convnt"
   ]
  },
  {
   "cell_type": "code",
   "execution_count": null,
   "metadata": {
    "colab": {
     "base_uri": "https://localhost:8080/",
     "height": 354
    },
    "colab_type": "code",
    "id": "uVTjX-7puyHZ",
    "outputId": "a1a71ae9-24a9-47b9-fdc1-7922bd6237b5"
   },
   "outputs": [
    {
     "name": "stdout",
     "output_type": "stream",
     "text": [
      "_________________________________________________________________\n",
      "Layer (type)                 Output Shape              Param #   \n",
      "=================================================================\n",
      "embedding_2 (Embedding)      (None, 500, 300)          3000000   \n",
      "_________________________________________________________________\n",
      "conv1d (Conv1D)              (None, 494, 32)           67232     \n",
      "_________________________________________________________________\n",
      "max_pooling1d (MaxPooling1D) (None, 98, 32)            0         \n",
      "_________________________________________________________________\n",
      "conv1d_1 (Conv1D)            (None, 92, 32)            7200      \n",
      "_________________________________________________________________\n",
      "global_max_pooling1d (Global (None, 32)                0         \n",
      "_________________________________________________________________\n",
      "dense_4 (Dense)              (None, 1)                 33        \n",
      "=================================================================\n",
      "Total params: 3,074,465\n",
      "Trainable params: 74,465\n",
      "Non-trainable params: 3,000,000\n",
      "_________________________________________________________________\n"
     ]
    }
   ],
   "source": [
    "model = tf.keras.Sequential()\n",
    "model.add(tf.keras.layers.Embedding(max_words, embedding_dim, input_length=x_train.shape[1]))\n",
    "model.add(tf.keras.layers.Conv1D(32, 7, \n",
    "                                 activation='relu'))\n",
    "model.add(tf.keras.layers.MaxPooling1D(5))\n",
    "model.add(tf.keras.layers.Conv1D(32, 7, \n",
    "                                 activation='relu'))\n",
    "model.add(tf.keras.layers.GlobalMaxPooling1D())\n",
    "model.add(tf.keras.layers.Dense(1))\n",
    "\n",
    "model.layers[0].set_weights([embedding_matrix])\n",
    "#  freeze the Embedding layer\n",
    "# the pretrained parts shouldn’t\n",
    "# be updated during training, to avoid forgetting what they already know\n",
    "model.layers[0].trainable = False\n",
    "\n",
    "model.summary()"
   ]
  },
  {
   "cell_type": "code",
   "execution_count": null,
   "metadata": {
    "colab": {
     "base_uri": "https://localhost:8080/",
     "height": 481
    },
    "colab_type": "code",
    "id": "8hF9cmIfvXrG",
    "outputId": "105ddc86-89d8-4146-c9b1-89a9f0bac365"
   },
   "outputs": [
    {
     "name": "stdout",
     "output_type": "stream",
     "text": [
      "Train on 20000 samples, validate on 5000 samples\n",
      "WARNING:tensorflow:From /usr/local/lib/python3.6/dist-packages/tensorflow/python/ops/math_grad.py:102: div (from tensorflow.python.ops.math_ops) is deprecated and will be removed in a future version.\n",
      "Instructions for updating:\n",
      "Deprecated in favor of operator or tf.math.divide.\n",
      "Epoch 1/10\n",
      "20000/20000 [==============================] - 5s 248us/sample - loss: 1.3118 - acc: 0.5212 - val_loss: 0.7046 - val_acc: 0.5296\n",
      "Epoch 2/10\n",
      "20000/20000 [==============================] - 3s 153us/sample - loss: 0.6432 - acc: 0.6294 - val_loss: 0.6703 - val_acc: 0.5880\n",
      "Epoch 3/10\n",
      "20000/20000 [==============================] - 3s 167us/sample - loss: 0.5868 - acc: 0.7072 - val_loss: 0.6544 - val_acc: 0.6112\n",
      "Epoch 4/10\n",
      "20000/20000 [==============================] - 3s 167us/sample - loss: 0.5310 - acc: 0.7558 - val_loss: 0.6363 - val_acc: 0.6430\n",
      "Epoch 5/10\n",
      "20000/20000 [==============================] - 3s 165us/sample - loss: 0.4795 - acc: 0.7904 - val_loss: 0.6454 - val_acc: 0.6624\n",
      "Epoch 6/10\n",
      "20000/20000 [==============================] - 3s 153us/sample - loss: 0.4306 - acc: 0.8203 - val_loss: 0.6575 - val_acc: 0.6746\n",
      "Epoch 7/10\n",
      "20000/20000 [==============================] - 3s 153us/sample - loss: 0.3882 - acc: 0.8432 - val_loss: 0.6710 - val_acc: 0.6858\n",
      "Epoch 8/10\n",
      "20000/20000 [==============================] - 3s 151us/sample - loss: 0.3475 - acc: 0.8669 - val_loss: 0.7283 - val_acc: 0.6900\n",
      "Epoch 9/10\n",
      "20000/20000 [==============================] - 3s 152us/sample - loss: 0.3127 - acc: 0.8816 - val_loss: 0.7500 - val_acc: 0.6918\n",
      "Epoch 10/10\n",
      "20000/20000 [==============================] - 3s 152us/sample - loss: 0.2801 - acc: 0.9038 - val_loss: 0.7796 - val_acc: 0.7078\n"
     ]
    },
    {
     "data": {
      "text/plain": [
       "<tensorflow.python.keras.callbacks.History at 0x7f98205d6f98>"
      ]
     },
     "execution_count": 32,
     "metadata": {
      "tags": []
     },
     "output_type": "execute_result"
    }
   ],
   "source": [
    "model.compile(optimizer=tf.keras.optimizers.RMSprop(lr=1e-4),\n",
    "              loss='binary_crossentropy',\n",
    "              metrics=['acc'])\n",
    "\n",
    "model.fit(x_train_, y_train_,\n",
    "          epochs=10, batch_size=32,\n",
    "          validation_split=0.2)\n",
    "#                     validation_data=(x_val, y_val))\n",
    "\n",
    "# model.save_weights('pre_trained_word2vec_model.h5')"
   ]
  },
  {
   "cell_type": "code",
   "execution_count": null,
   "metadata": {
    "colab": {
     "base_uri": "https://localhost:8080/",
     "height": 70
    },
    "colab_type": "code",
    "id": "r2kBGjtTvXlT",
    "outputId": "87e8fad9-b594-4440-d3ce-fd5ba06964a8"
   },
   "outputs": [
    {
     "name": "stdout",
     "output_type": "stream",
     "text": [
      "25000/25000 [==============================] - 2s 70us/sample - loss: 0.7896 - acc: 0.7029\n",
      "Metric  loss : 0.78963\n",
      "Metric  acc : 0.70288\n"
     ]
    }
   ],
   "source": [
    "result = model.evaluate(x_test_, y_test_)\n",
    "for i in range(len(model.metrics_names)):\n",
    "     print(\"Metric \",model.metrics_names[i],\":\", str(round(result[i],5)))"
   ]
  },
  {
   "cell_type": "code",
   "execution_count": null,
   "metadata": {
    "colab": {
     "base_uri": "https://localhost:8080/",
     "height": 563
    },
    "colab_type": "code",
    "id": "neKRLHBKvXdk",
    "outputId": "30f5ed9d-ace4-4388-a54e-78c5a2ffea86"
   },
   "outputs": [
    {
     "data": {
      "image/png": "[encoded data removed]",
      "text/plain": [
       "<Figure size 432x288 with 1 Axes>"
      ]
     },
     "metadata": {
      "tags": []
     },
     "output_type": "display_data"
    },
    {
     "data": {
      "text/plain": [
       "<matplotlib.legend.Legend at 0x7f98202d5da0>"
      ]
     },
     "execution_count": 34,
     "metadata": {
      "tags": []
     },
     "output_type": "execute_result"
    },
    {
     "data": {
      "image/png": "[encoded data removed]",
      "text/plain": [
       "<Figure size 432x288 with 1 Axes>"
      ]
     },
     "metadata": {
      "tags": []
     },
     "output_type": "display_data"
    }
   ],
   "source": [
    "acc = model.history.history['acc']\n",
    "val_acc = model.history.history['val_acc']\n",
    "loss = model.history.history['loss']\n",
    "val_loss = model.history.history['val_loss']\n",
    "\n",
    "epochs = range(1, len(acc) + 1)\n",
    "\n",
    "plt.figure()\n",
    "# plt.figure(figsize=(9,8))\n",
    "plt.plot(epochs, loss, 'bo', label='Training loss')\n",
    "plt.plot(epochs, val_loss, 'b', label='Validation loss')\n",
    "plt.title('Training and validation loss')\n",
    "plt.legend()\n",
    "plt.show()\n",
    "\n",
    "\n",
    "plt.figure()\n",
    "plt.plot(epochs, acc, 'bo', label='Training acc')\n",
    "plt.plot(epochs, val_acc, 'b', label='Validation acc')\n",
    "plt.title('Training and validation accuracy')\n",
    "plt.legend()"
   ]
  },
  {
   "cell_type": "markdown",
   "metadata": {
    "colab_type": "text",
    "id": "jSG7TmMlEOTl"
   },
   "source": [
    "### Inter-word relationships and sentence structure (Embedding Learned from tak)\n",
    "\n",
    "#### 1D convolutional layers\n",
    "\n",
    "We will now add, 1D convolutional layers on top of the embedded sequences to learn features that take into account each sequence as a whole"
   ]
  },
  {
   "cell_type": "markdown",
   "metadata": {
    "colab_type": "text",
    "id": "HZOf81ic2FLa"
   },
   "source": [
    "#### Preprocess"
   ]
  },
  {
   "cell_type": "code",
   "execution_count": null,
   "metadata": {
    "colab": {
     "base_uri": "https://localhost:8080/",
     "height": 123
    },
    "colab_type": "code",
    "id": "b3fvdlISEypY",
    "outputId": "50ef4232-39fd-44f7-812e-fc2c93c021f0"
   },
   "outputs": [
    {
     "name": "stdout",
     "output_type": "stream",
     "text": [
      "Loading data...\n",
      "25000 train sequences\n",
      "25000 test sequences\n",
      "Pad sequences (samples x time)\n",
      "x_train shape: (25000, 500)\n",
      "x_test shape: (25000, 500)\n"
     ]
    }
   ],
   "source": [
    "# Number of words to \n",
    "# consider as features\n",
    "max_features = 10000      # Words are ranked\n",
    "\n",
    "# Cuts off texts after this many words (among \n",
    "# the max_features most common words)\n",
    "max_len = 500\n",
    "\n",
    "print('Loading data...')\n",
    "(x_train_, y_train_), (x_test_, y_test_) = tf.keras.datasets.imdb.load_data(\n",
    "    num_words=max_features)\n",
    "\n",
    "print(len(x_train_), 'train sequences')\n",
    "print(len(x_test_), 'test sequences')\n",
    "\n",
    "print('Pad sequences (samples x time)')\n",
    "x_train_ = tf.keras.preprocessing.sequence.pad_sequences(\n",
    "    x_train_, maxlen=max_len)\n",
    "x_test_ = tf.keras.preprocessing.sequence.pad_sequences(\n",
    "    x_test_, maxlen=max_len)\n",
    "print('x_train shape:', x_train_.shape)\n",
    "print('x_test shape:', x_test_.shape)"
   ]
  },
  {
   "cell_type": "code",
   "execution_count": null,
   "metadata": {
    "colab": {
     "base_uri": "https://localhost:8080/",
     "height": 354
    },
    "colab_type": "code",
    "id": "NSfshEgoEygH",
    "outputId": "7dc957e6-b4cc-49f6-ec96-318b02ffdf63"
   },
   "outputs": [
    {
     "name": "stdout",
     "output_type": "stream",
     "text": [
      "_________________________________________________________________\n",
      "Layer (type)                 Output Shape              Param #   \n",
      "=================================================================\n",
      "embedding_3 (Embedding)      (None, 500, 300)          3000000   \n",
      "_________________________________________________________________\n",
      "conv1d_2 (Conv1D)            (None, 494, 32)           67232     \n",
      "_________________________________________________________________\n",
      "max_pooling1d_1 (MaxPooling1 (None, 98, 32)            0         \n",
      "_________________________________________________________________\n",
      "conv1d_3 (Conv1D)            (None, 92, 32)            7200      \n",
      "_________________________________________________________________\n",
      "global_max_pooling1d_1 (Glob (None, 32)                0         \n",
      "_________________________________________________________________\n",
      "dense_5 (Dense)              (None, 1)                 33        \n",
      "=================================================================\n",
      "Total params: 3,074,465\n",
      "Trainable params: 3,074,465\n",
      "Non-trainable params: 0\n",
      "_________________________________________________________________\n"
     ]
    }
   ],
   "source": [
    "model = tf.keras.Sequential()\n",
    "model.add(tf.keras.layers.Embedding(max_words, embedding_dim, input_length=x_train.shape[1]))\n",
    "model.add(tf.keras.layers.Conv1D(32, 7, \n",
    "                                 activation='relu'))\n",
    "model.add(tf.keras.layers.MaxPooling1D(5))\n",
    "model.add(tf.keras.layers.Conv1D(32, 7, \n",
    "                                 activation='relu'))\n",
    "model.add(tf.keras.layers.GlobalMaxPooling1D())\n",
    "model.add(tf.keras.layers.Dense(1))\n",
    "\n",
    "model.summary()"
   ]
  },
  {
   "cell_type": "code",
   "execution_count": null,
   "metadata": {
    "colab": {
     "base_uri": "https://localhost:8080/",
     "height": 407
    },
    "colab_type": "code",
    "id": "bk0PtfALEyVh",
    "outputId": "80c9fe8c-78bd-43e5-b429-c42f0d8c10aa"
   },
   "outputs": [
    {
     "name": "stdout",
     "output_type": "stream",
     "text": [
      "Train on 20000 samples, validate on 5000 samples\n",
      "Epoch 1/10\n",
      "20000/20000 [==============================] - 3s 162us/sample - loss: 0.8421 - acc: 0.5071 - val_loss: 0.6881 - val_acc: 0.5218\n",
      "Epoch 2/10\n",
      "20000/20000 [==============================] - 3s 132us/sample - loss: 0.6648 - acc: 0.6591 - val_loss: 0.6599 - val_acc: 0.6748\n",
      "Epoch 3/10\n",
      "20000/20000 [==============================] - 3s 133us/sample - loss: 0.6075 - acc: 0.7889 - val_loss: 0.5895 - val_acc: 0.7462\n",
      "Epoch 4/10\n",
      "20000/20000 [==============================] - 3s 133us/sample - loss: 0.4879 - acc: 0.8392 - val_loss: 0.4531 - val_acc: 0.8262\n",
      "Epoch 5/10\n",
      "20000/20000 [==============================] - 3s 133us/sample - loss: 0.3633 - acc: 0.8719 - val_loss: 0.4028 - val_acc: 0.8512\n",
      "Epoch 6/10\n",
      "20000/20000 [==============================] - 3s 133us/sample - loss: 0.3043 - acc: 0.8935 - val_loss: 0.3901 - val_acc: 0.8570\n",
      "Epoch 7/10\n",
      "20000/20000 [==============================] - 3s 133us/sample - loss: 0.2623 - acc: 0.9116 - val_loss: 0.4032 - val_acc: 0.8688\n",
      "Epoch 8/10\n",
      "20000/20000 [==============================] - 3s 134us/sample - loss: 0.2269 - acc: 0.9244 - val_loss: 0.4181 - val_acc: 0.8686\n",
      "Epoch 9/10\n",
      "20000/20000 [==============================] - 3s 134us/sample - loss: 0.1998 - acc: 0.9351 - val_loss: 0.4357 - val_acc: 0.8748\n",
      "Epoch 10/10\n",
      "20000/20000 [==============================] - 3s 134us/sample - loss: 0.1741 - acc: 0.9438 - val_loss: 0.4552 - val_acc: 0.8766\n"
     ]
    },
    {
     "data": {
      "text/plain": [
       "<tensorflow.python.keras.callbacks.History at 0x7f97e97e8a58>"
      ]
     },
     "execution_count": 36,
     "metadata": {
      "tags": []
     },
     "output_type": "execute_result"
    }
   ],
   "source": [
    "model.compile(optimizer=tf.keras.optimizers.RMSprop(lr=1e-4), # lr=1e-4\n",
    "              loss=tf.keras.losses.binary_crossentropy,\n",
    "             metrics=['acc'])\n",
    "\n",
    "model.fit(x_train_, y_train_,\n",
    "          epochs=10, batch_size=128,\n",
    "          validation_split=0.2)"
   ]
  },
  {
   "cell_type": "code",
   "execution_count": null,
   "metadata": {
    "colab": {
     "base_uri": "https://localhost:8080/",
     "height": 70
    },
    "colab_type": "code",
    "id": "9L5dsC3gZo8D",
    "outputId": "3937dc5b-758a-4132-d6fe-774325328bb3"
   },
   "outputs": [
    {
     "name": "stdout",
     "output_type": "stream",
     "text": [
      "25000/25000 [==============================] - 2s 74us/sample - loss: 0.4773 - acc: 0.8670\n",
      "Metric  loss : 0.47734\n",
      "Metric  acc : 0.86704\n"
     ]
    }
   ],
   "source": [
    "result = model.evaluate(x_test_, y_test_)\n",
    "for i in range(len(model.metrics_names)):\n",
    "     print(\"Metric \",model.metrics_names[i],\":\", str(round(result[i],5)))"
   ]
  },
  {
   "cell_type": "code",
   "execution_count": null,
   "metadata": {
    "colab": {
     "base_uri": "https://localhost:8080/",
     "height": 545
    },
    "colab_type": "code",
    "id": "aSnkT8OfEyLF",
    "outputId": "eab20ca6-8d35-4468-fd06-a4feab3dc49b"
   },
   "outputs": [
    {
     "data": {
      "image/png": "[encoded data removed]",
      "text/plain": [
       "<Figure size 432x288 with 1 Axes>"
      ]
     },
     "metadata": {
      "tags": []
     },
     "output_type": "display_data"
    },
    {
     "data": {
      "image/png": "[encoded data removed]",
      "text/plain": [
       "<Figure size 432x288 with 1 Axes>"
      ]
     },
     "metadata": {
      "tags": []
     },
     "output_type": "display_data"
    }
   ],
   "source": [
    "acc = model.history.history['acc']\n",
    "val_acc = model.history.history['val_acc']\n",
    "loss = model.history.history['loss']\n",
    "val_loss = model.history.history['val_loss']\n",
    "\n",
    "epochs = range(1, len(acc) + 1)\n",
    "\n",
    "plt.figure()\n",
    "plt.plot(epochs, loss, 'bo', label='Training loss')\n",
    "plt.plot(epochs, val_loss, 'b', label='Validation loss')\n",
    "plt.title('Training and validation loss')\n",
    "plt.legend()\n",
    "plt.show()\n",
    "\n",
    "plt.figure()\n",
    "plt.plot(epochs, acc, 'bo', label='Training acc')\n",
    "plt.plot(epochs, val_acc, 'b', label='Validation acc')\n",
    "plt.title('Training and validation accuracy')\n",
    "plt.legend()\n",
    "plt.show()"
   ]
  },
  {
   "cell_type": "code",
   "execution_count": null,
   "metadata": {
    "colab": {},
    "colab_type": "code",
    "id": "4WCAQ0TuTVYL"
   },
   "outputs": [],
   "source": [
    "# model.load_weights('pre_trained_glove_model.h5')\n",
    "# result = model.evaluate(x_test, y_test)\n",
    "# for i in range(len(model.metrics_names)):\n",
    "#      print(\"Metric \",model.metrics_names[i],\":\", str(round(result[i],2)))"
   ]
  },
  {
   "cell_type": "markdown",
   "metadata": {
    "colab_type": "text",
    "id": "qCF6Z23K9Aat"
   },
   "source": [
    "**We can see that learned task embedding give better result than using pre-trained word embedding.**\n",
    "\n",
    "**Regarding the 1D convnet, we noticed that using it together with pre-trained word embedding improove our accuracy.**"
   ]
  },
  {
   "cell_type": "markdown",
   "metadata": {
    "colab_type": "text",
    "id": "nY-nPjpa4wDr"
   },
   "source": [
    "<h2>About the Authors:</h2> \n",
    "\n",
    "<a href=\"https://salomonkabongo.wixsite.com/datascientist\">Salomon Kabongo KABENAMUALU</a>, Master degree student at <a href=\"https://aims.ac.za/\">the African Institute for mathematical SCiences (AIMS South Africa)</a> his research focused on the use machine learning technique in the field of Natural Language Processing."
   ]
  },
  {
   "cell_type": "markdown",
   "metadata": {
    "colab_type": "text",
    "id": "xDX0h3pa4wDt"
   },
   "source": [
    "References : <a href=\"https://www.manning.com/books/deep-learning-with-python\"> Francois Chollet - Deep Learning with Python-Manning Publications (*Book*) </a>"
   ]
  },
  {
   "cell_type": "markdown",
   "metadata": {
    "colab_type": "text",
    "id": "RdkZJcdh4wDu"
   },
   "source": [
    "Copyright &copy; 2019. This notebook and its source code are released under the terms of the <a href=\"https://www.apache.org/licenses/LICENSE-2.0\">Apache License 2.0</a>."
   ]
  }
 ],
 "metadata": {
  "accelerator": "GPU",
  "colab": {
   "include_colab_link": true,
   "name": "One_hot_and_Embeddings.ipynb",
   "provenance": [],
   "version": "0.3.2"
  },
  "kernelspec": {
   "display_name": "Python 3",
   "language": "python",
   "name": "python3"
  },
  "language_info": {
   "codemirror_mode": {
    "name": "ipython",
    "version": 3
   },
   "file_extension": ".py",
   "mimetype": "text/x-python",
   "name": "python",
   "nbconvert_exporter": "python",
   "pygments_lexer": "ipython3",
   "version": "3.7.4"
  }
 },
 "nbformat": 4,
 "nbformat_minor": 4
}
