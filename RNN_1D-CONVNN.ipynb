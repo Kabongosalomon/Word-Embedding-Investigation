{
 "cells": [
  {
   "cell_type": "markdown",
   "metadata": {},
   "source": [
    "# Recurrent Neural Networks"
   ]
  },
  {
   "cell_type": "markdown",
   "metadata": {},
   "source": [
    "A RNN is a type of neural network that has an internal loop. The state of the RNN is reset between processing two different,  independent  sequences  (such  as  two  different IMDB reviews), so you still consider one sequence a single  data  point:  a  single  input  to  the  network.  What changes is that this data point is no longer processed in a single  step;  rather,  the  network  internally  **loops  over\n",
    "sequence elements**.\n",
    "\n",
    "To make these notions of loop and state clear, let’s implement the forward pass of a\n",
    "toy RNN in Numpy."
   ]
  },
  {
   "cell_type": "code",
   "execution_count": 1,
   "metadata": {},
   "outputs": [
    {
     "name": "stderr",
     "output_type": "stream",
     "text": [
      "C:\\Users\\kabon\\AppData\\Local\\conda\\conda\\envs\\aims\\lib\\site-packages\\gensim\\utils.py:860: UserWarning: detected Windows; aliasing chunkize to chunkize_serial\n",
      "  warnings.warn(\"detected Windows; aliasing chunkize to chunkize_serial\")\n"
     ]
    }
   ],
   "source": [
    "from __future__ import absolute_import, division, print_function, unicode_literals\n",
    "import tensorflow as tf\n",
    "tf.logging.set_verbosity(tf.logging.ERROR)\n",
    "\n",
    "import numpy as np\n",
    "import matplotlib.pyplot as plt\n",
    "import pandas as pd\n",
    "\n",
    "import os\n",
    "import ipdb # deb\n",
    "\n",
    "from gensim.models.keyedvectors import KeyedVectors"
   ]
  },
  {
   "cell_type": "code",
   "execution_count": 2,
   "metadata": {},
   "outputs": [],
   "source": [
    "# Number of timesteps in \n",
    "# the input sequence\n",
    "timesteps = 100\n",
    "\n",
    "# Dimensionality of the \n",
    "# input feature space\n",
    "input_features = 32\n",
    "\n",
    "# Dimensionality of the \n",
    "# output feature space\n",
    "output_features = 64"
   ]
  },
  {
   "cell_type": "code",
   "execution_count": 3,
   "metadata": {},
   "outputs": [],
   "source": [
    "# (100, 32) shape random input data\n",
    "inputs = np.random.random((timesteps, input_features))\n",
    "\n",
    "# Initial state: an \n",
    "# all-zero vector\n",
    "state_t = np.zeros((output_features,))  # (64,)\n",
    "\n",
    "# Creating initaila wweight matrices\n",
    "W = np.random.random((output_features, input_features))  # (64, 32)\n",
    "U = np.random.random((output_features, output_features)) # (64, 64)\n",
    "b = np.random.random((output_features,))                 # (64,)\n",
    "\n",
    "successive_outputs = []\n",
    "\n",
    "for input_t in inputs:\n",
    "    output_t = np.tanh(np.dot(W, input_t) + np.dot(U, state_t) + b)\n",
    "    successive_outputs.append(output_t)\n",
    "    state_t = output_t\n",
    "    \n",
    "final_output_sequence = np.concatenate(successive_outputs, axis=0)"
   ]
  },
  {
   "cell_type": "markdown",
   "metadata": {},
   "source": [
    "In  summary,  an  RNN  is  a  for  loop  that  reuses  quantities  computed\n",
    "during the previous iteration of the loop,"
   ]
  },
  {
   "cell_type": "code",
   "execution_count": 4,
   "metadata": {},
   "outputs": [
    {
     "data": {
      "text/plain": [
       "[array([0.99999991, 0.99999902, 0.99999943, 0.99999998, 0.99999962,\n",
       "        0.99999994, 0.9999989 , 0.99999992, 0.99999998, 0.9999997 ,\n",
       "        0.99999996, 0.99999995, 0.9999999 , 0.99999994, 0.99999785,\n",
       "        0.99999872, 0.99999998, 0.99999993, 0.99999952, 0.99999996,\n",
       "        0.99999801, 0.99999997, 0.99999997, 0.99999979, 0.99999984,\n",
       "        0.99999731, 0.99999751, 0.99999996, 0.99999935, 0.99999987,\n",
       "        0.99999972, 0.99999999, 0.9999992 , 0.99999982, 0.99999997,\n",
       "        1.        , 1.        , 0.99999998, 0.99999999, 0.99999965,\n",
       "        0.99999914, 0.9999999 , 0.99999999, 0.99999984, 0.99999968,\n",
       "        0.99999984, 0.99999988, 0.99999972, 0.99999998, 0.99999996,\n",
       "        0.99999997, 0.99999999, 0.99999661, 0.99999992, 0.99999972,\n",
       "        0.99999998, 0.99999994, 0.99999991, 0.99999991, 0.99999853,\n",
       "        0.9999998 , 0.99999998, 0.99999986, 0.99999991]),\n",
       " array([1., 1., 1., 1., 1., 1., 1., 1., 1., 1., 1., 1., 1., 1., 1., 1., 1.,\n",
       "        1., 1., 1., 1., 1., 1., 1., 1., 1., 1., 1., 1., 1., 1., 1., 1., 1.,\n",
       "        1., 1., 1., 1., 1., 1., 1., 1., 1., 1., 1., 1., 1., 1., 1., 1., 1.,\n",
       "        1., 1., 1., 1., 1., 1., 1., 1., 1., 1., 1., 1., 1.]),\n",
       " array([1., 1., 1., 1., 1., 1., 1., 1., 1., 1., 1., 1., 1., 1., 1., 1., 1.,\n",
       "        1., 1., 1., 1., 1., 1., 1., 1., 1., 1., 1., 1., 1., 1., 1., 1., 1.,\n",
       "        1., 1., 1., 1., 1., 1., 1., 1., 1., 1., 1., 1., 1., 1., 1., 1., 1.,\n",
       "        1., 1., 1., 1., 1., 1., 1., 1., 1., 1., 1., 1., 1.]),\n",
       " array([1., 1., 1., 1., 1., 1., 1., 1., 1., 1., 1., 1., 1., 1., 1., 1., 1.,\n",
       "        1., 1., 1., 1., 1., 1., 1., 1., 1., 1., 1., 1., 1., 1., 1., 1., 1.,\n",
       "        1., 1., 1., 1., 1., 1., 1., 1., 1., 1., 1., 1., 1., 1., 1., 1., 1.,\n",
       "        1., 1., 1., 1., 1., 1., 1., 1., 1., 1., 1., 1., 1.]),\n",
       " array([1., 1., 1., 1., 1., 1., 1., 1., 1., 1., 1., 1., 1., 1., 1., 1., 1.,\n",
       "        1., 1., 1., 1., 1., 1., 1., 1., 1., 1., 1., 1., 1., 1., 1., 1., 1.,\n",
       "        1., 1., 1., 1., 1., 1., 1., 1., 1., 1., 1., 1., 1., 1., 1., 1., 1.,\n",
       "        1., 1., 1., 1., 1., 1., 1., 1., 1., 1., 1., 1., 1.])]"
      ]
     },
     "execution_count": 4,
     "metadata": {},
     "output_type": "execute_result"
    }
   ],
   "source": [
    "successive_outputs[:5] # (100, 64) list"
   ]
  },
  {
   "cell_type": "markdown",
   "metadata": {},
   "source": [
    "The final output is a $2D$ tensor of shape *(timesteps, output_features)*, where each timestep is the output of the loop at time $t$. Each timestep $t$ in the output tensor contains information about timesteps $0$ to $t$ in the input sequence-about the entire past. For this reason, in many cases, you don’t need this full sequence of outputs; you just need the last out-put *(output_t at the end of the loop)*, because it already contains information about the entire sequence."
   ]
  },
  {
   "cell_type": "markdown",
   "metadata": {},
   "source": [
    "## Using keras"
   ]
  },
  {
   "cell_type": "code",
   "execution_count": 13,
   "metadata": {},
   "outputs": [
    {
     "name": "stdout",
     "output_type": "stream",
     "text": [
      "_________________________________________________________________\n",
      "Layer (type)                 Output Shape              Param #   \n",
      "=================================================================\n",
      "embedding (Embedding)        (None, None, 32)          320000    \n",
      "_________________________________________________________________\n",
      "simple_rnn (SimpleRNN)       (None, 32)                2080      \n",
      "=================================================================\n",
      "Total params: 322,080\n",
      "Trainable params: 322,080\n",
      "Non-trainable params: 0\n",
      "_________________________________________________________________\n"
     ]
    }
   ],
   "source": [
    "model = tf.keras.Sequential()\n",
    "model.add(tf.keras.layers.Embedding(10000, 32))\n",
    "model.add(tf.keras.layers.SimpleRNN(32))\n",
    "# model.add(SimpleRNN(32, return_sequences=True)) # ths will return the full state seq\n",
    "model.summary()"
   ]
  },
  {
   "cell_type": "markdown",
   "metadata": {},
   "source": [
    "It’s sometimes useful to stack several recurrent layers one after the other in order to\n",
    "increase the representational power of a network. \n",
    "\n",
    "In such a setup, you have to get all\n",
    "of the intermediate layers to return full sequence of outputs:"
   ]
  },
  {
   "cell_type": "code",
   "execution_count": 14,
   "metadata": {},
   "outputs": [
    {
     "name": "stdout",
     "output_type": "stream",
     "text": [
      "_________________________________________________________________\n",
      "Layer (type)                 Output Shape              Param #   \n",
      "=================================================================\n",
      "embedding_1 (Embedding)      (None, None, 32)          320000    \n",
      "_________________________________________________________________\n",
      "simple_rnn_1 (SimpleRNN)     (None, None, 32)          2080      \n",
      "_________________________________________________________________\n",
      "simple_rnn_2 (SimpleRNN)     (None, None, 32)          2080      \n",
      "_________________________________________________________________\n",
      "simple_rnn_3 (SimpleRNN)     (None, None, 32)          2080      \n",
      "_________________________________________________________________\n",
      "simple_rnn_4 (SimpleRNN)     (None, 32)                2080      \n",
      "=================================================================\n",
      "Total params: 328,320\n",
      "Trainable params: 328,320\n",
      "Non-trainable params: 0\n",
      "_________________________________________________________________\n"
     ]
    }
   ],
   "source": [
    "model = tf.keras.Sequential()\n",
    "model.add(tf.keras.layers.Embedding(10000, 32))\n",
    "model.add(tf.keras.layers.SimpleRNN(32, return_sequences=True))\n",
    "model.add(tf.keras.layers.SimpleRNN(32, return_sequences=True))\n",
    "model.add(tf.keras.layers.SimpleRNN(32, return_sequences=True))\n",
    "model.add(tf.keras.layers.SimpleRNN(32)) # Except the final layer \n",
    "model.summary()"
   ]
  },
  {
   "cell_type": "markdown",
   "metadata": {},
   "source": [
    "Now, let’s use such a model on the **IMDB movie-review-classification** problem. First,\n",
    "preprocess the data."
   ]
  },
  {
   "cell_type": "code",
   "execution_count": 2,
   "metadata": {},
   "outputs": [
    {
     "name": "stdout",
     "output_type": "stream",
     "text": [
      "Loading data...\n",
      "25000 train sequences\n",
      "25000 test sequences\n",
      "Pad sequences (samples x time)\n",
      "input_train shape: (25000, 500)\n"
     ]
    }
   ],
   "source": [
    "# Number of words to \n",
    "# consider as features\n",
    "max_features = 10000      # Words are ranked\n",
    "\n",
    "# Cuts off texts after this many words (among \n",
    "# the max_features most common words)\n",
    "maxlen = 500\n",
    "\n",
    "batch_size = 32\n",
    "\n",
    "print('Loading data...')\n",
    "(input_train, y_train), (input_test, y_test) = tf.keras.datasets.imdb.load_data(\n",
    "    num_words=max_features)\n",
    "print(len(input_train), 'train sequences')\n",
    "print(len(input_test), 'test sequences')\n",
    "\n",
    "print('Pad sequences (samples x time)')\n",
    "input_train = tf.keras.preprocessing.sequence.pad_sequences(\n",
    "    input_train, maxlen=maxlen)\n",
    "input_test = tf.keras.preprocessing.sequence.pad_sequences(\n",
    "    input_test, maxlen=maxlen)\n",
    "print('input_train shape:', input_train.shape)"
   ]
  },
  {
   "cell_type": "markdown",
   "metadata": {},
   "source": [
    "Let’s  train  a  simple  recurrent  network  using  an  Embedding  layer  and  a  SimpleRNN\n",
    "layer."
   ]
  },
  {
   "cell_type": "code",
   "execution_count": 5,
   "metadata": {},
   "outputs": [
    {
     "name": "stdout",
     "output_type": "stream",
     "text": [
      "Train on 20000 samples, validate on 5000 samples\n",
      "Epoch 1/10\n",
      "20000/20000 [==============================] - 30s 1ms/sample - loss: 0.6439 - acc: 0.6127 - val_loss: 0.4803 - val_acc: 0.7830\n",
      "Epoch 2/10\n",
      "20000/20000 [==============================] - 29s 1ms/sample - loss: 0.3987 - acc: 0.8285 - val_loss: 0.3854 - val_acc: 0.8352\n",
      "Epoch 3/10\n",
      "20000/20000 [==============================] - 29s 1ms/sample - loss: 0.2916 - acc: 0.8816 - val_loss: 0.4615 - val_acc: 0.7684\n",
      "Epoch 4/10\n",
      "20000/20000 [==============================] - 28s 1ms/sample - loss: 0.2126 - acc: 0.9191 - val_loss: 0.3819 - val_acc: 0.8442\n",
      "Epoch 5/10\n",
      "20000/20000 [==============================] - 29s 1ms/sample - loss: 0.1388 - acc: 0.9508 - val_loss: 0.4386 - val_acc: 0.8352\n",
      "Epoch 6/10\n",
      "20000/20000 [==============================] - 29s 1ms/sample - loss: 0.0863 - acc: 0.9721 - val_loss: 0.4447 - val_acc: 0.8488\n",
      "Epoch 7/10\n",
      "20000/20000 [==============================] - 29s 1ms/sample - loss: 0.0530 - acc: 0.9839 - val_loss: 0.4978 - val_acc: 0.8526\n",
      "Epoch 8/10\n",
      "20000/20000 [==============================] - 29s 1ms/sample - loss: 0.0341 - acc: 0.9912 - val_loss: 0.5692 - val_acc: 0.8230\n",
      "Epoch 9/10\n",
      "20000/20000 [==============================] - 29s 1ms/sample - loss: 0.0204 - acc: 0.9948 - val_loss: 0.6636 - val_acc: 0.8044\n",
      "Epoch 10/10\n",
      "20000/20000 [==============================] - 32s 2ms/sample - loss: 0.0139 - acc: 0.9962 - val_loss: 0.7083 - val_acc: 0.8118\n"
     ]
    },
    {
     "data": {
      "text/plain": [
       "<tensorflow.python.keras.callbacks.History at 0x20f304ac1d0>"
      ]
     },
     "execution_count": 5,
     "metadata": {},
     "output_type": "execute_result"
    }
   ],
   "source": [
    "model = tf.keras.Sequential()\n",
    "model.add(tf.keras.layers.Embedding(max_features, 32))\n",
    "model.add(tf.keras.layers.SimpleRNN(32))\n",
    "model.add(tf.keras.layers.Dense(1, activation= tf.keras.activations.sigmoid))\n",
    "model.compile(optimizer = tf.keras.optimizers.RMSprop(), \n",
    "              loss = tf.keras.losses.binary_crossentropy, \n",
    "              metrics= ['acc'])      #[tf.metrics.accuracy()] ) # ['acc']\n",
    "\n",
    "model.fit(input_train, y_train,\n",
    "          epochs=10,\n",
    "          batch_size=128,\n",
    "          validation_split=0.2)  # taking 20% of the data for training."
   ]
  },
  {
   "cell_type": "code",
   "execution_count": 6,
   "metadata": {},
   "outputs": [
    {
     "name": "stdout",
     "output_type": "stream",
     "text": [
      "25000/25000 [==============================] - 25s 1ms/sample - loss: 0.7322 - acc: 0.7995\n",
      "Metric  loss : 0.73\n",
      "Metric  acc : 0.8\n"
     ]
    }
   ],
   "source": [
    "result = model.evaluate(input_test, y_test)\n",
    "for i in range(len(model.metrics_names)):\n",
    "     print(\"Metric \",model.metrics_names[i],\":\", str(round(result[i],2)))"
   ]
  },
  {
   "cell_type": "code",
   "execution_count": 7,
   "metadata": {},
   "outputs": [
    {
     "data": {
      "image/png": "[encoded data removed]",
      "text/plain": [
       "<Figure size 432x288 with 1 Axes>"
      ]
     },
     "metadata": {
      "needs_background": "light"
     },
     "output_type": "display_data"
    },
    {
     "data": {
      "image/png": "[encoded data removed]",
      "text/plain": [
       "<Figure size 432x288 with 1 Axes>"
      ]
     },
     "metadata": {
      "needs_background": "light"
     },
     "output_type": "display_data"
    }
   ],
   "source": [
    "acc = model.history.history['acc']\n",
    "val_acc = model.history.history['val_acc']\n",
    "loss = model.history.history['loss']\n",
    "val_loss = model.history.history['val_loss']\n",
    "\n",
    "epochs = range(1, len(acc) + 1)\n",
    "\n",
    "plt.figure()\n",
    "plt.plot(epochs, loss, 'bo', label='Training loss')\n",
    "plt.plot(epochs, val_loss, 'b', label='Validation loss')\n",
    "plt.title('Training and validation loss')\n",
    "plt.legend()\n",
    "plt.show()\n",
    "\n",
    "plt.figure()\n",
    "plt.plot(epochs, acc, 'bo', label='Training acc')\n",
    "plt.plot(epochs, val_acc, 'b', label='Validation acc')\n",
    "plt.title('Training and validation accuracy')\n",
    "plt.legend()\n",
    "plt.show()"
   ]
  },
  {
   "cell_type": "markdown",
   "metadata": {},
   "source": [
    "Unfortunately, this small recurrent network doesn’t perform very well only $78%$ validation accuracy. Part of the problem is that the inputs only consider the first $500$ words, rather than full sequences-hence. The remainder of the problem is that **SimpleRNN isn’t good at processing long sequences, such as text**."
   ]
  },
  {
   "cell_type": "markdown",
   "metadata": {},
   "source": [
    "## Long Short-Term Memory (LSTM) and Gated Recurrent Unit (GRU) layers\n",
    "\n",
    "SimpleRNN isn’t the only recurrent layer available in Keras. There are two others: **LSTM** and **GRU**. In practice, you’ll always use one of these, because *SimpleRNN is generally too simplistic to be of real use*. SimpleRNN has a major issue: although it should theoretically be able to retain at time t information about inputs seen many timesteps before, in practice, such long-term dependencies are impossible to learn. This is due to the **vanishing gradient problem**, an effect that is similar to what is observed with non-recurrent networks (feedforward networks) that are many layers deep: **as you keep adding layers to a network, the network eventually becomes untrainable**. The theoretical reasons for this effect were studied by Hochreiter, Schmidhuber, and Bengio in the early 1990s.\n",
    "\n",
    "The **LSTM** and **GRU** layers are designed to solve this problem.\n",
    "\n",
    "###  Long Short-Term Memory (LSTM)\n",
    "Developed by Hochreiter and Schmidhuber in 1997; this algorithm was the culmination of their research on the vanishing gradient problem."
   ]
  },
  {
   "cell_type": "markdown",
   "metadata": {},
   "source": [
    "This layer is a variant of the SimpleRNN layer you already know about; it **adds a way\n",
    "to carry information across many timesteps**. Imagine a conveyor belt running parallel\n",
    "to the sequence you’re processing. Information from the sequence can jump onto the\n",
    "conveyor belt at any point, be transported to a later timestep, and jump off, intact,\n",
    "when you need it. **This is essentially what LSTM does** : *it saves information for later, thus preventing older signals from gradually vanishing during processing*."
   ]
  },
  {
   "cell_type": "code",
   "execution_count": 20,
   "metadata": {},
   "outputs": [
    {
     "name": "stderr",
     "output_type": "stream",
     "text": [
      "Using TensorFlow backend.\n"
     ]
    },
    {
     "name": "stdout",
     "output_type": "stream",
     "text": [
      "Train on 20000 samples, validate on 5000 samples\n",
      "Epoch 1/10\n",
      "20000/20000 [==============================] - 128s 6ms/sample - loss: 0.4988 - acc: 0.7591 - val_loss: 0.3449 - val_acc: 0.8682\n",
      "Epoch 2/10\n",
      "20000/20000 [==============================] - 135s 7ms/sample - loss: 0.2896 - acc: 0.8882 - val_loss: 0.2730 - val_acc: 0.8894\n",
      "Epoch 3/10\n",
      "20000/20000 [==============================] - 137s 7ms/sample - loss: 0.2326 - acc: 0.9128 - val_loss: 0.3376 - val_acc: 0.8576\n",
      "Epoch 4/10\n",
      "20000/20000 [==============================] - 142s 7ms/sample - loss: 0.2012 - acc: 0.9250 - val_loss: 0.3626 - val_acc: 0.8772\n",
      "Epoch 5/10\n",
      "20000/20000 [==============================] - 133s 7ms/sample - loss: 0.1785 - acc: 0.9364 - val_loss: 0.2887 - val_acc: 0.8816\n",
      "Epoch 6/10\n",
      "20000/20000 [==============================] - 130s 6ms/sample - loss: 0.1595 - acc: 0.9447 - val_loss: 0.3640 - val_acc: 0.8764\n",
      "Epoch 7/10\n",
      "20000/20000 [==============================] - 114s 6ms/sample - loss: 0.1441 - acc: 0.9500 - val_loss: 0.3161 - val_acc: 0.8678\n",
      "Epoch 8/10\n",
      "20000/20000 [==============================] - 119s 6ms/sample - loss: 0.1332 - acc: 0.9539 - val_loss: 0.3995 - val_acc: 0.8784\n",
      "Epoch 9/10\n",
      "20000/20000 [==============================] - 114s 6ms/sample - loss: 0.1237 - acc: 0.9559 - val_loss: 0.3857 - val_acc: 0.8786\n",
      "Epoch 10/10\n",
      "20000/20000 [==============================] - 150s 7ms/sample - loss: 0.1127 - acc: 0.9617 - val_loss: 0.3411 - val_acc: 0.8786\n"
     ]
    },
    {
     "data": {
      "text/plain": [
       "<tensorflow.python.keras.callbacks.History at 0x1fc705e49e8>"
      ]
     },
     "execution_count": 20,
     "metadata": {},
     "output_type": "execute_result"
    }
   ],
   "source": [
    "from keras.layers import LSTM\n",
    "\n",
    "model = tf.keras.Sequential()\n",
    "model.add(tf.keras.layers.Embedding(max_features, 32))\n",
    "model.add(tf.keras.layers.LSTM(32)) # LSTM Embedding\n",
    "model.add(tf.keras.layers.Dense(1, activation=tf.keras.activations.sigmoid))\n",
    "model.compile(optimizer=tf.keras.optimizers.RMSprop(),\n",
    "              loss=tf.keras.losses.binary_crossentropy,\n",
    "              metrics=['acc'])\n",
    "\n",
    "model.fit(input_train, y_train,\n",
    "          epochs=10,\n",
    "          batch_size=128,\n",
    "          validation_split=0.2)"
   ]
  },
  {
   "cell_type": "code",
   "execution_count": 21,
   "metadata": {},
   "outputs": [
    {
     "name": "stdout",
     "output_type": "stream",
     "text": [
      "25000/25000 [==============================] - 61s 2ms/sample - loss: 0.3942 - acc: 0.8646\n",
      "Metric  loss : 0.39\n",
      "Metric  acc : 0.86\n"
     ]
    }
   ],
   "source": [
    "result = model.evaluate(input_test, y_test)\n",
    "for i in range(len(model.metrics_names)):\n",
    "     print(\"Metric \",model.metrics_names[i],\":\", str(round(result[i],2)))"
   ]
  },
  {
   "cell_type": "code",
   "execution_count": 23,
   "metadata": {},
   "outputs": [
    {
     "data": {
      "image/png": "[encoded data removed]",
      "text/plain": [
       "<Figure size 432x288 with 1 Axes>"
      ]
     },
     "metadata": {
      "needs_background": "light"
     },
     "output_type": "display_data"
    },
    {
     "data": {
      "image/png": "[encoded data removed]",
      "text/plain": [
       "<Figure size 432x288 with 1 Axes>"
      ]
     },
     "metadata": {
      "needs_background": "light"
     },
     "output_type": "display_data"
    }
   ],
   "source": [
    "acc = model.history.history['acc']\n",
    "val_acc = model.history.history['val_acc']\n",
    "loss = model.history.history['loss']\n",
    "val_loss = model.history.history['val_loss']\n",
    "\n",
    "epochs = range(1, len(acc) + 1)\n",
    "\n",
    "plt.figure()\n",
    "plt.plot(epochs, loss, 'bo', label='Training loss')\n",
    "plt.plot(epochs, val_loss, 'b', label='Validation loss')\n",
    "plt.title('Training and validation loss')\n",
    "plt.legend()\n",
    "plt.show()\n",
    "\n",
    "plt.figure()\n",
    "plt.plot(epochs, acc, 'bo', label='Training acc')\n",
    "plt.plot(epochs, val_acc, 'b', label='Validation acc')\n",
    "plt.title('Training and validation accuracy')\n",
    "plt.legend()\n",
    "plt.show()"
   ]
  },
  {
   "cell_type": "markdown",
   "metadata": {},
   "source": [
    "This time, you achieve up to 86% validation accuracy. Not bad: certainly much better\n",
    "than the SimpleRNN network—that’s largely because LSTM suffers much less from the\n",
    "vanishing-gradient problem—and slightly better than the fully connected approach\n",
    "from chapter 3, even though you’re looking at less data than you were in chapter 3.\n",
    "You’re truncating sequences after 500 timesteps, whereas in chapter 3, you were con-\n",
    "sidering full sequences.\n",
    "\n",
    "  But  this  result  isn’t  groundbreaking  for  such  a  computationally  intensive\n",
    "approach. Why isn’t LSTM performing better? One reason is that you made no effort\n",
    "to tune hyperparameters such as the embeddings dimensionality or the LSTM output\n",
    "dimensionality. Another may be lack of regularization. But honestly, the primary rea-\n",
    "son is that analyzing the global, long-term structure of the reviews (what LSTM is good\n",
    "at) isn’t helpful for a sentiment-analysis problem. Such a basic problem is well solved\n",
    "by looking at what words occur in each review, and at what frequency. That’s what the\n",
    "first  fully  connected  approach  looked  at.  But  there  are  far  more  difficult  natural-\n",
    "language-processing  problems  out  there,  where  the  strength  of  LSTM  will  become\n",
    "apparent: in particular, question-answering and machine translation."
   ]
  },
  {
   "cell_type": "markdown",
   "metadata": {},
   "source": [
    "## Weather timeseries dataset\n",
    "\n",
    "The weather timeseries dataset (https://s3.amazonaws.com/keras-datasets/jena_climate_2009_2016.csv.zip) was recorded at the Weather Station at the Max Planck Institute for Biogeochemistry in Jena, Germany.\n",
    "\n",
    "In this dataset, $14$ different quantities (such air temperature, atmospheric pressure, humidity, wind direction, and so on) were recorded every $10$ minutes, over several years. The original data goes back to $2003$, but this example is limited to data\n",
    "from  $2009-2016$.  \n",
    "\n",
    "This  dataset  is  perfect  for  learning  to  work  with  numerical timeseries. We’ll use it to build a model that takes as input some data from the recent past (a few days’ worth of data points) and predicts the air temperature $24$ hours in the future."
   ]
  },
  {
   "cell_type": "code",
   "execution_count": 4,
   "metadata": {},
   "outputs": [
    {
     "name": "stdout",
     "output_type": "stream",
     "text": [
      "['\"Date Time\"', '\"p (mbar)\"', '\"T (degC)\"', '\"Tpot (K)\"', '\"Tdew (degC)\"', '\"rh (%)\"', '\"VPmax (mbar)\"', '\"VPact (mbar)\"', '\"VPdef (mbar)\"', '\"sh (g/kg)\"', '\"H2OC (mmol/mol)\"', '\"rho (g/m**3)\"', '\"wv (m/s)\"', '\"max. wv (m/s)\"', '\"wd (deg)\"']\n",
      "420551\n"
     ]
    }
   ],
   "source": [
    "import os\n",
    "data_dir = './data/jena_climate'\n",
    "fname = os.path.join(data_dir, 'jena_climate_2009_2016.csv')\n",
    "f = open(fname)\n",
    "data = f.read()\n",
    "f.close()\n",
    "\n",
    "lines = data.split('\\n')\n",
    "header = lines[0].split(',')\n",
    "lines = lines[1:]\n",
    "\n",
    "print(header)\n",
    "print(len(lines))"
   ]
  },
  {
   "cell_type": "code",
   "execution_count": 5,
   "metadata": {},
   "outputs": [],
   "source": [
    "# Now, convert all 420,551 lines of data into a Numpy array.\n",
    "float_data = np.zeros((len(lines), len(header) - 1))\n",
    "for i, line in enumerate(lines):\n",
    "    # we are not taking the first element of the list [1:] \n",
    "    # The Date time values\n",
    "    values = [float(x) for x in line.split(',')[1:]] #; ipdb.set_trace()\n",
    "    float_data[i, :] = values"
   ]
  },
  {
   "cell_type": "code",
   "execution_count": 6,
   "metadata": {},
   "outputs": [
    {
     "data": {
      "text/plain": [
       "(420551, 14)"
      ]
     },
     "execution_count": 6,
     "metadata": {},
     "output_type": "execute_result"
    }
   ],
   "source": [
    "float_data.shape"
   ]
  },
  {
   "cell_type": "code",
   "execution_count": 7,
   "metadata": {},
   "outputs": [
    {
     "data": {
      "text/plain": [
       "15"
      ]
     },
     "execution_count": 7,
     "metadata": {},
     "output_type": "execute_result"
    }
   ],
   "source": [
    "len(header)"
   ]
  },
  {
   "cell_type": "code",
   "execution_count": 8,
   "metadata": {},
   "outputs": [
    {
     "data": {
      "image/png": "[encoded data removed]",
      "text/plain": [
       "<Figure size 432x288 with 1 Axes>"
      ]
     },
     "metadata": {
      "needs_background": "light"
     },
     "output_type": "display_data"
    }
   ],
   "source": [
    "# Plotting the temperature timeseries\n",
    "temp = float_data[:, 1] #<1> temperature (in degrees Celsius)\n",
    "plt.plot(range(len(temp)), temp)\n",
    "plt.title(\"Temperature over the full temporal range of the dataset (ºC)\")\n",
    "plt.show()"
   ]
  },
  {
   "cell_type": "markdown",
   "metadata": {},
   "source": [
    "Let plot a more narrow plot of the first 10 days of temperature data.\n",
    "\n",
    "Because the data is recorded every $10$ minutes, you get $6*24=144$ data points per day ($1440$ for $10$ days)."
   ]
  },
  {
   "cell_type": "code",
   "execution_count": 9,
   "metadata": {},
   "outputs": [
    {
     "data": {
      "image/png": "[encoded data removed]",
      "text/plain": [
       "<Figure size 432x288 with 1 Axes>"
      ]
     },
     "metadata": {
      "needs_background": "light"
     },
     "output_type": "display_data"
    }
   ],
   "source": [
    "# Plotting the first 10 days of the temperature timeseries\n",
    "plt.plot(range(1440), temp[:1440])\n",
    "plt.title(\"Temperature over the first 10 days\")\n",
    "plt.show()"
   ]
  },
  {
   "cell_type": "code",
   "execution_count": 10,
   "metadata": {},
   "outputs": [
    {
     "data": {
      "text/plain": [
       "(420551, 14)"
      ]
     },
     "execution_count": 10,
     "metadata": {},
     "output_type": "execute_result"
    }
   ],
   "source": [
    "float_data.shape"
   ]
  },
  {
   "cell_type": "markdown",
   "metadata": {},
   "source": [
    "If you were trying to predict average temperature for the *next month given* a few\n",
    "months of past data, the problem would be **easy, due to the reliable year-scale periodicity of the data**. But looking at the data over a *scale of days*, the temperature looks a lot more **chaotic**. \n",
    "\n",
    "**Is this timeseries predictable at a daily scale?** Let’s find out."
   ]
  },
  {
   "cell_type": "markdown",
   "metadata": {},
   "source": [
    "### Preparing the data\n",
    "\n",
    "The exact formulation of the problem will be as follows: \n",
    "\n",
    "**given data going as far back as lookback timesteps (a timestep is 10 minutes) and sampled every steps timesteps, can you predict the temperature in delay timesteps?**\n",
    "\n",
    "You’ll use the following parameter values:\n",
    "\n",
    "- **lookback** = $720$-Observations will go back $5$ days (144*5=720).\n",
    "- **steps** = $6$-Observations will be sampled at one data point per hour.\n",
    "- **delay** = $144$-Targets will be $24$ hours in the future.\n",
    "\n",
    "To get started, you need to do two things:\n",
    "\n",
    "* Preprocess the data to a format a neural network can ingest. \n",
    "\n",
    "This is easy: the data is already numerical, so we don’t need to do any vectorization. But each timeseries in the data is on a different scale (see below). You’ll *normalize each timeseries independently so that they all\n",
    "take small values on a similar scale*."
   ]
  },
  {
   "cell_type": "code",
   "execution_count": 31,
   "metadata": {},
   "outputs": [],
   "source": [
    "# Remove Date Time as well, as we are not considering it in our analysis \n",
    "# Notice run this line just once \n",
    "header.remove(header[0])"
   ]
  },
  {
   "cell_type": "code",
   "execution_count": 32,
   "metadata": {},
   "outputs": [],
   "source": [
    "float_data_p = pd.DataFrame(float_data, columns = header)"
   ]
  },
  {
   "cell_type": "code",
   "execution_count": 33,
   "metadata": {},
   "outputs": [
    {
     "data": {
      "text/html": [
       "<div>\n",
       "<style scoped>\n",
       "    .dataframe tbody tr th:only-of-type {\n",
       "        vertical-align: middle;\n",
       "    }\n",
       "\n",
       "    .dataframe tbody tr th {\n",
       "        vertical-align: top;\n",
       "    }\n",
       "\n",
       "    .dataframe thead th {\n",
       "        text-align: right;\n",
       "    }\n",
       "</style>\n",
       "<table border=\"1\" class=\"dataframe\">\n",
       "  <thead>\n",
       "    <tr style=\"text-align: right;\">\n",
       "      <th></th>\n",
       "      <th>\"p (mbar)\"</th>\n",
       "      <th>\"T (degC)\"</th>\n",
       "      <th>\"Tpot (K)\"</th>\n",
       "      <th>\"Tdew (degC)\"</th>\n",
       "      <th>\"rh (%)\"</th>\n",
       "      <th>\"VPmax (mbar)\"</th>\n",
       "      <th>\"VPact (mbar)\"</th>\n",
       "      <th>\"VPdef (mbar)\"</th>\n",
       "      <th>\"sh (g/kg)\"</th>\n",
       "      <th>\"H2OC (mmol/mol)\"</th>\n",
       "      <th>\"rho (g/m**3)\"</th>\n",
       "      <th>\"wv (m/s)\"</th>\n",
       "      <th>\"max. wv (m/s)\"</th>\n",
       "      <th>\"wd (deg)\"</th>\n",
       "    </tr>\n",
       "  </thead>\n",
       "  <tbody>\n",
       "    <tr>\n",
       "      <th>0</th>\n",
       "      <td>996.52</td>\n",
       "      <td>-8.02</td>\n",
       "      <td>265.40</td>\n",
       "      <td>-8.90</td>\n",
       "      <td>93.3</td>\n",
       "      <td>3.33</td>\n",
       "      <td>3.11</td>\n",
       "      <td>0.22</td>\n",
       "      <td>1.94</td>\n",
       "      <td>3.12</td>\n",
       "      <td>1307.75</td>\n",
       "      <td>1.03</td>\n",
       "      <td>1.75</td>\n",
       "      <td>152.3</td>\n",
       "    </tr>\n",
       "    <tr>\n",
       "      <th>1</th>\n",
       "      <td>996.57</td>\n",
       "      <td>-8.41</td>\n",
       "      <td>265.01</td>\n",
       "      <td>-9.28</td>\n",
       "      <td>93.4</td>\n",
       "      <td>3.23</td>\n",
       "      <td>3.02</td>\n",
       "      <td>0.21</td>\n",
       "      <td>1.89</td>\n",
       "      <td>3.03</td>\n",
       "      <td>1309.80</td>\n",
       "      <td>0.72</td>\n",
       "      <td>1.50</td>\n",
       "      <td>136.1</td>\n",
       "    </tr>\n",
       "    <tr>\n",
       "      <th>2</th>\n",
       "      <td>996.53</td>\n",
       "      <td>-8.51</td>\n",
       "      <td>264.91</td>\n",
       "      <td>-9.31</td>\n",
       "      <td>93.9</td>\n",
       "      <td>3.21</td>\n",
       "      <td>3.01</td>\n",
       "      <td>0.20</td>\n",
       "      <td>1.88</td>\n",
       "      <td>3.02</td>\n",
       "      <td>1310.24</td>\n",
       "      <td>0.19</td>\n",
       "      <td>0.63</td>\n",
       "      <td>171.6</td>\n",
       "    </tr>\n",
       "    <tr>\n",
       "      <th>3</th>\n",
       "      <td>996.51</td>\n",
       "      <td>-8.31</td>\n",
       "      <td>265.12</td>\n",
       "      <td>-9.07</td>\n",
       "      <td>94.2</td>\n",
       "      <td>3.26</td>\n",
       "      <td>3.07</td>\n",
       "      <td>0.19</td>\n",
       "      <td>1.92</td>\n",
       "      <td>3.08</td>\n",
       "      <td>1309.19</td>\n",
       "      <td>0.34</td>\n",
       "      <td>0.50</td>\n",
       "      <td>198.0</td>\n",
       "    </tr>\n",
       "    <tr>\n",
       "      <th>4</th>\n",
       "      <td>996.51</td>\n",
       "      <td>-8.27</td>\n",
       "      <td>265.15</td>\n",
       "      <td>-9.04</td>\n",
       "      <td>94.1</td>\n",
       "      <td>3.27</td>\n",
       "      <td>3.08</td>\n",
       "      <td>0.19</td>\n",
       "      <td>1.92</td>\n",
       "      <td>3.09</td>\n",
       "      <td>1309.00</td>\n",
       "      <td>0.32</td>\n",
       "      <td>0.63</td>\n",
       "      <td>214.3</td>\n",
       "    </tr>\n",
       "  </tbody>\n",
       "</table>\n",
       "</div>"
      ],
      "text/plain": [
       "   \"p (mbar)\"  \"T (degC)\"  \"Tpot (K)\"  \"Tdew (degC)\"  \"rh (%)\"  \\\n",
       "0      996.52       -8.02      265.40          -8.90      93.3   \n",
       "1      996.57       -8.41      265.01          -9.28      93.4   \n",
       "2      996.53       -8.51      264.91          -9.31      93.9   \n",
       "3      996.51       -8.31      265.12          -9.07      94.2   \n",
       "4      996.51       -8.27      265.15          -9.04      94.1   \n",
       "\n",
       "   \"VPmax (mbar)\"  \"VPact (mbar)\"  \"VPdef (mbar)\"  \"sh (g/kg)\"  \\\n",
       "0            3.33            3.11            0.22         1.94   \n",
       "1            3.23            3.02            0.21         1.89   \n",
       "2            3.21            3.01            0.20         1.88   \n",
       "3            3.26            3.07            0.19         1.92   \n",
       "4            3.27            3.08            0.19         1.92   \n",
       "\n",
       "   \"H2OC (mmol/mol)\"  \"rho (g/m**3)\"  \"wv (m/s)\"  \"max. wv (m/s)\"  \"wd (deg)\"  \n",
       "0               3.12         1307.75        1.03             1.75       152.3  \n",
       "1               3.03         1309.80        0.72             1.50       136.1  \n",
       "2               3.02         1310.24        0.19             0.63       171.6  \n",
       "3               3.08         1309.19        0.34             0.50       198.0  \n",
       "4               3.09         1309.00        0.32             0.63       214.3  "
      ]
     },
     "execution_count": 33,
     "metadata": {},
     "output_type": "execute_result"
    }
   ],
   "source": [
    "float_data_p.head()"
   ]
  },
  {
   "cell_type": "code",
   "execution_count": 34,
   "metadata": {},
   "outputs": [
    {
     "data": {
      "text/html": [
       "<div>\n",
       "<style scoped>\n",
       "    .dataframe tbody tr th:only-of-type {\n",
       "        vertical-align: middle;\n",
       "    }\n",
       "\n",
       "    .dataframe tbody tr th {\n",
       "        vertical-align: top;\n",
       "    }\n",
       "\n",
       "    .dataframe thead th {\n",
       "        text-align: right;\n",
       "    }\n",
       "</style>\n",
       "<table border=\"1\" class=\"dataframe\">\n",
       "  <thead>\n",
       "    <tr style=\"text-align: right;\">\n",
       "      <th></th>\n",
       "      <th>\"p (mbar)\"</th>\n",
       "      <th>\"T (degC)\"</th>\n",
       "      <th>\"Tpot (K)\"</th>\n",
       "      <th>\"Tdew (degC)\"</th>\n",
       "      <th>\"rh (%)\"</th>\n",
       "      <th>\"VPmax (mbar)\"</th>\n",
       "      <th>\"VPact (mbar)\"</th>\n",
       "      <th>\"VPdef (mbar)\"</th>\n",
       "      <th>\"sh (g/kg)\"</th>\n",
       "      <th>\"H2OC (mmol/mol)\"</th>\n",
       "      <th>\"rho (g/m**3)\"</th>\n",
       "      <th>\"wv (m/s)\"</th>\n",
       "      <th>\"max. wv (m/s)\"</th>\n",
       "      <th>\"wd (deg)\"</th>\n",
       "    </tr>\n",
       "  </thead>\n",
       "  <tbody>\n",
       "    <tr>\n",
       "      <th>count</th>\n",
       "      <td>420551.000000</td>\n",
       "      <td>420551.000000</td>\n",
       "      <td>420551.000000</td>\n",
       "      <td>420551.000000</td>\n",
       "      <td>420551.000000</td>\n",
       "      <td>420551.000000</td>\n",
       "      <td>420551.000000</td>\n",
       "      <td>420551.000000</td>\n",
       "      <td>420551.000000</td>\n",
       "      <td>420551.000000</td>\n",
       "      <td>420551.000000</td>\n",
       "      <td>420551.000000</td>\n",
       "      <td>420551.000000</td>\n",
       "      <td>420551.000000</td>\n",
       "    </tr>\n",
       "    <tr>\n",
       "      <th>mean</th>\n",
       "      <td>989.212776</td>\n",
       "      <td>9.450147</td>\n",
       "      <td>283.492743</td>\n",
       "      <td>4.955854</td>\n",
       "      <td>76.008259</td>\n",
       "      <td>13.576251</td>\n",
       "      <td>9.533756</td>\n",
       "      <td>4.042412</td>\n",
       "      <td>6.022408</td>\n",
       "      <td>9.640223</td>\n",
       "      <td>1216.062748</td>\n",
       "      <td>1.702224</td>\n",
       "      <td>3.056555</td>\n",
       "      <td>174.743738</td>\n",
       "    </tr>\n",
       "    <tr>\n",
       "      <th>std</th>\n",
       "      <td>8.358481</td>\n",
       "      <td>8.423365</td>\n",
       "      <td>8.504471</td>\n",
       "      <td>6.730674</td>\n",
       "      <td>16.476175</td>\n",
       "      <td>7.739020</td>\n",
       "      <td>4.184164</td>\n",
       "      <td>4.896851</td>\n",
       "      <td>2.656139</td>\n",
       "      <td>4.235395</td>\n",
       "      <td>39.975208</td>\n",
       "      <td>65.446714</td>\n",
       "      <td>69.016932</td>\n",
       "      <td>86.681693</td>\n",
       "    </tr>\n",
       "    <tr>\n",
       "      <th>min</th>\n",
       "      <td>913.600000</td>\n",
       "      <td>-23.010000</td>\n",
       "      <td>250.600000</td>\n",
       "      <td>-25.010000</td>\n",
       "      <td>12.950000</td>\n",
       "      <td>0.950000</td>\n",
       "      <td>0.790000</td>\n",
       "      <td>0.000000</td>\n",
       "      <td>0.500000</td>\n",
       "      <td>0.800000</td>\n",
       "      <td>1059.450000</td>\n",
       "      <td>-9999.000000</td>\n",
       "      <td>-9999.000000</td>\n",
       "      <td>0.000000</td>\n",
       "    </tr>\n",
       "    <tr>\n",
       "      <th>25%</th>\n",
       "      <td>984.200000</td>\n",
       "      <td>3.360000</td>\n",
       "      <td>277.430000</td>\n",
       "      <td>0.240000</td>\n",
       "      <td>65.210000</td>\n",
       "      <td>7.780000</td>\n",
       "      <td>6.210000</td>\n",
       "      <td>0.870000</td>\n",
       "      <td>3.920000</td>\n",
       "      <td>6.290000</td>\n",
       "      <td>1187.490000</td>\n",
       "      <td>0.990000</td>\n",
       "      <td>1.760000</td>\n",
       "      <td>124.900000</td>\n",
       "    </tr>\n",
       "    <tr>\n",
       "      <th>50%</th>\n",
       "      <td>989.580000</td>\n",
       "      <td>9.420000</td>\n",
       "      <td>283.470000</td>\n",
       "      <td>5.220000</td>\n",
       "      <td>79.300000</td>\n",
       "      <td>11.820000</td>\n",
       "      <td>8.860000</td>\n",
       "      <td>2.190000</td>\n",
       "      <td>5.590000</td>\n",
       "      <td>8.960000</td>\n",
       "      <td>1213.790000</td>\n",
       "      <td>1.760000</td>\n",
       "      <td>2.960000</td>\n",
       "      <td>198.100000</td>\n",
       "    </tr>\n",
       "    <tr>\n",
       "      <th>75%</th>\n",
       "      <td>994.720000</td>\n",
       "      <td>15.470000</td>\n",
       "      <td>289.530000</td>\n",
       "      <td>10.070000</td>\n",
       "      <td>89.400000</td>\n",
       "      <td>17.600000</td>\n",
       "      <td>12.350000</td>\n",
       "      <td>5.300000</td>\n",
       "      <td>7.800000</td>\n",
       "      <td>12.490000</td>\n",
       "      <td>1242.770000</td>\n",
       "      <td>2.860000</td>\n",
       "      <td>4.740000</td>\n",
       "      <td>234.100000</td>\n",
       "    </tr>\n",
       "    <tr>\n",
       "      <th>max</th>\n",
       "      <td>1015.350000</td>\n",
       "      <td>37.280000</td>\n",
       "      <td>311.340000</td>\n",
       "      <td>23.110000</td>\n",
       "      <td>100.000000</td>\n",
       "      <td>63.770000</td>\n",
       "      <td>28.320000</td>\n",
       "      <td>46.010000</td>\n",
       "      <td>18.130000</td>\n",
       "      <td>28.820000</td>\n",
       "      <td>1393.540000</td>\n",
       "      <td>28.490000</td>\n",
       "      <td>23.500000</td>\n",
       "      <td>360.000000</td>\n",
       "    </tr>\n",
       "  </tbody>\n",
       "</table>\n",
       "</div>"
      ],
      "text/plain": [
       "          \"p (mbar)\"     \"T (degC)\"     \"Tpot (K)\"  \"Tdew (degC)\"  \\\n",
       "count  420551.000000  420551.000000  420551.000000  420551.000000   \n",
       "mean      989.212776       9.450147     283.492743       4.955854   \n",
       "std         8.358481       8.423365       8.504471       6.730674   \n",
       "min       913.600000     -23.010000     250.600000     -25.010000   \n",
       "25%       984.200000       3.360000     277.430000       0.240000   \n",
       "50%       989.580000       9.420000     283.470000       5.220000   \n",
       "75%       994.720000      15.470000     289.530000      10.070000   \n",
       "max      1015.350000      37.280000     311.340000      23.110000   \n",
       "\n",
       "            \"rh (%)\"  \"VPmax (mbar)\"  \"VPact (mbar)\"  \"VPdef (mbar)\"  \\\n",
       "count  420551.000000   420551.000000   420551.000000   420551.000000   \n",
       "mean       76.008259       13.576251        9.533756        4.042412   \n",
       "std        16.476175        7.739020        4.184164        4.896851   \n",
       "min        12.950000        0.950000        0.790000        0.000000   \n",
       "25%        65.210000        7.780000        6.210000        0.870000   \n",
       "50%        79.300000       11.820000        8.860000        2.190000   \n",
       "75%        89.400000       17.600000       12.350000        5.300000   \n",
       "max       100.000000       63.770000       28.320000       46.010000   \n",
       "\n",
       "         \"sh (g/kg)\"  \"H2OC (mmol/mol)\"  \"rho (g/m**3)\"     \"wv (m/s)\"  \\\n",
       "count  420551.000000      420551.000000   420551.000000  420551.000000   \n",
       "mean        6.022408           9.640223     1216.062748       1.702224   \n",
       "std         2.656139           4.235395       39.975208      65.446714   \n",
       "min         0.500000           0.800000     1059.450000   -9999.000000   \n",
       "25%         3.920000           6.290000     1187.490000       0.990000   \n",
       "50%         5.590000           8.960000     1213.790000       1.760000   \n",
       "75%         7.800000          12.490000     1242.770000       2.860000   \n",
       "max        18.130000          28.820000     1393.540000      28.490000   \n",
       "\n",
       "       \"max. wv (m/s)\"     \"wd (deg)\"  \n",
       "count    420551.000000  420551.000000  \n",
       "mean          3.056555     174.743738  \n",
       "std          69.016932      86.681693  \n",
       "min       -9999.000000       0.000000  \n",
       "25%           1.760000     124.900000  \n",
       "50%           2.960000     198.100000  \n",
       "75%           4.740000     234.100000  \n",
       "max          23.500000     360.000000  "
      ]
     },
     "execution_count": 34,
     "metadata": {},
     "output_type": "execute_result"
    }
   ],
   "source": [
    "float_data_p.describe()"
   ]
  },
  {
   "cell_type": "markdown",
   "metadata": {},
   "source": [
    "* Write a Python generator that takes the current array of float data and yields batches of data from the recent past, along with a target temperature in the future.\n",
    "\n",
    "Because the samples in the dataset are highly redundant (sample $N$ and sample $N + 1$ will have most of their timesteps in common), it would be wasteful to explicitly allocate every sample. Instead, we’ll generate the samples on the fly using the original data.\n",
    "\n",
    "We’ll preprocess the data by subtracting the mean of each timeseries and dividing by the standard deviation. We’re going to use the first $200,000$ timesteps as training data. let go"
   ]
  },
  {
   "cell_type": "code",
   "execution_count": 35,
   "metadata": {},
   "outputs": [],
   "source": [
    "# We are going to use the first 200,000 timesteps as training data,\n",
    "# so compute the mean and standard deviation only on this fraction of the data.\n",
    "\n",
    "float_data = (float_data - \n",
    "              float_data[:200000].mean(axis=0))/float_data[:200000].std(axis=0)"
   ]
  },
  {
   "cell_type": "code",
   "execution_count": 36,
   "metadata": {},
   "outputs": [
    {
     "data": {
      "text/plain": [
       "(420551, 14)"
      ]
     },
     "execution_count": 36,
     "metadata": {},
     "output_type": "execute_result"
    }
   ],
   "source": [
    "float_data.shape"
   ]
  },
  {
   "cell_type": "code",
   "execution_count": null,
   "metadata": {},
   "outputs": [],
   "source": []
  },
  {
   "cell_type": "code",
   "execution_count": 37,
   "metadata": {},
   "outputs": [
    {
     "data": {
      "text/html": [
       "<div>\n",
       "<style scoped>\n",
       "    .dataframe tbody tr th:only-of-type {\n",
       "        vertical-align: middle;\n",
       "    }\n",
       "\n",
       "    .dataframe tbody tr th {\n",
       "        vertical-align: top;\n",
       "    }\n",
       "\n",
       "    .dataframe thead th {\n",
       "        text-align: right;\n",
       "    }\n",
       "</style>\n",
       "<table border=\"1\" class=\"dataframe\">\n",
       "  <thead>\n",
       "    <tr style=\"text-align: right;\">\n",
       "      <th></th>\n",
       "      <th>\"p (mbar)\"</th>\n",
       "      <th>\"T (degC)\"</th>\n",
       "      <th>\"Tpot (K)\"</th>\n",
       "      <th>\"Tdew (degC)\"</th>\n",
       "      <th>\"rh (%)\"</th>\n",
       "      <th>\"VPmax (mbar)\"</th>\n",
       "      <th>\"VPact (mbar)\"</th>\n",
       "      <th>\"VPdef (mbar)\"</th>\n",
       "      <th>\"sh (g/kg)\"</th>\n",
       "      <th>\"H2OC (mmol/mol)\"</th>\n",
       "      <th>\"rho (g/m**3)\"</th>\n",
       "      <th>\"wv (m/s)\"</th>\n",
       "      <th>\"max. wv (m/s)\"</th>\n",
       "      <th>\"wd (deg)\"</th>\n",
       "    </tr>\n",
       "  </thead>\n",
       "  <tbody>\n",
       "    <tr>\n",
       "      <th>count</th>\n",
       "      <td>420551.000000</td>\n",
       "      <td>420551.000000</td>\n",
       "      <td>420551.000000</td>\n",
       "      <td>420551.000000</td>\n",
       "      <td>420551.000000</td>\n",
       "      <td>420551.000000</td>\n",
       "      <td>420551.000000</td>\n",
       "      <td>420551.000000</td>\n",
       "      <td>420551.000000</td>\n",
       "      <td>420551.000000</td>\n",
       "      <td>420551.000000</td>\n",
       "      <td>420551.000000</td>\n",
       "      <td>420551.000000</td>\n",
       "      <td>420551.000000</td>\n",
       "    </tr>\n",
       "    <tr>\n",
       "      <th>mean</th>\n",
       "      <td>0.038491</td>\n",
       "      <td>0.042112</td>\n",
       "      <td>0.038693</td>\n",
       "      <td>0.070795</td>\n",
       "      <td>0.039110</td>\n",
       "      <td>0.025139</td>\n",
       "      <td>0.056407</td>\n",
       "      <td>-0.008988</td>\n",
       "      <td>0.055220</td>\n",
       "      <td>0.055270</td>\n",
       "      <td>-0.034163</td>\n",
       "      <td>-0.292048</td>\n",
       "      <td>-0.220088</td>\n",
       "      <td>-0.017010</td>\n",
       "    </tr>\n",
       "    <tr>\n",
       "      <th>std</th>\n",
       "      <td>0.985619</td>\n",
       "      <td>0.951524</td>\n",
       "      <td>0.949876</td>\n",
       "      <td>0.939271</td>\n",
       "      <td>0.984986</td>\n",
       "      <td>1.006486</td>\n",
       "      <td>0.996685</td>\n",
       "      <td>1.011674</td>\n",
       "      <td>0.996432</td>\n",
       "      <td>0.996080</td>\n",
       "      <td>0.940840</td>\n",
       "      <td>42.590113</td>\n",
       "      <td>29.612448</td>\n",
       "      <td>1.000790</td>\n",
       "    </tr>\n",
       "    <tr>\n",
       "      <th>min</th>\n",
       "      <td>-8.877654</td>\n",
       "      <td>-3.624666</td>\n",
       "      <td>-3.635143</td>\n",
       "      <td>-4.110963</td>\n",
       "      <td>-3.730668</td>\n",
       "      <td>-1.616949</td>\n",
       "      <td>-2.026391</td>\n",
       "      <td>-0.844138</td>\n",
       "      <td>-2.016473</td>\n",
       "      <td>-2.023773</td>\n",
       "      <td>-3.720137</td>\n",
       "      <td>-6508.350427</td>\n",
       "      <td>-4291.708700</td>\n",
       "      <td>-2.034528</td>\n",
       "    </tr>\n",
       "    <tr>\n",
       "      <th>25%</th>\n",
       "      <td>-0.552608</td>\n",
       "      <td>-0.645846</td>\n",
       "      <td>-0.638463</td>\n",
       "      <td>-0.587306</td>\n",
       "      <td>-0.606437</td>\n",
       "      <td>-0.728684</td>\n",
       "      <td>-0.735325</td>\n",
       "      <td>-0.664398</td>\n",
       "      <td>-0.733484</td>\n",
       "      <td>-0.732635</td>\n",
       "      <td>-0.706640</td>\n",
       "      <td>-0.755535</td>\n",
       "      <td>-0.776389</td>\n",
       "      <td>-0.592485</td>\n",
       "    </tr>\n",
       "    <tr>\n",
       "      <th>50%</th>\n",
       "      <td>0.081793</td>\n",
       "      <td>0.038707</td>\n",
       "      <td>0.036153</td>\n",
       "      <td>0.107657</td>\n",
       "      <td>0.235898</td>\n",
       "      <td>-0.203268</td>\n",
       "      <td>-0.104085</td>\n",
       "      <td>-0.391691</td>\n",
       "      <td>-0.106995</td>\n",
       "      <td>-0.104704</td>\n",
       "      <td>-0.087654</td>\n",
       "      <td>-0.254450</td>\n",
       "      <td>-0.261516</td>\n",
       "      <td>0.252652</td>\n",
       "    </tr>\n",
       "    <tr>\n",
       "      <th>75%</th>\n",
       "      <td>0.687894</td>\n",
       "      <td>0.722130</td>\n",
       "      <td>0.713003</td>\n",
       "      <td>0.784478</td>\n",
       "      <td>0.839701</td>\n",
       "      <td>0.548441</td>\n",
       "      <td>0.727248</td>\n",
       "      <td>0.250826</td>\n",
       "      <td>0.722071</td>\n",
       "      <td>0.725481</td>\n",
       "      <td>0.594408</td>\n",
       "      <td>0.461387</td>\n",
       "      <td>0.502212</td>\n",
       "      <td>0.668292</td>\n",
       "    </tr>\n",
       "    <tr>\n",
       "      <th>max</th>\n",
       "      <td>3.120553</td>\n",
       "      <td>3.185841</td>\n",
       "      <td>3.148992</td>\n",
       "      <td>2.604220</td>\n",
       "      <td>1.473395</td>\n",
       "      <td>6.553010</td>\n",
       "      <td>4.531366</td>\n",
       "      <td>8.661384</td>\n",
       "      <td>4.597300</td>\n",
       "      <td>4.565969</td>\n",
       "      <td>4.142869</td>\n",
       "      <td>17.140369</td>\n",
       "      <td>8.551389</td>\n",
       "      <td>2.121881</td>\n",
       "    </tr>\n",
       "  </tbody>\n",
       "</table>\n",
       "</div>"
      ],
      "text/plain": [
       "          \"p (mbar)\"     \"T (degC)\"     \"Tpot (K)\"  \"Tdew (degC)\"  \\\n",
       "count  420551.000000  420551.000000  420551.000000  420551.000000   \n",
       "mean        0.038491       0.042112       0.038693       0.070795   \n",
       "std         0.985619       0.951524       0.949876       0.939271   \n",
       "min        -8.877654      -3.624666      -3.635143      -4.110963   \n",
       "25%        -0.552608      -0.645846      -0.638463      -0.587306   \n",
       "50%         0.081793       0.038707       0.036153       0.107657   \n",
       "75%         0.687894       0.722130       0.713003       0.784478   \n",
       "max         3.120553       3.185841       3.148992       2.604220   \n",
       "\n",
       "            \"rh (%)\"  \"VPmax (mbar)\"  \"VPact (mbar)\"  \"VPdef (mbar)\"  \\\n",
       "count  420551.000000   420551.000000   420551.000000   420551.000000   \n",
       "mean        0.039110        0.025139        0.056407       -0.008988   \n",
       "std         0.984986        1.006486        0.996685        1.011674   \n",
       "min        -3.730668       -1.616949       -2.026391       -0.844138   \n",
       "25%        -0.606437       -0.728684       -0.735325       -0.664398   \n",
       "50%         0.235898       -0.203268       -0.104085       -0.391691   \n",
       "75%         0.839701        0.548441        0.727248        0.250826   \n",
       "max         1.473395        6.553010        4.531366        8.661384   \n",
       "\n",
       "         \"sh (g/kg)\"  \"H2OC (mmol/mol)\"  \"rho (g/m**3)\"     \"wv (m/s)\"  \\\n",
       "count  420551.000000      420551.000000   420551.000000  420551.000000   \n",
       "mean        0.055220           0.055270       -0.034163      -0.292048   \n",
       "std         0.996432           0.996080        0.940840      42.590113   \n",
       "min        -2.016473          -2.023773       -3.720137   -6508.350427   \n",
       "25%        -0.733484          -0.732635       -0.706640      -0.755535   \n",
       "50%        -0.106995          -0.104704       -0.087654      -0.254450   \n",
       "75%         0.722071           0.725481        0.594408       0.461387   \n",
       "max         4.597300           4.565969        4.142869      17.140369   \n",
       "\n",
       "       \"max. wv (m/s)\"     \"wd (deg)\"  \n",
       "count    420551.000000  420551.000000  \n",
       "mean         -0.220088      -0.017010  \n",
       "std          29.612448       1.000790  \n",
       "min       -4291.708700      -2.034528  \n",
       "25%          -0.776389      -0.592485  \n",
       "50%          -0.261516       0.252652  \n",
       "75%           0.502212       0.668292  \n",
       "max           8.551389       2.121881  "
      ]
     },
     "execution_count": 37,
     "metadata": {},
     "output_type": "execute_result"
    }
   ],
   "source": [
    "float_data_p = pd.DataFrame(float_data, columns = header)\n",
    "float_data_p.describe()"
   ]
  },
  {
   "cell_type": "markdown",
   "metadata": {},
   "source": [
    "The data is well scalled now, let continue "
   ]
  },
  {
   "cell_type": "code",
   "execution_count": 11,
   "metadata": {},
   "outputs": [],
   "source": [
    "def generator(data, lookback, delay, min_index, max_index,\n",
    "              shuffle=False, batch_size=128, step=6):\n",
    "    \n",
    "    \"\"\"\n",
    "     data : The original array of floating-point data.\n",
    "     lookback : How many timesteps back the input data should go.\n",
    "     delay : How many timesteps in the future the target should be.\n",
    "     min_index and max_index : Indices in the data array that delimit which time-\n",
    "    steps to draw from. \n",
    "     shuffle : Whether to shuffle the samples or draw them in chronological order.\n",
    "     batch_size : The number of samples per batch.\n",
    "     step : The period, in timesteps, at which you sample data. You’ll set it to 6 in\n",
    "    order to draw one data point every hour.\n",
    "    \"\"\"\n",
    "#     ipdb.set_trace()\n",
    "    if max_index is None:\n",
    "        max_index = len(data) - delay - 1\n",
    "    i = min_index + lookback\n",
    "    while 1:\n",
    "        if shuffle:\n",
    "            # from the min to the max, as an array of size = batch_size\n",
    "            rows = np.random.randint(\n",
    "                min_index + lookback, max_index, size=batch_size)\n",
    "        else:\n",
    "            if i + batch_size >= max_index:\n",
    "                i = min_index + lookback\n",
    "            rows = np.arange(i, min(i + batch_size, max_index))\n",
    "            i += len(rows)\n",
    "        samples = np.zeros((len(rows),\n",
    "                            lookback // step,\n",
    "                            data.shape[-1]))\n",
    "        targets = np.zeros((len(rows),))\n",
    "        for j, row in enumerate(rows):\n",
    "            indices = range(rows[j] - lookback, rows[j], step)\n",
    "            samples[j] = data[indices]\n",
    "            targets[j] = data[rows[j] + delay][1]\n",
    "        yield samples, targets"
   ]
  },
  {
   "cell_type": "markdown",
   "metadata": {},
   "source": [
    "The **training** generator looks at the first $200,000$ timesteps, the **validation** generator looks at the following $100,000$, and the **test** generator looks at the remainder."
   ]
  },
  {
   "cell_type": "code",
   "execution_count": 12,
   "metadata": {},
   "outputs": [],
   "source": [
    "lookback = 1440    # 10 days\n",
    "step = 6           # 1 day\n",
    "delay = 144        # 24 hours\n",
    "batch_size = 128\n",
    "\n",
    "train_gen = generator(float_data,\n",
    "                      lookback=lookback,\n",
    "                      delay=delay,\n",
    "                      min_index=0,\n",
    "                      max_index=200000,\n",
    "                      shuffle=True,\n",
    "                      step=step,\n",
    "                      batch_size=batch_size)\n",
    "\n",
    "val_gen = generator(float_data,\n",
    "                    lookback=lookback,\n",
    "                    delay=delay,\n",
    "                    min_index=200001,\n",
    "                    max_index=300000,\n",
    "                    step=step,\n",
    "                    batch_size=batch_size)\n",
    "\n",
    "test_gen = generator(float_data,\n",
    "                     lookback=lookback,\n",
    "                     delay=delay,\n",
    "                     min_index=300001,\n",
    "                     max_index=None,\n",
    "                     step=step,\n",
    "                     batch_size=batch_size)\n",
    "\n",
    "# How many steps to draw from \n",
    "# val_gen in order to see the \n",
    "# entire validation set\n",
    "val_steps = (300000 - 200001 - lookback)\n",
    "\n",
    "# How many steps to draw \n",
    "# from test_gen in order to \n",
    "# see the entire test set \n",
    "test_steps = (len(float_data) - 300001 - lookback)"
   ]
  },
  {
   "cell_type": "code",
   "execution_count": 56,
   "metadata": {},
   "outputs": [
    {
     "name": "stdout",
     "output_type": "stream",
     "text": [
      "0.22875778988453477\n"
     ]
    }
   ],
   "source": [
    "def evaluate_naive_method():\n",
    "    batch_maes = []\n",
    "    for step in range(val_steps):\n",
    "        samples, targets = next(val_gen)\n",
    "        preds = samples[:, -1, 1]\n",
    "        mae = np.mean(np.abs(preds - targets))\n",
    "    batch_maes.append(mae)\n",
    "    print(np.mean(batch_maes))\n",
    "    \n",
    "evaluate_naive_method()"
   ]
  },
  {
   "cell_type": "markdown",
   "metadata": {},
   "source": [
    "This yields an MAE of $0.22$. Because the temperature data has been normalized to be\n",
    "centered on 0 and have a standard deviation of $1$, this number isn’t immediately interpretable. It translates to an average absolute error of $0.22 ×$ temperature_std degrees\n",
    "Celsius: $2.57˚C$."
   ]
  },
  {
   "cell_type": "code",
   "execution_count": 98,
   "metadata": {},
   "outputs": [
    {
     "data": {
      "text/plain": [
       "1.9475497980850165"
      ]
     },
     "execution_count": 98,
     "metadata": {},
     "output_type": "execute_result"
    }
   ],
   "source": [
    "# Converting the MAE back to a Celsius error\n",
    "celsius_mae = 0.22 * std[1]; celsius_mae"
   ]
  },
  {
   "cell_type": "markdown",
   "metadata": {},
   "source": [
    "The following code shows a fully connected model that starts by flattening the\n",
    "data and then runs it through two Dense layers. Note the lack of activation function on\n",
    "the last Dense layer, which is typical for a regression problem. You use MAE as the loss.\n",
    "Because you evaluate on the exact same data and with the exact same metric you did\n",
    "with the common-sense approach, the results will be directly comparable."
   ]
  },
  {
   "cell_type": "code",
   "execution_count": 109,
   "metadata": {},
   "outputs": [],
   "source": [
    "model = tf.keras.Sequential()\n",
    "model.add(tf.keras.layers.Flatten(input_shape=(lookback // step, float_data.shape[-1])))\n",
    "model.add(tf.keras.layers.Dense(32, activation='relu'))\n",
    "model.add(tf.keras.layers.Dense(1))"
   ]
  },
  {
   "cell_type": "code",
   "execution_count": null,
   "metadata": {},
   "outputs": [
    {
     "name": "stdout",
     "output_type": "stream",
     "text": [
      "Epoch 1/20\n",
      "98559/98559 [==============================] - 2079s 21ms/step - loss: 0.3632\n",
      "500/500 [==============================] - 2090s 4s/step - loss: 0.6777 - val_loss: 0.3632\n",
      "Epoch 3/20\n",
      " 9337/98559 [=>............................] - ETA: 1:25:13 - loss: 0.30"
     ]
    }
   ],
   "source": [
    "model.compile(optimizer=tf.keras.optimizers.RMSprop(),\n",
    "              loss='mae')\n",
    "\n",
    "history = model.fit_generator(train_gen,\n",
    "                              steps_per_epoch=500,\n",
    "                              epochs=20,\n",
    "                              validation_data=val_gen,\n",
    "                              validation_steps=val_steps)"
   ]
  },
  {
   "cell_type": "markdown",
   "metadata": {},
   "source": [
    "Let’s display the loss curves for validation and training"
   ]
  },
  {
   "cell_type": "code",
   "execution_count": null,
   "metadata": {},
   "outputs": [],
   "source": [
    "loss = history.history['loss']\n",
    "val_loss = history.history['val_loss']\n",
    "\n",
    "epochs = range(1, len(loss) + 1)\n",
    "\n",
    "plt.figure()\n",
    "plt.plot(epochs, loss, 'bo', label='Training loss')\n",
    "plt.plot(epochs, val_loss, 'b', label='Validation loss')\n",
    "plt.title('Training and validation loss')\n",
    "plt.legend()\n",
    "plt.show()"
   ]
  },
  {
   "cell_type": "markdown",
   "metadata": {},
   "source": [
    "Instead of the LSTM layer introduced in the previous section, you’ll use the GRU\n",
    "layer, developed by Chung et al. in $2014$. **Gated recurrent unit (GRU) layers** work\n",
    "using  the  same  principle  as  LSTM,  but  they’re  somewhat  streamlined  and  thus\n",
    "cheaper  to  run  (although  they  may  not have  as  much  representational  power  as\n",
    "LSTM).  *This  trade-off  between  computational  expensiveness  and  representational\n",
    "power is seen everywhere in machine learning*."
   ]
  },
  {
   "cell_type": "code",
   "execution_count": null,
   "metadata": {},
   "outputs": [],
   "source": [
    "model = tf.keras.Sequential()\n",
    "\n",
    "model.add(tf.keras.layers.GRU(32, input_shape=(None, float_data.shape[-1])))\n",
    "model.add(tf.keras.layers.Dense(1))\n",
    "\n",
    "model.compile(optimizer=tf.keras.optimizers.RMSprop(),\n",
    "              loss='mae')\n",
    "\n",
    "history = model.fit_generator(train_gen,\n",
    "                              steps_per_epoch=500,\n",
    "                              epochs=20,\n",
    "                              validation_data=val_gen,\n",
    "                              validation_steps=val_steps)"
   ]
  },
  {
   "cell_type": "markdown",
   "metadata": {},
   "source": [
    "#### Training and evaluating a dropout-regularized GRU-based model"
   ]
  },
  {
   "cell_type": "code",
   "execution_count": null,
   "metadata": {},
   "outputs": [],
   "source": [
    "\n",
    "model = tf.keras.Sequential()\n",
    "\n",
    "model.add(tf.keras.layers.GRU(32, \n",
    "                              dropout=0.2,\n",
    "                              recurrent_dropout=0.2,\n",
    "                              input_shape=(None, float_data.shape[-1])))\n",
    "\n",
    "model.add(tf.keras.layers.Dense(1))\n",
    "\n",
    "model.compile(optimizer=tf.keras.optimizers.RMSprop(),\n",
    "              loss='mae')\n",
    "\n",
    "history = model.fit_generator(train_gen,\n",
    "                              steps_per_epoch=500,\n",
    "                              epochs=20,\n",
    "                              validation_data=val_gen,\n",
    "                              validation_steps=val_steps)"
   ]
  },
  {
   "cell_type": "markdown",
   "metadata": {},
   "source": [
    "### Training and evaluating a dropout-regularized, stacked GRU model"
   ]
  },
  {
   "cell_type": "code",
   "execution_count": null,
   "metadata": {},
   "outputs": [],
   "source": [
    "model = tf.keras.Sequential()\n",
    "\n",
    "model.add(tf.keras.layers.GRU(32, \n",
    "                              dropout=0.2,\n",
    "                              recurrent_dropout=0.2,\n",
    "                              return_sequences=True,\n",
    "                              input_shape=(None, float_data.shape[-1])))\n",
    "\n",
    "model.add(tf.keras.layers.GRU(32, \n",
    "                              dropout=0.2,\n",
    "                              activation='relu',\n",
    "                              dropout=0.1,\n",
    "                              recurrent_dropout=0.5))\n",
    "\n",
    "model.add(tf.keras.layers.Dense(1))\n",
    "\n",
    "model.compile(optimizer=tf.keras.optimizers.RMSprop(),\n",
    "              loss='mae')\n",
    "\n",
    "history = model.fit_generator(train_gen,\n",
    "                              steps_per_epoch=500,\n",
    "                              epochs=40,\n",
    "                              validation_data=val_gen,\n",
    "                              validation_steps=val_steps)"
   ]
  },
  {
   "cell_type": "markdown",
   "metadata": {},
   "source": [
    "#### Using bidirectional RNNs"
   ]
  },
  {
   "cell_type": "code",
   "execution_count": null,
   "metadata": {},
   "outputs": [],
   "source": []
  },
  {
   "cell_type": "markdown",
   "metadata": {},
   "source": [
    "### Training and evaluating an LSTM using reversed sequences"
   ]
  },
  {
   "cell_type": "code",
   "execution_count": null,
   "metadata": {},
   "outputs": [],
   "source": []
  },
  {
   "cell_type": "markdown",
   "metadata": {},
   "source": [
    "#### Training and evaluating a bidirectional LSTM"
   ]
  },
  {
   "cell_type": "code",
   "execution_count": null,
   "metadata": {},
   "outputs": [],
   "source": []
  },
  {
   "cell_type": "markdown",
   "metadata": {},
   "source": [
    "#### Training a bidirectional GRU"
   ]
  },
  {
   "cell_type": "code",
   "execution_count": null,
   "metadata": {},
   "outputs": [],
   "source": []
  },
  {
   "cell_type": "markdown",
   "metadata": {},
   "source": [
    "# Implementing a 1D convnet\n",
    "\n",
    "##  Preprocess Internet Movie Database (IMDB) DataSet"
   ]
  },
  {
   "cell_type": "code",
   "execution_count": 11,
   "metadata": {},
   "outputs": [
    {
     "name": "stdout",
     "output_type": "stream",
     "text": [
      "Loading data...\n",
      "25000 train sequences\n",
      "25000 test sequences\n",
      "Pad sequences (samples x time)\n",
      "x_train shape: (25000, 500)\n",
      "x_test shape: (25000, 500)\n"
     ]
    }
   ],
   "source": [
    "# Number of words to \n",
    "# consider as features\n",
    "max_features = 10000      # Words are ranked\n",
    "\n",
    "# Cuts off texts after this many words (among \n",
    "# the max_features most common words)\n",
    "max_len = 500\n",
    "\n",
    "print('Loading data...')\n",
    "(x_train, y_train), (x_test, y_test) = tf.keras.datasets.imdb.load_data(\n",
    "    num_words=max_features)\n",
    "\n",
    "print(len(x_train), 'train sequences')\n",
    "print(len(x_test), 'test sequences')\n",
    "\n",
    "print('Pad sequences (samples x time)')\n",
    "x_train = tf.keras.preprocessing.sequence.pad_sequences(\n",
    "    x_train, maxlen=max_len)\n",
    "x_test = tf.keras.preprocessing.sequence.pad_sequences(\n",
    "    x_test, maxlen=max_len)\n",
    "print('x_train shape:', x_train.shape)\n",
    "print('x_test shape:', x_test.shape)"
   ]
  },
  {
   "cell_type": "code",
   "execution_count": 20,
   "metadata": {},
   "outputs": [
    {
     "name": "stdout",
     "output_type": "stream",
     "text": [
      "_________________________________________________________________\n",
      "Layer (type)                 Output Shape              Param #   \n",
      "=================================================================\n",
      "embedding_7 (Embedding)      (None, 500, 128)          1280000   \n",
      "_________________________________________________________________\n",
      "conv1d_6 (Conv1D)            (None, 494, 32)           28704     \n",
      "_________________________________________________________________\n",
      "max_pooling1d_6 (MaxPooling1 (None, 98, 32)            0         \n",
      "_________________________________________________________________\n",
      "conv1d_7 (Conv1D)            (None, 92, 32)            7200      \n",
      "_________________________________________________________________\n",
      "global_max_pooling1d (Global (None, 32)                0         \n",
      "_________________________________________________________________\n",
      "dense_7 (Dense)              (None, 1)                 33        \n",
      "=================================================================\n",
      "Total params: 1,315,937\n",
      "Trainable params: 1,315,937\n",
      "Non-trainable params: 0\n",
      "_________________________________________________________________\n"
     ]
    }
   ],
   "source": [
    "model = tf.keras.Sequential()\n",
    "\n",
    "model.add(tf.keras.layers.Embedding(max_features, 128, \n",
    "                                     input_length=max_len))\n",
    "model.add(tf.keras.layers.Conv1D(32, 7, \n",
    "                                 activation='relu'))\n",
    "model.add(tf.keras.layers.MaxPooling1D(5))\n",
    "model.add(tf.keras.layers.Conv1D(32, 7, \n",
    "                                 activation='relu'))\n",
    "model.add(tf.keras.layers.GlobalMaxPooling1D())\n",
    "model.add(tf.keras.layers.Dense(1))\n",
    "\n",
    "model.summary()"
   ]
  },
  {
   "cell_type": "code",
   "execution_count": 22,
   "metadata": {},
   "outputs": [
    {
     "name": "stdout",
     "output_type": "stream",
     "text": [
      "Train on 20000 samples, validate on 5000 samples\n",
      "Epoch 1/10\n",
      "20000/20000 [==============================] - 87s 4ms/sample - loss: 0.8951 - acc: 0.5111 - val_loss: 0.6870 - val_acc: 0.5736\n",
      "Epoch 2/10\n",
      "20000/20000 [==============================] - 101s 5ms/sample - loss: 0.6732 - acc: 0.6388 - val_loss: 0.6646 - val_acc: 0.6742\n",
      "Epoch 3/10\n",
      "20000/20000 [==============================] - 111s 6ms/sample - loss: 0.6314 - acc: 0.7462 - val_loss: 0.6187 - val_acc: 0.7188\n",
      "Epoch 4/10\n",
      "20000/20000 [==============================] - 97s 5ms/sample - loss: 0.5488 - acc: 0.8070 - val_loss: 0.5116 - val_acc: 0.7942\n",
      "Epoch 5/10\n",
      "20000/20000 [==============================] - 91s 5ms/sample - loss: 0.4273 - acc: 0.8414 - val_loss: 0.4294 - val_acc: 0.8244\n",
      "Epoch 6/10\n",
      "20000/20000 [==============================] - 106s 5ms/sample - loss: 0.3573 - acc: 0.8687 - val_loss: 0.4012 - val_acc: 0.8412\n",
      "Epoch 7/10\n",
      "20000/20000 [==============================] - 108s 5ms/sample - loss: 0.3157 - acc: 0.8865 - val_loss: 0.3934 - val_acc: 0.8530\n",
      "Epoch 8/10\n",
      "20000/20000 [==============================] - 106s 5ms/sample - loss: 0.2816 - acc: 0.8997 - val_loss: 0.3999 - val_acc: 0.8602\n",
      "Epoch 9/10\n",
      "20000/20000 [==============================] - 108s 5ms/sample - loss: 0.2556 - acc: 0.9111 - val_loss: 0.4179 - val_acc: 0.8650\n",
      "Epoch 10/10\n",
      "20000/20000 [==============================] - 105s 5ms/sample - loss: 0.2331 - acc: 0.9198 - val_loss: 0.4466 - val_acc: 0.8622\n"
     ]
    },
    {
     "data": {
      "text/plain": [
       "<tensorflow.python.keras.callbacks.History at 0x20f36c7dcc0>"
      ]
     },
     "execution_count": 22,
     "metadata": {},
     "output_type": "execute_result"
    }
   ],
   "source": [
    "model.compile(optimizer=tf.keras.optimizers.RMSprop(lr=1e-4),\n",
    "              loss=tf.keras.losses.binary_crossentropy,\n",
    "             metrics=['acc'])\n",
    "\n",
    "model.fit(x_train, y_train,\n",
    "          epochs=10, batch_size=128,\n",
    "          validation_split=0.2)"
   ]
  },
  {
   "cell_type": "code",
   "execution_count": 23,
   "metadata": {},
   "outputs": [
    {
     "data": {
      "image/png": "[encoded data removed]",
      "text/plain": [
       "<Figure size 432x288 with 1 Axes>"
      ]
     },
     "metadata": {
      "needs_background": "light"
     },
     "output_type": "display_data"
    },
    {
     "data": {
      "image/png": "[encoded data removed]",
      "text/plain": [
       "<Figure size 432x288 with 1 Axes>"
      ]
     },
     "metadata": {
      "needs_background": "light"
     },
     "output_type": "display_data"
    }
   ],
   "source": [
    "acc = model.history.history['acc']\n",
    "val_acc = model.history.history['val_acc']\n",
    "loss = model.history.history['loss']\n",
    "val_loss = model.history.history['val_loss']\n",
    "\n",
    "epochs = range(1, len(acc) + 1)\n",
    "\n",
    "plt.figure()\n",
    "plt.plot(epochs, loss, 'bo', label='Training loss')\n",
    "plt.plot(epochs, val_loss, 'b', label='Validation loss')\n",
    "plt.title('Training and validation loss')\n",
    "plt.legend()\n",
    "plt.show()\n",
    "\n",
    "plt.figure()\n",
    "plt.plot(epochs, acc, 'bo', label='Training acc')\n",
    "plt.plot(epochs, val_acc, 'b', label='Validation acc')\n",
    "plt.title('Training and validation accuracy')\n",
    "plt.legend()\n",
    "plt.show()"
   ]
  },
  {
   "cell_type": "markdown",
   "metadata": {},
   "source": [
    "## Combining CNNs and RNNs to process long sequences"
   ]
  },
  {
   "cell_type": "code",
   "execution_count": null,
   "metadata": {},
   "outputs": [
    {
     "name": "stdout",
     "output_type": "stream",
     "text": [
      "Epoch 1/20\n",
      "98559/98559 [==============================] - 3387s 34ms/step - loss: 3.9991\n",
      "500/500 [==============================] - 3430s 7s/step - loss: 3.7623 - val_loss: 3.9991\n",
      "Epoch 5/20\n",
      "98559/98559 [==============================] - 3567s 36ms/step - loss: 4.1027\n",
      "500/500 [==============================] - 3608s 7s/step - loss: 3.3529 - val_loss: 4.1027\n",
      "Epoch 10/20\n",
      "147/500 [=======>......................] - ETA: 30s - loss: 3.2649"
     ]
    }
   ],
   "source": [
    "model = tf.keras.Sequential()\n",
    "\n",
    "model.add(tf.keras.layers.Conv1D(32, 5,\n",
    "                                 activation='relu',\n",
    "                                 input_shape=(None, float_data.shape[-1])))\n",
    "model.add(tf.keras.layers.MaxPooling1D(3))\n",
    "model.add(tf.keras.layers.Conv1D(32, 5,\n",
    "                                 activation='relu'))\n",
    "model.add(tf.keras.layers.MaxPooling1D(3))\n",
    "model.add(tf.keras.layers.Conv1D(32, 5,\n",
    "                                 activation='relu'))\n",
    "model.add(tf.keras.layers.GlobalMaxPooling1D())\n",
    "model.add(tf.keras.layers.Dense(1))\n",
    "\n",
    "model.compile(optimizer=tf.keras.optimizers.RMSprop(),\n",
    "              loss='mae')\n",
    "\n",
    "history = model.fit_generator(train_gen,\n",
    "                              steps_per_epoch=500,\n",
    "                              epochs=20,\n",
    "                              validation_data=val_gen,\n",
    "                              validation_steps=val_steps)"
   ]
  },
  {
   "cell_type": "code",
   "execution_count": null,
   "metadata": {},
   "outputs": [],
   "source": []
  }
 ],
 "metadata": {
  "kernelspec": {
   "display_name": "Python 3.6 (AIMS SA)",
   "language": "python",
   "name": "aims"
  },
  "language_info": {
   "codemirror_mode": {
    "name": "ipython",
    "version": 3
   },
   "file_extension": ".py",
   "mimetype": "text/x-python",
   "name": "python",
   "nbconvert_exporter": "python",
   "pygments_lexer": "ipython3",
   "version": "3.6.7"
  }
 },
 "nbformat": 4,
 "nbformat_minor": 2
}
