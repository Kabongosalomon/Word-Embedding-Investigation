{
 "cells": [
  {
   "cell_type": "markdown",
   "metadata": {
    "colab_type": "text",
    "id": "view-in-github"
   },
   "source": [
    "<a href=\"https://colab.research.google.com/github/Kabongosalomon/Word-Embedding-Investigation/blob/master/An%20empirical%20investigation%20into%20the%20properties%20of%20standard%20word%20embeddings.ipynb\" target=\"_parent\"><img src=\"https://colab.research.google.com/assets/colab-badge.svg\" alt=\"Open In Colab\"/></a>"
   ]
  },
  {
   "cell_type": "markdown",
   "metadata": {
    "colab_type": "text",
    "id": "-zPdBDab5P3I"
   },
   "source": [
    "<img src=\"https://raw.githubusercontent.com/Kabongosalomon/Data-Science-With-Jeff-Sander/master/aims-za-logo.jpg\" width=\"100\" alt=\"cognitiveclass.ai logo\" />\n",
    "\n",
    "\n",
    "\n"
   ]
  },
  {
   "cell_type": "markdown",
   "metadata": {
    "colab_type": "text",
    "id": "v2BR2njWxZFx"
   },
   "source": [
    "# IMdb Sentiment Analysis Task\n",
    "\n",
    "## Importing usefull packages "
   ]
  },
  {
   "cell_type": "code",
   "execution_count": 1,
   "metadata": {
    "colab": {
     "base_uri": "https://localhost:8080/",
     "height": 765
    },
    "colab_type": "code",
    "id": "FGvhB20yetpY",
    "outputId": "c999c205-ec91-4012-ee89-e97bd01c7589"
   },
   "outputs": [
    {
     "name": "stderr",
     "output_type": "stream",
     "text": [
      "Using TensorFlow backend.\n",
      "[nltk_data] Downloading package punkt to /home/aims/nltk_data...\n",
      "[nltk_data]   Package punkt is already up-to-date!\n",
      "[nltk_data] Downloading package stopwords to /home/aims/nltk_data...\n",
      "[nltk_data]   Package stopwords is already up-to-date!\n"
     ]
    },
    {
     "name": "stdout",
     "output_type": "stream",
     "text": [
      "Collecting numpy==1.16.2\n",
      "  Using cached https://files.pythonhosted.org/packages/91/e7/6c780e612d245cca62bc3ba8e263038f7c144a96a54f877f3714a0e8427e/numpy-1.16.2-cp37-cp37m-manylinux1_x86_64.whl\n",
      "Installing collected packages: numpy\n",
      "  Found existing installation: numpy 1.17.2\n",
      "    Uninstalling numpy-1.17.2:\n",
      "      Successfully uninstalled numpy-1.17.2\n",
      "Successfully installed numpy-1.16.2\n",
      "1.17.2\n",
      "Requirement already satisfied: ipdb in /home/aims/anaconda3/envs/aims-tf-1/lib/python3.7/site-packages (0.12.2)\n",
      "Requirement already satisfied: setuptools in /home/aims/anaconda3/envs/aims-tf-1/lib/python3.7/site-packages (from ipdb) (41.6.0.post20191030)\n",
      "Requirement already satisfied: ipython>=5.1.0; python_version >= \"3.4\" in /home/aims/anaconda3/envs/aims-tf-1/lib/python3.7/site-packages (from ipdb) (7.9.0)\n",
      "Requirement already satisfied: pexpect; sys_platform != \"win32\" in /home/aims/anaconda3/envs/aims-tf-1/lib/python3.7/site-packages (from ipython>=5.1.0; python_version >= \"3.4\"->ipdb) (4.7.0)\n",
      "Requirement already satisfied: prompt-toolkit<2.1.0,>=2.0.0 in /home/aims/anaconda3/envs/aims-tf-1/lib/python3.7/site-packages (from ipython>=5.1.0; python_version >= \"3.4\"->ipdb) (2.0.10)\n",
      "Requirement already satisfied: pickleshare in /home/aims/anaconda3/envs/aims-tf-1/lib/python3.7/site-packages (from ipython>=5.1.0; python_version >= \"3.4\"->ipdb) (0.7.5)\n",
      "Requirement already satisfied: decorator in /home/aims/anaconda3/envs/aims-tf-1/lib/python3.7/site-packages (from ipython>=5.1.0; python_version >= \"3.4\"->ipdb) (4.4.1)\n",
      "Requirement already satisfied: jedi>=0.10 in /home/aims/anaconda3/envs/aims-tf-1/lib/python3.7/site-packages (from ipython>=5.1.0; python_version >= \"3.4\"->ipdb) (0.15.1)\n",
      "Requirement already satisfied: traitlets>=4.2 in /home/aims/anaconda3/envs/aims-tf-1/lib/python3.7/site-packages (from ipython>=5.1.0; python_version >= \"3.4\"->ipdb) (4.3.3)\n",
      "Requirement already satisfied: pygments in /home/aims/anaconda3/envs/aims-tf-1/lib/python3.7/site-packages (from ipython>=5.1.0; python_version >= \"3.4\"->ipdb) (2.4.2)\n",
      "Requirement already satisfied: backcall in /home/aims/anaconda3/envs/aims-tf-1/lib/python3.7/site-packages (from ipython>=5.1.0; python_version >= \"3.4\"->ipdb) (0.1.0)\n",
      "Requirement already satisfied: ptyprocess>=0.5 in /home/aims/anaconda3/envs/aims-tf-1/lib/python3.7/site-packages (from pexpect; sys_platform != \"win32\"->ipython>=5.1.0; python_version >= \"3.4\"->ipdb) (0.6.0)\n",
      "Requirement already satisfied: wcwidth in /home/aims/anaconda3/envs/aims-tf-1/lib/python3.7/site-packages (from prompt-toolkit<2.1.0,>=2.0.0->ipython>=5.1.0; python_version >= \"3.4\"->ipdb) (0.1.7)\n",
      "Requirement already satisfied: six>=1.9.0 in /home/aims/anaconda3/envs/aims-tf-1/lib/python3.7/site-packages (from prompt-toolkit<2.1.0,>=2.0.0->ipython>=5.1.0; python_version >= \"3.4\"->ipdb) (1.12.0)\n",
      "Requirement already satisfied: parso>=0.5.0 in /home/aims/anaconda3/envs/aims-tf-1/lib/python3.7/site-packages (from jedi>=0.10->ipython>=5.1.0; python_version >= \"3.4\"->ipdb) (0.5.1)\n",
      "Requirement already satisfied: ipython-genutils in /home/aims/anaconda3/envs/aims-tf-1/lib/python3.7/site-packages (from traitlets>=4.2->ipython>=5.1.0; python_version >= \"3.4\"->ipdb) (0.2.0)\n"
     ]
    }
   ],
   "source": [
    "# Import packages\n",
    "import tensorflow as tf\n",
    "# tf.enable_eager_execution()\n",
    "\n",
    "from keras.datasets import imdb\n",
    "from keras import preprocessing\n",
    "from keras.models import Sequential\n",
    "from keras.layers import Flatten, Dense\n",
    "from keras.layers import Embedding\n",
    "from keras.preprocessing.text import Tokenizer\n",
    "from keras.preprocessing.sequence import pad_sequences\n",
    "from keras import losses\n",
    "from keras import metrics\n",
    "from keras import optimizers\n",
    "from keras.layers import Dropout\n",
    "\n",
    "import string\n",
    "from nltk.tokenize import word_tokenize\n",
    "from nltk.corpus import stopwords\n",
    "\n",
    "import nltk\n",
    "nltk.download('punkt')\n",
    "nltk.download('stopwords')\n",
    "\n",
    "# Downgrate numpy to fix a problem\n",
    "!pip install numpy==1.16.2\n",
    "import numpy as np\n",
    "print(np.__version__)\n",
    "\n",
    "import matplotlib.pyplot as plt\n",
    "\n",
    "import os\n",
    "\n",
    "import numpy as np\n",
    "\n",
    "import string\n",
    "\n",
    "!pip install ipdb\n",
    "import ipdb # deb\n",
    "\n",
    "from gensim.models.keyedvectors import KeyedVectors\n",
    "\n",
    "# Spliting data\n",
    "from sklearn.model_selection import train_test_split\n",
    "\n",
    "from sklearn import metrics # For RUC\n",
    "\n",
    "from nltk.stem import PorterStemmer\n",
    "\n",
    "import tensorflow_hub as hub\n",
    "import pandas as pd\n",
    "import re\n",
    "import seaborn as sns\n",
    "\n",
    "# from google.colab import files\n",
    "\n",
    "from IPython import display\n",
    "\n",
    "import logging\n",
    "logging.getLogger('googleapiclient.discovery_cache').setLevel(logging.ERROR)"
   ]
  },
  {
   "cell_type": "code",
   "execution_count": null,
   "metadata": {
    "colab": {
     "base_uri": "https://localhost:8080/"
    },
    "colab_type": "code",
    "id": "kkBQByui3Fkt",
    "outputId": "0f3b7491-5714-435d-e3ed-fdbcfc720068"
   },
   "outputs": [
    {
     "name": "stdout",
     "output_type": "stream",
     "text": [
      "1smGRs2g2HoI6VSvonoZmWKzXOP6uPUaW\n"
     ]
    }
   ],
   "source": [
    "link = \"https://drive.google.com/file/d/1smGRs2g2HoI6VSvonoZmWKzXOP6uPUaW/view?usp=sharing\"\n",
    "\n",
    "_, id_t = link.split('d/')\n",
    "\n",
    "id = id_t.split('/')[0]\n",
    "print (id) # Verify that you have everything after '='\n",
    "\n",
    "# Install the PyDrive wrapper & import libraries.\n",
    "# This only needs to be done once per notebook.\n",
    "!pip install -U -q PyDrive\n",
    "from pydrive.auth import GoogleAuth\n",
    "from pydrive.drive import GoogleDrive\n",
    "from google.colab import auth\n",
    "from oauth2client.client import GoogleCredentials\n",
    "\n",
    "# Authenticate and create the PyDrive client.\n",
    "# This only needs to be done once per notebook.\n",
    "auth.authenticate_user()\n",
    "gauth = GoogleAuth()\n",
    "gauth.credentials = GoogleCredentials.get_application_default()\n",
    "drive = GoogleDrive(gauth)\n",
    "\n",
    "\n",
    "file_id = id\n",
    "downloaded = drive.CreateFile({'id':file_id})\n",
    "downloaded.FetchMetadata(fetch_all=True)\n",
    "downloaded.GetContentFile(downloaded.metadata['title'])"
   ]
  },
  {
   "cell_type": "markdown",
   "metadata": {
    "colab_type": "text",
    "id": "JCFOnjVFx1sg"
   },
   "source": [
    "## Loading data (Manual)\n",
    "\n",
    "If you want to manually load the data from a tex file "
   ]
  },
  {
   "cell_type": "code",
   "execution_count": null,
   "metadata": {
    "colab": {},
    "colab_type": "code",
    "id": "Wr_XoJQgx4yM"
   },
   "outputs": [],
   "source": [
    "link = \"https://drive.google.com/file/d/1smGRs2g2HoI6VSvonoZmWKzXOP6uPUaW/view?usp=sharing\"\n",
    "\n",
    "_, id_t = link.split('d/')\n",
    "\n",
    "id = id_t.split('/')[0]\n",
    "print (id) # Verify that you have everything after '='\n",
    "\n",
    "# Install the PyDrive wrapper & import libraries.\n",
    "# This only needs to be done once per notebook.\n",
    "!pip install -U -q PyDrive\n",
    "from pydrive.auth import GoogleAuth\n",
    "from pydrive.drive import GoogleDrive\n",
    "from google.colab import auth\n",
    "from oauth2client.client import GoogleCredentials\n",
    "\n",
    "# Authenticate and create the PyDrive client.\n",
    "# This only needs to be done once per notebook.\n",
    "auth.authenticate_user()\n",
    "gauth = GoogleAuth()\n",
    "gauth.credentials = GoogleCredentials.get_application_default()\n",
    "drive = GoogleDrive(gauth)\n",
    "\n",
    "\n",
    "file_id = id\n",
    "downloaded = drive.CreateFile({'id':file_id})\n",
    "downloaded.FetchMetadata(fetch_all=True)\n",
    "downloaded.GetContentFile(downloaded.metadata['title'])"
   ]
  },
  {
   "cell_type": "code",
   "execution_count": null,
   "metadata": {
    "colab": {
     "base_uri": "https://localhost:8080/"
    },
    "colab_type": "code",
    "id": "JPqYr6Sj3Fk1",
    "outputId": "ad3b0480-3cdc-47c0-f874-17e8613619a7"
   },
   "outputs": [
    {
     "name": "stdout",
     "output_type": "stream",
     "text": [
      "aclImdb.zip  crawl-300d-2M-subword.bin\tcrawl-300d-2M-subword.zip\n",
      "adc.json     crawl-300d-2M-subword.vec\tsample_data\n"
     ]
    }
   ],
   "source": [
    "!ls"
   ]
  },
  {
   "cell_type": "code",
   "execution_count": null,
   "metadata": {
    "colab": {},
    "colab_type": "code",
    "id": "VVDNN97A3Fk5"
   },
   "outputs": [],
   "source": [
    "!unzip -qq aclImdb.zip"
   ]
  },
  {
   "cell_type": "code",
   "execution_count": null,
   "metadata": {
    "colab": {},
    "colab_type": "code",
    "id": "YI_7DRX93Fk-"
   },
   "outputs": [],
   "source": [
    "!ls"
   ]
  },
  {
   "cell_type": "code",
   "execution_count": null,
   "metadata": {
    "colab": {},
    "colab_type": "code",
    "id": "Lk-Tubsp3FlO"
   },
   "outputs": [],
   "source": [
    "# imdb_dir = './data/aclImdb'\n",
    "imdb_dir = './aclImdb'\n",
    "\n",
    "# Reading in the training folder\n",
    "train_dir = os.path.join(imdb_dir, 'train')\n",
    "texts_tr_ = []\n",
    "labels_tr = []\n",
    "\n",
    "for label_type in ['neg', 'pos']:\n",
    "    dir_name = os.path.join(train_dir, label_type)\n",
    "    for fname in os.listdir(dir_name):\n",
    "        if fname[-4:] == '.txt':\n",
    "            f = open(os.path.join(dir_name, fname), encoding=\"utf8\")\n",
    "            texts_tr_.append(f.read())\n",
    "            f.close()\n",
    "            if label_type == 'neg':\n",
    "                labels_tr.append(0)\n",
    "            else:\n",
    "                labels_tr.append(1)\n",
    "\n",
    "# Reading in the testing folder\n",
    "train_dir = os.path.join(imdb_dir, 'test')\n",
    "texts_tst_ = []\n",
    "labels_tst = []\n",
    "\n",
    "for label_type in ['neg', 'pos']:\n",
    "    dir_name = os.path.join(train_dir, label_type)\n",
    "    for fname in os.listdir(dir_name):\n",
    "        if fname[-4:] == '.txt':\n",
    "            f = open(os.path.join(dir_name, fname), encoding=\"utf8\")\n",
    "            texts_tst_.append(f.read())\n",
    "            f.close()\n",
    "            if label_type == 'neg':\n",
    "                labels_tst.append(0)\n",
    "            else:\n",
    "                labels_tst.append(1)"
   ]
  },
  {
   "cell_type": "code",
   "execution_count": null,
   "metadata": {
    "colab": {},
    "colab_type": "code",
    "id": "78MzBKaa3FlR"
   },
   "outputs": [],
   "source": [
    "# Make sure that we have only 1 and 2 in the label \n",
    "(np.unique(labels_tr), np.unique(labels_tst))"
   ]
  },
  {
   "cell_type": "code",
   "execution_count": null,
   "metadata": {
    "colab": {},
    "colab_type": "code",
    "id": "2-IQncq-pYoD"
   },
   "outputs": [],
   "source": [
    "len(labels_tr)"
   ]
  },
  {
   "cell_type": "code",
   "execution_count": null,
   "metadata": {
    "colab": {},
    "colab_type": "code",
    "id": "lt4p5jWS2cXt"
   },
   "outputs": [],
   "source": [
    "# Looking at 2 examples\n",
    "print(texts_tr_[1])\n",
    "print(labels_tr[1])\n",
    "\n",
    "print(texts_tst_[-10])\n",
    "print(labels_tst[-10])"
   ]
  },
  {
   "cell_type": "markdown",
   "metadata": {
    "colab_type": "text",
    "id": "uIaToE3_r2_f"
   },
   "source": [
    "## Load pre-trained  embedding"
   ]
  },
  {
   "cell_type": "code",
   "execution_count": null,
   "metadata": {
    "colab": {
     "base_uri": "https://localhost:8080/",
     "height": 68
    },
    "colab_type": "code",
    "id": "XX00E9OCP2ie",
    "outputId": "9d3402fd-c1d6-4ad7-e070-a3e1a3942bf3"
   },
   "outputs": [
    {
     "name": "stdout",
     "output_type": "stream",
     "text": [
      "1lZhw_9cXME_eYbl1IwrMTyTEn6ONozgI\n",
      "\u001b[K     |████████████████████████████████| 993kB 6.6MB/s \n",
      "\u001b[?25h  Building wheel for PyDrive (setup.py) ... \u001b[?25l\u001b[?25hdone\n"
     ]
    }
   ],
   "source": [
    "######################################################################################################\n",
    "########################################## Fasttext###################################################\n",
    "\n",
    "# 2 million word vectors trained with subword information on Common Crawl (600B tokens).\n",
    "# link = \"https://drive.google.com/file/d/1Z_-E-gvsBP5BnJFKvX4sVnBVchdoUwsx/view?usp=sharing\"\n",
    "\n",
    "# 1 million word vectors trained with subword infomation on Wikipedia 2017, \n",
    "# UMBC webbase corpus and statmt.org news dataset (16B tokens).\n",
    "link = \"https://drive.google.com/file/d/1lZhw_9cXME_eYbl1IwrMTyTEn6ONozgI/view?usp=sharing\"\n",
    "\n",
    "# crawl-300d-2M.vec.zip: 2 million word vectors trained on Common Crawl (600B tokens).\n",
    "# link = \"https://drive.google.com/file/d/1jkJmSpRVZr_V2vGGkLmoEio6eY2Q2el-/view?usp=sharing\"\n",
    "######################################################################################################\n",
    "######################################### Word2vec ###################################################\n",
    "\n",
    "# Developed by Tomas Mikolov at Google in 2013. Word2vec (https://code.google.com/archive/p/word2vec)\n",
    "# dimensions capture specific semantic properties\n",
    "# link = \"https://drive.google.com/file/d/13NmrtF-HoGmdv_m3Ld4eGVTbIekOcNi_/view?usp=sharing\"\n",
    "######################################################################################################\n",
    "########################################## Glove #####################################################\n",
    "\n",
    "# Go to https://nlp.stanford.edu/projects/glove, and download the precomputed embeddings\n",
    "# from 2014 English Wikipedia. It’s an 822 MB zip file called glove.6B.zip, \n",
    "# containing 100-dimensional embedding vectors for 400,000 words (or nonword tokens). Unzip it.\n",
    "# link = \"https://drive.google.com/file/d/1qlkC4-gpOhJVVvja8NEnnYPJFFzUu1CW/view?usp=sharing\"\n",
    "######################################################################################################\n",
    "\n",
    "\n",
    "\n",
    "######################################################################################################\n",
    "\n",
    "_, id_t = link.split('d/')\n",
    "\n",
    "\n",
    "id = id_t.split('/')[0]\n",
    "print (id) # Verify that you have everything after '='\n",
    "\n",
    "# Install the PyDrive wrapper & import libraries.\n",
    "# This only needs to be done once per notebook.\n",
    "!pip install -U -q PyDrive\n",
    "from pydrive.auth import GoogleAuth\n",
    "from pydrive.drive import GoogleDrive\n",
    "from google.colab import auth\n",
    "from oauth2client.client import GoogleCredentials\n",
    "\n",
    "# Authenticate and create the PyDrive client.\n",
    "# This only needs to be done once per notebook.\n",
    "auth.authenticate_user()\n",
    "gauth = GoogleAuth()\n",
    "gauth.credentials = GoogleCredentials.get_application_default()\n",
    "drive = GoogleDrive(gauth)\n",
    "\n",
    "file_id = id\n",
    "downloaded = drive.CreateFile({'id':file_id})\n",
    "downloaded.FetchMetadata(fetch_all=True)\n",
    "downloaded.GetContentFile(downloaded.metadata['title'])"
   ]
  },
  {
   "cell_type": "code",
   "execution_count": null,
   "metadata": {
    "colab": {
     "base_uri": "https://localhost:8080/",
     "height": 34
    },
    "colab_type": "code",
    "id": "9vntKi9vP2is",
    "outputId": "af89ed12-3cfd-4408-8ca7-9faf14361f8e"
   },
   "outputs": [
    {
     "name": "stdout",
     "output_type": "stream",
     "text": [
      "adc.json  sample_data  wiki-news-300d-1M-subword.vec.zip\n"
     ]
    }
   ],
   "source": [
    "!ls"
   ]
  },
  {
   "cell_type": "code",
   "execution_count": null,
   "metadata": {
    "colab": {
     "base_uri": "https://localhost:8080/",
     "height": 51
    },
    "colab_type": "code",
    "id": "_pz5XYCwP2jn",
    "outputId": "77658050-f51d-4f65-d87c-2d6938b57446"
   },
   "outputs": [
    {
     "name": "stdout",
     "output_type": "stream",
     "text": [
      "Archive:  wiki-news-300d-1M-subword.vec.zip\n",
      "  inflating: wiki-news-300d-1M-subword.vec  \n"
     ]
    }
   ],
   "source": [
    "# !unzip crawl-300d-2M.vec.zip\n",
    "# !unzip crawl-300d-2M-subword.zip\n",
    "!unzip wiki-news-300d-1M-subword.vec.zip\n",
    "# !unzip glove.840B.300d.zip"
   ]
  },
  {
   "cell_type": "code",
   "execution_count": null,
   "metadata": {
    "colab": {},
    "colab_type": "code",
    "id": "2ou7Zy1GP2j8"
   },
   "outputs": [],
   "source": [
    "# !rm crawl-300d-2M.vec.zip"
   ]
  },
  {
   "cell_type": "code",
   "execution_count": null,
   "metadata": {
    "colab": {
     "base_uri": "https://localhost:8080/",
     "height": 68
    },
    "colab_type": "code",
    "id": "mclJodafP2j_",
    "outputId": "0879cc2f-6002-442f-f320-39e7850f85ec"
   },
   "outputs": [
    {
     "name": "stdout",
     "output_type": "stream",
     "text": [
      " adc.json\t\t\t\t'Training and Validation loss.png'\n",
      " sample_data\t\t\t\t wiki-news-300d-1M-subword.vec\n",
      "'Training and validation accuracy.eps'\t wiki-news-300d-1M-subword.vec.zip\n"
     ]
    }
   ],
   "source": [
    "!ls"
   ]
  },
  {
   "cell_type": "code",
   "execution_count": null,
   "metadata": {
    "colab": {
     "base_uri": "https://localhost:8080/",
     "height": 54
    },
    "colab_type": "code",
    "id": "1GyB-qGBP2kG",
    "outputId": "fdceeda4-7c06-4fed-e604-ca43fce8a837"
   },
   "outputs": [
    {
     "name": "stderr",
     "output_type": "stream",
     "text": [
      "W0521 18:59:08.737219 139952709396352 smart_open_lib.py:385] this function is deprecated, use smart_open.open instead\n"
     ]
    }
   ],
   "source": [
    "# gensim_w2v = KeyedVectors.load_word2vec_format('./crawl-300d-2M.vec')\n",
    "gensim_w2v = KeyedVectors.load_word2vec_format('./wiki-news-300d-1M-subword.vec')\n",
    "# gensim_w2v = KeyedVectors.load_word2vec_format('./GoogleNews-vectors-negative300.bin', binary=True)\n",
    "# gensim_w2v = KeyedVectors.load_word2vec_format('./crawl-300d-2M-subword.bin')"
   ]
  },
  {
   "cell_type": "code",
   "execution_count": null,
   "metadata": {
    "colab": {
     "base_uri": "https://localhost:8080/",
     "height": 34
    },
    "colab_type": "code",
    "id": "V0SmOOfPP2kL",
    "outputId": "03e93a5e-c83c-4f41-b19e-b48ed6ded85a"
   },
   "outputs": [
    {
     "data": {
      "text/plain": [
       "(300,)"
      ]
     },
     "execution_count": 8,
     "metadata": {
      "tags": []
     },
     "output_type": "execute_result"
    }
   ],
   "source": [
    "gensim_w2v['I'].shape"
   ]
  },
  {
   "cell_type": "code",
   "execution_count": null,
   "metadata": {
    "colab": {
     "base_uri": "https://localhost:8080/",
     "height": 765
    },
    "colab_type": "code",
    "id": "pQzBUiOWdqfo",
    "outputId": "5bb65a70-fb27-434b-a8c3-c47754925ff6"
   },
   "outputs": [
    {
     "data": {
      "text/plain": [
       "array([-0.0038,  0.0601,  0.0188,  0.0288,  0.0031, -0.0114,  0.015 ,\n",
       "       -0.0148, -0.004 , -0.0307,  0.015 ,  0.0423,  0.0133,  0.0243,\n",
       "       -0.0038,  0.0272,  0.0356, -0.0024,  0.0257, -0.0343, -0.008 ,\n",
       "        0.0032,  0.0065,  0.0043,  0.0186,  0.0173,  0.0047,  0.0351,\n",
       "        0.0249, -0.0264, -0.0262,  0.0177,  0.0399,  0.0346, -0.0193,\n",
       "        0.0078,  0.0046, -0.0115,  0.0021, -0.0317, -0.0078, -0.0675,\n",
       "       -0.0009, -0.0058,  0.005 ,  0.0385,  0.0162, -0.0008, -0.0287,\n",
       "        0.0565,  0.0094, -0.0034,  0.052 , -0.0209,  0.0455,  0.0119,\n",
       "        0.008 , -0.0217, -0.0714, -0.0148,  0.0285, -0.0107, -0.0339,\n",
       "        0.001 , -0.0323,  0.0292,  0.0139,  0.0141,  0.012 ,  0.0052,\n",
       "       -0.0153,  0.0006,  0.0195, -0.0176,  0.0104, -0.017 ,  0.014 ,\n",
       "       -0.0169,  0.0068,  0.0106, -0.0219, -0.025 ,  0.029 , -0.0596,\n",
       "       -0.0245, -0.015 , -0.0285, -0.0399,  0.0048,  0.0084, -0.005 ,\n",
       "        0.0104, -0.093 , -0.0481,  0.0094,  0.0111,  0.0026,  0.0017,\n",
       "       -0.0146, -0.0191,  0.0015,  0.0279, -0.0163, -0.0197, -0.0904,\n",
       "        0.0026, -0.0014,  0.0056,  0.0164, -0.0012, -0.0234,  0.0363,\n",
       "        0.0214, -0.0242, -0.0097,  0.0062, -0.0147, -0.0073,  0.1028,\n",
       "       -0.005 ,  0.0126, -0.0043,  0.0063, -0.0156, -0.0694, -0.0018,\n",
       "        0.0622,  0.01  ,  0.0235,  0.0847, -0.028 ,  0.0356, -0.0216,\n",
       "       -0.0182,  0.0408, -0.0136,  0.0231,  0.0385,  0.0118,  0.011 ,\n",
       "       -0.0057,  0.0198, -0.0043,  0.0231,  0.025 , -0.006 ,  0.0144,\n",
       "       -0.0033,  0.033 ,  0.0041, -0.0211, -0.028 ,  0.0143,  0.0381,\n",
       "       -0.0297,  0.0048,  0.0247,  0.0127,  0.0058,  0.0233, -0.0179,\n",
       "       -0.0144, -0.0348,  0.0093, -0.0391, -0.0735, -0.0159, -0.0102,\n",
       "       -0.0056,  0.0319, -0.0032,  0.0241, -0.0269,  0.0022, -0.033 ,\n",
       "        0.0459,  0.0079,  0.0103,  0.0116,  0.0144, -0.0065,  0.0151,\n",
       "        0.0271, -0.0189, -0.0126,  0.0021, -0.0186,  0.1573,  0.0072,\n",
       "        0.0091, -0.026 ,  0.0394, -0.0221,  0.029 , -0.0062,  0.0007,\n",
       "        0.0184,  0.022 , -0.0113,  0.01  , -0.0463,  0.052 ,  0.0168,\n",
       "        0.007 , -0.0231, -0.0032, -0.0165, -0.0193,  0.0079,  0.0517,\n",
       "        0.0155,  0.0411, -0.003 , -0.0402,  0.0828, -0.0178, -0.0351,\n",
       "       -0.0345, -0.0321, -0.0345, -0.013 , -0.0081,  0.0053,  0.0666,\n",
       "        0.0305,  0.005 , -0.0311,  0.1185,  0.0576, -0.0697, -0.0086,\n",
       "        0.0626,  0.0613, -0.0016,  0.046 , -0.0047,  0.0188, -0.0064,\n",
       "       -0.0161, -0.0025, -0.0091,  0.0042,  0.0144, -0.0395,  0.0571,\n",
       "       -0.0267,  0.0008,  0.0074, -0.0021, -0.0455,  0.06  ,  0.009 ,\n",
       "        0.0112, -0.0302, -0.0185, -0.0247, -0.0137,  0.0084,  0.0029,\n",
       "       -0.0384,  0.0055,  0.0096,  0.0357, -0.0146, -0.0107, -0.0267,\n",
       "        0.0182,  0.0091,  0.0118, -0.0344,  0.0221,  0.0702,  0.0507,\n",
       "        0.0059,  0.0493,  0.0018, -0.0043, -0.0182, -0.0266,  0.0116,\n",
       "        0.0014,  0.0223,  0.0996, -0.0211, -0.0605, -0.0096,  0.0038,\n",
       "       -0.0237,  0.0339, -0.0033, -0.0044, -0.0143, -0.0192,  0.025 ,\n",
       "        0.036 ,  0.0064,  0.0324,  0.0071,  0.0049,  0.0229],\n",
       "      dtype=float32)"
      ]
     },
     "execution_count": 87,
     "metadata": {
      "tags": []
     },
     "output_type": "execute_result"
    }
   ],
   "source": [
    "gensim_w2v[\"Hello\"]"
   ]
  },
  {
   "cell_type": "code",
   "execution_count": null,
   "metadata": {
    "colab": {
     "base_uri": "https://localhost:8080/",
     "height": 1171
    },
    "colab_type": "code",
    "id": "Qy8Z7l-WduhC",
    "outputId": "3700528c-7765-4d4f-e39c-4d83002aff01"
   },
   "outputs": [
    {
     "data": {
      "image/png": "[encoded data removed]",
      "text/plain": [
       "<Figure size 1440x1440 with 1 Axes>"
      ]
     },
     "metadata": {
      "tags": []
     },
     "output_type": "display_data"
    }
   ],
   "source": [
    "from sklearn.manifold import TSNE\n",
    "from matplotlib import pylab\n",
    "\n",
    "words = [word for word in gensim_w2v.index2word[100:300]]\n",
    "embeddings = [gensim_w2v[word] for word in words]\n",
    "words_embedded = TSNE(n_components=2).fit_transform(embeddings)\n",
    "\n",
    "pylab.figure(figsize=(20, 20))\n",
    "for i, label in enumerate(words):\n",
    "  x, y = words_embedded[i, :]\n",
    "  pylab.scatter(x, y)\n",
    "  pylab.annotate(label, xy=(x, y), xytext=(5, 2), textcoords='offset points',\n",
    "                 ha='right', va='bottom')\n",
    "  \n",
    "pylab.title('Fasttext Embeddings Trained with subword infomation on Wikipedia 2017')\n",
    "pylab.savefig(\"Fasttest300-dembeddings.eps\", format='eps', dpi=1200)\n",
    "# pylab.axes(False)\n",
    "pylab.show()"
   ]
  },
  {
   "cell_type": "code",
   "execution_count": null,
   "metadata": {
    "colab": {
     "base_uri": "https://localhost:8080/",
     "height": 85
    },
    "colab_type": "code",
    "id": "Uvw829YsTqG_",
    "outputId": "74201305-5aee-4e07-9284-50a464adade4"
   },
   "outputs": [
    {
     "name": "stdout",
     "output_type": "stream",
     "text": [
      " adc.json\t\t\t  sample_data\n",
      "'Fasttest 300-d embeddings'\t  wiki-news-300d-1M-subword.vec\n",
      "'Fasttest 300-d embeddings.eps'   wiki-news-300d-1M-subword.vec.zip\n",
      " Fasttest300-dembeddings.eps\n"
     ]
    }
   ],
   "source": [
    "!ls"
   ]
  },
  {
   "cell_type": "code",
   "execution_count": null,
   "metadata": {
    "colab": {},
    "colab_type": "code",
    "id": "CQCIiHf_T1uO"
   },
   "outputs": [],
   "source": [
    "files.download(\"Fasttest300-dembeddings.eps\")"
   ]
  },
  {
   "cell_type": "markdown",
   "metadata": {
    "colab_type": "text",
    "id": "5LC04oP7ljyP"
   },
   "source": [
    "## Approach (TF-Hub)"
   ]
  },
  {
   "cell_type": "code",
   "execution_count": 2,
   "metadata": {
    "cellView": "code",
    "colab": {
     "base_uri": "https://localhost:8080/",
     "height": 544
    },
    "colab_type": "code",
    "id": "_8N3Hx2dyUC-",
    "outputId": "be04be41-bf20-4133-eda5-ea05b734a526"
   },
   "outputs": [
    {
     "name": "stdout",
     "output_type": "stream",
     "text": [
      "Requirement already satisfied: tensorflow-hub in /home/aims/anaconda3/envs/aims-tf-1/lib/python3.7/site-packages (0.6.0)\n",
      "Requirement already satisfied: numpy>=1.12.0 in /home/aims/anaconda3/envs/aims-tf-1/lib/python3.7/site-packages (from tensorflow-hub) (1.16.2)\n",
      "Requirement already satisfied: six>=1.10.0 in /home/aims/anaconda3/envs/aims-tf-1/lib/python3.7/site-packages (from tensorflow-hub) (1.12.0)\n",
      "Requirement already satisfied: protobuf>=3.4.0 in /home/aims/anaconda3/envs/aims-tf-1/lib/python3.7/site-packages (from tensorflow-hub) (3.10.0)\n",
      "Requirement already satisfied: setuptools in /home/aims/anaconda3/envs/aims-tf-1/lib/python3.7/site-packages (from protobuf>=3.4.0->tensorflow-hub) (41.6.0.post20191030)\n",
      "Requirement already satisfied: seaborn in /home/aims/anaconda3/envs/aims-tf-1/lib/python3.7/site-packages (0.9.0)\n",
      "Requirement already satisfied: numpy>=1.9.3 in /home/aims/anaconda3/envs/aims-tf-1/lib/python3.7/site-packages (from seaborn) (1.16.2)\n",
      "Requirement already satisfied: pandas>=0.15.2 in /home/aims/.local/lib/python3.7/site-packages (from seaborn) (0.25.2)\n",
      "Requirement already satisfied: scipy>=0.14.0 in /home/aims/anaconda3/envs/aims-tf-1/lib/python3.7/site-packages (from seaborn) (1.3.1)\n",
      "Requirement already satisfied: matplotlib>=1.4.3 in /home/aims/anaconda3/envs/aims-tf-1/lib/python3.7/site-packages (from seaborn) (3.1.1)\n",
      "Requirement already satisfied: python-dateutil>=2.6.1 in /home/aims/anaconda3/envs/aims-tf-1/lib/python3.7/site-packages (from pandas>=0.15.2->seaborn) (2.8.0)\n",
      "Requirement already satisfied: pytz>=2017.2 in /home/aims/anaconda3/envs/aims-tf-1/lib/python3.7/site-packages (from pandas>=0.15.2->seaborn) (2019.3)\n",
      "Requirement already satisfied: pyparsing!=2.0.4,!=2.1.2,!=2.1.6,>=2.0.1 in /home/aims/anaconda3/envs/aims-tf-1/lib/python3.7/site-packages (from matplotlib>=1.4.3->seaborn) (2.4.2)\n",
      "Requirement already satisfied: cycler>=0.10 in /home/aims/anaconda3/envs/aims-tf-1/lib/python3.7/site-packages (from matplotlib>=1.4.3->seaborn) (0.10.0)\n",
      "Requirement already satisfied: kiwisolver>=1.0.1 in /home/aims/anaconda3/envs/aims-tf-1/lib/python3.7/site-packages (from matplotlib>=1.4.3->seaborn) (1.1.0)\n",
      "Requirement already satisfied: six>=1.5 in /home/aims/anaconda3/envs/aims-tf-1/lib/python3.7/site-packages (from python-dateutil>=2.6.1->pandas>=0.15.2->seaborn) (1.12.0)\n",
      "Requirement already satisfied: setuptools in /home/aims/anaconda3/envs/aims-tf-1/lib/python3.7/site-packages (from kiwisolver>=1.0.1->matplotlib>=1.4.3->seaborn) (41.6.0.post20191030)\n",
      "Requirement already satisfied: ipdb in /home/aims/anaconda3/envs/aims-tf-1/lib/python3.7/site-packages (0.12.2)\n",
      "Requirement already satisfied: ipython>=5.1.0; python_version >= \"3.4\" in /home/aims/anaconda3/envs/aims-tf-1/lib/python3.7/site-packages (from ipdb) (7.9.0)\n",
      "Requirement already satisfied: setuptools in /home/aims/anaconda3/envs/aims-tf-1/lib/python3.7/site-packages (from ipdb) (41.6.0.post20191030)\n",
      "Requirement already satisfied: decorator in /home/aims/anaconda3/envs/aims-tf-1/lib/python3.7/site-packages (from ipython>=5.1.0; python_version >= \"3.4\"->ipdb) (4.4.1)\n",
      "Requirement already satisfied: prompt-toolkit<2.1.0,>=2.0.0 in /home/aims/anaconda3/envs/aims-tf-1/lib/python3.7/site-packages (from ipython>=5.1.0; python_version >= \"3.4\"->ipdb) (2.0.10)\n",
      "Requirement already satisfied: pickleshare in /home/aims/anaconda3/envs/aims-tf-1/lib/python3.7/site-packages (from ipython>=5.1.0; python_version >= \"3.4\"->ipdb) (0.7.5)\n",
      "Requirement already satisfied: pexpect; sys_platform != \"win32\" in /home/aims/anaconda3/envs/aims-tf-1/lib/python3.7/site-packages (from ipython>=5.1.0; python_version >= \"3.4\"->ipdb) (4.7.0)\n",
      "Requirement already satisfied: pygments in /home/aims/anaconda3/envs/aims-tf-1/lib/python3.7/site-packages (from ipython>=5.1.0; python_version >= \"3.4\"->ipdb) (2.4.2)\n",
      "Requirement already satisfied: jedi>=0.10 in /home/aims/anaconda3/envs/aims-tf-1/lib/python3.7/site-packages (from ipython>=5.1.0; python_version >= \"3.4\"->ipdb) (0.15.1)\n",
      "Requirement already satisfied: backcall in /home/aims/anaconda3/envs/aims-tf-1/lib/python3.7/site-packages (from ipython>=5.1.0; python_version >= \"3.4\"->ipdb) (0.1.0)\n",
      "Requirement already satisfied: traitlets>=4.2 in /home/aims/anaconda3/envs/aims-tf-1/lib/python3.7/site-packages (from ipython>=5.1.0; python_version >= \"3.4\"->ipdb) (4.3.3)\n",
      "Requirement already satisfied: six>=1.9.0 in /home/aims/anaconda3/envs/aims-tf-1/lib/python3.7/site-packages (from prompt-toolkit<2.1.0,>=2.0.0->ipython>=5.1.0; python_version >= \"3.4\"->ipdb) (1.12.0)\n",
      "Requirement already satisfied: wcwidth in /home/aims/anaconda3/envs/aims-tf-1/lib/python3.7/site-packages (from prompt-toolkit<2.1.0,>=2.0.0->ipython>=5.1.0; python_version >= \"3.4\"->ipdb) (0.1.7)\n",
      "Requirement already satisfied: ptyprocess>=0.5 in /home/aims/anaconda3/envs/aims-tf-1/lib/python3.7/site-packages (from pexpect; sys_platform != \"win32\"->ipython>=5.1.0; python_version >= \"3.4\"->ipdb) (0.6.0)\n",
      "Requirement already satisfied: parso>=0.5.0 in /home/aims/anaconda3/envs/aims-tf-1/lib/python3.7/site-packages (from jedi>=0.10->ipython>=5.1.0; python_version >= \"3.4\"->ipdb) (0.5.1)\n",
      "Requirement already satisfied: ipython-genutils in /home/aims/anaconda3/envs/aims-tf-1/lib/python3.7/site-packages (from traitlets>=4.2->ipython>=5.1.0; python_version >= \"3.4\"->ipdb) (0.2.0)\n"
     ]
    }
   ],
   "source": [
    "# Install TF-Hub.\n",
    "!pip install tensorflow-hub\n",
    "!pip install seaborn\n",
    "\n",
    "# Install Ipdb\n",
    "!pip install ipdb\n",
    "\n",
    "from tensorflow.python.data import Dataset"
   ]
  },
  {
   "cell_type": "markdown",
   "metadata": {
    "colab_type": "text",
    "id": "tRXN9a8Mz8e-"
   },
   "source": [
    "More detailed information about installing Tensorflow can be found at [https://www.tensorflow.org/install/](https://www.tensorflow.org/install/)."
   ]
  },
  {
   "cell_type": "markdown",
   "metadata": {
    "colab_type": "text",
    "id": "6OPyVxHuiTEE"
   },
   "source": [
    "### Getting started\n",
    "\n",
    "#### Data\n",
    "We will try to solve the [Large Movie Review Dataset v1.0](http://ai.stanford.edu/~amaas/data/sentiment/) task from Mass et al. The dataset consists of IMDB movie reviews labeled by positivity from 1 to 10. The task is to label the reviews as **negative** or **positive**."
   ]
  },
  {
   "cell_type": "code",
   "execution_count": 3,
   "metadata": {
    "cellView": "both",
    "colab": {
     "base_uri": "https://localhost:8080/",
     "height": 51
    },
    "colab_type": "code",
    "id": "rKzc-fOGV72G",
    "outputId": "ec1df798-5b51-4f2d-95b3-bc495d692af1"
   },
   "outputs": [],
   "source": [
    "# Load all files from a directory in a DataFrame.\n",
    "def load_directory_data(directory):\n",
    "  data = {}\n",
    "  data[\"sentence\"] = []\n",
    "#   data[\"sentiment\"] = []\n",
    "  for file_path in os.listdir(directory):\n",
    "    # changed tf.gfile by tf.io.gfile tf 2.0\n",
    "    with tf.gfile.GFile(os.path.join(directory, file_path), \"r\") as f:\n",
    "      data[\"sentence\"].append(f.read())\n",
    "#       data[\"sentiment\"].append(re.match(\"\\d+_(\\d+)\\.txt\", file_path).group(1))#; \n",
    "# ipdb.set_trace()\n",
    "  return pd.DataFrame.from_dict(data)\n",
    "\n",
    "# Merge positive and negative examples, add a polarity column and shuffle.\n",
    "def load_dataset(directory):\n",
    "  pos_df = load_directory_data(os.path.join(directory, \"pos\"))\n",
    "  neg_df = load_directory_data(os.path.join(directory, \"neg\"))\n",
    "  pos_df[\"sentiment\"] = 1\n",
    "  neg_df[\"sentiment\"] = 0\n",
    "  return pd.concat([pos_df, neg_df]).sample(frac=1).reset_index(drop=True)\n",
    "\n",
    "# Download and process the dataset files.\n",
    "def download_and_load_datasets(force_download=False):\n",
    "  dataset = tf.keras.utils.get_file(\n",
    "      fname=\"aclImdb.tar.gz\", \n",
    "      origin=\"http://ai.stanford.edu/~amaas/data/sentiment/aclImdb_v1.tar.gz\", \n",
    "      extract=True)\n",
    "  \n",
    "  train_df = load_dataset(os.path.join(os.path.dirname(dataset), \n",
    "                                       \"aclImdb\", \"train\"))\n",
    "  test_df = load_dataset(os.path.join(os.path.dirname(dataset), \n",
    "                                      \"aclImdb\", \"test\"))\n",
    "  \n",
    "  return train_df, test_df\n",
    "\n",
    "# Reduce logging output.\n",
    "tf.logging.set_verbosity(tf.logging.ERROR)\n",
    "\n",
    "train_df, test_df = download_and_load_datasets()"
   ]
  },
  {
   "cell_type": "code",
   "execution_count": 8,
   "metadata": {
    "colab": {},
    "colab_type": "code",
    "id": "MveoKxg7vC6x"
   },
   "outputs": [],
   "source": [
    "# pd.set_option('display.max_colwidth', 200)"
   ]
  },
  {
   "cell_type": "code",
   "execution_count": 4,
   "metadata": {
    "colab": {
     "base_uri": "https://localhost:8080/",
     "height": 363
    },
    "colab_type": "code",
    "id": "QYB8ZbGftMcE",
    "outputId": "900562bf-7ed5-4dbb-d20d-f4554a37af27"
   },
   "outputs": [
    {
     "data": {
      "text/html": [
       "<div>\n",
       "<style scoped>\n",
       "    .dataframe tbody tr th:only-of-type {\n",
       "        vertical-align: middle;\n",
       "    }\n",
       "\n",
       "    .dataframe tbody tr th {\n",
       "        vertical-align: top;\n",
       "    }\n",
       "\n",
       "    .dataframe thead th {\n",
       "        text-align: right;\n",
       "    }\n",
       "</style>\n",
       "<table border=\"1\" class=\"dataframe\">\n",
       "  <thead>\n",
       "    <tr style=\"text-align: right;\">\n",
       "      <th></th>\n",
       "      <th>sentence</th>\n",
       "      <th>sentiment</th>\n",
       "    </tr>\n",
       "  </thead>\n",
       "  <tbody>\n",
       "    <tr>\n",
       "      <th>0</th>\n",
       "      <td>Kenny Doughty as Jed Willis is sexier in this ...</td>\n",
       "      <td>1</td>\n",
       "    </tr>\n",
       "    <tr>\n",
       "      <th>1</th>\n",
       "      <td>Having endured this inaccurate movie I will ad...</td>\n",
       "      <td>0</td>\n",
       "    </tr>\n",
       "    <tr>\n",
       "      <th>2</th>\n",
       "      <td>A friend of mine recommended this movie, citin...</td>\n",
       "      <td>1</td>\n",
       "    </tr>\n",
       "    <tr>\n",
       "      <th>3</th>\n",
       "      <td>The Matador is better upon reflection because ...</td>\n",
       "      <td>1</td>\n",
       "    </tr>\n",
       "    <tr>\n",
       "      <th>4</th>\n",
       "      <td>The progression of the plot is enough to \"rope...</td>\n",
       "      <td>0</td>\n",
       "    </tr>\n",
       "    <tr>\n",
       "      <th>5</th>\n",
       "      <td>Those 2 points are dedicated the reasonable pe...</td>\n",
       "      <td>0</td>\n",
       "    </tr>\n",
       "    <tr>\n",
       "      <th>6</th>\n",
       "      <td>This is one of the most calming, relaxing, and...</td>\n",
       "      <td>1</td>\n",
       "    </tr>\n",
       "    <tr>\n",
       "      <th>7</th>\n",
       "      <td>WWE's last PPV of 2006, proved to be a hit wit...</td>\n",
       "      <td>1</td>\n",
       "    </tr>\n",
       "    <tr>\n",
       "      <th>8</th>\n",
       "      <td>What a gem of a movie, so good that they made ...</td>\n",
       "      <td>1</td>\n",
       "    </tr>\n",
       "    <tr>\n",
       "      <th>9</th>\n",
       "      <td>Let's set one thing straight: this movie does ...</td>\n",
       "      <td>1</td>\n",
       "    </tr>\n",
       "  </tbody>\n",
       "</table>\n",
       "</div>"
      ],
      "text/plain": [
       "                                            sentence  sentiment\n",
       "0  Kenny Doughty as Jed Willis is sexier in this ...          1\n",
       "1  Having endured this inaccurate movie I will ad...          0\n",
       "2  A friend of mine recommended this movie, citin...          1\n",
       "3  The Matador is better upon reflection because ...          1\n",
       "4  The progression of the plot is enough to \"rope...          0\n",
       "5  Those 2 points are dedicated the reasonable pe...          0\n",
       "6  This is one of the most calming, relaxing, and...          1\n",
       "7  WWE's last PPV of 2006, proved to be a hit wit...          1\n",
       "8  What a gem of a movie, so good that they made ...          1\n",
       "9  Let's set one thing straight: this movie does ...          1"
      ]
     },
     "execution_count": 4,
     "metadata": {},
     "output_type": "execute_result"
    }
   ],
   "source": [
    "train_df.head(10)"
   ]
  },
  {
   "cell_type": "code",
   "execution_count": 5,
   "metadata": {
    "colab": {
     "base_uri": "https://localhost:8080/"
    },
    "colab_type": "code",
    "id": "bD_67LWviEIb",
    "outputId": "16c2efcd-50ab-4044-b5a8-02f1cd06ebba"
   },
   "outputs": [
    {
     "data": {
      "text/html": [
       "<div>\n",
       "<style scoped>\n",
       "    .dataframe tbody tr th:only-of-type {\n",
       "        vertical-align: middle;\n",
       "    }\n",
       "\n",
       "    .dataframe tbody tr th {\n",
       "        vertical-align: top;\n",
       "    }\n",
       "\n",
       "    .dataframe thead th {\n",
       "        text-align: right;\n",
       "    }\n",
       "</style>\n",
       "<table border=\"1\" class=\"dataframe\">\n",
       "  <thead>\n",
       "    <tr style=\"text-align: right;\">\n",
       "      <th></th>\n",
       "      <th>sentence</th>\n",
       "      <th>sentiment</th>\n",
       "    </tr>\n",
       "  </thead>\n",
       "  <tbody>\n",
       "    <tr>\n",
       "      <th>24990</th>\n",
       "      <td>yeesh,talk about craptastic.this thing is brut...</td>\n",
       "      <td>0</td>\n",
       "    </tr>\n",
       "    <tr>\n",
       "      <th>24991</th>\n",
       "      <td>I decided to watch this ultra-low budget film ...</td>\n",
       "      <td>0</td>\n",
       "    </tr>\n",
       "    <tr>\n",
       "      <th>24992</th>\n",
       "      <td>It didn't take too long after Halloween had ki...</td>\n",
       "      <td>0</td>\n",
       "    </tr>\n",
       "    <tr>\n",
       "      <th>24993</th>\n",
       "      <td>I thought this movie was absolutely hilarious....</td>\n",
       "      <td>1</td>\n",
       "    </tr>\n",
       "    <tr>\n",
       "      <th>24994</th>\n",
       "      <td>I say Ben Johnson and my fellow Canadians say,...</td>\n",
       "      <td>0</td>\n",
       "    </tr>\n",
       "    <tr>\n",
       "      <th>24995</th>\n",
       "      <td>Wow, I think the overall average rating of thi...</td>\n",
       "      <td>1</td>\n",
       "    </tr>\n",
       "    <tr>\n",
       "      <th>24996</th>\n",
       "      <td>I just got back from the GLBT Film Festival at...</td>\n",
       "      <td>1</td>\n",
       "    </tr>\n",
       "    <tr>\n",
       "      <th>24997</th>\n",
       "      <td>044: The Big Trail (1930) - released 10/24/193...</td>\n",
       "      <td>1</td>\n",
       "    </tr>\n",
       "    <tr>\n",
       "      <th>24998</th>\n",
       "      <td>** HERE BE SPOILERS ** &lt;br /&gt;&lt;br /&gt;Recap: Macl...</td>\n",
       "      <td>1</td>\n",
       "    </tr>\n",
       "    <tr>\n",
       "      <th>24999</th>\n",
       "      <td>I watched this movie three times at different ...</td>\n",
       "      <td>1</td>\n",
       "    </tr>\n",
       "  </tbody>\n",
       "</table>\n",
       "</div>"
      ],
      "text/plain": [
       "                                                sentence  sentiment\n",
       "24990  yeesh,talk about craptastic.this thing is brut...          0\n",
       "24991  I decided to watch this ultra-low budget film ...          0\n",
       "24992  It didn't take too long after Halloween had ki...          0\n",
       "24993  I thought this movie was absolutely hilarious....          1\n",
       "24994  I say Ben Johnson and my fellow Canadians say,...          0\n",
       "24995  Wow, I think the overall average rating of thi...          1\n",
       "24996  I just got back from the GLBT Film Festival at...          1\n",
       "24997  044: The Big Trail (1930) - released 10/24/193...          1\n",
       "24998  ** HERE BE SPOILERS ** <br /><br />Recap: Macl...          1\n",
       "24999  I watched this movie three times at different ...          1"
      ]
     },
     "execution_count": 5,
     "metadata": {},
     "output_type": "execute_result"
    }
   ],
   "source": [
    "test_df.tail(10)"
   ]
  },
  {
   "cell_type": "code",
   "execution_count": null,
   "metadata": {},
   "outputs": [],
   "source": [
    "test_df"
   ]
  },
  {
   "cell_type": "markdown",
   "metadata": {
    "colab_type": "text",
    "id": "D9Xq4x1mU3un"
   },
   "source": [
    "### Model\n",
    "#### Input functions\n",
    "\n",
    "[Estimator framework](https://www.tensorflow.org/get_started/premade_estimators#overview_of_programming_with_estimators) provides [input functions](https://www.tensorflow.org/api_docs/python/tf/estimator/inputs/pandas_input_fn) that wrap Pandas dataframes."
   ]
  },
  {
   "cell_type": "code",
   "execution_count": null,
   "metadata": {},
   "outputs": [],
   "source": [
    "# Training input on the whole training set with no limit on training epochs.\n",
    "# # Changed estimator.inputs.pandas_input_fn by tf.compat.v1.estimator.inputs.pandas_input_fn\n",
    "# train_input_fn = tf.compat.v1.estimator.inputs.pandas_input_fn(\n",
    "#     train_df, train_df[\"sentiment\"], num_echs=None, shuffle=True)\n",
    "# # .head(10)\n",
    "# # Prediction on the whole training set.\n",
    "# predict_train_input_fn = tf.compat.v1.estimator.inputs.pandas_input_fn(\n",
    "#     train_df, train_df[\"sentiment\"], shuffle=False)\n",
    "# # Prediction on the test set.\n",
    "# predict_test_input_fn = tf.compat.v1.estimator.inputs.pandas_input_fn(\n",
    "#     test_df, test_df[\"sentiment\"], shuffle=False)"
   ]
  },
  {
   "cell_type": "code",
   "execution_count": 6,
   "metadata": {
    "cellView": "both",
    "colab": {},
    "colab_type": "code",
    "id": "25rdoEHih0fm"
   },
   "outputs": [],
   "source": [
    "# Training input on the whole training set with no limit on training epochs.\n",
    "train_input_fn = tf.estimator.inputs.pandas_input_fn(\n",
    "    train_df, train_df[\"sentiment\"], num_epochs=None, shuffle=True)\n",
    "# .head(10)\n",
    "# Prediction on the whole training set.\n",
    "predict_train_input_fn = tf.estimator.inputs.pandas_input_fn(\n",
    "    train_df, train_df[\"sentiment\"], shuffle=False)\n",
    "# Prediction on the test set.\n",
    "predict_test_input_fn = tf.estimator.inputs.pandas_input_fn(\n",
    "    test_df, test_df[\"sentiment\"], shuffle=False)"
   ]
  },
  {
   "cell_type": "markdown",
   "metadata": {
    "colab_type": "text",
    "id": "Uyl6YGRcVAwP"
   },
   "source": [
    "### Feature columns\n",
    "\n",
    "TF-Hub provides a [feature column](https://github.com/tensorflow/hub/blob/master/docs/api_docs/python/hub/text_embedding_column.md) that applies a module on the given text feature and passes further the outputs of the module. In this tutorial we will be using the [nnlm-en-dim128 module](https://tfhub.dev/google/nnlm-en-dim128/1). For the purpose of this tutorial, the most important facts are:\n",
    "\n",
    "* The module takes **a batch of sentences in a 1-D tensor of strings** as input.\n",
    "* The module is responsible for **preprocessing of sentences** (e.g. removal of punctuation and splitting on spaces).\n",
    "* The module works with any input (e.g. **nnlm-en-dim128** hashes words not present in vocabulary into ~20.000 buckets)."
   ]
  },
  {
   "cell_type": "code",
   "execution_count": 7,
   "metadata": {
    "colab": {},
    "colab_type": "code",
    "id": "M27xCwn0mewe"
   },
   "outputs": [],
   "source": [
    "embedded_text_feature_column = hub.text_embedding_column(\n",
    "    key=\"sentence\", \n",
    "    module_spec=\"https://tfhub.dev/google/Wiki-words-250-with-normalization/1\", trainable=True) # adding trainable to (True) "
   ]
  },
  {
   "cell_type": "markdown",
   "metadata": {
    "colab_type": "text",
    "id": "YPuHgx3BWBOg"
   },
   "source": [
    "### Estimator\n",
    "\n",
    "For classification we can use a [DNN Classifier](https://www.tensorflow.org/api_docs/python/tf/estimator/DNNClassifier) (note further remarks about different modelling of the label function at the end of the tutorial)."
   ]
  },
  {
   "cell_type": "code",
   "execution_count": 9,
   "metadata": {
    "colab": {},
    "colab_type": "code",
    "id": "23U30yEkVq4w"
   },
   "outputs": [],
   "source": [
    "estimator = tf.estimator.DNNClassifier(\n",
    "    hidden_units=[512, 511, 512],\n",
    "    feature_columns=[embedded_text_feature_column],\n",
    "    n_classes=2,\n",
    "    optimizer=tf.train.AdamOptimizer(learning_rate=0.003))"
   ]
  },
  {
   "cell_type": "markdown",
   "metadata": {
    "colab_type": "text",
    "id": "-O_k-8jgWPXY"
   },
   "source": [
    "### Training\n",
    "\n",
    "Train the estimator for a reasonable amount of steps."
   ]
  },
  {
   "cell_type": "code",
   "execution_count": 10,
   "metadata": {
    "colab": {},
    "colab_type": "code",
    "id": "e5uDRv1r7Ed4"
   },
   "outputs": [
    {
     "ename": "KeyboardInterrupt",
     "evalue": "",
     "output_type": "error",
     "traceback": [
      "\u001b[0;31m---------------------------------------------------------------------------\u001b[0m",
      "\u001b[0;31mKeyboardInterrupt\u001b[0m                         Traceback (most recent call last)",
      "\u001b[0;32m~/anaconda3/envs/aims-tf-1/lib/python3.7/site-packages/tensorflow_estimator/python/estimator/estimator.py\u001b[0m in \u001b[0;36m_train_with_estimator_spec\u001b[0;34m(self, estimator_spec, worker_hooks, hooks, global_step_tensor, saving_listeners)\u001b[0m\n\u001b[1;32m   1493\u001b[0m       \u001b[0;32mwhile\u001b[0m \u001b[0;32mnot\u001b[0m \u001b[0mmon_sess\u001b[0m\u001b[0;34m.\u001b[0m\u001b[0mshould_stop\u001b[0m\u001b[0;34m(\u001b[0m\u001b[0;34m)\u001b[0m\u001b[0;34m:\u001b[0m\u001b[0;34m\u001b[0m\u001b[0;34m\u001b[0m\u001b[0m\n\u001b[0;32m-> 1494\u001b[0;31m         \u001b[0m_\u001b[0m\u001b[0;34m,\u001b[0m \u001b[0mloss\u001b[0m \u001b[0;34m=\u001b[0m \u001b[0mmon_sess\u001b[0m\u001b[0;34m.\u001b[0m\u001b[0mrun\u001b[0m\u001b[0;34m(\u001b[0m\u001b[0;34m[\u001b[0m\u001b[0mestimator_spec\u001b[0m\u001b[0;34m.\u001b[0m\u001b[0mtrain_op\u001b[0m\u001b[0;34m,\u001b[0m \u001b[0mestimator_spec\u001b[0m\u001b[0;34m.\u001b[0m\u001b[0mloss\u001b[0m\u001b[0;34m]\u001b[0m\u001b[0;34m)\u001b[0m\u001b[0;34m\u001b[0m\u001b[0;34m\u001b[0m\u001b[0m\n\u001b[0m\u001b[1;32m   1495\u001b[0m         \u001b[0many_step_done\u001b[0m \u001b[0;34m=\u001b[0m \u001b[0;32mTrue\u001b[0m\u001b[0;34m\u001b[0m\u001b[0;34m\u001b[0m\u001b[0m\n",
      "\u001b[0;32m~/anaconda3/envs/aims-tf-1/lib/python3.7/site-packages/tensorflow_core/python/training/monitored_session.py\u001b[0m in \u001b[0;36mrun\u001b[0;34m(self, fetches, feed_dict, options, run_metadata)\u001b[0m\n\u001b[1;32m    753\u001b[0m         \u001b[0moptions\u001b[0m\u001b[0;34m=\u001b[0m\u001b[0moptions\u001b[0m\u001b[0;34m,\u001b[0m\u001b[0;34m\u001b[0m\u001b[0;34m\u001b[0m\u001b[0m\n\u001b[0;32m--> 754\u001b[0;31m         run_metadata=run_metadata)\n\u001b[0m\u001b[1;32m    755\u001b[0m \u001b[0;34m\u001b[0m\u001b[0m\n",
      "\u001b[0;32m~/anaconda3/envs/aims-tf-1/lib/python3.7/site-packages/tensorflow_core/python/training/monitored_session.py\u001b[0m in \u001b[0;36mrun\u001b[0;34m(self, fetches, feed_dict, options, run_metadata)\u001b[0m\n\u001b[1;32m   1258\u001b[0m             \u001b[0moptions\u001b[0m\u001b[0;34m=\u001b[0m\u001b[0moptions\u001b[0m\u001b[0;34m,\u001b[0m\u001b[0;34m\u001b[0m\u001b[0;34m\u001b[0m\u001b[0m\n\u001b[0;32m-> 1259\u001b[0;31m             run_metadata=run_metadata)\n\u001b[0m\u001b[1;32m   1260\u001b[0m       \u001b[0;32mexcept\u001b[0m \u001b[0m_PREEMPTION_ERRORS\u001b[0m \u001b[0;32mas\u001b[0m \u001b[0me\u001b[0m\u001b[0;34m:\u001b[0m\u001b[0;34m\u001b[0m\u001b[0;34m\u001b[0m\u001b[0m\n",
      "\u001b[0;32m~/anaconda3/envs/aims-tf-1/lib/python3.7/site-packages/tensorflow_core/python/training/monitored_session.py\u001b[0m in \u001b[0;36mrun\u001b[0;34m(self, *args, **kwargs)\u001b[0m\n\u001b[1;32m   1344\u001b[0m     \u001b[0;32mtry\u001b[0m\u001b[0;34m:\u001b[0m\u001b[0;34m\u001b[0m\u001b[0;34m\u001b[0m\u001b[0m\n\u001b[0;32m-> 1345\u001b[0;31m       \u001b[0;32mreturn\u001b[0m \u001b[0mself\u001b[0m\u001b[0;34m.\u001b[0m\u001b[0m_sess\u001b[0m\u001b[0;34m.\u001b[0m\u001b[0mrun\u001b[0m\u001b[0;34m(\u001b[0m\u001b[0;34m*\u001b[0m\u001b[0margs\u001b[0m\u001b[0;34m,\u001b[0m \u001b[0;34m**\u001b[0m\u001b[0mkwargs\u001b[0m\u001b[0;34m)\u001b[0m\u001b[0;34m\u001b[0m\u001b[0;34m\u001b[0m\u001b[0m\n\u001b[0m\u001b[1;32m   1346\u001b[0m     \u001b[0;32mexcept\u001b[0m \u001b[0m_PREEMPTION_ERRORS\u001b[0m\u001b[0;34m:\u001b[0m\u001b[0;34m\u001b[0m\u001b[0;34m\u001b[0m\u001b[0m\n",
      "\u001b[0;32m~/anaconda3/envs/aims-tf-1/lib/python3.7/site-packages/tensorflow_core/python/training/monitored_session.py\u001b[0m in \u001b[0;36mrun\u001b[0;34m(self, fetches, feed_dict, options, run_metadata)\u001b[0m\n\u001b[1;32m   1425\u001b[0m               \u001b[0moptions\u001b[0m\u001b[0;34m=\u001b[0m\u001b[0moptions\u001b[0m\u001b[0;34m,\u001b[0m\u001b[0;34m\u001b[0m\u001b[0;34m\u001b[0m\u001b[0m\n\u001b[0;32m-> 1426\u001b[0;31m               run_metadata=run_metadata))\n\u001b[0m\u001b[1;32m   1427\u001b[0m     \u001b[0mself\u001b[0m\u001b[0;34m.\u001b[0m\u001b[0m_should_stop\u001b[0m \u001b[0;34m=\u001b[0m \u001b[0mself\u001b[0m\u001b[0;34m.\u001b[0m\u001b[0m_should_stop\u001b[0m \u001b[0;32mor\u001b[0m \u001b[0mrun_context\u001b[0m\u001b[0;34m.\u001b[0m\u001b[0mstop_requested\u001b[0m\u001b[0;34m\u001b[0m\u001b[0;34m\u001b[0m\u001b[0m\n",
      "\u001b[0;32m~/anaconda3/envs/aims-tf-1/lib/python3.7/site-packages/tensorflow_core/python/training/basic_session_run_hooks.py\u001b[0m in \u001b[0;36mafter_run\u001b[0;34m(self, run_context, run_values)\u001b[0m\n\u001b[1;32m    593\u001b[0m         \u001b[0mself\u001b[0m\u001b[0;34m.\u001b[0m\u001b[0m_timer\u001b[0m\u001b[0;34m.\u001b[0m\u001b[0mupdate_last_triggered_step\u001b[0m\u001b[0;34m(\u001b[0m\u001b[0mglobal_step\u001b[0m\u001b[0;34m)\u001b[0m\u001b[0;34m\u001b[0m\u001b[0;34m\u001b[0m\u001b[0m\n\u001b[0;32m--> 594\u001b[0;31m         \u001b[0;32mif\u001b[0m \u001b[0mself\u001b[0m\u001b[0;34m.\u001b[0m\u001b[0m_save\u001b[0m\u001b[0;34m(\u001b[0m\u001b[0mrun_context\u001b[0m\u001b[0;34m.\u001b[0m\u001b[0msession\u001b[0m\u001b[0;34m,\u001b[0m \u001b[0mglobal_step\u001b[0m\u001b[0;34m)\u001b[0m\u001b[0;34m:\u001b[0m\u001b[0;34m\u001b[0m\u001b[0;34m\u001b[0m\u001b[0m\n\u001b[0m\u001b[1;32m    595\u001b[0m           \u001b[0mrun_context\u001b[0m\u001b[0;34m.\u001b[0m\u001b[0mrequest_stop\u001b[0m\u001b[0;34m(\u001b[0m\u001b[0;34m)\u001b[0m\u001b[0;34m\u001b[0m\u001b[0;34m\u001b[0m\u001b[0m\n",
      "\u001b[0;32m~/anaconda3/envs/aims-tf-1/lib/python3.7/site-packages/tensorflow_core/python/training/basic_session_run_hooks.py\u001b[0m in \u001b[0;36m_save\u001b[0;34m(self, session, step)\u001b[0m\n\u001b[1;32m    610\u001b[0m \u001b[0;34m\u001b[0m\u001b[0m\n\u001b[0;32m--> 611\u001b[0;31m     \u001b[0mself\u001b[0m\u001b[0;34m.\u001b[0m\u001b[0m_get_saver\u001b[0m\u001b[0;34m(\u001b[0m\u001b[0;34m)\u001b[0m\u001b[0;34m.\u001b[0m\u001b[0msave\u001b[0m\u001b[0;34m(\u001b[0m\u001b[0msession\u001b[0m\u001b[0;34m,\u001b[0m \u001b[0mself\u001b[0m\u001b[0;34m.\u001b[0m\u001b[0m_save_path\u001b[0m\u001b[0;34m,\u001b[0m \u001b[0mglobal_step\u001b[0m\u001b[0;34m=\u001b[0m\u001b[0mstep\u001b[0m\u001b[0;34m)\u001b[0m\u001b[0;34m\u001b[0m\u001b[0;34m\u001b[0m\u001b[0m\n\u001b[0m\u001b[1;32m    612\u001b[0m     self._summary_writer.add_session_log(\n",
      "\u001b[0;32m~/anaconda3/envs/aims-tf-1/lib/python3.7/site-packages/tensorflow_core/python/training/saver.py\u001b[0m in \u001b[0;36msave\u001b[0;34m(self, sess, save_path, global_step, latest_filename, meta_graph_suffix, write_meta_graph, write_state, strip_default_attrs, save_debug_info)\u001b[0m\n\u001b[1;32m   1175\u001b[0m               \u001b[0mself\u001b[0m\u001b[0;34m.\u001b[0m\u001b[0msaver_def\u001b[0m\u001b[0;34m.\u001b[0m\u001b[0msave_tensor_name\u001b[0m\u001b[0;34m,\u001b[0m\u001b[0;34m\u001b[0m\u001b[0;34m\u001b[0m\u001b[0m\n\u001b[0;32m-> 1176\u001b[0;31m               {self.saver_def.filename_tensor_name: checkpoint_file})\n\u001b[0m\u001b[1;32m   1177\u001b[0m \u001b[0;34m\u001b[0m\u001b[0m\n",
      "\u001b[0;32m~/anaconda3/envs/aims-tf-1/lib/python3.7/site-packages/tensorflow_core/python/client/session.py\u001b[0m in \u001b[0;36mrun\u001b[0;34m(self, fetches, feed_dict, options, run_metadata)\u001b[0m\n\u001b[1;32m    955\u001b[0m       result = self._run(None, fetches, feed_dict, options_ptr,\n\u001b[0;32m--> 956\u001b[0;31m                          run_metadata_ptr)\n\u001b[0m\u001b[1;32m    957\u001b[0m       \u001b[0;32mif\u001b[0m \u001b[0mrun_metadata\u001b[0m\u001b[0;34m:\u001b[0m\u001b[0;34m\u001b[0m\u001b[0;34m\u001b[0m\u001b[0m\n",
      "\u001b[0;32m~/anaconda3/envs/aims-tf-1/lib/python3.7/site-packages/tensorflow_core/python/client/session.py\u001b[0m in \u001b[0;36m_run\u001b[0;34m(self, handle, fetches, feed_dict, options, run_metadata)\u001b[0m\n\u001b[1;32m   1179\u001b[0m       results = self._do_run(handle, final_targets, final_fetches,\n\u001b[0;32m-> 1180\u001b[0;31m                              feed_dict_tensor, options, run_metadata)\n\u001b[0m\u001b[1;32m   1181\u001b[0m     \u001b[0;32melse\u001b[0m\u001b[0;34m:\u001b[0m\u001b[0;34m\u001b[0m\u001b[0;34m\u001b[0m\u001b[0m\n",
      "\u001b[0;32m~/anaconda3/envs/aims-tf-1/lib/python3.7/site-packages/tensorflow_core/python/client/session.py\u001b[0m in \u001b[0;36m_do_run\u001b[0;34m(self, handle, target_list, fetch_list, feed_dict, options, run_metadata)\u001b[0m\n\u001b[1;32m   1358\u001b[0m       return self._do_call(_run_fn, feeds, fetches, targets, options,\n\u001b[0;32m-> 1359\u001b[0;31m                            run_metadata)\n\u001b[0m\u001b[1;32m   1360\u001b[0m     \u001b[0;32melse\u001b[0m\u001b[0;34m:\u001b[0m\u001b[0;34m\u001b[0m\u001b[0;34m\u001b[0m\u001b[0m\n",
      "\u001b[0;32m~/anaconda3/envs/aims-tf-1/lib/python3.7/site-packages/tensorflow_core/python/client/session.py\u001b[0m in \u001b[0;36m_do_call\u001b[0;34m(self, fn, *args)\u001b[0m\n\u001b[1;32m   1364\u001b[0m     \u001b[0;32mtry\u001b[0m\u001b[0;34m:\u001b[0m\u001b[0;34m\u001b[0m\u001b[0;34m\u001b[0m\u001b[0m\n\u001b[0;32m-> 1365\u001b[0;31m       \u001b[0;32mreturn\u001b[0m \u001b[0mfn\u001b[0m\u001b[0;34m(\u001b[0m\u001b[0;34m*\u001b[0m\u001b[0margs\u001b[0m\u001b[0;34m)\u001b[0m\u001b[0;34m\u001b[0m\u001b[0;34m\u001b[0m\u001b[0m\n\u001b[0m\u001b[1;32m   1366\u001b[0m     \u001b[0;32mexcept\u001b[0m \u001b[0merrors\u001b[0m\u001b[0;34m.\u001b[0m\u001b[0mOpError\u001b[0m \u001b[0;32mas\u001b[0m \u001b[0me\u001b[0m\u001b[0;34m:\u001b[0m\u001b[0;34m\u001b[0m\u001b[0;34m\u001b[0m\u001b[0m\n",
      "\u001b[0;32m~/anaconda3/envs/aims-tf-1/lib/python3.7/site-packages/tensorflow_core/python/client/session.py\u001b[0m in \u001b[0;36m_run_fn\u001b[0;34m(feed_dict, fetch_list, target_list, options, run_metadata)\u001b[0m\n\u001b[1;32m   1349\u001b[0m       return self._call_tf_sessionrun(options, feed_dict, fetch_list,\n\u001b[0;32m-> 1350\u001b[0;31m                                       target_list, run_metadata)\n\u001b[0m\u001b[1;32m   1351\u001b[0m \u001b[0;34m\u001b[0m\u001b[0m\n",
      "\u001b[0;32m~/anaconda3/envs/aims-tf-1/lib/python3.7/site-packages/tensorflow_core/python/client/session.py\u001b[0m in \u001b[0;36m_call_tf_sessionrun\u001b[0;34m(self, options, feed_dict, fetch_list, target_list, run_metadata)\u001b[0m\n\u001b[1;32m   1442\u001b[0m                                             \u001b[0mfetch_list\u001b[0m\u001b[0;34m,\u001b[0m \u001b[0mtarget_list\u001b[0m\u001b[0;34m,\u001b[0m\u001b[0;34m\u001b[0m\u001b[0;34m\u001b[0m\u001b[0m\n\u001b[0;32m-> 1443\u001b[0;31m                                             run_metadata)\n\u001b[0m\u001b[1;32m   1444\u001b[0m \u001b[0;34m\u001b[0m\u001b[0m\n",
      "\u001b[0;31mKeyboardInterrupt\u001b[0m: ",
      "\nDuring handling of the above exception, another exception occurred:\n",
      "\u001b[0;31mKeyboardInterrupt\u001b[0m                         Traceback (most recent call last)",
      "\u001b[0;32m<ipython-input-10-53b21840fd50>\u001b[0m in \u001b[0;36m<module>\u001b[0;34m\u001b[0m\n\u001b[1;32m      2\u001b[0m \u001b[0;31m# batch size. This is roughly equivalent to 100 epochs since the training dataset\u001b[0m\u001b[0;34m\u001b[0m\u001b[0;34m\u001b[0m\u001b[0;34m\u001b[0m\u001b[0m\n\u001b[1;32m      3\u001b[0m \u001b[0;31m# contains 25,000 examples.\u001b[0m\u001b[0;34m\u001b[0m\u001b[0;34m\u001b[0m\u001b[0;34m\u001b[0m\u001b[0m\n\u001b[0;32m----> 4\u001b[0;31m \u001b[0mestimator\u001b[0m\u001b[0;34m.\u001b[0m\u001b[0mtrain\u001b[0m\u001b[0;34m(\u001b[0m\u001b[0minput_fn\u001b[0m\u001b[0;34m=\u001b[0m\u001b[0mtrain_input_fn\u001b[0m\u001b[0;34m,\u001b[0m \u001b[0msteps\u001b[0m\u001b[0;34m=\u001b[0m\u001b[0;36m20000\u001b[0m\u001b[0;34m)\u001b[0m\u001b[0;34m;\u001b[0m\u001b[0;34m\u001b[0m\u001b[0;34m\u001b[0m\u001b[0m\n\u001b[0m",
      "\u001b[0;32m~/anaconda3/envs/aims-tf-1/lib/python3.7/site-packages/tensorflow_estimator/python/estimator/estimator.py\u001b[0m in \u001b[0;36mtrain\u001b[0;34m(self, input_fn, hooks, steps, max_steps, saving_listeners)\u001b[0m\n\u001b[1;32m    368\u001b[0m \u001b[0;34m\u001b[0m\u001b[0m\n\u001b[1;32m    369\u001b[0m       \u001b[0msaving_listeners\u001b[0m \u001b[0;34m=\u001b[0m \u001b[0m_check_listeners_type\u001b[0m\u001b[0;34m(\u001b[0m\u001b[0msaving_listeners\u001b[0m\u001b[0;34m)\u001b[0m\u001b[0;34m\u001b[0m\u001b[0;34m\u001b[0m\u001b[0m\n\u001b[0;32m--> 370\u001b[0;31m       \u001b[0mloss\u001b[0m \u001b[0;34m=\u001b[0m \u001b[0mself\u001b[0m\u001b[0;34m.\u001b[0m\u001b[0m_train_model\u001b[0m\u001b[0;34m(\u001b[0m\u001b[0minput_fn\u001b[0m\u001b[0;34m,\u001b[0m \u001b[0mhooks\u001b[0m\u001b[0;34m,\u001b[0m \u001b[0msaving_listeners\u001b[0m\u001b[0;34m)\u001b[0m\u001b[0;34m\u001b[0m\u001b[0;34m\u001b[0m\u001b[0m\n\u001b[0m\u001b[1;32m    371\u001b[0m       \u001b[0mlogging\u001b[0m\u001b[0;34m.\u001b[0m\u001b[0minfo\u001b[0m\u001b[0;34m(\u001b[0m\u001b[0;34m'Loss for final step: %s.'\u001b[0m\u001b[0;34m,\u001b[0m \u001b[0mloss\u001b[0m\u001b[0;34m)\u001b[0m\u001b[0;34m\u001b[0m\u001b[0;34m\u001b[0m\u001b[0m\n\u001b[1;32m    372\u001b[0m       \u001b[0;32mreturn\u001b[0m \u001b[0mself\u001b[0m\u001b[0;34m\u001b[0m\u001b[0;34m\u001b[0m\u001b[0m\n",
      "\u001b[0;32m~/anaconda3/envs/aims-tf-1/lib/python3.7/site-packages/tensorflow_estimator/python/estimator/estimator.py\u001b[0m in \u001b[0;36m_train_model\u001b[0;34m(self, input_fn, hooks, saving_listeners)\u001b[0m\n\u001b[1;32m   1159\u001b[0m       \u001b[0;32mreturn\u001b[0m \u001b[0mself\u001b[0m\u001b[0;34m.\u001b[0m\u001b[0m_train_model_distributed\u001b[0m\u001b[0;34m(\u001b[0m\u001b[0minput_fn\u001b[0m\u001b[0;34m,\u001b[0m \u001b[0mhooks\u001b[0m\u001b[0;34m,\u001b[0m \u001b[0msaving_listeners\u001b[0m\u001b[0;34m)\u001b[0m\u001b[0;34m\u001b[0m\u001b[0;34m\u001b[0m\u001b[0m\n\u001b[1;32m   1160\u001b[0m     \u001b[0;32melse\u001b[0m\u001b[0;34m:\u001b[0m\u001b[0;34m\u001b[0m\u001b[0;34m\u001b[0m\u001b[0m\n\u001b[0;32m-> 1161\u001b[0;31m       \u001b[0;32mreturn\u001b[0m \u001b[0mself\u001b[0m\u001b[0;34m.\u001b[0m\u001b[0m_train_model_default\u001b[0m\u001b[0;34m(\u001b[0m\u001b[0minput_fn\u001b[0m\u001b[0;34m,\u001b[0m \u001b[0mhooks\u001b[0m\u001b[0;34m,\u001b[0m \u001b[0msaving_listeners\u001b[0m\u001b[0;34m)\u001b[0m\u001b[0;34m\u001b[0m\u001b[0;34m\u001b[0m\u001b[0m\n\u001b[0m\u001b[1;32m   1162\u001b[0m \u001b[0;34m\u001b[0m\u001b[0m\n\u001b[1;32m   1163\u001b[0m   \u001b[0;32mdef\u001b[0m \u001b[0m_train_model_default\u001b[0m\u001b[0;34m(\u001b[0m\u001b[0mself\u001b[0m\u001b[0;34m,\u001b[0m \u001b[0minput_fn\u001b[0m\u001b[0;34m,\u001b[0m \u001b[0mhooks\u001b[0m\u001b[0;34m,\u001b[0m \u001b[0msaving_listeners\u001b[0m\u001b[0;34m)\u001b[0m\u001b[0;34m:\u001b[0m\u001b[0;34m\u001b[0m\u001b[0;34m\u001b[0m\u001b[0m\n",
      "\u001b[0;32m~/anaconda3/envs/aims-tf-1/lib/python3.7/site-packages/tensorflow_estimator/python/estimator/estimator.py\u001b[0m in \u001b[0;36m_train_model_default\u001b[0;34m(self, input_fn, hooks, saving_listeners)\u001b[0m\n\u001b[1;32m   1193\u001b[0m       return self._train_with_estimator_spec(estimator_spec, worker_hooks,\n\u001b[1;32m   1194\u001b[0m                                              \u001b[0mhooks\u001b[0m\u001b[0;34m,\u001b[0m \u001b[0mglobal_step_tensor\u001b[0m\u001b[0;34m,\u001b[0m\u001b[0;34m\u001b[0m\u001b[0;34m\u001b[0m\u001b[0m\n\u001b[0;32m-> 1195\u001b[0;31m                                              saving_listeners)\n\u001b[0m\u001b[1;32m   1196\u001b[0m \u001b[0;34m\u001b[0m\u001b[0m\n\u001b[1;32m   1197\u001b[0m   \u001b[0;32mdef\u001b[0m \u001b[0m_train_model_distributed\u001b[0m\u001b[0;34m(\u001b[0m\u001b[0mself\u001b[0m\u001b[0;34m,\u001b[0m \u001b[0minput_fn\u001b[0m\u001b[0;34m,\u001b[0m \u001b[0mhooks\u001b[0m\u001b[0;34m,\u001b[0m \u001b[0msaving_listeners\u001b[0m\u001b[0;34m)\u001b[0m\u001b[0;34m:\u001b[0m\u001b[0;34m\u001b[0m\u001b[0;34m\u001b[0m\u001b[0m\n",
      "\u001b[0;32m~/anaconda3/envs/aims-tf-1/lib/python3.7/site-packages/tensorflow_estimator/python/estimator/estimator.py\u001b[0m in \u001b[0;36m_train_with_estimator_spec\u001b[0;34m(self, estimator_spec, worker_hooks, hooks, global_step_tensor, saving_listeners)\u001b[0m\n\u001b[1;32m   1493\u001b[0m       \u001b[0;32mwhile\u001b[0m \u001b[0;32mnot\u001b[0m \u001b[0mmon_sess\u001b[0m\u001b[0;34m.\u001b[0m\u001b[0mshould_stop\u001b[0m\u001b[0;34m(\u001b[0m\u001b[0;34m)\u001b[0m\u001b[0;34m:\u001b[0m\u001b[0;34m\u001b[0m\u001b[0;34m\u001b[0m\u001b[0m\n\u001b[1;32m   1494\u001b[0m         \u001b[0m_\u001b[0m\u001b[0;34m,\u001b[0m \u001b[0mloss\u001b[0m \u001b[0;34m=\u001b[0m \u001b[0mmon_sess\u001b[0m\u001b[0;34m.\u001b[0m\u001b[0mrun\u001b[0m\u001b[0;34m(\u001b[0m\u001b[0;34m[\u001b[0m\u001b[0mestimator_spec\u001b[0m\u001b[0;34m.\u001b[0m\u001b[0mtrain_op\u001b[0m\u001b[0;34m,\u001b[0m \u001b[0mestimator_spec\u001b[0m\u001b[0;34m.\u001b[0m\u001b[0mloss\u001b[0m\u001b[0;34m]\u001b[0m\u001b[0;34m)\u001b[0m\u001b[0;34m\u001b[0m\u001b[0;34m\u001b[0m\u001b[0m\n\u001b[0;32m-> 1495\u001b[0;31m         \u001b[0many_step_done\u001b[0m \u001b[0;34m=\u001b[0m \u001b[0;32mTrue\u001b[0m\u001b[0;34m\u001b[0m\u001b[0;34m\u001b[0m\u001b[0m\n\u001b[0m\u001b[1;32m   1496\u001b[0m     \u001b[0;32mif\u001b[0m \u001b[0;32mnot\u001b[0m \u001b[0many_step_done\u001b[0m\u001b[0;34m:\u001b[0m\u001b[0;34m\u001b[0m\u001b[0;34m\u001b[0m\u001b[0m\n\u001b[1;32m   1497\u001b[0m       logging.warning('Training with estimator made no steps. '\n",
      "\u001b[0;32m~/anaconda3/envs/aims-tf-1/lib/python3.7/site-packages/tensorflow_core/python/training/monitored_session.py\u001b[0m in \u001b[0;36m__exit__\u001b[0;34m(self, exception_type, exception_value, traceback)\u001b[0m\n\u001b[1;32m    859\u001b[0m     \u001b[0;32mif\u001b[0m \u001b[0mexception_type\u001b[0m \u001b[0;32min\u001b[0m \u001b[0;34m[\u001b[0m\u001b[0merrors\u001b[0m\u001b[0;34m.\u001b[0m\u001b[0mOutOfRangeError\u001b[0m\u001b[0;34m,\u001b[0m \u001b[0mStopIteration\u001b[0m\u001b[0;34m]\u001b[0m\u001b[0;34m:\u001b[0m\u001b[0;34m\u001b[0m\u001b[0;34m\u001b[0m\u001b[0m\n\u001b[1;32m    860\u001b[0m       \u001b[0mexception_type\u001b[0m \u001b[0;34m=\u001b[0m \u001b[0;32mNone\u001b[0m\u001b[0;34m\u001b[0m\u001b[0;34m\u001b[0m\u001b[0m\n\u001b[0;32m--> 861\u001b[0;31m     \u001b[0mself\u001b[0m\u001b[0;34m.\u001b[0m\u001b[0m_close_internal\u001b[0m\u001b[0;34m(\u001b[0m\u001b[0mexception_type\u001b[0m\u001b[0;34m)\u001b[0m\u001b[0;34m\u001b[0m\u001b[0;34m\u001b[0m\u001b[0m\n\u001b[0m\u001b[1;32m    862\u001b[0m     \u001b[0;31m# __exit__ should return True to suppress an exception.\u001b[0m\u001b[0;34m\u001b[0m\u001b[0;34m\u001b[0m\u001b[0;34m\u001b[0m\u001b[0m\n\u001b[1;32m    863\u001b[0m     \u001b[0;32mreturn\u001b[0m \u001b[0mexception_type\u001b[0m \u001b[0;32mis\u001b[0m \u001b[0;32mNone\u001b[0m\u001b[0;34m\u001b[0m\u001b[0;34m\u001b[0m\u001b[0m\n",
      "\u001b[0;32m~/anaconda3/envs/aims-tf-1/lib/python3.7/site-packages/tensorflow_core/python/training/monitored_session.py\u001b[0m in \u001b[0;36m_close_internal\u001b[0;34m(self, exception_type)\u001b[0m\n\u001b[1;32m    897\u001b[0m         \u001b[0;32mif\u001b[0m \u001b[0mself\u001b[0m\u001b[0;34m.\u001b[0m\u001b[0m_sess\u001b[0m \u001b[0;32mis\u001b[0m \u001b[0;32mNone\u001b[0m\u001b[0;34m:\u001b[0m\u001b[0;34m\u001b[0m\u001b[0;34m\u001b[0m\u001b[0m\n\u001b[1;32m    898\u001b[0m           \u001b[0;32mraise\u001b[0m \u001b[0mRuntimeError\u001b[0m\u001b[0;34m(\u001b[0m\u001b[0;34m'Session is already closed.'\u001b[0m\u001b[0;34m)\u001b[0m\u001b[0;34m\u001b[0m\u001b[0;34m\u001b[0m\u001b[0m\n\u001b[0;32m--> 899\u001b[0;31m         \u001b[0mself\u001b[0m\u001b[0;34m.\u001b[0m\u001b[0m_sess\u001b[0m\u001b[0;34m.\u001b[0m\u001b[0mclose\u001b[0m\u001b[0;34m(\u001b[0m\u001b[0;34m)\u001b[0m\u001b[0;34m\u001b[0m\u001b[0;34m\u001b[0m\u001b[0m\n\u001b[0m\u001b[1;32m    900\u001b[0m       \u001b[0;32mfinally\u001b[0m\u001b[0;34m:\u001b[0m\u001b[0;34m\u001b[0m\u001b[0;34m\u001b[0m\u001b[0m\n\u001b[1;32m    901\u001b[0m         \u001b[0mself\u001b[0m\u001b[0;34m.\u001b[0m\u001b[0m_sess\u001b[0m \u001b[0;34m=\u001b[0m \u001b[0;32mNone\u001b[0m\u001b[0;34m\u001b[0m\u001b[0;34m\u001b[0m\u001b[0m\n",
      "\u001b[0;32m~/anaconda3/envs/aims-tf-1/lib/python3.7/site-packages/tensorflow_core/python/training/monitored_session.py\u001b[0m in \u001b[0;36mclose\u001b[0;34m(self)\u001b[0m\n\u001b[1;32m   1164\u001b[0m     \u001b[0;32mif\u001b[0m \u001b[0mself\u001b[0m\u001b[0;34m.\u001b[0m\u001b[0m_sess\u001b[0m\u001b[0;34m:\u001b[0m\u001b[0;34m\u001b[0m\u001b[0;34m\u001b[0m\u001b[0m\n\u001b[1;32m   1165\u001b[0m       \u001b[0;32mtry\u001b[0m\u001b[0;34m:\u001b[0m\u001b[0;34m\u001b[0m\u001b[0;34m\u001b[0m\u001b[0m\n\u001b[0;32m-> 1166\u001b[0;31m         \u001b[0mself\u001b[0m\u001b[0;34m.\u001b[0m\u001b[0m_sess\u001b[0m\u001b[0;34m.\u001b[0m\u001b[0mclose\u001b[0m\u001b[0;34m(\u001b[0m\u001b[0;34m)\u001b[0m\u001b[0;34m\u001b[0m\u001b[0;34m\u001b[0m\u001b[0m\n\u001b[0m\u001b[1;32m   1167\u001b[0m       \u001b[0;32mexcept\u001b[0m \u001b[0m_PREEMPTION_ERRORS\u001b[0m \u001b[0;32mas\u001b[0m \u001b[0me\u001b[0m\u001b[0;34m:\u001b[0m\u001b[0;34m\u001b[0m\u001b[0;34m\u001b[0m\u001b[0m\n\u001b[1;32m   1168\u001b[0m         logging.warning(\n",
      "\u001b[0;32m~/anaconda3/envs/aims-tf-1/lib/python3.7/site-packages/tensorflow_core/python/training/monitored_session.py\u001b[0m in \u001b[0;36mclose\u001b[0;34m(self)\u001b[0m\n\u001b[1;32m   1335\u001b[0m     \u001b[0;32mfinally\u001b[0m\u001b[0;34m:\u001b[0m\u001b[0;34m\u001b[0m\u001b[0;34m\u001b[0m\u001b[0m\n\u001b[1;32m   1336\u001b[0m       \u001b[0;32mtry\u001b[0m\u001b[0;34m:\u001b[0m\u001b[0;34m\u001b[0m\u001b[0;34m\u001b[0m\u001b[0m\n\u001b[0;32m-> 1337\u001b[0;31m         \u001b[0m_WrappedSession\u001b[0m\u001b[0;34m.\u001b[0m\u001b[0mclose\u001b[0m\u001b[0;34m(\u001b[0m\u001b[0mself\u001b[0m\u001b[0;34m)\u001b[0m\u001b[0;34m\u001b[0m\u001b[0;34m\u001b[0m\u001b[0m\n\u001b[0m\u001b[1;32m   1338\u001b[0m       \u001b[0;32mexcept\u001b[0m \u001b[0mException\u001b[0m\u001b[0;34m:\u001b[0m  \u001b[0;31m# pylint: disable=broad-except\u001b[0m\u001b[0;34m\u001b[0m\u001b[0;34m\u001b[0m\u001b[0m\n\u001b[1;32m   1339\u001b[0m         \u001b[0;31m# We intentionally suppress exceptions from the close() here since\u001b[0m\u001b[0;34m\u001b[0m\u001b[0;34m\u001b[0m\u001b[0;34m\u001b[0m\u001b[0m\n",
      "\u001b[0;32m~/anaconda3/envs/aims-tf-1/lib/python3.7/site-packages/tensorflow_core/python/training/monitored_session.py\u001b[0m in \u001b[0;36mclose\u001b[0;34m(self)\u001b[0m\n\u001b[1;32m   1164\u001b[0m     \u001b[0;32mif\u001b[0m \u001b[0mself\u001b[0m\u001b[0;34m.\u001b[0m\u001b[0m_sess\u001b[0m\u001b[0;34m:\u001b[0m\u001b[0;34m\u001b[0m\u001b[0;34m\u001b[0m\u001b[0m\n\u001b[1;32m   1165\u001b[0m       \u001b[0;32mtry\u001b[0m\u001b[0;34m:\u001b[0m\u001b[0;34m\u001b[0m\u001b[0;34m\u001b[0m\u001b[0m\n\u001b[0;32m-> 1166\u001b[0;31m         \u001b[0mself\u001b[0m\u001b[0;34m.\u001b[0m\u001b[0m_sess\u001b[0m\u001b[0;34m.\u001b[0m\u001b[0mclose\u001b[0m\u001b[0;34m(\u001b[0m\u001b[0;34m)\u001b[0m\u001b[0;34m\u001b[0m\u001b[0;34m\u001b[0m\u001b[0m\n\u001b[0m\u001b[1;32m   1167\u001b[0m       \u001b[0;32mexcept\u001b[0m \u001b[0m_PREEMPTION_ERRORS\u001b[0m \u001b[0;32mas\u001b[0m \u001b[0me\u001b[0m\u001b[0;34m:\u001b[0m\u001b[0;34m\u001b[0m\u001b[0;34m\u001b[0m\u001b[0m\n\u001b[1;32m   1168\u001b[0m         logging.warning(\n",
      "\u001b[0;32m~/anaconda3/envs/aims-tf-1/lib/python3.7/site-packages/tensorflow_core/python/training/monitored_session.py\u001b[0m in \u001b[0;36mclose\u001b[0;34m(self)\u001b[0m\n\u001b[1;32m   1164\u001b[0m     \u001b[0;32mif\u001b[0m \u001b[0mself\u001b[0m\u001b[0;34m.\u001b[0m\u001b[0m_sess\u001b[0m\u001b[0;34m:\u001b[0m\u001b[0;34m\u001b[0m\u001b[0;34m\u001b[0m\u001b[0m\n\u001b[1;32m   1165\u001b[0m       \u001b[0;32mtry\u001b[0m\u001b[0;34m:\u001b[0m\u001b[0;34m\u001b[0m\u001b[0;34m\u001b[0m\u001b[0m\n\u001b[0;32m-> 1166\u001b[0;31m         \u001b[0mself\u001b[0m\u001b[0;34m.\u001b[0m\u001b[0m_sess\u001b[0m\u001b[0;34m.\u001b[0m\u001b[0mclose\u001b[0m\u001b[0;34m(\u001b[0m\u001b[0;34m)\u001b[0m\u001b[0;34m\u001b[0m\u001b[0;34m\u001b[0m\u001b[0m\n\u001b[0m\u001b[1;32m   1167\u001b[0m       \u001b[0;32mexcept\u001b[0m \u001b[0m_PREEMPTION_ERRORS\u001b[0m \u001b[0;32mas\u001b[0m \u001b[0me\u001b[0m\u001b[0;34m:\u001b[0m\u001b[0;34m\u001b[0m\u001b[0;34m\u001b[0m\u001b[0m\n\u001b[1;32m   1168\u001b[0m         logging.warning(\n",
      "\u001b[0;32m~/anaconda3/envs/aims-tf-1/lib/python3.7/site-packages/tensorflow_core/python/client/session.py\u001b[0m in \u001b[0;36mclose\u001b[0;34m(self)\u001b[0m\n\u001b[1;32m    751\u001b[0m     \u001b[0;32mif\u001b[0m \u001b[0mself\u001b[0m\u001b[0;34m.\u001b[0m\u001b[0m_session\u001b[0m \u001b[0;32mand\u001b[0m \u001b[0;32mnot\u001b[0m \u001b[0mself\u001b[0m\u001b[0;34m.\u001b[0m\u001b[0m_closed\u001b[0m\u001b[0;34m:\u001b[0m\u001b[0;34m\u001b[0m\u001b[0;34m\u001b[0m\u001b[0m\n\u001b[1;32m    752\u001b[0m       \u001b[0mself\u001b[0m\u001b[0;34m.\u001b[0m\u001b[0m_closed\u001b[0m \u001b[0;34m=\u001b[0m \u001b[0;32mTrue\u001b[0m\u001b[0;34m\u001b[0m\u001b[0;34m\u001b[0m\u001b[0m\n\u001b[0;32m--> 753\u001b[0;31m       \u001b[0mtf_session\u001b[0m\u001b[0;34m.\u001b[0m\u001b[0mTF_CloseSession\u001b[0m\u001b[0;34m(\u001b[0m\u001b[0mself\u001b[0m\u001b[0;34m.\u001b[0m\u001b[0m_session\u001b[0m\u001b[0;34m)\u001b[0m\u001b[0;34m\u001b[0m\u001b[0;34m\u001b[0m\u001b[0m\n\u001b[0m\u001b[1;32m    754\u001b[0m \u001b[0;34m\u001b[0m\u001b[0m\n\u001b[1;32m    755\u001b[0m   \u001b[0;32mdef\u001b[0m \u001b[0m__del__\u001b[0m\u001b[0;34m(\u001b[0m\u001b[0mself\u001b[0m\u001b[0;34m)\u001b[0m\u001b[0;34m:\u001b[0m\u001b[0;34m\u001b[0m\u001b[0;34m\u001b[0m\u001b[0m\n",
      "\u001b[0;31mKeyboardInterrupt\u001b[0m: "
     ]
    }
   ],
   "source": [
    "# Training for 20,000 steps means 128,000 training examples with the default\n",
    "# batch size. This is roughly equivalent to 100 epochs since the training dataset\n",
    "# contains 25,000 examples.\n",
    "estimator.train(input_fn=train_input_fn, steps=20000);"
   ]
  },
  {
   "cell_type": "code",
   "execution_count": null,
   "metadata": {
    "colab": {
     "base_uri": "https://localhost:8080/",
     "height": 34
    },
    "colab_type": "code",
    "id": "Y_h5m7Ggi282",
    "outputId": "89391537-ab66-4703-ec53-d27e836b95e2"
   },
   "outputs": [
    {
     "data": {
      "text/plain": [
       "20000.0"
      ]
     },
     "execution_count": 7,
     "metadata": {
      "tags": []
     },
     "output_type": "execute_result"
    }
   ],
   "source": [
    "# 100*1000/5"
   ]
  },
  {
   "cell_type": "markdown",
   "metadata": {
    "colab_type": "text",
    "id": "s8j7YTRSe7Pj"
   },
   "source": [
    "### Prediction\n",
    "\n",
    "Run predictions for both training and test set."
   ]
  },
  {
   "cell_type": "code",
   "execution_count": 21,
   "metadata": {},
   "outputs": [
    {
     "name": "stdout",
     "output_type": "stream",
     "text": [
      "INFO:tensorflow:Calling model_fn.\n"
     ]
    },
    {
     "name": "stderr",
     "output_type": "stream",
     "text": [
      "INFO:tensorflow:Calling model_fn.\n"
     ]
    },
    {
     "name": "stdout",
     "output_type": "stream",
     "text": [
      "INFO:tensorflow:Saver not created because there are no variables in the graph to restore\n"
     ]
    },
    {
     "name": "stderr",
     "output_type": "stream",
     "text": [
      "INFO:tensorflow:Saver not created because there are no variables in the graph to restore\n"
     ]
    },
    {
     "name": "stdout",
     "output_type": "stream",
     "text": [
      "INFO:tensorflow:Done calling model_fn.\n"
     ]
    },
    {
     "name": "stderr",
     "output_type": "stream",
     "text": [
      "INFO:tensorflow:Done calling model_fn.\n"
     ]
    },
    {
     "name": "stdout",
     "output_type": "stream",
     "text": [
      "INFO:tensorflow:Starting evaluation at 2019-12-24T11:22:28Z\n"
     ]
    },
    {
     "name": "stderr",
     "output_type": "stream",
     "text": [
      "INFO:tensorflow:Starting evaluation at 2019-12-24T11:22:28Z\n"
     ]
    },
    {
     "name": "stdout",
     "output_type": "stream",
     "text": [
      "INFO:tensorflow:Graph was finalized.\n"
     ]
    },
    {
     "name": "stderr",
     "output_type": "stream",
     "text": [
      "INFO:tensorflow:Graph was finalized.\n"
     ]
    },
    {
     "name": "stdout",
     "output_type": "stream",
     "text": [
      "INFO:tensorflow:Restoring parameters from /tmp/tmpuhnu7j4x/model.ckpt-196\n"
     ]
    },
    {
     "name": "stderr",
     "output_type": "stream",
     "text": [
      "INFO:tensorflow:Restoring parameters from /tmp/tmpuhnu7j4x/model.ckpt-196\n"
     ]
    },
    {
     "name": "stdout",
     "output_type": "stream",
     "text": [
      "INFO:tensorflow:Running local_init_op.\n"
     ]
    },
    {
     "name": "stderr",
     "output_type": "stream",
     "text": [
      "INFO:tensorflow:Running local_init_op.\n"
     ]
    },
    {
     "name": "stdout",
     "output_type": "stream",
     "text": [
      "INFO:tensorflow:Done running local_init_op.\n"
     ]
    },
    {
     "name": "stderr",
     "output_type": "stream",
     "text": [
      "INFO:tensorflow:Done running local_init_op.\n"
     ]
    },
    {
     "name": "stdout",
     "output_type": "stream",
     "text": [
      "INFO:tensorflow:Finished evaluation at 2019-12-24-11:23:08\n"
     ]
    },
    {
     "name": "stderr",
     "output_type": "stream",
     "text": [
      "INFO:tensorflow:Finished evaluation at 2019-12-24-11:23:08\n"
     ]
    },
    {
     "name": "stdout",
     "output_type": "stream",
     "text": [
      "INFO:tensorflow:Saving dict for global step 196: accuracy = 0.6654, accuracy_baseline = 0.5, auc = 0.7386924, auc_precision_recall = 0.73729104, average_loss = 0.6553721, global_step = 196, label/mean = 0.5, loss = 0.65532506, precision = 0.6355116, prediction/mean = 0.51865435, recall = 0.77568\n"
     ]
    },
    {
     "name": "stderr",
     "output_type": "stream",
     "text": [
      "INFO:tensorflow:Saving dict for global step 196: accuracy = 0.6654, accuracy_baseline = 0.5, auc = 0.7386924, auc_precision_recall = 0.73729104, average_loss = 0.6553721, global_step = 196, label/mean = 0.5, loss = 0.65532506, precision = 0.6355116, prediction/mean = 0.51865435, recall = 0.77568\n"
     ]
    },
    {
     "name": "stdout",
     "output_type": "stream",
     "text": [
      "INFO:tensorflow:Saving 'checkpoint_path' summary for global step 196: /tmp/tmpuhnu7j4x/model.ckpt-196\n"
     ]
    },
    {
     "name": "stderr",
     "output_type": "stream",
     "text": [
      "INFO:tensorflow:Saving 'checkpoint_path' summary for global step 196: /tmp/tmpuhnu7j4x/model.ckpt-196\n"
     ]
    },
    {
     "name": "stdout",
     "output_type": "stream",
     "text": [
      "INFO:tensorflow:Calling model_fn.\n"
     ]
    },
    {
     "name": "stderr",
     "output_type": "stream",
     "text": [
      "INFO:tensorflow:Calling model_fn.\n"
     ]
    },
    {
     "name": "stdout",
     "output_type": "stream",
     "text": [
      "INFO:tensorflow:Saver not created because there are no variables in the graph to restore\n"
     ]
    },
    {
     "name": "stderr",
     "output_type": "stream",
     "text": [
      "INFO:tensorflow:Saver not created because there are no variables in the graph to restore\n"
     ]
    },
    {
     "name": "stdout",
     "output_type": "stream",
     "text": [
      "INFO:tensorflow:Done calling model_fn.\n"
     ]
    },
    {
     "name": "stderr",
     "output_type": "stream",
     "text": [
      "INFO:tensorflow:Done calling model_fn.\n"
     ]
    },
    {
     "name": "stdout",
     "output_type": "stream",
     "text": [
      "INFO:tensorflow:Starting evaluation at 2019-12-24T11:23:19Z\n"
     ]
    },
    {
     "name": "stderr",
     "output_type": "stream",
     "text": [
      "INFO:tensorflow:Starting evaluation at 2019-12-24T11:23:19Z\n"
     ]
    },
    {
     "name": "stdout",
     "output_type": "stream",
     "text": [
      "INFO:tensorflow:Graph was finalized.\n"
     ]
    },
    {
     "name": "stderr",
     "output_type": "stream",
     "text": [
      "INFO:tensorflow:Graph was finalized.\n"
     ]
    },
    {
     "name": "stdout",
     "output_type": "stream",
     "text": [
      "INFO:tensorflow:Restoring parameters from /tmp/tmpuhnu7j4x/model.ckpt-196\n"
     ]
    },
    {
     "name": "stderr",
     "output_type": "stream",
     "text": [
      "INFO:tensorflow:Restoring parameters from /tmp/tmpuhnu7j4x/model.ckpt-196\n"
     ]
    },
    {
     "name": "stdout",
     "output_type": "stream",
     "text": [
      "INFO:tensorflow:Running local_init_op.\n"
     ]
    },
    {
     "name": "stderr",
     "output_type": "stream",
     "text": [
      "INFO:tensorflow:Running local_init_op.\n"
     ]
    },
    {
     "name": "stdout",
     "output_type": "stream",
     "text": [
      "INFO:tensorflow:Done running local_init_op.\n"
     ]
    },
    {
     "name": "stderr",
     "output_type": "stream",
     "text": [
      "INFO:tensorflow:Done running local_init_op.\n"
     ]
    },
    {
     "name": "stdout",
     "output_type": "stream",
     "text": [
      "INFO:tensorflow:Finished evaluation at 2019-12-24-11:24:00\n"
     ]
    },
    {
     "name": "stderr",
     "output_type": "stream",
     "text": [
      "INFO:tensorflow:Finished evaluation at 2019-12-24-11:24:00\n"
     ]
    },
    {
     "name": "stdout",
     "output_type": "stream",
     "text": [
      "INFO:tensorflow:Saving dict for global step 196: accuracy = 0.6574, accuracy_baseline = 0.5, auc = 0.7281414, auc_precision_recall = 0.7253007, average_loss = 0.6574305, global_step = 196, label/mean = 0.5, loss = 0.65742254, precision = 0.63006544, prediction/mean = 0.5172086, recall = 0.76248\n"
     ]
    },
    {
     "name": "stderr",
     "output_type": "stream",
     "text": [
      "INFO:tensorflow:Saving dict for global step 196: accuracy = 0.6574, accuracy_baseline = 0.5, auc = 0.7281414, auc_precision_recall = 0.7253007, average_loss = 0.6574305, global_step = 196, label/mean = 0.5, loss = 0.65742254, precision = 0.63006544, prediction/mean = 0.5172086, recall = 0.76248\n"
     ]
    },
    {
     "name": "stdout",
     "output_type": "stream",
     "text": [
      "INFO:tensorflow:Saving 'checkpoint_path' summary for global step 196: /tmp/tmpuhnu7j4x/model.ckpt-196\n"
     ]
    },
    {
     "name": "stderr",
     "output_type": "stream",
     "text": [
      "INFO:tensorflow:Saving 'checkpoint_path' summary for global step 196: /tmp/tmpuhnu7j4x/model.ckpt-196\n"
     ]
    },
    {
     "name": "stdout",
     "output_type": "stream",
     "text": [
      "Training set accuracy: 66.5 %\n",
      "Test set accuracy: 65.7 %\n"
     ]
    }
   ],
   "source": [
    "train_eval_result = estimator.evaluate(input_fn=predict_train_input_fn)\n",
    "test_eval_result = estimator.evaluate(input_fn=predict_test_input_fn)\n",
    "\n",
    "print(f\"Training set accuracy: {train_eval_result['accuracy']*100:.1f} %\")\n",
    "print(f\"Test set accuracy: {test_eval_result['accuracy']*100:.1f} %\")"
   ]
  },
  {
   "cell_type": "code",
   "execution_count": null,
   "metadata": {
    "colab": {
     "base_uri": "https://localhost:8080/",
     "height": 51
    },
    "colab_type": "code",
    "id": "zbLg5LzGwAfC",
    "outputId": "79253a2a-8739-4d48-ce5a-21b7614eb2ff"
   },
   "outputs": [
    {
     "name": "stdout",
     "output_type": "stream",
     "text": [
      "Training set accuracy: 100.0 %\n",
      "Test set accuracy: 86.6 %\n"
     ]
    }
   ],
   "source": [
    "train_eval_result = estimator.evaluate(input_fn=predict_train_input_fn)\n",
    "test_eval_result = estimator.evaluate(input_fn=predict_test_input_fn)\n",
    "\n",
    "print(f\"Training set accuracy: {train_eval_result['accuracy']*100:.1f} %\")\n",
    "print(f\"Test set accuracy: {test_eval_result['accuracy']*100:.1f} %\")"
   ]
  },
  {
   "cell_type": "code",
   "execution_count": null,
   "metadata": {
    "colab": {
     "base_uri": "https://localhost:8080/",
     "height": 476
    },
    "colab_type": "code",
    "id": "HdtMgEqVLt-9",
    "outputId": "9fc1b997-f1b4-4cdc-dab8-3879e742f571"
   },
   "outputs": [
    {
     "name": "stdout",
     "output_type": "stream",
     "text": [
      "Training set metrics:\n",
      "accuracy 1.0\n",
      "accuracy_baseline 0.5\n",
      "auc 1.0\n",
      "auc_precision_recall 1.0\n",
      "average_loss 4.2935313e-05\n",
      "label/mean 0.5\n",
      "loss 0.005476443\n",
      "precision 1.0\n",
      "prediction/mean 0.50000554\n",
      "recall 1.0\n",
      "global_step 20000\n",
      "\n",
      "-----------------------------------\n",
      "\n",
      "Testing set metrics:\n",
      "accuracy 0.86576\n",
      "accuracy_baseline 0.5\n",
      "auc 0.90123457\n",
      "auc_precision_recall 0.91897255\n",
      "average_loss 1.144381\n",
      "label/mean 0.5\n",
      "loss 145.96698\n",
      "precision 0.8721309\n",
      "prediction/mean 0.4916909\n",
      "recall 0.8572\n",
      "global_step 20000\n"
     ]
    }
   ],
   "source": [
    "print(\"Training set metrics:\")\n",
    "for m in train_eval_result:\n",
    "  print(m, train_eval_result[m])\n",
    "  \n",
    "print(\"\\n-----------------------------------\\n\")\n",
    "\n",
    "print(\"Testing set metrics:\")\n",
    "for m in test_eval_result:\n",
    "  print(m, test_eval_result[m])\n",
    "# print(\"---\")"
   ]
  },
  {
   "cell_type": "markdown",
   "metadata": {
    "colab_type": "text",
    "id": "4DCAk8VmVVdm"
   },
   "source": [
    "### Evaluation\n"
   ]
  },
  {
   "cell_type": "code",
   "execution_count": null,
   "metadata": {
    "colab": {
     "base_uri": "https://localhost:8080/",
     "height": 298
    },
    "colab_type": "code",
    "id": "TOCvE74dVXmx",
    "outputId": "ca595d66-3c50-4ed5-c94f-3ed8e1d19084"
   },
   "outputs": [
    {
     "data": {
      "text/plain": [
       "<function matplotlib.pyplot.show>"
      ]
     },
     "execution_count": 26,
     "metadata": {
      "tags": []
     },
     "output_type": "execute_result"
    },
    {
     "data": {
      "image/png": "[encoded data removed]",
      "text/plain": [
       "<Figure size 432x288 with 1 Axes>"
      ]
     },
     "metadata": {
      "tags": []
     },
     "output_type": "display_data"
    }
   ],
   "source": [
    "from sklearn.metrics import auc\n",
    "validation_probabilities = estimator.predict(input_fn=predict_test_input_fn)\n",
    "# Get just the probabilities for the positive class.\n",
    "validation_probabilities = np.array([item['probabilities'][1] for item in validation_probabilities])\n",
    "\n",
    "false_positive_rate, true_positive_rate, thresholds = metrics.roc_curve(\n",
    "    test_df[\"sentiment\"], validation_probabilities)\n",
    "\n",
    "\n",
    "roc_auc = auc(false_positive_rate,true_positive_rate)\n",
    "plt.plot(false_positive_rate,true_positive_rate,label='area = %.2f' %roc_auc)\n",
    "plt.plot([0, 1], [0, 1], label=\"random classifier\")\n",
    "plt.title(\"ROC Curve (250-d, trainable)\")\n",
    "plt.legend(loc=0)\n",
    "plt.savefig(\"ROC curve (250).eps\", format='eps', dpi=1200)\n",
    "plt.show"
   ]
  },
  {
   "cell_type": "markdown",
   "metadata": {
    "colab_type": "text",
    "id": "DR2IsTF5vuAX"
   },
   "source": [
    "###Confusion matrix\n",
    "\n",
    "We can visually check the confusion matrix to understand the distribution of misclassifications."
   ]
  },
  {
   "cell_type": "code",
   "execution_count": null,
   "metadata": {
    "colab": {
     "base_uri": "https://localhost:8080/",
     "height": 312
    },
    "colab_type": "code",
    "id": "nT71CtArpsKz",
    "outputId": "af62718d-2096-4acb-dc67-2aa2c7befc33"
   },
   "outputs": [
    {
     "data": {
      "text/plain": [
       "[]"
      ]
     },
     "execution_count": 16,
     "metadata": {
      "tags": []
     },
     "output_type": "execute_result"
    },
    {
     "data": {
      "image/png": "[encoded data removed]",
      "text/plain": [
       "<Figure size 432x288 with 2 Axes>"
      ]
     },
     "metadata": {
      "tags": []
     },
     "output_type": "display_data"
    }
   ],
   "source": [
    "def get_predictions(estimator, input_fn):\n",
    "  return [x[\"class_ids\"][0] for x in estimator.predict(input_fn=input_fn)]\n",
    "\n",
    "LABELS = [\n",
    "    \"negative\", \"positive\"\n",
    "]\n",
    "\n",
    "# Create a confusion matrix on training data.\n",
    "with tf.Graph().as_default():\n",
    "  cm = tf.confusion_matrix(test_df[\"sentiment\"], \n",
    "                           get_predictions(estimator, predict_test_input_fn))\n",
    "  with tf.Session() as session:\n",
    "    cm_out = session.run(cm)\n",
    "\n",
    "# Normalize the confusion matrix so that each row sums to 1.\n",
    "cm_out = cm_out.astype(float) / cm_out.sum(axis=1)[:, np.newaxis]\n",
    "\n",
    "sns.heatmap(cm_out, annot=True, xticklabels=LABELS, yticklabels=LABELS);\n",
    "plt.xlabel(\"Predicted\");\n",
    "plt.ylabel(\"True\");\n",
    "plt.title(\"Confusion Matrix 250-dj trainable\")\n",
    "plt.savefig(\"Confusion matrix (250).eps\", format='eps', dpi=1000)\n",
    "plt.plot()"
   ]
  },
  {
   "cell_type": "code",
   "execution_count": null,
   "metadata": {
    "colab": {
     "base_uri": "https://localhost:8080/",
     "height": 51
    },
    "colab_type": "code",
    "id": "PdMPl6NfrNOQ",
    "outputId": "b7449826-928a-49f4-e879-3183b6923d96"
   },
   "outputs": [
    {
     "name": "stdout",
     "output_type": "stream",
     "text": [
      "'Confusion matrix (250).eps'  'ROC curve (250).png'\n",
      "'ROC curve (250).eps'\t       sample_data\n"
     ]
    }
   ],
   "source": [
    "!ls"
   ]
  },
  {
   "cell_type": "code",
   "execution_count": null,
   "metadata": {
    "colab": {},
    "colab_type": "code",
    "id": "T445odRtrO5O"
   },
   "outputs": [],
   "source": [
    "# files.download(\"Confusion matrix (250).eps\")\n",
    "files.download(\"ROC curve (250).eps\")\n",
    "# files.download(\"ROC curve (Bow+Fast_text).eps\")"
   ]
  },
  {
   "cell_type": "code",
   "execution_count": null,
   "metadata": {
    "colab": {},
    "colab_type": "code",
    "id": "ovS3VHgqDIHn"
   },
   "outputs": [],
   "source": [
    "def my_input_fn(features, targets, batch_size=1, shuffle=True, num_epochs=None):\n",
    "    \"\"\"Trains a linear regression model.\n",
    "  \n",
    "    Args:\n",
    "      features: pandas DataFrame of features\n",
    "      targets: pandas DataFrame of targets\n",
    "      batch_size: Size of batches to be passed to the model\n",
    "      shuffle: True or False. Whether to shuffle the data.\n",
    "      num_epochs: Number of epochs for which data should be repeated. None = repeat indefinitely\n",
    "    Returns:\n",
    "      Tuple of (features, labels) for next data batch\n",
    "    \"\"\"\n",
    "    \n",
    "    # Convert pandas data into a dict of np arrays.\n",
    "    features = {key:np.array(value) for key,value in dict(features).items()}                                            \n",
    " \n",
    "    # Construct a dataset, and configure batching/repeating.\n",
    "    ds = Dataset.from_tensor_slices((features,targets)) # warning: 2GB limit\n",
    "    ds = ds.batch(batch_size).repeat(num_epochs)\n",
    "    \n",
    "    # Shuffle the data, if specified.\n",
    "    if shuffle:\n",
    "      ds = ds.shuffle(10000)\n",
    "    \n",
    "    # Return the next batch of data.\n",
    "    features, labels = ds.make_one_shot_iterator().get_next()\n",
    "    return features, labels\n",
    "  \n",
    "def preprocess_targets(dataframe_):\n",
    "  \"\"\"Prepares target features (i.e., labels) from California housing data set.\n",
    "\n",
    "  Args:\n",
    "    california_housing_dataframe: A Pandas DataFrame expected to contain data\n",
    "      from the California housing data set.\n",
    "  Returns:\n",
    "    A DataFrame that contains the target feature.\n",
    "  \"\"\"\n",
    "  output_targets = pd.DataFrame()\n",
    "  # Create a boolean categorical feature representing whether the\n",
    "  # median_house_value is above a set threshold.\n",
    "  output_targets[\"sentiment\"] = (dataframe_[\"sentiment\"]).astype(float)\n",
    "  return output_targets"
   ]
  },
  {
   "cell_type": "code",
   "execution_count": null,
   "metadata": {
    "colab": {},
    "colab_type": "code",
    "id": "djVA2m3zUyhz"
   },
   "outputs": [],
   "source": [
    "def train_DNN_classifier_model(\n",
    "    learning_rate,\n",
    "    steps,\n",
    "    batch_size,\n",
    "    training_examples,\n",
    "    training_targets,\n",
    "    validation_examples,\n",
    "    validation_targets):\n",
    "  \"\"\"Trains a neural network classifier model.\n",
    "  \n",
    "  In addition to training, this function also prints training progress information,\n",
    "  as well as a plot of the training and validation loss over time.\n",
    "  \n",
    "  Args:\n",
    "    my_optimizer: An instance of `tf.train.Optimizer`, the optimizer to use.\n",
    "    steps: A non-zero `int`, the total number of training steps. A training step\n",
    "      consists of a forward and backward pass using a single batch.\n",
    "    batch_size: A non-zero `int`, the batch size.\n",
    "    hidden_units: A `list` of int values, specifying the number of neurons in each layer.\n",
    "    training_examples: A `DataFrame` containing one or more columns from\n",
    "      `california_housing_dataframe` to use as input features for training.\n",
    "    training_targets: A `DataFrame` containing exactly one column from\n",
    "      `california_housing_dataframe` to use as target for training.\n",
    "    validation_examples: A `DataFrame` containing one or more columns from\n",
    "      `california_housing_dataframe` to use as input features for validation.\n",
    "    validation_targets: A `DataFrame` containing exactly one column from\n",
    "      `california_housing_dataframe` to use as target for validation.\n",
    "      \n",
    "  Returns:\n",
    "    A tuple `(estimator, training_losses, validation_losses)`:\n",
    "      estimator: the trained `DNNRegressor` object.\n",
    "      training_losses: a `list` containing the training loss values taken during training.\n",
    "      validation_losses: a `list` containing the validation loss values taken during training.\n",
    "  \"\"\"\n",
    "\n",
    "  periods = 10\n",
    "  steps_per_period = steps / periods\n",
    "  \n",
    "  estimator = tf.estimator.DNNClassifier(\n",
    "    hidden_units=[512],\n",
    "    feature_columns=[embedded_text_feature_column],\n",
    "    n_classes=2,\n",
    "    optimizer=tf.train.AdagradOptimizer(learning_rate=learning_rate))\n",
    "  \n",
    "  # Create input functions.\n",
    "  training_input_fn = lambda: my_input_fn(training_examples, \n",
    "                                          training_targets[\"sentiment\"], \n",
    "                                          batch_size=batch_size)\n",
    "  predict_training_input_fn = lambda: my_input_fn(training_examples, \n",
    "                                                  training_targets[\"sentiment\"], \n",
    "                                                  num_epochs=1, \n",
    "                                                  shuffle=False)\n",
    "  predict_validation_input_fn = lambda: my_input_fn(validation_examples, \n",
    "                                                    validation_targets[\"sentiment\"], \n",
    "                                                    num_epochs=1, \n",
    "                                                    shuffle=False)\n",
    "  \n",
    "  # Train the model, but do so inside a loop so that we can periodically assess\n",
    "  # loss metrics.\n",
    "  print(\"Training model...\")\n",
    "  print(\"LogLoss (on training data):\")\n",
    "  \n",
    "  training_log_losses = []\n",
    "  validation_log_losses = []\n",
    "  \n",
    "  training_acc = []\n",
    "  validation_acc = []\n",
    "\n",
    "  for period in range (0, periods):\n",
    "    # Train the model, starting from the prior state.\n",
    "    estimator.train(\n",
    "        input_fn=training_input_fn,\n",
    "        steps=steps_per_period\n",
    "    )\n",
    "    \n",
    "    # Take a break and compute predictions.    \n",
    "    training_probabilities_acc = estimator.predict(input_fn=predict_training_input_fn)\n",
    "    training_probabilities_acc = np.array([item['probabilities'][1] for item in training_probabilities_acc])\n",
    "    \n",
    "    validation_probabilities_acc = estimator.predict(input_fn=predict_validation_input_fn)\n",
    "    validation_probabilities_acc = np.array([item['probabilities'][1] for item in validation_probabilities_acc])\n",
    "\n",
    "    \n",
    "    training_acc_ = metrics.accuracy_score(training_targets[\"sentiment\"], training_probabilities_acc.round())\n",
    "    validation_acc_ = metrics.accuracy_score(validation_targets[\"sentiment\"], validation_probabilities_acc.round())\n",
    "    \n",
    "    # Take a break and compute predictions.    \n",
    "    training_probabilities = estimator.predict(input_fn=predict_training_input_fn)\n",
    "    training_probabilities = np.array([item['probabilities'] for item in training_probabilities])\n",
    "    \n",
    "    validation_probabilities = estimator.predict(input_fn=predict_validation_input_fn)\n",
    "    validation_probabilities = np.array([item['probabilities'] for item in validation_probabilities])\n",
    "    \n",
    "    training_log_loss = metrics.log_loss(training_targets, training_probabilities)\n",
    "    validation_log_loss = metrics.log_loss(validation_targets, validation_probabilities)\n",
    "    # Occasionally print the current loss.\n",
    "    print(\"  period %02d : %0.2f\" % (period, training_log_loss))\n",
    "    # Add the loss metrics from this period to our list.\n",
    "    training_log_losses.append(training_log_loss)\n",
    "    validation_log_losses.append(validation_log_loss)\n",
    "    \n",
    "    training_acc.append(training_acc_)\n",
    "    validation_acc.append(validation_acc_)\n",
    "    \n",
    "  print(\"Model training finished.\")\n",
    "  \n",
    "  # Output a graph of loss metrics over periods.\n",
    "  plt.ylabel(\"LogLoss\")\n",
    "  plt.xlabel(\"Periods\")\n",
    "  plt.title(\"LogLoss vs. Periods (250-dimension Embeddings)\")\n",
    "  plt.tight_layout()\n",
    "  plt.plot(training_log_losses, label=\"training\")\n",
    "  plt.plot(validation_log_losses, label=\"validation\")\n",
    "  plt.legend()\n",
    "  plt.show()\n",
    "  \n",
    "  # Output a graph of loss metrics over periods.\n",
    "  plt.ylabel(\"Accuracy\")\n",
    "  plt.xlabel(\"Periods\")\n",
    "  plt.title(\"Accuracy vs. Periods (250-dimension Embeddings)\")\n",
    "  plt.tight_layout()\n",
    "  plt.plot(training_acc, label=\"training\")\n",
    "  plt.plot(validation_acc, label=\"validation\")\n",
    "  plt.legend()\n",
    "  plt.show()\n",
    "  \n",
    "  validation_probabilities_f = estimator.predict(input_fn=predict_test_input_fn)\n",
    "  # Get just the probabilities for the positive class.\n",
    "  validation_probabilities_f = np.array([item['probabilities'][1] for item in validation_probabilities_f])\n",
    "\n",
    "  false_positive_rate, true_positive_rate, thresholds = metrics.roc_curve(\n",
    "      test_df[\"sentiment\"], validation_probabilities_f)\n",
    "  plt.plot(false_positive_rate, true_positive_rate, label=\"our model\")\n",
    "  plt.plot([0, 1], [0, 1], label=\"random classifier\")\n",
    "  _ = plt.legend(loc=0)\n",
    "  plt.title(\"ROC curve (250-dimension Embeddings)\")\n",
    "  plt.show()\n",
    "  \n",
    "  train_eval_result = estimator.evaluate(input_fn=predict_train_input_fn)\n",
    "  test_eval_result = estimator.evaluate(input_fn=predict_test_input_fn)\n",
    "  \n",
    "  print(f\"Training set accuracy: {train_eval_result['accuracy']*100:.1f} %\")\n",
    "  print(f\"Test set accuracy: {test_eval_result['accuracy']*100:.1f} %\")\n",
    "\n",
    "  return estimator"
   ]
  },
  {
   "cell_type": "code",
   "execution_count": null,
   "metadata": {
    "colab": {},
    "colab_type": "code",
    "id": "gGAKVWovMSM2"
   },
   "outputs": [],
   "source": [
    "# Choose the first 12000 (out of 17000) examples for training.\n",
    "training_examples = train_df.head(20000)\n",
    "training_targets = preprocess_targets(train_df.head(20000))\n",
    "\n",
    "# Choose the last 5000 (out of 17000) examples for validation.\n",
    "validation_examples = train_df.tail(5000)\n",
    "validation_targets = preprocess_targets(train_df.tail(5000))"
   ]
  },
  {
   "cell_type": "code",
   "execution_count": null,
   "metadata": {
    "colab": {
     "base_uri": "https://localhost:8080/",
     "height": 1096
    },
    "colab_type": "code",
    "id": "hmKXCTX1MGS0",
    "outputId": "8e301366-d9f5-46f5-9967-885fdf6cbc50"
   },
   "outputs": [
    {
     "name": "stdout",
     "output_type": "stream",
     "text": [
      "Training model...\n",
      "LogLoss (on training data):\n",
      "  period 00 : 0.61\n",
      "  period 01 : 0.60\n",
      "  period 02 : 0.58\n",
      "  period 03 : 0.56\n",
      "  period 04 : 0.55\n",
      "  period 05 : 0.54\n",
      "  period 06 : 0.56\n",
      "  period 07 : 0.53\n",
      "  period 08 : 0.52\n",
      "  period 09 : 0.52\n",
      "Model training finished.\n"
     ]
    },
    {
     "data": {
      "image/png": "[encoded data removed]",
      "text/plain": [
       "<Figure size 432x288 with 1 Axes>"
      ]
     },
     "metadata": {
      "tags": []
     },
     "output_type": "display_data"
    },
    {
     "data": {
      "image/png": "[encoded data removed]",
      "text/plain": [
       "<Figure size 432x288 with 1 Axes>"
      ]
     },
     "metadata": {
      "tags": []
     },
     "output_type": "display_data"
    },
    {
     "data": {
      "image/png": "[encoded data removed]",
      "text/plain": [
       "<Figure size 432x288 with 1 Axes>"
      ]
     },
     "metadata": {
      "tags": []
     },
     "output_type": "display_data"
    },
    {
     "name": "stdout",
     "output_type": "stream",
     "text": [
      "Training set accuracy: 75.5 %\n",
      "Test set accuracy: 74.6 %\n"
     ]
    }
   ],
   "source": [
    "DNN_classifie = train_DNN_classifier_model(\n",
    "    learning_rate=0.003,\n",
    "    steps=1000,\n",
    "    batch_size=32,\n",
    "    training_examples=training_examples,\n",
    "    training_targets=training_targets,\n",
    "    validation_examples=validation_examples,\n",
    "    validation_targets=validation_targets)"
   ]
  },
  {
   "cell_type": "markdown",
   "metadata": {
    "colab_type": "text",
    "id": "qOHGFcha95KV"
   },
   "source": [
    "## My Aproach"
   ]
  },
  {
   "cell_type": "code",
   "execution_count": null,
   "metadata": {
    "cellView": "code",
    "colab": {
     "base_uri": "https://localhost:8080/",
     "height": 306
    },
    "colab_type": "code",
    "id": "Nn0FgGZN_t9Y",
    "outputId": "1b3eab29-8367-42d4-cf9c-714b9836768b"
   },
   "outputs": [
    {
     "name": "stdout",
     "output_type": "stream",
     "text": [
      "Requirement already satisfied: tensorflow-hub in /usr/local/lib/python3.6/dist-packages (0.4.0)\n",
      "Requirement already satisfied: protobuf>=3.4.0 in /usr/local/lib/python3.6/dist-packages (from tensorflow-hub) (3.7.1)\n",
      "Requirement already satisfied: numpy>=1.12.0 in /usr/local/lib/python3.6/dist-packages (from tensorflow-hub) (1.16.2)\n",
      "Requirement already satisfied: six>=1.10.0 in /usr/local/lib/python3.6/dist-packages (from tensorflow-hub) (1.12.0)\n",
      "Requirement already satisfied: setuptools in /usr/local/lib/python3.6/dist-packages (from protobuf>=3.4.0->tensorflow-hub) (41.0.1)\n",
      "Requirement already satisfied: seaborn in /usr/local/lib/python3.6/dist-packages (0.9.0)\n",
      "Requirement already satisfied: scipy>=0.14.0 in /usr/local/lib/python3.6/dist-packages (from seaborn) (1.2.1)\n",
      "Requirement already satisfied: numpy>=1.9.3 in /usr/local/lib/python3.6/dist-packages (from seaborn) (1.16.2)\n",
      "Requirement already satisfied: pandas>=0.15.2 in /usr/local/lib/python3.6/dist-packages (from seaborn) (0.24.2)\n",
      "Requirement already satisfied: matplotlib>=1.4.3 in /usr/local/lib/python3.6/dist-packages (from seaborn) (3.0.3)\n",
      "Requirement already satisfied: python-dateutil>=2.5.0 in /usr/local/lib/python3.6/dist-packages (from pandas>=0.15.2->seaborn) (2.5.3)\n",
      "Requirement already satisfied: pytz>=2011k in /usr/local/lib/python3.6/dist-packages (from pandas>=0.15.2->seaborn) (2018.9)\n",
      "Requirement already satisfied: pyparsing!=2.0.4,!=2.1.2,!=2.1.6,>=2.0.1 in /usr/local/lib/python3.6/dist-packages (from matplotlib>=1.4.3->seaborn) (2.4.0)\n",
      "Requirement already satisfied: cycler>=0.10 in /usr/local/lib/python3.6/dist-packages (from matplotlib>=1.4.3->seaborn) (0.10.0)\n",
      "Requirement already satisfied: kiwisolver>=1.0.1 in /usr/local/lib/python3.6/dist-packages (from matplotlib>=1.4.3->seaborn) (1.1.0)\n",
      "Requirement already satisfied: six>=1.5 in /usr/local/lib/python3.6/dist-packages (from python-dateutil>=2.5.0->pandas>=0.15.2->seaborn) (1.12.0)\n",
      "Requirement already satisfied: setuptools in /usr/local/lib/python3.6/dist-packages (from kiwisolver>=1.0.1->matplotlib>=1.4.3->seaborn) (41.0.1)\n"
     ]
    }
   ],
   "source": [
    "# Install TF-Hub.\n",
    "!pip install tensorflow-hub\n",
    "!pip install seaborn"
   ]
  },
  {
   "cell_type": "markdown",
   "metadata": {
    "colab_type": "text",
    "id": "nhrYOKaf_t9g"
   },
   "source": [
    "### Getting started\n",
    "\n",
    "#### Data\n",
    "We will try to solve the [Large Movie Review Dataset v1.0](http://ai.stanford.edu/~amaas/data/sentiment/) task from Mass et al. The dataset consists of IMDB movie reviews labeled by positivity from 1 to 10. The task is to label the reviews as **negative** or **positive**."
   ]
  },
  {
   "cell_type": "code",
   "execution_count": null,
   "metadata": {
    "cellView": "both",
    "colab": {},
    "colab_type": "code",
    "id": "lVnmgygj_t9i"
   },
   "outputs": [],
   "source": [
    "# Load all files from a directory in a DataFrame.\n",
    "def load_directory_data(directory):\n",
    "  data = {}\n",
    "  data[\"sentence\"] = []\n",
    "#   data[\"sentiment\"] = []\n",
    "  for file_path in os.listdir(directory):\n",
    "    with tf.gfile.GFile(os.path.join(directory, file_path), \"r\") as f:\n",
    "      data[\"sentence\"].append(f.read())\n",
    "#       data[\"sentiment\"].append(re.match(\"\\d+_(\\d+)\\.txt\", file_path).group(1))#; ipdb.set_trace()\n",
    "  return pd.DataFrame.from_dict(data)\n",
    "\n",
    "# Merge positive and negative examples, add a polarity column and shuffle.\n",
    "def load_dataset(directory):\n",
    "  pos_df = load_directory_data(os.path.join(directory, \"pos\"))\n",
    "  neg_df = load_directory_data(os.path.join(directory, \"neg\"))\n",
    "  pos_df[\"sentiment\"] = 1\n",
    "  neg_df[\"sentiment\"] = 0\n",
    "  return pd.concat([pos_df, neg_df]).sample(frac=1).reset_index(drop=True)\n",
    "\n",
    "# Download and process the dataset files.\n",
    "def download_and_load_datasets(force_download=False):\n",
    "  dataset = tf.keras.utils.get_file(\n",
    "      fname=\"aclImdb.tar.gz\", \n",
    "      origin=\"http://ai.stanford.edu/~amaas/data/sentiment/aclImdb_v1.tar.gz\", \n",
    "      extract=True)\n",
    "  \n",
    "  train_df = load_dataset(os.path.join(os.path.dirname(dataset), \n",
    "                                       \"aclImdb\", \"train\"))\n",
    "  test_df = load_dataset(os.path.join(os.path.dirname(dataset), \n",
    "                                      \"aclImdb\", \"test\"))\n",
    "  \n",
    "  return train_df, test_df\n",
    "\n",
    "# Reduce logging output.\n",
    "tf.logging.set_verbosity(tf.logging.ERROR)\n",
    "\n",
    "train_df, test_df = download_and_load_datasets()"
   ]
  },
  {
   "cell_type": "code",
   "execution_count": null,
   "metadata": {
    "colab": {
     "base_uri": "https://localhost:8080/",
     "height": 1036
    },
    "colab_type": "code",
    "id": "CR4TW4SzGerx",
    "outputId": "a20e98b4-3164-41fd-eacf-fce103a28dfe"
   },
   "outputs": [
    {
     "name": "stdout",
     "output_type": "stream",
     "text": [
      "Training examples summary:\n"
     ]
    },
    {
     "data": {
      "text/html": [
       "<div>\n",
       "<style scoped>\n",
       "    .dataframe tbody tr th:only-of-type {\n",
       "        vertical-align: middle;\n",
       "    }\n",
       "\n",
       "    .dataframe tbody tr th {\n",
       "        vertical-align: top;\n",
       "    }\n",
       "\n",
       "    .dataframe thead th {\n",
       "        text-align: right;\n",
       "    }\n",
       "</style>\n",
       "<table border=\"1\" class=\"dataframe\">\n",
       "  <thead>\n",
       "    <tr style=\"text-align: right;\">\n",
       "      <th></th>\n",
       "      <th>sentiment</th>\n",
       "    </tr>\n",
       "  </thead>\n",
       "  <tbody>\n",
       "    <tr>\n",
       "      <th>count</th>\n",
       "      <td>25000.00000</td>\n",
       "    </tr>\n",
       "    <tr>\n",
       "      <th>mean</th>\n",
       "      <td>0.50000</td>\n",
       "    </tr>\n",
       "    <tr>\n",
       "      <th>std</th>\n",
       "      <td>0.50001</td>\n",
       "    </tr>\n",
       "    <tr>\n",
       "      <th>min</th>\n",
       "      <td>0.00000</td>\n",
       "    </tr>\n",
       "    <tr>\n",
       "      <th>25%</th>\n",
       "      <td>0.00000</td>\n",
       "    </tr>\n",
       "    <tr>\n",
       "      <th>50%</th>\n",
       "      <td>0.50000</td>\n",
       "    </tr>\n",
       "    <tr>\n",
       "      <th>75%</th>\n",
       "      <td>1.00000</td>\n",
       "    </tr>\n",
       "    <tr>\n",
       "      <th>max</th>\n",
       "      <td>1.00000</td>\n",
       "    </tr>\n",
       "  </tbody>\n",
       "</table>\n",
       "</div>"
      ],
      "text/plain": [
       "         sentiment\n",
       "count  25000.00000\n",
       "mean       0.50000\n",
       "std        0.50001\n",
       "min        0.00000\n",
       "25%        0.00000\n",
       "50%        0.50000\n",
       "75%        1.00000\n",
       "max        1.00000"
      ]
     },
     "metadata": {
      "tags": []
     },
     "output_type": "display_data"
    },
    {
     "data": {
      "text/html": [
       "<div>\n",
       "<style scoped>\n",
       "    .dataframe tbody tr th:only-of-type {\n",
       "        vertical-align: middle;\n",
       "    }\n",
       "\n",
       "    .dataframe tbody tr th {\n",
       "        vertical-align: top;\n",
       "    }\n",
       "\n",
       "    .dataframe thead th {\n",
       "        text-align: right;\n",
       "    }\n",
       "</style>\n",
       "<table border=\"1\" class=\"dataframe\">\n",
       "  <thead>\n",
       "    <tr style=\"text-align: right;\">\n",
       "      <th></th>\n",
       "      <th>sentence</th>\n",
       "      <th>sentiment</th>\n",
       "    </tr>\n",
       "  </thead>\n",
       "  <tbody>\n",
       "    <tr>\n",
       "      <th>0</th>\n",
       "      <td>I have always said that some plays by their ve...</td>\n",
       "      <td>0</td>\n",
       "    </tr>\n",
       "    <tr>\n",
       "      <th>1</th>\n",
       "      <td>There's nothing amazing about 'The Amazing Mr ...</td>\n",
       "      <td>0</td>\n",
       "    </tr>\n",
       "    <tr>\n",
       "      <th>2</th>\n",
       "      <td>This is according to me a quite bizarre movie ...</td>\n",
       "      <td>1</td>\n",
       "    </tr>\n",
       "    <tr>\n",
       "      <th>3</th>\n",
       "      <td>Having first watched the movie at 14, I rememb...</td>\n",
       "      <td>1</td>\n",
       "    </tr>\n",
       "    <tr>\n",
       "      <th>4</th>\n",
       "      <td>Many days after seeing Conceiving Ada, I am st...</td>\n",
       "      <td>0</td>\n",
       "    </tr>\n",
       "  </tbody>\n",
       "</table>\n",
       "</div>"
      ],
      "text/plain": [
       "                                            sentence  sentiment\n",
       "0  I have always said that some plays by their ve...          0\n",
       "1  There's nothing amazing about 'The Amazing Mr ...          0\n",
       "2  This is according to me a quite bizarre movie ...          1\n",
       "3  Having first watched the movie at 14, I rememb...          1\n",
       "4  Many days after seeing Conceiving Ada, I am st...          0"
      ]
     },
     "metadata": {
      "tags": []
     },
     "output_type": "display_data"
    },
    {
     "name": "stdout",
     "output_type": "stream",
     "text": [
      "\n",
      "#############################\n",
      "\n",
      "Validation examples summary:\n"
     ]
    },
    {
     "data": {
      "text/html": [
       "<div>\n",
       "<style scoped>\n",
       "    .dataframe tbody tr th:only-of-type {\n",
       "        vertical-align: middle;\n",
       "    }\n",
       "\n",
       "    .dataframe tbody tr th {\n",
       "        vertical-align: top;\n",
       "    }\n",
       "\n",
       "    .dataframe thead th {\n",
       "        text-align: right;\n",
       "    }\n",
       "</style>\n",
       "<table border=\"1\" class=\"dataframe\">\n",
       "  <thead>\n",
       "    <tr style=\"text-align: right;\">\n",
       "      <th></th>\n",
       "      <th>sentiment</th>\n",
       "    </tr>\n",
       "  </thead>\n",
       "  <tbody>\n",
       "    <tr>\n",
       "      <th>count</th>\n",
       "      <td>25000.00000</td>\n",
       "    </tr>\n",
       "    <tr>\n",
       "      <th>mean</th>\n",
       "      <td>0.50000</td>\n",
       "    </tr>\n",
       "    <tr>\n",
       "      <th>std</th>\n",
       "      <td>0.50001</td>\n",
       "    </tr>\n",
       "    <tr>\n",
       "      <th>min</th>\n",
       "      <td>0.00000</td>\n",
       "    </tr>\n",
       "    <tr>\n",
       "      <th>25%</th>\n",
       "      <td>0.00000</td>\n",
       "    </tr>\n",
       "    <tr>\n",
       "      <th>50%</th>\n",
       "      <td>0.50000</td>\n",
       "    </tr>\n",
       "    <tr>\n",
       "      <th>75%</th>\n",
       "      <td>1.00000</td>\n",
       "    </tr>\n",
       "    <tr>\n",
       "      <th>max</th>\n",
       "      <td>1.00000</td>\n",
       "    </tr>\n",
       "  </tbody>\n",
       "</table>\n",
       "</div>"
      ],
      "text/plain": [
       "         sentiment\n",
       "count  25000.00000\n",
       "mean       0.50000\n",
       "std        0.50001\n",
       "min        0.00000\n",
       "25%        0.00000\n",
       "50%        0.50000\n",
       "75%        1.00000\n",
       "max        1.00000"
      ]
     },
     "metadata": {
      "tags": []
     },
     "output_type": "display_data"
    },
    {
     "data": {
      "text/html": [
       "<div>\n",
       "<style scoped>\n",
       "    .dataframe tbody tr th:only-of-type {\n",
       "        vertical-align: middle;\n",
       "    }\n",
       "\n",
       "    .dataframe tbody tr th {\n",
       "        vertical-align: top;\n",
       "    }\n",
       "\n",
       "    .dataframe thead th {\n",
       "        text-align: right;\n",
       "    }\n",
       "</style>\n",
       "<table border=\"1\" class=\"dataframe\">\n",
       "  <thead>\n",
       "    <tr style=\"text-align: right;\">\n",
       "      <th></th>\n",
       "      <th>sentence</th>\n",
       "      <th>sentiment</th>\n",
       "    </tr>\n",
       "  </thead>\n",
       "  <tbody>\n",
       "    <tr>\n",
       "      <th>0</th>\n",
       "      <td>This is how I interpreted the movie: First thi...</td>\n",
       "      <td>1</td>\n",
       "    </tr>\n",
       "    <tr>\n",
       "      <th>1</th>\n",
       "      <td>Michael Bassett's film 'Solomon Kane' (based o...</td>\n",
       "      <td>0</td>\n",
       "    </tr>\n",
       "    <tr>\n",
       "      <th>2</th>\n",
       "      <td>This movie cannot be serious because it has a ...</td>\n",
       "      <td>0</td>\n",
       "    </tr>\n",
       "    <tr>\n",
       "      <th>3</th>\n",
       "      <td>Being a \"Wallace and Gromit-fan\", I was lookin...</td>\n",
       "      <td>1</td>\n",
       "    </tr>\n",
       "    <tr>\n",
       "      <th>4</th>\n",
       "      <td>The plot: Four people are caught in an elevato...</td>\n",
       "      <td>0</td>\n",
       "    </tr>\n",
       "  </tbody>\n",
       "</table>\n",
       "</div>"
      ],
      "text/plain": [
       "                                            sentence  sentiment\n",
       "0  This is how I interpreted the movie: First thi...          1\n",
       "1  Michael Bassett's film 'Solomon Kane' (based o...          0\n",
       "2  This movie cannot be serious because it has a ...          0\n",
       "3  Being a \"Wallace and Gromit-fan\", I was lookin...          1\n",
       "4  The plot: Four people are caught in an elevato...          0"
      ]
     },
     "metadata": {
      "tags": []
     },
     "output_type": "display_data"
    }
   ],
   "source": [
    "# Double-check that we've done the right thing.\n",
    "print(\"Training examples summary:\")\n",
    "display.display(train_df.describe())\n",
    "display.display(train_df.head())\n",
    "print(\"\\n#############################\\n\")\n",
    "print(\"Validation examples summary:\")\n",
    "display.display(test_df.describe())\n",
    "display.display(test_df.head())"
   ]
  },
  {
   "cell_type": "code",
   "execution_count": null,
   "metadata": {
    "colab": {},
    "colab_type": "code",
    "id": "YvF5gYUGsuuz"
   },
   "outputs": [],
   "source": [
    "# Not really used \n",
    "def clean_doc(text_1):\n",
    "  ps = PorterStemmer()\n",
    "  text_clean = []\n",
    "#   ipdb.set_trace()\n",
    "  for text in text_1:    \n",
    "    # split into tokens by white space\n",
    "    tokens = word_tokenize(text)\n",
    "\n",
    "    # convert to lower case\n",
    "    tokens = [w.lower() for w in tokens]\n",
    "\n",
    "    # remove punctuation from each token\n",
    "    table = str.maketrans('', '', string.punctuation)\n",
    "    stripped = [w.translate(table) for w in tokens]\n",
    "\n",
    "    # remove remaining tokens that are not alphabetic\n",
    "    tokens = [word for word in stripped if word.isalpha()]\n",
    "\n",
    "    # filter out stop words\n",
    "    stop_words = set(stopwords.words('english'))\n",
    "    tokens = [w for w in tokens if not w in stop_words]\n",
    "    \n",
    "    # filter out short tokens\n",
    "    tokens = [word for word in tokens if len(word) > 2]\n",
    "    \n",
    "    tokens = [ps.stem(w) for w in tokens]\n",
    "    \n",
    "    text_clean.append(tokens)\n",
    "    \n",
    "  return text_clean"
   ]
  },
  {
   "cell_type": "code",
   "execution_count": null,
   "metadata": {
    "colab": {},
    "colab_type": "code",
    "id": "75sjYAm5XY3l"
   },
   "outputs": [],
   "source": [
    "t=[\"him and I mamana\", \"Maman l'j#24 how are you\", \"marie\", \"python\",\"pythoner\",\"pythoning\",\"pythoned\",\"pythonly\"]"
   ]
  },
  {
   "cell_type": "code",
   "execution_count": null,
   "metadata": {
    "colab": {
     "base_uri": "https://localhost:8080/",
     "height": 153
    },
    "colab_type": "code",
    "id": "P2cPGr-5XliN",
    "outputId": "ce6b51a0-e533-4133-b2f8-8c51f9de69d2"
   },
   "outputs": [
    {
     "data": {
      "text/plain": [
       "[['mamana'],\n",
       " ['maman'],\n",
       " ['mari'],\n",
       " ['python'],\n",
       " ['python'],\n",
       " ['python'],\n",
       " ['python'],\n",
       " ['pythonli']]"
      ]
     },
     "execution_count": 85,
     "metadata": {
      "tags": []
     },
     "output_type": "execute_result"
    }
   ],
   "source": [
    "clean_doc(t)"
   ]
  },
  {
   "cell_type": "code",
   "execution_count": null,
   "metadata": {
    "colab": {
     "base_uri": "https://localhost:8080/",
     "height": 34
    },
    "colab_type": "code",
    "id": "cNCNhp5fxqcM",
    "outputId": "0af3e524-0052-471b-a482-2a9825768830"
   },
   "outputs": [
    {
     "name": "stdout",
     "output_type": "stream",
     "text": [
      "Found 88582 unique tokens.\n"
     ]
    }
   ],
   "source": [
    "texts_tr = train_df.sentence\n",
    "texts_tst = test_df.sentence\n",
    "\n",
    "# texts_tr = clean_doc(train_df.sentence)\n",
    "# texts_tst = clean_doc(test_df.sentence)\n",
    "\n",
    "# Training 92916\n",
    "# Considers only the top \n",
    "# 20,000 words in the dataset\n",
    "max_words = 20000\n",
    "\n",
    "tokenizer_tr = Tokenizer(num_words=max_words)\n",
    "# tokenizer_tr = Tokenizer()\n",
    "tokenizer_tr.fit_on_texts(texts_tr)\n",
    "data_tr = tokenizer_tr.texts_to_sequences(texts_tr)\n",
    "tfidf_train = tokenizer_tr.texts_to_matrix(texts_tr, mode='tfidf')\n",
    "# bin_tr = tokenizer_tr.texts_to_matrix(texts_tr, mode='binary')\n",
    "\n",
    "\n",
    "# Testing \n",
    "tokenizer_tst = Tokenizer(num_words=max_words)\n",
    "# tokenizer_tst = Tokenizer()\n",
    "tokenizer_tst.fit_on_texts(texts_tst)\n",
    "data_tst = tokenizer_tst.texts_to_sequences(texts_tst)\n",
    "tfidf_tst = tokenizer_tr.texts_to_matrix(texts_tst, mode='tfidf')\n",
    "# bin_tst = tokenizer_tr.texts_to_matrix(texts_tst, mode='binary')\n",
    "\n",
    "\n",
    "word_index = tokenizer_tr.word_index\n",
    "print('Found %s unique tokens.' % len(set(word_index))) #88582 "
   ]
  },
  {
   "cell_type": "code",
   "execution_count": null,
   "metadata": {
    "colab": {},
    "colab_type": "code",
    "id": "X_kolSmNNBOP"
   },
   "outputs": [],
   "source": [
    "%%time\n",
    "bin_tr.shape"
   ]
  },
  {
   "cell_type": "code",
   "execution_count": null,
   "metadata": {
    "colab": {
     "base_uri": "https://localhost:8080/",
     "height": 34
    },
    "colab_type": "code",
    "id": "zw2b76B2KIRJ",
    "outputId": "7ff371b7-b8a7-4a47-dd4c-ac0213d3b62d"
   },
   "outputs": [
    {
     "data": {
      "text/plain": [
       "25000"
      ]
     },
     "execution_count": 90,
     "metadata": {
      "tags": []
     },
     "output_type": "execute_result"
    }
   ],
   "source": [
    "len(data_tr)"
   ]
  },
  {
   "cell_type": "code",
   "execution_count": null,
   "metadata": {
    "colab": {
     "base_uri": "https://localhost:8080/",
     "height": 34
    },
    "colab_type": "code",
    "id": "vWuCKxo0Fj0Q",
    "outputId": "950a29dc-b1b8-4625-951a-3a58d5523908"
   },
   "outputs": [
    {
     "data": {
      "text/plain": [
       "<keras_preprocessing.text.Tokenizer at 0x7f00136247b8>"
      ]
     },
     "execution_count": 6,
     "metadata": {
      "tags": []
     },
     "output_type": "execute_result"
    }
   ],
   "source": [
    "tokenizer_tr"
   ]
  },
  {
   "cell_type": "code",
   "execution_count": null,
   "metadata": {
    "colab": {},
    "colab_type": "code",
    "id": "GoVdUPZxJ8z6"
   },
   "outputs": [],
   "source": [
    "# max_len = 500 # depending on the size of the testing data 2332\n",
    "\n",
    "# Cuts off reviews after 100 words\n",
    "# max_len = 1239\n",
    "max_len = 2500\n",
    "\n",
    "# Train \n",
    "x_train = pad_sequences(data_tr, maxlen = max_len)\n",
    "# x_train = pad_sequences(data_tr)\n",
    "y_train = np.asarray(train_df.sentiment)\n",
    "\n",
    "# Suffle data\n",
    "indices = np.arange(x_train.shape[0])\n",
    "np.random.shuffle(indices)\n",
    "x_train = x_train[indices]\n",
    "y_train = y_train[indices]\n",
    "\n",
    "\n",
    "# Testing \n",
    "x_test = pad_sequences(data_tst, maxlen = max_len)\n",
    "# x_test = pad_sequences(data_tst)\n",
    "\n",
    "y_test = np.asarray(test_df.sentiment)\n",
    "\n",
    "# indices = np.arange(x_test.shape[0])\n",
    "# np.random.shuffle(indices)\n",
    "# x_test = x_test[indices]\n",
    "# y_test = y_test[indices]\n",
    "\n",
    "\n",
    "# y = np.asarray(test_df.polarity)\n",
    "\n",
    "# x_test, x_val, y_test, y_val = train_test_split(X, y, test_size=0.2, random_state=42)"
   ]
  },
  {
   "cell_type": "code",
   "execution_count": null,
   "metadata": {
    "colab": {
     "base_uri": "https://localhost:8080/",
     "height": 34
    },
    "colab_type": "code",
    "id": "M1X-p5upxqcw",
    "outputId": "658b58a3-942c-415c-cb67-638221acb7d2"
   },
   "outputs": [
    {
     "data": {
      "text/plain": [
       "(25000, 2500)"
      ]
     },
     "execution_count": 24,
     "metadata": {
      "tags": []
     },
     "output_type": "execute_result"
    }
   ],
   "source": [
    "x_train.shape"
   ]
  },
  {
   "cell_type": "code",
   "execution_count": null,
   "metadata": {
    "colab": {
     "base_uri": "https://localhost:8080/",
     "height": 34
    },
    "colab_type": "code",
    "id": "9U_7lnbkxqdH",
    "outputId": "337e6643-6cda-437f-a7bc-4e2476068626"
   },
   "outputs": [
    {
     "data": {
      "text/plain": [
       "(25000, 2500)"
      ]
     },
     "execution_count": 63,
     "metadata": {
      "tags": []
     },
     "output_type": "execute_result"
    }
   ],
   "source": [
    "x_test.shape"
   ]
  },
  {
   "cell_type": "code",
   "execution_count": null,
   "metadata": {
    "colab": {},
    "colab_type": "code",
    "id": "jJ8bDpsoxqdZ"
   },
   "outputs": [],
   "source": [
    "# bin_tr.shape"
   ]
  },
  {
   "cell_type": "code",
   "execution_count": null,
   "metadata": {
    "colab": {
     "base_uri": "https://localhost:8080/",
     "height": 34
    },
    "colab_type": "code",
    "id": "ZRJ1pvL4RDus",
    "outputId": "c602495d-ca91-456f-f08e-8a3ed0900882"
   },
   "outputs": [
    {
     "data": {
      "text/plain": [
       "(25000, 20000)"
      ]
     },
     "execution_count": 12,
     "metadata": {
      "tags": []
     },
     "output_type": "execute_result"
    }
   ],
   "source": [
    "bin_tst.shape"
   ]
  },
  {
   "cell_type": "code",
   "execution_count": null,
   "metadata": {
    "colab": {
     "base_uri": "https://localhost:8080/",
     "height": 34
    },
    "colab_type": "code",
    "id": "71Yh72rrxqdn",
    "outputId": "5efc0c93-7ace-4bee-ac76-4c66fba378f9"
   },
   "outputs": [
    {
     "data": {
      "text/plain": [
       "(array([0, 1]), array([0, 1]))"
      ]
     },
     "execution_count": 77,
     "metadata": {
      "tags": []
     },
     "output_type": "execute_result"
    }
   ],
   "source": [
    "(np.unique(y_test[:12500]), np.unique(y_train[:12500]))"
   ]
  },
  {
   "cell_type": "code",
   "execution_count": null,
   "metadata": {
    "colab": {
     "base_uri": "https://localhost:8080/",
     "height": 34
    },
    "colab_type": "code",
    "id": "1CUbo96Gxqdy",
    "outputId": "43ef9499-0689-4ff7-9541-1c8119e5e9f9"
   },
   "outputs": [
    {
     "data": {
      "text/plain": [
       "88582"
      ]
     },
     "execution_count": 56,
     "metadata": {
      "tags": []
     },
     "output_type": "execute_result"
    }
   ],
   "source": [
    "len(word_index)"
   ]
  },
  {
   "cell_type": "code",
   "execution_count": null,
   "metadata": {
    "colab": {},
    "colab_type": "code",
    "id": "9BLh8m8suEn_"
   },
   "outputs": [],
   "source": [
    "word_index"
   ]
  },
  {
   "cell_type": "code",
   "execution_count": null,
   "metadata": {
    "colab": {},
    "colab_type": "code",
    "id": "Ov_cgUdIxqd7"
   },
   "outputs": [],
   "source": [
    "embedding_dim = gensim_w2v['hello'].shape[0]\n",
    "\n",
    "\n",
    "number_invoc = 0\n",
    "number_outvoc  = 0\n",
    "oov = {}\n",
    "embedding_matrix = np.zeros((max_words, embedding_dim))\n",
    "\n",
    "for word, i in word_index.items():\n",
    "    if i < max_words:\n",
    "#         ipdb.set_trace()\n",
    "        if word not in gensim_w2v.vocab:\n",
    "            number_outvoc+=1\n",
    "            oov[i]=word\n",
    "            pass;\n",
    "        else :\n",
    "            number_invoc+=1\n",
    "            embedding_vector = gensim_w2v[word]\n",
    "            embedding_matrix[i] = embedding_vector\n"
   ]
  },
  {
   "cell_type": "code",
   "execution_count": null,
   "metadata": {
    "colab": {
     "base_uri": "https://localhost:8080/",
     "height": 34
    },
    "colab_type": "code",
    "id": "QZah2uzcmFQw",
    "outputId": "abf82d37-57aa-4169-f26a-f57b6bca52f4"
   },
   "outputs": [
    {
     "data": {
      "text/plain": [
       "2"
      ]
     },
     "execution_count": 69,
     "metadata": {
      "tags": []
     },
     "output_type": "execute_result"
    }
   ],
   "source": [
    "len(oov)"
   ]
  },
  {
   "cell_type": "code",
   "execution_count": null,
   "metadata": {
    "colab": {
     "base_uri": "https://localhost:8080/",
     "height": 68
    },
    "colab_type": "code",
    "id": "-HjzcgL4OESz",
    "outputId": "9996189b-c910-4177-dfb8-d83639a93769"
   },
   "outputs": [
    {
     "name": "stdout",
     "output_type": "stream",
     "text": [
      "Number in vocabulary : 18116\n",
      "Number out vocabulary : 1883\n",
      "Sum : 19999\n"
     ]
    }
   ],
   "source": [
    "print(f\"Number in vocabulary : {number_invoc}\\nNumber out vocabulary : {number_outvoc}\\nSum : {number_invoc+number_outvoc}\")"
   ]
  },
  {
   "cell_type": "markdown",
   "metadata": {
    "colab_type": "text",
    "id": "-3lqU19BPBcx"
   },
   "source": [
    "### Version 01 (word embeddings to sentence embeddings)"
   ]
  },
  {
   "cell_type": "code",
   "execution_count": null,
   "metadata": {
    "colab": {},
    "colab_type": "code",
    "id": "tW3JqB0bKY7o"
   },
   "outputs": [],
   "source": [
    "x_train_ = np.zeros((x_train.shape[0], gensim_w2v['hello'].shape[0]))\n",
    "for i, x in enumerate(x_train[:,:]):\n",
    "#   ipdb.set_trace()\n",
    "  for x_ in x:\n",
    "    x_train_[i]+=embedding_matrix[x_]\n",
    "\n",
    "print(f\"Training processig finish\\n\")\n",
    "    \n",
    "x_test_ = np.zeros((x_test.shape[0], gensim_w2v['hello'].shape[0]))\n",
    "for i, x in enumerate(x_test[:,:]):\n",
    "  for x_ in x:\n",
    "    x_test_[i]+=embedding_matrix[x_]\n",
    "    \n",
    "print(f\"\\n##############################\\nTesting Processing Done\\n\")\n",
    "  \n",
    "  \n",
    "# x_val_ = np.zeros((x_val.shape[0], gensim_w2v['hello'].shape[0]))\n",
    "# for i, x in enumerate(x_val[:,:]):\n",
    "#   for x_ in x:\n",
    "#     x_val_[i]+=embedding_matrix[x_]"
   ]
  },
  {
   "cell_type": "markdown",
   "metadata": {
    "colab_type": "text",
    "id": "YryHaIbCPGSj"
   },
   "source": [
    "### Version 02 (word embeddings to sentence embeddings)"
   ]
  },
  {
   "cell_type": "markdown",
   "metadata": {
    "colab_type": "text",
    "id": "0SATubJiXfcz"
   },
   "source": [
    "$$\n",
    "C B O W\\left(f_{1}, \\ldots, f_{k}\\right)=\\frac{1}{k} \\sum_{i=1}^{k} v\\left(f_{i}\\right)\n",
    "$$"
   ]
  },
  {
   "cell_type": "code",
   "execution_count": null,
   "metadata": {
    "colab": {},
    "colab_type": "code",
    "id": "pXZ-bF5rPGSl"
   },
   "outputs": [],
   "source": [
    "x_train_ = np.zeros((x_train.shape[0], gensim_w2v['hello'].shape[0]))\n",
    "for i, x in enumerate(x_train[:,:]):\n",
    "#   ipdb.set_trace()\n",
    "  count_ = 0\n",
    "  for x_ in x:\n",
    "    count_+=1\n",
    "    x_train_[i]+=embedding_matrix[x_]\n",
    "  x_train_[i]/=count_\n",
    "  \n",
    "print(f\"Training processig finish\")\n",
    " \n",
    "x_test_ = np.zeros((x_test.shape[0], gensim_w2v['hello'].shape[0]))\n",
    "for i, x in enumerate(x_test[:,:]):\n",
    "  for x_ in x:\n",
    "    x_test_[i]+=embedding_matrix[x_]\n",
    "  x_test_[i]/=count_\n",
    "  \n",
    "print(f\"##############################\\nTesting Processing Done\\n\")\n",
    "  \n",
    "# x_val_ = np.zeros((x_val.shape[0], gensim_w2v['hello'].shape[0]))\n",
    "# for i, x in enumerate(x_val[:,:]):\n",
    "#   for x_ in x:\n",
    "#     x_val_[i]+=embedding_matrix[x_]\n",
    "#   x_val_[i]/=count_"
   ]
  },
  {
   "cell_type": "code",
   "execution_count": null,
   "metadata": {
    "colab": {},
    "colab_type": "code",
    "id": "L8D1yJphUDLy"
   },
   "outputs": [],
   "source": [
    "count_"
   ]
  },
  {
   "cell_type": "code",
   "execution_count": null,
   "metadata": {
    "colab": {},
    "colab_type": "code",
    "id": "K_QEMEeZy6YW"
   },
   "outputs": [],
   "source": [
    "indices = np.arange(x_train.shape[0])\n",
    "np.random.shuffle(indices)\n",
    "x_train = x_train[indices]\n",
    "y_train = y_train[indices]"
   ]
  },
  {
   "cell_type": "markdown",
   "metadata": {
    "colab_type": "text",
    "id": "iUBb8LfJXD33"
   },
   "source": [
    "### Version 03 (word embeddings to sentence embeddings) the one used in the esssay"
   ]
  },
  {
   "cell_type": "markdown",
   "metadata": {
    "colab_type": "text",
    "id": "jlBvxLJaXVO9"
   },
   "source": [
    "$$W C B O W\\left(f_{1}, \\ldots, f_{k}\\right)=\\frac{1}{\\sum_{i=1}^{k} a_{i}} \\sum_{i=1}^{k} a_{i} v\\left(f_{i}\\right)$$"
   ]
  },
  {
   "cell_type": "code",
   "execution_count": null,
   "metadata": {
    "colab": {
     "base_uri": "https://localhost:8080/",
     "height": 136
    },
    "colab_type": "code",
    "id": "RiAJazkcXD34",
    "outputId": "f2880b25-a538-440e-b780-88635f8bbe1c"
   },
   "outputs": [
    {
     "name": "stdout",
     "output_type": "stream",
     "text": [
      "Starting Training processing ...\n",
      "##############################\n",
      "Training processig finish\n",
      "\n",
      "Starting Testing processing ...\n",
      "##############################\n",
      "Testing Processing Done\n"
     ]
    }
   ],
   "source": [
    "x_train_ = np.zeros((x_train.shape[0], gensim_w2v['hello'].shape[0]))\n",
    "\n",
    "print(f\"Starting Training processing ...\")\n",
    "for i, x in enumerate(x_train[:,:]):\n",
    "#   ipdb.set_trace()\n",
    "  for x_ in x:\n",
    "    x_train_[i]+=(embedding_matrix[x_]*tfidf_train[i,x_])\n",
    "  x_train_[i]/=(np.sum(tfidf_train[i,:]))\n",
    "  \n",
    "print(f\"##############################\\nTraining processig finish\\n\")\n",
    "\n",
    "\n",
    "x_test_ = np.zeros((x_test.shape[0], gensim_w2v['hello'].shape[0]))\n",
    "\n",
    "print(f\"Starting Testing processing ...\")\n",
    "for i, x in enumerate(x_test[:,:]):\n",
    "  for x_ in x:\n",
    "    x_test_[i]+=(embedding_matrix[x_]*tfidf_tst[i,x_])\n",
    "  x_test_[i]/=(np.sum(tfidf_tst[i,:]))\n",
    "  \n",
    "print(f\"##############################\\nTesting Processing Done\")\n",
    "\n",
    "  \n",
    "# x_val_ = np.zeros((x_val.shape[0], gensim_w2v['hello'].shape[0]))\n",
    "# for i, x in enumerate(x_val[:,:]):\n",
    "#   for x_ in x:\n",
    "#     x_val_[i]+=(embedding_matrix[x_]*tfidf_train[i,x_])\n",
    "#   x_val_[i]/=(np.sum(tfidf_train[i,:]))"
   ]
  },
  {
   "cell_type": "code",
   "execution_count": null,
   "metadata": {
    "colab": {
     "base_uri": "https://localhost:8080/",
     "height": 34
    },
    "colab_type": "code",
    "id": "ji8UrIirxg70",
    "outputId": "552329d4-3a5c-42ed-d2ee-651ea6273f4c"
   },
   "outputs": [
    {
     "data": {
      "text/plain": [
       "array([0, 1])"
      ]
     },
     "execution_count": 20,
     "metadata": {
      "tags": []
     },
     "output_type": "execute_result"
    }
   ],
   "source": [
    "np.unique(y_train[:12500])"
   ]
  },
  {
   "cell_type": "markdown",
   "metadata": {
    "colab_type": "text",
    "id": "_C4Trwp-sh_T"
   },
   "source": [
    "### Version 04 (word embeddings to sentence embeddings)"
   ]
  },
  {
   "cell_type": "markdown",
   "metadata": {
    "colab_type": "text",
    "id": "F4a-ALVGsh_T"
   },
   "source": [
    "$$\n",
    "W C B O W\\left(f_{1}, \\ldots, f_{k}\\right)=\\frac{1}{\\sqrt{\\sum_{i=1}^{k} a_{i}^2}} \\sum_{i=1}^{k} a_{i} v\\left(f_{i}\\right)\n",
    "$$"
   ]
  },
  {
   "cell_type": "code",
   "execution_count": null,
   "metadata": {
    "colab": {
     "base_uri": "https://localhost:8080/",
     "height": 136
    },
    "colab_type": "code",
    "id": "-FEbl40hsh_U",
    "outputId": "2f499c86-0df0-47c0-9e17-6e2a7dda2141"
   },
   "outputs": [
    {
     "name": "stdout",
     "output_type": "stream",
     "text": [
      "Starting Training processing ...\n",
      "##############################\n",
      "Training processig finish\n",
      "\n",
      "Starting Testing processing ...\n",
      "##############################\n",
      "Testing Processing Done\n"
     ]
    }
   ],
   "source": [
    "x_train_ = np.zeros((x_train.shape[0], gensim_w2v['hello'].shape[0]))\n",
    "\n",
    "print(f\"Starting Training processing ...\")\n",
    "for i, x in enumerate(x_train[:,:]):\n",
    "#   ipdb.set_trace()\n",
    "  for x_ in x:\n",
    "    x_train_[i]+=(embedding_matrix[x_]*tfidf_train[i,x_])\n",
    "  x_train_[i]/=(np.sqrt(np.sum([tfidf_train[i, j]**2 for j in range(tfidf_train.shape[1])])))\n",
    "  \n",
    "print(f\"##############################\\nTraining processig finish\\n\")\n",
    "  \n",
    "    \n",
    "x_test_ = np.zeros((x_test.shape[0], gensim_w2v['hello'].shape[0]))\n",
    "\n",
    "print(f\"Starting Testing processing ...\")\n",
    "for i, x in enumerate(x_test[:,:]):\n",
    "  for x_ in x:\n",
    "    x_test_[i]+=(embedding_matrix[x_]*tfidf_tst[i,x_])\n",
    "  x_test_[i]/=(np.sqrt(np.sum([tfidf_tst[i, j]**2 for j in range(tfidf_tst.shape[1])])))\n",
    "\n",
    "print(f\"##############################\\nTesting Processing Done\")\n",
    "\n",
    "  \n",
    "# x_val_ = np.zeros((x_val.shape[0], gensim_w2v['hello'].shape[0]))\n",
    "# for i, x in enumerate(x_val[:,:]):\n",
    "#   for x_ in x:\n",
    "#     x_val_[i]+=(embedding_matrix[x_]*tfidf_train[i,x_])\n",
    "#   x_val_[i]/=(np.sum(tfidf_train[i,:]))"
   ]
  },
  {
   "cell_type": "markdown",
   "metadata": {
    "colab_type": "text",
    "id": "0zEJeyB8_fEW"
   },
   "source": [
    "## Model "
   ]
  },
  {
   "cell_type": "code",
   "execution_count": null,
   "metadata": {
    "colab": {
     "base_uri": "https://localhost:8080/",
     "height": 3757
    },
    "colab_type": "code",
    "id": "mMowoATM0cGx",
    "outputId": "9a2a2ef4-9e39-4436-ba16-a2b55292baaa"
   },
   "outputs": [
    {
     "name": "stdout",
     "output_type": "stream",
     "text": [
      "_________________________________________________________________\n",
      "Layer (type)                 Output Shape              Param #   \n",
      "=================================================================\n",
      "dense_8 (Dense)              (None, 512)               154112    \n",
      "_________________________________________________________________\n",
      "dropout_2 (Dropout)          (None, 512)               0         \n",
      "_________________________________________________________________\n",
      "dense_9 (Dense)              (None, 512)               262656    \n",
      "_________________________________________________________________\n",
      "dense_10 (Dense)             (None, 512)               262656    \n",
      "_________________________________________________________________\n",
      "dense_11 (Dense)             (None, 1)                 513       \n",
      "=================================================================\n",
      "Total params: 679,937\n",
      "Trainable params: 679,937\n",
      "Non-trainable params: 0\n",
      "_________________________________________________________________\n",
      "Train on 20000 samples, validate on 5000 samples\n",
      "Epoch 1/100\n",
      " - 2s - loss: 0.6899 - acc: 0.5321 - val_loss: 0.6861 - val_acc: 0.5442\n",
      "Epoch 2/100\n",
      " - 2s - loss: 0.6841 - acc: 0.5559 - val_loss: 0.6784 - val_acc: 0.5688\n",
      "Epoch 3/100\n",
      " - 2s - loss: 0.6775 - acc: 0.5709 - val_loss: 0.6765 - val_acc: 0.5664\n",
      "Epoch 4/100\n",
      " - 2s - loss: 0.6726 - acc: 0.5867 - val_loss: 0.6775 - val_acc: 0.5614\n",
      "Epoch 5/100\n",
      " - 2s - loss: 0.6688 - acc: 0.5926 - val_loss: 0.6693 - val_acc: 0.5892\n",
      "Epoch 6/100\n",
      " - 2s - loss: 0.6658 - acc: 0.5915 - val_loss: 0.6701 - val_acc: 0.5866\n",
      "Epoch 7/100\n",
      " - 2s - loss: 0.6651 - acc: 0.5980 - val_loss: 0.6658 - val_acc: 0.5974\n",
      "Epoch 8/100\n",
      " - 2s - loss: 0.6625 - acc: 0.6011 - val_loss: 0.6650 - val_acc: 0.5960\n",
      "Epoch 9/100\n",
      " - 2s - loss: 0.6624 - acc: 0.5993 - val_loss: 0.6623 - val_acc: 0.5992\n",
      "Epoch 10/100\n",
      " - 2s - loss: 0.6592 - acc: 0.6063 - val_loss: 0.6619 - val_acc: 0.6032\n",
      "Epoch 11/100\n",
      " - 2s - loss: 0.6577 - acc: 0.6078 - val_loss: 0.6589 - val_acc: 0.6038\n",
      "Epoch 12/100\n",
      " - 2s - loss: 0.6563 - acc: 0.6076 - val_loss: 0.6645 - val_acc: 0.5960\n",
      "Epoch 13/100\n",
      " - 2s - loss: 0.6550 - acc: 0.6145 - val_loss: 0.6603 - val_acc: 0.5958\n",
      "Epoch 14/100\n",
      " - 2s - loss: 0.6556 - acc: 0.6109 - val_loss: 0.6637 - val_acc: 0.5922\n",
      "Epoch 15/100\n",
      " - 2s - loss: 0.6510 - acc: 0.6173 - val_loss: 0.6725 - val_acc: 0.5890\n",
      "Epoch 16/100\n",
      " - 2s - loss: 0.6532 - acc: 0.6144 - val_loss: 0.6558 - val_acc: 0.6066\n",
      "Epoch 17/100\n",
      " - 2s - loss: 0.6515 - acc: 0.6212 - val_loss: 0.6551 - val_acc: 0.6098\n",
      "Epoch 18/100\n",
      " - 2s - loss: 0.6505 - acc: 0.6121 - val_loss: 0.6574 - val_acc: 0.6100\n",
      "Epoch 19/100\n",
      " - 2s - loss: 0.6500 - acc: 0.6215 - val_loss: 0.6559 - val_acc: 0.6040\n",
      "Epoch 20/100\n",
      " - 2s - loss: 0.6490 - acc: 0.6231 - val_loss: 0.6536 - val_acc: 0.6136\n",
      "Epoch 21/100\n",
      " - 2s - loss: 0.6508 - acc: 0.6188 - val_loss: 0.6560 - val_acc: 0.6062\n",
      "Epoch 22/100\n",
      " - 2s - loss: 0.6500 - acc: 0.6203 - val_loss: 0.6562 - val_acc: 0.6134\n",
      "Epoch 23/100\n",
      " - 2s - loss: 0.6479 - acc: 0.6256 - val_loss: 0.6621 - val_acc: 0.5932\n",
      "Epoch 24/100\n",
      " - 2s - loss: 0.6478 - acc: 0.6234 - val_loss: 0.6524 - val_acc: 0.6162\n",
      "Epoch 25/100\n",
      " - 2s - loss: 0.6471 - acc: 0.6206 - val_loss: 0.6521 - val_acc: 0.6182\n",
      "Epoch 26/100\n",
      " - 2s - loss: 0.6460 - acc: 0.6270 - val_loss: 0.6614 - val_acc: 0.5964\n",
      "Epoch 27/100\n",
      " - 2s - loss: 0.6467 - acc: 0.6230 - val_loss: 0.6564 - val_acc: 0.6122\n",
      "Epoch 28/100\n",
      " - 2s - loss: 0.6460 - acc: 0.6249 - val_loss: 0.6521 - val_acc: 0.6126\n",
      "Epoch 29/100\n",
      " - 2s - loss: 0.6443 - acc: 0.6258 - val_loss: 0.6506 - val_acc: 0.6148\n",
      "Epoch 30/100\n",
      " - 2s - loss: 0.6426 - acc: 0.6281 - val_loss: 0.6562 - val_acc: 0.6058\n",
      "Epoch 31/100\n",
      " - 2s - loss: 0.6450 - acc: 0.6255 - val_loss: 0.6503 - val_acc: 0.6172\n",
      "Epoch 32/100\n",
      " - 2s - loss: 0.6439 - acc: 0.6267 - val_loss: 0.6538 - val_acc: 0.6112\n",
      "Epoch 33/100\n",
      " - 2s - loss: 0.6429 - acc: 0.6324 - val_loss: 0.6499 - val_acc: 0.6184\n",
      "Epoch 34/100\n",
      " - 2s - loss: 0.6435 - acc: 0.6321 - val_loss: 0.6497 - val_acc: 0.6198\n",
      "Epoch 35/100\n",
      " - 2s - loss: 0.6432 - acc: 0.6275 - val_loss: 0.6633 - val_acc: 0.5902\n",
      "Epoch 36/100\n",
      " - 2s - loss: 0.6420 - acc: 0.6299 - val_loss: 0.6502 - val_acc: 0.6184\n",
      "Epoch 37/100\n",
      " - 2s - loss: 0.6432 - acc: 0.6289 - val_loss: 0.6526 - val_acc: 0.6128\n",
      "Epoch 38/100\n",
      " - 2s - loss: 0.6407 - acc: 0.6348 - val_loss: 0.6523 - val_acc: 0.6152\n",
      "Epoch 39/100\n",
      " - 2s - loss: 0.6415 - acc: 0.6308 - val_loss: 0.6502 - val_acc: 0.6160\n",
      "Epoch 40/100\n",
      " - 2s - loss: 0.6416 - acc: 0.6277 - val_loss: 0.6490 - val_acc: 0.6210\n",
      "Epoch 41/100\n",
      " - 2s - loss: 0.6413 - acc: 0.6298 - val_loss: 0.6484 - val_acc: 0.6180\n",
      "Epoch 42/100\n",
      " - 2s - loss: 0.6396 - acc: 0.6307 - val_loss: 0.6571 - val_acc: 0.6024\n",
      "Epoch 43/100\n",
      " - 2s - loss: 0.6407 - acc: 0.6298 - val_loss: 0.6491 - val_acc: 0.6176\n",
      "Epoch 44/100\n",
      " - 2s - loss: 0.6404 - acc: 0.6329 - val_loss: 0.6521 - val_acc: 0.6112\n",
      "Epoch 45/100\n",
      " - 2s - loss: 0.6405 - acc: 0.6292 - val_loss: 0.6620 - val_acc: 0.5972\n",
      "Epoch 46/100\n",
      " - 2s - loss: 0.6406 - acc: 0.6337 - val_loss: 0.6494 - val_acc: 0.6224\n",
      "Epoch 47/100\n",
      " - 2s - loss: 0.6379 - acc: 0.6320 - val_loss: 0.6496 - val_acc: 0.6164\n",
      "Epoch 48/100\n",
      " - 2s - loss: 0.6396 - acc: 0.6327 - val_loss: 0.6488 - val_acc: 0.6192\n",
      "Epoch 49/100\n",
      " - 2s - loss: 0.6382 - acc: 0.6325 - val_loss: 0.6517 - val_acc: 0.6160\n",
      "Epoch 50/100\n",
      " - 2s - loss: 0.6383 - acc: 0.6342 - val_loss: 0.6496 - val_acc: 0.6148\n",
      "Epoch 51/100\n",
      " - 2s - loss: 0.6379 - acc: 0.6363 - val_loss: 0.6528 - val_acc: 0.6168\n",
      "Epoch 52/100\n",
      " - 2s - loss: 0.6369 - acc: 0.6392 - val_loss: 0.6480 - val_acc: 0.6180\n",
      "Epoch 53/100\n",
      " - 2s - loss: 0.6382 - acc: 0.6341 - val_loss: 0.6456 - val_acc: 0.6246\n",
      "Epoch 54/100\n",
      " - 2s - loss: 0.6369 - acc: 0.6353 - val_loss: 0.6524 - val_acc: 0.6136\n",
      "Epoch 55/100\n",
      " - 2s - loss: 0.6363 - acc: 0.6371 - val_loss: 0.6488 - val_acc: 0.6238\n",
      "Epoch 56/100\n",
      " - 2s - loss: 0.6339 - acc: 0.6382 - val_loss: 0.6491 - val_acc: 0.6242\n",
      "Epoch 57/100\n",
      " - 2s - loss: 0.6372 - acc: 0.6349 - val_loss: 0.6471 - val_acc: 0.6238\n",
      "Epoch 58/100\n",
      " - 2s - loss: 0.6362 - acc: 0.6360 - val_loss: 0.6464 - val_acc: 0.6262\n",
      "Epoch 59/100\n",
      " - 2s - loss: 0.6354 - acc: 0.6374 - val_loss: 0.6478 - val_acc: 0.6202\n",
      "Epoch 60/100\n",
      " - 2s - loss: 0.6352 - acc: 0.6401 - val_loss: 0.6500 - val_acc: 0.6150\n",
      "Epoch 61/100\n",
      " - 2s - loss: 0.6342 - acc: 0.6391 - val_loss: 0.6530 - val_acc: 0.6110\n",
      "Epoch 62/100\n",
      " - 2s - loss: 0.6345 - acc: 0.6400 - val_loss: 0.6465 - val_acc: 0.6204\n",
      "Epoch 63/100\n",
      " - 2s - loss: 0.6357 - acc: 0.6353 - val_loss: 0.6458 - val_acc: 0.6254\n",
      "Epoch 64/100\n",
      " - 2s - loss: 0.6337 - acc: 0.6405 - val_loss: 0.6504 - val_acc: 0.6172\n",
      "Epoch 65/100\n",
      " - 2s - loss: 0.6322 - acc: 0.6407 - val_loss: 0.6481 - val_acc: 0.6194\n",
      "Epoch 66/100\n",
      " - 2s - loss: 0.6346 - acc: 0.6380 - val_loss: 0.6457 - val_acc: 0.6232\n",
      "Epoch 67/100\n",
      " - 2s - loss: 0.6324 - acc: 0.6405 - val_loss: 0.6465 - val_acc: 0.6250\n",
      "Epoch 68/100\n",
      " - 2s - loss: 0.6321 - acc: 0.6409 - val_loss: 0.6482 - val_acc: 0.6174\n",
      "Epoch 69/100\n",
      " - 2s - loss: 0.6332 - acc: 0.6385 - val_loss: 0.6452 - val_acc: 0.6220\n",
      "Epoch 70/100\n",
      " - 2s - loss: 0.6326 - acc: 0.6366 - val_loss: 0.6454 - val_acc: 0.6290\n",
      "Epoch 71/100\n",
      " - 2s - loss: 0.6329 - acc: 0.6378 - val_loss: 0.6459 - val_acc: 0.6276\n",
      "Epoch 72/100\n",
      " - 2s - loss: 0.6328 - acc: 0.6388 - val_loss: 0.6485 - val_acc: 0.6254\n",
      "Epoch 73/100\n",
      " - 2s - loss: 0.6320 - acc: 0.6392 - val_loss: 0.6512 - val_acc: 0.6132\n",
      "Epoch 74/100\n",
      " - 2s - loss: 0.6309 - acc: 0.6417 - val_loss: 0.6470 - val_acc: 0.6208\n",
      "Epoch 75/100\n",
      " - 2s - loss: 0.6325 - acc: 0.6402 - val_loss: 0.6462 - val_acc: 0.6266\n",
      "Epoch 76/100\n",
      " - 2s - loss: 0.6313 - acc: 0.6395 - val_loss: 0.6507 - val_acc: 0.6218\n",
      "Epoch 77/100\n",
      " - 2s - loss: 0.6294 - acc: 0.6413 - val_loss: 0.6484 - val_acc: 0.6120\n",
      "Epoch 78/100\n",
      " - 2s - loss: 0.6308 - acc: 0.6418 - val_loss: 0.6494 - val_acc: 0.6210\n",
      "Epoch 79/100\n",
      " - 2s - loss: 0.6298 - acc: 0.6434 - val_loss: 0.6478 - val_acc: 0.6202\n",
      "Epoch 80/100\n",
      " - 2s - loss: 0.6306 - acc: 0.6416 - val_loss: 0.6460 - val_acc: 0.6264\n",
      "Epoch 81/100\n",
      " - 2s - loss: 0.6291 - acc: 0.6439 - val_loss: 0.6447 - val_acc: 0.6280\n",
      "Epoch 82/100\n",
      " - 2s - loss: 0.6303 - acc: 0.6431 - val_loss: 0.6452 - val_acc: 0.6244\n",
      "Epoch 83/100\n",
      " - 2s - loss: 0.6296 - acc: 0.6454 - val_loss: 0.6459 - val_acc: 0.6258\n",
      "Epoch 84/100\n",
      " - 2s - loss: 0.6293 - acc: 0.6397 - val_loss: 0.6475 - val_acc: 0.6196\n",
      "Epoch 85/100\n",
      " - 2s - loss: 0.6298 - acc: 0.6434 - val_loss: 0.6448 - val_acc: 0.6208\n",
      "Epoch 86/100\n",
      " - 2s - loss: 0.6275 - acc: 0.6454 - val_loss: 0.6474 - val_acc: 0.6244\n",
      "Epoch 87/100\n",
      " - 2s - loss: 0.6278 - acc: 0.6425 - val_loss: 0.6503 - val_acc: 0.6170\n",
      "Epoch 88/100\n",
      " - 2s - loss: 0.6285 - acc: 0.6421 - val_loss: 0.6443 - val_acc: 0.6234\n",
      "Epoch 89/100\n",
      " - 2s - loss: 0.6282 - acc: 0.6436 - val_loss: 0.6461 - val_acc: 0.6270\n",
      "Epoch 90/100\n",
      " - 2s - loss: 0.6275 - acc: 0.6461 - val_loss: 0.6461 - val_acc: 0.6232\n",
      "Epoch 91/100\n",
      " - 2s - loss: 0.6258 - acc: 0.6469 - val_loss: 0.6690 - val_acc: 0.6030\n",
      "Epoch 92/100\n",
      " - 2s - loss: 0.6271 - acc: 0.6445 - val_loss: 0.6466 - val_acc: 0.6206\n",
      "Epoch 93/100\n",
      " - 2s - loss: 0.6294 - acc: 0.6428 - val_loss: 0.6448 - val_acc: 0.6262\n",
      "Epoch 94/100\n",
      " - 2s - loss: 0.6269 - acc: 0.6446 - val_loss: 0.6463 - val_acc: 0.6320\n",
      "Epoch 95/100\n",
      " - 2s - loss: 0.6268 - acc: 0.6434 - val_loss: 0.6493 - val_acc: 0.6244\n",
      "Epoch 96/100\n",
      " - 2s - loss: 0.6272 - acc: 0.6452 - val_loss: 0.6487 - val_acc: 0.6196\n",
      "Epoch 97/100\n",
      " - 2s - loss: 0.6274 - acc: 0.6453 - val_loss: 0.6524 - val_acc: 0.6160\n",
      "Epoch 98/100\n",
      " - 2s - loss: 0.6266 - acc: 0.6461 - val_loss: 0.6554 - val_acc: 0.6098\n",
      "Epoch 99/100\n",
      " - 2s - loss: 0.6254 - acc: 0.6475 - val_loss: 0.6476 - val_acc: 0.6196\n",
      "Epoch 100/100\n",
      " - 2s - loss: 0.6253 - acc: 0.6496 - val_loss: 0.6456 - val_acc: 0.6256\n",
      "CPU times: user 3min 47s, sys: 25.9 s, total: 4min 13s\n",
      "Wall time: 3min 11s\n"
     ]
    }
   ],
   "source": [
    "%%time\n",
    "\n",
    "model = tf.keras.Sequential()\n",
    "# model.add(Embedding(max_words, embedding_dim, input_length=maxlen))\n",
    "# model.add(tf.keras.layers.Embedding(max_words, \n",
    "#                                     embedding_dim, \n",
    "#                                     input_length=x_train.shape[1],\n",
    "#                                     embeddings_initializer=tf.keras.initializers.Constant(\n",
    "#                                         embedding_matrix),\n",
    "#                                     trainable = False    \n",
    "#                                    ))\n",
    "# model.add(tf.keras.layers.Flatten())\n",
    "model.add(tf.keras.layers.Dense(512, input_shape=(x_train_.shape[1], ), activation='relu'))\n",
    "model.add(tf.keras.layers.Dropout(0.5))\n",
    "model.add(tf.keras.layers.Dense(512, activation='relu'))\n",
    "model.add(tf.keras.layers.Dense(512, activation='relu'))\n",
    "model.add(tf.keras.layers.Dense(1, activation='sigmoid'))\n",
    "model.summary()\n",
    "\n",
    "class myCallback(tf.keras.callbacks.Callback):\n",
    "  def on_epoch_end(self, epoch, logs={}):\n",
    "    if(logs.get('val_acc')>0.66):\n",
    "      print(\"\\nReached 90% val_acc so cancelling training!\")\n",
    "      self.model.stop_training = True\n",
    "      \n",
    "callbacks = myCallback()\n",
    "\n",
    "monitor = tf.keras.callbacks.EarlyStopping(monitor='val_loss', min_delta=1e-3, patience=5, verbose=1, mode='auto')\n",
    "\n",
    "model.compile(loss='binary_crossentropy', optimizer=tf.keras.optimizers.Adamax(0.003), metrics=['accuracy'])\n",
    "\n",
    "# fit network\n",
    "model.fit(x_train_, y_train, epochs=100, \n",
    "          batch_size=64, verbose=2, validation_split=0.2)#, \n",
    "#           validation_split=0.01, callbacks=[callbacks])"
   ]
  },
  {
   "cell_type": "code",
   "execution_count": null,
   "metadata": {
    "colab": {
     "base_uri": "https://localhost:8080/",
     "height": 34
    },
    "colab_type": "code",
    "id": "cRUqa5FHHlRS",
    "outputId": "fcc09962-2c94-4e15-acf7-4e953c7f908e"
   },
   "outputs": [
    {
     "name": "stdout",
     "output_type": "stream",
     "text": [
      "Test Accuracy: 66.039997\n"
     ]
    }
   ],
   "source": [
    "loss, acc = model.evaluate(x_test_, y_test, verbose=0)\n",
    "print('Test Accuracy: %f' % (acc*100))"
   ]
  },
  {
   "cell_type": "code",
   "execution_count": null,
   "metadata": {
    "colab": {
     "base_uri": "https://localhost:8080/",
     "height": 34
    },
    "colab_type": "code",
    "id": "Zdd0qaHwWlN4",
    "outputId": "c6aae66b-7389-4338-e44c-1caa4d51cb8c"
   },
   "outputs": [
    {
     "name": "stdout",
     "output_type": "stream",
     "text": [
      "Test Accuracy: 65.008003\n"
     ]
    }
   ],
   "source": [
    "loss, acc = model.evaluate(x_train_, y_train, verbose=0)\n",
    "print('Test Accuracy: %f' % (acc*100))"
   ]
  },
  {
   "cell_type": "markdown",
   "metadata": {
    "colab_type": "text",
    "id": "RrmQMKyBX-2X"
   },
   "source": [
    "### Plots"
   ]
  },
  {
   "cell_type": "code",
   "execution_count": null,
   "metadata": {
    "colab": {
     "base_uri": "https://localhost:8080/",
     "height": 559
    },
    "colab_type": "code",
    "id": "yM-GhH3sX-2a",
    "outputId": "adcf9952-0f40-46d0-cc55-d93342dd43c5"
   },
   "outputs": [
    {
     "data": {
      "image/png": "[encoded data removed]",
      "text/plain": [
       "<Figure size 432x288 with 1 Axes>"
      ]
     },
     "metadata": {
      "tags": []
     },
     "output_type": "display_data"
    },
    {
     "data": {
      "image/png": "[encoded data removed]",
      "text/plain": [
       "<Figure size 432x288 with 1 Axes>"
      ]
     },
     "metadata": {
      "tags": []
     },
     "output_type": "display_data"
    }
   ],
   "source": [
    "acc = model.history.history['acc']\n",
    "val_acc = model.history.history['val_acc']\n",
    "loss = model.history.history['loss']\n",
    "val_loss = model.history.history['val_loss']\n",
    "\n",
    "epochs = range(1, len(acc) + 1)\n",
    "\n",
    "plt.figure()\n",
    "plt.plot(epochs, loss, label='Training loss')\n",
    "plt.plot(epochs, val_loss, 'r--', label='Validation loss', linewidth=3)\n",
    "plt.title('loss (Bow+Fast_text)')\n",
    "plt.legend()\n",
    "plt.savefig(\"Training and Validation loss (Bow+Fast_text).eps\", format='eps', dpi=1200)\n",
    "\n",
    "plt.show()\n",
    "\n",
    "plt.figure()\n",
    "plt.plot(epochs, acc, label='Training acc')\n",
    "plt.plot(epochs, val_acc,'r--', label='Validation acc', linewidth=3)\n",
    "plt.title('accuracy (Bow+Fast_text)')\n",
    "plt.legend()\n",
    "plt.xlabel(\"epochs\")\n",
    "plt.ylabel(\"accuracy\")\n",
    "plt.savefig(\"Training and validation accuracy (Bow+Fast_text).eps\", format='eps', dpi=1200)\n",
    "plt.show()"
   ]
  },
  {
   "cell_type": "code",
   "execution_count": null,
   "metadata": {
    "colab": {
     "base_uri": "https://localhost:8080/",
     "height": 281
    },
    "colab_type": "code",
    "id": "Os3mNH3tiTur",
    "outputId": "d609758e-c1fe-48ef-db39-bc39c2a32f16"
   },
   "outputs": [
    {
     "data": {
      "image/png": "[encoded data removed]",
      "text/plain": [
       "<Figure size 432x288 with 1 Axes>"
      ]
     },
     "metadata": {
      "tags": []
     },
     "output_type": "display_data"
    }
   ],
   "source": [
    "#Create ROC curve\n",
    "from sklearn.metrics import roc_curve, auc\n",
    "import matplotlib.pyplot as plt\n",
    "pred_probas = model.predict_proba(x_test_)[:,0]\n",
    "fpr,tpr,_ = roc_curve(y_test, pred_probas)\n",
    "roc_auc = auc(fpr,tpr)\n",
    "plt.plot(fpr,tpr,label='area = %.2f' %roc_auc)\n",
    "plt.plot([0, 1], [0, 1], label=\"random classifier\")\n",
    "plt.xlim([0.0, 1.0])\n",
    "plt.ylim([0.0, 1.05])\n",
    "plt.legend(loc='lower right')\n",
    "plt.title(\"ROC curve\")\n",
    "plt.savefig(\"ROC curve (Bow+Fast_text).eps\", format='eps', dpi=1200)\n",
    "plt.show()"
   ]
  },
  {
   "cell_type": "code",
   "execution_count": null,
   "metadata": {
    "colab": {
     "base_uri": "https://localhost:8080/",
     "height": 255
    },
    "colab_type": "code",
    "id": "PU8n4sJZjxfr",
    "outputId": "014f728f-d2d1-4bac-e9d7-2ceac5b78aa3"
   },
   "outputs": [
    {
     "name": "stdout",
     "output_type": "stream",
     "text": [
      " adc.json\n",
      "'Confusion Matrix (tf_idf).eps'\n",
      " model_fasttext.h5\n",
      " model_tf-idf.h5\n",
      "'ROC curve (Bow+Fast_text).eps'\n",
      "'ROC curve.eps'\n",
      "'ROC curve (tf_idf).eps'\n",
      " sample_data\n",
      "'Training and validation accuracy (Bow+Fast_text).eps'\n",
      "'Training and validation accuracy (tf-df).eps'\n",
      "'Training and Validation loss (Bow+Fast_text).eps'\n",
      "'Training and Validation loss (tf-df).eps'\n",
      " wiki-news-300d-1M-subword.vec\n",
      " wiki-news-300d-1M-subword.vec.zip\n"
     ]
    }
   ],
   "source": [
    "!ls"
   ]
  },
  {
   "cell_type": "code",
   "execution_count": null,
   "metadata": {
    "colab": {},
    "colab_type": "code",
    "id": "IeRFzJLqQLlC"
   },
   "outputs": [],
   "source": [
    "files.download(\"Training and validation accuracy (Bow+Fast_text).eps\")\n",
    "files.download(\"Training and Validation loss (Bow+Fast_text).eps\")\n",
    "files.download(\"ROC curve (Bow+Fast_text).eps\")"
   ]
  },
  {
   "cell_type": "code",
   "execution_count": null,
   "metadata": {
    "colab": {},
    "colab_type": "code",
    "id": "yHv6M2Bhj3y8"
   },
   "outputs": [],
   "source": []
  },
  {
   "cell_type": "markdown",
   "metadata": {
    "colab_type": "text",
    "id": "6vtMSUu3X-2g"
   },
   "source": [
    "###Confusion matrix\n",
    "\n",
    "We can visually check the confusion matrix to understand the distribution of misclassifications."
   ]
  },
  {
   "cell_type": "code",
   "execution_count": null,
   "metadata": {
    "colab": {},
    "colab_type": "code",
    "id": "8LnTtpWxeYNV"
   },
   "outputs": [],
   "source": [
    "res=model.predict(x_test_)\n",
    "res=res.reshape(1, -1)[0]\n",
    "res_ = [int(np.round(x)) for x in res]"
   ]
  },
  {
   "cell_type": "code",
   "execution_count": null,
   "metadata": {
    "colab": {},
    "colab_type": "code",
    "id": "iDyhMSovhBO7"
   },
   "outputs": [],
   "source": [
    "counter = np.count_nonzero(y_pred==y_test)\n",
    "counter/len(y_test)"
   ]
  },
  {
   "cell_type": "code",
   "execution_count": null,
   "metadata": {
    "colab": {
     "base_uri": "https://localhost:8080/",
     "height": 312
    },
    "colab_type": "code",
    "id": "y-KgjJ0WX-2i",
    "outputId": "a5896384-9459-48f0-8587-7fe274b7ce28"
   },
   "outputs": [
    {
     "data": {
      "text/plain": [
       "[]"
      ]
     },
     "execution_count": 30,
     "metadata": {
      "tags": []
     },
     "output_type": "execute_result"
    },
    {
     "data": {
      "image/png": "[encoded data removed]",
      "text/plain": [
       "<Figure size 432x288 with 2 Axes>"
      ]
     },
     "metadata": {
      "tags": []
     },
     "output_type": "display_data"
    }
   ],
   "source": [
    "y_pred = np.round(model.predict(x_test_)); y_pred\n",
    "\n",
    "LABELS = [\n",
    "    \"negative\", \"positive\"\n",
    "]\n",
    "\n",
    "# Create a confusion matrix on training data.\n",
    "with tf.Graph().as_default():\n",
    "  cm = tf.confusion_matrix(y_test, y_pred)\n",
    "  with tf.Session() as session:\n",
    "    cm_out = session.run(cm)\n",
    "\n",
    "# Normalize the confusion matrix so that each row sums to 1.\n",
    "cm_out = cm_out.astype(float) / cm_out.sum(axis=1)[:, np.newaxis]\n",
    "\n",
    "sns.heatmap(cm_out, annot=True, xticklabels=LABELS, yticklabels=LABELS);\n",
    "plt.xlabel(\"Predicted\");\n",
    "plt.ylabel(\"True\")\n",
    "plt.title(\"Confusion Matrix (Bow+Fast_text)\")\n",
    "plt.savefig(\"Confusion Matrix (Bow+Fast_text).eps\", format='eps', dpi=1200)\n",
    "plt.plot()"
   ]
  },
  {
   "cell_type": "code",
   "execution_count": null,
   "metadata": {
    "colab": {},
    "colab_type": "code",
    "id": "ZutaaRlwyo6t"
   },
   "outputs": [],
   "source": [
    "files.download(\"Confusion Matrix (Bow+Fast_text).eps\")"
   ]
  },
  {
   "cell_type": "markdown",
   "metadata": {
    "colab_type": "text",
    "id": "8FTSrL-0X-2p"
   },
   "source": [
    "### Saving the entire model and save in the drive"
   ]
  },
  {
   "cell_type": "code",
   "execution_count": null,
   "metadata": {
    "colab": {},
    "colab_type": "code",
    "id": "5WrikO6YX-2q"
   },
   "outputs": [],
   "source": [
    "# Save entire model to a HDF5 file\n",
    "model.save('model_fasttext.h5')"
   ]
  },
  {
   "cell_type": "code",
   "execution_count": null,
   "metadata": {
    "colab": {
     "base_uri": "https://localhost:8080/",
     "height": 85
    },
    "colab_type": "code",
    "id": "guoDg9NDX-2t",
    "outputId": "215cbe17-c5ff-4c12-96e6-eaafc0778f9e"
   },
   "outputs": [
    {
     "name": "stdout",
     "output_type": "stream",
     "text": [
      "'Confusion Matrix (tf_idf).eps'   sample_data\n",
      " model_tf-idf.h5\t\t 'Training and validation accuracy (tf-df).eps'\n",
      "'ROC curve.eps'\t\t\t 'Training and Validation loss (tf-df).eps'\n",
      "'ROC curve (tf_idf).eps'\n"
     ]
    }
   ],
   "source": [
    "!ls"
   ]
  },
  {
   "cell_type": "code",
   "execution_count": null,
   "metadata": {
    "colab": {},
    "colab_type": "code",
    "id": "HtZRPJUEX-20"
   },
   "outputs": [],
   "source": [
    "files.download( \"model_fasttext.h5\" )"
   ]
  },
  {
   "cell_type": "code",
   "execution_count": null,
   "metadata": {
    "colab": {
     "base_uri": "https://localhost:8080/",
     "height": 51
    },
    "colab_type": "code",
    "id": "ldJ1Onp0X-23",
    "outputId": "b7e4152b-b00b-42d2-9b69-86c125619122"
   },
   "outputs": [
    {
     "name": "stdout",
     "output_type": "stream",
     "text": [
      "adc.json  sample_data\t\t\t wiki-news-300d-1M-subword.vec.zip\n",
      "gdrive\t  wiki-news-300d-1M-subword.vec\n"
     ]
    }
   ],
   "source": [
    "!ls"
   ]
  },
  {
   "cell_type": "markdown",
   "metadata": {
    "colab_type": "text",
    "id": "WqH3kqPJH8bP"
   },
   "source": [
    "## TF_IDF "
   ]
  },
  {
   "cell_type": "code",
   "execution_count": null,
   "metadata": {
    "colab": {
     "base_uri": "https://localhost:8080/",
     "height": 3757
    },
    "colab_type": "code",
    "id": "qIYHWuvQHNnN",
    "outputId": "ebcb8552-aab2-4397-aad6-5994dadcff46"
   },
   "outputs": [
    {
     "name": "stdout",
     "output_type": "stream",
     "text": [
      "_________________________________________________________________\n",
      "Layer (type)                 Output Shape              Param #   \n",
      "=================================================================\n",
      "dense (Dense)                (None, 512)               10240512  \n",
      "_________________________________________________________________\n",
      "dropout (Dropout)            (None, 512)               0         \n",
      "_________________________________________________________________\n",
      "dense_1 (Dense)              (None, 512)               262656    \n",
      "_________________________________________________________________\n",
      "dense_2 (Dense)              (None, 512)               262656    \n",
      "_________________________________________________________________\n",
      "dense_3 (Dense)              (None, 1)                 513       \n",
      "=================================================================\n",
      "Total params: 10,766,337\n",
      "Trainable params: 10,766,337\n",
      "Non-trainable params: 0\n",
      "_________________________________________________________________\n",
      "Train on 20000 samples, validate on 5000 samples\n",
      "Epoch 1/100\n",
      " - 8s - loss: 0.3369 - acc: 0.8618 - val_loss: 0.2672 - val_acc: 0.8960\n",
      "Epoch 2/100\n",
      " - 7s - loss: 0.1137 - acc: 0.9589 - val_loss: 0.3398 - val_acc: 0.8978\n",
      "Epoch 3/100\n",
      " - 7s - loss: 0.0330 - acc: 0.9889 - val_loss: 0.5157 - val_acc: 0.8966\n",
      "Epoch 4/100\n",
      " - 7s - loss: 0.0093 - acc: 0.9974 - val_loss: 0.6161 - val_acc: 0.8952\n",
      "Epoch 5/100\n",
      " - 7s - loss: 0.0060 - acc: 0.9987 - val_loss: 0.6852 - val_acc: 0.8960\n",
      "Epoch 6/100\n",
      " - 7s - loss: 0.0018 - acc: 0.9994 - val_loss: 0.7886 - val_acc: 0.8922\n",
      "Epoch 7/100\n",
      " - 7s - loss: 0.0030 - acc: 0.9991 - val_loss: 0.7765 - val_acc: 0.8984\n",
      "Epoch 8/100\n",
      " - 7s - loss: 0.0026 - acc: 0.9993 - val_loss: 0.7780 - val_acc: 0.8942\n",
      "Epoch 9/100\n",
      " - 7s - loss: 0.0013 - acc: 0.9998 - val_loss: 0.8012 - val_acc: 0.8946\n",
      "Epoch 10/100\n",
      " - 7s - loss: 0.0012 - acc: 0.9997 - val_loss: 0.8453 - val_acc: 0.8948\n",
      "Epoch 11/100\n",
      " - 7s - loss: 0.0011 - acc: 0.9998 - val_loss: 0.8181 - val_acc: 0.8942\n",
      "Epoch 12/100\n",
      " - 7s - loss: 7.9785e-04 - acc: 0.9998 - val_loss: 0.8214 - val_acc: 0.8984\n",
      "Epoch 13/100\n",
      " - 7s - loss: 2.3640e-04 - acc: 0.9998 - val_loss: 0.8624 - val_acc: 0.8980\n",
      "Epoch 14/100\n",
      " - 7s - loss: 0.0017 - acc: 0.9996 - val_loss: 0.9277 - val_acc: 0.8892\n",
      "Epoch 15/100\n",
      " - 7s - loss: 5.9793e-04 - acc: 0.9998 - val_loss: 0.8994 - val_acc: 0.8960\n",
      "Epoch 16/100\n",
      " - 7s - loss: 0.0011 - acc: 0.9999 - val_loss: 0.8839 - val_acc: 0.8956\n",
      "Epoch 17/100\n",
      " - 7s - loss: 3.1154e-04 - acc: 0.9999 - val_loss: 0.9185 - val_acc: 0.8990\n",
      "Epoch 18/100\n",
      " - 7s - loss: 8.8152e-04 - acc: 0.9998 - val_loss: 0.9511 - val_acc: 0.8968\n",
      "Epoch 19/100\n",
      " - 7s - loss: 0.0035 - acc: 0.9994 - val_loss: 0.8385 - val_acc: 0.8980\n",
      "Epoch 20/100\n",
      " - 6s - loss: 2.9463e-04 - acc: 0.9999 - val_loss: 0.8554 - val_acc: 0.9004\n",
      "Epoch 21/100\n",
      " - 6s - loss: 1.6112e-04 - acc: 0.9999 - val_loss: 0.9021 - val_acc: 0.8966\n",
      "Epoch 22/100\n",
      " - 6s - loss: 2.2117e-05 - acc: 1.0000 - val_loss: 0.9318 - val_acc: 0.8990\n",
      "Epoch 23/100\n",
      " - 7s - loss: 7.0926e-04 - acc: 0.9998 - val_loss: 0.9512 - val_acc: 0.8998\n",
      "Epoch 24/100\n",
      " - 7s - loss: 0.0013 - acc: 0.9999 - val_loss: 0.9834 - val_acc: 0.8938\n",
      "Epoch 25/100\n",
      " - 7s - loss: 0.0012 - acc: 0.9998 - val_loss: 0.9983 - val_acc: 0.8970\n",
      "Epoch 26/100\n",
      " - 7s - loss: 0.0021 - acc: 0.9997 - val_loss: 0.9302 - val_acc: 0.8958\n",
      "Epoch 27/100\n",
      " - 7s - loss: 1.7721e-04 - acc: 0.9999 - val_loss: 0.9671 - val_acc: 0.8938\n",
      "Epoch 28/100\n",
      " - 7s - loss: 3.0822e-04 - acc: 0.9998 - val_loss: 1.1473 - val_acc: 0.8834\n",
      "Epoch 29/100\n",
      " - 7s - loss: 0.0011 - acc: 0.9998 - val_loss: 0.9919 - val_acc: 0.8944\n",
      "Epoch 30/100\n",
      " - 7s - loss: 0.0014 - acc: 0.9998 - val_loss: 0.9746 - val_acc: 0.8918\n",
      "Epoch 31/100\n",
      " - 7s - loss: 8.6304e-04 - acc: 0.9998 - val_loss: 0.9593 - val_acc: 0.8942\n",
      "Epoch 32/100\n",
      " - 7s - loss: 1.7316e-04 - acc: 0.9999 - val_loss: 0.9736 - val_acc: 0.8942\n",
      "Epoch 33/100\n",
      "Epoch 34/100\n",
      " - 7s - loss: 5.1193e-05 - acc: 1.0000 - val_loss: 1.0183 - val_acc: 0.8930\n",
      "Epoch 35/100\n",
      " - 7s - loss: 6.3139e-04 - acc: 0.9999 - val_loss: 1.0127 - val_acc: 0.8914\n",
      "Epoch 36/100\n",
      " - 7s - loss: 0.0022 - acc: 0.9997 - val_loss: 1.0349 - val_acc: 0.8902\n",
      "Epoch 37/100\n",
      " - 7s - loss: 0.0015 - acc: 0.9995 - val_loss: 1.0221 - val_acc: 0.8890\n",
      "Epoch 38/100\n",
      " - 7s - loss: 1.4370e-04 - acc: 0.9999 - val_loss: 1.0375 - val_acc: 0.8892\n",
      "Epoch 39/100\n",
      " - 7s - loss: 5.6880e-04 - acc: 0.9998 - val_loss: 1.1447 - val_acc: 0.8802\n",
      "Epoch 40/100\n",
      " - 7s - loss: 0.0014 - acc: 0.9998 - val_loss: 1.0963 - val_acc: 0.8788\n",
      "Epoch 41/100\n",
      " - 7s - loss: 0.0017 - acc: 0.9998 - val_loss: 1.1475 - val_acc: 0.8672\n",
      "Epoch 42/100\n",
      " - 7s - loss: 0.0065 - acc: 0.9989 - val_loss: 0.9781 - val_acc: 0.8804\n",
      "Epoch 43/100\n",
      " - 7s - loss: 0.0048 - acc: 0.9986 - val_loss: 0.9061 - val_acc: 0.8802\n",
      "Epoch 44/100\n",
      " - 7s - loss: 0.0058 - acc: 0.9989 - val_loss: 0.9336 - val_acc: 0.8788\n",
      "Epoch 45/100\n",
      " - 7s - loss: 0.0037 - acc: 0.9994 - val_loss: 0.9883 - val_acc: 0.8780\n",
      "Epoch 46/100\n",
      " - 7s - loss: 0.0019 - acc: 0.9995 - val_loss: 1.0249 - val_acc: 0.8778\n",
      "Epoch 47/100\n",
      " - 6s - loss: 0.0032 - acc: 0.9997 - val_loss: 1.1694 - val_acc: 0.8752\n",
      "Epoch 48/100\n",
      " - 7s - loss: 8.3272e-04 - acc: 0.9998 - val_loss: 1.1949 - val_acc: 0.8696\n",
      "Epoch 49/100\n",
      " - 7s - loss: 0.0011 - acc: 0.9998 - val_loss: 1.3930 - val_acc: 0.8434\n",
      "Epoch 50/100\n",
      " - 6s - loss: 0.0025 - acc: 0.9995 - val_loss: 1.1824 - val_acc: 0.8756\n",
      "Epoch 51/100\n",
      " - 6s - loss: 7.2852e-04 - acc: 0.9999 - val_loss: 1.1900 - val_acc: 0.8760\n",
      "Epoch 52/100\n",
      " - 7s - loss: 0.0038 - acc: 0.9995 - val_loss: 1.1710 - val_acc: 0.8762\n",
      "Epoch 53/100\n",
      " - 7s - loss: 0.0021 - acc: 0.9994 - val_loss: 1.2258 - val_acc: 0.8698\n",
      "Epoch 54/100\n",
      " - 6s - loss: 3.2281e-04 - acc: 0.9999 - val_loss: 1.1885 - val_acc: 0.8730\n",
      "Epoch 55/100\n",
      " - 6s - loss: 0.0013 - acc: 0.9998 - val_loss: 1.2211 - val_acc: 0.8718\n",
      "Epoch 56/100\n",
      " - 6s - loss: 0.0016 - acc: 0.9998 - val_loss: 1.2672 - val_acc: 0.8626\n",
      "Epoch 57/100\n",
      " - 6s - loss: 1.0581e-04 - acc: 1.0000 - val_loss: 1.3278 - val_acc: 0.8614\n",
      "Epoch 58/100\n",
      " - 6s - loss: 2.4040e-05 - acc: 1.0000 - val_loss: 1.3712 - val_acc: 0.8590\n",
      "Epoch 59/100\n",
      " - 6s - loss: 8.9596e-04 - acc: 0.9998 - val_loss: 1.3455 - val_acc: 0.8580\n",
      "Epoch 60/100\n",
      " - 6s - loss: 3.1944e-05 - acc: 1.0000 - val_loss: 1.3329 - val_acc: 0.8580\n",
      "Epoch 61/100\n",
      " - 6s - loss: 5.7467e-05 - acc: 0.9999 - val_loss: 1.2981 - val_acc: 0.8702\n",
      "Epoch 62/100\n",
      " - 6s - loss: 7.5426e-06 - acc: 1.0000 - val_loss: 1.3322 - val_acc: 0.8662\n",
      "Epoch 63/100\n",
      " - 6s - loss: 2.1823e-04 - acc: 0.9999 - val_loss: 1.3525 - val_acc: 0.8638\n",
      "Epoch 64/100\n",
      " - 6s - loss: 0.0013 - acc: 0.9998 - val_loss: 1.3840 - val_acc: 0.8672\n",
      "Epoch 65/100\n",
      " - 6s - loss: 1.0146e-06 - acc: 1.0000 - val_loss: 1.3805 - val_acc: 0.8682\n",
      "Epoch 66/100\n",
      " - 6s - loss: 1.2118e-06 - acc: 1.0000 - val_loss: 1.3948 - val_acc: 0.8680\n",
      "Epoch 67/100\n",
      " - 6s - loss: 2.9641e-04 - acc: 0.9999 - val_loss: 1.4402 - val_acc: 0.8656\n",
      "Epoch 68/100\n",
      " - 6s - loss: 5.9403e-05 - acc: 0.9999 - val_loss: 1.4727 - val_acc: 0.8648\n",
      "Epoch 69/100\n",
      " - 7s - loss: 5.2386e-04 - acc: 0.9999 - val_loss: 1.4214 - val_acc: 0.8650\n",
      "Epoch 70/100\n",
      " - 7s - loss: 1.9603e-04 - acc: 0.9999 - val_loss: 1.4617 - val_acc: 0.8662\n",
      "Epoch 71/100\n",
      " - 7s - loss: 0.0022 - acc: 0.9998 - val_loss: 1.6225 - val_acc: 0.8558\n",
      "Epoch 72/100\n",
      " - 7s - loss: 0.0024 - acc: 0.9998 - val_loss: 1.5492 - val_acc: 0.8636\n",
      "Epoch 73/100\n",
      " - 7s - loss: 0.0018 - acc: 0.9998 - val_loss: 1.5602 - val_acc: 0.8618\n",
      "Epoch 74/100\n",
      " - 7s - loss: 0.0020 - acc: 0.9998 - val_loss: 1.6006 - val_acc: 0.8494\n",
      "Epoch 75/100\n",
      " - 7s - loss: 0.0031 - acc: 0.9995 - val_loss: 1.5246 - val_acc: 0.8610\n",
      "Epoch 76/100\n",
      " - 7s - loss: 0.0014 - acc: 0.9998 - val_loss: 1.5526 - val_acc: 0.8602\n",
      "Epoch 77/100\n",
      " - 6s - loss: 0.0027 - acc: 0.9996 - val_loss: 1.6377 - val_acc: 0.8564\n",
      "Epoch 78/100\n",
      " - 6s - loss: 0.0025 - acc: 0.9997 - val_loss: 1.7071 - val_acc: 0.8480\n",
      "Epoch 79/100\n",
      " - 7s - loss: 2.7805e-04 - acc: 0.9999 - val_loss: 1.6750 - val_acc: 0.8526\n",
      "Epoch 80/100\n",
      " - 7s - loss: 0.0011 - acc: 0.9997 - val_loss: 1.7770 - val_acc: 0.8392\n",
      "Epoch 81/100\n",
      " - 7s - loss: 0.0021 - acc: 0.9997 - val_loss: 1.7334 - val_acc: 0.8480\n",
      "Epoch 82/100\n",
      " - 7s - loss: 0.0014 - acc: 0.9998 - val_loss: 1.6461 - val_acc: 0.8502\n",
      "Epoch 83/100\n",
      " - 7s - loss: 0.0024 - acc: 0.9996 - val_loss: 1.7337 - val_acc: 0.8472\n",
      "Epoch 84/100\n",
      " - 6s - loss: 0.0017 - acc: 0.9996 - val_loss: 1.7479 - val_acc: 0.8318\n",
      "Epoch 85/100\n",
      " - 7s - loss: 0.0030 - acc: 0.9995 - val_loss: 1.7283 - val_acc: 0.8286\n",
      "Epoch 86/100\n",
      " - 7s - loss: 7.0453e-04 - acc: 0.9998 - val_loss: 1.6466 - val_acc: 0.8476\n",
      "Epoch 87/100\n",
      " - 7s - loss: 0.0010 - acc: 0.9997 - val_loss: 1.6321 - val_acc: 0.8410\n",
      "Epoch 88/100\n",
      " - 7s - loss: 0.0030 - acc: 0.9996 - val_loss: 1.6919 - val_acc: 0.8418\n",
      "Epoch 89/100\n",
      " - 7s - loss: 4.4214e-04 - acc: 0.9998 - val_loss: 1.7913 - val_acc: 0.8384\n",
      "Epoch 90/100\n",
      " - 7s - loss: 9.6882e-04 - acc: 0.9998 - val_loss: 1.8123 - val_acc: 0.8364\n",
      "Epoch 91/100\n",
      " - 7s - loss: 0.0016 - acc: 0.9998 - val_loss: 1.8367 - val_acc: 0.8366\n",
      "Epoch 92/100\n",
      " - 7s - loss: 9.9077e-04 - acc: 0.9999 - val_loss: 1.8755 - val_acc: 0.8336\n",
      "Epoch 93/100\n",
      " - 7s - loss: 0.0010 - acc: 0.9998 - val_loss: 1.8494 - val_acc: 0.8366\n",
      "Epoch 94/100\n",
      " - 7s - loss: 8.7694e-06 - acc: 1.0000 - val_loss: 1.8602 - val_acc: 0.8366\n",
      "Epoch 95/100\n",
      " - 7s - loss: 6.3414e-06 - acc: 1.0000 - val_loss: 1.8890 - val_acc: 0.8350\n",
      "Epoch 96/100\n",
      " - 7s - loss: 3.8481e-04 - acc: 0.9999 - val_loss: 1.9959 - val_acc: 0.8282\n",
      "Epoch 97/100\n",
      " - 7s - loss: 5.6698e-06 - acc: 1.0000 - val_loss: 1.9246 - val_acc: 0.8342\n",
      "Epoch 98/100\n",
      " - 7s - loss: 2.8885e-05 - acc: 1.0000 - val_loss: 1.9042 - val_acc: 0.8352\n",
      "Epoch 99/100\n",
      " - 7s - loss: 5.2961e-04 - acc: 0.9999 - val_loss: 1.9869 - val_acc: 0.8378\n",
      "Epoch 100/100\n",
      " - 7s - loss: 0.0016 - acc: 0.9998 - val_loss: 2.0131 - val_acc: 0.8366\n",
      "Test Accuracy: 79.824001\n",
      "CPU times: user 9min 56s, sys: 2min 16s, total: 12min 12s\n",
      "Wall time: 11min 32s\n"
     ]
    }
   ],
   "source": [
    "%%time\n",
    "\n",
    "model = tf.keras.Sequential()\n",
    "model.add(tf.keras.layers.Dense(512, input_shape=(tfidf_train.shape[1], ), activation='relu'))\n",
    "model.add(tf.keras.layers.Dropout(0.5))\n",
    "model.add(tf.keras.layers.Dense(512, activation='relu'))\n",
    "model.add(tf.keras.layers.Dense(512, activation='relu'))\n",
    "model.add(tf.keras.layers.Dense(1, activation='sigmoid'))\n",
    "\n",
    "model.summary()\n",
    "\n",
    "class myCallback(tf.keras.callbacks.Callback):\n",
    "  def on_epoch_end(self, epoch, logs={}):\n",
    "    if(logs.get('val_acc')>0.66):\n",
    "      print(\"\\nReached 90% val_acc so cancelling training!\")\n",
    "      self.model.stop_training = True\n",
    "      \n",
    "callbacks = myCallback()\n",
    "\n",
    "monitor = tf.keras.callbacks.EarlyStopping(monitor='val_loss', min_delta=1e-3, patience=5, verbose=1, mode='auto')\n",
    "\n",
    "model.compile(loss='binary_crossentropy', optimizer=tf.keras.optimizers.Adamax(0.003), metrics=['accuracy'])\n",
    "\n",
    "# fit network\n",
    "model.fit(tfidf_train, train_df.sentiment, \n",
    "          epochs=100, \n",
    "          batch_size=64, verbose=2, \n",
    "          validation_split=0.2)#, callbacks=[monitor])\n",
    "\n",
    "\n",
    "          \n",
    "#           epochs=2000, \n",
    "#           batch_size=32, verbose=2, \n",
    "#           validation_split=0.2, callbacks=[monitor])\n",
    "\n",
    "loss, acc = model.evaluate(tfidf_tst, test_df.sentiment, verbose=0)\n",
    "print('Test Accuracy: %f' % (acc*100))"
   ]
  },
  {
   "cell_type": "markdown",
   "metadata": {
    "colab_type": "text",
    "id": "mXp7NE3lld0W"
   },
   "source": [
    "### Plots"
   ]
  },
  {
   "cell_type": "code",
   "execution_count": null,
   "metadata": {
    "colab": {
     "base_uri": "https://localhost:8080/",
     "height": 559
    },
    "colab_type": "code",
    "id": "kodhf0CMrnoc",
    "outputId": "e2e9e6b4-5e7a-436d-b5be-f338ea0eea19"
   },
   "outputs": [
    {
     "data": {
      "image/png": "[encoded data removed]",
      "text/plain": [
       "<Figure size 432x288 with 1 Axes>"
      ]
     },
     "metadata": {
      "tags": []
     },
     "output_type": "display_data"
    },
    {
     "data": {
      "image/png": "[encoded data removed]",
      "text/plain": [
       "<Figure size 432x288 with 1 Axes>"
      ]
     },
     "metadata": {
      "tags": []
     },
     "output_type": "display_data"
    }
   ],
   "source": [
    "acc = model.history.history['acc']\n",
    "val_acc = model.history.history['val_acc']\n",
    "loss = model.history.history['loss']\n",
    "val_loss = model.history.history['val_loss']\n",
    "\n",
    "epochs = range(1, len(acc) + 1)\n",
    "\n",
    "plt.figure()\n",
    "plt.plot(epochs, loss, label='Training loss')\n",
    "plt.plot(epochs, val_loss, 'r--',label='Validation loss',  linewidth=3)\n",
    "plt.title('loss (tf-df)')\n",
    "plt.legend()\n",
    "plt.savefig(\"Training and Validation loss (tf-df).eps\", format='eps', dpi=1200)\n",
    "plt.show()\n",
    "\n",
    "plt.figure()\n",
    "plt.plot(epochs, acc, label='Training acc')\n",
    "plt.plot(epochs, val_acc,'r--', label='Validation acc', linewidth=3)\n",
    "plt.title('accuracy (tf-df)')\n",
    "plt.legend()\n",
    "plt.xlabel(\"epochs\")\n",
    "plt.ylabel(\"accuracy\")\n",
    "plt.savefig(\"Training and validation accuracy (tf-df).eps\", format='eps', dpi=1200)\n",
    "plt.show()"
   ]
  },
  {
   "cell_type": "code",
   "execution_count": null,
   "metadata": {
    "colab": {
     "base_uri": "https://localhost:8080/",
     "height": 281
    },
    "colab_type": "code",
    "id": "k6i_3KP4cpg7",
    "outputId": "270ca34c-c1b8-4475-f7ea-71c20338370a"
   },
   "outputs": [
    {
     "data": {
      "image/png": "[encoded data removed]",
      "text/plain": [
       "<Figure size 432x288 with 1 Axes>"
      ]
     },
     "metadata": {
      "tags": []
     },
     "output_type": "display_data"
    }
   ],
   "source": [
    "#Create ROC curve\n",
    "from sklearn.metrics import roc_curve, auc\n",
    "import matplotlib.pyplot as plt\n",
    "pred_probas = model.predict_proba(tfidf_tst)[:,0]\n",
    "fpr,tpr,_ = roc_curve(test_df.sentiment, pred_probas)\n",
    "roc_auc = auc(fpr,tpr)\n",
    "plt.plot(fpr,tpr,label='area = %.2f' %roc_auc)\n",
    "plt.plot([0, 1], [0, 1], label=\"random classifier\")\n",
    "plt.xlim([0.0, 1.0])\n",
    "plt.ylim([0.0, 1.05])\n",
    "plt.legend(loc='lower right')\n",
    "plt.title(\"ROC curve (tf_idf)\")\n",
    "plt.savefig(\"ROC curve (tf_idf).eps\", format='eps', dpi=1200)\n",
    "plt.show()"
   ]
  },
  {
   "cell_type": "code",
   "execution_count": null,
   "metadata": {
    "colab": {
     "base_uri": "https://localhost:8080/",
     "height": 136
    },
    "colab_type": "code",
    "id": "UNEIbn8FcphI",
    "outputId": "9b4cbf4c-1281-48b4-9b48-aaa5866dbb16"
   },
   "outputs": [
    {
     "data": {
      "text/plain": [
       "array([[9.9999994e-01],\n",
       "       [2.9802322e-08],\n",
       "       [0.0000000e+00],\n",
       "       ...,\n",
       "       [0.0000000e+00],\n",
       "       [3.5142303e-03],\n",
       "       [0.0000000e+00]], dtype=float32)"
      ]
     },
     "execution_count": 10,
     "metadata": {
      "tags": []
     },
     "output_type": "execute_result"
    }
   ],
   "source": [
    "model.predict(tfidf_tst[:,:])"
   ]
  },
  {
   "cell_type": "code",
   "execution_count": null,
   "metadata": {
    "colab": {
     "base_uri": "https://localhost:8080/",
     "height": 295
    },
    "colab_type": "code",
    "id": "L3v4FyWCcphN",
    "outputId": "f966b09e-42fc-4437-9f98-d1eba6fd5bc7"
   },
   "outputs": [
    {
     "data": {
      "image/png": "[encoded data removed]",
      "text/plain": [
       "<Figure size 432x288 with 2 Axes>"
      ]
     },
     "metadata": {
      "tags": []
     },
     "output_type": "display_data"
    }
   ],
   "source": [
    "LABELS = [\n",
    "    \"negative\", \"positive\"\n",
    "]\n",
    "\n",
    "# Create a confusion matrix on training data.\n",
    "with tf.Graph().as_default():\n",
    "  cm = tf.confusion_matrix(test_df.sentiment,\n",
    "                           model.predict(tfidf_tst[:,:]))\n",
    "  with tf.Session() as session:\n",
    "    cm_out = session.run(cm)\n",
    "\n",
    "# Normalize the confusion matrix so that each row sums to 1.\n",
    "cm_out = cm_out.astype(float) / cm_out.sum(axis=1)[:, np.newaxis]\n",
    "\n",
    "sns.heatmap(cm_out, annot=True, xticklabels=LABELS, yticklabels=LABELS);\n",
    "plt.title(\"Confusion Matrix (tf_idf)\")\n",
    "plt.xlabel(\"Predicted\");\n",
    "plt.ylabel(\"True\");\n",
    "plt.savefig(\"Confusion Matrix (tf_idf).eps\", format='eps', dpi=1200)\n",
    "plt.show()"
   ]
  },
  {
   "cell_type": "code",
   "execution_count": null,
   "metadata": {
    "colab": {},
    "colab_type": "code",
    "id": "maUxqUchioBe"
   },
   "outputs": [],
   "source": [
    "from sklearn.metrics import recall_score\n",
    "from sklearn.metrics import precision_score"
   ]
  },
  {
   "cell_type": "code",
   "execution_count": null,
   "metadata": {
    "colab": {
     "base_uri": "https://localhost:8080/",
     "height": 34
    },
    "colab_type": "code",
    "id": "Y4E4GOExEJoe",
    "outputId": "e62c92b4-a13c-46d7-9665-ff2501ffbfe3"
   },
   "outputs": [
    {
     "data": {
      "text/plain": [
       "0.6153076538269134"
      ]
     },
     "execution_count": 37,
     "metadata": {
      "tags": []
     },
     "output_type": "execute_result"
    }
   ],
   "source": [
    "(0.95+0.28)/(0.95+0.28+0.049+0.72)"
   ]
  },
  {
   "cell_type": "code",
   "execution_count": null,
   "metadata": {
    "colab": {},
    "colab_type": "code",
    "id": "X0k8JvC_in7K"
   },
   "outputs": [],
   "source": [
    "# accuracy = accuracy_score(tfidf_tst, test_df.sentiment)\n",
    "# print('Accuracy: %f' % accuracy)\n",
    "# precision tp / (tp + fp)\n",
    "# precision = precision_score(tfidf_tst, test_df.sentiment)\n",
    "# print('Precision: %f' % precision)\n",
    "\n",
    "# recall: tp / (tp + fn)\n",
    "recall = recall_score(tfidf_tst, test_df.sentiment)\n",
    "print('Recall: %f' % recall)"
   ]
  },
  {
   "cell_type": "code",
   "execution_count": null,
   "metadata": {
    "colab": {
     "base_uri": "https://localhost:8080/",
     "height": 85
    },
    "colab_type": "code",
    "id": "Hw1xUNSbgqCO",
    "outputId": "49c68657-2fe3-4471-9b75-8a8ea4f26d3c"
   },
   "outputs": [
    {
     "name": "stdout",
     "output_type": "stream",
     "text": [
      "'Confusion Matrix (tf_idf).eps'   sample_data\n",
      " model_tf-idf.h5\t\t 'Training and validation accuracy (tf-df).eps'\n",
      "'ROC curve.eps'\t\t\t 'Training and Validation loss (tf-df).eps'\n",
      "'ROC curve (tf_idf).eps'\n"
     ]
    }
   ],
   "source": [
    "!ls"
   ]
  },
  {
   "cell_type": "code",
   "execution_count": null,
   "metadata": {
    "colab": {},
    "colab_type": "code",
    "id": "NIXVTijecphQ"
   },
   "outputs": [],
   "source": [
    "files.download('Training and validation accuracy (tf-df).eps')\n",
    "files.download(\"Training and Validation loss (tf-df).eps\")\n",
    "files.download(\"ROC curve (tf_idf).eps\")\n",
    "files.download(\"Confusion Matrix (tf_idf).eps\")\n",
    "\n",
    "files.download('model_tf-idf.h5')"
   ]
  },
  {
   "cell_type": "markdown",
   "metadata": {
    "colab_type": "text",
    "id": "OM-fJ6Jd8M9S"
   },
   "source": [
    "# Small Example \n",
    "\n",
    "A small example for understanding of how Tokenize work"
   ]
  },
  {
   "cell_type": "markdown",
   "metadata": {
    "colab_type": "text",
    "id": "qX7tVGgzTVTc"
   },
   "source": [
    "### Word level"
   ]
  },
  {
   "cell_type": "code",
   "execution_count": null,
   "metadata": {
    "colab": {
     "base_uri": "https://localhost:8080/",
     "height": 34
    },
    "colab_type": "code",
    "id": "YtsXtMpsTVTc",
    "outputId": "2191caad-804f-4082-eae6-bae42dd83923"
   },
   "outputs": [
    {
     "name": "stdout",
     "output_type": "stream",
     "text": [
      "Found 22 unique tokens.\n"
     ]
    }
   ],
   "source": [
    "samples = ['The cat sat on the mat.', 'The dog ate my homework.']\n",
    "samples_essay= ['Salomon likes to learn new things. Djeff likes that too', \n",
    "            'Salomon also likes to learn Karateka']\n",
    "sample_wiki = [\"John likes to watch movies. Mary likes movies too.\", \n",
    "               \"John also likes to watch football games.\"]\n",
    "\n",
    "sample_presentation =[\"That which we call a rose by any other name would smell as weet.\",\n",
    "                     \"Good night sweet prince.\",\n",
    "                     \"Parting is such sweet sorrow.\"] \n",
    "\n",
    "\n",
    "tokenizer = Tokenizer()\n",
    "tokenizer.fit_on_texts(sample_presentation)\n",
    "sequences = tokenizer.texts_to_sequences(sample_presentation)\n",
    "bag_of_word_results = tokenizer.texts_to_matrix(sample_presentation, mode='freq')\n",
    "tf_idf_results = tokenizer.texts_to_matrix(sample_presentation, mode='tfidf')\n",
    "\n",
    "word_index = tokenizer.word_index\n",
    "print('Found %s unique tokens.' % len(word_index))"
   ]
  },
  {
   "cell_type": "code",
   "execution_count": null,
   "metadata": {
    "colab": {
     "base_uri": "https://localhost:8080/",
     "height": 68
    },
    "colab_type": "code",
    "id": "iZo8KQmgTVTi",
    "outputId": "b7b0ac46-128a-4d15-cc90-ec5ff59c2627"
   },
   "outputs": [
    {
     "data": {
      "text/plain": [
       "[[2, 3, 4, 5, 6, 7, 8, 9, 10, 11, 12, 13, 14, 15],\n",
       " [16, 17, 1, 18],\n",
       " [19, 20, 21, 1, 22]]"
      ]
     },
     "execution_count": 73,
     "metadata": {
      "tags": []
     },
     "output_type": "execute_result"
    }
   ],
   "source": [
    "sequences"
   ]
  },
  {
   "cell_type": "code",
   "execution_count": null,
   "metadata": {
    "colab": {
     "base_uri": "https://localhost:8080/",
     "height": 272
    },
    "colab_type": "code",
    "id": "ql5utR_DTVTs",
    "outputId": "96e0948a-29f4-4676-8e14-08eb2b6eac20"
   },
   "outputs": [
    {
     "data": {
      "text/plain": [
       "array([[0.        , 0.        , 0.07142857, 0.07142857, 0.07142857,\n",
       "        0.07142857, 0.07142857, 0.07142857, 0.07142857, 0.07142857,\n",
       "        0.07142857, 0.07142857, 0.07142857, 0.07142857, 0.07142857,\n",
       "        0.07142857, 0.        , 0.        , 0.        , 0.        ,\n",
       "        0.        , 0.        , 0.        ],\n",
       "       [0.        , 0.25      , 0.        , 0.        , 0.        ,\n",
       "        0.        , 0.        , 0.        , 0.        , 0.        ,\n",
       "        0.        , 0.        , 0.        , 0.        , 0.        ,\n",
       "        0.        , 0.25      , 0.25      , 0.25      , 0.        ,\n",
       "        0.        , 0.        , 0.        ],\n",
       "       [0.        , 0.2       , 0.        , 0.        , 0.        ,\n",
       "        0.        , 0.        , 0.        , 0.        , 0.        ,\n",
       "        0.        , 0.        , 0.        , 0.        , 0.        ,\n",
       "        0.        , 0.        , 0.        , 0.        , 0.2       ,\n",
       "        0.2       , 0.2       , 0.2       ]])"
      ]
     },
     "execution_count": 76,
     "metadata": {
      "tags": []
     },
     "output_type": "execute_result"
    }
   ],
   "source": [
    "bag_of_word_results"
   ]
  },
  {
   "cell_type": "code",
   "execution_count": null,
   "metadata": {
    "colab": {
     "base_uri": "https://localhost:8080/",
     "height": 272
    },
    "colab_type": "code",
    "id": "ksap1NdG6YtI",
    "outputId": "42730a70-1ea7-4ed8-e72c-416d77a089d1"
   },
   "outputs": [
    {
     "data": {
      "text/plain": [
       "array([[0.        , 0.        , 0.91629073, 0.91629073, 0.91629073,\n",
       "        0.91629073, 0.91629073, 0.91629073, 0.91629073, 0.91629073,\n",
       "        0.91629073, 0.91629073, 0.91629073, 0.91629073, 0.91629073,\n",
       "        0.91629073, 0.        , 0.        , 0.        , 0.        ,\n",
       "        0.        , 0.        , 0.        ],\n",
       "       [0.        , 0.69314718, 0.        , 0.        , 0.        ,\n",
       "        0.        , 0.        , 0.        , 0.        , 0.        ,\n",
       "        0.        , 0.        , 0.        , 0.        , 0.        ,\n",
       "        0.        , 0.91629073, 0.91629073, 0.91629073, 0.        ,\n",
       "        0.        , 0.        , 0.        ],\n",
       "       [0.        , 0.69314718, 0.        , 0.        , 0.        ,\n",
       "        0.        , 0.        , 0.        , 0.        , 0.        ,\n",
       "        0.        , 0.        , 0.        , 0.        , 0.        ,\n",
       "        0.        , 0.        , 0.        , 0.        , 0.91629073,\n",
       "        0.91629073, 0.91629073, 0.91629073]])"
      ]
     },
     "execution_count": 77,
     "metadata": {
      "tags": []
     },
     "output_type": "execute_result"
    }
   ],
   "source": [
    "tf_idf_results"
   ]
  },
  {
   "cell_type": "code",
   "execution_count": null,
   "metadata": {
    "colab": {
     "base_uri": "https://localhost:8080/",
     "height": 34
    },
    "colab_type": "code",
    "id": "CQAArTtwTVTw",
    "outputId": "9e4860be-3588-471c-eb29-3258a42660ae"
   },
   "outputs": [
    {
     "data": {
      "text/plain": [
       "22"
      ]
     },
     "execution_count": 78,
     "metadata": {
      "tags": []
     },
     "output_type": "execute_result"
    }
   ],
   "source": [
    "len(word_index)"
   ]
  },
  {
   "cell_type": "code",
   "execution_count": null,
   "metadata": {
    "colab": {
     "base_uri": "https://localhost:8080/",
     "height": 34
    },
    "colab_type": "code",
    "id": "B7yxjO3BmvJu",
    "outputId": "c8f21b75-d6ca-4f45-aad6-a74b2eb9b342"
   },
   "outputs": [
    {
     "data": {
      "text/plain": [
       "(2, 12)"
      ]
     },
     "execution_count": 36,
     "metadata": {
      "tags": []
     },
     "output_type": "execute_result"
    }
   ],
   "source": [
    "bag_of_word_results.shape"
   ]
  },
  {
   "cell_type": "code",
   "execution_count": null,
   "metadata": {
    "colab": {},
    "colab_type": "code",
    "id": "zBg9HucJTVT5"
   },
   "outputs": [],
   "source": [
    "# results"
   ]
  },
  {
   "cell_type": "markdown",
   "metadata": {
    "colab_type": "text",
    "id": "TDMlZgF6TVUC"
   },
   "source": [
    "### Caracter level"
   ]
  },
  {
   "cell_type": "code",
   "execution_count": null,
   "metadata": {
    "colab": {},
    "colab_type": "code",
    "id": "TRkeYOnQTVUC",
    "outputId": "14cfbcae-163f-4ff8-96ca-7a40dcf2cae9"
   },
   "outputs": [
    {
     "name": "stdout",
     "output_type": "stream",
     "text": [
      "Found 17 unique tokens.\n"
     ]
    }
   ],
   "source": [
    "samples = ['The cat sat on the mat.', 'The dog ate my homework.']\n",
    "\n",
    "tokenizer = Tokenizer(char_level=True)\n",
    "tokenizer.fit_on_texts(samples)\n",
    "sequences = tokenizer.texts_to_sequences(samples)\n",
    "one_hot_results = tokenizer.texts_to_matrix(samples, mode='binary')\n",
    "word_index = tokenizer.word_index\n",
    "print('Found %s unique tokens.' % len(word_index))"
   ]
  },
  {
   "cell_type": "code",
   "execution_count": null,
   "metadata": {
    "colab": {},
    "colab_type": "code",
    "id": "4ueFpMk-TVUJ",
    "outputId": "30971c86-5a57-43a0-ae2a-21148cd6ebf0"
   },
   "outputs": [
    {
     "data": {
      "text/plain": [
       "[[2, 4, 3, 1, 9, 5, 2, 1, 10, 5, 2, 1, 6, 11, 1, 2, 4, 3, 1, 7, 5, 2, 8],\n",
       " [2,\n",
       "  4,\n",
       "  3,\n",
       "  1,\n",
       "  12,\n",
       "  6,\n",
       "  13,\n",
       "  1,\n",
       "  5,\n",
       "  2,\n",
       "  3,\n",
       "  1,\n",
       "  7,\n",
       "  14,\n",
       "  1,\n",
       "  4,\n",
       "  6,\n",
       "  7,\n",
       "  3,\n",
       "  15,\n",
       "  6,\n",
       "  16,\n",
       "  17,\n",
       "  8]]"
      ]
     },
     "execution_count": 64,
     "metadata": {
      "tags": []
     },
     "output_type": "execute_result"
    }
   ],
   "source": [
    "sequences"
   ]
  },
  {
   "cell_type": "code",
   "execution_count": null,
   "metadata": {
    "colab": {},
    "colab_type": "code",
    "id": "4ZD-661eTVUP",
    "outputId": "d4b02f32-c012-4186-ef48-e4ae27a282a7"
   },
   "outputs": [
    {
     "data": {
      "text/plain": [
       "array([[0., 1., 1., 1., 1., 1., 1., 1., 1., 1., 1., 1., 0., 0., 0., 0.,\n",
       "        0., 0.],\n",
       "       [0., 1., 1., 1., 1., 1., 1., 1., 1., 0., 0., 0., 1., 1., 1., 1.,\n",
       "        1., 1.]])"
      ]
     },
     "execution_count": 65,
     "metadata": {
      "tags": []
     },
     "output_type": "execute_result"
    }
   ],
   "source": [
    "one_hot_results"
   ]
  },
  {
   "cell_type": "code",
   "execution_count": null,
   "metadata": {
    "colab": {},
    "colab_type": "code",
    "id": "TcZJ3rvkTVUU",
    "outputId": "0df8cb2d-ebe2-4603-880a-f7d4d2438653"
   },
   "outputs": [
    {
     "data": {
      "text/plain": [
       "{' ': 1,\n",
       " 't': 2,\n",
       " 'e': 3,\n",
       " 'h': 4,\n",
       " 'a': 5,\n",
       " 'o': 6,\n",
       " 'm': 7,\n",
       " '.': 8,\n",
       " 'c': 9,\n",
       " 's': 10,\n",
       " 'n': 11,\n",
       " 'd': 12,\n",
       " 'g': 13,\n",
       " 'y': 14,\n",
       " 'w': 15,\n",
       " 'r': 16,\n",
       " 'k': 17}"
      ]
     },
     "execution_count": 66,
     "metadata": {
      "tags": []
     },
     "output_type": "execute_result"
    }
   ],
   "source": [
    "word_index"
   ]
  },
  {
   "cell_type": "markdown",
   "metadata": {
    "colab_type": "text",
    "id": "B5TYHJG7TVUX"
   },
   "source": [
    "##  hashing trick"
   ]
  },
  {
   "cell_type": "code",
   "execution_count": null,
   "metadata": {
    "colab": {},
    "colab_type": "code",
    "id": "x1R0Uvd2TVUY"
   },
   "outputs": [],
   "source": [
    "samples = ['The cat sat on the mat.', 'The dog ate my homework.']\n",
    "\n",
    "dimensionality = 1000\n",
    "max_length = 10\n",
    "\n",
    "results = np.zeros((len(samples), max_length, dimensionality))\n",
    "for i, sample in enumerate(samples):\n",
    "    for j, word in list(enumerate(sample.split()))[:max_length]:\n",
    "#         Hashes the word into a \n",
    "#         random integer index \n",
    "#         between 0 and 1,000\n",
    "        index = abs(hash(word)) % dimensionality\n",
    "        results[i, j, index] = 1."
   ]
  },
  {
   "cell_type": "markdown",
   "metadata": {
    "colab_type": "text",
    "id": "nY-nPjpa4wDr"
   },
   "source": [
    "\n",
    "# <h2>About the Authors:</h2> \n",
    "\n",
    "<a href=\"https://salomonkabongo.wixsite.com/datascientist\">Salomon Kabongo KABENAMUALU</a>, Master degree student at <a href=\"https://aims.ac.za/\">the African Institute for mathematical SCiences (AIMS South Africa)</a> his research focused on the use machine learning technique in the field of Natural Language Processing."
   ]
  },
  {
   "cell_type": "markdown",
   "metadata": {
    "colab_type": "text",
    "id": "xDX0h3pa4wDt"
   },
   "source": [
    "References : <a href=\"https://machinelearningmastery.com/deep-learning-bag-of-words-model-sentiment-analysis/\"> How to Develop a Deep Learning Bag-of-Words Model for Predicting Movie Review Sentiment</a>"
   ]
  },
  {
   "cell_type": "markdown",
   "metadata": {
    "colab_type": "text",
    "id": "RdkZJcdh4wDu"
   },
   "source": [
    "Copyright &copy; 2019. This notebook and its source code are released under the terms of the <a href=\"https://www.apache.org/licenses/LICENSE-2.0\">Apache License 2.0</a>."
   ]
  },
  {
   "cell_type": "markdown",
   "metadata": {},
   "source": [
    "---\n",
    "\n",
    "### Obtain Pre-trained BERT Model"
   ]
  },
  {
   "cell_type": "markdown",
   "metadata": {},
   "source": [
    "<img src=\"https://jalammar.github.io/images/distilBERT/sentiment-classifier-1.png\" />\n",
    "\n",
    "Under the hood, the model is actually made up of two model.\n",
    "\n",
    "* DistilBERT processes the sentence and passes along some information it extracted from it on to the next model. DistilBERT is a smaller version of BERT developed and open sourced by the team at HuggingFace. It’s a lighter and faster version of BERT that roughly matches its performance.\n",
    "* The next model, a basic Logistic Regression model from scikit learn will take in the result of DistilBERT’s processing, and classify the sentence as either positive or negative (1 or 0, respectively).\n",
    "\n",
    "The data we pass between the two models is a vector of size 768. We can think of this of vector as an embedding for the sentence that we can use for classification."
   ]
  },
  {
   "cell_type": "code",
   "execution_count": 3,
   "metadata": {},
   "outputs": [
    {
     "name": "stdout",
     "output_type": "stream",
     "text": [
      "Collecting torchtext\n",
      "\u001b[?25l  Downloading https://files.pythonhosted.org/packages/79/ef/54b8da26f37787f5c670ae2199329e7dccf195c060b25628d99e587dac51/torchtext-0.5.0-py3-none-any.whl (73kB)\n",
      "\u001b[K     |████████████████████████████████| 81kB 158kB/s eta 0:00:01\n",
      "\u001b[?25hRequirement already satisfied: tqdm in /home/aims/anaconda3/envs/aims/lib/python3.7/site-packages (from torchtext) (4.37.0)\n",
      "Requirement already satisfied: sentencepiece in /home/aims/anaconda3/envs/aims/lib/python3.7/site-packages (from torchtext) (0.1.85)\n",
      "Requirement already satisfied: requests in /home/aims/anaconda3/envs/aims/lib/python3.7/site-packages (from torchtext) (2.22.0)\n",
      "Requirement already satisfied: torch in /home/aims/anaconda3/envs/aims/lib/python3.7/site-packages (from torchtext) (1.3.0)\n",
      "Requirement already satisfied: six in /home/aims/anaconda3/envs/aims/lib/python3.7/site-packages (from torchtext) (1.12.0)\n",
      "Requirement already satisfied: numpy in /home/aims/anaconda3/envs/aims/lib/python3.7/site-packages (from torchtext) (1.16.2)\n",
      "Requirement already satisfied: urllib3!=1.25.0,!=1.25.1,<1.26,>=1.21.1 in /home/aims/anaconda3/envs/aims/lib/python3.7/site-packages (from requests->torchtext) (1.25.6)\n",
      "Requirement already satisfied: chardet<3.1.0,>=3.0.2 in /home/aims/anaconda3/envs/aims/lib/python3.7/site-packages (from requests->torchtext) (3.0.4)\n",
      "Requirement already satisfied: certifi>=2017.4.17 in /home/aims/anaconda3/envs/aims/lib/python3.7/site-packages (from requests->torchtext) (2019.11.28)\n",
      "Requirement already satisfied: idna<2.9,>=2.5 in /home/aims/anaconda3/envs/aims/lib/python3.7/site-packages (from requests->torchtext) (2.8)\n",
      "Installing collected packages: torchtext\n",
      "Successfully installed torchtext-0.5.0\n"
     ]
    }
   ],
   "source": [
    "# !pip install torchtext"
   ]
  },
  {
   "cell_type": "code",
   "execution_count": 4,
   "metadata": {},
   "outputs": [],
   "source": [
    "import torch\n",
    "import transformers as ppb\n",
    "\n",
    "# # define VGG16 model\n",
    "# # VGG16 = models.vgg16(pretrained=True)\n",
    "\n",
    "# DistilBERT = models.transformers()\n",
    "\n",
    "# For DistilBERT:\n",
    "model_class, tokenizer_class, pretrained_weights = (ppb.DistilBertModel, ppb.DistilBertTokenizer, 'distilbert-base-uncased')\n",
    "\n",
    "## Want BERT instead of distilBERT? Uncomment the following line:\n",
    "#model_class, tokenizer_class, pretrained_weights = (ppb.BertModel, ppb.BertTokenizer, 'bert-base-uncased')\n",
    "\n",
    "# check if CUDA is available\n",
    "use_cuda = torch.cuda.is_available()\n",
    "\n",
    "# # move model to GPU if CUDA is available\n",
    "if use_cuda:\n",
    "    model_class = model_class.cuda()"
   ]
  },
  {
   "cell_type": "code",
   "execution_count": null,
   "metadata": {},
   "outputs": [],
   "source": [
    "class LossPrettifier(object):\n",
    "    \n",
    "    STYLE = {\n",
    "        'green' : '\\033[32m',\n",
    "        'red'   : '\\033[91m', \n",
    "        'bold'  : '\\033[1m', \n",
    "    }\n",
    "    STYLE_END = '\\033[0m'\n",
    "    \n",
    "    def __init__(self, show_percentage=False):\n",
    "        \n",
    "        self.show_percentage = show_percentage\n",
    "        self.color_up = 'green'\n",
    "        self.color_down = 'red'\n",
    "        self.loss_terms = {}\n",
    "    \n",
    "    def __call__(self, epoch=None, **kwargs):\n",
    "        \n",
    "        if epoch is not None:\n",
    "            print_string = f'Epoch {epoch: 5d} '\n",
    "        else:\n",
    "            print_string = ''\n",
    "\n",
    "        for key, value in kwargs.items():\n",
    "            \n",
    "            pre_value = self.loss_terms.get(key, value)\n",
    "            \n",
    "            if value > pre_value:\n",
    "                indicator  = '▲'\n",
    "                show_color = self.STYLE[self.color_up]\n",
    "            elif value == pre_value:\n",
    "                indicator  = ''\n",
    "                show_color = ''\n",
    "            else:\n",
    "                indicator  = '▼'\n",
    "                show_color = self.STYLE[self.color_down]\n",
    "            \n",
    "            if self.show_percentage:\n",
    "                show_value = 0 if pre_value == 0 \\\n",
    "                             else (value - pre_value) / float(pre_value)\n",
    "                key_string = f'| {key}: {show_color}{value:3.4f}({show_value:+3.4%}) {indicator}'\n",
    "            else: \n",
    "                key_string = f'| {key}: {show_color}{value:.4f} {indicator}'\n",
    "            \n",
    "            # Trim some long outputs\n",
    "            key_string_part = key_string[:32]\n",
    "            print_string += key_string_part+f'{self.STYLE_END}\\t'\n",
    "            \n",
    "            self.loss_terms[key] = value\n",
    "            \n",
    "        print(print_string)\n",
    "reporter = LossPrettifier(show_percentage=True)"
   ]
  },
  {
   "cell_type": "code",
   "execution_count": null,
   "metadata": {},
   "outputs": [],
   "source": [
    "def train(n_epochs, loaders, model, optimizer, criterion, use_cuda, save_path):\n",
    "    \"\"\"returns trained model\"\"\"\n",
    "    # initialize tracker for minimum validation loss\n",
    "    valid_loss_min = np.Inf \n",
    "    \n",
    "    for epoch in range(1, n_epochs+1):\n",
    "        # initialize variables to monitor training and validation loss\n",
    "        train_loss = 0.0\n",
    "        valid_loss = 0.0\n",
    "        \n",
    "        ###################\n",
    "        # train the model #\n",
    "        ###################\n",
    "        model.train()\n",
    "        for batch_idx, (data, target) in enumerate(loaders['train']):\n",
    "            # move to GPU\n",
    "            if use_cuda:\n",
    "                data, target = data.cuda(), target.cuda()\n",
    "            ## find the loss and update the model parameters accordingly\n",
    "            ## record the average training loss, using something like\n",
    "            ## train_loss = train_loss + ((1 / (batch_idx + 1)) * (loss.data - train_loss))\n",
    "            # clear the gradients of all optimized variables\n",
    "            optimizer.zero_grad()\n",
    "            # forward pass: compute predicted outputs by passing inputs to the model\n",
    "            output = model(data)\n",
    "            # calculate the batch loss\n",
    "            loss = criterion(output, target)\n",
    "            # backward pass: compute gradient of the loss with respect to model parameters\n",
    "            loss.backward()\n",
    "            # perform a single optimization step (parameter update)\n",
    "            optimizer.step()\n",
    "            # update training loss\n",
    "            train_loss = train_loss + ((1 / (batch_idx + 1)) * (loss.data - train_loss)) \n",
    "            \n",
    "        ######################    \n",
    "        # validate the model #\n",
    "        ######################\n",
    "        model.eval()\n",
    "        for batch_idx, (data, target) in enumerate(loaders['valid']):\n",
    "            # move to GPU\n",
    "            if use_cuda:\n",
    "                data, target = data.cuda(), target.cuda()\n",
    "            ## update the average validation loss\n",
    "            output = model(data)\n",
    "            # calculate the batch loss\n",
    "            loss = criterion(output, target)\n",
    "            # update average validation loss \n",
    "            valid_loss +=((1 / (batch_idx + 1)) * (loss.data - valid_loss))\n",
    "            \n",
    "            \n",
    "        # print training/validation statistics \n",
    "        \n",
    "        reporter(epoch=epoch, LossA = train_loss, LossB = valid_loss)\n",
    "        \n",
    "        ## TODO: save the model if validation loss has decreased\n",
    "        if valid_loss <= valid_loss_min:\n",
    "            print('Validation loss decreased ({:.6f} --> {:.6f}).  Saving model ...'.format(\n",
    "            valid_loss_min,\n",
    "            valid_loss))\n",
    "            torch.save(model.state_dict(), save_path)\n",
    "            valid_loss_min = valid_loss\n",
    "            \n",
    "    # return trained model\n",
    "    return model\n",
    "\n",
    "loaders_scratch = {'train' : train_loader, 'valid': valid_loader, 'test' :test_loader}\n",
    "\n",
    "# train the model\n",
    "model_scratch = train(15, loaders_scratch, model_scratch, optimizer_scratch, \n",
    "                      criterion_scratch, use_cuda, 'model_scratch.pt')"
   ]
  },
  {
   "cell_type": "code",
   "execution_count": null,
   "metadata": {},
   "outputs": [],
   "source": [
    "def test(loaders, model, criterion, use_cuda):\n",
    "\n",
    "    # monitor test loss and accuracy\n",
    "    test_loss = 0.\n",
    "    correct = 0.\n",
    "    total = 0.\n",
    "\n",
    "    model.eval()\n",
    "    for batch_idx, (data, target) in enumerate(loaders['train']):\n",
    "        # move to GPU\n",
    "        if use_cuda:\n",
    "            data, target = data.cuda(), target.cuda()\n",
    "        # forward pass: compute predicted outputs by passing inputs to the model\n",
    "        output = model(data)\n",
    "        # calculate the loss\n",
    "        loss = criterion(output, target)\n",
    "        # update average test loss \n",
    "        test_loss = test_loss + ((1 / (batch_idx + 1)) * (loss.data - test_loss))\n",
    "        # convert output probabilities to predicted class\n",
    "        pred = output.data.max(1, keepdim=True)[1]\n",
    "        # compare predictions to true label\n",
    "        correct += np.sum(np.squeeze(pred.eq(target.data.view_as(pred))).cpu().numpy())\n",
    "        total += data.size(0)\n",
    "            \n",
    "    print('Test Loss: {:.6f}\\n'.format(test_loss))\n",
    "\n",
    "    print('\\nTest Accuracy: %2d%% (%2d/%2d)' % (\n",
    "        100. * correct / total, correct, total))\n",
    "\n",
    "# call test function    \n",
    "test(loaders_scratch, model_scratch, criterion_scratch, use_cuda)"
   ]
  },
  {
   "cell_type": "code",
   "execution_count": null,
   "metadata": {},
   "outputs": [],
   "source": [
    "import os\n",
    "from torchvision import datasets\n",
    "\n",
    "## TODO: Specify data loaders\n",
    "num_workers = 0\n",
    "# how many samples per batch to load\n",
    "batch_size = 20\n",
    "\n",
    "\n",
    "# define training, valid and test data directories\n",
    "data_dir = '/data/dog_images/'\n",
    "train_dir = os.path.join(data_dir, 'train/')\n",
    "valid_dir = os.path.join(data_dir, 'valid/')\n",
    "test_dir = os.path.join(data_dir, 'test/')\n",
    "\n",
    "data_transform = transforms.Compose([\n",
    "    transforms.RandomResizedCrop(224),\n",
    "    transforms.RandomHorizontalFlip(), # randomly flip and rotate\n",
    "#     transforms.RandomRotation(10),\n",
    "    transforms.ToTensor(),\n",
    "    transforms.Normalize((0.5, 0.5, 0.5), (0.5, 0.5, 0.5))\n",
    "    ])\n",
    "\n",
    "train_data = datasets.ImageFolder(train_dir, transform=data_transform)\n",
    "valid_data = datasets.ImageFolder(valid_dir, transform=data_transform)\n",
    "test_data = datasets.ImageFolder(test_dir, transform=data_transform)\n",
    "\n",
    "\n",
    "train_loader = torch.utils.data.DataLoader(train_data, batch_size=batch_size,\n",
    "    num_workers=num_workers)\n",
    "valid_loader = torch.utils.data.DataLoader(valid_data, batch_size=batch_size, \n",
    "    num_workers=num_workers)\n",
    "test_loader = torch.utils.data.DataLoader(test_data, batch_size=batch_size, \n",
    "    num_workers=num_workers)"
   ]
  },
  {
   "cell_type": "markdown",
   "metadata": {},
   "source": [
    "### (IMPLEMENTATION) Model Architecture\n",
    "\n",
    "Use transfer learning to create a CNN to classify dog breed.  Use the code cell below, and save your initialized model as the variable `model_transfer`."
   ]
  },
  {
   "cell_type": "code",
   "execution_count": null,
   "metadata": {},
   "outputs": [],
   "source": [
    "import torchvision.models as models\n",
    "import torch.nn as nn\n",
    "\n",
    "## TODO: Specify model architecture \n",
    "# Load the pretrained model from pytorch\n",
    "model_transfer = models.vgg16(pretrained=True)\n",
    "\n",
    "# Freeze training for all \"features\" layers\n",
    "for param in model_transfer.features.parameters():\n",
    "    param.requires_grad = False\n",
    "    \n",
    "import torch.nn as nn\n",
    "\n",
    "n_inputs = model_transfer.classifier[6].in_features\n",
    "\n",
    "# add last linear layer (n_inputs -> 5 flower classes)\n",
    "# new layers automatically have requires_grad = True\n",
    "last_layer = nn.Linear(n_inputs, 133)\n",
    "\n",
    "model_transfer.classifier[6] = last_layer\n",
    "\n",
    "# check to see that your last layer produces the expected number of outputs\n",
    "print(model_transfer.classifier[6].out_features)\n",
    "\n",
    "if use_cuda:\n",
    "    model_transfer = model_transfer.cuda()"
   ]
  },
  {
   "cell_type": "markdown",
   "metadata": {},
   "source": [
    "__Question 5:__ Outline the steps you took to get to your final CNN architecture and your reasoning at each step.  Describe why you think the architecture is suitable for the current problem."
   ]
  },
  {
   "cell_type": "markdown",
   "metadata": {},
   "source": [
    "__Answer:__ \n",
    "\n",
    "- I used the pretrained vgg16 and just changed the last layer to output 133 classes.\n",
    "- The reason behind using the vgg16 is the it's a pre-trained model on huge images and by freezing the weight we can take advantage of what the model learned from the original training data. \n",
    "- I thin kthis architecture is suitable for the dog breed problem because the vgg16 also was trained on imagenet and some of those have some caracteristic in common with my task. "
   ]
  },
  {
   "cell_type": "markdown",
   "metadata": {},
   "source": [
    "### (IMPLEMENTATION) Specify Loss Function and Optimizer\n",
    "\n",
    "Use the next code cell to specify a [loss function](http://pytorch.org/docs/master/nn.html#loss-functions) and [optimizer](http://pytorch.org/docs/master/optim.html).  Save the chosen loss function as `criterion_transfer`, and the optimizer as `optimizer_transfer` below."
   ]
  },
  {
   "cell_type": "code",
   "execution_count": null,
   "metadata": {},
   "outputs": [],
   "source": [
    "criterion_transfer = nn.CrossEntropyLoss()\n",
    "optimizer_transfer = optim.SGD(model_transfer.classifier.parameters(), lr=0.001)"
   ]
  },
  {
   "cell_type": "markdown",
   "metadata": {},
   "source": [
    "### (IMPLEMENTATION) Train and Validate the Model\n",
    "\n",
    "Train and validate your model in the code cell below.  [Save the final model parameters](http://pytorch.org/docs/master/notes/serialization.html) at filepath `'model_transfer.pt'`."
   ]
  },
  {
   "cell_type": "code",
   "execution_count": null,
   "metadata": {},
   "outputs": [],
   "source": [
    "loaders_transfer = {'train' : train_loader, 'valid': valid_loader, 'test' :test_loader}"
   ]
  },
  {
   "cell_type": "code",
   "execution_count": null,
   "metadata": {},
   "outputs": [],
   "source": [
    "# train the model\n",
    "model_transfer = train(15, loaders_transfer, model_transfer, \n",
    "                       optimizer_transfer, criterion_transfer, use_cuda, 'model_transfer.pt')"
   ]
  },
  {
   "cell_type": "code",
   "execution_count": null,
   "metadata": {},
   "outputs": [],
   "source": [
    "# load the model that got the best validation accuracy (uncomment the line below)\n",
    "model_transfer.load_state_dict(torch.load('model_transfer.pt'))"
   ]
  },
  {
   "cell_type": "markdown",
   "metadata": {},
   "source": [
    "### (IMPLEMENTATION) Test the Model\n",
    "\n",
    "Try out your model on the test dataset of dog images. Use the code cell below to calculate and print the test loss and accuracy.  Ensure that your test accuracy is greater than 60%."
   ]
  },
  {
   "cell_type": "code",
   "execution_count": null,
   "metadata": {},
   "outputs": [],
   "source": [
    "test(loaders_transfer, model_transfer, criterion_transfer, use_cuda)"
   ]
  },
  {
   "cell_type": "markdown",
   "metadata": {},
   "source": [
    "### (IMPLEMENTATION) Predict Dog Breed with the Model\n",
    "\n",
    "Write a function that takes an image path as input and returns the dog breed (`Affenpinscher`, `Afghan hound`, etc) that is predicted by your model.  "
   ]
  },
  {
   "cell_type": "code",
   "execution_count": null,
   "metadata": {},
   "outputs": [],
   "source": [
    "path = '/data/dog_images/train/001.Affenpinscher/Affenpinscher_00001.jpg'\n",
    "data_transfer = {'train' : train_data, 'valid': valid_data, 'test' :test_data}"
   ]
  },
  {
   "cell_type": "code",
   "execution_count": null,
   "metadata": {},
   "outputs": [],
   "source": [
    "### TODO: Write a function that takes a path to an image as input\n",
    "### and returns the dog breed that is predicted by the model.\n",
    "\n",
    "# list of class names by index, i.e. a name can be accessed like class_names[0]\n",
    "class_names = [item[4:].replace(\"_\", \" \") for item in data_transfer['train'].classes]\n",
    "\n",
    "def predict_breed_transfer(img_path):\n",
    "    # load the image and return the predicted breed\n",
    "    \n",
    "    data_transform = transforms.Compose([\n",
    "    transforms.RandomResizedCrop(224),\n",
    "    transforms.RandomHorizontalFlip(), # randomly flip and rotate\n",
    "    transforms.ToTensor(),\n",
    "    transforms.Normalize((0.5, 0.5, 0.5), (0.5, 0.5, 0.5))\n",
    "    ])\n",
    "    \n",
    "    img = data_transform(Image.open(img_path))\n",
    "    if use_cuda:\n",
    "        img = img.cuda()\n",
    "        \n",
    "    # PyTorch pretrained models expect the Tensor dims to be (num input imgs, num color channels, height, width).\n",
    "    # Currently however, we have (num color channels, height, width); let's fix this by inserting a new axis.\n",
    "    img = img.unsqueeze(0)  # Insert the new axis at index 0 i.e. in front of the other axes/dims. \n",
    "    \n",
    "    prediction = model_transfer(img)  # Returns a Tensor of shape (batch, num class labels)\n",
    "\n",
    "    \n",
    "    return class_names[prediction.data.cpu().numpy().argmax()]"
   ]
  }
 ],
 "metadata": {
  "accelerator": "GPU",
  "colab": {
   "collapsed_sections": [
    "a5ndLtaz9Fgy",
    "uIaToE3_r2_f",
    "QGQ9aADFPqaz",
    "l_fjg0QZgZCa",
    "7ogYITVq35eG",
    "5LC04oP7ljyP",
    "-3lqU19BPBcx",
    "YryHaIbCPGSj",
    "_C4Trwp-sh_T",
    "YHjkJk0NX-27",
    "4KZ7_dQtoeA0",
    "OM-fJ6Jd8M9S",
    "WJtSfokdJ-7-"
   ],
   "include_colab_link": true,
   "name": "Sentiment Analysis, IMdb.ipynb",
   "provenance": [],
   "version": "0.3.2"
  },
  "kernelspec": {
   "display_name": "Python 3",
   "language": "python",
   "name": "python3"
  },
  "language_info": {
   "codemirror_mode": {
    "name": "ipython",
    "version": 3
   },
   "file_extension": ".py",
   "mimetype": "text/x-python",
   "name": "python",
   "nbconvert_exporter": "python",
   "pygments_lexer": "ipython3",
   "version": "3.7.4"
  }
 },
 "nbformat": 4,
 "nbformat_minor": 4
}
